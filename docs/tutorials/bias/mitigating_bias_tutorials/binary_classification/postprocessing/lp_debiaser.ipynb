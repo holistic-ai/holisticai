{
  "cells": [
    {
      "attachments": {},
      "cell_type": "markdown",
      "metadata": {
        "id": "VEjuJP4nbv3J"
      },
      "source": [
        "# **Bias measuring and mitigation in classification tasks**\n",
        "\n",
        "With the increasing use of machine learning models in different areas, it has become important to address the bias problem in these models. This issue can appear in different aspects such as racial, gender or socioeconomic biases leading to unfair outcomes in decision-making processes, for instance, in classification tasks, where models are trained to classify data into different categories.\n",
        "\n",
        "There are various techniques to measure bias in classification models such as Equalized Odds, Demographic Parity or Opportunity Equality for instance, which quantify the differences in the model's performance across different subgroups based on sensitive attributes such as gender or race.\n",
        "\n",
        "Once bias is detected, we can employ different techniques to mitigate it. These methods can be grouped into three categories: Pre-processing, in-processing and post-processing methods. Pre-processing techniques are used to adjust the training data to remove bias, while in-processing methods are applied to build robust models against bias. Finally, post-processing techniques are used to adjust the model's predictions to remove bias.\n",
        "\n",
        "Through this tutorial, we pretend to present you tools which can be easily applied to measure and mitigate the presence of bias in classification models.\n",
        "\n",
        "We will follow the traditional outline for this tutorial:\n",
        "\n",
        "1. Data loading and packages installation\n",
        "2. Dataset preprocessing\n",
        "3. Data analysis\n",
        "4. Model training\n",
        "5. Bias measuring\n",
        "6. Bias mitigation\n",
        "7. Results comparison"
      ]
    },
    {
      "attachments": {},
      "cell_type": "markdown",
      "metadata": {
        "id": "-9JVZZC8rLqc"
      },
      "source": [
        "## **1. Data loading and packages installation**\n",
        "\n",
        "First of all, we need to import the required packages to perform our bias analysis and mitigation. You will need to have the `holisticai` package installed on your system, remember that you can install it by running: \n",
        "```bash\n",
        "!pip install holisticai\n",
        "```"
      ]
    },
    {
      "cell_type": "code",
      "execution_count": 2,
      "metadata": {},
      "outputs": [],
      "source": [
        "import sys\n",
        "sys.path.insert(0, \"/mnt/d/holisticai/repos/holisticai\")"
      ]
    },
    {
      "cell_type": "code",
      "execution_count": 3,
      "metadata": {
        "id": "gqy5ZDuvNBSY"
      },
      "outputs": [],
      "source": [
        "import numpy as np\n",
        "import pandas as pd\n",
        "import matplotlib.pyplot as plt\n",
        "from holisticai.datasets import load_adult"
      ]
    },
    {
      "cell_type": "code",
      "execution_count": 4,
      "metadata": {
        "id": "cb0SfHEYJfNo"
      },
      "outputs": [],
      "source": [
        "# Settings\n",
        "np.random.seed(0)\n",
        "import warnings\n",
        "warnings.filterwarnings(\"ignore\")"
      ]
    },
    {
      "attachments": {},
      "cell_type": "markdown",
      "metadata": {
        "id": "canrom7OcCLn"
      },
      "source": [
        "The dataset that we will use is the \"Adult\" dataset from the UCI Machine Learning Repository, this is a publicly available dataset that contains information about age, education, marital status, race and gender of individuals from the United States. The objective is to predict whether an individual's income will be above or below $50K per year.\n",
        "\n",
        "Source: [UCI ML repository](https://archive.ics.uci.edu/ml/datasets/adult)"
      ]
    },
    {
      "cell_type": "code",
      "execution_count": 5,
      "metadata": {
        "colab": {
          "base_uri": "https://localhost:8080/",
          "height": 250
        },
        "id": "suoUJX-WJjIO",
        "outputId": "4832ea45-e9e8-431d-8e9a-db0648985786"
      },
      "outputs": [
        {
          "data": {
            "text/html": [
              "<div>\n",
              "<style scoped>\n",
              "    .dataframe tbody tr th:only-of-type {\n",
              "        vertical-align: middle;\n",
              "    }\n",
              "\n",
              "    .dataframe tbody tr th {\n",
              "        vertical-align: top;\n",
              "    }\n",
              "\n",
              "    .dataframe thead th {\n",
              "        text-align: right;\n",
              "    }\n",
              "</style>\n",
              "<table border=\"1\" class=\"dataframe\">\n",
              "  <thead>\n",
              "    <tr style=\"text-align: right;\">\n",
              "      <th></th>\n",
              "      <th>age</th>\n",
              "      <th>workclass</th>\n",
              "      <th>fnlwgt</th>\n",
              "      <th>education</th>\n",
              "      <th>education-num</th>\n",
              "      <th>marital-status</th>\n",
              "      <th>occupation</th>\n",
              "      <th>relationship</th>\n",
              "      <th>race</th>\n",
              "      <th>sex</th>\n",
              "      <th>capital-gain</th>\n",
              "      <th>capital-loss</th>\n",
              "      <th>hours-per-week</th>\n",
              "      <th>native-country</th>\n",
              "      <th>class</th>\n",
              "    </tr>\n",
              "  </thead>\n",
              "  <tbody>\n",
              "    <tr>\n",
              "      <th>0</th>\n",
              "      <td>25.0</td>\n",
              "      <td>Private</td>\n",
              "      <td>226802.0</td>\n",
              "      <td>11th</td>\n",
              "      <td>7.0</td>\n",
              "      <td>Never-married</td>\n",
              "      <td>Machine-op-inspct</td>\n",
              "      <td>Own-child</td>\n",
              "      <td>Black</td>\n",
              "      <td>Male</td>\n",
              "      <td>0.0</td>\n",
              "      <td>0.0</td>\n",
              "      <td>40.0</td>\n",
              "      <td>United-States</td>\n",
              "      <td>&lt;=50K</td>\n",
              "    </tr>\n",
              "    <tr>\n",
              "      <th>1</th>\n",
              "      <td>38.0</td>\n",
              "      <td>Private</td>\n",
              "      <td>89814.0</td>\n",
              "      <td>HS-grad</td>\n",
              "      <td>9.0</td>\n",
              "      <td>Married-civ-spouse</td>\n",
              "      <td>Farming-fishing</td>\n",
              "      <td>Husband</td>\n",
              "      <td>White</td>\n",
              "      <td>Male</td>\n",
              "      <td>0.0</td>\n",
              "      <td>0.0</td>\n",
              "      <td>50.0</td>\n",
              "      <td>United-States</td>\n",
              "      <td>&lt;=50K</td>\n",
              "    </tr>\n",
              "    <tr>\n",
              "      <th>2</th>\n",
              "      <td>28.0</td>\n",
              "      <td>Local-gov</td>\n",
              "      <td>336951.0</td>\n",
              "      <td>Assoc-acdm</td>\n",
              "      <td>12.0</td>\n",
              "      <td>Married-civ-spouse</td>\n",
              "      <td>Protective-serv</td>\n",
              "      <td>Husband</td>\n",
              "      <td>White</td>\n",
              "      <td>Male</td>\n",
              "      <td>0.0</td>\n",
              "      <td>0.0</td>\n",
              "      <td>40.0</td>\n",
              "      <td>United-States</td>\n",
              "      <td>&gt;50K</td>\n",
              "    </tr>\n",
              "    <tr>\n",
              "      <th>3</th>\n",
              "      <td>44.0</td>\n",
              "      <td>Private</td>\n",
              "      <td>160323.0</td>\n",
              "      <td>Some-college</td>\n",
              "      <td>10.0</td>\n",
              "      <td>Married-civ-spouse</td>\n",
              "      <td>Machine-op-inspct</td>\n",
              "      <td>Husband</td>\n",
              "      <td>Black</td>\n",
              "      <td>Male</td>\n",
              "      <td>7688.0</td>\n",
              "      <td>0.0</td>\n",
              "      <td>40.0</td>\n",
              "      <td>United-States</td>\n",
              "      <td>&gt;50K</td>\n",
              "    </tr>\n",
              "    <tr>\n",
              "      <th>4</th>\n",
              "      <td>18.0</td>\n",
              "      <td>NaN</td>\n",
              "      <td>103497.0</td>\n",
              "      <td>Some-college</td>\n",
              "      <td>10.0</td>\n",
              "      <td>Never-married</td>\n",
              "      <td>NaN</td>\n",
              "      <td>Own-child</td>\n",
              "      <td>White</td>\n",
              "      <td>Female</td>\n",
              "      <td>0.0</td>\n",
              "      <td>0.0</td>\n",
              "      <td>30.0</td>\n",
              "      <td>United-States</td>\n",
              "      <td>&lt;=50K</td>\n",
              "    </tr>\n",
              "  </tbody>\n",
              "</table>\n",
              "</div>"
            ],
            "text/plain": [
              "    age  workclass    fnlwgt     education  education-num      marital-status  \\\n",
              "0  25.0    Private  226802.0          11th            7.0       Never-married   \n",
              "1  38.0    Private   89814.0       HS-grad            9.0  Married-civ-spouse   \n",
              "2  28.0  Local-gov  336951.0    Assoc-acdm           12.0  Married-civ-spouse   \n",
              "3  44.0    Private  160323.0  Some-college           10.0  Married-civ-spouse   \n",
              "4  18.0        NaN  103497.0  Some-college           10.0       Never-married   \n",
              "\n",
              "          occupation relationship   race     sex  capital-gain  capital-loss  \\\n",
              "0  Machine-op-inspct    Own-child  Black    Male           0.0           0.0   \n",
              "1    Farming-fishing      Husband  White    Male           0.0           0.0   \n",
              "2    Protective-serv      Husband  White    Male           0.0           0.0   \n",
              "3  Machine-op-inspct      Husband  Black    Male        7688.0           0.0   \n",
              "4                NaN    Own-child  White  Female           0.0           0.0   \n",
              "\n",
              "   hours-per-week native-country  class  \n",
              "0            40.0  United-States  <=50K  \n",
              "1            50.0  United-States  <=50K  \n",
              "2            40.0  United-States   >50K  \n",
              "3            40.0  United-States   >50K  \n",
              "4            30.0  United-States  <=50K  "
            ]
          },
          "execution_count": 5,
          "metadata": {},
          "output_type": "execute_result"
        }
      ],
      "source": [
        "# Dataset\n",
        "data = load_adult()\n",
        "df = pd.concat([data[\"data\"], data[\"target\"]], axis=1)\n",
        "df.head()"
      ]
    },
    {
      "cell_type": "code",
      "execution_count": 6,
      "metadata": {
        "colab": {
          "base_uri": "https://localhost:8080/",
          "height": 300
        },
        "id": "JpHgv39SJmio",
        "outputId": "81e135e3-1cb1-43a6-d5be-50077069e927"
      },
      "outputs": [
        {
          "data": {
            "text/html": [
              "<div>\n",
              "<style scoped>\n",
              "    .dataframe tbody tr th:only-of-type {\n",
              "        vertical-align: middle;\n",
              "    }\n",
              "\n",
              "    .dataframe tbody tr th {\n",
              "        vertical-align: top;\n",
              "    }\n",
              "\n",
              "    .dataframe thead th {\n",
              "        text-align: right;\n",
              "    }\n",
              "</style>\n",
              "<table border=\"1\" class=\"dataframe\">\n",
              "  <thead>\n",
              "    <tr style=\"text-align: right;\">\n",
              "      <th></th>\n",
              "      <th>age</th>\n",
              "      <th>fnlwgt</th>\n",
              "      <th>education-num</th>\n",
              "      <th>capital-gain</th>\n",
              "      <th>capital-loss</th>\n",
              "      <th>hours-per-week</th>\n",
              "    </tr>\n",
              "  </thead>\n",
              "  <tbody>\n",
              "    <tr>\n",
              "      <th>count</th>\n",
              "      <td>48842.000000</td>\n",
              "      <td>4.884200e+04</td>\n",
              "      <td>48842.000000</td>\n",
              "      <td>48842.000000</td>\n",
              "      <td>48842.000000</td>\n",
              "      <td>48842.000000</td>\n",
              "    </tr>\n",
              "    <tr>\n",
              "      <th>mean</th>\n",
              "      <td>38.643585</td>\n",
              "      <td>1.896641e+05</td>\n",
              "      <td>10.078089</td>\n",
              "      <td>1079.067626</td>\n",
              "      <td>87.502314</td>\n",
              "      <td>40.422382</td>\n",
              "    </tr>\n",
              "    <tr>\n",
              "      <th>std</th>\n",
              "      <td>13.710510</td>\n",
              "      <td>1.056040e+05</td>\n",
              "      <td>2.570973</td>\n",
              "      <td>7452.019058</td>\n",
              "      <td>403.004552</td>\n",
              "      <td>12.391444</td>\n",
              "    </tr>\n",
              "    <tr>\n",
              "      <th>min</th>\n",
              "      <td>17.000000</td>\n",
              "      <td>1.228500e+04</td>\n",
              "      <td>1.000000</td>\n",
              "      <td>0.000000</td>\n",
              "      <td>0.000000</td>\n",
              "      <td>1.000000</td>\n",
              "    </tr>\n",
              "    <tr>\n",
              "      <th>25%</th>\n",
              "      <td>28.000000</td>\n",
              "      <td>1.175505e+05</td>\n",
              "      <td>9.000000</td>\n",
              "      <td>0.000000</td>\n",
              "      <td>0.000000</td>\n",
              "      <td>40.000000</td>\n",
              "    </tr>\n",
              "    <tr>\n",
              "      <th>50%</th>\n",
              "      <td>37.000000</td>\n",
              "      <td>1.781445e+05</td>\n",
              "      <td>10.000000</td>\n",
              "      <td>0.000000</td>\n",
              "      <td>0.000000</td>\n",
              "      <td>40.000000</td>\n",
              "    </tr>\n",
              "    <tr>\n",
              "      <th>75%</th>\n",
              "      <td>48.000000</td>\n",
              "      <td>2.376420e+05</td>\n",
              "      <td>12.000000</td>\n",
              "      <td>0.000000</td>\n",
              "      <td>0.000000</td>\n",
              "      <td>45.000000</td>\n",
              "    </tr>\n",
              "    <tr>\n",
              "      <th>max</th>\n",
              "      <td>90.000000</td>\n",
              "      <td>1.490400e+06</td>\n",
              "      <td>16.000000</td>\n",
              "      <td>99999.000000</td>\n",
              "      <td>4356.000000</td>\n",
              "      <td>99.000000</td>\n",
              "    </tr>\n",
              "  </tbody>\n",
              "</table>\n",
              "</div>"
            ],
            "text/plain": [
              "                age        fnlwgt  education-num  capital-gain  capital-loss  \\\n",
              "count  48842.000000  4.884200e+04   48842.000000  48842.000000  48842.000000   \n",
              "mean      38.643585  1.896641e+05      10.078089   1079.067626     87.502314   \n",
              "std       13.710510  1.056040e+05       2.570973   7452.019058    403.004552   \n",
              "min       17.000000  1.228500e+04       1.000000      0.000000      0.000000   \n",
              "25%       28.000000  1.175505e+05       9.000000      0.000000      0.000000   \n",
              "50%       37.000000  1.781445e+05      10.000000      0.000000      0.000000   \n",
              "75%       48.000000  2.376420e+05      12.000000      0.000000      0.000000   \n",
              "max       90.000000  1.490400e+06      16.000000  99999.000000   4356.000000   \n",
              "\n",
              "       hours-per-week  \n",
              "count    48842.000000  \n",
              "mean        40.422382  \n",
              "std         12.391444  \n",
              "min          1.000000  \n",
              "25%         40.000000  \n",
              "50%         40.000000  \n",
              "75%         45.000000  \n",
              "max         99.000000  "
            ]
          },
          "execution_count": 6,
          "metadata": {},
          "output_type": "execute_result"
        }
      ],
      "source": [
        "df.describe()"
      ]
    },
    {
      "attachments": {},
      "cell_type": "markdown",
      "metadata": {
        "id": "VpHZyQS5rvic"
      },
      "source": [
        "## **2. Dataset preprocessing**"
      ]
    },
    {
      "cell_type": "code",
      "execution_count": 7,
      "metadata": {
        "colab": {
          "base_uri": "https://localhost:8080/"
        },
        "id": "CMzVlySDccjG",
        "outputId": "85dd6652-0a5f-424c-dd1a-dda1e8714902"
      },
      "outputs": [
        {
          "data": {
            "text/plain": [
              "(age                  0\n",
              " workclass         2799\n",
              " fnlwgt               0\n",
              " education            0\n",
              " education-num        0\n",
              " marital-status       0\n",
              " occupation        2809\n",
              " relationship         0\n",
              " race                 0\n",
              " sex                  0\n",
              " capital-gain         0\n",
              " capital-loss         0\n",
              " hours-per-week       0\n",
              " native-country     857\n",
              " dtype: int64,\n",
              " (48842, 14))"
            ]
          },
          "execution_count": 7,
          "metadata": {},
          "output_type": "execute_result"
        }
      ],
      "source": [
        "data['data'].isna().sum(), data['data'].shape"
      ]
    },
    {
      "attachments": {},
      "cell_type": "markdown",
      "metadata": {},
      "source": [
        "A quickly inspection of the dataset show us that there are many *NaN* elements, so we need to preprocess the dataset before to feed it into the model. To perform this step we will define a function that will clean the dataset and will separate the protected groups according a given feature:"
      ]
    },
    {
      "cell_type": "code",
      "execution_count": 8,
      "metadata": {
        "colab": {
          "base_uri": "https://localhost:8080/",
          "height": 300
        },
        "id": "8QGLtWoVJoDk",
        "outputId": "bd5bbfcc-700b-4a21-b166-874d68b0154e"
      },
      "outputs": [],
      "source": [
        "def preprocess_adult_dataset(df):\n",
        "  \"\"\"Performs the pre-processing step of the data.\"\"\"\n",
        "  # Remove NaN elements from dataframe\n",
        "  df_ = df.copy()\n",
        "  df_clean = df_.iloc[:,[i for i,n in enumerate(df_.isna().sum(axis=0).T.values) if n<1000]]\n",
        "  df_clean = df_clean.dropna()\n",
        "  # Get the protected attribute vectors\n",
        "  group_a = df_clean[\"sex\"] == \"Female\"\n",
        "  group_b = df_clean[\"sex\"] == \"Male\"\n",
        "\n",
        "  group_a = np.squeeze(group_a.values)\n",
        "  group_b = np.squeeze(group_b.values)\n",
        "  # Remove unnecessary columns\n",
        "  df_clean[\"class\"].replace({\">50K\": 1, \"<=50K\": 0}, inplace=True)\n",
        "  tmp = pd.get_dummies(df_clean.drop(columns=[\"sex\", \"race\", \"education\", \"class\"]))\n",
        "  df_clean = pd.concat([tmp, df_clean[\"class\"].astype(\"uint8\")], axis=1)\n",
        "  return df_clean, group_a, group_b"
      ]
    },
    {
      "cell_type": "code",
      "execution_count": 9,
      "metadata": {},
      "outputs": [],
      "source": [
        "df_clean, group_a, group_b = preprocess_adult_dataset(df)"
      ]
    },
    {
      "attachments": {},
      "cell_type": "markdown",
      "metadata": {
        "id": "VAbMTpb7r-74"
      },
      "source": [
        "If we compare the cleaned dataset with the original one we can observe that the main diference remains in the number of instances."
      ]
    },
    {
      "cell_type": "code",
      "execution_count": 10,
      "metadata": {
        "colab": {
          "base_uri": "https://localhost:8080/"
        },
        "id": "f8yfTeIkO5D8",
        "outputId": "b9a1726a-c5b3-4f11-f674-eb324d2be0f6"
      },
      "outputs": [
        {
          "data": {
            "text/plain": [
              "((48842, 15), (47985, 61))"
            ]
          },
          "execution_count": 10,
          "metadata": {},
          "output_type": "execute_result"
        }
      ],
      "source": [
        "df.shape, df_clean.shape"
      ]
    },
    {
      "attachments": {},
      "cell_type": "markdown",
      "metadata": {
        "id": "unJuv2tosFpD"
      },
      "source": [
        "Now that we have a clean dataset we can start defining the training and testing sets."
      ]
    },
    {
      "attachments": {},
      "cell_type": "markdown",
      "metadata": {
        "id": "y-MjNcW4sIZQ"
      },
      "source": [
        "## **3. Data analysis**\n",
        "\n",
        "Since we already have defined the protected groups, we can start with the data analysis step. In this step, we will analyze the distribution of the data of the protected groups by using the `group_pie_plot` function. This function will plot the distribution of the data of the protected groups in a pie chart."
      ]
    },
    {
      "cell_type": "code",
      "execution_count": 11,
      "metadata": {
        "colab": {
          "base_uri": "https://localhost:8080/",
          "height": 471
        },
        "id": "g2SgQmNreJb-",
        "outputId": "ee88d9fd-1d75-4b73-c466-05dd1a2ecbbe"
      },
      "outputs": [
        {
          "data": {
            "text/plain": [
              "<Axes: >"
            ]
          },
          "execution_count": 11,
          "metadata": {},
          "output_type": "execute_result"
        },
        {
          "data": {
            "image/png": "[encoded data removed]",
            "text/plain": [
              "<Figure size 640x480 with 1 Axes>"
            ]
          },
          "metadata": {},
          "output_type": "display_data"
        }
      ],
      "source": [
        "from holisticai.bias.plots import group_pie_plot\n",
        "\n",
        "group_pie_plot(group_a)"
      ]
    },
    {
      "attachments": {},
      "cell_type": "markdown",
      "metadata": {
        "id": "MMyVFYSDciRJ"
      },
      "source": [
        "The previous graphs show us that the proportion of male (labelled as *False*) is high compared to the female.\n",
        "\n",
        "Let's plot the columns with the highest correlations with respect to the target variable. To do this, we will use the `correlation_matrix_plot` function. "
      ]
    },
    {
      "cell_type": "code",
      "execution_count": 12,
      "metadata": {
        "id": "UPIIdoxkJwPv"
      },
      "outputs": [
        {
          "data": {
            "text/plain": [
              "<Axes: >"
            ]
          },
          "execution_count": 12,
          "metadata": {},
          "output_type": "execute_result"
        },
        {
          "data": {
            "image/png": "[encoded data removed]",
            "text/plain": [
              "<Figure size 640x480 with 1 Axes>"
            ]
          },
          "metadata": {},
          "output_type": "display_data"
        }
      ],
      "source": [
        "from holisticai.bias.plots import correlation_matrix_plot\n",
        "correlation_matrix_plot(df_clean, target_feature=\"class\", n_features=10)"
      ]
    },
    {
      "attachments": {},
      "cell_type": "markdown",
      "metadata": {},
      "source": [
        "Now that we have our protected groups, we will define the input/output sets."
      ]
    },
    {
      "cell_type": "code",
      "execution_count": 13,
      "metadata": {},
      "outputs": [
        {
          "data": {
            "text/plain": [
              "((47985, 60), (47985,))"
            ]
          },
          "execution_count": 13,
          "metadata": {},
          "output_type": "execute_result"
        }
      ],
      "source": [
        "X = df_clean.iloc[:,:-1].values\n",
        "y = df_clean.iloc[:,-1].values\n",
        "\n",
        "X.shape, y.shape"
      ]
    },
    {
      "cell_type": "code",
      "execution_count": 14,
      "metadata": {
        "id": "kyMQpFQdJ049"
      },
      "outputs": [],
      "source": [
        "from sklearn.model_selection import train_test_split"
      ]
    },
    {
      "cell_type": "code",
      "execution_count": 15,
      "metadata": {
        "id": "e1FVWNLPJ86z"
      },
      "outputs": [],
      "source": [
        "X_train,X_test,y_train,y_test, group_a_tr, group_a_ts, group_b_tr, group_b_ts = \\\n",
        "    train_test_split(X, y, group_a, group_b, test_size=0.2, random_state=42)\n",
        "train_data = X_train, y_train, group_a_tr, group_b_tr\n",
        "test_data  = X_test, y_test, group_a_ts, group_b_ts"
      ]
    },
    {
      "attachments": {},
      "cell_type": "markdown",
      "metadata": {
        "id": "L21_e4JxKHV3"
      },
      "source": [
        "## **4. Model training**\n",
        "\n",
        "Once we have defined the input and output sets, we can train a model as usual. Since the protected groups were separated from the dataset previously we do not need to take care of that in this opportunity, but do not forget to separate the protected attributes from the dataset, so that the model does not have any influence from these attributes in its training process. For the training process, we will use a traditional pipeline, we will fit and re-scale the training data, and then we will use the data to train a \"Logistic regression\" model and once the model has been trained, we can use its predictions to calculate the fairness metrics of the it."
      ]
    },
    {
      "cell_type": "code",
      "execution_count": 16,
      "metadata": {
        "id": "VLM933LQJ_2l"
      },
      "outputs": [],
      "source": [
        "# sklearn imports\n",
        "from sklearn.preprocessing import StandardScaler\n",
        "from sklearn.linear_model import LogisticRegression\n",
        "from holisticai.pipeline import Pipeline"
      ]
    },
    {
      "cell_type": "code",
      "execution_count": 17,
      "metadata": {
        "id": "RZOdbLUYkeXV"
      },
      "outputs": [],
      "source": [
        "# efficacy metrics from sklearn\n",
        "from sklearn import metrics\n",
        "\n",
        "# dictionnary of metrics\n",
        "metrics_dict={\n",
        "        \"Accuracy\": metrics.accuracy_score,\n",
        "        \"Balanced accuracy\": metrics.balanced_accuracy_score,\n",
        "        \"Precision\": metrics.precision_score,\n",
        "        \"Recall\": metrics.recall_score,\n",
        "        \"F1-Score\": metrics.f1_score}\n",
        "\n",
        "# efficacy metrics dataframe helper tool\n",
        "def metrics_dataframe(y_pred, y_true, metrics_dict=metrics_dict):\n",
        "    metric_list = [[pf, fn(y_true, y_pred)] for pf, fn in metrics_dict.items()]\n",
        "    return pd.DataFrame(metric_list, columns=[\"Metric\", \"Value\"]).set_index(\"Metric\")"
      ]
    },
    {
      "cell_type": "code",
      "execution_count": 18,
      "metadata": {
        "id": "xFq4uGn6KE4x"
      },
      "outputs": [],
      "source": [
        "X, y, group_a, group_b = train_data\n",
        "\n",
        "scaler = StandardScaler()\n",
        "X = scaler.fit_transform(X)\n",
        "\n",
        "# Train a simple linear classification model\n",
        "LR = LogisticRegression()\n",
        "model = LR.fit(X, y)\n",
        "\n",
        "X, y, group_a, group_b = test_data\n",
        "\n",
        "X = scaler.transform(X)\n",
        "\n",
        "# Predict values\n",
        "y_pred = model.predict(X)\n",
        "\n",
        "y_proba = model.predict_proba(X)\n",
        "y_score = y_proba[:,1]\n",
        "y_true = y"
      ]
    },
    {
      "cell_type": "code",
      "execution_count": 19,
      "metadata": {
        "colab": {
          "base_uri": "https://localhost:8080/",
          "height": 237
        },
        "id": "nvMZibvX7EkO",
        "outputId": "f3e90322-b169-4405-c843-b84fc3a0dbec"
      },
      "outputs": [
        {
          "data": {
            "text/html": [
              "<div>\n",
              "<style scoped>\n",
              "    .dataframe tbody tr th:only-of-type {\n",
              "        vertical-align: middle;\n",
              "    }\n",
              "\n",
              "    .dataframe tbody tr th {\n",
              "        vertical-align: top;\n",
              "    }\n",
              "\n",
              "    .dataframe thead th {\n",
              "        text-align: right;\n",
              "    }\n",
              "</style>\n",
              "<table border=\"1\" class=\"dataframe\">\n",
              "  <thead>\n",
              "    <tr style=\"text-align: right;\">\n",
              "      <th></th>\n",
              "      <th>Value</th>\n",
              "    </tr>\n",
              "    <tr>\n",
              "      <th>Metric</th>\n",
              "      <th></th>\n",
              "    </tr>\n",
              "  </thead>\n",
              "  <tbody>\n",
              "    <tr>\n",
              "      <th>Accuracy</th>\n",
              "      <td>0.840471</td>\n",
              "    </tr>\n",
              "    <tr>\n",
              "      <th>Balanced accuracy</th>\n",
              "      <td>0.748136</td>\n",
              "    </tr>\n",
              "    <tr>\n",
              "      <th>Precision</th>\n",
              "      <td>0.696726</td>\n",
              "    </tr>\n",
              "    <tr>\n",
              "      <th>Recall</th>\n",
              "      <td>0.573322</td>\n",
              "    </tr>\n",
              "    <tr>\n",
              "      <th>F1-Score</th>\n",
              "      <td>0.629028</td>\n",
              "    </tr>\n",
              "  </tbody>\n",
              "</table>\n",
              "</div>"
            ],
            "text/plain": [
              "                      Value\n",
              "Metric                     \n",
              "Accuracy           0.840471\n",
              "Balanced accuracy  0.748136\n",
              "Precision          0.696726\n",
              "Recall             0.573322\n",
              "F1-Score           0.629028"
            ]
          },
          "execution_count": 19,
          "metadata": {},
          "output_type": "execute_result"
        }
      ],
      "source": [
        "metrics_dataframe(y_pred, y, metrics_dict=metrics_dict)"
      ]
    },
    {
      "attachments": {},
      "cell_type": "markdown",
      "metadata": {
        "id": "0CG4uLFkdF3q"
      },
      "source": [
        "## **5. Bias measuring**\n",
        "\n",
        "The fairness of the model can be calculated using the predictions of the model and the protected groups defined previously. The `holisticai` contains a module that calculates a set of metrics useful in evaluating the fairness of algorithmic decisions. For our case, we will use the `classification_bias_metrics` function which allows us to select which metrics we want to calculate, if `equal_outcome`, `equal_opportunity` or `both`, where equal_outcome shows how disadvantaged groups are treated by the model and equal_opportunity shows if all the groups have the same opportunities."
      ]
    },
    {
      "cell_type": "code",
      "execution_count": 20,
      "metadata": {
        "id": "uROh5HmIdj35"
      },
      "outputs": [],
      "source": [
        "from holisticai.bias.metrics import classification_bias_metrics"
      ]
    },
    {
      "cell_type": "code",
      "execution_count": 21,
      "metadata": {
        "colab": {
          "base_uri": "https://localhost:8080/",
          "height": 363
        },
        "id": "aD0h4Kg6dle6",
        "outputId": "1ecc9adf-a896-4b12-bb8e-c26fee2d94c9"
      },
      "outputs": [
        {
          "data": {
            "text/html": [
              "<div>\n",
              "<style scoped>\n",
              "    .dataframe tbody tr th:only-of-type {\n",
              "        vertical-align: middle;\n",
              "    }\n",
              "\n",
              "    .dataframe tbody tr th {\n",
              "        vertical-align: top;\n",
              "    }\n",
              "\n",
              "    .dataframe thead th {\n",
              "        text-align: right;\n",
              "    }\n",
              "</style>\n",
              "<table border=\"1\" class=\"dataframe\">\n",
              "  <thead>\n",
              "    <tr style=\"text-align: right;\">\n",
              "      <th></th>\n",
              "      <th>Value</th>\n",
              "      <th>Reference</th>\n",
              "    </tr>\n",
              "    <tr>\n",
              "      <th>Metric</th>\n",
              "      <th></th>\n",
              "      <th></th>\n",
              "    </tr>\n",
              "  </thead>\n",
              "  <tbody>\n",
              "    <tr>\n",
              "      <th>Statistical Parity</th>\n",
              "      <td>-0.175836</td>\n",
              "      <td>0</td>\n",
              "    </tr>\n",
              "    <tr>\n",
              "      <th>Disparate Impact</th>\n",
              "      <td>0.304267</td>\n",
              "      <td>1</td>\n",
              "    </tr>\n",
              "    <tr>\n",
              "      <th>Four Fifths Rule</th>\n",
              "      <td>0.304267</td>\n",
              "      <td>1</td>\n",
              "    </tr>\n",
              "    <tr>\n",
              "      <th>Cohen D</th>\n",
              "      <td>-0.454655</td>\n",
              "      <td>0</td>\n",
              "    </tr>\n",
              "    <tr>\n",
              "      <th>2SD Rule</th>\n",
              "      <td>-20.530369</td>\n",
              "      <td>0</td>\n",
              "    </tr>\n",
              "    <tr>\n",
              "      <th>Equality of Opportunity Difference</th>\n",
              "      <td>-0.126491</td>\n",
              "      <td>0</td>\n",
              "    </tr>\n",
              "    <tr>\n",
              "      <th>False Positive Rate Difference</th>\n",
              "      <td>-0.082923</td>\n",
              "      <td>0</td>\n",
              "    </tr>\n",
              "    <tr>\n",
              "      <th>Average Odds Difference</th>\n",
              "      <td>-0.104707</td>\n",
              "      <td>0</td>\n",
              "    </tr>\n",
              "    <tr>\n",
              "      <th>Accuracy Difference</th>\n",
              "      <td>0.112691</td>\n",
              "      <td>0</td>\n",
              "    </tr>\n",
              "  </tbody>\n",
              "</table>\n",
              "</div>"
            ],
            "text/plain": [
              "                                        Value  Reference\n",
              "Metric                                                  \n",
              "Statistical Parity                  -0.175836          0\n",
              "Disparate Impact                     0.304267          1\n",
              "Four Fifths Rule                     0.304267          1\n",
              "Cohen D                             -0.454655          0\n",
              "2SD Rule                           -20.530369          0\n",
              "Equality of Opportunity Difference  -0.126491          0\n",
              "False Positive Rate Difference      -0.082923          0\n",
              "Average Odds Difference             -0.104707          0\n",
              "Accuracy Difference                  0.112691          0"
            ]
          },
          "execution_count": 21,
          "metadata": {},
          "output_type": "execute_result"
        }
      ],
      "source": [
        "df = classification_bias_metrics(\n",
        "    group_a,\n",
        "    group_b,\n",
        "    y_pred,\n",
        "    y,\n",
        "    metric_type='both'\n",
        ")\n",
        "y_baseline = y_pred.copy()\n",
        "df_baseline=df.copy()\n",
        "df_baseline"
      ]
    },
    {
      "attachments": {},
      "cell_type": "markdown",
      "metadata": {
        "id": "mynaug_Edo5k"
      },
      "source": [
        "For example:\n",
        "\n",
        "*   **Statistical parity:** Computes the difference in success rates between the protected groups. Values below 0 are considered unfair towards `group_a` while values above 0 are considered unfair towards `group_b`, the range (-0.1, 0.1) is considered acceptable.\n",
        "*   **Disparate Impact:** Shows the ratio of success rates between the protected groups for a certain quantile. Values below 1 are unfair towards `group_a`. Values above 1 are unfair towards `group_b`. The range (0.8, 1.2) is considered acceptable.\n",
        "*   **Four Fifths:** Computes the ratio of success rates between the protected groups. Values below 1 are considered unfair while a range between (0.8, 1) is considered acceptable.\n",
        "*   **Cohen D:** Computes the normalised statistical parity between the protected groups. Values below 0 are considered unfair towards `group_a` while values above 0 are considered unfair towards `group_b`.\n",
        "*   **Equality of opportunity difference:** Computes the difference in true positive rates between the protected groups. Values below 0 are considered unfair towards `group_a` while values above 0 are considered unfair towards `group_b`.\n",
        "*   **False positive rate difference:** Computes the difference in false positive rates between the protected groups, negative values indicating bias against `group_a` while positive values indicating bias against `group_b`.\n",
        "*   **Average Odds Difference:** Computes the difference in average odds between the protected groups, negative values indicating bias against `group_a` while positive values indicating bias against `group_b`, a range between (-0.1, 0.1) is considered acceptable.\n",
        "*   **Accuracy Difference:** Computes the difference in accuracy of predictions for the protected groups, positive values show bias against `group_b` while negative values show bias against `group_a`.\n",
        "\n",
        "\n",
        "Source: [*HolisticAI docs*](https://holisticai.readthedocs.io/en/latest/metrics.html#binary-classification)"
      ]
    },
    {
      "attachments": {},
      "cell_type": "markdown",
      "metadata": {
        "id": "3Afjkee_d1Oe"
      },
      "source": [
        "## **6. Bias mitigation**\n",
        "### **LP debiaser: Preprocessing method**\n",
        "\n",
        "Now that we could observe that the model metrics are far away from the desired values, we need to apply some kind of strategy to mitigate the bias present in the model.\n",
        "\n",
        "Exists different kinds of strategies, and the literature has divided them into three categories: *Pre-processing*, *in-processing* and *post-processing* methods. The `holisticai` library possesses different algorithms from these categories for bias mitigation. An interesting feature is that all of them are compatible with the `Scikit-learn` package, so that, if you are familiar with this package, you will not have problems using the library. As you will see later, its implementation can be done following the traditional way, or by applying the pipeline. \n",
        "\n",
        "For this opportunity, we will implement the \"Linear Programming debiaser\" method which is a post-processing technique  designed to debias pretrained classifiers by using constraints such as *Equalized Odds* and *Equalized Opportunity* to remove discrimination of the outcomes."
      ]
    },
    {
      "attachments": {},
      "cell_type": "markdown",
      "metadata": {
        "id": "sUUZTGK1Mfjv"
      },
      "source": [
        "### **Traditional implementation**"
      ]
    },
    {
      "cell_type": "code",
      "execution_count": 22,
      "metadata": {
        "id": "XqUvV9eDsJk8"
      },
      "outputs": [],
      "source": [
        "from holisticai.bias.mitigation import LPDebiaserBinary"
      ]
    },
    {
      "cell_type": "code",
      "execution_count": 23,
      "metadata": {
        "colab": {
          "base_uri": "https://localhost:8080/",
          "height": 363
        },
        "id": "0N53PlHGLWw9",
        "outputId": "3e048650-72f8-49e9-81b6-d3b05ce6e209"
      },
      "outputs": [
        {
          "data": {
            "text/html": [
              "<div>\n",
              "<style scoped>\n",
              "    .dataframe tbody tr th:only-of-type {\n",
              "        vertical-align: middle;\n",
              "    }\n",
              "\n",
              "    .dataframe tbody tr th {\n",
              "        vertical-align: top;\n",
              "    }\n",
              "\n",
              "    .dataframe thead th {\n",
              "        text-align: right;\n",
              "    }\n",
              "</style>\n",
              "<table border=\"1\" class=\"dataframe\">\n",
              "  <thead>\n",
              "    <tr style=\"text-align: right;\">\n",
              "      <th></th>\n",
              "      <th>Value</th>\n",
              "      <th>Reference</th>\n",
              "    </tr>\n",
              "    <tr>\n",
              "      <th>Metric</th>\n",
              "      <th></th>\n",
              "      <th></th>\n",
              "    </tr>\n",
              "  </thead>\n",
              "  <tbody>\n",
              "    <tr>\n",
              "      <th>Statistical Parity</th>\n",
              "      <td>-0.103470</td>\n",
              "      <td>0</td>\n",
              "    </tr>\n",
              "    <tr>\n",
              "      <th>Disparate Impact</th>\n",
              "      <td>0.764748</td>\n",
              "      <td>1</td>\n",
              "    </tr>\n",
              "    <tr>\n",
              "      <th>Four Fifths Rule</th>\n",
              "      <td>0.764748</td>\n",
              "      <td>1</td>\n",
              "    </tr>\n",
              "    <tr>\n",
              "      <th>Cohen D</th>\n",
              "      <td>-0.211799</td>\n",
              "      <td>0</td>\n",
              "    </tr>\n",
              "    <tr>\n",
              "      <th>2SD Rule</th>\n",
              "      <td>-9.732670</td>\n",
              "      <td>0</td>\n",
              "    </tr>\n",
              "    <tr>\n",
              "      <th>Equality of Opportunity Difference</th>\n",
              "      <td>-0.031703</td>\n",
              "      <td>0</td>\n",
              "    </tr>\n",
              "    <tr>\n",
              "      <th>False Positive Rate Difference</th>\n",
              "      <td>0.001774</td>\n",
              "      <td>0</td>\n",
              "    </tr>\n",
              "    <tr>\n",
              "      <th>Average Odds Difference</th>\n",
              "      <td>-0.014965</td>\n",
              "      <td>0</td>\n",
              "    </tr>\n",
              "    <tr>\n",
              "      <th>Accuracy Difference</th>\n",
              "      <td>-0.024695</td>\n",
              "      <td>0</td>\n",
              "    </tr>\n",
              "  </tbody>\n",
              "</table>\n",
              "</div>"
            ],
            "text/plain": [
              "                                       Value  Reference\n",
              "Metric                                                 \n",
              "Statistical Parity                 -0.103470          0\n",
              "Disparate Impact                    0.764748          1\n",
              "Four Fifths Rule                    0.764748          1\n",
              "Cohen D                            -0.211799          0\n",
              "2SD Rule                           -9.732670          0\n",
              "Equality of Opportunity Difference -0.031703          0\n",
              "False Positive Rate Difference      0.001774          0\n",
              "Average Odds Difference            -0.014965          0\n",
              "Accuracy Difference                -0.024695          0"
            ]
          },
          "execution_count": 23,
          "metadata": {},
          "output_type": "execute_result"
        }
      ],
      "source": [
        "X, y, group_a, group_b = train_data\n",
        "\n",
        "scaler = StandardScaler()\n",
        "X = scaler.fit_transform(X)\n",
        "\n",
        "model = LogisticRegression()\n",
        "\n",
        "model.fit(X, y)\n",
        "\n",
        "y_proba = model.predict_proba(X)\n",
        "\n",
        "fit_params = {\n",
        "    \"group_a\": group_a,\n",
        "    \"group_b\": group_b,\n",
        "}\n",
        "\n",
        "post = LPDebiaserBinary()\n",
        "post.fit(y_true=y, y_proba=y_proba, **fit_params)\n",
        "\n",
        "X, y, group_a, group_b = test_data\n",
        "fit_params = {\"group_a\": group_a, \"group_b\": group_b}\n",
        "\n",
        "X = scaler.transform(X)\n",
        "transform_params = {\"group_a\": group_a, \"group_b\": group_b}\n",
        "\n",
        "y_proba = model.predict_proba(X)\n",
        "y_pred = post.transform(y_proba=y_proba, **transform_params)[\"y_pred\"]\n",
        "\n",
        "df = classification_bias_metrics(\n",
        "    group_a,\n",
        "    group_b,\n",
        "    y_pred,\n",
        "    y,\n",
        "    metric_type='both'\n",
        ")\n",
        "df_lp_deb = df.copy()\n",
        "df_lp_deb"
      ]
    },
    {
      "cell_type": "code",
      "execution_count": 24,
      "metadata": {
        "colab": {
          "base_uri": "https://localhost:8080/",
          "height": 237
        },
        "id": "HfFVMUhY7lJu",
        "outputId": "6c7a43f5-505e-4491-a253-d2b5d989b6ae"
      },
      "outputs": [
        {
          "data": {
            "text/html": [
              "<div>\n",
              "<style scoped>\n",
              "    .dataframe tbody tr th:only-of-type {\n",
              "        vertical-align: middle;\n",
              "    }\n",
              "\n",
              "    .dataframe tbody tr th {\n",
              "        vertical-align: top;\n",
              "    }\n",
              "\n",
              "    .dataframe thead th {\n",
              "        text-align: right;\n",
              "    }\n",
              "</style>\n",
              "<table border=\"1\" class=\"dataframe\">\n",
              "  <thead>\n",
              "    <tr style=\"text-align: right;\">\n",
              "      <th></th>\n",
              "      <th>Value</th>\n",
              "    </tr>\n",
              "    <tr>\n",
              "      <th>Metric</th>\n",
              "      <th></th>\n",
              "    </tr>\n",
              "  </thead>\n",
              "  <tbody>\n",
              "    <tr>\n",
              "      <th>Accuracy</th>\n",
              "      <td>0.749505</td>\n",
              "    </tr>\n",
              "    <tr>\n",
              "      <th>Balanced accuracy</th>\n",
              "      <td>0.776697</td>\n",
              "    </tr>\n",
              "    <tr>\n",
              "      <th>Precision</th>\n",
              "      <td>0.482005</td>\n",
              "    </tr>\n",
              "    <tr>\n",
              "      <th>Recall</th>\n",
              "      <td>0.828180</td>\n",
              "    </tr>\n",
              "    <tr>\n",
              "      <th>F1-Score</th>\n",
              "      <td>0.609360</td>\n",
              "    </tr>\n",
              "  </tbody>\n",
              "</table>\n",
              "</div>"
            ],
            "text/plain": [
              "                      Value\n",
              "Metric                     \n",
              "Accuracy           0.749505\n",
              "Balanced accuracy  0.776697\n",
              "Precision          0.482005\n",
              "Recall             0.828180\n",
              "F1-Score           0.609360"
            ]
          },
          "execution_count": 24,
          "metadata": {},
          "output_type": "execute_result"
        }
      ],
      "source": [
        "metrics_dataframe(y_pred, y, metrics_dict=metrics_dict)"
      ]
    },
    {
      "attachments": {},
      "cell_type": "markdown",
      "metadata": {
        "id": "7ZnbetpsKhxd"
      },
      "source": [
        "### **Pipeline implementation**\n",
        "\n",
        "Now that we could see how this method is implemented traditionally, let's try implementing it by using the Scikit-learn Pipeline! Notice that we shouldn't have variations in the metrics for the previous implementation."
      ]
    },
    {
      "cell_type": "code",
      "execution_count": 25,
      "metadata": {
        "colab": {
          "base_uri": "https://localhost:8080/",
          "height": 363
        },
        "id": "x4vl8cM1K6K2",
        "outputId": "bce33c6b-f0e3-48d3-9327-f5881c220dc0"
      },
      "outputs": [
        {
          "data": {
            "text/html": [
              "<div>\n",
              "<style scoped>\n",
              "    .dataframe tbody tr th:only-of-type {\n",
              "        vertical-align: middle;\n",
              "    }\n",
              "\n",
              "    .dataframe tbody tr th {\n",
              "        vertical-align: top;\n",
              "    }\n",
              "\n",
              "    .dataframe thead th {\n",
              "        text-align: right;\n",
              "    }\n",
              "</style>\n",
              "<table border=\"1\" class=\"dataframe\">\n",
              "  <thead>\n",
              "    <tr style=\"text-align: right;\">\n",
              "      <th></th>\n",
              "      <th>Value</th>\n",
              "      <th>Reference</th>\n",
              "    </tr>\n",
              "    <tr>\n",
              "      <th>Metric</th>\n",
              "      <th></th>\n",
              "      <th></th>\n",
              "    </tr>\n",
              "  </thead>\n",
              "  <tbody>\n",
              "    <tr>\n",
              "      <th>Statistical Parity</th>\n",
              "      <td>-0.103470</td>\n",
              "      <td>0</td>\n",
              "    </tr>\n",
              "    <tr>\n",
              "      <th>Disparate Impact</th>\n",
              "      <td>0.764748</td>\n",
              "      <td>1</td>\n",
              "    </tr>\n",
              "    <tr>\n",
              "      <th>Four Fifths Rule</th>\n",
              "      <td>0.764748</td>\n",
              "      <td>1</td>\n",
              "    </tr>\n",
              "    <tr>\n",
              "      <th>Cohen D</th>\n",
              "      <td>-0.211799</td>\n",
              "      <td>0</td>\n",
              "    </tr>\n",
              "    <tr>\n",
              "      <th>2SD Rule</th>\n",
              "      <td>-9.732670</td>\n",
              "      <td>0</td>\n",
              "    </tr>\n",
              "    <tr>\n",
              "      <th>Equality of Opportunity Difference</th>\n",
              "      <td>-0.026268</td>\n",
              "      <td>0</td>\n",
              "    </tr>\n",
              "    <tr>\n",
              "      <th>False Positive Rate Difference</th>\n",
              "      <td>0.001067</td>\n",
              "      <td>0</td>\n",
              "    </tr>\n",
              "    <tr>\n",
              "      <th>Average Odds Difference</th>\n",
              "      <td>-0.012600</td>\n",
              "      <td>0</td>\n",
              "    </tr>\n",
              "    <tr>\n",
              "      <th>Accuracy Difference</th>\n",
              "      <td>-0.023445</td>\n",
              "      <td>0</td>\n",
              "    </tr>\n",
              "  </tbody>\n",
              "</table>\n",
              "</div>"
            ],
            "text/plain": [
              "                                       Value  Reference\n",
              "Metric                                                 \n",
              "Statistical Parity                 -0.103470          0\n",
              "Disparate Impact                    0.764748          1\n",
              "Four Fifths Rule                    0.764748          1\n",
              "Cohen D                            -0.211799          0\n",
              "2SD Rule                           -9.732670          0\n",
              "Equality of Opportunity Difference -0.026268          0\n",
              "False Positive Rate Difference      0.001067          0\n",
              "Average Odds Difference            -0.012600          0\n",
              "Accuracy Difference                -0.023445          0"
            ]
          },
          "execution_count": 25,
          "metadata": {},
          "output_type": "execute_result"
        }
      ],
      "source": [
        "model = LogisticRegression()\n",
        "pipeline = Pipeline(\n",
        "    steps=[\n",
        "        ('scalar', StandardScaler()),\n",
        "        (\"estimator\", LogisticRegression()),\n",
        "        (\"bm_posprocessing\", LPDebiaserBinary()),\n",
        "        ]\n",
        "    )\n",
        "\n",
        "X, y, group_a, group_b = train_data\n",
        "fit_params = {\n",
        "    \"bm__group_a\": group_a, \n",
        "    \"bm__group_b\": group_b\n",
        "}\n",
        "\n",
        "pipeline.fit(X, y, **fit_params)\n",
        "\n",
        "X, y, group_a, group_b = test_data\n",
        "predict_params = {\n",
        "    \"bm__group_a\": group_a,\n",
        "    \"bm__group_b\": group_b,\n",
        "}\n",
        "y_pred = pipeline.predict(X, **predict_params)\n",
        "df = classification_bias_metrics(\n",
        "    group_a,\n",
        "    group_b,\n",
        "    y_pred,\n",
        "    y,\n",
        "    metric_type='both'\n",
        ")\n",
        "df_lp_deb_w_p =df.copy()\n",
        "df_lp_deb_w_p"
      ]
    },
    {
      "cell_type": "code",
      "execution_count": 26,
      "metadata": {
        "colab": {
          "base_uri": "https://localhost:8080/",
          "height": 237
        },
        "id": "2s5Pdje07ool",
        "outputId": "8165c467-8865-491f-90a5-203651ba1565"
      },
      "outputs": [
        {
          "data": {
            "text/html": [
              "<div>\n",
              "<style scoped>\n",
              "    .dataframe tbody tr th:only-of-type {\n",
              "        vertical-align: middle;\n",
              "    }\n",
              "\n",
              "    .dataframe tbody tr th {\n",
              "        vertical-align: top;\n",
              "    }\n",
              "\n",
              "    .dataframe thead th {\n",
              "        text-align: right;\n",
              "    }\n",
              "</style>\n",
              "<table border=\"1\" class=\"dataframe\">\n",
              "  <thead>\n",
              "    <tr style=\"text-align: right;\">\n",
              "      <th></th>\n",
              "      <th>Value</th>\n",
              "    </tr>\n",
              "    <tr>\n",
              "      <th>Metric</th>\n",
              "      <th></th>\n",
              "    </tr>\n",
              "  </thead>\n",
              "  <tbody>\n",
              "    <tr>\n",
              "      <th>Accuracy</th>\n",
              "      <td>0.749922</td>\n",
              "    </tr>\n",
              "    <tr>\n",
              "      <th>Balanced accuracy</th>\n",
              "      <td>0.777276</td>\n",
              "    </tr>\n",
              "    <tr>\n",
              "      <th>Precision</th>\n",
              "      <td>0.482519</td>\n",
              "    </tr>\n",
              "    <tr>\n",
              "      <th>Recall</th>\n",
              "      <td>0.829064</td>\n",
              "    </tr>\n",
              "    <tr>\n",
              "      <th>F1-Score</th>\n",
              "      <td>0.610010</td>\n",
              "    </tr>\n",
              "  </tbody>\n",
              "</table>\n",
              "</div>"
            ],
            "text/plain": [
              "                      Value\n",
              "Metric                     \n",
              "Accuracy           0.749922\n",
              "Balanced accuracy  0.777276\n",
              "Precision          0.482519\n",
              "Recall             0.829064\n",
              "F1-Score           0.610010"
            ]
          },
          "execution_count": 26,
          "metadata": {},
          "output_type": "execute_result"
        }
      ],
      "source": [
        "metrics_dataframe(y_pred, y, metrics_dict=metrics_dict)"
      ]
    },
    {
      "attachments": {},
      "cell_type": "markdown",
      "metadata": {
        "id": "4PK-M6o5LvYs"
      },
      "source": [
        "## **7. Results comparison**\n",
        "\n",
        "Now that we could observe how is the implementation of the mitigator in the model, we will compare the results between the baseline and the implementations with the mitigator to analyse how the metrics have changed."
      ]
    },
    {
      "cell_type": "code",
      "execution_count": 27,
      "metadata": {
        "colab": {
          "base_uri": "https://localhost:8080/",
          "height": 363
        },
        "id": "pNVKX4kKLpsz",
        "outputId": "a8504b92-83d4-4d59-8f39-cb765c035074"
      },
      "outputs": [
        {
          "data": {
            "text/html": [
              "<div>\n",
              "<style scoped>\n",
              "    .dataframe tbody tr th:only-of-type {\n",
              "        vertical-align: middle;\n",
              "    }\n",
              "\n",
              "    .dataframe tbody tr th {\n",
              "        vertical-align: top;\n",
              "    }\n",
              "\n",
              "    .dataframe thead th {\n",
              "        text-align: right;\n",
              "    }\n",
              "</style>\n",
              "<table border=\"1\" class=\"dataframe\">\n",
              "  <thead>\n",
              "    <tr style=\"text-align: right;\">\n",
              "      <th></th>\n",
              "      <th>Baseline</th>\n",
              "      <th>Mitigator without pipeline</th>\n",
              "      <th>Mitigator with pipeline</th>\n",
              "      <th>Reference</th>\n",
              "    </tr>\n",
              "    <tr>\n",
              "      <th>Metric</th>\n",
              "      <th></th>\n",
              "      <th></th>\n",
              "      <th></th>\n",
              "      <th></th>\n",
              "    </tr>\n",
              "  </thead>\n",
              "  <tbody>\n",
              "    <tr>\n",
              "      <th>Statistical Parity</th>\n",
              "      <td>-0.175836</td>\n",
              "      <td>-0.103470</td>\n",
              "      <td>-0.103470</td>\n",
              "      <td>0</td>\n",
              "    </tr>\n",
              "    <tr>\n",
              "      <th>Disparate Impact</th>\n",
              "      <td>0.304267</td>\n",
              "      <td>0.764748</td>\n",
              "      <td>0.764748</td>\n",
              "      <td>1</td>\n",
              "    </tr>\n",
              "    <tr>\n",
              "      <th>Four Fifths Rule</th>\n",
              "      <td>0.304267</td>\n",
              "      <td>0.764748</td>\n",
              "      <td>0.764748</td>\n",
              "      <td>1</td>\n",
              "    </tr>\n",
              "    <tr>\n",
              "      <th>Cohen D</th>\n",
              "      <td>-0.454655</td>\n",
              "      <td>-0.211799</td>\n",
              "      <td>-0.211799</td>\n",
              "      <td>0</td>\n",
              "    </tr>\n",
              "    <tr>\n",
              "      <th>2SD Rule</th>\n",
              "      <td>-20.530369</td>\n",
              "      <td>-9.732670</td>\n",
              "      <td>-9.732670</td>\n",
              "      <td>0</td>\n",
              "    </tr>\n",
              "    <tr>\n",
              "      <th>Equality of Opportunity Difference</th>\n",
              "      <td>-0.126491</td>\n",
              "      <td>-0.031703</td>\n",
              "      <td>-0.026268</td>\n",
              "      <td>0</td>\n",
              "    </tr>\n",
              "    <tr>\n",
              "      <th>False Positive Rate Difference</th>\n",
              "      <td>-0.082923</td>\n",
              "      <td>0.001774</td>\n",
              "      <td>0.001067</td>\n",
              "      <td>0</td>\n",
              "    </tr>\n",
              "    <tr>\n",
              "      <th>Average Odds Difference</th>\n",
              "      <td>-0.104707</td>\n",
              "      <td>-0.014965</td>\n",
              "      <td>-0.012600</td>\n",
              "      <td>0</td>\n",
              "    </tr>\n",
              "    <tr>\n",
              "      <th>Accuracy Difference</th>\n",
              "      <td>0.112691</td>\n",
              "      <td>-0.024695</td>\n",
              "      <td>-0.023445</td>\n",
              "      <td>0</td>\n",
              "    </tr>\n",
              "  </tbody>\n",
              "</table>\n",
              "</div>"
            ],
            "text/plain": [
              "                                     Baseline  Mitigator without pipeline  \\\n",
              "Metric                                                                      \n",
              "Statistical Parity                  -0.175836                   -0.103470   \n",
              "Disparate Impact                     0.304267                    0.764748   \n",
              "Four Fifths Rule                     0.304267                    0.764748   \n",
              "Cohen D                             -0.454655                   -0.211799   \n",
              "2SD Rule                           -20.530369                   -9.732670   \n",
              "Equality of Opportunity Difference  -0.126491                   -0.031703   \n",
              "False Positive Rate Difference      -0.082923                    0.001774   \n",
              "Average Odds Difference             -0.104707                   -0.014965   \n",
              "Accuracy Difference                  0.112691                   -0.024695   \n",
              "\n",
              "                                    Mitigator with pipeline  Reference  \n",
              "Metric                                                                  \n",
              "Statistical Parity                                -0.103470          0  \n",
              "Disparate Impact                                   0.764748          1  \n",
              "Four Fifths Rule                                   0.764748          1  \n",
              "Cohen D                                           -0.211799          0  \n",
              "2SD Rule                                          -9.732670          0  \n",
              "Equality of Opportunity Difference                -0.026268          0  \n",
              "False Positive Rate Difference                     0.001067          0  \n",
              "Average Odds Difference                           -0.012600          0  \n",
              "Accuracy Difference                               -0.023445          0  "
            ]
          },
          "execution_count": 27,
          "metadata": {},
          "output_type": "execute_result"
        }
      ],
      "source": [
        "result = pd.concat([df_baseline, df_lp_deb, df_lp_deb_w_p], axis=1).iloc[:, [0,2,4,1]]\n",
        "result.columns = ['Baseline','Mitigator without pipeline',\"Mitigator with pipeline\", 'Reference']\n",
        "result"
      ]
    },
    {
      "attachments": {},
      "cell_type": "markdown",
      "metadata": {
        "id": "gf5qLRMBhss7"
      },
      "source": [
        "From the previous chart, we can see that although the actual metrics are still far from the ideal values, an improvement is obtained by applying this method in the dataset, compared with our baseline. \n",
        "\n",
        "Now, we will analyse how these values are affected by varying the constraint used. For example, this method allows us to choose between the *EqualizedOdds* and *EqualizedOpportunity* constraints as presented [here](https://holisticai.readthedocs.io/en/latest/.generated/holisticai.bias.mitigation.LPDebiaserBinary.html#holisticai.bias.mitigation.LPDebiaserBinary):"
      ]
    },
    {
      "cell_type": "code",
      "execution_count": 28,
      "metadata": {
        "id": "3X1keA2QORTA"
      },
      "outputs": [],
      "source": [
        "def calculate_metrics(train_data, test_data, constraint, metrics_cols):\n",
        "  from sklearn.metrics import accuracy_score\n",
        "  model = LogisticRegression()\n",
        "  pipeline = Pipeline(\n",
        "      steps=[\n",
        "          ('scalar', StandardScaler()),\n",
        "          (\"estimator\", LogisticRegression()),\n",
        "          (\"bm_posprocessing\", LPDebiaserBinary(constraint=constraint)),\n",
        "          ]\n",
        "      )\n",
        "\n",
        "  X, y, group_a, group_b = train_data\n",
        "  fit_params = {\n",
        "      \"bm__group_a\": group_a, \n",
        "      \"bm__group_b\": group_b\n",
        "  }\n",
        "\n",
        "  pipeline.fit(X, y, **fit_params)\n",
        "\n",
        "  X, y, group_a, group_b = test_data\n",
        "  predict_params = {\n",
        "      \"bm__group_a\": group_a,\n",
        "      \"bm__group_b\": group_b,\n",
        "  }\n",
        "  y_pred = pipeline.predict(X, **predict_params)\n",
        "  df = classification_bias_metrics(\n",
        "      group_a,\n",
        "      group_b,\n",
        "      y_pred,\n",
        "      y,\n",
        "      metric_type='both'\n",
        "  )\n",
        "  # Calculate metrics\n",
        "  metrics = [\n",
        "      constraint,\n",
        "      accuracy_score(y, y_pred)\n",
        "  ]\n",
        "  metrics.extend([df['Value'].loc[col] for col in metrics_cols])\n",
        "  return metrics"
      ]
    },
    {
      "cell_type": "code",
      "execution_count": 29,
      "metadata": {
        "colab": {
          "base_uri": "https://localhost:8080/",
          "height": 112
        },
        "id": "ghMchDkxhv08",
        "outputId": "cf5be0f0-d4c1-4da0-ca3f-67c0f1c501bb"
      },
      "outputs": [
        {
          "data": {
            "text/html": [
              "<div>\n",
              "<style scoped>\n",
              "    .dataframe tbody tr th:only-of-type {\n",
              "        vertical-align: middle;\n",
              "    }\n",
              "\n",
              "    .dataframe tbody tr th {\n",
              "        vertical-align: top;\n",
              "    }\n",
              "\n",
              "    .dataframe thead th {\n",
              "        text-align: right;\n",
              "    }\n",
              "</style>\n",
              "<table border=\"1\" class=\"dataframe\">\n",
              "  <thead>\n",
              "    <tr style=\"text-align: right;\">\n",
              "      <th></th>\n",
              "      <th>constraint</th>\n",
              "      <th>Accuracy</th>\n",
              "      <th>Statistical Parity</th>\n",
              "      <th>Disparate Impact</th>\n",
              "    </tr>\n",
              "  </thead>\n",
              "  <tbody>\n",
              "    <tr>\n",
              "      <th>0</th>\n",
              "      <td>EqualizedOdds</td>\n",
              "      <td>0.749713</td>\n",
              "      <td>-0.103470</td>\n",
              "      <td>0.764748</td>\n",
              "    </tr>\n",
              "    <tr>\n",
              "      <th>1</th>\n",
              "      <td>EqualizedOpportunity</td>\n",
              "      <td>0.788059</td>\n",
              "      <td>-0.221632</td>\n",
              "      <td>0.496091</td>\n",
              "    </tr>\n",
              "  </tbody>\n",
              "</table>\n",
              "</div>"
            ],
            "text/plain": [
              "             constraint  Accuracy  Statistical Parity  Disparate Impact\n",
              "0         EqualizedOdds  0.749713           -0.103470          0.764748\n",
              "1  EqualizedOpportunity  0.788059           -0.221632          0.496091"
            ]
          },
          "execution_count": 29,
          "metadata": {},
          "output_type": "execute_result"
        }
      ],
      "source": [
        "metrics_val = []\n",
        "metrics_cols = ['Statistical Parity', 'Disparate Impact']\n",
        "\n",
        "constraints = ['EqualizedOdds', 'EqualizedOpportunity']\n",
        "\n",
        "for constraint in constraints:\n",
        "  metrics_val.append(calculate_metrics(train_data, test_data, constraint, metrics_cols))\n",
        "\n",
        "metrics = ['constraint', 'Accuracy']\n",
        "metrics.extend(metrics_cols)\n",
        "df_metrics = pd.DataFrame(metrics_val, columns=metrics)\n",
        "df_metrics"
      ]
    },
    {
      "cell_type": "code",
      "execution_count": 30,
      "metadata": {
        "colab": {
          "base_uri": "https://localhost:8080/",
          "height": 542
        },
        "id": "7APVCbQ9lNu4",
        "outputId": "26fd9a89-a577-4a74-d7ef-40a045756955"
      },
      "outputs": [
        {
          "data": {
            "text/plain": [
              "(0.0, 1.0)"
            ]
          },
          "execution_count": 30,
          "metadata": {},
          "output_type": "execute_result"
        },
        {
          "data": {
            "image/png": "[encoded data removed]",
            "text/plain": [
              "<Figure size 2500x800 with 3 Axes>"
            ]
          },
          "metadata": {},
          "output_type": "display_data"
        }
      ],
      "source": [
        "x_axis = df_metrics.constraint\n",
        "plt.figure(figsize=(25,8))\n",
        "plt.subplot(131)\n",
        "plt.bar(x_axis, df_metrics['Disparate Impact'])\n",
        "plt.title('Disparate impact')\n",
        "plt.xlabel('Constraint')\n",
        "plt.ylim([0, 1])\n",
        "plt.subplot(132)\n",
        "plt.bar(x_axis, df_metrics['Statistical Parity'])\n",
        "plt.title('Statistical Parity')\n",
        "plt.xlabel('Constraint')\n",
        "plt.ylim([-0.5, 0])\n",
        "plt.subplot(133)\n",
        "plt.bar(x_axis, df_metrics['Accuracy'])\n",
        "plt.title('Accuracy')\n",
        "plt.xlabel('Constraint')\n",
        "plt.ylim([0, 1])"
      ]
    },
    {
      "attachments": {},
      "cell_type": "markdown",
      "metadata": {
        "id": "A7EQReXBqaJ_"
      },
      "source": [
        "As we can see, the selection of the constraint will vary the performance of the method, for example in this case, while one of the constraints increases the fairness of the model (*EqualizedOdds*), the other one tries to preserve the accuracy (*EqualizedOpportunity*). In general, the selection of the model parameters will depend on our main objective, whether we are looking for fairness or accuracy."
      ]
    },
    {
      "attachments": {},
      "cell_type": "markdown",
      "metadata": {
        "id": "uDc5WEHxqtup"
      },
      "source": [
        "## **Summary**\n",
        "Through this tutorial we could present to the user how the `holisticai` library can be easily used to measure the bias present in classification models by the application of the `classification_bias_metrics` function, which returns the calculated values for different metrics and their references respectively. \n",
        "\n",
        "In addition, we shown how to mitigate the bias by applying some methods, for this opportunity we applied the \"Linear programming debiaser\" technique to improve the fairness of the model, this is a post-processing method that  optimally adjust any learned predictor to remove discrimination according to the equalized odds and equality of opportunity constraints. Consequently we could observe how the metrics are influenced by varing the constraint of the optimization, and showing how this method increases the fairness of the model."
      ]
    },
    {
      "cell_type": "code",
      "execution_count": 37,
      "metadata": {
        "id": "jotCWL5ZpXe3"
      },
      "outputs": [],
      "source": []
    }
  ],
  "metadata": {
    "colab": {
      "provenance": []
    },
    "kernelspec": {
      "display_name": "Python 3",
      "name": "python3"
    },
    "language_info": {
      "codemirror_mode": {
        "name": "ipython",
        "version": 3
      },
      "file_extension": ".py",
      "mimetype": "text/x-python",
      "name": "python",
      "nbconvert_exporter": "python",
      "pygments_lexer": "ipython3",
      "version": "3.9.0"
    }
  },
  "nbformat": 4,
  "nbformat_minor": 0
}
