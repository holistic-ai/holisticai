{
  "cells": [
    {
      "cell_type": "markdown",
      "id": "3ea086d6",
      "metadata": {
        "id": "3ea086d6"
      },
      "source": [
        "# **Measuring Bias in clustering**\n"
      ]
    },
    {
      "cell_type": "markdown",
      "id": "f5806760",
      "metadata": {
        "id": "f5806760"
      },
      "source": [
        "This notebook is a tutorial on auditing bias within a clustering task. We will use the _holisticai_ library throughout, introducing some of the functions we have created to help study algorithmic bias.\n",
        "\n",
        "The sections are organised as follows :\n",
        "\n",
        "1. Load the data : we load the adult dataset as a pandas DataFrame\n",
        "2. Data Exploration : some preliminary analysis of the data\n",
        "3. Pre-Processing and Train a Model : we train a kmeans model (sklearn)\n",
        "4. Measure Bias : we compute a few bias metrics, and comment on their meaning"
      ]
    },
    {
      "cell_type": "markdown",
      "id": "98dcbb0c",
      "metadata": {
        "id": "98dcbb0c"
      },
      "source": [
        "## **Load the data**"
      ]
    },
    {
      "cell_type": "markdown",
      "id": "hN39zv70pPn4",
      "metadata": {
        "id": "hN39zv70pPn4"
      },
      "source": [
        "First of all, we need to import the required packages to perform our bias analysis and mitigation. You will need to have the `holisticai` package installed on your system, remember that you can install it by running: \n",
        "```bash\n",
        "!pip install holisticai[all]\n",
        "```"
      ]
    },
    {
      "cell_type": "code",
      "execution_count": 1,
      "id": "c50fca4a",
      "metadata": {
        "id": "c50fca4a"
      },
      "outputs": [],
      "source": [
        "# Imports\n",
        "import numpy as np\n",
        "import pandas as pd\n",
        "import warnings\n",
        "warnings.filterwarnings(\"ignore\")"
      ]
    },
    {
      "cell_type": "markdown",
      "id": "32f32e1f",
      "metadata": {
        "id": "32f32e1f"
      },
      "source": [
        "We will start by importing the adult dataset, which we host on our library. The adult dataset contains a set of informations extract from US 1994 Census database. It includes personal information about the individuals, specifically sex, race, and education. In this tutorial we will perform unsupervised learning to cluster the data, then measure whether this clustering contains gender or race information (clustering bias)."
      ]
    },
    {
      "cell_type": "code",
      "execution_count": 2,
      "id": "1702be74",
      "metadata": {
        "colab": {
          "base_uri": "https://localhost:8080/",
          "height": 206
        },
        "id": "1702be74",
        "outputId": "84172fba-a9d6-41bf-e578-a392fc4d2716"
      },
      "outputs": [
        {
          "data": {
            "text/html": [
              "<div>\n",
              "<style scoped>\n",
              "    .dataframe tbody tr th:only-of-type {\n",
              "        vertical-align: middle;\n",
              "    }\n",
              "\n",
              "    .dataframe tbody tr th {\n",
              "        vertical-align: top;\n",
              "    }\n",
              "\n",
              "    .dataframe thead th {\n",
              "        text-align: right;\n",
              "    }\n",
              "</style>\n",
              "<table border=\"1\" class=\"dataframe\">\n",
              "  <thead>\n",
              "    <tr style=\"text-align: right;\">\n",
              "      <th></th>\n",
              "      <th>age</th>\n",
              "      <th>fnlwgt</th>\n",
              "      <th>education-num</th>\n",
              "      <th>capital-gain</th>\n",
              "      <th>capital-loss</th>\n",
              "      <th>hours-per-week</th>\n",
              "      <th>marital-status_Divorced</th>\n",
              "      <th>marital-status_Married-AF-spouse</th>\n",
              "      <th>marital-status_Married-civ-spouse</th>\n",
              "      <th>marital-status_Married-spouse-absent</th>\n",
              "      <th>...</th>\n",
              "      <th>native-country_Puerto-Rico</th>\n",
              "      <th>native-country_Scotland</th>\n",
              "      <th>native-country_South</th>\n",
              "      <th>native-country_Taiwan</th>\n",
              "      <th>native-country_Thailand</th>\n",
              "      <th>native-country_Trinadad&amp;Tobago</th>\n",
              "      <th>native-country_United-States</th>\n",
              "      <th>native-country_Vietnam</th>\n",
              "      <th>native-country_Yugoslavia</th>\n",
              "      <th>class</th>\n",
              "    </tr>\n",
              "  </thead>\n",
              "  <tbody>\n",
              "    <tr>\n",
              "      <th>0</th>\n",
              "      <td>25.0</td>\n",
              "      <td>226802.0</td>\n",
              "      <td>7.0</td>\n",
              "      <td>0.0</td>\n",
              "      <td>0.0</td>\n",
              "      <td>40.0</td>\n",
              "      <td>0.0</td>\n",
              "      <td>0.0</td>\n",
              "      <td>0.0</td>\n",
              "      <td>0.0</td>\n",
              "      <td>...</td>\n",
              "      <td>0.0</td>\n",
              "      <td>0.0</td>\n",
              "      <td>0.0</td>\n",
              "      <td>0.0</td>\n",
              "      <td>0.0</td>\n",
              "      <td>0.0</td>\n",
              "      <td>1.0</td>\n",
              "      <td>0.0</td>\n",
              "      <td>0.0</td>\n",
              "      <td>0.0</td>\n",
              "    </tr>\n",
              "    <tr>\n",
              "      <th>1</th>\n",
              "      <td>38.0</td>\n",
              "      <td>89814.0</td>\n",
              "      <td>9.0</td>\n",
              "      <td>0.0</td>\n",
              "      <td>0.0</td>\n",
              "      <td>50.0</td>\n",
              "      <td>0.0</td>\n",
              "      <td>0.0</td>\n",
              "      <td>1.0</td>\n",
              "      <td>0.0</td>\n",
              "      <td>...</td>\n",
              "      <td>0.0</td>\n",
              "      <td>0.0</td>\n",
              "      <td>0.0</td>\n",
              "      <td>0.0</td>\n",
              "      <td>0.0</td>\n",
              "      <td>0.0</td>\n",
              "      <td>1.0</td>\n",
              "      <td>0.0</td>\n",
              "      <td>0.0</td>\n",
              "      <td>0.0</td>\n",
              "    </tr>\n",
              "    <tr>\n",
              "      <th>2</th>\n",
              "      <td>28.0</td>\n",
              "      <td>336951.0</td>\n",
              "      <td>12.0</td>\n",
              "      <td>0.0</td>\n",
              "      <td>0.0</td>\n",
              "      <td>40.0</td>\n",
              "      <td>0.0</td>\n",
              "      <td>0.0</td>\n",
              "      <td>1.0</td>\n",
              "      <td>0.0</td>\n",
              "      <td>...</td>\n",
              "      <td>0.0</td>\n",
              "      <td>0.0</td>\n",
              "      <td>0.0</td>\n",
              "      <td>0.0</td>\n",
              "      <td>0.0</td>\n",
              "      <td>0.0</td>\n",
              "      <td>1.0</td>\n",
              "      <td>0.0</td>\n",
              "      <td>0.0</td>\n",
              "      <td>1.0</td>\n",
              "    </tr>\n",
              "    <tr>\n",
              "      <th>3</th>\n",
              "      <td>44.0</td>\n",
              "      <td>160323.0</td>\n",
              "      <td>10.0</td>\n",
              "      <td>7688.0</td>\n",
              "      <td>0.0</td>\n",
              "      <td>40.0</td>\n",
              "      <td>0.0</td>\n",
              "      <td>0.0</td>\n",
              "      <td>1.0</td>\n",
              "      <td>0.0</td>\n",
              "      <td>...</td>\n",
              "      <td>0.0</td>\n",
              "      <td>0.0</td>\n",
              "      <td>0.0</td>\n",
              "      <td>0.0</td>\n",
              "      <td>0.0</td>\n",
              "      <td>0.0</td>\n",
              "      <td>1.0</td>\n",
              "      <td>0.0</td>\n",
              "      <td>0.0</td>\n",
              "      <td>1.0</td>\n",
              "    </tr>\n",
              "    <tr>\n",
              "      <th>4</th>\n",
              "      <td>18.0</td>\n",
              "      <td>103497.0</td>\n",
              "      <td>10.0</td>\n",
              "      <td>0.0</td>\n",
              "      <td>0.0</td>\n",
              "      <td>30.0</td>\n",
              "      <td>0.0</td>\n",
              "      <td>0.0</td>\n",
              "      <td>0.0</td>\n",
              "      <td>0.0</td>\n",
              "      <td>...</td>\n",
              "      <td>0.0</td>\n",
              "      <td>0.0</td>\n",
              "      <td>0.0</td>\n",
              "      <td>0.0</td>\n",
              "      <td>0.0</td>\n",
              "      <td>0.0</td>\n",
              "      <td>1.0</td>\n",
              "      <td>0.0</td>\n",
              "      <td>0.0</td>\n",
              "      <td>0.0</td>\n",
              "    </tr>\n",
              "    <tr>\n",
              "      <th>...</th>\n",
              "      <td>...</td>\n",
              "      <td>...</td>\n",
              "      <td>...</td>\n",
              "      <td>...</td>\n",
              "      <td>...</td>\n",
              "      <td>...</td>\n",
              "      <td>...</td>\n",
              "      <td>...</td>\n",
              "      <td>...</td>\n",
              "      <td>...</td>\n",
              "      <td>...</td>\n",
              "      <td>...</td>\n",
              "      <td>...</td>\n",
              "      <td>...</td>\n",
              "      <td>...</td>\n",
              "      <td>...</td>\n",
              "      <td>...</td>\n",
              "      <td>...</td>\n",
              "      <td>...</td>\n",
              "      <td>...</td>\n",
              "      <td>...</td>\n",
              "    </tr>\n",
              "    <tr>\n",
              "      <th>47980</th>\n",
              "      <td>27.0</td>\n",
              "      <td>257302.0</td>\n",
              "      <td>12.0</td>\n",
              "      <td>0.0</td>\n",
              "      <td>0.0</td>\n",
              "      <td>38.0</td>\n",
              "      <td>0.0</td>\n",
              "      <td>0.0</td>\n",
              "      <td>1.0</td>\n",
              "      <td>0.0</td>\n",
              "      <td>...</td>\n",
              "      <td>0.0</td>\n",
              "      <td>0.0</td>\n",
              "      <td>0.0</td>\n",
              "      <td>0.0</td>\n",
              "      <td>0.0</td>\n",
              "      <td>0.0</td>\n",
              "      <td>1.0</td>\n",
              "      <td>0.0</td>\n",
              "      <td>0.0</td>\n",
              "      <td>0.0</td>\n",
              "    </tr>\n",
              "    <tr>\n",
              "      <th>47981</th>\n",
              "      <td>40.0</td>\n",
              "      <td>154374.0</td>\n",
              "      <td>9.0</td>\n",
              "      <td>0.0</td>\n",
              "      <td>0.0</td>\n",
              "      <td>40.0</td>\n",
              "      <td>0.0</td>\n",
              "      <td>0.0</td>\n",
              "      <td>1.0</td>\n",
              "      <td>0.0</td>\n",
              "      <td>...</td>\n",
              "      <td>0.0</td>\n",
              "      <td>0.0</td>\n",
              "      <td>0.0</td>\n",
              "      <td>0.0</td>\n",
              "      <td>0.0</td>\n",
              "      <td>0.0</td>\n",
              "      <td>1.0</td>\n",
              "      <td>0.0</td>\n",
              "      <td>0.0</td>\n",
              "      <td>1.0</td>\n",
              "    </tr>\n",
              "    <tr>\n",
              "      <th>47982</th>\n",
              "      <td>58.0</td>\n",
              "      <td>151910.0</td>\n",
              "      <td>9.0</td>\n",
              "      <td>0.0</td>\n",
              "      <td>0.0</td>\n",
              "      <td>40.0</td>\n",
              "      <td>0.0</td>\n",
              "      <td>0.0</td>\n",
              "      <td>0.0</td>\n",
              "      <td>0.0</td>\n",
              "      <td>...</td>\n",
              "      <td>0.0</td>\n",
              "      <td>0.0</td>\n",
              "      <td>0.0</td>\n",
              "      <td>0.0</td>\n",
              "      <td>0.0</td>\n",
              "      <td>0.0</td>\n",
              "      <td>1.0</td>\n",
              "      <td>0.0</td>\n",
              "      <td>0.0</td>\n",
              "      <td>0.0</td>\n",
              "    </tr>\n",
              "    <tr>\n",
              "      <th>47983</th>\n",
              "      <td>22.0</td>\n",
              "      <td>201490.0</td>\n",
              "      <td>9.0</td>\n",
              "      <td>0.0</td>\n",
              "      <td>0.0</td>\n",
              "      <td>20.0</td>\n",
              "      <td>0.0</td>\n",
              "      <td>0.0</td>\n",
              "      <td>0.0</td>\n",
              "      <td>0.0</td>\n",
              "      <td>...</td>\n",
              "      <td>0.0</td>\n",
              "      <td>0.0</td>\n",
              "      <td>0.0</td>\n",
              "      <td>0.0</td>\n",
              "      <td>0.0</td>\n",
              "      <td>0.0</td>\n",
              "      <td>1.0</td>\n",
              "      <td>0.0</td>\n",
              "      <td>0.0</td>\n",
              "      <td>0.0</td>\n",
              "    </tr>\n",
              "    <tr>\n",
              "      <th>47984</th>\n",
              "      <td>52.0</td>\n",
              "      <td>287927.0</td>\n",
              "      <td>9.0</td>\n",
              "      <td>15024.0</td>\n",
              "      <td>0.0</td>\n",
              "      <td>40.0</td>\n",
              "      <td>0.0</td>\n",
              "      <td>0.0</td>\n",
              "      <td>1.0</td>\n",
              "      <td>0.0</td>\n",
              "      <td>...</td>\n",
              "      <td>0.0</td>\n",
              "      <td>0.0</td>\n",
              "      <td>0.0</td>\n",
              "      <td>0.0</td>\n",
              "      <td>0.0</td>\n",
              "      <td>0.0</td>\n",
              "      <td>1.0</td>\n",
              "      <td>0.0</td>\n",
              "      <td>0.0</td>\n",
              "      <td>1.0</td>\n",
              "    </tr>\n",
              "  </tbody>\n",
              "</table>\n",
              "<p>47985 rows × 61 columns</p>\n",
              "</div>"
            ],
            "text/plain": [
              "        age    fnlwgt  education-num  capital-gain  capital-loss  \\\n",
              "0      25.0  226802.0            7.0           0.0           0.0   \n",
              "1      38.0   89814.0            9.0           0.0           0.0   \n",
              "2      28.0  336951.0           12.0           0.0           0.0   \n",
              "3      44.0  160323.0           10.0        7688.0           0.0   \n",
              "4      18.0  103497.0           10.0           0.0           0.0   \n",
              "...     ...       ...            ...           ...           ...   \n",
              "47980  27.0  257302.0           12.0           0.0           0.0   \n",
              "47981  40.0  154374.0            9.0           0.0           0.0   \n",
              "47982  58.0  151910.0            9.0           0.0           0.0   \n",
              "47983  22.0  201490.0            9.0           0.0           0.0   \n",
              "47984  52.0  287927.0            9.0       15024.0           0.0   \n",
              "\n",
              "       hours-per-week  marital-status_Divorced  \\\n",
              "0                40.0                      0.0   \n",
              "1                50.0                      0.0   \n",
              "2                40.0                      0.0   \n",
              "3                40.0                      0.0   \n",
              "4                30.0                      0.0   \n",
              "...               ...                      ...   \n",
              "47980            38.0                      0.0   \n",
              "47981            40.0                      0.0   \n",
              "47982            40.0                      0.0   \n",
              "47983            20.0                      0.0   \n",
              "47984            40.0                      0.0   \n",
              "\n",
              "       marital-status_Married-AF-spouse  marital-status_Married-civ-spouse  \\\n",
              "0                                   0.0                                0.0   \n",
              "1                                   0.0                                1.0   \n",
              "2                                   0.0                                1.0   \n",
              "3                                   0.0                                1.0   \n",
              "4                                   0.0                                0.0   \n",
              "...                                 ...                                ...   \n",
              "47980                               0.0                                1.0   \n",
              "47981                               0.0                                1.0   \n",
              "47982                               0.0                                0.0   \n",
              "47983                               0.0                                0.0   \n",
              "47984                               0.0                                1.0   \n",
              "\n",
              "       marital-status_Married-spouse-absent  ...  native-country_Puerto-Rico  \\\n",
              "0                                       0.0  ...                         0.0   \n",
              "1                                       0.0  ...                         0.0   \n",
              "2                                       0.0  ...                         0.0   \n",
              "3                                       0.0  ...                         0.0   \n",
              "4                                       0.0  ...                         0.0   \n",
              "...                                     ...  ...                         ...   \n",
              "47980                                   0.0  ...                         0.0   \n",
              "47981                                   0.0  ...                         0.0   \n",
              "47982                                   0.0  ...                         0.0   \n",
              "47983                                   0.0  ...                         0.0   \n",
              "47984                                   0.0  ...                         0.0   \n",
              "\n",
              "       native-country_Scotland  native-country_South  native-country_Taiwan  \\\n",
              "0                          0.0                   0.0                    0.0   \n",
              "1                          0.0                   0.0                    0.0   \n",
              "2                          0.0                   0.0                    0.0   \n",
              "3                          0.0                   0.0                    0.0   \n",
              "4                          0.0                   0.0                    0.0   \n",
              "...                        ...                   ...                    ...   \n",
              "47980                      0.0                   0.0                    0.0   \n",
              "47981                      0.0                   0.0                    0.0   \n",
              "47982                      0.0                   0.0                    0.0   \n",
              "47983                      0.0                   0.0                    0.0   \n",
              "47984                      0.0                   0.0                    0.0   \n",
              "\n",
              "       native-country_Thailand  native-country_Trinadad&Tobago  \\\n",
              "0                          0.0                             0.0   \n",
              "1                          0.0                             0.0   \n",
              "2                          0.0                             0.0   \n",
              "3                          0.0                             0.0   \n",
              "4                          0.0                             0.0   \n",
              "...                        ...                             ...   \n",
              "47980                      0.0                             0.0   \n",
              "47981                      0.0                             0.0   \n",
              "47982                      0.0                             0.0   \n",
              "47983                      0.0                             0.0   \n",
              "47984                      0.0                             0.0   \n",
              "\n",
              "       native-country_United-States  native-country_Vietnam  \\\n",
              "0                               1.0                     0.0   \n",
              "1                               1.0                     0.0   \n",
              "2                               1.0                     0.0   \n",
              "3                               1.0                     0.0   \n",
              "4                               1.0                     0.0   \n",
              "...                             ...                     ...   \n",
              "47980                           1.0                     0.0   \n",
              "47981                           1.0                     0.0   \n",
              "47982                           1.0                     0.0   \n",
              "47983                           1.0                     0.0   \n",
              "47984                           1.0                     0.0   \n",
              "\n",
              "       native-country_Yugoslavia  class  \n",
              "0                            0.0    0.0  \n",
              "1                            0.0    0.0  \n",
              "2                            0.0    1.0  \n",
              "3                            0.0    1.0  \n",
              "4                            0.0    0.0  \n",
              "...                          ...    ...  \n",
              "47980                        0.0    0.0  \n",
              "47981                        0.0    1.0  \n",
              "47982                        0.0    0.0  \n",
              "47983                        0.0    0.0  \n",
              "47984                        0.0    1.0  \n",
              "\n",
              "[47985 rows x 61 columns]"
            ]
          },
          "execution_count": 2,
          "metadata": {},
          "output_type": "execute_result"
        }
      ],
      "source": [
        "from holisticai.datasets import load_dataset\n",
        "df, group_a, group_b = load_dataset(dataset='adult', preprocessed=True, as_array=False)\n",
        "df"
      ]
    },
    {
      "cell_type": "markdown",
      "id": "ff87a3f5",
      "metadata": {
        "id": "ff87a3f5"
      },
      "source": [
        "## **Data Exploration**"
      ]
    },
    {
      "cell_type": "code",
      "execution_count": 3,
      "id": "caa0d74e",
      "metadata": {
        "id": "caa0d74e"
      },
      "outputs": [],
      "source": [
        "# import holisticai charts\n",
        "from holisticai.bias.plots import group_pie_plot\n",
        "from holisticai.bias.plots import histogram_plot"
      ]
    },
    {
      "cell_type": "code",
      "execution_count": 4,
      "id": "78c5cc7a",
      "metadata": {
        "colab": {
          "base_uri": "https://localhost:8080/",
          "height": 472
        },
        "id": "78c5cc7a",
        "outputId": "50ffd254-c346-435f-a88f-bc77dde16959"
      },
      "outputs": [
        {
          "data": {
            "text/plain": [
              "<Axes: >"
            ]
          },
          "execution_count": 4,
          "metadata": {},
          "output_type": "execute_result"
        },
        {
          "data": {
            "image/png": "[encoded data removed]",
            "text/plain": [
              "<Figure size 640x480 with 1 Axes>"
            ]
          },
          "metadata": {},
          "output_type": "display_data"
        }
      ],
      "source": [
        "# pie plot of the Sex column\n",
        "group_pie_plot(group_a)"
      ]
    },
    {
      "cell_type": "code",
      "execution_count": 5,
      "id": "d5d7cccd",
      "metadata": {
        "colab": {
          "base_uri": "https://localhost:8080/",
          "height": 472
        },
        "id": "d5d7cccd",
        "outputId": "f8161359-a821-4b47-d89a-5776fdda90dd"
      },
      "outputs": [
        {
          "data": {
            "text/plain": [
              "<Axes: >"
            ]
          },
          "execution_count": 5,
          "metadata": {},
          "output_type": "execute_result"
        },
        {
          "data": {
            "image/png": "[encoded data removed]",
            "text/plain": [
              "<Figure size 640x480 with 1 Axes>"
            ]
          },
          "metadata": {},
          "output_type": "display_data"
        }
      ],
      "source": [
        "# pie plot of class column\n",
        "p_attr = df['class']\n",
        "group_pie_plot(p_attr)"
      ]
    },
    {
      "cell_type": "code",
      "execution_count": 6,
      "id": "cdee2070",
      "metadata": {
        "colab": {
          "base_uri": "https://localhost:8080/",
          "height": 628
        },
        "id": "cdee2070",
        "outputId": "83c2d214-0b22-4a28-a244-21d1f56e00fd"
      },
      "outputs": [
        {
          "data": {
            "text/plain": [
              "<Axes: xlabel='sex', ylabel='Probability'>"
            ]
          },
          "execution_count": 6,
          "metadata": {},
          "output_type": "execute_result"
        },
        {
          "data": {
            "image/png": "[encoded data removed]",
            "text/plain": [
              "<Figure size 640x480 with 1 Axes>"
            ]
          },
          "metadata": {},
          "output_type": "display_data"
        }
      ],
      "source": [
        "# Histogram of sex with class as hue\n",
        "histogram_plot(group_a, df['class'])"
      ]
    },
    {
      "cell_type": "markdown",
      "id": "8927bd6d",
      "metadata": {
        "id": "8927bd6d"
      },
      "source": [
        "## **Preprocess data and Train a model**"
      ]
    },
    {
      "cell_type": "code",
      "execution_count": 8,
      "id": "a2f265df",
      "metadata": {
        "id": "a2f265df"
      },
      "outputs": [],
      "source": [
        "from sklearn.model_selection import train_test_split\n",
        "import matplotlib.pyplot as plt"
      ]
    },
    {
      "cell_type": "code",
      "execution_count": 9,
      "id": "db103f50",
      "metadata": {
        "id": "db103f50"
      },
      "outputs": [],
      "source": [
        "X = df.iloc[:,:-1].values\n",
        "y = df.iloc[:,-1].values\n",
        "\n",
        "data = [X, y, group_a, group_b]\n",
        "\n",
        "# Train test split\n",
        "dataset = train_test_split(*data, test_size=0.2, shuffle=True)\n",
        "train_data = dataset[::2]\n",
        "test_data = dataset[1::2]"
      ]
    },
    {
      "cell_type": "code",
      "execution_count": 10,
      "id": "9985edc9",
      "metadata": {
        "id": "9985edc9"
      },
      "outputs": [],
      "source": [
        "from sklearn.cluster import KMeans\n",
        "\n",
        "ks = range(1, 8)\n",
        "inertias = []\n",
        "X_train, _, group_a_train, group_b_train = train_data\n",
        "\n",
        "for k in ks:\n",
        "    # create a KMeans instance with k clusters: model\n",
        "    model = KMeans(n_clusters = k)\n",
        "    \n",
        "    # fit model to samples\n",
        "    model.fit(X_train)\n",
        "    \n",
        "    # append the inertia to the list of inertias\n",
        "    inertias.append(model.inertia_)"
      ]
    },
    {
      "cell_type": "code",
      "execution_count": 11,
      "id": "fae02105",
      "metadata": {
        "colab": {
          "base_uri": "https://localhost:8080/",
          "height": 474
        },
        "id": "fae02105",
        "outputId": "926e31c3-6c04-4c62-8aad-56bfd469c858"
      },
      "outputs": [
        {
          "data": {
            "image/png": "[encoded data removed]",
            "text/plain": [
              "<Figure size 640x480 with 1 Axes>"
            ]
          },
          "metadata": {},
          "output_type": "display_data"
        }
      ],
      "source": [
        "# Plot ks vs inertias\n",
        "plt.plot(ks, inertias, '-o')\n",
        "plt.xlabel('Number of Clusters, k')\n",
        "plt.ylabel('Inertia')\n",
        "plt.xticks(ks)\n",
        "plt.show()"
      ]
    },
    {
      "cell_type": "code",
      "execution_count": 12,
      "id": "10815cd6",
      "metadata": {
        "id": "10815cd6"
      },
      "outputs": [],
      "source": [
        "# we choose to use 4 clusters\n",
        "model = KMeans(n_clusters = 4)\n",
        "model.fit(X_train)\n",
        "\n",
        "# test data\n",
        "X, _, group_a, group_b = test_data\n",
        "\n",
        "# predict\n",
        "y_pred = model.predict(X)"
      ]
    },
    {
      "cell_type": "markdown",
      "id": "d7ccf470",
      "metadata": {
        "id": "d7ccf470"
      },
      "source": [
        "## **Measure bias**"
      ]
    },
    {
      "cell_type": "code",
      "execution_count": 13,
      "id": "145b7e7e",
      "metadata": {
        "id": "145b7e7e"
      },
      "outputs": [],
      "source": [
        "# imports\n",
        "from holisticai.bias.plots import frequency_matrix_plot\n",
        "from holisticai.bias.metrics import cluster_balance\n",
        "from holisticai.bias.metrics import min_cluster_ratio"
      ]
    },
    {
      "cell_type": "code",
      "execution_count": 14,
      "id": "0a6d82a0",
      "metadata": {
        "id": "0a6d82a0"
      },
      "outputs": [],
      "source": [
        "# set up vectors for measuring bias [we consider sex and race]\n",
        "p_attr_sex = group_a.replace({\"Male\": 1, \"Female\": 0})\n",
        "y_pred = model.predict(X)"
      ]
    },
    {
      "cell_type": "code",
      "execution_count": 15,
      "id": "e8981343",
      "metadata": {
        "colab": {
          "base_uri": "https://localhost:8080/",
          "height": 524
        },
        "id": "e8981343",
        "outputId": "e17bc305-31c8-409a-e5ff-0dfc89933f61"
      },
      "outputs": [
        {
          "data": {
            "text/plain": [
              "<Axes: xlabel='Class', ylabel='Group'>"
            ]
          },
          "execution_count": 15,
          "metadata": {},
          "output_type": "execute_result"
        },
        {
          "data": {
            "image/png": "[encoded data removed]",
            "text/plain": [
              "<Figure size 640x480 with 2 Axes>"
            ]
          },
          "metadata": {},
          "output_type": "display_data"
        }
      ],
      "source": [
        "# probability for each gender and class\n",
        "frequency_matrix_plot(p_attr_sex, y_pred, normalize='group')"
      ]
    },
    {
      "cell_type": "markdown",
      "id": "10e66dd9",
      "metadata": {
        "id": "10e66dd9"
      },
      "source": [
        "The clustering is quite balanced in terms of gender representations."
      ]
    },
    {
      "cell_type": "code",
      "execution_count": 17,
      "id": "4de6cfee",
      "metadata": {
        "colab": {
          "base_uri": "https://localhost:8080/"
        },
        "id": "4de6cfee",
        "outputId": "b99eaf55-5ab3-4e8c-88c2-656e3503e7e1"
      },
      "outputs": [
        {
          "data": {
            "text/plain": [
              "0.9043094735509389"
            ]
          },
          "execution_count": 17,
          "metadata": {},
          "output_type": "execute_result"
        }
      ],
      "source": [
        "cluster_balance(group_a, group_b, y_pred)"
      ]
    },
    {
      "cell_type": "markdown",
      "id": "a2a73129",
      "metadata": {
        "id": "a2a73129"
      },
      "source": [
        "The above metric reinforces the clustering is balanced in the sense of each group having similar representation in clusters to overall. The ideal value for this metric is 1."
      ]
    },
    {
      "cell_type": "markdown",
      "id": "69f8b686",
      "metadata": {
        "id": "69f8b686"
      },
      "source": [
        "### Batch computation"
      ]
    },
    {
      "cell_type": "code",
      "execution_count": 19,
      "id": "4b1e9048",
      "metadata": {
        "id": "4b1e9048"
      },
      "outputs": [],
      "source": [
        "from holisticai.bias.metrics import clustering_bias_metrics"
      ]
    },
    {
      "cell_type": "code",
      "execution_count": 23,
      "id": "bbb7e6ee",
      "metadata": {
        "id": "bbb7e6ee"
      },
      "outputs": [],
      "source": [
        "centroids = model.cluster_centers_\n",
        "data = X"
      ]
    },
    {
      "cell_type": "code",
      "execution_count": 24,
      "id": "1401e2bb",
      "metadata": {
        "colab": {
          "base_uri": "https://localhost:8080/",
          "height": 269
        },
        "id": "1401e2bb",
        "outputId": "ce309aef-f16e-4678-ecc6-2f303ef0f98a"
      },
      "outputs": [
        {
          "data": {
            "text/html": [
              "<div>\n",
              "<style scoped>\n",
              "    .dataframe tbody tr th:only-of-type {\n",
              "        vertical-align: middle;\n",
              "    }\n",
              "\n",
              "    .dataframe tbody tr th {\n",
              "        vertical-align: top;\n",
              "    }\n",
              "\n",
              "    .dataframe thead th {\n",
              "        text-align: right;\n",
              "    }\n",
              "</style>\n",
              "<table border=\"1\" class=\"dataframe\">\n",
              "  <thead>\n",
              "    <tr style=\"text-align: right;\">\n",
              "      <th></th>\n",
              "      <th>Value</th>\n",
              "      <th>Reference</th>\n",
              "    </tr>\n",
              "    <tr>\n",
              "      <th>Metric</th>\n",
              "      <th></th>\n",
              "      <th></th>\n",
              "    </tr>\n",
              "  </thead>\n",
              "  <tbody>\n",
              "    <tr>\n",
              "      <th>Cluster Balance</th>\n",
              "      <td>0.904309</td>\n",
              "      <td>1</td>\n",
              "    </tr>\n",
              "    <tr>\n",
              "      <th>Minimum Cluster Ratio</th>\n",
              "      <td>0.437131</td>\n",
              "      <td>1</td>\n",
              "    </tr>\n",
              "    <tr>\n",
              "      <th>Cluster Distribution Total Variation</th>\n",
              "      <td>0.030041</td>\n",
              "      <td>0</td>\n",
              "    </tr>\n",
              "    <tr>\n",
              "      <th>Cluster Distribution KL Div</th>\n",
              "      <td>0.002852</td>\n",
              "      <td>0</td>\n",
              "    </tr>\n",
              "    <tr>\n",
              "      <th>Social Fairness Ratio</th>\n",
              "      <td>0.969357</td>\n",
              "      <td>1</td>\n",
              "    </tr>\n",
              "    <tr>\n",
              "      <th>Silhouette Difference</th>\n",
              "      <td>0.003731</td>\n",
              "      <td>0</td>\n",
              "    </tr>\n",
              "  </tbody>\n",
              "</table>\n",
              "</div>"
            ],
            "text/plain": [
              "                                         Value  Reference\n",
              "Metric                                                   \n",
              "Cluster Balance                       0.904309          1\n",
              "Minimum Cluster Ratio                 0.437131          1\n",
              "Cluster Distribution Total Variation  0.030041          0\n",
              "Cluster Distribution KL Div           0.002852          0\n",
              "Social Fairness Ratio                 0.969357          1\n",
              "Silhouette Difference                 0.003731          0"
            ]
          },
          "execution_count": 24,
          "metadata": {},
          "output_type": "execute_result"
        }
      ],
      "source": [
        "clustering_bias_metrics(group_a, group_b, y_pred, data = data, centroids = centroids, metric_type = 'equal_outcome')"
      ]
    },
    {
      "cell_type": "markdown",
      "id": "904c6b04",
      "metadata": {
        "id": "904c6b04"
      },
      "source": [
        "The above metrics hint that the computed clustering **not** biased in terms of sex attribute."
      ]
    }
  ],
  "metadata": {
    "colab": {
      "provenance": []
    },
    "kernelspec": {
      "display_name": "Python 3.9.12 ('metrics')",
      "language": "python",
      "name": "python3"
    },
    "language_info": {
      "codemirror_mode": {
        "name": "ipython",
        "version": 3
      },
      "file_extension": ".py",
      "mimetype": "text/x-python",
      "name": "python",
      "nbconvert_exporter": "python",
      "pygments_lexer": "ipython3",
      "version": "3.9.8"
    },
    "vscode": {
      "interpreter": {
        "hash": "9ce100595ae63371127da51ea64be910b7c4b0de39dc50c38822dd5588773933"
      }
    }
  },
  "nbformat": 4,
  "nbformat_minor": 5
}
