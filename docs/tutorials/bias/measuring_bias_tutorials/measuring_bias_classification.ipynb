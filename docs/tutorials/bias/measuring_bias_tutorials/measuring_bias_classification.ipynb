{
  "cells": [
    {
      "cell_type": "markdown",
      "metadata": {
        "id": "pFKF6N69kCay"
      },
      "source": [
        "# **Measuring Bias in classification**\n"
      ]
    },
    {
      "cell_type": "markdown",
      "metadata": {
        "id": "H4wgoeXalewC"
      },
      "source": [
        "This notebook is a tutorial on auditing bias within a binary classification task. We will use the holisticai library both in the **data exploration** and **measure bias** sections, introducing some of the functions we have created to help study algorithmic bias.\n",
        "\n",
        "The sections are organised as follows :\n",
        "1. Load the data : we load the law school dataset as a pandas DataFrame\n",
        "2. Data Exploration : some preliminary analysis of the data\n",
        "3. Train a Model : we train a simple logistic regression model (sklearn)\n",
        "4. Measure Bias : we compute a few bias metrics, and comment on their meaning"
      ]
    },
    {
      "cell_type": "markdown",
      "metadata": {
        "id": "-nYt5_h77QGN"
      },
      "source": [
        "## **Load the data**"
      ]
    },
    {
      "cell_type": "markdown",
      "metadata": {
        "id": "NUVHPnd6nyFg"
      },
      "source": [
        "First of all, we need to install the required packages to perform our bias analysis, in this case we will use the `holisticai` package, this library can be installed by running the following command:"
      ]
    },
    {
      "cell_type": "code",
      "execution_count": 1,
      "metadata": {
        "colab": {
          "base_uri": "https://localhost:8080/"
        },
        "id": "zRHBAtekn2bg",
        "outputId": "b8d4a54a-c0d9-4b09-83fd-d0317a38ab1e"
      },
      "outputs": [
        {
          "name": "stdout",
          "output_type": "stream",
          "text": [
            "Requirement already satisfied: holisticai in /home/cristian/miniconda3/envs/metricspy310/lib/python3.10/site-packages (0.6.0)\n",
            "Requirement already satisfied: scikit-learn>=1.0.2 in /home/cristian/miniconda3/envs/metricspy310/lib/python3.10/site-packages (from holisticai) (1.2.2)\n",
            "Requirement already satisfied: numpy>=1.17.3 in /home/cristian/miniconda3/envs/metricspy310/lib/python3.10/site-packages (from scikit-learn>=1.0.2->holisticai) (1.24.4)\n",
            "Requirement already satisfied: scipy>=1.3.2 in /home/cristian/miniconda3/envs/metricspy310/lib/python3.10/site-packages (from scikit-learn>=1.0.2->holisticai) (1.9.3)\n",
            "Requirement already satisfied: joblib>=1.1.1 in /home/cristian/miniconda3/envs/metricspy310/lib/python3.10/site-packages (from scikit-learn>=1.0.2->holisticai) (1.2.0)\n",
            "Requirement already satisfied: threadpoolctl>=2.0.0 in /home/cristian/miniconda3/envs/metricspy310/lib/python3.10/site-packages (from scikit-learn>=1.0.2->holisticai) (3.1.0)\n"
          ]
        }
      ],
      "source": [
        "!pip install holisticai"
      ]
    },
    {
      "cell_type": "code",
      "execution_count": 2,
      "metadata": {},
      "outputs": [],
      "source": [
        "import sys\n",
        "sys.path.insert(0,\"/mnt/d/holisticai/repos/holisticai\")"
      ]
    },
    {
      "cell_type": "code",
      "execution_count": 3,
      "metadata": {
        "id": "KgfZWXdy1REj"
      },
      "outputs": [],
      "source": [
        "# Imports\n",
        "import numpy as np\n",
        "import pandas as pd\n",
        "import warnings\n",
        "warnings.filterwarnings(\"ignore\")"
      ]
    },
    {
      "cell_type": "markdown",
      "metadata": {
        "id": "fn78Hu7tlewF"
      },
      "source": [
        "We host a few example datasets on the holisticai library for quick loading and experimentation. Here we load and use the Law School dataset. The goal of this dataset is the prediction of the binary attribute 'bar' (whether a student passes the law school bar). The protected attributes are race and gender. We pay special attention to race in this case, because preliminary exploration hints there is strong inequality on that sensitive attribute."
      ]
    },
    {
      "cell_type": "code",
      "execution_count": 4,
      "metadata": {
        "colab": {
          "base_uri": "https://localhost:8080/",
          "height": 424
        },
        "id": "uSVvkH4YlewF",
        "outputId": "b3ee2742-aea0-4eaf-b29a-da328126c36e",
        "scrolled": true
      },
      "outputs": [
        {
          "data": {
            "text/html": [
              "<div>\n",
              "<style scoped>\n",
              "    .dataframe tbody tr th:only-of-type {\n",
              "        vertical-align: middle;\n",
              "    }\n",
              "\n",
              "    .dataframe tbody tr th {\n",
              "        vertical-align: top;\n",
              "    }\n",
              "\n",
              "    .dataframe thead th {\n",
              "        text-align: right;\n",
              "    }\n",
              "</style>\n",
              "<table border=\"1\" class=\"dataframe\">\n",
              "  <thead>\n",
              "    <tr style=\"text-align: right;\">\n",
              "      <th></th>\n",
              "      <th>age</th>\n",
              "      <th>decile1</th>\n",
              "      <th>decile3</th>\n",
              "      <th>fam_inc</th>\n",
              "      <th>lsat</th>\n",
              "      <th>ugpa</th>\n",
              "      <th>gender</th>\n",
              "      <th>race1</th>\n",
              "      <th>cluster</th>\n",
              "      <th>fulltime</th>\n",
              "      <th>bar</th>\n",
              "      <th>ugpagt3</th>\n",
              "    </tr>\n",
              "  </thead>\n",
              "  <tbody>\n",
              "    <tr>\n",
              "      <th>0</th>\n",
              "      <td>62.0</td>\n",
              "      <td>10.0</td>\n",
              "      <td>10.0</td>\n",
              "      <td>5.0</td>\n",
              "      <td>44.0</td>\n",
              "      <td>3.5</td>\n",
              "      <td>female</td>\n",
              "      <td>white</td>\n",
              "      <td>1</td>\n",
              "      <td>1</td>\n",
              "      <td>TRUE</td>\n",
              "      <td>1.0</td>\n",
              "    </tr>\n",
              "    <tr>\n",
              "      <th>1</th>\n",
              "      <td>62.0</td>\n",
              "      <td>5.0</td>\n",
              "      <td>4.0</td>\n",
              "      <td>4.0</td>\n",
              "      <td>29.0</td>\n",
              "      <td>3.5</td>\n",
              "      <td>female</td>\n",
              "      <td>white</td>\n",
              "      <td>2</td>\n",
              "      <td>1</td>\n",
              "      <td>TRUE</td>\n",
              "      <td>1.0</td>\n",
              "    </tr>\n",
              "    <tr>\n",
              "      <th>2</th>\n",
              "      <td>61.0</td>\n",
              "      <td>8.0</td>\n",
              "      <td>7.0</td>\n",
              "      <td>3.0</td>\n",
              "      <td>37.0</td>\n",
              "      <td>3.4</td>\n",
              "      <td>male</td>\n",
              "      <td>white</td>\n",
              "      <td>1</td>\n",
              "      <td>1</td>\n",
              "      <td>TRUE</td>\n",
              "      <td>1.0</td>\n",
              "    </tr>\n",
              "    <tr>\n",
              "      <th>3</th>\n",
              "      <td>60.0</td>\n",
              "      <td>8.0</td>\n",
              "      <td>7.0</td>\n",
              "      <td>4.0</td>\n",
              "      <td>43.0</td>\n",
              "      <td>3.3</td>\n",
              "      <td>female</td>\n",
              "      <td>white</td>\n",
              "      <td>1</td>\n",
              "      <td>1</td>\n",
              "      <td>TRUE</td>\n",
              "      <td>1.0</td>\n",
              "    </tr>\n",
              "    <tr>\n",
              "      <th>4</th>\n",
              "      <td>57.0</td>\n",
              "      <td>3.0</td>\n",
              "      <td>2.0</td>\n",
              "      <td>4.0</td>\n",
              "      <td>41.0</td>\n",
              "      <td>3.3</td>\n",
              "      <td>female</td>\n",
              "      <td>white</td>\n",
              "      <td>4</td>\n",
              "      <td>1</td>\n",
              "      <td>TRUE</td>\n",
              "      <td>1.0</td>\n",
              "    </tr>\n",
              "    <tr>\n",
              "      <th>...</th>\n",
              "      <td>...</td>\n",
              "      <td>...</td>\n",
              "      <td>...</td>\n",
              "      <td>...</td>\n",
              "      <td>...</td>\n",
              "      <td>...</td>\n",
              "      <td>...</td>\n",
              "      <td>...</td>\n",
              "      <td>...</td>\n",
              "      <td>...</td>\n",
              "      <td>...</td>\n",
              "      <td>...</td>\n",
              "    </tr>\n",
              "    <tr>\n",
              "      <th>20795</th>\n",
              "      <td>60.0</td>\n",
              "      <td>9.0</td>\n",
              "      <td>8.0</td>\n",
              "      <td>4.0</td>\n",
              "      <td>42.0</td>\n",
              "      <td>3.0</td>\n",
              "      <td>male</td>\n",
              "      <td>white</td>\n",
              "      <td>5</td>\n",
              "      <td>1</td>\n",
              "      <td>TRUE</td>\n",
              "      <td>0.0</td>\n",
              "    </tr>\n",
              "    <tr>\n",
              "      <th>20796</th>\n",
              "      <td>61.0</td>\n",
              "      <td>4.0</td>\n",
              "      <td>9.0</td>\n",
              "      <td>4.0</td>\n",
              "      <td>29.5</td>\n",
              "      <td>3.5</td>\n",
              "      <td>male</td>\n",
              "      <td>white</td>\n",
              "      <td>3</td>\n",
              "      <td>1</td>\n",
              "      <td>TRUE</td>\n",
              "      <td>1.0</td>\n",
              "    </tr>\n",
              "    <tr>\n",
              "      <th>20797</th>\n",
              "      <td>62.0</td>\n",
              "      <td>1.0</td>\n",
              "      <td>1.0</td>\n",
              "      <td>3.0</td>\n",
              "      <td>33.0</td>\n",
              "      <td>3.1</td>\n",
              "      <td>male</td>\n",
              "      <td>non-white</td>\n",
              "      <td>3</td>\n",
              "      <td>1</td>\n",
              "      <td>FALSE</td>\n",
              "      <td>1.0</td>\n",
              "    </tr>\n",
              "    <tr>\n",
              "      <th>20798</th>\n",
              "      <td>65.0</td>\n",
              "      <td>4.0</td>\n",
              "      <td>5.0</td>\n",
              "      <td>3.0</td>\n",
              "      <td>32.0</td>\n",
              "      <td>3.0</td>\n",
              "      <td>male</td>\n",
              "      <td>white</td>\n",
              "      <td>3</td>\n",
              "      <td>2</td>\n",
              "      <td>TRUE</td>\n",
              "      <td>0.0</td>\n",
              "    </tr>\n",
              "    <tr>\n",
              "      <th>20799</th>\n",
              "      <td>60.0</td>\n",
              "      <td>9.0</td>\n",
              "      <td>3.0</td>\n",
              "      <td>3.0</td>\n",
              "      <td>36.0</td>\n",
              "      <td>3.2</td>\n",
              "      <td>male</td>\n",
              "      <td>non-white</td>\n",
              "      <td>4</td>\n",
              "      <td>1</td>\n",
              "      <td>TRUE</td>\n",
              "      <td>1.0</td>\n",
              "    </tr>\n",
              "  </tbody>\n",
              "</table>\n",
              "<p>20800 rows × 12 columns</p>\n",
              "</div>"
            ],
            "text/plain": [
              "        age  decile1  decile3  fam_inc  lsat  ugpa  gender      race1 cluster  \\\n",
              "0      62.0     10.0     10.0      5.0  44.0   3.5  female      white       1   \n",
              "1      62.0      5.0      4.0      4.0  29.0   3.5  female      white       2   \n",
              "2      61.0      8.0      7.0      3.0  37.0   3.4    male      white       1   \n",
              "3      60.0      8.0      7.0      4.0  43.0   3.3  female      white       1   \n",
              "4      57.0      3.0      2.0      4.0  41.0   3.3  female      white       4   \n",
              "...     ...      ...      ...      ...   ...   ...     ...        ...     ...   \n",
              "20795  60.0      9.0      8.0      4.0  42.0   3.0    male      white       5   \n",
              "20796  61.0      4.0      9.0      4.0  29.5   3.5    male      white       3   \n",
              "20797  62.0      1.0      1.0      3.0  33.0   3.1    male  non-white       3   \n",
              "20798  65.0      4.0      5.0      3.0  32.0   3.0    male      white       3   \n",
              "20799  60.0      9.0      3.0      3.0  36.0   3.2    male  non-white       4   \n",
              "\n",
              "      fulltime    bar  ugpagt3  \n",
              "0            1   TRUE      1.0  \n",
              "1            1   TRUE      1.0  \n",
              "2            1   TRUE      1.0  \n",
              "3            1   TRUE      1.0  \n",
              "4            1   TRUE      1.0  \n",
              "...        ...    ...      ...  \n",
              "20795        1   TRUE      0.0  \n",
              "20796        1   TRUE      1.0  \n",
              "20797        1  FALSE      1.0  \n",
              "20798        2   TRUE      0.0  \n",
              "20799        1   TRUE      1.0  \n",
              "\n",
              "[20800 rows x 12 columns]"
            ]
          },
          "execution_count": 4,
          "metadata": {},
          "output_type": "execute_result"
        }
      ],
      "source": [
        "# Get data\n",
        "from holisticai.datasets import load_law_school\n",
        "df = load_law_school()['frame']\n",
        "df"
      ]
    },
    {
      "cell_type": "markdown",
      "metadata": {
        "id": "TajqKuT6lewG"
      },
      "source": [
        "## **Data Exploration**"
      ]
    },
    {
      "cell_type": "markdown",
      "metadata": {
        "id": "Xr5I_C2tlewH"
      },
      "source": [
        "We import some of the holisticai plotters for quick exploration of the data."
      ]
    },
    {
      "cell_type": "code",
      "execution_count": 5,
      "metadata": {
        "id": "A_mIRR-KlewI"
      },
      "outputs": [],
      "source": [
        "from holisticai.bias.plots import group_pie_plot, frequency_plot"
      ]
    },
    {
      "cell_type": "code",
      "execution_count": 6,
      "metadata": {
        "id": "tFDG_Yo1lewJ"
      },
      "outputs": [],
      "source": [
        "p_attr = df['race1'] # protected attribute (race)\n",
        "y = df['bar']        # binary label vector"
      ]
    },
    {
      "cell_type": "code",
      "execution_count": 7,
      "metadata": {
        "colab": {
          "base_uri": "https://localhost:8080/",
          "height": 472
        },
        "id": "PDnM1CxslewJ",
        "outputId": "c9d1a608-d67b-4fee-a300-8ae399970222"
      },
      "outputs": [
        {
          "data": {
            "text/plain": [
              "<Axes: >"
            ]
          },
          "execution_count": 7,
          "metadata": {},
          "output_type": "execute_result"
        },
        {
          "data": {
            "image/png": "[encoded data removed]",
            "text/plain": [
              "<Figure size 640x480 with 1 Axes>"
            ]
          },
          "metadata": {},
          "output_type": "display_data"
        }
      ],
      "source": [
        "group_pie_plot(p_attr)"
      ]
    },
    {
      "cell_type": "markdown",
      "metadata": {
        "id": "wtG3AQdxlewK"
      },
      "source": [
        "The proportion of white people in law school is very high, allready we observe there is a big representation issue."
      ]
    },
    {
      "cell_type": "code",
      "execution_count": 8,
      "metadata": {
        "colab": {
          "base_uri": "https://localhost:8080/",
          "height": 573
        },
        "id": "ggx_wszPlewL",
        "outputId": "8409e78e-bbd0-48d0-c5cd-b048d86930bd"
      },
      "outputs": [
        {
          "data": {
            "text/plain": [
              "<Axes: xlabel='Group', ylabel='Frequency'>"
            ]
          },
          "execution_count": 8,
          "metadata": {},
          "output_type": "execute_result"
        },
        {
          "data": {
            "image/png": "[encoded data removed]",
            "text/plain": [
              "<Figure size 640x480 with 1 Axes>"
            ]
          },
          "metadata": {},
          "output_type": "display_data"
        }
      ],
      "source": [
        "frequency_plot(p_attr, y)"
      ]
    },
    {
      "cell_type": "markdown",
      "metadata": {
        "id": "mUAw1GV7lewM"
      },
      "source": [
        "We also observe that the white group has a much higher pass rate (within the dataset) than the non-white group."
      ]
    },
    {
      "cell_type": "markdown",
      "metadata": {
        "id": "8FuyOc0ZlewM"
      },
      "source": [
        "## **Train a model**"
      ]
    },
    {
      "cell_type": "markdown",
      "metadata": {
        "id": "xV2K1AYdlewN"
      },
      "source": [
        "encode our dataframe categorical columns"
      ]
    },
    {
      "cell_type": "code",
      "execution_count": 9,
      "metadata": {
        "id": "LHf6JDs7lewO"
      },
      "outputs": [],
      "source": [
        "# simple preprocessing before training.\n",
        "df_enc = df.copy()\n",
        "df_enc['bar'] = df_enc['bar'].replace({'FALSE':0, 'TRUE':1})"
      ]
    },
    {
      "cell_type": "markdown",
      "metadata": {
        "id": "13-DFD9flewO"
      },
      "source": [
        "\n",
        "Here we train a Logistic Regression classifier."
      ]
    },
    {
      "cell_type": "code",
      "execution_count": 10,
      "metadata": {
        "id": "fo4na9kCw6bN"
      },
      "outputs": [],
      "source": [
        "from sklearn.model_selection import train_test_split\n",
        "\n",
        "# split features and target, then train test split\n",
        "X = df_enc.drop(columns=['bar', 'ugpagt3'])\n",
        "y = df_enc['bar']\n",
        "X_train, X_test, y_train, y_test = train_test_split(X, y, test_size=0.3, random_state=42)"
      ]
    },
    {
      "cell_type": "code",
      "execution_count": 11,
      "metadata": {
        "id": "aeuFMgXwlewP"
      },
      "outputs": [],
      "source": [
        "from sklearn.linear_model import LogisticRegression\n",
        "from sklearn.preprocessing import StandardScaler\n",
        "\n",
        "# train a model, do not forget to standard scale data\n",
        "scaler = StandardScaler()\n",
        "X_train_t = scaler.fit_transform(X_train.drop(columns=['race1', 'gender']))\n",
        "LR = LogisticRegression(random_state=42, max_iter=500)\n",
        "LR.fit(X_train_t, y_train)\n",
        "X_test_t = scaler.transform(X_test.drop(columns=['race1', 'gender']))\n",
        "y_pred = LR.predict(X_test_t)"
      ]
    },
    {
      "cell_type": "code",
      "execution_count": 12,
      "metadata": {
        "id": "P_2Sp9bplewP"
      },
      "outputs": [
        {
          "data": {
            "text/html": [
              "<div>\n",
              "<style scoped>\n",
              "    .dataframe tbody tr th:only-of-type {\n",
              "        vertical-align: middle;\n",
              "    }\n",
              "\n",
              "    .dataframe tbody tr th {\n",
              "        vertical-align: top;\n",
              "    }\n",
              "\n",
              "    .dataframe thead th {\n",
              "        text-align: right;\n",
              "    }\n",
              "</style>\n",
              "<table border=\"1\" class=\"dataframe\">\n",
              "  <thead>\n",
              "    <tr style=\"text-align: right;\">\n",
              "      <th></th>\n",
              "      <th>Value</th>\n",
              "      <th>Reference</th>\n",
              "    </tr>\n",
              "    <tr>\n",
              "      <th>Metric</th>\n",
              "      <th></th>\n",
              "      <th></th>\n",
              "    </tr>\n",
              "  </thead>\n",
              "  <tbody>\n",
              "    <tr>\n",
              "      <th>Accuracy</th>\n",
              "      <td>0.902724</td>\n",
              "      <td>1</td>\n",
              "    </tr>\n",
              "    <tr>\n",
              "      <th>Balanced Accuracy</th>\n",
              "      <td>0.775417</td>\n",
              "      <td>1</td>\n",
              "    </tr>\n",
              "    <tr>\n",
              "      <th>Precision</th>\n",
              "      <td>0.984372</td>\n",
              "      <td>1</td>\n",
              "    </tr>\n",
              "    <tr>\n",
              "      <th>Recall</th>\n",
              "      <td>0.913333</td>\n",
              "      <td>1</td>\n",
              "    </tr>\n",
              "    <tr>\n",
              "      <th>F1-Score</th>\n",
              "      <td>0.947523</td>\n",
              "      <td>1</td>\n",
              "    </tr>\n",
              "  </tbody>\n",
              "</table>\n",
              "</div>"
            ],
            "text/plain": [
              "                      Value  Reference\n",
              "Metric                                \n",
              "Accuracy           0.902724          1\n",
              "Balanced Accuracy  0.775417          1\n",
              "Precision          0.984372          1\n",
              "Recall             0.913333          1\n",
              "F1-Score           0.947523          1"
            ]
          },
          "execution_count": 12,
          "metadata": {},
          "output_type": "execute_result"
        }
      ],
      "source": [
        "from holisticai.efficacy.metrics import classification_efficacy_metrics\n",
        "\n",
        "classification_efficacy_metrics(y_pred, y_test)"
      ]
    },
    {
      "cell_type": "markdown",
      "metadata": {
        "id": "P9ydT_sulewQ"
      },
      "source": [
        "## **Measure bias**"
      ]
    },
    {
      "cell_type": "markdown",
      "metadata": {
        "id": "hHZ1fY-TlewR"
      },
      "source": [
        "The holisticai.bias.metrics module contains a range of metrics useful in evaluating the fairness of algorithmic decisions. In this case we use only a few of the metrics relevant to a classification task."
      ]
    },
    {
      "cell_type": "code",
      "execution_count": 13,
      "metadata": {
        "id": "JWaKxmVMlewS"
      },
      "outputs": [],
      "source": [
        "# import some bias metrics\n",
        "from holisticai.bias.metrics import statistical_parity\n",
        "from holisticai.bias.metrics import disparate_impact\n",
        "from holisticai.bias.metrics import accuracy_diff"
      ]
    },
    {
      "cell_type": "code",
      "execution_count": 14,
      "metadata": {
        "id": "qA5WeW0HlewS"
      },
      "outputs": [],
      "source": [
        "# set up groups, prediction array and true (aka target/label) array.\n",
        "group_a = X_test[\"race1\"]=='non-white'  # non-white vector\n",
        "group_b = X_test[\"race1\"]=='white'      # white vector\n",
        "y_pred  = LR.predict(X_test_t)          # prediction vector\n",
        "y_true  = y_test                        # true vector"
      ]
    },
    {
      "cell_type": "code",
      "execution_count": 15,
      "metadata": {
        "colab": {
          "base_uri": "https://localhost:8080/",
          "height": 573
        },
        "id": "uWt4ek-3lewT",
        "outputId": "43401399-c3fb-44a1-b749-d924166b9097"
      },
      "outputs": [
        {
          "data": {
            "text/plain": [
              "<Axes: xlabel='Group', ylabel='Frequency'>"
            ]
          },
          "execution_count": 15,
          "metadata": {},
          "output_type": "execute_result"
        },
        {
          "data": {
            "image/png": "[encoded data removed]",
            "text/plain": [
              "<Figure size 640x480 with 1 Axes>"
            ]
          },
          "metadata": {},
          "output_type": "display_data"
        }
      ],
      "source": [
        "p_attr = X_test[\"race1\"]\n",
        "frequency_plot(p_attr, y_pred)"
      ]
    },
    {
      "cell_type": "code",
      "execution_count": 16,
      "metadata": {
        "colab": {
          "base_uri": "https://localhost:8080/"
        },
        "id": "qZf0wBORlewT",
        "outputId": "af5dfeba-ddb8-42dd-e9dd-ff5864d66164"
      },
      "outputs": [
        {
          "data": {
            "text/plain": [
              "-0.1583838383838384"
            ]
          },
          "execution_count": 16,
          "metadata": {},
          "output_type": "execute_result"
        }
      ],
      "source": [
        "# compute statistical parity\n",
        "statistical_parity(group_a, group_b, y_pred)"
      ]
    },
    {
      "cell_type": "markdown",
      "metadata": {
        "id": "XIsc8Ol7lewU"
      },
      "source": [
        "The statistical parity indicates the difference in success rate between non-white and white groups. In this case it is outside of ranges considered fair (-0.1, 0.1)."
      ]
    },
    {
      "cell_type": "code",
      "execution_count": 17,
      "metadata": {
        "colab": {
          "base_uri": "https://localhost:8080/"
        },
        "id": "qdC3cZzJlewU",
        "outputId": "c3ed706b-9fc0-405f-8c26-a22e50756f02"
      },
      "outputs": [
        {
          "data": {
            "text/plain": [
              "0.8394758394758395"
            ]
          },
          "execution_count": 17,
          "metadata": {},
          "output_type": "execute_result"
        }
      ],
      "source": [
        "# compute disparate impact\n",
        "disparate_impact(group_a, group_b, y_pred)"
      ]
    },
    {
      "cell_type": "markdown",
      "metadata": {
        "id": "Qz7xO94olewU"
      },
      "source": [
        "The disparate impact on the other hand is within the fair range (0.8, 1.2). This shows the importance of considering many different metrics to get a holistic picture of the situation."
      ]
    },
    {
      "cell_type": "code",
      "execution_count": 18,
      "metadata": {
        "colab": {
          "base_uri": "https://localhost:8080/"
        },
        "id": "kz9gl9NQlewV",
        "outputId": "23c67aaf-3ff5-41f5-992f-bccf634e5235"
      },
      "outputs": [
        {
          "data": {
            "text/plain": [
              "-0.12809812409812404"
            ]
          },
          "execution_count": 18,
          "metadata": {},
          "output_type": "execute_result"
        }
      ],
      "source": [
        "# compute accuracy difference\n",
        "accuracy_diff(group_a, group_b, y_pred, y_true)"
      ]
    },
    {
      "cell_type": "markdown",
      "metadata": {
        "id": "HZWfeoEElewV"
      },
      "source": [
        "The above metric is different from the first two in that it also uses the target values, this is an equality of opportunity metric. A value of -0.12 shows that the classifier we trained is less accurate on non-white group than white group. This is expected because of the data imbalance."
      ]
    },
    {
      "cell_type": "code",
      "execution_count": 19,
      "metadata": {
        "colab": {
          "base_uri": "https://localhost:8080/",
          "height": 524
        },
        "id": "xJcVpAU7lewW",
        "outputId": "c43c4068-b6ac-44fe-807b-bb834ecae52a"
      },
      "outputs": [
        {
          "data": {
            "text/plain": [
              "<Axes: xlabel='Group', ylabel='Accuracy'>"
            ]
          },
          "execution_count": 19,
          "metadata": {},
          "output_type": "execute_result"
        },
        {
          "data": {
            "image/png": "[encoded data removed]",
            "text/plain": [
              "<Figure size 640x480 with 1 Axes>"
            ]
          },
          "metadata": {},
          "output_type": "display_data"
        }
      ],
      "source": [
        "from holisticai.bias.plots import accuracy_bar_plot\n",
        "# set up protected attribute\n",
        "p_attr = X_test[\"race1\"]\n",
        "accuracy_bar_plot(p_attr, y_pred, y_true)"
      ]
    },
    {
      "cell_type": "markdown",
      "metadata": {
        "id": "r_j3eJVflewW"
      },
      "source": [
        "The above shows the same result as accuracy_diff metric in plot form."
      ]
    },
    {
      "cell_type": "markdown",
      "metadata": {
        "id": "FgKWWFWOlewX"
      },
      "source": [
        "**Equality of outcome metrics (batch computation)**"
      ]
    },
    {
      "cell_type": "code",
      "execution_count": 20,
      "metadata": {
        "id": "oc4e3BEAlewX"
      },
      "outputs": [],
      "source": [
        "# import function for batch computation\n",
        "from holisticai.bias.metrics import classification_bias_metrics"
      ]
    },
    {
      "cell_type": "code",
      "execution_count": 21,
      "metadata": {
        "colab": {
          "base_uri": "https://localhost:8080/",
          "height": 238
        },
        "id": "TsaiGEVclewX",
        "outputId": "40e5e59c-dad3-45c2-f06e-53bbb68401ce"
      },
      "outputs": [
        {
          "data": {
            "text/html": [
              "<div>\n",
              "<style scoped>\n",
              "    .dataframe tbody tr th:only-of-type {\n",
              "        vertical-align: middle;\n",
              "    }\n",
              "\n",
              "    .dataframe tbody tr th {\n",
              "        vertical-align: top;\n",
              "    }\n",
              "\n",
              "    .dataframe thead th {\n",
              "        text-align: right;\n",
              "    }\n",
              "</style>\n",
              "<table border=\"1\" class=\"dataframe\">\n",
              "  <thead>\n",
              "    <tr style=\"text-align: right;\">\n",
              "      <th></th>\n",
              "      <th>Value</th>\n",
              "      <th>Reference</th>\n",
              "    </tr>\n",
              "    <tr>\n",
              "      <th>Metric</th>\n",
              "      <th></th>\n",
              "      <th></th>\n",
              "    </tr>\n",
              "  </thead>\n",
              "  <tbody>\n",
              "    <tr>\n",
              "      <th>Statistical Parity</th>\n",
              "      <td>-0.158384</td>\n",
              "      <td>0</td>\n",
              "    </tr>\n",
              "    <tr>\n",
              "      <th>Disparate Impact</th>\n",
              "      <td>0.839476</td>\n",
              "      <td>1</td>\n",
              "    </tr>\n",
              "    <tr>\n",
              "      <th>Four Fifths Rule</th>\n",
              "      <td>0.839476</td>\n",
              "      <td>1</td>\n",
              "    </tr>\n",
              "    <tr>\n",
              "      <th>Cohen D</th>\n",
              "      <td>-0.863802</td>\n",
              "      <td>0</td>\n",
              "    </tr>\n",
              "    <tr>\n",
              "      <th>2SD Rule</th>\n",
              "      <td>-23.769452</td>\n",
              "      <td>0</td>\n",
              "    </tr>\n",
              "  </tbody>\n",
              "</table>\n",
              "</div>"
            ],
            "text/plain": [
              "                        Value  Reference\n",
              "Metric                                  \n",
              "Statistical Parity  -0.158384          0\n",
              "Disparate Impact     0.839476          1\n",
              "Four Fifths Rule     0.839476          1\n",
              "Cohen D             -0.863802          0\n",
              "2SD Rule           -23.769452          0"
            ]
          },
          "execution_count": 21,
          "metadata": {},
          "output_type": "execute_result"
        }
      ],
      "source": [
        "classification_bias_metrics(group_a, group_b, y_pred, y_true, metric_type='equal_outcome')"
      ]
    },
    {
      "cell_type": "markdown",
      "metadata": {
        "id": "uSyW3_LSlewY"
      },
      "source": [
        "**Equality of opportunity metrics (batch computation)**"
      ]
    },
    {
      "cell_type": "code",
      "execution_count": 22,
      "metadata": {
        "colab": {
          "base_uri": "https://localhost:8080/",
          "height": 206
        },
        "id": "sUN1a3bllewZ",
        "outputId": "7deeac44-a9b5-4e7c-9fa7-39f0fb48800b"
      },
      "outputs": [
        {
          "data": {
            "text/html": [
              "<div>\n",
              "<style scoped>\n",
              "    .dataframe tbody tr th:only-of-type {\n",
              "        vertical-align: middle;\n",
              "    }\n",
              "\n",
              "    .dataframe tbody tr th {\n",
              "        vertical-align: top;\n",
              "    }\n",
              "\n",
              "    .dataframe thead th {\n",
              "        text-align: right;\n",
              "    }\n",
              "</style>\n",
              "<table border=\"1\" class=\"dataframe\">\n",
              "  <thead>\n",
              "    <tr style=\"text-align: right;\">\n",
              "      <th></th>\n",
              "      <th>Value</th>\n",
              "      <th>Reference</th>\n",
              "    </tr>\n",
              "    <tr>\n",
              "      <th>Metric</th>\n",
              "      <th></th>\n",
              "      <th></th>\n",
              "    </tr>\n",
              "  </thead>\n",
              "  <tbody>\n",
              "    <tr>\n",
              "      <th>Equality of Opportunity Difference</th>\n",
              "      <td>-0.069042</td>\n",
              "      <td>0</td>\n",
              "    </tr>\n",
              "    <tr>\n",
              "      <th>False Positive Rate Difference</th>\n",
              "      <td>-0.344579</td>\n",
              "      <td>0</td>\n",
              "    </tr>\n",
              "    <tr>\n",
              "      <th>Average Odds Difference</th>\n",
              "      <td>-0.206811</td>\n",
              "      <td>0</td>\n",
              "    </tr>\n",
              "    <tr>\n",
              "      <th>Accuracy Difference</th>\n",
              "      <td>-0.128098</td>\n",
              "      <td>0</td>\n",
              "    </tr>\n",
              "  </tbody>\n",
              "</table>\n",
              "</div>"
            ],
            "text/plain": [
              "                                       Value  Reference\n",
              "Metric                                                 \n",
              "Equality of Opportunity Difference -0.069042          0\n",
              "False Positive Rate Difference     -0.344579          0\n",
              "Average Odds Difference            -0.206811          0\n",
              "Accuracy Difference                -0.128098          0"
            ]
          },
          "execution_count": 22,
          "metadata": {},
          "output_type": "execute_result"
        }
      ],
      "source": [
        "classification_bias_metrics(group_a, group_b, y_pred, y_true, metric_type='equal_opportunity')"
      ]
    },
    {
      "cell_type": "markdown",
      "metadata": {
        "id": "tFWRs6EBlewZ"
      },
      "source": [
        "For instance the false positive rate difference of 0.34 hints that white people are more likely to be missclassified as passing the bar than non-whites."
      ]
    },
    {
      "cell_type": "markdown",
      "metadata": {},
      "source": [
        "We can show all group bias metrics by setting 'metric_types' as 'group':"
      ]
    },
    {
      "cell_type": "code",
      "execution_count": 23,
      "metadata": {},
      "outputs": [
        {
          "data": {
            "text/html": [
              "<div>\n",
              "<style scoped>\n",
              "    .dataframe tbody tr th:only-of-type {\n",
              "        vertical-align: middle;\n",
              "    }\n",
              "\n",
              "    .dataframe tbody tr th {\n",
              "        vertical-align: top;\n",
              "    }\n",
              "\n",
              "    .dataframe thead th {\n",
              "        text-align: right;\n",
              "    }\n",
              "</style>\n",
              "<table border=\"1\" class=\"dataframe\">\n",
              "  <thead>\n",
              "    <tr style=\"text-align: right;\">\n",
              "      <th></th>\n",
              "      <th>Value</th>\n",
              "      <th>Reference</th>\n",
              "    </tr>\n",
              "    <tr>\n",
              "      <th>Metric</th>\n",
              "      <th></th>\n",
              "      <th></th>\n",
              "    </tr>\n",
              "  </thead>\n",
              "  <tbody>\n",
              "    <tr>\n",
              "      <th>Statistical Parity</th>\n",
              "      <td>-0.158384</td>\n",
              "      <td>0</td>\n",
              "    </tr>\n",
              "    <tr>\n",
              "      <th>Disparate Impact</th>\n",
              "      <td>0.839476</td>\n",
              "      <td>1</td>\n",
              "    </tr>\n",
              "    <tr>\n",
              "      <th>Four Fifths Rule</th>\n",
              "      <td>0.839476</td>\n",
              "      <td>1</td>\n",
              "    </tr>\n",
              "    <tr>\n",
              "      <th>Cohen D</th>\n",
              "      <td>-0.863802</td>\n",
              "      <td>0</td>\n",
              "    </tr>\n",
              "    <tr>\n",
              "      <th>2SD Rule</th>\n",
              "      <td>-23.769452</td>\n",
              "      <td>0</td>\n",
              "    </tr>\n",
              "    <tr>\n",
              "      <th>Equality of Opportunity Difference</th>\n",
              "      <td>-0.069042</td>\n",
              "      <td>0</td>\n",
              "    </tr>\n",
              "    <tr>\n",
              "      <th>False Positive Rate Difference</th>\n",
              "      <td>-0.344579</td>\n",
              "      <td>0</td>\n",
              "    </tr>\n",
              "    <tr>\n",
              "      <th>Average Odds Difference</th>\n",
              "      <td>-0.206811</td>\n",
              "      <td>0</td>\n",
              "    </tr>\n",
              "    <tr>\n",
              "      <th>Accuracy Difference</th>\n",
              "      <td>-0.128098</td>\n",
              "      <td>0</td>\n",
              "    </tr>\n",
              "  </tbody>\n",
              "</table>\n",
              "</div>"
            ],
            "text/plain": [
              "                                        Value  Reference\n",
              "Metric                                                  \n",
              "Statistical Parity                  -0.158384          0\n",
              "Disparate Impact                     0.839476          1\n",
              "Four Fifths Rule                     0.839476          1\n",
              "Cohen D                             -0.863802          0\n",
              "2SD Rule                           -23.769452          0\n",
              "Equality of Opportunity Difference  -0.069042          0\n",
              "False Positive Rate Difference      -0.344579          0\n",
              "Average Odds Difference             -0.206811          0\n",
              "Accuracy Difference                 -0.128098          0"
            ]
          },
          "execution_count": 23,
          "metadata": {},
          "output_type": "execute_result"
        }
      ],
      "source": [
        "classification_bias_metrics(group_a=group_a, group_b=group_b, y_pred=y_pred, y_true=y_true, metric_type='group')"
      ]
    },
    {
      "cell_type": "markdown",
      "metadata": {},
      "source": [
        "We can show all individual bias metrics by setting 'metric_types' as 'individual'."
      ]
    },
    {
      "cell_type": "code",
      "execution_count": 24,
      "metadata": {},
      "outputs": [
        {
          "data": {
            "text/html": [
              "<div>\n",
              "<style scoped>\n",
              "    .dataframe tbody tr th:only-of-type {\n",
              "        vertical-align: middle;\n",
              "    }\n",
              "\n",
              "    .dataframe tbody tr th {\n",
              "        vertical-align: top;\n",
              "    }\n",
              "\n",
              "    .dataframe thead th {\n",
              "        text-align: right;\n",
              "    }\n",
              "</style>\n",
              "<table border=\"1\" class=\"dataframe\">\n",
              "  <thead>\n",
              "    <tr style=\"text-align: right;\">\n",
              "      <th></th>\n",
              "      <th>Value</th>\n",
              "      <th>Reference</th>\n",
              "    </tr>\n",
              "    <tr>\n",
              "      <th>Metric</th>\n",
              "      <th></th>\n",
              "      <th></th>\n",
              "    </tr>\n",
              "  </thead>\n",
              "  <tbody>\n",
              "    <tr>\n",
              "      <th>Theil Index</th>\n",
              "      <td>0.040939</td>\n",
              "      <td>0</td>\n",
              "    </tr>\n",
              "    <tr>\n",
              "      <th>Generalized Entropy Index</th>\n",
              "      <td>0.040425</td>\n",
              "      <td>0</td>\n",
              "    </tr>\n",
              "    <tr>\n",
              "      <th>Coefficient of Variation</th>\n",
              "      <td>0.402121</td>\n",
              "      <td>0</td>\n",
              "    </tr>\n",
              "    <tr>\n",
              "      <th>Consistency Score</th>\n",
              "      <td>0.979551</td>\n",
              "      <td>1</td>\n",
              "    </tr>\n",
              "  </tbody>\n",
              "</table>\n",
              "</div>"
            ],
            "text/plain": [
              "                              Value  Reference\n",
              "Metric                                        \n",
              "Theil Index                0.040939          0\n",
              "Generalized Entropy Index  0.040425          0\n",
              "Coefficient of Variation   0.402121          0\n",
              "Consistency Score          0.979551          1"
            ]
          },
          "execution_count": 24,
          "metadata": {},
          "output_type": "execute_result"
        }
      ],
      "source": [
        "classification_bias_metrics(y_pred=y_pred, y_true=y_true, X=X_test_t, metric_type='individual')"
      ]
    },
    {
      "cell_type": "markdown",
      "metadata": {},
      "source": [
        "You can pass specific parameters for individual fairness metrics:"
      ]
    },
    {
      "cell_type": "code",
      "execution_count": 26,
      "metadata": {},
      "outputs": [
        {
          "data": {
            "text/html": [
              "<div>\n",
              "<style scoped>\n",
              "    .dataframe tbody tr th:only-of-type {\n",
              "        vertical-align: middle;\n",
              "    }\n",
              "\n",
              "    .dataframe tbody tr th {\n",
              "        vertical-align: top;\n",
              "    }\n",
              "\n",
              "    .dataframe thead th {\n",
              "        text-align: right;\n",
              "    }\n",
              "</style>\n",
              "<table border=\"1\" class=\"dataframe\">\n",
              "  <thead>\n",
              "    <tr style=\"text-align: right;\">\n",
              "      <th></th>\n",
              "      <th>Value</th>\n",
              "      <th>Reference</th>\n",
              "    </tr>\n",
              "    <tr>\n",
              "      <th>Metric</th>\n",
              "      <th></th>\n",
              "      <th></th>\n",
              "    </tr>\n",
              "  </thead>\n",
              "  <tbody>\n",
              "    <tr>\n",
              "      <th>Theil Index</th>\n",
              "      <td>0.040939</td>\n",
              "      <td>0</td>\n",
              "    </tr>\n",
              "    <tr>\n",
              "      <th>Generalized Entropy Index</th>\n",
              "      <td>0.040425</td>\n",
              "      <td>0</td>\n",
              "    </tr>\n",
              "    <tr>\n",
              "      <th>Coefficient of Variation</th>\n",
              "      <td>0.402121</td>\n",
              "      <td>0</td>\n",
              "    </tr>\n",
              "    <tr>\n",
              "      <th>Consistency Score</th>\n",
              "      <td>0.979551</td>\n",
              "      <td>1</td>\n",
              "    </tr>\n",
              "  </tbody>\n",
              "</table>\n",
              "</div>"
            ],
            "text/plain": [
              "                              Value  Reference\n",
              "Metric                                        \n",
              "Theil Index                0.040939          0\n",
              "Generalized Entropy Index  0.040425          0\n",
              "Coefficient of Variation   0.402121          0\n",
              "Consistency Score          0.979551          1"
            ]
          },
          "execution_count": 26,
          "metadata": {},
          "output_type": "execute_result"
        }
      ],
      "source": [
        "individual_kargs = {\n",
        "    'generalized_entropy_index__alpha': 2,\n",
        "    'consistency_score__n_neighbors' : 5\n",
        "}\n",
        "classification_bias_metrics(y_pred=y_pred, y_true=y_true, X=X_test_t, metric_type='individual', **individual_kargs)"
      ]
    }
  ],
  "metadata": {
    "colab": {
      "provenance": []
    },
    "kernelspec": {
      "display_name": "Python 3.8.13 ('torch-nightly')",
      "language": "python",
      "name": "python3"
    },
    "language_info": {
      "codemirror_mode": {
        "name": "ipython",
        "version": 3
      },
      "file_extension": ".py",
      "mimetype": "text/x-python",
      "name": "python",
      "nbconvert_exporter": "python",
      "pygments_lexer": "ipython3",
      "version": "3.10.0"
    },
    "vscode": {
      "interpreter": {
        "hash": "f5fa74478a026ac530ef194e4df855dfb9675779484e20284ae5f690a2266d7b"
      }
    }
  },
  "nbformat": 4,
  "nbformat_minor": 0
}
