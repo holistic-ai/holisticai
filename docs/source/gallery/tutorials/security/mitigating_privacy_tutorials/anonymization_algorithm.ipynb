{
 "cells": [
  {
   "cell_type": "markdown",
   "metadata": {},
   "source": [
    "## Using ML anonymization to defend against attribute inference attacks"
   ]
  },
  {
   "cell_type": "markdown",
   "metadata": {},
   "source": [
    "### Load data"
   ]
  },
  {
   "cell_type": "code",
   "execution_count": 1,
   "metadata": {},
   "outputs": [],
   "source": [
    "import pandas as pd\n",
    "import numpy as np\n",
    "from sklearn.metrics import accuracy_score\n",
    "\n",
    "import warnings\n",
    "# Filter out all warnings\n",
    "warnings.filterwarnings(\"ignore\")"
   ]
  },
  {
   "cell_type": "markdown",
   "metadata": {},
   "source": [
    "#### First of all, we need to import the required packages to perform our privacy analysis and mitigation. You will need to have the `holisticai` package installed on your system, remember that you can install it by running: \n",
    "```bash\n",
    "!pip install holisticai[all]\n",
    "```"
   ]
  },
  {
   "cell_type": "code",
   "execution_count": 27,
   "metadata": {},
   "outputs": [],
   "source": [
    "from sklearn.preprocessing import StandardScaler, OneHotEncoder\n",
    "from sklearn.compose import ColumnTransformer\n",
    "from holisticai.utils import BinaryClassificationProxy\n",
    "from holisticai.security.commons import DataMinimizer\n",
    "from holisticai.security.metrics import classification_privacy_metrics\n",
    "\n",
    "# Identify categorical and numerical features\n",
    "def create_preprocessor(X):\n",
    "    categorical_features = X.select_dtypes(include=['category']).columns\n",
    "    numerical_fatures = X.select_dtypes(exclude=['category']).columns\n",
    "\n",
    "    # Create transformers for numerical and categorical features\n",
    "    numeric_transformer = Pipeline(steps=[('scaler', StandardScaler())])\n",
    "    categorical_transformer = Pipeline(steps=[('onehot', OneHotEncoder(handle_unknown='ignore'))])\n",
    "\n",
    "    # Combine transformers into a preprocessor using ColumnTransformer\n",
    "    return ColumnTransformer(\n",
    "        transformers=[\n",
    "            ('num', numeric_transformer, numerical_fatures),\n",
    "            ('cat', categorical_transformer, categorical_features)\n",
    "    ])\n",
    "\n",
    "def evaluate_privacy(model, train, test):\n",
    "    proxy = BinaryClassificationProxy(predict=model.predict, predict_proba=model.predict_proba, classes=[0, 1])\n",
    "    dmin = DataMinimizer(proxy=proxy)\n",
    "    dmin.fit(train['X'], train['y'])\n",
    "\n",
    "    y_pred_train = proxy.predict(train['X'])\n",
    "    y_pred_test = proxy.predict(test['X'])\n",
    "    y_pred_test_dm = dmin.predict(test['X'])\n",
    "\n",
    "    return classification_privacy_metrics(train['X'], test['X'], train['y'], test['y'], y_pred_train, y_pred_test, y_pred_test_dm, attribute_attack='education')"
   ]
  },
  {
   "cell_type": "markdown",
   "metadata": {},
   "source": [
    "### Train decision tree model"
   ]
  },
  {
   "cell_type": "code",
   "execution_count": 29,
   "metadata": {},
   "outputs": [
    {
     "name": "stdout",
     "output_type": "stream",
     "text": [
      "Base model accuracy:  0.8258706467661692\n"
     ]
    }
   ],
   "source": [
    "from sklearn.tree import DecisionTreeClassifier\n",
    "from holisticai.datasets import load_dataset\n",
    "from sklearn.pipeline import Pipeline\n",
    "\n",
    "dataset = load_dataset('adult', preprocessed=False)\n",
    "dataset['X'] = dataset[\"X\"].drop('fnlwgt', axis=1)\n",
    "train_test = dataset.train_test_split(0.2, random_state=42)\n",
    "train = train_test['train']\n",
    "test = train_test['test']\n",
    "\n",
    "preprocessor = create_preprocessor(train['X'])\n",
    "model = Pipeline(steps=[('preprocessor', preprocessor),\n",
    "                        ('classifier', DecisionTreeClassifier())])\n",
    "\n",
    "model.fit(train['X'], train['y'])\n",
    "\n",
    "y_pred = model.predict(test['X'])\n",
    "y_proba = model.predict_proba(test['X'])\n",
    "\n",
    "print('Base model accuracy: ', model.score(test['X'], test['y']))"
   ]
  },
  {
   "cell_type": "code",
   "execution_count": 30,
   "metadata": {},
   "outputs": [
    {
     "data": {
      "text/html": [
       "<div>\n",
       "<style scoped>\n",
       "    .dataframe tbody tr th:only-of-type {\n",
       "        vertical-align: middle;\n",
       "    }\n",
       "\n",
       "    .dataframe tbody tr th {\n",
       "        vertical-align: top;\n",
       "    }\n",
       "\n",
       "    .dataframe thead th {\n",
       "        text-align: right;\n",
       "    }\n",
       "</style>\n",
       "<table border=\"1\" class=\"dataframe\">\n",
       "  <thead>\n",
       "    <tr style=\"text-align: right;\">\n",
       "      <th></th>\n",
       "      <th>metric</th>\n",
       "      <th>value</th>\n",
       "      <th>reference</th>\n",
       "    </tr>\n",
       "  </thead>\n",
       "  <tbody>\n",
       "    <tr>\n",
       "      <th>0</th>\n",
       "      <td>SHAPr</td>\n",
       "      <td>0.825872</td>\n",
       "      <td>0.0</td>\n",
       "    </tr>\n",
       "    <tr>\n",
       "      <th>1</th>\n",
       "      <td>Data Minimization Accuracy Ratio</td>\n",
       "      <td>1.013156</td>\n",
       "      <td>inf</td>\n",
       "    </tr>\n",
       "    <tr>\n",
       "      <th>2</th>\n",
       "      <td>Attribute Attack Score</td>\n",
       "      <td>0.405970</td>\n",
       "      <td>0.0</td>\n",
       "    </tr>\n",
       "  </tbody>\n",
       "</table>\n",
       "</div>"
      ],
      "text/plain": [
       "                             metric     value  reference\n",
       "0                             SHAPr  0.825872        0.0\n",
       "1  Data Minimization Accuracy Ratio  1.013156        inf\n",
       "2            Attribute Attack Score  0.405970        0.0"
      ]
     },
     "execution_count": 30,
     "metadata": {},
     "output_type": "execute_result"
    }
   ],
   "source": [
    "evaluate_privacy(model, train, test)"
   ]
  },
  {
   "cell_type": "markdown",
   "metadata": {},
   "source": [
    "### Anonymized data. Improving privacy "
   ]
  },
  {
   "cell_type": "code",
   "execution_count": 31,
   "metadata": {},
   "outputs": [],
   "source": [
    "from holisticai.security.mitigation import Anonymize\n",
    "\n",
    "X_train = train['X']\n",
    "y_train = train['y']\n",
    "\n",
    "feature_names = X_train.columns\n",
    "categorical_features = list(X_train.select_dtypes(include=['category']).columns)\n",
    "QI = ['education', 'marital-status', 'age']\n",
    "\n",
    "anonymizer = Anonymize(500, QI, categorical_features=categorical_features, features_names=feature_names)\n",
    "anon = anonymizer.anonymize(X_train, y_train)"
   ]
  },
  {
   "cell_type": "code",
   "execution_count": 32,
   "metadata": {},
   "outputs": [],
   "source": [
    "from holisticai.datasets import Dataset\n",
    "\n",
    "new_train = Dataset(X=anon, y=y_train)"
   ]
  },
  {
   "cell_type": "markdown",
   "metadata": {},
   "source": [
    "### Train decision tree model on anonymized data\n"
   ]
  },
  {
   "cell_type": "code",
   "execution_count": 33,
   "metadata": {},
   "outputs": [
    {
     "name": "stdout",
     "output_type": "stream",
     "text": [
      "Base model accuracy:  0.8036484245439469\n"
     ]
    }
   ],
   "source": [
    "from sklearn.tree import DecisionTreeClassifier\n",
    "\n",
    "preprocessor = create_preprocessor(new_train['X'])\n",
    "model = Pipeline(steps=[('preprocessor', preprocessor),\n",
    "                        ('classifier', DecisionTreeClassifier())])\n",
    "\n",
    "model.fit(anon, new_train['y'])\n",
    "\n",
    "y_pred = model.predict(test['X'])\n",
    "y_proba = model.predict_proba(test['X'])\n",
    "\n",
    "print('Base model accuracy: ', model.score(test['X'], test['y']))"
   ]
  },
  {
   "cell_type": "code",
   "execution_count": 34,
   "metadata": {},
   "outputs": [
    {
     "data": {
      "text/html": [
       "<div>\n",
       "<style scoped>\n",
       "    .dataframe tbody tr th:only-of-type {\n",
       "        vertical-align: middle;\n",
       "    }\n",
       "\n",
       "    .dataframe tbody tr th {\n",
       "        vertical-align: top;\n",
       "    }\n",
       "\n",
       "    .dataframe thead th {\n",
       "        text-align: right;\n",
       "    }\n",
       "</style>\n",
       "<table border=\"1\" class=\"dataframe\">\n",
       "  <thead>\n",
       "    <tr style=\"text-align: right;\">\n",
       "      <th></th>\n",
       "      <th>metric</th>\n",
       "      <th>value</th>\n",
       "      <th>reference</th>\n",
       "    </tr>\n",
       "  </thead>\n",
       "  <tbody>\n",
       "    <tr>\n",
       "      <th>0</th>\n",
       "      <td>SHAPr</td>\n",
       "      <td>0.803647</td>\n",
       "      <td>0.0</td>\n",
       "    </tr>\n",
       "    <tr>\n",
       "      <th>1</th>\n",
       "      <td>Data Minimization Accuracy Ratio</td>\n",
       "      <td>0.998901</td>\n",
       "      <td>inf</td>\n",
       "    </tr>\n",
       "    <tr>\n",
       "      <th>2</th>\n",
       "      <td>Attribute Attack Score</td>\n",
       "      <td>0.352902</td>\n",
       "      <td>0.0</td>\n",
       "    </tr>\n",
       "  </tbody>\n",
       "</table>\n",
       "</div>"
      ],
      "text/plain": [
       "                             metric     value  reference\n",
       "0                             SHAPr  0.803647        0.0\n",
       "1  Data Minimization Accuracy Ratio  0.998901        inf\n",
       "2            Attribute Attack Score  0.352902        0.0"
      ]
     },
     "execution_count": 34,
     "metadata": {},
     "output_type": "execute_result"
    }
   ],
   "source": [
    "evaluate_privacy(model, new_train, test)"
   ]
  }
 ],
 "metadata": {
  "kernelspec": {
   "display_name": "Python 3",
   "language": "python",
   "name": "python3"
  },
  "language_info": {
   "codemirror_mode": {
    "name": "ipython",
    "version": 3
   },
   "file_extension": ".py",
   "mimetype": "text/x-python",
   "name": "python",
   "nbconvert_exporter": "python",
   "pygments_lexer": "ipython3",
   "version": "3.11.9"
  }
 },
 "nbformat": 4,
 "nbformat_minor": 2
}
