{
  "cells": [
    {
      "cell_type": "markdown",
      "id": "3ea086d6",
      "metadata": {
        "id": "3ea086d6"
      },
      "source": [
        "# **Measuring Bias in clustering**\n"
      ]
    },
    {
      "cell_type": "markdown",
      "id": "f5806760",
      "metadata": {
        "id": "f5806760"
      },
      "source": [
        "This notebook is a tutorial on auditing bias within a clustering task. We will use the _holisticai_ library throughout, introducing some of the functions we have created to help study algorithmic bias.\n",
        "\n",
        "The sections are organised as follows :\n",
        "\n",
        "1. Load the data : we load the adult dataset as a pandas DataFrame\n",
        "2. Data Exploration : some preliminary analysis of the data\n",
        "3. Pre-Processing and Train a Model : we train a kmeans model (sklearn)\n",
        "4. Measure Bias : we compute a few bias metrics, and comment on their meaning"
      ]
    },
    {
      "cell_type": "markdown",
      "id": "98dcbb0c",
      "metadata": {
        "id": "98dcbb0c"
      },
      "source": [
        "## **Load the data**"
      ]
    },
    {
      "cell_type": "markdown",
      "id": "hN39zv70pPn4",
      "metadata": {
        "id": "hN39zv70pPn4"
      },
      "source": [
        "First of all, we need to import the required packages to perform our bias analysis and mitigation. You will need to have the `holisticai` package installed on your system, remember that you can install it by running: \n",
        "```bash\n",
        "!pip install holisticai[all]\n",
        "```"
      ]
    },
    {
      "cell_type": "code",
      "execution_count": 1,
      "id": "c50fca4a",
      "metadata": {
        "id": "c50fca4a"
      },
      "outputs": [],
      "source": [
        "# Imports\n",
        "import numpy as np\n",
        "import pandas as pd\n",
        "import warnings\n",
        "warnings.filterwarnings(\"ignore\")"
      ]
    },
    {
      "cell_type": "code",
      "execution_count": 2,
      "id": "95b59bfc",
      "metadata": {},
      "outputs": [],
      "source": [
        "import os,sys\n",
        "\n",
        "dirpath = os.path.join( '/'.join(os.getcwd().split(\"/\")[:-3]), 'src')\n",
        "sys.path.insert(0, dirpath)"
      ]
    },
    {
      "cell_type": "markdown",
      "id": "32f32e1f",
      "metadata": {
        "id": "32f32e1f"
      },
      "source": [
        "We will start by importing the adult dataset, which we host on our library. The adult dataset contains a set of informations extract from US 1994 Census database. It includes personal information about the individuals, specifically sex, race, and education. In this tutorial we will perform unsupervised learning to cluster the data, then measure whether this clustering contains gender or race information (clustering bias)."
      ]
    },
    {
      "cell_type": "code",
      "execution_count": 3,
      "id": "1702be74",
      "metadata": {
        "colab": {
          "base_uri": "https://localhost:8080/",
          "height": 206
        },
        "id": "1702be74",
        "outputId": "84172fba-a9d6-41bf-e578-a392fc4d2716"
      },
      "outputs": [
        {
          "data": {
            "text/html": [
              "\n",
              "    <head>\n",
              "        <meta charset=\"UTF-8\">\n",
              "        <meta name=\"viewport\" content=\"width=device-width, initial-scale=1.0\">\n",
              "        <title>Diagrama DatasetDict</title>\n",
              "        <style>\n",
              "            .container {\n",
              "                font-family: Arial, sans-serif;\n",
              "                margin: 20px;\n",
              "            }\n",
              "            .node {\n",
              "                border: 2px solid #000;\n",
              "                padding: 10px;\n",
              "                margin: 10px;\n",
              "                text-align: left;\n",
              "                display: inline-block; \n",
              "                background-color: #F0F8FF; \n",
              "            }\n",
              "            .datasets-container {\n",
              "                display: flex;\n",
              "                flex-wrap: wrap;\n",
              "            }\n",
              "            .dataset {\n",
              "                border: 2px solid #007bff;\n",
              "                padding: 10px;\n",
              "                margin: 10px;\n",
              "                text-align: left;\n",
              "                border-radius: 5px;\n",
              "                display: inline-block;\n",
              "                white-space: nowrap;\n",
              "                background-color: #F5FFFA; \n",
              "                box-sizing: border-box;\n",
              "            }\n",
              "            .title {\n",
              "                font-weight: bold;\n",
              "                margin-bottom: 10px;\n",
              "                text-align: left;\n",
              "                white-space: nowrap;\n",
              "            }\n",
              "            ul {\n",
              "                list-style-type: disc;\n",
              "                padding-left: 20px;\n",
              "                text-align: left;\n",
              "                margin: 0;\n",
              "                white-space: normal;\n",
              "            }\n",
              "        </style>\n",
              "    </head>\n",
              "    <body>\n",
              "        <div class=\"container\">\n",
              "            \n",
              "    <div class=\"dataset\" style=\"width: 392px;\">\n",
              "        <div class=\"title\">Dataset</div>\n",
              "        <ul>\n",
              "            <li>features: [ x , y , p_attr ]</li>\n",
              "            <li>num_rows: 45222</li>\n",
              "        </ul>\n",
              "    </div>\n",
              "    \n",
              "        </div>\n",
              "    </body>\n",
              "    "
            ],
            "text/plain": [
              "Dataset({\n",
              "        features: ['x', 'y', 'p_attr'],\n",
              "        num_rows: 45222\n",
              "    })"
            ]
          },
          "execution_count": 3,
          "metadata": {},
          "output_type": "execute_result"
        }
      ],
      "source": [
        "from holisticai.datasets import load_dataset\n",
        "from holisticai.datasets._dataset import load_dataset\n",
        "\n",
        "dataset = load_dataset('adult')\n",
        "dataset"
      ]
    },
    {
      "cell_type": "markdown",
      "id": "ff87a3f5",
      "metadata": {
        "id": "ff87a3f5"
      },
      "source": [
        "## **Data Exploration**"
      ]
    },
    {
      "cell_type": "code",
      "execution_count": 4,
      "id": "caa0d74e",
      "metadata": {
        "id": "caa0d74e"
      },
      "outputs": [
        {
          "data": {
            "application/vnd.jupyter.widget-view+json": {
              "model_id": "705337a9662e4f5ba049a4950bd82cd0",
              "version_major": 2,
              "version_minor": 0
            },
            "text/plain": [
              "VBox(children=(Dropdown(description='p_attr:', options=('group_a', 'group_b'), value='group_a'), Output()))"
            ]
          },
          "metadata": {},
          "output_type": "display_data"
        }
      ],
      "source": [
        "from holisticai.plots.bias import bias_data_exploration\n",
        "\n",
        "bias_data_exploration(learning_task =\"clustering\", dataset=dataset)"
      ]
    },
    {
      "cell_type": "markdown",
      "id": "8927bd6d",
      "metadata": {
        "id": "8927bd6d"
      },
      "source": [
        "## **Preprocess data and Train a model**"
      ]
    },
    {
      "cell_type": "code",
      "execution_count": 5,
      "id": "db103f50",
      "metadata": {
        "id": "db103f50"
      },
      "outputs": [
        {
          "data": {
            "text/html": [
              "\n",
              "    <head>\n",
              "        <meta charset=\"UTF-8\">\n",
              "        <meta name=\"viewport\" content=\"width=device-width, initial-scale=1.0\">\n",
              "        <title>Diagrama DatasetDict</title>\n",
              "        <style>\n",
              "            .container {\n",
              "                font-family: Arial, sans-serif;\n",
              "                margin: 20px;\n",
              "            }\n",
              "            .node {\n",
              "                border: 2px solid #000;\n",
              "                padding: 10px;\n",
              "                margin: 10px;\n",
              "                text-align: left;\n",
              "                display: inline-block; \n",
              "                background-color: #F0F8FF; \n",
              "            }\n",
              "            .datasets-container {\n",
              "                display: flex;\n",
              "                flex-wrap: wrap;\n",
              "            }\n",
              "            .dataset {\n",
              "                border: 2px solid #007bff;\n",
              "                padding: 10px;\n",
              "                margin: 10px;\n",
              "                text-align: left;\n",
              "                border-radius: 5px;\n",
              "                display: inline-block;\n",
              "                white-space: nowrap;\n",
              "                background-color: #F5FFFA; \n",
              "                box-sizing: border-box;\n",
              "            }\n",
              "            .title {\n",
              "                font-weight: bold;\n",
              "                margin-bottom: 10px;\n",
              "                text-align: left;\n",
              "                white-space: nowrap;\n",
              "            }\n",
              "            ul {\n",
              "                list-style-type: disc;\n",
              "                padding-left: 20px;\n",
              "                text-align: left;\n",
              "                margin: 0;\n",
              "                white-space: normal;\n",
              "            }\n",
              "        </style>\n",
              "    </head>\n",
              "    <body>\n",
              "        <div class=\"container\">\n",
              "            \n",
              "        <div class=\"node\">\n",
              "            <div class=\"title\">DatasetDict</div>\n",
              "            <div class=\"datasets-container\">\n",
              "                \n",
              "    <div class=\"dataset\" style=\"width: 392px;\">\n",
              "        <div class=\"title\">train: Dataset</div>\n",
              "        <ul>\n",
              "            <li>features: [x , y , p_attr]</li>\n",
              "            <li>num_rows: 36177</li>\n",
              "        </ul>\n",
              "    </div>\n",
              "    \n",
              "    <div class=\"dataset\" style=\"width: 392px;\">\n",
              "        <div class=\"title\">test: Dataset</div>\n",
              "        <ul>\n",
              "            <li>features: [x , y , p_attr]</li>\n",
              "            <li>num_rows: 9045</li>\n",
              "        </ul>\n",
              "    </div>\n",
              "    \n",
              "            </div>\n",
              "        </div>\n",
              "        \n",
              "        </div>\n",
              "    </body>\n",
              "    "
            ],
            "text/plain": [
              "DatasetDict({\n",
              "    train: Dataset({\n",
              "        features: ['x', 'y', 'p_attr'],\n",
              "        num_rows: 36177\n",
              "    }),\n",
              "    test: Dataset({\n",
              "        features: ['x', 'y', 'p_attr'],\n",
              "        num_rows: 9045\n",
              "    })\n",
              "})"
            ]
          },
          "execution_count": 5,
          "metadata": {},
          "output_type": "execute_result"
        }
      ],
      "source": [
        "datasets = dataset.train_test_split(test_size=0.2)\n",
        "datasets"
      ]
    },
    {
      "cell_type": "code",
      "execution_count": 6,
      "id": "9985edc9",
      "metadata": {
        "id": "9985edc9"
      },
      "outputs": [],
      "source": [
        "from sklearn.cluster import KMeans\n",
        "\n",
        "ks = range(1, 8)\n",
        "inertias = []\n",
        "X_train = datasets['train']['x'].values\n",
        "\n",
        "for k in ks:\n",
        "    # create a KMeans instance with k clusters: model\n",
        "    model = KMeans(n_clusters = k)\n",
        "    \n",
        "    # fit model to samples\n",
        "    model.fit(X_train)\n",
        "    \n",
        "    # append the inertia to the list of inertias\n",
        "    inertias.append(model.inertia_)"
      ]
    },
    {
      "cell_type": "code",
      "execution_count": 7,
      "id": "fae02105",
      "metadata": {
        "colab": {
          "base_uri": "https://localhost:8080/",
          "height": 474
        },
        "id": "fae02105",
        "outputId": "926e31c3-6c04-4c62-8aad-56bfd469c858"
      },
      "outputs": [
        {
          "data": {
            "image/png": "[encoded data removed]",
            "text/plain": [
              "<Figure size 640x480 with 1 Axes>"
            ]
          },
          "metadata": {},
          "output_type": "display_data"
        }
      ],
      "source": [
        "# Plot ks vs inertias\n",
        "import matplotlib.pyplot as plt\n",
        "plt.plot(ks, inertias, '-o')\n",
        "plt.xlabel('Number of Clusters, k')\n",
        "plt.ylabel('Inertia')\n",
        "plt.xticks(ks)\n",
        "plt.show()"
      ]
    },
    {
      "cell_type": "code",
      "execution_count": 8,
      "id": "10815cd6",
      "metadata": {
        "id": "10815cd6"
      },
      "outputs": [],
      "source": [
        "# we choose to use 4 clusters\n",
        "model = KMeans(n_clusters = 4)\n",
        "model.fit(X_train)\n",
        "\n",
        "# test data\n",
        "test = datasets['test']\n",
        "X = test['x']\n",
        "group_a = test['p_attr']['group_a']\n",
        "group_b = test['p_attr']['group_b']\n",
        "# predict\n",
        "y_pred = model.predict(X)"
      ]
    },
    {
      "cell_type": "markdown",
      "id": "d7ccf470",
      "metadata": {
        "id": "d7ccf470"
      },
      "source": [
        "## **Measure bias**"
      ]
    },
    {
      "cell_type": "code",
      "execution_count": 9,
      "id": "145b7e7e",
      "metadata": {
        "id": "145b7e7e"
      },
      "outputs": [],
      "source": [
        "# imports\n",
        "from holisticai.metrics.bias import cluster_balance"
      ]
    },
    {
      "cell_type": "code",
      "execution_count": 10,
      "id": "0a6d82a0",
      "metadata": {
        "id": "0a6d82a0"
      },
      "outputs": [],
      "source": [
        "# set up vectors for measuring bias [we consider sex and race]\n",
        "p_attr_sex = group_a.replace({\"Male\": 1, \"Female\": 0})\n",
        "y_pred = model.predict(X)"
      ]
    },
    {
      "cell_type": "code",
      "execution_count": 11,
      "id": "e8981343",
      "metadata": {
        "colab": {
          "base_uri": "https://localhost:8080/",
          "height": 524
        },
        "id": "e8981343",
        "outputId": "e17bc305-31c8-409a-e5ff-0dfc89933f61"
      },
      "outputs": [
        {
          "data": {
            "application/vnd.jupyter.widget-view+json": {
              "model_id": "22ba6688f18b470eae596e90e7d0b844",
              "version_major": 2,
              "version_minor": 0
            },
            "text/plain": [
              "VBox(children=(Dropdown(description='p_attr:', options=('group_a', 'group_b'), value='group_a'), Output()))"
            ]
          },
          "metadata": {},
          "output_type": "display_data"
        }
      ],
      "source": [
        "from holisticai.plots.bias import bias_model_exploration\n",
        "\n",
        "bias_model_exploration(\"clustering\", dataset=datasets['test'], y_pred=y_pred)"
      ]
    },
    {
      "cell_type": "markdown",
      "id": "10e66dd9",
      "metadata": {
        "id": "10e66dd9"
      },
      "source": [
        "The clustering is quite balanced in terms of gender representations."
      ]
    },
    {
      "cell_type": "code",
      "execution_count": 12,
      "id": "4de6cfee",
      "metadata": {
        "colab": {
          "base_uri": "https://localhost:8080/"
        },
        "id": "4de6cfee",
        "outputId": "b99eaf55-5ab3-4e8c-88c2-656e3503e7e1"
      },
      "outputs": [
        {
          "data": {
            "text/plain": [
              "0.8399077039962106"
            ]
          },
          "execution_count": 12,
          "metadata": {},
          "output_type": "execute_result"
        }
      ],
      "source": [
        "cluster_balance(group_a, group_b, y_pred)"
      ]
    },
    {
      "cell_type": "markdown",
      "id": "a2a73129",
      "metadata": {
        "id": "a2a73129"
      },
      "source": [
        "The above metric reinforces the clustering is balanced in the sense of each group having similar representation in clusters to overall. The ideal value for this metric is 1."
      ]
    },
    {
      "cell_type": "markdown",
      "id": "69f8b686",
      "metadata": {
        "id": "69f8b686"
      },
      "source": [
        "### Batch computation"
      ]
    },
    {
      "cell_type": "code",
      "execution_count": 13,
      "id": "4b1e9048",
      "metadata": {
        "id": "4b1e9048"
      },
      "outputs": [],
      "source": [
        "from holisticai.metrics.bias import clustering_bias_metrics"
      ]
    },
    {
      "cell_type": "code",
      "execution_count": 14,
      "id": "bbb7e6ee",
      "metadata": {
        "id": "bbb7e6ee"
      },
      "outputs": [],
      "source": [
        "centroids = model.cluster_centers_\n",
        "data = X"
      ]
    },
    {
      "cell_type": "code",
      "execution_count": 15,
      "id": "9c372c25",
      "metadata": {},
      "outputs": [
        {
          "data": {
            "text/plain": [
              "array([1, 3, 1, ..., 3, 2, 3], dtype=int32)"
            ]
          },
          "execution_count": 15,
          "metadata": {},
          "output_type": "execute_result"
        }
      ],
      "source": [
        "y_pred"
      ]
    },
    {
      "cell_type": "code",
      "execution_count": 16,
      "id": "8d278fc5",
      "metadata": {},
      "outputs": [
        {
          "data": {
            "text/plain": [
              "age                               float64\n",
              "fnlwgt                            float64\n",
              "education-num                     float64\n",
              "capital-gain                      float64\n",
              "capital-loss                      float64\n",
              "                                   ...   \n",
              "native-country_Thailand             int64\n",
              "native-country_Trinadad&Tobago      int64\n",
              "native-country_United-States        int64\n",
              "native-country_Vietnam              int64\n",
              "native-country_Yugoslavia           int64\n",
              "Length: 82, dtype: object"
            ]
          },
          "execution_count": 16,
          "metadata": {},
          "output_type": "execute_result"
        }
      ],
      "source": [
        "data.dtypes"
      ]
    },
    {
      "cell_type": "code",
      "execution_count": 17,
      "id": "1401e2bb",
      "metadata": {
        "colab": {
          "base_uri": "https://localhost:8080/",
          "height": 269
        },
        "id": "1401e2bb",
        "outputId": "ce309aef-f16e-4678-ecc6-2f303ef0f98a"
      },
      "outputs": [
        {
          "data": {
            "text/html": [
              "<div>\n",
              "<style scoped>\n",
              "    .dataframe tbody tr th:only-of-type {\n",
              "        vertical-align: middle;\n",
              "    }\n",
              "\n",
              "    .dataframe tbody tr th {\n",
              "        vertical-align: top;\n",
              "    }\n",
              "\n",
              "    .dataframe thead th {\n",
              "        text-align: right;\n",
              "    }\n",
              "</style>\n",
              "<table border=\"1\" class=\"dataframe\">\n",
              "  <thead>\n",
              "    <tr style=\"text-align: right;\">\n",
              "      <th></th>\n",
              "      <th>Value</th>\n",
              "      <th>Reference</th>\n",
              "    </tr>\n",
              "    <tr>\n",
              "      <th>Metric</th>\n",
              "      <th></th>\n",
              "      <th></th>\n",
              "    </tr>\n",
              "  </thead>\n",
              "  <tbody>\n",
              "    <tr>\n",
              "      <th>Cluster Balance</th>\n",
              "      <td>0.839908</td>\n",
              "      <td>1</td>\n",
              "    </tr>\n",
              "    <tr>\n",
              "      <th>Minimum Cluster Ratio</th>\n",
              "      <td>0.369403</td>\n",
              "      <td>1</td>\n",
              "    </tr>\n",
              "    <tr>\n",
              "      <th>Cluster Distribution Total Variation</th>\n",
              "      <td>0.028787</td>\n",
              "      <td>0</td>\n",
              "    </tr>\n",
              "    <tr>\n",
              "      <th>Cluster Distribution KL Div</th>\n",
              "      <td>0.002808</td>\n",
              "      <td>0</td>\n",
              "    </tr>\n",
              "    <tr>\n",
              "      <th>Social Fairness Ratio</th>\n",
              "      <td>0.961773</td>\n",
              "      <td>1</td>\n",
              "    </tr>\n",
              "    <tr>\n",
              "      <th>Silhouette Difference</th>\n",
              "      <td>0.004794</td>\n",
              "      <td>0</td>\n",
              "    </tr>\n",
              "  </tbody>\n",
              "</table>\n",
              "</div>"
            ],
            "text/plain": [
              "                                         Value  Reference\n",
              "Metric                                                   \n",
              "Cluster Balance                       0.839908          1\n",
              "Minimum Cluster Ratio                 0.369403          1\n",
              "Cluster Distribution Total Variation  0.028787          0\n",
              "Cluster Distribution KL Div           0.002808          0\n",
              "Social Fairness Ratio                 0.961773          1\n",
              "Silhouette Difference                 0.004794          0"
            ]
          },
          "execution_count": 17,
          "metadata": {},
          "output_type": "execute_result"
        }
      ],
      "source": [
        "clustering_bias_metrics(group_a, group_b, y_pred, data = data, centroids = centroids, metric_type = 'equal_outcome')"
      ]
    }
  ],
  "metadata": {
    "colab": {
      "provenance": []
    },
    "kernelspec": {
      "display_name": "Python 3.9.12 ('metrics')",
      "language": "python",
      "name": "python3"
    },
    "language_info": {
      "codemirror_mode": {
        "name": "ipython",
        "version": 3
      },
      "file_extension": ".py",
      "mimetype": "text/x-python",
      "name": "python",
      "nbconvert_exporter": "python",
      "pygments_lexer": "ipython3",
      "version": "3.10.0"
    },
    "vscode": {
      "interpreter": {
        "hash": "9ce100595ae63371127da51ea64be910b7c4b0de39dc50c38822dd5588773933"
      }
    }
  },
  "nbformat": 4,
  "nbformat_minor": 5
}
