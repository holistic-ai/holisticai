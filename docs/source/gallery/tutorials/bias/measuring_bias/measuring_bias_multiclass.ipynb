{
 "cells": [
  {
   "cell_type": "markdown",
   "metadata": {
    "id": "pFKF6N69kCay"
   },
   "source": [
    "# **Measuring Bias in multiclass classification**\n"
   ]
  },
  {
   "cell_type": "markdown",
   "metadata": {
    "id": "Oamlj_mlqgXe"
   },
   "source": [
    "This tutorial will explain how to measure bias in a multiclass classification task using the holisticai library. We will introduce here some of the functions that can help study algorithmic bias.\n",
    "\n",
    "The sections are organised as follows :\n",
    "1. Load the data : we load the student dataset as a pandas DataFrame\n",
    "2. Data Exploration : some preliminary analysis of the data\n",
    "3. Train a Model : we train a model (sklearn)\n",
    "4. Measure Bias : we compute a few bias metrics, and comment on their meaning"
   ]
  },
  {
   "cell_type": "markdown",
   "metadata": {
    "id": "-nYt5_h77QGN"
   },
   "source": [
    "## **Load the data**"
   ]
  },
  {
   "cell_type": "markdown",
   "metadata": {
    "id": "02KZrTw8qjs3"
   },
   "source": [
    "First of all, we need to import the required packages to perform our bias analysis and mitigation. You will need to have the `holisticai` package installed on your system, remember that you can install it by running: \n",
    "```bash\n",
    "!pip install holisticai[all]\n",
    "```"
   ]
  },
  {
   "cell_type": "code",
   "execution_count": 1,
   "metadata": {
    "execution": {
     "iopub.execute_input": "2024-09-08T05:51:23.984158Z",
     "iopub.status.busy": "2024-09-08T05:51:23.983664Z",
     "iopub.status.idle": "2024-09-08T05:51:24.196684Z",
     "shell.execute_reply": "2024-09-08T05:51:24.196181Z"
    },
    "id": "Ei54jgDbqgXh",
    "pycharm": {
     "name": "#%%\n"
    }
   },
   "outputs": [],
   "source": [
    "# Imports\n",
    "import numpy as np\n",
    "import pandas as pd\n",
    "import warnings\n",
    "warnings.filterwarnings(\"ignore\")"
   ]
  },
  {
   "cell_type": "markdown",
   "metadata": {
    "collapsed": false,
    "id": "63xEONMZqgXj"
   },
   "source": [
    "The student dataset can be easily"
   ]
  },
  {
   "cell_type": "code",
   "execution_count": 2,
   "metadata": {
    "execution": {
     "iopub.execute_input": "2024-09-08T05:51:24.198481Z",
     "iopub.status.busy": "2024-09-08T05:51:24.198309Z",
     "iopub.status.idle": "2024-09-08T05:51:24.602057Z",
     "shell.execute_reply": "2024-09-08T05:51:24.601549Z"
    },
    "id": "RlAsj3VrqgXj",
    "pycharm": {
     "name": "#%%\n"
    }
   },
   "outputs": [
    {
     "data": {
      "text/html": [
       "\n",
       "    <style>\n",
       "        @import url('https://fonts.googleapis.com/css2?family=Montserrat:ital,wght@0,100..900;1,100..900&display=swap');\n",
       "\n",
       "/* Light blue theme (default) */\n",
       ".generic-object-container.blue {\n",
       "    background-color: rgba(242, 248, 253, 0.9) !important; /* Light blue with 70% opacity */\n",
       "    border-color: #4db6ac !important; /* Soft blue border */\n",
       "}\n",
       "\n",
       ".generic-object-header.blue {\n",
       "    background-color: rgba(152, 171, 202, 0.4) !important; /* Darker blue with 60% opacity */\n",
       "}\n",
       "\n",
       ".generic-object-header.blue:hover {\n",
       "    background-color: rgba(139, 177, 192, 0.8) !important; /* Darker blue on hover with 60% opacity */\n",
       "}\n",
       "\n",
       ".attribute-list.blue:hover {\n",
       "    background-color: rgba(178, 223, 219, 0.8) !important; /* Attribute hover background with 60% opacity */\n",
       "}\n",
       "\n",
       "/* Orange theme */\n",
       ".generic-object-container.orange {\n",
       "    background-color: #fff9ef !important; /* Container background: light orange */\n",
       "    border-color: #ffb74d !important; /* Soft orange border */\n",
       "}\n",
       "\n",
       ".generic-object-header.orange {\n",
       "    background-color: #ffe0b2 !important; /* Header background: darker orange */\n",
       "}\n",
       "\n",
       ".generic-object-header.orange:hover {\n",
       "    background-color: #ffcc80 !important; /* Darker shade on hover over the header */\n",
       "}\n",
       "\n",
       ".attribute-list.orange:hover {\n",
       "    background-color: #ffe0b2 !important; /* Attribute background on hover: darker orange */\n",
       "}\n",
       "\n",
       "/* Green theme */\n",
       ".generic-object-container.green {\n",
       "    background-color: #f6fff6 !important; /* Container background: light green */\n",
       "    border-color: #81c784 !important; /* Soft green border */\n",
       "}\n",
       "\n",
       ".generic-object-header.green {\n",
       "    background-color: #c8e6c9 !important; /* Header background: darker green */\n",
       "}\n",
       "\n",
       ".generic-object-header.green:hover {\n",
       "    background-color: #a5d6a7 !important; /* Darker shade on hover over the header */\n",
       "}\n",
       "\n",
       ".attribute-list.green:hover {\n",
       "    background-color: #c8e6c9 !important; /* Attribute background on hover: darker green */\n",
       "}\n",
       "\n",
       "/* Align the first container to the left */\n",
       ".generic-object-container.first-level {\n",
       "    margin: 0;\n",
       "    width: auto;\n",
       "    max-width: 800px;\n",
       "    display: block;\n",
       "    box-sizing: border-box;\n",
       "}\n",
       "\n",
       "/* Nested containers stay centered */\n",
       ".generic-object-container .generic-object-container {\n",
       "    margin: 5px auto;\n",
       "    width: 100%;\n",
       "    display: block;\n",
       "    padding: 5px 0;\n",
       "}\n",
       "\n",
       "/* Remove default background color so only themes apply it */\n",
       ".generic-object-container {\n",
       "    padding: 0;\n",
       "    margin: 0 auto;\n",
       "    border: 0px dashed;\n",
       "    border-radius: 5px;\n",
       "    display: block;\n",
       "    width: auto;\n",
       "    max-width: 800px;\n",
       "    box-sizing: border-box;\n",
       "    margin-bottom: 15px;\n",
       "    transition: transform 0.2s, box-shadow 0.2s;\n",
       "    box-shadow: 0px 2px 5px rgba(77, 182, 172, 0.3);\n",
       "}\n",
       "\n",
       ".generic-object-container:hover {\n",
       "    box-shadow: 0px 8px 20px rgba(77, 182, 172, 0.3);\n",
       "}\n",
       "\n",
       ".generic-object-header {\n",
       "    font-family: 'Montserrat', Arial, sans-serif;\n",
       "    font-size: 14px;\n",
       "    padding: 10px 20px;\n",
       "    padding-left: 40px;\n",
       "    text-align: center;\n",
       "    font-weight: bold;\n",
       "    cursor: pointer;\n",
       "    display: flex;\n",
       "    align-items: center;\n",
       "    justify-content: center;\n",
       "    position: relative;\n",
       "    width: 100%;\n",
       "    box-sizing: border-box;\n",
       "    border-radius: 5px;\n",
       "    transition: background-color 0.3s;\n",
       "}\n",
       "\n",
       ".toggle-button {\n",
       "    margin-right: 10px;\n",
       "    background: none;\n",
       "    border: none;\n",
       "    font-size: 13px;\n",
       "    cursor: pointer;\n",
       "    position: absolute;\n",
       "    left: 10px;\n",
       "    color: #004d40;\n",
       "}\n",
       "\n",
       ".generic-object-body {\n",
       "    padding: 5px 10px;\n",
       "    display: block;\n",
       "    border-radius: 0 0 5px 5px;\n",
       "    background-color: inherit;\n",
       "    margin: 0 auto;\n",
       "}\n",
       "\n",
       ".hidden {\n",
       "    display: none;\n",
       "}\n",
       "\n",
       ".attribute-list {\n",
       "    margin: 2px 0;\n",
       "    padding: 2px;\n",
       "    transition: background-color 0.2s;\n",
       "    display: block;\n",
       "}\n",
       "\n",
       ".flex-space-filler {\n",
       "    display: flex;\n",
       "    justify-content: center;\n",
       "    align-items: center;\n",
       "}\n",
       "\n",
       ".generic-object-container,\n",
       ".generic-object-header,\n",
       ".attribute-list {\n",
       "    color: #000000 !important; /* Establece el color del texto a negro */\n",
       "}\n",
       "    </style>\n",
       "    <div style=\"display: flex;\">\n",
       "    <div class=\"generic-object-container blue first-level\">\n",
       "        <div class=\"generic-object-content\">\n",
       "            <div class=\"generic-object-header blue\" onclick=\"toggleCollapse(this)\">\n",
       "                <button class=\"toggle-button blue\">[-]</button> [Dataset]\n",
       "            </div>\n",
       "            <div class=\"generic-object-body\">\n",
       "                <div class=\"attribute-list blue\"><strong>Instances</strong>: 395</div><div class=\"attribute-list blue\"><strong>Features</strong>: X , y , p_attrs</div>\n",
       "                \n",
       "            </div>\n",
       "        </div>\n",
       "    </div>\n",
       "</div>\n",
       "    <script>\n",
       "    function toggleCollapse(element) {\n",
       "        var body = element.nextElementSibling;\n",
       "        var button = element.querySelector(\".toggle-button\");\n",
       "        if (body.classList.contains('hidden')) {\n",
       "            body.classList.remove('hidden');\n",
       "            button.textContent = \"[-]\";\n",
       "        } else {\n",
       "            body.classList.add('hidden');\n",
       "            button.textContent = \"[+]\";\n",
       "        }\n",
       "    }\n",
       "    </script>\n",
       "    "
      ],
      "text/plain": [
       "{\"dtype\":\"Dataset\",\"attributes\":{\"Instances\":395,\"Features\":[\"X , y , p_attrs\"]},\"metadata\":null}"
      ]
     },
     "execution_count": 2,
     "metadata": {},
     "output_type": "execute_result"
    }
   ],
   "source": [
    "from holisticai.datasets import load_dataset\n",
    "\n",
    "dataset = load_dataset('student_multiclass', preprocessed=True)\n",
    "dataset"
   ]
  },
  {
   "cell_type": "markdown",
   "metadata": {
    "id": "WGFmFdhIqgXl"
   },
   "source": [
    "## **Data Exploration**"
   ]
  },
  {
   "cell_type": "code",
   "execution_count": 3,
   "metadata": {
    "execution": {
     "iopub.execute_input": "2024-09-08T05:51:24.603615Z",
     "iopub.status.busy": "2024-09-08T05:51:24.603479Z",
     "iopub.status.idle": "2024-09-08T05:51:24.610221Z",
     "shell.execute_reply": "2024-09-08T05:51:24.609875Z"
    }
   },
   "outputs": [
    {
     "data": {
      "text/html": [
       "<div>\n",
       "<style scoped>\n",
       "    .dataframe tbody tr th:only-of-type {\n",
       "        vertical-align: middle;\n",
       "    }\n",
       "\n",
       "    .dataframe tbody tr th {\n",
       "        vertical-align: top;\n",
       "    }\n",
       "\n",
       "    .dataframe thead th {\n",
       "        text-align: right;\n",
       "    }\n",
       "</style>\n",
       "<table border=\"1\" class=\"dataframe\">\n",
       "  <thead>\n",
       "    <tr style=\"text-align: right;\">\n",
       "      <th></th>\n",
       "      <th>sex</th>\n",
       "      <th>address</th>\n",
       "      <th>Mjob</th>\n",
       "      <th>Fjob</th>\n",
       "    </tr>\n",
       "  </thead>\n",
       "  <tbody>\n",
       "    <tr>\n",
       "      <th>0</th>\n",
       "      <td>'F'</td>\n",
       "      <td>'U'</td>\n",
       "      <td>'at_home'</td>\n",
       "      <td>'teacher'</td>\n",
       "    </tr>\n",
       "    <tr>\n",
       "      <th>1</th>\n",
       "      <td>'F'</td>\n",
       "      <td>'U'</td>\n",
       "      <td>'at_home'</td>\n",
       "      <td>'other'</td>\n",
       "    </tr>\n",
       "    <tr>\n",
       "      <th>2</th>\n",
       "      <td>'F'</td>\n",
       "      <td>'U'</td>\n",
       "      <td>'at_home'</td>\n",
       "      <td>'other'</td>\n",
       "    </tr>\n",
       "    <tr>\n",
       "      <th>3</th>\n",
       "      <td>'F'</td>\n",
       "      <td>'U'</td>\n",
       "      <td>'health'</td>\n",
       "      <td>'services'</td>\n",
       "    </tr>\n",
       "    <tr>\n",
       "      <th>4</th>\n",
       "      <td>'F'</td>\n",
       "      <td>'U'</td>\n",
       "      <td>'other'</td>\n",
       "      <td>'other'</td>\n",
       "    </tr>\n",
       "    <tr>\n",
       "      <th>...</th>\n",
       "      <td>...</td>\n",
       "      <td>...</td>\n",
       "      <td>...</td>\n",
       "      <td>...</td>\n",
       "    </tr>\n",
       "    <tr>\n",
       "      <th>390</th>\n",
       "      <td>'M'</td>\n",
       "      <td>'U'</td>\n",
       "      <td>'services'</td>\n",
       "      <td>'services'</td>\n",
       "    </tr>\n",
       "    <tr>\n",
       "      <th>391</th>\n",
       "      <td>'M'</td>\n",
       "      <td>'U'</td>\n",
       "      <td>'services'</td>\n",
       "      <td>'services'</td>\n",
       "    </tr>\n",
       "    <tr>\n",
       "      <th>392</th>\n",
       "      <td>'M'</td>\n",
       "      <td>'R'</td>\n",
       "      <td>'other'</td>\n",
       "      <td>'other'</td>\n",
       "    </tr>\n",
       "    <tr>\n",
       "      <th>393</th>\n",
       "      <td>'M'</td>\n",
       "      <td>'R'</td>\n",
       "      <td>'services'</td>\n",
       "      <td>'other'</td>\n",
       "    </tr>\n",
       "    <tr>\n",
       "      <th>394</th>\n",
       "      <td>'M'</td>\n",
       "      <td>'U'</td>\n",
       "      <td>'other'</td>\n",
       "      <td>'at_home'</td>\n",
       "    </tr>\n",
       "  </tbody>\n",
       "</table>\n",
       "<p>395 rows × 4 columns</p>\n",
       "</div>"
      ],
      "text/plain": [
       "     sex address        Mjob        Fjob\n",
       "0    'F'     'U'   'at_home'   'teacher'\n",
       "1    'F'     'U'   'at_home'     'other'\n",
       "2    'F'     'U'   'at_home'     'other'\n",
       "3    'F'     'U'    'health'  'services'\n",
       "4    'F'     'U'     'other'     'other'\n",
       "..   ...     ...         ...         ...\n",
       "390  'M'     'U'  'services'  'services'\n",
       "391  'M'     'U'  'services'  'services'\n",
       "392  'M'     'R'     'other'     'other'\n",
       "393  'M'     'R'  'services'     'other'\n",
       "394  'M'     'U'     'other'   'at_home'\n",
       "\n",
       "[395 rows x 4 columns]"
      ]
     },
     "execution_count": 3,
     "metadata": {},
     "output_type": "execute_result"
    }
   ],
   "source": [
    "dataset['p_attrs']"
   ]
  },
  {
   "cell_type": "code",
   "execution_count": 4,
   "metadata": {
    "execution": {
     "iopub.execute_input": "2024-09-08T05:51:24.611698Z",
     "iopub.status.busy": "2024-09-08T05:51:24.611540Z",
     "iopub.status.idle": "2024-09-08T05:51:25.285438Z",
     "shell.execute_reply": "2024-09-08T05:51:25.284936Z"
    },
    "id": "mPSu3fnfqgXm"
   },
   "outputs": [
    {
     "data": {
      "text/plain": [
       "<Axes: title={'center': 'Frequency matrix plot'}, xlabel='Class', ylabel='Group'>"
      ]
     },
     "execution_count": 4,
     "metadata": {},
     "output_type": "execute_result"
    },
    {
     "data": {
      "image/png": "[encoded data removed]",
      "text/plain": [
       "<Figure size 2500x500 with 5 Axes>"
      ]
     },
     "metadata": {},
     "output_type": "display_data"
    }
   ],
   "source": [
    "from holisticai.bias.plots import group_pie_plot\n",
    "from holisticai.bias.plots import histogram_plot\n",
    "from holisticai.bias.plots import frequency_matrix_plot\n",
    "from holisticai.bias.plots import frequency_plot\n",
    "import matplotlib.pyplot as plt\n",
    "\n",
    "fig,axs = plt.subplots(1,4, figsize=(25,5))\n",
    "p_attrs = dataset['p_attrs']\n",
    "group_pie_plot(p_attrs['sex'], ax=axs[0])\n",
    "group_pie_plot(p_attrs['sex'], ax=axs[1])\n",
    "histogram_plot(dataset['y'], p_attr=p_attrs['sex'], ax=axs[2])\n",
    "frequency_matrix_plot(p_attrs['sex'], dataset['y'], normalize='group', ax=axs[3])"
   ]
  },
  {
   "cell_type": "code",
   "execution_count": 5,
   "metadata": {
    "colab": {
     "base_uri": "https://localhost:8080/",
     "height": 472
    },
    "execution": {
     "iopub.execute_input": "2024-09-08T05:51:25.287023Z",
     "iopub.status.busy": "2024-09-08T05:51:25.286825Z",
     "iopub.status.idle": "2024-09-08T05:51:25.588523Z",
     "shell.execute_reply": "2024-09-08T05:51:25.587849Z"
    },
    "id": "jNCyNMWQqgXo",
    "outputId": "5a534cfa-47dc-4ffa-c68c-c3ea5bc89baf"
   },
   "outputs": [
    {
     "data": {
      "image/png": "[encoded data removed]",
      "text/plain": [
       "<Figure size 640x480 with 1 Axes>"
      ]
     },
     "metadata": {},
     "output_type": "display_data"
    },
    {
     "data": {
      "image/png": "[encoded data removed]",
      "text/plain": [
       "<Figure size 640x480 with 1 Axes>"
      ]
     },
     "metadata": {},
     "output_type": "display_data"
    },
    {
     "data": {
      "image/png": "[encoded data removed]",
      "text/plain": [
       "<Figure size 640x480 with 1 Axes>"
      ]
     },
     "metadata": {},
     "output_type": "display_data"
    }
   ],
   "source": [
    "frequency_plot(dataset['p_attrs']['sex'], dataset['y'])"
   ]
  },
  {
   "cell_type": "markdown",
   "metadata": {
    "id": "GOxWH_M_qgXs"
   },
   "source": [
    "## **Train a model**\n"
   ]
  },
  {
   "cell_type": "code",
   "execution_count": 6,
   "metadata": {
    "execution": {
     "iopub.execute_input": "2024-09-08T05:51:25.590190Z",
     "iopub.status.busy": "2024-09-08T05:51:25.590050Z",
     "iopub.status.idle": "2024-09-08T05:51:25.595435Z",
     "shell.execute_reply": "2024-09-08T05:51:25.595105Z"
    }
   },
   "outputs": [
    {
     "data": {
      "text/html": [
       "\n",
       "    <style>\n",
       "        @import url('https://fonts.googleapis.com/css2?family=Montserrat:ital,wght@0,100..900;1,100..900&display=swap');\n",
       "\n",
       "/* Light blue theme (default) */\n",
       ".generic-object-container.blue {\n",
       "    background-color: rgba(242, 248, 253, 0.9) !important; /* Light blue with 70% opacity */\n",
       "    border-color: #4db6ac !important; /* Soft blue border */\n",
       "}\n",
       "\n",
       ".generic-object-header.blue {\n",
       "    background-color: rgba(152, 171, 202, 0.4) !important; /* Darker blue with 60% opacity */\n",
       "}\n",
       "\n",
       ".generic-object-header.blue:hover {\n",
       "    background-color: rgba(139, 177, 192, 0.8) !important; /* Darker blue on hover with 60% opacity */\n",
       "}\n",
       "\n",
       ".attribute-list.blue:hover {\n",
       "    background-color: rgba(178, 223, 219, 0.8) !important; /* Attribute hover background with 60% opacity */\n",
       "}\n",
       "\n",
       "/* Orange theme */\n",
       ".generic-object-container.orange {\n",
       "    background-color: #fff9ef !important; /* Container background: light orange */\n",
       "    border-color: #ffb74d !important; /* Soft orange border */\n",
       "}\n",
       "\n",
       ".generic-object-header.orange {\n",
       "    background-color: #ffe0b2 !important; /* Header background: darker orange */\n",
       "}\n",
       "\n",
       ".generic-object-header.orange:hover {\n",
       "    background-color: #ffcc80 !important; /* Darker shade on hover over the header */\n",
       "}\n",
       "\n",
       ".attribute-list.orange:hover {\n",
       "    background-color: #ffe0b2 !important; /* Attribute background on hover: darker orange */\n",
       "}\n",
       "\n",
       "/* Green theme */\n",
       ".generic-object-container.green {\n",
       "    background-color: #f6fff6 !important; /* Container background: light green */\n",
       "    border-color: #81c784 !important; /* Soft green border */\n",
       "}\n",
       "\n",
       ".generic-object-header.green {\n",
       "    background-color: #c8e6c9 !important; /* Header background: darker green */\n",
       "}\n",
       "\n",
       ".generic-object-header.green:hover {\n",
       "    background-color: #a5d6a7 !important; /* Darker shade on hover over the header */\n",
       "}\n",
       "\n",
       ".attribute-list.green:hover {\n",
       "    background-color: #c8e6c9 !important; /* Attribute background on hover: darker green */\n",
       "}\n",
       "\n",
       "/* Align the first container to the left */\n",
       ".generic-object-container.first-level {\n",
       "    margin: 0;\n",
       "    width: auto;\n",
       "    max-width: 800px;\n",
       "    display: block;\n",
       "    box-sizing: border-box;\n",
       "}\n",
       "\n",
       "/* Nested containers stay centered */\n",
       ".generic-object-container .generic-object-container {\n",
       "    margin: 5px auto;\n",
       "    width: 100%;\n",
       "    display: block;\n",
       "    padding: 5px 0;\n",
       "}\n",
       "\n",
       "/* Remove default background color so only themes apply it */\n",
       ".generic-object-container {\n",
       "    padding: 0;\n",
       "    margin: 0 auto;\n",
       "    border: 0px dashed;\n",
       "    border-radius: 5px;\n",
       "    display: block;\n",
       "    width: auto;\n",
       "    max-width: 800px;\n",
       "    box-sizing: border-box;\n",
       "    margin-bottom: 15px;\n",
       "    transition: transform 0.2s, box-shadow 0.2s;\n",
       "    box-shadow: 0px 2px 5px rgba(77, 182, 172, 0.3);\n",
       "}\n",
       "\n",
       ".generic-object-container:hover {\n",
       "    box-shadow: 0px 8px 20px rgba(77, 182, 172, 0.3);\n",
       "}\n",
       "\n",
       ".generic-object-header {\n",
       "    font-family: 'Montserrat', Arial, sans-serif;\n",
       "    font-size: 14px;\n",
       "    padding: 10px 20px;\n",
       "    padding-left: 40px;\n",
       "    text-align: center;\n",
       "    font-weight: bold;\n",
       "    cursor: pointer;\n",
       "    display: flex;\n",
       "    align-items: center;\n",
       "    justify-content: center;\n",
       "    position: relative;\n",
       "    width: 100%;\n",
       "    box-sizing: border-box;\n",
       "    border-radius: 5px;\n",
       "    transition: background-color 0.3s;\n",
       "}\n",
       "\n",
       ".toggle-button {\n",
       "    margin-right: 10px;\n",
       "    background: none;\n",
       "    border: none;\n",
       "    font-size: 13px;\n",
       "    cursor: pointer;\n",
       "    position: absolute;\n",
       "    left: 10px;\n",
       "    color: #004d40;\n",
       "}\n",
       "\n",
       ".generic-object-body {\n",
       "    padding: 5px 10px;\n",
       "    display: block;\n",
       "    border-radius: 0 0 5px 5px;\n",
       "    background-color: inherit;\n",
       "    margin: 0 auto;\n",
       "}\n",
       "\n",
       ".hidden {\n",
       "    display: none;\n",
       "}\n",
       "\n",
       ".attribute-list {\n",
       "    margin: 2px 0;\n",
       "    padding: 2px;\n",
       "    transition: background-color 0.2s;\n",
       "    display: block;\n",
       "}\n",
       "\n",
       ".flex-space-filler {\n",
       "    display: flex;\n",
       "    justify-content: center;\n",
       "    align-items: center;\n",
       "}\n",
       "\n",
       ".generic-object-container,\n",
       ".generic-object-header,\n",
       ".attribute-list {\n",
       "    color: #000000 !important; /* Establece el color del texto a negro */\n",
       "}\n",
       "    </style>\n",
       "    <div style=\"display: flex;\">\n",
       "    <div class=\"generic-object-container blue first-level\">\n",
       "        <div class=\"generic-object-content\">\n",
       "            <div class=\"generic-object-header blue\" onclick=\"toggleCollapse(this)\">\n",
       "                <button class=\"toggle-button blue\">[-]</button> [DatasetDict]\n",
       "            </div>\n",
       "            <div class=\"generic-object-body\">\n",
       "                \n",
       "                \n",
       "    <style>\n",
       "        @import url('https://fonts.googleapis.com/css2?family=Montserrat:ital,wght@0,100..900;1,100..900&display=swap');\n",
       "\n",
       "/* Light blue theme (default) */\n",
       ".generic-object-container.blue {\n",
       "    background-color: rgba(242, 248, 253, 0.9) !important; /* Light blue with 70% opacity */\n",
       "    border-color: #4db6ac !important; /* Soft blue border */\n",
       "}\n",
       "\n",
       ".generic-object-header.blue {\n",
       "    background-color: rgba(152, 171, 202, 0.4) !important; /* Darker blue with 60% opacity */\n",
       "}\n",
       "\n",
       ".generic-object-header.blue:hover {\n",
       "    background-color: rgba(139, 177, 192, 0.8) !important; /* Darker blue on hover with 60% opacity */\n",
       "}\n",
       "\n",
       ".attribute-list.blue:hover {\n",
       "    background-color: rgba(178, 223, 219, 0.8) !important; /* Attribute hover background with 60% opacity */\n",
       "}\n",
       "\n",
       "/* Orange theme */\n",
       ".generic-object-container.orange {\n",
       "    background-color: #fff9ef !important; /* Container background: light orange */\n",
       "    border-color: #ffb74d !important; /* Soft orange border */\n",
       "}\n",
       "\n",
       ".generic-object-header.orange {\n",
       "    background-color: #ffe0b2 !important; /* Header background: darker orange */\n",
       "}\n",
       "\n",
       ".generic-object-header.orange:hover {\n",
       "    background-color: #ffcc80 !important; /* Darker shade on hover over the header */\n",
       "}\n",
       "\n",
       ".attribute-list.orange:hover {\n",
       "    background-color: #ffe0b2 !important; /* Attribute background on hover: darker orange */\n",
       "}\n",
       "\n",
       "/* Green theme */\n",
       ".generic-object-container.green {\n",
       "    background-color: #f6fff6 !important; /* Container background: light green */\n",
       "    border-color: #81c784 !important; /* Soft green border */\n",
       "}\n",
       "\n",
       ".generic-object-header.green {\n",
       "    background-color: #c8e6c9 !important; /* Header background: darker green */\n",
       "}\n",
       "\n",
       ".generic-object-header.green:hover {\n",
       "    background-color: #a5d6a7 !important; /* Darker shade on hover over the header */\n",
       "}\n",
       "\n",
       ".attribute-list.green:hover {\n",
       "    background-color: #c8e6c9 !important; /* Attribute background on hover: darker green */\n",
       "}\n",
       "\n",
       "/* Align the first container to the left */\n",
       ".generic-object-container.first-level {\n",
       "    margin: 0;\n",
       "    width: auto;\n",
       "    max-width: 800px;\n",
       "    display: block;\n",
       "    box-sizing: border-box;\n",
       "}\n",
       "\n",
       "/* Nested containers stay centered */\n",
       ".generic-object-container .generic-object-container {\n",
       "    margin: 5px auto;\n",
       "    width: 100%;\n",
       "    display: block;\n",
       "    padding: 5px 0;\n",
       "}\n",
       "\n",
       "/* Remove default background color so only themes apply it */\n",
       ".generic-object-container {\n",
       "    padding: 0;\n",
       "    margin: 0 auto;\n",
       "    border: 0px dashed;\n",
       "    border-radius: 5px;\n",
       "    display: block;\n",
       "    width: auto;\n",
       "    max-width: 800px;\n",
       "    box-sizing: border-box;\n",
       "    margin-bottom: 15px;\n",
       "    transition: transform 0.2s, box-shadow 0.2s;\n",
       "    box-shadow: 0px 2px 5px rgba(77, 182, 172, 0.3);\n",
       "}\n",
       "\n",
       ".generic-object-container:hover {\n",
       "    box-shadow: 0px 8px 20px rgba(77, 182, 172, 0.3);\n",
       "}\n",
       "\n",
       ".generic-object-header {\n",
       "    font-family: 'Montserrat', Arial, sans-serif;\n",
       "    font-size: 14px;\n",
       "    padding: 10px 20px;\n",
       "    padding-left: 40px;\n",
       "    text-align: center;\n",
       "    font-weight: bold;\n",
       "    cursor: pointer;\n",
       "    display: flex;\n",
       "    align-items: center;\n",
       "    justify-content: center;\n",
       "    position: relative;\n",
       "    width: 100%;\n",
       "    box-sizing: border-box;\n",
       "    border-radius: 5px;\n",
       "    transition: background-color 0.3s;\n",
       "}\n",
       "\n",
       ".toggle-button {\n",
       "    margin-right: 10px;\n",
       "    background: none;\n",
       "    border: none;\n",
       "    font-size: 13px;\n",
       "    cursor: pointer;\n",
       "    position: absolute;\n",
       "    left: 10px;\n",
       "    color: #004d40;\n",
       "}\n",
       "\n",
       ".generic-object-body {\n",
       "    padding: 5px 10px;\n",
       "    display: block;\n",
       "    border-radius: 0 0 5px 5px;\n",
       "    background-color: inherit;\n",
       "    margin: 0 auto;\n",
       "}\n",
       "\n",
       ".hidden {\n",
       "    display: none;\n",
       "}\n",
       "\n",
       ".attribute-list {\n",
       "    margin: 2px 0;\n",
       "    padding: 2px;\n",
       "    transition: background-color 0.2s;\n",
       "    display: block;\n",
       "}\n",
       "\n",
       ".flex-space-filler {\n",
       "    display: flex;\n",
       "    justify-content: center;\n",
       "    align-items: center;\n",
       "}\n",
       "\n",
       ".generic-object-container,\n",
       ".generic-object-header,\n",
       ".attribute-list {\n",
       "    color: #000000 !important; /* Establece el color del texto a negro */\n",
       "}\n",
       "    </style>\n",
       "    <div style=\"display: flex;\">\n",
       "    <div class=\"generic-object-container blue first-level\">\n",
       "        <div class=\"generic-object-content\">\n",
       "            <div class=\"generic-object-header blue\" onclick=\"toggleCollapse(this)\">\n",
       "                <button class=\"toggle-button blue\">[-]</button> train [Dataset]\n",
       "            </div>\n",
       "            <div class=\"generic-object-body\">\n",
       "                <div class=\"attribute-list blue\"><strong>Instances</strong>: 276</div><div class=\"attribute-list blue\"><strong>Features</strong>: X , y , p_attrs</div>\n",
       "                \n",
       "            </div>\n",
       "        </div>\n",
       "    </div>\n",
       "</div>\n",
       "    <script>\n",
       "    function toggleCollapse(element) {\n",
       "        var body = element.nextElementSibling;\n",
       "        var button = element.querySelector(\".toggle-button\");\n",
       "        if (body.classList.contains('hidden')) {\n",
       "            body.classList.remove('hidden');\n",
       "            button.textContent = \"[-]\";\n",
       "        } else {\n",
       "            body.classList.add('hidden');\n",
       "            button.textContent = \"[+]\";\n",
       "        }\n",
       "    }\n",
       "    </script>\n",
       "    \n",
       "    <style>\n",
       "        @import url('https://fonts.googleapis.com/css2?family=Montserrat:ital,wght@0,100..900;1,100..900&display=swap');\n",
       "\n",
       "/* Light blue theme (default) */\n",
       ".generic-object-container.blue {\n",
       "    background-color: rgba(242, 248, 253, 0.9) !important; /* Light blue with 70% opacity */\n",
       "    border-color: #4db6ac !important; /* Soft blue border */\n",
       "}\n",
       "\n",
       ".generic-object-header.blue {\n",
       "    background-color: rgba(152, 171, 202, 0.4) !important; /* Darker blue with 60% opacity */\n",
       "}\n",
       "\n",
       ".generic-object-header.blue:hover {\n",
       "    background-color: rgba(139, 177, 192, 0.8) !important; /* Darker blue on hover with 60% opacity */\n",
       "}\n",
       "\n",
       ".attribute-list.blue:hover {\n",
       "    background-color: rgba(178, 223, 219, 0.8) !important; /* Attribute hover background with 60% opacity */\n",
       "}\n",
       "\n",
       "/* Orange theme */\n",
       ".generic-object-container.orange {\n",
       "    background-color: #fff9ef !important; /* Container background: light orange */\n",
       "    border-color: #ffb74d !important; /* Soft orange border */\n",
       "}\n",
       "\n",
       ".generic-object-header.orange {\n",
       "    background-color: #ffe0b2 !important; /* Header background: darker orange */\n",
       "}\n",
       "\n",
       ".generic-object-header.orange:hover {\n",
       "    background-color: #ffcc80 !important; /* Darker shade on hover over the header */\n",
       "}\n",
       "\n",
       ".attribute-list.orange:hover {\n",
       "    background-color: #ffe0b2 !important; /* Attribute background on hover: darker orange */\n",
       "}\n",
       "\n",
       "/* Green theme */\n",
       ".generic-object-container.green {\n",
       "    background-color: #f6fff6 !important; /* Container background: light green */\n",
       "    border-color: #81c784 !important; /* Soft green border */\n",
       "}\n",
       "\n",
       ".generic-object-header.green {\n",
       "    background-color: #c8e6c9 !important; /* Header background: darker green */\n",
       "}\n",
       "\n",
       ".generic-object-header.green:hover {\n",
       "    background-color: #a5d6a7 !important; /* Darker shade on hover over the header */\n",
       "}\n",
       "\n",
       ".attribute-list.green:hover {\n",
       "    background-color: #c8e6c9 !important; /* Attribute background on hover: darker green */\n",
       "}\n",
       "\n",
       "/* Align the first container to the left */\n",
       ".generic-object-container.first-level {\n",
       "    margin: 0;\n",
       "    width: auto;\n",
       "    max-width: 800px;\n",
       "    display: block;\n",
       "    box-sizing: border-box;\n",
       "}\n",
       "\n",
       "/* Nested containers stay centered */\n",
       ".generic-object-container .generic-object-container {\n",
       "    margin: 5px auto;\n",
       "    width: 100%;\n",
       "    display: block;\n",
       "    padding: 5px 0;\n",
       "}\n",
       "\n",
       "/* Remove default background color so only themes apply it */\n",
       ".generic-object-container {\n",
       "    padding: 0;\n",
       "    margin: 0 auto;\n",
       "    border: 0px dashed;\n",
       "    border-radius: 5px;\n",
       "    display: block;\n",
       "    width: auto;\n",
       "    max-width: 800px;\n",
       "    box-sizing: border-box;\n",
       "    margin-bottom: 15px;\n",
       "    transition: transform 0.2s, box-shadow 0.2s;\n",
       "    box-shadow: 0px 2px 5px rgba(77, 182, 172, 0.3);\n",
       "}\n",
       "\n",
       ".generic-object-container:hover {\n",
       "    box-shadow: 0px 8px 20px rgba(77, 182, 172, 0.3);\n",
       "}\n",
       "\n",
       ".generic-object-header {\n",
       "    font-family: 'Montserrat', Arial, sans-serif;\n",
       "    font-size: 14px;\n",
       "    padding: 10px 20px;\n",
       "    padding-left: 40px;\n",
       "    text-align: center;\n",
       "    font-weight: bold;\n",
       "    cursor: pointer;\n",
       "    display: flex;\n",
       "    align-items: center;\n",
       "    justify-content: center;\n",
       "    position: relative;\n",
       "    width: 100%;\n",
       "    box-sizing: border-box;\n",
       "    border-radius: 5px;\n",
       "    transition: background-color 0.3s;\n",
       "}\n",
       "\n",
       ".toggle-button {\n",
       "    margin-right: 10px;\n",
       "    background: none;\n",
       "    border: none;\n",
       "    font-size: 13px;\n",
       "    cursor: pointer;\n",
       "    position: absolute;\n",
       "    left: 10px;\n",
       "    color: #004d40;\n",
       "}\n",
       "\n",
       ".generic-object-body {\n",
       "    padding: 5px 10px;\n",
       "    display: block;\n",
       "    border-radius: 0 0 5px 5px;\n",
       "    background-color: inherit;\n",
       "    margin: 0 auto;\n",
       "}\n",
       "\n",
       ".hidden {\n",
       "    display: none;\n",
       "}\n",
       "\n",
       ".attribute-list {\n",
       "    margin: 2px 0;\n",
       "    padding: 2px;\n",
       "    transition: background-color 0.2s;\n",
       "    display: block;\n",
       "}\n",
       "\n",
       ".flex-space-filler {\n",
       "    display: flex;\n",
       "    justify-content: center;\n",
       "    align-items: center;\n",
       "}\n",
       "\n",
       ".generic-object-container,\n",
       ".generic-object-header,\n",
       ".attribute-list {\n",
       "    color: #000000 !important; /* Establece el color del texto a negro */\n",
       "}\n",
       "    </style>\n",
       "    <div style=\"display: flex;\">\n",
       "    <div class=\"generic-object-container blue first-level\">\n",
       "        <div class=\"generic-object-content\">\n",
       "            <div class=\"generic-object-header blue\" onclick=\"toggleCollapse(this)\">\n",
       "                <button class=\"toggle-button blue\">[-]</button> test [Dataset]\n",
       "            </div>\n",
       "            <div class=\"generic-object-body\">\n",
       "                <div class=\"attribute-list blue\"><strong>Instances</strong>: 119</div><div class=\"attribute-list blue\"><strong>Features</strong>: X , y , p_attrs</div>\n",
       "                \n",
       "            </div>\n",
       "        </div>\n",
       "    </div>\n",
       "</div>\n",
       "    <script>\n",
       "    function toggleCollapse(element) {\n",
       "        var body = element.nextElementSibling;\n",
       "        var button = element.querySelector(\".toggle-button\");\n",
       "        if (body.classList.contains('hidden')) {\n",
       "            body.classList.remove('hidden');\n",
       "            button.textContent = \"[-]\";\n",
       "        } else {\n",
       "            body.classList.add('hidden');\n",
       "            button.textContent = \"[+]\";\n",
       "        }\n",
       "    }\n",
       "    </script>\n",
       "    \n",
       "            </div>\n",
       "        </div>\n",
       "    </div>\n",
       "</div>\n",
       "    <script>\n",
       "    function toggleCollapse(element) {\n",
       "        var body = element.nextElementSibling;\n",
       "        var button = element.querySelector(\".toggle-button\");\n",
       "        if (body.classList.contains('hidden')) {\n",
       "            body.classList.remove('hidden');\n",
       "            button.textContent = \"[-]\";\n",
       "        } else {\n",
       "            body.classList.add('hidden');\n",
       "            button.textContent = \"[+]\";\n",
       "        }\n",
       "    }\n",
       "    </script>\n",
       "    "
      ],
      "text/plain": [
       "DatasetDict({\n",
       "    train: <holisticai.datasets._dataset.Dataset object at 0x7f5eff335210>,\n",
       "    test: <holisticai.datasets._dataset.Dataset object at 0x7f5efc6bed10>\n",
       "})"
      ]
     },
     "execution_count": 6,
     "metadata": {},
     "output_type": "execute_result"
    }
   ],
   "source": [
    "datasets = dataset.train_test_split(test_size=0.3)\n",
    "datasets"
   ]
  },
  {
   "cell_type": "code",
   "execution_count": 7,
   "metadata": {
    "execution": {
     "iopub.execute_input": "2024-09-08T05:51:25.596871Z",
     "iopub.status.busy": "2024-09-08T05:51:25.596717Z",
     "iopub.status.idle": "2024-09-08T05:51:25.705727Z",
     "shell.execute_reply": "2024-09-08T05:51:25.705022Z"
    },
    "id": "RzS2zUYkqgXu"
   },
   "outputs": [],
   "source": [
    "from sklearn.ensemble import RandomForestClassifier\n",
    "\n",
    "# Train a simple Random Forest Classifier\n",
    "x_train = datasets['train']['X']\n",
    "y_train = datasets['train']['y']\n",
    "\n",
    "model = RandomForestClassifier(random_state=111)\n",
    "model.fit(x_train, y_train)\n",
    "\n",
    "# Predict values\n",
    "x_test = datasets['test']['X']\n",
    "y_test = datasets['test']['y']\n",
    "p_attr_test = datasets['test']['p_attrs']['sex']\n",
    "y_pred = model.predict(x_test)"
   ]
  },
  {
   "cell_type": "code",
   "execution_count": 8,
   "metadata": {
    "execution": {
     "iopub.execute_input": "2024-09-08T05:51:25.707769Z",
     "iopub.status.busy": "2024-09-08T05:51:25.707626Z",
     "iopub.status.idle": "2024-09-08T05:51:25.709901Z",
     "shell.execute_reply": "2024-09-08T05:51:25.709577Z"
    },
    "id": "GERZ97LaqgXu"
   },
   "outputs": [],
   "source": [
    "from holisticai.bias.metrics import confusion_matrix\n",
    "from sklearn.metrics import precision_score, recall_score, accuracy_score"
   ]
  },
  {
   "cell_type": "code",
   "execution_count": 9,
   "metadata": {
    "colab": {
     "base_uri": "https://localhost:8080/",
     "height": 175
    },
    "execution": {
     "iopub.execute_input": "2024-09-08T05:51:25.711269Z",
     "iopub.status.busy": "2024-09-08T05:51:25.711123Z",
     "iopub.status.idle": "2024-09-08T05:51:25.716609Z",
     "shell.execute_reply": "2024-09-08T05:51:25.716298Z"
    },
    "id": "FnkQ9ZOYqgXu",
    "outputId": "ed316f8c-c401-457f-8374-0422160375f1"
   },
   "outputs": [
    {
     "data": {
      "text/html": [
       "<div>\n",
       "<style scoped>\n",
       "    .dataframe tbody tr th:only-of-type {\n",
       "        vertical-align: middle;\n",
       "    }\n",
       "\n",
       "    .dataframe tbody tr th {\n",
       "        vertical-align: top;\n",
       "    }\n",
       "\n",
       "    .dataframe thead th {\n",
       "        text-align: right;\n",
       "    }\n",
       "</style>\n",
       "<table border=\"1\" class=\"dataframe\">\n",
       "  <thead>\n",
       "    <tr style=\"text-align: right;\">\n",
       "      <th></th>\n",
       "      <th>0</th>\n",
       "      <th>1</th>\n",
       "      <th>2</th>\n",
       "    </tr>\n",
       "  </thead>\n",
       "  <tbody>\n",
       "    <tr>\n",
       "      <th>0</th>\n",
       "      <td>16.0</td>\n",
       "      <td>13.0</td>\n",
       "      <td>9.0</td>\n",
       "    </tr>\n",
       "    <tr>\n",
       "      <th>1</th>\n",
       "      <td>4.0</td>\n",
       "      <td>2.0</td>\n",
       "      <td>5.0</td>\n",
       "    </tr>\n",
       "    <tr>\n",
       "      <th>2</th>\n",
       "      <td>12.0</td>\n",
       "      <td>18.0</td>\n",
       "      <td>40.0</td>\n",
       "    </tr>\n",
       "  </tbody>\n",
       "</table>\n",
       "</div>"
      ],
      "text/plain": [
       "      0     1     2\n",
       "0  16.0  13.0   9.0\n",
       "1   4.0   2.0   5.0\n",
       "2  12.0  18.0  40.0"
      ]
     },
     "execution_count": 9,
     "metadata": {},
     "output_type": "execute_result"
    }
   ],
   "source": [
    "confusion_matrix(y_pred, y_test)"
   ]
  },
  {
   "cell_type": "code",
   "execution_count": 10,
   "metadata": {
    "colab": {
     "base_uri": "https://localhost:8080/"
    },
    "execution": {
     "iopub.execute_input": "2024-09-08T05:51:25.718128Z",
     "iopub.status.busy": "2024-09-08T05:51:25.718003Z",
     "iopub.status.idle": "2024-09-08T05:51:25.724526Z",
     "shell.execute_reply": "2024-09-08T05:51:25.724139Z"
    },
    "id": "r9EsTrK7qgXu",
    "outputId": "479067c6-aba3-4aaa-9d7e-df97996064ac"
   },
   "outputs": [
    {
     "name": "stdout",
     "output_type": "stream",
     "text": [
      "0.48739495798319327\n",
      "[0.42105263 0.18181818 0.57142857]\n",
      "[0.5        0.06060606 0.74074074]\n"
     ]
    }
   ],
   "source": [
    "# evaluate\n",
    "print (accuracy_score(y_test, y_pred))\n",
    "print (precision_score(y_test, y_pred, average=None))\n",
    "print (recall_score(y_test, y_pred, average=None))"
   ]
  },
  {
   "cell_type": "markdown",
   "metadata": {
    "id": "SbeDKujLqgXu"
   },
   "source": [
    "## **Measure bias**"
   ]
  },
  {
   "cell_type": "code",
   "execution_count": 11,
   "metadata": {
    "execution": {
     "iopub.execute_input": "2024-09-08T05:51:25.726057Z",
     "iopub.status.busy": "2024-09-08T05:51:25.725902Z",
     "iopub.status.idle": "2024-09-08T05:51:25.727949Z",
     "shell.execute_reply": "2024-09-08T05:51:25.727595Z"
    },
    "id": "fyAbJrXTqgXv"
   },
   "outputs": [],
   "source": [
    "from holisticai.bias.plots import frequency_matrix_plot\n",
    "from holisticai.bias.plots import frequency_plot"
   ]
  },
  {
   "cell_type": "code",
   "execution_count": 12,
   "metadata": {
    "execution": {
     "iopub.execute_input": "2024-09-08T05:51:25.729399Z",
     "iopub.status.busy": "2024-09-08T05:51:25.729276Z",
     "iopub.status.idle": "2024-09-08T05:51:25.736297Z",
     "shell.execute_reply": "2024-09-08T05:51:25.735918Z"
    },
    "id": "x952tSLcqgXv"
   },
   "outputs": [],
   "source": [
    "y_pred = model.predict(x_test)   # multiclass prediction vector                                                 # multiclass label vector"
   ]
  },
  {
   "cell_type": "code",
   "execution_count": 13,
   "metadata": {
    "colab": {
     "base_uri": "https://localhost:8080/",
     "height": 524
    },
    "execution": {
     "iopub.execute_input": "2024-09-08T05:51:25.737773Z",
     "iopub.status.busy": "2024-09-08T05:51:25.737623Z",
     "iopub.status.idle": "2024-09-08T05:51:25.884971Z",
     "shell.execute_reply": "2024-09-08T05:51:25.884493Z"
    },
    "id": "7HG3hgeIqgXv",
    "outputId": "43cfc5be-1128-4791-c963-a4286882cbe1"
   },
   "outputs": [
    {
     "data": {
      "text/plain": [
       "<Axes: title={'center': 'Frequency matrix plot'}, xlabel='Class', ylabel='Group'>"
      ]
     },
     "execution_count": 13,
     "metadata": {},
     "output_type": "execute_result"
    },
    {
     "data": {
      "image/png": "[encoded data removed]",
      "text/plain": [
       "<Figure size 640x480 with 2 Axes>"
      ]
     },
     "metadata": {},
     "output_type": "display_data"
    }
   ],
   "source": [
    "frequency_matrix_plot(p_attr_test, y_pred, normalize='group')"
   ]
  },
  {
   "cell_type": "markdown",
   "metadata": {
    "id": "tBtjgAK9qgXx"
   },
   "source": [
    "Using the above plot, we observe unfairness by looking at differences over columns. For instance we look at the class 1.0, and observe how the 'health' group has a much higher probability of being within it."
   ]
  },
  {
   "cell_type": "code",
   "execution_count": 14,
   "metadata": {
    "colab": {
     "base_uri": "https://localhost:8080/",
     "height": 1000
    },
    "execution": {
     "iopub.execute_input": "2024-09-08T05:51:25.886632Z",
     "iopub.status.busy": "2024-09-08T05:51:25.886470Z",
     "iopub.status.idle": "2024-09-08T05:51:26.194028Z",
     "shell.execute_reply": "2024-09-08T05:51:26.193548Z"
    },
    "id": "lhscqKQbqgXx",
    "outputId": "ab34fb21-a481-4035-8010-c7a7e9e175f3"
   },
   "outputs": [
    {
     "data": {
      "image/png": "[encoded data removed]",
      "text/plain": [
       "<Figure size 640x480 with 1 Axes>"
      ]
     },
     "metadata": {},
     "output_type": "display_data"
    },
    {
     "data": {
      "image/png": "[encoded data removed]",
      "text/plain": [
       "<Figure size 640x480 with 1 Axes>"
      ]
     },
     "metadata": {},
     "output_type": "display_data"
    },
    {
     "data": {
      "image/png": "[encoded data removed]",
      "text/plain": [
       "<Figure size 640x480 with 1 Axes>"
      ]
     },
     "metadata": {},
     "output_type": "display_data"
    }
   ],
   "source": [
    "frequency_plot(p_attr_test, y_pred)"
   ]
  },
  {
   "cell_type": "markdown",
   "metadata": {
    "id": "u6zag5EDqgXx"
   },
   "source": [
    "This is the same data as the previous plot, but displayed in a different way."
   ]
  },
  {
   "cell_type": "markdown",
   "metadata": {
    "id": "iiiI-Ja6qgXx"
   },
   "source": [
    "Let's compute a few bias metrics. We have generalised versions of '1d' bias metrics. For instance multiclass statistical parity."
   ]
  },
  {
   "cell_type": "code",
   "execution_count": 15,
   "metadata": {
    "colab": {
     "base_uri": "https://localhost:8080/"
    },
    "execution": {
     "iopub.execute_input": "2024-09-08T05:51:26.195672Z",
     "iopub.status.busy": "2024-09-08T05:51:26.195536Z",
     "iopub.status.idle": "2024-09-08T05:51:26.199655Z",
     "shell.execute_reply": "2024-09-08T05:51:26.199344Z"
    },
    "id": "mDuOxscEqgXx",
    "outputId": "348b4754-1317-4613-e111-97c05adbc290"
   },
   "outputs": [
    {
     "data": {
      "text/plain": [
       "np.float64(0.051977401129943465)"
      ]
     },
     "execution_count": 15,
     "metadata": {},
     "output_type": "execute_result"
    }
   ],
   "source": [
    "from holisticai.bias.metrics import multiclass_statistical_parity\n",
    "\n",
    "multiclass_statistical_parity(\n",
    "    p_attr_test, y_pred, groups=None, classes=None, aggregation_fun=\"mean\"\n",
    ")"
   ]
  },
  {
   "cell_type": "markdown",
   "metadata": {
    "id": "zZZyODqxqgXx"
   },
   "source": [
    "We now compute statistical parity, generalized for the multiclass case. We aggregate by taking the average multilabel statistical parity over all possible group pairs (`aggregation_fun=\"mean\"`). As in the 1d case, the suggested accepted range is (-0.1, 0.1)."
   ]
  },
  {
   "cell_type": "code",
   "execution_count": 16,
   "metadata": {
    "colab": {
     "base_uri": "https://localhost:8080/"
    },
    "execution": {
     "iopub.execute_input": "2024-09-08T05:51:26.201158Z",
     "iopub.status.busy": "2024-09-08T05:51:26.201005Z",
     "iopub.status.idle": "2024-09-08T05:51:26.204567Z",
     "shell.execute_reply": "2024-09-08T05:51:26.204254Z"
    },
    "id": "RXtf2Q_PqgXx",
    "outputId": "86cefc7b-82d9-41e7-be5f-7c3cbc3f4580"
   },
   "outputs": [
    {
     "data": {
      "text/plain": [
       "np.float64(0.051977401129943465)"
      ]
     },
     "execution_count": 16,
     "metadata": {},
     "output_type": "execute_result"
    }
   ],
   "source": [
    "multiclass_statistical_parity(\n",
    "    p_attr_test, y_pred, groups=None, classes=None, aggregation_fun=\"max\"\n",
    ")"
   ]
  },
  {
   "cell_type": "markdown",
   "metadata": {
    "id": "UddQ-mQPqgXy"
   },
   "source": [
    "Alternatively, we could aggregate by taking the maximum (`aggregation_fun=\"max\"`) over all possible group pairs. As expected, the maximum statistical parity is higher in this case."
   ]
  },
  {
   "cell_type": "markdown",
   "metadata": {
    "id": "dwa3r9LtqgXy"
   },
   "source": [
    "We can try another bias metric, for instace multiclass_equality_of_opp is the multidimensional version of the 1d equal opportunity metric."
   ]
  },
  {
   "cell_type": "code",
   "execution_count": 17,
   "metadata": {
    "colab": {
     "base_uri": "https://localhost:8080/"
    },
    "execution": {
     "iopub.execute_input": "2024-09-08T05:51:26.206075Z",
     "iopub.status.busy": "2024-09-08T05:51:26.205929Z",
     "iopub.status.idle": "2024-09-08T05:51:26.209571Z",
     "shell.execute_reply": "2024-09-08T05:51:26.209244Z"
    },
    "id": "p3uS2iZ6qgXy",
    "outputId": "3993f03a-beea-47f6-c4a1-00359d12012b"
   },
   "outputs": [
    {
     "data": {
      "text/plain": [
       "np.float64(0.3224740773502383)"
      ]
     },
     "execution_count": 17,
     "metadata": {},
     "output_type": "execute_result"
    }
   ],
   "source": [
    "from holisticai.bias.metrics import multiclass_equality_of_opp\n",
    "\n",
    "multiclass_equality_of_opp(\n",
    "    p_attr_test, y_pred, y_test, groups=None, classes=None, aggregation_fun=\"mean\"\n",
    ")"
   ]
  },
  {
   "cell_type": "code",
   "execution_count": 18,
   "metadata": {
    "colab": {
     "base_uri": "https://localhost:8080/"
    },
    "execution": {
     "iopub.execute_input": "2024-09-08T05:51:26.211045Z",
     "iopub.status.busy": "2024-09-08T05:51:26.210900Z",
     "iopub.status.idle": "2024-09-08T05:51:26.214379Z",
     "shell.execute_reply": "2024-09-08T05:51:26.214065Z"
    },
    "id": "QYf-3buhqgXz",
    "outputId": "e5f58bd7-12b2-49b3-cef7-a90af54af2fa"
   },
   "outputs": [
    {
     "data": {
      "text/plain": [
       "np.float64(0.3224740773502383)"
      ]
     },
     "execution_count": 18,
     "metadata": {},
     "output_type": "execute_result"
    }
   ],
   "source": [
    "multiclass_equality_of_opp(\n",
    "    p_attr_test, y_pred, y_test, groups=None, classes=None, aggregation_fun=\"max\"\n",
    ")"
   ]
  },
  {
   "cell_type": "code",
   "execution_count": 19,
   "metadata": {
    "execution": {
     "iopub.execute_input": "2024-09-08T05:51:26.215834Z",
     "iopub.status.busy": "2024-09-08T05:51:26.215691Z",
     "iopub.status.idle": "2024-09-08T05:51:26.225698Z",
     "shell.execute_reply": "2024-09-08T05:51:26.225358Z"
    }
   },
   "outputs": [
    {
     "data": {
      "text/html": [
       "<div>\n",
       "<style scoped>\n",
       "    .dataframe tbody tr th:only-of-type {\n",
       "        vertical-align: middle;\n",
       "    }\n",
       "\n",
       "    .dataframe tbody tr th {\n",
       "        vertical-align: top;\n",
       "    }\n",
       "\n",
       "    .dataframe thead th {\n",
       "        text-align: right;\n",
       "    }\n",
       "</style>\n",
       "<table border=\"1\" class=\"dataframe\">\n",
       "  <thead>\n",
       "    <tr style=\"text-align: right;\">\n",
       "      <th></th>\n",
       "      <th>Value</th>\n",
       "      <th>Reference</th>\n",
       "    </tr>\n",
       "    <tr>\n",
       "      <th>Metric</th>\n",
       "      <th></th>\n",
       "      <th></th>\n",
       "    </tr>\n",
       "  </thead>\n",
       "  <tbody>\n",
       "    <tr>\n",
       "      <th>Max Multiclass Statistical Parity</th>\n",
       "      <td>0.051977</td>\n",
       "      <td>0</td>\n",
       "    </tr>\n",
       "    <tr>\n",
       "      <th>Mean Multiclass Statistical Parity</th>\n",
       "      <td>0.051977</td>\n",
       "      <td>0</td>\n",
       "    </tr>\n",
       "    <tr>\n",
       "      <th>Max Multiclass Equality of Opportunity</th>\n",
       "      <td>0.322474</td>\n",
       "      <td>0</td>\n",
       "    </tr>\n",
       "    <tr>\n",
       "      <th>Max Multiclass Average Odds</th>\n",
       "      <td>0.076275</td>\n",
       "      <td>0</td>\n",
       "    </tr>\n",
       "    <tr>\n",
       "      <th>Max Multiclass True Positive Difference</th>\n",
       "      <td>0.172115</td>\n",
       "      <td>0</td>\n",
       "    </tr>\n",
       "    <tr>\n",
       "      <th>Mean Multiclass Equality of Opportunity</th>\n",
       "      <td>0.322474</td>\n",
       "      <td>0</td>\n",
       "    </tr>\n",
       "    <tr>\n",
       "      <th>Mean Multiclass Average Odds</th>\n",
       "      <td>0.076275</td>\n",
       "      <td>0</td>\n",
       "    </tr>\n",
       "    <tr>\n",
       "      <th>Mean Multiclass True Positive Difference</th>\n",
       "      <td>0.172115</td>\n",
       "      <td>0</td>\n",
       "    </tr>\n",
       "  </tbody>\n",
       "</table>\n",
       "</div>"
      ],
      "text/plain": [
       "                                             Value  Reference\n",
       "Metric                                                       \n",
       "Max Multiclass Statistical Parity         0.051977          0\n",
       "Mean Multiclass Statistical Parity        0.051977          0\n",
       "Max Multiclass Equality of Opportunity    0.322474          0\n",
       "Max Multiclass Average Odds               0.076275          0\n",
       "Max Multiclass True Positive Difference   0.172115          0\n",
       "Mean Multiclass Equality of Opportunity   0.322474          0\n",
       "Mean Multiclass Average Odds              0.076275          0\n",
       "Mean Multiclass True Positive Difference  0.172115          0"
      ]
     },
     "execution_count": 19,
     "metadata": {},
     "output_type": "execute_result"
    }
   ],
   "source": [
    "from holisticai.bias.metrics import multiclass_bias_metrics\n",
    "multiclass_bias_metrics(p_attr_test, y_pred, y_test, metric_type='both')"
   ]
  }
 ],
 "metadata": {
  "colab": {
   "provenance": []
  },
  "kernelspec": {
   "display_name": "testing",
   "language": "python",
   "name": "python3"
  },
  "language_info": {
   "codemirror_mode": {
    "name": "ipython",
    "version": 3
   },
   "file_extension": ".py",
   "mimetype": "text/x-python",
   "name": "python",
   "nbconvert_exporter": "python",
   "pygments_lexer": "ipython3",
   "version": "3.11.3"
  }
 },
 "nbformat": 4,
 "nbformat_minor": 0
}
