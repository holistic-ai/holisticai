{
 "cells": [
  {
   "cell_type": "markdown",
   "metadata": {
    "id": "pFKF6N69kCay"
   },
   "source": [
    "# **Measuring Bias in classification**\n"
   ]
  },
  {
   "cell_type": "markdown",
   "metadata": {
    "id": "H4wgoeXalewC"
   },
   "source": [
    "This notebook is a tutorial on auditing bias within a binary classification task. We will use the holisticai library both in the **data exploration** and **measure bias** sections, introducing some of the functions we have created to help study algorithmic bias.\n",
    "\n",
    "The sections are organised as follows :\n",
    "1. Load the data : we load the law school dataset as a pandas DataFrame\n",
    "2. Data Exploration : some preliminary analysis of the data\n",
    "3. Train a Model : we train a simple logistic regression model (sklearn)\n",
    "4. Measure Bias : we compute a few bias metrics, and comment on their meaning"
   ]
  },
  {
   "cell_type": "markdown",
   "metadata": {
    "id": "-nYt5_h77QGN"
   },
   "source": [
    "## **Load the data**"
   ]
  },
  {
   "cell_type": "markdown",
   "metadata": {
    "id": "NUVHPnd6nyFg"
   },
   "source": [
    "First of all, we need to import the required packages to perform our bias analysis and mitigation. You will need to have the `holisticai` package installed on your system, remember that you can install it by running: \n",
    "```bash\n",
    "!pip install holisticai[all]\n",
    "```"
   ]
  },
  {
   "cell_type": "code",
   "execution_count": 1,
   "metadata": {
    "execution": {
     "iopub.execute_input": "2024-09-08T05:51:20.723911Z",
     "iopub.status.busy": "2024-09-08T05:51:20.723775Z",
     "iopub.status.idle": "2024-09-08T05:51:20.728428Z",
     "shell.execute_reply": "2024-09-08T05:51:20.727922Z"
    },
    "id": "KgfZWXdy1REj"
   },
   "outputs": [],
   "source": [
    "# Imports\n",
    "import warnings\n",
    "warnings.filterwarnings(\"ignore\")"
   ]
  },
  {
   "cell_type": "markdown",
   "metadata": {
    "id": "fn78Hu7tlewF"
   },
   "source": [
    "We host a few example datasets on the holisticai library for quick loading and experimentation. Here we load and use the Law School dataset. The goal of this dataset is the prediction of the binary attribute 'bar' (whether a student passes the law school bar). The protected attributes are race and gender. We pay special attention to race in this case, because preliminary exploration hints there is strong inequality on that sensitive attribute."
   ]
  },
  {
   "cell_type": "code",
   "execution_count": 2,
   "metadata": {
    "execution": {
     "iopub.execute_input": "2024-09-08T05:51:20.730063Z",
     "iopub.status.busy": "2024-09-08T05:51:20.729896Z",
     "iopub.status.idle": "2024-09-08T05:51:21.393514Z",
     "shell.execute_reply": "2024-09-08T05:51:21.393056Z"
    }
   },
   "outputs": [
    {
     "data": {
      "text/html": [
       "\n",
       "    <style>\n",
       "        @import url('https://fonts.googleapis.com/css2?family=Montserrat:ital,wght@0,100..900;1,100..900&display=swap');\n",
       "\n",
       "/* Light blue theme (default) */\n",
       ".generic-object-container.blue {\n",
       "    background-color: #f6feff !important; /* Container background: light blue */\n",
       "    border-color: #4db6ac !important; /* Soft blue border */\n",
       "}\n",
       "\n",
       ".generic-object-header.blue {\n",
       "    background-color: #d6faff !important; /* Header background: darker blue */\n",
       "}\n",
       "\n",
       ".generic-object-header.blue:hover {\n",
       "    background-color: #80deea !important; /* Darker shade on hover over the header */\n",
       "}\n",
       "\n",
       ".attribute-list.blue:hover {\n",
       "    background-color: #b2dfdb !important; /* Attribute background on hover: darker blue */\n",
       "}\n",
       "\n",
       "/* Orange theme */\n",
       ".generic-object-container.orange {\n",
       "    background-color: #fff9ef !important; /* Container background: light orange */\n",
       "    border-color: #ffb74d !important; /* Soft orange border */\n",
       "}\n",
       "\n",
       ".generic-object-header.orange {\n",
       "    background-color: #ffe0b2 !important; /* Header background: darker orange */\n",
       "}\n",
       "\n",
       ".generic-object-header.orange:hover {\n",
       "    background-color: #ffcc80 !important; /* Darker shade on hover over the header */\n",
       "}\n",
       "\n",
       ".attribute-list.orange:hover {\n",
       "    background-color: #ffe0b2 !important; /* Attribute background on hover: darker orange */\n",
       "}\n",
       "\n",
       "/* Green theme */\n",
       ".generic-object-container.green {\n",
       "    background-color: #f6fff6 !important; /* Container background: light green */\n",
       "    border-color: #81c784 !important; /* Soft green border */\n",
       "}\n",
       "\n",
       ".generic-object-header.green {\n",
       "    background-color: #c8e6c9 !important; /* Header background: darker green */\n",
       "}\n",
       "\n",
       ".generic-object-header.green:hover {\n",
       "    background-color: #a5d6a7 !important; /* Darker shade on hover over the header */\n",
       "}\n",
       "\n",
       ".attribute-list.green:hover {\n",
       "    background-color: #c8e6c9 !important; /* Attribute background on hover: darker green */\n",
       "}\n",
       "\n",
       "/* Align the first container to the left */\n",
       ".generic-object-container.first-level {\n",
       "    margin: 0;\n",
       "    width: auto;\n",
       "    max-width: 800px;\n",
       "    display: block;\n",
       "    box-sizing: border-box;\n",
       "}\n",
       "\n",
       "/* Nested containers stay centered */\n",
       ".generic-object-container .generic-object-container {\n",
       "    margin: 5px auto;\n",
       "    width: 100%;\n",
       "    display: block;\n",
       "    padding: 5px 0;\n",
       "}\n",
       "\n",
       "/* Remove default background color so only themes apply it */\n",
       ".generic-object-container {\n",
       "    padding: 0;\n",
       "    margin: 0 auto;\n",
       "    border: 1px dashed;\n",
       "    border-radius: 5px;\n",
       "    display: block;\n",
       "    width: auto;\n",
       "    max-width: 800px;\n",
       "    box-sizing: border-box;\n",
       "    margin-bottom: 15px;\n",
       "    transition: transform 0.2s, box-shadow 0.2s;\n",
       "}\n",
       "\n",
       ".generic-object-container:hover {\n",
       "    box-shadow: 0px 4px 10px rgba(77, 182, 172, 0.3);\n",
       "}\n",
       "\n",
       ".generic-object-header {\n",
       "    font-family: 'Montserrat', Arial, sans-serif;\n",
       "    font-size: 14px;\n",
       "    padding: 10px 20px;\n",
       "    padding-left: 40px;\n",
       "    text-align: center;\n",
       "    font-weight: bold;\n",
       "    cursor: pointer;\n",
       "    display: flex;\n",
       "    align-items: center;\n",
       "    justify-content: center;\n",
       "    position: relative;\n",
       "    width: 100%;\n",
       "    box-sizing: border-box;\n",
       "    border-radius: 5px;\n",
       "    transition: background-color 0.3s;\n",
       "}\n",
       "\n",
       ".toggle-button {\n",
       "    margin-right: 10px;\n",
       "    background: none;\n",
       "    border: none;\n",
       "    font-size: 13px;\n",
       "    cursor: pointer;\n",
       "    position: absolute;\n",
       "    left: 10px;\n",
       "    color: #004d40;\n",
       "}\n",
       "\n",
       ".generic-object-body {\n",
       "    padding: 5px 10px;\n",
       "    display: block;\n",
       "    border-radius: 0 0 5px 5px;\n",
       "    background-color: inherit;\n",
       "    margin: 0 auto;\n",
       "}\n",
       "\n",
       ".hidden {\n",
       "    display: none;\n",
       "}\n",
       "\n",
       ".attribute-list {\n",
       "    margin: 2px 0;\n",
       "    padding: 2px;\n",
       "    transition: background-color 0.2s;\n",
       "    display: block;\n",
       "}\n",
       "\n",
       ".flex-space-filler {\n",
       "    display: flex;\n",
       "    justify-content: center;\n",
       "    align-items: center;\n",
       "}\n",
       "\n",
       "    </style>\n",
       "    <div style=\"display: flex;\">\n",
       "    <div class=\"generic-object-container blue first-level\">\n",
       "        <div class=\"generic-object-content\">\n",
       "            <div class=\"generic-object-header blue\" onclick=\"toggleCollapse(this)\">\n",
       "                <button class=\"toggle-button blue\">[-]</button> [Dataset]\n",
       "            </div>\n",
       "            <div class=\"generic-object-body\">\n",
       "                <div class=\"attribute-list blue\"><strong>Instances</strong>: 20800</div><div class=\"attribute-list blue\"><strong>Features</strong>: X , y , p_attrs , group_a , group_b</div><div class=\"attribute-list blue\"><strong>Metadata</strong>: race: {'group_a': 'white', 'group_b': 'non-white'}</div>\n",
       "                \n",
       "            </div>\n",
       "        </div>\n",
       "    </div>\n",
       "</div>\n",
       "    <script>\n",
       "    function toggleCollapse(element) {\n",
       "        var body = element.nextElementSibling;\n",
       "        var button = element.querySelector(\".toggle-button\");\n",
       "        if (body.classList.contains('hidden')) {\n",
       "            body.classList.remove('hidden');\n",
       "            button.textContent = \"[-]\";\n",
       "        } else {\n",
       "            body.classList.add('hidden');\n",
       "            button.textContent = \"[+]\";\n",
       "        }\n",
       "    }\n",
       "    </script>\n",
       "    "
      ],
      "text/plain": [
       "<holisticai.datasets._dataset.Dataset object at 0x7f04b6a3ff50>"
      ]
     },
     "execution_count": 2,
     "metadata": {},
     "output_type": "execute_result"
    }
   ],
   "source": [
    "from holisticai.datasets import load_dataset\n",
    "\n",
    "dataset = load_dataset('law_school', protected_attribute='race')\n",
    "dataset"
   ]
  },
  {
   "cell_type": "markdown",
   "metadata": {
    "id": "TajqKuT6lewG"
   },
   "source": [
    "## **Data Exploration**"
   ]
  },
  {
   "cell_type": "markdown",
   "metadata": {
    "id": "Xr5I_C2tlewH"
   },
   "source": [
    "We import some of the holisticai plotters for quick exploration of the data."
   ]
  },
  {
   "cell_type": "code",
   "execution_count": 3,
   "metadata": {
    "execution": {
     "iopub.execute_input": "2024-09-08T05:51:21.395411Z",
     "iopub.status.busy": "2024-09-08T05:51:21.395224Z",
     "iopub.status.idle": "2024-09-08T05:51:21.929649Z",
     "shell.execute_reply": "2024-09-08T05:51:21.929169Z"
    },
    "id": "A_mIRR-KlewI"
   },
   "outputs": [
    {
     "data": {
      "text/plain": [
       "<Axes: title={'center': 'Frequency Plot'}, xlabel='Group', ylabel='Frequency'>"
      ]
     },
     "execution_count": 3,
     "metadata": {},
     "output_type": "execute_result"
    },
    {
     "data": {
      "image/png": "[encoded data removed]",
      "text/plain": [
       "<Figure size 1500x500 with 2 Axes>"
      ]
     },
     "metadata": {},
     "output_type": "display_data"
    }
   ],
   "source": [
    "from holisticai.bias.plots import group_pie_plot, frequency_plot\n",
    "import matplotlib.pyplot as plt\n",
    "\n",
    "group_a = dataset['group_a']\n",
    "group_a = dataset['group_b']\n",
    "\n",
    "fig,axs = plt.subplots(1, 2, figsize=(15,5))\n",
    "group_pie_plot(group_a, ax=axs[0], title='Group Pie Plot')\n",
    "frequency_plot(group_a, dataset['y'], ax=axs[1], title='Frequency Plot')"
   ]
  },
  {
   "cell_type": "markdown",
   "metadata": {
    "id": "wtG3AQdxlewK"
   },
   "source": [
    "The proportion of white people in law school is very high, allready we observe there is a big representation issue."
   ]
  },
  {
   "cell_type": "markdown",
   "metadata": {
    "id": "mUAw1GV7lewM"
   },
   "source": [
    "We also observe that the white group has a much higher pass rate (within the dataset) than the non-white group."
   ]
  },
  {
   "cell_type": "markdown",
   "metadata": {
    "id": "8FuyOc0ZlewM"
   },
   "source": [
    "## **Train a model**"
   ]
  },
  {
   "cell_type": "markdown",
   "metadata": {
    "id": "13-DFD9flewO"
   },
   "source": [
    "\n",
    "Here we train a Logistic Regression classifier."
   ]
  },
  {
   "cell_type": "code",
   "execution_count": 4,
   "metadata": {
    "execution": {
     "iopub.execute_input": "2024-09-08T05:51:21.931752Z",
     "iopub.status.busy": "2024-09-08T05:51:21.931470Z",
     "iopub.status.idle": "2024-09-08T05:51:21.940655Z",
     "shell.execute_reply": "2024-09-08T05:51:21.940207Z"
    },
    "id": "fo4na9kCw6bN"
   },
   "outputs": [
    {
     "data": {
      "text/html": [
       "\n",
       "    <style>\n",
       "        @import url('https://fonts.googleapis.com/css2?family=Montserrat:ital,wght@0,100..900;1,100..900&display=swap');\n",
       "\n",
       "/* Light blue theme (default) */\n",
       ".generic-object-container.blue {\n",
       "    background-color: #f6feff !important; /* Container background: light blue */\n",
       "    border-color: #4db6ac !important; /* Soft blue border */\n",
       "}\n",
       "\n",
       ".generic-object-header.blue {\n",
       "    background-color: #d6faff !important; /* Header background: darker blue */\n",
       "}\n",
       "\n",
       ".generic-object-header.blue:hover {\n",
       "    background-color: #80deea !important; /* Darker shade on hover over the header */\n",
       "}\n",
       "\n",
       ".attribute-list.blue:hover {\n",
       "    background-color: #b2dfdb !important; /* Attribute background on hover: darker blue */\n",
       "}\n",
       "\n",
       "/* Orange theme */\n",
       ".generic-object-container.orange {\n",
       "    background-color: #fff9ef !important; /* Container background: light orange */\n",
       "    border-color: #ffb74d !important; /* Soft orange border */\n",
       "}\n",
       "\n",
       ".generic-object-header.orange {\n",
       "    background-color: #ffe0b2 !important; /* Header background: darker orange */\n",
       "}\n",
       "\n",
       ".generic-object-header.orange:hover {\n",
       "    background-color: #ffcc80 !important; /* Darker shade on hover over the header */\n",
       "}\n",
       "\n",
       ".attribute-list.orange:hover {\n",
       "    background-color: #ffe0b2 !important; /* Attribute background on hover: darker orange */\n",
       "}\n",
       "\n",
       "/* Green theme */\n",
       ".generic-object-container.green {\n",
       "    background-color: #f6fff6 !important; /* Container background: light green */\n",
       "    border-color: #81c784 !important; /* Soft green border */\n",
       "}\n",
       "\n",
       ".generic-object-header.green {\n",
       "    background-color: #c8e6c9 !important; /* Header background: darker green */\n",
       "}\n",
       "\n",
       ".generic-object-header.green:hover {\n",
       "    background-color: #a5d6a7 !important; /* Darker shade on hover over the header */\n",
       "}\n",
       "\n",
       ".attribute-list.green:hover {\n",
       "    background-color: #c8e6c9 !important; /* Attribute background on hover: darker green */\n",
       "}\n",
       "\n",
       "/* Align the first container to the left */\n",
       ".generic-object-container.first-level {\n",
       "    margin: 0;\n",
       "    width: auto;\n",
       "    max-width: 800px;\n",
       "    display: block;\n",
       "    box-sizing: border-box;\n",
       "}\n",
       "\n",
       "/* Nested containers stay centered */\n",
       ".generic-object-container .generic-object-container {\n",
       "    margin: 5px auto;\n",
       "    width: 100%;\n",
       "    display: block;\n",
       "    padding: 5px 0;\n",
       "}\n",
       "\n",
       "/* Remove default background color so only themes apply it */\n",
       ".generic-object-container {\n",
       "    padding: 0;\n",
       "    margin: 0 auto;\n",
       "    border: 1px dashed;\n",
       "    border-radius: 5px;\n",
       "    display: block;\n",
       "    width: auto;\n",
       "    max-width: 800px;\n",
       "    box-sizing: border-box;\n",
       "    margin-bottom: 15px;\n",
       "    transition: transform 0.2s, box-shadow 0.2s;\n",
       "}\n",
       "\n",
       ".generic-object-container:hover {\n",
       "    box-shadow: 0px 4px 10px rgba(77, 182, 172, 0.3);\n",
       "}\n",
       "\n",
       ".generic-object-header {\n",
       "    font-family: 'Montserrat', Arial, sans-serif;\n",
       "    font-size: 14px;\n",
       "    padding: 10px 20px;\n",
       "    padding-left: 40px;\n",
       "    text-align: center;\n",
       "    font-weight: bold;\n",
       "    cursor: pointer;\n",
       "    display: flex;\n",
       "    align-items: center;\n",
       "    justify-content: center;\n",
       "    position: relative;\n",
       "    width: 100%;\n",
       "    box-sizing: border-box;\n",
       "    border-radius: 5px;\n",
       "    transition: background-color 0.3s;\n",
       "}\n",
       "\n",
       ".toggle-button {\n",
       "    margin-right: 10px;\n",
       "    background: none;\n",
       "    border: none;\n",
       "    font-size: 13px;\n",
       "    cursor: pointer;\n",
       "    position: absolute;\n",
       "    left: 10px;\n",
       "    color: #004d40;\n",
       "}\n",
       "\n",
       ".generic-object-body {\n",
       "    padding: 5px 10px;\n",
       "    display: block;\n",
       "    border-radius: 0 0 5px 5px;\n",
       "    background-color: inherit;\n",
       "    margin: 0 auto;\n",
       "}\n",
       "\n",
       ".hidden {\n",
       "    display: none;\n",
       "}\n",
       "\n",
       ".attribute-list {\n",
       "    margin: 2px 0;\n",
       "    padding: 2px;\n",
       "    transition: background-color 0.2s;\n",
       "    display: block;\n",
       "}\n",
       "\n",
       ".flex-space-filler {\n",
       "    display: flex;\n",
       "    justify-content: center;\n",
       "    align-items: center;\n",
       "}\n",
       "\n",
       "    </style>\n",
       "    <div style=\"display: flex;\">\n",
       "    <div class=\"generic-object-container blue first-level\">\n",
       "        <div class=\"generic-object-content\">\n",
       "            <div class=\"generic-object-header blue\" onclick=\"toggleCollapse(this)\">\n",
       "                <button class=\"toggle-button blue\">[-]</button> [DatasetDict]\n",
       "            </div>\n",
       "            <div class=\"generic-object-body\">\n",
       "                \n",
       "                \n",
       "    <style>\n",
       "        @import url('https://fonts.googleapis.com/css2?family=Montserrat:ital,wght@0,100..900;1,100..900&display=swap');\n",
       "\n",
       "/* Light blue theme (default) */\n",
       ".generic-object-container.blue {\n",
       "    background-color: #f6feff !important; /* Container background: light blue */\n",
       "    border-color: #4db6ac !important; /* Soft blue border */\n",
       "}\n",
       "\n",
       ".generic-object-header.blue {\n",
       "    background-color: #d6faff !important; /* Header background: darker blue */\n",
       "}\n",
       "\n",
       ".generic-object-header.blue:hover {\n",
       "    background-color: #80deea !important; /* Darker shade on hover over the header */\n",
       "}\n",
       "\n",
       ".attribute-list.blue:hover {\n",
       "    background-color: #b2dfdb !important; /* Attribute background on hover: darker blue */\n",
       "}\n",
       "\n",
       "/* Orange theme */\n",
       ".generic-object-container.orange {\n",
       "    background-color: #fff9ef !important; /* Container background: light orange */\n",
       "    border-color: #ffb74d !important; /* Soft orange border */\n",
       "}\n",
       "\n",
       ".generic-object-header.orange {\n",
       "    background-color: #ffe0b2 !important; /* Header background: darker orange */\n",
       "}\n",
       "\n",
       ".generic-object-header.orange:hover {\n",
       "    background-color: #ffcc80 !important; /* Darker shade on hover over the header */\n",
       "}\n",
       "\n",
       ".attribute-list.orange:hover {\n",
       "    background-color: #ffe0b2 !important; /* Attribute background on hover: darker orange */\n",
       "}\n",
       "\n",
       "/* Green theme */\n",
       ".generic-object-container.green {\n",
       "    background-color: #f6fff6 !important; /* Container background: light green */\n",
       "    border-color: #81c784 !important; /* Soft green border */\n",
       "}\n",
       "\n",
       ".generic-object-header.green {\n",
       "    background-color: #c8e6c9 !important; /* Header background: darker green */\n",
       "}\n",
       "\n",
       ".generic-object-header.green:hover {\n",
       "    background-color: #a5d6a7 !important; /* Darker shade on hover over the header */\n",
       "}\n",
       "\n",
       ".attribute-list.green:hover {\n",
       "    background-color: #c8e6c9 !important; /* Attribute background on hover: darker green */\n",
       "}\n",
       "\n",
       "/* Align the first container to the left */\n",
       ".generic-object-container.first-level {\n",
       "    margin: 0;\n",
       "    width: auto;\n",
       "    max-width: 800px;\n",
       "    display: block;\n",
       "    box-sizing: border-box;\n",
       "}\n",
       "\n",
       "/* Nested containers stay centered */\n",
       ".generic-object-container .generic-object-container {\n",
       "    margin: 5px auto;\n",
       "    width: 100%;\n",
       "    display: block;\n",
       "    padding: 5px 0;\n",
       "}\n",
       "\n",
       "/* Remove default background color so only themes apply it */\n",
       ".generic-object-container {\n",
       "    padding: 0;\n",
       "    margin: 0 auto;\n",
       "    border: 1px dashed;\n",
       "    border-radius: 5px;\n",
       "    display: block;\n",
       "    width: auto;\n",
       "    max-width: 800px;\n",
       "    box-sizing: border-box;\n",
       "    margin-bottom: 15px;\n",
       "    transition: transform 0.2s, box-shadow 0.2s;\n",
       "}\n",
       "\n",
       ".generic-object-container:hover {\n",
       "    box-shadow: 0px 4px 10px rgba(77, 182, 172, 0.3);\n",
       "}\n",
       "\n",
       ".generic-object-header {\n",
       "    font-family: 'Montserrat', Arial, sans-serif;\n",
       "    font-size: 14px;\n",
       "    padding: 10px 20px;\n",
       "    padding-left: 40px;\n",
       "    text-align: center;\n",
       "    font-weight: bold;\n",
       "    cursor: pointer;\n",
       "    display: flex;\n",
       "    align-items: center;\n",
       "    justify-content: center;\n",
       "    position: relative;\n",
       "    width: 100%;\n",
       "    box-sizing: border-box;\n",
       "    border-radius: 5px;\n",
       "    transition: background-color 0.3s;\n",
       "}\n",
       "\n",
       ".toggle-button {\n",
       "    margin-right: 10px;\n",
       "    background: none;\n",
       "    border: none;\n",
       "    font-size: 13px;\n",
       "    cursor: pointer;\n",
       "    position: absolute;\n",
       "    left: 10px;\n",
       "    color: #004d40;\n",
       "}\n",
       "\n",
       ".generic-object-body {\n",
       "    padding: 5px 10px;\n",
       "    display: block;\n",
       "    border-radius: 0 0 5px 5px;\n",
       "    background-color: inherit;\n",
       "    margin: 0 auto;\n",
       "}\n",
       "\n",
       ".hidden {\n",
       "    display: none;\n",
       "}\n",
       "\n",
       ".attribute-list {\n",
       "    margin: 2px 0;\n",
       "    padding: 2px;\n",
       "    transition: background-color 0.2s;\n",
       "    display: block;\n",
       "}\n",
       "\n",
       ".flex-space-filler {\n",
       "    display: flex;\n",
       "    justify-content: center;\n",
       "    align-items: center;\n",
       "}\n",
       "\n",
       "    </style>\n",
       "    <div style=\"display: flex;\">\n",
       "    <div class=\"generic-object-container blue first-level\">\n",
       "        <div class=\"generic-object-content\">\n",
       "            <div class=\"generic-object-header blue\" onclick=\"toggleCollapse(this)\">\n",
       "                <button class=\"toggle-button blue\">[-]</button> train [Dataset]\n",
       "            </div>\n",
       "            <div class=\"generic-object-body\">\n",
       "                <div class=\"attribute-list blue\"><strong>Instances</strong>: 14560</div><div class=\"attribute-list blue\"><strong>Features</strong>: X , y , p_attrs , group_a , group_b</div><div class=\"attribute-list blue\"><strong>Metadata</strong>: race: {'group_a': 'white', 'group_b': 'non-white'}</div>\n",
       "                \n",
       "            </div>\n",
       "        </div>\n",
       "    </div>\n",
       "</div>\n",
       "    <script>\n",
       "    function toggleCollapse(element) {\n",
       "        var body = element.nextElementSibling;\n",
       "        var button = element.querySelector(\".toggle-button\");\n",
       "        if (body.classList.contains('hidden')) {\n",
       "            body.classList.remove('hidden');\n",
       "            button.textContent = \"[-]\";\n",
       "        } else {\n",
       "            body.classList.add('hidden');\n",
       "            button.textContent = \"[+]\";\n",
       "        }\n",
       "    }\n",
       "    </script>\n",
       "    \n",
       "    <style>\n",
       "        @import url('https://fonts.googleapis.com/css2?family=Montserrat:ital,wght@0,100..900;1,100..900&display=swap');\n",
       "\n",
       "/* Light blue theme (default) */\n",
       ".generic-object-container.blue {\n",
       "    background-color: #f6feff !important; /* Container background: light blue */\n",
       "    border-color: #4db6ac !important; /* Soft blue border */\n",
       "}\n",
       "\n",
       ".generic-object-header.blue {\n",
       "    background-color: #d6faff !important; /* Header background: darker blue */\n",
       "}\n",
       "\n",
       ".generic-object-header.blue:hover {\n",
       "    background-color: #80deea !important; /* Darker shade on hover over the header */\n",
       "}\n",
       "\n",
       ".attribute-list.blue:hover {\n",
       "    background-color: #b2dfdb !important; /* Attribute background on hover: darker blue */\n",
       "}\n",
       "\n",
       "/* Orange theme */\n",
       ".generic-object-container.orange {\n",
       "    background-color: #fff9ef !important; /* Container background: light orange */\n",
       "    border-color: #ffb74d !important; /* Soft orange border */\n",
       "}\n",
       "\n",
       ".generic-object-header.orange {\n",
       "    background-color: #ffe0b2 !important; /* Header background: darker orange */\n",
       "}\n",
       "\n",
       ".generic-object-header.orange:hover {\n",
       "    background-color: #ffcc80 !important; /* Darker shade on hover over the header */\n",
       "}\n",
       "\n",
       ".attribute-list.orange:hover {\n",
       "    background-color: #ffe0b2 !important; /* Attribute background on hover: darker orange */\n",
       "}\n",
       "\n",
       "/* Green theme */\n",
       ".generic-object-container.green {\n",
       "    background-color: #f6fff6 !important; /* Container background: light green */\n",
       "    border-color: #81c784 !important; /* Soft green border */\n",
       "}\n",
       "\n",
       ".generic-object-header.green {\n",
       "    background-color: #c8e6c9 !important; /* Header background: darker green */\n",
       "}\n",
       "\n",
       ".generic-object-header.green:hover {\n",
       "    background-color: #a5d6a7 !important; /* Darker shade on hover over the header */\n",
       "}\n",
       "\n",
       ".attribute-list.green:hover {\n",
       "    background-color: #c8e6c9 !important; /* Attribute background on hover: darker green */\n",
       "}\n",
       "\n",
       "/* Align the first container to the left */\n",
       ".generic-object-container.first-level {\n",
       "    margin: 0;\n",
       "    width: auto;\n",
       "    max-width: 800px;\n",
       "    display: block;\n",
       "    box-sizing: border-box;\n",
       "}\n",
       "\n",
       "/* Nested containers stay centered */\n",
       ".generic-object-container .generic-object-container {\n",
       "    margin: 5px auto;\n",
       "    width: 100%;\n",
       "    display: block;\n",
       "    padding: 5px 0;\n",
       "}\n",
       "\n",
       "/* Remove default background color so only themes apply it */\n",
       ".generic-object-container {\n",
       "    padding: 0;\n",
       "    margin: 0 auto;\n",
       "    border: 1px dashed;\n",
       "    border-radius: 5px;\n",
       "    display: block;\n",
       "    width: auto;\n",
       "    max-width: 800px;\n",
       "    box-sizing: border-box;\n",
       "    margin-bottom: 15px;\n",
       "    transition: transform 0.2s, box-shadow 0.2s;\n",
       "}\n",
       "\n",
       ".generic-object-container:hover {\n",
       "    box-shadow: 0px 4px 10px rgba(77, 182, 172, 0.3);\n",
       "}\n",
       "\n",
       ".generic-object-header {\n",
       "    font-family: 'Montserrat', Arial, sans-serif;\n",
       "    font-size: 14px;\n",
       "    padding: 10px 20px;\n",
       "    padding-left: 40px;\n",
       "    text-align: center;\n",
       "    font-weight: bold;\n",
       "    cursor: pointer;\n",
       "    display: flex;\n",
       "    align-items: center;\n",
       "    justify-content: center;\n",
       "    position: relative;\n",
       "    width: 100%;\n",
       "    box-sizing: border-box;\n",
       "    border-radius: 5px;\n",
       "    transition: background-color 0.3s;\n",
       "}\n",
       "\n",
       ".toggle-button {\n",
       "    margin-right: 10px;\n",
       "    background: none;\n",
       "    border: none;\n",
       "    font-size: 13px;\n",
       "    cursor: pointer;\n",
       "    position: absolute;\n",
       "    left: 10px;\n",
       "    color: #004d40;\n",
       "}\n",
       "\n",
       ".generic-object-body {\n",
       "    padding: 5px 10px;\n",
       "    display: block;\n",
       "    border-radius: 0 0 5px 5px;\n",
       "    background-color: inherit;\n",
       "    margin: 0 auto;\n",
       "}\n",
       "\n",
       ".hidden {\n",
       "    display: none;\n",
       "}\n",
       "\n",
       ".attribute-list {\n",
       "    margin: 2px 0;\n",
       "    padding: 2px;\n",
       "    transition: background-color 0.2s;\n",
       "    display: block;\n",
       "}\n",
       "\n",
       ".flex-space-filler {\n",
       "    display: flex;\n",
       "    justify-content: center;\n",
       "    align-items: center;\n",
       "}\n",
       "\n",
       "    </style>\n",
       "    <div style=\"display: flex;\">\n",
       "    <div class=\"generic-object-container blue first-level\">\n",
       "        <div class=\"generic-object-content\">\n",
       "            <div class=\"generic-object-header blue\" onclick=\"toggleCollapse(this)\">\n",
       "                <button class=\"toggle-button blue\">[-]</button> test [Dataset]\n",
       "            </div>\n",
       "            <div class=\"generic-object-body\">\n",
       "                <div class=\"attribute-list blue\"><strong>Instances</strong>: 6240</div><div class=\"attribute-list blue\"><strong>Features</strong>: X , y , p_attrs , group_a , group_b</div><div class=\"attribute-list blue\"><strong>Metadata</strong>: race: {'group_a': 'white', 'group_b': 'non-white'}</div>\n",
       "                \n",
       "            </div>\n",
       "        </div>\n",
       "    </div>\n",
       "</div>\n",
       "    <script>\n",
       "    function toggleCollapse(element) {\n",
       "        var body = element.nextElementSibling;\n",
       "        var button = element.querySelector(\".toggle-button\");\n",
       "        if (body.classList.contains('hidden')) {\n",
       "            body.classList.remove('hidden');\n",
       "            button.textContent = \"[-]\";\n",
       "        } else {\n",
       "            body.classList.add('hidden');\n",
       "            button.textContent = \"[+]\";\n",
       "        }\n",
       "    }\n",
       "    </script>\n",
       "    \n",
       "            </div>\n",
       "        </div>\n",
       "    </div>\n",
       "</div>\n",
       "    <script>\n",
       "    function toggleCollapse(element) {\n",
       "        var body = element.nextElementSibling;\n",
       "        var button = element.querySelector(\".toggle-button\");\n",
       "        if (body.classList.contains('hidden')) {\n",
       "            body.classList.remove('hidden');\n",
       "            button.textContent = \"[-]\";\n",
       "        } else {\n",
       "            body.classList.add('hidden');\n",
       "            button.textContent = \"[+]\";\n",
       "        }\n",
       "    }\n",
       "    </script>\n",
       "    "
      ],
      "text/plain": [
       "DatasetDict({\n",
       "    train: <holisticai.datasets._dataset.Dataset object at 0x7f04b3d43810>,\n",
       "    test: <holisticai.datasets._dataset.Dataset object at 0x7f04b3d92dd0>\n",
       "})"
      ]
     },
     "execution_count": 4,
     "metadata": {},
     "output_type": "execute_result"
    }
   ],
   "source": [
    "dataset_split = dataset.train_test_split(test_size=0.3)\n",
    "dataset_split"
   ]
  },
  {
   "cell_type": "code",
   "execution_count": 5,
   "metadata": {
    "execution": {
     "iopub.execute_input": "2024-09-08T05:51:21.942242Z",
     "iopub.status.busy": "2024-09-08T05:51:21.942108Z",
     "iopub.status.idle": "2024-09-08T05:51:21.990420Z",
     "shell.execute_reply": "2024-09-08T05:51:21.989816Z"
    },
    "id": "aeuFMgXwlewP"
   },
   "outputs": [],
   "source": [
    "from sklearn.linear_model import LogisticRegression\n",
    "from sklearn.preprocessing import StandardScaler\n",
    "\n",
    "# train a model, do not forget to standard scale data\n",
    "train = dataset_split['train']\n",
    "test = dataset_split['test']\n",
    "\n",
    "scaler = StandardScaler()\n",
    "X_train_t = scaler.fit_transform(train['X'])\n",
    "model = LogisticRegression(random_state=42, max_iter=500)\n",
    "model.fit(X_train_t, train['y'])\n",
    "X_test_t = scaler.transform(test['X'])\n",
    "y_pred = model.predict(X_test_t)"
   ]
  },
  {
   "cell_type": "markdown",
   "metadata": {
    "id": "P9ydT_sulewQ"
   },
   "source": [
    "## **Measure bias**"
   ]
  },
  {
   "cell_type": "markdown",
   "metadata": {
    "id": "hHZ1fY-TlewR"
   },
   "source": [
    "The holisticai.bias.metrics module contains a range of metrics useful in evaluating the fairness of algorithmic decisions. In this case we use only a few of the metrics relevant to a classification task."
   ]
  },
  {
   "cell_type": "code",
   "execution_count": 6,
   "metadata": {
    "execution": {
     "iopub.execute_input": "2024-09-08T05:51:21.993075Z",
     "iopub.status.busy": "2024-09-08T05:51:21.992824Z",
     "iopub.status.idle": "2024-09-08T05:51:21.996101Z",
     "shell.execute_reply": "2024-09-08T05:51:21.995570Z"
    },
    "id": "JWaKxmVMlewS"
   },
   "outputs": [],
   "source": [
    "# import some bias metrics\n",
    "from holisticai.bias.metrics import statistical_parity\n",
    "from holisticai.bias.metrics import disparate_impact\n",
    "from holisticai.bias.metrics import accuracy_diff"
   ]
  },
  {
   "cell_type": "code",
   "execution_count": 7,
   "metadata": {
    "execution": {
     "iopub.execute_input": "2024-09-08T05:51:21.998410Z",
     "iopub.status.busy": "2024-09-08T05:51:21.998138Z",
     "iopub.status.idle": "2024-09-08T05:51:22.003200Z",
     "shell.execute_reply": "2024-09-08T05:51:22.002699Z"
    },
    "id": "qA5WeW0HlewS"
   },
   "outputs": [],
   "source": [
    "# set up groups, prediction array and true (aka target/label) array.\n",
    "y_pred  = model.predict(X_test_t)          # prediction vector\n",
    "y_true  = test['y']                        # true vector\n",
    "group_a_test = test['group_a']        # group A\n",
    "group_b_test = test['group_b']        # group B"
   ]
  },
  {
   "cell_type": "code",
   "execution_count": 8,
   "metadata": {
    "colab": {
     "base_uri": "https://localhost:8080/",
     "height": 573
    },
    "execution": {
     "iopub.execute_input": "2024-09-08T05:51:22.007243Z",
     "iopub.status.busy": "2024-09-08T05:51:22.006903Z",
     "iopub.status.idle": "2024-09-08T05:51:22.172219Z",
     "shell.execute_reply": "2024-09-08T05:51:22.171513Z"
    },
    "id": "uWt4ek-3lewT",
    "outputId": "43401399-c3fb-44a1-b749-d924166b9097"
   },
   "outputs": [
    {
     "data": {
      "text/plain": [
       "<Axes: title={'center': 'Frequency Plot (Class 1)'}, xlabel='Group', ylabel='Frequency'>"
      ]
     },
     "execution_count": 8,
     "metadata": {},
     "output_type": "execute_result"
    },
    {
     "data": {
      "image/png": "[encoded data removed]",
      "text/plain": [
       "<Figure size 640x480 with 1 Axes>"
      ]
     },
     "metadata": {},
     "output_type": "display_data"
    }
   ],
   "source": [
    "frequency_plot(group_a_test, y_pred)"
   ]
  },
  {
   "cell_type": "code",
   "execution_count": 9,
   "metadata": {
    "colab": {
     "base_uri": "https://localhost:8080/"
    },
    "execution": {
     "iopub.execute_input": "2024-09-08T05:51:22.173831Z",
     "iopub.status.busy": "2024-09-08T05:51:22.173690Z",
     "iopub.status.idle": "2024-09-08T05:51:22.177297Z",
     "shell.execute_reply": "2024-09-08T05:51:22.176950Z"
    },
    "id": "qZf0wBORlewT",
    "outputId": "af5dfeba-ddb8-42dd-e9dd-ff5864d66164"
   },
   "outputs": [
    {
     "data": {
      "text/plain": [
       "0.16716203169074084"
      ]
     },
     "execution_count": 9,
     "metadata": {},
     "output_type": "execute_result"
    }
   ],
   "source": [
    "# compute statistical parity\n",
    "statistical_parity(group_a_test, group_b_test, y_pred)"
   ]
  },
  {
   "cell_type": "markdown",
   "metadata": {
    "id": "XIsc8Ol7lewU"
   },
   "source": [
    "The statistical parity indicates the difference in success rate between non-white and white groups. In this case it is outside of ranges considered fair (-0.1, 0.1)."
   ]
  },
  {
   "cell_type": "code",
   "execution_count": 10,
   "metadata": {
    "colab": {
     "base_uri": "https://localhost:8080/"
    },
    "execution": {
     "iopub.execute_input": "2024-09-08T05:51:22.178774Z",
     "iopub.status.busy": "2024-09-08T05:51:22.178619Z",
     "iopub.status.idle": "2024-09-08T05:51:22.181459Z",
     "shell.execute_reply": "2024-09-08T05:51:22.181129Z"
    },
    "id": "qdC3cZzJlewU",
    "outputId": "c3ed706b-9fc0-405f-8c26-a22e50756f02"
   },
   "outputs": [
    {
     "data": {
      "text/plain": [
       "1.2036594113481884"
      ]
     },
     "execution_count": 10,
     "metadata": {},
     "output_type": "execute_result"
    }
   ],
   "source": [
    "# compute disparate impact\n",
    "disparate_impact(group_a_test, group_b_test, y_pred)"
   ]
  },
  {
   "cell_type": "markdown",
   "metadata": {
    "id": "Qz7xO94olewU"
   },
   "source": [
    "The disparate impact on the other hand is within the fair range (0.8, 1.2). This shows the importance of considering many different metrics to get a holistic picture of the situation."
   ]
  },
  {
   "cell_type": "code",
   "execution_count": 11,
   "metadata": {
    "colab": {
     "base_uri": "https://localhost:8080/"
    },
    "execution": {
     "iopub.execute_input": "2024-09-08T05:51:22.182942Z",
     "iopub.status.busy": "2024-09-08T05:51:22.182790Z",
     "iopub.status.idle": "2024-09-08T05:51:22.186948Z",
     "shell.execute_reply": "2024-09-08T05:51:22.186639Z"
    },
    "id": "kz9gl9NQlewV",
    "outputId": "23c67aaf-3ff5-41f5-992f-bccf634e5235"
   },
   "outputs": [
    {
     "data": {
      "text/plain": [
       "0.1351740719004979"
      ]
     },
     "execution_count": 11,
     "metadata": {},
     "output_type": "execute_result"
    }
   ],
   "source": [
    "# compute accuracy difference\n",
    "accuracy_diff(group_a_test, group_b_test, y_pred, y_true)"
   ]
  },
  {
   "cell_type": "markdown",
   "metadata": {
    "id": "HZWfeoEElewV"
   },
   "source": [
    "The above metric is different from the first two in that it also uses the target values, this is an equality of opportunity metric. A value of -0.12 shows that the classifier we trained is less accurate on non-white group than white group. This is expected because of the data imbalance."
   ]
  },
  {
   "cell_type": "code",
   "execution_count": 12,
   "metadata": {
    "colab": {
     "base_uri": "https://localhost:8080/",
     "height": 524
    },
    "execution": {
     "iopub.execute_input": "2024-09-08T05:51:22.188452Z",
     "iopub.status.busy": "2024-09-08T05:51:22.188290Z",
     "iopub.status.idle": "2024-09-08T05:51:22.297742Z",
     "shell.execute_reply": "2024-09-08T05:51:22.297260Z"
    },
    "id": "xJcVpAU7lewW",
    "outputId": "c43c4068-b6ac-44fe-807b-bb834ecae52a"
   },
   "outputs": [
    {
     "data": {
      "text/plain": [
       "<Axes: title={'center': 'Accuracy Bar Plot'}, xlabel='Group', ylabel='Accuracy'>"
      ]
     },
     "execution_count": 12,
     "metadata": {},
     "output_type": "execute_result"
    },
    {
     "data": {
      "image/png": "[encoded data removed]",
      "text/plain": [
       "<Figure size 640x480 with 1 Axes>"
      ]
     },
     "metadata": {},
     "output_type": "display_data"
    }
   ],
   "source": [
    "from holisticai.bias.plots import accuracy_bar_plot\n",
    "\n",
    "accuracy_bar_plot(group_a_test, y_pred, y_true)"
   ]
  },
  {
   "cell_type": "markdown",
   "metadata": {
    "id": "r_j3eJVflewW"
   },
   "source": [
    "The above shows the same result as accuracy_diff metric in plot form."
   ]
  },
  {
   "cell_type": "markdown",
   "metadata": {
    "id": "FgKWWFWOlewX"
   },
   "source": [
    "**Equality of outcome metrics (batch computation)**"
   ]
  },
  {
   "cell_type": "code",
   "execution_count": 13,
   "metadata": {
    "execution": {
     "iopub.execute_input": "2024-09-08T05:51:22.299452Z",
     "iopub.status.busy": "2024-09-08T05:51:22.299311Z",
     "iopub.status.idle": "2024-09-08T05:51:22.301819Z",
     "shell.execute_reply": "2024-09-08T05:51:22.301287Z"
    },
    "id": "oc4e3BEAlewX"
   },
   "outputs": [],
   "source": [
    "# import function for batch computation\n",
    "from holisticai.bias.metrics import classification_bias_metrics"
   ]
  },
  {
   "cell_type": "code",
   "execution_count": 14,
   "metadata": {
    "colab": {
     "base_uri": "https://localhost:8080/",
     "height": 238
    },
    "execution": {
     "iopub.execute_input": "2024-09-08T05:51:22.303311Z",
     "iopub.status.busy": "2024-09-08T05:51:22.303175Z",
     "iopub.status.idle": "2024-09-08T05:51:22.318580Z",
     "shell.execute_reply": "2024-09-08T05:51:22.318254Z"
    },
    "id": "TsaiGEVclewX",
    "outputId": "40e5e59c-dad3-45c2-f06e-53bbb68401ce"
   },
   "outputs": [
    {
     "data": {
      "text/html": [
       "<div>\n",
       "<style scoped>\n",
       "    .dataframe tbody tr th:only-of-type {\n",
       "        vertical-align: middle;\n",
       "    }\n",
       "\n",
       "    .dataframe tbody tr th {\n",
       "        vertical-align: top;\n",
       "    }\n",
       "\n",
       "    .dataframe thead th {\n",
       "        text-align: right;\n",
       "    }\n",
       "</style>\n",
       "<table border=\"1\" class=\"dataframe\">\n",
       "  <thead>\n",
       "    <tr style=\"text-align: right;\">\n",
       "      <th></th>\n",
       "      <th>Value</th>\n",
       "      <th>Reference</th>\n",
       "    </tr>\n",
       "    <tr>\n",
       "      <th>Metric</th>\n",
       "      <th></th>\n",
       "      <th></th>\n",
       "    </tr>\n",
       "  </thead>\n",
       "  <tbody>\n",
       "    <tr>\n",
       "      <th>Statistical Parity</th>\n",
       "      <td>0.167162</td>\n",
       "      <td>0</td>\n",
       "    </tr>\n",
       "    <tr>\n",
       "      <th>Disparate Impact</th>\n",
       "      <td>1.203659</td>\n",
       "      <td>1</td>\n",
       "    </tr>\n",
       "    <tr>\n",
       "      <th>Four Fifths Rule</th>\n",
       "      <td>0.830800</td>\n",
       "      <td>1</td>\n",
       "    </tr>\n",
       "    <tr>\n",
       "      <th>Cohen D</th>\n",
       "      <td>0.909671</td>\n",
       "      <td>0</td>\n",
       "    </tr>\n",
       "    <tr>\n",
       "      <th>2SD Rule</th>\n",
       "      <td>25.090871</td>\n",
       "      <td>0</td>\n",
       "    </tr>\n",
       "  </tbody>\n",
       "</table>\n",
       "</div>"
      ],
      "text/plain": [
       "                        Value  Reference\n",
       "Metric                                  \n",
       "Statistical Parity   0.167162          0\n",
       "Disparate Impact     1.203659          1\n",
       "Four Fifths Rule     0.830800          1\n",
       "Cohen D              0.909671          0\n",
       "2SD Rule            25.090871          0"
      ]
     },
     "execution_count": 14,
     "metadata": {},
     "output_type": "execute_result"
    }
   ],
   "source": [
    "classification_bias_metrics(group_a_test, group_b_test, y_pred, y_true, metric_type='equal_outcome')"
   ]
  },
  {
   "cell_type": "markdown",
   "metadata": {
    "id": "uSyW3_LSlewY"
   },
   "source": [
    "**Equality of opportunity metrics (batch computation)**"
   ]
  },
  {
   "cell_type": "code",
   "execution_count": 15,
   "metadata": {
    "colab": {
     "base_uri": "https://localhost:8080/",
     "height": 206
    },
    "execution": {
     "iopub.execute_input": "2024-09-08T05:51:22.320183Z",
     "iopub.status.busy": "2024-09-08T05:51:22.320056Z",
     "iopub.status.idle": "2024-09-08T05:51:22.333515Z",
     "shell.execute_reply": "2024-09-08T05:51:22.333168Z"
    },
    "id": "sUN1a3bllewZ",
    "outputId": "7deeac44-a9b5-4e7c-9fa7-39f0fb48800b"
   },
   "outputs": [
    {
     "data": {
      "text/html": [
       "<div>\n",
       "<style scoped>\n",
       "    .dataframe tbody tr th:only-of-type {\n",
       "        vertical-align: middle;\n",
       "    }\n",
       "\n",
       "    .dataframe tbody tr th {\n",
       "        vertical-align: top;\n",
       "    }\n",
       "\n",
       "    .dataframe thead th {\n",
       "        text-align: right;\n",
       "    }\n",
       "</style>\n",
       "<table border=\"1\" class=\"dataframe\">\n",
       "  <thead>\n",
       "    <tr style=\"text-align: right;\">\n",
       "      <th></th>\n",
       "      <th>Value</th>\n",
       "      <th>Reference</th>\n",
       "    </tr>\n",
       "    <tr>\n",
       "      <th>Metric</th>\n",
       "      <th></th>\n",
       "      <th></th>\n",
       "    </tr>\n",
       "  </thead>\n",
       "  <tbody>\n",
       "    <tr>\n",
       "      <th>Equality of Opportunity Difference</th>\n",
       "      <td>0.071327</td>\n",
       "      <td>0</td>\n",
       "    </tr>\n",
       "    <tr>\n",
       "      <th>False Positive Rate Difference</th>\n",
       "      <td>0.354374</td>\n",
       "      <td>0</td>\n",
       "    </tr>\n",
       "    <tr>\n",
       "      <th>Average Odds Difference</th>\n",
       "      <td>0.212850</td>\n",
       "      <td>0</td>\n",
       "    </tr>\n",
       "    <tr>\n",
       "      <th>Accuracy Difference</th>\n",
       "      <td>0.135174</td>\n",
       "      <td>0</td>\n",
       "    </tr>\n",
       "  </tbody>\n",
       "</table>\n",
       "</div>"
      ],
      "text/plain": [
       "                                       Value  Reference\n",
       "Metric                                                 \n",
       "Equality of Opportunity Difference  0.071327          0\n",
       "False Positive Rate Difference      0.354374          0\n",
       "Average Odds Difference             0.212850          0\n",
       "Accuracy Difference                 0.135174          0"
      ]
     },
     "execution_count": 15,
     "metadata": {},
     "output_type": "execute_result"
    }
   ],
   "source": [
    "classification_bias_metrics(group_a_test, group_b_test, y_pred, y_true, metric_type='equal_opportunity')"
   ]
  },
  {
   "cell_type": "markdown",
   "metadata": {
    "id": "tFWRs6EBlewZ"
   },
   "source": [
    "For instance the false positive rate difference of 0.34 hints that white people are more likely to be missclassified as passing the bar than non-whites."
   ]
  },
  {
   "cell_type": "markdown",
   "metadata": {},
   "source": [
    "We can show all group bias metrics by setting 'metric_types' as 'group':"
   ]
  },
  {
   "cell_type": "code",
   "execution_count": 16,
   "metadata": {
    "execution": {
     "iopub.execute_input": "2024-09-08T05:51:22.335352Z",
     "iopub.status.busy": "2024-09-08T05:51:22.335196Z",
     "iopub.status.idle": "2024-09-08T05:51:22.348701Z",
     "shell.execute_reply": "2024-09-08T05:51:22.348373Z"
    }
   },
   "outputs": [
    {
     "data": {
      "text/html": [
       "<div>\n",
       "<style scoped>\n",
       "    .dataframe tbody tr th:only-of-type {\n",
       "        vertical-align: middle;\n",
       "    }\n",
       "\n",
       "    .dataframe tbody tr th {\n",
       "        vertical-align: top;\n",
       "    }\n",
       "\n",
       "    .dataframe thead th {\n",
       "        text-align: right;\n",
       "    }\n",
       "</style>\n",
       "<table border=\"1\" class=\"dataframe\">\n",
       "  <thead>\n",
       "    <tr style=\"text-align: right;\">\n",
       "      <th></th>\n",
       "      <th>Value</th>\n",
       "      <th>Reference</th>\n",
       "    </tr>\n",
       "    <tr>\n",
       "      <th>Metric</th>\n",
       "      <th></th>\n",
       "      <th></th>\n",
       "    </tr>\n",
       "  </thead>\n",
       "  <tbody>\n",
       "    <tr>\n",
       "      <th>Statistical Parity</th>\n",
       "      <td>0.167162</td>\n",
       "      <td>0</td>\n",
       "    </tr>\n",
       "    <tr>\n",
       "      <th>Disparate Impact</th>\n",
       "      <td>1.203659</td>\n",
       "      <td>1</td>\n",
       "    </tr>\n",
       "    <tr>\n",
       "      <th>Four Fifths Rule</th>\n",
       "      <td>0.830800</td>\n",
       "      <td>1</td>\n",
       "    </tr>\n",
       "    <tr>\n",
       "      <th>Cohen D</th>\n",
       "      <td>0.909671</td>\n",
       "      <td>0</td>\n",
       "    </tr>\n",
       "    <tr>\n",
       "      <th>2SD Rule</th>\n",
       "      <td>25.090871</td>\n",
       "      <td>0</td>\n",
       "    </tr>\n",
       "    <tr>\n",
       "      <th>Equality of Opportunity Difference</th>\n",
       "      <td>0.071327</td>\n",
       "      <td>0</td>\n",
       "    </tr>\n",
       "    <tr>\n",
       "      <th>False Positive Rate Difference</th>\n",
       "      <td>0.354374</td>\n",
       "      <td>0</td>\n",
       "    </tr>\n",
       "    <tr>\n",
       "      <th>Average Odds Difference</th>\n",
       "      <td>0.212850</td>\n",
       "      <td>0</td>\n",
       "    </tr>\n",
       "    <tr>\n",
       "      <th>Accuracy Difference</th>\n",
       "      <td>0.135174</td>\n",
       "      <td>0</td>\n",
       "    </tr>\n",
       "  </tbody>\n",
       "</table>\n",
       "</div>"
      ],
      "text/plain": [
       "                                        Value  Reference\n",
       "Metric                                                  \n",
       "Statistical Parity                   0.167162          0\n",
       "Disparate Impact                     1.203659          1\n",
       "Four Fifths Rule                     0.830800          1\n",
       "Cohen D                              0.909671          0\n",
       "2SD Rule                            25.090871          0\n",
       "Equality of Opportunity Difference   0.071327          0\n",
       "False Positive Rate Difference       0.354374          0\n",
       "Average Odds Difference              0.212850          0\n",
       "Accuracy Difference                  0.135174          0"
      ]
     },
     "execution_count": 16,
     "metadata": {},
     "output_type": "execute_result"
    }
   ],
   "source": [
    "classification_bias_metrics(group_a=group_a_test, group_b=group_b_test, y_pred=y_pred, y_true=y_true, metric_type='group')"
   ]
  },
  {
   "cell_type": "markdown",
   "metadata": {},
   "source": [
    "We can show all individual bias metrics by setting 'metric_types' as 'individual'."
   ]
  },
  {
   "cell_type": "code",
   "execution_count": 17,
   "metadata": {
    "execution": {
     "iopub.execute_input": "2024-09-08T05:51:22.350439Z",
     "iopub.status.busy": "2024-09-08T05:51:22.350282Z",
     "iopub.status.idle": "2024-09-08T05:51:22.713787Z",
     "shell.execute_reply": "2024-09-08T05:51:22.713331Z"
    }
   },
   "outputs": [
    {
     "data": {
      "text/html": [
       "<div>\n",
       "<style scoped>\n",
       "    .dataframe tbody tr th:only-of-type {\n",
       "        vertical-align: middle;\n",
       "    }\n",
       "\n",
       "    .dataframe tbody tr th {\n",
       "        vertical-align: top;\n",
       "    }\n",
       "\n",
       "    .dataframe thead th {\n",
       "        text-align: right;\n",
       "    }\n",
       "</style>\n",
       "<table border=\"1\" class=\"dataframe\">\n",
       "  <thead>\n",
       "    <tr style=\"text-align: right;\">\n",
       "      <th></th>\n",
       "      <th>Value</th>\n",
       "      <th>Reference</th>\n",
       "    </tr>\n",
       "    <tr>\n",
       "      <th>Metric</th>\n",
       "      <th></th>\n",
       "      <th></th>\n",
       "    </tr>\n",
       "  </thead>\n",
       "  <tbody>\n",
       "    <tr>\n",
       "      <th>Theil Index</th>\n",
       "      <td>0.040524</td>\n",
       "      <td>0</td>\n",
       "    </tr>\n",
       "    <tr>\n",
       "      <th>Generalized Entropy Index</th>\n",
       "      <td>0.040346</td>\n",
       "      <td>0</td>\n",
       "    </tr>\n",
       "    <tr>\n",
       "      <th>Coefficient of Variation</th>\n",
       "      <td>0.401727</td>\n",
       "      <td>0</td>\n",
       "    </tr>\n",
       "    <tr>\n",
       "      <th>Consistency Score</th>\n",
       "      <td>0.980801</td>\n",
       "      <td>1</td>\n",
       "    </tr>\n",
       "  </tbody>\n",
       "</table>\n",
       "</div>"
      ],
      "text/plain": [
       "                              Value  Reference\n",
       "Metric                                        \n",
       "Theil Index                0.040524          0\n",
       "Generalized Entropy Index  0.040346          0\n",
       "Coefficient of Variation   0.401727          0\n",
       "Consistency Score          0.980801          1"
      ]
     },
     "execution_count": 17,
     "metadata": {},
     "output_type": "execute_result"
    }
   ],
   "source": [
    "classification_bias_metrics(y_pred=y_pred, y_true=y_true, X=X_test_t, metric_type='individual')"
   ]
  },
  {
   "cell_type": "markdown",
   "metadata": {},
   "source": [
    "You can pass specific parameters for individual fairness metrics:"
   ]
  },
  {
   "cell_type": "code",
   "execution_count": 18,
   "metadata": {
    "execution": {
     "iopub.execute_input": "2024-09-08T05:51:22.715487Z",
     "iopub.status.busy": "2024-09-08T05:51:22.715359Z",
     "iopub.status.idle": "2024-09-08T05:51:23.075823Z",
     "shell.execute_reply": "2024-09-08T05:51:23.075368Z"
    }
   },
   "outputs": [
    {
     "data": {
      "text/html": [
       "<div>\n",
       "<style scoped>\n",
       "    .dataframe tbody tr th:only-of-type {\n",
       "        vertical-align: middle;\n",
       "    }\n",
       "\n",
       "    .dataframe tbody tr th {\n",
       "        vertical-align: top;\n",
       "    }\n",
       "\n",
       "    .dataframe thead th {\n",
       "        text-align: right;\n",
       "    }\n",
       "</style>\n",
       "<table border=\"1\" class=\"dataframe\">\n",
       "  <thead>\n",
       "    <tr style=\"text-align: right;\">\n",
       "      <th></th>\n",
       "      <th>Value</th>\n",
       "      <th>Reference</th>\n",
       "    </tr>\n",
       "    <tr>\n",
       "      <th>Metric</th>\n",
       "      <th></th>\n",
       "      <th></th>\n",
       "    </tr>\n",
       "  </thead>\n",
       "  <tbody>\n",
       "    <tr>\n",
       "      <th>Theil Index</th>\n",
       "      <td>0.040524</td>\n",
       "      <td>0</td>\n",
       "    </tr>\n",
       "    <tr>\n",
       "      <th>Generalized Entropy Index</th>\n",
       "      <td>0.040346</td>\n",
       "      <td>0</td>\n",
       "    </tr>\n",
       "    <tr>\n",
       "      <th>Coefficient of Variation</th>\n",
       "      <td>0.401727</td>\n",
       "      <td>0</td>\n",
       "    </tr>\n",
       "    <tr>\n",
       "      <th>Consistency Score</th>\n",
       "      <td>0.980801</td>\n",
       "      <td>1</td>\n",
       "    </tr>\n",
       "  </tbody>\n",
       "</table>\n",
       "</div>"
      ],
      "text/plain": [
       "                              Value  Reference\n",
       "Metric                                        \n",
       "Theil Index                0.040524          0\n",
       "Generalized Entropy Index  0.040346          0\n",
       "Coefficient of Variation   0.401727          0\n",
       "Consistency Score          0.980801          1"
      ]
     },
     "execution_count": 18,
     "metadata": {},
     "output_type": "execute_result"
    }
   ],
   "source": [
    "individual_kargs = {\n",
    "    'generalized_entropy_index__alpha': 2,\n",
    "    'consistency_score__n_neighbors' : 5\n",
    "}\n",
    "classification_bias_metrics(y_pred=y_pred, y_true=y_true, X=X_test_t, metric_type='individual', **individual_kargs)"
   ]
  }
 ],
 "metadata": {
  "colab": {
   "provenance": []
  },
  "kernelspec": {
   "display_name": "Python 3.8.13 ('torch-nightly')",
   "language": "python",
   "name": "python3"
  },
  "language_info": {
   "codemirror_mode": {
    "name": "ipython",
    "version": 3
   },
   "file_extension": ".py",
   "mimetype": "text/x-python",
   "name": "python",
   "nbconvert_exporter": "python",
   "pygments_lexer": "ipython3",
   "version": "3.11.9"
  },
  "vscode": {
   "interpreter": {
    "hash": "f5fa74478a026ac530ef194e4df855dfb9675779484e20284ae5f690a2266d7b"
   }
  }
 },
 "nbformat": 4,
 "nbformat_minor": 0
}
