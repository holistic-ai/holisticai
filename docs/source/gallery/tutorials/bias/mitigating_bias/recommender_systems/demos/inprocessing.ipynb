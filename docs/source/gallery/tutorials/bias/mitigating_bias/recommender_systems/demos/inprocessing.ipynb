{
  "cells": [
    {
      "attachments": {},
      "cell_type": "markdown",
      "metadata": {
        "id": "3OXWn1f2YqX0"
      },
      "source": [
        "# **Bias mitigation with \"Popularity propensity\" and \"Two-sided fairness\"**\n",
        "\n",
        "This demo demonstrates how to implement the \"popularity propensity\" and \"Two-sided fairness\" method to enhance fairness in recommender systems.\n",
        "\n",
        "- [Popularity propensity](#Method-Popularity-propensity)\n",
        "  - [Traditional implementation](#traditional-implementation)\n",
        "  - [Pipeline implementation](#Pipeline-implementation)\n",
        "- [Two-sided fairness](#Method-Two-sided-fairness)\n",
        "  - [Traditional implementation](#Traditional-implementation-for-FairRec)\n",
        "  - [Pipeline implementation](#Pipeline-implementation-for-FairRec)\n",
        "\n",
        "First, install the `holisticai` package if you haven't already:\n",
        "```bash\n",
        "!pip install holisticai[all]\n",
        "```\n",
        "Then, import the necessary libraries."
      ]
    },
    {
      "cell_type": "code",
      "execution_count": 1,
      "metadata": {
        "id": "a4uAy950YwAB"
      },
      "outputs": [],
      "source": [
        "import numpy as np\n",
        "import pandas as pd\n",
        "from holisticai.datasets import load_dataset\n",
        "from holisticai.bias.metrics import recommender_bias_metrics\n",
        "from holisticai.bias.mitigation import PopularityPropensityMF\n",
        "\n",
        "np.random.seed(0)\n",
        "import warnings\n",
        "warnings.filterwarnings(\"ignore\")"
      ]
    },
    {
      "attachments": {},
      "cell_type": "markdown",
      "metadata": {
        "id": "HgRHiQjUY44J"
      },
      "source": [
        "Loading the proprocessed \"LastFM\" dataset."
      ]
    },
    {
      "cell_type": "code",
      "execution_count": 2,
      "metadata": {
        "colab": {
          "base_uri": "https://localhost:8080/",
          "height": 206
        },
        "id": "ipYjaz0jZKhq",
        "outputId": "37c59d90-7bfd-499d-a9ac-5dbc096c0220"
      },
      "outputs": [],
      "source": [
        "dataset = load_dataset('lastfm')\n",
        "df_pivot, p_attr = dataset['data_pivot'], dataset['p_attr']"
      ]
    },
    {
      "cell_type": "code",
      "execution_count": 3,
      "metadata": {},
      "outputs": [],
      "source": [
        "def explode(arr, num_items):\n",
        "    out = np.zeros(num_items)\n",
        "    out[arr] = 1\n",
        "    return out"
      ]
    },
    {
      "attachments": {},
      "cell_type": "markdown",
      "metadata": {
        "id": "E6nr3AEdwGXF"
      },
      "source": [
        "## **Bias mitigation**\n",
        "\n",
        "### **Method: Popularity propensity**\n",
        "\n",
        "### **Traditional implementation**\n",
        "\n",
        "First, we will show the traditional implementation of the \"Popularity Propensity\" method."
      ]
    },
    {
      "cell_type": "code",
      "execution_count": 4,
      "metadata": {
        "colab": {
          "base_uri": "https://localhost:8080/"
        },
        "id": "HYec2907ZqMt",
        "outputId": "f057e928-8a48-47c7-ac91-81762d428898"
      },
      "outputs": [
        {
          "data": {
            "text/plain": [
              "<holisticai.bias.mitigation.inprocessing.matrix_factorization.popularity_propensity.PopularityPropensityMF at 0x7fbad5962850>"
            ]
          },
          "execution_count": 4,
          "metadata": {},
          "output_type": "execute_result"
        }
      ],
      "source": [
        "mf = PopularityPropensityMF(K=40, beta=0.02, steps=100, verbose=1)\n",
        "data_matrix = df_pivot.fillna(0).to_numpy()\n",
        "mf.fit(data_matrix)"
      ]
    },
    {
      "cell_type": "code",
      "execution_count": 5,
      "metadata": {
        "id": "1gj9s4XSexH8"
      },
      "outputs": [],
      "source": [
        "def recommended_items(model, data_matrix, k):\n",
        "    recommended_items_mask = data_matrix>0\n",
        "    candidate_index = ~recommended_items_mask\n",
        "    candidate_rating = model.pred*candidate_index\n",
        "    return np.argsort(-candidate_rating,axis=1)[:,:k]"
      ]
    },
    {
      "cell_type": "code",
      "execution_count": 6,
      "metadata": {
        "colab": {
          "base_uri": "https://localhost:8080/",
          "height": 206
        },
        "id": "GQHrTCiIZt-Z",
        "outputId": "6fc8a1d0-c7f6-4649-ab12-de34eeeeb547"
      },
      "outputs": [
        {
          "data": {
            "text/html": [
              "<div>\n",
              "<style scoped>\n",
              "    .dataframe tbody tr th:only-of-type {\n",
              "        vertical-align: middle;\n",
              "    }\n",
              "\n",
              "    .dataframe tbody tr th {\n",
              "        vertical-align: top;\n",
              "    }\n",
              "\n",
              "    .dataframe thead th {\n",
              "        text-align: right;\n",
              "    }\n",
              "</style>\n",
              "<table border=\"1\" class=\"dataframe\">\n",
              "  <thead>\n",
              "    <tr style=\"text-align: right;\">\n",
              "      <th></th>\n",
              "      <th>Value</th>\n",
              "      <th>Reference</th>\n",
              "    </tr>\n",
              "    <tr>\n",
              "      <th>Metric</th>\n",
              "      <th></th>\n",
              "      <th></th>\n",
              "    </tr>\n",
              "  </thead>\n",
              "  <tbody>\n",
              "    <tr>\n",
              "      <th>Aggregate Diversity</th>\n",
              "      <td>0.999004</td>\n",
              "      <td>1</td>\n",
              "    </tr>\n",
              "    <tr>\n",
              "      <th>GINI index</th>\n",
              "      <td>0.440891</td>\n",
              "      <td>0</td>\n",
              "    </tr>\n",
              "    <tr>\n",
              "      <th>Exposure Distribution Entropy</th>\n",
              "      <td>6.579432</td>\n",
              "      <td>-</td>\n",
              "    </tr>\n",
              "    <tr>\n",
              "      <th>Average Recommendation Popularity</th>\n",
              "      <td>278.321600</td>\n",
              "      <td>-</td>\n",
              "    </tr>\n",
              "  </tbody>\n",
              "</table>\n",
              "</div>"
            ],
            "text/plain": [
              "                                        Value Reference\n",
              "Metric                                                 \n",
              "Aggregate Diversity                  0.999004         1\n",
              "GINI index                           0.440891         0\n",
              "Exposure Distribution Entropy        6.579432         -\n",
              "Average Recommendation Popularity  278.321600         -"
            ]
          },
          "execution_count": 6,
          "metadata": {},
          "output_type": "execute_result"
        }
      ],
      "source": [
        "new_items = recommended_items(mf, data_matrix, 10)\n",
        "new_recs = [explode(new_items[u], len(df_pivot.columns)) for u in range(df_pivot.shape[0])]\n",
        "new_df_pivot_db = pd.DataFrame(new_recs, columns = df_pivot.columns)\n",
        "\n",
        "mat = new_df_pivot_db.replace(0,np.nan).to_numpy()\n",
        "df_popularity = recommender_bias_metrics(mat_pred=mat, metric_type='item_based')\n",
        "df_popularity"
      ]
    },
    {
      "cell_type": "markdown",
      "metadata": {},
      "source": [
        "### **Pipeline implementation**"
      ]
    },
    {
      "cell_type": "code",
      "execution_count": 7,
      "metadata": {
        "colab": {
          "base_uri": "https://localhost:8080/",
          "height": 224
        },
        "id": "H9UCBvww3G3l",
        "outputId": "8713e6b2-e381-4a5a-a9bb-63a84483e10f"
      },
      "outputs": [],
      "source": [
        "from holisticai.pipeline import Pipeline\n",
        "\n",
        "inprocessing_model = PopularityPropensityMF(K=40, beta=0.02, steps=100, verbose=1)\n",
        "\n",
        "pipeline = Pipeline(\n",
        "    steps=[\n",
        "        (\"bm_inprocessing\", inprocessing_model),\n",
        "    ]\n",
        ")\n",
        "\n",
        "pipeline.fit(data_matrix)\n",
        "\n",
        "rankings  = pipeline.predict(data_matrix, top_n=10)\n",
        "mat = rankings.pivot(columns='Y',index='X',values='score').replace(np.nan,0).to_numpy()\n",
        "df = recommender_bias_metrics(mat_pred=mat>0, metric_type='item_based')\n",
        "df_pop_pipeline =df.copy()\n",
        "df_pop_pipeline"
      ]
    },
    {
      "cell_type": "markdown",
      "metadata": {},
      "source": [
        "### **Method: Two sided fairness**\n",
        "\n",
        "### **Traditional implementation for FairRec**\n",
        "\n",
        "Now, we will show the traditional implementation of the \"Two sided fairness\" method."
      ]
    },
    {
      "cell_type": "code",
      "execution_count": null,
      "metadata": {
        "id": "jl8KA3AVUtZp"
      },
      "outputs": [],
      "source": [
        "from holisticai.bias.mitigation import FairRec\n",
        "\n",
        "fr = FairRec(rec_size=10, MMS_fraction=0.5)\n",
        "fr.fit(data_matrix)"
      ]
    },
    {
      "cell_type": "code",
      "execution_count": null,
      "metadata": {},
      "outputs": [],
      "source": [
        "recommendations = fr.recommendation\n",
        "new_recs = [explode(recommendations[key], len(df_pivot.columns)) for key in recommendations.keys()]\n",
        "\n",
        "new_df_pivot_db = pd.DataFrame(new_recs, columns = df_pivot.columns)\n",
        "\n",
        "mat = new_df_pivot_db.replace(0,np.nan).to_numpy()\n",
        "\n",
        "df_tsf = recommender_bias_metrics(mat_pred=mat, metric_type='item_based')\n",
        "df_tsf"
      ]
    },
    {
      "cell_type": "markdown",
      "metadata": {},
      "source": [
        "### **Pipeline implementation for FairRec**"
      ]
    },
    {
      "cell_type": "code",
      "execution_count": null,
      "metadata": {},
      "outputs": [],
      "source": [
        "from holisticai.pipeline import Pipeline\n",
        "\n",
        "inprocessing_model = FairRec(rec_size=10, MMS_fraction=0.5)\n",
        "\n",
        "pipeline = Pipeline(\n",
        "    steps=[\n",
        "        (\"bm_inprocessing\", inprocessing_model),\n",
        "    ]\n",
        ")\n",
        "\n",
        "pipeline.fit(data_matrix)\n",
        "\n",
        "rankings  = pipeline.predict(data_matrix, top_n=10)\n",
        "mat = rankings.pivot(columns='Y',index='X',values='score').replace(np.nan,0).to_numpy()\n",
        "df_tsf_pipeline = recommender_bias_metrics(mat_pred=mat>0, metric_type='item_based')\n",
        "df_tsf_pipeline"
      ]
    }
  ],
  "metadata": {
    "colab": {
      "provenance": []
    },
    "kernelspec": {
      "display_name": "Python 3",
      "name": "python3"
    },
    "language_info": {
      "codemirror_mode": {
        "name": "ipython",
        "version": 3
      },
      "file_extension": ".py",
      "mimetype": "text/x-python",
      "name": "python",
      "nbconvert_exporter": "python",
      "pygments_lexer": "ipython3",
      "version": "3.11.9"
    }
  },
  "nbformat": 4,
  "nbformat_minor": 0
}
