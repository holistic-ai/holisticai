{
 "cells": [
  {
   "attachments": {},
   "cell_type": "markdown",
   "metadata": {
    "id": "3OXWn1f2YqX0"
   },
   "source": [
    "# **Bias mitigation with \"Popularity propensity\" and \"Two-sided fairness\"**\n",
    "\n",
    "This demo demonstrates how to implement the \"popularity propensity\" and \"Two-sided fairness\" method to enhance fairness in recommender systems.\n",
    "\n",
    "- [Popularity propensity](#Method-Popularity-propensity)\n",
    "  - [Traditional implementation](#traditional-implementation)\n",
    "  - [Pipeline implementation](#Pipeline-implementation)\n",
    "- [Two-sided fairness](#Method-Two-sided-fairness)\n",
    "  - [Traditional implementation](#Traditional-implementation-for-FairRec)\n",
    "  - [Pipeline implementation](#Pipeline-implementation-for-FairRec)\n",
    "\n",
    "First, install the `holisticai` package if you haven't already:\n",
    "```bash\n",
    "!pip install holisticai[all]\n",
    "```\n",
    "Then, import the necessary libraries."
   ]
  },
  {
   "cell_type": "code",
   "execution_count": 2,
   "metadata": {
    "execution": {
     "iopub.execute_input": "2024-09-08T05:59:22.682259Z",
     "iopub.status.busy": "2024-09-08T05:59:22.681839Z",
     "iopub.status.idle": "2024-09-08T05:59:23.782467Z",
     "shell.execute_reply": "2024-09-08T05:59:23.781919Z"
    },
    "id": "a4uAy950YwAB"
   },
   "outputs": [],
   "source": [
    "import numpy as np\n",
    "import pandas as pd\n",
    "from holisticai.datasets import load_dataset\n",
    "from holisticai.bias.metrics import recommender_bias_metrics\n",
    "from holisticai.bias.mitigation import PopularityPropensityMF\n",
    "\n",
    "np.random.seed(0)\n",
    "import warnings\n",
    "warnings.filterwarnings(\"ignore\")"
   ]
  },
  {
   "attachments": {},
   "cell_type": "markdown",
   "metadata": {
    "id": "HgRHiQjUY44J"
   },
   "source": [
    "Loading the proprocessed \"LastFM\" dataset."
   ]
  },
  {
   "cell_type": "code",
   "execution_count": 3,
   "metadata": {
    "colab": {
     "base_uri": "https://localhost:8080/",
     "height": 206
    },
    "execution": {
     "iopub.execute_input": "2024-09-08T05:59:23.784362Z",
     "iopub.status.busy": "2024-09-08T05:59:23.784152Z",
     "iopub.status.idle": "2024-09-08T05:59:24.345440Z",
     "shell.execute_reply": "2024-09-08T05:59:24.344821Z"
    },
    "id": "ipYjaz0jZKhq",
    "outputId": "37c59d90-7bfd-499d-a9ac-5dbc096c0220"
   },
   "outputs": [],
   "source": [
    "dataset = load_dataset('lastfm')\n",
    "df_pivot, p_attr = dataset['data_pivot'], dataset['p_attr']"
   ]
  },
  {
   "cell_type": "code",
   "execution_count": 4,
   "metadata": {
    "execution": {
     "iopub.execute_input": "2024-09-08T05:59:24.347258Z",
     "iopub.status.busy": "2024-09-08T05:59:24.347118Z",
     "iopub.status.idle": "2024-09-08T05:59:24.349609Z",
     "shell.execute_reply": "2024-09-08T05:59:24.349141Z"
    }
   },
   "outputs": [],
   "source": [
    "def explode(arr, num_items):\n",
    "    out = np.zeros(num_items)\n",
    "    out[arr] = 1\n",
    "    return out"
   ]
  },
  {
   "attachments": {},
   "cell_type": "markdown",
   "metadata": {
    "id": "E6nr3AEdwGXF"
   },
   "source": [
    "## **Bias mitigation**\n",
    "\n",
    "### **Method: Popularity propensity**\n",
    "\n",
    "### **Traditional implementation**\n",
    "\n",
    "First, we will show the traditional implementation of the \"Popularity Propensity\" method."
   ]
  },
  {
   "cell_type": "code",
   "execution_count": 5,
   "metadata": {
    "colab": {
     "base_uri": "https://localhost:8080/"
    },
    "execution": {
     "iopub.execute_input": "2024-09-08T05:59:24.351181Z",
     "iopub.status.busy": "2024-09-08T05:59:24.351035Z",
     "iopub.status.idle": "2024-09-08T06:03:53.025625Z",
     "shell.execute_reply": "2024-09-08T06:03:53.024850Z"
    },
    "id": "HYec2907ZqMt",
    "outputId": "f057e928-8a48-47c7-ac91-81762d428898"
   },
   "outputs": [],
   "source": [
    "mf = PopularityPropensityMF(K=40, beta=0.02, steps=100, verbose=1)\n",
    "data_matrix = df_pivot.fillna(0).to_numpy()\n",
    "mf.fit(data_matrix)"
   ]
  },
  {
   "cell_type": "code",
   "execution_count": 5,
   "metadata": {
    "execution": {
     "iopub.execute_input": "2024-09-08T06:03:53.028789Z",
     "iopub.status.busy": "2024-09-08T06:03:53.028492Z",
     "iopub.status.idle": "2024-09-08T06:03:53.033061Z",
     "shell.execute_reply": "2024-09-08T06:03:53.032046Z"
    },
    "id": "1gj9s4XSexH8"
   },
   "outputs": [],
   "source": [
    "def recommended_items(model, data_matrix, k):\n",
    "    recommended_items_mask = data_matrix>0\n",
    "    candidate_index = ~recommended_items_mask\n",
    "    candidate_rating = model.pred*candidate_index\n",
    "    return np.argsort(-candidate_rating,axis=1)[:,:k]"
   ]
  },
  {
   "cell_type": "code",
   "execution_count": 6,
   "metadata": {
    "colab": {
     "base_uri": "https://localhost:8080/",
     "height": 206
    },
    "execution": {
     "iopub.execute_input": "2024-09-08T06:03:53.035658Z",
     "iopub.status.busy": "2024-09-08T06:03:53.035332Z",
     "iopub.status.idle": "2024-09-08T06:03:56.566620Z",
     "shell.execute_reply": "2024-09-08T06:03:56.565957Z"
    },
    "id": "GQHrTCiIZt-Z",
    "outputId": "6fc8a1d0-c7f6-4649-ab12-de34eeeeb547"
   },
   "outputs": [
    {
     "data": {
      "text/html": [
       "<div>\n",
       "<style scoped>\n",
       "    .dataframe tbody tr th:only-of-type {\n",
       "        vertical-align: middle;\n",
       "    }\n",
       "\n",
       "    .dataframe tbody tr th {\n",
       "        vertical-align: top;\n",
       "    }\n",
       "\n",
       "    .dataframe thead th {\n",
       "        text-align: right;\n",
       "    }\n",
       "</style>\n",
       "<table border=\"1\" class=\"dataframe\">\n",
       "  <thead>\n",
       "    <tr style=\"text-align: right;\">\n",
       "      <th></th>\n",
       "      <th>Value</th>\n",
       "      <th>Reference</th>\n",
       "    </tr>\n",
       "    <tr>\n",
       "      <th>Metric</th>\n",
       "      <th></th>\n",
       "      <th></th>\n",
       "    </tr>\n",
       "  </thead>\n",
       "  <tbody>\n",
       "    <tr>\n",
       "      <th>Aggregate Diversity</th>\n",
       "      <td>0.999004</td>\n",
       "      <td>1</td>\n",
       "    </tr>\n",
       "    <tr>\n",
       "      <th>GINI index</th>\n",
       "      <td>0.440891</td>\n",
       "      <td>0</td>\n",
       "    </tr>\n",
       "    <tr>\n",
       "      <th>Exposure Distribution Entropy</th>\n",
       "      <td>6.579432</td>\n",
       "      <td>-</td>\n",
       "    </tr>\n",
       "    <tr>\n",
       "      <th>Average Recommendation Popularity</th>\n",
       "      <td>278.321600</td>\n",
       "      <td>-</td>\n",
       "    </tr>\n",
       "  </tbody>\n",
       "</table>\n",
       "</div>"
      ],
      "text/plain": [
       "                                        Value Reference\n",
       "Metric                                                 \n",
       "Aggregate Diversity                  0.999004         1\n",
       "GINI index                           0.440891         0\n",
       "Exposure Distribution Entropy        6.579432         -\n",
       "Average Recommendation Popularity  278.321600         -"
      ]
     },
     "execution_count": 6,
     "metadata": {},
     "output_type": "execute_result"
    }
   ],
   "source": [
    "new_items = recommended_items(mf, data_matrix, 10)\n",
    "new_recs = [explode(new_items[u], len(df_pivot.columns)) for u in range(df_pivot.shape[0])]\n",
    "new_df_pivot_db = pd.DataFrame(new_recs, columns = df_pivot.columns)\n",
    "\n",
    "mat = new_df_pivot_db.replace(0,np.nan).to_numpy()\n",
    "df_popularity = recommender_bias_metrics(mat_pred=mat, metric_type='item_based')\n",
    "df_popularity"
   ]
  },
  {
   "cell_type": "markdown",
   "metadata": {},
   "source": [
    "### **Pipeline implementation**"
   ]
  },
  {
   "cell_type": "code",
   "execution_count": 7,
   "metadata": {
    "colab": {
     "base_uri": "https://localhost:8080/",
     "height": 224
    },
    "execution": {
     "iopub.execute_input": "2024-09-08T06:03:56.568176Z",
     "iopub.status.busy": "2024-09-08T06:03:56.568045Z",
     "iopub.status.idle": "2024-09-08T06:08:32.588384Z",
     "shell.execute_reply": "2024-09-08T06:08:32.587926Z"
    },
    "id": "H9UCBvww3G3l",
    "outputId": "8713e6b2-e381-4a5a-a9bb-63a84483e10f"
   },
   "outputs": [
    {
     "data": {
      "text/html": [
       "<div>\n",
       "<style scoped>\n",
       "    .dataframe tbody tr th:only-of-type {\n",
       "        vertical-align: middle;\n",
       "    }\n",
       "\n",
       "    .dataframe tbody tr th {\n",
       "        vertical-align: top;\n",
       "    }\n",
       "\n",
       "    .dataframe thead th {\n",
       "        text-align: right;\n",
       "    }\n",
       "</style>\n",
       "<table border=\"1\" class=\"dataframe\">\n",
       "  <thead>\n",
       "    <tr style=\"text-align: right;\">\n",
       "      <th></th>\n",
       "      <th>Value</th>\n",
       "      <th>Reference</th>\n",
       "    </tr>\n",
       "    <tr>\n",
       "      <th>Metric</th>\n",
       "      <th></th>\n",
       "      <th></th>\n",
       "    </tr>\n",
       "  </thead>\n",
       "  <tbody>\n",
       "    <tr>\n",
       "      <th>Aggregate Diversity</th>\n",
       "      <td>1.000000</td>\n",
       "      <td>1</td>\n",
       "    </tr>\n",
       "    <tr>\n",
       "      <th>GINI index</th>\n",
       "      <td>0.441953</td>\n",
       "      <td>0</td>\n",
       "    </tr>\n",
       "    <tr>\n",
       "      <th>Exposure Distribution Entropy</th>\n",
       "      <td>6.578349</td>\n",
       "      <td>-</td>\n",
       "    </tr>\n",
       "    <tr>\n",
       "      <th>Average Recommendation Popularity</th>\n",
       "      <td>275.996493</td>\n",
       "      <td>-</td>\n",
       "    </tr>\n",
       "  </tbody>\n",
       "</table>\n",
       "</div>"
      ],
      "text/plain": [
       "                                        Value Reference\n",
       "Metric                                                 \n",
       "Aggregate Diversity                  1.000000         1\n",
       "GINI index                           0.441953         0\n",
       "Exposure Distribution Entropy        6.578349         -\n",
       "Average Recommendation Popularity  275.996493         -"
      ]
     },
     "execution_count": 7,
     "metadata": {},
     "output_type": "execute_result"
    }
   ],
   "source": [
    "from holisticai.pipeline import Pipeline\n",
    "\n",
    "inprocessing_model = PopularityPropensityMF(K=40, beta=0.02, steps=100, verbose=1)\n",
    "\n",
    "pipeline = Pipeline(\n",
    "    steps=[\n",
    "        (\"bm_inprocessing\", inprocessing_model),\n",
    "    ]\n",
    ")\n",
    "\n",
    "pipeline.fit(data_matrix)\n",
    "\n",
    "rankings  = pipeline.predict(data_matrix, top_n=10)\n",
    "mat = rankings.pivot(columns='Y',index='X',values='score').replace(np.nan,0).to_numpy()\n",
    "df = recommender_bias_metrics(mat_pred=mat>0, metric_type='item_based')\n",
    "df_pop_pipeline =df.copy()\n",
    "df_pop_pipeline"
   ]
  },
  {
   "cell_type": "markdown",
   "metadata": {},
   "source": [
    "### **Method: Two sided fairness**\n",
    "\n",
    "### **Traditional implementation for FairRec**\n",
    "\n",
    "Now, we will show the traditional implementation of the \"Two sided fairness\" method."
   ]
  },
  {
   "cell_type": "code",
   "execution_count": 8,
   "metadata": {
    "execution": {
     "iopub.execute_input": "2024-09-08T06:08:32.590149Z",
     "iopub.status.busy": "2024-09-08T06:08:32.590012Z",
     "iopub.status.idle": "2024-09-08T06:09:45.376584Z",
     "shell.execute_reply": "2024-09-08T06:09:45.376105Z"
    },
    "id": "jl8KA3AVUtZp"
   },
   "outputs": [
    {
     "data": {
      "text/html": [
       "\n",
       "    <style>\n",
       "        @import url('https://fonts.googleapis.com/css2?family=Montserrat:ital,wght@0,100..900;1,100..900&display=swap');\n",
       "\n",
       "/* Light blue theme (default) */\n",
       ".generic-object-container.blue {\n",
       "    background-color: #f6feff !important; /* Container background: light blue */\n",
       "    border-color: #4db6ac !important; /* Soft blue border */\n",
       "}\n",
       "\n",
       ".generic-object-header.blue {\n",
       "    background-color: #d6faff !important; /* Header background: darker blue */\n",
       "}\n",
       "\n",
       ".generic-object-header.blue:hover {\n",
       "    background-color: #80deea !important; /* Darker shade on hover over the header */\n",
       "}\n",
       "\n",
       ".attribute-list.blue:hover {\n",
       "    background-color: #b2dfdb !important; /* Attribute background on hover: darker blue */\n",
       "}\n",
       "\n",
       "/* Orange theme */\n",
       ".generic-object-container.orange {\n",
       "    background-color: #fff9ef !important; /* Container background: light orange */\n",
       "    border-color: #ffb74d !important; /* Soft orange border */\n",
       "}\n",
       "\n",
       ".generic-object-header.orange {\n",
       "    background-color: #ffe0b2 !important; /* Header background: darker orange */\n",
       "}\n",
       "\n",
       ".generic-object-header.orange:hover {\n",
       "    background-color: #ffcc80 !important; /* Darker shade on hover over the header */\n",
       "}\n",
       "\n",
       ".attribute-list.orange:hover {\n",
       "    background-color: #ffe0b2 !important; /* Attribute background on hover: darker orange */\n",
       "}\n",
       "\n",
       "/* Green theme */\n",
       ".generic-object-container.green {\n",
       "    background-color: #f6fff6 !important; /* Container background: light green */\n",
       "    border-color: #81c784 !important; /* Soft green border */\n",
       "}\n",
       "\n",
       ".generic-object-header.green {\n",
       "    background-color: #c8e6c9 !important; /* Header background: darker green */\n",
       "}\n",
       "\n",
       ".generic-object-header.green:hover {\n",
       "    background-color: #a5d6a7 !important; /* Darker shade on hover over the header */\n",
       "}\n",
       "\n",
       ".attribute-list.green:hover {\n",
       "    background-color: #c8e6c9 !important; /* Attribute background on hover: darker green */\n",
       "}\n",
       "\n",
       "/* Align the first container to the left */\n",
       ".generic-object-container.first-level {\n",
       "    margin: 0;\n",
       "    width: auto;\n",
       "    max-width: 800px;\n",
       "    display: block;\n",
       "    box-sizing: border-box;\n",
       "}\n",
       "\n",
       "/* Nested containers stay centered */\n",
       ".generic-object-container .generic-object-container {\n",
       "    margin: 5px auto;\n",
       "    width: 100%;\n",
       "    display: block;\n",
       "    padding: 5px 0;\n",
       "}\n",
       "\n",
       "/* Remove default background color so only themes apply it */\n",
       ".generic-object-container {\n",
       "    padding: 0;\n",
       "    margin: 0 auto;\n",
       "    border: 1px dashed;\n",
       "    border-radius: 5px;\n",
       "    display: block;\n",
       "    width: auto;\n",
       "    max-width: 800px;\n",
       "    box-sizing: border-box;\n",
       "    margin-bottom: 15px;\n",
       "    transition: transform 0.2s, box-shadow 0.2s;\n",
       "}\n",
       "\n",
       ".generic-object-container:hover {\n",
       "    box-shadow: 0px 4px 10px rgba(77, 182, 172, 0.3);\n",
       "}\n",
       "\n",
       ".generic-object-header {\n",
       "    font-family: 'Montserrat', Arial, sans-serif;\n",
       "    font-size: 14px;\n",
       "    padding: 10px 20px;\n",
       "    padding-left: 40px;\n",
       "    text-align: center;\n",
       "    font-weight: bold;\n",
       "    cursor: pointer;\n",
       "    display: flex;\n",
       "    align-items: center;\n",
       "    justify-content: center;\n",
       "    position: relative;\n",
       "    width: 100%;\n",
       "    box-sizing: border-box;\n",
       "    border-radius: 5px;\n",
       "    transition: background-color 0.3s;\n",
       "}\n",
       "\n",
       ".toggle-button {\n",
       "    margin-right: 10px;\n",
       "    background: none;\n",
       "    border: none;\n",
       "    font-size: 13px;\n",
       "    cursor: pointer;\n",
       "    position: absolute;\n",
       "    left: 10px;\n",
       "    color: #004d40;\n",
       "}\n",
       "\n",
       ".generic-object-body {\n",
       "    padding: 5px 10px;\n",
       "    display: block;\n",
       "    border-radius: 0 0 5px 5px;\n",
       "    background-color: inherit;\n",
       "    margin: 0 auto;\n",
       "}\n",
       "\n",
       ".hidden {\n",
       "    display: none;\n",
       "}\n",
       "\n",
       ".attribute-list {\n",
       "    margin: 2px 0;\n",
       "    padding: 2px;\n",
       "    transition: background-color 0.2s;\n",
       "    display: block;\n",
       "}\n",
       "\n",
       ".flex-space-filler {\n",
       "    display: flex;\n",
       "    justify-content: center;\n",
       "    align-items: center;\n",
       "}\n",
       "\n",
       "    </style>\n",
       "    <div style=\"display: flex;\">\n",
       "    <div class=\"generic-object-container blue first-level\">\n",
       "        <div class=\"generic-object-content\">\n",
       "            <div class=\"generic-object-header blue\" onclick=\"toggleCollapse(this)\">\n",
       "                <button class=\"toggle-button blue\">[-]</button> [FairRec]\n",
       "            </div>\n",
       "            <div class=\"generic-object-body\">\n",
       "                <div class=\"attribute-list blue\"><center>FairRec(rec_size=10, MMS_fraction=0.5)</center></div><hr><div class=\"attribute-list blue\"><strong>Type</strong>: Bias Mitigation Inprocessing</div>\n",
       "                \n",
       "            </div>\n",
       "        </div>\n",
       "    </div>\n",
       "</div>\n",
       "    <script>\n",
       "    function toggleCollapse(element) {\n",
       "        var body = element.nextElementSibling;\n",
       "        var button = element.querySelector(\".toggle-button\");\n",
       "        if (body.classList.contains('hidden')) {\n",
       "            body.classList.remove('hidden');\n",
       "            button.textContent = \"[-]\";\n",
       "        } else {\n",
       "            body.classList.add('hidden');\n",
       "            button.textContent = \"[+]\";\n",
       "        }\n",
       "    }\n",
       "    </script>\n",
       "    "
      ],
      "text/plain": [
       "<holisticai.bias.mitigation.inprocessing.two_sided_fairness.transformer.FairRec object at 0x7f2ee1531650>"
      ]
     },
     "execution_count": 8,
     "metadata": {},
     "output_type": "execute_result"
    }
   ],
   "source": [
    "from holisticai.bias.mitigation import FairRec\n",
    "\n",
    "fr = FairRec(rec_size=10, MMS_fraction=0.5)\n",
    "fr.fit(data_matrix)"
   ]
  },
  {
   "cell_type": "code",
   "execution_count": 9,
   "metadata": {
    "execution": {
     "iopub.execute_input": "2024-09-08T06:09:45.378336Z",
     "iopub.status.busy": "2024-09-08T06:09:45.378207Z",
     "iopub.status.idle": "2024-09-08T06:09:48.139133Z",
     "shell.execute_reply": "2024-09-08T06:09:48.138654Z"
    }
   },
   "outputs": [
    {
     "data": {
      "text/html": [
       "<div>\n",
       "<style scoped>\n",
       "    .dataframe tbody tr th:only-of-type {\n",
       "        vertical-align: middle;\n",
       "    }\n",
       "\n",
       "    .dataframe tbody tr th {\n",
       "        vertical-align: top;\n",
       "    }\n",
       "\n",
       "    .dataframe thead th {\n",
       "        text-align: right;\n",
       "    }\n",
       "</style>\n",
       "<table border=\"1\" class=\"dataframe\">\n",
       "  <thead>\n",
       "    <tr style=\"text-align: right;\">\n",
       "      <th></th>\n",
       "      <th>Value</th>\n",
       "      <th>Reference</th>\n",
       "    </tr>\n",
       "    <tr>\n",
       "      <th>Metric</th>\n",
       "      <th></th>\n",
       "      <th></th>\n",
       "    </tr>\n",
       "  </thead>\n",
       "  <tbody>\n",
       "    <tr>\n",
       "      <th>Aggregate Diversity</th>\n",
       "      <td>1.000000</td>\n",
       "      <td>1</td>\n",
       "    </tr>\n",
       "    <tr>\n",
       "      <th>GINI index</th>\n",
       "      <td>0.421428</td>\n",
       "      <td>0</td>\n",
       "    </tr>\n",
       "    <tr>\n",
       "      <th>Exposure Distribution Entropy</th>\n",
       "      <td>6.567894</td>\n",
       "      <td>-</td>\n",
       "    </tr>\n",
       "    <tr>\n",
       "      <th>Average Recommendation Popularity</th>\n",
       "      <td>317.154227</td>\n",
       "      <td>-</td>\n",
       "    </tr>\n",
       "  </tbody>\n",
       "</table>\n",
       "</div>"
      ],
      "text/plain": [
       "                                        Value Reference\n",
       "Metric                                                 \n",
       "Aggregate Diversity                  1.000000         1\n",
       "GINI index                           0.421428         0\n",
       "Exposure Distribution Entropy        6.567894         -\n",
       "Average Recommendation Popularity  317.154227         -"
      ]
     },
     "execution_count": 9,
     "metadata": {},
     "output_type": "execute_result"
    }
   ],
   "source": [
    "recommendations = fr.recommendation\n",
    "new_recs = [explode(recommendations[key], len(df_pivot.columns)) for key in recommendations.keys()]\n",
    "\n",
    "new_df_pivot_db = pd.DataFrame(new_recs, columns = df_pivot.columns)\n",
    "\n",
    "mat = new_df_pivot_db.replace(0,np.nan).to_numpy()\n",
    "\n",
    "df_tsf = recommender_bias_metrics(mat_pred=mat, metric_type='item_based')\n",
    "df_tsf"
   ]
  },
  {
   "cell_type": "markdown",
   "metadata": {},
   "source": [
    "### **Pipeline implementation for FairRec**"
   ]
  },
  {
   "cell_type": "code",
   "execution_count": 10,
   "metadata": {
    "execution": {
     "iopub.execute_input": "2024-09-08T06:09:48.140745Z",
     "iopub.status.busy": "2024-09-08T06:09:48.140619Z",
     "iopub.status.idle": "2024-09-08T06:11:10.398037Z",
     "shell.execute_reply": "2024-09-08T06:11:10.397560Z"
    }
   },
   "outputs": [
    {
     "data": {
      "text/html": [
       "<div>\n",
       "<style scoped>\n",
       "    .dataframe tbody tr th:only-of-type {\n",
       "        vertical-align: middle;\n",
       "    }\n",
       "\n",
       "    .dataframe tbody tr th {\n",
       "        vertical-align: top;\n",
       "    }\n",
       "\n",
       "    .dataframe thead th {\n",
       "        text-align: right;\n",
       "    }\n",
       "</style>\n",
       "<table border=\"1\" class=\"dataframe\">\n",
       "  <thead>\n",
       "    <tr style=\"text-align: right;\">\n",
       "      <th></th>\n",
       "      <th>Value</th>\n",
       "      <th>Reference</th>\n",
       "    </tr>\n",
       "    <tr>\n",
       "      <th>Metric</th>\n",
       "      <th></th>\n",
       "      <th></th>\n",
       "    </tr>\n",
       "  </thead>\n",
       "  <tbody>\n",
       "    <tr>\n",
       "      <th>Aggregate Diversity</th>\n",
       "      <td>1.000000</td>\n",
       "      <td>1</td>\n",
       "    </tr>\n",
       "    <tr>\n",
       "      <th>GINI index</th>\n",
       "      <td>0.421428</td>\n",
       "      <td>0</td>\n",
       "    </tr>\n",
       "    <tr>\n",
       "      <th>Exposure Distribution Entropy</th>\n",
       "      <td>6.567894</td>\n",
       "      <td>-</td>\n",
       "    </tr>\n",
       "    <tr>\n",
       "      <th>Average Recommendation Popularity</th>\n",
       "      <td>317.154227</td>\n",
       "      <td>-</td>\n",
       "    </tr>\n",
       "  </tbody>\n",
       "</table>\n",
       "</div>"
      ],
      "text/plain": [
       "                                        Value Reference\n",
       "Metric                                                 \n",
       "Aggregate Diversity                  1.000000         1\n",
       "GINI index                           0.421428         0\n",
       "Exposure Distribution Entropy        6.567894         -\n",
       "Average Recommendation Popularity  317.154227         -"
      ]
     },
     "execution_count": 10,
     "metadata": {},
     "output_type": "execute_result"
    }
   ],
   "source": [
    "from holisticai.pipeline import Pipeline\n",
    "\n",
    "inprocessing_model = FairRec(rec_size=10, MMS_fraction=0.5)\n",
    "\n",
    "pipeline = Pipeline(\n",
    "    steps=[\n",
    "        (\"bm_inprocessing\", inprocessing_model),\n",
    "    ]\n",
    ")\n",
    "\n",
    "pipeline.fit(data_matrix)\n",
    "\n",
    "rankings  = pipeline.predict(data_matrix, top_n=10)\n",
    "mat = rankings.pivot(columns='Y',index='X',values='score').replace(np.nan,0).to_numpy()\n",
    "df_tsf_pipeline = recommender_bias_metrics(mat_pred=mat>0, metric_type='item_based')\n",
    "df_tsf_pipeline"
   ]
  }
 ],
 "metadata": {
  "colab": {
   "provenance": []
  },
  "kernelspec": {
   "display_name": "Python 3",
   "name": "python3"
  },
  "language_info": {
   "codemirror_mode": {
    "name": "ipython",
    "version": 3
   },
   "file_extension": ".py",
   "mimetype": "text/x-python",
   "name": "python",
   "nbconvert_exporter": "python",
   "pygments_lexer": "ipython3",
   "version": "3.11.9"
  }
 },
 "nbformat": 4,
 "nbformat_minor": 0
}
