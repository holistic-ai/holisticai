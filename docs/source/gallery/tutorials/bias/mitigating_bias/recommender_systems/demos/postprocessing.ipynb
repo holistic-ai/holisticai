{
 "cells": [
  {
   "attachments": {},
   "cell_type": "markdown",
   "metadata": {
    "id": "3OXWn1f2YqX0"
   },
   "source": [
    "# **Bias mitigation with debiasing exposure, disparate impact remover and Fair top K**\n",
    "\n",
    "This demo  will show how to implement the post-processing methods \"debiasing exposure\", \"disparate impact remover\" and \"Fair top K\" to enhance the fairness of a recommender system's output.\n",
    "\n",
    "- [Debiasing Exposure](#method-debiasing-exposure)\n",
    "- [Disparate Impact Remover](#method-disparate-impact-remover)\n",
    "- [Fair Top K](#method-fair-top-k)\n",
    "\n",
    "First, install the `holisticai` package if you haven't already:\n",
    "```bash\n",
    "!pip install holisticai[all]\n",
    "```\n",
    "Then, import the necessary libraries."
   ]
  },
  {
   "cell_type": "code",
   "execution_count": 2,
   "metadata": {
    "execution": {
     "iopub.execute_input": "2024-09-08T05:58:50.716664Z",
     "iopub.status.busy": "2024-09-08T05:58:50.715919Z",
     "iopub.status.idle": "2024-09-08T05:58:51.844180Z",
     "shell.execute_reply": "2024-09-08T05:58:51.843646Z"
    },
    "id": "a4uAy950YwAB"
   },
   "outputs": [],
   "source": [
    "# Base Imports\n",
    "import pandas as pd\n",
    "import numpy as np\n",
    "from holisticai.datasets.synthetic.recruitment import generate_rankings\n",
    "from holisticai.bias.mitigation.postprocessing.debiasing_exposure.algorithm_utils import exposure_metric\n",
    "from holisticai.bias.mitigation.postprocessing import DebiasingExposure\n",
    "\n",
    "np.random.seed(0)\n",
    "import warnings\n",
    "warnings.filterwarnings(\"ignore\")"
   ]
  },
  {
   "attachments": {},
   "cell_type": "markdown",
   "metadata": {
    "id": "HgRHiQjUY44J"
   },
   "source": [
    "The dataset that we will use is a synthetic ranking dataset generated following the procedure described by Yang and Stoyanovich in their [research](https://arxiv.org/abs/1610.08559). This algorithm creates a ranked output of protected and unprotected candidates with a certain probability."
   ]
  },
  {
   "cell_type": "code",
   "execution_count": 3,
   "metadata": {
    "execution": {
     "iopub.execute_input": "2024-09-08T05:58:51.846141Z",
     "iopub.status.busy": "2024-09-08T05:58:51.845931Z",
     "iopub.status.idle": "2024-09-08T05:58:52.196058Z",
     "shell.execute_reply": "2024-09-08T05:58:52.195606Z"
    },
    "id": "mGJGlEtmafw8"
   },
   "outputs": [
    {
     "data": {
      "text/html": [
       "<div>\n",
       "<style scoped>\n",
       "    .dataframe tbody tr th:only-of-type {\n",
       "        vertical-align: middle;\n",
       "    }\n",
       "\n",
       "    .dataframe tbody tr th {\n",
       "        vertical-align: top;\n",
       "    }\n",
       "\n",
       "    .dataframe thead th {\n",
       "        text-align: right;\n",
       "    }\n",
       "</style>\n",
       "<table border=\"1\" class=\"dataframe\">\n",
       "  <thead>\n",
       "    <tr style=\"text-align: right;\">\n",
       "      <th></th>\n",
       "      <th>Value</th>\n",
       "    </tr>\n",
       "  </thead>\n",
       "  <tbody>\n",
       "    <tr>\n",
       "      <th>exposure_ratio</th>\n",
       "      <td>37027.714945</td>\n",
       "    </tr>\n",
       "    <tr>\n",
       "      <th>exposure difference</th>\n",
       "      <td>0.047272</td>\n",
       "    </tr>\n",
       "  </tbody>\n",
       "</table>\n",
       "</div>"
      ],
      "text/plain": [
       "                            Value\n",
       "exposure_ratio       37027.714945\n",
       "exposure difference      0.047272"
      ]
     },
     "execution_count": 3,
     "metadata": {},
     "output_type": "execute_result"
    }
   ],
   "source": [
    "# Synthetic data\n",
    "M = 1000\n",
    "top_n = 20\n",
    "p = 0.25\n",
    "rankings = generate_rankings(M, top_n, p, return_p_attr=False)\n",
    "\n",
    "baseline = exposure_metric(rankings, group_col='protected', query_col='X', score_col='score')\n",
    "baseline"
   ]
  },
  {
   "attachments": {},
   "cell_type": "markdown",
   "metadata": {
    "id": "E6nr3AEdwGXF"
   },
   "source": [
    "## **Bias mitigation**\n",
    "\n",
    "### **Method: Debiasing exposure**\n",
    "\n",
    "Apply the debiasing exposure mitigator algorithm."
   ]
  },
  {
   "cell_type": "code",
   "execution_count": 4,
   "metadata": {
    "colab": {
     "base_uri": "https://localhost:8080/"
    },
    "execution": {
     "iopub.execute_input": "2024-09-08T05:58:52.197714Z",
     "iopub.status.busy": "2024-09-08T05:58:52.197579Z",
     "iopub.status.idle": "2024-09-08T05:59:17.414056Z",
     "shell.execute_reply": "2024-09-08T05:59:17.413484Z"
    },
    "id": "AKXm-V07anM_",
    "outputId": "d1f97584-4ae5-456d-9b90-291094efdad8"
   },
   "outputs": [
    {
     "data": {
      "text/plain": [
       "<holisticai.bias.mitigation.postprocessing.debiasing_exposure.transformer.DebiasingExposure at 0x7f559cea5c10>"
      ]
     },
     "execution_count": 4,
     "metadata": {},
     "output_type": "execute_result"
    }
   ],
   "source": [
    "# create the DebiasingExposure class\n",
    "dtr = DebiasingExposure(group_col=\"protected\",\n",
    "                        query_col = 'X',\n",
    "                        doc_col = 'Y',\n",
    "                        feature_cols = ['score', 'protected'],\n",
    "                        score_col = 'score',\n",
    "                        gamma=2, \n",
    "                        number_of_iterations=100, \n",
    "                        standardize=True,\n",
    "                        verbose=1)\n",
    "\n",
    "# train the model\n",
    "dtr.fit(rankings)"
   ]
  },
  {
   "cell_type": "code",
   "execution_count": 5,
   "metadata": {
    "execution": {
     "iopub.execute_input": "2024-09-08T05:59:17.415713Z",
     "iopub.status.busy": "2024-09-08T05:59:17.415578Z",
     "iopub.status.idle": "2024-09-08T05:59:17.427733Z",
     "shell.execute_reply": "2024-09-08T05:59:17.427273Z"
    },
    "id": "_9n1UWhYPzC4"
   },
   "outputs": [],
   "source": [
    "re_rankings = dtr.transform(rankings)"
   ]
  },
  {
   "attachments": {},
   "cell_type": "markdown",
   "metadata": {
    "id": "RZHyAwonUNUj"
   },
   "source": [
    "Observe the fairness metrics before and after applying the algorithm (lower is better)."
   ]
  },
  {
   "cell_type": "code",
   "execution_count": 6,
   "metadata": {
    "colab": {
     "base_uri": "https://localhost:8080/",
     "height": 112
    },
    "execution": {
     "iopub.execute_input": "2024-09-08T05:59:17.429383Z",
     "iopub.status.busy": "2024-09-08T05:59:17.429249Z",
     "iopub.status.idle": "2024-09-08T05:59:17.759216Z",
     "shell.execute_reply": "2024-09-08T05:59:17.758819Z"
    },
    "id": "5eJoTrg-I35C",
    "outputId": "9400e351-cd7a-4bc4-ff9c-94729dc6463b"
   },
   "outputs": [
    {
     "data": {
      "text/html": [
       "<div>\n",
       "<style scoped>\n",
       "    .dataframe tbody tr th:only-of-type {\n",
       "        vertical-align: middle;\n",
       "    }\n",
       "\n",
       "    .dataframe tbody tr th {\n",
       "        vertical-align: top;\n",
       "    }\n",
       "\n",
       "    .dataframe thead th {\n",
       "        text-align: right;\n",
       "    }\n",
       "</style>\n",
       "<table border=\"1\" class=\"dataframe\">\n",
       "  <thead>\n",
       "    <tr style=\"text-align: right;\">\n",
       "      <th></th>\n",
       "      <th>Value</th>\n",
       "    </tr>\n",
       "  </thead>\n",
       "  <tbody>\n",
       "    <tr>\n",
       "      <th>exposure_ratio</th>\n",
       "      <td>0.755373</td>\n",
       "    </tr>\n",
       "    <tr>\n",
       "      <th>exposure difference</th>\n",
       "      <td>0.002431</td>\n",
       "    </tr>\n",
       "  </tbody>\n",
       "</table>\n",
       "</div>"
      ],
      "text/plain": [
       "                        Value\n",
       "exposure_ratio       0.755373\n",
       "exposure difference  0.002431"
      ]
     },
     "execution_count": 6,
     "metadata": {},
     "output_type": "execute_result"
    }
   ],
   "source": [
    "df_deb_exp = exposure_metric(re_rankings, group_col='protected', query_col='X', score_col='score')\n",
    "df_deb_exp"
   ]
  },
  {
   "cell_type": "code",
   "execution_count": 7,
   "metadata": {
    "colab": {
     "base_uri": "https://localhost:8080/",
     "height": 112
    },
    "execution": {
     "iopub.execute_input": "2024-09-08T05:59:17.760811Z",
     "iopub.status.busy": "2024-09-08T05:59:17.760678Z",
     "iopub.status.idle": "2024-09-08T05:59:17.765762Z",
     "shell.execute_reply": "2024-09-08T05:59:17.765449Z"
    },
    "id": "kaSq9vZmVnyY",
    "outputId": "adb4f1ad-a58e-4fc3-c82c-01e2417c82cb"
   },
   "outputs": [
    {
     "data": {
      "text/html": [
       "<div>\n",
       "<style scoped>\n",
       "    .dataframe tbody tr th:only-of-type {\n",
       "        vertical-align: middle;\n",
       "    }\n",
       "\n",
       "    .dataframe tbody tr th {\n",
       "        vertical-align: top;\n",
       "    }\n",
       "\n",
       "    .dataframe thead th {\n",
       "        text-align: right;\n",
       "    }\n",
       "</style>\n",
       "<table border=\"1\" class=\"dataframe\">\n",
       "  <thead>\n",
       "    <tr style=\"text-align: right;\">\n",
       "      <th></th>\n",
       "      <th>Baseline</th>\n",
       "      <th>Mitigator</th>\n",
       "    </tr>\n",
       "  </thead>\n",
       "  <tbody>\n",
       "    <tr>\n",
       "      <th>exposure_ratio</th>\n",
       "      <td>37027.714945</td>\n",
       "      <td>0.755373</td>\n",
       "    </tr>\n",
       "    <tr>\n",
       "      <th>exposure difference</th>\n",
       "      <td>0.047272</td>\n",
       "      <td>0.002431</td>\n",
       "    </tr>\n",
       "  </tbody>\n",
       "</table>\n",
       "</div>"
      ],
      "text/plain": [
       "                         Baseline  Mitigator\n",
       "exposure_ratio       37027.714945   0.755373\n",
       "exposure difference      0.047272   0.002431"
      ]
     },
     "execution_count": 7,
     "metadata": {},
     "output_type": "execute_result"
    }
   ],
   "source": [
    "result = pd.concat([baseline, df_deb_exp], axis=1).iloc[:, [0,1]]\n",
    "result.columns = ['Baseline','Mitigator']\n",
    "result"
   ]
  },
  {
   "cell_type": "markdown",
   "metadata": {},
   "source": [
    "### **Method: Disparate impact remover**"
   ]
  },
  {
   "cell_type": "code",
   "execution_count": 8,
   "metadata": {
    "execution": {
     "iopub.execute_input": "2024-09-08T05:59:17.767379Z",
     "iopub.status.busy": "2024-09-08T05:59:17.767251Z",
     "iopub.status.idle": "2024-09-08T05:59:21.378796Z",
     "shell.execute_reply": "2024-09-08T05:59:21.378342Z"
    }
   },
   "outputs": [
    {
     "data": {
      "text/html": [
       "<div>\n",
       "<style scoped>\n",
       "    .dataframe tbody tr th:only-of-type {\n",
       "        vertical-align: middle;\n",
       "    }\n",
       "\n",
       "    .dataframe tbody tr th {\n",
       "        vertical-align: top;\n",
       "    }\n",
       "\n",
       "    .dataframe thead th {\n",
       "        text-align: right;\n",
       "    }\n",
       "</style>\n",
       "<table border=\"1\" class=\"dataframe\">\n",
       "  <thead>\n",
       "    <tr style=\"text-align: right;\">\n",
       "      <th></th>\n",
       "      <th>Value</th>\n",
       "    </tr>\n",
       "  </thead>\n",
       "  <tbody>\n",
       "    <tr>\n",
       "      <th>exposure_ratio</th>\n",
       "      <td>1.003761</td>\n",
       "    </tr>\n",
       "    <tr>\n",
       "      <th>exposure difference</th>\n",
       "      <td>0.001925</td>\n",
       "    </tr>\n",
       "  </tbody>\n",
       "</table>\n",
       "</div>"
      ],
      "text/plain": [
       "                        Value\n",
       "exposure_ratio       1.003761\n",
       "exposure difference  0.001925"
      ]
     },
     "execution_count": 8,
     "metadata": {},
     "output_type": "execute_result"
    }
   ],
   "source": [
    "from holisticai.bias.mitigation import DisparateImpactRemoverRS\n",
    "\n",
    "dir = DisparateImpactRemoverRS(query_col='X', group_col='protected', score_col='score', repair_level=1)\n",
    "re_rankings = dir.transform(rankings)\n",
    "\n",
    "df_dis_imp = exposure_metric(re_rankings, group_col='protected', query_col='X', score_col='score')\n",
    "df_dis_imp"
   ]
  },
  {
   "cell_type": "code",
   "execution_count": 9,
   "metadata": {
    "execution": {
     "iopub.execute_input": "2024-09-08T05:59:21.380404Z",
     "iopub.status.busy": "2024-09-08T05:59:21.380267Z",
     "iopub.status.idle": "2024-09-08T05:59:21.385611Z",
     "shell.execute_reply": "2024-09-08T05:59:21.385165Z"
    }
   },
   "outputs": [
    {
     "data": {
      "text/html": [
       "<div>\n",
       "<style scoped>\n",
       "    .dataframe tbody tr th:only-of-type {\n",
       "        vertical-align: middle;\n",
       "    }\n",
       "\n",
       "    .dataframe tbody tr th {\n",
       "        vertical-align: top;\n",
       "    }\n",
       "\n",
       "    .dataframe thead th {\n",
       "        text-align: right;\n",
       "    }\n",
       "</style>\n",
       "<table border=\"1\" class=\"dataframe\">\n",
       "  <thead>\n",
       "    <tr style=\"text-align: right;\">\n",
       "      <th></th>\n",
       "      <th>Baseline</th>\n",
       "      <th>Mitigator</th>\n",
       "    </tr>\n",
       "  </thead>\n",
       "  <tbody>\n",
       "    <tr>\n",
       "      <th>exposure_ratio</th>\n",
       "      <td>37027.714945</td>\n",
       "      <td>1.003761</td>\n",
       "    </tr>\n",
       "    <tr>\n",
       "      <th>exposure difference</th>\n",
       "      <td>0.047272</td>\n",
       "      <td>0.001925</td>\n",
       "    </tr>\n",
       "  </tbody>\n",
       "</table>\n",
       "</div>"
      ],
      "text/plain": [
       "                         Baseline  Mitigator\n",
       "exposure_ratio       37027.714945   1.003761\n",
       "exposure difference      0.047272   0.001925"
      ]
     },
     "execution_count": 9,
     "metadata": {},
     "output_type": "execute_result"
    }
   ],
   "source": [
    "result = pd.concat([baseline, df_dis_imp], axis=1).iloc[:, [0,1]]\n",
    "result.columns = ['Baseline','Mitigator']\n",
    "result"
   ]
  },
  {
   "cell_type": "markdown",
   "metadata": {},
   "source": [
    "### **Method: Fair Top-K**\n",
    "\n",
    "Now, we will implement the Fair Top-K algorithm, this method works differently from the previous ones. Given a list of items, it will reorganize the list to ensure that the top-K items are fairer.\n",
    "\n",
    "Let's create a unfair list to apply the Fair Top-K algorithm."
   ]
  },
  {
   "cell_type": "code",
   "execution_count": 10,
   "metadata": {
    "execution": {
     "iopub.execute_input": "2024-09-08T05:59:21.387191Z",
     "iopub.status.busy": "2024-09-08T05:59:21.387044Z",
     "iopub.status.idle": "2024-09-08T05:59:21.390968Z",
     "shell.execute_reply": "2024-09-08T05:59:21.390646Z"
    }
   },
   "outputs": [],
   "source": [
    "def create_unfair_example(ranking, n):\n",
    "    \"\"\"\n",
    "    Setting an unfair ranking where protected group examples are only the last n results.\n",
    "    \"\"\"\n",
    "    ranking = ranking.copy()\n",
    "    ranking['protected']=False\n",
    "    ranking['protected'].iloc[-n:]=True\n",
    "    return ranking\n",
    "    \n",
    "M = 1\n",
    "k = 20\n",
    "p = 0.1\n",
    "ranking = generate_rankings(M, k, p)\n",
    "\n",
    "unfair_ranking = create_unfair_example(ranking, 6)"
   ]
  },
  {
   "cell_type": "code",
   "execution_count": 11,
   "metadata": {
    "execution": {
     "iopub.execute_input": "2024-09-08T05:59:21.392472Z",
     "iopub.status.busy": "2024-09-08T05:59:21.392328Z",
     "iopub.status.idle": "2024-09-08T05:59:21.394309Z",
     "shell.execute_reply": "2024-09-08T05:59:21.393995Z"
    }
   },
   "outputs": [],
   "source": [
    "from holisticai.bias.mitigation.postprocessing.fair_topk.transformer import FairTopK"
   ]
  },
  {
   "cell_type": "code",
   "execution_count": 12,
   "metadata": {
    "execution": {
     "iopub.execute_input": "2024-09-08T05:59:21.395802Z",
     "iopub.status.busy": "2024-09-08T05:59:21.395650Z",
     "iopub.status.idle": "2024-09-08T05:59:21.606656Z",
     "shell.execute_reply": "2024-09-08T05:59:21.606300Z"
    }
   },
   "outputs": [],
   "source": [
    "# Bias Mitigation Post-processing\n",
    "top_n = 20\n",
    "p = 0.9\n",
    "alpha = 0.15\n",
    "fs = FairTopK(top_n=top_n, \n",
    "              p=p, \n",
    "              alpha=alpha, \n",
    "              query_col='X', \n",
    "              doc_col='Y', \n",
    "              score_col='score', \n",
    "              group_col='protected')\n",
    "\n",
    "re_ranking = fs.transform(unfair_ranking)"
   ]
  },
  {
   "cell_type": "markdown",
   "metadata": {},
   "source": [
    "Let's observe how the original and unfair ranking was modified:"
   ]
  },
  {
   "cell_type": "code",
   "execution_count": 13,
   "metadata": {
    "execution": {
     "iopub.execute_input": "2024-09-08T05:59:21.608242Z",
     "iopub.status.busy": "2024-09-08T05:59:21.608108Z",
     "iopub.status.idle": "2024-09-08T05:59:21.618387Z",
     "shell.execute_reply": "2024-09-08T05:59:21.617996Z"
    }
   },
   "outputs": [
    {
     "data": {
      "text/html": [
       "<div>\n",
       "<style scoped>\n",
       "    .dataframe tbody tr th:only-of-type {\n",
       "        vertical-align: middle;\n",
       "    }\n",
       "\n",
       "    .dataframe tbody tr th {\n",
       "        vertical-align: top;\n",
       "    }\n",
       "\n",
       "    .dataframe thead tr th {\n",
       "        text-align: left;\n",
       "    }\n",
       "</style>\n",
       "<table border=\"1\" class=\"dataframe\">\n",
       "  <thead>\n",
       "    <tr>\n",
       "      <th></th>\n",
       "      <th colspan=\"4\" halign=\"left\">Old Rank</th>\n",
       "      <th colspan=\"4\" halign=\"left\">New Rank</th>\n",
       "    </tr>\n",
       "    <tr>\n",
       "      <th></th>\n",
       "      <th>X</th>\n",
       "      <th>Y</th>\n",
       "      <th>score</th>\n",
       "      <th>protected</th>\n",
       "      <th>X</th>\n",
       "      <th>Y</th>\n",
       "      <th>score</th>\n",
       "      <th>protected</th>\n",
       "    </tr>\n",
       "  </thead>\n",
       "  <tbody>\n",
       "    <tr>\n",
       "      <th>0</th>\n",
       "      <td>0</td>\n",
       "      <td>20</td>\n",
       "      <td>20</td>\n",
       "      <td>False</td>\n",
       "      <td>0</td>\n",
       "      <td>20</td>\n",
       "      <td>20</td>\n",
       "      <td>False</td>\n",
       "    </tr>\n",
       "    <tr>\n",
       "      <th>1</th>\n",
       "      <td>0</td>\n",
       "      <td>19</td>\n",
       "      <td>19</td>\n",
       "      <td>False</td>\n",
       "      <td>0</td>\n",
       "      <td>6</td>\n",
       "      <td>6</td>\n",
       "      <td>True</td>\n",
       "    </tr>\n",
       "    <tr>\n",
       "      <th>2</th>\n",
       "      <td>0</td>\n",
       "      <td>18</td>\n",
       "      <td>18</td>\n",
       "      <td>False</td>\n",
       "      <td>0</td>\n",
       "      <td>5</td>\n",
       "      <td>5</td>\n",
       "      <td>True</td>\n",
       "    </tr>\n",
       "    <tr>\n",
       "      <th>3</th>\n",
       "      <td>0</td>\n",
       "      <td>17</td>\n",
       "      <td>17</td>\n",
       "      <td>False</td>\n",
       "      <td>0</td>\n",
       "      <td>4</td>\n",
       "      <td>4</td>\n",
       "      <td>True</td>\n",
       "    </tr>\n",
       "    <tr>\n",
       "      <th>4</th>\n",
       "      <td>0</td>\n",
       "      <td>16</td>\n",
       "      <td>16</td>\n",
       "      <td>False</td>\n",
       "      <td>0</td>\n",
       "      <td>3</td>\n",
       "      <td>3</td>\n",
       "      <td>True</td>\n",
       "    </tr>\n",
       "    <tr>\n",
       "      <th>5</th>\n",
       "      <td>0</td>\n",
       "      <td>15</td>\n",
       "      <td>15</td>\n",
       "      <td>False</td>\n",
       "      <td>0</td>\n",
       "      <td>19</td>\n",
       "      <td>19</td>\n",
       "      <td>False</td>\n",
       "    </tr>\n",
       "    <tr>\n",
       "      <th>6</th>\n",
       "      <td>0</td>\n",
       "      <td>14</td>\n",
       "      <td>14</td>\n",
       "      <td>False</td>\n",
       "      <td>0</td>\n",
       "      <td>2</td>\n",
       "      <td>2</td>\n",
       "      <td>True</td>\n",
       "    </tr>\n",
       "    <tr>\n",
       "      <th>7</th>\n",
       "      <td>0</td>\n",
       "      <td>13</td>\n",
       "      <td>13</td>\n",
       "      <td>False</td>\n",
       "      <td>0</td>\n",
       "      <td>1</td>\n",
       "      <td>1</td>\n",
       "      <td>True</td>\n",
       "    </tr>\n",
       "    <tr>\n",
       "      <th>8</th>\n",
       "      <td>0</td>\n",
       "      <td>12</td>\n",
       "      <td>12</td>\n",
       "      <td>False</td>\n",
       "      <td>0</td>\n",
       "      <td>18</td>\n",
       "      <td>18</td>\n",
       "      <td>False</td>\n",
       "    </tr>\n",
       "    <tr>\n",
       "      <th>9</th>\n",
       "      <td>0</td>\n",
       "      <td>11</td>\n",
       "      <td>11</td>\n",
       "      <td>False</td>\n",
       "      <td>0</td>\n",
       "      <td>17</td>\n",
       "      <td>17</td>\n",
       "      <td>False</td>\n",
       "    </tr>\n",
       "    <tr>\n",
       "      <th>10</th>\n",
       "      <td>0</td>\n",
       "      <td>10</td>\n",
       "      <td>10</td>\n",
       "      <td>False</td>\n",
       "      <td>0</td>\n",
       "      <td>16</td>\n",
       "      <td>16</td>\n",
       "      <td>False</td>\n",
       "    </tr>\n",
       "    <tr>\n",
       "      <th>11</th>\n",
       "      <td>0</td>\n",
       "      <td>9</td>\n",
       "      <td>9</td>\n",
       "      <td>False</td>\n",
       "      <td>0</td>\n",
       "      <td>15</td>\n",
       "      <td>15</td>\n",
       "      <td>False</td>\n",
       "    </tr>\n",
       "    <tr>\n",
       "      <th>12</th>\n",
       "      <td>0</td>\n",
       "      <td>8</td>\n",
       "      <td>8</td>\n",
       "      <td>False</td>\n",
       "      <td>0</td>\n",
       "      <td>14</td>\n",
       "      <td>14</td>\n",
       "      <td>False</td>\n",
       "    </tr>\n",
       "    <tr>\n",
       "      <th>13</th>\n",
       "      <td>0</td>\n",
       "      <td>7</td>\n",
       "      <td>7</td>\n",
       "      <td>False</td>\n",
       "      <td>0</td>\n",
       "      <td>13</td>\n",
       "      <td>13</td>\n",
       "      <td>False</td>\n",
       "    </tr>\n",
       "    <tr>\n",
       "      <th>14</th>\n",
       "      <td>0</td>\n",
       "      <td>6</td>\n",
       "      <td>6</td>\n",
       "      <td>True</td>\n",
       "      <td>0</td>\n",
       "      <td>12</td>\n",
       "      <td>12</td>\n",
       "      <td>False</td>\n",
       "    </tr>\n",
       "    <tr>\n",
       "      <th>15</th>\n",
       "      <td>0</td>\n",
       "      <td>5</td>\n",
       "      <td>5</td>\n",
       "      <td>True</td>\n",
       "      <td>0</td>\n",
       "      <td>11</td>\n",
       "      <td>11</td>\n",
       "      <td>False</td>\n",
       "    </tr>\n",
       "    <tr>\n",
       "      <th>16</th>\n",
       "      <td>0</td>\n",
       "      <td>4</td>\n",
       "      <td>4</td>\n",
       "      <td>True</td>\n",
       "      <td>0</td>\n",
       "      <td>10</td>\n",
       "      <td>10</td>\n",
       "      <td>False</td>\n",
       "    </tr>\n",
       "    <tr>\n",
       "      <th>17</th>\n",
       "      <td>0</td>\n",
       "      <td>3</td>\n",
       "      <td>3</td>\n",
       "      <td>True</td>\n",
       "      <td>0</td>\n",
       "      <td>9</td>\n",
       "      <td>9</td>\n",
       "      <td>False</td>\n",
       "    </tr>\n",
       "    <tr>\n",
       "      <th>18</th>\n",
       "      <td>0</td>\n",
       "      <td>2</td>\n",
       "      <td>2</td>\n",
       "      <td>True</td>\n",
       "      <td>0</td>\n",
       "      <td>8</td>\n",
       "      <td>8</td>\n",
       "      <td>False</td>\n",
       "    </tr>\n",
       "    <tr>\n",
       "      <th>19</th>\n",
       "      <td>0</td>\n",
       "      <td>1</td>\n",
       "      <td>1</td>\n",
       "      <td>True</td>\n",
       "      <td>0</td>\n",
       "      <td>7</td>\n",
       "      <td>7</td>\n",
       "      <td>False</td>\n",
       "    </tr>\n",
       "  </tbody>\n",
       "</table>\n",
       "</div>"
      ],
      "text/plain": [
       "   Old Rank                     New Rank                    \n",
       "          X   Y score protected        X   Y score protected\n",
       "0         0  20    20     False        0  20    20     False\n",
       "1         0  19    19     False        0   6     6      True\n",
       "2         0  18    18     False        0   5     5      True\n",
       "3         0  17    17     False        0   4     4      True\n",
       "4         0  16    16     False        0   3     3      True\n",
       "5         0  15    15     False        0  19    19     False\n",
       "6         0  14    14     False        0   2     2      True\n",
       "7         0  13    13     False        0   1     1      True\n",
       "8         0  12    12     False        0  18    18     False\n",
       "9         0  11    11     False        0  17    17     False\n",
       "10        0  10    10     False        0  16    16     False\n",
       "11        0   9     9     False        0  15    15     False\n",
       "12        0   8     8     False        0  14    14     False\n",
       "13        0   7     7     False        0  13    13     False\n",
       "14        0   6     6      True        0  12    12     False\n",
       "15        0   5     5      True        0  11    11     False\n",
       "16        0   4     4      True        0  10    10     False\n",
       "17        0   3     3      True        0   9     9     False\n",
       "18        0   2     2      True        0   8     8     False\n",
       "19        0   1     1      True        0   7     7     False"
      ]
     },
     "execution_count": 13,
     "metadata": {},
     "output_type": "execute_result"
    }
   ],
   "source": [
    "def compare_results(old , new):\n",
    "    old = old.copy()\n",
    "    new = new.copy()\n",
    "    old.columns = pd.MultiIndex.from_tuples([['Old Rank',col] for col in old.columns])\n",
    "    new.columns = pd.MultiIndex.from_tuples([['New Rank',col] for col in new.columns])\n",
    "    return pd.concat([old.reset_index(drop=True),new.reset_index(drop=True)], axis=1)\n",
    "\n",
    "compare_results(unfair_ranking , re_ranking)"
   ]
  }
 ],
 "metadata": {
  "colab": {
   "provenance": []
  },
  "kernelspec": {
   "display_name": "Python 3",
   "name": "python3"
  },
  "language_info": {
   "codemirror_mode": {
    "name": "ipython",
    "version": 3
   },
   "file_extension": ".py",
   "mimetype": "text/x-python",
   "name": "python",
   "nbconvert_exporter": "python",
   "pygments_lexer": "ipython3",
   "version": "3.11.9"
  }
 },
 "nbformat": 4,
 "nbformat_minor": 0
}
