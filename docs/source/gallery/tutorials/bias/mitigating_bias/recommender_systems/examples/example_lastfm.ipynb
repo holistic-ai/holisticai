{
 "cells": [
  {
   "attachments": {},
   "cell_type": "markdown",
   "metadata": {
    "id": "3OXWn1f2YqX0"
   },
   "source": [
    "# **Bias Measuring and Mitigation in Recommendation Systems**\n",
    "\n",
    "Bias in recommendation systems can arise when the predictions systematically deviate from the true values for certain subgroups in the dataset. This phenomenon can be due to various reasons, such as unbalanced groups in the training data, feature selection, or model specification. A recommendation system aims to recommend the best items according to user preferences, but bias can affect the fairness and accuracy of these recommendations.\n",
    "\n",
    "To address this, various techniques can be used to measure bias in recommendation systems. Common approaches include using fairness metrics such as aggregate diversity, exposure entropy, or the Gini index, which are item-based metrics that calculate the distribution of items shown to users.\n",
    "\n",
    "Once bias is detected, we can employ different techniques to mitigate it. These methods can be grouped into three categories: Pre-processing, In-processing, and Post-processing. Pre-processing techniques adjust the training data to remove bias, In-processing methods build robust models against bias, and Post-processing techniques adjust the model's predictions to remove bias.\n",
    "\n",
    "In this tutorial, we will demonstrate tools to measure and mitigate bias in recommender systems, focusing on predicting users' music preferences using the \"Last FM Dataset.\" The outline of the tutorial is as follows:\n",
    "\n",
    "1. [Data Loading and Packages Installation](#1-Data-Tasks-Loading-Exploration-and-Preprocessing)\n",
    "2. [Data Exploration](#2-data-exploration)\n",
    "3. [Model Training](#3-model-training)\n",
    "4. [Bias Measurement](#4-bias-measurement)\n",
    "5. [Bias Mitigation](#5-bias-mitigation)\n",
    "    - [Blind Spot Aware Method](#Inprocessing-Blind-spot-aware-method)\n",
    "    - [Debiasing learning method](#Inprocessing-Debiasing-Learning-Method)\n",
    "6. [Results Comparison](#6-results-comparison)\n",
    "\n",
    "## **1. Data Tasks: Loading, Exploration, and Preprocessing**\n",
    "\n",
    "First, we need to import the required packages to perform our bias analysis and mitigation. Ensure you have the `holisticai` package installed on your system by running:\n",
    "\n",
    "```bash\n",
    "!pip install holisticai[all]\n",
    "```"
   ]
  },
  {
   "cell_type": "code",
   "execution_count": 1,
   "metadata": {
    "execution": {
     "iopub.execute_input": "2024-09-08T05:51:39.259243Z",
     "iopub.status.busy": "2024-09-08T05:51:39.258478Z",
     "iopub.status.idle": "2024-09-08T05:51:39.767530Z",
     "shell.execute_reply": "2024-09-08T05:51:39.767056Z"
    },
    "id": "a4uAy950YwAB"
   },
   "outputs": [],
   "source": [
    "# Base Imports\n",
    "import pandas as pd\n",
    "import numpy as np\n",
    "import matplotlib.pyplot as plt\n",
    "\n",
    "np.random.seed(0)\n",
    "import warnings\n",
    "warnings.filterwarnings(\"ignore\")"
   ]
  },
  {
   "attachments": {},
   "cell_type": "markdown",
   "metadata": {
    "id": "AcG35BN7nnH3"
   },
   "source": [
    "## **2. Data exploration**"
   ]
  },
  {
   "attachments": {},
   "cell_type": "markdown",
   "metadata": {
    "id": "HgRHiQjUY44J"
   },
   "source": [
    "The dataset used is the \"Last FM Dataset,\" which contains a set of artists downloaded by users, along with user information such as sex and country of origin. We will use the column \"score,\" which contains 1s to count interactions.\n",
    "\n",
    "Source: [GroupLens ](https://files.grouplens.org/datasets/hetrec2011/hetrec2011-lastfm-readme.txt)\n",
    "\n",
    "The load_dataset function from the holisticai package returns the preprocessed dataset. For the 'lastfm' dataset, it returns the processed pivot table as a numpy array and the protected attribute."
   ]
  },
  {
   "cell_type": "code",
   "execution_count": 2,
   "metadata": {
    "colab": {
     "base_uri": "https://localhost:8080/"
    },
    "execution": {
     "iopub.execute_input": "2024-09-08T05:51:39.769970Z",
     "iopub.status.busy": "2024-09-08T05:51:39.769626Z",
     "iopub.status.idle": "2024-09-08T05:51:40.817459Z",
     "shell.execute_reply": "2024-09-08T05:51:40.816840Z"
    },
    "id": "qmFz5l9ebgCs",
    "outputId": "eba53028-b9c0-426e-f22e-623af78f1833"
   },
   "outputs": [],
   "source": [
    "from holisticai.datasets import load_dataset\n",
    "\n",
    "dataset = load_dataset('lastfm')\n",
    "df_pivot, p_attr = dataset['data_pivot'], dataset['p_attr']"
   ]
  },
  {
   "cell_type": "code",
   "execution_count": 3,
   "metadata": {
    "execution": {
     "iopub.execute_input": "2024-09-08T05:51:40.819514Z",
     "iopub.status.busy": "2024-09-08T05:51:40.819296Z",
     "iopub.status.idle": "2024-09-08T05:51:40.990537Z",
     "shell.execute_reply": "2024-09-08T05:51:40.990045Z"
    }
   },
   "outputs": [
    {
     "data": {
      "text/plain": [
       "<Axes: >"
      ]
     },
     "execution_count": 3,
     "metadata": {},
     "output_type": "execute_result"
    },
    {
     "data": {
      "image/png": "[encoded data removed]",
      "text/plain": [
       "<Figure size 640x480 with 1 Axes>"
      ]
     },
     "metadata": {},
     "output_type": "display_data"
    }
   ],
   "source": [
    "from holisticai.bias.plots import group_pie_plot\n",
    "\n",
    "group_pie_plot(p_attr)"
   ]
  },
  {
   "attachments": {},
   "cell_type": "markdown",
   "metadata": {
    "id": "H4CQyqQRn-aZ"
   },
   "source": [
    "This graph shows that the proportion of non-protected examples is very high compared to the protected group."
   ]
  },
  {
   "cell_type": "code",
   "execution_count": 4,
   "metadata": {
    "execution": {
     "iopub.execute_input": "2024-09-08T05:51:40.992264Z",
     "iopub.status.busy": "2024-09-08T05:51:40.992066Z",
     "iopub.status.idle": "2024-09-08T05:51:40.995058Z",
     "shell.execute_reply": "2024-09-08T05:51:40.994655Z"
    },
    "id": "OO0onQMriiji"
   },
   "outputs": [
    {
     "name": "stdout",
     "output_type": "stream",
     "text": [
      "Number of Unique Users : 15000\n",
      "Number of Unique Artists : 1004\n"
     ]
    }
   ],
   "source": [
    "print ('Number of Unique Users : ' + str(df_pivot.shape[0]))\n",
    "print ('Number of Unique Artists : ' + str(df_pivot.shape[1]))"
   ]
  },
  {
   "attachments": {},
   "cell_type": "markdown",
   "metadata": {
    "id": "rx5Y9OmOqY09"
   },
   "source": [
    "## **3. Model training**\n",
    "\n",
    "### **Training the baseline**\n",
    "We will use item-based collaborative filtering to recommend artists to users. This approach involves finding the most similar artists and recommending them based on users' preferences."
   ]
  },
  {
   "cell_type": "code",
   "execution_count": 5,
   "metadata": {
    "execution": {
     "iopub.execute_input": "2024-09-08T05:51:40.996570Z",
     "iopub.status.busy": "2024-09-08T05:51:40.996403Z",
     "iopub.status.idle": "2024-09-08T05:51:40.999686Z",
     "shell.execute_reply": "2024-09-08T05:51:40.999341Z"
    },
    "id": "u6Cv018XgFEc"
   },
   "outputs": [],
   "source": [
    "def items_liked_by_user(data_matrix, u):\n",
    "    return np.nonzero(data_matrix[u])[0]\n",
    "\n",
    "def recommended_items(data_matrix, similarity_matrix, u, k):\n",
    "    liked = items_liked_by_user(data_matrix, u)\n",
    "    arr = np.sum(similarity_matrix[liked,:], axis=0)\n",
    "    arr[liked] = 0\n",
    "    return np.argsort(arr)[-k:]\n",
    "\n",
    "def explode(arr, num_items):\n",
    "    out = np.zeros(num_items)\n",
    "    out[arr] = 1\n",
    "    return out"
   ]
  },
  {
   "attachments": {},
   "cell_type": "markdown",
   "metadata": {
    "id": "qnG-8NdwtTzf"
   },
   "source": [
    "We prepare our pivoted table to calculate correlations and perform filtering to create a new pivoted table for user recommendations."
   ]
  },
  {
   "cell_type": "code",
   "execution_count": 6,
   "metadata": {
    "execution": {
     "iopub.execute_input": "2024-09-08T05:51:41.001130Z",
     "iopub.status.busy": "2024-09-08T05:51:41.000995Z",
     "iopub.status.idle": "2024-09-08T05:51:45.445719Z",
     "shell.execute_reply": "2024-09-08T05:51:45.445310Z"
    },
    "id": "Yj_1x8p1gKzf"
   },
   "outputs": [
    {
     "data": {
      "text/html": [
       "<div>\n",
       "<style scoped>\n",
       "    .dataframe tbody tr th:only-of-type {\n",
       "        vertical-align: middle;\n",
       "    }\n",
       "\n",
       "    .dataframe tbody tr th {\n",
       "        vertical-align: top;\n",
       "    }\n",
       "\n",
       "    .dataframe thead th {\n",
       "        text-align: right;\n",
       "    }\n",
       "</style>\n",
       "<table border=\"1\" class=\"dataframe\">\n",
       "  <thead>\n",
       "    <tr style=\"text-align: right;\">\n",
       "      <th></th>\n",
       "      <th>...and you will know us by the trail of dead</th>\n",
       "      <th>2pac</th>\n",
       "      <th>3 doors down</th>\n",
       "      <th>30 seconds to mars</th>\n",
       "      <th>311</th>\n",
       "      <th>36 crazyfists</th>\n",
       "      <th>44</th>\n",
       "      <th>50 cent</th>\n",
       "      <th>65daysofstatic</th>\n",
       "      <th>Edith piaf</th>\n",
       "      <th>...</th>\n",
       "      <th>weezer</th>\n",
       "      <th>wilco</th>\n",
       "      <th>within temptation</th>\n",
       "      <th>wolfgang amadeus mozart</th>\n",
       "      <th>wu-tang clan</th>\n",
       "      <th>yann tiersen</th>\n",
       "      <th>yeah yeah yeahs</th>\n",
       "      <th>yellowcard</th>\n",
       "      <th>yo la tengo</th>\n",
       "      <th>zero 7</th>\n",
       "    </tr>\n",
       "  </thead>\n",
       "  <tbody>\n",
       "    <tr>\n",
       "      <th>0</th>\n",
       "      <td>0.0</td>\n",
       "      <td>0.0</td>\n",
       "      <td>0.0</td>\n",
       "      <td>0.0</td>\n",
       "      <td>0.0</td>\n",
       "      <td>0.0</td>\n",
       "      <td>0.0</td>\n",
       "      <td>0.0</td>\n",
       "      <td>0.0</td>\n",
       "      <td>0.0</td>\n",
       "      <td>...</td>\n",
       "      <td>0.0</td>\n",
       "      <td>0.0</td>\n",
       "      <td>0.0</td>\n",
       "      <td>0.0</td>\n",
       "      <td>0.0</td>\n",
       "      <td>0.0</td>\n",
       "      <td>0.0</td>\n",
       "      <td>0.0</td>\n",
       "      <td>0.0</td>\n",
       "      <td>0.0</td>\n",
       "    </tr>\n",
       "    <tr>\n",
       "      <th>1</th>\n",
       "      <td>0.0</td>\n",
       "      <td>0.0</td>\n",
       "      <td>0.0</td>\n",
       "      <td>0.0</td>\n",
       "      <td>0.0</td>\n",
       "      <td>0.0</td>\n",
       "      <td>0.0</td>\n",
       "      <td>0.0</td>\n",
       "      <td>0.0</td>\n",
       "      <td>0.0</td>\n",
       "      <td>...</td>\n",
       "      <td>0.0</td>\n",
       "      <td>0.0</td>\n",
       "      <td>0.0</td>\n",
       "      <td>0.0</td>\n",
       "      <td>0.0</td>\n",
       "      <td>0.0</td>\n",
       "      <td>0.0</td>\n",
       "      <td>0.0</td>\n",
       "      <td>0.0</td>\n",
       "      <td>0.0</td>\n",
       "    </tr>\n",
       "    <tr>\n",
       "      <th>2</th>\n",
       "      <td>0.0</td>\n",
       "      <td>0.0</td>\n",
       "      <td>0.0</td>\n",
       "      <td>0.0</td>\n",
       "      <td>0.0</td>\n",
       "      <td>0.0</td>\n",
       "      <td>0.0</td>\n",
       "      <td>0.0</td>\n",
       "      <td>0.0</td>\n",
       "      <td>0.0</td>\n",
       "      <td>...</td>\n",
       "      <td>0.0</td>\n",
       "      <td>0.0</td>\n",
       "      <td>0.0</td>\n",
       "      <td>0.0</td>\n",
       "      <td>0.0</td>\n",
       "      <td>0.0</td>\n",
       "      <td>0.0</td>\n",
       "      <td>0.0</td>\n",
       "      <td>0.0</td>\n",
       "      <td>0.0</td>\n",
       "    </tr>\n",
       "    <tr>\n",
       "      <th>3</th>\n",
       "      <td>0.0</td>\n",
       "      <td>0.0</td>\n",
       "      <td>0.0</td>\n",
       "      <td>0.0</td>\n",
       "      <td>0.0</td>\n",
       "      <td>0.0</td>\n",
       "      <td>0.0</td>\n",
       "      <td>0.0</td>\n",
       "      <td>0.0</td>\n",
       "      <td>0.0</td>\n",
       "      <td>...</td>\n",
       "      <td>0.0</td>\n",
       "      <td>0.0</td>\n",
       "      <td>0.0</td>\n",
       "      <td>0.0</td>\n",
       "      <td>0.0</td>\n",
       "      <td>0.0</td>\n",
       "      <td>0.0</td>\n",
       "      <td>0.0</td>\n",
       "      <td>0.0</td>\n",
       "      <td>0.0</td>\n",
       "    </tr>\n",
       "    <tr>\n",
       "      <th>4</th>\n",
       "      <td>0.0</td>\n",
       "      <td>0.0</td>\n",
       "      <td>0.0</td>\n",
       "      <td>0.0</td>\n",
       "      <td>0.0</td>\n",
       "      <td>0.0</td>\n",
       "      <td>0.0</td>\n",
       "      <td>0.0</td>\n",
       "      <td>0.0</td>\n",
       "      <td>0.0</td>\n",
       "      <td>...</td>\n",
       "      <td>0.0</td>\n",
       "      <td>0.0</td>\n",
       "      <td>0.0</td>\n",
       "      <td>0.0</td>\n",
       "      <td>0.0</td>\n",
       "      <td>0.0</td>\n",
       "      <td>0.0</td>\n",
       "      <td>0.0</td>\n",
       "      <td>0.0</td>\n",
       "      <td>0.0</td>\n",
       "    </tr>\n",
       "  </tbody>\n",
       "</table>\n",
       "<p>5 rows × 1004 columns</p>\n",
       "</div>"
      ],
      "text/plain": [
       "   ...and you will know us by the trail of dead  2pac  3 doors down  \\\n",
       "0                                           0.0   0.0           0.0   \n",
       "1                                           0.0   0.0           0.0   \n",
       "2                                           0.0   0.0           0.0   \n",
       "3                                           0.0   0.0           0.0   \n",
       "4                                           0.0   0.0           0.0   \n",
       "\n",
       "   30 seconds to mars  311  36 crazyfists   44  50 cent  65daysofstatic  \\\n",
       "0                 0.0  0.0            0.0  0.0      0.0             0.0   \n",
       "1                 0.0  0.0            0.0  0.0      0.0             0.0   \n",
       "2                 0.0  0.0            0.0  0.0      0.0             0.0   \n",
       "3                 0.0  0.0            0.0  0.0      0.0             0.0   \n",
       "4                 0.0  0.0            0.0  0.0      0.0             0.0   \n",
       "\n",
       "   Edith piaf  ...  weezer  wilco  within temptation  wolfgang amadeus mozart  \\\n",
       "0         0.0  ...     0.0    0.0                0.0                      0.0   \n",
       "1         0.0  ...     0.0    0.0                0.0                      0.0   \n",
       "2         0.0  ...     0.0    0.0                0.0                      0.0   \n",
       "3         0.0  ...     0.0    0.0                0.0                      0.0   \n",
       "4         0.0  ...     0.0    0.0                0.0                      0.0   \n",
       "\n",
       "   wu-tang clan  yann tiersen  yeah yeah yeahs  yellowcard  yo la tengo  \\\n",
       "0           0.0           0.0              0.0         0.0          0.0   \n",
       "1           0.0           0.0              0.0         0.0          0.0   \n",
       "2           0.0           0.0              0.0         0.0          0.0   \n",
       "3           0.0           0.0              0.0         0.0          0.0   \n",
       "4           0.0           0.0              0.0         0.0          0.0   \n",
       "\n",
       "   zero 7  \n",
       "0     0.0  \n",
       "1     0.0  \n",
       "2     0.0  \n",
       "3     0.0  \n",
       "4     0.0  \n",
       "\n",
       "[5 rows x 1004 columns]"
      ]
     },
     "execution_count": 6,
     "metadata": {},
     "output_type": "execute_result"
    }
   ],
   "source": [
    "from sklearn.metrics.pairwise import linear_kernel\n",
    "\n",
    "data_matrix = df_pivot.fillna(0).to_numpy()\n",
    "cosine_sim = linear_kernel(data_matrix.T, data_matrix.T)\n",
    "\n",
    "new_recs = [explode(recommended_items(data_matrix, cosine_sim, u, 10), len(df_pivot.columns)) for u in range(df_pivot.shape[0])]\n",
    "new_df_pivot = pd.DataFrame(new_recs, columns = df_pivot.columns)\n",
    "new_df_pivot.head()"
   ]
  },
  {
   "attachments": {},
   "cell_type": "markdown",
   "metadata": {},
   "source": [
    "Finally, we obtain our recommendation matrix:"
   ]
  },
  {
   "cell_type": "code",
   "execution_count": 7,
   "metadata": {
    "execution": {
     "iopub.execute_input": "2024-09-08T05:51:45.447666Z",
     "iopub.status.busy": "2024-09-08T05:51:45.447527Z",
     "iopub.status.idle": "2024-09-08T05:51:45.500465Z",
     "shell.execute_reply": "2024-09-08T05:51:45.499946Z"
    },
    "id": "YGX9Qibzq-T_"
   },
   "outputs": [],
   "source": [
    "mat = new_df_pivot.replace(0,np.nan)"
   ]
  },
  {
   "attachments": {},
   "cell_type": "markdown",
   "metadata": {
    "id": "Y576jCVEuN7s"
   },
   "source": [
    "## **4. Bias Measurement**\n",
    "We will calculate various fairness metrics for our recommendation matrix using the `recommender_bias_metrics` function:"
   ]
  },
  {
   "cell_type": "code",
   "execution_count": 8,
   "metadata": {
    "execution": {
     "iopub.execute_input": "2024-09-08T05:51:45.502266Z",
     "iopub.status.busy": "2024-09-08T05:51:45.502116Z",
     "iopub.status.idle": "2024-09-08T05:51:45.792145Z",
     "shell.execute_reply": "2024-09-08T05:51:45.791643Z"
    },
    "id": "RHqbHr1HZ_LS"
   },
   "outputs": [
    {
     "data": {
      "text/html": [
       "<div>\n",
       "<style scoped>\n",
       "    .dataframe tbody tr th:only-of-type {\n",
       "        vertical-align: middle;\n",
       "    }\n",
       "\n",
       "    .dataframe tbody tr th {\n",
       "        vertical-align: top;\n",
       "    }\n",
       "\n",
       "    .dataframe thead th {\n",
       "        text-align: right;\n",
       "    }\n",
       "</style>\n",
       "<table border=\"1\" class=\"dataframe\">\n",
       "  <thead>\n",
       "    <tr style=\"text-align: right;\">\n",
       "      <th></th>\n",
       "      <th>Value</th>\n",
       "      <th>Reference</th>\n",
       "    </tr>\n",
       "    <tr>\n",
       "      <th>Metric</th>\n",
       "      <th></th>\n",
       "      <th></th>\n",
       "    </tr>\n",
       "  </thead>\n",
       "  <tbody>\n",
       "    <tr>\n",
       "      <th>Aggregate Diversity</th>\n",
       "      <td>0.417331</td>\n",
       "      <td>1</td>\n",
       "    </tr>\n",
       "    <tr>\n",
       "      <th>GINI index</th>\n",
       "      <td>0.964381</td>\n",
       "      <td>0</td>\n",
       "    </tr>\n",
       "    <tr>\n",
       "      <th>Exposure Distribution Entropy</th>\n",
       "      <td>3.811313</td>\n",
       "      <td>-</td>\n",
       "    </tr>\n",
       "    <tr>\n",
       "      <th>Average Recommendation Popularity</th>\n",
       "      <td>5725.978827</td>\n",
       "      <td>-</td>\n",
       "    </tr>\n",
       "  </tbody>\n",
       "</table>\n",
       "</div>"
      ],
      "text/plain": [
       "                                         Value Reference\n",
       "Metric                                                  \n",
       "Aggregate Diversity                   0.417331         1\n",
       "GINI index                            0.964381         0\n",
       "Exposure Distribution Entropy         3.811313         -\n",
       "Average Recommendation Popularity  5725.978827         -"
      ]
     },
     "execution_count": 8,
     "metadata": {},
     "output_type": "execute_result"
    }
   ],
   "source": [
    "from holisticai.bias.metrics import recommender_bias_metrics\n",
    "\n",
    "df = recommender_bias_metrics(mat_pred=mat, metric_type='item_based')\n",
    "df_baseline=df.copy()\n",
    "df_baseline"
   ]
  },
  {
   "attachments": {},
   "cell_type": "markdown",
   "metadata": {
    "id": "fljfCEvdvq72"
   },
   "source": [
    "The function computes metrics such as Aggregate Diversity and Gini Index, helping us analyze fairness in recommendations."
   ]
  },
  {
   "attachments": {},
   "cell_type": "markdown",
   "metadata": {
    "id": "E6nr3AEdwGXF"
   },
   "source": [
    "## **5. Bias mitigation**\n",
    "\n",
    "Now that we could observe that the model metrics are far away from the desired values, we need to apply some kind of strategy to mitigate the bias present in the model.\n",
    "\n",
    "Exists different kinds of strategies, and the literature has divided them into three categories: \"Pre-processing\", \"in-processing\" and \"post-processing\" methods. The `holisticai` library possesses different algorithms from these categories for bias mitigation. An interesting feature is that all of them are compatible with the `Scikit-learn` package, so that, if you are familiar with this package, you will not have problems using the library.\n",
    "\n",
    "### **Inprocessing: Blind spot aware method**\n",
    "\n",
    "First, we will implement the \"Blind spot aware\" method which is a inprocessing algorithm that takes into account the blind spot inherent in the learning phase of the Recommender System. Where the blind spot size is the number of item with a predicted rating."
   ]
  },
  {
   "cell_type": "code",
   "execution_count": 9,
   "metadata": {
    "execution": {
     "iopub.execute_input": "2024-09-08T05:51:45.794050Z",
     "iopub.status.busy": "2024-09-08T05:51:45.793891Z",
     "iopub.status.idle": "2024-09-08T05:52:30.042738Z",
     "shell.execute_reply": "2024-09-08T05:52:30.042181Z"
    },
    "id": "3fCA4ygOxaBP"
   },
   "outputs": [
    {
     "data": {
      "text/html": [
       "\n",
       "    <style>\n",
       "        @import url('https://fonts.googleapis.com/css2?family=Montserrat:ital,wght@0,100..900;1,100..900&display=swap');\n",
       "\n",
       "/* Light blue theme (default) */\n",
       ".generic-object-container.blue {\n",
       "    background-color: #f6feff !important; /* Container background: light blue */\n",
       "    border-color: #4db6ac !important; /* Soft blue border */\n",
       "}\n",
       "\n",
       ".generic-object-header.blue {\n",
       "    background-color: #d6faff !important; /* Header background: darker blue */\n",
       "}\n",
       "\n",
       ".generic-object-header.blue:hover {\n",
       "    background-color: #80deea !important; /* Darker shade on hover over the header */\n",
       "}\n",
       "\n",
       ".attribute-list.blue:hover {\n",
       "    background-color: #b2dfdb !important; /* Attribute background on hover: darker blue */\n",
       "}\n",
       "\n",
       "/* Orange theme */\n",
       ".generic-object-container.orange {\n",
       "    background-color: #fff9ef !important; /* Container background: light orange */\n",
       "    border-color: #ffb74d !important; /* Soft orange border */\n",
       "}\n",
       "\n",
       ".generic-object-header.orange {\n",
       "    background-color: #ffe0b2 !important; /* Header background: darker orange */\n",
       "}\n",
       "\n",
       ".generic-object-header.orange:hover {\n",
       "    background-color: #ffcc80 !important; /* Darker shade on hover over the header */\n",
       "}\n",
       "\n",
       ".attribute-list.orange:hover {\n",
       "    background-color: #ffe0b2 !important; /* Attribute background on hover: darker orange */\n",
       "}\n",
       "\n",
       "/* Green theme */\n",
       ".generic-object-container.green {\n",
       "    background-color: #f6fff6 !important; /* Container background: light green */\n",
       "    border-color: #81c784 !important; /* Soft green border */\n",
       "}\n",
       "\n",
       ".generic-object-header.green {\n",
       "    background-color: #c8e6c9 !important; /* Header background: darker green */\n",
       "}\n",
       "\n",
       ".generic-object-header.green:hover {\n",
       "    background-color: #a5d6a7 !important; /* Darker shade on hover over the header */\n",
       "}\n",
       "\n",
       ".attribute-list.green:hover {\n",
       "    background-color: #c8e6c9 !important; /* Attribute background on hover: darker green */\n",
       "}\n",
       "\n",
       "/* Align the first container to the left */\n",
       ".generic-object-container.first-level {\n",
       "    margin: 0;\n",
       "    width: auto;\n",
       "    max-width: 800px;\n",
       "    display: block;\n",
       "    box-sizing: border-box;\n",
       "}\n",
       "\n",
       "/* Nested containers stay centered */\n",
       ".generic-object-container .generic-object-container {\n",
       "    margin: 5px auto;\n",
       "    width: 100%;\n",
       "    display: block;\n",
       "    padding: 5px 0;\n",
       "}\n",
       "\n",
       "/* Remove default background color so only themes apply it */\n",
       ".generic-object-container {\n",
       "    padding: 0;\n",
       "    margin: 0 auto;\n",
       "    border: 1px dashed;\n",
       "    border-radius: 5px;\n",
       "    display: block;\n",
       "    width: auto;\n",
       "    max-width: 800px;\n",
       "    box-sizing: border-box;\n",
       "    margin-bottom: 15px;\n",
       "    transition: transform 0.2s, box-shadow 0.2s;\n",
       "}\n",
       "\n",
       ".generic-object-container:hover {\n",
       "    box-shadow: 0px 4px 10px rgba(77, 182, 172, 0.3);\n",
       "}\n",
       "\n",
       ".generic-object-header {\n",
       "    font-family: 'Montserrat', Arial, sans-serif;\n",
       "    font-size: 14px;\n",
       "    padding: 10px 20px;\n",
       "    padding-left: 40px;\n",
       "    text-align: center;\n",
       "    font-weight: bold;\n",
       "    cursor: pointer;\n",
       "    display: flex;\n",
       "    align-items: center;\n",
       "    justify-content: center;\n",
       "    position: relative;\n",
       "    width: 100%;\n",
       "    box-sizing: border-box;\n",
       "    border-radius: 5px;\n",
       "    transition: background-color 0.3s;\n",
       "}\n",
       "\n",
       ".toggle-button {\n",
       "    margin-right: 10px;\n",
       "    background: none;\n",
       "    border: none;\n",
       "    font-size: 13px;\n",
       "    cursor: pointer;\n",
       "    position: absolute;\n",
       "    left: 10px;\n",
       "    color: #004d40;\n",
       "}\n",
       "\n",
       ".generic-object-body {\n",
       "    padding: 5px 10px;\n",
       "    display: block;\n",
       "    border-radius: 0 0 5px 5px;\n",
       "    background-color: inherit;\n",
       "    margin: 0 auto;\n",
       "}\n",
       "\n",
       ".hidden {\n",
       "    display: none;\n",
       "}\n",
       "\n",
       ".attribute-list {\n",
       "    margin: 2px 0;\n",
       "    padding: 2px;\n",
       "    transition: background-color 0.2s;\n",
       "    display: block;\n",
       "}\n",
       "\n",
       ".flex-space-filler {\n",
       "    display: flex;\n",
       "    justify-content: center;\n",
       "    align-items: center;\n",
       "}\n",
       "\n",
       "    </style>\n",
       "    <div style=\"display: flex;\">\n",
       "    <div class=\"generic-object-container blue first-level\">\n",
       "        <div class=\"generic-object-content\">\n",
       "            <div class=\"generic-object-header blue\" onclick=\"toggleCollapse(this)\">\n",
       "                <button class=\"toggle-button blue\">[-]</button> [BlindSpotAwareMF]\n",
       "            </div>\n",
       "            <div class=\"generic-object-body\">\n",
       "                <div class=\"attribute-list blue\"><center>BlindSpotAwareMF(K=40, beta=0.02, steps=10, alpha=0.002, ...)</center></div><hr><div class=\"attribute-list blue\"><strong>Type</strong>: Bias Mitigation Inprocessing</div>\n",
       "                \n",
       "            </div>\n",
       "        </div>\n",
       "    </div>\n",
       "</div>\n",
       "    <script>\n",
       "    function toggleCollapse(element) {\n",
       "        var body = element.nextElementSibling;\n",
       "        var button = element.querySelector(\".toggle-button\");\n",
       "        if (body.classList.contains('hidden')) {\n",
       "            body.classList.remove('hidden');\n",
       "            button.textContent = \"[-]\";\n",
       "        } else {\n",
       "            body.classList.add('hidden');\n",
       "            button.textContent = \"[+]\";\n",
       "        }\n",
       "    }\n",
       "    </script>\n",
       "    "
      ],
      "text/plain": [
       "<holisticai.bias.mitigation.inprocessing.matrix_factorization.blind_spot_aware.BlindSpotAwareMF object at 0x7fd291363510>"
      ]
     },
     "execution_count": 9,
     "metadata": {},
     "output_type": "execute_result"
    }
   ],
   "source": [
    "from holisticai.bias.mitigation import BlindSpotAwareMF\n",
    "\n",
    "mf = BlindSpotAwareMF(K=40, beta=0.02, steps=10, alpha=0.002, lamda=0.008, verbose=1)\n",
    "mf.fit(data_matrix)"
   ]
  },
  {
   "cell_type": "markdown",
   "metadata": {},
   "source": [
    "We use the data matrix and protected groups to perform mitigation."
   ]
  },
  {
   "cell_type": "code",
   "execution_count": 10,
   "metadata": {
    "execution": {
     "iopub.execute_input": "2024-09-08T05:52:30.045276Z",
     "iopub.status.busy": "2024-09-08T05:52:30.044866Z",
     "iopub.status.idle": "2024-09-08T05:52:33.576171Z",
     "shell.execute_reply": "2024-09-08T05:52:33.575706Z"
    },
    "id": "1gj9s4XSexH8"
   },
   "outputs": [
    {
     "data": {
      "text/html": [
       "<div>\n",
       "<style scoped>\n",
       "    .dataframe tbody tr th:only-of-type {\n",
       "        vertical-align: middle;\n",
       "    }\n",
       "\n",
       "    .dataframe tbody tr th {\n",
       "        vertical-align: top;\n",
       "    }\n",
       "\n",
       "    .dataframe thead th {\n",
       "        text-align: right;\n",
       "    }\n",
       "</style>\n",
       "<table border=\"1\" class=\"dataframe\">\n",
       "  <thead>\n",
       "    <tr style=\"text-align: right;\">\n",
       "      <th></th>\n",
       "      <th>Value</th>\n",
       "      <th>Reference</th>\n",
       "    </tr>\n",
       "    <tr>\n",
       "      <th>Metric</th>\n",
       "      <th></th>\n",
       "      <th></th>\n",
       "    </tr>\n",
       "  </thead>\n",
       "  <tbody>\n",
       "    <tr>\n",
       "      <th>Aggregate Diversity</th>\n",
       "      <td>0.920319</td>\n",
       "      <td>1</td>\n",
       "    </tr>\n",
       "    <tr>\n",
       "      <th>GINI index</th>\n",
       "      <td>0.646106</td>\n",
       "      <td>0</td>\n",
       "    </tr>\n",
       "    <tr>\n",
       "      <th>Exposure Distribution Entropy</th>\n",
       "      <td>6.150804</td>\n",
       "      <td>-</td>\n",
       "    </tr>\n",
       "    <tr>\n",
       "      <th>Average Recommendation Popularity</th>\n",
       "      <td>478.088827</td>\n",
       "      <td>-</td>\n",
       "    </tr>\n",
       "  </tbody>\n",
       "</table>\n",
       "</div>"
      ],
      "text/plain": [
       "                                        Value Reference\n",
       "Metric                                                 \n",
       "Aggregate Diversity                  0.920319         1\n",
       "GINI index                           0.646106         0\n",
       "Exposure Distribution Entropy        6.150804         -\n",
       "Average Recommendation Popularity  478.088827         -"
      ]
     },
     "execution_count": 10,
     "metadata": {},
     "output_type": "execute_result"
    }
   ],
   "source": [
    "def recommended_items(model, data_matrix, k):\n",
    "    recommended_items_mask = data_matrix>0\n",
    "    candidate_index = ~recommended_items_mask\n",
    "    candidate_rating = model.pred*candidate_index\n",
    "    return np.argsort(-candidate_rating,axis=1)[:,:k]\n",
    "\n",
    "new_items = recommended_items(mf, data_matrix, 10)\n",
    "new_recs = [explode(new_items[u], len(df_pivot.columns)) for u in range(df_pivot.shape[0])]\n",
    "new_df_pivot_db = pd.DataFrame(new_recs, columns = df_pivot.columns)\n",
    "\n",
    "mat = new_df_pivot_db.replace(0,np.nan).to_numpy()\n",
    "df_blind = recommender_bias_metrics(mat_pred=mat>0, metric_type='item_based')\n",
    "df_blind"
   ]
  },
  {
   "attachments": {},
   "cell_type": "markdown",
   "metadata": {
    "id": "cj5Ix7lh1I8-"
   },
   "source": [
    "### **Inprocessing: Debiasing Learning Method**\n",
    "\n",
    "We will also implement the \"Debiasing Learning\" method, which handles selection biases using models and techniques from causal inference."
   ]
  },
  {
   "cell_type": "code",
   "execution_count": 11,
   "metadata": {
    "colab": {
     "base_uri": "https://localhost:8080/",
     "height": 224
    },
    "execution": {
     "iopub.execute_input": "2024-09-08T05:52:33.577941Z",
     "iopub.status.busy": "2024-09-08T05:52:33.577770Z",
     "iopub.status.idle": "2024-09-08T05:58:49.454027Z",
     "shell.execute_reply": "2024-09-08T05:58:49.453543Z"
    },
    "id": "ganjcVgCyV8v",
    "outputId": "f797fdb0-2687-42fa-c4fc-45b268346688"
   },
   "outputs": [
    {
     "data": {
      "text/html": [
       "<div>\n",
       "<style scoped>\n",
       "    .dataframe tbody tr th:only-of-type {\n",
       "        vertical-align: middle;\n",
       "    }\n",
       "\n",
       "    .dataframe tbody tr th {\n",
       "        vertical-align: top;\n",
       "    }\n",
       "\n",
       "    .dataframe thead th {\n",
       "        text-align: right;\n",
       "    }\n",
       "</style>\n",
       "<table border=\"1\" class=\"dataframe\">\n",
       "  <thead>\n",
       "    <tr style=\"text-align: right;\">\n",
       "      <th></th>\n",
       "      <th>Value</th>\n",
       "      <th>Reference</th>\n",
       "    </tr>\n",
       "    <tr>\n",
       "      <th>Metric</th>\n",
       "      <th></th>\n",
       "      <th></th>\n",
       "    </tr>\n",
       "  </thead>\n",
       "  <tbody>\n",
       "    <tr>\n",
       "      <th>Aggregate Diversity</th>\n",
       "      <td>0.430279</td>\n",
       "      <td>1</td>\n",
       "    </tr>\n",
       "    <tr>\n",
       "      <th>GINI index</th>\n",
       "      <td>0.849489</td>\n",
       "      <td>0</td>\n",
       "    </tr>\n",
       "    <tr>\n",
       "      <th>Exposure Distribution Entropy</th>\n",
       "      <td>5.317608</td>\n",
       "      <td>-</td>\n",
       "    </tr>\n",
       "    <tr>\n",
       "      <th>Average Recommendation Popularity</th>\n",
       "      <td>931.340987</td>\n",
       "      <td>-</td>\n",
       "    </tr>\n",
       "  </tbody>\n",
       "</table>\n",
       "</div>"
      ],
      "text/plain": [
       "                                        Value Reference\n",
       "Metric                                                 \n",
       "Aggregate Diversity                  0.430279         1\n",
       "GINI index                           0.849489         0\n",
       "Exposure Distribution Entropy        5.317608         -\n",
       "Average Recommendation Popularity  931.340987         -"
      ]
     },
     "execution_count": 11,
     "metadata": {},
     "output_type": "execute_result"
    }
   ],
   "source": [
    "\n",
    "from holisticai.bias.mitigation import DebiasingLearningMF\n",
    "\n",
    "mf = DebiasingLearningMF(K=40, normalization='Vanilla', lamda=0.08, metric='mse', bias_mode='Regularized', seed=1)\n",
    "mf.fit(data_matrix)\n",
    "\n",
    "new_items = recommended_items(mf, data_matrix, 10)\n",
    "new_recs = [explode(new_items[u], len(df_pivot.columns)) for u in range(df_pivot.shape[0])]\n",
    "new_df_pivot_db = pd.DataFrame(new_recs, columns = df_pivot.columns)\n",
    "\n",
    "mat = new_df_pivot_db.replace(0,np.nan).to_numpy()\n",
    "\n",
    "df = recommender_bias_metrics(mat_pred=mat, metric_type='item_based')\n",
    "df_debl =df.copy()\n",
    "df_debl"
   ]
  },
  {
   "attachments": {},
   "cell_type": "markdown",
   "metadata": {
    "id": "qScvgKTXx4Go"
   },
   "source": [
    "### **6. Results comparison**\n",
    "\n",
    "We compare the results between the baseline and the mitigated models to analyze how the metrics have changed."
   ]
  },
  {
   "cell_type": "code",
   "execution_count": 12,
   "metadata": {
    "colab": {
     "base_uri": "https://localhost:8080/",
     "height": 206
    },
    "execution": {
     "iopub.execute_input": "2024-09-08T05:58:49.455805Z",
     "iopub.status.busy": "2024-09-08T05:58:49.455648Z",
     "iopub.status.idle": "2024-09-08T05:58:49.461995Z",
     "shell.execute_reply": "2024-09-08T05:58:49.461534Z"
    },
    "id": "YykZGeugyV5W",
    "outputId": "be6cafb8-db77-44fd-d739-3892632d717e"
   },
   "outputs": [
    {
     "data": {
      "text/html": [
       "<div>\n",
       "<style scoped>\n",
       "    .dataframe tbody tr th:only-of-type {\n",
       "        vertical-align: middle;\n",
       "    }\n",
       "\n",
       "    .dataframe tbody tr th {\n",
       "        vertical-align: top;\n",
       "    }\n",
       "\n",
       "    .dataframe thead th {\n",
       "        text-align: right;\n",
       "    }\n",
       "</style>\n",
       "<table border=\"1\" class=\"dataframe\">\n",
       "  <thead>\n",
       "    <tr style=\"text-align: right;\">\n",
       "      <th></th>\n",
       "      <th>Baseline</th>\n",
       "      <th>Blind spot</th>\n",
       "      <th>Debiasing</th>\n",
       "      <th>Reference</th>\n",
       "    </tr>\n",
       "    <tr>\n",
       "      <th>Metric</th>\n",
       "      <th></th>\n",
       "      <th></th>\n",
       "      <th></th>\n",
       "      <th></th>\n",
       "    </tr>\n",
       "  </thead>\n",
       "  <tbody>\n",
       "    <tr>\n",
       "      <th>Aggregate Diversity</th>\n",
       "      <td>0.417331</td>\n",
       "      <td>0.920319</td>\n",
       "      <td>0.430279</td>\n",
       "      <td>1</td>\n",
       "    </tr>\n",
       "    <tr>\n",
       "      <th>GINI index</th>\n",
       "      <td>0.964381</td>\n",
       "      <td>0.646106</td>\n",
       "      <td>0.849489</td>\n",
       "      <td>0</td>\n",
       "    </tr>\n",
       "    <tr>\n",
       "      <th>Exposure Distribution Entropy</th>\n",
       "      <td>3.811313</td>\n",
       "      <td>6.150804</td>\n",
       "      <td>5.317608</td>\n",
       "      <td>-</td>\n",
       "    </tr>\n",
       "    <tr>\n",
       "      <th>Average Recommendation Popularity</th>\n",
       "      <td>5725.978827</td>\n",
       "      <td>478.088827</td>\n",
       "      <td>931.340987</td>\n",
       "      <td>-</td>\n",
       "    </tr>\n",
       "  </tbody>\n",
       "</table>\n",
       "</div>"
      ],
      "text/plain": [
       "                                      Baseline  Blind spot   Debiasing  \\\n",
       "Metric                                                                   \n",
       "Aggregate Diversity                   0.417331    0.920319    0.430279   \n",
       "GINI index                            0.964381    0.646106    0.849489   \n",
       "Exposure Distribution Entropy         3.811313    6.150804    5.317608   \n",
       "Average Recommendation Popularity  5725.978827  478.088827  931.340987   \n",
       "\n",
       "                                  Reference  \n",
       "Metric                                       \n",
       "Aggregate Diversity                       1  \n",
       "GINI index                                0  \n",
       "Exposure Distribution Entropy             -  \n",
       "Average Recommendation Popularity         -  "
      ]
     },
     "execution_count": 12,
     "metadata": {},
     "output_type": "execute_result"
    }
   ],
   "source": [
    "result = pd.concat([df_baseline, df_blind, df_debl], axis=1).iloc[:, [0,2,4,1]]\n",
    "result.columns = ['Baseline','Blind spot', 'Debiasing', 'Reference']\n",
    "result"
   ]
  },
  {
   "attachments": {},
   "cell_type": "markdown",
   "metadata": {
    "id": "QEKnD3ze0aGs"
   },
   "source": [
    "From the chart, we observe that although some metrics are still far from ideal, there is an improvement compared to the baseline. Overall, the Blind Spot mitigation method consistently outperforms the baseline and Debiasing learning method across all metrics, demonstrating its effectiveness in reducing bias and enhancing the fairness of recommendations for this particular case."
   ]
  },
  {
   "attachments": {},
   "cell_type": "markdown",
   "metadata": {
    "id": "4ja_XpCHgJuq"
   },
   "source": [
    "## **Summary**\n",
    "\n",
    "This tutorial explored the issue of bias in recommendation systems, focusing on identifying and mitigating bias to enhance fairness and accuracy. Using the \"Last FM Dataset,\" we demonstrated how to measure bias using various metrics and mitigate it through different techniques using the `holisticai` library. We presented in-processing mitigation methods like \"Blind Spot Aware\" and \"Debiasing Learning\" to illustrate their impact on recommendation fairness."
   ]
  }
 ],
 "metadata": {
  "colab": {
   "provenance": []
  },
  "kernelspec": {
   "display_name": "Python 3",
   "name": "python3"
  },
  "language_info": {
   "codemirror_mode": {
    "name": "ipython",
    "version": 3
   },
   "file_extension": ".py",
   "mimetype": "text/x-python",
   "name": "python",
   "nbconvert_exporter": "python",
   "pygments_lexer": "ipython3",
   "version": "3.11.9"
  }
 },
 "nbformat": 4,
 "nbformat_minor": 0
}
