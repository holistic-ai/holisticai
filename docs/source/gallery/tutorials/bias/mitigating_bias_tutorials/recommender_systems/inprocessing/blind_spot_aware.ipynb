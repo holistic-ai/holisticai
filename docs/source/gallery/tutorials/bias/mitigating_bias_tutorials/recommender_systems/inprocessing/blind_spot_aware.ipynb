{
  "cells": [
    {
      "attachments": {},
      "cell_type": "markdown",
      "metadata": {
        "id": "3OXWn1f2YqX0"
      },
      "source": [
        "# **Bias measuring and mitigation in recommendation systems**\n",
        "\n",
        "The bias problem can appear in models when the predictions systematically deviate from the true values for certain subgroups in the dataset. This phenomenon can occur due to various reasons such as unbalanced groups in the training data, feature selection, or model specification. Because of this, the bias problem can appear in different tasks, being \"recommendation systems\" one of them. A recommender system aims to recommend the best item according to the user preference.\n",
        "\n",
        "There are various techniques to measure bias in recommendation systems. One common approach is to use fairness metrics such as aggregate diversity, exposure entropy, or gini index, which are item based metrics that, in general terms, calculate the distribution to observe the proportions of items are shown to the user.\n",
        "\n",
        "Once bias is detected, we can employ different techniques to mitigate it. These methods can be grouped into three categories: Pre-processing, in-processing and post-processing methods. Pre-processing techniques are used to adjust the training data to remove bias, while in-processing methods are applied to build robust models against bias. Finally, post-processing techniques are used to adjust the model's predictions to remove bias.\n",
        "\n",
        "A recommender system can be biased in multiple ways. For example, we may be concerned that the artists in our database will not get equal representation (item fairness). Alternative, our main concern may be that different groups of users (e.g. male/female users) will get different music recommendations (user fairness). In the following, we will show how to explore the data for fairness, and measure these various types of fairness using the holisticai library.\n",
        "\n",
        "Through this tutorial, we pretend to present you tools which can be easily applied to measure and mitigate the presence of bias in recommender systems, focusing on the task of correctly predicting users' music preference.\n",
        "\n",
        "We will follow the traditional outline for this tutorial:\n",
        "\n",
        "1. Data loading and packages installation\n",
        "2. Data exploration\n",
        "3. Model training\n",
        "4. Bias measuring\n",
        "5. Bias mitigation\n",
        "6. Results comparison"
      ]
    },
    {
      "attachments": {},
      "cell_type": "markdown",
      "metadata": {
        "id": "TY3Lc4BBa6rE"
      },
      "source": [
        "## **1. Data tasks: loading, exploration and preprocessing**\n",
        "\n",
        "First of all, we need to import the required packages to perform our bias analysis and mitigation. You will need to have the `holisticai` package installed on your system, remember that you can install it by running: \n",
        "```bash\n",
        "!pip install holisticai[all]\n",
        "```"
      ]
    },
    {
      "cell_type": "code",
      "execution_count": 1,
      "metadata": {
        "id": "a4uAy950YwAB"
      },
      "outputs": [],
      "source": [
        "# Base Imports\n",
        "import pandas as pd\n",
        "import numpy as np\n",
        "import matplotlib.pyplot as plt"
      ]
    },
    {
      "cell_type": "code",
      "execution_count": 2,
      "metadata": {},
      "outputs": [],
      "source": [
        "np.random.seed(0)\n",
        "import warnings\n",
        "warnings.filterwarnings(\"ignore\")"
      ]
    },
    {
      "attachments": {},
      "cell_type": "markdown",
      "metadata": {
        "id": "AcG35BN7nnH3"
      },
      "source": [
        "## **2. Data exploration**"
      ]
    },
    {
      "attachments": {},
      "cell_type": "markdown",
      "metadata": {
        "id": "HgRHiQjUY44J"
      },
      "source": [
        "The dataset that we will use is the \"Last FM Dataset\" which is a publicly available dataset that contains a set of artists that were downloaded by users. It includes personal information about the user, specifically sex and country of origin. A user can download more than one artist. We will use the column \"score\", which contains only 1s for counting the interactions.\n",
        "\n",
        "Source: [GroupLens ](https://files.grouplens.org/datasets/hetrec2011/hetrec2011-lastfm-readme.txt)"
      ]
    },
    {
      "cell_type": "code",
      "execution_count": 3,
      "metadata": {
        "colab": {
          "base_uri": "https://localhost:8080/"
        },
        "id": "qmFz5l9ebgCs",
        "outputId": "eba53028-b9c0-426e-f22e-623af78f1833"
      },
      "outputs": [],
      "source": [
        "from holisticai.datasets import load_dataset"
      ]
    },
    {
      "attachments": {},
      "cell_type": "markdown",
      "metadata": {},
      "source": [
        "To speed up the process, the `load_dataset` function of the *holisticai* package allows to return the raw dataset or the preprocessed dataset by setting the `preprocess` parameter to `True`. This function also allows to return the processed data as a pandas dataframe or as a numpy array. However, when selecting the 'lastfm' dataset, the function will return the processed pivot table as a numpy array and the protected attribute.\n",
        "\n",
        "You will find more information about the target and the protected groups of this function in its documentation."
      ]
    },
    {
      "cell_type": "code",
      "execution_count": 11,
      "metadata": {},
      "outputs": [],
      "source": [
        "df_pivot, p_attr = load_dataset(dataset='lastfm')"
      ]
    },
    {
      "cell_type": "code",
      "execution_count": 12,
      "metadata": {
        "colab": {
          "base_uri": "https://localhost:8080/",
          "height": 471
        },
        "id": "UyMjaae3nf0M",
        "outputId": "7d781e6d-c536-4613-d180-0832f7bc8037"
      },
      "outputs": [
        {
          "data": {
            "text/plain": [
              "<Axes: >"
            ]
          },
          "execution_count": 12,
          "metadata": {},
          "output_type": "execute_result"
        },
        {
          "data": {
            "image/png": "[encoded data removed]",
            "text/plain": [
              "<Figure size 640x480 with 1 Axes>"
            ]
          },
          "metadata": {},
          "output_type": "display_data"
        }
      ],
      "source": [
        "from holisticai.bias.plots import group_pie_plot\n",
        "\n",
        "group_pie_plot(p_attr)"
      ]
    },
    {
      "attachments": {},
      "cell_type": "markdown",
      "metadata": {
        "id": "H4CQyqQRn-aZ"
      },
      "source": [
        "This graph show us that the proportion of non protected examples is very high compared to the protected group."
      ]
    },
    {
      "cell_type": "code",
      "execution_count": 13,
      "metadata": {
        "id": "OO0onQMriiji"
      },
      "outputs": [
        {
          "name": "stdout",
          "output_type": "stream",
          "text": [
            "Number of Unique Users : 15000\n",
            "Number of Unique Artists : 1004\n"
          ]
        }
      ],
      "source": [
        "print ('Number of Unique Users : ' + str(df_pivot.shape[0]))\n",
        "print ('Number of Unique Artists : ' + str(df_pivot.shape[1]))"
      ]
    },
    {
      "attachments": {},
      "cell_type": "markdown",
      "metadata": {
        "id": "rx5Y9OmOqY09"
      },
      "source": [
        "## **3. Model training**\n",
        "\n",
        "### **Training the baseline**\n",
        "There are many ways to recommend artists to users. We will use item based collaborative filtering since it is the simplest and most intuitive approach. For each artist, we work out a list of most similar artists. Then we recommend artists to users by looking at which artists they like, and choosing the most similar ones.\n",
        "\n",
        "To do that, first we will define some util functions that will help us to sort these recommendations:"
      ]
    },
    {
      "cell_type": "code",
      "execution_count": 14,
      "metadata": {
        "id": "u6Cv018XgFEc"
      },
      "outputs": [],
      "source": [
        "def items_liked_by_user(data_matrix, u):\n",
        "    return np.nonzero(data_matrix[u])[0]\n",
        "\n",
        "def recommended_items(data_matrix, similarity_matrix, u, k):\n",
        "    liked = items_liked_by_user(data_matrix, u)\n",
        "    arr = np.sum(similarity_matrix[liked,:], axis=0)\n",
        "    arr[liked] = 0\n",
        "    return np.argsort(arr)[-k:]\n",
        "\n",
        "def explode(arr, num_items):\n",
        "    out = np.zeros(num_items)\n",
        "    out[arr] = 1\n",
        "    return out"
      ]
    },
    {
      "attachments": {},
      "cell_type": "markdown",
      "metadata": {
        "id": "qnG-8NdwtTzf"
      },
      "source": [
        "Now, we have to prepare our pivoted table to calculate the correlations and perform the filtering to create a new pivoted table where we can extract the recommendations for the users"
      ]
    },
    {
      "cell_type": "code",
      "execution_count": 15,
      "metadata": {
        "id": "Yj_1x8p1gKzf"
      },
      "outputs": [
        {
          "data": {
            "text/html": [
              "<div>\n",
              "<style scoped>\n",
              "    .dataframe tbody tr th:only-of-type {\n",
              "        vertical-align: middle;\n",
              "    }\n",
              "\n",
              "    .dataframe tbody tr th {\n",
              "        vertical-align: top;\n",
              "    }\n",
              "\n",
              "    .dataframe thead th {\n",
              "        text-align: right;\n",
              "    }\n",
              "</style>\n",
              "<table border=\"1\" class=\"dataframe\">\n",
              "  <thead>\n",
              "    <tr style=\"text-align: right;\">\n",
              "      <th>artist</th>\n",
              "      <th>...and you will know us by the trail of dead</th>\n",
              "      <th>2pac</th>\n",
              "      <th>3 doors down</th>\n",
              "      <th>30 seconds to mars</th>\n",
              "      <th>311</th>\n",
              "      <th>36 crazyfists</th>\n",
              "      <th>44</th>\n",
              "      <th>50 cent</th>\n",
              "      <th>65daysofstatic</th>\n",
              "      <th>Edith piaf</th>\n",
              "      <th>...</th>\n",
              "      <th>weezer</th>\n",
              "      <th>wilco</th>\n",
              "      <th>within temptation</th>\n",
              "      <th>wolfgang amadeus mozart</th>\n",
              "      <th>wu-tang clan</th>\n",
              "      <th>yann tiersen</th>\n",
              "      <th>yeah yeah yeahs</th>\n",
              "      <th>yellowcard</th>\n",
              "      <th>yo la tengo</th>\n",
              "      <th>zero 7</th>\n",
              "    </tr>\n",
              "  </thead>\n",
              "  <tbody>\n",
              "    <tr>\n",
              "      <th>0</th>\n",
              "      <td>0.0</td>\n",
              "      <td>0.0</td>\n",
              "      <td>0.0</td>\n",
              "      <td>0.0</td>\n",
              "      <td>0.0</td>\n",
              "      <td>0.0</td>\n",
              "      <td>0.0</td>\n",
              "      <td>0.0</td>\n",
              "      <td>0.0</td>\n",
              "      <td>0.0</td>\n",
              "      <td>...</td>\n",
              "      <td>0.0</td>\n",
              "      <td>0.0</td>\n",
              "      <td>0.0</td>\n",
              "      <td>0.0</td>\n",
              "      <td>0.0</td>\n",
              "      <td>0.0</td>\n",
              "      <td>0.0</td>\n",
              "      <td>0.0</td>\n",
              "      <td>0.0</td>\n",
              "      <td>0.0</td>\n",
              "    </tr>\n",
              "    <tr>\n",
              "      <th>1</th>\n",
              "      <td>0.0</td>\n",
              "      <td>0.0</td>\n",
              "      <td>0.0</td>\n",
              "      <td>0.0</td>\n",
              "      <td>0.0</td>\n",
              "      <td>0.0</td>\n",
              "      <td>0.0</td>\n",
              "      <td>0.0</td>\n",
              "      <td>0.0</td>\n",
              "      <td>0.0</td>\n",
              "      <td>...</td>\n",
              "      <td>0.0</td>\n",
              "      <td>0.0</td>\n",
              "      <td>0.0</td>\n",
              "      <td>0.0</td>\n",
              "      <td>0.0</td>\n",
              "      <td>0.0</td>\n",
              "      <td>0.0</td>\n",
              "      <td>0.0</td>\n",
              "      <td>0.0</td>\n",
              "      <td>0.0</td>\n",
              "    </tr>\n",
              "    <tr>\n",
              "      <th>2</th>\n",
              "      <td>0.0</td>\n",
              "      <td>0.0</td>\n",
              "      <td>0.0</td>\n",
              "      <td>0.0</td>\n",
              "      <td>0.0</td>\n",
              "      <td>0.0</td>\n",
              "      <td>0.0</td>\n",
              "      <td>0.0</td>\n",
              "      <td>0.0</td>\n",
              "      <td>0.0</td>\n",
              "      <td>...</td>\n",
              "      <td>0.0</td>\n",
              "      <td>0.0</td>\n",
              "      <td>0.0</td>\n",
              "      <td>0.0</td>\n",
              "      <td>0.0</td>\n",
              "      <td>0.0</td>\n",
              "      <td>0.0</td>\n",
              "      <td>0.0</td>\n",
              "      <td>0.0</td>\n",
              "      <td>0.0</td>\n",
              "    </tr>\n",
              "    <tr>\n",
              "      <th>3</th>\n",
              "      <td>0.0</td>\n",
              "      <td>0.0</td>\n",
              "      <td>0.0</td>\n",
              "      <td>0.0</td>\n",
              "      <td>0.0</td>\n",
              "      <td>0.0</td>\n",
              "      <td>0.0</td>\n",
              "      <td>0.0</td>\n",
              "      <td>0.0</td>\n",
              "      <td>0.0</td>\n",
              "      <td>...</td>\n",
              "      <td>0.0</td>\n",
              "      <td>0.0</td>\n",
              "      <td>0.0</td>\n",
              "      <td>0.0</td>\n",
              "      <td>0.0</td>\n",
              "      <td>0.0</td>\n",
              "      <td>0.0</td>\n",
              "      <td>0.0</td>\n",
              "      <td>0.0</td>\n",
              "      <td>0.0</td>\n",
              "    </tr>\n",
              "    <tr>\n",
              "      <th>4</th>\n",
              "      <td>0.0</td>\n",
              "      <td>0.0</td>\n",
              "      <td>0.0</td>\n",
              "      <td>0.0</td>\n",
              "      <td>0.0</td>\n",
              "      <td>0.0</td>\n",
              "      <td>0.0</td>\n",
              "      <td>0.0</td>\n",
              "      <td>0.0</td>\n",
              "      <td>0.0</td>\n",
              "      <td>...</td>\n",
              "      <td>0.0</td>\n",
              "      <td>0.0</td>\n",
              "      <td>0.0</td>\n",
              "      <td>0.0</td>\n",
              "      <td>0.0</td>\n",
              "      <td>0.0</td>\n",
              "      <td>0.0</td>\n",
              "      <td>0.0</td>\n",
              "      <td>0.0</td>\n",
              "      <td>0.0</td>\n",
              "    </tr>\n",
              "  </tbody>\n",
              "</table>\n",
              "<p>5 rows × 1004 columns</p>\n",
              "</div>"
            ],
            "text/plain": [
              "artist  ...and you will know us by the trail of dead  2pac  3 doors down  \\\n",
              "0                                                0.0   0.0           0.0   \n",
              "1                                                0.0   0.0           0.0   \n",
              "2                                                0.0   0.0           0.0   \n",
              "3                                                0.0   0.0           0.0   \n",
              "4                                                0.0   0.0           0.0   \n",
              "\n",
              "artist  30 seconds to mars  311  36 crazyfists   44  50 cent  65daysofstatic  \\\n",
              "0                      0.0  0.0            0.0  0.0      0.0             0.0   \n",
              "1                      0.0  0.0            0.0  0.0      0.0             0.0   \n",
              "2                      0.0  0.0            0.0  0.0      0.0             0.0   \n",
              "3                      0.0  0.0            0.0  0.0      0.0             0.0   \n",
              "4                      0.0  0.0            0.0  0.0      0.0             0.0   \n",
              "\n",
              "artist  Edith piaf  ...  weezer  wilco  within temptation  \\\n",
              "0              0.0  ...     0.0    0.0                0.0   \n",
              "1              0.0  ...     0.0    0.0                0.0   \n",
              "2              0.0  ...     0.0    0.0                0.0   \n",
              "3              0.0  ...     0.0    0.0                0.0   \n",
              "4              0.0  ...     0.0    0.0                0.0   \n",
              "\n",
              "artist  wolfgang amadeus mozart  wu-tang clan  yann tiersen  yeah yeah yeahs  \\\n",
              "0                           0.0           0.0           0.0              0.0   \n",
              "1                           0.0           0.0           0.0              0.0   \n",
              "2                           0.0           0.0           0.0              0.0   \n",
              "3                           0.0           0.0           0.0              0.0   \n",
              "4                           0.0           0.0           0.0              0.0   \n",
              "\n",
              "artist  yellowcard  yo la tengo  zero 7  \n",
              "0              0.0          0.0     0.0  \n",
              "1              0.0          0.0     0.0  \n",
              "2              0.0          0.0     0.0  \n",
              "3              0.0          0.0     0.0  \n",
              "4              0.0          0.0     0.0  \n",
              "\n",
              "[5 rows x 1004 columns]"
            ]
          },
          "execution_count": 15,
          "metadata": {},
          "output_type": "execute_result"
        }
      ],
      "source": [
        "from sklearn.metrics.pairwise import linear_kernel\n",
        "\n",
        "data_matrix = df_pivot.fillna(0).to_numpy()\n",
        "cosine_sim = linear_kernel(data_matrix.T, data_matrix.T)\n",
        "\n",
        "new_recs = [explode(recommended_items(data_matrix, cosine_sim, u, 10), len(df_pivot.columns)) for u in range(df_pivot.shape[0])]\n",
        "new_df_pivot = pd.DataFrame(new_recs, columns = df_pivot.columns)\n",
        "new_df_pivot.head()"
      ]
    },
    {
      "attachments": {},
      "cell_type": "markdown",
      "metadata": {},
      "source": [
        "Finally, we obtain our recommendation matrix:"
      ]
    },
    {
      "cell_type": "code",
      "execution_count": 16,
      "metadata": {
        "id": "YGX9Qibzq-T_"
      },
      "outputs": [],
      "source": [
        "mat = new_df_pivot.replace(0,np.nan)"
      ]
    },
    {
      "attachments": {},
      "cell_type": "markdown",
      "metadata": {
        "id": "Y576jCVEuN7s"
      },
      "source": [
        "## **4. Bias measuring**"
      ]
    },
    {
      "attachments": {},
      "cell_type": "markdown",
      "metadata": {
        "id": "VSwwN8QvudyU"
      },
      "source": [
        "With the new recommendation matrix at hand we will now show how we can calculate various metrics of fairness for recommender systems. In this example, we will cover item based metrics by using the `recommender_bias_metrics` function:\n"
      ]
    },
    {
      "cell_type": "code",
      "execution_count": 17,
      "metadata": {
        "id": "RHqbHr1HZ_LS"
      },
      "outputs": [],
      "source": [
        "from holisticai.bias.metrics import recommender_bias_metrics"
      ]
    },
    {
      "cell_type": "code",
      "execution_count": 18,
      "metadata": {
        "colab": {
          "base_uri": "https://localhost:8080/",
          "height": 276
        },
        "id": "cPnH2crRgfMu",
        "outputId": "6c13d58c-47a2-4140-cd3c-11abcd20f264"
      },
      "outputs": [
        {
          "data": {
            "text/html": [
              "<div>\n",
              "<style scoped>\n",
              "    .dataframe tbody tr th:only-of-type {\n",
              "        vertical-align: middle;\n",
              "    }\n",
              "\n",
              "    .dataframe tbody tr th {\n",
              "        vertical-align: top;\n",
              "    }\n",
              "\n",
              "    .dataframe thead th {\n",
              "        text-align: right;\n",
              "    }\n",
              "</style>\n",
              "<table border=\"1\" class=\"dataframe\">\n",
              "  <thead>\n",
              "    <tr style=\"text-align: right;\">\n",
              "      <th></th>\n",
              "      <th>Value</th>\n",
              "      <th>Reference</th>\n",
              "    </tr>\n",
              "    <tr>\n",
              "      <th>Metric</th>\n",
              "      <th></th>\n",
              "      <th></th>\n",
              "    </tr>\n",
              "  </thead>\n",
              "  <tbody>\n",
              "    <tr>\n",
              "      <th>Aggregate Diversity</th>\n",
              "      <td>0.416335</td>\n",
              "      <td>1</td>\n",
              "    </tr>\n",
              "    <tr>\n",
              "      <th>GINI index</th>\n",
              "      <td>0.964142</td>\n",
              "      <td>0</td>\n",
              "    </tr>\n",
              "    <tr>\n",
              "      <th>Exposure Distribution Entropy</th>\n",
              "      <td>3.819062</td>\n",
              "      <td>-</td>\n",
              "    </tr>\n",
              "    <tr>\n",
              "      <th>Average Recommendation Popularity</th>\n",
              "      <td>5690.231653</td>\n",
              "      <td>-</td>\n",
              "    </tr>\n",
              "  </tbody>\n",
              "</table>\n",
              "</div>"
            ],
            "text/plain": [
              "                                         Value Reference\n",
              "Metric                                                  \n",
              "Aggregate Diversity                   0.416335         1\n",
              "GINI index                            0.964142         0\n",
              "Exposure Distribution Entropy         3.819062         -\n",
              "Average Recommendation Popularity  5690.231653         -"
            ]
          },
          "execution_count": 18,
          "metadata": {},
          "output_type": "execute_result"
        }
      ],
      "source": [
        "df = recommender_bias_metrics(mat_pred=mat, metric_type='item_based')\n",
        "df_baseline=df.copy()\n",
        "df_baseline"
      ]
    },
    {
      "attachments": {},
      "cell_type": "markdown",
      "metadata": {
        "id": "fljfCEvdvq72"
      },
      "source": [
        "Above we have batch plotted all `item_based` metrics for recommender bias task. For instance observe the Average Recommendation Popularity is 5738, meaning that on average a user will be recommended an artist that has 5738 total interactions.\n",
        "\n",
        "An interesting feature of this function is that not only returns the calculated metrics from the predictions but also returns the reference to compare the values with an ideal fair model. This feature helps us to analyse the fairness of the predictions for the protected groups in terms of different metrics.\n",
        "\n",
        "For example:\n",
        "\n",
        "*   **Aggregate Diversity:** Given a matrix of scores, this function computes the recommended items for each user and returning the proportion of recommended items out of all possible items. A value of 1 is desired. We wish for a high proportion of items to be shown to avoid the \"rich get richer effect\".\n",
        "*   **GINI index:** Measures the inequality across the frequency distribution of the recommended items. An algorithm that recommends each item the same number of times (uniform distribution) will have a Gini index of 0 and the one with extreme inequality will have a Gini of 1.\n",
        "\n",
        "Besides these metrics, we can calculate another ones, you will find them in the documentation of the library [here](https://holisticai.readthedocs.io/en/latest/metrics.html#recommender)."
      ]
    },
    {
      "attachments": {},
      "cell_type": "markdown",
      "metadata": {
        "id": "E6nr3AEdwGXF"
      },
      "source": [
        "## **5. Bias mitigation**\n",
        "\n",
        "### **Inprocessing: Blind spot aware method**"
      ]
    },
    {
      "attachments": {},
      "cell_type": "markdown",
      "metadata": {
        "id": "WK7-IXhtwDJF"
      },
      "source": [
        "Now that we could observe that the model metrics are far away from the desired values, we need to apply some kind of strategy to mitigate the bias present in the model.\n",
        "\n",
        "Exists different kinds of strategies, and the literature has divided them into three categories: \"Pre-processing\", \"in-processing\" and \"post-processing\" methods. The `holisticai` library possesses different algorithms from these categories for bias mitigation. An interesting feature is that all of them are compatible with the `Scikit-learn` package, so that, if you are familiar with this package, you will not have problems using the library.\n",
        "\n",
        "For this opportunity, we will implement the \"Blind spot aware\" method which is a inprocessing algorithm that takes into account the blind spot inherent in the learning phase of the Recommender System. Where the blind spot size is the number of item with a predicted rating."
      ]
    },
    {
      "cell_type": "code",
      "execution_count": 19,
      "metadata": {
        "id": "3fCA4ygOxaBP"
      },
      "outputs": [],
      "source": [
        "from holisticai.bias.mitigation import BlindSpotAwareMF"
      ]
    },
    {
      "attachments": {},
      "cell_type": "markdown",
      "metadata": {
        "id": "9lNet1nTyDGD"
      },
      "source": [
        "To perform the mitigation with this method we will use the data matrix calculated before with the protected groups"
      ]
    },
    {
      "cell_type": "code",
      "execution_count": 20,
      "metadata": {
        "colab": {
          "base_uri": "https://localhost:8080/"
        },
        "id": "HYec2907ZqMt",
        "outputId": "f4854187-c0e4-41ad-dd3a-36952583ad6d"
      },
      "outputs": [
        {
          "name": "stderr",
          "output_type": "stream",
          "text": [
            "100%|██████████| 10/10 [00:47<00:00,  4.79s/it]\n"
          ]
        },
        {
          "data": {
            "text/plain": [
              "<holisticai.bias.mitigation.inprocessing.matrix_factorization.blind_spot_aware.BlindSpotAwareMF at 0x7f8c29808af0>"
            ]
          },
          "execution_count": 20,
          "metadata": {},
          "output_type": "execute_result"
        }
      ],
      "source": [
        "mf = BlindSpotAwareMF(K=40, beta=0.02, steps=10, alpha=0.002, lamda=0.008, verbose=1)\n",
        "mf.fit(data_matrix)"
      ]
    },
    {
      "cell_type": "code",
      "execution_count": 21,
      "metadata": {
        "id": "1gj9s4XSexH8"
      },
      "outputs": [],
      "source": [
        "def recommended_items(model, data_matrix, k):\n",
        "    recommended_items_mask = data_matrix>0\n",
        "    candidate_index = ~recommended_items_mask\n",
        "    candidate_rating = model.pred*candidate_index\n",
        "    return np.argsort(-candidate_rating,axis=1)[:,:k]"
      ]
    },
    {
      "cell_type": "code",
      "execution_count": 22,
      "metadata": {
        "colab": {
          "base_uri": "https://localhost:8080/",
          "height": 276
        },
        "id": "GQHrTCiIZt-Z",
        "outputId": "9d598416-27ab-45ae-9cd1-e7ba4037759b"
      },
      "outputs": [
        {
          "data": {
            "text/html": [
              "<div>\n",
              "<style scoped>\n",
              "    .dataframe tbody tr th:only-of-type {\n",
              "        vertical-align: middle;\n",
              "    }\n",
              "\n",
              "    .dataframe tbody tr th {\n",
              "        vertical-align: top;\n",
              "    }\n",
              "\n",
              "    .dataframe thead th {\n",
              "        text-align: right;\n",
              "    }\n",
              "</style>\n",
              "<table border=\"1\" class=\"dataframe\">\n",
              "  <thead>\n",
              "    <tr style=\"text-align: right;\">\n",
              "      <th></th>\n",
              "      <th>Value</th>\n",
              "      <th>Reference</th>\n",
              "    </tr>\n",
              "    <tr>\n",
              "      <th>Metric</th>\n",
              "      <th></th>\n",
              "      <th></th>\n",
              "    </tr>\n",
              "  </thead>\n",
              "  <tbody>\n",
              "    <tr>\n",
              "      <th>Aggregate Diversity</th>\n",
              "      <td>0.920319</td>\n",
              "      <td>1</td>\n",
              "    </tr>\n",
              "    <tr>\n",
              "      <th>GINI index</th>\n",
              "      <td>0.638686</td>\n",
              "      <td>0</td>\n",
              "    </tr>\n",
              "    <tr>\n",
              "      <th>Exposure Distribution Entropy</th>\n",
              "      <td>6.165786</td>\n",
              "      <td>-</td>\n",
              "    </tr>\n",
              "    <tr>\n",
              "      <th>Average Recommendation Popularity</th>\n",
              "      <td>472.404573</td>\n",
              "      <td>-</td>\n",
              "    </tr>\n",
              "  </tbody>\n",
              "</table>\n",
              "</div>"
            ],
            "text/plain": [
              "                                        Value Reference\n",
              "Metric                                                 \n",
              "Aggregate Diversity                  0.920319         1\n",
              "GINI index                           0.638686         0\n",
              "Exposure Distribution Entropy        6.165786         -\n",
              "Average Recommendation Popularity  472.404573         -"
            ]
          },
          "execution_count": 22,
          "metadata": {},
          "output_type": "execute_result"
        }
      ],
      "source": [
        "new_items = recommended_items(mf, data_matrix, 10)\n",
        "new_recs = [explode(new_items[u], len(df_pivot.columns)) for u in range(df_pivot.shape[0])]\n",
        "new_df_pivot_db = pd.DataFrame(new_recs, columns = df_pivot.columns)\n",
        "\n",
        "mat = new_df_pivot_db.replace(0,np.nan).to_numpy()\n",
        "df = recommender_bias_metrics(mat_pred=mat>0, metric_type='item_based')\n",
        "df_blind =df.copy()\n",
        "df_blind"
      ]
    },
    {
      "attachments": {},
      "cell_type": "markdown",
      "metadata": {
        "id": "cj5Ix7lh1I8-"
      },
      "source": [
        "We can observe that the use of the mitigator improves the \"Aggregate diversity\", reaching the reference value, as well as the remain values showing a clearly improvement. Let's compare them with our baseline."
      ]
    },
    {
      "cell_type": "code",
      "execution_count": 30,
      "metadata": {
        "colab": {
          "base_uri": "https://localhost:8080/",
          "height": 224
        },
        "id": "ganjcVgCyV8v",
        "outputId": "f797fdb0-2687-42fa-c4fc-45b268346688"
      },
      "outputs": [
        {
          "name": "stderr",
          "output_type": "stream",
          "text": [
            "100%|██████████| 10/10 [00:44<00:00,  4.48s/it]\n"
          ]
        },
        {
          "data": {
            "text/html": [
              "<div>\n",
              "<style scoped>\n",
              "    .dataframe tbody tr th:only-of-type {\n",
              "        vertical-align: middle;\n",
              "    }\n",
              "\n",
              "    .dataframe tbody tr th {\n",
              "        vertical-align: top;\n",
              "    }\n",
              "\n",
              "    .dataframe thead th {\n",
              "        text-align: right;\n",
              "    }\n",
              "</style>\n",
              "<table border=\"1\" class=\"dataframe\">\n",
              "  <thead>\n",
              "    <tr style=\"text-align: right;\">\n",
              "      <th></th>\n",
              "      <th>Value</th>\n",
              "      <th>Reference</th>\n",
              "    </tr>\n",
              "    <tr>\n",
              "      <th>Metric</th>\n",
              "      <th></th>\n",
              "      <th></th>\n",
              "    </tr>\n",
              "  </thead>\n",
              "  <tbody>\n",
              "    <tr>\n",
              "      <th>Aggregate Diversity</th>\n",
              "      <td>1.000000</td>\n",
              "      <td>1</td>\n",
              "    </tr>\n",
              "    <tr>\n",
              "      <th>GINI index</th>\n",
              "      <td>0.618571</td>\n",
              "      <td>0</td>\n",
              "    </tr>\n",
              "    <tr>\n",
              "      <th>Exposure Distribution Entropy</th>\n",
              "      <td>6.134770</td>\n",
              "      <td>-</td>\n",
              "    </tr>\n",
              "    <tr>\n",
              "      <th>Average Recommendation Popularity</th>\n",
              "      <td>479.403280</td>\n",
              "      <td>-</td>\n",
              "    </tr>\n",
              "  </tbody>\n",
              "</table>\n",
              "</div>"
            ],
            "text/plain": [
              "                                        Value Reference\n",
              "Metric                                                 \n",
              "Aggregate Diversity                  1.000000         1\n",
              "GINI index                           0.618571         0\n",
              "Exposure Distribution Entropy        6.134770         -\n",
              "Average Recommendation Popularity  479.403280         -"
            ]
          },
          "execution_count": 30,
          "metadata": {},
          "output_type": "execute_result"
        }
      ],
      "source": [
        "from holisticai.pipeline import Pipeline\n",
        "\n",
        "inprocessing_model = BlindSpotAwareMF(K=40, beta=0.02, steps=10, alpha=0.002, lamda=0.008, verbose=1)\n",
        "\n",
        "pipeline = Pipeline(\n",
        "    steps=[\n",
        "        (\"bm_inprocessing\", inprocessing_model),\n",
        "    ]\n",
        ")\n",
        "\n",
        "pipeline.fit(data_matrix)\n",
        "\n",
        "rankings  = pipeline.predict(data_matrix, top_n=10)\n",
        "mat = rankings.pivot(columns='Y',index='X',values='score').replace(np.nan,0).to_numpy()\n",
        "df = recommender_bias_metrics(mat_pred=mat>0, metric_type='item_based')\n",
        "df_pop_blind =df.copy()\n",
        "df_pop_blind"
      ]
    },
    {
      "attachments": {},
      "cell_type": "markdown",
      "metadata": {
        "id": "qScvgKTXx4Go"
      },
      "source": [
        "### **6. Results comparison**\n",
        "\n",
        "Now that we could observe how is the implementation of the mitigator in the model, we will compare the results between the baseline and the implementations with the mitigator to analyse how the metrics have changed."
      ]
    },
    {
      "cell_type": "code",
      "execution_count": 31,
      "metadata": {
        "colab": {
          "base_uri": "https://localhost:8080/",
          "height": 206
        },
        "id": "YykZGeugyV5W",
        "outputId": "be6cafb8-db77-44fd-d739-3892632d717e"
      },
      "outputs": [
        {
          "data": {
            "text/html": [
              "<div>\n",
              "<style scoped>\n",
              "    .dataframe tbody tr th:only-of-type {\n",
              "        vertical-align: middle;\n",
              "    }\n",
              "\n",
              "    .dataframe tbody tr th {\n",
              "        vertical-align: top;\n",
              "    }\n",
              "\n",
              "    .dataframe thead th {\n",
              "        text-align: right;\n",
              "    }\n",
              "</style>\n",
              "<table border=\"1\" class=\"dataframe\">\n",
              "  <thead>\n",
              "    <tr style=\"text-align: right;\">\n",
              "      <th></th>\n",
              "      <th>Baseline</th>\n",
              "      <th>Mitigator</th>\n",
              "      <th>Mitigator with pipeline</th>\n",
              "      <th>Reference</th>\n",
              "    </tr>\n",
              "    <tr>\n",
              "      <th>Metric</th>\n",
              "      <th></th>\n",
              "      <th></th>\n",
              "      <th></th>\n",
              "      <th></th>\n",
              "    </tr>\n",
              "  </thead>\n",
              "  <tbody>\n",
              "    <tr>\n",
              "      <th>Aggregate Diversity</th>\n",
              "      <td>0.416335</td>\n",
              "      <td>0.920319</td>\n",
              "      <td>1.000000</td>\n",
              "      <td>1</td>\n",
              "    </tr>\n",
              "    <tr>\n",
              "      <th>GINI index</th>\n",
              "      <td>0.964142</td>\n",
              "      <td>0.638686</td>\n",
              "      <td>0.618571</td>\n",
              "      <td>0</td>\n",
              "    </tr>\n",
              "    <tr>\n",
              "      <th>Exposure Distribution Entropy</th>\n",
              "      <td>3.819062</td>\n",
              "      <td>6.165786</td>\n",
              "      <td>6.134770</td>\n",
              "      <td>-</td>\n",
              "    </tr>\n",
              "    <tr>\n",
              "      <th>Average Recommendation Popularity</th>\n",
              "      <td>5690.231653</td>\n",
              "      <td>472.404573</td>\n",
              "      <td>479.403280</td>\n",
              "      <td>-</td>\n",
              "    </tr>\n",
              "  </tbody>\n",
              "</table>\n",
              "</div>"
            ],
            "text/plain": [
              "                                      Baseline   Mitigator  \\\n",
              "Metric                                                       \n",
              "Aggregate Diversity                   0.416335    0.920319   \n",
              "GINI index                            0.964142    0.638686   \n",
              "Exposure Distribution Entropy         3.819062    6.165786   \n",
              "Average Recommendation Popularity  5690.231653  472.404573   \n",
              "\n",
              "                                   Mitigator with pipeline Reference  \n",
              "Metric                                                                \n",
              "Aggregate Diversity                               1.000000         1  \n",
              "GINI index                                        0.618571         0  \n",
              "Exposure Distribution Entropy                     6.134770         -  \n",
              "Average Recommendation Popularity               479.403280         -  "
            ]
          },
          "execution_count": 31,
          "metadata": {},
          "output_type": "execute_result"
        }
      ],
      "source": [
        "result = pd.concat([df_baseline, df_blind, df_pop_blind], axis=1).iloc[:, [0,2,4,1]]\n",
        "result.columns = ['Baseline','Mitigator', 'Mitigator with pipeline', 'Reference']\n",
        "result"
      ]
    },
    {
      "attachments": {},
      "cell_type": "markdown",
      "metadata": {
        "id": "QEKnD3ze0aGs"
      },
      "source": [
        "From the previous chart, we can see that although some of the actual metrics are still far from the ideal values, an improvement is obtained by applying this method in the data, compared with our baseline. \n",
        "\n",
        "Notice that we can analyse how these values are affected by varying the hyperparameters of the method.\n",
        "\n",
        "For example, this method allows us to set the number `k` of dimensions, a term weight coefficient `beta`, the number of iterations, the learning rate `alpha` and a regularization weight `lamda` for each individual test.\n",
        "\n",
        "Let's try by varying the number of iterations of the method to observe how the metrics are affected:"
      ]
    },
    {
      "cell_type": "code",
      "execution_count": 24,
      "metadata": {
        "id": "MvspP6tb0XTm"
      },
      "outputs": [],
      "source": [
        "def calculate_metrics(data_matrix, p_attr, steps, metrics_cols):\n",
        "  mf = BlindSpotAwareMF(K=40, beta=0.02, steps=steps, alpha=0.002, lamda=0.008, verbose=1)\n",
        "  mf.fit(data_matrix)\n",
        "\n",
        "  new_items = recommended_items(mf, data_matrix, 10)\n",
        "  new_recs = [explode(new_items[u], len(df_pivot.columns)) for u in range(df_pivot.shape[0])]\n",
        "  new_df_pivot_db = pd.DataFrame(new_recs, columns = df_pivot.columns)\n",
        "\n",
        "  mat = new_df_pivot_db.replace(0,np.nan).to_numpy()\n",
        "  df = recommender_bias_metrics(mat_pred=mat, metric_type='item_based')\n",
        "  # Calculate metrics\n",
        "  metrics = [\n",
        "      steps, \n",
        "  ]\n",
        "  metrics.extend([df['Value'].loc[col] for col in metrics_cols])\n",
        "  return metrics"
      ]
    },
    {
      "cell_type": "code",
      "execution_count": 25,
      "metadata": {
        "colab": {
          "base_uri": "https://localhost:8080/",
          "height": 265
        },
        "id": "5Q0gTVGG2fq3",
        "outputId": "bac45025-1ced-4c7e-947d-0f9e316f071a"
      },
      "outputs": [
        {
          "name": "stderr",
          "output_type": "stream",
          "text": [
            "100%|██████████| 10/10 [01:19<00:00,  7.96s/it]\n",
            "100%|██████████| 50/50 [06:31<00:00,  7.83s/it]\n",
            "100%|██████████| 100/100 [13:06<00:00,  7.86s/it]\n"
          ]
        },
        {
          "data": {
            "text/html": [
              "<div>\n",
              "<style scoped>\n",
              "    .dataframe tbody tr th:only-of-type {\n",
              "        vertical-align: middle;\n",
              "    }\n",
              "\n",
              "    .dataframe tbody tr th {\n",
              "        vertical-align: top;\n",
              "    }\n",
              "\n",
              "    .dataframe thead th {\n",
              "        text-align: right;\n",
              "    }\n",
              "</style>\n",
              "<table border=\"1\" class=\"dataframe\">\n",
              "  <thead>\n",
              "    <tr style=\"text-align: right;\">\n",
              "      <th></th>\n",
              "      <th>steps</th>\n",
              "      <th>Aggregate Diversity</th>\n",
              "      <th>GINI index</th>\n",
              "      <th>Exposure Distribution Entropy</th>\n",
              "      <th>Average Recommendation Popularity</th>\n",
              "    </tr>\n",
              "  </thead>\n",
              "  <tbody>\n",
              "    <tr>\n",
              "      <th>0</th>\n",
              "      <td>10</td>\n",
              "      <td>0.919323</td>\n",
              "      <td>0.640779</td>\n",
              "      <td>6.171570</td>\n",
              "      <td>448.909707</td>\n",
              "    </tr>\n",
              "    <tr>\n",
              "      <th>1</th>\n",
              "      <td>50</td>\n",
              "      <td>1.000000</td>\n",
              "      <td>0.331794</td>\n",
              "      <td>6.732771</td>\n",
              "      <td>206.410373</td>\n",
              "    </tr>\n",
              "    <tr>\n",
              "      <th>2</th>\n",
              "      <td>100</td>\n",
              "      <td>1.000000</td>\n",
              "      <td>0.271936</td>\n",
              "      <td>6.792883</td>\n",
              "      <td>186.987347</td>\n",
              "    </tr>\n",
              "  </tbody>\n",
              "</table>\n",
              "</div>"
            ],
            "text/plain": [
              "   steps  Aggregate Diversity  GINI index  Exposure Distribution Entropy  \\\n",
              "0     10             0.919323    0.640779                       6.171570   \n",
              "1     50             1.000000    0.331794                       6.732771   \n",
              "2    100             1.000000    0.271936                       6.792883   \n",
              "\n",
              "   Average Recommendation Popularity  \n",
              "0                         448.909707  \n",
              "1                         206.410373  \n",
              "2                         186.987347  "
            ]
          },
          "execution_count": 25,
          "metadata": {},
          "output_type": "execute_result"
        }
      ],
      "source": [
        "metrics_val = []\n",
        "metrics_cols = [\"Aggregate Diversity\", \"GINI index\", \"Exposure Distribution Entropy\", \"Average Recommendation Popularity\"]\n",
        "\n",
        "steps = [10, 50, 100]\n",
        "\n",
        "for step in steps:\n",
        "  metrics_val.append(calculate_metrics(data_matrix, p_attr, step, metrics_cols))\n",
        "\n",
        "metrics = ['steps']\n",
        "metrics.extend(metrics_cols)\n",
        "df_metrics = pd.DataFrame(metrics_val, columns=metrics)\n",
        "df_metrics"
      ]
    },
    {
      "cell_type": "code",
      "execution_count": 26,
      "metadata": {
        "colab": {
          "base_uri": "https://localhost:8080/",
          "height": 519
        },
        "id": "luFBWQxY3IIh",
        "outputId": "c8c3c9b1-31c4-426e-de14-d648bca9a8b9"
      },
      "outputs": [
        {
          "data": {
            "text/plain": [
              "Text(0.5, 0, 'Steps')"
            ]
          },
          "execution_count": 26,
          "metadata": {},
          "output_type": "execute_result"
        },
        {
          "data": {
            "image/png": "[encoded data removed]",
            "text/plain": [
              "<Figure size 2500x800 with 2 Axes>"
            ]
          },
          "metadata": {},
          "output_type": "display_data"
        }
      ],
      "source": [
        "x_axis = df_metrics.steps\n",
        "plt.figure(figsize=(25,8))\n",
        "plt.subplot(121)\n",
        "plt.plot(x_axis, df_metrics['Aggregate Diversity'], 'o-', label='Aggregate Diversity (AD)')\n",
        "plt.plot(x_axis, np.ones_like(df_metrics['steps']), label='AD Reference')\n",
        "plt.plot(x_axis, df_metrics['GINI index'], 'o-', label='GINI index')\n",
        "plt.plot(x_axis, np.zeros_like(df_metrics['steps']), label='GINI Reference')\n",
        "plt.legend(loc='upper left')\n",
        "plt.xlabel('Steps')\n",
        "plt.subplot(122)\n",
        "plt.plot(x_axis, df_metrics['Average Recommendation Popularity'], 'o-', label='Average Recommendation Popularity')\n",
        "plt.legend(loc='upper left')\n",
        "plt.xlabel('Steps')"
      ]
    },
    {
      "attachments": {},
      "cell_type": "markdown",
      "metadata": {
        "id": "ATgF5tsRfBIC"
      },
      "source": [
        "As we can see, as the number of iterations increases, we get a better model in terms of fairness. In general, we can observe that the use of the mitigator improves the metrics showing a clearly improvement."
      ]
    },
    {
      "attachments": {},
      "cell_type": "markdown",
      "metadata": {
        "id": "4ja_XpCHgJuq"
      },
      "source": [
        "## **Summary**\n",
        "\n",
        "Through this tutorial we could present to the user how the `holisticai` library can be easily used to measure the bias present in recommender systems by the application of the `recommender_bias_metrics` function, which returns the calculated values for different metrics as well as the reference values respectively.\n",
        "\n",
        "In addition, we shown how to mitigate the bias by applying some methods, for this opportunity we applied the \"Blind spot aware\" technique to increase the fairness of the recommender system, this is an in-processing method that takes into account a number of items with predicted ratings called as blind spot. Consequently we could observe how the metrics are influenced by varing the number of iterations of the method, and showing that this method increases the fairness of the model."
      ]
    },
    {
      "cell_type": "code",
      "execution_count": null,
      "metadata": {
        "id": "hmsa5pdJ2D07"
      },
      "outputs": [],
      "source": []
    }
  ],
  "metadata": {
    "colab": {
      "provenance": []
    },
    "kernelspec": {
      "display_name": "Python 3",
      "name": "python3"
    },
    "language_info": {
      "codemirror_mode": {
        "name": "ipython",
        "version": 3
      },
      "file_extension": ".py",
      "mimetype": "text/x-python",
      "name": "python",
      "nbconvert_exporter": "python",
      "pygments_lexer": "ipython3",
      "version": "3.9.8"
    }
  },
  "nbformat": 4,
  "nbformat_minor": 0
}
