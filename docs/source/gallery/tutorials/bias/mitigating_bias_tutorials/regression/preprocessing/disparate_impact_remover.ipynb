{
  "cells": [
    {
      "attachments": {},
      "cell_type": "markdown",
      "metadata": {
        "id": "UlJD1nhT3vy_"
      },
      "source": [
        "# **Bias measuring and mitigation in regression tasks**\n",
        "\n",
        "The bias problem can appear in models when the predictions systematically deviate from the true values for certain subgroups in the dataset. This phenomenon can occur due to various reasons such as unbalanced groups in the training data, feature selection, or model specification. Because of this, the bias problem can appear in different tasks, being \"regression task\" one of them. \n",
        "\n",
        "There are various techniques to measure bias in regression tasks. One common approach is to use fairness metrics such as demographic parity, equalized odds, or equal opportunity, which quantify the differences in the model's performance across different subgroups based on sensitive attributes such as gender or race.\n",
        "\n",
        "Once bias is detected, we can employ different techniques to mitigate it. These methods can be grouped into three categories: Pre-processing, in-processing and post-processing methods. Pre-processing techniques are used to adjust the training data to remove bias, while in-processing methods are applied to build robust models against bias. Finally, post-processing techniques are used to adjust the model's predictions to remove bias.\n",
        "\n",
        "Through this tutorial, we pretend to present you tools which can be easily applied to measure and mitigate the presence of bias in regression models.\n",
        "\n",
        "We will follow the traditional outline for this tutorial:\n",
        "\n",
        "1. Data loading and packages installation\n",
        "2. Dataset preprocessing\n",
        "3. Data analysis\n",
        "4. Model training\n",
        "5. Bias measuring\n",
        "6. Bias mitigation\n",
        "7. Results comparison"
      ]
    },
    {
      "cell_type": "markdown",
      "metadata": {},
      "source": [
        "## **1. Data loading and packages installation**\n",
        "\n",
        "First of all, we need to import the required packages to perform our bias analysis and mitigation. You will need to have the `holisticai` package installed on your system, remember that you can install it by running: \n",
        "```bash\n",
        "!pip install holisticai[all]\n",
        "```"
      ]
    },
    {
      "cell_type": "code",
      "execution_count": 1,
      "metadata": {
        "id": "cb0SfHEYJfNo"
      },
      "outputs": [],
      "source": [
        "import pandas as pd\n",
        "import numpy as np\n",
        "import matplotlib.pyplot as plt\n",
        "\n",
        "from sklearn.metrics import mean_squared_error"
      ]
    },
    {
      "cell_type": "code",
      "execution_count": 2,
      "metadata": {
        "id": "Jbz8z004CIwi"
      },
      "outputs": [],
      "source": [
        "np.random.seed(0)\n",
        "import warnings\n",
        "warnings.filterwarnings(\"ignore\")"
      ]
    },
    {
      "attachments": {},
      "cell_type": "markdown",
      "metadata": {},
      "source": [
        "## **2. Dataset preprocessing**"
      ]
    },
    {
      "attachments": {},
      "cell_type": "markdown",
      "metadata": {
        "id": "-Vzc8NT0Boa5"
      },
      "source": [
        "The dataset that we will use is the \"Communities and Crime\" dataset which is a publicly available dataset that contains socio-economic and law enforcement data for 1994 communities in the United States. This dataset contains demographic variables such as population size, race, and education level, as well as variables related to law enforcement. The objective is to predict the crime rate per capita in each community.\n",
        "\n",
        "Source: [UCI ML repository](https://archive.ics.uci.edu/ml/datasets/communities+and+crime)"
      ]
    },
    {
      "cell_type": "code",
      "execution_count": 3,
      "metadata": {
        "colab": {
          "base_uri": "https://localhost:8080/"
        },
        "id": "NZAnQ7zU6qBx",
        "outputId": "6dc53027-fc0e-4bb7-9ffd-db53df3649b1"
      },
      "outputs": [],
      "source": [
        "from holisticai.datasets import load_dataset"
      ]
    },
    {
      "attachments": {},
      "cell_type": "markdown",
      "metadata": {
        "id": "63YkNOzE6--R"
      },
      "source": [
        "To speed up the process, the `load_dataset` function of the *holisticai* package allows to return the raw dataset or the preprocessed dataset by setting the `preprocess` parameter to `True`. This function also allows to return the dataset and the protected as a pandas dataframe or as a numpy array. You will find more information about the target and the protected groups of this function in its documentation.\n",
        "\n",
        "In this tutorial, we will use the preprocessed dataset as a pandas dataframe."
      ]
    },
    {
      "cell_type": "code",
      "execution_count": 4,
      "metadata": {
        "colab": {
          "base_uri": "https://localhost:8080/",
          "height": 394
        },
        "id": "8QGLtWoVJoDk",
        "outputId": "563663c9-fb4e-4586-b0ce-d4a0ad2b0cfb"
      },
      "outputs": [],
      "source": [
        "df, group_a, group_b = load_dataset(dataset='crime', preprocessed=True, as_array=False)"
      ]
    },
    {
      "cell_type": "code",
      "execution_count": 5,
      "metadata": {},
      "outputs": [
        {
          "data": {
            "text/plain": [
              "population             0\n",
              "householdsize          0\n",
              "numbUrban              0\n",
              "pctUrban               0\n",
              "medIncome              0\n",
              "                      ..\n",
              "LandArea               0\n",
              "PopDens                0\n",
              "PctUsePubTrans         0\n",
              "LemasPctOfficDrugUn    0\n",
              "ViolentCrimesPerPop    0\n",
              "Length: 93, dtype: int64"
            ]
          },
          "execution_count": 5,
          "metadata": {},
          "output_type": "execute_result"
        }
      ],
      "source": [
        "df.isna().sum()"
      ]
    },
    {
      "attachments": {},
      "cell_type": "markdown",
      "metadata": {
        "id": "Bu64zXAD8Ee4"
      },
      "source": [
        "Now that we have a clean dataset we can start defining the protected groups and the training and testing sets."
      ]
    },
    {
      "attachments": {},
      "cell_type": "markdown",
      "metadata": {
        "id": "NfSVBduF5ED1"
      },
      "source": [
        "## **3. Data analysis**\n",
        "\n",
        "Since this function already return the protected groups, we can start with the data analysis step. In this step, we will analyze the distribution of the data of the protected groups by using the `group_pie_plot` function. This function will plot the distribution of the data of the protected groups in a pie chart."
      ]
    },
    {
      "cell_type": "code",
      "execution_count": 6,
      "metadata": {
        "id": "ivo9UpXeJqDA"
      },
      "outputs": [
        {
          "data": {
            "text/plain": [
              "<Axes: >"
            ]
          },
          "execution_count": 6,
          "metadata": {},
          "output_type": "execute_result"
        },
        {
          "data": {
            "image/png": "[encoded data removed]",
            "text/plain": [
              "<Figure size 640x480 with 1 Axes>"
            ]
          },
          "metadata": {},
          "output_type": "display_data"
        }
      ],
      "source": [
        "from holisticai.bias.plots import group_pie_plot\n",
        "\n",
        "group_pie_plot(group_a)"
      ]
    },
    {
      "attachments": {},
      "cell_type": "markdown",
      "metadata": {},
      "source": [
        "This graph show us that the proportion of white people (labelled as *True*) is very high compared to the remain races.\n",
        "\n",
        "Let's plot the columns with the highest correlations with respect to the target variable. To do this, we will use the `correlation_matrix_plot` function. "
      ]
    },
    {
      "cell_type": "code",
      "execution_count": 7,
      "metadata": {
        "colab": {
          "base_uri": "https://localhost:8080/",
          "height": 294
        },
        "id": "dxxabLEJ8nvs",
        "outputId": "7f5fd285-81ce-421d-8ec5-6556554dc830"
      },
      "outputs": [
        {
          "data": {
            "text/plain": [
              "<Axes: >"
            ]
          },
          "execution_count": 7,
          "metadata": {},
          "output_type": "execute_result"
        },
        {
          "data": {
            "image/png": "[encoded data removed]",
            "text/plain": [
              "<Figure size 640x480 with 1 Axes>"
            ]
          },
          "metadata": {},
          "output_type": "display_data"
        }
      ],
      "source": [
        "from holisticai.bias.plots import correlation_matrix_plot\n",
        "\n",
        "correlation_matrix_plot(df, target_feature=\"ViolentCrimesPerPop\", n_features=10)"
      ]
    },
    {
      "cell_type": "code",
      "execution_count": 8,
      "metadata": {
        "colab": {
          "base_uri": "https://localhost:8080/",
          "height": 319
        },
        "id": "nLj_MFtbCgaK",
        "outputId": "9f249424-1fa6-4ba4-ee99-37c99acf39fd"
      },
      "outputs": [
        {
          "data": {
            "text/plain": [
              "((1993, 92), (1993,))"
            ]
          },
          "execution_count": 8,
          "metadata": {},
          "output_type": "execute_result"
        }
      ],
      "source": [
        "X = df.values[:,:-1]\n",
        "y = df.values[:,-1]\n",
        "\n",
        "X.shape, y.shape"
      ]
    },
    {
      "cell_type": "code",
      "execution_count": 9,
      "metadata": {},
      "outputs": [],
      "source": [
        "from sklearn.model_selection import train_test_split"
      ]
    },
    {
      "cell_type": "code",
      "execution_count": 10,
      "metadata": {
        "id": "e1FVWNLPJ86z"
      },
      "outputs": [],
      "source": [
        "X_train,X_test,y_train,y_test, group_a_tr, group_a_ts, group_b_tr, group_b_ts = \\\n",
        "    train_test_split(X, y, group_a, group_b, test_size=0.2, random_state=42)\n",
        "train_data = X_train, y_train, group_a_tr, group_b_tr\n",
        "test_data  = X_test, y_test, group_a_ts, group_b_ts"
      ]
    },
    {
      "attachments": {},
      "cell_type": "markdown",
      "metadata": {
        "id": "R-ioErpp_Ruv"
      },
      "source": [
        "## **4. Model training**\n",
        "\n",
        "Once we have defined the training and testing sets, we can train a model as usual. Since the protected groups were separated from the dataset previously we do not need to take care of that in this opportunity, but do not forget to separate the protected attributes from the dataset, so that the model does not have any influence from these attributes in its training process. For the training process, we will use a traditional pipeline, we will fit and re-scale the training data, and then we will use the data to train a \"Linear regression\" model. When the model has been trained, we can use the predictions to calculate the fairness metrics of the model."
      ]
    },
    {
      "cell_type": "code",
      "execution_count": 11,
      "metadata": {
        "id": "VLM933LQJ_2l"
      },
      "outputs": [],
      "source": [
        "from sklearn.preprocessing import StandardScaler\n",
        "from sklearn.linear_model import LinearRegression\n",
        "from holisticai.pipeline import Pipeline"
      ]
    },
    {
      "cell_type": "code",
      "execution_count": 12,
      "metadata": {
        "colab": {
          "base_uri": "https://localhost:8080/"
        },
        "id": "xFq4uGn6KE4x",
        "outputId": "05c69f09-b725-4eef-99f1-f74c65bf46cc"
      },
      "outputs": [
        {
          "name": "stdout",
          "output_type": "stream",
          "text": [
            "RMS error: 0.13876591590852655\n"
          ]
        }
      ],
      "source": [
        "X, y, group_a, group_b = train_data\n",
        "\n",
        "scaler = StandardScaler()\n",
        "X = scaler.fit_transform(X)\n",
        "\n",
        "# Train a simple linear regression model\n",
        "LR = LinearRegression()\n",
        "model = LR.fit(X, y)\n",
        "\n",
        "X, y, group_a, group_b = test_data\n",
        "\n",
        "X = scaler.transform(X)\n",
        "\n",
        "# Predict values\n",
        "y_pred = model.predict(X)\n",
        "\n",
        "# Calculate the error\n",
        "baseline_rmse = mean_squared_error(y, y_pred, squared=False)\n",
        "print(\"RMS error: {}\".format(baseline_rmse))"
      ]
    },
    {
      "attachments": {},
      "cell_type": "markdown",
      "metadata": {
        "id": "HE_S-dUiB95a"
      },
      "source": [
        "## **5. Bias measuring**\n",
        "\n",
        "The fairness of the model can be calculated using the predictions of the model and the protected groups defined previously. The `holisticai` contains a module that calculates a set of metrics useful in evaluating the fairness of algorithmic decisions. For our case, we will use the `regression_bias_metrics` function which allows us to select which metrics we want to calculate, if `equal_outcome`, `equal_opportunity` or `both`, where equal_outcome shows how disadvantaged groups are treated by the model and equal_opportunity shows if all the groups have the same opportunities."
      ]
    },
    {
      "cell_type": "code",
      "execution_count": 13,
      "metadata": {
        "id": "8jBCOnh5CpVd"
      },
      "outputs": [],
      "source": [
        "from holisticai.bias.metrics import regression_bias_metrics"
      ]
    },
    {
      "cell_type": "code",
      "execution_count": 14,
      "metadata": {
        "colab": {
          "base_uri": "https://localhost:8080/",
          "height": 551
        },
        "id": "7sAqYyXnAsRH",
        "outputId": "810c5184-25c1-4979-db5a-00477dbd1454"
      },
      "outputs": [
        {
          "data": {
            "text/html": [
              "<div>\n",
              "<style scoped>\n",
              "    .dataframe tbody tr th:only-of-type {\n",
              "        vertical-align: middle;\n",
              "    }\n",
              "\n",
              "    .dataframe tbody tr th {\n",
              "        vertical-align: top;\n",
              "    }\n",
              "\n",
              "    .dataframe thead th {\n",
              "        text-align: right;\n",
              "    }\n",
              "</style>\n",
              "<table border=\"1\" class=\"dataframe\">\n",
              "  <thead>\n",
              "    <tr style=\"text-align: right;\">\n",
              "      <th></th>\n",
              "      <th>Value</th>\n",
              "      <th>Reference</th>\n",
              "    </tr>\n",
              "    <tr>\n",
              "      <th>Metric</th>\n",
              "      <th></th>\n",
              "      <th></th>\n",
              "    </tr>\n",
              "  </thead>\n",
              "  <tbody>\n",
              "    <tr>\n",
              "      <th>Disparate Impact Q90</th>\n",
              "      <td>0.016953</td>\n",
              "      <td>1</td>\n",
              "    </tr>\n",
              "    <tr>\n",
              "      <th>Disparate Impact Q80</th>\n",
              "      <td>0.100673</td>\n",
              "      <td>1</td>\n",
              "    </tr>\n",
              "    <tr>\n",
              "      <th>Disparate Impact Q50</th>\n",
              "      <td>0.424518</td>\n",
              "      <td>1</td>\n",
              "    </tr>\n",
              "    <tr>\n",
              "      <th>Statistical Parity Q50</th>\n",
              "      <td>-0.703821</td>\n",
              "      <td>0</td>\n",
              "    </tr>\n",
              "    <tr>\n",
              "      <th>No Disparate Impact Level</th>\n",
              "      <td>0.045669</td>\n",
              "      <td>-</td>\n",
              "    </tr>\n",
              "    <tr>\n",
              "      <th>Average Score Difference</th>\n",
              "      <td>-0.347758</td>\n",
              "      <td>0</td>\n",
              "    </tr>\n",
              "    <tr>\n",
              "      <th>Average Score Ratio</th>\n",
              "      <td>0.320391</td>\n",
              "      <td>1</td>\n",
              "    </tr>\n",
              "    <tr>\n",
              "      <th>Z Score Difference</th>\n",
              "      <td>-2.465747</td>\n",
              "      <td>0</td>\n",
              "    </tr>\n",
              "    <tr>\n",
              "      <th>Max Statistical Parity</th>\n",
              "      <td>0.768248</td>\n",
              "      <td>0</td>\n",
              "    </tr>\n",
              "    <tr>\n",
              "      <th>Statistical Parity AUC</th>\n",
              "      <td>0.439341</td>\n",
              "      <td>0</td>\n",
              "    </tr>\n",
              "    <tr>\n",
              "      <th>RMSE Ratio</th>\n",
              "      <td>0.651463</td>\n",
              "      <td>1</td>\n",
              "    </tr>\n",
              "    <tr>\n",
              "      <th>RMSE Ratio Q80</th>\n",
              "      <td>0.850160</td>\n",
              "      <td>1</td>\n",
              "    </tr>\n",
              "    <tr>\n",
              "      <th>MAE Ratio</th>\n",
              "      <td>0.557317</td>\n",
              "      <td>1</td>\n",
              "    </tr>\n",
              "    <tr>\n",
              "      <th>MAE Ratio Q80</th>\n",
              "      <td>0.809228</td>\n",
              "      <td>1</td>\n",
              "    </tr>\n",
              "    <tr>\n",
              "      <th>Correlation Difference</th>\n",
              "      <td>-0.048799</td>\n",
              "      <td>0</td>\n",
              "    </tr>\n",
              "  </tbody>\n",
              "</table>\n",
              "</div>"
            ],
            "text/plain": [
              "                              Value Reference\n",
              "Metric                                       \n",
              "Disparate Impact Q90       0.016953         1\n",
              "Disparate Impact Q80       0.100673         1\n",
              "Disparate Impact Q50       0.424518         1\n",
              "Statistical Parity Q50    -0.703821         0\n",
              "No Disparate Impact Level  0.045669         -\n",
              "Average Score Difference  -0.347758         0\n",
              "Average Score Ratio        0.320391         1\n",
              "Z Score Difference        -2.465747         0\n",
              "Max Statistical Parity     0.768248         0\n",
              "Statistical Parity AUC     0.439341         0\n",
              "RMSE Ratio                 0.651463         1\n",
              "RMSE Ratio Q80             0.850160         1\n",
              "MAE Ratio                  0.557317         1\n",
              "MAE Ratio Q80              0.809228         1\n",
              "Correlation Difference    -0.048799         0"
            ]
          },
          "execution_count": 14,
          "metadata": {},
          "output_type": "execute_result"
        }
      ],
      "source": [
        "df = regression_bias_metrics(\n",
        "    group_a,\n",
        "    group_b,\n",
        "    y_pred,\n",
        "    y,\n",
        "    metric_type='both'\n",
        ")\n",
        "y_baseline = y_pred.copy()\n",
        "df_baseline=df.copy()\n",
        "df_baseline"
      ]
    },
    {
      "attachments": {},
      "cell_type": "markdown",
      "metadata": {
        "id": "fCBakVYQhFNP"
      },
      "source": [
        "An interesting feature of this function is that not only returns the calculated metrics from the predictions but also returns the reference to compare the values with an ideal fair model. This feature helps us to analyse the fairness of the predictions for the protected groups in terms of different metrics.\n",
        "\n",
        "For example:\n",
        "\n",
        "*   **Disparate Impact Q:** Shows the ratio of success rates between the protected groups for a certain quantile. Values below 1 are unfair towards `group_a`. Values above 1 are unfair towards `group_b`. The range (0.8, 1.2) is considered acceptable.\n",
        "*   **Statistical parity:** Computes the difference in success rates between the protected groups. Values below 0 are considered unfair towards `group_a` while values above 0 are considered unfair towards `group_b`.\n",
        "*   **Average score difference:** Computes the difference in average scores between the protected groups. Negative values indicate that `group_a` has a lower average score, so bias against `group_a`, while positive values indicate `group_b` has a lower average score, so bias against `group_b`.\n",
        "*   **Z score difference:** Computes the spread in Zscores between the protected groups, the Zscore is a normalised version of Disparate Impact.\n",
        "*   **Max Statistical Parity:** Computes the maximum overall thresholds of the absolute statistical parity between the protected groups, values below 0.1 in absolute value are considered acceptable.\n",
        "*   **RMSE ratio:** Computes the RMSE for the protected groups, lower values show bias against `group_a` while higher values show bias against `group_b`.\n",
        "*   **MAE ratio:** Similar to the previous metric, computes the MAE for the protected groups, lower values show bias against `group_a` while higher values show bias against `group_b`.\n",
        "*   **Correlation difference:** Computes the difference in correlation between predictions and targets for the protected groups, positive values show bias against `group_a` while negative values show bias against `group_b`.\n",
        "\n",
        "\n",
        "Source: [*HolisticAI docs*](https://holisticai.readthedocs.io/en/latest/metrics.html#regression)\n",
        "\n"
      ]
    },
    {
      "attachments": {},
      "cell_type": "markdown",
      "metadata": {
        "id": "3UaF7rErqMA2"
      },
      "source": [
        "## **6. Bias mitigation**\n",
        "### **Preprocessing method: Disparate impact remover**\n",
        "\n",
        "Now that we could observe that the model metrics are far away from the desired values, we need to apply some kind of strategy to mitigate the bias present in the model.\n",
        "\n",
        "Exists different kinds of strategies, and the literature has divided them into three categories: *Pre-processing*, *in-processing* and *post-processing* methods. The `holisticai` library possesses different algorithms from these categories for bias mitigation. An interesting feature is that all of them are compatible with the `Scikit-learn` package, so that, if you are familiar with this package, you will not have problems using the library. As you will see later, its implementation can be done following the traditional way, or by applying the pipeline. \n",
        "\n",
        "For this opportunity, we will implement the \"Disparate impact remover\" method which is a preprocessing algorithm that edits feature values to increase group fairness while preserving rank-ordering within groups."
      ]
    },
    {
      "cell_type": "code",
      "execution_count": null,
      "metadata": {
        "id": "UbylXQcaKVfo"
      },
      "outputs": [],
      "source": [
        "from holisticai.bias.mitigation import DisparateImpactRemover"
      ]
    },
    {
      "attachments": {},
      "cell_type": "markdown",
      "metadata": {
        "id": "sUUZTGK1Mfjv"
      },
      "source": [
        "### **Traditional implementation**"
      ]
    },
    {
      "cell_type": "code",
      "execution_count": null,
      "metadata": {
        "colab": {
          "base_uri": "https://localhost:8080/",
          "height": 551
        },
        "id": "0N53PlHGLWw9",
        "outputId": "b262473d-5a93-45ac-d6d1-cc7295fb4d97"
      },
      "outputs": [
        {
          "data": {
            "text/html": [
              "\n",
              "  <div id=\"df-f56c9f25-4c6d-4228-8935-6698bef484fe\">\n",
              "    <div class=\"colab-df-container\">\n",
              "      <div>\n",
              "<style scoped>\n",
              "    .dataframe tbody tr th:only-of-type {\n",
              "        vertical-align: middle;\n",
              "    }\n",
              "\n",
              "    .dataframe tbody tr th {\n",
              "        vertical-align: top;\n",
              "    }\n",
              "\n",
              "    .dataframe thead th {\n",
              "        text-align: right;\n",
              "    }\n",
              "</style>\n",
              "<table border=\"1\" class=\"dataframe\">\n",
              "  <thead>\n",
              "    <tr style=\"text-align: right;\">\n",
              "      <th></th>\n",
              "      <th>Value</th>\n",
              "      <th>Reference</th>\n",
              "    </tr>\n",
              "    <tr>\n",
              "      <th>Metric</th>\n",
              "      <th></th>\n",
              "      <th></th>\n",
              "    </tr>\n",
              "  </thead>\n",
              "  <tbody>\n",
              "    <tr>\n",
              "      <th>Disparate Impact Q90</th>\n",
              "      <td>0.016953</td>\n",
              "      <td>1</td>\n",
              "    </tr>\n",
              "    <tr>\n",
              "      <th>Disparate Impact Q80</th>\n",
              "      <td>0.100673</td>\n",
              "      <td>1</td>\n",
              "    </tr>\n",
              "    <tr>\n",
              "      <th>Disparate Impact Q50</th>\n",
              "      <td>0.424518</td>\n",
              "      <td>1</td>\n",
              "    </tr>\n",
              "    <tr>\n",
              "      <th>Statistical Parity Q50</th>\n",
              "      <td>-0.703821</td>\n",
              "      <td>0</td>\n",
              "    </tr>\n",
              "    <tr>\n",
              "      <th>No Disparate Impact Level</th>\n",
              "      <td>0.045669</td>\n",
              "      <td>-</td>\n",
              "    </tr>\n",
              "    <tr>\n",
              "      <th>Average Score Difference</th>\n",
              "      <td>-0.347758</td>\n",
              "      <td>0</td>\n",
              "    </tr>\n",
              "    <tr>\n",
              "      <th>Average Score Ratio</th>\n",
              "      <td>0.320391</td>\n",
              "      <td>1</td>\n",
              "    </tr>\n",
              "    <tr>\n",
              "      <th>Z Score Difference</th>\n",
              "      <td>-2.465747</td>\n",
              "      <td>0</td>\n",
              "    </tr>\n",
              "    <tr>\n",
              "      <th>Max Statistical Parity</th>\n",
              "      <td>0.768248</td>\n",
              "      <td>0</td>\n",
              "    </tr>\n",
              "    <tr>\n",
              "      <th>Statistical Parity AUC</th>\n",
              "      <td>0.439341</td>\n",
              "      <td>0</td>\n",
              "    </tr>\n",
              "    <tr>\n",
              "      <th>RMSE Ratio</th>\n",
              "      <td>0.651463</td>\n",
              "      <td>1</td>\n",
              "    </tr>\n",
              "    <tr>\n",
              "      <th>RMSE Ratio Q80</th>\n",
              "      <td>0.850160</td>\n",
              "      <td>1</td>\n",
              "    </tr>\n",
              "    <tr>\n",
              "      <th>MAE Ratio</th>\n",
              "      <td>0.557317</td>\n",
              "      <td>1</td>\n",
              "    </tr>\n",
              "    <tr>\n",
              "      <th>MAE Ratio Q80</th>\n",
              "      <td>0.809228</td>\n",
              "      <td>1</td>\n",
              "    </tr>\n",
              "    <tr>\n",
              "      <th>Correlation Difference</th>\n",
              "      <td>-0.048799</td>\n",
              "      <td>0</td>\n",
              "    </tr>\n",
              "  </tbody>\n",
              "</table>\n",
              "</div>\n",
              "      <button class=\"colab-df-convert\" onclick=\"convertToInteractive('df-f56c9f25-4c6d-4228-8935-6698bef484fe')\"\n",
              "              title=\"Convert this dataframe to an interactive table.\"\n",
              "              style=\"display:none;\">\n",
              "        \n",
              "  <svg xmlns=\"http://www.w3.org/2000/svg\" height=\"24px\"viewBox=\"0 0 24 24\"\n",
              "       width=\"24px\">\n",
              "    <path d=\"M0 0h24v24H0V0z\" fill=\"none\"/>\n",
              "    <path d=\"M18.56 5.44l.94 2.06.94-2.06 2.06-.94-2.06-.94-.94-2.06-.94 2.06-2.06.94zm-11 1L8.5 8.5l.94-2.06 2.06-.94-2.06-.94L8.5 2.5l-.94 2.06-2.06.94zm10 10l.94 2.06.94-2.06 2.06-.94-2.06-.94-.94-2.06-.94 2.06-2.06.94z\"/><path d=\"M17.41 7.96l-1.37-1.37c-.4-.4-.92-.59-1.43-.59-.52 0-1.04.2-1.43.59L10.3 9.45l-7.72 7.72c-.78.78-.78 2.05 0 2.83L4 21.41c.39.39.9.59 1.41.59.51 0 1.02-.2 1.41-.59l7.78-7.78 2.81-2.81c.8-.78.8-2.07 0-2.86zM5.41 20L4 18.59l7.72-7.72 1.47 1.35L5.41 20z\"/>\n",
              "  </svg>\n",
              "      </button>\n",
              "      \n",
              "  <style>\n",
              "    .colab-df-container {\n",
              "      display:flex;\n",
              "      flex-wrap:wrap;\n",
              "      gap: 12px;\n",
              "    }\n",
              "\n",
              "    .colab-df-convert {\n",
              "      background-color: #E8F0FE;\n",
              "      border: none;\n",
              "      border-radius: 50%;\n",
              "      cursor: pointer;\n",
              "      display: none;\n",
              "      fill: #1967D2;\n",
              "      height: 32px;\n",
              "      padding: 0 0 0 0;\n",
              "      width: 32px;\n",
              "    }\n",
              "\n",
              "    .colab-df-convert:hover {\n",
              "      background-color: #E2EBFA;\n",
              "      box-shadow: 0px 1px 2px rgba(60, 64, 67, 0.3), 0px 1px 3px 1px rgba(60, 64, 67, 0.15);\n",
              "      fill: #174EA6;\n",
              "    }\n",
              "\n",
              "    [theme=dark] .colab-df-convert {\n",
              "      background-color: #3B4455;\n",
              "      fill: #D2E3FC;\n",
              "    }\n",
              "\n",
              "    [theme=dark] .colab-df-convert:hover {\n",
              "      background-color: #434B5C;\n",
              "      box-shadow: 0px 1px 3px 1px rgba(0, 0, 0, 0.15);\n",
              "      filter: drop-shadow(0px 1px 2px rgba(0, 0, 0, 0.3));\n",
              "      fill: #FFFFFF;\n",
              "    }\n",
              "  </style>\n",
              "\n",
              "      <script>\n",
              "        const buttonEl =\n",
              "          document.querySelector('#df-f56c9f25-4c6d-4228-8935-6698bef484fe button.colab-df-convert');\n",
              "        buttonEl.style.display =\n",
              "          google.colab.kernel.accessAllowed ? 'block' : 'none';\n",
              "\n",
              "        async function convertToInteractive(key) {\n",
              "          const element = document.querySelector('#df-f56c9f25-4c6d-4228-8935-6698bef484fe');\n",
              "          const dataTable =\n",
              "            await google.colab.kernel.invokeFunction('convertToInteractive',\n",
              "                                                     [key], {});\n",
              "          if (!dataTable) return;\n",
              "\n",
              "          const docLinkHtml = 'Like what you see? Visit the ' +\n",
              "            '<a target=\"_blank\" href=https://colab.research.google.com/notebooks/data_table.ipynb>data table notebook</a>'\n",
              "            + ' to learn more about interactive tables.';\n",
              "          element.innerHTML = '';\n",
              "          dataTable['output_type'] = 'display_data';\n",
              "          await google.colab.output.renderOutput(dataTable, element);\n",
              "          const docLink = document.createElement('div');\n",
              "          docLink.innerHTML = docLinkHtml;\n",
              "          element.appendChild(docLink);\n",
              "        }\n",
              "      </script>\n",
              "    </div>\n",
              "  </div>\n",
              "  "
            ],
            "text/plain": [
              "                              Value Reference\n",
              "Metric                                       \n",
              "Disparate Impact Q90       0.016953         1\n",
              "Disparate Impact Q80       0.100673         1\n",
              "Disparate Impact Q50       0.424518         1\n",
              "Statistical Parity Q50    -0.703821         0\n",
              "No Disparate Impact Level  0.045669         -\n",
              "Average Score Difference  -0.347758         0\n",
              "Average Score Ratio        0.320391         1\n",
              "Z Score Difference        -2.465747         0\n",
              "Max Statistical Parity     0.768248         0\n",
              "Statistical Parity AUC     0.439341         0\n",
              "RMSE Ratio                 0.651463         1\n",
              "RMSE Ratio Q80             0.850160         1\n",
              "MAE Ratio                  0.557317         1\n",
              "MAE Ratio Q80              0.809228         1\n",
              "Correlation Difference    -0.048799         0"
            ]
          },
          "execution_count": 26,
          "metadata": {},
          "output_type": "execute_result"
        }
      ],
      "source": [
        "model = LinearRegression()\n",
        "X, y, group_a, group_b = train_data\n",
        "\n",
        "scaler = StandardScaler()\n",
        "X = scaler.fit_transform(X)\n",
        "\n",
        "corr = DisparateImpactRemover(repair_level=0.0)\n",
        "test = corr.fit_transform(X, group_a, group_b)\n",
        "\n",
        "model.fit(test, y)\n",
        "\n",
        "X, y, group_a, group_b = test_data\n",
        "\n",
        "X = scaler.transform(X)\n",
        "\n",
        "test = corr.transform(X, group_a, group_b)\n",
        "\n",
        "y_pred = model.predict(test)\n",
        "\n",
        "df = regression_bias_metrics(\n",
        "    group_a,\n",
        "    group_b,\n",
        "    y_pred,\n",
        "    y,\n",
        "    metric_type='both'\n",
        ")\n",
        "df_disprem =df.copy()\n",
        "df_disprem"
      ]
    },
    {
      "cell_type": "code",
      "execution_count": null,
      "metadata": {
        "colab": {
          "base_uri": "https://localhost:8080/"
        },
        "id": "9KN38ZpzJSQW",
        "outputId": "42446925-4e4e-43cb-e3d3-e3df05b4d19f"
      },
      "outputs": [
        {
          "name": "stdout",
          "output_type": "stream",
          "text": [
            "RMS error: 0.13876591590852652\n"
          ]
        }
      ],
      "source": [
        "dispimp_rmse = mean_squared_error(y, y_pred, squared=False)\n",
        "print(\"RMS error: {}\".format(dispimp_rmse))"
      ]
    },
    {
      "attachments": {},
      "cell_type": "markdown",
      "metadata": {
        "id": "AUGQh-zAvY8-"
      },
      "source": [
        "### **Pipeline implementation**\n",
        "\n",
        "Now that we could see how this method is implemented traditionally, let's try implementing it by using the Scikit-learn Pipeline! Notice that we shouldn't have variations in the metrics for the previous implementation."
      ]
    },
    {
      "cell_type": "code",
      "execution_count": null,
      "metadata": {
        "colab": {
          "base_uri": "https://localhost:8080/",
          "height": 551
        },
        "id": "x4vl8cM1K6K2",
        "outputId": "0a8f65cd-75fe-4d16-9334-4644f37820dd"
      },
      "outputs": [
        {
          "data": {
            "text/html": [
              "\n",
              "  <div id=\"df-8ce8a244-8c8a-457b-a5e1-526ea28ada17\">\n",
              "    <div class=\"colab-df-container\">\n",
              "      <div>\n",
              "<style scoped>\n",
              "    .dataframe tbody tr th:only-of-type {\n",
              "        vertical-align: middle;\n",
              "    }\n",
              "\n",
              "    .dataframe tbody tr th {\n",
              "        vertical-align: top;\n",
              "    }\n",
              "\n",
              "    .dataframe thead th {\n",
              "        text-align: right;\n",
              "    }\n",
              "</style>\n",
              "<table border=\"1\" class=\"dataframe\">\n",
              "  <thead>\n",
              "    <tr style=\"text-align: right;\">\n",
              "      <th></th>\n",
              "      <th>Value</th>\n",
              "      <th>Reference</th>\n",
              "    </tr>\n",
              "    <tr>\n",
              "      <th>Metric</th>\n",
              "      <th></th>\n",
              "      <th></th>\n",
              "    </tr>\n",
              "  </thead>\n",
              "  <tbody>\n",
              "    <tr>\n",
              "      <th>Disparate Impact Q90</th>\n",
              "      <td>0.209091</td>\n",
              "      <td>1</td>\n",
              "    </tr>\n",
              "    <tr>\n",
              "      <th>Disparate Impact Q80</th>\n",
              "      <td>0.313636</td>\n",
              "      <td>1</td>\n",
              "    </tr>\n",
              "    <tr>\n",
              "      <th>Disparate Impact Q50</th>\n",
              "      <td>0.537662</td>\n",
              "      <td>1</td>\n",
              "    </tr>\n",
              "    <tr>\n",
              "      <th>Statistical Parity Q50</th>\n",
              "      <td>-0.318314</td>\n",
              "      <td>0</td>\n",
              "    </tr>\n",
              "    <tr>\n",
              "      <th>No Disparate Impact Level</th>\n",
              "      <td>0.154885</td>\n",
              "      <td>-</td>\n",
              "    </tr>\n",
              "    <tr>\n",
              "      <th>Average Score Difference</th>\n",
              "      <td>-0.156635</td>\n",
              "      <td>0</td>\n",
              "    </tr>\n",
              "    <tr>\n",
              "      <th>Average Score Ratio</th>\n",
              "      <td>0.611585</td>\n",
              "      <td>1</td>\n",
              "    </tr>\n",
              "    <tr>\n",
              "      <th>Z Score Difference</th>\n",
              "      <td>-1.130245</td>\n",
              "      <td>0</td>\n",
              "    </tr>\n",
              "    <tr>\n",
              "      <th>Max Statistical Parity</th>\n",
              "      <td>0.468379</td>\n",
              "      <td>0</td>\n",
              "    </tr>\n",
              "    <tr>\n",
              "      <th>Statistical Parity AUC</th>\n",
              "      <td>0.260840</td>\n",
              "      <td>0</td>\n",
              "    </tr>\n",
              "    <tr>\n",
              "      <th>RMSE Ratio</th>\n",
              "      <td>0.653276</td>\n",
              "      <td>1</td>\n",
              "    </tr>\n",
              "    <tr>\n",
              "      <th>RMSE Ratio Q80</th>\n",
              "      <td>0.815322</td>\n",
              "      <td>1</td>\n",
              "    </tr>\n",
              "    <tr>\n",
              "      <th>MAE Ratio</th>\n",
              "      <td>0.703572</td>\n",
              "      <td>1</td>\n",
              "    </tr>\n",
              "    <tr>\n",
              "      <th>MAE Ratio Q80</th>\n",
              "      <td>0.862083</td>\n",
              "      <td>1</td>\n",
              "    </tr>\n",
              "    <tr>\n",
              "      <th>Correlation Difference</th>\n",
              "      <td>-0.031077</td>\n",
              "      <td>0</td>\n",
              "    </tr>\n",
              "  </tbody>\n",
              "</table>\n",
              "</div>\n",
              "      <button class=\"colab-df-convert\" onclick=\"convertToInteractive('df-8ce8a244-8c8a-457b-a5e1-526ea28ada17')\"\n",
              "              title=\"Convert this dataframe to an interactive table.\"\n",
              "              style=\"display:none;\">\n",
              "        \n",
              "  <svg xmlns=\"http://www.w3.org/2000/svg\" height=\"24px\"viewBox=\"0 0 24 24\"\n",
              "       width=\"24px\">\n",
              "    <path d=\"M0 0h24v24H0V0z\" fill=\"none\"/>\n",
              "    <path d=\"M18.56 5.44l.94 2.06.94-2.06 2.06-.94-2.06-.94-.94-2.06-.94 2.06-2.06.94zm-11 1L8.5 8.5l.94-2.06 2.06-.94-2.06-.94L8.5 2.5l-.94 2.06-2.06.94zm10 10l.94 2.06.94-2.06 2.06-.94-2.06-.94-.94-2.06-.94 2.06-2.06.94z\"/><path d=\"M17.41 7.96l-1.37-1.37c-.4-.4-.92-.59-1.43-.59-.52 0-1.04.2-1.43.59L10.3 9.45l-7.72 7.72c-.78.78-.78 2.05 0 2.83L4 21.41c.39.39.9.59 1.41.59.51 0 1.02-.2 1.41-.59l7.78-7.78 2.81-2.81c.8-.78.8-2.07 0-2.86zM5.41 20L4 18.59l7.72-7.72 1.47 1.35L5.41 20z\"/>\n",
              "  </svg>\n",
              "      </button>\n",
              "      \n",
              "  <style>\n",
              "    .colab-df-container {\n",
              "      display:flex;\n",
              "      flex-wrap:wrap;\n",
              "      gap: 12px;\n",
              "    }\n",
              "\n",
              "    .colab-df-convert {\n",
              "      background-color: #E8F0FE;\n",
              "      border: none;\n",
              "      border-radius: 50%;\n",
              "      cursor: pointer;\n",
              "      display: none;\n",
              "      fill: #1967D2;\n",
              "      height: 32px;\n",
              "      padding: 0 0 0 0;\n",
              "      width: 32px;\n",
              "    }\n",
              "\n",
              "    .colab-df-convert:hover {\n",
              "      background-color: #E2EBFA;\n",
              "      box-shadow: 0px 1px 2px rgba(60, 64, 67, 0.3), 0px 1px 3px 1px rgba(60, 64, 67, 0.15);\n",
              "      fill: #174EA6;\n",
              "    }\n",
              "\n",
              "    [theme=dark] .colab-df-convert {\n",
              "      background-color: #3B4455;\n",
              "      fill: #D2E3FC;\n",
              "    }\n",
              "\n",
              "    [theme=dark] .colab-df-convert:hover {\n",
              "      background-color: #434B5C;\n",
              "      box-shadow: 0px 1px 3px 1px rgba(0, 0, 0, 0.15);\n",
              "      filter: drop-shadow(0px 1px 2px rgba(0, 0, 0, 0.3));\n",
              "      fill: #FFFFFF;\n",
              "    }\n",
              "  </style>\n",
              "\n",
              "      <script>\n",
              "        const buttonEl =\n",
              "          document.querySelector('#df-8ce8a244-8c8a-457b-a5e1-526ea28ada17 button.colab-df-convert');\n",
              "        buttonEl.style.display =\n",
              "          google.colab.kernel.accessAllowed ? 'block' : 'none';\n",
              "\n",
              "        async function convertToInteractive(key) {\n",
              "          const element = document.querySelector('#df-8ce8a244-8c8a-457b-a5e1-526ea28ada17');\n",
              "          const dataTable =\n",
              "            await google.colab.kernel.invokeFunction('convertToInteractive',\n",
              "                                                     [key], {});\n",
              "          if (!dataTable) return;\n",
              "\n",
              "          const docLinkHtml = 'Like what you see? Visit the ' +\n",
              "            '<a target=\"_blank\" href=https://colab.research.google.com/notebooks/data_table.ipynb>data table notebook</a>'\n",
              "            + ' to learn more about interactive tables.';\n",
              "          element.innerHTML = '';\n",
              "          dataTable['output_type'] = 'display_data';\n",
              "          await google.colab.output.renderOutput(dataTable, element);\n",
              "          const docLink = document.createElement('div');\n",
              "          docLink.innerHTML = docLinkHtml;\n",
              "          element.appendChild(docLink);\n",
              "        }\n",
              "      </script>\n",
              "    </div>\n",
              "  </div>\n",
              "  "
            ],
            "text/plain": [
              "                              Value Reference\n",
              "Metric                                       \n",
              "Disparate Impact Q90       0.209091         1\n",
              "Disparate Impact Q80       0.313636         1\n",
              "Disparate Impact Q50       0.537662         1\n",
              "Statistical Parity Q50    -0.318314         0\n",
              "No Disparate Impact Level  0.154885         -\n",
              "Average Score Difference  -0.156635         0\n",
              "Average Score Ratio        0.611585         1\n",
              "Z Score Difference        -1.130245         0\n",
              "Max Statistical Parity     0.468379         0\n",
              "Statistical Parity AUC     0.260840         0\n",
              "RMSE Ratio                 0.653276         1\n",
              "RMSE Ratio Q80             0.815322         1\n",
              "MAE Ratio                  0.703572         1\n",
              "MAE Ratio Q80              0.862083         1\n",
              "Correlation Difference    -0.031077         0"
            ]
          },
          "execution_count": 28,
          "metadata": {},
          "output_type": "execute_result"
        }
      ],
      "source": [
        "model = LinearRegression()\n",
        "pipeline = Pipeline(\n",
        "    steps=[\n",
        "        ('scalar', StandardScaler()),\n",
        "        (\"bm_preprocessing\", DisparateImpactRemover()),\n",
        "        (\"model\", model),\n",
        "    ]\n",
        ")\n",
        "\n",
        "X, y, group_a, group_b = train_data\n",
        "fit_params = {\n",
        "    \"bm__group_a\": group_a, \n",
        "    \"bm__group_b\": group_b\n",
        "}\n",
        "\n",
        "pipeline.fit(X, y, **fit_params)\n",
        "\n",
        "X, y, group_a, group_b = test_data\n",
        "predict_params = {\n",
        "    \"bm__group_a\": group_a,\n",
        "    \"bm__group_b\": group_b,\n",
        "}\n",
        "y_pred = pipeline.predict(X, **predict_params)\n",
        "df = regression_bias_metrics(\n",
        "    group_a,\n",
        "    group_b,\n",
        "    y_pred,\n",
        "    y,\n",
        "    metric_type='both'\n",
        ")\n",
        "df_disprem_w_p =df.copy()\n",
        "df_disprem_w_p"
      ]
    },
    {
      "attachments": {},
      "cell_type": "markdown",
      "metadata": {
        "id": "Dz1YgG53wI_K"
      },
      "source": [
        "## **7. Results comparison**\n",
        "\n",
        "Now that we could observe how is the implementation of the mitigator in the model, we will compare the results between the baseline and the implementations with the mitigator to analyse how the metrics have changed."
      ]
    },
    {
      "cell_type": "code",
      "execution_count": null,
      "metadata": {
        "colab": {
          "base_uri": "https://localhost:8080/",
          "height": 551
        },
        "id": "pNVKX4kKLpsz",
        "outputId": "2f78d51d-e3c2-4712-f82b-62224ecd461e"
      },
      "outputs": [
        {
          "data": {
            "text/html": [
              "\n",
              "  <div id=\"df-2aa0f062-a7c9-4f2c-b462-004aafd3a15a\">\n",
              "    <div class=\"colab-df-container\">\n",
              "      <div>\n",
              "<style scoped>\n",
              "    .dataframe tbody tr th:only-of-type {\n",
              "        vertical-align: middle;\n",
              "    }\n",
              "\n",
              "    .dataframe tbody tr th {\n",
              "        vertical-align: top;\n",
              "    }\n",
              "\n",
              "    .dataframe thead th {\n",
              "        text-align: right;\n",
              "    }\n",
              "</style>\n",
              "<table border=\"1\" class=\"dataframe\">\n",
              "  <thead>\n",
              "    <tr style=\"text-align: right;\">\n",
              "      <th></th>\n",
              "      <th>Baseline</th>\n",
              "      <th>Mitigator without pipeline</th>\n",
              "      <th>Mitigator with pipeline</th>\n",
              "      <th>Reference</th>\n",
              "    </tr>\n",
              "    <tr>\n",
              "      <th>Metric</th>\n",
              "      <th></th>\n",
              "      <th></th>\n",
              "      <th></th>\n",
              "      <th></th>\n",
              "    </tr>\n",
              "  </thead>\n",
              "  <tbody>\n",
              "    <tr>\n",
              "      <th>Disparate Impact Q90</th>\n",
              "      <td>0.016953</td>\n",
              "      <td>0.016953</td>\n",
              "      <td>0.209091</td>\n",
              "      <td>1</td>\n",
              "    </tr>\n",
              "    <tr>\n",
              "      <th>Disparate Impact Q80</th>\n",
              "      <td>0.100673</td>\n",
              "      <td>0.100673</td>\n",
              "      <td>0.313636</td>\n",
              "      <td>1</td>\n",
              "    </tr>\n",
              "    <tr>\n",
              "      <th>Disparate Impact Q50</th>\n",
              "      <td>0.424518</td>\n",
              "      <td>0.424518</td>\n",
              "      <td>0.537662</td>\n",
              "      <td>1</td>\n",
              "    </tr>\n",
              "    <tr>\n",
              "      <th>Statistical Parity Q50</th>\n",
              "      <td>-0.703821</td>\n",
              "      <td>-0.703821</td>\n",
              "      <td>-0.318314</td>\n",
              "      <td>0</td>\n",
              "    </tr>\n",
              "    <tr>\n",
              "      <th>No Disparate Impact Level</th>\n",
              "      <td>0.045669</td>\n",
              "      <td>0.045669</td>\n",
              "      <td>0.154885</td>\n",
              "      <td>-</td>\n",
              "    </tr>\n",
              "    <tr>\n",
              "      <th>Average Score Difference</th>\n",
              "      <td>-0.347758</td>\n",
              "      <td>-0.347758</td>\n",
              "      <td>-0.156635</td>\n",
              "      <td>0</td>\n",
              "    </tr>\n",
              "    <tr>\n",
              "      <th>Average Score Ratio</th>\n",
              "      <td>0.320391</td>\n",
              "      <td>0.320391</td>\n",
              "      <td>0.611585</td>\n",
              "      <td>1</td>\n",
              "    </tr>\n",
              "    <tr>\n",
              "      <th>Z Score Difference</th>\n",
              "      <td>-2.465747</td>\n",
              "      <td>-2.465747</td>\n",
              "      <td>-1.130245</td>\n",
              "      <td>0</td>\n",
              "    </tr>\n",
              "    <tr>\n",
              "      <th>Max Statistical Parity</th>\n",
              "      <td>0.768248</td>\n",
              "      <td>0.768248</td>\n",
              "      <td>0.468379</td>\n",
              "      <td>0</td>\n",
              "    </tr>\n",
              "    <tr>\n",
              "      <th>Statistical Parity AUC</th>\n",
              "      <td>0.439341</td>\n",
              "      <td>0.439341</td>\n",
              "      <td>0.260840</td>\n",
              "      <td>0</td>\n",
              "    </tr>\n",
              "    <tr>\n",
              "      <th>RMSE Ratio</th>\n",
              "      <td>0.651463</td>\n",
              "      <td>0.651463</td>\n",
              "      <td>0.653276</td>\n",
              "      <td>1</td>\n",
              "    </tr>\n",
              "    <tr>\n",
              "      <th>RMSE Ratio Q80</th>\n",
              "      <td>0.850160</td>\n",
              "      <td>0.850160</td>\n",
              "      <td>0.815322</td>\n",
              "      <td>1</td>\n",
              "    </tr>\n",
              "    <tr>\n",
              "      <th>MAE Ratio</th>\n",
              "      <td>0.557317</td>\n",
              "      <td>0.557317</td>\n",
              "      <td>0.703572</td>\n",
              "      <td>1</td>\n",
              "    </tr>\n",
              "    <tr>\n",
              "      <th>MAE Ratio Q80</th>\n",
              "      <td>0.809228</td>\n",
              "      <td>0.809228</td>\n",
              "      <td>0.862083</td>\n",
              "      <td>1</td>\n",
              "    </tr>\n",
              "    <tr>\n",
              "      <th>Correlation Difference</th>\n",
              "      <td>-0.048799</td>\n",
              "      <td>-0.048799</td>\n",
              "      <td>-0.031077</td>\n",
              "      <td>0</td>\n",
              "    </tr>\n",
              "  </tbody>\n",
              "</table>\n",
              "</div>\n",
              "      <button class=\"colab-df-convert\" onclick=\"convertToInteractive('df-2aa0f062-a7c9-4f2c-b462-004aafd3a15a')\"\n",
              "              title=\"Convert this dataframe to an interactive table.\"\n",
              "              style=\"display:none;\">\n",
              "        \n",
              "  <svg xmlns=\"http://www.w3.org/2000/svg\" height=\"24px\"viewBox=\"0 0 24 24\"\n",
              "       width=\"24px\">\n",
              "    <path d=\"M0 0h24v24H0V0z\" fill=\"none\"/>\n",
              "    <path d=\"M18.56 5.44l.94 2.06.94-2.06 2.06-.94-2.06-.94-.94-2.06-.94 2.06-2.06.94zm-11 1L8.5 8.5l.94-2.06 2.06-.94-2.06-.94L8.5 2.5l-.94 2.06-2.06.94zm10 10l.94 2.06.94-2.06 2.06-.94-2.06-.94-.94-2.06-.94 2.06-2.06.94z\"/><path d=\"M17.41 7.96l-1.37-1.37c-.4-.4-.92-.59-1.43-.59-.52 0-1.04.2-1.43.59L10.3 9.45l-7.72 7.72c-.78.78-.78 2.05 0 2.83L4 21.41c.39.39.9.59 1.41.59.51 0 1.02-.2 1.41-.59l7.78-7.78 2.81-2.81c.8-.78.8-2.07 0-2.86zM5.41 20L4 18.59l7.72-7.72 1.47 1.35L5.41 20z\"/>\n",
              "  </svg>\n",
              "      </button>\n",
              "      \n",
              "  <style>\n",
              "    .colab-df-container {\n",
              "      display:flex;\n",
              "      flex-wrap:wrap;\n",
              "      gap: 12px;\n",
              "    }\n",
              "\n",
              "    .colab-df-convert {\n",
              "      background-color: #E8F0FE;\n",
              "      border: none;\n",
              "      border-radius: 50%;\n",
              "      cursor: pointer;\n",
              "      display: none;\n",
              "      fill: #1967D2;\n",
              "      height: 32px;\n",
              "      padding: 0 0 0 0;\n",
              "      width: 32px;\n",
              "    }\n",
              "\n",
              "    .colab-df-convert:hover {\n",
              "      background-color: #E2EBFA;\n",
              "      box-shadow: 0px 1px 2px rgba(60, 64, 67, 0.3), 0px 1px 3px 1px rgba(60, 64, 67, 0.15);\n",
              "      fill: #174EA6;\n",
              "    }\n",
              "\n",
              "    [theme=dark] .colab-df-convert {\n",
              "      background-color: #3B4455;\n",
              "      fill: #D2E3FC;\n",
              "    }\n",
              "\n",
              "    [theme=dark] .colab-df-convert:hover {\n",
              "      background-color: #434B5C;\n",
              "      box-shadow: 0px 1px 3px 1px rgba(0, 0, 0, 0.15);\n",
              "      filter: drop-shadow(0px 1px 2px rgba(0, 0, 0, 0.3));\n",
              "      fill: #FFFFFF;\n",
              "    }\n",
              "  </style>\n",
              "\n",
              "      <script>\n",
              "        const buttonEl =\n",
              "          document.querySelector('#df-2aa0f062-a7c9-4f2c-b462-004aafd3a15a button.colab-df-convert');\n",
              "        buttonEl.style.display =\n",
              "          google.colab.kernel.accessAllowed ? 'block' : 'none';\n",
              "\n",
              "        async function convertToInteractive(key) {\n",
              "          const element = document.querySelector('#df-2aa0f062-a7c9-4f2c-b462-004aafd3a15a');\n",
              "          const dataTable =\n",
              "            await google.colab.kernel.invokeFunction('convertToInteractive',\n",
              "                                                     [key], {});\n",
              "          if (!dataTable) return;\n",
              "\n",
              "          const docLinkHtml = 'Like what you see? Visit the ' +\n",
              "            '<a target=\"_blank\" href=https://colab.research.google.com/notebooks/data_table.ipynb>data table notebook</a>'\n",
              "            + ' to learn more about interactive tables.';\n",
              "          element.innerHTML = '';\n",
              "          dataTable['output_type'] = 'display_data';\n",
              "          await google.colab.output.renderOutput(dataTable, element);\n",
              "          const docLink = document.createElement('div');\n",
              "          docLink.innerHTML = docLinkHtml;\n",
              "          element.appendChild(docLink);\n",
              "        }\n",
              "      </script>\n",
              "    </div>\n",
              "  </div>\n",
              "  "
            ],
            "text/plain": [
              "                           Baseline  Mitigator without pipeline  \\\n",
              "Metric                                                            \n",
              "Disparate Impact Q90       0.016953                    0.016953   \n",
              "Disparate Impact Q80       0.100673                    0.100673   \n",
              "Disparate Impact Q50       0.424518                    0.424518   \n",
              "Statistical Parity Q50    -0.703821                   -0.703821   \n",
              "No Disparate Impact Level  0.045669                    0.045669   \n",
              "Average Score Difference  -0.347758                   -0.347758   \n",
              "Average Score Ratio        0.320391                    0.320391   \n",
              "Z Score Difference        -2.465747                   -2.465747   \n",
              "Max Statistical Parity     0.768248                    0.768248   \n",
              "Statistical Parity AUC     0.439341                    0.439341   \n",
              "RMSE Ratio                 0.651463                    0.651463   \n",
              "RMSE Ratio Q80             0.850160                    0.850160   \n",
              "MAE Ratio                  0.557317                    0.557317   \n",
              "MAE Ratio Q80              0.809228                    0.809228   \n",
              "Correlation Difference    -0.048799                   -0.048799   \n",
              "\n",
              "                           Mitigator with pipeline Reference  \n",
              "Metric                                                        \n",
              "Disparate Impact Q90                      0.209091         1  \n",
              "Disparate Impact Q80                      0.313636         1  \n",
              "Disparate Impact Q50                      0.537662         1  \n",
              "Statistical Parity Q50                   -0.318314         0  \n",
              "No Disparate Impact Level                 0.154885         -  \n",
              "Average Score Difference                 -0.156635         0  \n",
              "Average Score Ratio                       0.611585         1  \n",
              "Z Score Difference                       -1.130245         0  \n",
              "Max Statistical Parity                    0.468379         0  \n",
              "Statistical Parity AUC                    0.260840         0  \n",
              "RMSE Ratio                                0.653276         1  \n",
              "RMSE Ratio Q80                            0.815322         1  \n",
              "MAE Ratio                                 0.703572         1  \n",
              "MAE Ratio Q80                             0.862083         1  \n",
              "Correlation Difference                   -0.031077         0  "
            ]
          },
          "execution_count": 29,
          "metadata": {},
          "output_type": "execute_result"
        }
      ],
      "source": [
        "result = pd.concat([df_baseline, df_disprem, df_disprem_w_p], axis=1).iloc[:, [0,2,4,1]]\n",
        "result.columns = ['Baseline','Mitigator without pipeline',\"Mitigator with pipeline\", 'Reference']\n",
        "result"
      ]
    },
    {
      "attachments": {},
      "cell_type": "markdown",
      "metadata": {
        "id": "nBI1aoWUwegB"
      },
      "source": [
        "From the previous chart, we can see that although the actual metrics are still far from the ideal values, an improvement is obtained by applying this method in the dataset, compared with our baseline. \n",
        "\n",
        "Notice that we can analyse how these values are affected by varying the hyperparameters of the method.\n",
        "\n",
        "For example, this method allows us to set a `repair_level` value which is a parameter to control the repair amount, where 0 means no repair while 1 is full repair.\n",
        "\n",
        "Let's try with different values:"
      ]
    },
    {
      "cell_type": "code",
      "execution_count": null,
      "metadata": {
        "id": "3X1keA2QORTA"
      },
      "outputs": [],
      "source": [
        "def calculate_metrics(train_data, test_data, group_a, group_b, repair_level, metrics_cols):\n",
        "  model = LinearRegression()\n",
        "  pipeline = Pipeline(\n",
        "      steps=[\n",
        "          ('scalar', StandardScaler()),\n",
        "          (\"bm_preprocessing\", DisparateImpactRemover(repair_level=repair_level)),\n",
        "          (\"model\", model),\n",
        "      ]\n",
        "  )\n",
        "\n",
        "  X, y, group_a, group_b = train_data\n",
        "  fit_params = {\n",
        "      \"bm__group_a\": group_a, \n",
        "      \"bm__group_b\": group_b\n",
        "  }\n",
        "\n",
        "  pipeline.fit(X, y, **fit_params)\n",
        "\n",
        "  X, y, group_a, group_b = test_data\n",
        "  predict_params = {\n",
        "      \"bm__group_a\": group_a,\n",
        "      \"bm__group_b\": group_b,\n",
        "  }\n",
        "  y_pred = pipeline.predict(X, **predict_params)\n",
        "  df = regression_bias_metrics(\n",
        "      group_a,\n",
        "      group_b,\n",
        "      y_pred,\n",
        "      y,\n",
        "      metric_type='both'\n",
        "  )\n",
        "  # Calculate metrics\n",
        "  metrics = [\n",
        "      repair_level, \n",
        "      mean_squared_error(y, y_pred, squared=False)\n",
        "  ]\n",
        "  metrics.extend([df['Value'].loc[col] for col in metrics_cols])\n",
        "  return metrics"
      ]
    },
    {
      "cell_type": "code",
      "execution_count": null,
      "metadata": {
        "colab": {
          "base_uri": "https://localhost:8080/",
          "height": 238
        },
        "id": "e35na_Hrye3P",
        "outputId": "3d36d537-9db8-4a85-8887-b3d2cd62e002"
      },
      "outputs": [
        {
          "data": {
            "text/html": [
              "\n",
              "  <div id=\"df-6229a73d-5e1c-4467-8d19-cf6c7677c08f\">\n",
              "    <div class=\"colab-df-container\">\n",
              "      <div>\n",
              "<style scoped>\n",
              "    .dataframe tbody tr th:only-of-type {\n",
              "        vertical-align: middle;\n",
              "    }\n",
              "\n",
              "    .dataframe tbody tr th {\n",
              "        vertical-align: top;\n",
              "    }\n",
              "\n",
              "    .dataframe thead th {\n",
              "        text-align: right;\n",
              "    }\n",
              "</style>\n",
              "<table border=\"1\" class=\"dataframe\">\n",
              "  <thead>\n",
              "    <tr style=\"text-align: right;\">\n",
              "      <th></th>\n",
              "      <th>repair_level</th>\n",
              "      <th>RMSE</th>\n",
              "      <th>Disparate Impact Q80</th>\n",
              "      <th>RMSE Ratio</th>\n",
              "      <th>MAE Ratio</th>\n",
              "      <th>Statistical Parity Q50</th>\n",
              "      <th>Average Score Difference</th>\n",
              "      <th>Correlation Difference</th>\n",
              "    </tr>\n",
              "  </thead>\n",
              "  <tbody>\n",
              "    <tr>\n",
              "      <th>0</th>\n",
              "      <td>0.0</td>\n",
              "      <td>0.138766</td>\n",
              "      <td>0.100673</td>\n",
              "      <td>0.651463</td>\n",
              "      <td>0.557317</td>\n",
              "      <td>-0.703821</td>\n",
              "      <td>-0.347758</td>\n",
              "      <td>-0.048799</td>\n",
              "    </tr>\n",
              "    <tr>\n",
              "      <th>1</th>\n",
              "      <td>0.2</td>\n",
              "      <td>0.139658</td>\n",
              "      <td>0.132282</td>\n",
              "      <td>0.648868</td>\n",
              "      <td>0.589909</td>\n",
              "      <td>-0.616206</td>\n",
              "      <td>-0.306034</td>\n",
              "      <td>-0.048300</td>\n",
              "    </tr>\n",
              "    <tr>\n",
              "      <th>2</th>\n",
              "      <td>0.4</td>\n",
              "      <td>0.144226</td>\n",
              "      <td>0.162626</td>\n",
              "      <td>0.647667</td>\n",
              "      <td>0.634495</td>\n",
              "      <td>-0.546113</td>\n",
              "      <td>-0.258057</td>\n",
              "      <td>-0.040214</td>\n",
              "    </tr>\n",
              "    <tr>\n",
              "      <th>3</th>\n",
              "      <td>0.6</td>\n",
              "      <td>0.148764</td>\n",
              "      <td>0.179915</td>\n",
              "      <td>0.638012</td>\n",
              "      <td>0.644275</td>\n",
              "      <td>-0.511067</td>\n",
              "      <td>-0.224994</td>\n",
              "      <td>-0.039962</td>\n",
              "    </tr>\n",
              "    <tr>\n",
              "      <th>4</th>\n",
              "      <td>0.8</td>\n",
              "      <td>0.156022</td>\n",
              "      <td>0.242998</td>\n",
              "      <td>0.640275</td>\n",
              "      <td>0.671014</td>\n",
              "      <td>-0.405929</td>\n",
              "      <td>-0.190934</td>\n",
              "      <td>-0.031508</td>\n",
              "    </tr>\n",
              "    <tr>\n",
              "      <th>5</th>\n",
              "      <td>1.0</td>\n",
              "      <td>0.165160</td>\n",
              "      <td>0.313636</td>\n",
              "      <td>0.653276</td>\n",
              "      <td>0.703572</td>\n",
              "      <td>-0.318314</td>\n",
              "      <td>-0.156635</td>\n",
              "      <td>-0.031077</td>\n",
              "    </tr>\n",
              "  </tbody>\n",
              "</table>\n",
              "</div>\n",
              "      <button class=\"colab-df-convert\" onclick=\"convertToInteractive('df-6229a73d-5e1c-4467-8d19-cf6c7677c08f')\"\n",
              "              title=\"Convert this dataframe to an interactive table.\"\n",
              "              style=\"display:none;\">\n",
              "        \n",
              "  <svg xmlns=\"http://www.w3.org/2000/svg\" height=\"24px\"viewBox=\"0 0 24 24\"\n",
              "       width=\"24px\">\n",
              "    <path d=\"M0 0h24v24H0V0z\" fill=\"none\"/>\n",
              "    <path d=\"M18.56 5.44l.94 2.06.94-2.06 2.06-.94-2.06-.94-.94-2.06-.94 2.06-2.06.94zm-11 1L8.5 8.5l.94-2.06 2.06-.94-2.06-.94L8.5 2.5l-.94 2.06-2.06.94zm10 10l.94 2.06.94-2.06 2.06-.94-2.06-.94-.94-2.06-.94 2.06-2.06.94z\"/><path d=\"M17.41 7.96l-1.37-1.37c-.4-.4-.92-.59-1.43-.59-.52 0-1.04.2-1.43.59L10.3 9.45l-7.72 7.72c-.78.78-.78 2.05 0 2.83L4 21.41c.39.39.9.59 1.41.59.51 0 1.02-.2 1.41-.59l7.78-7.78 2.81-2.81c.8-.78.8-2.07 0-2.86zM5.41 20L4 18.59l7.72-7.72 1.47 1.35L5.41 20z\"/>\n",
              "  </svg>\n",
              "      </button>\n",
              "      \n",
              "  <style>\n",
              "    .colab-df-container {\n",
              "      display:flex;\n",
              "      flex-wrap:wrap;\n",
              "      gap: 12px;\n",
              "    }\n",
              "\n",
              "    .colab-df-convert {\n",
              "      background-color: #E8F0FE;\n",
              "      border: none;\n",
              "      border-radius: 50%;\n",
              "      cursor: pointer;\n",
              "      display: none;\n",
              "      fill: #1967D2;\n",
              "      height: 32px;\n",
              "      padding: 0 0 0 0;\n",
              "      width: 32px;\n",
              "    }\n",
              "\n",
              "    .colab-df-convert:hover {\n",
              "      background-color: #E2EBFA;\n",
              "      box-shadow: 0px 1px 2px rgba(60, 64, 67, 0.3), 0px 1px 3px 1px rgba(60, 64, 67, 0.15);\n",
              "      fill: #174EA6;\n",
              "    }\n",
              "\n",
              "    [theme=dark] .colab-df-convert {\n",
              "      background-color: #3B4455;\n",
              "      fill: #D2E3FC;\n",
              "    }\n",
              "\n",
              "    [theme=dark] .colab-df-convert:hover {\n",
              "      background-color: #434B5C;\n",
              "      box-shadow: 0px 1px 3px 1px rgba(0, 0, 0, 0.15);\n",
              "      filter: drop-shadow(0px 1px 2px rgba(0, 0, 0, 0.3));\n",
              "      fill: #FFFFFF;\n",
              "    }\n",
              "  </style>\n",
              "\n",
              "      <script>\n",
              "        const buttonEl =\n",
              "          document.querySelector('#df-6229a73d-5e1c-4467-8d19-cf6c7677c08f button.colab-df-convert');\n",
              "        buttonEl.style.display =\n",
              "          google.colab.kernel.accessAllowed ? 'block' : 'none';\n",
              "\n",
              "        async function convertToInteractive(key) {\n",
              "          const element = document.querySelector('#df-6229a73d-5e1c-4467-8d19-cf6c7677c08f');\n",
              "          const dataTable =\n",
              "            await google.colab.kernel.invokeFunction('convertToInteractive',\n",
              "                                                     [key], {});\n",
              "          if (!dataTable) return;\n",
              "\n",
              "          const docLinkHtml = 'Like what you see? Visit the ' +\n",
              "            '<a target=\"_blank\" href=https://colab.research.google.com/notebooks/data_table.ipynb>data table notebook</a>'\n",
              "            + ' to learn more about interactive tables.';\n",
              "          element.innerHTML = '';\n",
              "          dataTable['output_type'] = 'display_data';\n",
              "          await google.colab.output.renderOutput(dataTable, element);\n",
              "          const docLink = document.createElement('div');\n",
              "          docLink.innerHTML = docLinkHtml;\n",
              "          element.appendChild(docLink);\n",
              "        }\n",
              "      </script>\n",
              "    </div>\n",
              "  </div>\n",
              "  "
            ],
            "text/plain": [
              "   repair_level      RMSE  Disparate Impact Q80  RMSE Ratio  MAE Ratio  \\\n",
              "0           0.0  0.138766              0.100673    0.651463   0.557317   \n",
              "1           0.2  0.139658              0.132282    0.648868   0.589909   \n",
              "2           0.4  0.144226              0.162626    0.647667   0.634495   \n",
              "3           0.6  0.148764              0.179915    0.638012   0.644275   \n",
              "4           0.8  0.156022              0.242998    0.640275   0.671014   \n",
              "5           1.0  0.165160              0.313636    0.653276   0.703572   \n",
              "\n",
              "   Statistical Parity Q50  Average Score Difference  Correlation Difference  \n",
              "0               -0.703821                 -0.347758               -0.048799  \n",
              "1               -0.616206                 -0.306034               -0.048300  \n",
              "2               -0.546113                 -0.258057               -0.040214  \n",
              "3               -0.511067                 -0.224994               -0.039962  \n",
              "4               -0.405929                 -0.190934               -0.031508  \n",
              "5               -0.318314                 -0.156635               -0.031077  "
            ]
          },
          "execution_count": 34,
          "metadata": {},
          "output_type": "execute_result"
        }
      ],
      "source": [
        "metrics_val = []\n",
        "metrics_cols = ['Disparate Impact Q80', 'RMSE Ratio', 'MAE Ratio', 'Statistical Parity Q50', 'Average Score Difference', 'Correlation Difference']\n",
        "\n",
        "for repair_values in np.linspace(0,1,6):\n",
        "  metrics_val.append(calculate_metrics(train_data, test_data, group_a, group_b, repair_values, metrics_cols))\n",
        "\n",
        "metrics = ['repair_level', 'RMSE']\n",
        "metrics.extend(metrics_cols)\n",
        "df_metrics = pd.DataFrame(metrics_val, columns=metrics)\n",
        "df_metrics"
      ]
    },
    {
      "cell_type": "code",
      "execution_count": null,
      "metadata": {
        "colab": {
          "base_uri": "https://localhost:8080/",
          "height": 519
        },
        "id": "sCqg3BuaMZD2",
        "outputId": "a9951f6c-375e-4edf-813d-d6142804dfb5"
      },
      "outputs": [
        {
          "data": {
            "text/plain": [
              "Text(0.5, 0, 'Repair level')"
            ]
          },
          "execution_count": 35,
          "metadata": {},
          "output_type": "execute_result"
        },
        {
          "data": {
            "image/png": "[encoded data removed]",
            "text/plain": [
              "<Figure size 1800x576 with 3 Axes>"
            ]
          },
          "metadata": {},
          "output_type": "display_data"
        }
      ],
      "source": [
        "x_axis = df_metrics.repair_level\n",
        "plt.figure(figsize=(25,8))\n",
        "plt.subplot(131)\n",
        "plt.plot(x_axis, df_metrics.RMSE, 'o-', label='RMSE')\n",
        "plt.legend(loc='upper left')\n",
        "plt.xlabel('Repair level')\n",
        "plt.subplot(132)\n",
        "plt.plot(x_axis, df_metrics['Disparate Impact Q80'], 'o-', label='Disparate impact')\n",
        "plt.plot(x_axis, df_metrics['RMSE Ratio'], 'o-', label='RMSE ratio')\n",
        "plt.plot(x_axis, df_metrics['MAE Ratio'], 'o-', label='MAE ratio')\n",
        "plt.plot(x_axis, np.ones_like(df_metrics['MAE Ratio']), label='Reference')\n",
        "plt.legend(loc='upper left')\n",
        "plt.xlabel('Repair level')\n",
        "plt.subplot(133)\n",
        "plt.plot(x_axis, df_metrics['Statistical Parity Q50'], 'o-', label='Statistical Parity')\n",
        "plt.plot(x_axis, df_metrics['Average Score Difference'], 'o-', label='Avg. Score diff.')\n",
        "plt.plot(x_axis, df_metrics['Correlation Difference'], 'o-', label='Corr. diff.')\n",
        "plt.plot(x_axis, np.zeros_like(df_metrics['Correlation Difference']), label='Reference')\n",
        "plt.legend(loc='upper left')\n",
        "plt.xlabel('Repair level')"
      ]
    },
    {
      "attachments": {},
      "cell_type": "markdown",
      "metadata": {
        "id": "pmMuSmUFzX7X"
      },
      "source": [
        "As expected, as the `repair_value` parameter increases, we get a better model in terms of fairness, but the RMSE value will be increased.\n",
        "\n",
        "In general, the selection of the model parameters will depend on our main objective, whether we are looking for fairness or accuracy.\n"
      ]
    },
    {
      "attachments": {},
      "cell_type": "markdown",
      "metadata": {
        "id": "io3YUNZf0LXR"
      },
      "source": [
        "# **Summary**\n",
        "Through this tutorial we could present to the user how the `holisticai` library can be easily used to measure the bias present in regression models by the application of the `regression_bias_metrics` function, which returns the calculated values for different metrics and their references respectively. \n",
        "\n",
        "In addition, we shown how to mitigate the bias by applying some methods, for this opportunity we applied the Disparate impact Remover technique to increase the fairness of a trained model, this is a pre-processing method that edits feature values to increase group fairness. Consequently we could observe how the metrics are influenced by varing the repair level parameter, and showing that this method increases the fairness of the model."
      ]
    },
    {
      "cell_type": "code",
      "execution_count": null,
      "metadata": {
        "id": "ykQiHfSjzHxe"
      },
      "outputs": [],
      "source": []
    }
  ],
  "metadata": {
    "colab": {
      "provenance": []
    },
    "kernelspec": {
      "display_name": "Python 3",
      "name": "python3"
    },
    "language_info": {
      "codemirror_mode": {
        "name": "ipython",
        "version": 3
      },
      "file_extension": ".py",
      "mimetype": "text/x-python",
      "name": "python",
      "nbconvert_exporter": "python",
      "pygments_lexer": "ipython3",
      "version": "3.9.8"
    }
  },
  "nbformat": 4,
  "nbformat_minor": 0
}
