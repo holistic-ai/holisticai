{
  "cells": [
    {
      "attachments": {},
      "cell_type": "markdown",
      "metadata": {
        "id": "JXWMczZ9VGnZ"
      },
      "source": [
        "# **Bias measuring and mitigation in regression tasks**\n",
        "\n",
        "The bias problem can appear in models when the predictions systematically deviate from the true values for certain subgroups in the dataset. This phenomenon can occur due to various reasons such as unbalanced groups in the training data, feature selection, or model specification. Because of this, the bias problem can appear in different tasks, being \"regression task\" one of them. \n",
        "\n",
        "There are various techniques to measure bias in regression tasks. One common approach is to use fairness metrics such as demographic parity, equalized odds, or equal opportunity, which quantify the differences in the model's performance across different subgroups based on sensitive attributes such as gender or race.\n",
        "\n",
        "Once bias is detected, we can employ different techniques to mitigate it. These methods can be grouped into three categories: Pre-processing, in-processing and post-processing methods. Pre-processing techniques are used to adjust the training data to remove bias, while in-processing methods are applied to build robust models against bias. Finally, post-processing techniques are used to adjust the model's predictions to remove bias.\n",
        "\n",
        "Through this tutorial, we pretend to present you tools which can be easily applied to measure and mitigate the presence of bias in regression models.\n",
        "\n",
        "We will follow the traditional outline for this tutorial:\n",
        "\n",
        "1. Data loading and packages installation\n",
        "2. Dataset preprocessing\n",
        "3. Data analysis\n",
        "4. Model training\n",
        "5. Bias measuring\n",
        "6. Bias mitigation\n",
        "7. Results comparison"
      ]
    },
    {
      "attachments": {},
      "cell_type": "markdown",
      "metadata": {},
      "source": [
        "## **1. Data loading and packages installation**\n",
        "\n",
        "First of all, we need to import the required packages to perform our bias analysis and mitigation. You will need to have the `holisticai` package installed on your system, remember that you can install it by running: \n",
        "```bash\n",
        "!pip install holisticai[all]\n",
        "```"
      ]
    },
    {
      "cell_type": "code",
      "execution_count": 1,
      "metadata": {
        "id": "cb0SfHEYJfNo"
      },
      "outputs": [],
      "source": [
        "import pandas as pd\n",
        "import numpy as np\n",
        "import matplotlib.pyplot as plt\n",
        "\n",
        "from sklearn.metrics import mean_squared_error"
      ]
    },
    {
      "cell_type": "code",
      "execution_count": 2,
      "metadata": {},
      "outputs": [],
      "source": [
        "np.random.seed(0)\n",
        "import warnings\n",
        "warnings.filterwarnings(\"ignore\")"
      ]
    },
    {
      "attachments": {},
      "cell_type": "markdown",
      "metadata": {},
      "source": [
        "## **2. Dataset preprocessing**"
      ]
    },
    {
      "attachments": {},
      "cell_type": "markdown",
      "metadata": {
        "id": "yBghLBcBVUkC"
      },
      "source": [
        "The dataset that we will use is the \"Communities and Crime\" dataset which is a publicly available dataset that contains socio-economic and law enforcement data for 1994 communities in the United States. This dataset contains demographic variables such as population size, race, and education level, as well as variables related to law enforcement. The objective is to predict the crime rate per capita in each community.\n",
        "\n",
        "Source: [UCI ML repository](https://archive.ics.uci.edu/ml/datasets/communities+and+crime)"
      ]
    },
    {
      "cell_type": "code",
      "execution_count": 3,
      "metadata": {
        "colab": {
          "base_uri": "https://localhost:8080/"
        },
        "id": "n_NMKLdDVZOt",
        "outputId": "606bad5f-623e-4c27-c866-b1d6766fee83"
      },
      "outputs": [],
      "source": [
        "from holisticai.datasets import load_dataset"
      ]
    },
    {
      "attachments": {},
      "cell_type": "markdown",
      "metadata": {},
      "source": [
        "To speed up the process, the `load_dataset` function of the *holisticai* package allows to return the raw dataset or the preprocessed dataset by setting the `preprocess` parameter to `True`. This function also allows to return the dataset and the protected as a pandas dataframe or as a numpy array. You will find more information about the target and the protected groups of this function in its documentation.\n",
        "\n",
        "In this tutorial, we will use the preprocessed dataset as a pandas dataframe."
      ]
    },
    {
      "cell_type": "code",
      "execution_count": 17,
      "metadata": {
        "colab": {
          "base_uri": "https://localhost:8080/",
          "height": 393
        },
        "id": "8QGLtWoVJoDk",
        "outputId": "d8e96f61-ffe4-440f-9c62-4c235be60ce6"
      },
      "outputs": [],
      "source": [
        "df, group_a, group_b = load_dataset(dataset='crime', preprocessed=True, as_array=False)"
      ]
    },
    {
      "cell_type": "code",
      "execution_count": 18,
      "metadata": {},
      "outputs": [
        {
          "data": {
            "text/plain": [
              "population             0\n",
              "householdsize          0\n",
              "numbUrban              0\n",
              "pctUrban               0\n",
              "medIncome              0\n",
              "                      ..\n",
              "LandArea               0\n",
              "PopDens                0\n",
              "PctUsePubTrans         0\n",
              "LemasPctOfficDrugUn    0\n",
              "ViolentCrimesPerPop    0\n",
              "Length: 93, dtype: int64"
            ]
          },
          "execution_count": 18,
          "metadata": {},
          "output_type": "execute_result"
        }
      ],
      "source": [
        "df.isna().sum()"
      ]
    },
    {
      "attachments": {},
      "cell_type": "markdown",
      "metadata": {
        "id": "55zlOUPpW8dH"
      },
      "source": [
        "Now that we have a clean dataset we can start defining the protected groups and the training and testing sets."
      ]
    },
    {
      "attachments": {},
      "cell_type": "markdown",
      "metadata": {
        "id": "pDz8Xi-2W-UY"
      },
      "source": [
        "## **3. Data analysis**\n",
        "\n",
        "Since this function already return the protected groups, we can start with the data analysis step. In this step, we will analyze the distribution of the data of the protected groups by using the `group_pie_plot` function. This function will plot the distribution of the data of the protected groups in a pie chart."
      ]
    },
    {
      "cell_type": "code",
      "execution_count": 19,
      "metadata": {
        "id": "ivo9UpXeJqDA"
      },
      "outputs": [
        {
          "data": {
            "text/plain": [
              "<Axes: >"
            ]
          },
          "execution_count": 19,
          "metadata": {},
          "output_type": "execute_result"
        },
        {
          "data": {
            "image/png": "[encoded data removed]",
            "text/plain": [
              "<Figure size 640x480 with 1 Axes>"
            ]
          },
          "metadata": {},
          "output_type": "display_data"
        }
      ],
      "source": [
        "from holisticai.bias.plots import group_pie_plot\n",
        "\n",
        "group_pie_plot(group_a)"
      ]
    },
    {
      "attachments": {},
      "cell_type": "markdown",
      "metadata": {
        "id": "_gRQjaoEXKqW"
      },
      "source": [
        "This graph show us that the proportion of white people (labelled as *True*) is very high compared to the remain races.\n",
        "\n",
        "Let's plot the columns with the highest correlations with respect to the target variable. To do this, we will use the `correlation_matrix_plot` function. "
      ]
    },
    {
      "cell_type": "code",
      "execution_count": 20,
      "metadata": {
        "id": "ZExvxblEXM_b"
      },
      "outputs": [
        {
          "data": {
            "text/plain": [
              "<Axes: >"
            ]
          },
          "execution_count": 20,
          "metadata": {},
          "output_type": "execute_result"
        },
        {
          "data": {
            "image/png": "[encoded data removed]",
            "text/plain": [
              "<Figure size 640x480 with 1 Axes>"
            ]
          },
          "metadata": {},
          "output_type": "display_data"
        }
      ],
      "source": [
        "from holisticai.bias.plots import correlation_matrix_plot\n",
        "\n",
        "correlation_matrix_plot(df, target_feature=\"ViolentCrimesPerPop\", n_features=10)"
      ]
    },
    {
      "cell_type": "code",
      "execution_count": 21,
      "metadata": {
        "id": "zUIabpDmV7RY"
      },
      "outputs": [
        {
          "data": {
            "text/plain": [
              "((1993, 92), (1993,))"
            ]
          },
          "execution_count": 21,
          "metadata": {},
          "output_type": "execute_result"
        }
      ],
      "source": [
        "X = df.values[:,:-1]\n",
        "y = df.values[:,-1]\n",
        "\n",
        "X.shape, y.shape"
      ]
    },
    {
      "cell_type": "code",
      "execution_count": 22,
      "metadata": {
        "id": "LUtCRqN2Vozb"
      },
      "outputs": [],
      "source": [
        "from sklearn.model_selection import train_test_split\n",
        "from sklearn.preprocessing import StandardScaler"
      ]
    },
    {
      "attachments": {},
      "cell_type": "markdown",
      "metadata": {},
      "source": [
        "To obtain properly values with the mitigator, we scale the objective column:"
      ]
    },
    {
      "cell_type": "code",
      "execution_count": 23,
      "metadata": {},
      "outputs": [],
      "source": [
        "scaler = StandardScaler()\n",
        "y = scaler.fit_transform(y.reshape(-1, 1))\n",
        "y = np.squeeze(y)"
      ]
    },
    {
      "cell_type": "code",
      "execution_count": 24,
      "metadata": {
        "id": "e1FVWNLPJ86z"
      },
      "outputs": [],
      "source": [
        "X_train,X_test,y_train,y_test, group_a_tr, group_a_ts, group_b_tr, group_b_ts = \\\n",
        "    train_test_split(X, y, group_a, group_b, test_size=0.3, random_state=100)\n",
        "train_data = X_train, y_train, group_a_tr, group_b_tr\n",
        "test_data  = X_test, y_test, group_a_ts, group_b_ts"
      ]
    },
    {
      "attachments": {},
      "cell_type": "markdown",
      "metadata": {
        "id": "L21_e4JxKHV3"
      },
      "source": [
        "## **4. Model training**\n",
        "\n",
        "Once we have defined the input and output sets, we can train a model as usual. Since the protected groups were separated from the dataset previously we do not need to take care of that in this opportunity, but do not forget to separate the protected attributes from the dataset, so that the model does not have any influence from these attributes in its training process. For the training process, we will use a traditional pipeline, we will fit and re-scale the training data, and then we will use the data to train a \"Linear regression\" model. When the model has been trained, we can use the predictions to calculate the fairness metrics of the model."
      ]
    },
    {
      "cell_type": "code",
      "execution_count": 25,
      "metadata": {
        "id": "VLM933LQJ_2l"
      },
      "outputs": [],
      "source": [
        "from sklearn.preprocessing import StandardScaler\n",
        "from sklearn.linear_model import LinearRegression\n",
        "from holisticai.pipeline import Pipeline"
      ]
    },
    {
      "cell_type": "code",
      "execution_count": 26,
      "metadata": {
        "colab": {
          "base_uri": "https://localhost:8080/"
        },
        "id": "xFq4uGn6KE4x",
        "outputId": "e39d56d8-18a4-4ff5-c131-db952b496fc1"
      },
      "outputs": [
        {
          "name": "stdout",
          "output_type": "stream",
          "text": [
            "RMS error: 0.5864697199928485\n"
          ]
        }
      ],
      "source": [
        "X, y, group_a, group_b = train_data\n",
        "\n",
        "scaler = StandardScaler()\n",
        "X = scaler.fit_transform(X)\n",
        "\n",
        "# Train a simple linear regression model\n",
        "LR = LinearRegression()\n",
        "model = LR.fit(X, y)\n",
        "\n",
        "X, y, group_a, group_b = test_data\n",
        "\n",
        "X = scaler.transform(X)\n",
        "\n",
        "# Predict values\n",
        "y_pred = model.predict(X)\n",
        "\n",
        "# Calculate the error\n",
        "baseline_rmse = mean_squared_error(y, y_pred, squared=False)\n",
        "print(\"RMS error: {}\".format(baseline_rmse))"
      ]
    },
    {
      "attachments": {},
      "cell_type": "markdown",
      "metadata": {
        "id": "jLolltReXrMC"
      },
      "source": [
        "The fairness of the model can be calculated using the predictions of the model and the protected groups defined previously. The `holisticai` contains a module that calculates a set of metrics useful in evaluating the fairness of algorithmic decisions. For our case, we will use the `regression_bias_metrics` function which allows us to select which metrics we want to calculate, if `equal_outcome`, `equal_opportunity` or `both`, where equal_outcome shows how disadvantaged groups are treated by the model and equal_opportunity shows if all the groups have the same opportunities."
      ]
    },
    {
      "cell_type": "code",
      "execution_count": 27,
      "metadata": {
        "id": "EEpfxlczXuV4"
      },
      "outputs": [],
      "source": [
        "from holisticai.bias.metrics import regression_bias_metrics"
      ]
    },
    {
      "cell_type": "code",
      "execution_count": 28,
      "metadata": {
        "colab": {
          "base_uri": "https://localhost:8080/",
          "height": 551
        },
        "id": "ICMKNDHLXvIF",
        "outputId": "ae0bf05c-7fff-4493-e99d-4b3100a16540"
      },
      "outputs": [
        {
          "data": {
            "text/html": [
              "<div>\n",
              "<style scoped>\n",
              "    .dataframe tbody tr th:only-of-type {\n",
              "        vertical-align: middle;\n",
              "    }\n",
              "\n",
              "    .dataframe tbody tr th {\n",
              "        vertical-align: top;\n",
              "    }\n",
              "\n",
              "    .dataframe thead th {\n",
              "        text-align: right;\n",
              "    }\n",
              "</style>\n",
              "<table border=\"1\" class=\"dataframe\">\n",
              "  <thead>\n",
              "    <tr style=\"text-align: right;\">\n",
              "      <th></th>\n",
              "      <th>Value</th>\n",
              "      <th>Reference</th>\n",
              "    </tr>\n",
              "    <tr>\n",
              "      <th>Metric</th>\n",
              "      <th></th>\n",
              "      <th></th>\n",
              "    </tr>\n",
              "  </thead>\n",
              "  <tbody>\n",
              "    <tr>\n",
              "      <th>Disparate Impact Q90</th>\n",
              "      <td>0.017601</td>\n",
              "      <td>1</td>\n",
              "    </tr>\n",
              "    <tr>\n",
              "      <th>Disparate Impact Q80</th>\n",
              "      <td>0.116168</td>\n",
              "      <td>1</td>\n",
              "    </tr>\n",
              "    <tr>\n",
              "      <th>Disparate Impact Q50</th>\n",
              "      <td>0.422241</td>\n",
              "      <td>1</td>\n",
              "    </tr>\n",
              "    <tr>\n",
              "      <th>Statistical Parity Q50</th>\n",
              "      <td>-0.683376</td>\n",
              "      <td>0</td>\n",
              "    </tr>\n",
              "    <tr>\n",
              "      <th>No Disparate Impact Level</th>\n",
              "      <td>-0.757714</td>\n",
              "      <td>-</td>\n",
              "    </tr>\n",
              "    <tr>\n",
              "      <th>Average Score Difference</th>\n",
              "      <td>-1.583636</td>\n",
              "      <td>0</td>\n",
              "    </tr>\n",
              "    <tr>\n",
              "      <th>Average Score Ratio</th>\n",
              "      <td>-0.203326</td>\n",
              "      <td>1</td>\n",
              "    </tr>\n",
              "    <tr>\n",
              "      <th>Z Score Difference</th>\n",
              "      <td>-2.493148</td>\n",
              "      <td>0</td>\n",
              "    </tr>\n",
              "    <tr>\n",
              "      <th>Max Statistical Parity</th>\n",
              "      <td>0.732576</td>\n",
              "      <td>0</td>\n",
              "    </tr>\n",
              "    <tr>\n",
              "      <th>Statistical Parity AUC</th>\n",
              "      <td>0.428375</td>\n",
              "      <td>0</td>\n",
              "    </tr>\n",
              "    <tr>\n",
              "      <th>RMSE Ratio</th>\n",
              "      <td>0.621101</td>\n",
              "      <td>1</td>\n",
              "    </tr>\n",
              "    <tr>\n",
              "      <th>RMSE Ratio Q80</th>\n",
              "      <td>0.816122</td>\n",
              "      <td>1</td>\n",
              "    </tr>\n",
              "    <tr>\n",
              "      <th>MAE Ratio</th>\n",
              "      <td>0.551050</td>\n",
              "      <td>1</td>\n",
              "    </tr>\n",
              "    <tr>\n",
              "      <th>MAE Ratio Q80</th>\n",
              "      <td>0.828284</td>\n",
              "      <td>1</td>\n",
              "    </tr>\n",
              "    <tr>\n",
              "      <th>Correlation Difference</th>\n",
              "      <td>0.014830</td>\n",
              "      <td>0</td>\n",
              "    </tr>\n",
              "  </tbody>\n",
              "</table>\n",
              "</div>"
            ],
            "text/plain": [
              "                              Value Reference\n",
              "Metric                                       \n",
              "Disparate Impact Q90       0.017601         1\n",
              "Disparate Impact Q80       0.116168         1\n",
              "Disparate Impact Q50       0.422241         1\n",
              "Statistical Parity Q50    -0.683376         0\n",
              "No Disparate Impact Level -0.757714         -\n",
              "Average Score Difference  -1.583636         0\n",
              "Average Score Ratio       -0.203326         1\n",
              "Z Score Difference        -2.493148         0\n",
              "Max Statistical Parity     0.732576         0\n",
              "Statistical Parity AUC     0.428375         0\n",
              "RMSE Ratio                 0.621101         1\n",
              "RMSE Ratio Q80             0.816122         1\n",
              "MAE Ratio                  0.551050         1\n",
              "MAE Ratio Q80              0.828284         1\n",
              "Correlation Difference     0.014830         0"
            ]
          },
          "execution_count": 28,
          "metadata": {},
          "output_type": "execute_result"
        }
      ],
      "source": [
        "df = regression_bias_metrics(\n",
        "    group_a,\n",
        "    group_b,\n",
        "    y_pred,\n",
        "    y,\n",
        "    metric_type='both'\n",
        ")\n",
        "y_baseline = y_pred.copy()\n",
        "df_baseline=df.copy()\n",
        "df_baseline"
      ]
    },
    {
      "attachments": {},
      "cell_type": "markdown",
      "metadata": {
        "id": "DrRJJdVsX0EP"
      },
      "source": [
        "For example:\n",
        "\n",
        "*   **Disparate Impact Q:** Shows the ratio of success rates between the protected groups for a certain quantile. Values below 1 are unfair towards `group_a`. Values above 1 are unfair towards `group_b`. The range (0.8, 1.2) is considered acceptable.\n",
        "*   **Statistical parity:** Computes the difference in success rates between the protected groups. Values below 0 are considered unfair towards `group_a` while values above 0 are considered unfair towards `group_b`.\n",
        "*   **Average score difference:** Computes the difference in average scores between the protected groups. Negative values indicate that `group_a` has a lower average score, so bias against `group_a`, while positive values indicate `group_b` has a lower average score, so bias against `group_b`.\n",
        "*   **Z score difference:** Computes the spread in Zscores between the protected groups, the Zscore is a normalised version of Disparate Impact.\n",
        "*   **Max Statistical Parity:** Computes the maximum overall thresholds of the absolute statistical parity between the protected groups, values below 0.1 in absolute value are considered acceptable.\n",
        "*   **RMSE ratio:** Computes the RMSE for the protected groups, lower values show bias against `group_a` while higher values show bias against `group_b`.\n",
        "*   **MAE ratio:** Similar to the previous metric, computes the MAE for the protected groups, lower values show bias against `group_a` while higher values show bias against `group_b`.\n",
        "*   **Correlation difference:** Computes the difference in correlation between predictions and targets for the protected groups, positive values show bias against `group_a` while negative values show bias against `group_b`.\n",
        "\n",
        "\n",
        "Source: [*HolisticAI docs*](https://holisticai.readthedocs.io/en/latest/metrics.html#regression)"
      ]
    },
    {
      "attachments": {},
      "cell_type": "markdown",
      "metadata": {
        "id": "3gx__DiQKeiA"
      },
      "source": [
        "## **6. Bias mitigation**\n",
        "### **Postprocessing - Plugin estimator and calibrator**\n",
        "\n",
        "Now that we could observe that the model metrics are far away from the desired values, we need to apply some kind of strategy to mitigate the bias present in the model.\n",
        "\n",
        "Exists different kinds of strategies, and the literature has divided them into three categories: *Pre-processing*, *in-processing* and *post-processing* methods. The `holisticai` library possesses different algorithms from these categories for bias mitigation. An interesting feature is that all of them are compatible with the `Scikit-learn` package, so that, if you are familiar with this package, you will not have problems using the library. As you will see later, its implementation can be done following the traditional way, or by applying the pipeline. \n",
        "\n",
        "For this opportunity, we will implement the \"Plugin estimator and calibrator\" method which is an post-processing technique that optimizes over calibrated regressor outputs via a smooth optimization. Moreover the rates of convergence of the proposed estimator are derived in terms of the risk and fairness constraint."
      ]
    },
    {
      "attachments": {},
      "cell_type": "markdown",
      "metadata": {
        "id": "7ZnbetpsKhxd"
      },
      "source": [
        "### **Traditional implementation**"
      ]
    },
    {
      "cell_type": "code",
      "execution_count": 29,
      "metadata": {
        "id": "UbylXQcaKVfo"
      },
      "outputs": [],
      "source": [
        "from holisticai.bias.mitigation import PluginEstimationAndCalibration"
      ]
    },
    {
      "cell_type": "code",
      "execution_count": 30,
      "metadata": {
        "colab": {
          "base_uri": "https://localhost:8080/",
          "height": 568
        },
        "id": "0N53PlHGLWw9",
        "outputId": "01745352-47a0-465d-fb0e-0f7ad0c4a609"
      },
      "outputs": [
        {
          "name": "stdout",
          "output_type": "stream",
          "text": [
            "(598,)\n"
          ]
        },
        {
          "data": {
            "text/html": [
              "<div>\n",
              "<style scoped>\n",
              "    .dataframe tbody tr th:only-of-type {\n",
              "        vertical-align: middle;\n",
              "    }\n",
              "\n",
              "    .dataframe tbody tr th {\n",
              "        vertical-align: top;\n",
              "    }\n",
              "\n",
              "    .dataframe thead th {\n",
              "        text-align: right;\n",
              "    }\n",
              "</style>\n",
              "<table border=\"1\" class=\"dataframe\">\n",
              "  <thead>\n",
              "    <tr style=\"text-align: right;\">\n",
              "      <th></th>\n",
              "      <th>Value</th>\n",
              "      <th>Reference</th>\n",
              "    </tr>\n",
              "    <tr>\n",
              "      <th>Metric</th>\n",
              "      <th></th>\n",
              "      <th></th>\n",
              "    </tr>\n",
              "  </thead>\n",
              "  <tbody>\n",
              "    <tr>\n",
              "      <th>Disparate Impact Q90</th>\n",
              "      <td>0.290419</td>\n",
              "      <td>1</td>\n",
              "    </tr>\n",
              "    <tr>\n",
              "      <th>Disparate Impact Q80</th>\n",
              "      <td>0.640925</td>\n",
              "      <td>1</td>\n",
              "    </tr>\n",
              "    <tr>\n",
              "      <th>Disparate Impact Q50</th>\n",
              "      <td>1.000000</td>\n",
              "      <td>1</td>\n",
              "    </tr>\n",
              "    <tr>\n",
              "      <th>Statistical Parity Q50</th>\n",
              "      <td>-0.107352</td>\n",
              "      <td>0</td>\n",
              "    </tr>\n",
              "    <tr>\n",
              "      <th>No Disparate Impact Level</th>\n",
              "      <td>0.291667</td>\n",
              "      <td>-</td>\n",
              "    </tr>\n",
              "    <tr>\n",
              "      <th>Average Score Difference</th>\n",
              "      <td>-0.078676</td>\n",
              "      <td>0</td>\n",
              "    </tr>\n",
              "    <tr>\n",
              "      <th>Average Score Ratio</th>\n",
              "      <td>0.730254</td>\n",
              "      <td>1</td>\n",
              "    </tr>\n",
              "    <tr>\n",
              "      <th>Z Score Difference</th>\n",
              "      <td>-0.235603</td>\n",
              "      <td>0</td>\n",
              "    </tr>\n",
              "    <tr>\n",
              "      <th>Max Statistical Parity</th>\n",
              "      <td>0.207503</td>\n",
              "      <td>0</td>\n",
              "    </tr>\n",
              "    <tr>\n",
              "      <th>Statistical Parity AUC</th>\n",
              "      <td>0.053173</td>\n",
              "      <td>0</td>\n",
              "    </tr>\n",
              "    <tr>\n",
              "      <th>RMSE Ratio</th>\n",
              "      <td>0.524743</td>\n",
              "      <td>1</td>\n",
              "    </tr>\n",
              "    <tr>\n",
              "      <th>RMSE Ratio Q80</th>\n",
              "      <td>0.482176</td>\n",
              "      <td>1</td>\n",
              "    </tr>\n",
              "    <tr>\n",
              "      <th>MAE Ratio</th>\n",
              "      <td>0.592064</td>\n",
              "      <td>1</td>\n",
              "    </tr>\n",
              "    <tr>\n",
              "      <th>MAE Ratio Q80</th>\n",
              "      <td>0.444951</td>\n",
              "      <td>1</td>\n",
              "    </tr>\n",
              "    <tr>\n",
              "      <th>Correlation Difference</th>\n",
              "      <td>0.133351</td>\n",
              "      <td>0</td>\n",
              "    </tr>\n",
              "  </tbody>\n",
              "</table>\n",
              "</div>"
            ],
            "text/plain": [
              "                              Value Reference\n",
              "Metric                                       \n",
              "Disparate Impact Q90       0.290419         1\n",
              "Disparate Impact Q80       0.640925         1\n",
              "Disparate Impact Q50       1.000000         1\n",
              "Statistical Parity Q50    -0.107352         0\n",
              "No Disparate Impact Level  0.291667         -\n",
              "Average Score Difference  -0.078676         0\n",
              "Average Score Ratio        0.730254         1\n",
              "Z Score Difference        -0.235603         0\n",
              "Max Statistical Parity     0.207503         0\n",
              "Statistical Parity AUC     0.053173         0\n",
              "RMSE Ratio                 0.524743         1\n",
              "RMSE Ratio Q80             0.482176         1\n",
              "MAE Ratio                  0.592064         1\n",
              "MAE Ratio Q80              0.444951         1\n",
              "Correlation Difference     0.133351         0"
            ]
          },
          "execution_count": 30,
          "metadata": {},
          "output_type": "execute_result"
        }
      ],
      "source": [
        "model = LinearRegression()\n",
        "X, y, group_a, group_b = train_data\n",
        "\n",
        "scaler = StandardScaler()\n",
        "X = scaler.fit_transform(X)\n",
        "\n",
        "model.fit(X, y)\n",
        "y_pred = model.predict(X)\n",
        "\n",
        "post_processer = PluginEstimationAndCalibration()\n",
        "post_processer.fit_transform(y_pred, group_a, group_b)\n",
        "\n",
        "X, y, group_a, group_b = test_data\n",
        "\n",
        "X = scaler.transform(X)\n",
        "\n",
        "y_pred = model.predict(X)\n",
        "\n",
        "y_pred = post_processer.transform(y_pred, group_a, group_b)['y_pred']\n",
        "\n",
        "print(y.shape)\n",
        "\n",
        "df = regression_bias_metrics(\n",
        "    group_a,\n",
        "    group_b,\n",
        "    y_pred,\n",
        "    y,\n",
        "    metric_type='both'\n",
        ")\n",
        "y_pec  = y_pred.copy()\n",
        "df_pec =df.copy()\n",
        "df_pec"
      ]
    },
    {
      "cell_type": "code",
      "execution_count": 53,
      "metadata": {
        "colab": {
          "base_uri": "https://localhost:8080/"
        },
        "id": "nq98y3dAYe5z",
        "outputId": "422baee2-9978-464c-f30a-a778c7f241e8"
      },
      "outputs": [
        {
          "name": "stdout",
          "output_type": "stream",
          "text": [
            "RMS error: 0.8779320431747413\n"
          ]
        }
      ],
      "source": [
        "pec_rmse = mean_squared_error(y, y_pred, squared=False)\n",
        "print(\"RMS error: {}\".format(pec_rmse))"
      ]
    },
    {
      "attachments": {},
      "cell_type": "markdown",
      "metadata": {
        "id": "sUUZTGK1Mfjv"
      },
      "source": [
        "### **Pipeline implementation**\n",
        "\n",
        "Now that we could see how this method is implemented traditionally, let's try implementing it by using the Scikit-learn Pipeline! Notice that we shouldn't have variations in the metrics for the previous implementation."
      ]
    },
    {
      "cell_type": "code",
      "execution_count": 26,
      "metadata": {
        "colab": {
          "base_uri": "https://localhost:8080/",
          "height": 551
        },
        "id": "x4vl8cM1K6K2",
        "outputId": "b3f76276-64e5-4404-89c7-0d98fae0161c"
      },
      "outputs": [
        {
          "data": {
            "text/html": [
              "\n",
              "  <div id=\"df-dfa8ad43-21f3-4787-9cc4-5618fd51c788\">\n",
              "    <div class=\"colab-df-container\">\n",
              "      <div>\n",
              "<style scoped>\n",
              "    .dataframe tbody tr th:only-of-type {\n",
              "        vertical-align: middle;\n",
              "    }\n",
              "\n",
              "    .dataframe tbody tr th {\n",
              "        vertical-align: top;\n",
              "    }\n",
              "\n",
              "    .dataframe thead th {\n",
              "        text-align: right;\n",
              "    }\n",
              "</style>\n",
              "<table border=\"1\" class=\"dataframe\">\n",
              "  <thead>\n",
              "    <tr style=\"text-align: right;\">\n",
              "      <th></th>\n",
              "      <th>Value</th>\n",
              "      <th>Reference</th>\n",
              "    </tr>\n",
              "    <tr>\n",
              "      <th>Metric</th>\n",
              "      <th></th>\n",
              "      <th></th>\n",
              "    </tr>\n",
              "  </thead>\n",
              "  <tbody>\n",
              "    <tr>\n",
              "      <th>Disparate Impact Q90</th>\n",
              "      <td>0.290419</td>\n",
              "      <td>1</td>\n",
              "    </tr>\n",
              "    <tr>\n",
              "      <th>Disparate Impact Q80</th>\n",
              "      <td>0.640925</td>\n",
              "      <td>1</td>\n",
              "    </tr>\n",
              "    <tr>\n",
              "      <th>Disparate Impact Q50</th>\n",
              "      <td>1.000000</td>\n",
              "      <td>1</td>\n",
              "    </tr>\n",
              "    <tr>\n",
              "      <th>Statistical Parity Q50</th>\n",
              "      <td>-0.107352</td>\n",
              "      <td>0</td>\n",
              "    </tr>\n",
              "    <tr>\n",
              "      <th>No Disparate Impact Level</th>\n",
              "      <td>0.291667</td>\n",
              "      <td>-</td>\n",
              "    </tr>\n",
              "    <tr>\n",
              "      <th>Average Score Difference</th>\n",
              "      <td>-0.078676</td>\n",
              "      <td>0</td>\n",
              "    </tr>\n",
              "    <tr>\n",
              "      <th>Average Score Ratio</th>\n",
              "      <td>0.730254</td>\n",
              "      <td>1</td>\n",
              "    </tr>\n",
              "    <tr>\n",
              "      <th>Z Score Difference</th>\n",
              "      <td>-0.235603</td>\n",
              "      <td>0</td>\n",
              "    </tr>\n",
              "    <tr>\n",
              "      <th>Max Statistical Parity</th>\n",
              "      <td>0.207503</td>\n",
              "      <td>0</td>\n",
              "    </tr>\n",
              "    <tr>\n",
              "      <th>Statistical Parity AUC</th>\n",
              "      <td>0.053173</td>\n",
              "      <td>0</td>\n",
              "    </tr>\n",
              "    <tr>\n",
              "      <th>RMSE Ratio</th>\n",
              "      <td>0.524743</td>\n",
              "      <td>1</td>\n",
              "    </tr>\n",
              "    <tr>\n",
              "      <th>RMSE Ratio Q80</th>\n",
              "      <td>0.482176</td>\n",
              "      <td>1</td>\n",
              "    </tr>\n",
              "    <tr>\n",
              "      <th>MAE Ratio</th>\n",
              "      <td>0.592064</td>\n",
              "      <td>1</td>\n",
              "    </tr>\n",
              "    <tr>\n",
              "      <th>MAE Ratio Q80</th>\n",
              "      <td>0.444951</td>\n",
              "      <td>1</td>\n",
              "    </tr>\n",
              "    <tr>\n",
              "      <th>Correlation Difference</th>\n",
              "      <td>0.133351</td>\n",
              "      <td>0</td>\n",
              "    </tr>\n",
              "  </tbody>\n",
              "</table>\n",
              "</div>\n",
              "      <button class=\"colab-df-convert\" onclick=\"convertToInteractive('df-dfa8ad43-21f3-4787-9cc4-5618fd51c788')\"\n",
              "              title=\"Convert this dataframe to an interactive table.\"\n",
              "              style=\"display:none;\">\n",
              "        \n",
              "  <svg xmlns=\"http://www.w3.org/2000/svg\" height=\"24px\"viewBox=\"0 0 24 24\"\n",
              "       width=\"24px\">\n",
              "    <path d=\"M0 0h24v24H0V0z\" fill=\"none\"/>\n",
              "    <path d=\"M18.56 5.44l.94 2.06.94-2.06 2.06-.94-2.06-.94-.94-2.06-.94 2.06-2.06.94zm-11 1L8.5 8.5l.94-2.06 2.06-.94-2.06-.94L8.5 2.5l-.94 2.06-2.06.94zm10 10l.94 2.06.94-2.06 2.06-.94-2.06-.94-.94-2.06-.94 2.06-2.06.94z\"/><path d=\"M17.41 7.96l-1.37-1.37c-.4-.4-.92-.59-1.43-.59-.52 0-1.04.2-1.43.59L10.3 9.45l-7.72 7.72c-.78.78-.78 2.05 0 2.83L4 21.41c.39.39.9.59 1.41.59.51 0 1.02-.2 1.41-.59l7.78-7.78 2.81-2.81c.8-.78.8-2.07 0-2.86zM5.41 20L4 18.59l7.72-7.72 1.47 1.35L5.41 20z\"/>\n",
              "  </svg>\n",
              "      </button>\n",
              "      \n",
              "  <style>\n",
              "    .colab-df-container {\n",
              "      display:flex;\n",
              "      flex-wrap:wrap;\n",
              "      gap: 12px;\n",
              "    }\n",
              "\n",
              "    .colab-df-convert {\n",
              "      background-color: #E8F0FE;\n",
              "      border: none;\n",
              "      border-radius: 50%;\n",
              "      cursor: pointer;\n",
              "      display: none;\n",
              "      fill: #1967D2;\n",
              "      height: 32px;\n",
              "      padding: 0 0 0 0;\n",
              "      width: 32px;\n",
              "    }\n",
              "\n",
              "    .colab-df-convert:hover {\n",
              "      background-color: #E2EBFA;\n",
              "      box-shadow: 0px 1px 2px rgba(60, 64, 67, 0.3), 0px 1px 3px 1px rgba(60, 64, 67, 0.15);\n",
              "      fill: #174EA6;\n",
              "    }\n",
              "\n",
              "    [theme=dark] .colab-df-convert {\n",
              "      background-color: #3B4455;\n",
              "      fill: #D2E3FC;\n",
              "    }\n",
              "\n",
              "    [theme=dark] .colab-df-convert:hover {\n",
              "      background-color: #434B5C;\n",
              "      box-shadow: 0px 1px 3px 1px rgba(0, 0, 0, 0.15);\n",
              "      filter: drop-shadow(0px 1px 2px rgba(0, 0, 0, 0.3));\n",
              "      fill: #FFFFFF;\n",
              "    }\n",
              "  </style>\n",
              "\n",
              "      <script>\n",
              "        const buttonEl =\n",
              "          document.querySelector('#df-dfa8ad43-21f3-4787-9cc4-5618fd51c788 button.colab-df-convert');\n",
              "        buttonEl.style.display =\n",
              "          google.colab.kernel.accessAllowed ? 'block' : 'none';\n",
              "\n",
              "        async function convertToInteractive(key) {\n",
              "          const element = document.querySelector('#df-dfa8ad43-21f3-4787-9cc4-5618fd51c788');\n",
              "          const dataTable =\n",
              "            await google.colab.kernel.invokeFunction('convertToInteractive',\n",
              "                                                     [key], {});\n",
              "          if (!dataTable) return;\n",
              "\n",
              "          const docLinkHtml = 'Like what you see? Visit the ' +\n",
              "            '<a target=\"_blank\" href=https://colab.research.google.com/notebooks/data_table.ipynb>data table notebook</a>'\n",
              "            + ' to learn more about interactive tables.';\n",
              "          element.innerHTML = '';\n",
              "          dataTable['output_type'] = 'display_data';\n",
              "          await google.colab.output.renderOutput(dataTable, element);\n",
              "          const docLink = document.createElement('div');\n",
              "          docLink.innerHTML = docLinkHtml;\n",
              "          element.appendChild(docLink);\n",
              "        }\n",
              "      </script>\n",
              "    </div>\n",
              "  </div>\n",
              "  "
            ],
            "text/plain": [
              "                              Value Reference\n",
              "Metric                                       \n",
              "Disparate Impact Q90       0.290419         1\n",
              "Disparate Impact Q80       0.640925         1\n",
              "Disparate Impact Q50       1.000000         1\n",
              "Statistical Parity Q50    -0.107352         0\n",
              "No Disparate Impact Level  0.291667         -\n",
              "Average Score Difference  -0.078676         0\n",
              "Average Score Ratio        0.730254         1\n",
              "Z Score Difference        -0.235603         0\n",
              "Max Statistical Parity     0.207503         0\n",
              "Statistical Parity AUC     0.053173         0\n",
              "RMSE Ratio                 0.524743         1\n",
              "RMSE Ratio Q80             0.482176         1\n",
              "MAE Ratio                  0.592064         1\n",
              "MAE Ratio Q80              0.444951         1\n",
              "Correlation Difference     0.133351         0"
            ]
          },
          "execution_count": 26,
          "metadata": {},
          "output_type": "execute_result"
        }
      ],
      "source": [
        "model = LinearRegression()\n",
        "pipeline = Pipeline(\n",
        "    steps=[\n",
        "        ('scalar', StandardScaler()),\n",
        "        (\"model\", model),\n",
        "        (\"bm_postprocessing\", PluginEstimationAndCalibration()),\n",
        "    ]\n",
        ")\n",
        "\n",
        "X, y, group_a, group_b = train_data\n",
        "fit_params = {\n",
        "    \"bm__group_a\": group_a, \n",
        "    \"bm__group_b\": group_b\n",
        "}\n",
        "\n",
        "pipeline.fit(X, y, **fit_params)\n",
        "\n",
        "X, y, group_a, group_b = test_data\n",
        "predict_params = {\n",
        "    \"bm__group_a\": group_a,\n",
        "    \"bm__group_b\": group_b,\n",
        "}\n",
        "y_pred = pipeline.predict(X, **predict_params)\n",
        "df = regression_bias_metrics(\n",
        "    group_a,\n",
        "    group_b,\n",
        "    y_pred,\n",
        "    y,\n",
        "    metric_type='both'\n",
        ")\n",
        "y_pec  = y_pred.copy()\n",
        "df_pec_w_p =df.copy()\n",
        "df_pec_w_p"
      ]
    },
    {
      "attachments": {},
      "cell_type": "markdown",
      "metadata": {
        "id": "4PK-M6o5LvYs"
      },
      "source": [
        "## **7. Results comparison**\n",
        "\n",
        "Now that we could observe how is the implementation of the mitigator in the model, we will compare the results between the baseline and the implementations with the mitigator to analyse how the metrics have changed."
      ]
    },
    {
      "cell_type": "code",
      "execution_count": 27,
      "metadata": {
        "colab": {
          "base_uri": "https://localhost:8080/",
          "height": 551
        },
        "id": "pNVKX4kKLpsz",
        "outputId": "84ba1562-bd21-4230-eeb1-758b9071eae8"
      },
      "outputs": [
        {
          "data": {
            "text/html": [
              "\n",
              "  <div id=\"df-ca219a6d-2ec2-4c43-afc5-9706925a9939\">\n",
              "    <div class=\"colab-df-container\">\n",
              "      <div>\n",
              "<style scoped>\n",
              "    .dataframe tbody tr th:only-of-type {\n",
              "        vertical-align: middle;\n",
              "    }\n",
              "\n",
              "    .dataframe tbody tr th {\n",
              "        vertical-align: top;\n",
              "    }\n",
              "\n",
              "    .dataframe thead th {\n",
              "        text-align: right;\n",
              "    }\n",
              "</style>\n",
              "<table border=\"1\" class=\"dataframe\">\n",
              "  <thead>\n",
              "    <tr style=\"text-align: right;\">\n",
              "      <th></th>\n",
              "      <th>Baseline</th>\n",
              "      <th>Mitigator without pipeline</th>\n",
              "      <th>Mitigator with pipeline</th>\n",
              "      <th>Reference</th>\n",
              "    </tr>\n",
              "    <tr>\n",
              "      <th>Metric</th>\n",
              "      <th></th>\n",
              "      <th></th>\n",
              "      <th></th>\n",
              "      <th></th>\n",
              "    </tr>\n",
              "  </thead>\n",
              "  <tbody>\n",
              "    <tr>\n",
              "      <th>Disparate Impact Q90</th>\n",
              "      <td>0.017601</td>\n",
              "      <td>0.290419</td>\n",
              "      <td>0.290419</td>\n",
              "      <td>1</td>\n",
              "    </tr>\n",
              "    <tr>\n",
              "      <th>Disparate Impact Q80</th>\n",
              "      <td>0.116168</td>\n",
              "      <td>0.640925</td>\n",
              "      <td>0.640925</td>\n",
              "      <td>1</td>\n",
              "    </tr>\n",
              "    <tr>\n",
              "      <th>Disparate Impact Q50</th>\n",
              "      <td>0.422241</td>\n",
              "      <td>1.000000</td>\n",
              "      <td>1.000000</td>\n",
              "      <td>1</td>\n",
              "    </tr>\n",
              "    <tr>\n",
              "      <th>Statistical Parity Q50</th>\n",
              "      <td>-0.683376</td>\n",
              "      <td>-0.107352</td>\n",
              "      <td>-0.107352</td>\n",
              "      <td>0</td>\n",
              "    </tr>\n",
              "    <tr>\n",
              "      <th>No Disparate Impact Level</th>\n",
              "      <td>-0.757714</td>\n",
              "      <td>0.291667</td>\n",
              "      <td>0.291667</td>\n",
              "      <td>-</td>\n",
              "    </tr>\n",
              "    <tr>\n",
              "      <th>Average Score Difference</th>\n",
              "      <td>-1.583636</td>\n",
              "      <td>-0.078676</td>\n",
              "      <td>-0.078676</td>\n",
              "      <td>0</td>\n",
              "    </tr>\n",
              "    <tr>\n",
              "      <th>Average Score Ratio</th>\n",
              "      <td>-0.203326</td>\n",
              "      <td>0.730254</td>\n",
              "      <td>0.730254</td>\n",
              "      <td>1</td>\n",
              "    </tr>\n",
              "    <tr>\n",
              "      <th>Z Score Difference</th>\n",
              "      <td>-2.493148</td>\n",
              "      <td>-0.235603</td>\n",
              "      <td>-0.235603</td>\n",
              "      <td>0</td>\n",
              "    </tr>\n",
              "    <tr>\n",
              "      <th>Max Statistical Parity</th>\n",
              "      <td>0.732576</td>\n",
              "      <td>0.207503</td>\n",
              "      <td>0.207503</td>\n",
              "      <td>0</td>\n",
              "    </tr>\n",
              "    <tr>\n",
              "      <th>Statistical Parity AUC</th>\n",
              "      <td>0.428375</td>\n",
              "      <td>0.053173</td>\n",
              "      <td>0.053173</td>\n",
              "      <td>0</td>\n",
              "    </tr>\n",
              "    <tr>\n",
              "      <th>RMSE Ratio</th>\n",
              "      <td>0.621101</td>\n",
              "      <td>0.524743</td>\n",
              "      <td>0.524743</td>\n",
              "      <td>1</td>\n",
              "    </tr>\n",
              "    <tr>\n",
              "      <th>RMSE Ratio Q80</th>\n",
              "      <td>0.816122</td>\n",
              "      <td>0.482176</td>\n",
              "      <td>0.482176</td>\n",
              "      <td>1</td>\n",
              "    </tr>\n",
              "    <tr>\n",
              "      <th>MAE Ratio</th>\n",
              "      <td>0.551050</td>\n",
              "      <td>0.592064</td>\n",
              "      <td>0.592064</td>\n",
              "      <td>1</td>\n",
              "    </tr>\n",
              "    <tr>\n",
              "      <th>MAE Ratio Q80</th>\n",
              "      <td>0.828284</td>\n",
              "      <td>0.444951</td>\n",
              "      <td>0.444951</td>\n",
              "      <td>1</td>\n",
              "    </tr>\n",
              "    <tr>\n",
              "      <th>Correlation Difference</th>\n",
              "      <td>0.014830</td>\n",
              "      <td>0.133351</td>\n",
              "      <td>0.133351</td>\n",
              "      <td>0</td>\n",
              "    </tr>\n",
              "  </tbody>\n",
              "</table>\n",
              "</div>\n",
              "      <button class=\"colab-df-convert\" onclick=\"convertToInteractive('df-ca219a6d-2ec2-4c43-afc5-9706925a9939')\"\n",
              "              title=\"Convert this dataframe to an interactive table.\"\n",
              "              style=\"display:none;\">\n",
              "        \n",
              "  <svg xmlns=\"http://www.w3.org/2000/svg\" height=\"24px\"viewBox=\"0 0 24 24\"\n",
              "       width=\"24px\">\n",
              "    <path d=\"M0 0h24v24H0V0z\" fill=\"none\"/>\n",
              "    <path d=\"M18.56 5.44l.94 2.06.94-2.06 2.06-.94-2.06-.94-.94-2.06-.94 2.06-2.06.94zm-11 1L8.5 8.5l.94-2.06 2.06-.94-2.06-.94L8.5 2.5l-.94 2.06-2.06.94zm10 10l.94 2.06.94-2.06 2.06-.94-2.06-.94-.94-2.06-.94 2.06-2.06.94z\"/><path d=\"M17.41 7.96l-1.37-1.37c-.4-.4-.92-.59-1.43-.59-.52 0-1.04.2-1.43.59L10.3 9.45l-7.72 7.72c-.78.78-.78 2.05 0 2.83L4 21.41c.39.39.9.59 1.41.59.51 0 1.02-.2 1.41-.59l7.78-7.78 2.81-2.81c.8-.78.8-2.07 0-2.86zM5.41 20L4 18.59l7.72-7.72 1.47 1.35L5.41 20z\"/>\n",
              "  </svg>\n",
              "      </button>\n",
              "      \n",
              "  <style>\n",
              "    .colab-df-container {\n",
              "      display:flex;\n",
              "      flex-wrap:wrap;\n",
              "      gap: 12px;\n",
              "    }\n",
              "\n",
              "    .colab-df-convert {\n",
              "      background-color: #E8F0FE;\n",
              "      border: none;\n",
              "      border-radius: 50%;\n",
              "      cursor: pointer;\n",
              "      display: none;\n",
              "      fill: #1967D2;\n",
              "      height: 32px;\n",
              "      padding: 0 0 0 0;\n",
              "      width: 32px;\n",
              "    }\n",
              "\n",
              "    .colab-df-convert:hover {\n",
              "      background-color: #E2EBFA;\n",
              "      box-shadow: 0px 1px 2px rgba(60, 64, 67, 0.3), 0px 1px 3px 1px rgba(60, 64, 67, 0.15);\n",
              "      fill: #174EA6;\n",
              "    }\n",
              "\n",
              "    [theme=dark] .colab-df-convert {\n",
              "      background-color: #3B4455;\n",
              "      fill: #D2E3FC;\n",
              "    }\n",
              "\n",
              "    [theme=dark] .colab-df-convert:hover {\n",
              "      background-color: #434B5C;\n",
              "      box-shadow: 0px 1px 3px 1px rgba(0, 0, 0, 0.15);\n",
              "      filter: drop-shadow(0px 1px 2px rgba(0, 0, 0, 0.3));\n",
              "      fill: #FFFFFF;\n",
              "    }\n",
              "  </style>\n",
              "\n",
              "      <script>\n",
              "        const buttonEl =\n",
              "          document.querySelector('#df-ca219a6d-2ec2-4c43-afc5-9706925a9939 button.colab-df-convert');\n",
              "        buttonEl.style.display =\n",
              "          google.colab.kernel.accessAllowed ? 'block' : 'none';\n",
              "\n",
              "        async function convertToInteractive(key) {\n",
              "          const element = document.querySelector('#df-ca219a6d-2ec2-4c43-afc5-9706925a9939');\n",
              "          const dataTable =\n",
              "            await google.colab.kernel.invokeFunction('convertToInteractive',\n",
              "                                                     [key], {});\n",
              "          if (!dataTable) return;\n",
              "\n",
              "          const docLinkHtml = 'Like what you see? Visit the ' +\n",
              "            '<a target=\"_blank\" href=https://colab.research.google.com/notebooks/data_table.ipynb>data table notebook</a>'\n",
              "            + ' to learn more about interactive tables.';\n",
              "          element.innerHTML = '';\n",
              "          dataTable['output_type'] = 'display_data';\n",
              "          await google.colab.output.renderOutput(dataTable, element);\n",
              "          const docLink = document.createElement('div');\n",
              "          docLink.innerHTML = docLinkHtml;\n",
              "          element.appendChild(docLink);\n",
              "        }\n",
              "      </script>\n",
              "    </div>\n",
              "  </div>\n",
              "  "
            ],
            "text/plain": [
              "                           Baseline  Mitigator without pipeline  \\\n",
              "Metric                                                            \n",
              "Disparate Impact Q90       0.017601                    0.290419   \n",
              "Disparate Impact Q80       0.116168                    0.640925   \n",
              "Disparate Impact Q50       0.422241                    1.000000   \n",
              "Statistical Parity Q50    -0.683376                   -0.107352   \n",
              "No Disparate Impact Level -0.757714                    0.291667   \n",
              "Average Score Difference  -1.583636                   -0.078676   \n",
              "Average Score Ratio       -0.203326                    0.730254   \n",
              "Z Score Difference        -2.493148                   -0.235603   \n",
              "Max Statistical Parity     0.732576                    0.207503   \n",
              "Statistical Parity AUC     0.428375                    0.053173   \n",
              "RMSE Ratio                 0.621101                    0.524743   \n",
              "RMSE Ratio Q80             0.816122                    0.482176   \n",
              "MAE Ratio                  0.551050                    0.592064   \n",
              "MAE Ratio Q80              0.828284                    0.444951   \n",
              "Correlation Difference     0.014830                    0.133351   \n",
              "\n",
              "                           Mitigator with pipeline Reference  \n",
              "Metric                                                        \n",
              "Disparate Impact Q90                      0.290419         1  \n",
              "Disparate Impact Q80                      0.640925         1  \n",
              "Disparate Impact Q50                      1.000000         1  \n",
              "Statistical Parity Q50                   -0.107352         0  \n",
              "No Disparate Impact Level                 0.291667         -  \n",
              "Average Score Difference                 -0.078676         0  \n",
              "Average Score Ratio                       0.730254         1  \n",
              "Z Score Difference                       -0.235603         0  \n",
              "Max Statistical Parity                    0.207503         0  \n",
              "Statistical Parity AUC                    0.053173         0  \n",
              "RMSE Ratio                                0.524743         1  \n",
              "RMSE Ratio Q80                            0.482176         1  \n",
              "MAE Ratio                                 0.592064         1  \n",
              "MAE Ratio Q80                             0.444951         1  \n",
              "Correlation Difference                    0.133351         0  "
            ]
          },
          "execution_count": 27,
          "metadata": {},
          "output_type": "execute_result"
        }
      ],
      "source": [
        "result = pd.concat([df_baseline, df_pec, df_pec_w_p], axis=1).iloc[:, [0,2,4,1]]\n",
        "result.columns = ['Baseline','Mitigator without pipeline',\"Mitigator with pipeline\", 'Reference']\n",
        "result"
      ]
    },
    {
      "attachments": {},
      "cell_type": "markdown",
      "metadata": {
        "id": "tUX3eFhsY50X"
      },
      "source": [
        "From the previous chart, we can see that although the actual metrics are still far from the ideal values, an improvement is obtained by applying this method in the dataset, compared with our baseline. \n",
        "\n",
        "Notice that we can analyse how these values are affected by varying the hyperparameters of the method.\n",
        "\n",
        "For example, this method allows us to set different hyperparameters such us grid points and a temperature parameter, you will find more information in its documentation [here](https://holisticai.readthedocs.io/en/latest/.generated/holisticai.bias.mitigation.PluginEstimationAndCalibration.html)\n",
        "\n",
        "In this opportunity we will try with different temperatures:"
      ]
    },
    {
      "cell_type": "code",
      "execution_count": 28,
      "metadata": {
        "id": "3X1keA2QORTA"
      },
      "outputs": [],
      "source": [
        "def calculate_metrics(train_data, test_data, group_a, group_b, beta, metrics_cols):\n",
        "  model = LinearRegression()\n",
        "  pipeline = Pipeline(\n",
        "      steps=[\n",
        "          ('scalar', StandardScaler()),\n",
        "          (\"model\", model),\n",
        "          (\"bm_postprocessing\", PluginEstimationAndCalibration(beta=beta)),\n",
        "      ]\n",
        "  )\n",
        "\n",
        "  X, y, group_a, group_b = train_data\n",
        "  fit_params = {\n",
        "      \"bm__group_a\": group_a, \n",
        "      \"bm__group_b\": group_b\n",
        "  }\n",
        "\n",
        "  pipeline.fit(X, y, **fit_params)\n",
        "\n",
        "  X, y, group_a, group_b = test_data\n",
        "  predict_params = {\n",
        "      \"bm__group_a\": group_a,\n",
        "      \"bm__group_b\": group_b,\n",
        "  }\n",
        "  y_pred = pipeline.predict(X, **predict_params)\n",
        "  df = regression_bias_metrics(\n",
        "      group_a,\n",
        "      group_b,\n",
        "      y_pred,\n",
        "      y,\n",
        "      metric_type='both'\n",
        "  )\n",
        "  # Calculate metrics\n",
        "  metrics = [\n",
        "      beta, \n",
        "      mean_squared_error(y, y_pred, squared=False)\n",
        "  ]\n",
        "  metrics.extend([df['Value'].loc[col] for col in metrics_cols])\n",
        "  return metrics"
      ]
    },
    {
      "cell_type": "code",
      "execution_count": 29,
      "metadata": {
        "colab": {
          "base_uri": "https://localhost:8080/",
          "height": 518
        },
        "id": "Aoo0_KlVbmwR",
        "outputId": "be871d7c-153b-4841-ddc8-3ba978575912"
      },
      "outputs": [
        {
          "name": "stderr",
          "output_type": "stream",
          "text": [
            "/usr/local/lib/python3.9/dist-packages/holisticai/bias/mitigation/postprocessing/plugin_estimator_and_recalibration/algorithm_utils.py:16: RuntimeWarning: divide by zero encountered in true_divide\n",
            "  return np.exp(lambda_[i + L] * (2 * S - 1) / beta + H / beta)\n",
            "/usr/local/lib/python3.9/dist-packages/holisticai/bias/mitigation/postprocessing/plugin_estimator_and_recalibration/algorithm_utils.py:16: RuntimeWarning: invalid value encountered in add\n",
            "  return np.exp(lambda_[i + L] * (2 * S - 1) / beta + H / beta)\n",
            "/usr/local/lib/python3.9/dist-packages/holisticai/bias/mitigation/postprocessing/plugin_estimator_and_recalibration/algorithm_utils.py:16: RuntimeWarning: invalid value encountered in true_divide\n",
            "  return np.exp(lambda_[i + L] * (2 * S - 1) / beta + H / beta)\n"
          ]
        },
        {
          "data": {
            "text/html": [
              "\n",
              "  <div id=\"df-2bd90c88-7988-40c9-a4cc-0ee58814aeee\">\n",
              "    <div class=\"colab-df-container\">\n",
              "      <div>\n",
              "<style scoped>\n",
              "    .dataframe tbody tr th:only-of-type {\n",
              "        vertical-align: middle;\n",
              "    }\n",
              "\n",
              "    .dataframe tbody tr th {\n",
              "        vertical-align: top;\n",
              "    }\n",
              "\n",
              "    .dataframe thead th {\n",
              "        text-align: right;\n",
              "    }\n",
              "</style>\n",
              "<table border=\"1\" class=\"dataframe\">\n",
              "  <thead>\n",
              "    <tr style=\"text-align: right;\">\n",
              "      <th></th>\n",
              "      <th>beta</th>\n",
              "      <th>RMSE</th>\n",
              "      <th>Disparate Impact Q80</th>\n",
              "      <th>RMSE Ratio</th>\n",
              "      <th>MAE Ratio</th>\n",
              "      <th>Statistical Parity Q50</th>\n",
              "      <th>Average Score Difference</th>\n",
              "      <th>Correlation Difference</th>\n",
              "    </tr>\n",
              "  </thead>\n",
              "  <tbody>\n",
              "    <tr>\n",
              "      <th>0</th>\n",
              "      <td>0.0</td>\n",
              "      <td>0.787789</td>\n",
              "      <td>0.121331</td>\n",
              "      <td>0.637919</td>\n",
              "      <td>0.711374</td>\n",
              "      <td>-0.679384</td>\n",
              "      <td>-0.676670</td>\n",
              "      <td>0.071692</td>\n",
              "    </tr>\n",
              "    <tr>\n",
              "      <th>1</th>\n",
              "      <td>0.1</td>\n",
              "      <td>0.877932</td>\n",
              "      <td>0.640925</td>\n",
              "      <td>0.524743</td>\n",
              "      <td>0.592064</td>\n",
              "      <td>-0.107352</td>\n",
              "      <td>-0.078676</td>\n",
              "      <td>0.133351</td>\n",
              "    </tr>\n",
              "    <tr>\n",
              "      <th>2</th>\n",
              "      <td>0.2</td>\n",
              "      <td>0.892464</td>\n",
              "      <td>0.814787</td>\n",
              "      <td>0.512613</td>\n",
              "      <td>0.579377</td>\n",
              "      <td>-0.045826</td>\n",
              "      <td>-0.027030</td>\n",
              "      <td>0.168369</td>\n",
              "    </tr>\n",
              "    <tr>\n",
              "      <th>3</th>\n",
              "      <td>0.3</td>\n",
              "      <td>0.895535</td>\n",
              "      <td>0.847056</td>\n",
              "      <td>0.515673</td>\n",
              "      <td>0.583756</td>\n",
              "      <td>-0.037842</td>\n",
              "      <td>-0.020460</td>\n",
              "      <td>0.168713</td>\n",
              "    </tr>\n",
              "    <tr>\n",
              "      <th>4</th>\n",
              "      <td>0.4</td>\n",
              "      <td>0.916236</td>\n",
              "      <td>1.055190</td>\n",
              "      <td>0.493328</td>\n",
              "      <td>0.566686</td>\n",
              "      <td>0.011379</td>\n",
              "      <td>0.025934</td>\n",
              "      <td>0.289123</td>\n",
              "    </tr>\n",
              "    <tr>\n",
              "      <th>5</th>\n",
              "      <td>0.5</td>\n",
              "      <td>0.918581</td>\n",
              "      <td>0.977745</td>\n",
              "      <td>0.495592</td>\n",
              "      <td>0.569639</td>\n",
              "      <td>-0.004589</td>\n",
              "      <td>0.031339</td>\n",
              "      <td>0.287496</td>\n",
              "    </tr>\n",
              "    <tr>\n",
              "      <th>6</th>\n",
              "      <td>0.6</td>\n",
              "      <td>0.923554</td>\n",
              "      <td>1.140164</td>\n",
              "      <td>0.492899</td>\n",
              "      <td>0.562387</td>\n",
              "      <td>0.026010</td>\n",
              "      <td>0.055950</td>\n",
              "      <td>0.276741</td>\n",
              "    </tr>\n",
              "    <tr>\n",
              "      <th>7</th>\n",
              "      <td>0.7</td>\n",
              "      <td>0.926438</td>\n",
              "      <td>1.230011</td>\n",
              "      <td>0.490390</td>\n",
              "      <td>0.558276</td>\n",
              "      <td>0.040311</td>\n",
              "      <td>0.068505</td>\n",
              "      <td>0.281381</td>\n",
              "    </tr>\n",
              "    <tr>\n",
              "      <th>8</th>\n",
              "      <td>0.8</td>\n",
              "      <td>0.926431</td>\n",
              "      <td>1.367390</td>\n",
              "      <td>0.492455</td>\n",
              "      <td>0.564424</td>\n",
              "      <td>0.060600</td>\n",
              "      <td>0.081808</td>\n",
              "      <td>0.238743</td>\n",
              "    </tr>\n",
              "    <tr>\n",
              "      <th>9</th>\n",
              "      <td>0.9</td>\n",
              "      <td>0.931410</td>\n",
              "      <td>1.576561</td>\n",
              "      <td>0.489250</td>\n",
              "      <td>0.561806</td>\n",
              "      <td>0.083215</td>\n",
              "      <td>0.105504</td>\n",
              "      <td>0.222848</td>\n",
              "    </tr>\n",
              "    <tr>\n",
              "      <th>10</th>\n",
              "      <td>1.0</td>\n",
              "      <td>0.932107</td>\n",
              "      <td>1.618050</td>\n",
              "      <td>0.489912</td>\n",
              "      <td>0.562554</td>\n",
              "      <td>0.089203</td>\n",
              "      <td>0.107333</td>\n",
              "      <td>0.221668</td>\n",
              "    </tr>\n",
              "  </tbody>\n",
              "</table>\n",
              "</div>\n",
              "      <button class=\"colab-df-convert\" onclick=\"convertToInteractive('df-2bd90c88-7988-40c9-a4cc-0ee58814aeee')\"\n",
              "              title=\"Convert this dataframe to an interactive table.\"\n",
              "              style=\"display:none;\">\n",
              "        \n",
              "  <svg xmlns=\"http://www.w3.org/2000/svg\" height=\"24px\"viewBox=\"0 0 24 24\"\n",
              "       width=\"24px\">\n",
              "    <path d=\"M0 0h24v24H0V0z\" fill=\"none\"/>\n",
              "    <path d=\"M18.56 5.44l.94 2.06.94-2.06 2.06-.94-2.06-.94-.94-2.06-.94 2.06-2.06.94zm-11 1L8.5 8.5l.94-2.06 2.06-.94-2.06-.94L8.5 2.5l-.94 2.06-2.06.94zm10 10l.94 2.06.94-2.06 2.06-.94-2.06-.94-.94-2.06-.94 2.06-2.06.94z\"/><path d=\"M17.41 7.96l-1.37-1.37c-.4-.4-.92-.59-1.43-.59-.52 0-1.04.2-1.43.59L10.3 9.45l-7.72 7.72c-.78.78-.78 2.05 0 2.83L4 21.41c.39.39.9.59 1.41.59.51 0 1.02-.2 1.41-.59l7.78-7.78 2.81-2.81c.8-.78.8-2.07 0-2.86zM5.41 20L4 18.59l7.72-7.72 1.47 1.35L5.41 20z\"/>\n",
              "  </svg>\n",
              "      </button>\n",
              "      \n",
              "  <style>\n",
              "    .colab-df-container {\n",
              "      display:flex;\n",
              "      flex-wrap:wrap;\n",
              "      gap: 12px;\n",
              "    }\n",
              "\n",
              "    .colab-df-convert {\n",
              "      background-color: #E8F0FE;\n",
              "      border: none;\n",
              "      border-radius: 50%;\n",
              "      cursor: pointer;\n",
              "      display: none;\n",
              "      fill: #1967D2;\n",
              "      height: 32px;\n",
              "      padding: 0 0 0 0;\n",
              "      width: 32px;\n",
              "    }\n",
              "\n",
              "    .colab-df-convert:hover {\n",
              "      background-color: #E2EBFA;\n",
              "      box-shadow: 0px 1px 2px rgba(60, 64, 67, 0.3), 0px 1px 3px 1px rgba(60, 64, 67, 0.15);\n",
              "      fill: #174EA6;\n",
              "    }\n",
              "\n",
              "    [theme=dark] .colab-df-convert {\n",
              "      background-color: #3B4455;\n",
              "      fill: #D2E3FC;\n",
              "    }\n",
              "\n",
              "    [theme=dark] .colab-df-convert:hover {\n",
              "      background-color: #434B5C;\n",
              "      box-shadow: 0px 1px 3px 1px rgba(0, 0, 0, 0.15);\n",
              "      filter: drop-shadow(0px 1px 2px rgba(0, 0, 0, 0.3));\n",
              "      fill: #FFFFFF;\n",
              "    }\n",
              "  </style>\n",
              "\n",
              "      <script>\n",
              "        const buttonEl =\n",
              "          document.querySelector('#df-2bd90c88-7988-40c9-a4cc-0ee58814aeee button.colab-df-convert');\n",
              "        buttonEl.style.display =\n",
              "          google.colab.kernel.accessAllowed ? 'block' : 'none';\n",
              "\n",
              "        async function convertToInteractive(key) {\n",
              "          const element = document.querySelector('#df-2bd90c88-7988-40c9-a4cc-0ee58814aeee');\n",
              "          const dataTable =\n",
              "            await google.colab.kernel.invokeFunction('convertToInteractive',\n",
              "                                                     [key], {});\n",
              "          if (!dataTable) return;\n",
              "\n",
              "          const docLinkHtml = 'Like what you see? Visit the ' +\n",
              "            '<a target=\"_blank\" href=https://colab.research.google.com/notebooks/data_table.ipynb>data table notebook</a>'\n",
              "            + ' to learn more about interactive tables.';\n",
              "          element.innerHTML = '';\n",
              "          dataTable['output_type'] = 'display_data';\n",
              "          await google.colab.output.renderOutput(dataTable, element);\n",
              "          const docLink = document.createElement('div');\n",
              "          docLink.innerHTML = docLinkHtml;\n",
              "          element.appendChild(docLink);\n",
              "        }\n",
              "      </script>\n",
              "    </div>\n",
              "  </div>\n",
              "  "
            ],
            "text/plain": [
              "    beta      RMSE  Disparate Impact Q80  RMSE Ratio  MAE Ratio  \\\n",
              "0    0.0  0.787789              0.121331    0.637919   0.711374   \n",
              "1    0.1  0.877932              0.640925    0.524743   0.592064   \n",
              "2    0.2  0.892464              0.814787    0.512613   0.579377   \n",
              "3    0.3  0.895535              0.847056    0.515673   0.583756   \n",
              "4    0.4  0.916236              1.055190    0.493328   0.566686   \n",
              "5    0.5  0.918581              0.977745    0.495592   0.569639   \n",
              "6    0.6  0.923554              1.140164    0.492899   0.562387   \n",
              "7    0.7  0.926438              1.230011    0.490390   0.558276   \n",
              "8    0.8  0.926431              1.367390    0.492455   0.564424   \n",
              "9    0.9  0.931410              1.576561    0.489250   0.561806   \n",
              "10   1.0  0.932107              1.618050    0.489912   0.562554   \n",
              "\n",
              "    Statistical Parity Q50  Average Score Difference  Correlation Difference  \n",
              "0                -0.679384                 -0.676670                0.071692  \n",
              "1                -0.107352                 -0.078676                0.133351  \n",
              "2                -0.045826                 -0.027030                0.168369  \n",
              "3                -0.037842                 -0.020460                0.168713  \n",
              "4                 0.011379                  0.025934                0.289123  \n",
              "5                -0.004589                  0.031339                0.287496  \n",
              "6                 0.026010                  0.055950                0.276741  \n",
              "7                 0.040311                  0.068505                0.281381  \n",
              "8                 0.060600                  0.081808                0.238743  \n",
              "9                 0.083215                  0.105504                0.222848  \n",
              "10                0.089203                  0.107333                0.221668  "
            ]
          },
          "execution_count": 29,
          "metadata": {},
          "output_type": "execute_result"
        }
      ],
      "source": [
        "metrics_val = []\n",
        "metrics_cols = ['Disparate Impact Q80', 'RMSE Ratio', 'MAE Ratio', 'Statistical Parity Q50', 'Average Score Difference', 'Correlation Difference']\n",
        "\n",
        "for beta in np.linspace(0,1,11):\n",
        "  metrics_val.append(calculate_metrics(train_data, test_data, group_a, group_b, beta, metrics_cols))\n",
        "\n",
        "metrics = ['beta', 'RMSE']\n",
        "metrics.extend(metrics_cols)\n",
        "df_metrics = pd.DataFrame(metrics_val, columns=metrics)\n",
        "df_metrics"
      ]
    },
    {
      "cell_type": "code",
      "execution_count": 30,
      "metadata": {
        "colab": {
          "base_uri": "https://localhost:8080/",
          "height": 514
        },
        "id": "yX_WYFRQb09o",
        "outputId": "3e857cca-e8a8-4fe1-b182-076896d087f9"
      },
      "outputs": [
        {
          "data": {
            "text/plain": [
              "Text(0.5, 0, 'Temperature value')"
            ]
          },
          "execution_count": 30,
          "metadata": {},
          "output_type": "execute_result"
        },
        {
          "data": {
            "image/png": "[encoded data removed]",
            "text/plain": [
              "<Figure size 1800x576 with 3 Axes>"
            ]
          },
          "metadata": {},
          "output_type": "display_data"
        }
      ],
      "source": [
        "x_axis = df_metrics.beta\n",
        "plt.figure(figsize=(25,8))\n",
        "plt.subplot(131)\n",
        "plt.plot(x_axis, df_metrics.RMSE, 'o-', label='RMSE')\n",
        "plt.legend(loc='upper left')\n",
        "plt.xlabel('Temperature value')\n",
        "plt.subplot(132)\n",
        "plt.plot(x_axis, df_metrics['Disparate Impact Q80'], 'o-', label='Disparate impact')\n",
        "plt.plot(x_axis, df_metrics['RMSE Ratio'], 'o-', label='RMSE ratio')\n",
        "plt.plot(x_axis, df_metrics['MAE Ratio'], 'o-', label='MAE ratio')\n",
        "plt.plot(x_axis, np.ones_like(df_metrics['MAE Ratio']), label='Reference')\n",
        "plt.legend(loc='upper left')\n",
        "plt.xlabel('Temperature value')\n",
        "plt.subplot(133)\n",
        "plt.plot(x_axis, df_metrics['Statistical Parity Q50'], 'o-', label='Statistical Parity')\n",
        "plt.plot(x_axis, df_metrics['Average Score Difference'], 'o-', label='Avg. Score diff.')\n",
        "plt.plot(x_axis, df_metrics['Correlation Difference'], 'o-', label='Corr. diff.')\n",
        "plt.plot(x_axis, np.zeros_like(df_metrics['Correlation Difference']), label='Reference')\n",
        "plt.legend(loc='upper left')\n",
        "plt.xlabel('Temperature value')"
      ]
    },
    {
      "attachments": {},
      "cell_type": "markdown",
      "metadata": {
        "id": "xcJxcmYCdM00"
      },
      "source": [
        "As we can see, the selection of different values for the temperature parameter will vary its performance, although we can observe that in general terms we achieve a better model in terms of fair by increasing this value, the RMSE will be increased as well.\n",
        "\n",
        "In general, the selection of the model parameters will depend on our main objective, whether we are looking for fairness or accuracy."
      ]
    },
    {
      "attachments": {},
      "cell_type": "markdown",
      "metadata": {
        "id": "zyUsLTpvXX0-"
      },
      "source": [
        "# **Summary**\n",
        "Through this tutorial we could present to the user how the `holisticai` library can be easily used to measure the bias present in regression models by the application of the `regression_bias_metrics` function, which returns the calculated values for different metrics and their references respectively. \n",
        "\n",
        "In addition, we shown how to mitigate the bias by applying some methods, for this opportunity we applied the Plugin estimator and calibrator technique to train a fairness model, this is a post-processing method that optimizes over calibrated regressor outputs via a smooth optimization to improve fairness. Consequently we could observe how the metrics are influenced by varing some hyperparameters, and showing how this method increases the fairness of the model."
      ]
    },
    {
      "attachments": {},
      "cell_type": "markdown",
      "metadata": {},
      "source": []
    }
  ],
  "metadata": {
    "colab": {
      "provenance": []
    },
    "kernelspec": {
      "display_name": "Python 3",
      "name": "python3"
    },
    "language_info": {
      "codemirror_mode": {
        "name": "ipython",
        "version": 3
      },
      "file_extension": ".py",
      "mimetype": "text/x-python",
      "name": "python",
      "nbconvert_exporter": "python",
      "pygments_lexer": "ipython3",
      "version": "3.9.8"
    }
  },
  "nbformat": 4,
  "nbformat_minor": 0
}
