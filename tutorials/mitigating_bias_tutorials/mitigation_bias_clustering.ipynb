{
 "cells": [
  {
   "cell_type": "markdown",
   "id": "3ea086d6",
   "metadata": {
    "id": "pFKF6N69kCay"
   },
   "source": [
    "# **Mitigating Bias in clustering**\n"
   ]
  },
  {
   "cell_type": "markdown",
   "id": "f5806760",
   "metadata": {},
   "source": [
    "This notebook is a tutorial on auditing bias within a clustering task. We will use the _holisticai_ library throughout, introducing some of the functions we have created to help study algorithmic bias.\n",
    "\n",
    "The sections are organised as follows :\n",
    "\n",
    "1. Load the data : we load the adult dataset as a pandas DataFrame\n",
    "2. Data Exploration : some preliminary analysis of the data\n",
    "3. Pre-Processing and Train a Model : we train a kmeans model (sklearn)\n",
    "4. Measure Bias : we compute a few bias metrics, and comment on their meaning"
   ]
  },
  {
   "cell_type": "markdown",
   "id": "98dcbb0c",
   "metadata": {
    "id": "-nYt5_h77QGN"
   },
   "source": [
    "## **Load the data**"
   ]
  },
  {
   "cell_type": "code",
   "execution_count": 1,
   "id": "c50fca4a",
   "metadata": {},
   "outputs": [],
   "source": [
    "# Imports\n",
    "import numpy as np\n",
    "import pandas as pd\n",
    "\n",
    "#sys\n",
    "import sys\n",
    "sys.path.append('../../')"
   ]
  },
  {
   "cell_type": "markdown",
   "id": "32f32e1f",
   "metadata": {},
   "source": [
    "We will start by importing the adult dataset, which we host on our library. The adult dataset contains a set of informations extract from US 1994 Census database. It includes personal information about the individuals, specifically sex, race, and education. In this tutorial we will perform unsupervised learning to cluster the data, then measure whether this clustering contains gender or race information (clustering bias)."
   ]
  },
  {
   "cell_type": "code",
   "execution_count": 2,
   "id": "1702be74",
   "metadata": {},
   "outputs": [
    {
     "data": {
      "text/html": [
       "<div>\n",
       "<style scoped>\n",
       "    .dataframe tbody tr th:only-of-type {\n",
       "        vertical-align: middle;\n",
       "    }\n",
       "\n",
       "    .dataframe tbody tr th {\n",
       "        vertical-align: top;\n",
       "    }\n",
       "\n",
       "    .dataframe thead th {\n",
       "        text-align: right;\n",
       "    }\n",
       "</style>\n",
       "<table border=\"1\" class=\"dataframe\">\n",
       "  <thead>\n",
       "    <tr style=\"text-align: right;\">\n",
       "      <th></th>\n",
       "      <th>age</th>\n",
       "      <th>workclass</th>\n",
       "      <th>fnlwgt</th>\n",
       "      <th>education</th>\n",
       "      <th>education-num</th>\n",
       "      <th>marital-status</th>\n",
       "      <th>occupation</th>\n",
       "      <th>relationship</th>\n",
       "      <th>race</th>\n",
       "      <th>sex</th>\n",
       "      <th>capital-gain</th>\n",
       "      <th>capital-loss</th>\n",
       "      <th>hours-per-week</th>\n",
       "      <th>native-country</th>\n",
       "      <th>class</th>\n",
       "    </tr>\n",
       "  </thead>\n",
       "  <tbody>\n",
       "    <tr>\n",
       "      <th>0</th>\n",
       "      <td>25.0</td>\n",
       "      <td>Private</td>\n",
       "      <td>226802.0</td>\n",
       "      <td>11th</td>\n",
       "      <td>7.0</td>\n",
       "      <td>Never-married</td>\n",
       "      <td>Machine-op-inspct</td>\n",
       "      <td>Own-child</td>\n",
       "      <td>Black</td>\n",
       "      <td>Male</td>\n",
       "      <td>0.0</td>\n",
       "      <td>0.0</td>\n",
       "      <td>40.0</td>\n",
       "      <td>United-States</td>\n",
       "      <td>&lt;=50K</td>\n",
       "    </tr>\n",
       "    <tr>\n",
       "      <th>1</th>\n",
       "      <td>38.0</td>\n",
       "      <td>Private</td>\n",
       "      <td>89814.0</td>\n",
       "      <td>HS-grad</td>\n",
       "      <td>9.0</td>\n",
       "      <td>Married-civ-spouse</td>\n",
       "      <td>Farming-fishing</td>\n",
       "      <td>Husband</td>\n",
       "      <td>White</td>\n",
       "      <td>Male</td>\n",
       "      <td>0.0</td>\n",
       "      <td>0.0</td>\n",
       "      <td>50.0</td>\n",
       "      <td>United-States</td>\n",
       "      <td>&lt;=50K</td>\n",
       "    </tr>\n",
       "    <tr>\n",
       "      <th>2</th>\n",
       "      <td>28.0</td>\n",
       "      <td>Local-gov</td>\n",
       "      <td>336951.0</td>\n",
       "      <td>Assoc-acdm</td>\n",
       "      <td>12.0</td>\n",
       "      <td>Married-civ-spouse</td>\n",
       "      <td>Protective-serv</td>\n",
       "      <td>Husband</td>\n",
       "      <td>White</td>\n",
       "      <td>Male</td>\n",
       "      <td>0.0</td>\n",
       "      <td>0.0</td>\n",
       "      <td>40.0</td>\n",
       "      <td>United-States</td>\n",
       "      <td>&gt;50K</td>\n",
       "    </tr>\n",
       "    <tr>\n",
       "      <th>3</th>\n",
       "      <td>44.0</td>\n",
       "      <td>Private</td>\n",
       "      <td>160323.0</td>\n",
       "      <td>Some-college</td>\n",
       "      <td>10.0</td>\n",
       "      <td>Married-civ-spouse</td>\n",
       "      <td>Machine-op-inspct</td>\n",
       "      <td>Husband</td>\n",
       "      <td>Black</td>\n",
       "      <td>Male</td>\n",
       "      <td>7688.0</td>\n",
       "      <td>0.0</td>\n",
       "      <td>40.0</td>\n",
       "      <td>United-States</td>\n",
       "      <td>&gt;50K</td>\n",
       "    </tr>\n",
       "    <tr>\n",
       "      <th>4</th>\n",
       "      <td>18.0</td>\n",
       "      <td>NaN</td>\n",
       "      <td>103497.0</td>\n",
       "      <td>Some-college</td>\n",
       "      <td>10.0</td>\n",
       "      <td>Never-married</td>\n",
       "      <td>NaN</td>\n",
       "      <td>Own-child</td>\n",
       "      <td>White</td>\n",
       "      <td>Female</td>\n",
       "      <td>0.0</td>\n",
       "      <td>0.0</td>\n",
       "      <td>30.0</td>\n",
       "      <td>United-States</td>\n",
       "      <td>&lt;=50K</td>\n",
       "    </tr>\n",
       "  </tbody>\n",
       "</table>\n",
       "</div>"
      ],
      "text/plain": [
       "    age  workclass    fnlwgt     education  education-num      marital-status  \\\n",
       "0  25.0    Private  226802.0          11th            7.0       Never-married   \n",
       "1  38.0    Private   89814.0       HS-grad            9.0  Married-civ-spouse   \n",
       "2  28.0  Local-gov  336951.0    Assoc-acdm           12.0  Married-civ-spouse   \n",
       "3  44.0    Private  160323.0  Some-college           10.0  Married-civ-spouse   \n",
       "4  18.0        NaN  103497.0  Some-college           10.0       Never-married   \n",
       "\n",
       "          occupation relationship   race     sex  capital-gain  capital-loss  \\\n",
       "0  Machine-op-inspct    Own-child  Black    Male           0.0           0.0   \n",
       "1    Farming-fishing      Husband  White    Male           0.0           0.0   \n",
       "2    Protective-serv      Husband  White    Male           0.0           0.0   \n",
       "3  Machine-op-inspct      Husband  Black    Male        7688.0           0.0   \n",
       "4                NaN    Own-child  White  Female           0.0           0.0   \n",
       "\n",
       "   hours-per-week native-country  class  \n",
       "0            40.0  United-States  <=50K  \n",
       "1            50.0  United-States  <=50K  \n",
       "2            40.0  United-States   >50K  \n",
       "3            40.0  United-States   >50K  \n",
       "4            30.0  United-States  <=50K  "
      ]
     },
     "execution_count": 2,
     "metadata": {},
     "output_type": "execute_result"
    }
   ],
   "source": [
    "# Get data\n",
    "from holisticai.datasets import load_adult\n",
    "df = load_adult()['frame']\n",
    "df.head()"
   ]
  },
  {
   "cell_type": "markdown",
   "id": "ff87a3f5",
   "metadata": {},
   "source": [
    "## **Data Exploration**"
   ]
  },
  {
   "cell_type": "code",
   "execution_count": 3,
   "id": "caa0d74e",
   "metadata": {},
   "outputs": [],
   "source": [
    "# import holisticai charts\n",
    "from holisticai.bias.plots import group_pie_plot\n",
    "from holisticai.bias.plots import histogram_plot"
   ]
  },
  {
   "cell_type": "code",
   "execution_count": 4,
   "id": "78c5cc7a",
   "metadata": {},
   "outputs": [
    {
     "data": {
      "text/plain": [
       "<AxesSubplot:>"
      ]
     },
     "execution_count": 4,
     "metadata": {},
     "output_type": "execute_result"
    },
    {
     "data": {
      "image/png": "[encoded data removed]",
      "text/plain": [
       "<Figure size 432x288 with 1 Axes>"
      ]
     },
     "metadata": {},
     "output_type": "display_data"
    }
   ],
   "source": [
    "# pie plot of the Sex column\n",
    "p_attr = df['sex']\n",
    "group_pie_plot(p_attr)"
   ]
  },
  {
   "cell_type": "code",
   "execution_count": 5,
   "id": "d5d7cccd",
   "metadata": {},
   "outputs": [
    {
     "data": {
      "text/plain": [
       "<AxesSubplot:>"
      ]
     },
     "execution_count": 5,
     "metadata": {},
     "output_type": "execute_result"
    },
    {
     "data": {
      "image/png": "[encoded data removed]",
      "text/plain": [
       "<Figure size 432x288 with 1 Axes>"
      ]
     },
     "metadata": {},
     "output_type": "display_data"
    }
   ],
   "source": [
    "# pie plot of class column\n",
    "p_attr = df['class']\n",
    "group_pie_plot(p_attr)"
   ]
  },
  {
   "cell_type": "code",
   "execution_count": 6,
   "id": "cdee2070",
   "metadata": {},
   "outputs": [
    {
     "data": {
      "text/plain": [
       "<AxesSubplot:xlabel='race', ylabel='Probability'>"
      ]
     },
     "execution_count": 6,
     "metadata": {},
     "output_type": "execute_result"
    },
    {
     "data": {
      "image/png": "[encoded data removed]",
      "text/plain": [
       "<Figure size 432x288 with 1 Axes>"
      ]
     },
     "metadata": {},
     "output_type": "display_data"
    }
   ],
   "source": [
    "# Histogram of race with class as hue\n",
    "histogram_plot(df['race'], df['class'])"
   ]
  },
  {
   "cell_type": "markdown",
   "id": "8927bd6d",
   "metadata": {},
   "source": [
    "## **Preprocess data and Train a model**"
   ]
  },
  {
   "cell_type": "code",
   "execution_count": 7,
   "id": "a2f265df",
   "metadata": {},
   "outputs": [],
   "source": [
    "from sklearn.model_selection import train_test_split\n",
    "import matplotlib.pyplot as plt"
   ]
  },
  {
   "cell_type": "code",
   "execution_count": 8,
   "id": "db103f50",
   "metadata": {},
   "outputs": [],
   "source": [
    "# Dataset\n",
    "dataset = load_adult()\n",
    "\n",
    "# Dataframe\n",
    "df = pd.concat([dataset[\"data\"], dataset[\"target\"]], axis=1)\n",
    "protected_variables = [\"sex\", \"race\"]\n",
    "output_variable = [\"class\"]\n",
    "\n",
    "# Simple preprocessing\n",
    "y = df[output_variable].replace({\">50K\": 1, \"<=50K\": 0})\n",
    "X = pd.get_dummies(df.drop(protected_variables + output_variable, axis=1))\n",
    "group = [\"sex\"]\n",
    "group_a = df[group] == \"Female\"\n",
    "group_b = df[group] == \"Male\"\n",
    "data = [X, y, group_a, group_b]\n",
    "\n",
    "# Train test split\n",
    "dataset = train_test_split(*data, test_size=0.2, shuffle=True)\n",
    "train_data = dataset[::2]\n",
    "test_data = dataset[1::2]"
   ]
  },
  {
   "cell_type": "code",
   "execution_count": 9,
   "id": "9985edc9",
   "metadata": {},
   "outputs": [],
   "source": [
    "from sklearn.cluster import KMeans\n",
    "\n",
    "ks = range(1, 8)\n",
    "inertias = []\n",
    "X_train, _, group_a_train, group_b_train = train_data\n",
    "\n",
    "for k in ks:\n",
    "    # create a KMeans instance with k clusters: model\n",
    "    model = KMeans(n_clusters = k)\n",
    "    \n",
    "    # fit model to samples\n",
    "    model.fit(X_train)\n",
    "    \n",
    "    # append the inertia to the list of inertias\n",
    "    inertias.append(model.inertia_)"
   ]
  },
  {
   "cell_type": "code",
   "execution_count": 10,
   "id": "fae02105",
   "metadata": {},
   "outputs": [
    {
     "data": {
      "image/png": "[encoded data removed]",
      "text/plain": [
       "<Figure size 432x288 with 1 Axes>"
      ]
     },
     "metadata": {},
     "output_type": "display_data"
    }
   ],
   "source": [
    "# Plot ks vs inertias\n",
    "plt.plot(ks, inertias, '-o')\n",
    "plt.xlabel('Number of Clusters, k')\n",
    "plt.ylabel('Inertia')\n",
    "plt.xticks(ks)\n",
    "plt.show()"
   ]
  },
  {
   "cell_type": "code",
   "execution_count": 11,
   "id": "10815cd6",
   "metadata": {},
   "outputs": [],
   "source": [
    "# we choose to use 4 clusters\n",
    "model = KMeans(n_clusters = 4)\n",
    "model.fit(X_train)\n",
    "\n",
    "# test data\n",
    "X, _, group_a, group_b = test_data\n",
    "\n",
    "# predict\n",
    "y_pred = model.predict(X)"
   ]
  },
  {
   "cell_type": "markdown",
   "id": "d7ccf470",
   "metadata": {},
   "source": [
    "## **Measure bias**"
   ]
  },
  {
   "cell_type": "code",
   "execution_count": 12,
   "id": "145b7e7e",
   "metadata": {},
   "outputs": [],
   "source": [
    "# imports\n",
    "from holisticai.bias.plots import frequency_matrix_plot\n",
    "from holisticai.bias.metrics import cluster_balance\n",
    "from holisticai.bias.metrics import min_cluster_ratio"
   ]
  },
  {
   "cell_type": "code",
   "execution_count": 13,
   "id": "0a6d82a0",
   "metadata": {},
   "outputs": [],
   "source": [
    "# set up vectors for measuring bias [we consider sex and race]\n",
    "p_attr_sex = df.iloc[X.index]['sex']\n",
    "p_attr_race = df.iloc[X.index]['race']\n",
    "y_pred = model.predict(X)"
   ]
  },
  {
   "cell_type": "code",
   "execution_count": 14,
   "id": "e8981343",
   "metadata": {},
   "outputs": [
    {
     "data": {
      "text/plain": [
       "<AxesSubplot:xlabel='Class', ylabel='Group'>"
      ]
     },
     "execution_count": 14,
     "metadata": {},
     "output_type": "execute_result"
    },
    {
     "data": {
      "image/png": "[encoded data removed]",
      "text/plain": [
       "<Figure size 432x288 with 2 Axes>"
      ]
     },
     "metadata": {},
     "output_type": "display_data"
    }
   ],
   "source": [
    "# probability for each gender and class\n",
    "frequency_matrix_plot(p_attr_sex, y_pred, normalize='class')"
   ]
  },
  {
   "cell_type": "markdown",
   "id": "695e9aea",
   "metadata": {},
   "source": [
    "The clustering is quite balanced in terms of gender representations."
   ]
  },
  {
   "cell_type": "code",
   "execution_count": 15,
   "id": "262aa2cf",
   "metadata": {},
   "outputs": [
    {
     "data": {
      "text/plain": [
       "<AxesSubplot:xlabel='Class', ylabel='Group'>"
      ]
     },
     "execution_count": 15,
     "metadata": {},
     "output_type": "execute_result"
    },
    {
     "data": {
      "image/png": "[encoded data removed]",
      "text/plain": [
       "<Figure size 432x288 with 2 Axes>"
      ]
     },
     "metadata": {},
     "output_type": "display_data"
    }
   ],
   "source": [
    "# probability for each race and group\n",
    "frequency_matrix_plot(p_attr_race, y_pred, normalize='group')"
   ]
  },
  {
   "cell_type": "markdown",
   "id": "10e66dd9",
   "metadata": {},
   "source": [
    "In terms of race representations, some clusters are quite unbalanced. So the kmeans model has learnt some implicit Race information. Depending on the application of interest, this might be a bias issue."
   ]
  },
  {
   "cell_type": "code",
   "execution_count": 16,
   "id": "4de6cfee",
   "metadata": {},
   "outputs": [
    {
     "data": {
      "text/plain": [
       "0.3546688934069126"
      ]
     },
     "execution_count": 16,
     "metadata": {},
     "output_type": "execute_result"
    }
   ],
   "source": [
    "group_a = p_attr_race=='Amer-Indian-Eskimo'\n",
    "group_b = p_attr_race=='White'\n",
    "cluster_balance(group_a, group_b, y_pred)"
   ]
  },
  {
   "cell_type": "markdown",
   "id": "a2a73129",
   "metadata": {},
   "source": [
    "The above metric indicates the clustering is not balanced in the sense of each group having similar representation in clusters to overall. The ideal value for this metric would be 1."
   ]
  },
  {
   "cell_type": "code",
   "execution_count": 17,
   "id": "2176df9f",
   "metadata": {},
   "outputs": [
    {
     "data": {
      "text/plain": [
       "0.003878474466709761"
      ]
     },
     "execution_count": 17,
     "metadata": {},
     "output_type": "execute_result"
    }
   ],
   "source": [
    "group_a = p_attr_race=='Amer-Indian-Eskimo'\n",
    "group_b = p_attr_race=='White'\n",
    "min_cluster_ratio(group_a, group_b, y_pred)"
   ]
  },
  {
   "cell_type": "markdown",
   "id": "d530e35f",
   "metadata": {},
   "source": [
    "The above metric indicates there is a cluster where there are about 253 times more white people than Amer-Indian-Eskimos. This makes sense because of the difference in representation in overall population."
   ]
  },
  {
   "cell_type": "markdown",
   "id": "69f8b686",
   "metadata": {},
   "source": [
    "### Batch computation"
   ]
  },
  {
   "cell_type": "code",
   "execution_count": 18,
   "id": "4b1e9048",
   "metadata": {},
   "outputs": [],
   "source": [
    "# import batch computer\n",
    "from holisticai.bias.metrics import clustering_bias_metrics"
   ]
  },
  {
   "cell_type": "code",
   "execution_count": 19,
   "id": "bbb7e6ee",
   "metadata": {},
   "outputs": [],
   "source": [
    "# set up data arrays \n",
    "group_a = p_attr_sex=='Female'\n",
    "group_b = p_attr_sex=='Male'\n",
    "y_pred = y_pred\n",
    "centroids = model.cluster_centers_\n",
    "data = X.to_numpy()"
   ]
  },
  {
   "cell_type": "code",
   "execution_count": 20,
   "id": "1401e2bb",
   "metadata": {},
   "outputs": [
    {
     "data": {
      "text/html": [
       "<div>\n",
       "<style scoped>\n",
       "    .dataframe tbody tr th:only-of-type {\n",
       "        vertical-align: middle;\n",
       "    }\n",
       "\n",
       "    .dataframe tbody tr th {\n",
       "        vertical-align: top;\n",
       "    }\n",
       "\n",
       "    .dataframe thead th {\n",
       "        text-align: right;\n",
       "    }\n",
       "</style>\n",
       "<table border=\"1\" class=\"dataframe\">\n",
       "  <thead>\n",
       "    <tr style=\"text-align: right;\">\n",
       "      <th></th>\n",
       "      <th>Value</th>\n",
       "      <th>Reference</th>\n",
       "    </tr>\n",
       "    <tr>\n",
       "      <th>Metric</th>\n",
       "      <th></th>\n",
       "      <th></th>\n",
       "    </tr>\n",
       "  </thead>\n",
       "  <tbody>\n",
       "    <tr>\n",
       "      <th>Cluster Balance</th>\n",
       "      <td>0.824954</td>\n",
       "      <td>1</td>\n",
       "    </tr>\n",
       "    <tr>\n",
       "      <th>Minimum Cluster Ratio</th>\n",
       "      <td>0.371560</td>\n",
       "      <td>1</td>\n",
       "    </tr>\n",
       "    <tr>\n",
       "      <th>Cluster Distribution Total Variation</th>\n",
       "      <td>0.013876</td>\n",
       "      <td>0</td>\n",
       "    </tr>\n",
       "    <tr>\n",
       "      <th>Cluster Distribution KL Div</th>\n",
       "      <td>0.001308</td>\n",
       "      <td>0</td>\n",
       "    </tr>\n",
       "    <tr>\n",
       "      <th>Social Fairness Ratio</th>\n",
       "      <td>0.978531</td>\n",
       "      <td>1</td>\n",
       "    </tr>\n",
       "    <tr>\n",
       "      <th>Silhouette Difference</th>\n",
       "      <td>0.002301</td>\n",
       "      <td>0</td>\n",
       "    </tr>\n",
       "  </tbody>\n",
       "</table>\n",
       "</div>"
      ],
      "text/plain": [
       "                                         Value  Reference\n",
       "Metric                                                   \n",
       "Cluster Balance                       0.824954          1\n",
       "Minimum Cluster Ratio                 0.371560          1\n",
       "Cluster Distribution Total Variation  0.013876          0\n",
       "Cluster Distribution KL Div           0.001308          0\n",
       "Social Fairness Ratio                 0.978531          1\n",
       "Silhouette Difference                 0.002301          0"
      ]
     },
     "execution_count": 20,
     "metadata": {},
     "output_type": "execute_result"
    }
   ],
   "source": [
    "clustering_bias_metrics(group_a, group_b, y_pred, data = data, centroids = centroids, metric_type = 'equal_outcome')"
   ]
  },
  {
   "cell_type": "code",
   "execution_count": 21,
   "id": "388b569f",
   "metadata": {},
   "outputs": [
    {
     "name": "stderr",
     "output_type": "stream",
     "text": [
      "c:\\Users\\Cristian\\anaconda3\\envs\\metrics\\lib\\site-packages\\tqdm\\auto.py:22: TqdmWarning: IProgress not found. Please update jupyter and ipywidgets. See https://ipywidgets.readthedocs.io/en/stable/user_install.html\n",
      "  from .autonotebook import tqdm as notebook_tqdm\n"
     ]
    },
    {
     "name": "stdout",
     "output_type": "stream",
     "text": [
      "\n",
      "[elapsed time: 00:00:44 | iter:16/100 | fairness_error:0.0347 | fair_cluster_energy:44263.2617 | cluster_energy:33940.4145]\r"
     ]
    },
    {
     "data": {
      "text/html": [
       "<style>#sk-container-id-1 {color: black;background-color: white;}#sk-container-id-1 pre{padding: 0;}#sk-container-id-1 div.sk-toggleable {background-color: white;}#sk-container-id-1 label.sk-toggleable__label {cursor: pointer;display: block;width: 100%;margin-bottom: 0;padding: 0.3em;box-sizing: border-box;text-align: center;}#sk-container-id-1 label.sk-toggleable__label-arrow:before {content: \"▸\";float: left;margin-right: 0.25em;color: #696969;}#sk-container-id-1 label.sk-toggleable__label-arrow:hover:before {color: black;}#sk-container-id-1 div.sk-estimator:hover label.sk-toggleable__label-arrow:before {color: black;}#sk-container-id-1 div.sk-toggleable__content {max-height: 0;max-width: 0;overflow: hidden;text-align: left;background-color: #f0f8ff;}#sk-container-id-1 div.sk-toggleable__content pre {margin: 0.2em;color: black;border-radius: 0.25em;background-color: #f0f8ff;}#sk-container-id-1 input.sk-toggleable__control:checked~div.sk-toggleable__content {max-height: 200px;max-width: 100%;overflow: auto;}#sk-container-id-1 input.sk-toggleable__control:checked~label.sk-toggleable__label-arrow:before {content: \"▾\";}#sk-container-id-1 div.sk-estimator input.sk-toggleable__control:checked~label.sk-toggleable__label {background-color: #d4ebff;}#sk-container-id-1 div.sk-label input.sk-toggleable__control:checked~label.sk-toggleable__label {background-color: #d4ebff;}#sk-container-id-1 input.sk-hidden--visually {border: 0;clip: rect(1px 1px 1px 1px);clip: rect(1px, 1px, 1px, 1px);height: 1px;margin: -1px;overflow: hidden;padding: 0;position: absolute;width: 1px;}#sk-container-id-1 div.sk-estimator {font-family: monospace;background-color: #f0f8ff;border: 1px dotted black;border-radius: 0.25em;box-sizing: border-box;margin-bottom: 0.5em;}#sk-container-id-1 div.sk-estimator:hover {background-color: #d4ebff;}#sk-container-id-1 div.sk-parallel-item::after {content: \"\";width: 100%;border-bottom: 1px solid gray;flex-grow: 1;}#sk-container-id-1 div.sk-label:hover label.sk-toggleable__label {background-color: #d4ebff;}#sk-container-id-1 div.sk-serial::before {content: \"\";position: absolute;border-left: 1px solid gray;box-sizing: border-box;top: 0;bottom: 0;left: 50%;z-index: 0;}#sk-container-id-1 div.sk-serial {display: flex;flex-direction: column;align-items: center;background-color: white;padding-right: 0.2em;padding-left: 0.2em;position: relative;}#sk-container-id-1 div.sk-item {position: relative;z-index: 1;}#sk-container-id-1 div.sk-parallel {display: flex;align-items: stretch;justify-content: center;background-color: white;position: relative;}#sk-container-id-1 div.sk-item::before, #sk-container-id-1 div.sk-parallel-item::before {content: \"\";position: absolute;border-left: 1px solid gray;box-sizing: border-box;top: 0;bottom: 0;left: 50%;z-index: -1;}#sk-container-id-1 div.sk-parallel-item {display: flex;flex-direction: column;z-index: 1;position: relative;background-color: white;}#sk-container-id-1 div.sk-parallel-item:first-child::after {align-self: flex-end;width: 50%;}#sk-container-id-1 div.sk-parallel-item:last-child::after {align-self: flex-start;width: 50%;}#sk-container-id-1 div.sk-parallel-item:only-child::after {width: 0;}#sk-container-id-1 div.sk-dashed-wrapped {border: 1px dashed gray;margin: 0 0.4em 0.5em 0.4em;box-sizing: border-box;padding-bottom: 0.4em;background-color: white;}#sk-container-id-1 div.sk-label label {font-family: monospace;font-weight: bold;display: inline-block;line-height: 1.2em;}#sk-container-id-1 div.sk-label-container {text-align: center;}#sk-container-id-1 div.sk-container {/* jupyter's `normalize.less` sets `[hidden] { display: none; }` but bootstrap.min.css set `[hidden] { display: none !important; }` so we also need the `!important` here to be able to override the default hidden behavior on the sphinx rendered scikit-learn.org. See: https://github.com/scikit-learn/scikit-learn/issues/21755 */display: inline-block !important;position: relative;}#sk-container-id-1 div.sk-text-repr-fallback {display: none;}</style><div id=\"sk-container-id-1\" class=\"sk-top-container\"><div class=\"sk-text-repr-fallback\"><pre>Pipeline(steps=[(&#x27;scaler&#x27;, StandardScaler()),\n",
       "                (&#x27;bm_inprocessing&#x27;,\n",
       "                 &lt;holisticai.pipeline.handlers._estimator.WEstimator object at 0x000002D10A142B20&gt;)])</pre><b>In a Jupyter environment, please rerun this cell to show the HTML representation or trust the notebook. <br />On GitHub, the HTML representation is unable to render, please try loading this page with nbviewer.org.</b></div><div class=\"sk-container\" hidden><div class=\"sk-item sk-dashed-wrapped\"><div class=\"sk-label-container\"><div class=\"sk-label sk-toggleable\"><input class=\"sk-toggleable__control sk-hidden--visually\" id=\"sk-estimator-id-1\" type=\"checkbox\" ><label for=\"sk-estimator-id-1\" class=\"sk-toggleable__label sk-toggleable__label-arrow\">Pipeline</label><div class=\"sk-toggleable__content\"><pre>Pipeline(steps=[(&#x27;scaler&#x27;, StandardScaler()),\n",
       "                (&#x27;bm_inprocessing&#x27;,\n",
       "                 &lt;holisticai.pipeline.handlers._estimator.WEstimator object at 0x000002D10A142B20&gt;)])</pre></div></div></div><div class=\"sk-serial\"><div class=\"sk-item\"><div class=\"sk-estimator sk-toggleable\"><input class=\"sk-toggleable__control sk-hidden--visually\" id=\"sk-estimator-id-2\" type=\"checkbox\" ><label for=\"sk-estimator-id-2\" class=\"sk-toggleable__label sk-toggleable__label-arrow\">StandardScaler</label><div class=\"sk-toggleable__content\"><pre>StandardScaler()</pre></div></div></div><div class=\"sk-item\"><div class=\"sk-estimator sk-toggleable\"><input class=\"sk-toggleable__control sk-hidden--visually\" id=\"sk-estimator-id-3\" type=\"checkbox\" ><label for=\"sk-estimator-id-3\" class=\"sk-toggleable__label sk-toggleable__label-arrow\">VariationalFairClustering</label><div class=\"sk-toggleable__content\"><pre>&lt;holisticai.pipeline.handlers._estimator.WEstimator object at 0x000002D10A142B20&gt;</pre></div></div></div></div></div></div></div>"
      ],
      "text/plain": [
       "Pipeline(steps=[('scaler', StandardScaler()),\n",
       "                ('bm_inprocessing',\n",
       "                 <holisticai.pipeline.handlers._estimator.WEstimator object at 0x000002D10A142B20>)])"
      ]
     },
     "execution_count": 21,
     "metadata": {},
     "output_type": "execute_result"
    }
   ],
   "source": [
    "from holisticai.bias.mitigation import VariationalFairClustering\n",
    "from holisticai.pipeline import Pipeline\n",
    "from sklearn.preprocessing import StandardScaler\n",
    "pipeline = Pipeline(steps=[\n",
    "    ('scaler', StandardScaler()),\n",
    "    ('bm_inprocessing', VariationalFairClustering(nb_clusters=4, lmbda=4000, method='kmeans', verbose=True))])\n",
    "pipeline.fit(X_train, bm__group_a = group_a_train, bm__group_b = group_b_train)"
   ]
  },
  {
   "cell_type": "code",
   "execution_count": 22,
   "id": "74217fb3",
   "metadata": {},
   "outputs": [],
   "source": [
    "p_attr_sex = df.iloc[X.index]['sex']\n",
    "p_attr_race = df.iloc[X.index]['race']\n",
    "group_a = p_attr_sex=='Female'\n",
    "group_b = p_attr_sex=='Male'\n",
    "y_pred2 = pipeline.predict(X, bm__group_a=group_a, bm__group_b=group_b)\n",
    "centroids2 = pipeline['bm_inprocessing'].cluster_centers_"
   ]
  },
  {
   "cell_type": "code",
   "execution_count": 23,
   "id": "10a73e10",
   "metadata": {},
   "outputs": [
    {
     "data": {
      "text/plain": [
       "<AxesSubplot:xlabel='Class', ylabel='Group'>"
      ]
     },
     "execution_count": 23,
     "metadata": {},
     "output_type": "execute_result"
    },
    {
     "data": {
      "image/png": "[encoded data removed]",
      "text/plain": [
       "<Figure size 432x288 with 2 Axes>"
      ]
     },
     "metadata": {},
     "output_type": "display_data"
    }
   ],
   "source": [
    "# probability for each race and group\n",
    "frequency_matrix_plot(p_attr_sex, y_pred2, normalize='class')"
   ]
  },
  {
   "cell_type": "code",
   "execution_count": 24,
   "id": "b3698a88",
   "metadata": {},
   "outputs": [
    {
     "data": {
      "text/html": [
       "<div>\n",
       "<style scoped>\n",
       "    .dataframe tbody tr th:only-of-type {\n",
       "        vertical-align: middle;\n",
       "    }\n",
       "\n",
       "    .dataframe tbody tr th {\n",
       "        vertical-align: top;\n",
       "    }\n",
       "\n",
       "    .dataframe thead th {\n",
       "        text-align: right;\n",
       "    }\n",
       "</style>\n",
       "<table border=\"1\" class=\"dataframe\">\n",
       "  <thead>\n",
       "    <tr style=\"text-align: right;\">\n",
       "      <th></th>\n",
       "      <th>Value</th>\n",
       "      <th>Reference</th>\n",
       "    </tr>\n",
       "    <tr>\n",
       "      <th>Metric</th>\n",
       "      <th></th>\n",
       "      <th></th>\n",
       "    </tr>\n",
       "  </thead>\n",
       "  <tbody>\n",
       "    <tr>\n",
       "      <th>Cluster Balance</th>\n",
       "      <td>0.916838</td>\n",
       "      <td>1</td>\n",
       "    </tr>\n",
       "    <tr>\n",
       "      <th>Minimum Cluster Ratio</th>\n",
       "      <td>0.431234</td>\n",
       "      <td>1</td>\n",
       "    </tr>\n",
       "    <tr>\n",
       "      <th>Cluster Distribution Total Variation</th>\n",
       "      <td>0.053076</td>\n",
       "      <td>0</td>\n",
       "    </tr>\n",
       "    <tr>\n",
       "      <th>Cluster Distribution KL Div</th>\n",
       "      <td>0.006492</td>\n",
       "      <td>0</td>\n",
       "    </tr>\n",
       "    <tr>\n",
       "      <th>Social Fairness Ratio</th>\n",
       "      <td>0.975447</td>\n",
       "      <td>1</td>\n",
       "    </tr>\n",
       "    <tr>\n",
       "      <th>Silhouette Difference</th>\n",
       "      <td>-0.001259</td>\n",
       "      <td>0</td>\n",
       "    </tr>\n",
       "  </tbody>\n",
       "</table>\n",
       "</div>"
      ],
      "text/plain": [
       "                                         Value  Reference\n",
       "Metric                                                   \n",
       "Cluster Balance                       0.916838          1\n",
       "Minimum Cluster Ratio                 0.431234          1\n",
       "Cluster Distribution Total Variation  0.053076          0\n",
       "Cluster Distribution KL Div           0.006492          0\n",
       "Social Fairness Ratio                 0.975447          1\n",
       "Silhouette Difference                -0.001259          0"
      ]
     },
     "execution_count": 24,
     "metadata": {},
     "output_type": "execute_result"
    }
   ],
   "source": [
    "clustering_bias_metrics(group_a, group_b, y_pred2, data = data, centroids = centroids2, metric_type = 'both')"
   ]
  },
  {
   "cell_type": "markdown",
   "id": "904c6b04",
   "metadata": {},
   "source": [
    "The above metrics hint that the computed clustering **not** biased in terms of sex attribute."
   ]
  }
 ],
 "metadata": {
  "kernelspec": {
   "display_name": "Python 3.7.0 ('37python')",
   "language": "python",
   "name": "python3"
  },
  "language_info": {
   "codemirror_mode": {
    "name": "ipython",
    "version": 3
   },
   "file_extension": ".py",
   "mimetype": "text/x-python",
   "name": "python",
   "nbconvert_exporter": "python",
   "pygments_lexer": "ipython3",
   "version": "3.7.0"
  },
  "vscode": {
   "interpreter": {
    "hash": "741731a26e7342035280729888e8454f90db802238e65f73db4fbc439e29314c"
   }
  }
 },
 "nbformat": 4,
 "nbformat_minor": 5
}
