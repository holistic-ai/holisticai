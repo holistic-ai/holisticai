{
 "cells": [
  {
   "cell_type": "markdown",
   "id": "3ea086d6",
   "metadata": {
    "id": "pFKF6N69kCay"
   },
   "source": [
    "# **Mitigation Bias using Fairlet clustering**\n"
   ]
  },
  {
   "cell_type": "markdown",
   "id": "98dcbb0c",
   "metadata": {
    "id": "-nYt5_h77QGN"
   },
   "source": [
    "## **Load the data**"
   ]
  },
  {
   "cell_type": "code",
   "execution_count": 1,
   "id": "c50fca4a",
   "metadata": {},
   "outputs": [
    {
     "name": "stderr",
     "output_type": "stream",
     "text": [
      "c:\\Users\\Cristian\\anaconda3\\envs\\metrics\\lib\\site-packages\\tqdm\\auto.py:22: TqdmWarning: IProgress not found. Please update jupyter and ipywidgets. See https://ipywidgets.readthedocs.io/en/stable/user_install.html\n",
      "  from .autonotebook import tqdm as notebook_tqdm\n"
     ]
    }
   ],
   "source": [
    "# Imports\n",
    "import numpy as np\n",
    "import pandas as pd\n",
    "\n",
    "#sys\n",
    "import sys\n",
    "sys.path.append('../../')\n",
    "\n",
    "# Imports\n",
    "import numpy as np\n",
    "import pandas as pd\n",
    "\n",
    "#sys\n",
    "import sys,os\n",
    "sys.path.insert(0,os.getcwd())\n",
    "\n",
    "# Get data\n",
    "from sklearn.model_selection import train_test_split\n",
    "import matplotlib.pyplot as plt\n",
    "from holisticai.bias.metrics import clustering_bias_metrics\n",
    "from tutorials.utils.datasets import preprocessed_dataset\n",
    "import matplotlib.pyplot as plt \n",
    "from sklearn.preprocessing import StandardScaler\n",
    "from sklearn.cluster import KMeans\n",
    "import pandas as pd\n",
    "from holisticai.bias.mitigation.postprocessing.mcmf_clustering.transformer import MCMF\n",
    "\n",
    "data = preprocessed_dataset('adult', splitted=False)\n"
   ]
  },
  {
   "attachments": {},
   "cell_type": "markdown",
   "id": "e118e722",
   "metadata": {},
   "source": [
    "### K-Means"
   ]
  },
  {
   "cell_type": "code",
   "execution_count": 2,
   "id": "1702be74",
   "metadata": {},
   "outputs": [
    {
     "data": {
      "text/html": [
       "<div>\n",
       "<style scoped>\n",
       "    .dataframe tbody tr th:only-of-type {\n",
       "        vertical-align: middle;\n",
       "    }\n",
       "\n",
       "    .dataframe tbody tr th {\n",
       "        vertical-align: top;\n",
       "    }\n",
       "\n",
       "    .dataframe thead th {\n",
       "        text-align: right;\n",
       "    }\n",
       "</style>\n",
       "<table border=\"1\" class=\"dataframe\">\n",
       "  <thead>\n",
       "    <tr style=\"text-align: right;\">\n",
       "      <th></th>\n",
       "      <th>Value</th>\n",
       "      <th>Reference</th>\n",
       "    </tr>\n",
       "    <tr>\n",
       "      <th>Metric</th>\n",
       "      <th></th>\n",
       "      <th></th>\n",
       "    </tr>\n",
       "  </thead>\n",
       "  <tbody>\n",
       "    <tr>\n",
       "      <th>Cluster Balance</th>\n",
       "      <td>0.281226</td>\n",
       "      <td>1</td>\n",
       "    </tr>\n",
       "    <tr>\n",
       "      <th>Minimum Cluster Ratio</th>\n",
       "      <td>0.113937</td>\n",
       "      <td>1</td>\n",
       "    </tr>\n",
       "    <tr>\n",
       "      <th>Cluster Distribution Total Variation</th>\n",
       "      <td>0.427039</td>\n",
       "      <td>0</td>\n",
       "    </tr>\n",
       "    <tr>\n",
       "      <th>Cluster Distribution KL Div</th>\n",
       "      <td>0.485180</td>\n",
       "      <td>0</td>\n",
       "    </tr>\n",
       "    <tr>\n",
       "      <th>Social Fairness Ratio</th>\n",
       "      <td>1.032139</td>\n",
       "      <td>1</td>\n",
       "    </tr>\n",
       "    <tr>\n",
       "      <th>Silhouette Difference</th>\n",
       "      <td>0.001116</td>\n",
       "      <td>0</td>\n",
       "    </tr>\n",
       "  </tbody>\n",
       "</table>\n",
       "</div>"
      ],
      "text/plain": [
       "                                         Value  Reference\n",
       "Metric                                                   \n",
       "Cluster Balance                       0.281226          1\n",
       "Minimum Cluster Ratio                 0.113937          1\n",
       "Cluster Distribution Total Variation  0.427039          0\n",
       "Cluster Distribution KL Div           0.485180          0\n",
       "Social Fairness Ratio                 1.032139          1\n",
       "Silhouette Difference                 0.001116          0"
      ]
     },
     "execution_count": 2,
     "metadata": {},
     "output_type": "execute_result"
    }
   ],
   "source": [
    "k = 6\n",
    "X_train, _, group_a_train, group_b_train = data\n",
    "Xt = StandardScaler().fit_transform(X_train)\n",
    "model = KMeans(n_clusters=k)\n",
    "model.fit(Xt)\n",
    "y_pred = model.predict(Xt)\n",
    "clustering_bias_metrics(group_a_train, group_b_train, y_pred,\n",
    "                              data=Xt, \n",
    "                              centroids=model.cluster_centers_,\n",
    "                              metric_type='both')"
   ]
  },
  {
   "attachments": {},
   "cell_type": "markdown",
   "id": "88cb9b8f",
   "metadata": {},
   "source": [
    "# Post-processing "
   ]
  },
  {
   "cell_type": "code",
   "execution_count": 3,
   "id": "e32eade4",
   "metadata": {},
   "outputs": [
    {
     "name": "stderr",
     "output_type": "stream",
     "text": [
      "100%|██████████| 6/6 [00:00<00:00, 399.36it/s]\n",
      "100%|██████████| 6/6 [00:00<00:00, 479.49it/s]\n",
      "100%|██████████| 48842/48842 [00:02<00:00, 17371.02it/s]\n"
     ]
    },
    {
     "name": "stdout",
     "output_type": "stream",
     "text": [
      "2560854396638.899\n"
     ]
    },
    {
     "data": {
      "text/html": [
       "<div>\n",
       "<style scoped>\n",
       "    .dataframe tbody tr th:only-of-type {\n",
       "        vertical-align: middle;\n",
       "    }\n",
       "\n",
       "    .dataframe tbody tr th {\n",
       "        vertical-align: top;\n",
       "    }\n",
       "\n",
       "    .dataframe thead th {\n",
       "        text-align: right;\n",
       "    }\n",
       "</style>\n",
       "<table border=\"1\" class=\"dataframe\">\n",
       "  <thead>\n",
       "    <tr style=\"text-align: right;\">\n",
       "      <th></th>\n",
       "      <th>Value</th>\n",
       "      <th>Reference</th>\n",
       "    </tr>\n",
       "    <tr>\n",
       "      <th>Metric</th>\n",
       "      <th></th>\n",
       "      <th></th>\n",
       "    </tr>\n",
       "  </thead>\n",
       "  <tbody>\n",
       "    <tr>\n",
       "      <th>Cluster Balance</th>\n",
       "      <td>0.008819</td>\n",
       "      <td>1</td>\n",
       "    </tr>\n",
       "    <tr>\n",
       "      <th>Minimum Cluster Ratio</th>\n",
       "      <td>0.183045</td>\n",
       "      <td>1</td>\n",
       "    </tr>\n",
       "    <tr>\n",
       "      <th>Cluster Distribution Total Variation</th>\n",
       "      <td>0.389525</td>\n",
       "      <td>0</td>\n",
       "    </tr>\n",
       "    <tr>\n",
       "      <th>Cluster Distribution KL Div</th>\n",
       "      <td>1.293342</td>\n",
       "      <td>0</td>\n",
       "    </tr>\n",
       "    <tr>\n",
       "      <th>Social Fairness Ratio</th>\n",
       "      <td>1.032139</td>\n",
       "      <td>1</td>\n",
       "    </tr>\n",
       "    <tr>\n",
       "      <th>Silhouette Difference</th>\n",
       "      <td>0.008565</td>\n",
       "      <td>0</td>\n",
       "    </tr>\n",
       "  </tbody>\n",
       "</table>\n",
       "</div>"
      ],
      "text/plain": [
       "                                         Value  Reference\n",
       "Metric                                                   \n",
       "Cluster Balance                       0.008819          1\n",
       "Minimum Cluster Ratio                 0.183045          1\n",
       "Cluster Distribution Total Variation  0.389525          0\n",
       "Cluster Distribution KL Div           1.293342          0\n",
       "Social Fairness Ratio                 1.032139          1\n",
       "Silhouette Difference                 0.008565          0"
      ]
     },
     "execution_count": 3,
     "metadata": {},
     "output_type": "execute_result"
    }
   ],
   "source": [
    "pos = MCMF(metric='L1', verbose=1)\n",
    "prediction = pos.fit_transform(Xt, y_pred, group_a_train, group_b_train, centroids = model.cluster_centers_)  \n",
    "new_y_pred = prediction['y_pred']\n",
    "clustering_bias_metrics(group_a_train, \n",
    "                        group_b_train, \n",
    "                        new_y_pred, \n",
    "                        data=Xt, \n",
    "                        centroids=model.cluster_centers_,\n",
    "                        metric_type='both')"
   ]
  },
  {
   "cell_type": "code",
   "execution_count": 4,
   "id": "bd6b69a5",
   "metadata": {},
   "outputs": [
    {
     "name": "stdout",
     "output_type": "stream",
     "text": [
      "Similarity with Target 0.8732443388886614\n",
      "Elements per group: [2699, 2699, 2699, 2699, 2698, 2698]\n"
     ]
    }
   ],
   "source": [
    "p_attr = np.array(group_a_train).reshape(-1)\n",
    "print('Similarity with Target',np.sum(new_y_pred==y_pred)/len(y_pred))\n",
    "print('Elements per group:', [len(np.where((new_y_pred==i) & p_attr)[0]) for i in range(k)])"
   ]
  },
  {
   "cell_type": "code",
   "execution_count": 5,
   "id": "c6418e10",
   "metadata": {},
   "outputs": [
    {
     "name": "stderr",
     "output_type": "stream",
     "text": [
      "100%|██████████| 6/6 [00:00<00:00, 229.49it/s]\n",
      "100%|██████████| 6/6 [00:00<00:00, 228.53it/s]\n",
      "100%|██████████| 48842/48842 [00:02<00:00, 17006.17it/s]\n"
     ]
    },
    {
     "name": "stdout",
     "output_type": "stream",
     "text": [
      "3947560460669.6343\n"
     ]
    },
    {
     "data": {
      "text/html": [
       "<div>\n",
       "<style scoped>\n",
       "    .dataframe tbody tr th:only-of-type {\n",
       "        vertical-align: middle;\n",
       "    }\n",
       "\n",
       "    .dataframe tbody tr th {\n",
       "        vertical-align: top;\n",
       "    }\n",
       "\n",
       "    .dataframe thead th {\n",
       "        text-align: right;\n",
       "    }\n",
       "</style>\n",
       "<table border=\"1\" class=\"dataframe\">\n",
       "  <thead>\n",
       "    <tr style=\"text-align: right;\">\n",
       "      <th></th>\n",
       "      <th>Value</th>\n",
       "      <th>Reference</th>\n",
       "    </tr>\n",
       "    <tr>\n",
       "      <th>Metric</th>\n",
       "      <th></th>\n",
       "      <th></th>\n",
       "    </tr>\n",
       "  </thead>\n",
       "  <tbody>\n",
       "    <tr>\n",
       "      <th>Cluster Balance</th>\n",
       "      <td>0.007740</td>\n",
       "      <td>1</td>\n",
       "    </tr>\n",
       "    <tr>\n",
       "      <th>Minimum Cluster Ratio</th>\n",
       "      <td>0.002573</td>\n",
       "      <td>1</td>\n",
       "    </tr>\n",
       "    <tr>\n",
       "      <th>Cluster Distribution Total Variation</th>\n",
       "      <td>0.382401</td>\n",
       "      <td>0</td>\n",
       "    </tr>\n",
       "    <tr>\n",
       "      <th>Cluster Distribution KL Div</th>\n",
       "      <td>0.392340</td>\n",
       "      <td>0</td>\n",
       "    </tr>\n",
       "    <tr>\n",
       "      <th>Social Fairness Ratio</th>\n",
       "      <td>1.032139</td>\n",
       "      <td>1</td>\n",
       "    </tr>\n",
       "    <tr>\n",
       "      <th>Silhouette Difference</th>\n",
       "      <td>-0.006308</td>\n",
       "      <td>0</td>\n",
       "    </tr>\n",
       "  </tbody>\n",
       "</table>\n",
       "</div>"
      ],
      "text/plain": [
       "                                         Value  Reference\n",
       "Metric                                                   \n",
       "Cluster Balance                       0.007740          1\n",
       "Minimum Cluster Ratio                 0.002573          1\n",
       "Cluster Distribution Total Variation  0.382401          0\n",
       "Cluster Distribution KL Div           0.392340          0\n",
       "Social Fairness Ratio                 1.032139          1\n",
       "Silhouette Difference                -0.006308          0"
      ]
     },
     "execution_count": 5,
     "metadata": {},
     "output_type": "execute_result"
    }
   ],
   "source": [
    "pos = MCMF(metric='L1', verbose=1)\n",
    "prediction = pos.fit_transform(Xt, y_pred, group_b_train, group_a_train, centroids = model.cluster_centers_)  \n",
    "new_y_pred = prediction['y_pred']\n",
    "clustering_bias_metrics(group_a_train, \n",
    "                              group_b_train, \n",
    "                              new_y_pred, \n",
    "                              data=Xt, \n",
    "                              centroids=model.cluster_centers_,\n",
    "                              metric_type='both')"
   ]
  },
  {
   "cell_type": "code",
   "execution_count": 6,
   "id": "939500eb",
   "metadata": {},
   "outputs": [
    {
     "name": "stdout",
     "output_type": "stream",
     "text": [
      "Similarity with Target 0.739588878424307\n",
      "Elements per group: [5442, 5442, 5442, 5441, 5442, 5441]\n"
     ]
    }
   ],
   "source": [
    "p_attr = np.array(group_b_train).reshape(-1)\n",
    "print('Similarity with Target',np.sum(new_y_pred==y_pred)/len(y_pred))\n",
    "print('Elements per group:', [len(np.where((new_y_pred==i) & p_attr)[0]) for i in range(k)])"
   ]
  },
  {
   "cell_type": "code",
   "execution_count": 7,
   "id": "2a811531",
   "metadata": {},
   "outputs": [
    {
     "name": "stderr",
     "output_type": "stream",
     "text": [
      "100%|██████████| 6/6 [00:00<00:00, 426.23it/s]\n",
      "100%|██████████| 6/6 [00:00<00:00, 413.22it/s]\n",
      "100%|██████████| 48842/48842 [00:02<00:00, 16737.58it/s]\n"
     ]
    },
    {
     "name": "stdout",
     "output_type": "stream",
     "text": [
      "2560854396638.899\n"
     ]
    },
    {
     "name": "stderr",
     "output_type": "stream",
     "text": [
      "100%|██████████| 6/6 [00:00<00:00, 233.43it/s]\n",
      "100%|██████████| 6/6 [00:00<00:00, 234.06it/s]\n",
      "100%|██████████| 48842/48842 [00:02<00:00, 16864.41it/s]\n"
     ]
    },
    {
     "name": "stdout",
     "output_type": "stream",
     "text": [
      "5780235511034.32\n"
     ]
    },
    {
     "data": {
      "text/html": [
       "<div>\n",
       "<style scoped>\n",
       "    .dataframe tbody tr th:only-of-type {\n",
       "        vertical-align: middle;\n",
       "    }\n",
       "\n",
       "    .dataframe tbody tr th {\n",
       "        vertical-align: top;\n",
       "    }\n",
       "\n",
       "    .dataframe thead th {\n",
       "        text-align: right;\n",
       "    }\n",
       "</style>\n",
       "<table border=\"1\" class=\"dataframe\">\n",
       "  <thead>\n",
       "    <tr style=\"text-align: right;\">\n",
       "      <th></th>\n",
       "      <th>Value</th>\n",
       "      <th>Reference</th>\n",
       "    </tr>\n",
       "    <tr>\n",
       "      <th>Metric</th>\n",
       "      <th></th>\n",
       "      <th></th>\n",
       "    </tr>\n",
       "  </thead>\n",
       "  <tbody>\n",
       "    <tr>\n",
       "      <th>Cluster Balance</th>\n",
       "      <td>9.997939e-01</td>\n",
       "      <td>1</td>\n",
       "    </tr>\n",
       "    <tr>\n",
       "      <th>Minimum Cluster Ratio</th>\n",
       "      <td>4.957736e-01</td>\n",
       "      <td>1</td>\n",
       "    </tr>\n",
       "    <tr>\n",
       "      <th>Cluster Distribution Total Variation</th>\n",
       "      <td>7.213590e-05</td>\n",
       "      <td>0</td>\n",
       "    </tr>\n",
       "    <tr>\n",
       "      <th>Cluster Distribution KL Div</th>\n",
       "      <td>1.522649e-08</td>\n",
       "      <td>0</td>\n",
       "    </tr>\n",
       "    <tr>\n",
       "      <th>Social Fairness Ratio</th>\n",
       "      <td>1.032139e+00</td>\n",
       "      <td>1</td>\n",
       "    </tr>\n",
       "    <tr>\n",
       "      <th>Silhouette Difference</th>\n",
       "      <td>1.404231e-03</td>\n",
       "      <td>0</td>\n",
       "    </tr>\n",
       "  </tbody>\n",
       "</table>\n",
       "</div>"
      ],
      "text/plain": [
       "                                             Value  Reference\n",
       "Metric                                                       \n",
       "Cluster Balance                       9.997939e-01          1\n",
       "Minimum Cluster Ratio                 4.957736e-01          1\n",
       "Cluster Distribution Total Variation  7.213590e-05          0\n",
       "Cluster Distribution KL Div           1.522649e-08          0\n",
       "Social Fairness Ratio                 1.032139e+00          1\n",
       "Silhouette Difference                 1.404231e-03          0"
      ]
     },
     "execution_count": 7,
     "metadata": {},
     "output_type": "execute_result"
    }
   ],
   "source": [
    "pos = MCMF(metric='L1', verbose=1)\n",
    "prediction = pos.fit_transform(Xt, y_pred, group_a_train, group_b_train, centroids = model.cluster_centers_)  \n",
    "new_y_pred = prediction['y_pred']\n",
    "\n",
    "prediction = pos.fit_transform(Xt, new_y_pred, group_b_train, group_a_train, centroids = model.cluster_centers_)  \n",
    "new_y_pred = prediction['y_pred']\n",
    "\n",
    "clustering_bias_metrics(group_a_train, \n",
    "                        group_b_train, \n",
    "                        new_y_pred, \n",
    "                        data=Xt, \n",
    "                        centroids=model.cluster_centers_,\n",
    "                        metric_type='both')"
   ]
  },
  {
   "cell_type": "code",
   "execution_count": 8,
   "id": "f143b105",
   "metadata": {},
   "outputs": [
    {
     "name": "stdout",
     "output_type": "stream",
     "text": [
      "Similarity with Target 0.6128332173129684\n",
      "Elements per group: [2699, 2699, 2699, 2699, 2698, 2698]\n",
      "Elements per group: [5442, 5442, 5442, 5441, 5442, 5441]\n"
     ]
    }
   ],
   "source": [
    "p_attr = np.array(group_a_train).reshape(-1)\n",
    "print('Similarity with Target',np.sum(new_y_pred==y_pred)/len(y_pred))\n",
    "print('Elements per group:', [len(np.where((new_y_pred==i) & p_attr)[0]) for i in range(k)])\n",
    "print('Elements per group:', [len(np.where((new_y_pred==i) & 1-p_attr)[0]) for i in range(k)])"
   ]
  },
  {
   "attachments": {},
   "cell_type": "markdown",
   "id": "6768756d",
   "metadata": {},
   "source": [
    "### Using Pipeline"
   ]
  },
  {
   "cell_type": "code",
   "execution_count": 12,
   "id": "f79717e3",
   "metadata": {},
   "outputs": [
    {
     "name": "stderr",
     "output_type": "stream",
     "text": [
      "100%|██████████| 6/6 [00:00<00:00, 413.03it/s]\n",
      "100%|██████████| 6/6 [00:00<00:00, 374.22it/s]\n",
      "100%|██████████| 48842/48842 [00:02<00:00, 16688.11it/s]\n"
     ]
    },
    {
     "name": "stdout",
     "output_type": "stream",
     "text": [
      "6596936033090.155\n"
     ]
    }
   ],
   "source": [
    "from holisticai.pipeline import Pipeline\n",
    "k = 6\n",
    "X_train, _, group_a_train, group_b_train = data\n",
    "\n",
    "pipeline = Pipeline(steps=[\n",
    "    ('scaler',StandardScaler()),\n",
    "    ('model',KMeans(n_clusters=k)),\n",
    "    ('bm_postprocessing',MCMF(metric='L1', group_mode='a', verbose=1))\n",
    "])\n",
    "\n",
    "pipeline.fit(X_train)\n",
    "predict_params = {'bm__group_a':group_a_train,\n",
    "                  'bm__group_b':group_b_train,\n",
    "                  'bm__centroids':\"cluster_centers_\"}\n",
    "y_pred = pipeline.predict(X_train,**predict_params )\n",
    "clustering_bias_metrics(group_a_train, group_b_train, y_pred,\n",
    "                        data=X_train, \n",
    "                        centroids=pipeline['model'].cluster_centers_,\n",
    "                        metric_type='both')"
   ]
  },
  {
   "cell_type": "code",
   "execution_count": 10,
   "id": "5d473f1c",
   "metadata": {},
   "outputs": [
    {
     "name": "stdout",
     "output_type": "stream",
     "text": [
      "Elements per group: [2699, 2698, 2699, 2698, 2699, 2699]\n"
     ]
    }
   ],
   "source": [
    "p_attr = np.array(group_a_train).reshape(-1)\n",
    "print('Elements per group:', [len(np.where((y_pred==i) & p_attr)[0]) for i in range(k)])"
   ]
  },
  {
   "cell_type": "code",
   "execution_count": 11,
   "id": "a82c1dad",
   "metadata": {},
   "outputs": [
    {
     "name": "stderr",
     "output_type": "stream",
     "text": [
      "100%|██████████| 6/6 [00:00<00:00, 478.51it/s]\n",
      "100%|██████████| 6/6 [00:00<00:00, 362.52it/s]\n",
      "100%|██████████| 48842/48842 [00:02<00:00, 17291.95it/s]\n"
     ]
    },
    {
     "name": "stdout",
     "output_type": "stream",
     "text": [
      "4469192528062.849\n"
     ]
    },
    {
     "name": "stderr",
     "output_type": "stream",
     "text": [
      "100%|██████████| 6/6 [00:00<00:00, 202.60it/s]\n",
      "100%|██████████| 6/6 [00:00<00:00, 216.93it/s]\n",
      "100%|██████████| 48842/48842 [00:02<00:00, 17404.22it/s]\n"
     ]
    },
    {
     "name": "stdout",
     "output_type": "stream",
     "text": [
      "9000270904262.42\n"
     ]
    },
    {
     "data": {
      "text/html": [
       "<div>\n",
       "<style scoped>\n",
       "    .dataframe tbody tr th:only-of-type {\n",
       "        vertical-align: middle;\n",
       "    }\n",
       "\n",
       "    .dataframe tbody tr th {\n",
       "        vertical-align: top;\n",
       "    }\n",
       "\n",
       "    .dataframe thead th {\n",
       "        text-align: right;\n",
       "    }\n",
       "</style>\n",
       "<table border=\"1\" class=\"dataframe\">\n",
       "  <thead>\n",
       "    <tr style=\"text-align: right;\">\n",
       "      <th></th>\n",
       "      <th>Value</th>\n",
       "      <th>Reference</th>\n",
       "    </tr>\n",
       "    <tr>\n",
       "      <th>Metric</th>\n",
       "      <th></th>\n",
       "      <th></th>\n",
       "    </tr>\n",
       "  </thead>\n",
       "  <tbody>\n",
       "    <tr>\n",
       "      <th>Cluster Balance</th>\n",
       "      <td>9.997939e-01</td>\n",
       "      <td>1</td>\n",
       "    </tr>\n",
       "    <tr>\n",
       "      <th>Minimum Cluster Ratio</th>\n",
       "      <td>4.957736e-01</td>\n",
       "      <td>1</td>\n",
       "    </tr>\n",
       "    <tr>\n",
       "      <th>Cluster Distribution Total Variation</th>\n",
       "      <td>7.213590e-05</td>\n",
       "      <td>0</td>\n",
       "    </tr>\n",
       "    <tr>\n",
       "      <th>Cluster Distribution KL Div</th>\n",
       "      <td>1.522649e-08</td>\n",
       "      <td>0</td>\n",
       "    </tr>\n",
       "    <tr>\n",
       "      <th>Social Fairness Ratio</th>\n",
       "      <td>1.049723e+00</td>\n",
       "      <td>1</td>\n",
       "    </tr>\n",
       "    <tr>\n",
       "      <th>Silhouette Difference</th>\n",
       "      <td>1.864337e-03</td>\n",
       "      <td>0</td>\n",
       "    </tr>\n",
       "  </tbody>\n",
       "</table>\n",
       "</div>"
      ],
      "text/plain": [
       "                                             Value  Reference\n",
       "Metric                                                       \n",
       "Cluster Balance                       9.997939e-01          1\n",
       "Minimum Cluster Ratio                 4.957736e-01          1\n",
       "Cluster Distribution Total Variation  7.213590e-05          0\n",
       "Cluster Distribution KL Div           1.522649e-08          0\n",
       "Social Fairness Ratio                 1.049723e+00          1\n",
       "Silhouette Difference                 1.864337e-03          0"
      ]
     },
     "execution_count": 11,
     "metadata": {},
     "output_type": "execute_result"
    }
   ],
   "source": [
    "from holisticai.pipeline import Pipeline\n",
    "k = 6\n",
    "X_train, _, group_a_train, group_b_train = data\n",
    "\n",
    "pipeline = Pipeline(steps=[\n",
    "    ('scaler',StandardScaler()),\n",
    "    ('model',KMeans(n_clusters=k)),\n",
    "    ('bm_postprocessing',MCMF(metric='L1', group_mode='ab', verbose=1))\n",
    "])\n",
    "\n",
    "pipeline.fit(X_train)\n",
    "predict_params = {'bm__group_a':group_a_train,\n",
    "                  'bm__group_b':group_b_train,\n",
    "                  'bm__centroids':\"cluster_centers_\"}\n",
    "y_pred = pipeline.predict(X_train,**predict_params )\n",
    "clustering_bias_metrics(group_a_train, group_b_train, y_pred,\n",
    "                        data=X_train, \n",
    "                        centroids=pipeline['model'].cluster_centers_,\n",
    "                        metric_type='both')"
   ]
  }
 ],
 "metadata": {
  "kernelspec": {
   "display_name": "Python 3.9.12 ('metrics')",
   "language": "python",
   "name": "python3"
  },
  "language_info": {
   "codemirror_mode": {
    "name": "ipython",
    "version": 3
   },
   "file_extension": ".py",
   "mimetype": "text/x-python",
   "name": "python",
   "nbconvert_exporter": "python",
   "pygments_lexer": "ipython3",
   "version": "3.9.12"
  },
  "vscode": {
   "interpreter": {
    "hash": "9ce100595ae63371127da51ea64be910b7c4b0de39dc50c38822dd5588773933"
   }
  }
 },
 "nbformat": 4,
 "nbformat_minor": 5
}
