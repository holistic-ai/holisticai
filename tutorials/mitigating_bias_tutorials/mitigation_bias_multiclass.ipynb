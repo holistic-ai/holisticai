{
 "cells": [
  {
   "cell_type": "markdown",
   "id": "3ea086d6",
   "metadata": {
    "id": "pFKF6N69kCay"
   },
   "source": [
    "# **Mitigating Bias in multiclass classification**\n"
   ]
  },
  {
   "cell_type": "code",
   "execution_count": null,
   "metadata": {},
   "outputs": [],
   "source": [
    "# sys path\n",
    "import sys\n",
    "sys.path = ['../../']+sys.path"
   ]
  },
  {
   "cell_type": "code",
   "execution_count": null,
   "metadata": {},
   "outputs": [],
   "source": [
    "from sklearn.linear_model import LogisticRegression\n",
    "from sklearn.preprocessing import StandardScaler\n",
    "from holisticai.bias.metrics import multiclass_bias_metrics\n",
    "from holisticai.pipeline import Pipeline\n",
    "from holisticai.utils.transformers.bias import SensitiveGroups\n",
    "from tests.testing_utils._tests_data_utils import load_preprocessed_us_crime\n",
    "import matplotlib.pyplot as plt\n",
    "import pandas as pd\n",
    "import numpy as np"
   ]
  },
  {
   "cell_type": "markdown",
   "metadata": {},
   "source": [
    "## Data Preprocessing"
   ]
  },
  {
   "cell_type": "code",
   "execution_count": null,
   "metadata": {},
   "outputs": [],
   "source": [
    "train_data , test_data = load_preprocessed_us_crime(nb_classes=5)\n",
    "_, _, group_a, group_b = train_data\n",
    "sensgroup = SensitiveGroups()"
   ]
  },
  {
   "cell_type": "markdown",
   "metadata": {},
   "source": [
    "## Baseline"
   ]
  },
  {
   "cell_type": "code",
   "execution_count": null,
   "metadata": {},
   "outputs": [],
   "source": [
    "pipeline = Pipeline(\n",
    "    steps=[\n",
    "        ('scalar', StandardScaler()),\n",
    "        (\"model\", LogisticRegression()),\n",
    "    ]\n",
    ")\n",
    "\n",
    "X, y, group_a, group_b = train_data\n",
    "\n",
    "pipeline.fit(X, y)\n",
    "\n",
    "X, y, group_a, group_b = test_data\n",
    "\n",
    "y_pred = pipeline.predict(X)\n",
    "\n",
    "p_attr = sensgroup.fit_transform(np.stack([group_a,group_b], axis=1), convert_numeric=True)\n",
    "\n",
    "df = multiclass_bias_metrics(\n",
    "    p_attr,\n",
    "    y_pred,\n",
    "    y,\n",
    "    metric_type='both'\n",
    ")\n",
    "y_baseline = y_pred.copy()\n",
    "df_baseline=df.copy()\n",
    "df_baseline"
   ]
  },
  {
   "cell_type": "markdown",
   "metadata": {},
   "source": [
    "## ML Debiaser"
   ]
  },
  {
   "cell_type": "code",
   "execution_count": null,
   "metadata": {},
   "outputs": [],
   "source": [
    "from holisticai.bias.mitigation import MLDebiaser\n",
    "np.random.seed(10)\n",
    "\n",
    "pipeline = Pipeline(\n",
    "    steps=[\n",
    "        ('scalar', StandardScaler()),\n",
    "        (\"model\", LogisticRegression()),\n",
    "        (\"bm_postprocessing\", MLDebiaser(sgd_steps=10_000,\n",
    "                       full_gradient_epochs=500, \n",
    "                       max_iter=5)),\n",
    "    ]\n",
    ")\n",
    "\n",
    "X, y, group_a, group_b = train_data\n",
    "fit_params = {\n",
    "    \"bm__group_a\": group_a, \n",
    "    \"bm__group_b\": group_b\n",
    "}\n",
    "\n",
    "pipeline.fit(X, y, **fit_params)\n",
    "\n",
    "X, y, group_a, group_b = test_data\n",
    "predict_params = {\n",
    "    \"bm__group_a\": group_a,\n",
    "    \"bm__group_b\": group_b,\n",
    "}\n",
    "y_pred = pipeline.predict(X, **predict_params)\n",
    "\n",
    "p_attr = sensgroup.transform(np.stack([group_a,group_b], axis=1), convert_numeric=True)\n",
    "\n",
    "df = multiclass_bias_metrics(\n",
    "    p_attr,\n",
    "    y_pred,\n",
    "    y,\n",
    "    metric_type='both'\n",
    ")\n",
    "y_mldebiaser  = y_pred.copy()\n",
    "df_mldebiaser = df.copy()\n",
    "df_mldebiaser"
   ]
  },
  {
   "cell_type": "markdown",
   "metadata": {},
   "source": [
    "## Reweighing"
   ]
  },
  {
   "cell_type": "code",
   "execution_count": null,
   "metadata": {},
   "outputs": [],
   "source": [
    "from holisticai.bias.mitigation import Reweighing\n",
    "np.random.seed(10)\n",
    "\n",
    "pipeline = Pipeline(\n",
    "    steps=[\n",
    "        ('scalar', StandardScaler()),\n",
    "        (\"bm_preprocessing\", Reweighing()),\n",
    "        (\"model\", LogisticRegression()),\n",
    "    ]\n",
    ")\n",
    "\n",
    "X, y, group_a, group_b = train_data\n",
    "fit_params = {\n",
    "    \"bm__group_a\": group_a, \n",
    "    \"bm__group_b\": group_b\n",
    "}\n",
    "\n",
    "pipeline.fit(X, y, **fit_params)\n",
    "\n",
    "X, y, group_a, group_b = test_data\n",
    "predict_params = {\n",
    "    \"bm__group_a\": group_a,\n",
    "    \"bm__group_b\": group_b,\n",
    "}\n",
    "y_pred = pipeline.predict(X, **predict_params)\n",
    "\n",
    "p_attr = sensgroup.transform(np.stack([group_a,group_b], axis=1), convert_numeric=True)\n",
    "\n",
    "df = multiclass_bias_metrics(\n",
    "    p_attr,\n",
    "    y_pred,\n",
    "    y,\n",
    "    metric_type='both'\n",
    ")\n",
    "y_rw  = y_pred.copy()\n",
    "df_rw = df.copy()\n",
    "df_rw"
   ]
  },
  {
   "cell_type": "code",
   "execution_count": null,
   "metadata": {},
   "outputs": [],
   "source": [
    "from holisticai.bias.mitigation import CorrelationRemover\n",
    "\n",
    "pipeline = Pipeline(\n",
    "    steps=[\n",
    "        ('scalar', StandardScaler()),\n",
    "        (\"bm_preprocessing\", CorrelationRemover()),\n",
    "        (\"model\", LogisticRegression()),\n",
    "    ]\n",
    ")\n",
    "\n",
    "X, y, group_a, group_b = train_data\n",
    "fit_params = {\n",
    "    \"bm__group_a\": group_a, \n",
    "    \"bm__group_b\": group_b\n",
    "}\n",
    "\n",
    "pipeline.fit(X, y, **fit_params)\n",
    "\n",
    "X, y, group_a, group_b = test_data\n",
    "predict_params = {\n",
    "    \"bm__group_a\": group_a,\n",
    "    \"bm__group_b\": group_b,\n",
    "}\n",
    "y_pred = pipeline.predict(X, **predict_params)\n",
    "\n",
    "p_attr = sensgroup.transform(np.stack([group_a,group_b], axis=1), convert_numeric=True)\n",
    "\n",
    "df = multiclass_bias_metrics(\n",
    "    p_attr,\n",
    "    y_pred,\n",
    "    y,\n",
    "    metric_type='both'\n",
    ")\n",
    "y_cr  = y_pred.copy()\n",
    "df_cr = df.copy()\n",
    "df_cr"
   ]
  },
  {
   "cell_type": "code",
   "execution_count": null,
   "metadata": {},
   "outputs": [],
   "source": [
    "result = pd.concat([df_baseline, df_rw, df_cr,df_mldebiaser], axis=1).iloc[:, [0,2,4,6,7]]\n",
    "result.columns = ['Baseline','Reweighing','Correlation Remover','ML Debiaser','Reference']\n",
    "result"
   ]
  },
  {
   "attachments": {},
   "cell_type": "markdown",
   "metadata": {},
   "source": [
    "### Fair Score Classifier"
   ]
  },
  {
   "cell_type": "code",
   "execution_count": null,
   "metadata": {},
   "outputs": [],
   "source": [
    "from holisticai.bias.mitigation import FairScoreClassifier"
   ]
  },
  {
   "cell_type": "code",
   "execution_count": null,
   "metadata": {},
   "outputs": [],
   "source": [
    "X, y, group_a, group_b = train_data\n",
    "# Convert y to one-hot\n",
    "y = pd.get_dummies(y).values"
   ]
  },
  {
   "cell_type": "code",
   "execution_count": null,
   "metadata": {},
   "outputs": [],
   "source": [
    "# Define and train the model\n",
    "objectives = \"ba\"\n",
    "constraints = {}\n",
    "model = FairScoreClassifier(objectives, constraints, time_limit=200)\n",
    "model.fit(X, y, group_a, group_b)"
   ]
  },
  {
   "cell_type": "code",
   "execution_count": null,
   "metadata": {},
   "outputs": [],
   "source": [
    "# Make the predictions\n",
    "X, y, group_a, group_b = test_data\n",
    "ypred = model.predict(X, group_a, group_b)\n",
    "p_attr = sensgroup.fit_transform(np.stack([group_a,group_b], axis=1), convert_numeric=True)"
   ]
  },
  {
   "cell_type": "code",
   "execution_count": null,
   "metadata": {},
   "outputs": [],
   "source": [
    "multiclass_bias_metrics(\n",
    "    p_attr,\n",
    "    ypred,\n",
    "    y,\n",
    "    metric_type='both'\n",
    ")"
   ]
  },
  {
   "attachments": {},
   "cell_type": "markdown",
   "metadata": {},
   "source": [
    "### Fair Score Classifier - pipeline"
   ]
  },
  {
   "cell_type": "code",
   "execution_count": null,
   "metadata": {},
   "outputs": [],
   "source": [
    "objectives = \"ba\"\n",
    "constraints = {}\n",
    "\n",
    "pipeline = Pipeline(\n",
    "    steps=[\n",
    "        ('scalar', StandardScaler()),\n",
    "        (\"bm_inprocessing\", FairScoreClassifier(objectives, constraints, time_limit=200)),\n",
    "    ]\n",
    ")"
   ]
  },
  {
   "cell_type": "code",
   "execution_count": null,
   "metadata": {},
   "outputs": [],
   "source": [
    "X, y, group_a, group_b = train_data\n",
    "# Convert y to one-hot\n",
    "y = pd.get_dummies(y).values\n",
    "\n",
    "fit_params = {\n",
    "    \"bm__group_a\": group_a, \n",
    "    \"bm__group_b\": group_b\n",
    "}\n",
    "\n",
    "pipeline.fit(X, y, **fit_params)"
   ]
  },
  {
   "cell_type": "code",
   "execution_count": null,
   "metadata": {},
   "outputs": [],
   "source": [
    "X, y, group_a, group_b = test_data\n",
    "predict_params = {\n",
    "    \"bm__group_a\": group_a,\n",
    "    \"bm__group_b\": group_b,\n",
    "}\n",
    "y_pred = pipeline.predict(X, **predict_params)"
   ]
  },
  {
   "cell_type": "code",
   "execution_count": null,
   "metadata": {},
   "outputs": [],
   "source": [
    "multiclass_bias_metrics(\n",
    "    p_attr,\n",
    "    y_pred,\n",
    "    y,\n",
    "    metric_type='both'\n",
    ")"
   ]
  }
 ],
 "metadata": {
  "kernelspec": {
   "display_name": "Python 3.9.8 ('holisticai-CK3Le5pJ-py3.9')",
   "language": "python",
   "name": "python3"
  },
  "language_info": {
   "codemirror_mode": {
    "name": "ipython",
    "version": 3
   },
   "file_extension": ".py",
   "mimetype": "text/x-python",
   "name": "python",
   "nbconvert_exporter": "python",
   "pygments_lexer": "ipython3",
   "version": "3.9.8 (main, Nov 28 2022, 10:03:36) \n[GCC 9.4.0]"
  },
  "orig_nbformat": 4,
  "vscode": {
   "interpreter": {
    "hash": "56a32d3f00e90ec67e7e2eda64c3469c31b8781b4a863702fea82584a368286a"
   }
  }
 },
 "nbformat": 4,
 "nbformat_minor": 2
}
