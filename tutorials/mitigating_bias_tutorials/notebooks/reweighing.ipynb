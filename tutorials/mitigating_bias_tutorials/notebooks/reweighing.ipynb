{
 "cells": [
  {
   "cell_type": "markdown",
   "metadata": {},
   "source": [
    "# Reweighing"
   ]
  },
  {
   "cell_type": "markdown",
   "metadata": {},
   "source": [
    "This tutorial demostrates how apply Reweighing Pre-processing algorithm for bias mitigation. "
   ]
  },
  {
   "cell_type": "code",
   "execution_count": 1,
   "metadata": {},
   "outputs": [],
   "source": [
    "# sys path\n",
    "import sys\n",
    "sys.path.append('../../../')\n",
    "\n",
    "# Imports\n",
    "from utils import load_preprocessed_adult\n",
    "from holisticai.bias.metrics import classification_bias_metrics\n",
    "from holisticai.pipeline import Pipeline\n",
    "\n",
    "from sklearn.linear_model import LogisticRegression\n",
    "from sklearn.preprocessing import StandardScaler\n",
    "from holisticai.bias.metrics import statistical_parity\n",
    "\n",
    "import numpy as np\n",
    "import pandas as pd\n",
    "\n",
    "# Settings\n",
    "np.random.seed(0)\n",
    "import warnings\n",
    "warnings.filterwarnings(\"ignore\")"
   ]
  },
  {
   "cell_type": "markdown",
   "metadata": {},
   "source": [
    "Load preprocessed adult dataset (details in preprocessing_dataset.ipynb)\n",
    "- protected attributes: [\"sex\" , \"race\"] (attributes removed from original dataset)\n",
    "- sensible attribute: \"sex\" (groups: \"Male\" and \"Female\")"
   ]
  },
  {
   "cell_type": "code",
   "execution_count": 2,
   "metadata": {},
   "outputs": [],
   "source": [
    "train_data , test_data = load_preprocessed_adult()"
   ]
  },
  {
   "cell_type": "markdown",
   "metadata": {},
   "source": [
    "Define statistical_parity functions using sample weights"
   ]
  },
  {
   "cell_type": "code",
   "execution_count": 3,
   "metadata": {},
   "outputs": [],
   "source": [
    "def sample_weight_mean_difference(group_a, group_b, y, sample_weight=None):\n",
    "    if sample_weight is None:\n",
    "        sample_weight = np.ones_like(y)\n",
    "        \n",
    "    group_a = group_a.squeeze()\n",
    "    group_b = group_b.squeeze()\n",
    "    y = y.values.squeeze()\n",
    "    return np.abs(sample_weight[group_a & y==1].sum() - sample_weight[group_b & y==1].sum())"
   ]
  },
  {
   "cell_type": "code",
   "execution_count": 4,
   "metadata": {},
   "outputs": [
    {
     "data": {
      "text/plain": [
       "6534"
      ]
     },
     "execution_count": 4,
     "metadata": {},
     "output_type": "execute_result"
    }
   ],
   "source": [
    "x, y, group_a, group_b = train_data\n",
    "\n",
    "sample_weight = np.ones(len(y))\n",
    "\n",
    "sample_weight_mean_difference(group_a, group_b, y)"
   ]
  },
  {
   "cell_type": "code",
   "execution_count": 5,
   "metadata": {},
   "outputs": [
    {
     "data": {
      "text/plain": [
       "3168.273"
      ]
     },
     "execution_count": 5,
     "metadata": {},
     "output_type": "execute_result"
    }
   ],
   "source": [
    "from holisticai.bias.mitigation import Reweighing\n",
    "\n",
    "x, y, group_a, group_b = train_data\n",
    "\n",
    "bm = Reweighing()\n",
    "bm.fit(y, group_a, group_b)\n",
    "sample_weight = bm.estimator_params['sample_weight']\n",
    "\n",
    "sample_weight_mean_difference(group_a, group_b, y, sample_weight)"
   ]
  },
  {
   "cell_type": "markdown",
   "metadata": {},
   "source": [
    "# Baseline"
   ]
  },
  {
   "cell_type": "code",
   "execution_count": 6,
   "metadata": {},
   "outputs": [],
   "source": [
    "x, y, group_a, group_b = train_data\n",
    "\n",
    "scaler = StandardScaler()\n",
    "xt = scaler.fit_transform(x)\n",
    "\n",
    "model = LogisticRegression()\n",
    "model.fit(xt,y)\n",
    "\n",
    "x, y, group_a, group_b = test_data\n",
    "xt = scaler.transform(x)\n",
    "\n",
    "y_pred = model.predict(xt)\n",
    "\n",
    "df_bl = classification_bias_metrics(group_a, group_b, y_pred, y, metric_type='both')"
   ]
  },
  {
   "cell_type": "markdown",
   "metadata": {},
   "source": [
    "# Using Reweighing Bias Mitigation"
   ]
  },
  {
   "cell_type": "code",
   "execution_count": 7,
   "metadata": {},
   "outputs": [],
   "source": [
    "from holisticai.bias.mitigation import Reweighing\n",
    "\n",
    "x, y, group_a, group_b = train_data\n",
    "\n",
    "scaler = StandardScaler()\n",
    "xt = scaler.fit_transform(x)\n",
    "\n",
    "bm = Reweighing()\n",
    "bm.fit(y, group_a, group_b)\n",
    "sample_weight = bm.estimator_params['sample_weight']\n",
    "\n",
    "model = LogisticRegression()\n",
    "model.fit(xt, y, sample_weight=sample_weight)\n",
    "\n",
    "x, y, group_a, group_b = train_data\n",
    "xt = scaler.transform(x)\n",
    "\n",
    "y_pred = model.predict(xt)\n",
    "\n",
    "df_rw = classification_bias_metrics(group_a, group_b, y_pred, y, metric_type='both')"
   ]
  },
  {
   "cell_type": "markdown",
   "metadata": {},
   "source": [
    "# Comparing Results"
   ]
  },
  {
   "cell_type": "code",
   "execution_count": 8,
   "metadata": {},
   "outputs": [
    {
     "data": {
      "text/html": [
       "<div>\n",
       "<style scoped>\n",
       "    .dataframe tbody tr th:only-of-type {\n",
       "        vertical-align: middle;\n",
       "    }\n",
       "\n",
       "    .dataframe tbody tr th {\n",
       "        vertical-align: top;\n",
       "    }\n",
       "\n",
       "    .dataframe thead th {\n",
       "        text-align: right;\n",
       "    }\n",
       "</style>\n",
       "<table border=\"1\" class=\"dataframe\">\n",
       "  <thead>\n",
       "    <tr style=\"text-align: right;\">\n",
       "      <th></th>\n",
       "      <th>Baseline</th>\n",
       "      <th>Reweighing</th>\n",
       "      <th>Reference</th>\n",
       "    </tr>\n",
       "    <tr>\n",
       "      <th>Metric</th>\n",
       "      <th></th>\n",
       "      <th></th>\n",
       "      <th></th>\n",
       "    </tr>\n",
       "  </thead>\n",
       "  <tbody>\n",
       "    <tr>\n",
       "      <th>Statistical Parity</th>\n",
       "      <td>-0.178353</td>\n",
       "      <td>-0.092602</td>\n",
       "      <td>0</td>\n",
       "    </tr>\n",
       "    <tr>\n",
       "      <th>Disparate Impact</th>\n",
       "      <td>0.309067</td>\n",
       "      <td>0.565550</td>\n",
       "      <td>1</td>\n",
       "    </tr>\n",
       "    <tr>\n",
       "      <th>Four Fifths Rule</th>\n",
       "      <td>0.309067</td>\n",
       "      <td>0.565550</td>\n",
       "      <td>1</td>\n",
       "    </tr>\n",
       "    <tr>\n",
       "      <th>Cohen D</th>\n",
       "      <td>-0.457755</td>\n",
       "      <td>-0.241252</td>\n",
       "      <td>0</td>\n",
       "    </tr>\n",
       "    <tr>\n",
       "      <th>Equality of Opportunity Difference</th>\n",
       "      <td>-0.059581</td>\n",
       "      <td>0.115541</td>\n",
       "      <td>0</td>\n",
       "    </tr>\n",
       "    <tr>\n",
       "      <th>False Positive Rate Difference</th>\n",
       "      <td>-0.082695</td>\n",
       "      <td>-0.013498</td>\n",
       "      <td>0</td>\n",
       "    </tr>\n",
       "    <tr>\n",
       "      <th>Average Odds Difference</th>\n",
       "      <td>-0.071138</td>\n",
       "      <td>0.051021</td>\n",
       "      <td>0</td>\n",
       "    </tr>\n",
       "    <tr>\n",
       "      <th>Accuracy Difference</th>\n",
       "      <td>0.122388</td>\n",
       "      <td>0.099645</td>\n",
       "      <td>0</td>\n",
       "    </tr>\n",
       "  </tbody>\n",
       "</table>\n",
       "</div>"
      ],
      "text/plain": [
       "                                    Baseline  Reweighing  Reference\n",
       "Metric                                                             \n",
       "Statistical Parity                 -0.178353   -0.092602          0\n",
       "Disparate Impact                    0.309067    0.565550          1\n",
       "Four Fifths Rule                    0.309067    0.565550          1\n",
       "Cohen D                            -0.457755   -0.241252          0\n",
       "Equality of Opportunity Difference -0.059581    0.115541          0\n",
       "False Positive Rate Difference     -0.082695   -0.013498          0\n",
       "Average Odds Difference            -0.071138    0.051021          0\n",
       "Accuracy Difference                 0.122388    0.099645          0"
      ]
     },
     "execution_count": 8,
     "metadata": {},
     "output_type": "execute_result"
    }
   ],
   "source": [
    "table = pd.concat([df_bl, df_rw], axis=1).iloc[:,[0,2,3]]\n",
    "table.columns = ['Baseline', 'Reweighing', 'Reference']\n",
    "table"
   ]
  }
 ],
 "metadata": {
  "kernelspec": {
   "display_name": "Python 3.9.12 ('metrics')",
   "language": "python",
   "name": "python3"
  },
  "language_info": {
   "codemirror_mode": {
    "name": "ipython",
    "version": 3
   },
   "file_extension": ".py",
   "mimetype": "text/x-python",
   "name": "python",
   "nbconvert_exporter": "python",
   "pygments_lexer": "ipython3",
   "version": "3.9.12"
  },
  "orig_nbformat": 4,
  "vscode": {
   "interpreter": {
    "hash": "9ce100595ae63371127da51ea64be910b7c4b0de39dc50c38822dd5588773933"
   }
  }
 },
 "nbformat": 4,
 "nbformat_minor": 2
}
