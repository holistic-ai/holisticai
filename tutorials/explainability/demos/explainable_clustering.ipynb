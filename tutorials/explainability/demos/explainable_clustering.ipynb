{
 "cells": [
  {
   "cell_type": "markdown",
   "metadata": {},
   "source": [
    "# Metrics and Methods for Explainable Clustering"
   ]
  },
  {
   "cell_type": "markdown",
   "metadata": {},
   "source": [
    "## Explainability in Clustering (Metrics)\n",
    "\n",
    "We can observe a growing number of paper that employ decision tree for the construction of explainable partitions that aim to minimize the $k$-means cost function. The work proposed by [Laber et al. (2022)](https://arxiv.org/pdf/2112.14718) uses metrics related with depths of the leaves in the resulting tree. This aspect is important because the explainability of a decision tree depends on these depths and explaining leaves that are far from the root involves many tests, which make it harder to grasp the model's logic. \n",
    "\n",
    "### Weighted Average Depth (WAD)\n",
    "\n",
    "- This metric weighs the depth of each leaf by the number of points of its associated cluster. To minimize it, large clusters shall be associated with shallower leaves (shorter explanation);\n",
    "- For a partition $\\mathcal{P}=(C_{1}, C_{2},\\dots, C_{k})$ induced by a binary decision tree $\\mathcal{D}$ with $k$ leaves, where the cluster $C_{i}$ is associated with the leaf $i$,\n",
    "$$\n",
    "WAD(\\mathcal{D}) = \\frac{\\sum\\limits_{i=1}^{k}\\mid C_{i}\\mid l_{i}}{n} \n",
    "$$\n",
    "where $l_{i}$ is the number of conditions $i$ the path from the root to leaf $i$.\n",
    "\n",
    "\n",
    "### Weighted Average Explanation Size (WAES)\n",
    "\n",
    "- This metric replaces the depth of a leaf in WAD by the number of non-redundant tests in the path from root to the leaf;\n",
    "- For a partition $\\mathcal{P}=(C_{1}, C_{2},\\dots, C_{k})$ induced by a binary decision tree $\\mathcal{D}$ with $k$ leaves, where the cluster $C_{i}$ is associated with the leaf $i$,\n",
    "$$\n",
    "WAES(\\mathcal{D}) = \\frac{\\sum\\limits_{i=1}^{k}\\mid C_{i}\\mid l_{i}^{nr}}{n} \n",
    "$$\n",
    "where $l_{i}^{nr}$ is the number of *non-redundant conditions* $i$ the path from the root to leaf $i$.\n"
   ]
  },
  {
   "cell_type": "markdown",
   "metadata": {},
   "source": [
    "## Explainability in Clustering (Methods)\n",
    "\n",
    "### Iterative Mistake Minimization (IMM)\n",
    "\n",
    "The method was proposed by [Dasgupta et al. (2020)](http://proceedings.mlr.press/v119/moshkovitz20a/moshkovitz20a.pdf)\n",
    "\n",
    "\n",
    "### ExKMC\n",
    "\n",
    "The method was proposed by [Frost et al. (2020)](https://arxiv.org/pdf/2006.02399)\n",
    "\n",
    "\n",
    "### ExShallow\n",
    "\n",
    "The method proposed by [Laber et al. (2022)](https://arxiv.org/pdf/2112.14718)\n",
    "\n",
    "\n",
    "### ExGreedy\n",
    "\n",
    "The method proposed by [Laber and Murtinho (2021)](https://proceedings.mlr.press/v139/laber21a/laber21a.pdf)"
   ]
  },
  {
   "cell_type": "markdown",
   "metadata": {},
   "source": [
    "## Applications and Comparison"
   ]
  },
  {
   "cell_type": "code",
   "execution_count": 2,
   "metadata": {},
   "outputs": [],
   "source": [
    "import warnings\n",
    "\n",
    "import pandas as pd\n",
    "from holisticai.datasets import load_dataset\n",
    "from holisticai.pipeline import Pipeline\n",
    "\n",
    "from holisticai.explainability.metrics import (\n",
    "    weighted_average_depth,\n",
    "    weighted_average_explainability_score,\n",
    "    weighted_tree_gini,\n",
    "    tree_depth_variance\n",
    ")\n",
    "\n",
    "warnings.filterwarnings(\"ignore\")"
   ]
  },
  {
   "cell_type": "code",
   "execution_count": 3,
   "metadata": {},
   "outputs": [
    {
     "data": {
      "text/html": [
       "\n",
       "    <style>\n",
       "        .generic-object-container {\n",
       "    padding: 1px;\n",
       "    margin: 1px;\n",
       "}\n",
       ".generic-object-content {\n",
       "    background-color: #fff;\n",
       "    border: 1px solid #ddd;\n",
       "    border-radius: 5px;\n",
       "    padding: 0px;\n",
       "    margin: 10px;\n",
       "    text-align: left;\n",
       "    font-family: Arial, sans-serif;\n",
       "    font-size: 11px;\n",
       "    color: #333;\n",
       "    display: inline-block;\n",
       "    box-shadow: 1px 1px 3px rgba(0, 0, 0, 0.1);\n",
       "}\n",
       ".generic-object-header {\n",
       "    background-color: #e0e0e0;\n",
       "    color: #000;\n",
       "    font-size: 12px;\n",
       "    padding: 10px 150px 10px 20px;\n",
       "    margin: 0px;\n",
       "    text-align: left;\n",
       "    border-bottom: 1px solid #ccc;\n",
       "    border-radius: 5px 5px 0 0;\n",
       "    font-weight: bold;\n",
       "}\n",
       ".generic-object-body {\n",
       "    padding: 5px 10px 5px 10px;\n",
       "}\n",
       ".attribute-list {\n",
       "    margin: 2px 0;\n",
       "    padding: 2px;\n",
       "}\n",
       "    </style>\n",
       "    <div class=\"generic-object-container\">\n",
       "        <div class=\"generic-object-content\">\n",
       "            <div class=\"generic-object-header\">DATASET</div>\n",
       "            <div class=\"generic-object-body\">\n",
       "                <div class=\"attribute-list\">- Number of Rows: 299</div><div class=\"attribute-list\">- Features: X , y , p_attrs , group_a , group_b</div><div class=\"attribute-list\">- Metadata: sex: {'group_a': '0', 'group_b': '1'}</div>\n",
       "                \n",
       "            </div>\n",
       "        </div>\n",
       "    </div>\n",
       "    "
      ],
      "text/plain": [
       "{\"dtype\": \"Dataset\", \"attributes\": {\"Number of Rows\": 299, \"Features\": [\"X , y , p_attrs , group_a , group_b\"]}, \"metadata\": \"sex: {'group_a': '0', 'group_b': '1'}\"}"
      ]
     },
     "execution_count": 3,
     "metadata": {},
     "output_type": "execute_result"
    }
   ],
   "source": [
    "dataset = load_dataset('clinical_records', protected_attribute='sex', preprocessed=True)\n",
    "train_test = dataset.train_test_split(test_size=0.2, random_state=42)\n",
    "\n",
    "train = train_test['train']\n",
    "test = train_test['test']\n",
    "\n",
    "dataset"
   ]
  },
  {
   "cell_type": "code",
   "execution_count": 4,
   "metadata": {},
   "outputs": [
    {
     "name": "stdout",
     "output_type": "stream",
     "text": [
      "\n",
      "\u001b[1m[\u001b[0m\u001b[34;49mnotice\u001b[0m\u001b[1;39;49m]\u001b[0m\u001b[39;49m A new release of pip is available: \u001b[0m\u001b[31;49m24.0\u001b[0m\u001b[39;49m -> \u001b[0m\u001b[32;49m24.2\u001b[0m\n",
      "\u001b[1m[\u001b[0m\u001b[34;49mnotice\u001b[0m\u001b[1;39;49m]\u001b[0m\u001b[39;49m To update, run: \u001b[0m\u001b[32;49mpip install --upgrade pip\u001b[0m\n"
     ]
    }
   ],
   "source": [
    "!pip install -q ShallowTree"
   ]
  },
  {
   "cell_type": "code",
   "execution_count": 6,
   "metadata": {},
   "outputs": [
    {
     "ename": "AttributeError",
     "evalue": "'ShallowTree' object has no attribute 'children_left'",
     "output_type": "error",
     "traceback": [
      "\u001b[0;31m---------------------------------------------------------------------------\u001b[0m",
      "\u001b[0;31mAttributeError\u001b[0m                            Traceback (most recent call last)",
      "Cell \u001b[0;32mIn[6], line 14\u001b[0m\n\u001b[1;32m     12\u001b[0m \u001b[38;5;66;03m# compute metrics\u001b[39;00m\n\u001b[1;32m     13\u001b[0m f_tree \u001b[38;5;241m=\u001b[39m tree\n\u001b[0;32m---> 14\u001b[0m waes \u001b[38;5;241m=\u001b[39m \u001b[43mweighted_average_explainability_score\u001b[49m\u001b[43m(\u001b[49m\u001b[43mf_tree\u001b[49m\u001b[43m)\u001b[49m\n\u001b[1;32m     15\u001b[0m wad \u001b[38;5;241m=\u001b[39m weighted_average_depth(f_tree)\n\u001b[1;32m     16\u001b[0m wgni \u001b[38;5;241m=\u001b[39m weighted_tree_gini(f_tree)\n",
      "File \u001b[0;32m~/repos/hai/holisticai/src/holisticai/explainability/metrics/tree/_tree.py:136\u001b[0m, in \u001b[0;36mweighted_average_explainability_score\u001b[0;34m(tree)\u001b[0m\n\u001b[1;32m    103\u001b[0m \u001b[38;5;250m\u001b[39m\u001b[38;5;124;03m\"\"\"\u001b[39;00m\n\u001b[1;32m    104\u001b[0m \u001b[38;5;124;03mWeighted Average Explainability Score calculates the average depth of a tree considering the number\u001b[39;00m\n\u001b[1;32m    105\u001b[0m \u001b[38;5;124;03mof samples that pass through each cut.\u001b[39;00m\n\u001b[0;32m   (...)\u001b[0m\n\u001b[1;32m    133\u001b[0m \u001b[38;5;124;03m    Pattern Recognition, 137, 109239.\u001b[39;00m\n\u001b[1;32m    134\u001b[0m \u001b[38;5;124;03m\"\"\"\u001b[39;00m\n\u001b[1;32m    135\u001b[0m metric \u001b[38;5;241m=\u001b[39m WeightedAverageExplainabilityScore()\n\u001b[0;32m--> 136\u001b[0m \u001b[38;5;28;01mreturn\u001b[39;00m \u001b[43mmetric\u001b[49m\u001b[43m(\u001b[49m\u001b[43mtree\u001b[49m\u001b[43m)\u001b[49m\n",
      "File \u001b[0;32m~/repos/hai/holisticai/src/holisticai/explainability/metrics/tree/_tree.py:95\u001b[0m, in \u001b[0;36mWeightedAverageExplainabilityScore.__call__\u001b[0;34m(self, tree)\u001b[0m\n\u001b[1;32m     82\u001b[0m \u001b[38;5;28;01mdef\u001b[39;00m \u001b[38;5;21m__call__\u001b[39m(\u001b[38;5;28mself\u001b[39m, tree: sklearn\u001b[38;5;241m.\u001b[39mtree\u001b[38;5;241m.\u001b[39m_tree\u001b[38;5;241m.\u001b[39mTree):\n\u001b[1;32m     83\u001b[0m \u001b[38;5;250m    \u001b[39m\u001b[38;5;124;03m\"\"\"\u001b[39;00m\n\u001b[1;32m     84\u001b[0m \u001b[38;5;124;03m    Calculates the weighted average depth of a tree.\u001b[39;00m\n\u001b[1;32m     85\u001b[0m \n\u001b[0;32m   (...)\u001b[0m\n\u001b[1;32m     92\u001b[0m \u001b[38;5;124;03m        float: The weighted average depth value.\u001b[39;00m\n\u001b[1;32m     93\u001b[0m \u001b[38;5;124;03m    \"\"\"\u001b[39;00m\n\u001b[0;32m---> 95\u001b[0m     depths, counts \u001b[38;5;241m=\u001b[39m \u001b[43mget_cuts_counts\u001b[49m\u001b[43m(\u001b[49m\u001b[38;5;241;43m0\u001b[39;49m\u001b[43m,\u001b[49m\u001b[43m \u001b[49m\u001b[43mtree\u001b[49m\u001b[43m,\u001b[49m\u001b[43m \u001b[49m\u001b[43m[\u001b[49m\u001b[43m]\u001b[49m\u001b[43m,\u001b[49m\u001b[43m \u001b[49m\u001b[43m[\u001b[49m\u001b[43m]\u001b[49m\u001b[43m,\u001b[49m\u001b[43m \u001b[49m\u001b[38;5;28;43mset\u001b[39;49m\u001b[43m(\u001b[49m\u001b[43m)\u001b[49m\u001b[43m)\u001b[49m\n\u001b[1;32m     96\u001b[0m     n_samples \u001b[38;5;241m=\u001b[39m \u001b[38;5;28msum\u001b[39m(counts)\n\u001b[1;32m     97\u001b[0m     depths \u001b[38;5;241m=\u001b[39m np\u001b[38;5;241m.\u001b[39marray(depths)\n",
      "File \u001b[0;32m~/repos/hai/holisticai/src/holisticai/explainability/metrics/tree/_tree.py:182\u001b[0m, in \u001b[0;36mget_cuts_counts\u001b[0;34m(node_index, tree, cuts, counts, cur_set)\u001b[0m\n\u001b[1;32m    158\u001b[0m \u001b[38;5;28;01mdef\u001b[39;00m \u001b[38;5;21mget_cuts_counts\u001b[39m(node_index, tree, cuts, counts, cur_set):\n\u001b[1;32m    159\u001b[0m \u001b[38;5;250m    \u001b[39m\u001b[38;5;124;03m\"\"\"\u001b[39;00m\n\u001b[1;32m    160\u001b[0m \u001b[38;5;124;03m    Get the cuts and counts of a tree.\u001b[39;00m\n\u001b[1;32m    161\u001b[0m \n\u001b[0;32m   (...)\u001b[0m\n\u001b[1;32m    180\u001b[0m \u001b[38;5;124;03m        The list of counts.\u001b[39;00m\n\u001b[1;32m    181\u001b[0m \u001b[38;5;124;03m    \"\"\"\u001b[39;00m\n\u001b[0;32m--> 182\u001b[0m     \u001b[38;5;28;01mif\u001b[39;00m \u001b[43mis_leaf\u001b[49m\u001b[43m(\u001b[49m\u001b[43mnode_index\u001b[49m\u001b[43m,\u001b[49m\u001b[43m \u001b[49m\u001b[43mtree\u001b[49m\u001b[43m)\u001b[49m:\n\u001b[1;32m    183\u001b[0m         cuts\u001b[38;5;241m.\u001b[39mappend(\u001b[38;5;28mlen\u001b[39m(cur_set))\n\u001b[1;32m    184\u001b[0m         counts\u001b[38;5;241m.\u001b[39mappend(tree\u001b[38;5;241m.\u001b[39mn_node_samples[node_index])\n",
      "File \u001b[0;32m~/repos/hai/holisticai/src/holisticai/explainability/metrics/tree/_tree.py:155\u001b[0m, in \u001b[0;36mis_leaf\u001b[0;34m(node_index, tree)\u001b[0m\n\u001b[1;32m    139\u001b[0m \u001b[38;5;28;01mdef\u001b[39;00m \u001b[38;5;21mis_leaf\u001b[39m(node_index, tree):\n\u001b[1;32m    140\u001b[0m \u001b[38;5;250m    \u001b[39m\u001b[38;5;124;03m\"\"\"\u001b[39;00m\n\u001b[1;32m    141\u001b[0m \u001b[38;5;124;03m    Check if a node is a leaf.\u001b[39;00m\n\u001b[1;32m    142\u001b[0m \n\u001b[0;32m   (...)\u001b[0m\n\u001b[1;32m    153\u001b[0m \u001b[38;5;124;03m        Whether the node is a leaf or not.\u001b[39;00m\n\u001b[1;32m    154\u001b[0m \u001b[38;5;124;03m    \"\"\"\u001b[39;00m\n\u001b[0;32m--> 155\u001b[0m     \u001b[38;5;28;01mreturn\u001b[39;00m \u001b[43mtree\u001b[49m\u001b[38;5;241;43m.\u001b[39;49m\u001b[43mchildren_left\u001b[49m[node_index] \u001b[38;5;241m==\u001b[39m \u001b[38;5;241m-\u001b[39m\u001b[38;5;241m1\u001b[39m \u001b[38;5;129;01mand\u001b[39;00m tree\u001b[38;5;241m.\u001b[39mchildren_right[node_index] \u001b[38;5;241m==\u001b[39m \u001b[38;5;241m-\u001b[39m\u001b[38;5;241m1\u001b[39m\n",
      "\u001b[0;31mAttributeError\u001b[0m: 'ShallowTree' object has no attribute 'children_left'"
     ]
    }
   ],
   "source": [
    "from ShallowTree.ShallowTree import ShallowTree\n",
    "\n",
    "data = train['X']\n",
    "k = len(train['y'])\n",
    "\n",
    "# create a tree that will partition the data into k clusters\n",
    "tree = ShallowTree(k)\n",
    "\n",
    "# fit the method\n",
    "tree.fit(data)\n",
    "\n",
    "# compute metrics\n",
    "f_tree = tree.tree.left\n",
    "waes = weighted_average_explainability_score(f_tree)\n",
    "wad = weighted_average_depth(f_tree)\n",
    "wgni = weighted_tree_gini(f_tree)\n",
    "tdv = tree_depth_variance(f_tree)\n",
    "\n",
    "print(\"WAES:\", waes)\n",
    "print(\"WAD:\", wad)\n",
    "print(\"WGNI:\", wgni)\n",
    "print(\"TDV:\", tdv)"
   ]
  },
  {
   "cell_type": "code",
   "execution_count": null,
   "metadata": {},
   "outputs": [
    {
     "data": {
      "text/plain": [
       "<ShallowTree.ShallowTree.ShallowTree at 0x72085a7511e0>"
      ]
     },
     "execution_count": 9,
     "metadata": {},
     "output_type": "execute_result"
    }
   ],
   "source": [
    "tree"
   ]
  }
 ],
 "metadata": {
  "kernelspec": {
   "display_name": "holisticai",
   "language": "python",
   "name": "python3"
  },
  "language_info": {
   "codemirror_mode": {
    "name": "ipython",
    "version": 3
   },
   "file_extension": ".py",
   "mimetype": "text/x-python",
   "name": "python",
   "nbconvert_exporter": "python",
   "pygments_lexer": "ipython3",
   "version": "3.10.14"
  }
 },
 "nbformat": 4,
 "nbformat_minor": 2
}
