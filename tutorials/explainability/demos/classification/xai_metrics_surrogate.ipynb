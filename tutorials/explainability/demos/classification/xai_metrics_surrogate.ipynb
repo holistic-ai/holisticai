{
 "cells": [
  {
   "cell_type": "markdown",
   "metadata": {},
   "source": [
    "# XAI Metrics based on Surrogate Model"
   ]
  },
  {
   "cell_type": "code",
   "execution_count": null,
   "metadata": {},
   "outputs": [],
   "source": [
    "from holisticai.utils import BinaryClassificationProxy\n",
    "from sklearn.ensemble import RandomForestClassifier\n",
    "\n",
    "from holisticai.datasets import load_dataset\n",
    "\n",
    "import pandas as pd\n",
    "import seaborn as sns\n",
    "import matplotlib.pyplot as plt\n",
    "import numpy as np\n",
    "import os\n",
    "from tqdm import tqdm\n",
    "\n",
    "\n",
    "from holisticai.inspection import compute_permutation_importance, compute_conditional_permutation_feature_importance\n",
    "from holisticai.explainability.metrics import classification_surrogate_explainability_metrics\n",
    "from holisticai.utils.data_preprocessor import simple_preprocessor\n",
    "from holisticai.efficacy.metrics import classification_efficacy_metrics"
   ]
  },
  {
   "cell_type": "markdown",
   "metadata": {},
   "source": [
    "# Binary Classification (Adult Dataset)"
   ]
  },
  {
   "cell_type": "code",
   "execution_count": null,
   "metadata": {},
   "outputs": [],
   "source": [
    "dataset = load_dataset('adult', preprocessed=False)\n",
    "dataset = dataset.train_test_split(test_size=0.2, random_state=42)\n",
    "dataset"
   ]
  },
  {
   "cell_type": "markdown",
   "metadata": {},
   "source": [
    "We use a simple preprocessor to normalize the data"
   ]
  },
  {
   "cell_type": "code",
   "execution_count": 4,
   "metadata": {},
   "outputs": [],
   "source": [
    "train = dataset['train']\n",
    "test = dataset['test']\n",
    "Xt_train, Xt_test, yt_train, yt_test = simple_preprocessor(train['X'], test['X'], train['y'], test['y'])"
   ]
  },
  {
   "cell_type": "markdown",
   "metadata": {},
   "source": [
    "**Define a Proxy Model**: A proxy model enables standardized use of your model across multiple functions. You simply provide the essential components required for each type of proxy. For instance, in binary classification, only the predict function, predict_proba function, and the labels are needed."
   ]
  },
  {
   "cell_type": "code",
   "execution_count": null,
   "metadata": {},
   "outputs": [],
   "source": [
    "model = RandomForestClassifier(random_state=42)\n",
    "model.fit(Xt_train, yt_train)\n",
    "\n",
    "proxy = BinaryClassificationProxy(predict=model.predict, predict_proba=model.predict_proba, classes=model.classes_)\n",
    "proxy"
   ]
  },
  {
   "cell_type": "markdown",
   "metadata": {},
   "source": [
    "### Efficacy Metrics"
   ]
  },
  {
   "cell_type": "code",
   "execution_count": null,
   "metadata": {},
   "outputs": [],
   "source": [
    "y_pred_test = proxy.predict(Xt_test)\n",
    "efficacy_metrics = classification_efficacy_metrics(yt_test, y_pred_test)\n",
    "efficacy_metrics"
   ]
  },
  {
   "cell_type": "markdown",
   "metadata": {},
   "source": [
    "### Surrogate Model"
   ]
  },
  {
   "cell_type": "markdown",
   "metadata": {},
   "source": [
    "We create a surrogate model, with supported types including ```shallow_tree``` (a tree model with depth=3) and ```tree```."
   ]
  },
  {
   "cell_type": "code",
   "execution_count": null,
   "metadata": {},
   "outputs": [],
   "source": [
    "from holisticai.utils.surrogate_models import create_surrogate_model\n",
    "\n",
    "y_train_pred = proxy.predict(Xt_train)    \n",
    "surrogate = create_surrogate_model(Xt_train, y_train_pred, surrogate_type=\"shallow_tree\")\n",
    "surrogate"
   ]
  },
  {
   "cell_type": "markdown",
   "metadata": {},
   "source": [
    "### Surrogate XAI Metrics"
   ]
  },
  {
   "cell_type": "markdown",
   "metadata": {},
   "source": [
    "**Accuracy Degradation**: Evaluates the extent to which accuracy decreases relative to the true labels when constructing the surrogate model.\n",
    "\n",
    "**Surrogate Fidelity**: Assesses how closely the surrogate model’s predictions align with those of the original model.\n",
    "\n",
    "**Surrogate Feature Stability**: Measures the consistency of features used in the surrogate tree across multiple bootstraps."
   ]
  },
  {
   "cell_type": "code",
   "execution_count": null,
   "metadata": {},
   "outputs": [],
   "source": [
    "y_train_pred = proxy.predict(Xt_train)    \n",
    "surrogate = create_surrogate_model(Xt_train, y_train_pred, surrogate_type=\"shallow_tree\")\n",
    "\n",
    "y_test_pred = proxy.predict(Xt_test)\n",
    "surrogate_metrics = classification_surrogate_explainability_metrics(Xt_test, yt_test, y_test_pred, surrogate)\n",
    "surrogate_metrics"
   ]
  }
 ],
 "metadata": {
  "kernelspec": {
   "display_name": "testing",
   "language": "python",
   "name": "python3"
  },
  "language_info": {
   "codemirror_mode": {
    "name": "ipython",
    "version": 3
   },
   "file_extension": ".py",
   "mimetype": "text/x-python",
   "name": "python",
   "nbconvert_exporter": "python",
   "pygments_lexer": "ipython3",
   "version": "3.11.3"
  },
  "orig_nbformat": 4
 },
 "nbformat": 4,
 "nbformat_minor": 2
}
