{
 "cells": [
  {
   "cell_type": "markdown",
   "metadata": {},
   "source": [
    "# MultiClassification"
   ]
  },
  {
   "cell_type": "markdown",
   "metadata": {},
   "source": [
    "## 1. Load Data and Train Model"
   ]
  },
  {
   "cell_type": "code",
   "execution_count": 2,
   "metadata": {
    "execution": {
     "iopub.execute_input": "2024-09-08T06:17:38.117087Z",
     "iopub.status.busy": "2024-09-08T06:17:38.116526Z",
     "iopub.status.idle": "2024-09-08T06:17:38.736666Z",
     "shell.execute_reply": "2024-09-08T06:17:38.736188Z"
    }
   },
   "outputs": [
    {
     "data": {
      "text/plain": [
       "0.8227848101265823"
      ]
     },
     "execution_count": 2,
     "metadata": {},
     "output_type": "execute_result"
    }
   ],
   "source": [
    "from sklearn.linear_model import LogisticRegression\n",
    "from holisticai.datasets import load_dataset\n",
    "from sklearn.metrics import accuracy_score\n",
    "\n",
    "dataset = load_dataset(dataset_name=\"student_multiclass\")\n",
    "dataset = dataset.train_test_split(test_size=0.2, random_state=42)\n",
    "train = dataset['test']\n",
    "test = dataset['test']\n",
    "\n",
    "model = LogisticRegression(solver='liblinear')\n",
    "model.fit(train['X'], train['y'])\n",
    "\n",
    "y_pred = model.predict(train['X'])\n",
    "accuracy_score(test['y'], model.predict(test['X']))"
   ]
  },
  {
   "cell_type": "code",
   "execution_count": 3,
   "metadata": {},
   "outputs": [],
   "source": [
    "from holisticai.utils import MultiClassificationSurrogate\n",
    "\n",
    "surrogate = MultiClassificationSurrogate(train[\"X\"], y_pred, model_type='tree')\n",
    "\n",
    "y_surrogate = surrogate.predict(train['X'])"
   ]
  },
  {
   "cell_type": "code",
   "execution_count": 4,
   "metadata": {},
   "outputs": [
    {
     "data": {
      "text/plain": [
       "0.025316455696202556"
      ]
     },
     "execution_count": 4,
     "metadata": {},
     "output_type": "execute_result"
    }
   ],
   "source": [
    "from holisticai.explainability.metrics import surrogate_accuracy_difference\n",
    "# The accuracy difference between the original model and the surrogate model\n",
    "\n",
    "surrogate_accuracy_difference(train['y'], y_pred, y_surrogate)"
   ]
  },
  {
   "cell_type": "code",
   "execution_count": 5,
   "metadata": {},
   "outputs": [
    {
     "data": {
      "text/plain": [
       "0.9240506329113924"
      ]
     },
     "execution_count": 5,
     "metadata": {},
     "output_type": "execute_result"
    }
   ],
   "source": [
    "from holisticai.explainability.metrics import surrogate_accuracy_score\n",
    "# The accuracy of the surrogate model\n",
    "\n",
    "surrogate_accuracy_score(y_pred, y_surrogate)"
   ]
  },
  {
   "cell_type": "code",
   "execution_count": 6,
   "metadata": {},
   "outputs": [
    {
     "data": {
      "text/plain": [
       "0.46930651048298105"
      ]
     },
     "execution_count": 6,
     "metadata": {},
     "output_type": "execute_result"
    }
   ],
   "source": [
    "from holisticai.explainability.metrics import surrogate_features_stability\n",
    "# Measure the stability of the features. Higher values indicate that the features are stable\n",
    "\n",
    "surrogate_features_stability(train['X'], y_pred, surrogate)"
   ]
  },
  {
   "cell_type": "code",
   "execution_count": 7,
   "metadata": {},
   "outputs": [
    {
     "data": {
      "text/plain": [
       "0.6731926981481441"
      ]
     },
     "execution_count": 7,
     "metadata": {},
     "output_type": "execute_result"
    }
   ],
   "source": [
    "from holisticai.explainability.metrics import surrogate_feature_importances_stability\n",
    "# Measure the stability of the feature importances. Higher values indicate that the feature importances are stable\n",
    "\n",
    "surrogate_feature_importances_stability(train['X'], y_pred, surrogate)"
   ]
  },
  {
   "cell_type": "code",
   "execution_count": 8,
   "metadata": {},
   "outputs": [
    {
     "data": {
      "text/plain": [
       "0.45249970247234705"
      ]
     },
     "execution_count": 8,
     "metadata": {},
     "output_type": "execute_result"
    }
   ],
   "source": [
    "from holisticai.explainability.metrics import spread_divergence\n",
    "# Measure the spread of the feature importances. Lower values indicate that the feature importances are concentrated and more interpretable\n",
    "\n",
    "spread_divergence(surrogate.feature_importances_)"
   ]
  },
  {
   "cell_type": "markdown",
   "metadata": {},
   "source": [
    "# Tree-Based Metrics"
   ]
  },
  {
   "cell_type": "code",
   "execution_count": 9,
   "metadata": {},
   "outputs": [
    {
     "data": {
      "text/plain": [
       "17"
      ]
     },
     "execution_count": 9,
     "metadata": {},
     "output_type": "execute_result"
    }
   ],
   "source": [
    "from holisticai.explainability.metrics.tree import tree_number_of_features\n",
    "# Measure the number of features used in the surrogate model. Lower values indicate that the surrogate model is more interpretable\n",
    "\n",
    "tree_number_of_features(surrogate)"
   ]
  },
  {
   "cell_type": "code",
   "execution_count": 10,
   "metadata": {},
   "outputs": [
    {
     "data": {
      "text/plain": [
       "24"
      ]
     },
     "execution_count": 10,
     "metadata": {},
     "output_type": "execute_result"
    }
   ],
   "source": [
    "from holisticai.explainability.metrics.tree import tree_number_of_rules\n",
    "# Measure the number of rules used in the surrogate model. Lower values indicate that the surrogate model is more interpretable\n",
    "\n",
    "tree_number_of_rules(surrogate)"
   ]
  },
  {
   "cell_type": "code",
   "execution_count": 11,
   "metadata": {},
   "outputs": [
    {
     "data": {
      "text/plain": [
       "np.float64(5.526041666666667)"
      ]
     },
     "execution_count": 11,
     "metadata": {},
     "output_type": "execute_result"
    }
   ],
   "source": [
    "from holisticai.explainability.metrics.tree import tree_depth_variance\n",
    "# Measure the variance of the depth of the surrogate model. Lower values indicate that the surrogate model is more interpretable\n",
    "\n",
    "tree_depth_variance(surrogate)"
   ]
  },
  {
   "cell_type": "code",
   "execution_count": 12,
   "metadata": {},
   "outputs": [
    {
     "data": {
      "text/plain": [
       "np.float64(5.56)"
      ]
     },
     "execution_count": 12,
     "metadata": {},
     "output_type": "execute_result"
    }
   ],
   "source": [
    "from holisticai.explainability.metrics.tree import weighted_average_depth\n",
    "# Measure the weighted average depth of the surrogate model. Lower values indicate that the surrogate model is more interpretable\n",
    "\n",
    "weighted_average_depth(surrogate)"
   ]
  },
  {
   "cell_type": "code",
   "execution_count": 13,
   "metadata": {},
   "outputs": [
    {
     "data": {
      "text/plain": [
       "np.float64(5.56)"
      ]
     },
     "execution_count": 13,
     "metadata": {},
     "output_type": "execute_result"
    }
   ],
   "source": [
    "from holisticai.explainability.metrics.tree import weighted_average_explainability_score\n",
    "# Measure the weighted average explainability score of the surrogate model. Lower values indicate that the surrogate model is more interpretable\n",
    "\n",
    "weighted_average_explainability_score(surrogate)"
   ]
  },
  {
   "cell_type": "code",
   "execution_count": 14,
   "metadata": {},
   "outputs": [
    {
     "data": {
      "text/plain": [
       "np.float64(0.6570000000000001)"
      ]
     },
     "execution_count": 14,
     "metadata": {},
     "output_type": "execute_result"
    }
   ],
   "source": [
    "from holisticai.explainability.metrics.tree import weighted_tree_gini\n",
    "# Measure the weighted tree gini of the surrogate model. Lower values indicate that the surrogate model is more interpretable\n",
    "\n",
    "weighted_tree_gini(surrogate)"
   ]
  },
  {
   "cell_type": "code",
   "execution_count": 17,
   "metadata": {},
   "outputs": [
    {
     "data": {
      "text/html": [
       "<div>\n",
       "<style scoped>\n",
       "    .dataframe tbody tr th:only-of-type {\n",
       "        vertical-align: middle;\n",
       "    }\n",
       "\n",
       "    .dataframe tbody tr th {\n",
       "        vertical-align: top;\n",
       "    }\n",
       "\n",
       "    .dataframe thead th {\n",
       "        text-align: right;\n",
       "    }\n",
       "</style>\n",
       "<table border=\"1\" class=\"dataframe\">\n",
       "  <thead>\n",
       "    <tr style=\"text-align: right;\">\n",
       "      <th></th>\n",
       "      <th>Value</th>\n",
       "      <th>Reference</th>\n",
       "    </tr>\n",
       "  </thead>\n",
       "  <tbody>\n",
       "    <tr>\n",
       "      <th>Surrogate Accuracy Difference</th>\n",
       "      <td>0.025316</td>\n",
       "      <td>0.0</td>\n",
       "    </tr>\n",
       "    <tr>\n",
       "      <th>Surrogate Accuracy</th>\n",
       "      <td>0.924051</td>\n",
       "      <td>1.0</td>\n",
       "    </tr>\n",
       "    <tr>\n",
       "      <th>Features Stability</th>\n",
       "      <td>0.469307</td>\n",
       "      <td>1.0</td>\n",
       "    </tr>\n",
       "    <tr>\n",
       "      <th>Feature Importances Stability</th>\n",
       "      <td>0.673193</td>\n",
       "      <td>1.0</td>\n",
       "    </tr>\n",
       "    <tr>\n",
       "      <th>Spread Divergence</th>\n",
       "      <td>0.452500</td>\n",
       "      <td>0.0</td>\n",
       "    </tr>\n",
       "    <tr>\n",
       "      <th>Number of Features</th>\n",
       "      <td>17.000000</td>\n",
       "      <td>1.0</td>\n",
       "    </tr>\n",
       "    <tr>\n",
       "      <th>Number of Rules</th>\n",
       "      <td>24.000000</td>\n",
       "      <td>1.0</td>\n",
       "    </tr>\n",
       "    <tr>\n",
       "      <th>Tree Depth Variance</th>\n",
       "      <td>5.526042</td>\n",
       "      <td>0.0</td>\n",
       "    </tr>\n",
       "    <tr>\n",
       "      <th>Weighted Average Explainability Score</th>\n",
       "      <td>5.560000</td>\n",
       "      <td>0.0</td>\n",
       "    </tr>\n",
       "    <tr>\n",
       "      <th>Weighted Average Depth</th>\n",
       "      <td>5.560000</td>\n",
       "      <td>0.0</td>\n",
       "    </tr>\n",
       "    <tr>\n",
       "      <th>Weighted Gini Index</th>\n",
       "      <td>0.657000</td>\n",
       "      <td>0.0</td>\n",
       "    </tr>\n",
       "  </tbody>\n",
       "</table>\n",
       "</div>"
      ],
      "text/plain": [
       "                                           Value  Reference\n",
       "Surrogate Accuracy Difference           0.025316        0.0\n",
       "Surrogate Accuracy                      0.924051        1.0\n",
       "Features Stability                      0.469307        1.0\n",
       "Feature Importances Stability           0.673193        1.0\n",
       "Spread Divergence                       0.452500        0.0\n",
       "Number of Features                     17.000000        1.0\n",
       "Number of Rules                        24.000000        1.0\n",
       "Tree Depth Variance                     5.526042        0.0\n",
       "Weighted Average Explainability Score   5.560000        0.0\n",
       "Weighted Average Depth                  5.560000        0.0\n",
       "Weighted Gini Index                     0.657000        0.0"
      ]
     },
     "execution_count": 17,
     "metadata": {},
     "output_type": "execute_result"
    }
   ],
   "source": [
    "from holisticai.explainability.metrics import classification_surrogate_explainability_metrics\n",
    "# Compute all the surrogate explainability metrics\n",
    "\n",
    "metrics, surrogate = classification_surrogate_explainability_metrics(train['X'], train['y'], y_pred, surrogate_type='tree', metric_type=\"all\", return_surrogate_model=True)\n",
    "metrics"
   ]
  },
  {
   "cell_type": "code",
   "execution_count": 18,
   "metadata": {},
   "outputs": [
    {
     "data": {
      "image/png": "[encoded data removed]",
      "text/plain": [
       "<Figure size 2000x300 with 1 Axes>"
      ]
     },
     "metadata": {},
     "output_type": "display_data"
    }
   ],
   "source": [
    "from sklearn.tree import plot_tree\n",
    "import matplotlib.pyplot as plt\n",
    "# Plot the surrogate model\n",
    "plt.figure(figsize=(20,3))\n",
    "_ = plot_tree(surrogate._surrogate, filled=True)"
   ]
  }
 ],
 "metadata": {
  "kernelspec": {
   "display_name": "Python 3 (ipykernel)",
   "language": "python",
   "name": "python3"
  },
  "language_info": {
   "codemirror_mode": {
    "name": "ipython",
    "version": 3
   },
   "file_extension": ".py",
   "mimetype": "text/x-python",
   "name": "python",
   "nbconvert_exporter": "python",
   "pygments_lexer": "ipython3",
   "version": "3.11.3"
  }
 },
 "nbformat": 4,
 "nbformat_minor": 2
}
