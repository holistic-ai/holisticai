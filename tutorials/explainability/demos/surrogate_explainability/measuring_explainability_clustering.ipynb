{
 "cells": [
  {
   "cell_type": "code",
   "execution_count": 2,
   "metadata": {},
   "outputs": [
    {
     "data": {
      "text/html": [
       "\n",
       "    <style>\n",
       "        @import url('https://fonts.googleapis.com/css2?family=Montserrat:ital,wght@0,100..900;1,100..900&display=swap');\n",
       "\n",
       "/* Light blue theme (default) */\n",
       ".generic-object-container.blue {\n",
       "    background-color: #f2f8fd !important; /* Container background: light blue */\n",
       "    border-color: #4db6ac !important; /* Soft blue border */\n",
       "}\n",
       "\n",
       ".generic-object-header.blue {\n",
       "    background-color: #a0c4ff9a !important; /* Header background: darker blue */\n",
       "}\n",
       "\n",
       ".generic-object-header.blue:hover {\n",
       "    background-color: #8bb1c0 !important; /* Darker shade on hover over the header */\n",
       "}\n",
       "\n",
       ".attribute-list.blue:hover {\n",
       "    background-color: #b2dfdb !important; /* Attribute background on hover: darker blue */\n",
       "}\n",
       "\n",
       "/* Orange theme */\n",
       ".generic-object-container.orange {\n",
       "    background-color: #fff9ef !important; /* Container background: light orange */\n",
       "    border-color: #ffb74d !important; /* Soft orange border */\n",
       "}\n",
       "\n",
       ".generic-object-header.orange {\n",
       "    background-color: #ffe0b2 !important; /* Header background: darker orange */\n",
       "}\n",
       "\n",
       ".generic-object-header.orange:hover {\n",
       "    background-color: #ffcc80 !important; /* Darker shade on hover over the header */\n",
       "}\n",
       "\n",
       ".attribute-list.orange:hover {\n",
       "    background-color: #ffe0b2 !important; /* Attribute background on hover: darker orange */\n",
       "}\n",
       "\n",
       "/* Green theme */\n",
       ".generic-object-container.green {\n",
       "    background-color: #f6fff6 !important; /* Container background: light green */\n",
       "    border-color: #81c784 !important; /* Soft green border */\n",
       "}\n",
       "\n",
       ".generic-object-header.green {\n",
       "    background-color: #c8e6c9 !important; /* Header background: darker green */\n",
       "}\n",
       "\n",
       ".generic-object-header.green:hover {\n",
       "    background-color: #a5d6a7 !important; /* Darker shade on hover over the header */\n",
       "}\n",
       "\n",
       ".attribute-list.green:hover {\n",
       "    background-color: #c8e6c9 !important; /* Attribute background on hover: darker green */\n",
       "}\n",
       "\n",
       "/* Align the first container to the left */\n",
       ".generic-object-container.first-level {\n",
       "    margin: 0;\n",
       "    width: auto;\n",
       "    max-width: 800px;\n",
       "    display: block;\n",
       "    box-sizing: border-box;\n",
       "}\n",
       "\n",
       "/* Nested containers stay centered */\n",
       ".generic-object-container .generic-object-container {\n",
       "    margin: 5px auto;\n",
       "    width: 100%;\n",
       "    display: block;\n",
       "    padding: 5px 0;\n",
       "}\n",
       "\n",
       "/* Remove default background color so only themes apply it */\n",
       ".generic-object-container {\n",
       "    padding: 0;\n",
       "    margin: 0 auto;\n",
       "    border: 1px dashed;\n",
       "    border-radius: 5px;\n",
       "    display: block;\n",
       "    width: auto;\n",
       "    max-width: 800px;\n",
       "    box-sizing: border-box;\n",
       "    margin-bottom: 15px;\n",
       "    transition: transform 0.2s, box-shadow 0.2s;\n",
       "}\n",
       "\n",
       ".generic-object-container:hover {\n",
       "    box-shadow: 0px 4px 10px rgba(77, 182, 172, 0.3);\n",
       "}\n",
       "\n",
       ".generic-object-header {\n",
       "    font-family: 'Montserrat', Arial, sans-serif;\n",
       "    font-size: 14px;\n",
       "    padding: 10px 20px;\n",
       "    padding-left: 40px;\n",
       "    text-align: center;\n",
       "    font-weight: bold;\n",
       "    cursor: pointer;\n",
       "    display: flex;\n",
       "    align-items: center;\n",
       "    justify-content: center;\n",
       "    position: relative;\n",
       "    width: 100%;\n",
       "    box-sizing: border-box;\n",
       "    border-radius: 5px;\n",
       "    transition: background-color 0.3s;\n",
       "}\n",
       "\n",
       ".toggle-button {\n",
       "    margin-right: 10px;\n",
       "    background: none;\n",
       "    border: none;\n",
       "    font-size: 13px;\n",
       "    cursor: pointer;\n",
       "    position: absolute;\n",
       "    left: 10px;\n",
       "    color: #004d40;\n",
       "}\n",
       "\n",
       ".generic-object-body {\n",
       "    padding: 5px 10px;\n",
       "    display: block;\n",
       "    border-radius: 0 0 5px 5px;\n",
       "    background-color: inherit;\n",
       "    margin: 0 auto;\n",
       "}\n",
       "\n",
       ".hidden {\n",
       "    display: none;\n",
       "}\n",
       "\n",
       ".attribute-list {\n",
       "    margin: 2px 0;\n",
       "    padding: 2px;\n",
       "    transition: background-color 0.2s;\n",
       "    display: block;\n",
       "}\n",
       "\n",
       ".flex-space-filler {\n",
       "    display: flex;\n",
       "    justify-content: center;\n",
       "    align-items: center;\n",
       "}\n",
       "\n",
       ".generic-object-container,\n",
       ".generic-object-header,\n",
       ".attribute-list {\n",
       "    color: #000000 !important; /* Establece el color del texto a negro */\n",
       "}\n",
       "    </style>\n",
       "    <div style=\"display: flex;\">\n",
       "    <div class=\"generic-object-container blue first-level\">\n",
       "        <div class=\"generic-object-content\">\n",
       "            <div class=\"generic-object-header blue\" onclick=\"toggleCollapse(this)\">\n",
       "                <button class=\"toggle-button blue\">[-]</button> [Dataset]\n",
       "            </div>\n",
       "            <div class=\"generic-object-body\">\n",
       "                <div class=\"attribute-list blue\"><strong>Instances</strong>: 299</div><div class=\"attribute-list blue\"><strong>Features</strong>: X , y , p_attrs</div>\n",
       "                \n",
       "            </div>\n",
       "        </div>\n",
       "    </div>\n",
       "</div>\n",
       "    <script>\n",
       "    function toggleCollapse(element) {\n",
       "        var body = element.nextElementSibling;\n",
       "        var button = element.querySelector(\".toggle-button\");\n",
       "        if (body.classList.contains('hidden')) {\n",
       "            body.classList.remove('hidden');\n",
       "            button.textContent = \"[-]\";\n",
       "        } else {\n",
       "            body.classList.add('hidden');\n",
       "            button.textContent = \"[+]\";\n",
       "        }\n",
       "    }\n",
       "    </script>\n",
       "    "
      ],
      "text/plain": [
       "{\"dtype\":\"Dataset\",\"attributes\":{\"Instances\":299,\"Features\":[\"X , y , p_attrs\"]},\"metadata\":null}"
      ]
     },
     "execution_count": 2,
     "metadata": {},
     "output_type": "execute_result"
    }
   ],
   "source": [
    "from holisticai.datasets import load_dataset\n",
    "from holisticai.explainability.metrics import surrogate as surrogate_metrics\n",
    "\n",
    "dataset = load_dataset('clinical_records')\n",
    "dataset"
   ]
  },
  {
   "cell_type": "code",
   "execution_count": 3,
   "metadata": {},
   "outputs": [],
   "source": [
    "from sklearn.cluster import KMeans\n",
    "\n",
    "k = 4 \n",
    "inertias = []\n",
    "\n",
    "X = dataset['X']\n",
    "\n",
    "model = KMeans(n_clusters = k)   \n",
    "model.fit(X)\n",
    "model.inertia_\n",
    "\n",
    "feature_names = list(X.columns)\n",
    "labels = model.predict(X)"
   ]
  },
  {
   "cell_type": "markdown",
   "metadata": {},
   "source": [
    "# Surrogate-Based Metrics"
   ]
  },
  {
   "cell_type": "code",
   "execution_count": 4,
   "metadata": {},
   "outputs": [],
   "source": [
    "from holisticai.utils import ClusteringSurrogate\n",
    "\n",
    "surrogate = ClusteringSurrogate(X, labels, model_type=\"tree\", random_state=42)\n",
    "y_surrogate = surrogate.predict(X)"
   ]
  },
  {
   "cell_type": "code",
   "execution_count": 5,
   "metadata": {},
   "outputs": [
    {
     "data": {
      "text/plain": [
       "1.0"
      ]
     },
     "execution_count": 5,
     "metadata": {},
     "output_type": "execute_result"
    }
   ],
   "source": [
    "from holisticai.explainability.metrics import surrogate_accuracy_score\n",
    "# Calculate the accuracy of the surrogate model\n",
    "\n",
    "surrogate_accuracy_score(labels, y_surrogate)"
   ]
  },
  {
   "cell_type": "code",
   "execution_count": 6,
   "metadata": {},
   "outputs": [
    {
     "data": {
      "text/plain": [
       "0.4371428571428571"
      ]
     },
     "execution_count": 6,
     "metadata": {},
     "output_type": "execute_result"
    }
   ],
   "source": [
    "from holisticai.explainability.metrics import surrogate_features_stability\n",
    "# Calculate the stability of the features using the surrogate model. Higher values indicate more stable features.\n",
    "\n",
    "surrogate_features_stability(X, labels, surrogate, num_bootstraps=5)"
   ]
  },
  {
   "cell_type": "code",
   "execution_count": 7,
   "metadata": {},
   "outputs": [
    {
     "data": {
      "text/plain": [
       "0.9974791259959583"
      ]
     },
     "execution_count": 7,
     "metadata": {},
     "output_type": "execute_result"
    }
   ],
   "source": [
    "from holisticai.explainability.metrics import surrogate_feature_importances_stability\n",
    "# Calculate the stability of the feature importances using the surrogate model. Higher values indicate more stable feature importances.\n",
    "\n",
    "surrogate_feature_importances_stability(X, labels, surrogate, num_bootstraps=5)"
   ]
  },
  {
   "cell_type": "code",
   "execution_count": 8,
   "metadata": {},
   "outputs": [
    {
     "data": {
      "text/plain": [
       "0.14252728709513884"
      ]
     },
     "execution_count": 8,
     "metadata": {},
     "output_type": "execute_result"
    }
   ],
   "source": [
    "from holisticai.explainability.metrics import spread_divergence\n",
    "# Calculate the spread of the feature importances using the surrogate model. Lower values indicate more concentrated feature importances amd more interpretable surrogate models.\n",
    "\n",
    "spread_divergence(surrogate.feature_importances_)"
   ]
  },
  {
   "cell_type": "markdown",
   "metadata": {},
   "source": [
    "# Tree-Based Metrics"
   ]
  },
  {
   "cell_type": "code",
   "execution_count": 9,
   "metadata": {},
   "outputs": [
    {
     "data": {
      "text/plain": [
       "6"
      ]
     },
     "execution_count": 9,
     "metadata": {},
     "output_type": "execute_result"
    }
   ],
   "source": [
    "from holisticai.explainability.metrics.tree import tree_number_of_rules\n",
    "# Calculate the number of rules in the surrogate model. Lower values indicate more interpretable surrogate models.\n",
    "\n",
    "tree_number_of_rules(surrogate)"
   ]
  },
  {
   "cell_type": "code",
   "execution_count": 10,
   "metadata": {},
   "outputs": [
    {
     "data": {
      "text/plain": [
       "2"
      ]
     },
     "execution_count": 10,
     "metadata": {},
     "output_type": "execute_result"
    }
   ],
   "source": [
    "from holisticai.explainability.metrics.tree import tree_number_of_features\n",
    "# Calculate the number of features in the surrogate model. Lower values indicate more interpretable surrogate models.\n",
    "\n",
    "tree_number_of_features(surrogate)"
   ]
  },
  {
   "cell_type": "code",
   "execution_count": 11,
   "metadata": {},
   "outputs": [
    {
     "data": {
      "text/plain": [
       "np.float64(1.4722222222222223)"
      ]
     },
     "execution_count": 11,
     "metadata": {},
     "output_type": "execute_result"
    }
   ],
   "source": [
    "from holisticai.explainability.metrics.tree import tree_depth_variance\n",
    "# Calculate the variance of the depth of the surrogate model. Lower values indicate more interpretable surrogate models.\n",
    "\n",
    "tree_depth_variance(surrogate)"
   ]
  },
  {
   "cell_type": "code",
   "execution_count": 12,
   "metadata": {},
   "outputs": [
    {
     "data": {
      "text/plain": [
       "np.float64(2.2928176795580115)"
      ]
     },
     "execution_count": 12,
     "metadata": {},
     "output_type": "execute_result"
    }
   ],
   "source": [
    "from holisticai.explainability.metrics.tree import weighted_average_depth\n",
    "# Calculate the weighted average depth of the surrogate model. Lower values indicate more interpretable surrogate models.\n",
    "\n",
    "weighted_average_depth(surrogate)"
   ]
  },
  {
   "cell_type": "code",
   "execution_count": 13,
   "metadata": {},
   "outputs": [
    {
     "data": {
      "text/plain": [
       "np.float64(2.0)"
      ]
     },
     "execution_count": 13,
     "metadata": {},
     "output_type": "execute_result"
    }
   ],
   "source": [
    "from holisticai.explainability.metrics.tree import weighted_average_explainability_score\n",
    "# Calculate the weighted average explainability score of the surrogate model. Lower values indicate more interpretable surrogate models.\n",
    "\n",
    "weighted_average_explainability_score(surrogate)"
   ]
  },
  {
   "cell_type": "code",
   "execution_count": 14,
   "metadata": {},
   "outputs": [
    {
     "data": {
      "text/plain": [
       "np.float64(0.9960911690193458)"
      ]
     },
     "execution_count": 14,
     "metadata": {},
     "output_type": "execute_result"
    }
   ],
   "source": [
    "from holisticai.explainability.metrics.tree import weighted_tree_gini\n",
    "# Calculate the Gini impurity of the surrogate model. Lower values indicate more interpretable surrogate models.\n",
    "\n",
    "weighted_tree_gini(surrogate)"
   ]
  },
  {
   "cell_type": "code",
   "execution_count": 15,
   "metadata": {},
   "outputs": [
    {
     "data": {
      "image/png": "[encoded data removed]",
      "text/plain": [
       "<Figure size 2000x300 with 1 Axes>"
      ]
     },
     "metadata": {},
     "output_type": "display_data"
    }
   ],
   "source": [
    "from sklearn.tree import plot_tree\n",
    "import matplotlib.pyplot as plt\n",
    "\n",
    "plt.figure(figsize=(20,3))\n",
    "_ = plot_tree(surrogate._surrogate, feature_names=feature_names, filled=True)"
   ]
  },
  {
   "cell_type": "code",
   "execution_count": 16,
   "metadata": {},
   "outputs": [
    {
     "data": {
      "text/html": [
       "<div>\n",
       "<style scoped>\n",
       "    .dataframe tbody tr th:only-of-type {\n",
       "        vertical-align: middle;\n",
       "    }\n",
       "\n",
       "    .dataframe tbody tr th {\n",
       "        vertical-align: top;\n",
       "    }\n",
       "\n",
       "    .dataframe thead th {\n",
       "        text-align: right;\n",
       "    }\n",
       "</style>\n",
       "<table border=\"1\" class=\"dataframe\">\n",
       "  <thead>\n",
       "    <tr style=\"text-align: right;\">\n",
       "      <th></th>\n",
       "      <th>Value</th>\n",
       "      <th>Reference</th>\n",
       "    </tr>\n",
       "  </thead>\n",
       "  <tbody>\n",
       "    <tr>\n",
       "      <th>Surrogate Accuracy</th>\n",
       "      <td>1.000000</td>\n",
       "      <td>1.0</td>\n",
       "    </tr>\n",
       "    <tr>\n",
       "      <th>Features Stability</th>\n",
       "      <td>0.466667</td>\n",
       "      <td>1.0</td>\n",
       "    </tr>\n",
       "    <tr>\n",
       "      <th>Feature Importances Stability</th>\n",
       "      <td>0.999716</td>\n",
       "      <td>1.0</td>\n",
       "    </tr>\n",
       "    <tr>\n",
       "      <th>Spread Divergence</th>\n",
       "      <td>0.142527</td>\n",
       "      <td>0.0</td>\n",
       "    </tr>\n",
       "    <tr>\n",
       "      <th>Number of Features</th>\n",
       "      <td>2.000000</td>\n",
       "      <td>1.0</td>\n",
       "    </tr>\n",
       "    <tr>\n",
       "      <th>Number of Rules</th>\n",
       "      <td>6.000000</td>\n",
       "      <td>1.0</td>\n",
       "    </tr>\n",
       "    <tr>\n",
       "      <th>Tree Depth Variance</th>\n",
       "      <td>1.472222</td>\n",
       "      <td>0.0</td>\n",
       "    </tr>\n",
       "    <tr>\n",
       "      <th>Weighted Average Explainability Score</th>\n",
       "      <td>2.000000</td>\n",
       "      <td>0.0</td>\n",
       "    </tr>\n",
       "    <tr>\n",
       "      <th>Weighted Average Depth</th>\n",
       "      <td>2.292818</td>\n",
       "      <td>0.0</td>\n",
       "    </tr>\n",
       "    <tr>\n",
       "      <th>Weighted Gini Index</th>\n",
       "      <td>0.996091</td>\n",
       "      <td>0.0</td>\n",
       "    </tr>\n",
       "  </tbody>\n",
       "</table>\n",
       "</div>"
      ],
      "text/plain": [
       "                                          Value  Reference\n",
       "Surrogate Accuracy                     1.000000        1.0\n",
       "Features Stability                     0.466667        1.0\n",
       "Feature Importances Stability          0.999716        1.0\n",
       "Spread Divergence                      0.142527        0.0\n",
       "Number of Features                     2.000000        1.0\n",
       "Number of Rules                        6.000000        1.0\n",
       "Tree Depth Variance                    1.472222        0.0\n",
       "Weighted Average Explainability Score  2.000000        0.0\n",
       "Weighted Average Depth                 2.292818        0.0\n",
       "Weighted Gini Index                    0.996091        0.0"
      ]
     },
     "execution_count": 16,
     "metadata": {},
     "output_type": "execute_result"
    }
   ],
   "source": [
    "from holisticai.explainability.metrics.surrogate import clustering_surrogate_explainability_metrics\n",
    "\n",
    "metrics, surrogate = clustering_surrogate_explainability_metrics(X, labels=labels, surrogate_type='tree', metric_type=\"all\", return_surrogate_model=True)\n",
    "metrics"
   ]
  },
  {
   "cell_type": "code",
   "execution_count": 17,
   "metadata": {},
   "outputs": [
    {
     "data": {
      "image/png": "[encoded data removed]",
      "text/plain": [
       "<Figure size 2000x300 with 1 Axes>"
      ]
     },
     "metadata": {},
     "output_type": "display_data"
    }
   ],
   "source": [
    "from sklearn.tree import plot_tree\n",
    "import matplotlib.pyplot as plt\n",
    "\n",
    "plt.figure(figsize=(20,3))\n",
    "_ = plot_tree(surrogate._surrogate, feature_names=feature_names, filled=True)"
   ]
  },
  {
   "cell_type": "code",
   "execution_count": 18,
   "metadata": {},
   "outputs": [
    {
     "data": {
      "text/html": [
       "<div>\n",
       "<style scoped>\n",
       "    .dataframe tbody tr th:only-of-type {\n",
       "        vertical-align: middle;\n",
       "    }\n",
       "\n",
       "    .dataframe tbody tr th {\n",
       "        vertical-align: top;\n",
       "    }\n",
       "\n",
       "    .dataframe thead th {\n",
       "        text-align: right;\n",
       "    }\n",
       "</style>\n",
       "<table border=\"1\" class=\"dataframe\">\n",
       "  <thead>\n",
       "    <tr style=\"text-align: right;\">\n",
       "      <th></th>\n",
       "      <th>KMeans_k_4</th>\n",
       "      <th>KMeans_k_5</th>\n",
       "      <th>KMeans_k_6</th>\n",
       "      <th>KMeans_k_7</th>\n",
       "      <th>Reference</th>\n",
       "    </tr>\n",
       "  </thead>\n",
       "  <tbody>\n",
       "    <tr>\n",
       "      <th>Surrogate Accuracy</th>\n",
       "      <td>1.000000</td>\n",
       "      <td>0.996656</td>\n",
       "      <td>0.996656</td>\n",
       "      <td>0.989967</td>\n",
       "      <td>1.0</td>\n",
       "    </tr>\n",
       "    <tr>\n",
       "      <th>Features Stability</th>\n",
       "      <td>0.466667</td>\n",
       "      <td>0.480000</td>\n",
       "      <td>0.244048</td>\n",
       "      <td>0.522857</td>\n",
       "      <td>1.0</td>\n",
       "    </tr>\n",
       "    <tr>\n",
       "      <th>Feature Importances Stability</th>\n",
       "      <td>0.999301</td>\n",
       "      <td>0.998479</td>\n",
       "      <td>0.999314</td>\n",
       "      <td>0.997154</td>\n",
       "      <td>1.0</td>\n",
       "    </tr>\n",
       "    <tr>\n",
       "      <th>Spread Divergence</th>\n",
       "      <td>0.142527</td>\n",
       "      <td>0.152007</td>\n",
       "      <td>0.155359</td>\n",
       "      <td>0.192254</td>\n",
       "      <td>0.0</td>\n",
       "    </tr>\n",
       "    <tr>\n",
       "      <th>Number of Features</th>\n",
       "      <td>2.000000</td>\n",
       "      <td>2.000000</td>\n",
       "      <td>4.000000</td>\n",
       "      <td>6.000000</td>\n",
       "      <td>1.0</td>\n",
       "    </tr>\n",
       "    <tr>\n",
       "      <th>Number of Rules</th>\n",
       "      <td>6.000000</td>\n",
       "      <td>6.000000</td>\n",
       "      <td>8.000000</td>\n",
       "      <td>13.000000</td>\n",
       "      <td>1.0</td>\n",
       "    </tr>\n",
       "    <tr>\n",
       "      <th>Tree Depth Variance</th>\n",
       "      <td>1.472222</td>\n",
       "      <td>0.805556</td>\n",
       "      <td>2.687500</td>\n",
       "      <td>1.408284</td>\n",
       "      <td>0.0</td>\n",
       "    </tr>\n",
       "    <tr>\n",
       "      <th>Weighted Average Explainability Score</th>\n",
       "      <td>2.000000</td>\n",
       "      <td>2.127072</td>\n",
       "      <td>1.854839</td>\n",
       "      <td>2.425414</td>\n",
       "      <td>0.0</td>\n",
       "    </tr>\n",
       "    <tr>\n",
       "      <th>Weighted Average Depth</th>\n",
       "      <td>2.292818</td>\n",
       "      <td>2.425414</td>\n",
       "      <td>2.220430</td>\n",
       "      <td>2.911602</td>\n",
       "      <td>0.0</td>\n",
       "    </tr>\n",
       "    <tr>\n",
       "      <th>Weighted Gini Index</th>\n",
       "      <td>0.996091</td>\n",
       "      <td>0.991884</td>\n",
       "      <td>0.982123</td>\n",
       "      <td>0.971045</td>\n",
       "      <td>0.0</td>\n",
       "    </tr>\n",
       "  </tbody>\n",
       "</table>\n",
       "</div>"
      ],
      "text/plain": [
       "                                       KMeans_k_4  KMeans_k_5  KMeans_k_6  \\\n",
       "Surrogate Accuracy                       1.000000    0.996656    0.996656   \n",
       "Features Stability                       0.466667    0.480000    0.244048   \n",
       "Feature Importances Stability            0.999301    0.998479    0.999314   \n",
       "Spread Divergence                        0.142527    0.152007    0.155359   \n",
       "Number of Features                       2.000000    2.000000    4.000000   \n",
       "Number of Rules                          6.000000    6.000000    8.000000   \n",
       "Tree Depth Variance                      1.472222    0.805556    2.687500   \n",
       "Weighted Average Explainability Score    2.000000    2.127072    1.854839   \n",
       "Weighted Average Depth                   2.292818    2.425414    2.220430   \n",
       "Weighted Gini Index                      0.996091    0.991884    0.982123   \n",
       "\n",
       "                                       KMeans_k_7  Reference  \n",
       "Surrogate Accuracy                       0.989967        1.0  \n",
       "Features Stability                       0.522857        1.0  \n",
       "Feature Importances Stability            0.997154        1.0  \n",
       "Spread Divergence                        0.192254        0.0  \n",
       "Number of Features                       6.000000        1.0  \n",
       "Number of Rules                         13.000000        1.0  \n",
       "Tree Depth Variance                      1.408284        0.0  \n",
       "Weighted Average Explainability Score    2.425414        0.0  \n",
       "Weighted Average Depth                   2.911602        0.0  \n",
       "Weighted Gini Index                      0.971045        0.0  "
      ]
     },
     "execution_count": 18,
     "metadata": {},
     "output_type": "execute_result"
    }
   ],
   "source": [
    "from sklearn.cluster import KMeans\n",
    "from holisticai.utils import concatenate_metrics\n",
    "\n",
    "results = {}\n",
    "for k in range(4,8):\n",
    "    X = dataset['X']\n",
    "\n",
    "    model = KMeans(n_clusters = k)   \n",
    "    model.fit(X)\n",
    "    model.inertia_\n",
    "\n",
    "    feature_names = list(X.columns)\n",
    "    labels = model.predict(X)\n",
    "\n",
    "    results[f\"KMeans_k_{k}\"] = clustering_surrogate_explainability_metrics(X, labels=labels, surrogate_type='tree', metric_type=\"all\")\n",
    "\n",
    "concatenate_metrics(results)"
   ]
  }
 ],
 "metadata": {
  "kernelspec": {
   "display_name": "Python 3 (ipykernel)",
   "language": "python",
   "name": "python3"
  },
  "language_info": {
   "codemirror_mode": {
    "name": "ipython",
    "version": 3
   },
   "file_extension": ".py",
   "mimetype": "text/x-python",
   "name": "python",
   "nbconvert_exporter": "python",
   "pygments_lexer": "ipython3",
   "version": "3.11.3"
  }
 },
 "nbformat": 4,
 "nbformat_minor": 2
}
