{
 "cells": [
  {
   "cell_type": "markdown",
   "metadata": {},
   "source": [
    "## Explainability Local Metrics for Binary Classification and Regression\n"
   ]
  },
  {
   "cell_type": "markdown",
   "metadata": {},
   "source": [
    "#### Imports"
   ]
  },
  {
   "cell_type": "code",
   "execution_count": 1,
   "metadata": {},
   "outputs": [],
   "source": [
    "import sys\n",
    "sys.path.append(\"../../\")\n",
    "\n",
    "import warnings\n",
    "warnings.filterwarnings(\"ignore\")\n",
    "\n",
    "import pandas as pd\n",
    "from sklearn.linear_model import LogisticRegression, LinearRegression\n",
    "from sklearn.preprocessing import StandardScaler\n",
    "\n",
    "from holisticai.datasets import load_adult\n",
    "\n",
    "# data and simple preprocessing\n",
    "dataset = load_adult()['frame']\n",
    "X = pd.get_dummies(dataset.iloc[:1000,:].drop(columns=['class']), drop_first=True)\n",
    "scaler = StandardScaler()\n",
    "X_standard = scaler.fit_transform(X)\n",
    "\n",
    "y_clf = pd.DataFrame(dataset.iloc[:1000,:]['class'].apply(lambda x: 1 if x == '>50K' else 0))\n",
    "y_reg = pd.DataFrame(dataset.iloc[:1000,:]['fnlwgt'])\n",
    "y_reg = scaler.fit_transform(y_reg)\n",
    "\n",
    "# instantiate and fit models\n",
    "\n",
    "# regression\n",
    "reg = LinearRegression()\n",
    "reg.fit(X_standard, y_reg)\n",
    "\n",
    "# classification\n",
    "clf = LogisticRegression(random_state=42, max_iter=100)\n",
    "clf.fit(X_standard, y_clf)\n",
    "\n",
    "# import Explainer\n",
    "from holisticai.explainability import Explainer"
   ]
  },
  {
   "cell_type": "markdown",
   "metadata": {},
   "source": [
    "### Local Metrics"
   ]
  },
  {
   "cell_type": "code",
   "execution_count": 2,
   "metadata": {},
   "outputs": [
    {
     "data": {
      "text/html": [
       "<div>\n",
       "<style scoped>\n",
       "    .dataframe tbody tr th:only-of-type {\n",
       "        vertical-align: middle;\n",
       "    }\n",
       "\n",
       "    .dataframe tbody tr th {\n",
       "        vertical-align: top;\n",
       "    }\n",
       "\n",
       "    .dataframe thead th {\n",
       "        text-align: right;\n",
       "    }\n",
       "</style>\n",
       "<table border=\"1\" class=\"dataframe\">\n",
       "  <thead>\n",
       "    <tr style=\"text-align: right;\">\n",
       "      <th></th>\n",
       "      <th>Value</th>\n",
       "      <th>Reference</th>\n",
       "    </tr>\n",
       "  </thead>\n",
       "  <tbody>\n",
       "    <tr>\n",
       "      <th>Dataset Spread Stability</th>\n",
       "      <td>0.003472</td>\n",
       "      <td>0</td>\n",
       "    </tr>\n",
       "    <tr>\n",
       "      <th>Dataset Spread Mean</th>\n",
       "      <td>1.079260</td>\n",
       "      <td>0</td>\n",
       "    </tr>\n",
       "    <tr>\n",
       "      <th>Dataset Spread Ratio</th>\n",
       "      <td>0.999103</td>\n",
       "      <td>0</td>\n",
       "    </tr>\n",
       "    <tr>\n",
       "      <th>Features Spread Stability</th>\n",
       "      <td>0.320718</td>\n",
       "      <td>0</td>\n",
       "    </tr>\n",
       "    <tr>\n",
       "      <th>Features Spread Mean</th>\n",
       "      <td>0.107016</td>\n",
       "      <td>0</td>\n",
       "    </tr>\n",
       "    <tr>\n",
       "      <th>Features Spread Ratio</th>\n",
       "      <td>0.929893</td>\n",
       "      <td>0</td>\n",
       "    </tr>\n",
       "  </tbody>\n",
       "</table>\n",
       "</div>"
      ],
      "text/plain": [
       "                              Value  Reference\n",
       "Dataset Spread Stability   0.003472          0\n",
       "Dataset Spread Mean        1.079260          0\n",
       "Dataset Spread Ratio       0.999103          0\n",
       "Features Spread Stability  0.320718          0\n",
       "Features Spread Mean       0.107016          0\n",
       "Features Spread Ratio      0.929893          0"
      ]
     },
     "execution_count": 2,
     "metadata": {},
     "output_type": "execute_result"
    }
   ],
   "source": [
    "# instantiate explainer lime classification\n",
    "explainer = Explainer(based_on='feature_importance', \n",
    "                      strategy_type='lime', \n",
    "                      model_type='binary_classification', \n",
    "                      model=clf, \n",
    "                      x=X_standard, \n",
    "                      y=y_clf)\n",
    "\n",
    "explainer.metrics()"
   ]
  },
  {
   "cell_type": "code",
   "execution_count": 3,
   "metadata": {},
   "outputs": [
    {
     "data": {
      "text/html": [
       "<div>\n",
       "<style scoped>\n",
       "    .dataframe tbody tr th:only-of-type {\n",
       "        vertical-align: middle;\n",
       "    }\n",
       "\n",
       "    .dataframe tbody tr th {\n",
       "        vertical-align: top;\n",
       "    }\n",
       "\n",
       "    .dataframe thead th {\n",
       "        text-align: right;\n",
       "    }\n",
       "</style>\n",
       "<table border=\"1\" class=\"dataframe\">\n",
       "  <thead>\n",
       "    <tr style=\"text-align: right;\">\n",
       "      <th></th>\n",
       "      <th>Value</th>\n",
       "      <th>Reference</th>\n",
       "    </tr>\n",
       "  </thead>\n",
       "  <tbody>\n",
       "    <tr>\n",
       "      <th>Dataset Spread Stability</th>\n",
       "      <td>0.008055</td>\n",
       "      <td>0</td>\n",
       "    </tr>\n",
       "    <tr>\n",
       "      <th>Dataset Spread Mean</th>\n",
       "      <td>1.117358</td>\n",
       "      <td>0</td>\n",
       "    </tr>\n",
       "    <tr>\n",
       "      <th>Dataset Spread Ratio</th>\n",
       "      <td>0.997951</td>\n",
       "      <td>0</td>\n",
       "    </tr>\n",
       "    <tr>\n",
       "      <th>Features Spread Stability</th>\n",
       "      <td>0.292661</td>\n",
       "      <td>0</td>\n",
       "    </tr>\n",
       "    <tr>\n",
       "      <th>Features Spread Mean</th>\n",
       "      <td>0.112365</td>\n",
       "      <td>0</td>\n",
       "    </tr>\n",
       "    <tr>\n",
       "      <th>Features Spread Ratio</th>\n",
       "      <td>0.936026</td>\n",
       "      <td>0</td>\n",
       "    </tr>\n",
       "  </tbody>\n",
       "</table>\n",
       "</div>"
      ],
      "text/plain": [
       "                              Value  Reference\n",
       "Dataset Spread Stability   0.008055          0\n",
       "Dataset Spread Mean        1.117358          0\n",
       "Dataset Spread Ratio       0.997951          0\n",
       "Features Spread Stability  0.292661          0\n",
       "Features Spread Mean       0.112365          0\n",
       "Features Spread Ratio      0.936026          0"
      ]
     },
     "execution_count": 3,
     "metadata": {},
     "output_type": "execute_result"
    }
   ],
   "source": [
    "# instantiate explainer lime regression\n",
    "explainer = Explainer(based_on='feature_importance', \n",
    "                      strategy_type='lime', \n",
    "                      model_type='regression', \n",
    "                      model=clf, \n",
    "                      x=X_standard, \n",
    "                      y=y_reg)\n",
    "\n",
    "explainer.metrics()"
   ]
  }
 ],
 "metadata": {
  "kernelspec": {
   "display_name": "holisticai",
   "language": "python",
   "name": "python3"
  },
  "language_info": {
   "codemirror_mode": {
    "name": "ipython",
    "version": 3
   },
   "file_extension": ".py",
   "mimetype": "text/x-python",
   "name": "python",
   "nbconvert_exporter": "python",
   "pygments_lexer": "ipython3",
   "version": "3.10.8"
  },
  "orig_nbformat": 4
 },
 "nbformat": 4,
 "nbformat_minor": 2
}
