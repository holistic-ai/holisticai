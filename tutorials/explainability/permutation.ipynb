{
    "cells": [
        {
            "cell_type": "markdown",
            "metadata": {},
            "source": [
                "# 1. Regression"
            ]
        },
        {
            "cell_type": "markdown",
            "metadata": {},
            "source": [
                "## 1.1. Load Data and Train Model"
            ]
        },
        {
            "cell_type": "code",
            "execution_count": 1,
            "metadata": {},
            "outputs": [
                {
                    "data": {
                        "text/plain": [
                            "0.013731416251044858"
                        ]
                    },
                    "execution_count": 1,
                    "metadata": {},
                    "output_type": "execute_result"
                }
            ],
            "source": [
                "from sklearn.linear_model import LinearRegression\n",
                "from holisticai.datasets import load_dataset\n",
                "from sklearn.metrics import mean_squared_error\n",
                "\n",
                "dataset = load_dataset('us_crime')\n",
                "dataset = dataset.train_test_split(test_size=0.2, random_state=42)\n",
                "train = dataset['test']\n",
                "test = dataset['test']\n",
                "\n",
                "model = LinearRegression()\n",
                "model.fit(train['X'], train['y'])\n",
                "\n",
                "mean_squared_error(test['y'], model.predict(test['X']))"
            ]
        },
        {
            "cell_type": "code",
            "execution_count": 2,
            "metadata": {},
            "outputs": [
                {
                    "name": "stderr",
                    "output_type": "stream",
                    "text": [
                        "/home/cristian/.local/share/hatch/env/virtual/holisticai/g8_gwgw3/testing/lib/python3.11/site-packages/pydantic/_internal/_generate_schema.py:394: UserWarning: <built-in function callable> is not a Python type (it may be an instance of an object), Pydantic will allow any object with no validation since we cannot even enforce that the input is an instance of the given type. To get rid of this error wrap the type with `pydantic.SkipValidation`.\n",
                        "  warn(\n"
                    ]
                },
                {
                    "data": {
                        "text/html": [
                            "<div>\n",
                            "<style scoped>\n",
                            "    .dataframe tbody tr th:only-of-type {\n",
                            "        vertical-align: middle;\n",
                            "    }\n",
                            "\n",
                            "    .dataframe tbody tr th {\n",
                            "        vertical-align: top;\n",
                            "    }\n",
                            "\n",
                            "    .dataframe thead th {\n",
                            "        text-align: right;\n",
                            "    }\n",
                            "</style>\n",
                            "<table border=\"1\" class=\"dataframe\">\n",
                            "  <thead>\n",
                            "    <tr style=\"text-align: right;\">\n",
                            "      <th></th>\n",
                            "      <th>value</th>\n",
                            "      <th>reference</th>\n",
                            "    </tr>\n",
                            "    <tr>\n",
                            "      <th>metric</th>\n",
                            "      <th></th>\n",
                            "      <th></th>\n",
                            "    </tr>\n",
                            "  </thead>\n",
                            "  <tbody>\n",
                            "    <tr>\n",
                            "      <th>Alpha Importance Score</th>\n",
                            "      <td>0.118812</td>\n",
                            "      <td>0.0</td>\n",
                            "    </tr>\n",
                            "    <tr>\n",
                            "      <th>XAI Ease Score</th>\n",
                            "      <td>1.000000</td>\n",
                            "      <td>1.0</td>\n",
                            "    </tr>\n",
                            "    <tr>\n",
                            "      <th>Position Parity</th>\n",
                            "      <td>0.442426</td>\n",
                            "      <td>1.0</td>\n",
                            "    </tr>\n",
                            "    <tr>\n",
                            "      <th>Rank Alignment</th>\n",
                            "      <td>0.779663</td>\n",
                            "      <td>1.0</td>\n",
                            "    </tr>\n",
                            "  </tbody>\n",
                            "</table>\n",
                            "</div>"
                        ],
                        "text/plain": [
                            "                           value  reference\n",
                            "metric                                     \n",
                            "Alpha Importance Score  0.118812        0.0\n",
                            "XAI Ease Score          1.000000        1.0\n",
                            "Position Parity         0.442426        1.0\n",
                            "Rank Alignment          0.779663        1.0"
                        ]
                    },
                    "execution_count": 2,
                    "metadata": {},
                    "output_type": "execute_result"
                }
            ],
            "source": [
                "from holisticai.xai.metrics import regression_xai_features\n",
                "from holisticai.xai.metrics import compute_xai_metrics_from_features\n",
                "\n",
                "xai_features = regression_xai_features(test['X'], test['y'], model.predict, strategy=\"permutation\")\n",
                "\n",
                "compute_xai_metrics_from_features(xai_features)"
            ]
        },
        {
            "cell_type": "code",
            "execution_count": null,
            "metadata": {},
            "outputs": [],
            "source": [
                "from holisticai.xai.plots import plot_surrogate\n",
                "\n",
                "plot_surrogate(xai_features.feature_importance)"
            ]
        },
        {
            "cell_type": "markdown",
            "metadata": {},
            "source": [
                "# 3. Classification"
            ]
        },
        {
            "cell_type": "code",
            "execution_count": null,
            "metadata": {},
            "outputs": [],
            "source": [
                "from sklearn.linear_model import LogisticRegression\n",
                "from holisticai.datasets import load_dataset\n",
                "from sklearn.metrics import accuracy_score\n",
                "\n",
                "dataset = load_dataset('adult')\n",
                "dataset = dataset.train_test_split(test_size=0.2, random_state=42)\n",
                "train = dataset['test']\n",
                "test = dataset['test']\n",
                "\n",
                "model = LogisticRegression()\n",
                "model.fit(train['X'], train['y'])\n",
                "\n",
                "accuracy_score(test['y'], model.predict(test['X']))"
            ]
        },
        {
            "cell_type": "code",
            "execution_count": null,
            "metadata": {},
            "outputs": [],
            "source": [
                "from holisticai.xai.metrics import classification_xai_features\n",
                "from holisticai.xai.metrics import compute_xai_metrics_from_features\n",
                "\n",
                "\n",
                "xai_features = classification_xai_features(test['X'], test['y'], model.predict, model.predict_proba, classes=model.classes_, strategy=\"surrogate\")\n",
                "\n",
                "compute_xai_metrics_from_features(xai_features)"
            ]
        },
        {
            "cell_type": "code",
            "execution_count": null,
            "metadata": {},
            "outputs": [],
            "source": [
                "from holisticai.xai.plots import plot_surrogate\n",
                "\n",
                "plot_surrogate(xai_features.feature_importance)"
            ]
        },
        {
            "cell_type": "markdown",
            "metadata": {},
            "source": [
                "# Multi Classification"
            ]
        },
        {
            "cell_type": "code",
            "execution_count": null,
            "metadata": {},
            "outputs": [],
            "source": [
                "from sklearn.linear_model import LogisticRegression\n",
                "from holisticai.datasets import load_dataset\n",
                "from sklearn.metrics import accuracy_score\n",
                "\n",
                "dataset = load_dataset(dataset_name=\"student_multiclass\")\n",
                "dataset = dataset.train_test_split(test_size=0.2, random_state=42)\n",
                "train = dataset['test']\n",
                "test = dataset['test']\n",
                "\n",
                "model = LogisticRegression()\n",
                "model.fit(train['X'], train['y'])\n",
                "\n",
                "accuracy_score(test['y'], model.predict(test['X']))"
            ]
        },
        {
            "cell_type": "code",
            "execution_count": null,
            "metadata": {},
            "outputs": [],
            "source": [
                "from holisticai.xai.metrics import multiclass_xai_features\n",
                "from holisticai.xai.metrics import compute_xai_metrics_from_features\n",
                "\n",
                "\n",
                "xai_features = multiclass_xai_features(test['X'], test['y'], model.predict, model.predict_proba, classes=model.classes_, strategy=\"surrogate\")\n",
                "\n",
                "compute_xai_metrics_from_features(xai_features)"
            ]
        },
        {
            "cell_type": "code",
            "execution_count": null,
            "metadata": {},
            "outputs": [],
            "source": [
                "from holisticai.xai.plots import plot_surrogate\n",
                "\n",
                "plot_surrogate(xai_features.feature_importance)"
            ]
        }
    ],
    "metadata": {
        "kernelspec": {
            "display_name": "open-source",
            "language": "python",
            "name": "python3"
        },
        "language_info": {
            "codemirror_mode": {
                "name": "ipython",
                "version": 3
            },
            "file_extension": ".py",
            "mimetype": "text/x-python",
            "name": "python",
            "nbconvert_exporter": "python",
            "pygments_lexer": "ipython3",
            "version": "3.11.5"
        },
        "orig_nbformat": 4
    },
    "nbformat": 4,
    "nbformat_minor": 2
}
