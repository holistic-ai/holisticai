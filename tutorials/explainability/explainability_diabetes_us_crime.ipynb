{
 "cells": [
  {
   "cell_type": "code",
   "execution_count": null,
   "metadata": {},
   "outputs": [],
   "source": [
    "import sys\n",
    "sys.path.insert(0, '../../')"
   ]
  },
  {
   "cell_type": "code",
   "execution_count": null,
   "metadata": {},
   "outputs": [],
   "source": [
    "from sklearn.datasets import load_diabetes\n",
    "from holisticai.datasets import load_us_crime\n",
    "from sklearn.model_selection import train_test_split\n",
    "from sklearn.linear_model import LinearRegression\n",
    "import matplotlib.pyplot as plt\n",
    "import seaborn as sns\n",
    "import pandas as pd\n",
    "\n",
    "from holisticai.explainability import Explainer\n",
    "from holisticai.efficacy.metrics import regression_efficacy_metrics"
   ]
  },
  {
   "cell_type": "code",
   "execution_count": null,
   "metadata": {},
   "outputs": [],
   "source": [
    "dataset = load_us_crime(return_X_y=False, as_frame=True)\n",
    "df = pd.concat([dataset[\"data\"], dataset[\"target\"]], axis=1)\n",
    "df.head()"
   ]
  },
  {
   "cell_type": "code",
   "execution_count": null,
   "metadata": {},
   "outputs": [],
   "source": [
    "def preprocess_us_crime_dataset(df, protected_feature):\n",
    "  \"\"\"Performs the pre-processing step of the data.\"\"\"\n",
    "  # Remove NaN elements from dataframe\n",
    "  df_ = df.copy()\n",
    "  df_clean = df_.iloc[:,[i for i,n in enumerate(df_.isna().sum(axis=0).T.values) if n<1000]]\n",
    "  df_clean = df_clean.dropna()\n",
    "  # Get the protected attribute vectors\n",
    "  group_a = df_clean[protected_feature].apply(lambda x: x>0.5)\n",
    "  group_b =  1-group_a\n",
    "  group_b = group_b.astype('bool')\n",
    "  # Remove unnecessary columns\n",
    "  cols = [c for c in df_clean.columns if (not c.startswith('race')) and (not c.startswith('age'))]\n",
    "  df_clean = df_clean[cols].iloc[:,3:]\n",
    "  return df_clean, group_a, group_b"
   ]
  },
  {
   "cell_type": "code",
   "execution_count": null,
   "metadata": {},
   "outputs": [],
   "source": [
    "df_clean, group_a, group_b = preprocess_us_crime_dataset(df, 'racePctWhite')\n",
    "X = df_clean.iloc[:,:-1]\n",
    "y = df_clean.iloc[:,-1]"
   ]
  },
  {
   "cell_type": "code",
   "execution_count": null,
   "metadata": {},
   "outputs": [],
   "source": [
    "from holisticai.bias.plots import correlation_matrix_plot\n",
    "\n",
    "correlation_matrix_plot(X, target_feature='population', size = (12,7))"
   ]
  },
  {
   "cell_type": "code",
   "execution_count": null,
   "metadata": {},
   "outputs": [],
   "source": [
    "from sklearn.ensemble import GradientBoostingRegressor\n",
    "import numpy as np\n",
    "seed = np.random.seed(42) # set seed for reproducibility\n",
    "# simple preprocessing\n",
    "X_train, X_test, y_train, y_test = train_test_split(X, y, test_size=0.2, random_state=seed) # train test split\n",
    "\n",
    "\n",
    "model = GradientBoostingRegressor() # instantiate model\n",
    "#model = LinearRegression()\n",
    "model.fit(X_train, y_train) # fit model\n",
    "\n",
    "y_pred = model.predict(X_test) # compute predictions\n",
    "\n",
    "# compute efficacy metrics\n",
    "regression_efficacy_metrics(y_test, y_pred)"
   ]
  },
  {
   "cell_type": "code",
   "execution_count": null,
   "metadata": {},
   "outputs": [],
   "source": [
    "# permutation feature importance\n",
    "explainer = Explainer(based_on='feature_importance',\n",
    "                      strategy_type='permutation',\n",
    "                      model_type='regression',\n",
    "                      model = model, \n",
    "                      x = X, \n",
    "                      y = y)"
   ]
  },
  {
   "cell_type": "code",
   "execution_count": null,
   "metadata": {},
   "outputs": [],
   "source": [
    "explainer.metrics()"
   ]
  },
  {
   "cell_type": "code",
   "execution_count": null,
   "metadata": {},
   "outputs": [],
   "source": [
    "explainer.bar_plot(max_display=10)"
   ]
  },
  {
   "cell_type": "code",
   "execution_count": null,
   "metadata": {},
   "outputs": [],
   "source": [
    "_,ax = plt.subplots(figsize=(15,3))\n",
    "explainer.partial_dependence_plot(last=3, ax=ax)"
   ]
  },
  {
   "attachments": {},
   "cell_type": "markdown",
   "metadata": {},
   "source": [
    "Conditional Feature Importance Metrics"
   ]
  },
  {
   "cell_type": "code",
   "execution_count": null,
   "metadata": {},
   "outputs": [],
   "source": [
    "explainer.metrics(detailed=True)"
   ]
  },
  {
   "cell_type": "code",
   "execution_count": null,
   "metadata": {},
   "outputs": [],
   "source": [
    "# How change the feature importance for each quantil with respect to the feature importance of the whole model?\n",
    "explainer.contrast_visualization(show_connections=False)"
   ]
  },
  {
   "cell_type": "code",
   "execution_count": null,
   "metadata": {},
   "outputs": [],
   "source": [
    "explainer.feature_importance_table(sorted_by='Global', top_n=5)"
   ]
  },
  {
   "attachments": {},
   "cell_type": "markdown",
   "metadata": {},
   "source": [
    "# Global Explainability metrics (based on Surrogate Model)"
   ]
  },
  {
   "cell_type": "code",
   "execution_count": null,
   "metadata": {},
   "outputs": [],
   "source": [
    "# surrogate feature importance\n",
    "explainer = Explainer(based_on='feature_importance',\n",
    "                      strategy_type='surrogate',\n",
    "                      model_type='regression',\n",
    "                      model = model, \n",
    "                      x = X, \n",
    "                      y = y)"
   ]
  },
  {
   "cell_type": "code",
   "execution_count": null,
   "metadata": {},
   "outputs": [],
   "source": [
    "explainer.metrics()"
   ]
  },
  {
   "cell_type": "code",
   "execution_count": null,
   "metadata": {},
   "outputs": [],
   "source": [
    "explainer.bar_plot(max_display=6)"
   ]
  },
  {
   "cell_type": "code",
   "execution_count": null,
   "metadata": {},
   "outputs": [],
   "source": [
    "_,ax = plt.subplots(figsize=(15,5))\n",
    "explainer.partial_dependence_plot(last=6, ax=ax, kind='both')"
   ]
  },
  {
   "cell_type": "code",
   "execution_count": null,
   "metadata": {},
   "outputs": [],
   "source": [
    "explainer.feature_importance_table(sorted_by='Global', top_n=10)"
   ]
  },
  {
   "cell_type": "code",
   "execution_count": null,
   "metadata": {},
   "outputs": [],
   "source": [
    "_,ax = plt.subplots(figsize=(15,3))\n",
    "_ = explainer.tree_visualization('sklearn', fontsize=7, ax=ax)"
   ]
  },
  {
   "cell_type": "code",
   "execution_count": null,
   "metadata": {},
   "outputs": [],
   "source": [
    "explainer.tree_visualization('graphviz')"
   ]
  },
  {
   "cell_type": "code",
   "execution_count": null,
   "metadata": {},
   "outputs": [],
   "source": [
    "vis = explainer.tree_visualization('dtreeviz', scale=2)\n",
    "vis"
   ]
  },
  {
   "attachments": {},
   "cell_type": "markdown",
   "metadata": {},
   "source": [
    "# Local Explainability Metrics (based on Lime)"
   ]
  },
  {
   "cell_type": "code",
   "execution_count": null,
   "metadata": {},
   "outputs": [],
   "source": [
    "# lime feature importance\n",
    "explainer = Explainer(based_on='feature_importance',\n",
    "                      strategy_type='lime',\n",
    "                      model_type='regression',\n",
    "                      model = model, \n",
    "                      x = X, \n",
    "                      y = y)"
   ]
  },
  {
   "cell_type": "code",
   "execution_count": null,
   "metadata": {},
   "outputs": [],
   "source": [
    "explainer.metrics()"
   ]
  },
  {
   "cell_type": "code",
   "execution_count": null,
   "metadata": {},
   "outputs": [],
   "source": [
    "explainer.metrics(detailed=True)"
   ]
  },
  {
   "cell_type": "code",
   "execution_count": null,
   "metadata": {},
   "outputs": [],
   "source": [
    "#explainer.feature_importance_table(sorted_by='Global', top_n=10)"
   ]
  },
  {
   "cell_type": "code",
   "execution_count": null,
   "metadata": {},
   "outputs": [],
   "source": [
    "explainer.show_data_stability_boundaries(top_n=10, figsize=(15,5))"
   ]
  },
  {
   "cell_type": "code",
   "execution_count": null,
   "metadata": {},
   "outputs": [],
   "source": [
    "explainer.show_features_stability_boundaries(figsize=(15,5))"
   ]
  }
 ],
 "metadata": {
  "kernelspec": {
   "display_name": "open-source",
   "language": "python",
   "name": "python3"
  },
  "language_info": {
   "codemirror_mode": {
    "name": "ipython",
    "version": 3
   },
   "file_extension": ".py",
   "mimetype": "text/x-python",
   "name": "python",
   "nbconvert_exporter": "python",
   "pygments_lexer": "ipython3",
   "version": "3.10.13"
  },
  "orig_nbformat": 4
 },
 "nbformat": 4,
 "nbformat_minor": 2
}
