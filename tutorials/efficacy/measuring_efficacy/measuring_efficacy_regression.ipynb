{
    "cells": [
        {
            "attachments": {},
            "cell_type": "markdown",
            "metadata": {
                "id": "pFKF6N69kCay"
            },
            "source": [
                "# **Measuring Efficacy in regression**\n"
            ]
        },
        {
            "attachments": {},
            "cell_type": "markdown",
            "metadata": {},
            "source": [
                "This notebook is a tutorial on auditing efficacy within a regression task. \n",
                "\n",
                "The sections are organised as follows :\n",
                "1. Load the data : we load the student grades dataset as a pandas DataFrame\n",
                "2. Train a Model : we train a simple linear regression model (sklearn)\n",
                "3. Measure Efficacy : we compute a few efficacy metrics."
            ]
        },
        {
            "attachments": {},
            "cell_type": "markdown",
            "metadata": {
                "id": "-nYt5_h77QGN"
            },
            "source": [
                "## **1. Load the data**"
            ]
        },
        {
            "cell_type": "code",
            "execution_count": 1,
            "metadata": {},
            "outputs": [
                {
                    "data": {
                        "text/html": [
                            "\n",
                            "    <style>\n",
                            "        .generic-object-container {\n",
                            "    padding: 1px;\n",
                            "    margin: 1px;\n",
                            "}\n",
                            ".generic-object-content {\n",
                            "    background-color: #fff;\n",
                            "    border: 1px solid #ddd;\n",
                            "    border-radius: 5px;\n",
                            "    padding: 0px;\n",
                            "    margin: 10px;\n",
                            "    text-align: left;\n",
                            "    font-family: Arial, sans-serif;\n",
                            "    color: #333;\n",
                            "    display: inline-block;\n",
                            "    box-shadow: 1px 1px 3px rgba(0, 0, 0, 0.1);\n",
                            "}\n",
                            ".generic-object-header {\n",
                            "    background-color: #e0e0e0;\n",
                            "    color: #000;\n",
                            "    font-size: 16px;\n",
                            "    padding: 10px;\n",
                            "    margin: 0px;\n",
                            "    text-align: left;\n",
                            "    border-bottom: 1px solid #ccc;\n",
                            "    border-radius: 5px 5px 0 0;\n",
                            "    font-weight: bold;\n",
                            "}\n",
                            ".generic-object-body {\n",
                            "    padding: 10px 20px 10px 20px;\n",
                            "}\n",
                            ".attribute-list {\n",
                            "    margin: 2px 0;\n",
                            "    padding: 2px;\n",
                            "}\n",
                            "    </style>\n",
                            "    <div class=\"generic-object-container\">\n",
                            "        <div class=\"generic-object-content\">\n",
                            "            <div class=\"generic-object-header\">Dataset</div>\n",
                            "            <div class=\"generic-object-body\">\n",
                            "                <div class=\"attribute-list\">• Number of Rows: 395</div><div class=\"attribute-list\">• Features: X , y , group_a , group_b</div>\n",
                            "                \n",
                            "            </div>\n",
                            "        </div>\n",
                            "    </div>\n",
                            "    "
                        ],
                        "text/plain": [
                            "Dataset({\n",
                            "        features: ['X', 'y', 'group_a', 'group_b'],\n",
                            "        num_rows: 395\n",
                            "    })"
                        ]
                    },
                    "execution_count": 1,
                    "metadata": {},
                    "output_type": "execute_result"
                }
            ],
            "source": [
                "from holisticai.datasets import load_dataset\n",
                "dataset = load_dataset('student')\n",
                "dataset"
            ]
        },
        {
            "attachments": {},
            "cell_type": "markdown",
            "metadata": {},
            "source": [
                "## **2. Preprocess Data and Train a model**"
            ]
        },
        {
            "cell_type": "markdown",
            "metadata": {},
            "source": [
                "We use a sklearn linear regression model."
            ]
        },
        {
            "cell_type": "code",
            "execution_count": 2,
            "metadata": {},
            "outputs": [],
            "source": [
                "from sklearn.linear_model import LinearRegression   \n",
                "\n",
                "dataset = dataset.train_test_split(test_size=0.2, random_state=42)\n",
                "train = dataset['train']\n",
                "test = dataset['test']\n",
                "\n",
                "# Train a simple linear regression model\n",
                "model = LinearRegression()\n",
                "model.fit(train['X'], train['y'])\n",
                "\n",
                "# Predict values\n",
                "y_pred = model.predict(test['X'])"
            ]
        },
        {
            "attachments": {},
            "cell_type": "markdown",
            "metadata": {},
            "source": [
                "## **3. Measure Efficacy**"
            ]
        },
        {
            "cell_type": "code",
            "execution_count": 3,
            "metadata": {},
            "outputs": [
                {
                    "data": {
                        "text/html": [
                            "<div>\n",
                            "<style scoped>\n",
                            "    .dataframe tbody tr th:only-of-type {\n",
                            "        vertical-align: middle;\n",
                            "    }\n",
                            "\n",
                            "    .dataframe tbody tr th {\n",
                            "        vertical-align: top;\n",
                            "    }\n",
                            "\n",
                            "    .dataframe thead th {\n",
                            "        text-align: right;\n",
                            "    }\n",
                            "</style>\n",
                            "<table border=\"1\" class=\"dataframe\">\n",
                            "  <thead>\n",
                            "    <tr style=\"text-align: right;\">\n",
                            "      <th></th>\n",
                            "      <th>Value</th>\n",
                            "      <th>Reference</th>\n",
                            "    </tr>\n",
                            "    <tr>\n",
                            "      <th>Metric</th>\n",
                            "      <th></th>\n",
                            "      <th></th>\n",
                            "    </tr>\n",
                            "  </thead>\n",
                            "  <tbody>\n",
                            "    <tr>\n",
                            "      <th>RMSE</th>\n",
                            "      <td>4.352005</td>\n",
                            "      <td>0</td>\n",
                            "    </tr>\n",
                            "    <tr>\n",
                            "      <th>MAE</th>\n",
                            "      <td>3.566557</td>\n",
                            "      <td>0</td>\n",
                            "    </tr>\n",
                            "    <tr>\n",
                            "      <th>MAPE</th>\n",
                            "      <td>0.452548</td>\n",
                            "      <td>0</td>\n",
                            "    </tr>\n",
                            "    <tr>\n",
                            "      <th>Max Error</th>\n",
                            "      <td>11.118221</td>\n",
                            "      <td>0</td>\n",
                            "    </tr>\n",
                            "    <tr>\n",
                            "      <th>SMAPE</th>\n",
                            "      <td>0.206227</td>\n",
                            "      <td>0</td>\n",
                            "    </tr>\n",
                            "  </tbody>\n",
                            "</table>\n",
                            "</div>"
                        ],
                        "text/plain": [
                            "               Value  Reference\n",
                            "Metric                         \n",
                            "RMSE        4.352005          0\n",
                            "MAE         3.566557          0\n",
                            "MAPE        0.452548          0\n",
                            "Max Error  11.118221          0\n",
                            "SMAPE       0.206227          0"
                        ]
                    },
                    "execution_count": 3,
                    "metadata": {},
                    "output_type": "execute_result"
                }
            ],
            "source": [
                "from holisticai.efficacy.metrics import regression_efficacy_metrics\n",
                "\n",
                "regression_efficacy_metrics(y_pred, test['y'])"
            ]
        }
    ],
    "metadata": {
        "colab": {
            "collapsed_sections": [
                "THYXrjvTCn8H"
            ],
            "name": "Measuring_Bias_Regression_3.ipynb",
            "provenance": []
        },
        "kernelspec": {
            "display_name": "Python 3.9.0 ('torch-nightly')",
            "language": "python",
            "name": "python3"
        },
        "language_info": {
            "codemirror_mode": {
                "name": "ipython",
                "version": 3
            },
            "file_extension": ".py",
            "mimetype": "text/x-python",
            "name": "python",
            "nbconvert_exporter": "python",
            "pygments_lexer": "ipython3",
            "version": "3.11.9"
        },
        "vscode": {
            "interpreter": {
                "hash": "f5fa74478a026ac530ef194e4df855dfb9675779484e20284ae5f690a2266d7b"
            }
        }
    },
    "nbformat": 4,
    "nbformat_minor": 1
}
