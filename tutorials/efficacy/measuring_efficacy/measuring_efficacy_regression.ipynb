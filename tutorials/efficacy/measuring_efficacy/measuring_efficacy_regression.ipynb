{
    "cells": [
        {
            "attachments": {},
            "cell_type": "markdown",
            "metadata": {
                "id": "pFKF6N69kCay"
            },
            "source": [
                "# **Measuring Efficacy in regression**\n"
            ]
        },
        {
            "attachments": {},
            "cell_type": "markdown",
            "metadata": {},
            "source": [
                "This notebook is a tutorial on auditing efficacy within a regression task. \n",
                "\n",
                "The sections are organised as follows :\n",
                "1. Load the data : we load the student grades dataset as a pandas DataFrame\n",
                "2. Train a Model : we train a simple linear regression model (sklearn)\n",
                "3. Measure Efficacy : we compute a few efficacy metrics."
            ]
        },
        {
            "attachments": {},
            "cell_type": "markdown",
            "metadata": {
                "id": "-nYt5_h77QGN"
            },
            "source": [
                "## **1. Load the data**"
            ]
        },
        {
            "cell_type": "code",
            "execution_count": 1,
            "metadata": {},
            "outputs": [
                {
                    "data": {
                        "text/html": [
                            "\n",
                            "        <head>\n",
                            "            <meta charset=\"UTF-8\">\n",
                            "            <meta name=\"viewport\" content=\"width=device-width, initial-scale=1.0\">\n",
                            "            <title>Diagrama DatasetDict</title>\n",
                            "            <style>\n",
                            "                \n",
                            "    .container {\n",
                            "        font-family: Arial, sans-serif;\n",
                            "        margin: 20px;\n",
                            "    }\n",
                            "    .node {\n",
                            "        border: 2px solid #000;\n",
                            "        padding: 10px;\n",
                            "        margin: 10px;\n",
                            "        text-align: left;\n",
                            "        display: inline-block;\n",
                            "        background-color: #E0FFFF;\n",
                            "    }\n",
                            "    .datasets-container {\n",
                            "        display: flex;\n",
                            "        flex-wrap: wrap;\n",
                            "    }\n",
                            "    .dataset {\n",
                            "        border: 2px solid #007bff;\n",
                            "        padding: 10px;\n",
                            "        margin: 10px;\n",
                            "        text-align: left;\n",
                            "        border-radius: 5px;\n",
                            "        display: inline-block;\n",
                            "        white-space: nowrap;\n",
                            "        background-color: #E0FFFF;\n",
                            "        box-sizing: border-box;\n",
                            "    }\n",
                            "    .title {\n",
                            "        font-weight: bold;\n",
                            "        color: #222; /* Letras más negras */\n",
                            "        margin-bottom: 10px;\n",
                            "        text-align: left;\n",
                            "        white-space: nowrap;\n",
                            "    }\n",
                            "    ul {\n",
                            "        list-style-type: disc;\n",
                            "        padding-left: 20px;\n",
                            "        text-align: left;\n",
                            "        margin: 0;\n",
                            "        white-space: normal;\n",
                            "        color: #222; /* Letras más negras */\n",
                            "    }\n",
                            "    .groupbydataset {\n",
                            "        border: 2px solid #007bff; /* Dark red */\n",
                            "        padding: 10px;\n",
                            "        margin: 10px;\n",
                            "        text-align: left;\n",
                            "        border-radius: 5px;\n",
                            "        display: inline-block;\n",
                            "        white-space: nowrap;\n",
                            "        background-color: #E0FFFF; /* Light pink */\n",
                            "        box-sizing: border-box;\n",
                            "    }\n",
                            "    \n",
                            "            </style>\n",
                            "        </head>\n",
                            "        <body>\n",
                            "            <div class=\"container\">\n",
                            "                \n",
                            "        <div class=\"dataset\" style=\"width: 464px;\">\n",
                            "            <div class=\"title\">Dataset</div>\n",
                            "            <ul>\n",
                            "                <li>features: [ X , y , group_a , group_b ]</li>\n",
                            "                <li>num_rows: 395</li>\n",
                            "            </ul>\n",
                            "        </div>\n",
                            "        \n",
                            "            </div>\n",
                            "        </body>\n",
                            "        "
                        ],
                        "text/plain": [
                            "Dataset({\n",
                            "        features: ['X', 'y', 'group_a', 'group_b'],\n",
                            "        num_rows: 395\n",
                            "    })"
                        ]
                    },
                    "execution_count": 1,
                    "metadata": {},
                    "output_type": "execute_result"
                }
            ],
            "source": [
                "from holisticai.datasets import load_dataset\n",
                "dataset = load_dataset('student')\n",
                "dataset"
            ]
        },
        {
            "attachments": {},
            "cell_type": "markdown",
            "metadata": {},
            "source": [
                "## **2. Preprocess Data and Train a model**"
            ]
        },
        {
            "cell_type": "markdown",
            "metadata": {},
            "source": [
                "We use a sklearn linear regression model."
            ]
        },
        {
            "cell_type": "code",
            "execution_count": 2,
            "metadata": {},
            "outputs": [],
            "source": [
                "from sklearn.linear_model import LinearRegression   \n",
                "\n",
                "dataset = dataset.train_test_split(test_size=0.2, random_state=42)\n",
                "train = dataset['train']\n",
                "test = dataset['test']\n",
                "\n",
                "# Train a simple linear regression model\n",
                "model = LinearRegression()\n",
                "model.fit(train['X'], train['y'])\n",
                "\n",
                "# Predict values\n",
                "y_pred = model.predict(test['X'])"
            ]
        },
        {
            "attachments": {},
            "cell_type": "markdown",
            "metadata": {},
            "source": [
                "## **3. Measure Efficacy**"
            ]
        },
        {
            "cell_type": "code",
            "execution_count": 4,
            "metadata": {},
            "outputs": [
                {
                    "data": {
                        "text/html": [
                            "<div>\n",
                            "<style scoped>\n",
                            "    .dataframe tbody tr th:only-of-type {\n",
                            "        vertical-align: middle;\n",
                            "    }\n",
                            "\n",
                            "    .dataframe tbody tr th {\n",
                            "        vertical-align: top;\n",
                            "    }\n",
                            "\n",
                            "    .dataframe thead th {\n",
                            "        text-align: right;\n",
                            "    }\n",
                            "</style>\n",
                            "<table border=\"1\" class=\"dataframe\">\n",
                            "  <thead>\n",
                            "    <tr style=\"text-align: right;\">\n",
                            "      <th></th>\n",
                            "      <th>Value</th>\n",
                            "      <th>Reference</th>\n",
                            "    </tr>\n",
                            "    <tr>\n",
                            "      <th>Metric</th>\n",
                            "      <th></th>\n",
                            "      <th></th>\n",
                            "    </tr>\n",
                            "  </thead>\n",
                            "  <tbody>\n",
                            "    <tr>\n",
                            "      <th>RMSE</th>\n",
                            "      <td>4.352005</td>\n",
                            "      <td>0</td>\n",
                            "    </tr>\n",
                            "    <tr>\n",
                            "      <th>MAE</th>\n",
                            "      <td>3.566557</td>\n",
                            "      <td>0</td>\n",
                            "    </tr>\n",
                            "    <tr>\n",
                            "      <th>MAPE</th>\n",
                            "      <td>0.452548</td>\n",
                            "      <td>0</td>\n",
                            "    </tr>\n",
                            "    <tr>\n",
                            "      <th>Max Error</th>\n",
                            "      <td>11.118221</td>\n",
                            "      <td>0</td>\n",
                            "    </tr>\n",
                            "    <tr>\n",
                            "      <th>SMAPE</th>\n",
                            "      <td>0.206227</td>\n",
                            "      <td>0</td>\n",
                            "    </tr>\n",
                            "  </tbody>\n",
                            "</table>\n",
                            "</div>"
                        ],
                        "text/plain": [
                            "               Value  Reference\n",
                            "Metric                         \n",
                            "RMSE        4.352005          0\n",
                            "MAE         3.566557          0\n",
                            "MAPE        0.452548          0\n",
                            "Max Error  11.118221          0\n",
                            "SMAPE       0.206227          0"
                        ]
                    },
                    "execution_count": 4,
                    "metadata": {},
                    "output_type": "execute_result"
                }
            ],
            "source": [
                "from holisticai.efficacy.metrics import regression_efficacy_metrics\n",
                "\n",
                "regression_efficacy_metrics(y_pred, test['y'])"
            ]
        }
    ],
    "metadata": {
        "colab": {
            "collapsed_sections": [
                "THYXrjvTCn8H"
            ],
            "name": "Measuring_Bias_Regression_3.ipynb",
            "provenance": []
        },
        "kernelspec": {
            "display_name": "Python 3.9.0 ('torch-nightly')",
            "language": "python",
            "name": "python3"
        },
        "language_info": {
            "codemirror_mode": {
                "name": "ipython",
                "version": 3
            },
            "file_extension": ".py",
            "mimetype": "text/x-python",
            "name": "python",
            "nbconvert_exporter": "python",
            "pygments_lexer": "ipython3",
            "version": "3.11.5"
        },
        "vscode": {
            "interpreter": {
                "hash": "f5fa74478a026ac530ef194e4df855dfb9675779484e20284ae5f690a2266d7b"
            }
        }
    },
    "nbformat": 4,
    "nbformat_minor": 1
}
