{
    "cells": [
        {
            "cell_type": "markdown",
            "metadata": {
                "id": "pFKF6N69kCay"
            },
            "source": [
                "# **Measuring Bias in multiclass classification**\n"
            ]
        },
        {
            "attachments": {},
            "cell_type": "markdown",
            "metadata": {},
            "source": [
                "This tutorial will explain how to measure bias in a multiclass classification task using the holisticai library. We will introduce here some of the functions that can help study algorithmic bias.\n",
                "\n",
                "The sections are organised as follows :\n",
                "1. Load the data : we load the student dataset as a pandas DataFrame\n",
                "2. Train a Model : we train a model (sklearn)\n",
                "3. Measure Efficacy : we compute a few efficacy metrics."
            ]
        },
        {
            "cell_type": "markdown",
            "metadata": {
                "id": "-nYt5_h77QGN"
            },
            "source": [
                "## **Load the data**"
            ]
        },
        {
            "cell_type": "markdown",
            "metadata": {
                "collapsed": false
            },
            "source": [
                "The student dataset can be easily"
            ]
        },
        {
            "cell_type": "code",
            "execution_count": 1,
            "metadata": {
                "collapsed": false,
                "pycharm": {
                    "name": "#%%\n"
                }
            },
            "outputs": [],
            "source": [
                "from holisticai.datasets import load_dataset\n",
                "from sklearn.ensemble import RandomForestClassifier\n",
                "\n",
                "# load data\n",
                "dataset = load_dataset('student_multiclass')\n",
                "dataset = dataset.train_test_split(test_size=0.2, random_state=42)\n",
                "train = dataset['train']\n",
                "test = dataset['test']\n",
                "y_test = test['y']"
            ]
        },
        {
            "attachments": {},
            "cell_type": "markdown",
            "metadata": {},
            "source": [
                "## **2. Train a Model**"
            ]
        },
        {
            "cell_type": "code",
            "execution_count": 2,
            "metadata": {},
            "outputs": [],
            "source": [
                "# Train a simple Random Forest Classifier\n",
                "model = RandomForestClassifier(random_state=111)\n",
                "model.fit(train['X'], train['y'])\n",
                "\n",
                "# Predict values\n",
                "y_pred = model.predict(test['X'])\n",
                "y_proba = model.predict_proba(test['X'])"
            ]
        },
        {
            "attachments": {},
            "cell_type": "markdown",
            "metadata": {},
            "source": [
                "## **3. Measure Efficacy**"
            ]
        },
        {
            "cell_type": "code",
            "execution_count": 3,
            "metadata": {},
            "outputs": [
                {
                    "data": {
                        "text/html": [
                            "<div>\n",
                            "<style scoped>\n",
                            "    .dataframe tbody tr th:only-of-type {\n",
                            "        vertical-align: middle;\n",
                            "    }\n",
                            "\n",
                            "    .dataframe tbody tr th {\n",
                            "        vertical-align: top;\n",
                            "    }\n",
                            "\n",
                            "    .dataframe thead th {\n",
                            "        text-align: right;\n",
                            "    }\n",
                            "</style>\n",
                            "<table border=\"1\" class=\"dataframe\">\n",
                            "  <thead>\n",
                            "    <tr style=\"text-align: right;\">\n",
                            "      <th></th>\n",
                            "      <th>0</th>\n",
                            "      <th>1</th>\n",
                            "      <th>2</th>\n",
                            "    </tr>\n",
                            "  </thead>\n",
                            "  <tbody>\n",
                            "    <tr>\n",
                            "      <th>0</th>\n",
                            "      <td>0.518519</td>\n",
                            "      <td>0.2500</td>\n",
                            "      <td>0.166667</td>\n",
                            "    </tr>\n",
                            "    <tr>\n",
                            "      <th>1</th>\n",
                            "      <td>0.185185</td>\n",
                            "      <td>0.0625</td>\n",
                            "      <td>0.083333</td>\n",
                            "    </tr>\n",
                            "    <tr>\n",
                            "      <th>2</th>\n",
                            "      <td>0.296296</td>\n",
                            "      <td>0.6875</td>\n",
                            "      <td>0.750000</td>\n",
                            "    </tr>\n",
                            "  </tbody>\n",
                            "</table>\n",
                            "</div>"
                        ],
                        "text/plain": [
                            "          0       1         2\n",
                            "0  0.518519  0.2500  0.166667\n",
                            "1  0.185185  0.0625  0.083333\n",
                            "2  0.296296  0.6875  0.750000"
                        ]
                    },
                    "execution_count": 3,
                    "metadata": {},
                    "output_type": "execute_result"
                }
            ],
            "source": [
                "from holisticai.efficacy.metrics import confusion_matrix\n",
                "from sklearn.metrics import precision_score, recall_score, accuracy_score\n",
                "\n",
                "confusion_matrix(y_pred, y_test, normalize='true')"
            ]
        },
        {
            "cell_type": "code",
            "execution_count": 4,
            "metadata": {},
            "outputs": [
                {
                    "data": {
                        "text/html": [
                            "<div>\n",
                            "<style scoped>\n",
                            "    .dataframe tbody tr th:only-of-type {\n",
                            "        vertical-align: middle;\n",
                            "    }\n",
                            "\n",
                            "    .dataframe tbody tr th {\n",
                            "        vertical-align: top;\n",
                            "    }\n",
                            "\n",
                            "    .dataframe thead th {\n",
                            "        text-align: right;\n",
                            "    }\n",
                            "</style>\n",
                            "<table border=\"1\" class=\"dataframe\">\n",
                            "  <thead>\n",
                            "    <tr style=\"text-align: right;\">\n",
                            "      <th></th>\n",
                            "      <th>Value</th>\n",
                            "      <th>0</th>\n",
                            "      <th>1</th>\n",
                            "      <th>2</th>\n",
                            "      <th>Reference</th>\n",
                            "    </tr>\n",
                            "    <tr>\n",
                            "      <th>Metric</th>\n",
                            "      <th></th>\n",
                            "      <th></th>\n",
                            "      <th></th>\n",
                            "      <th></th>\n",
                            "      <th></th>\n",
                            "    </tr>\n",
                            "  </thead>\n",
                            "  <tbody>\n",
                            "    <tr>\n",
                            "      <th>Accuracy</th>\n",
                            "      <td>0.531646</td>\n",
                            "      <td></td>\n",
                            "      <td></td>\n",
                            "      <td></td>\n",
                            "      <td>1</td>\n",
                            "    </tr>\n",
                            "    <tr>\n",
                            "      <th>Balanced Accuracy</th>\n",
                            "      <td>0.443673</td>\n",
                            "      <td></td>\n",
                            "      <td></td>\n",
                            "      <td></td>\n",
                            "      <td>1</td>\n",
                            "    </tr>\n",
                            "    <tr>\n",
                            "      <th>Precision</th>\n",
                            "      <td>0.531646</td>\n",
                            "      <td>0.583333</td>\n",
                            "      <td>0.111111</td>\n",
                            "      <td>0.586957</td>\n",
                            "      <td>1</td>\n",
                            "    </tr>\n",
                            "    <tr>\n",
                            "      <th>Recall</th>\n",
                            "      <td>0.531646</td>\n",
                            "      <td>0.518519</td>\n",
                            "      <td>0.0625</td>\n",
                            "      <td>0.75</td>\n",
                            "      <td>1</td>\n",
                            "    </tr>\n",
                            "    <tr>\n",
                            "      <th>F1-Score</th>\n",
                            "      <td>0.531646</td>\n",
                            "      <td>0.54902</td>\n",
                            "      <td>0.08</td>\n",
                            "      <td>0.658537</td>\n",
                            "      <td>1</td>\n",
                            "    </tr>\n",
                            "  </tbody>\n",
                            "</table>\n",
                            "</div>"
                        ],
                        "text/plain": [
                            "                      Value         0         1         2  Reference\n",
                            "Metric                                                              \n",
                            "Accuracy           0.531646                                        1\n",
                            "Balanced Accuracy  0.443673                                        1\n",
                            "Precision          0.531646  0.583333  0.111111  0.586957          1\n",
                            "Recall             0.531646  0.518519    0.0625      0.75          1\n",
                            "F1-Score           0.531646   0.54902      0.08  0.658537          1"
                        ]
                    },
                    "execution_count": 4,
                    "metadata": {},
                    "output_type": "execute_result"
                }
            ],
            "source": [
                "from holisticai.efficacy.metrics import multiclassification_efficacy_metrics\n",
                "\n",
                "multiclassification_efficacy_metrics(y_pred, y_test, by_class=True)"
            ]
        },
        {
            "cell_type": "code",
            "execution_count": 5,
            "metadata": {},
            "outputs": [
                {
                    "data": {
                        "text/html": [
                            "<div>\n",
                            "<style scoped>\n",
                            "    .dataframe tbody tr th:only-of-type {\n",
                            "        vertical-align: middle;\n",
                            "    }\n",
                            "\n",
                            "    .dataframe tbody tr th {\n",
                            "        vertical-align: top;\n",
                            "    }\n",
                            "\n",
                            "    .dataframe thead th {\n",
                            "        text-align: right;\n",
                            "    }\n",
                            "</style>\n",
                            "<table border=\"1\" class=\"dataframe\">\n",
                            "  <thead>\n",
                            "    <tr style=\"text-align: right;\">\n",
                            "      <th></th>\n",
                            "      <th>Value</th>\n",
                            "      <th>0</th>\n",
                            "      <th>1</th>\n",
                            "      <th>2</th>\n",
                            "      <th>Reference</th>\n",
                            "    </tr>\n",
                            "    <tr>\n",
                            "      <th>Metric</th>\n",
                            "      <th></th>\n",
                            "      <th></th>\n",
                            "      <th></th>\n",
                            "      <th></th>\n",
                            "      <th></th>\n",
                            "    </tr>\n",
                            "  </thead>\n",
                            "  <tbody>\n",
                            "    <tr>\n",
                            "      <th>Accuracy</th>\n",
                            "      <td>0.531646</td>\n",
                            "      <td></td>\n",
                            "      <td></td>\n",
                            "      <td></td>\n",
                            "      <td>1</td>\n",
                            "    </tr>\n",
                            "    <tr>\n",
                            "      <th>Balanced Accuracy</th>\n",
                            "      <td>0.443673</td>\n",
                            "      <td></td>\n",
                            "      <td></td>\n",
                            "      <td></td>\n",
                            "      <td>1</td>\n",
                            "    </tr>\n",
                            "    <tr>\n",
                            "      <th>Precision</th>\n",
                            "      <td>0.531646</td>\n",
                            "      <td>0.583333</td>\n",
                            "      <td>0.111111</td>\n",
                            "      <td>0.586957</td>\n",
                            "      <td>1</td>\n",
                            "    </tr>\n",
                            "    <tr>\n",
                            "      <th>Recall</th>\n",
                            "      <td>0.531646</td>\n",
                            "      <td>0.518519</td>\n",
                            "      <td>0.0625</td>\n",
                            "      <td>0.75</td>\n",
                            "      <td>1</td>\n",
                            "    </tr>\n",
                            "    <tr>\n",
                            "      <th>F1-Score</th>\n",
                            "      <td>0.531646</td>\n",
                            "      <td>0.54902</td>\n",
                            "      <td>0.08</td>\n",
                            "      <td>0.658537</td>\n",
                            "      <td>1</td>\n",
                            "    </tr>\n",
                            "    <tr>\n",
                            "      <th>AUC</th>\n",
                            "      <td>0.653253</td>\n",
                            "      <td>0.737179</td>\n",
                            "      <td>0.522321</td>\n",
                            "      <td>0.700258</td>\n",
                            "      <td>1</td>\n",
                            "    </tr>\n",
                            "    <tr>\n",
                            "      <th>Log Loss</th>\n",
                            "      <td>0.993429</td>\n",
                            "      <td></td>\n",
                            "      <td></td>\n",
                            "      <td></td>\n",
                            "      <td>0</td>\n",
                            "    </tr>\n",
                            "  </tbody>\n",
                            "</table>\n",
                            "</div>"
                        ],
                        "text/plain": [
                            "                      Value         0         1         2  Reference\n",
                            "Metric                                                              \n",
                            "Accuracy           0.531646                                        1\n",
                            "Balanced Accuracy  0.443673                                        1\n",
                            "Precision          0.531646  0.583333  0.111111  0.586957          1\n",
                            "Recall             0.531646  0.518519    0.0625      0.75          1\n",
                            "F1-Score           0.531646   0.54902      0.08  0.658537          1\n",
                            "AUC                0.653253  0.737179  0.522321  0.700258          1\n",
                            "Log Loss           0.993429                                        0"
                        ]
                    },
                    "execution_count": 5,
                    "metadata": {},
                    "output_type": "execute_result"
                }
            ],
            "source": [
                "multiclassification_efficacy_metrics(y_pred, y_test, y_proba, by_class=True)"
            ]
        }
    ],
    "metadata": {
        "kernelspec": {
            "display_name": "Python 3.10.6 64-bit",
            "language": "python",
            "name": "python3"
        },
        "language_info": {
            "codemirror_mode": {
                "name": "ipython",
                "version": 3
            },
            "file_extension": ".py",
            "mimetype": "text/x-python",
            "name": "python",
            "nbconvert_exporter": "python",
            "pygments_lexer": "ipython3",
            "version": "3.11.9"
        },
        "orig_nbformat": 4,
        "vscode": {
            "interpreter": {
                "hash": "916dbcbb3f70747c44a77c7bcd40155683ae19c65e1c03b4aa3499c5328201f1"
            }
        }
    },
    "nbformat": 4,
    "nbformat_minor": 2
}
