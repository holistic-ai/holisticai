{
    "cells": [
        {
            "attachments": {},
            "cell_type": "markdown",
            "id": "3ea086d6",
            "metadata": {
                "id": "pFKF6N69kCay"
            },
            "source": [
                "# **Measuring Efficacy in clustering**\n"
            ]
        },
        {
            "attachments": {},
            "cell_type": "markdown",
            "id": "f5806760",
            "metadata": {},
            "source": [
                "This notebook is a tutorial on auditing efficacy within a clustering task. We will use the _holisticai_ library throughout.\n",
                "\n",
                "The sections are organised as follows :\n",
                "\n",
                "1. Load the data : we load the adult dataset as a pandas DataFrame\n",
                "2. Pre-Processing and Train a Model : we train a kmeans model (sklearn)\n",
                "3. Measure efficacy : we compute a few efficacy metrics."
            ]
        },
        {
            "attachments": {},
            "cell_type": "markdown",
            "id": "98dcbb0c",
            "metadata": {
                "id": "-nYt5_h77QGN"
            },
            "source": [
                "## **1. Load the data**"
            ]
        },
        {
            "cell_type": "markdown",
            "id": "32f32e1f",
            "metadata": {},
            "source": [
                "We will start by importing the adult dataset, which we host on our library. The adult dataset contains a set of informations extract from US 1994 Census database. It includes personal information about the individuals, specifically sex, race, and education. In this tutorial we will perform unsupervised learning to cluster the data, then measure whether this clustering contains gender or race information (clustering bias)."
            ]
        },
        {
            "cell_type": "code",
            "execution_count": 1,
            "id": "1702be74",
            "metadata": {},
            "outputs": [
                {
                    "data": {
                        "text/html": [
                            "\n",
                            "    <style>\n",
                            "        .generic-object-container {\n",
                            "    padding: 1px;\n",
                            "    margin: 1px;\n",
                            "}\n",
                            ".generic-object-content {\n",
                            "    background-color: #fff;\n",
                            "    border: 1px solid #ddd;\n",
                            "    border-radius: 5px;\n",
                            "    padding: 0px;\n",
                            "    margin: 10px;\n",
                            "    text-align: left;\n",
                            "    font-family: Arial, sans-serif;\n",
                            "    color: #333;\n",
                            "    display: inline-block;\n",
                            "    box-shadow: 1px 1px 3px rgba(0, 0, 0, 0.1);\n",
                            "}\n",
                            ".generic-object-header {\n",
                            "    background-color: #e0e0e0;\n",
                            "    color: #000;\n",
                            "    font-size: 16px;\n",
                            "    padding: 10px;\n",
                            "    margin: 0px;\n",
                            "    text-align: left;\n",
                            "    border-bottom: 1px solid #ccc;\n",
                            "    border-radius: 5px 5px 0 0;\n",
                            "    font-weight: bold;\n",
                            "}\n",
                            ".generic-object-body {\n",
                            "    padding: 10px 20px 10px 20px;\n",
                            "}\n",
                            ".attribute-list {\n",
                            "    margin: 2px 0;\n",
                            "    padding: 2px;\n",
                            "}\n",
                            "    </style>\n",
                            "    <div class=\"generic-object-container\">\n",
                            "        <div class=\"generic-object-content\">\n",
                            "            <div class=\"generic-object-header\">Dataset</div>\n",
                            "            <div class=\"generic-object-body\">\n",
                            "                <div class=\"attribute-list\">• Number of Rows: 45222</div><div class=\"attribute-list\">• Features: X , y</div>\n",
                            "                \n",
                            "            </div>\n",
                            "        </div>\n",
                            "    </div>\n",
                            "    "
                        ],
                        "text/plain": [
                            "Dataset({\n",
                            "        features: ['X', 'y'],\n",
                            "        num_rows: 45222\n",
                            "    })"
                        ]
                    },
                    "execution_count": 1,
                    "metadata": {},
                    "output_type": "execute_result"
                }
            ],
            "source": [
                "from holisticai.datasets import load_dataset\n",
                "\n",
                "dataset = load_dataset(\"adult\")\n",
                "dataset"
            ]
        },
        {
            "attachments": {},
            "cell_type": "markdown",
            "id": "8927bd6d",
            "metadata": {},
            "source": [
                "## **2. Preprocess data and Train a model**"
            ]
        },
        {
            "cell_type": "code",
            "execution_count": 2,
            "id": "db103f50",
            "metadata": {},
            "outputs": [],
            "source": [
                "ds = dataset.train_test_split(test_size=0.2, shuffle=True)\n",
                "x_train = ds['train']['X']\n",
                "x_test = ds['test']['X']"
            ]
        },
        {
            "cell_type": "code",
            "execution_count": 3,
            "id": "9985edc9",
            "metadata": {},
            "outputs": [],
            "source": [
                "from sklearn.cluster import KMeans\n",
                "import matplotlib.pyplot as plt\n",
                "\n",
                "\n",
                "ks = range(1, 8)\n",
                "inertias = []\n",
                "for k in ks:\n",
                "    # create a KMeans instance with k clusters: model\n",
                "    model = KMeans(n_clusters = k)\n",
                "    \n",
                "    # fit model to samples\n",
                "    model.fit(x_train)\n",
                "    \n",
                "    # append the inertia to the list of inertias\n",
                "    inertias.append(model.inertia_)"
            ]
        },
        {
            "cell_type": "code",
            "execution_count": 4,
            "id": "fae02105",
            "metadata": {},
            "outputs": [
                {
                    "data": {
                        "image/png": "[encoded data removed]",
                        "text/plain": [
                            "<Figure size 640x480 with 1 Axes>"
                        ]
                    },
                    "metadata": {},
                    "output_type": "display_data"
                }
            ],
            "source": [
                "# Plot ks vs inertias\n",
                "plt.plot(ks, inertias, '-o')\n",
                "plt.xlabel('Number of Clusters, k')\n",
                "plt.ylabel('Inertia')\n",
                "plt.xticks(ks)\n",
                "plt.show()"
            ]
        },
        {
            "cell_type": "code",
            "execution_count": 5,
            "id": "10815cd6",
            "metadata": {},
            "outputs": [],
            "source": [
                "# we choose to use 4 clusters\n",
                "model = KMeans(n_clusters = 4)\n",
                "model.fit(x_train)\n",
                "\n",
                "# predict\n",
                "y_pred = model.predict(x_test)"
            ]
        },
        {
            "attachments": {},
            "cell_type": "markdown",
            "id": "bc9582dc",
            "metadata": {},
            "source": [
                "## **3. Measure Efficacy**"
            ]
        },
        {
            "cell_type": "code",
            "execution_count": 6,
            "id": "e749e587",
            "metadata": {},
            "outputs": [
                {
                    "data": {
                        "text/html": [
                            "<div>\n",
                            "<style scoped>\n",
                            "    .dataframe tbody tr th:only-of-type {\n",
                            "        vertical-align: middle;\n",
                            "    }\n",
                            "\n",
                            "    .dataframe tbody tr th {\n",
                            "        vertical-align: top;\n",
                            "    }\n",
                            "\n",
                            "    .dataframe thead th {\n",
                            "        text-align: right;\n",
                            "    }\n",
                            "</style>\n",
                            "<table border=\"1\" class=\"dataframe\">\n",
                            "  <thead>\n",
                            "    <tr style=\"text-align: right;\">\n",
                            "      <th></th>\n",
                            "      <th>Value</th>\n",
                            "      <th>Reference</th>\n",
                            "    </tr>\n",
                            "    <tr>\n",
                            "      <th>Metric</th>\n",
                            "      <th></th>\n",
                            "      <th></th>\n",
                            "    </tr>\n",
                            "  </thead>\n",
                            "  <tbody>\n",
                            "    <tr>\n",
                            "      <th>Silhouette</th>\n",
                            "      <td>0.557919</td>\n",
                            "      <td>1.0</td>\n",
                            "    </tr>\n",
                            "    <tr>\n",
                            "      <th>Calinski Harabasz</th>\n",
                            "      <td>18656.218809</td>\n",
                            "      <td>inf</td>\n",
                            "    </tr>\n",
                            "    <tr>\n",
                            "      <th>Davies Bouldin</th>\n",
                            "      <td>0.575384</td>\n",
                            "      <td>0.0</td>\n",
                            "    </tr>\n",
                            "  </tbody>\n",
                            "</table>\n",
                            "</div>"
                        ],
                        "text/plain": [
                            "                          Value  Reference\n",
                            "Metric                                    \n",
                            "Silhouette             0.557919        1.0\n",
                            "Calinski Harabasz  18656.218809        inf\n",
                            "Davies Bouldin         0.575384        0.0"
                        ]
                    },
                    "execution_count": 6,
                    "metadata": {},
                    "output_type": "execute_result"
                }
            ],
            "source": [
                "from holisticai.efficacy.metrics import clustering_efficacy_metrics\n",
                "clustering_efficacy_metrics(x_test, y_pred)"
            ]
        }
    ],
    "metadata": {
        "kernelspec": {
            "display_name": "Python 3.9.12 ('metrics')",
            "language": "python",
            "name": "python3"
        },
        "language_info": {
            "codemirror_mode": {
                "name": "ipython",
                "version": 3
            },
            "file_extension": ".py",
            "mimetype": "text/x-python",
            "name": "python",
            "nbconvert_exporter": "python",
            "pygments_lexer": "ipython3",
            "version": "3.11.9"
        },
        "vscode": {
            "interpreter": {
                "hash": "9ce100595ae63371127da51ea64be910b7c4b0de39dc50c38822dd5588773933"
            }
        }
    },
    "nbformat": 4,
    "nbformat_minor": 5
}
