{
    "cells": [
        {
            "attachments": {},
            "cell_type": "markdown",
            "id": "3ea086d6",
            "metadata": {
                "id": "pFKF6N69kCay"
            },
            "source": [
                "# **Measuring Efficacy in clustering**\n"
            ]
        },
        {
            "attachments": {},
            "cell_type": "markdown",
            "id": "f5806760",
            "metadata": {},
            "source": [
                "This notebook is a tutorial on auditing efficacy within a clustering task. We will use the _holisticai_ library throughout.\n",
                "\n",
                "The sections are organised as follows :\n",
                "\n",
                "1. Load the data : we load the adult dataset as a pandas DataFrame\n",
                "2. Pre-Processing and Train a Model : we train a kmeans model (sklearn)\n",
                "3. Measure efficacy : we compute a few efficacy metrics."
            ]
        },
        {
            "attachments": {},
            "cell_type": "markdown",
            "id": "98dcbb0c",
            "metadata": {
                "id": "-nYt5_h77QGN"
            },
            "source": [
                "## **1. Load the data**"
            ]
        },
        {
            "cell_type": "markdown",
            "id": "32f32e1f",
            "metadata": {},
            "source": [
                "We will start by importing the adult dataset, which we host on our library. The adult dataset contains a set of informations extract from US 1994 Census database. It includes personal information about the individuals, specifically sex, race, and education. In this tutorial we will perform unsupervised learning to cluster the data, then measure whether this clustering contains gender or race information (clustering bias)."
            ]
        },
        {
            "cell_type": "code",
            "execution_count": 4,
            "id": "1702be74",
            "metadata": {},
            "outputs": [
                {
                    "data": {
                        "text/html": [
                            "\n",
                            "        <head>\n",
                            "            <meta charset=\"UTF-8\">\n",
                            "            <meta name=\"viewport\" content=\"width=device-width, initial-scale=1.0\">\n",
                            "            <title>Diagrama DatasetDict</title>\n",
                            "            <style>\n",
                            "                \n",
                            "    .container {\n",
                            "        font-family: Arial, sans-serif;\n",
                            "        margin: 20px;\n",
                            "    }\n",
                            "    .node {\n",
                            "        border: 2px solid #000;\n",
                            "        padding: 10px;\n",
                            "        margin: 10px;\n",
                            "        text-align: left;\n",
                            "        display: inline-block;\n",
                            "        background-color: #E0FFFF;\n",
                            "    }\n",
                            "    .datasets-container {\n",
                            "        display: flex;\n",
                            "        flex-wrap: wrap;\n",
                            "    }\n",
                            "    .dataset {\n",
                            "        border: 2px solid #007bff;\n",
                            "        padding: 10px;\n",
                            "        margin: 10px;\n",
                            "        text-align: left;\n",
                            "        border-radius: 5px;\n",
                            "        display: inline-block;\n",
                            "        white-space: nowrap;\n",
                            "        background-color: #E0FFFF;\n",
                            "        box-sizing: border-box;\n",
                            "    }\n",
                            "    .title {\n",
                            "        font-weight: bold;\n",
                            "        color: #222; /* Letras más negras */\n",
                            "        margin-bottom: 10px;\n",
                            "        text-align: left;\n",
                            "        white-space: nowrap;\n",
                            "    }\n",
                            "    ul {\n",
                            "        list-style-type: disc;\n",
                            "        padding-left: 20px;\n",
                            "        text-align: left;\n",
                            "        margin: 0;\n",
                            "        white-space: normal;\n",
                            "        color: #222; /* Letras más negras */\n",
                            "    }\n",
                            "    .groupbydataset {\n",
                            "        border: 2px solid #007bff; /* Dark red */\n",
                            "        padding: 10px;\n",
                            "        margin: 10px;\n",
                            "        text-align: left;\n",
                            "        border-radius: 5px;\n",
                            "        display: inline-block;\n",
                            "        white-space: nowrap;\n",
                            "        background-color: #E0FFFF; /* Light pink */\n",
                            "        box-sizing: border-box;\n",
                            "    }\n",
                            "    \n",
                            "            </style>\n",
                            "        </head>\n",
                            "        <body>\n",
                            "            <div class=\"container\">\n",
                            "                \n",
                            "        <div class=\"dataset\" style=\"width: 320px;\">\n",
                            "            <div class=\"title\">Dataset</div>\n",
                            "            <ul>\n",
                            "                <li>features: [ X , y ]</li>\n",
                            "                <li>num_rows: 45222</li>\n",
                            "            </ul>\n",
                            "        </div>\n",
                            "        \n",
                            "            </div>\n",
                            "        </body>\n",
                            "        "
                        ],
                        "text/plain": [
                            "Dataset({\n",
                            "        features: ['X', 'y'],\n",
                            "        num_rows: 45222\n",
                            "    })"
                        ]
                    },
                    "execution_count": 4,
                    "metadata": {},
                    "output_type": "execute_result"
                }
            ],
            "source": [
                "from holisticai.datasets import load_dataset\n",
                "\n",
                "dataset = load_dataset(\"adult\")\n",
                "dataset"
            ]
        },
        {
            "attachments": {},
            "cell_type": "markdown",
            "id": "8927bd6d",
            "metadata": {},
            "source": [
                "## **2. Preprocess data and Train a model**"
            ]
        },
        {
            "cell_type": "code",
            "execution_count": 7,
            "id": "db103f50",
            "metadata": {},
            "outputs": [],
            "source": [
                "ds = dataset.train_test_split(test_size=0.2, shuffle=True)\n",
                "x_train = ds['train']['X']\n",
                "x_test = ds['test']['X']"
            ]
        },
        {
            "cell_type": "code",
            "execution_count": 8,
            "id": "9985edc9",
            "metadata": {},
            "outputs": [],
            "source": [
                "from sklearn.cluster import KMeans\n",
                "import matplotlib.pyplot as plt\n",
                "\n",
                "\n",
                "ks = range(1, 8)\n",
                "inertias = []\n",
                "for k in ks:\n",
                "    # create a KMeans instance with k clusters: model\n",
                "    model = KMeans(n_clusters = k)\n",
                "    \n",
                "    # fit model to samples\n",
                "    model.fit(x_train)\n",
                "    \n",
                "    # append the inertia to the list of inertias\n",
                "    inertias.append(model.inertia_)"
            ]
        },
        {
            "cell_type": "code",
            "execution_count": 9,
            "id": "fae02105",
            "metadata": {},
            "outputs": [
                {
                    "data": {
                        "image/png": "[encoded data removed]",
                        "text/plain": [
                            "<Figure size 640x480 with 1 Axes>"
                        ]
                    },
                    "metadata": {},
                    "output_type": "display_data"
                }
            ],
            "source": [
                "# Plot ks vs inertias\n",
                "plt.plot(ks, inertias, '-o')\n",
                "plt.xlabel('Number of Clusters, k')\n",
                "plt.ylabel('Inertia')\n",
                "plt.xticks(ks)\n",
                "plt.show()"
            ]
        },
        {
            "cell_type": "code",
            "execution_count": 10,
            "id": "10815cd6",
            "metadata": {},
            "outputs": [],
            "source": [
                "# we choose to use 4 clusters\n",
                "model = KMeans(n_clusters = 4)\n",
                "model.fit(x_train)\n",
                "\n",
                "# predict\n",
                "y_pred = model.predict(x_test)"
            ]
        },
        {
            "attachments": {},
            "cell_type": "markdown",
            "id": "bc9582dc",
            "metadata": {},
            "source": [
                "## **3. Measure Efficacy**"
            ]
        },
        {
            "cell_type": "code",
            "execution_count": 12,
            "id": "e749e587",
            "metadata": {},
            "outputs": [
                {
                    "data": {
                        "text/html": [
                            "<div>\n",
                            "<style scoped>\n",
                            "    .dataframe tbody tr th:only-of-type {\n",
                            "        vertical-align: middle;\n",
                            "    }\n",
                            "\n",
                            "    .dataframe tbody tr th {\n",
                            "        vertical-align: top;\n",
                            "    }\n",
                            "\n",
                            "    .dataframe thead th {\n",
                            "        text-align: right;\n",
                            "    }\n",
                            "</style>\n",
                            "<table border=\"1\" class=\"dataframe\">\n",
                            "  <thead>\n",
                            "    <tr style=\"text-align: right;\">\n",
                            "      <th></th>\n",
                            "      <th>Value</th>\n",
                            "      <th>Reference</th>\n",
                            "    </tr>\n",
                            "    <tr>\n",
                            "      <th>Metric</th>\n",
                            "      <th></th>\n",
                            "      <th></th>\n",
                            "    </tr>\n",
                            "  </thead>\n",
                            "  <tbody>\n",
                            "    <tr>\n",
                            "      <th>Silhouette</th>\n",
                            "      <td>0.555954</td>\n",
                            "      <td>1.0</td>\n",
                            "    </tr>\n",
                            "    <tr>\n",
                            "      <th>Calinski Harabasz</th>\n",
                            "      <td>18604.011274</td>\n",
                            "      <td>inf</td>\n",
                            "    </tr>\n",
                            "    <tr>\n",
                            "      <th>Davies Bouldin</th>\n",
                            "      <td>0.557529</td>\n",
                            "      <td>0.0</td>\n",
                            "    </tr>\n",
                            "  </tbody>\n",
                            "</table>\n",
                            "</div>"
                        ],
                        "text/plain": [
                            "                          Value  Reference\n",
                            "Metric                                    \n",
                            "Silhouette             0.555954        1.0\n",
                            "Calinski Harabasz  18604.011274        inf\n",
                            "Davies Bouldin         0.557529        0.0"
                        ]
                    },
                    "execution_count": 12,
                    "metadata": {},
                    "output_type": "execute_result"
                }
            ],
            "source": [
                "from holisticai.efficacy.metrics import clustering_efficacy_metrics\n",
                "clustering_efficacy_metrics(x_test, y_pred)"
            ]
        }
    ],
    "metadata": {
        "kernelspec": {
            "display_name": "Python 3.9.12 ('metrics')",
            "language": "python",
            "name": "python3"
        },
        "language_info": {
            "codemirror_mode": {
                "name": "ipython",
                "version": 3
            },
            "file_extension": ".py",
            "mimetype": "text/x-python",
            "name": "python",
            "nbconvert_exporter": "python",
            "pygments_lexer": "ipython3",
            "version": "3.11.5"
        },
        "vscode": {
            "interpreter": {
                "hash": "9ce100595ae63371127da51ea64be910b7c4b0de39dc50c38822dd5588773933"
            }
        }
    },
    "nbformat": 4,
    "nbformat_minor": 5
}
