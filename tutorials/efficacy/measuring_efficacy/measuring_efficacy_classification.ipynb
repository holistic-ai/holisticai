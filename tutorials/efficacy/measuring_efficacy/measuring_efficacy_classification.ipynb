{
    "cells": [
        {
            "attachments": {},
            "cell_type": "markdown",
            "metadata": {
                "id": "pFKF6N69kCay"
            },
            "source": [
                "# **Measuring Efficacy in classification**\n"
            ]
        },
        {
            "attachments": {},
            "cell_type": "markdown",
            "metadata": {},
            "source": [
                "This notebook is a tutorial on auditing efficacy within a binary classification task. We will use the holisticai library **efficacy metrics** sections.\n",
                "The sections are organised as follows :\n",
                "\n",
                "1. Load the data : we load the law school dataset as a pandas DataFrame\n",
                "2. Train a Model : we train a simple logistic regression model (sklearn)\n",
                "3. Measure Efficacy : we compute a few efficacy metrics."
            ]
        },
        {
            "attachments": {},
            "cell_type": "markdown",
            "metadata": {
                "id": "-nYt5_h77QGN"
            },
            "source": [
                "## **1. Load the data**"
            ]
        },
        {
            "cell_type": "markdown",
            "metadata": {},
            "source": [
                "We host a few example datasets on the holisticai library for quick loading and experimentation. Here we load and use the Law School dataset. The goal of this dataset is the prediction of the binary attribute 'bar' (whether a student passes the law school bar). The protected attributes are race and gender. We pay special attention to race in this case, because preliminary exploration hints there is strong inequality on that sensitive attribute."
            ]
        },
        {
            "cell_type": "code",
            "execution_count": 1,
            "metadata": {
                "scrolled": true
            },
            "outputs": [
                {
                    "data": {
                        "text/html": [
                            "\n",
                            "        <head>\n",
                            "            <meta charset=\"UTF-8\">\n",
                            "            <meta name=\"viewport\" content=\"width=device-width, initial-scale=1.0\">\n",
                            "            <title>Diagrama DatasetDict</title>\n",
                            "            <style>\n",
                            "                \n",
                            "    .container {\n",
                            "        font-family: Arial, sans-serif;\n",
                            "        margin: 20px;\n",
                            "    }\n",
                            "    .node {\n",
                            "        border: 2px solid #000;\n",
                            "        padding: 10px;\n",
                            "        margin: 10px;\n",
                            "        text-align: left;\n",
                            "        display: inline-block;\n",
                            "        background-color: #E0FFFF;\n",
                            "    }\n",
                            "    .datasets-container {\n",
                            "        display: flex;\n",
                            "        flex-wrap: wrap;\n",
                            "    }\n",
                            "    .dataset {\n",
                            "        border: 2px solid #007bff;\n",
                            "        padding: 10px;\n",
                            "        margin: 10px;\n",
                            "        text-align: left;\n",
                            "        border-radius: 5px;\n",
                            "        display: inline-block;\n",
                            "        white-space: nowrap;\n",
                            "        background-color: #E0FFFF;\n",
                            "        box-sizing: border-box;\n",
                            "    }\n",
                            "    .title {\n",
                            "        font-weight: bold;\n",
                            "        color: #222; /* Letras más negras */\n",
                            "        margin-bottom: 10px;\n",
                            "        text-align: left;\n",
                            "        white-space: nowrap;\n",
                            "    }\n",
                            "    ul {\n",
                            "        list-style-type: disc;\n",
                            "        padding-left: 20px;\n",
                            "        text-align: left;\n",
                            "        margin: 0;\n",
                            "        white-space: normal;\n",
                            "        color: #222; /* Letras más negras */\n",
                            "    }\n",
                            "    .groupbydataset {\n",
                            "        border: 2px solid #007bff; /* Dark red */\n",
                            "        padding: 10px;\n",
                            "        margin: 10px;\n",
                            "        text-align: left;\n",
                            "        border-radius: 5px;\n",
                            "        display: inline-block;\n",
                            "        white-space: nowrap;\n",
                            "        background-color: #E0FFFF; /* Light pink */\n",
                            "        box-sizing: border-box;\n",
                            "    }\n",
                            "    \n",
                            "            </style>\n",
                            "        </head>\n",
                            "        <body>\n",
                            "            <div class=\"container\">\n",
                            "                \n",
                            "        <div class=\"dataset\" style=\"width: 480px;\">\n",
                            "            <div class=\"title\">Dataset</div>\n",
                            "            <ul>\n",
                            "                <li>features: [ X , y , group_a , group_b ]</li>\n",
                            "                <li>num_rows: 20800</li>\n",
                            "            </ul>\n",
                            "        </div>\n",
                            "        \n",
                            "            </div>\n",
                            "        </body>\n",
                            "        "
                        ],
                        "text/plain": [
                            "Dataset({\n",
                            "        features: ['X', 'y', 'group_a', 'group_b'],\n",
                            "        num_rows: 20800\n",
                            "    })"
                        ]
                    },
                    "execution_count": 1,
                    "metadata": {},
                    "output_type": "execute_result"
                }
            ],
            "source": [
                "# Get data\n",
                "from holisticai.datasets import load_dataset\n",
                "dataset = load_dataset(\"law_school\")\n",
                "dataset"
            ]
        },
        {
            "attachments": {},
            "cell_type": "markdown",
            "metadata": {},
            "source": [
                "## **2. Train a model**"
            ]
        },
        {
            "attachments": {},
            "cell_type": "markdown",
            "metadata": {},
            "source": [
                "Here we train a Logistic Regression classifier."
            ]
        },
        {
            "cell_type": "code",
            "execution_count": 4,
            "metadata": {},
            "outputs": [],
            "source": [
                "from sklearn.linear_model import LogisticRegression\n",
                "from sklearn.preprocessing import StandardScaler\n",
                "\n",
                "# train a model, do not forget to standard scale data\n",
                "dataset = load_dataset(\"law_school\")\n",
                "dataset = dataset.train_test_split(test_size=0.2, random_state=42)\n",
                "train = dataset['train']\n",
                "test = dataset['test']\n",
                "\n",
                "y_train = train['y']\n",
                "y_test = test['y']\n",
                "\n",
                "scaler = StandardScaler()\n",
                "X_train_t = scaler.fit_transform(train['X'])\n",
                "\n",
                "LR = LogisticRegression(random_state=42, max_iter=500)\n",
                "LR.fit(X_train_t,y_train)\n",
                "\n",
                "X_test_t = scaler.transform(test['X'])\n",
                "y_pred = LR.predict(X_test_t)\n",
                "y_proba = LR.predict_proba(X_test_t)"
            ]
        },
        {
            "attachments": {},
            "cell_type": "markdown",
            "metadata": {},
            "source": [
                "## **3. Measure Efficacy**"
            ]
        },
        {
            "cell_type": "code",
            "execution_count": 5,
            "metadata": {},
            "outputs": [
                {
                    "data": {
                        "text/html": [
                            "<div>\n",
                            "<style scoped>\n",
                            "    .dataframe tbody tr th:only-of-type {\n",
                            "        vertical-align: middle;\n",
                            "    }\n",
                            "\n",
                            "    .dataframe tbody tr th {\n",
                            "        vertical-align: top;\n",
                            "    }\n",
                            "\n",
                            "    .dataframe thead th {\n",
                            "        text-align: right;\n",
                            "    }\n",
                            "</style>\n",
                            "<table border=\"1\" class=\"dataframe\">\n",
                            "  <thead>\n",
                            "    <tr style=\"text-align: right;\">\n",
                            "      <th></th>\n",
                            "      <th>Value</th>\n",
                            "      <th>Reference</th>\n",
                            "    </tr>\n",
                            "    <tr>\n",
                            "      <th>Metric</th>\n",
                            "      <th></th>\n",
                            "      <th></th>\n",
                            "    </tr>\n",
                            "  </thead>\n",
                            "  <tbody>\n",
                            "    <tr>\n",
                            "      <th>Accuracy</th>\n",
                            "      <td>0.903125</td>\n",
                            "      <td>1</td>\n",
                            "    </tr>\n",
                            "    <tr>\n",
                            "      <th>Balanced Accuracy</th>\n",
                            "      <td>0.791643</td>\n",
                            "      <td>1</td>\n",
                            "    </tr>\n",
                            "    <tr>\n",
                            "      <th>Precision</th>\n",
                            "      <td>0.985683</td>\n",
                            "      <td>1</td>\n",
                            "    </tr>\n",
                            "    <tr>\n",
                            "      <th>Recall</th>\n",
                            "      <td>0.912478</td>\n",
                            "      <td>1</td>\n",
                            "    </tr>\n",
                            "    <tr>\n",
                            "      <th>F1-Score</th>\n",
                            "      <td>0.947669</td>\n",
                            "      <td>1</td>\n",
                            "    </tr>\n",
                            "    <tr>\n",
                            "      <th>AUC</th>\n",
                            "      <td>0.791643</td>\n",
                            "      <td>1</td>\n",
                            "    </tr>\n",
                            "    <tr>\n",
                            "      <th>Log Loss</th>\n",
                            "      <td>3.491729</td>\n",
                            "      <td>0</td>\n",
                            "    </tr>\n",
                            "  </tbody>\n",
                            "</table>\n",
                            "</div>"
                        ],
                        "text/plain": [
                            "                      Value  Reference\n",
                            "Metric                                \n",
                            "Accuracy           0.903125          1\n",
                            "Balanced Accuracy  0.791643          1\n",
                            "Precision          0.985683          1\n",
                            "Recall             0.912478          1\n",
                            "F1-Score           0.947669          1\n",
                            "AUC                0.791643          1\n",
                            "Log Loss           3.491729          0"
                        ]
                    },
                    "execution_count": 5,
                    "metadata": {},
                    "output_type": "execute_result"
                }
            ],
            "source": [
                "from holisticai.efficacy.metrics import classification_efficacy_metrics\n",
                "\n",
                "classification_efficacy_metrics(y_pred, y_test, y_proba)"
            ]
        }
    ],
    "metadata": {
        "colab": {
            "collapsed_sections": [
                "f6hoB7SDMGnm",
                "GV7HUVoiKE0T",
                "yq0-K1xSKaNy"
            ],
            "name": "Measuring Bias ",
            "provenance": []
        },
        "kernelspec": {
            "display_name": "Python 3.8.13 ('torch-nightly')",
            "language": "python",
            "name": "python3"
        },
        "language_info": {
            "codemirror_mode": {
                "name": "ipython",
                "version": 3
            },
            "file_extension": ".py",
            "mimetype": "text/x-python",
            "name": "python",
            "nbconvert_exporter": "python",
            "pygments_lexer": "ipython3",
            "version": "3.11.5"
        },
        "vscode": {
            "interpreter": {
                "hash": "f5fa74478a026ac530ef194e4df855dfb9675779484e20284ae5f690a2266d7b"
            }
        }
    },
    "nbformat": 4,
    "nbformat_minor": 1
}
