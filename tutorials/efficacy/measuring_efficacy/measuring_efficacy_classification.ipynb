{
    "cells": [
        {
            "attachments": {},
            "cell_type": "markdown",
            "metadata": {
                "id": "pFKF6N69kCay"
            },
            "source": [
                "# **Measuring Efficacy in classification**\n"
            ]
        },
        {
            "attachments": {},
            "cell_type": "markdown",
            "metadata": {},
            "source": [
                "This notebook is a tutorial on auditing efficacy within a binary classification task. We will use the holisticai library **efficacy metrics** sections.\n",
                "The sections are organised as follows :\n",
                "\n",
                "1. Load the data : we load the law school dataset as a pandas DataFrame\n",
                "2. Train a Model : we train a simple logistic regression model (sklearn)\n",
                "3. Measure Efficacy : we compute a few efficacy metrics."
            ]
        },
        {
            "attachments": {},
            "cell_type": "markdown",
            "metadata": {
                "id": "-nYt5_h77QGN"
            },
            "source": [
                "## **1. Load the data**"
            ]
        },
        {
            "cell_type": "markdown",
            "metadata": {},
            "source": [
                "We host a few example datasets on the holisticai library for quick loading and experimentation. Here we load and use the Law School dataset. The goal of this dataset is the prediction of the binary attribute 'bar' (whether a student passes the law school bar). The protected attributes are race and gender. We pay special attention to race in this case, because preliminary exploration hints there is strong inequality on that sensitive attribute."
            ]
        },
        {
            "cell_type": "code",
            "execution_count": 1,
            "metadata": {
                "scrolled": true
            },
            "outputs": [
                {
                    "data": {
                        "text/html": [
                            "\n",
                            "    <style>\n",
                            "        .generic-object-container {\n",
                            "    padding: 1px;\n",
                            "    margin: 1px;\n",
                            "}\n",
                            ".generic-object-content {\n",
                            "    background-color: #fff;\n",
                            "    border: 1px solid #ddd;\n",
                            "    border-radius: 5px;\n",
                            "    padding: 0px;\n",
                            "    margin: 10px;\n",
                            "    text-align: left;\n",
                            "    font-family: Arial, sans-serif;\n",
                            "    color: #333;\n",
                            "    display: inline-block;\n",
                            "    box-shadow: 1px 1px 3px rgba(0, 0, 0, 0.1);\n",
                            "}\n",
                            ".generic-object-header {\n",
                            "    background-color: #e0e0e0;\n",
                            "    color: #000;\n",
                            "    font-size: 16px;\n",
                            "    padding: 10px;\n",
                            "    margin: 0px;\n",
                            "    text-align: left;\n",
                            "    border-bottom: 1px solid #ccc;\n",
                            "    border-radius: 5px 5px 0 0;\n",
                            "    font-weight: bold;\n",
                            "}\n",
                            ".generic-object-body {\n",
                            "    padding: 10px 20px 10px 20px;\n",
                            "}\n",
                            ".attribute-list {\n",
                            "    margin: 2px 0;\n",
                            "    padding: 2px;\n",
                            "}\n",
                            "    </style>\n",
                            "    <div class=\"generic-object-container\">\n",
                            "        <div class=\"generic-object-content\">\n",
                            "            <div class=\"generic-object-header\">Dataset</div>\n",
                            "            <div class=\"generic-object-body\">\n",
                            "                <div class=\"attribute-list\">• Number of Rows: 20800</div><div class=\"attribute-list\">• Features: X , y , group_a , group_b</div>\n",
                            "                \n",
                            "            </div>\n",
                            "        </div>\n",
                            "    </div>\n",
                            "    "
                        ],
                        "text/plain": [
                            "Dataset({\n",
                            "        features: ['X', 'y', 'group_a', 'group_b'],\n",
                            "        num_rows: 20800\n",
                            "    })"
                        ]
                    },
                    "execution_count": 1,
                    "metadata": {},
                    "output_type": "execute_result"
                }
            ],
            "source": [
                "# Get data\n",
                "from holisticai.datasets import load_dataset\n",
                "dataset = load_dataset(\"law_school\")\n",
                "dataset"
            ]
        },
        {
            "attachments": {},
            "cell_type": "markdown",
            "metadata": {},
            "source": [
                "## **2. Train a model**"
            ]
        },
        {
            "attachments": {},
            "cell_type": "markdown",
            "metadata": {},
            "source": [
                "Here we train a Logistic Regression classifier."
            ]
        },
        {
            "cell_type": "code",
            "execution_count": 2,
            "metadata": {},
            "outputs": [],
            "source": [
                "from sklearn.linear_model import LogisticRegression\n",
                "from sklearn.preprocessing import StandardScaler\n",
                "\n",
                "# train a model, do not forget to standard scale data\n",
                "dataset = load_dataset(\"law_school\")\n",
                "dataset = dataset.train_test_split(test_size=0.2, random_state=42)\n",
                "train = dataset['train']\n",
                "test = dataset['test']\n",
                "\n",
                "y_train = train['y']\n",
                "y_test = test['y']\n",
                "\n",
                "scaler = StandardScaler()\n",
                "X_train_t = scaler.fit_transform(train['X'])\n",
                "\n",
                "LR = LogisticRegression(random_state=42, max_iter=500)\n",
                "LR.fit(X_train_t,y_train)\n",
                "\n",
                "X_test_t = scaler.transform(test['X'])\n",
                "y_pred = LR.predict(X_test_t)\n",
                "y_proba = LR.predict_proba(X_test_t)"
            ]
        },
        {
            "attachments": {},
            "cell_type": "markdown",
            "metadata": {},
            "source": [
                "## **3. Measure Efficacy**"
            ]
        },
        {
            "cell_type": "code",
            "execution_count": 3,
            "metadata": {},
            "outputs": [
                {
                    "data": {
                        "text/html": [
                            "<div>\n",
                            "<style scoped>\n",
                            "    .dataframe tbody tr th:only-of-type {\n",
                            "        vertical-align: middle;\n",
                            "    }\n",
                            "\n",
                            "    .dataframe tbody tr th {\n",
                            "        vertical-align: top;\n",
                            "    }\n",
                            "\n",
                            "    .dataframe thead th {\n",
                            "        text-align: right;\n",
                            "    }\n",
                            "</style>\n",
                            "<table border=\"1\" class=\"dataframe\">\n",
                            "  <thead>\n",
                            "    <tr style=\"text-align: right;\">\n",
                            "      <th></th>\n",
                            "      <th>Value</th>\n",
                            "      <th>Reference</th>\n",
                            "    </tr>\n",
                            "    <tr>\n",
                            "      <th>Metric</th>\n",
                            "      <th></th>\n",
                            "      <th></th>\n",
                            "    </tr>\n",
                            "  </thead>\n",
                            "  <tbody>\n",
                            "    <tr>\n",
                            "      <th>Accuracy</th>\n",
                            "      <td>0.903125</td>\n",
                            "      <td>1</td>\n",
                            "    </tr>\n",
                            "    <tr>\n",
                            "      <th>Balanced Accuracy</th>\n",
                            "      <td>0.791643</td>\n",
                            "      <td>1</td>\n",
                            "    </tr>\n",
                            "    <tr>\n",
                            "      <th>Precision</th>\n",
                            "      <td>0.985683</td>\n",
                            "      <td>1</td>\n",
                            "    </tr>\n",
                            "    <tr>\n",
                            "      <th>Recall</th>\n",
                            "      <td>0.912478</td>\n",
                            "      <td>1</td>\n",
                            "    </tr>\n",
                            "    <tr>\n",
                            "      <th>F1-Score</th>\n",
                            "      <td>0.947669</td>\n",
                            "      <td>1</td>\n",
                            "    </tr>\n",
                            "    <tr>\n",
                            "      <th>AUC</th>\n",
                            "      <td>0.791643</td>\n",
                            "      <td>1</td>\n",
                            "    </tr>\n",
                            "    <tr>\n",
                            "      <th>Log Loss</th>\n",
                            "      <td>3.491729</td>\n",
                            "      <td>0</td>\n",
                            "    </tr>\n",
                            "  </tbody>\n",
                            "</table>\n",
                            "</div>"
                        ],
                        "text/plain": [
                            "                      Value  Reference\n",
                            "Metric                                \n",
                            "Accuracy           0.903125          1\n",
                            "Balanced Accuracy  0.791643          1\n",
                            "Precision          0.985683          1\n",
                            "Recall             0.912478          1\n",
                            "F1-Score           0.947669          1\n",
                            "AUC                0.791643          1\n",
                            "Log Loss           3.491729          0"
                        ]
                    },
                    "execution_count": 3,
                    "metadata": {},
                    "output_type": "execute_result"
                }
            ],
            "source": [
                "from holisticai.efficacy.metrics import classification_efficacy_metrics\n",
                "\n",
                "classification_efficacy_metrics(y_pred, y_test, y_proba)"
            ]
        }
    ],
    "metadata": {
        "colab": {
            "collapsed_sections": [
                "f6hoB7SDMGnm",
                "GV7HUVoiKE0T",
                "yq0-K1xSKaNy"
            ],
            "name": "Measuring Bias ",
            "provenance": []
        },
        "kernelspec": {
            "display_name": "Python 3.8.13 ('torch-nightly')",
            "language": "python",
            "name": "python3"
        },
        "language_info": {
            "codemirror_mode": {
                "name": "ipython",
                "version": 3
            },
            "file_extension": ".py",
            "mimetype": "text/x-python",
            "name": "python",
            "nbconvert_exporter": "python",
            "pygments_lexer": "ipython3",
            "version": "3.11.9"
        },
        "vscode": {
            "interpreter": {
                "hash": "f5fa74478a026ac530ef194e4df855dfb9675779484e20284ae5f690a2266d7b"
            }
        }
    },
    "nbformat": 4,
    "nbformat_minor": 1
}
