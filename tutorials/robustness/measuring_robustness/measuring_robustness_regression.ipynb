{
 "cells": [
  {
   "cell_type": "markdown",
   "metadata": {},
   "source": [
    "# Robustness of a Regression Model\n",
    "\n",
    "In this notebook, we will evaluate the robustness of a regression model on the \"US Crimes\" dataset, to perform the analysis. We will use the Linear Regression Gradient Descent Based poisoner to poison the dataset and evaluate the robustness of the model to the poison data. We will use the Mean Squared Error (MSE) as the evaluation metric."
   ]
  },
  {
   "cell_type": "code",
   "execution_count": 1,
   "metadata": {},
   "outputs": [],
   "source": [
    "import warnings\n",
    "\n",
    "import numpy as np\n",
    "import pandas as pd\n",
    "from sklearn import linear_model\n",
    "from holisticai.datasets import load_dataset\n",
    "from sklearn.metrics import mean_squared_error\n",
    "from holisticai.robustness.attackers import LinRegGDPoisoner\n",
    "\n",
    "warnings.filterwarnings(\"ignore\")\n"
   ]
  },
  {
   "cell_type": "markdown",
   "metadata": {},
   "source": [
    "## Loading the dataset\n",
    "\n",
    "We will use the \"US Crimes\" dataset, which contains crime statistics for each US state. The target variable is the number of crimes per 100,000 people, and the features are the different crime statistics.\n",
    "\n",
    "We will use the preprocessed version of the dataset, which is available in the `load_dataset` module of the `holisticai` library."
   ]
  },
  {
   "cell_type": "code",
   "execution_count": 2,
   "metadata": {},
   "outputs": [
    {
     "data": {
      "text/plain": [
       "(<holisticai.datasets._dataset.Dataset at 0x79b57c30fd00>,\n",
       " <holisticai.datasets._dataset.Dataset at 0x79b57c30fd90>)"
      ]
     },
     "execution_count": 2,
     "metadata": {},
     "output_type": "execute_result"
    }
   ],
   "source": [
    "dataset = load_dataset('us_crime', preprocessed=True)\n",
    "train_test = dataset.train_test_split(test_size=0.25, random_state=42)\n",
    "\n",
    "train = train_test['train']\n",
    "test = train_test['test']\n",
    "train, test"
   ]
  },
  {
   "cell_type": "markdown",
   "metadata": {},
   "source": [
    "## Preprocessing the data\n",
    "\n",
    "Since the 'fold' column is used for stratified cross-validation, we will remove it from the input features of the dataset."
   ]
  },
  {
   "cell_type": "code",
   "execution_count": 3,
   "metadata": {},
   "outputs": [
    {
     "data": {
      "text/html": [
       "<div>\n",
       "<style scoped>\n",
       "    .dataframe tbody tr th:only-of-type {\n",
       "        vertical-align: middle;\n",
       "    }\n",
       "\n",
       "    .dataframe tbody tr th {\n",
       "        vertical-align: top;\n",
       "    }\n",
       "\n",
       "    .dataframe thead th {\n",
       "        text-align: right;\n",
       "    }\n",
       "</style>\n",
       "<table border=\"1\" class=\"dataframe\">\n",
       "  <thead>\n",
       "    <tr style=\"text-align: right;\">\n",
       "      <th></th>\n",
       "      <th>state</th>\n",
       "      <th>population</th>\n",
       "      <th>householdsize</th>\n",
       "      <th>racepctblack</th>\n",
       "      <th>racePctAsian</th>\n",
       "      <th>racePctHisp</th>\n",
       "      <th>agePct12t21</th>\n",
       "      <th>agePct12t29</th>\n",
       "      <th>agePct16t24</th>\n",
       "      <th>agePct65up</th>\n",
       "      <th>...</th>\n",
       "      <th>NumStreet</th>\n",
       "      <th>PctForeignBorn</th>\n",
       "      <th>PctBornSameState</th>\n",
       "      <th>PctSameHouse85</th>\n",
       "      <th>PctSameCity85</th>\n",
       "      <th>PctSameState85</th>\n",
       "      <th>LandArea</th>\n",
       "      <th>PopDens</th>\n",
       "      <th>PctUsePubTrans</th>\n",
       "      <th>LemasPctOfficDrugUn</th>\n",
       "    </tr>\n",
       "  </thead>\n",
       "  <tbody>\n",
       "    <tr>\n",
       "      <th>0</th>\n",
       "      <td>25</td>\n",
       "      <td>0.00</td>\n",
       "      <td>0.42</td>\n",
       "      <td>0.04</td>\n",
       "      <td>0.13</td>\n",
       "      <td>0.03</td>\n",
       "      <td>0.25</td>\n",
       "      <td>0.42</td>\n",
       "      <td>0.23</td>\n",
       "      <td>0.30</td>\n",
       "      <td>...</td>\n",
       "      <td>0.0</td>\n",
       "      <td>0.20</td>\n",
       "      <td>0.69</td>\n",
       "      <td>0.60</td>\n",
       "      <td>0.72</td>\n",
       "      <td>0.70</td>\n",
       "      <td>0.03</td>\n",
       "      <td>0.08</td>\n",
       "      <td>0.18</td>\n",
       "      <td>0.0</td>\n",
       "    </tr>\n",
       "    <tr>\n",
       "      <th>1</th>\n",
       "      <td>42</td>\n",
       "      <td>0.00</td>\n",
       "      <td>0.50</td>\n",
       "      <td>0.04</td>\n",
       "      <td>0.03</td>\n",
       "      <td>0.01</td>\n",
       "      <td>0.37</td>\n",
       "      <td>0.39</td>\n",
       "      <td>0.26</td>\n",
       "      <td>0.36</td>\n",
       "      <td>...</td>\n",
       "      <td>0.0</td>\n",
       "      <td>0.07</td>\n",
       "      <td>0.91</td>\n",
       "      <td>0.85</td>\n",
       "      <td>0.88</td>\n",
       "      <td>0.86</td>\n",
       "      <td>0.04</td>\n",
       "      <td>0.06</td>\n",
       "      <td>0.02</td>\n",
       "      <td>0.0</td>\n",
       "    </tr>\n",
       "    <tr>\n",
       "      <th>2</th>\n",
       "      <td>34</td>\n",
       "      <td>0.00</td>\n",
       "      <td>0.67</td>\n",
       "      <td>0.03</td>\n",
       "      <td>0.40</td>\n",
       "      <td>0.03</td>\n",
       "      <td>0.35</td>\n",
       "      <td>0.33</td>\n",
       "      <td>0.23</td>\n",
       "      <td>0.40</td>\n",
       "      <td>...</td>\n",
       "      <td>0.0</td>\n",
       "      <td>0.31</td>\n",
       "      <td>0.53</td>\n",
       "      <td>0.77</td>\n",
       "      <td>0.64</td>\n",
       "      <td>0.69</td>\n",
       "      <td>0.02</td>\n",
       "      <td>0.16</td>\n",
       "      <td>0.54</td>\n",
       "      <td>0.0</td>\n",
       "    </tr>\n",
       "    <tr>\n",
       "      <th>3</th>\n",
       "      <td>25</td>\n",
       "      <td>0.01</td>\n",
       "      <td>0.41</td>\n",
       "      <td>0.01</td>\n",
       "      <td>0.03</td>\n",
       "      <td>0.02</td>\n",
       "      <td>0.29</td>\n",
       "      <td>0.33</td>\n",
       "      <td>0.22</td>\n",
       "      <td>0.60</td>\n",
       "      <td>...</td>\n",
       "      <td>0.0</td>\n",
       "      <td>0.24</td>\n",
       "      <td>0.77</td>\n",
       "      <td>0.78</td>\n",
       "      <td>0.80</td>\n",
       "      <td>0.78</td>\n",
       "      <td>0.01</td>\n",
       "      <td>0.37</td>\n",
       "      <td>0.54</td>\n",
       "      <td>0.0</td>\n",
       "    </tr>\n",
       "    <tr>\n",
       "      <th>4</th>\n",
       "      <td>6</td>\n",
       "      <td>0.05</td>\n",
       "      <td>0.51</td>\n",
       "      <td>0.08</td>\n",
       "      <td>0.47</td>\n",
       "      <td>0.47</td>\n",
       "      <td>0.41</td>\n",
       "      <td>0.53</td>\n",
       "      <td>0.34</td>\n",
       "      <td>0.33</td>\n",
       "      <td>...</td>\n",
       "      <td>0.0</td>\n",
       "      <td>0.47</td>\n",
       "      <td>0.52</td>\n",
       "      <td>0.49</td>\n",
       "      <td>0.85</td>\n",
       "      <td>0.78</td>\n",
       "      <td>0.02</td>\n",
       "      <td>0.52</td>\n",
       "      <td>0.16</td>\n",
       "      <td>0.0</td>\n",
       "    </tr>\n",
       "  </tbody>\n",
       "</table>\n",
       "<p>5 rows × 100 columns</p>\n",
       "</div>"
      ],
      "text/plain": [
       "   state  population  householdsize  racepctblack  racePctAsian  racePctHisp  \\\n",
       "0     25        0.00           0.42          0.04          0.13         0.03   \n",
       "1     42        0.00           0.50          0.04          0.03         0.01   \n",
       "2     34        0.00           0.67          0.03          0.40         0.03   \n",
       "3     25        0.01           0.41          0.01          0.03         0.02   \n",
       "4      6        0.05           0.51          0.08          0.47         0.47   \n",
       "\n",
       "   agePct12t21  agePct12t29  agePct16t24  agePct65up  ...  NumStreet  \\\n",
       "0         0.25         0.42         0.23        0.30  ...        0.0   \n",
       "1         0.37         0.39         0.26        0.36  ...        0.0   \n",
       "2         0.35         0.33         0.23        0.40  ...        0.0   \n",
       "3         0.29         0.33         0.22        0.60  ...        0.0   \n",
       "4         0.41         0.53         0.34        0.33  ...        0.0   \n",
       "\n",
       "   PctForeignBorn  PctBornSameState  PctSameHouse85  PctSameCity85  \\\n",
       "0            0.20              0.69            0.60           0.72   \n",
       "1            0.07              0.91            0.85           0.88   \n",
       "2            0.31              0.53            0.77           0.64   \n",
       "3            0.24              0.77            0.78           0.80   \n",
       "4            0.47              0.52            0.49           0.85   \n",
       "\n",
       "   PctSameState85  LandArea  PopDens  PctUsePubTrans  LemasPctOfficDrugUn  \n",
       "0            0.70      0.03     0.08            0.18                  0.0  \n",
       "1            0.86      0.04     0.06            0.02                  0.0  \n",
       "2            0.69      0.02     0.16            0.54                  0.0  \n",
       "3            0.78      0.01     0.37            0.54                  0.0  \n",
       "4            0.78      0.02     0.52            0.16                  0.0  \n",
       "\n",
       "[5 rows x 100 columns]"
      ]
     },
     "execution_count": 3,
     "metadata": {},
     "output_type": "execute_result"
    }
   ],
   "source": [
    "X_train = train['X'].drop(columns=['fold'])\n",
    "X_test = test['X'].drop(columns=['fold'])\n",
    "\n",
    "y_train = train['y']\n",
    "y_test = test['y']\n",
    "\n",
    "X_train.head()"
   ]
  },
  {
   "cell_type": "markdown",
   "metadata": {},
   "source": [
    "## Training the regression model\n",
    "\n",
    "We will train a linear regression model on the training data to use as a baseline model."
   ]
  },
  {
   "cell_type": "code",
   "execution_count": 4,
   "metadata": {},
   "outputs": [
    {
     "name": "stdout",
     "output_type": "stream",
     "text": [
      "Baseline error: 0.018695360634785115\n"
     ]
    }
   ],
   "source": [
    "clf = linear_model.LinearRegression()\n",
    "clf.fit(X_train, y_train)\n",
    "\n",
    "baseline_error = mean_squared_error(y_test, clf.predict(X_test))\n",
    "\n",
    "print(f\"Baseline error: {baseline_error}\")"
   ]
  },
  {
   "cell_type": "markdown",
   "metadata": {},
   "source": [
    "## Gradient Descent Based Poisoning\n",
    "\n",
    "We will now generate poison data using the Linear Regression Gradient Descent Based poisoner. This poisoner uses the training data and the gradient descent algorithm to generate poison data and then, we will use the poison data to evaluate the robustness of the model and how it affects the model's performance. A recommended practice is to use a small fraction (no more than 0.2) of the training data to generate the poison data that will be appended to the training data at the end.\n",
    "\n",
    "To do that, first, we will create a categorical mask to tell the poisoner which features will be treated as categorical. Then, we will create the poisoner object and use the `generate` method to generate the poison data."
   ]
  },
  {
   "cell_type": "code",
   "execution_count": 5,
   "metadata": {},
   "outputs": [],
   "source": [
    "categorical_mask = np.zeros(X_train.shape[1])\n",
    "categorical_mask[0] = 0"
   ]
  },
  {
   "cell_type": "code",
   "execution_count": 6,
   "metadata": {},
   "outputs": [
    {
     "name": "stderr",
     "output_type": "stream",
     "text": [
      "2024-09-17 09:24:16,973 - INFO - Training Error: 0.043305\n",
      "2024-09-17 09:24:16,976 - INFO - Best initialization error: 0.043305\n",
      "2024-09-17 09:24:16,977 - INFO - Poison Count: 374.000000\n",
      "2024-09-17 09:24:17,015 - INFO - Iteration 0:\n",
      "2024-09-17 09:24:17,018 - INFO - Objective Value: 0.04330518226687288 Change: 0.04330518226687288\n",
      "2024-09-17 09:24:47,991 - INFO - Iteration 1:\n",
      "2024-09-17 09:24:47,994 - INFO - Objective Value: 0.04775163750034216 Change: 0.0044464552334692806\n",
      "2024-09-17 09:24:47,996 - INFO - Y pushed out of bounds: 346/374\n",
      "2024-09-17 09:25:19,915 - INFO - Iteration 2:\n",
      "2024-09-17 09:25:19,917 - INFO - Objective Value: 0.04826614832819969 Change: 0.0005145108278575283\n",
      "2024-09-17 09:25:19,921 - INFO - Y pushed out of bounds: 344/374\n",
      "2024-09-17 09:25:47,975 - INFO - Iteration 3:\n",
      "2024-09-17 09:25:47,979 - INFO - Objective Value: 0.0479650035114509 Change: -0.00030114481674878985\n",
      "2024-09-17 09:25:47,980 - INFO - Y pushed out of bounds: 348/374\n",
      "2024-09-17 09:25:47,982 - INFO - no progress\n",
      "2024-09-17 09:26:14,053 - INFO - Iteration 4:\n",
      "2024-09-17 09:26:14,055 - INFO - Objective Value: 0.048188715446691024 Change: -7.743288150866695e-05\n",
      "2024-09-17 09:26:14,058 - INFO - Y pushed out of bounds: 348/374\n",
      "2024-09-17 09:26:14,061 - INFO - no progress\n",
      "2024-09-17 09:26:42,725 - INFO - Iteration 5:\n",
      "2024-09-17 09:26:42,726 - INFO - Objective Value: 0.04830908351591498 Change: 4.293518771528865e-05\n",
      "2024-09-17 09:26:42,728 - INFO - Y pushed out of bounds: 348/374\n",
      "2024-09-17 09:27:06,444 - INFO - Iteration 6:\n",
      "2024-09-17 09:27:06,450 - INFO - Objective Value: 0.048508810040715694 Change: 0.00019972652480071407\n",
      "2024-09-17 09:27:06,455 - INFO - Y pushed out of bounds: 355/374\n",
      "2024-09-17 09:27:34,894 - INFO - Iteration 7:\n",
      "2024-09-17 09:27:34,898 - INFO - Objective Value: 0.04844816765997306 Change: -6.064238074263151e-05\n",
      "2024-09-17 09:27:34,900 - INFO - Y pushed out of bounds: 358/374\n",
      "2024-09-17 09:27:34,902 - INFO - no progress\n",
      "2024-09-17 09:28:02,507 - INFO - Iteration 8:\n",
      "2024-09-17 09:28:02,508 - INFO - Objective Value: 0.04849195019281508 Change: -1.6859847900611846e-05\n",
      "2024-09-17 09:28:02,510 - INFO - Y pushed out of bounds: 358/374\n",
      "2024-09-17 09:28:02,511 - INFO - no progress\n",
      "2024-09-17 09:28:28,926 - INFO - Iteration 9:\n",
      "2024-09-17 09:28:28,928 - INFO - Objective Value: 0.04851211162142496 Change: 3.3015807092626193e-06\n",
      "2024-09-17 09:28:28,929 - INFO - Y pushed out of bounds: 358/374\n",
      "2024-09-17 09:28:54,395 - INFO - Iteration 10:\n",
      "2024-09-17 09:28:54,398 - INFO - Objective Value: 0.04862103206612343 Change: 0.00010892044469847095\n",
      "2024-09-17 09:28:54,407 - INFO - Y pushed out of bounds: 359/374\n",
      "2024-09-17 09:29:22,903 - INFO - Iteration 11:\n",
      "2024-09-17 09:29:22,904 - INFO - Objective Value: 0.04865800972280032 Change: 3.6977656676893955e-05\n",
      "2024-09-17 09:29:22,905 - INFO - Y pushed out of bounds: 361/374\n",
      "2024-09-17 09:29:48,601 - INFO - Iteration 12:\n",
      "2024-09-17 09:29:48,603 - INFO - Objective Value: 0.0487771817090702 Change: 0.00011917198626987952\n",
      "2024-09-17 09:29:48,605 - INFO - Y pushed out of bounds: 362/374\n",
      "2024-09-17 09:30:12,830 - INFO - Iteration 13:\n",
      "2024-09-17 09:30:12,831 - INFO - Objective Value: 0.04882456090465972 Change: 4.7379195589516976e-05\n",
      "2024-09-17 09:30:12,833 - INFO - Y pushed out of bounds: 362/374\n",
      "2024-09-17 09:30:38,145 - INFO - Iteration 14:\n",
      "2024-09-17 09:30:38,151 - INFO - Objective Value: 0.04894639171422216 Change: 0.00012183080956244124\n",
      "2024-09-17 09:30:38,153 - INFO - Y pushed out of bounds: 362/374\n",
      "2024-09-17 09:31:02,780 - INFO - Iteration 15:\n",
      "2024-09-17 09:31:02,785 - INFO - Objective Value: 0.049005104447840314 Change: 5.8712733618154767e-05\n",
      "2024-09-17 09:31:02,787 - INFO - Y pushed out of bounds: 362/374\n"
     ]
    }
   ],
   "source": [
    "poiser = LinRegGDPoisoner(poison_proportion=0.2, num_inits=1) #  \n",
    "\n",
    "# Poison the training data\n",
    "x_poised, y_poised = poiser.generate(X_train, y_train, categorical_mask = categorical_mask, return_only_poisoned=False)"
   ]
  },
  {
   "cell_type": "markdown",
   "metadata": {},
   "source": [
    "**Evaluating Model Robustness**\n",
    "\n",
    "We will evaluate the robustness of the model by training the model on the poisoned data and evaluating its performance on the test data. We will compare the performance of the model on the test data."
   ]
  },
  {
   "cell_type": "code",
   "execution_count": 7,
   "metadata": {},
   "outputs": [
    {
     "name": "stdout",
     "output_type": "stream",
     "text": [
      "Error before poisoning: 0.018695360634785115\n",
      "Error after poisoning: 0.05898545946820494\n"
     ]
    }
   ],
   "source": [
    "clfp = linear_model.LinearRegression()\n",
    "clfp.fit(x_poised, y_poised)\n",
    "\n",
    "poised_err = mean_squared_error(y_test, clfp.predict(X_test))\n",
    "\n",
    "print(\"Error before poisoning:\", baseline_error)\n",
    "print(\"Error after poisoning:\", poised_err)"
   ]
  },
  {
   "cell_type": "markdown",
   "metadata": {},
   "source": [
    "As we can see from the results, the model's performance on the test data is significantly worse when trained on the poisoned data. This demonstrates the importance of evaluating the robustness of a model to poison data."
   ]
  },
  {
   "cell_type": "code",
   "execution_count": null,
   "metadata": {},
   "outputs": [],
   "source": []
  }
 ],
 "metadata": {
  "kernelspec": {
   "display_name": "testing",
   "language": "python",
   "name": "python3"
  },
  "language_info": {
   "codemirror_mode": {
    "name": "ipython",
    "version": 3
   },
   "file_extension": ".py",
   "mimetype": "text/x-python",
   "name": "python",
   "nbconvert_exporter": "python",
   "pygments_lexer": "ipython3",
   "version": "3.10.0"
  }
 },
 "nbformat": 4,
 "nbformat_minor": 2
}
