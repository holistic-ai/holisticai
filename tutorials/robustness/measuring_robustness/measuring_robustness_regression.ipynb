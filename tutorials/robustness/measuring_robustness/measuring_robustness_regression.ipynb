{
 "cells": [
  {
   "cell_type": "markdown",
   "metadata": {},
   "source": [
    "# Robustness of a Regression Model\n",
    "\n",
    "In this notebook, we will evaluate the robustness of a regression model on the \"US Crimes\" dataset, to perform the analysis. We will use the Linear Regression Gradient Descent Based poisoner to poison the dataset and evaluate the robustness of the model to the poison data. We will use the Mean Squared Error (MSE) as the evaluation metric."
   ]
  },
  {
   "cell_type": "code",
   "execution_count": 1,
   "metadata": {},
   "outputs": [],
   "source": [
    "import warnings\n",
    "\n",
    "import numpy as np\n",
    "import pandas as pd\n",
    "from sklearn import linear_model\n",
    "from holisticai.datasets import load_dataset\n",
    "from sklearn.metrics import mean_squared_error\n",
    "from holisticai.robustness.attackers import LinRegGDPoisoner\n",
    "\n",
    "warnings.filterwarnings(\"ignore\")\n"
   ]
  },
  {
   "cell_type": "markdown",
   "metadata": {},
   "source": [
    "## Loading the dataset\n",
    "\n",
    "We will use the \"US Crimes\" dataset, which contains crime statistics for each US state. The target variable is the number of crimes per 100,000 people, and the features are the different crime statistics.\n",
    "\n",
    "We will use the preprocessed version of the dataset, which is available in the `load_dataset` module of the `holisticai` library."
   ]
  },
  {
   "cell_type": "code",
   "execution_count": 2,
   "metadata": {},
   "outputs": [
    {
     "data": {
      "text/plain": [
       "(<holisticai.datasets._dataset.Dataset at 0x79523430cf70>,\n",
       " <holisticai.datasets._dataset.Dataset at 0x79523430f490>)"
      ]
     },
     "execution_count": 2,
     "metadata": {},
     "output_type": "execute_result"
    }
   ],
   "source": [
    "dataset = load_dataset('us_crime', preprocessed=True)\n",
    "train_test = dataset.train_test_split(test_size=0.25, random_state=42)\n",
    "\n",
    "train = train_test['train']\n",
    "test = train_test['test']\n",
    "train, test"
   ]
  },
  {
   "cell_type": "markdown",
   "metadata": {},
   "source": [
    "## Preprocessing the data\n",
    "\n",
    "Since the 'fold' column is used for stratified cross-validation, we will remove it from the input features of the dataset."
   ]
  },
  {
   "cell_type": "code",
   "execution_count": 3,
   "metadata": {},
   "outputs": [
    {
     "data": {
      "text/html": [
       "<div>\n",
       "<style scoped>\n",
       "    .dataframe tbody tr th:only-of-type {\n",
       "        vertical-align: middle;\n",
       "    }\n",
       "\n",
       "    .dataframe tbody tr th {\n",
       "        vertical-align: top;\n",
       "    }\n",
       "\n",
       "    .dataframe thead th {\n",
       "        text-align: right;\n",
       "    }\n",
       "</style>\n",
       "<table border=\"1\" class=\"dataframe\">\n",
       "  <thead>\n",
       "    <tr style=\"text-align: right;\">\n",
       "      <th></th>\n",
       "      <th>state</th>\n",
       "      <th>population</th>\n",
       "      <th>householdsize</th>\n",
       "      <th>racepctblack</th>\n",
       "      <th>racePctAsian</th>\n",
       "      <th>racePctHisp</th>\n",
       "      <th>agePct12t21</th>\n",
       "      <th>agePct12t29</th>\n",
       "      <th>agePct16t24</th>\n",
       "      <th>agePct65up</th>\n",
       "      <th>...</th>\n",
       "      <th>NumStreet</th>\n",
       "      <th>PctForeignBorn</th>\n",
       "      <th>PctBornSameState</th>\n",
       "      <th>PctSameHouse85</th>\n",
       "      <th>PctSameCity85</th>\n",
       "      <th>PctSameState85</th>\n",
       "      <th>LandArea</th>\n",
       "      <th>PopDens</th>\n",
       "      <th>PctUsePubTrans</th>\n",
       "      <th>LemasPctOfficDrugUn</th>\n",
       "    </tr>\n",
       "  </thead>\n",
       "  <tbody>\n",
       "    <tr>\n",
       "      <th>0</th>\n",
       "      <td>25</td>\n",
       "      <td>0.00</td>\n",
       "      <td>0.42</td>\n",
       "      <td>0.04</td>\n",
       "      <td>0.13</td>\n",
       "      <td>0.03</td>\n",
       "      <td>0.25</td>\n",
       "      <td>0.42</td>\n",
       "      <td>0.23</td>\n",
       "      <td>0.30</td>\n",
       "      <td>...</td>\n",
       "      <td>0.0</td>\n",
       "      <td>0.20</td>\n",
       "      <td>0.69</td>\n",
       "      <td>0.60</td>\n",
       "      <td>0.72</td>\n",
       "      <td>0.70</td>\n",
       "      <td>0.03</td>\n",
       "      <td>0.08</td>\n",
       "      <td>0.18</td>\n",
       "      <td>0.0</td>\n",
       "    </tr>\n",
       "    <tr>\n",
       "      <th>1</th>\n",
       "      <td>42</td>\n",
       "      <td>0.00</td>\n",
       "      <td>0.50</td>\n",
       "      <td>0.04</td>\n",
       "      <td>0.03</td>\n",
       "      <td>0.01</td>\n",
       "      <td>0.37</td>\n",
       "      <td>0.39</td>\n",
       "      <td>0.26</td>\n",
       "      <td>0.36</td>\n",
       "      <td>...</td>\n",
       "      <td>0.0</td>\n",
       "      <td>0.07</td>\n",
       "      <td>0.91</td>\n",
       "      <td>0.85</td>\n",
       "      <td>0.88</td>\n",
       "      <td>0.86</td>\n",
       "      <td>0.04</td>\n",
       "      <td>0.06</td>\n",
       "      <td>0.02</td>\n",
       "      <td>0.0</td>\n",
       "    </tr>\n",
       "    <tr>\n",
       "      <th>2</th>\n",
       "      <td>34</td>\n",
       "      <td>0.00</td>\n",
       "      <td>0.67</td>\n",
       "      <td>0.03</td>\n",
       "      <td>0.40</td>\n",
       "      <td>0.03</td>\n",
       "      <td>0.35</td>\n",
       "      <td>0.33</td>\n",
       "      <td>0.23</td>\n",
       "      <td>0.40</td>\n",
       "      <td>...</td>\n",
       "      <td>0.0</td>\n",
       "      <td>0.31</td>\n",
       "      <td>0.53</td>\n",
       "      <td>0.77</td>\n",
       "      <td>0.64</td>\n",
       "      <td>0.69</td>\n",
       "      <td>0.02</td>\n",
       "      <td>0.16</td>\n",
       "      <td>0.54</td>\n",
       "      <td>0.0</td>\n",
       "    </tr>\n",
       "    <tr>\n",
       "      <th>3</th>\n",
       "      <td>25</td>\n",
       "      <td>0.01</td>\n",
       "      <td>0.41</td>\n",
       "      <td>0.01</td>\n",
       "      <td>0.03</td>\n",
       "      <td>0.02</td>\n",
       "      <td>0.29</td>\n",
       "      <td>0.33</td>\n",
       "      <td>0.22</td>\n",
       "      <td>0.60</td>\n",
       "      <td>...</td>\n",
       "      <td>0.0</td>\n",
       "      <td>0.24</td>\n",
       "      <td>0.77</td>\n",
       "      <td>0.78</td>\n",
       "      <td>0.80</td>\n",
       "      <td>0.78</td>\n",
       "      <td>0.01</td>\n",
       "      <td>0.37</td>\n",
       "      <td>0.54</td>\n",
       "      <td>0.0</td>\n",
       "    </tr>\n",
       "    <tr>\n",
       "      <th>4</th>\n",
       "      <td>6</td>\n",
       "      <td>0.05</td>\n",
       "      <td>0.51</td>\n",
       "      <td>0.08</td>\n",
       "      <td>0.47</td>\n",
       "      <td>0.47</td>\n",
       "      <td>0.41</td>\n",
       "      <td>0.53</td>\n",
       "      <td>0.34</td>\n",
       "      <td>0.33</td>\n",
       "      <td>...</td>\n",
       "      <td>0.0</td>\n",
       "      <td>0.47</td>\n",
       "      <td>0.52</td>\n",
       "      <td>0.49</td>\n",
       "      <td>0.85</td>\n",
       "      <td>0.78</td>\n",
       "      <td>0.02</td>\n",
       "      <td>0.52</td>\n",
       "      <td>0.16</td>\n",
       "      <td>0.0</td>\n",
       "    </tr>\n",
       "  </tbody>\n",
       "</table>\n",
       "<p>5 rows × 100 columns</p>\n",
       "</div>"
      ],
      "text/plain": [
       "   state  population  householdsize  racepctblack  racePctAsian  racePctHisp  \\\n",
       "0     25        0.00           0.42          0.04          0.13         0.03   \n",
       "1     42        0.00           0.50          0.04          0.03         0.01   \n",
       "2     34        0.00           0.67          0.03          0.40         0.03   \n",
       "3     25        0.01           0.41          0.01          0.03         0.02   \n",
       "4      6        0.05           0.51          0.08          0.47         0.47   \n",
       "\n",
       "   agePct12t21  agePct12t29  agePct16t24  agePct65up  ...  NumStreet  \\\n",
       "0         0.25         0.42         0.23        0.30  ...        0.0   \n",
       "1         0.37         0.39         0.26        0.36  ...        0.0   \n",
       "2         0.35         0.33         0.23        0.40  ...        0.0   \n",
       "3         0.29         0.33         0.22        0.60  ...        0.0   \n",
       "4         0.41         0.53         0.34        0.33  ...        0.0   \n",
       "\n",
       "   PctForeignBorn  PctBornSameState  PctSameHouse85  PctSameCity85  \\\n",
       "0            0.20              0.69            0.60           0.72   \n",
       "1            0.07              0.91            0.85           0.88   \n",
       "2            0.31              0.53            0.77           0.64   \n",
       "3            0.24              0.77            0.78           0.80   \n",
       "4            0.47              0.52            0.49           0.85   \n",
       "\n",
       "   PctSameState85  LandArea  PopDens  PctUsePubTrans  LemasPctOfficDrugUn  \n",
       "0            0.70      0.03     0.08            0.18                  0.0  \n",
       "1            0.86      0.04     0.06            0.02                  0.0  \n",
       "2            0.69      0.02     0.16            0.54                  0.0  \n",
       "3            0.78      0.01     0.37            0.54                  0.0  \n",
       "4            0.78      0.02     0.52            0.16                  0.0  \n",
       "\n",
       "[5 rows x 100 columns]"
      ]
     },
     "execution_count": 3,
     "metadata": {},
     "output_type": "execute_result"
    }
   ],
   "source": [
    "X_train = train['X'].drop(columns=['fold'])\n",
    "X_test = test['X'].drop(columns=['fold'])\n",
    "\n",
    "y_train = train['y']\n",
    "y_test = test['y']\n",
    "\n",
    "X_train.head()"
   ]
  },
  {
   "cell_type": "markdown",
   "metadata": {},
   "source": [
    "## Training the regression model\n",
    "\n",
    "We will train a linear regression model on the training data to use as a baseline model."
   ]
  },
  {
   "cell_type": "code",
   "execution_count": 4,
   "metadata": {},
   "outputs": [
    {
     "name": "stdout",
     "output_type": "stream",
     "text": [
      "Baseline error: 0.018695360634785115\n"
     ]
    }
   ],
   "source": [
    "clf = linear_model.LinearRegression()\n",
    "clf.fit(X_train, y_train)\n",
    "\n",
    "baseline_error = mean_squared_error(y_test, clf.predict(X_test))\n",
    "\n",
    "print(f\"Baseline error: {baseline_error}\")"
   ]
  },
  {
   "cell_type": "markdown",
   "metadata": {},
   "source": [
    "## Gradient Descent Based Poisoning\n",
    "\n",
    "We will now generate poison data using the Linear Regression Gradient Descent Based poisoner. This poisoner uses the training data and the gradient descent algorithm to generate poison data and then, we will use the poison data to evaluate the robustness of the model and how it affects the model's performance. A recommended practice is to use a small fraction (no more than 0.2) of the training data to generate the poison data that will be appended to the training data at the end.\n",
    "\n",
    "To do that, first, we will create a categorical mask to tell the poisoner which features will be treated as categorical (for our case the `state` feature). Then, we will create the poisoner object and use the `generate` method to generate the poison data."
   ]
  },
  {
   "cell_type": "code",
   "execution_count": 5,
   "metadata": {},
   "outputs": [],
   "source": [
    "categorical_mask = np.zeros(X_train.shape[1])\n",
    "categorical_mask[0] = 1"
   ]
  },
  {
   "cell_type": "code",
   "execution_count": 6,
   "metadata": {},
   "outputs": [
    {
     "name": "stderr",
     "output_type": "stream",
     "text": [
      "2024-09-20 10:17:54,397 - INFO - Training Error: 0.044576\n",
      "2024-09-20 10:17:54,398 - INFO - Best initialization error: 0.044576\n",
      "2024-09-20 10:17:54,399 - INFO - Poison Count: 374.000000\n",
      "2024-09-20 10:17:54,462 - INFO - Iteration 0:\n",
      "2024-09-20 10:17:54,463 - INFO - Objective Value: 0.044575888413556156 Change: 0.044575888413556156\n",
      "2024-09-20 10:18:12,473 - INFO - Iteration 1:\n",
      "2024-09-20 10:18:12,473 - INFO - Objective Value: 0.046003222462724994 Change: 0.001427334049168838\n",
      "2024-09-20 10:18:12,474 - INFO - Y pushed out of bounds: 357/374\n",
      "2024-09-20 10:18:32,352 - INFO - Iteration 2:\n",
      "2024-09-20 10:18:32,353 - INFO - Objective Value: 0.04660458952462219 Change: 0.0006013670618971942\n",
      "2024-09-20 10:18:32,354 - INFO - Y pushed out of bounds: 352/374\n",
      "2024-09-20 10:18:54,451 - INFO - Iteration 3:\n",
      "2024-09-20 10:18:54,454 - INFO - Objective Value: 0.04450393923363677 Change: -0.002100650290985419\n",
      "2024-09-20 10:18:54,458 - INFO - Y pushed out of bounds: 341/374\n",
      "2024-09-20 10:18:54,462 - INFO - no progress\n",
      "2024-09-20 10:19:14,245 - INFO - Iteration 4:\n",
      "2024-09-20 10:19:14,247 - INFO - Objective Value: 0.04542056878357982 Change: -0.0011840207410423673\n",
      "2024-09-20 10:19:14,248 - INFO - Y pushed out of bounds: 341/374\n",
      "2024-09-20 10:19:14,250 - INFO - no progress\n",
      "2024-09-20 10:19:25,760 - INFO - Iteration 5:\n",
      "2024-09-20 10:19:25,761 - INFO - Objective Value: 0.04604129620239579 Change: -0.0005632933222263978\n",
      "2024-09-20 10:19:25,761 - INFO - Y pushed out of bounds: 341/374\n",
      "2024-09-20 10:19:25,762 - INFO - no progress\n",
      "2024-09-20 10:19:39,937 - INFO - Iteration 6:\n",
      "2024-09-20 10:19:39,938 - INFO - Objective Value: 0.04632814616482955 Change: -0.0002764433597926344\n",
      "2024-09-20 10:19:39,939 - INFO - Y pushed out of bounds: 341/374\n",
      "2024-09-20 10:19:39,939 - INFO - no progress\n",
      "2024-09-20 10:19:54,787 - INFO - Iteration 7:\n",
      "2024-09-20 10:19:54,787 - INFO - Objective Value: 0.0465051621216458 Change: -9.942740297638752e-05\n",
      "2024-09-20 10:19:54,789 - INFO - Y pushed out of bounds: 341/374\n",
      "2024-09-20 10:19:54,790 - INFO - no progress\n",
      "2024-09-20 10:20:13,586 - INFO - Iteration 8:\n",
      "2024-09-20 10:20:13,587 - INFO - Objective Value: 0.04659436534083417 Change: -1.0224183788015706e-05\n",
      "2024-09-20 10:20:13,588 - INFO - Y pushed out of bounds: 341/374\n",
      "2024-09-20 10:20:13,589 - INFO - no progress\n",
      "2024-09-20 10:20:29,366 - INFO - Iteration 9:\n",
      "2024-09-20 10:20:29,368 - INFO - Objective Value: 0.0466321133797542 Change: 2.752385513201533e-05\n",
      "2024-09-20 10:20:29,369 - INFO - Y pushed out of bounds: 341/374\n",
      "2024-09-20 10:20:43,870 - INFO - Iteration 10:\n",
      "2024-09-20 10:20:43,871 - INFO - Objective Value: 0.04660982110576621 Change: -2.229227398799216e-05\n",
      "2024-09-20 10:20:43,871 - INFO - Y pushed out of bounds: 347/374\n",
      "2024-09-20 10:20:43,872 - INFO - no progress\n",
      "2024-09-20 10:20:56,824 - INFO - Iteration 11:\n",
      "2024-09-20 10:20:56,826 - INFO - Objective Value: 0.046627675514206594 Change: -4.437865547608777e-06\n",
      "2024-09-20 10:20:56,829 - INFO - Y pushed out of bounds: 347/374\n",
      "2024-09-20 10:20:56,831 - INFO - no progress\n",
      "2024-09-20 10:21:11,760 - INFO - Iteration 12:\n",
      "2024-09-20 10:21:11,760 - INFO - Objective Value: 0.04663767822368609 Change: 5.5648439318892184e-06\n",
      "2024-09-20 10:21:11,761 - INFO - Y pushed out of bounds: 347/374\n",
      "2024-09-20 10:21:25,115 - INFO - Iteration 13:\n",
      "2024-09-20 10:21:25,116 - INFO - Objective Value: 0.046638176602135935 Change: 4.983784498424626e-07\n",
      "2024-09-20 10:21:25,120 - INFO - Y pushed out of bounds: 349/374\n",
      "2024-09-20 10:21:38,275 - INFO - Iteration 14:\n",
      "2024-09-20 10:21:38,275 - INFO - Objective Value: 0.04664525113976583 Change: 7.074537629894739e-06\n",
      "2024-09-20 10:21:38,276 - INFO - Y pushed out of bounds: 350/374\n",
      "2024-09-20 10:21:52,965 - INFO - Iteration 15:\n",
      "2024-09-20 10:21:52,966 - INFO - Objective Value: 0.04665444071797907 Change: 9.189578213240901e-06\n",
      "2024-09-20 10:21:52,967 - INFO - Y pushed out of bounds: 350/374\n"
     ]
    }
   ],
   "source": [
    "poiser = LinRegGDPoisoner(poison_proportion=0.2, num_inits=1) #  \n",
    "\n",
    "# Poison the training data\n",
    "x_poised, y_poised = poiser.generate(X_train, y_train,\n",
    "                                      categorical_mask = categorical_mask, \n",
    "                                      return_only_poisoned=True)"
   ]
  },
  {
   "cell_type": "markdown",
   "metadata": {},
   "source": [
    "**Evaluating Model Robustness**\n",
    "\n",
    "We will evaluate the robustness of the model by training the model on the poisoned data and evaluating its performance on the test data. To do that we will concatenate the poisoned samples with the training data, train a model and then compare the performance of the model on the test data."
   ]
  },
  {
   "cell_type": "code",
   "execution_count": 8,
   "metadata": {},
   "outputs": [
    {
     "name": "stdout",
     "output_type": "stream",
     "text": [
      "Error before poisoning: 0.018695360634785115\n",
      "Error after poisoning: 0.01927960131813161\n"
     ]
    }
   ],
   "source": [
    "clfp = linear_model.LinearRegression()\n",
    "\n",
    "poisedx = np.concatenate((X_train, x_poised),axis = 0)\n",
    "poisedy = np.concatenate([y_train, y_poised])\n",
    "\n",
    "clfp.fit(poisedx, poisedy)\n",
    "\n",
    "poised_err = mean_squared_error(y_test, clfp.predict(X_test))\n",
    "\n",
    "print(\"Error before poisoning:\", baseline_error)\n",
    "print(\"Error after poisoning:\", poised_err)"
   ]
  },
  {
   "cell_type": "markdown",
   "metadata": {},
   "source": [
    "As we can see from the results, the model's performance on the test data is slightly worse when trained on the poisoned data. This demonstrates the importance of evaluating the robustness of a model to poison data."
   ]
  },
  {
   "cell_type": "code",
   "execution_count": null,
   "metadata": {},
   "outputs": [],
   "source": []
  }
 ],
 "metadata": {
  "kernelspec": {
   "display_name": "testing",
   "language": "python",
   "name": "python3"
  },
  "language_info": {
   "codemirror_mode": {
    "name": "ipython",
    "version": 3
   },
   "file_extension": ".py",
   "mimetype": "text/x-python",
   "name": "python",
   "nbconvert_exporter": "python",
   "pygments_lexer": "ipython3",
   "version": "3.10.0"
  }
 },
 "nbformat": 4,
 "nbformat_minor": 2
}
