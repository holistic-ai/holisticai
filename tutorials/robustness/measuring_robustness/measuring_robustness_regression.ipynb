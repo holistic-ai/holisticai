{
 "cells": [
  {
   "cell_type": "markdown",
   "metadata": {},
   "source": [
    "# Robustness of a Regression Model\n",
    "\n",
    "In this notebook, we will evaluate the robustness of a regression model on the \"US Crimes\" dataset, to perform the analysis. We will use the Linear Regression Gradient Descent Based poisoner to poison the dataset and evaluate the robustness of the model to the poison data. We will use the Mean Squared Error (MSE) as the evaluation metric."
   ]
  },
  {
   "cell_type": "code",
   "execution_count": 1,
   "metadata": {},
   "outputs": [],
   "source": [
    "import warnings\n",
    "\n",
    "import numpy as np\n",
    "import pandas as pd\n",
    "from sklearn import linear_model\n",
    "from holisticai.datasets import load_dataset\n",
    "from sklearn.metrics import mean_squared_error\n",
    "from holisticai.robustness.attackers import LinRegGDPoisoner\n",
    "\n",
    "warnings.filterwarnings(\"ignore\")\n"
   ]
  },
  {
   "cell_type": "markdown",
   "metadata": {},
   "source": [
    "## Loading the dataset\n",
    "\n",
    "We will use the \"US Crimes\" dataset, which contains crime statistics for each US state. The target variable is the number of crimes per 100,000 people, and the features are the different crime statistics.\n",
    "\n",
    "We will use the preprocessed version of the dataset, which is available in the `load_dataset` module of the `holisticai` library."
   ]
  },
  {
   "cell_type": "code",
   "execution_count": 2,
   "metadata": {},
   "outputs": [
    {
     "data": {
      "text/plain": [
       "(<holisticai.datasets._dataset.Dataset at 0x7d728860a560>,\n",
       " <holisticai.datasets._dataset.Dataset at 0x7d7235939750>)"
      ]
     },
     "execution_count": 2,
     "metadata": {},
     "output_type": "execute_result"
    }
   ],
   "source": [
    "dataset = load_dataset('us_crime', preprocessed=True)\n",
    "train_test = dataset.train_test_split(test_size=0.25, random_state=42)\n",
    "\n",
    "train = train_test['train']\n",
    "test = train_test['test']\n",
    "train, test"
   ]
  },
  {
   "cell_type": "markdown",
   "metadata": {},
   "source": [
    "## Preprocessing the data\n",
    "\n",
    "Since the 'fold' column is used for stratified cross-validation, we will remove it from the input features of the dataset."
   ]
  },
  {
   "cell_type": "code",
   "execution_count": 3,
   "metadata": {},
   "outputs": [
    {
     "data": {
      "text/html": [
       "<div>\n",
       "<style scoped>\n",
       "    .dataframe tbody tr th:only-of-type {\n",
       "        vertical-align: middle;\n",
       "    }\n",
       "\n",
       "    .dataframe tbody tr th {\n",
       "        vertical-align: top;\n",
       "    }\n",
       "\n",
       "    .dataframe thead th {\n",
       "        text-align: right;\n",
       "    }\n",
       "</style>\n",
       "<table border=\"1\" class=\"dataframe\">\n",
       "  <thead>\n",
       "    <tr style=\"text-align: right;\">\n",
       "      <th></th>\n",
       "      <th>state</th>\n",
       "      <th>population</th>\n",
       "      <th>householdsize</th>\n",
       "      <th>racepctblack</th>\n",
       "      <th>racePctAsian</th>\n",
       "      <th>racePctHisp</th>\n",
       "      <th>agePct12t21</th>\n",
       "      <th>agePct12t29</th>\n",
       "      <th>agePct16t24</th>\n",
       "      <th>agePct65up</th>\n",
       "      <th>...</th>\n",
       "      <th>NumStreet</th>\n",
       "      <th>PctForeignBorn</th>\n",
       "      <th>PctBornSameState</th>\n",
       "      <th>PctSameHouse85</th>\n",
       "      <th>PctSameCity85</th>\n",
       "      <th>PctSameState85</th>\n",
       "      <th>LandArea</th>\n",
       "      <th>PopDens</th>\n",
       "      <th>PctUsePubTrans</th>\n",
       "      <th>LemasPctOfficDrugUn</th>\n",
       "    </tr>\n",
       "  </thead>\n",
       "  <tbody>\n",
       "    <tr>\n",
       "      <th>0</th>\n",
       "      <td>25</td>\n",
       "      <td>0.00</td>\n",
       "      <td>0.42</td>\n",
       "      <td>0.04</td>\n",
       "      <td>0.13</td>\n",
       "      <td>0.03</td>\n",
       "      <td>0.25</td>\n",
       "      <td>0.42</td>\n",
       "      <td>0.23</td>\n",
       "      <td>0.30</td>\n",
       "      <td>...</td>\n",
       "      <td>0.0</td>\n",
       "      <td>0.20</td>\n",
       "      <td>0.69</td>\n",
       "      <td>0.60</td>\n",
       "      <td>0.72</td>\n",
       "      <td>0.70</td>\n",
       "      <td>0.03</td>\n",
       "      <td>0.08</td>\n",
       "      <td>0.18</td>\n",
       "      <td>0.0</td>\n",
       "    </tr>\n",
       "    <tr>\n",
       "      <th>1</th>\n",
       "      <td>42</td>\n",
       "      <td>0.00</td>\n",
       "      <td>0.50</td>\n",
       "      <td>0.04</td>\n",
       "      <td>0.03</td>\n",
       "      <td>0.01</td>\n",
       "      <td>0.37</td>\n",
       "      <td>0.39</td>\n",
       "      <td>0.26</td>\n",
       "      <td>0.36</td>\n",
       "      <td>...</td>\n",
       "      <td>0.0</td>\n",
       "      <td>0.07</td>\n",
       "      <td>0.91</td>\n",
       "      <td>0.85</td>\n",
       "      <td>0.88</td>\n",
       "      <td>0.86</td>\n",
       "      <td>0.04</td>\n",
       "      <td>0.06</td>\n",
       "      <td>0.02</td>\n",
       "      <td>0.0</td>\n",
       "    </tr>\n",
       "    <tr>\n",
       "      <th>2</th>\n",
       "      <td>34</td>\n",
       "      <td>0.00</td>\n",
       "      <td>0.67</td>\n",
       "      <td>0.03</td>\n",
       "      <td>0.40</td>\n",
       "      <td>0.03</td>\n",
       "      <td>0.35</td>\n",
       "      <td>0.33</td>\n",
       "      <td>0.23</td>\n",
       "      <td>0.40</td>\n",
       "      <td>...</td>\n",
       "      <td>0.0</td>\n",
       "      <td>0.31</td>\n",
       "      <td>0.53</td>\n",
       "      <td>0.77</td>\n",
       "      <td>0.64</td>\n",
       "      <td>0.69</td>\n",
       "      <td>0.02</td>\n",
       "      <td>0.16</td>\n",
       "      <td>0.54</td>\n",
       "      <td>0.0</td>\n",
       "    </tr>\n",
       "    <tr>\n",
       "      <th>3</th>\n",
       "      <td>25</td>\n",
       "      <td>0.01</td>\n",
       "      <td>0.41</td>\n",
       "      <td>0.01</td>\n",
       "      <td>0.03</td>\n",
       "      <td>0.02</td>\n",
       "      <td>0.29</td>\n",
       "      <td>0.33</td>\n",
       "      <td>0.22</td>\n",
       "      <td>0.60</td>\n",
       "      <td>...</td>\n",
       "      <td>0.0</td>\n",
       "      <td>0.24</td>\n",
       "      <td>0.77</td>\n",
       "      <td>0.78</td>\n",
       "      <td>0.80</td>\n",
       "      <td>0.78</td>\n",
       "      <td>0.01</td>\n",
       "      <td>0.37</td>\n",
       "      <td>0.54</td>\n",
       "      <td>0.0</td>\n",
       "    </tr>\n",
       "    <tr>\n",
       "      <th>4</th>\n",
       "      <td>6</td>\n",
       "      <td>0.05</td>\n",
       "      <td>0.51</td>\n",
       "      <td>0.08</td>\n",
       "      <td>0.47</td>\n",
       "      <td>0.47</td>\n",
       "      <td>0.41</td>\n",
       "      <td>0.53</td>\n",
       "      <td>0.34</td>\n",
       "      <td>0.33</td>\n",
       "      <td>...</td>\n",
       "      <td>0.0</td>\n",
       "      <td>0.47</td>\n",
       "      <td>0.52</td>\n",
       "      <td>0.49</td>\n",
       "      <td>0.85</td>\n",
       "      <td>0.78</td>\n",
       "      <td>0.02</td>\n",
       "      <td>0.52</td>\n",
       "      <td>0.16</td>\n",
       "      <td>0.0</td>\n",
       "    </tr>\n",
       "  </tbody>\n",
       "</table>\n",
       "<p>5 rows × 100 columns</p>\n",
       "</div>"
      ],
      "text/plain": [
       "   state  population  householdsize  racepctblack  racePctAsian  racePctHisp  \\\n",
       "0     25        0.00           0.42          0.04          0.13         0.03   \n",
       "1     42        0.00           0.50          0.04          0.03         0.01   \n",
       "2     34        0.00           0.67          0.03          0.40         0.03   \n",
       "3     25        0.01           0.41          0.01          0.03         0.02   \n",
       "4      6        0.05           0.51          0.08          0.47         0.47   \n",
       "\n",
       "   agePct12t21  agePct12t29  agePct16t24  agePct65up  ...  NumStreet  \\\n",
       "0         0.25         0.42         0.23        0.30  ...        0.0   \n",
       "1         0.37         0.39         0.26        0.36  ...        0.0   \n",
       "2         0.35         0.33         0.23        0.40  ...        0.0   \n",
       "3         0.29         0.33         0.22        0.60  ...        0.0   \n",
       "4         0.41         0.53         0.34        0.33  ...        0.0   \n",
       "\n",
       "   PctForeignBorn  PctBornSameState  PctSameHouse85  PctSameCity85  \\\n",
       "0            0.20              0.69            0.60           0.72   \n",
       "1            0.07              0.91            0.85           0.88   \n",
       "2            0.31              0.53            0.77           0.64   \n",
       "3            0.24              0.77            0.78           0.80   \n",
       "4            0.47              0.52            0.49           0.85   \n",
       "\n",
       "   PctSameState85  LandArea  PopDens  PctUsePubTrans  LemasPctOfficDrugUn  \n",
       "0            0.70      0.03     0.08            0.18                  0.0  \n",
       "1            0.86      0.04     0.06            0.02                  0.0  \n",
       "2            0.69      0.02     0.16            0.54                  0.0  \n",
       "3            0.78      0.01     0.37            0.54                  0.0  \n",
       "4            0.78      0.02     0.52            0.16                  0.0  \n",
       "\n",
       "[5 rows x 100 columns]"
      ]
     },
     "execution_count": 3,
     "metadata": {},
     "output_type": "execute_result"
    }
   ],
   "source": [
    "X_train = train['X'].drop(columns=['fold'])\n",
    "X_test = test['X'].drop(columns=['fold'])\n",
    "\n",
    "y_train = train['y']\n",
    "y_test = test['y']\n",
    "\n",
    "X_train.head()"
   ]
  },
  {
   "cell_type": "markdown",
   "metadata": {},
   "source": [
    "## Training the regression model\n",
    "\n",
    "We will train a linear regression model on the training data to use as a baseline model."
   ]
  },
  {
   "cell_type": "code",
   "execution_count": 4,
   "metadata": {},
   "outputs": [
    {
     "name": "stdout",
     "output_type": "stream",
     "text": [
      "Baseline error: 0.018695360634785115\n"
     ]
    }
   ],
   "source": [
    "clf = linear_model.LinearRegression()\n",
    "clf.fit(X_train, y_train)\n",
    "\n",
    "baseline_error = mean_squared_error(y_test, clf.predict(X_test))\n",
    "\n",
    "print(f\"Baseline error: {baseline_error}\")"
   ]
  },
  {
   "cell_type": "markdown",
   "metadata": {},
   "source": [
    "## Gradient Descent Based Poisoning\n",
    "\n",
    "### Linear-based Poisoning\n",
    "\n",
    "We will now generate poison data using the Linear Regression Gradient Descent Based poisoner. This poisoner uses the training data and the gradient descent algorithm with a linear regressor at its core to generate poison data and then, we will use the poison data to evaluate the robustness of the model and how it affects the model's performance. A recommended practice is to use a small fraction (no more than 0.2) of the training data to generate the poison data that will be appended to the training data at the end.\n",
    "\n",
    "To do that, first, we will create a categorical mask to tell the poisoner which features will be treated as categorical (for our case the `state` feature). Then, we will create the poisoner object and use the `generate` method to generate the poison data."
   ]
  },
  {
   "cell_type": "code",
   "execution_count": 5,
   "metadata": {},
   "outputs": [],
   "source": [
    "categorical_mask = np.zeros(X_train.shape[1])\n",
    "categorical_mask[0] = 1"
   ]
  },
  {
   "cell_type": "code",
   "execution_count": 6,
   "metadata": {},
   "outputs": [
    {
     "name": "stderr",
     "output_type": "stream",
     "text": [
      "2024-10-03 10:15:44,934 - INFO - Training Error: 0.044647\n",
      "2024-10-03 10:15:44,937 - INFO - Best initialization error: 0.044647\n",
      "2024-10-03 10:15:44,938 - INFO - Poison Count: 374.000000\n",
      "2024-10-03 10:15:45,045 - INFO - Iteration 0:\n",
      "2024-10-03 10:15:45,047 - INFO - Objective Value: 0.04464659130536795 Change: 0.04464659130536795\n",
      "2024-10-03 10:16:32,419 - INFO - Iteration 1:\n",
      "2024-10-03 10:16:32,422 - INFO - Objective Value: 0.04472660434882227 Change: 8.001304345432031e-05\n",
      "2024-10-03 10:16:32,424 - INFO - Y pushed out of bounds: 361/374\n",
      "2024-10-03 10:17:23,469 - INFO - Iteration 2:\n",
      "2024-10-03 10:17:23,471 - INFO - Objective Value: 0.0452637976663006 Change: 0.0005371933174783267\n",
      "2024-10-03 10:17:23,472 - INFO - Y pushed out of bounds: 361/374\n",
      "2024-10-03 10:18:14,753 - INFO - Iteration 3:\n",
      "2024-10-03 10:18:14,758 - INFO - Objective Value: 0.048907387030308606 Change: 0.003643589364008007\n",
      "2024-10-03 10:18:14,761 - INFO - Y pushed out of bounds: 360/374\n",
      "2024-10-03 10:18:59,858 - INFO - Iteration 4:\n",
      "2024-10-03 10:18:59,860 - INFO - Objective Value: 0.045671181672273416 Change: -0.0032362053580351907\n",
      "2024-10-03 10:18:59,864 - INFO - Y pushed out of bounds: 346/374\n",
      "2024-10-03 10:18:59,869 - INFO - no progress\n",
      "2024-10-03 10:19:42,553 - INFO - Iteration 5:\n",
      "2024-10-03 10:19:42,555 - INFO - Objective Value: 0.04724604045154373 Change: -0.0016613465787648773\n",
      "2024-10-03 10:19:42,557 - INFO - Y pushed out of bounds: 346/374\n",
      "2024-10-03 10:19:42,559 - INFO - no progress\n",
      "2024-10-03 10:20:28,414 - INFO - Iteration 6:\n",
      "2024-10-03 10:20:28,415 - INFO - Objective Value: 0.048036809604417655 Change: -0.0008705774258909518\n",
      "2024-10-03 10:20:28,419 - INFO - Y pushed out of bounds: 346/374\n",
      "2024-10-03 10:20:28,420 - INFO - no progress\n",
      "2024-10-03 10:21:16,068 - INFO - Iteration 7:\n",
      "2024-10-03 10:21:16,071 - INFO - Objective Value: 0.048459453456424315 Change: -0.00044793357388429184\n",
      "2024-10-03 10:21:16,075 - INFO - Y pushed out of bounds: 346/374\n",
      "2024-10-03 10:21:16,078 - INFO - no progress\n",
      "2024-10-03 10:22:10,133 - INFO - Iteration 8:\n",
      "2024-10-03 10:22:10,136 - INFO - Objective Value: 0.04872747172384238 Change: -0.00017991530646622317\n",
      "2024-10-03 10:22:10,137 - INFO - Y pushed out of bounds: 346/374\n",
      "2024-10-03 10:22:10,139 - INFO - no progress\n",
      "2024-10-03 10:22:56,946 - INFO - Iteration 9:\n",
      "2024-10-03 10:22:56,948 - INFO - Objective Value: 0.048839050806797846 Change: -6.833622351076069e-05\n",
      "2024-10-03 10:22:56,949 - INFO - Y pushed out of bounds: 346/374\n",
      "2024-10-03 10:22:56,952 - INFO - no progress\n",
      "2024-10-03 10:23:41,160 - INFO - Iteration 10:\n",
      "2024-10-03 10:23:41,162 - INFO - Objective Value: 0.04890574377605097 Change: -1.643254257638338e-06\n",
      "2024-10-03 10:23:41,163 - INFO - Y pushed out of bounds: 346/374\n",
      "2024-10-03 10:23:41,164 - INFO - no progress\n",
      "2024-10-03 10:24:31,314 - INFO - Iteration 11:\n",
      "2024-10-03 10:24:31,322 - INFO - Objective Value: 0.048932947647614015 Change: 2.556061730540904e-05\n",
      "2024-10-03 10:24:31,327 - INFO - Y pushed out of bounds: 346/374\n",
      "2024-10-03 10:25:18,332 - INFO - Iteration 12:\n",
      "2024-10-03 10:25:18,334 - INFO - Objective Value: 0.048932727842306324 Change: -2.198053076912787e-07\n",
      "2024-10-03 10:25:18,336 - INFO - Y pushed out of bounds: 349/374\n",
      "2024-10-03 10:25:18,339 - INFO - no progress\n",
      "2024-10-03 10:25:58,288 - INFO - Iteration 13:\n",
      "2024-10-03 10:25:58,290 - INFO - Objective Value: 0.04894340361504006 Change: 1.0455967426041546e-05\n",
      "2024-10-03 10:25:58,291 - INFO - Y pushed out of bounds: 349/374\n",
      "2024-10-03 10:26:35,897 - INFO - Iteration 14:\n",
      "2024-10-03 10:26:35,900 - INFO - Objective Value: 0.0489625103385672 Change: 1.910672352714582e-05\n",
      "2024-10-03 10:26:35,901 - INFO - Y pushed out of bounds: 351/374\n",
      "2024-10-03 10:27:15,949 - INFO - Iteration 15:\n",
      "2024-10-03 10:27:15,951 - INFO - Objective Value: 0.04897222734181617 Change: 9.717003248969902e-06\n",
      "2024-10-03 10:27:15,955 - INFO - Y pushed out of bounds: 352/374\n"
     ]
    }
   ],
   "source": [
    "poiser = LinRegGDPoisoner(poison_proportion=0.2, num_inits=1) #  \n",
    "\n",
    "# Poison the training data\n",
    "x_poised, y_poised = poiser.generate(X_train, y_train,\n",
    "                                      categorical_mask = categorical_mask, \n",
    "                                      return_only_poisoned=True)"
   ]
  },
  {
   "cell_type": "markdown",
   "metadata": {},
   "source": [
    "**Evaluating Model Robustness**\n",
    "\n",
    "We will evaluate the robustness of the model by training the model on the poisoned data and evaluating its performance on the test data. To do that we will concatenate the poisoned samples with the training data, train a model and then compare the performance of the model on the test data."
   ]
  },
  {
   "cell_type": "code",
   "execution_count": 7,
   "metadata": {},
   "outputs": [
    {
     "name": "stdout",
     "output_type": "stream",
     "text": [
      "Error before poisoning: 0.018695360634785115\n",
      "Error after poisoning (Linear): 0.019366176179256695\n"
     ]
    }
   ],
   "source": [
    "clfp = linear_model.LinearRegression()\n",
    "\n",
    "poisedx = np.concatenate((X_train, x_poised),axis = 0)\n",
    "poisedy = np.concatenate([y_train, y_poised])\n",
    "\n",
    "clfp.fit(poisedx, poisedy)\n",
    "\n",
    "poised_err = mean_squared_error(y_test, clfp.predict(X_test))\n",
    "\n",
    "print(\"Error before poisoning:\", baseline_error)\n",
    "print(\"Error after poisoning (Linear):\", poised_err)"
   ]
  },
  {
   "cell_type": "markdown",
   "metadata": {},
   "source": [
    "As we can see from the results, the model's performance on the test data is slightly worse when trained on the poisoned data. This demonstrates the importance of evaluating the robustness of a model to poison data."
   ]
  },
  {
   "cell_type": "markdown",
   "metadata": {},
   "source": [
    "### Ridge-based Poisoning\n",
    "\n",
    "We will now generate poison data using the same Regression Gradient Descent Based poisoner but with a Ridge regressor at its core. Similarly, we will evaluate the robustness of the model by training the model on the poisoned data and evaluating its performance on the test data."
   ]
  },
  {
   "cell_type": "code",
   "execution_count": 8,
   "metadata": {},
   "outputs": [
    {
     "name": "stderr",
     "output_type": "stream",
     "text": [
      "2024-10-03 10:27:16,775 - INFO - Training Error: 0.042605\n",
      "2024-10-03 10:27:16,778 - INFO - Best initialization error: 0.042605\n",
      "2024-10-03 10:27:16,788 - INFO - Poison Count: 374.000000\n",
      "2024-10-03 10:27:16,896 - INFO - Iteration 0:\n",
      "2024-10-03 10:27:16,902 - INFO - Objective Value: 0.15132651830050933 Change: 0.15132651830050933\n",
      "2024-10-03 10:28:18,228 - INFO - Iteration 1:\n",
      "2024-10-03 10:28:18,231 - INFO - Objective Value: 0.47055352441836296 Change: 0.3192270061178536\n",
      "2024-10-03 10:28:18,235 - INFO - Y pushed out of bounds: 330/374\n",
      "2024-10-03 10:29:29,596 - INFO - Iteration 2:\n",
      "2024-10-03 10:29:29,598 - INFO - Objective Value: 0.7847624381404186 Change: 0.3142089137220556\n",
      "2024-10-03 10:29:29,600 - INFO - Y pushed out of bounds: 329/374\n",
      "2024-10-03 10:30:31,277 - INFO - Iteration 3:\n",
      "2024-10-03 10:30:31,278 - INFO - Objective Value: 0.8602627436585353 Change: 0.0755003055181167\n",
      "2024-10-03 10:30:31,279 - INFO - Y pushed out of bounds: 333/374\n",
      "2024-10-03 10:31:34,036 - INFO - Iteration 4:\n",
      "2024-10-03 10:31:34,045 - INFO - Objective Value: 0.8697050512276823 Change: 0.00944230756914699\n",
      "2024-10-03 10:31:34,047 - INFO - Y pushed out of bounds: 344/374\n",
      "2024-10-03 10:32:31,613 - INFO - Iteration 5:\n",
      "2024-10-03 10:32:31,614 - INFO - Objective Value: 0.8703969136725916 Change: 0.0006918624449093747\n",
      "2024-10-03 10:32:31,616 - INFO - Y pushed out of bounds: 350/374\n",
      "2024-10-03 10:33:27,809 - INFO - Iteration 6:\n",
      "2024-10-03 10:33:27,810 - INFO - Objective Value: 0.870370690664801 Change: -2.62230077906489e-05\n",
      "2024-10-03 10:33:27,814 - INFO - Y pushed out of bounds: 352/374\n",
      "2024-10-03 10:33:27,818 - INFO - no progress\n",
      "2024-10-03 10:34:39,994 - INFO - Iteration 7:\n",
      "2024-10-03 10:34:39,999 - INFO - Objective Value: 0.8703993455656631 Change: 2.4318930714750664e-06\n",
      "2024-10-03 10:34:40,003 - INFO - Y pushed out of bounds: 352/374\n",
      "2024-10-03 10:35:55,692 - INFO - Iteration 8:\n",
      "2024-10-03 10:35:55,697 - INFO - Objective Value: 0.8703993455656631 Change: 0.0\n",
      "2024-10-03 10:35:55,700 - INFO - Y pushed out of bounds: 352/374\n",
      "2024-10-03 10:37:14,118 - INFO - Iteration 9:\n",
      "2024-10-03 10:37:14,121 - INFO - Objective Value: 0.8703993455656631 Change: 0.0\n",
      "2024-10-03 10:37:14,122 - INFO - Y pushed out of bounds: 352/374\n",
      "2024-10-03 10:38:33,745 - INFO - Iteration 10:\n",
      "2024-10-03 10:38:33,750 - INFO - Objective Value: 0.8703993455656631 Change: 0.0\n",
      "2024-10-03 10:38:33,757 - INFO - Y pushed out of bounds: 352/374\n",
      "2024-10-03 10:40:15,981 - INFO - Iteration 11:\n",
      "2024-10-03 10:40:15,987 - INFO - Objective Value: 0.8703993455656631 Change: 0.0\n",
      "2024-10-03 10:40:15,993 - INFO - Y pushed out of bounds: 352/374\n",
      "2024-10-03 10:41:53,785 - INFO - Iteration 12:\n",
      "2024-10-03 10:41:53,788 - INFO - Objective Value: 0.8703993455656631 Change: 0.0\n",
      "2024-10-03 10:41:53,790 - INFO - Y pushed out of bounds: 352/374\n",
      "2024-10-03 10:43:34,063 - INFO - Iteration 13:\n",
      "2024-10-03 10:43:34,067 - INFO - Objective Value: 0.8703993455656631 Change: 0.0\n",
      "2024-10-03 10:43:34,071 - INFO - Y pushed out of bounds: 352/374\n",
      "2024-10-03 10:45:11,278 - INFO - Iteration 14:\n",
      "2024-10-03 10:45:11,285 - INFO - Objective Value: 0.8703993455656631 Change: 0.0\n",
      "2024-10-03 10:45:11,298 - INFO - Y pushed out of bounds: 352/374\n",
      "2024-10-03 10:46:39,430 - INFO - Iteration 15:\n",
      "2024-10-03 10:46:39,433 - INFO - Objective Value: 0.8703993455656631 Change: 0.0\n",
      "2024-10-03 10:46:39,439 - INFO - Y pushed out of bounds: 352/374\n"
     ]
    }
   ],
   "source": [
    "from holisticai.robustness.attackers import RidgeGDPoisoner\n",
    "\n",
    "poiser = RidgeGDPoisoner(poison_proportion=0.2, num_inits=1) #  \n",
    "\n",
    "# Poison the training data\n",
    "x_poised, y_poised = poiser.generate(X_train, y_train,\n",
    "                                      categorical_mask = categorical_mask, \n",
    "                                      return_only_poisoned=True)"
   ]
  },
  {
   "cell_type": "markdown",
   "metadata": {},
   "source": [
    "Finally, we will compare the performance of the model trained on the poison data generated by the Ridge poisoner."
   ]
  },
  {
   "cell_type": "code",
   "execution_count": 9,
   "metadata": {},
   "outputs": [
    {
     "name": "stdout",
     "output_type": "stream",
     "text": [
      "Error before poisoning: 0.018695360634785115\n",
      "Error after poisoning (Ridge): 0.01986438344146899\n"
     ]
    }
   ],
   "source": [
    "clfp = linear_model.LinearRegression()\n",
    "\n",
    "poisedx = np.concatenate((X_train, x_poised),axis = 0)\n",
    "poisedy = np.concatenate([y_train, y_poised])\n",
    "\n",
    "clfp.fit(poisedx, poisedy)\n",
    "\n",
    "poised_ridge_err = mean_squared_error(y_test, clfp.predict(X_test))\n",
    "\n",
    "print(\"Error before poisoning:\", baseline_error)\n",
    "print(\"Error after poisoning (Ridge):\", poised_ridge_err)"
   ]
  },
  {
   "cell_type": "markdown",
   "metadata": {},
   "source": [
    "As we can see from the results, similar to the Linear-based poisoning, the model's performance on the test data is slightly worse when trained on the poisoned data."
   ]
  },
  {
   "cell_type": "markdown",
   "metadata": {},
   "source": []
  }
 ],
 "metadata": {
  "kernelspec": {
   "display_name": "testing",
   "language": "python",
   "name": "python3"
  },
  "language_info": {
   "codemirror_mode": {
    "name": "ipython",
    "version": 3
   },
   "file_extension": ".py",
   "mimetype": "text/x-python",
   "name": "python",
   "nbconvert_exporter": "python",
   "pygments_lexer": "ipython3",
   "version": "3.10.0"
  }
 },
 "nbformat": 4,
 "nbformat_minor": 2
}
