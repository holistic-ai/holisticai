{
 "cells": [
  {
   "cell_type": "markdown",
   "metadata": {},
   "source": [
    "# Robustness of a binary classification Model\n",
    "\n",
    "In this notebook, we will evaluate the robustness of a binary classification model trained on the Adult dataset. We will use the binary classification attacker module to generate adversarial examples and measure the model's robustness using adversarial accuracy and empirical robustness metrics."
   ]
  },
  {
   "cell_type": "code",
   "execution_count": 1,
   "metadata": {
    "execution": {
     "iopub.execute_input": "2024-09-08T06:17:50.887064Z",
     "iopub.status.busy": "2024-09-08T06:17:50.886380Z",
     "iopub.status.idle": "2024-09-08T06:17:51.469768Z",
     "shell.execute_reply": "2024-09-08T06:17:51.469280Z"
    }
   },
   "outputs": [
    {
     "ename": "ModuleNotFoundError",
     "evalue": "No module named 'holisticai.datasets'",
     "output_type": "error",
     "traceback": [
      "\u001b[0;31m---------------------------------------------------------------------------\u001b[0m",
      "\u001b[0;31mModuleNotFoundError\u001b[0m                       Traceback (most recent call last)",
      "Cell \u001b[0;32mIn[1], line 3\u001b[0m\n\u001b[1;32m      1\u001b[0m \u001b[38;5;28;01mimport\u001b[39;00m \u001b[38;5;21;01mwarnings\u001b[39;00m\n\u001b[0;32m----> 3\u001b[0m \u001b[38;5;28;01mfrom\u001b[39;00m \u001b[38;5;21;01mholisticai\u001b[39;00m\u001b[38;5;21;01m.\u001b[39;00m\u001b[38;5;21;01mdatasets\u001b[39;00m \u001b[38;5;28;01mimport\u001b[39;00m load_dataset\n\u001b[1;32m      4\u001b[0m \u001b[38;5;28;01mfrom\u001b[39;00m \u001b[38;5;21;01mholisticai\u001b[39;00m\u001b[38;5;21;01m.\u001b[39;00m\u001b[38;5;21;01mrobustness\u001b[39;00m\u001b[38;5;21;01m.\u001b[39;00m\u001b[38;5;21;01mattackers\u001b[39;00m \u001b[38;5;28;01mimport\u001b[39;00m HopSkipJump, ZooAttack\n\u001b[1;32m      5\u001b[0m \u001b[38;5;28;01mfrom\u001b[39;00m \u001b[38;5;21;01mholisticai\u001b[39;00m\u001b[38;5;21;01m.\u001b[39;00m\u001b[38;5;21;01mrobustness\u001b[39;00m\u001b[38;5;21;01m.\u001b[39;00m\u001b[38;5;21;01mmetrics\u001b[39;00m \u001b[38;5;28;01mimport\u001b[39;00m adversarial_accuracy, empirical_robustness\n",
      "\u001b[0;31mModuleNotFoundError\u001b[0m: No module named 'holisticai.datasets'"
     ]
    }
   ],
   "source": [
    "import warnings\n",
    "\n",
    "from holisticai.datasets import load_dataset\n",
    "from holisticai.robustness.attackers import HopSkipJump, ZooAttack\n",
    "from holisticai.robustness.metrics import adversarial_accuracy, empirical_robustness\n",
    "from holisticai.utils import BinaryClassificationProxy\n",
    "from sklearn.linear_model import LogisticRegression\n",
    "from sklearn.metrics import accuracy_score\n",
    "from sklearn.preprocessing import StandardScaler\n",
    "\n",
    "warnings.filterwarnings(\"ignore\")"
   ]
  },
  {
   "cell_type": "markdown",
   "metadata": {},
   "source": [
    "## Loading the dataset\n",
    "\n",
    "We will use the Adult dataset, which contains census data. The target variable is whether a person's income exceeds $50K/year, and the protected attribute we will consider is 'sex'. For time constraints, we will only use a small subset of the data for testing the model and use the attackers."
   ]
  },
  {
   "cell_type": "code",
   "execution_count": null,
   "metadata": {
    "execution": {
     "iopub.execute_input": "2024-09-08T06:17:51.471578Z",
     "iopub.status.busy": "2024-09-08T06:17:51.471393Z",
     "iopub.status.idle": "2024-09-08T06:17:51.629080Z",
     "shell.execute_reply": "2024-09-08T06:17:51.628682Z"
    }
   },
   "outputs": [],
   "source": [
    "dataset = load_dataset('adult', protected_attribute='sex')\n",
    "train_test = dataset.train_test_split(test_size=0.001, random_state=42)\n",
    "\n",
    "train = train_test['train']\n",
    "test = train_test['test']\n",
    "train, test"
   ]
  },
  {
   "cell_type": "markdown",
   "metadata": {},
   "source": [
    "## Preprocessing the data\n",
    "\n",
    "For this tutorial, we will select the 10 features that are most correlated with the target variable."
   ]
  },
  {
   "cell_type": "code",
   "execution_count": 3,
   "metadata": {
    "execution": {
     "iopub.execute_input": "2024-09-08T06:17:51.630717Z",
     "iopub.status.busy": "2024-09-08T06:17:51.630578Z",
     "iopub.status.idle": "2024-09-08T06:17:51.703518Z",
     "shell.execute_reply": "2024-09-08T06:17:51.702998Z"
    }
   },
   "outputs": [],
   "source": [
    "correlations = train['X'].corrwith(train['y']).sort_values(ascending=False)\n",
    "\n",
    "# Select the names of the top 10 most correlated features\n",
    "top_10_features = correlations.head(10).index.tolist()\n",
    "\n",
    "train['X'] = train['X'][top_10_features]\n",
    "test['X'] = test['X'][top_10_features]\n",
    "\n",
    "feature_names = list(train['X'].columns)"
   ]
  },
  {
   "cell_type": "markdown",
   "metadata": {},
   "source": [
    "## Training the classification model\n",
    "\n",
    "We will train a logistic regression model on the training data."
   ]
  },
  {
   "cell_type": "code",
   "execution_count": null,
   "metadata": {
    "execution": {
     "iopub.execute_input": "2024-09-08T06:17:51.705244Z",
     "iopub.status.busy": "2024-09-08T06:17:51.705097Z",
     "iopub.status.idle": "2024-09-08T06:17:51.751154Z",
     "shell.execute_reply": "2024-09-08T06:17:51.750643Z"
    }
   },
   "outputs": [],
   "source": [
    "from sklearn.pipeline import Pipeline\n",
    "\n",
    "pipe = Pipeline([('scaler', StandardScaler()), ('lr', LogisticRegression())])\n",
    "pipe.fit(train['X'], train['y'])"
   ]
  },
  {
   "cell_type": "markdown",
   "metadata": {},
   "source": [
    "Let's evaluate the accuracy of our trained model on the test data."
   ]
  },
  {
   "cell_type": "code",
   "execution_count": null,
   "metadata": {
    "execution": {
     "iopub.execute_input": "2024-09-08T06:17:51.753484Z",
     "iopub.status.busy": "2024-09-08T06:17:51.753249Z",
     "iopub.status.idle": "2024-09-08T06:17:51.760528Z",
     "shell.execute_reply": "2024-09-08T06:17:51.760045Z"
    }
   },
   "outputs": [],
   "source": [
    "y_pred = pipe.predict(test['X'])\n",
    "accuracy_score(test['y'], y_pred)"
   ]
  },
  {
   "cell_type": "markdown",
   "metadata": {},
   "source": [
    "## Adversarial Attacks\n",
    "\n",
    "We will now generate adversarial examples using the binary classification attacker module and evaluate the robustness of our model against these attacks. This module allow us to generate adversarial examples using different attack strategies, such as the HopSkipJump attack and the Zeroth Order Optimization attack.\n",
    "\n",
    "To do that, first we will use a wrapper around the model that will allow us to use the attacker module."
   ]
  },
  {
   "cell_type": "code",
   "execution_count": 6,
   "metadata": {
    "execution": {
     "iopub.execute_input": "2024-09-08T06:17:51.762825Z",
     "iopub.status.busy": "2024-09-08T06:17:51.762503Z",
     "iopub.status.idle": "2024-09-08T06:17:51.765409Z",
     "shell.execute_reply": "2024-09-08T06:17:51.764891Z"
    }
   },
   "outputs": [],
   "source": [
    "proxy = BinaryClassificationProxy(predict=pipe.predict, predict_proba=pipe.predict_proba, classes=[0, 1])"
   ]
  },
  {
   "cell_type": "markdown",
   "metadata": {},
   "source": [
    "### HopSkipJump Attack\n",
    "\n",
    "The HopSkipJump attack is a black-box attack that generates adversarial examples by performing a series of queries to the model. It is an advanced version of the Boundary attack that can generate adversarial examples with high success rates.\n",
    "\n",
    "So, we will generate adversarial examples using the HopSkipJump attack and evaluate the model's robustness against these attacks."
   ]
  },
  {
   "cell_type": "code",
   "execution_count": 7,
   "metadata": {
    "execution": {
     "iopub.execute_input": "2024-09-08T06:17:51.767624Z",
     "iopub.status.busy": "2024-09-08T06:17:51.767312Z",
     "iopub.status.idle": "2024-09-08T06:18:07.894919Z",
     "shell.execute_reply": "2024-09-08T06:18:07.894429Z"
    }
   },
   "outputs": [],
   "source": [
    "hsj_attacker = HopSkipJump(name=\"HSJ\", predictor=proxy.predict)\n",
    "\n",
    "hsj_adv_x = hsj_attacker.generate(test['X'])\n",
    "\n",
    "y_adv_pred = proxy.predict(hsj_adv_x)"
   ]
  },
  {
   "cell_type": "markdown",
   "metadata": {},
   "source": [
    "**Evaluating Adversarial Robustness**\n",
    "\n",
    "We will evaluate the adversarial accuracy and empirical robustness of our model."
   ]
  },
  {
   "cell_type": "code",
   "execution_count": null,
   "metadata": {
    "execution": {
     "iopub.execute_input": "2024-09-08T06:18:07.896700Z",
     "iopub.status.busy": "2024-09-08T06:18:07.896536Z",
     "iopub.status.idle": "2024-09-08T06:18:07.900313Z",
     "shell.execute_reply": "2024-09-08T06:18:07.899991Z"
    }
   },
   "outputs": [],
   "source": [
    "hsj_accuracy = adversarial_accuracy(test['y'], y_pred, y_adv_pred)\n",
    "hsj_robustness = empirical_robustness(test['X'], hsj_adv_x, y_pred, y_adv_pred, norm=2)\n",
    "\n",
    "print(\"HSJ accuracy: \", hsj_accuracy)\n",
    "print(\"HSJ robustness: \", hsj_robustness)"
   ]
  },
  {
   "cell_type": "markdown",
   "metadata": {},
   "source": [
    "### Zeroth Order Optimization Attack\n",
    "\n",
    "The Zeroth Order Optimization attack is another black-box attack that is a\n",
    "variant of the Carlini and Wagner attack which uses ADAM coordinate descent to perform numerical estimation of gradients."
   ]
  },
  {
   "cell_type": "code",
   "execution_count": 9,
   "metadata": {
    "execution": {
     "iopub.execute_input": "2024-09-08T06:18:07.901866Z",
     "iopub.status.busy": "2024-09-08T06:18:07.901721Z",
     "iopub.status.idle": "2024-09-08T06:18:16.867559Z",
     "shell.execute_reply": "2024-09-08T06:18:16.866819Z"
    }
   },
   "outputs": [],
   "source": [
    "zoo_attacker = ZooAttack(name=\"Zoo\", proxy=proxy)\n",
    "\n",
    "zoo_adv_x = zoo_attacker.generate(test['X'])\n",
    "\n",
    "y_adv_pred = proxy.predict(zoo_adv_x)"
   ]
  },
  {
   "cell_type": "markdown",
   "metadata": {},
   "source": [
    "**Evaluating Adversarial Robustness**\n",
    "\n",
    "We will evaluate the adversarial accuracy and empirical robustness of our model."
   ]
  },
  {
   "cell_type": "code",
   "execution_count": null,
   "metadata": {
    "execution": {
     "iopub.execute_input": "2024-09-08T06:18:16.869356Z",
     "iopub.status.busy": "2024-09-08T06:18:16.869221Z",
     "iopub.status.idle": "2024-09-08T06:18:16.872929Z",
     "shell.execute_reply": "2024-09-08T06:18:16.872609Z"
    }
   },
   "outputs": [],
   "source": [
    "zoo_accuracy = adversarial_accuracy(test['y'], y_pred, y_adv_pred)\n",
    "zoo_robustness = empirical_robustness(test['X'], zoo_adv_x, y_pred, y_adv_pred, norm=2)\n",
    "\n",
    "print(\"Zoo accuracy: \", zoo_accuracy)\n",
    "print(\"Zoo robustness: \", zoo_robustness)"
   ]
  },
  {
   "cell_type": "markdown",
   "metadata": {},
   "source": []
  }
 ],
 "metadata": {
  "kernelspec": {
   "display_name": "Python 3",
   "language": "python",
   "name": "python3"
  },
  "language_info": {
   "codemirror_mode": {
    "name": "ipython",
    "version": 3
   },
   "file_extension": ".py",
   "mimetype": "text/x-python",
   "name": "python",
   "nbconvert_exporter": "python",
   "pygments_lexer": "ipython3",
   "version": "3.10.13"
  }
 },
 "nbformat": 4,
 "nbformat_minor": 4
}
