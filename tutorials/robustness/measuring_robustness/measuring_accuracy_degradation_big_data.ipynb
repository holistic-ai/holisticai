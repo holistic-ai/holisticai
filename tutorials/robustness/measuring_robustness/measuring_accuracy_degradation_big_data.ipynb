{
 "cells": [
  {
   "cell_type": "markdown",
   "metadata": {},
   "source": [
    " # **Accuracy Degradation Profile (ADP) and Accuracy Degradation Factor (ADF) for large datasets**\n"
   ]
  },
  {
   "cell_type": "markdown",
   "metadata": {},
   "source": [
    "This notebook shows possibilities to run accuracy degradation experiments with the metrics accuracy degradation profile (ADP) and accuracy degradation factor (ADF) on large datasets."
   ]
  },
  {
   "cell_type": "code",
   "execution_count": 1,
   "metadata": {},
   "outputs": [],
   "source": [
    "# Imports\n",
    "import numpy as np\n",
    "import pandas as pd\n",
    "import matplotlib.pyplot as plt\n",
    "\n",
    "from holisticai.robustness.metrics import (\n",
    "    accuracy_degradation_profile,\n",
    "    accuracy_degradation_factor,\n",
    "    pre_process_data,\n",
    ")\n",
    "\n",
    "from holisticai.robustness.plots import (\n",
    "                                    plot_2d,\n",
    "                                    plot_adp_and_adf,\n",
    "                                    plot_label_and_prediction,\n",
    "                                    plot_neighborhood,\n",
    "                                    )\n",
    "\n",
    "from holisticai.utils.models.neighbors import (\n",
    "    NearestNeighbors\n",
    ")"
   ]
  },
  {
   "cell_type": "markdown",
   "metadata": {},
   "source": [
    "Applying ADP and ADF to **real datasets:**\n",
    "\n",
    "(You can import your own dataset)"
   ]
  },
  {
   "cell_type": "code",
   "execution_count": null,
   "metadata": {},
   "outputs": [],
   "source": [
    "from holisticai.datasets import load_dataset\n",
    "\n",
    "# Choose any of the following datasets:\n",
    "# 'adult'\n",
    "# 'law_school'\n",
    "# 'student_multiclass'\n",
    "# 'us_crime_multiclass'\n",
    "# 'clinical_records'\n",
    "\n",
    "# New datasets:\n",
    "# 'german_credit'\n",
    "# 'census_kdd'\n",
    "# 'bank_marketing'\n",
    "# 'compass'\n",
    "# 'diabetes'\n",
    "# 'acsincome'\n",
    "# 'acspublic'\n",
    "\n",
    "# Load dataset\n",
    "dataset = load_dataset('adult')\n",
    "print(f'Original X shape: {dataset[\"X\"].shape}')\n",
    "print(f'Original y shape: {dataset[\"y\"].shape}')\n",
    "\n",
    "# Shrink the dataset\n",
    "n_rows = 40000 # Select only the first n rows\n",
    "# n_rows = dataset.data.shape[0] # Select all rows\n",
    "\n",
    "X = dataset['X'].iloc[:n_rows,:]\n",
    "y = dataset['y'].iloc[:n_rows]\n"
   ]
  },
  {
   "cell_type": "code",
   "execution_count": 3,
   "metadata": {},
   "outputs": [],
   "source": [
    "# Split data into training and test sets\n",
    "random_state = 42\n",
    "X_train, X_test, y_train, y_test, test_indices = pre_process_data(X, y, test_size = 0.3, random_state = random_state)"
   ]
  },
  {
   "cell_type": "code",
   "execution_count": null,
   "metadata": {},
   "outputs": [],
   "source": [
    "# Imports\n",
    "from sklearn.model_selection import train_test_split\n",
    "from sklearn import tree\n",
    "from sklearn.metrics import accuracy_score\n",
    "\n",
    "# Train a classifier over the data\n",
    "clf = tree.DecisionTreeClassifier(random_state=random_state)\n",
    "clf.fit(X_train, y_train)\n",
    "y_pred = clf.predict(X_test.values)\n",
    "\n",
    "# Accuracy over the entire test set\n",
    "accuracy_test = accuracy_score(y_test, y_pred)\n",
    "print(f\"Accuracy test set: {accuracy_test:.4f}\")"
   ]
  },
  {
   "cell_type": "code",
   "execution_count": null,
   "metadata": {},
   "outputs": [],
   "source": [
    "# Accuracy over the test set\n",
    "accuracy_test = accuracy_score(y_test, y_pred)\n",
    "print(f\"Accuracy test set: {accuracy_test:.4f}\")"
   ]
  },
  {
   "cell_type": "markdown",
   "metadata": {},
   "source": [
    "# Perform accuracy degradation profile (ADP)"
   ]
  },
  {
   "cell_type": "code",
   "execution_count": 7,
   "metadata": {},
   "outputs": [],
   "source": [
    "# Perform accuracy degradation profile (ADP)\n",
    "\n",
    "import random\n",
    "\n",
    "# Auxiliary data structures\n",
    "indexes = list(range(len(X_test)))\n",
    "random.shuffle(indexes)\n",
    "n_samples = X_test.shape[0]\n",
    "partition_size = 1000\n",
    "results_list = []\n",
    "n_bootstrap = 10\n",
    "batch_size = 1000\n",
    "\n",
    "# Bootstrapping\n",
    "for i in range(n_bootstrap):\n",
    "\n",
    "    index_batch = random.sample(indexes, partition_size)\n",
    "\n",
    "    X_test_partition = X_test.iloc[index_batch]\n",
    "    y_test_partition = y_test.iloc[index_batch]\n",
    "    y_pred_test_partition = y_pred[index_batch]\n",
    "\n",
    "    results = accuracy_degradation_profile(X_test_partition, \n",
    "                                        y_test_partition, \n",
    "                                        y_pred_test_partition,\n",
    "                                        neighbor_estimator = NearestNeighbors(batch_size=batch_size, n_neighbors = 50),\n",
    "                                        step_size = 0.02,\n",
    "                                        )\n",
    "    results_list.append(results.data)\n",
    "\n",
    "# Result data structures\n",
    "df_results = [x.iloc[:,:-1] for x in results_list]\n",
    "df_table = sum(df_results) / len(df_results)\n",
    "df_table[\"decision\"] = df_table[\"degradate\"].apply(lambda x: \"acc degrad!\" if x > 0 else \"OK\")\n",
    "del df_table[\"degradate\"]\n",
    "# df_table\n",
    "\n",
    "plot_adp_and_adf(df_table)"
   ]
  },
  {
   "cell_type": "code",
   "execution_count": null,
   "metadata": {},
   "outputs": [],
   "source": [
    "# Using faiss to optimize\n",
    "\n",
    "import faiss\n",
    "\n",
    "class Nearest:\n",
    "    def fit(self, X):\n",
    "        self.index = faiss.IndexFlatL2(X.shape[1])\n",
    "        self.index.add(X.astype('float32'))\n",
    "    def kneighbors(self, X, n_neighbors, return_distance=False):\n",
    "        Ids = []\n",
    "        D, I = self.index.search(X, n_neighbors)\n",
    "        return I"
   ]
  },
  {
   "cell_type": "code",
   "execution_count": null,
   "metadata": {},
   "outputs": [],
   "source": [
    "# Perform accuracy degradation profile (ADP)\n",
    "results = accuracy_degradation_profile(X_test, \n",
    "                                    y_test, \n",
    "                                    y_pred,\n",
    "                                    neighbor_estimator = Nearest(),\n",
    "                                    n_neighbors = 50,\n",
    "                                    step_size = 0.02,\n",
    "                                    )\n",
    "results"
   ]
  },
  {
   "cell_type": "code",
   "execution_count": null,
   "metadata": {},
   "outputs": [],
   "source": [
    "# # Perform accuracy degradation profile (ADP)\n",
    "# results = accuracy_degradation_profile(X_test, \n",
    "#                                     y_test, \n",
    "#                                     y_pred,\n",
    "#                                     neighbor_estimator = NearestNeighbors(batch_size=5000, n_neighbors = 50),\n",
    "#                                     n_neighbors = 50,\n",
    "#                                     step_size = 0.02,\n",
    "#                                     )\n",
    "# results"
   ]
  },
  {
   "cell_type": "code",
   "execution_count": null,
   "metadata": {},
   "outputs": [],
   "source": []
  },
  {
   "cell_type": "code",
   "execution_count": null,
   "metadata": {},
   "outputs": [],
   "source": []
  },
  {
   "cell_type": "code",
   "execution_count": null,
   "metadata": {},
   "outputs": [],
   "source": []
  },
  {
   "cell_type": "code",
   "execution_count": null,
   "metadata": {},
   "outputs": [],
   "source": []
  }
 ],
 "metadata": {
  "kernelspec": {
   "display_name": "testing",
   "language": "python",
   "name": "python3"
  },
  "language_info": {
   "codemirror_mode": {
    "name": "ipython",
    "version": 3
   },
   "file_extension": ".py",
   "mimetype": "text/x-python",
   "name": "python",
   "nbconvert_exporter": "python",
   "pygments_lexer": "ipython3",
   "version": "3.10.13"
  }
 },
 "nbformat": 4,
 "nbformat_minor": 2
}
