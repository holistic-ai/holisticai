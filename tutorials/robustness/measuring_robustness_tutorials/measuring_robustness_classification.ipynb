{
 "cells": [
  {
   "cell_type": "markdown",
   "source": [
    "# Dependencies"
   ],
   "metadata": {
    "collapsed": false
   }
  },
  {
   "cell_type": "code",
   "execution_count": 32,
   "outputs": [],
   "source": [
    "import warnings\n",
    "warnings.filterwarnings(\"ignore\")\n",
    "import sys\n",
    "sys.path.append('./')\n",
    "import numpy as np\n",
    "from holisticai.robustness.utils import load_nursery\n",
    "from holisticai.robustness.utils import AttackDataset\n",
    "from holisticai.robustness.utils import train_sklearn_classifier\n",
    "from holisticai.robustness.metrics import classification_metrics\n",
    "from holisticai.wrappers.classification import SklearnClassifier\n",
    "from holisticai.wrappers.classification.scikitlearn import ScikitlearnDecisionTreeClassifier\n",
    "from holisticai.robustness.mitigation.attacks.inference import (\n",
    "    AttributeInferenceBaseline,\n",
    "    AttributeInferenceBaselineTrueLabel,\n",
    "    AttributeInferenceBlackBox,\n",
    "    AttributeInferenceMembership,\n",
    "    AttributeInferenceWhiteBoxDecisionTree,\n",
    "    AttributeInferenceWhiteBoxLifestyleDecisionTree,\n",
    ")\n",
    "from holisticai.robustness.mitigation.attacks.inference.membership_inference import MembershipInferenceBlackBox\n"
   ],
   "metadata": {
    "collapsed": false,
    "ExecuteTime": {
     "end_time": "2024-01-26T02:21:44.763Z",
     "start_time": "2024-01-26T02:21:44.738659Z"
    }
   }
  },
  {
   "cell_type": "markdown",
   "source": [
    "# Load Dataset"
   ],
   "metadata": {
    "collapsed": false
   }
  },
  {
   "cell_type": "code",
   "execution_count": 33,
   "outputs": [
    {
     "name": "stdout",
     "output_type": "stream",
     "text": [
      "12960\n"
     ]
    }
   ],
   "source": [
    "(x_train, y_train), (x_test, y_test) = load_nursery(test_set=0.5, transform_social=True)"
   ],
   "metadata": {
    "collapsed": false,
    "ExecuteTime": {
     "end_time": "2024-01-26T02:21:44.911757Z",
     "start_time": "2024-01-26T02:21:44.742382Z"
    }
   }
  },
  {
   "cell_type": "markdown",
   "source": [
    "# Attribute Inference Attack"
   ],
   "metadata": {
    "collapsed": false
   }
  },
  {
   "cell_type": "markdown",
   "source": [
    "## Attribute Inference Attack using Baseline Method:\n",
    "This cell sets up an attribute inference attack without using the true labels, fitting the baseline model only on the feature data."
   ],
   "metadata": {
    "collapsed": false
   }
  },
  {
   "cell_type": "code",
   "execution_count": 34,
   "outputs": [
    {
     "name": "stdout",
     "output_type": "stream",
     "text": [
      "             Values  Reference\n",
      "Accuracy   0.511269          1\n",
      "Precision  0.195938          1\n",
      "Recall     0.152700          1\n"
     ]
    }
   ],
   "source": [
    "attack_feature = 1\n",
    "\n",
    "dataset = AttackDataset(x = x_train, attack_train_ratio=0.5)\n",
    "\n",
    "attack = AttributeInferenceBaseline(attack_feature=attack_feature)\n",
    "\n",
    "x = dataset.attribute_inference_train()\n",
    "attack.fit(x)\n",
    "\n",
    "x = dataset.attribute_inference_test()\n",
    "attack_x = np.delete(x, attack_feature, 1)\n",
    "feat_true = x[:, attack_feature]\n",
    "\n",
    "values = [-0.70718864, 1.41404987]\n",
    "feat_pred = attack.infer(attack_x, values=values)\n",
    "df = classification_metrics(y_true=feat_true, y_pred=feat_pred, positive_value=values[1])\n",
    "print(df)"
   ],
   "metadata": {
    "collapsed": false,
    "ExecuteTime": {
     "end_time": "2024-01-26T02:21:52.167885Z",
     "start_time": "2024-01-26T02:21:44.913722Z"
    }
   }
  },
  {
   "cell_type": "markdown",
   "source": [
    "## Attribute Inference Attack using Baseline with True Labels:\n",
    "This cell performs an attribute inference attack using a baseline method that takes into account the true labels during the fitting process."
   ],
   "metadata": {
    "collapsed": false
   }
  },
  {
   "cell_type": "code",
   "execution_count": 35,
   "outputs": [
    {
     "name": "stdout",
     "output_type": "stream",
     "text": [
      "             Values  Reference\n",
      "Accuracy   0.567768          1\n",
      "Precision  0.329498          1\n",
      "Recall     0.293296          1\n"
     ]
    }
   ],
   "source": [
    "dataset = AttackDataset(x=x_train, y=y_train, attack_train_ratio=0.5)\n",
    "attack_feature = 1\n",
    "\n",
    "attack = AttributeInferenceBaselineTrueLabel(attack_feature=attack_feature)\n",
    "x , y = dataset.attribute_inference_train()\n",
    "attack.fit(x, y)\n",
    "\n",
    "x , y = dataset.attribute_inference_test()\n",
    "attack_x = np.delete(x, attack_feature, 1)\n",
    "feat_true = x[:, attack_feature]\n",
    "\n",
    "values = [-0.70718864, 1.41404987]\n",
    "feat_pred = attack.infer(attack_x, y, values=values)\n",
    "df = classification_metrics(y_true=feat_true, y_pred=feat_pred, positive_value=values[1])\n",
    "print(df)"
   ],
   "metadata": {
    "collapsed": false,
    "ExecuteTime": {
     "end_time": "2024-01-26T02:21:58.008965Z",
     "start_time": "2024-01-26T02:21:52.171043Z"
    }
   }
  },
  {
   "cell_type": "markdown",
   "source": [
    "## Attribute Inference Black Box Attack:\n",
    "This cell trains a classifier and then uses a black box approach to attribute inference, where the attack model does not have access to the internals of the classifier."
   ],
   "metadata": {
    "collapsed": false
   }
  },
  {
   "cell_type": "code",
   "execution_count": 36,
   "outputs": [
    {
     "name": "stdout",
     "output_type": "stream",
     "text": [
      "Classifier Performance Metrics:\n",
      "             Values  Reference\n",
      "Accuracy   0.969898          1\n",
      "Precision  0.946746          1\n",
      "Recall     0.975610          1\n",
      "Attribute Inference Attack Performance Metrics:\n",
      "             Values  Reference\n",
      "Accuracy   0.580426          1\n",
      "Precision  0.336018          1\n",
      "Recall     0.271881          1\n"
     ]
    }
   ],
   "source": [
    "# Create an AttackDataset object for training the attack models\n",
    "dataset = AttackDataset(x=x_train, y=y_train, attack_train_ratio=0.5)\n",
    "attack_feature = 1  # Index of the feature to be attacked (social)\n",
    "\n",
    "# Train a classifier on the training data\n",
    "classifier = train_sklearn_classifier(x_train, y_train)\n",
    "classifier = SklearnClassifier(classifier)\n",
    "\n",
    "# Calculate and print the performance of the classifier on the test set\n",
    "df = classification_metrics(y_true=y_test, y_pred=classifier.predict(x_test), positive_value=1)\n",
    "print(\"Classifier Performance Metrics:\")\n",
    "print(df)\n",
    "\n",
    "# Initialize an Attribute Inference Black Box attack on the specified feature\n",
    "attack = AttributeInferenceBlackBox(estimator=classifier, attack_feature=attack_feature)\n",
    "\n",
    "# Prepare the training data for the attack\n",
    "x, y = dataset.attribute_inference_train()\n",
    "pred = classifier.predict_proba(x)\n",
    "attack.fit(x, y, pred)\n",
    "\n",
    "# Prepare the test data for the attack\n",
    "x, y = dataset.attribute_inference_test()\n",
    "attack_x = np.delete(x, attack_feature, 1)  # Remove the attacked feature from the input data\n",
    "pred = classifier.predict_proba(x)\n",
    "feat_true = x[:, attack_feature]  # True values of the attacked feature\n",
    "\n",
    "# Define the values used in the attribute inference attack\n",
    "values = [-0.70718864, 1.41404987]\n",
    "\n",
    "# Perform the attack and predict the values of the feature\n",
    "feat_pred = attack.infer(attack_x, y, pred, values=values)\n",
    "\n",
    "# Calculate and print the performance metrics of the attribute inference attack\n",
    "df = classification_metrics(y_true=feat_true, y_pred=feat_pred, positive_value=values[1])\n",
    "print(\"Attribute Inference Attack Performance Metrics:\")\n",
    "print(df)\n"
   ],
   "metadata": {
    "collapsed": false,
    "ExecuteTime": {
     "end_time": "2024-01-26T02:22:03.079245Z",
     "start_time": "2024-01-26T02:21:58.013349Z"
    }
   }
  },
  {
   "cell_type": "markdown",
   "source": [
    "## Attribute Inference White Box Attack with a Decision Tree:\n",
    "This cell performs a white box attribute inference attack using a decision tree classifier, which means the attack has access to the internal structure of the classifier."
   ],
   "metadata": {
    "collapsed": false
   }
  },
  {
   "cell_type": "code",
   "execution_count": 37,
   "outputs": [
    {
     "name": "stdout",
     "output_type": "stream",
     "text": [
      "Classifier Performance Metrics:\n",
      "             Values  Reference\n",
      "Accuracy   0.970516          1\n",
      "Precision  0.946746          1\n",
      "Recall     0.975610          1\n",
      "             Values  Reference\n",
      "Accuracy   0.697129          1\n",
      "Precision  0.634006          1\n",
      "Recall     0.204842          1\n"
     ]
    }
   ],
   "source": [
    "dataset = AttackDataset(x=x_train, y=y_train, attack_train_ratio=0.5)\n",
    "attack_feature = 1  # social\n",
    "\n",
    "classifier = train_sklearn_classifier(x_train, y_train)\n",
    "classifier = ScikitlearnDecisionTreeClassifier(classifier)\n",
    "# Calculate and print the performance of the classifier on the test set\n",
    "df = classification_metrics(y_true=y_test, y_pred=classifier.predict(x_test), positive_value=1)\n",
    "print(\"Classifier Performance Metrics:\")\n",
    "print(df)\n",
    "\n",
    "attack = AttributeInferenceWhiteBoxDecisionTree(classifier=classifier, attack_feature=attack_feature)\n",
    "\n",
    "x , y = dataset.attribute_inference_test()\n",
    "attack_x = np.delete(x, attack_feature, 1)\n",
    "feat_true = x[:, attack_feature]\n",
    "\n",
    "values = [-0.70718864, 1.41404987]\n",
    "priors = [3465 / 5183, 1718 / 5183]\n",
    "feat_pred = attack.infer(attack_x, y, values=values, priors=priors)\n",
    "df = classification_metrics(y_true=feat_true, y_pred=feat_pred, positive_value=values[1])\n",
    "print(df)"
   ],
   "metadata": {
    "collapsed": false,
    "ExecuteTime": {
     "end_time": "2024-01-26T02:22:03.456823Z",
     "start_time": "2024-01-26T02:22:03.094434Z"
    }
   }
  },
  {
   "cell_type": "markdown",
   "source": [
    "## Attribute Inference White Box Attack on Lifestyle using a Decision Tree:\n",
    "Similar to the previous cell, this performs a white box attribute inference attack but focuses on the 'lifestyle' aspect using a decision tree."
   ],
   "metadata": {
    "collapsed": false
   }
  },
  {
   "cell_type": "code",
   "execution_count": 38,
   "outputs": [
    {
     "name": "stdout",
     "output_type": "stream",
     "text": [
      "Classifier Performance Metrics:\n",
      "             Values  Reference\n",
      "Accuracy   0.970670          1\n",
      "Precision  0.946746          1\n",
      "Recall     0.975610          1\n",
      "             Values  Reference\n",
      "Accuracy   0.629824          1\n",
      "Precision  0.321937          1\n",
      "Recall     0.105214          1\n"
     ]
    }
   ],
   "source": [
    "dataset = AttackDataset(x=x_train, attack_train_ratio=0.5)\n",
    "attack_feature = 1  # social\n",
    "\n",
    "classifier = train_sklearn_classifier(x_train, y_train)\n",
    "classifier = ScikitlearnDecisionTreeClassifier(classifier)\n",
    "# Calculate and print the performance of the classifier on the test set\n",
    "df = classification_metrics(y_true=y_test, y_pred=classifier.predict(x_test), positive_value=1)\n",
    "print(\"Classifier Performance Metrics:\")\n",
    "print(df)\n",
    "\n",
    "attack = AttributeInferenceWhiteBoxLifestyleDecisionTree(estimator=classifier, attack_feature=attack_feature)\n",
    "\n",
    "x = dataset.attribute_inference_test()\n",
    "attack_x = np.delete(x, attack_feature, 1)\n",
    "feat_true = x[:, attack_feature]\n",
    "\n",
    "values = [-0.70718864, 1.41404987]\n",
    "priors = [3465 / 5183, 1718 / 5183]\n",
    "feat_pred = attack.infer(attack_x, values=values, priors=priors)\n",
    "df = classification_metrics(y_true=feat_true, y_pred=feat_pred, positive_value=values[1])\n",
    "print(df)"
   ],
   "metadata": {
    "collapsed": false,
    "ExecuteTime": {
     "end_time": "2024-01-26T02:22:03.993317Z",
     "start_time": "2024-01-26T02:22:03.459031Z"
    }
   }
  },
  {
   "cell_type": "markdown",
   "source": [
    "# Membership Inference Attack"
   ],
   "metadata": {
    "collapsed": false
   }
  },
  {
   "cell_type": "markdown",
   "source": [
    "## Membership Inference Attack:\n",
    "The final cell trains a classifier and performs a membership inference attack to deduce whether a data point was part of the training dataset or not."
   ],
   "metadata": {
    "collapsed": false
   }
  },
  {
   "cell_type": "code",
   "execution_count": 39,
   "outputs": [
    {
     "name": "stdout",
     "output_type": "stream",
     "text": [
      "Classifier Performance Metrics:\n",
      "             Values  Reference\n",
      "Accuracy   0.970670          1\n",
      "Precision  0.946746          1\n",
      "Recall     0.975610          1\n",
      "Attribute Inference Attack Performance Metrics:\n",
      "             Values  Reference\n",
      "Accuracy   0.718432          1\n",
      "Precision  1.000000          1\n",
      "Recall     0.150838          1\n"
     ]
    }
   ],
   "source": [
    "# Creating an AttackDataset object for training the attack models\n",
    "dataset = AttackDataset(x=(x_train, x_test),\n",
    "                        y=(y_train, y_test),\n",
    "                        attack_train_ratio=0.5)\n",
    "attack_feature = 1  # The index of the feature to be attacked\n",
    "\n",
    "# Training a classifier on the training data\n",
    "classifier = train_sklearn_classifier(x_train, y_train)\n",
    "# Wrapping the trained classifier for use with holisticai\n",
    "classifier = SklearnClassifier(classifier)\n",
    "\n",
    "# Calculating and printing the performance of the classifier on the test set\n",
    "df = classification_metrics(y_true=y_test, y_pred=classifier.predict(x_test), positive_value=1)\n",
    "print(\"Classifier Performance Metrics:\")\n",
    "print(df)\n",
    "\n",
    "\n",
    "\n",
    "# Setting up and training a membership inference attack model\n",
    "mem_attack = MembershipInferenceBlackBox(estimator=classifier, attack_model_type='rf')\n",
    "x, y, membership = dataset.membership_inference_train()\n",
    "mem_attack.fit(x, y, membership)\n",
    "\n",
    "# Setting up and executing an attribute inference attack\n",
    "attack = AttributeInferenceMembership(estimator=classifier, membership_attack=mem_attack, attack_feature=attack_feature)\n",
    "x, y = dataset.attribute_inference_test()\n",
    "attack_x = np.delete(x, attack_feature, 1)  # Removing the attacked feature from the input\n",
    "feat_true = x[:, attack_feature]  # The true values of the attacked feature\n",
    "\n",
    "# Values used in the attribute inference attack\n",
    "values = [-0.70718864, 1.41404987]\n",
    "feat_pred = attack.infer(attack_x, y, values=values)\n",
    "\n",
    "# Calculating and printing the performance metrics of the attribute inference attack\n",
    "df = classification_metrics(y_true=feat_true, y_pred=feat_pred, positive_value=values[1])\n",
    "print(\"Attribute Inference Attack Performance Metrics:\")\n",
    "print(df)\n"
   ],
   "metadata": {
    "collapsed": false,
    "ExecuteTime": {
     "end_time": "2024-01-26T02:22:04.119349Z",
     "start_time": "2024-01-26T02:22:03.995689Z"
    }
   }
  },
  {
   "cell_type": "code",
   "execution_count": 39,
   "outputs": [],
   "source": [],
   "metadata": {
    "collapsed": false,
    "ExecuteTime": {
     "end_time": "2024-01-26T02:22:04.121365Z",
     "start_time": "2024-01-26T02:22:04.120451Z"
    }
   }
  },
  {
   "cell_type": "code",
   "execution_count": 39,
   "outputs": [],
   "source": [],
   "metadata": {
    "collapsed": false,
    "ExecuteTime": {
     "end_time": "2024-01-26T02:22:04.123735Z",
     "start_time": "2024-01-26T02:22:04.122796Z"
    }
   }
  }
 ],
 "metadata": {
  "kernelspec": {
   "display_name": "Python 3",
   "language": "python",
   "name": "python3"
  },
  "language_info": {
   "codemirror_mode": {
    "name": "ipython",
    "version": 3
   },
   "file_extension": ".py",
   "mimetype": "text/x-python",
   "name": "python",
   "nbconvert_exporter": "python",
   "pygments_lexer": "ipython3",
   "version": "3.8.5"
  }
 },
 "nbformat": 4,
 "nbformat_minor": 4
}
