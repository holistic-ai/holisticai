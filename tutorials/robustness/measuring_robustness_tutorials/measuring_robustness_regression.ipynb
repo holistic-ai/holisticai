{
 "cells": [
  {
   "cell_type": "markdown",
   "source": [
    "# Dependencies"
   ],
   "metadata": {
    "collapsed": false
   }
  },
  {
   "cell_type": "code",
   "execution_count": 29,
   "outputs": [],
   "source": [
    "import warnings\n",
    "warnings.filterwarnings(\"ignore\")\n",
    "import sys\n",
    "sys.path.append('./')\n",
    "import numpy as np\n",
    "from holisticai.robustness.utils import AttackDataset\n",
    "from holisticai.robustness.utils import load_diabetes\n",
    "from holisticai.robustness.utils import train_holisticai_regressor\n",
    "from holisticai.robustness.utils import train_sklearn_regressor\n",
    "from holisticai.wrappers.regression import ScikitlearnRegressor\n",
    "from holisticai.wrappers.classification.scikitlearn import ScikitlearnDecisionTreeRegressor\n",
    "from holisticai.robustness.metrics import classification_metrics\n",
    "from holisticai.robustness.mitigation.attacks.inference import (\n",
    "    AttributeInferenceBaseline,AttributeInferenceBaselineTrueLabel,AttributeInferenceMembership,AttributeInferenceWhiteBoxLifestyleDecisionTree,AttributeInferenceWhiteBoxDecisionTree,AttributeInferenceBlackBox\n",
    ")\n",
    "\n",
    "np.random.seed(100)"
   ],
   "metadata": {
    "collapsed": false,
    "ExecuteTime": {
     "end_time": "2024-01-26T02:21:39.270176Z",
     "start_time": "2024-01-26T02:21:39.264353Z"
    }
   }
  },
  {
   "cell_type": "markdown",
   "source": [
    "# Load Dataset"
   ],
   "metadata": {
    "collapsed": false
   }
  },
  {
   "cell_type": "code",
   "execution_count": 30,
   "outputs": [],
   "source": [
    "(x_train, y_train), (x_test, y_test) = load_diabetes(test_set=0.5)"
   ],
   "metadata": {
    "collapsed": false,
    "ExecuteTime": {
     "end_time": "2024-01-26T02:21:39.276345Z",
     "start_time": "2024-01-26T02:21:39.267989Z"
    }
   }
  },
  {
   "cell_type": "markdown",
   "source": [
    "## Baseline Attribute Inference on Diabetes Dataset:\n",
    "Implements an attribute inference attack on the Diabetes dataset using the baseline method that doesn't consider the true label during training. The specific feature to infer is denoted as 'social'."
   ],
   "metadata": {
    "collapsed": false
   }
  },
  {
   "cell_type": "code",
   "execution_count": 31,
   "metadata": {
    "collapsed": true,
    "ExecuteTime": {
     "end_time": "2024-01-26T02:21:39.563630Z",
     "start_time": "2024-01-26T02:21:39.274060Z"
    }
   },
   "outputs": [
    {
     "name": "stdout",
     "output_type": "stream",
     "text": [
      "             Values  Reference\n",
      "Accuracy   0.558559          1\n",
      "Precision  0.566038          1\n",
      "Recall     0.535714          1\n"
     ]
    }
   ],
   "source": [
    "dataset = AttackDataset(x=x_train, attack_train_ratio=0.5)\n",
    "attack_feature = 1  # social\n",
    "\n",
    "attack = AttributeInferenceBaseline(attack_feature=attack_feature)\n",
    "x = dataset.attribute_inference_train()\n",
    "attack.fit(x)\n",
    "\n",
    "x = dataset.attribute_inference_test()\n",
    "attack_x = np.delete(x, attack_feature, 1)\n",
    "feat_true = x[:, attack_feature]\n",
    "\n",
    "values = [-0.88085106,  1.]\n",
    "feat_pred = attack.infer(attack_x, values=values)\n",
    "df = classification_metrics(y_true=feat_true,\n",
    "                            y_pred=feat_pred,\n",
    "                            positive_value=values[1])\n",
    "print(df)"
   ]
  },
  {
   "cell_type": "markdown",
   "source": [
    "## Baseline Attribute Inference with True Labels on Diabetes Dataset:\n",
    "Enhances the baseline attribute inference attack by incorporating true labels into the training, offering potentially improved inference accuracy for the 'social' feature."
   ],
   "metadata": {
    "collapsed": false
   }
  },
  {
   "cell_type": "code",
   "execution_count": 32,
   "outputs": [
    {
     "name": "stdout",
     "output_type": "stream",
     "text": [
      "             Values  Reference\n",
      "Accuracy   0.540541          1\n",
      "Precision  0.523364          1\n",
      "Recall     1.000000          1\n"
     ]
    }
   ],
   "source": [
    "dataset = AttackDataset(x=x_train, y=y_train, attack_train_ratio=0.5)\n",
    "attack_feature = 1  # social\n",
    "\n",
    "attack = AttributeInferenceBaselineTrueLabel(attack_feature=attack_feature, is_regression=True)\n",
    "x , y = dataset.attribute_inference_train()\n",
    "attack.fit(x, y)\n",
    "\n",
    "x , y = dataset.attribute_inference_test()\n",
    "attack_x = np.delete(x, attack_feature, 1)\n",
    "feat_true = x[:, attack_feature]\n",
    "\n",
    "\n",
    "#values = [-0.93853666,  1.]\n",
    "values = [-0.88085106,  1.]\n",
    "feat_pred = attack.infer(attack_x, y, values=values)\n",
    "df = classification_metrics(y_true=feat_true,\n",
    "                            y_pred=feat_pred,\n",
    "                            positive_value=values[1])\n",
    "print(df)"
   ],
   "metadata": {
    "collapsed": false,
    "ExecuteTime": {
     "end_time": "2024-01-26T02:21:39.574688Z",
     "start_time": "2024-01-26T02:21:39.566314Z"
    }
   }
  },
  {
   "cell_type": "markdown",
   "source": [
    "## Black Box Attribute Inference on Diabetes Dataset:\n",
    "Executes a black box attribute inference attack, which uses predictions from a trained regression model to infer the 'social' feature values within the Diabetes dataset."
   ],
   "metadata": {
    "collapsed": false
   }
  },
  {
   "cell_type": "code",
   "execution_count": 33,
   "outputs": [
    {
     "name": "stdout",
     "output_type": "stream",
     "text": [
      "             Values  Reference\n",
      "Accuracy   0.567568          1\n",
      "Precision  0.566667          1\n",
      "Recall     0.607143          1\n"
     ]
    }
   ],
   "source": [
    "dataset = AttackDataset(x=x_train, y=y_train, attack_train_ratio=0.5)\n",
    "attack_feature = 1  # social\n",
    "\n",
    "regressor = train_holisticai_regressor(x_train, y_train)\n",
    "regressor = ScikitlearnRegressor(regressor)\n",
    "\n",
    "attack = AttributeInferenceBlackBox(estimator=regressor, attack_feature=attack_feature, scale_range=(0,1))\n",
    "x , y = dataset.attribute_inference_train()\n",
    "pred = regressor.predict(x)\n",
    "attack.fit(x, y, pred)\n",
    "\n",
    "x , y = dataset.attribute_inference_test()\n",
    "pred = regressor.predict(x)\n",
    "attack_x = np.delete(x, attack_feature, 1)\n",
    "feat_true = x[:, attack_feature]\n",
    "\n",
    "values = [-0.88085106,  1.]\n",
    "feat_pred = attack.infer(attack_x, y, pred, values=values)\n",
    "df = classification_metrics(y_true=feat_true,\n",
    "                            y_pred=feat_pred,\n",
    "                            positive_value=values[1])\n",
    "print(df)"
   ],
   "metadata": {
    "collapsed": false,
    "ExecuteTime": {
     "end_time": "2024-01-26T02:21:39.825093Z",
     "start_time": "2024-01-26T02:21:39.577118Z"
    }
   }
  },
  {
   "cell_type": "markdown",
   "source": [
    "## White Box Lifestyle Attribute Inference with Decision Tree on Diabetes Dataset:\n",
    "Performs a white box attribute inference attack using a decision tree regressor, implying the attacker has access to the model's structure and parameters to infer the 'social' feature."
   ],
   "metadata": {
    "collapsed": false
   }
  },
  {
   "cell_type": "code",
   "execution_count": 34,
   "outputs": [
    {
     "name": "stdout",
     "output_type": "stream",
     "text": [
      "             Values  Reference\n",
      "Accuracy   0.522523          1\n",
      "Precision  0.800000          1\n",
      "Recall     0.071429          1\n"
     ]
    }
   ],
   "source": [
    "dataset = AttackDataset(x=x_train, y=y_train, attack_train_ratio=0.5)\n",
    "attack_feature = 1  # social\n",
    "\n",
    "regressor = train_sklearn_regressor(x_train, y_train)\n",
    "regressor = ScikitlearnDecisionTreeRegressor(regressor)\n",
    "attack = AttributeInferenceWhiteBoxLifestyleDecisionTree(estimator=regressor, attack_feature=attack_feature)\n",
    "\n",
    "x , y = dataset.attribute_inference_test()\n",
    "attack_x = np.delete(x, attack_feature, 1)\n",
    "feat_true = x[:, attack_feature]\n",
    "\n",
    "values = [-0.88085106,  1.]\n",
    "priors = [3465 / 5183, 1718 / 5183]\n",
    "feat_pred = attack.infer(attack_x,  values=values, priors=priors)\n",
    "df = classification_metrics(y_true=feat_true,\n",
    "                            y_pred=feat_pred,\n",
    "                            positive_value=values[1])\n",
    "print(df)"
   ],
   "metadata": {
    "collapsed": false,
    "ExecuteTime": {
     "end_time": "2024-01-26T02:21:39.860981Z",
     "start_time": "2024-01-26T02:21:39.827068Z"
    }
   }
  }
 ],
 "metadata": {
  "kernelspec": {
   "display_name": "Python 3",
   "language": "python",
   "name": "python3"
  },
  "language_info": {
   "codemirror_mode": {
    "name": "ipython",
    "version": 2
   },
   "file_extension": ".py",
   "mimetype": "text/x-python",
   "name": "python",
   "nbconvert_exporter": "python",
   "pygments_lexer": "ipython2",
   "version": "2.7.6"
  }
 },
 "nbformat": 4,
 "nbformat_minor": 0
}
