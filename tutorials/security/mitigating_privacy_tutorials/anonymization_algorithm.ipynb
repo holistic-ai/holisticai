{
 "cells": [
  {
   "cell_type": "markdown",
   "metadata": {},
   "source": [
    "## Using ML anonymization to defend against attribute inference attacks"
   ]
  },
  {
   "cell_type": "markdown",
   "metadata": {},
   "source": [
    "### Load data"
   ]
  },
  {
   "cell_type": "code",
   "execution_count": 1,
   "metadata": {
    "execution": {
     "iopub.execute_input": "2024-09-08T06:18:28.107537Z",
     "iopub.status.busy": "2024-09-08T06:18:28.107061Z",
     "iopub.status.idle": "2024-09-08T06:18:28.603078Z",
     "shell.execute_reply": "2024-09-08T06:18:28.602415Z"
    }
   },
   "outputs": [],
   "source": [
    "import pandas as pd\n",
    "import numpy as np\n",
    "from sklearn.metrics import accuracy_score\n",
    "\n",
    "import warnings\n",
    "# Filter out all warnings\n",
    "warnings.filterwarnings(\"ignore\")"
   ]
  },
  {
   "cell_type": "markdown",
   "metadata": {},
   "source": [
    "#### First of all, we need to import the required packages to perform our privacy analysis and mitigation. You will need to have the `holisticai` package installed on your system, remember that you can install it by running: \n",
    "```bash\n",
    "!pip install holisticai[all]\n",
    "```"
   ]
  },
  {
   "cell_type": "code",
   "execution_count": 2,
   "metadata": {
    "execution": {
     "iopub.execute_input": "2024-09-08T06:18:28.604951Z",
     "iopub.status.busy": "2024-09-08T06:18:28.604781Z",
     "iopub.status.idle": "2024-09-08T06:18:28.929876Z",
     "shell.execute_reply": "2024-09-08T06:18:28.929395Z"
    }
   },
   "outputs": [],
   "source": [
    "from sklearn.preprocessing import StandardScaler, OneHotEncoder\n",
    "from sklearn.compose import ColumnTransformer\n",
    "from holisticai.utils import BinaryClassificationProxy\n",
    "from holisticai.security.commons import DataMinimizer\n",
    "from holisticai.security.metrics import classification_privacy_metrics\n",
    "\n",
    "# Identify categorical and numerical features\n",
    "def create_preprocessor(X):\n",
    "    categorical_features = X.select_dtypes(include=['category']).columns\n",
    "    numerical_fatures = X.select_dtypes(exclude=['category']).columns\n",
    "\n",
    "    # Create transformers for numerical and categorical features\n",
    "    numeric_transformer = Pipeline(steps=[('scaler', StandardScaler())])\n",
    "    categorical_transformer = Pipeline(steps=[('onehot', OneHotEncoder(handle_unknown='ignore'))])\n",
    "\n",
    "    # Combine transformers into a preprocessor using ColumnTransformer\n",
    "    return ColumnTransformer(\n",
    "        transformers=[\n",
    "            ('num', numeric_transformer, numerical_fatures),\n",
    "            ('cat', categorical_transformer, categorical_features)\n",
    "    ])\n",
    "\n",
    "def evaluate_privacy(model, train, test):\n",
    "    proxy = BinaryClassificationProxy(predict=model.predict, predict_proba=model.predict_proba, classes=[0, 1])\n",
    "    dmin = DataMinimizer(proxy=proxy)\n",
    "    dmin.fit(train['X'], train['y'])\n",
    "\n",
    "    y_pred_train = proxy.predict(train['X'])\n",
    "    y_pred_test = proxy.predict(test['X'])\n",
    "    y_pred_test_dm = dmin.predict(test['X'])\n",
    "\n",
    "    return classification_privacy_metrics(train['X'], test['X'], train['y'], test['y'], y_pred_train, y_pred_test, y_pred_test_dm, attribute_attack='education')"
   ]
  },
  {
   "cell_type": "markdown",
   "metadata": {},
   "source": [
    "### Train decision tree model"
   ]
  },
  {
   "cell_type": "code",
   "execution_count": 3,
   "metadata": {
    "execution": {
     "iopub.execute_input": "2024-09-08T06:18:28.931743Z",
     "iopub.status.busy": "2024-09-08T06:18:28.931564Z",
     "iopub.status.idle": "2024-09-08T06:18:29.941254Z",
     "shell.execute_reply": "2024-09-08T06:18:29.940759Z"
    }
   },
   "outputs": [
    {
     "name": "stdout",
     "output_type": "stream",
     "text": [
      "Base model accuracy:  0.8199004975124378\n"
     ]
    }
   ],
   "source": [
    "from sklearn.tree import DecisionTreeClassifier\n",
    "from holisticai.datasets import load_dataset\n",
    "from sklearn.pipeline import Pipeline\n",
    "\n",
    "dataset = load_dataset('adult', preprocessed=False)\n",
    "dataset['X'] = dataset[\"X\"].drop('fnlwgt', axis=1)\n",
    "train_test = dataset.train_test_split(0.2, random_state=42)\n",
    "train = train_test['train']\n",
    "test = train_test['test']\n",
    "\n",
    "preprocessor = create_preprocessor(train['X'])\n",
    "model = Pipeline(steps=[('preprocessor', preprocessor),\n",
    "                        ('classifier', DecisionTreeClassifier())])\n",
    "\n",
    "model.fit(train['X'], train['y'])\n",
    "\n",
    "y_pred = model.predict(test['X'])\n",
    "y_proba = model.predict_proba(test['X'])\n",
    "\n",
    "print('Base model accuracy: ', model.score(test['X'], test['y']))"
   ]
  },
  {
   "cell_type": "code",
   "execution_count": 4,
   "metadata": {
    "execution": {
     "iopub.execute_input": "2024-09-08T06:18:29.942927Z",
     "iopub.status.busy": "2024-09-08T06:18:29.942790Z",
     "iopub.status.idle": "2024-09-08T06:19:55.710643Z",
     "shell.execute_reply": "2024-09-08T06:19:55.710160Z"
    }
   },
   "outputs": [
    {
     "name": "stderr",
     "output_type": "stream",
     "text": [
      "An NVIDIA GPU may be present on this machine, but a CUDA-enabled jaxlib is not installed. Falling back to cpu.\n"
     ]
    },
    {
     "data": {
      "text/html": [
       "<div>\n",
       "<style scoped>\n",
       "    .dataframe tbody tr th:only-of-type {\n",
       "        vertical-align: middle;\n",
       "    }\n",
       "\n",
       "    .dataframe tbody tr th {\n",
       "        vertical-align: top;\n",
       "    }\n",
       "\n",
       "    .dataframe thead th {\n",
       "        text-align: right;\n",
       "    }\n",
       "</style>\n",
       "<table border=\"1\" class=\"dataframe\">\n",
       "  <thead>\n",
       "    <tr style=\"text-align: right;\">\n",
       "      <th></th>\n",
       "      <th>metric</th>\n",
       "      <th>value</th>\n",
       "      <th>reference</th>\n",
       "    </tr>\n",
       "  </thead>\n",
       "  <tbody>\n",
       "    <tr>\n",
       "      <th>0</th>\n",
       "      <td>SHAPr</td>\n",
       "      <td>0.819901</td>\n",
       "      <td>0.0</td>\n",
       "    </tr>\n",
       "    <tr>\n",
       "      <th>1</th>\n",
       "      <td>Data Minimization Accuracy Ratio</td>\n",
       "      <td>1.012700</td>\n",
       "      <td>inf</td>\n",
       "    </tr>\n",
       "    <tr>\n",
       "      <th>2</th>\n",
       "      <td>Attribute Attack Score</td>\n",
       "      <td>0.405970</td>\n",
       "      <td>0.0</td>\n",
       "    </tr>\n",
       "  </tbody>\n",
       "</table>\n",
       "</div>"
      ],
      "text/plain": [
       "                             metric     value  reference\n",
       "0                             SHAPr  0.819901        0.0\n",
       "1  Data Minimization Accuracy Ratio  1.012700        inf\n",
       "2            Attribute Attack Score  0.405970        0.0"
      ]
     },
     "execution_count": 4,
     "metadata": {},
     "output_type": "execute_result"
    }
   ],
   "source": [
    "evaluate_privacy(model, train, test)"
   ]
  },
  {
   "cell_type": "markdown",
   "metadata": {},
   "source": [
    "### Anonymized data. Improving privacy "
   ]
  },
  {
   "cell_type": "code",
   "execution_count": 5,
   "metadata": {
    "execution": {
     "iopub.execute_input": "2024-09-08T06:19:55.712397Z",
     "iopub.status.busy": "2024-09-08T06:19:55.712254Z",
     "iopub.status.idle": "2024-09-08T06:20:42.619906Z",
     "shell.execute_reply": "2024-09-08T06:20:42.619156Z"
    }
   },
   "outputs": [],
   "source": [
    "from holisticai.security.mitigation import Anonymize\n",
    "\n",
    "X_train = train['X']\n",
    "y_train = train['y']\n",
    "\n",
    "feature_names = X_train.columns\n",
    "categorical_features = list(X_train.select_dtypes(include=['category']).columns)\n",
    "QI = ['education', 'marital-status', 'age']\n",
    "\n",
    "anonymizer = Anonymize(500, QI, categorical_features=categorical_features, features_names=feature_names)\n",
    "anon = anonymizer.anonymize(X_train, y_train)"
   ]
  },
  {
   "cell_type": "code",
   "execution_count": 6,
   "metadata": {
    "execution": {
     "iopub.execute_input": "2024-09-08T06:20:42.621730Z",
     "iopub.status.busy": "2024-09-08T06:20:42.621594Z",
     "iopub.status.idle": "2024-09-08T06:20:42.626144Z",
     "shell.execute_reply": "2024-09-08T06:20:42.625638Z"
    }
   },
   "outputs": [],
   "source": [
    "from holisticai.datasets import Dataset\n",
    "\n",
    "new_train = Dataset(X=anon, y=y_train)"
   ]
  },
  {
   "cell_type": "markdown",
   "metadata": {},
   "source": [
    "### Train decision tree model on anonymized data\n"
   ]
  },
  {
   "cell_type": "code",
   "execution_count": 7,
   "metadata": {
    "execution": {
     "iopub.execute_input": "2024-09-08T06:20:42.627732Z",
     "iopub.status.busy": "2024-09-08T06:20:42.627604Z",
     "iopub.status.idle": "2024-09-08T06:20:43.364211Z",
     "shell.execute_reply": "2024-09-08T06:20:43.363733Z"
    }
   },
   "outputs": [
    {
     "name": "stdout",
     "output_type": "stream",
     "text": [
      "Base model accuracy:  0.802653399668325\n"
     ]
    }
   ],
   "source": [
    "from sklearn.tree import DecisionTreeClassifier\n",
    "\n",
    "preprocessor = create_preprocessor(new_train['X'])\n",
    "model = Pipeline(steps=[('preprocessor', preprocessor),\n",
    "                        ('classifier', DecisionTreeClassifier())])\n",
    "\n",
    "model.fit(anon, new_train['y'])\n",
    "\n",
    "y_pred = model.predict(test['X'])\n",
    "y_proba = model.predict_proba(test['X'])\n",
    "\n",
    "print('Base model accuracy: ', model.score(test['X'], test['y']))"
   ]
  },
  {
   "cell_type": "code",
   "execution_count": 8,
   "metadata": {
    "execution": {
     "iopub.execute_input": "2024-09-08T06:20:43.365893Z",
     "iopub.status.busy": "2024-09-08T06:20:43.365760Z",
     "iopub.status.idle": "2024-09-08T06:22:07.151841Z",
     "shell.execute_reply": "2024-09-08T06:22:07.151428Z"
    }
   },
   "outputs": [
    {
     "data": {
      "text/html": [
       "<div>\n",
       "<style scoped>\n",
       "    .dataframe tbody tr th:only-of-type {\n",
       "        vertical-align: middle;\n",
       "    }\n",
       "\n",
       "    .dataframe tbody tr th {\n",
       "        vertical-align: top;\n",
       "    }\n",
       "\n",
       "    .dataframe thead th {\n",
       "        text-align: right;\n",
       "    }\n",
       "</style>\n",
       "<table border=\"1\" class=\"dataframe\">\n",
       "  <thead>\n",
       "    <tr style=\"text-align: right;\">\n",
       "      <th></th>\n",
       "      <th>metric</th>\n",
       "      <th>value</th>\n",
       "      <th>reference</th>\n",
       "    </tr>\n",
       "  </thead>\n",
       "  <tbody>\n",
       "    <tr>\n",
       "      <th>0</th>\n",
       "      <td>SHAPr</td>\n",
       "      <td>0.802653</td>\n",
       "      <td>0.0</td>\n",
       "    </tr>\n",
       "    <tr>\n",
       "      <th>1</th>\n",
       "      <td>Data Minimization Accuracy Ratio</td>\n",
       "      <td>0.998762</td>\n",
       "      <td>inf</td>\n",
       "    </tr>\n",
       "    <tr>\n",
       "      <th>2</th>\n",
       "      <td>Attribute Attack Score</td>\n",
       "      <td>0.352902</td>\n",
       "      <td>0.0</td>\n",
       "    </tr>\n",
       "  </tbody>\n",
       "</table>\n",
       "</div>"
      ],
      "text/plain": [
       "                             metric     value  reference\n",
       "0                             SHAPr  0.802653        0.0\n",
       "1  Data Minimization Accuracy Ratio  0.998762        inf\n",
       "2            Attribute Attack Score  0.352902        0.0"
      ]
     },
     "execution_count": 8,
     "metadata": {},
     "output_type": "execute_result"
    }
   ],
   "source": [
    "evaluate_privacy(model, new_train, test)"
   ]
  }
 ],
 "metadata": {
  "kernelspec": {
   "display_name": "Python 3",
   "language": "python",
   "name": "python3"
  },
  "language_info": {
   "codemirror_mode": {
    "name": "ipython",
    "version": 3
   },
   "file_extension": ".py",
   "mimetype": "text/x-python",
   "name": "python",
   "nbconvert_exporter": "python",
   "pygments_lexer": "ipython3",
   "version": "3.11.9"
  }
 },
 "nbformat": 4,
 "nbformat_minor": 2
}
