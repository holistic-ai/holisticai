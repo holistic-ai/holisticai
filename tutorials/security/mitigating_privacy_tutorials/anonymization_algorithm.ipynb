{
 "cells": [
  {
   "cell_type": "markdown",
   "metadata": {},
   "source": [
    "## Using ML anonymization to defend against attribute inference attacks"
   ]
  },
  {
   "cell_type": "markdown",
   "metadata": {},
   "source": [
    "### Load data"
   ]
  },
  {
   "cell_type": "code",
   "execution_count": 1,
   "metadata": {},
   "outputs": [],
   "source": [
    "import pandas as pd\n",
    "import numpy as np\n",
    "from sklearn.metrics import accuracy_score\n",
    "\n",
    "import warnings\n",
    "# Filter out all warnings\n",
    "warnings.filterwarnings(\"ignore\")\n"
   ]
  },
  {
   "cell_type": "markdown",
   "metadata": {},
   "source": [
    "#### First of all, we need to import the required packages to perform our privacy analysis and mitigation. You will need to have the `holisticai` package installed on your system, remember that you can install it by running: \n",
    "```bash\n",
    "!pip install holisticai[all]\n",
    "```"
   ]
  },
  {
   "cell_type": "code",
   "execution_count": 2,
   "metadata": {},
   "outputs": [
    {
     "data": {
      "text/html": [
       "\n",
       "    <style>\n",
       "        .generic-object-container {\n",
       "    padding: 1px;\n",
       "    margin: 1px;\n",
       "}\n",
       ".generic-object-content {\n",
       "    background-color: #fff;\n",
       "    border: 1px solid #ddd;\n",
       "    border-radius: 5px;\n",
       "    padding: 0px;\n",
       "    margin: 10px;\n",
       "    text-align: left;\n",
       "    font-family: Arial, sans-serif;\n",
       "    font-size: 11px;\n",
       "    color: #333;\n",
       "    display: inline-block;\n",
       "    box-shadow: 1px 1px 3px rgba(0, 0, 0, 0.1);\n",
       "}\n",
       ".generic-object-header {\n",
       "    background-color: #e0e0e0;\n",
       "    color: #000;\n",
       "    font-size: 12px;\n",
       "    padding: 10px 150px 10px 20px;\n",
       "    margin: 0px;\n",
       "    text-align: left;\n",
       "    border-bottom: 1px solid #ccc;\n",
       "    border-radius: 5px 5px 0 0;\n",
       "    font-weight: bold;\n",
       "}\n",
       ".generic-object-body {\n",
       "    padding: 5px 10px 5px 10px;\n",
       "}\n",
       ".attribute-list {\n",
       "    margin: 2px 0;\n",
       "    padding: 2px;\n",
       "}\n",
       "    </style>\n",
       "    <div class=\"generic-object-container\">\n",
       "        <div class=\"generic-object-content\">\n",
       "            <div class=\"generic-object-header\">DATASET</div>\n",
       "            <div class=\"generic-object-body\">\n",
       "                <div class=\"attribute-list\">- Number of Rows: 45222</div><div class=\"attribute-list\">- Features: X , y , s</div>\n",
       "                \n",
       "            </div>\n",
       "        </div>\n",
       "    </div>\n",
       "    "
      ],
      "text/plain": [
       "Dataset({\n",
       "        features: ['X', 'y', 's'],\n",
       "        num_rows: 45222\n",
       "    })"
      ]
     },
     "execution_count": 2,
     "metadata": {},
     "output_type": "execute_result"
    }
   ],
   "source": [
    "from holisticai.datasets import load_dataset\n",
    "\n",
    "dataset = load_dataset('adult', preprocessed=False)\n",
    "dataset"
   ]
  },
  {
   "cell_type": "code",
   "execution_count": 3,
   "metadata": {},
   "outputs": [
    {
     "data": {
      "text/html": [
       "\n",
       "    <style>\n",
       "        .generic-object-container {\n",
       "    padding: 1px;\n",
       "    margin: 1px;\n",
       "}\n",
       ".generic-object-content {\n",
       "    background-color: #fff;\n",
       "    border: 1px solid #ddd;\n",
       "    border-radius: 5px;\n",
       "    padding: 0px;\n",
       "    margin: 10px;\n",
       "    text-align: left;\n",
       "    font-family: Arial, sans-serif;\n",
       "    font-size: 11px;\n",
       "    color: #333;\n",
       "    display: inline-block;\n",
       "    box-shadow: 1px 1px 3px rgba(0, 0, 0, 0.1);\n",
       "}\n",
       ".generic-object-header {\n",
       "    background-color: #e0e0e0;\n",
       "    color: #000;\n",
       "    font-size: 12px;\n",
       "    padding: 10px 150px 10px 20px;\n",
       "    margin: 0px;\n",
       "    text-align: left;\n",
       "    border-bottom: 1px solid #ccc;\n",
       "    border-radius: 5px 5px 0 0;\n",
       "    font-weight: bold;\n",
       "}\n",
       ".generic-object-body {\n",
       "    padding: 5px 10px 5px 10px;\n",
       "}\n",
       ".attribute-list {\n",
       "    margin: 2px 0;\n",
       "    padding: 2px;\n",
       "}\n",
       "    </style>\n",
       "    <div class=\"generic-object-container\">\n",
       "        <div class=\"generic-object-content\">\n",
       "            <div class=\"generic-object-header\">DATASET</div>\n",
       "            <div class=\"generic-object-body\">\n",
       "                <div class=\"attribute-list\">- Number of Rows: 45222</div><div class=\"attribute-list\">- Features: X , y , s</div>\n",
       "                \n",
       "            </div>\n",
       "        </div>\n",
       "    </div>\n",
       "    "
      ],
      "text/plain": [
       "Dataset({\n",
       "        features: ['X', 'y', 's'],\n",
       "        num_rows: 45222\n",
       "    })"
      ]
     },
     "execution_count": 3,
     "metadata": {},
     "output_type": "execute_result"
    }
   ],
   "source": [
    "X = dataset[\"X\"].drop('fnlwgt', axis=1)\n",
    "from holisticai.datasets import Dataset\n",
    "new_dataset = Dataset(X=X, y=dataset[\"y\"], s=dataset[\"s\"])\n",
    "new_dataset"
   ]
  },
  {
   "cell_type": "code",
   "execution_count": 4,
   "metadata": {},
   "outputs": [],
   "source": [
    "from sklearn.preprocessing import StandardScaler, OneHotEncoder\n",
    "from sklearn.compose import ColumnTransformer\n",
    "from sklearn.pipeline import Pipeline\n",
    "\n",
    "\n",
    "train_test = new_dataset.train_test_split(0.2, random_state=42)\n",
    "train = train_test['train']\n",
    "test = train_test['test']\n",
    "\n",
    "# Identify categorical and numerical features\n",
    "def create_preprocessor(X):\n",
    "    categorical_features = X.select_dtypes(include=['category']).columns\n",
    "    numerical_fatures = X.select_dtypes(exclude=['category']).columns\n",
    "\n",
    "    # Create transformers for numerical and categorical features\n",
    "    numeric_transformer = Pipeline(steps=[('scaler', StandardScaler())])\n",
    "    categorical_transformer = Pipeline(steps=[('onehot', OneHotEncoder(handle_unknown='ignore'))])\n",
    "\n",
    "    # Combine transformers into a preprocessor using ColumnTransformer\n",
    "    return ColumnTransformer(\n",
    "        transformers=[\n",
    "            ('num', numeric_transformer, numerical_fatures),\n",
    "            ('cat', categorical_transformer, categorical_features)\n",
    "    ])"
   ]
  },
  {
   "cell_type": "markdown",
   "metadata": {},
   "source": [
    "### Train decision tree model"
   ]
  },
  {
   "cell_type": "code",
   "execution_count": 5,
   "metadata": {},
   "outputs": [
    {
     "name": "stdout",
     "output_type": "stream",
     "text": [
      "Base model accuracy:  0.8210060807075732\n"
     ]
    }
   ],
   "source": [
    "from sklearn.tree import DecisionTreeClassifier\n",
    "\n",
    "preprocessor = create_preprocessor(train['X'])\n",
    "model = Pipeline(steps=[('preprocessor', preprocessor),\n",
    "                        ('classifier', DecisionTreeClassifier())])\n",
    "\n",
    "model.fit(train['X'], train['y'])\n",
    "\n",
    "y_pred = model.predict(test['X'])\n",
    "y_proba = model.predict_proba(test['X'])\n",
    "\n",
    "print('Base model accuracy: ', model.score(test['X'], test['y']))"
   ]
  },
  {
   "cell_type": "markdown",
   "metadata": {},
   "source": [
    "### BlackBox Attack"
   ]
  },
  {
   "cell_type": "code",
   "execution_count": null,
   "metadata": {},
   "outputs": [],
   "source": [
    "from holisticai.security.commons import classification_security_features\n",
    "from holisticai.security.metrics import attribute_inference_accuracy\n",
    "\n",
    "attacker = classification_security_features(X=train['X'], y=train['y'], attacker='black_box', attack_feature='education')\n",
    "attribute_inference_accuracy(attacker, test['X'], test['y'])"
   ]
  },
  {
   "cell_type": "markdown",
   "metadata": {},
   "source": [
    "#### This means that for 89% of the training set, the attacked feature is inferred correctly using this attack.\n",
    "\n"
   ]
  },
  {
   "cell_type": "markdown",
   "metadata": {},
   "source": [
    "### Anonymized data. Improving privacy "
   ]
  },
  {
   "cell_type": "code",
   "execution_count": 7,
   "metadata": {},
   "outputs": [],
   "source": [
    "from holisticai.security.mitigation import Anonymize\n",
    "\n",
    "X_train = train['X']\n",
    "y_train = train['y']\n",
    "\n",
    "feature_names = X_train.columns\n",
    "categorical_features = list(X_train.select_dtypes(include=['category']).columns)\n",
    "QI = ['education', 'marital-status', 'age']\n",
    "\n",
    "anonymizer = Anonymize(500, QI, categorical_features=categorical_features, features_names=feature_names)\n",
    "anon = anonymizer.anonymize(X_train, y_train)"
   ]
  },
  {
   "cell_type": "markdown",
   "metadata": {},
   "source": [
    "### Train decision tree model on anonymized data\n"
   ]
  },
  {
   "cell_type": "code",
   "execution_count": null,
   "metadata": {},
   "outputs": [],
   "source": [
    "from sklearn.tree import DecisionTreeClassifier\n",
    "\n",
    "preprocessor = create_preprocessor(train['X'])\n",
    "model = Pipeline(steps=[('preprocessor', preprocessor),\n",
    "                        ('classifier', DecisionTreeClassifier())])\n",
    "\n",
    "model.fit(anon, train['y'])\n",
    "\n",
    "y_pred = model.predict(test['X'])\n",
    "y_proba = model.predict_proba(test['X'])\n",
    "\n",
    "print('Base model accuracy: ', model.score(test['X'], test['y']))"
   ]
  },
  {
   "cell_type": "code",
   "execution_count": null,
   "metadata": {},
   "outputs": [],
   "source": [
    "from holisticai.security.commons import classification_security_features\n",
    "from holisticai.security.metrics import attribute_inference_accuracy\n",
    "\n",
    "attacker = classification_security_features(X=anon, y=train['y'], attacker='black_box', attack_feature='education')\n",
    "attribute_inference_accuracy(attacker, test['X'], test['y'])"
   ]
  },
  {
   "cell_type": "markdown",
   "metadata": {},
   "source": [
    "#### This means that for 56% of the training set, the attacked feature is inferred correctly using this attack.\n"
   ]
  }
 ],
 "metadata": {
  "kernelspec": {
   "display_name": "Python 3",
   "language": "python",
   "name": "python3"
  },
  "language_info": {
   "codemirror_mode": {
    "name": "ipython",
    "version": 3
   },
   "file_extension": ".py",
   "mimetype": "text/x-python",
   "name": "python",
   "nbconvert_exporter": "python",
   "pygments_lexer": "ipython3",
   "version": "3.11.9"
  }
 },
 "nbformat": 4,
 "nbformat_minor": 2
}
