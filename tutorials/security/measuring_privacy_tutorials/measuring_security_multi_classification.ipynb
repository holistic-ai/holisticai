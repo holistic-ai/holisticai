{
 "cells": [
  {
   "cell_type": "markdown",
   "metadata": {},
   "source": [
    "## Using ML anonymization to defend against attribute inference attacks"
   ]
  },
  {
   "cell_type": "markdown",
   "metadata": {},
   "source": [
    "### Load data"
   ]
  },
  {
   "cell_type": "code",
   "execution_count": 1,
   "metadata": {},
   "outputs": [],
   "source": [
    "import os\n",
    "os.environ[\"JAX_PLATFORM_NAME\"] = \"cpu\""
   ]
  },
  {
   "cell_type": "code",
   "execution_count": 2,
   "metadata": {},
   "outputs": [],
   "source": [
    "import pandas as pd\n",
    "import numpy as np\n",
    "from sklearn.metrics import accuracy_score\n",
    "\n",
    "import warnings\n",
    "warnings.filterwarnings(\"ignore\")\n"
   ]
  },
  {
   "cell_type": "markdown",
   "metadata": {},
   "source": [
    "#### First of all, we need to import the required packages to perform our privacy analysis and mitigation. You will need to have the `holisticai` package installed on your system, remember that you can install it by running: \n",
    "```bash\n",
    "!pip install holisticai[all]\n",
    "```"
   ]
  },
  {
   "cell_type": "code",
   "execution_count": 6,
   "metadata": {},
   "outputs": [
    {
     "data": {
      "text/html": [
       "\n",
       "    <style>\n",
       "        @import url('https://fonts.googleapis.com/css2?family=Montserrat:ital,wght@0,100..900;1,100..900&display=swap');\n",
       "\n",
       "/* Light blue theme (default) */\n",
       ".generic-object-container.blue {\n",
       "    background-color: #f2f8fd !important; /* Container background: light blue */\n",
       "    border-color: #4db6ac !important; /* Soft blue border */\n",
       "}\n",
       "\n",
       ".generic-object-header.blue {\n",
       "    background-color: #a0c4ff9a !important; /* Header background: darker blue */\n",
       "}\n",
       "\n",
       ".generic-object-header.blue:hover {\n",
       "    background-color: #8bb1c0 !important; /* Darker shade on hover over the header */\n",
       "}\n",
       "\n",
       ".attribute-list.blue:hover {\n",
       "    background-color: #b2dfdb !important; /* Attribute background on hover: darker blue */\n",
       "}\n",
       "\n",
       "/* Orange theme */\n",
       ".generic-object-container.orange {\n",
       "    background-color: #fff9ef !important; /* Container background: light orange */\n",
       "    border-color: #ffb74d !important; /* Soft orange border */\n",
       "}\n",
       "\n",
       ".generic-object-header.orange {\n",
       "    background-color: #ffe0b2 !important; /* Header background: darker orange */\n",
       "}\n",
       "\n",
       ".generic-object-header.orange:hover {\n",
       "    background-color: #ffcc80 !important; /* Darker shade on hover over the header */\n",
       "}\n",
       "\n",
       ".attribute-list.orange:hover {\n",
       "    background-color: #ffe0b2 !important; /* Attribute background on hover: darker orange */\n",
       "}\n",
       "\n",
       "/* Green theme */\n",
       ".generic-object-container.green {\n",
       "    background-color: #f6fff6 !important; /* Container background: light green */\n",
       "    border-color: #81c784 !important; /* Soft green border */\n",
       "}\n",
       "\n",
       ".generic-object-header.green {\n",
       "    background-color: #c8e6c9 !important; /* Header background: darker green */\n",
       "}\n",
       "\n",
       ".generic-object-header.green:hover {\n",
       "    background-color: #a5d6a7 !important; /* Darker shade on hover over the header */\n",
       "}\n",
       "\n",
       ".attribute-list.green:hover {\n",
       "    background-color: #c8e6c9 !important; /* Attribute background on hover: darker green */\n",
       "}\n",
       "\n",
       "/* Align the first container to the left */\n",
       ".generic-object-container.first-level {\n",
       "    margin: 0;\n",
       "    width: auto;\n",
       "    max-width: 800px;\n",
       "    display: block;\n",
       "    box-sizing: border-box;\n",
       "}\n",
       "\n",
       "/* Nested containers stay centered */\n",
       ".generic-object-container .generic-object-container {\n",
       "    margin: 5px auto;\n",
       "    width: 100%;\n",
       "    display: block;\n",
       "    padding: 5px 0;\n",
       "}\n",
       "\n",
       "/* Remove default background color so only themes apply it */\n",
       ".generic-object-container {\n",
       "    padding: 0;\n",
       "    margin: 0 auto;\n",
       "    border: 1px dashed;\n",
       "    border-radius: 5px;\n",
       "    display: block;\n",
       "    width: auto;\n",
       "    max-width: 800px;\n",
       "    box-sizing: border-box;\n",
       "    margin-bottom: 15px;\n",
       "    transition: transform 0.2s, box-shadow 0.2s;\n",
       "}\n",
       "\n",
       ".generic-object-container:hover {\n",
       "    box-shadow: 0px 4px 10px rgba(77, 182, 172, 0.3);\n",
       "}\n",
       "\n",
       ".generic-object-header {\n",
       "    font-family: 'Montserrat', Arial, sans-serif;\n",
       "    font-size: 14px;\n",
       "    padding: 10px 20px;\n",
       "    padding-left: 40px;\n",
       "    text-align: center;\n",
       "    font-weight: bold;\n",
       "    cursor: pointer;\n",
       "    display: flex;\n",
       "    align-items: center;\n",
       "    justify-content: center;\n",
       "    position: relative;\n",
       "    width: 100%;\n",
       "    box-sizing: border-box;\n",
       "    border-radius: 5px;\n",
       "    transition: background-color 0.3s;\n",
       "}\n",
       "\n",
       ".toggle-button {\n",
       "    margin-right: 10px;\n",
       "    background: none;\n",
       "    border: none;\n",
       "    font-size: 13px;\n",
       "    cursor: pointer;\n",
       "    position: absolute;\n",
       "    left: 10px;\n",
       "    color: #004d40;\n",
       "}\n",
       "\n",
       ".generic-object-body {\n",
       "    padding: 5px 10px;\n",
       "    display: block;\n",
       "    border-radius: 0 0 5px 5px;\n",
       "    background-color: inherit;\n",
       "    margin: 0 auto;\n",
       "}\n",
       "\n",
       ".hidden {\n",
       "    display: none;\n",
       "}\n",
       "\n",
       ".attribute-list {\n",
       "    margin: 2px 0;\n",
       "    padding: 2px;\n",
       "    transition: background-color 0.2s;\n",
       "    display: block;\n",
       "}\n",
       "\n",
       ".flex-space-filler {\n",
       "    display: flex;\n",
       "    justify-content: center;\n",
       "    align-items: center;\n",
       "}\n",
       "\n",
       ".generic-object-container,\n",
       ".generic-object-header,\n",
       ".attribute-list {\n",
       "    color: #000000 !important; /* Establece el color del texto a negro */\n",
       "}\n",
       "    </style>\n",
       "    <div style=\"display: flex;\">\n",
       "    <div class=\"generic-object-container blue first-level\">\n",
       "        <div class=\"generic-object-content\">\n",
       "            <div class=\"generic-object-header blue\" onclick=\"toggleCollapse(this)\">\n",
       "                <button class=\"toggle-button blue\">[-]</button> [Dataset]\n",
       "            </div>\n",
       "            <div class=\"generic-object-body\">\n",
       "                <div class=\"attribute-list blue\"><strong>Instances</strong>: 395</div><div class=\"attribute-list blue\"><strong>Features</strong>: X , y , p_attrs</div>\n",
       "                \n",
       "            </div>\n",
       "        </div>\n",
       "    </div>\n",
       "</div>\n",
       "    <script>\n",
       "    function toggleCollapse(element) {\n",
       "        var body = element.nextElementSibling;\n",
       "        var button = element.querySelector(\".toggle-button\");\n",
       "        if (body.classList.contains('hidden')) {\n",
       "            body.classList.remove('hidden');\n",
       "            button.textContent = \"[-]\";\n",
       "        } else {\n",
       "            body.classList.add('hidden');\n",
       "            button.textContent = \"[+]\";\n",
       "        }\n",
       "    }\n",
       "    </script>\n",
       "    "
      ],
      "text/plain": [
       "{\"dtype\":\"Dataset\",\"attributes\":{\"Instances\":395,\"Features\":[\"X , y , p_attrs\"]},\"metadata\":null}"
      ]
     },
     "execution_count": 6,
     "metadata": {},
     "output_type": "execute_result"
    }
   ],
   "source": [
    "from holisticai.datasets import load_dataset\n",
    "\n",
    "dataset = load_dataset('student_multiclass', preprocessed=True)\n",
    "dataset"
   ]
  },
  {
   "cell_type": "markdown",
   "metadata": {},
   "source": [
    "### Preparing dataset "
   ]
  },
  {
   "cell_type": "code",
   "execution_count": 7,
   "metadata": {},
   "outputs": [],
   "source": [
    "from sklearn.preprocessing import StandardScaler, OneHotEncoder\n",
    "from sklearn.compose import ColumnTransformer\n",
    "from sklearn.pipeline import Pipeline\n",
    "\n",
    "def create_preprocessor(X):\n",
    "    # Identify categorical and numerical features\n",
    "    categorical_features = X.select_dtypes(include=['category']).columns\n",
    "    numerical_fatures = X.select_dtypes(exclude=['category']).columns\n",
    "\n",
    "    # Create transformers for numerical and categorical features\n",
    "    numeric_transformer = Pipeline(steps=[('scaler', StandardScaler())])\n",
    "    categorical_transformer = Pipeline(steps=[('onehot', OneHotEncoder(handle_unknown='ignore'))])\n",
    "\n",
    "    # Combine transformers into a preprocessor using ColumnTransformer\n",
    "    return ColumnTransformer(\n",
    "        transformers=[\n",
    "            ('num', numeric_transformer, numerical_fatures),\n",
    "            ('cat', categorical_transformer, categorical_features)\n",
    "    ])"
   ]
  },
  {
   "cell_type": "markdown",
   "metadata": {},
   "source": [
    "### Train decision tree model"
   ]
  },
  {
   "cell_type": "code",
   "execution_count": 8,
   "metadata": {},
   "outputs": [
    {
     "name": "stdout",
     "output_type": "stream",
     "text": [
      "Base model accuracy:  0.3670886075949367\n"
     ]
    }
   ],
   "source": [
    "from sklearn.tree import DecisionTreeClassifier\n",
    "\n",
    "train_test = dataset.train_test_split(0.2, random_state=42)\n",
    "train = train_test['train']\n",
    "test = train_test['test']\n",
    "\n",
    "preprocessor = create_preprocessor(train['X'])\n",
    "model = Pipeline(steps=[('preprocessor', preprocessor),\n",
    "                        ('classifier', DecisionTreeClassifier())])\n",
    "\n",
    "model.fit(train['X'], train['y'])\n",
    "\n",
    "print('Base model accuracy: ', model.score(test['X'], test['y']))"
   ]
  },
  {
   "cell_type": "markdown",
   "metadata": {},
   "source": [
    "### Security Metrics"
   ]
  },
  {
   "cell_type": "code",
   "execution_count": 9,
   "metadata": {},
   "outputs": [],
   "source": [
    "from holisticai.utils import BinaryClassificationProxy\n",
    "from holisticai.security.commons import DataMinimizer\n",
    "\n",
    "proxy = BinaryClassificationProxy(predict=model.predict, predict_proba=model.predict_proba, classes=[0, 1])\n",
    "dmin = DataMinimizer(proxy=proxy)\n",
    "dmin.fit(train['X'], train['y'])\n",
    "\n",
    "y_pred_train = proxy.predict(train['X'])\n",
    "y_pred_test = proxy.predict(test['X'])\n",
    "y_pred_test_dm = dmin.predict(test['X'])"
   ]
  },
  {
   "cell_type": "code",
   "execution_count": 10,
   "metadata": {},
   "outputs": [
    {
     "data": {
      "text/plain": [
       "0.7435897435897436"
      ]
     },
     "execution_count": 10,
     "metadata": {},
     "output_type": "execute_result"
    }
   ],
   "source": [
    "from holisticai.security.metrics import data_minimization_score\n",
    "\n",
    "data_minimization_score(test['y'], y_pred_test, y_pred_test_dm)"
   ]
  },
  {
   "cell_type": "code",
   "execution_count": 11,
   "metadata": {},
   "outputs": [
    {
     "ename": "ImportError",
     "evalue": "cannot import name 'attr_attack_score' from 'holisticai.security.metrics' (/home/andrelfnovaes/holisticai/holisticai/src/holisticai/security/metrics/__init__.py)",
     "output_type": "error",
     "traceback": [
      "\u001b[0;31m---------------------------------------------------------------------------\u001b[0m",
      "\u001b[0;31mImportError\u001b[0m                               Traceback (most recent call last)",
      "Cell \u001b[0;32mIn[11], line 1\u001b[0m\n\u001b[0;32m----> 1\u001b[0m \u001b[38;5;28;01mfrom\u001b[39;00m \u001b[38;5;21;01mholisticai\u001b[39;00m\u001b[38;5;21;01m.\u001b[39;00m\u001b[38;5;21;01msecurity\u001b[39;00m\u001b[38;5;21;01m.\u001b[39;00m\u001b[38;5;21;01mmetrics\u001b[39;00m \u001b[38;5;28;01mimport\u001b[39;00m attr_attack_score\n\u001b[1;32m      3\u001b[0m attr_attack_score(train[\u001b[38;5;124m'\u001b[39m\u001b[38;5;124mX\u001b[39m\u001b[38;5;124m'\u001b[39m], test[\u001b[38;5;124m'\u001b[39m\u001b[38;5;124mX\u001b[39m\u001b[38;5;124m'\u001b[39m], train[\u001b[38;5;124m'\u001b[39m\u001b[38;5;124my\u001b[39m\u001b[38;5;124m'\u001b[39m], test[\u001b[38;5;124m'\u001b[39m\u001b[38;5;124my\u001b[39m\u001b[38;5;124m'\u001b[39m], attribute_attack\u001b[38;5;241m=\u001b[39m\u001b[38;5;124m'\u001b[39m\u001b[38;5;124mschool\u001b[39m\u001b[38;5;124m'\u001b[39m)\n",
      "\u001b[0;31mImportError\u001b[0m: cannot import name 'attr_attack_score' from 'holisticai.security.metrics' (/home/andrelfnovaes/holisticai/holisticai/src/holisticai/security/metrics/__init__.py)"
     ]
    }
   ],
   "source": [
    "from holisticai.security.metrics import attr_attack_score\n",
    "\n",
    "attr_attack_score(train['X'], test['X'], train['y'], test['y'], attribute_attack='school')"
   ]
  },
  {
   "cell_type": "code",
   "execution_count": 15,
   "metadata": {},
   "outputs": [
    {
     "data": {
      "text/plain": [
       "0.3670886754989624"
      ]
     },
     "execution_count": 15,
     "metadata": {},
     "output_type": "execute_result"
    }
   ],
   "source": [
    "from holisticai.security.metrics import shapr_score\n",
    "\n",
    "shapr_score(train['y'], test['y'], y_pred_train, y_pred_test)"
   ]
  },
  {
   "cell_type": "code",
   "execution_count": 13,
   "metadata": {},
   "outputs": [
    {
     "data": {
      "text/html": [
       "<div>\n",
       "<style scoped>\n",
       "    .dataframe tbody tr th:only-of-type {\n",
       "        vertical-align: middle;\n",
       "    }\n",
       "\n",
       "    .dataframe tbody tr th {\n",
       "        vertical-align: top;\n",
       "    }\n",
       "\n",
       "    .dataframe thead th {\n",
       "        text-align: right;\n",
       "    }\n",
       "</style>\n",
       "<table border=\"1\" class=\"dataframe\">\n",
       "  <thead>\n",
       "    <tr style=\"text-align: right;\">\n",
       "      <th></th>\n",
       "      <th>metric</th>\n",
       "      <th>value</th>\n",
       "      <th>reference</th>\n",
       "    </tr>\n",
       "  </thead>\n",
       "  <tbody>\n",
       "    <tr>\n",
       "      <th>0</th>\n",
       "      <td>SHAPr</td>\n",
       "      <td>0.367089</td>\n",
       "      <td>0.0</td>\n",
       "    </tr>\n",
       "    <tr>\n",
       "      <th>1</th>\n",
       "      <td>Data Minimization Accuracy Ratio</td>\n",
       "      <td>0.743590</td>\n",
       "      <td>inf</td>\n",
       "    </tr>\n",
       "    <tr>\n",
       "      <th>2</th>\n",
       "      <td>Attribute Attack Score</td>\n",
       "      <td>0.099308</td>\n",
       "      <td>0.0</td>\n",
       "    </tr>\n",
       "  </tbody>\n",
       "</table>\n",
       "</div>"
      ],
      "text/plain": [
       "                             metric     value  reference\n",
       "0                             SHAPr  0.367089        0.0\n",
       "1  Data Minimization Accuracy Ratio  0.743590        inf\n",
       "2            Attribute Attack Score  0.099308        0.0"
      ]
     },
     "execution_count": 13,
     "metadata": {},
     "output_type": "execute_result"
    }
   ],
   "source": [
    "from holisticai.security.metrics import classification_privacy_metrics\n",
    "\n",
    "security_metrics = classification_privacy_metrics(x_train=train['X'], x_test=test['X'], y_train=train['y'], y_test=test['y'], \n",
    "                               y_pred_train=y_pred_train, y_pred_test=y_pred_test, y_pred_test_dm=y_pred_test_dm, \n",
    "                               attribute_attack='school')\n",
    "security_metrics"
   ]
  },
  {
   "cell_type": "code",
   "execution_count": null,
   "metadata": {},
   "outputs": [],
   "source": []
  },
  {
   "cell_type": "code",
   "execution_count": null,
   "metadata": {},
   "outputs": [],
   "source": []
  },
  {
   "cell_type": "code",
   "execution_count": null,
   "metadata": {},
   "outputs": [],
   "source": []
  },
  {
   "cell_type": "code",
   "execution_count": null,
   "metadata": {},
   "outputs": [],
   "source": []
  }
 ],
 "metadata": {
  "kernelspec": {
   "display_name": "Python 3",
   "language": "python",
   "name": "python3"
  },
  "language_info": {
   "codemirror_mode": {
    "name": "ipython",
    "version": 3
   },
   "file_extension": ".py",
   "mimetype": "text/x-python",
   "name": "python",
   "nbconvert_exporter": "python",
   "pygments_lexer": "ipython3",
   "version": "3.10.13"
  }
 },
 "nbformat": 4,
 "nbformat_minor": 2
}
