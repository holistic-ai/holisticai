{
 "cells": [
  {
   "cell_type": "markdown",
   "metadata": {},
   "source": [
    "## Using ML anonymization to defend against attribute inference attacks"
   ]
  },
  {
   "cell_type": "markdown",
   "metadata": {},
   "source": [
    "### Load data"
   ]
  },
  {
   "cell_type": "code",
   "execution_count": 1,
   "metadata": {},
   "outputs": [
    {
     "name": "stdout",
     "output_type": "stream",
     "text": [
      "   age  zip_code disease\n",
      "0    0     11000     Flu\n",
      "1    0     11000    Cold\n",
      "2    0     11000  Cancer\n",
      "3    0     11000     Flu\n",
      "4    0     11000    Cold\n",
      "5    0     11000  Cancer\n",
      "6    0     11000     Flu\n",
      "7    0     11000    Cold\n",
      "8    0     11000  Cancer\n",
      "9    0     11000     Flu\n"
     ]
    }
   ],
   "source": [
    "import pandas as pd\n",
    "import numpy as np\n",
    "\n",
    "def generalize_column(column, generalization_level):\n",
    "    \"\"\"Generalizes a column based on the specified level.\"\"\"\n",
    "    if generalization_level == 0:\n",
    "        return column\n",
    "    else:\n",
    "        generalized_column = column.apply(lambda x: x // (10 ** generalization_level) * (10 ** generalization_level))\n",
    "        return generalized_column\n",
    "\n",
    "def k_anonymize(df, quasi_identifiers, k, generalization_level=1):\n",
    "    \"\"\"\n",
    "    Implements k-anonymity by generalizing the quasi-identifiers in the dataset.\n",
    "    \n",
    "    Parameters:\n",
    "    df (pd.DataFrame): The input dataset.\n",
    "    quasi_identifiers (list): List of column names that are quasi-identifiers.\n",
    "    k (int): The anonymity parameter.\n",
    "    generalization_level (int): The level of generalization to apply. Default is 1.\n",
    "    \n",
    "    Returns:\n",
    "    pd.DataFrame: The k-anonymized dataset.\n",
    "    \"\"\"\n",
    "    # Copy the dataframe to avoid modifying the original data\n",
    "    df_anonymized = df.copy()\n",
    "    \n",
    "    # Generalize each quasi-identifier column\n",
    "    for col in quasi_identifiers:\n",
    "        df_anonymized[col] = generalize_column(df_anonymized[col], generalization_level)\n",
    "    \n",
    "    # Check if the dataset satisfies k-anonymity\n",
    "    while True:\n",
    "        # Group by quasi-identifiers and count the sizes of each group\n",
    "        group_sizes = df_anonymized.groupby(quasi_identifiers).size()\n",
    "        \n",
    "        # Find groups that do not satisfy k-anonymity\n",
    "        non_k_anonymous_groups = group_sizes[group_sizes < k]\n",
    "        \n",
    "        if non_k_anonymous_groups.empty:\n",
    "            # All groups satisfy k-anonymity\n",
    "            break\n",
    "        else:\n",
    "            # Increase the generalization level and apply generalization again\n",
    "            generalization_level += 1\n",
    "            for col in quasi_identifiers:\n",
    "                df_anonymized[col] = generalize_column(df[col], generalization_level)\n",
    "    \n",
    "    return df_anonymized\n",
    "\n",
    "# Example usage\n",
    "data = {\n",
    "    'age': [23, 25, 35, 45, 52, 33, 34, 25, 40, 23],\n",
    "    'zip_code': [11001, 11002, 11003, 11004, 11005, 11001, 11002, 11003, 11004, 11005],\n",
    "    'disease': ['Flu', 'Cold', 'Cancer', 'Flu', 'Cold', 'Cancer', 'Flu', 'Cold', 'Cancer', 'Flu']\n",
    "}\n",
    "df = pd.DataFrame(data)\n",
    "\n",
    "quasi_identifiers = ['age', 'zip_code']\n",
    "k = 2\n",
    "\n",
    "df_k_anonymized = k_anonymize(df, quasi_identifiers, k)\n",
    "print(df_k_anonymized)"
   ]
  },
  {
   "cell_type": "code",
   "execution_count": 2,
   "metadata": {},
   "outputs": [
    {
     "data": {
      "text/html": [
       "<div>\n",
       "<style scoped>\n",
       "    .dataframe tbody tr th:only-of-type {\n",
       "        vertical-align: middle;\n",
       "    }\n",
       "\n",
       "    .dataframe tbody tr th {\n",
       "        vertical-align: top;\n",
       "    }\n",
       "\n",
       "    .dataframe thead th {\n",
       "        text-align: right;\n",
       "    }\n",
       "</style>\n",
       "<table border=\"1\" class=\"dataframe\">\n",
       "  <thead>\n",
       "    <tr style=\"text-align: right;\">\n",
       "      <th></th>\n",
       "      <th>age</th>\n",
       "      <th>zip_code</th>\n",
       "      <th>disease</th>\n",
       "    </tr>\n",
       "  </thead>\n",
       "  <tbody>\n",
       "    <tr>\n",
       "      <th>0</th>\n",
       "      <td>0</td>\n",
       "      <td>11000</td>\n",
       "      <td>Flu</td>\n",
       "    </tr>\n",
       "    <tr>\n",
       "      <th>1</th>\n",
       "      <td>0</td>\n",
       "      <td>11000</td>\n",
       "      <td>Cold</td>\n",
       "    </tr>\n",
       "    <tr>\n",
       "      <th>2</th>\n",
       "      <td>0</td>\n",
       "      <td>11000</td>\n",
       "      <td>Cancer</td>\n",
       "    </tr>\n",
       "    <tr>\n",
       "      <th>3</th>\n",
       "      <td>0</td>\n",
       "      <td>11000</td>\n",
       "      <td>Flu</td>\n",
       "    </tr>\n",
       "    <tr>\n",
       "      <th>4</th>\n",
       "      <td>0</td>\n",
       "      <td>11000</td>\n",
       "      <td>Cold</td>\n",
       "    </tr>\n",
       "    <tr>\n",
       "      <th>5</th>\n",
       "      <td>0</td>\n",
       "      <td>11000</td>\n",
       "      <td>Cancer</td>\n",
       "    </tr>\n",
       "    <tr>\n",
       "      <th>6</th>\n",
       "      <td>0</td>\n",
       "      <td>11000</td>\n",
       "      <td>Flu</td>\n",
       "    </tr>\n",
       "    <tr>\n",
       "      <th>7</th>\n",
       "      <td>0</td>\n",
       "      <td>11000</td>\n",
       "      <td>Cold</td>\n",
       "    </tr>\n",
       "    <tr>\n",
       "      <th>8</th>\n",
       "      <td>0</td>\n",
       "      <td>11000</td>\n",
       "      <td>Cancer</td>\n",
       "    </tr>\n",
       "    <tr>\n",
       "      <th>9</th>\n",
       "      <td>0</td>\n",
       "      <td>11000</td>\n",
       "      <td>Flu</td>\n",
       "    </tr>\n",
       "  </tbody>\n",
       "</table>\n",
       "</div>"
      ],
      "text/plain": [
       "   age  zip_code disease\n",
       "0    0     11000     Flu\n",
       "1    0     11000    Cold\n",
       "2    0     11000  Cancer\n",
       "3    0     11000     Flu\n",
       "4    0     11000    Cold\n",
       "5    0     11000  Cancer\n",
       "6    0     11000     Flu\n",
       "7    0     11000    Cold\n",
       "8    0     11000  Cancer\n",
       "9    0     11000     Flu"
      ]
     },
     "execution_count": 2,
     "metadata": {},
     "output_type": "execute_result"
    }
   ],
   "source": [
    "df_k_anonymized"
   ]
  },
  {
   "cell_type": "code",
   "execution_count": 1,
   "metadata": {},
   "outputs": [],
   "source": [
    "import os\n",
    "os.environ[\"JAX_PLATFORM_NAME\"] = \"cpu\""
   ]
  },
  {
   "cell_type": "code",
   "execution_count": 2,
   "metadata": {},
   "outputs": [],
   "source": [
    "import pandas as pd\n",
    "import numpy as np\n",
    "from sklearn.metrics import accuracy_score\n",
    "\n",
    "import warnings\n",
    "warnings.filterwarnings(\"ignore\")\n"
   ]
  },
  {
   "cell_type": "markdown",
   "metadata": {},
   "source": [
    "#### First of all, we need to import the required packages to perform our privacy analysis and mitigation. You will need to have the `holisticai` package installed on your system, remember that you can install it by running: \n",
    "```bash\n",
    "!pip install holisticai[all]\n",
    "```"
   ]
  },
  {
   "cell_type": "code",
   "execution_count": 3,
   "metadata": {},
   "outputs": [
    {
     "data": {
      "text/html": [
       "\n",
       "    <style>\n",
       "        .generic-object-container {\n",
       "    padding: 1px;\n",
       "    margin: 1px;\n",
       "}\n",
       ".generic-object-content {\n",
       "    background-color: #fff;\n",
       "    border: 1px solid #ddd;\n",
       "    border-radius: 5px;\n",
       "    padding: 0px;\n",
       "    margin: 10px;\n",
       "    text-align: left;\n",
       "    font-family: Arial, sans-serif;\n",
       "    font-size: 11px;\n",
       "    color: #333;\n",
       "    display: inline-block;\n",
       "    box-shadow: 1px 1px 3px rgba(0, 0, 0, 0.1);\n",
       "}\n",
       ".generic-object-header {\n",
       "    background-color: #e0e0e0;\n",
       "    color: #000;\n",
       "    font-size: 12px;\n",
       "    padding: 10px 150px 10px 20px;\n",
       "    margin: 0px;\n",
       "    text-align: left;\n",
       "    border-bottom: 1px solid #ccc;\n",
       "    border-radius: 5px 5px 0 0;\n",
       "    font-weight: bold;\n",
       "}\n",
       ".generic-object-body {\n",
       "    padding: 5px 10px 5px 10px;\n",
       "}\n",
       ".attribute-list {\n",
       "    margin: 2px 0;\n",
       "    padding: 2px;\n",
       "}\n",
       "    </style>\n",
       "    <div class=\"generic-object-container\">\n",
       "        <div class=\"generic-object-content\">\n",
       "            <div class=\"generic-object-header\">DATASET</div>\n",
       "            <div class=\"generic-object-body\">\n",
       "                <div class=\"attribute-list\">- Number of Rows: 45222</div><div class=\"attribute-list\">- Features: X , y , s</div>\n",
       "                \n",
       "            </div>\n",
       "        </div>\n",
       "    </div>\n",
       "    "
      ],
      "text/plain": [
       "Dataset({\n",
       "        features: ['X', 'y', 's'],\n",
       "        num_rows: 45222\n",
       "    })"
      ]
     },
     "execution_count": 3,
     "metadata": {},
     "output_type": "execute_result"
    }
   ],
   "source": [
    "from holisticai.datasets import load_dataset\n",
    "\n",
    "dataset = load_dataset('adult', preprocessed=False)\n",
    "dataset"
   ]
  },
  {
   "cell_type": "markdown",
   "metadata": {},
   "source": [
    "### Computing k-Anonymity metric "
   ]
  },
  {
   "cell_type": "code",
   "execution_count": 4,
   "metadata": {},
   "outputs": [
    {
     "data": {
      "text/plain": [
       "education     marital-status      age\n",
       "Some-college  Never-married       20     467\n",
       "                                  21     429\n",
       "                                  19     365\n",
       "                                  22     344\n",
       "HS-grad       Never-married       19     324\n",
       "Some-college  Never-married       23     317\n",
       "HS-grad       Never-married       21     286\n",
       "                                  20     280\n",
       "                                  22     261\n",
       "                                  23     260\n",
       "Bachelors     Never-married       23     251\n",
       "HS-grad       Married-civ-spouse  33     239\n",
       "Bachelors     Never-married       24     238\n",
       "HS-grad       Married-civ-spouse  35     238\n",
       "                                  36     235\n",
       "Name: count, dtype: int64"
      ]
     },
     "execution_count": 4,
     "metadata": {},
     "output_type": "execute_result"
    }
   ],
   "source": [
    "from holisticai.security.metrics import k_anonymity\n",
    "\n",
    "df = dataset[['X','y','s']]\n",
    "\n",
    "QI = ['education', 'marital-status', 'age']\n",
    "\n",
    "k_anon = k_anonymity(df, qi=QI)\n",
    "\n",
    "k_anon.head(15)\n"
   ]
  },
  {
   "cell_type": "markdown",
   "metadata": {},
   "source": [
    "### Computing l-Diversity metric"
   ]
  },
  {
   "cell_type": "code",
   "execution_count": 5,
   "metadata": {},
   "outputs": [
    {
     "data": {
      "text/plain": [
       "[1,\n",
       " 1,\n",
       " 1,\n",
       " 1,\n",
       " 1,\n",
       " 1,\n",
       " 1,\n",
       " 2,\n",
       " 2,\n",
       " 2,\n",
       " 2,\n",
       " 2,\n",
       " 2,\n",
       " 2,\n",
       " 2,\n",
       " 2,\n",
       " 2,\n",
       " 2,\n",
       " 2,\n",
       " 2,\n",
       " 2,\n",
       " 2,\n",
       " 3,\n",
       " 3,\n",
       " 3,\n",
       " 3,\n",
       " 3,\n",
       " 3,\n",
       " 3,\n",
       " 3,\n",
       " 3,\n",
       " 3,\n",
       " 3,\n",
       " 3,\n",
       " 3,\n",
       " 3,\n",
       " 3,\n",
       " 3,\n",
       " 3,\n",
       " 3,\n",
       " 4,\n",
       " 4,\n",
       " 4,\n",
       " 4,\n",
       " 4,\n",
       " 4,\n",
       " 4,\n",
       " 4,\n",
       " 4,\n",
       " 4,\n",
       " 4,\n",
       " 4,\n",
       " 4,\n",
       " 4,\n",
       " 4,\n",
       " 4,\n",
       " 4,\n",
       " 4,\n",
       " 4,\n",
       " 4,\n",
       " 4,\n",
       " 4,\n",
       " 4,\n",
       " 4,\n",
       " 4,\n",
       " 4,\n",
       " 4,\n",
       " 4,\n",
       " 4,\n",
       " 5,\n",
       " 5,\n",
       " 5,\n",
       " 5,\n",
       " 5,\n",
       " 5,\n",
       " 5,\n",
       " 5,\n",
       " 5,\n",
       " 5,\n",
       " 5,\n",
       " 5,\n",
       " 5,\n",
       " 5,\n",
       " 5,\n",
       " 5,\n",
       " 5,\n",
       " 5,\n",
       " 5,\n",
       " 5,\n",
       " 5,\n",
       " 5,\n",
       " 5,\n",
       " 5,\n",
       " 5,\n",
       " 5,\n",
       " 5,\n",
       " 5,\n",
       " 5,\n",
       " 5,\n",
       " 5,\n",
       " 5,\n",
       " 5,\n",
       " 5,\n",
       " 5]"
      ]
     },
     "execution_count": 5,
     "metadata": {},
     "output_type": "execute_result"
    }
   ],
   "source": [
    "from holisticai.security.metrics import l_diversity\n",
    "\n",
    "QI = ['education', 'marital-status']\n",
    "sensitive_attribute = ['race']\n",
    "\n",
    "l_div = l_diversity(df, qi=QI, sa=sensitive_attribute)\n",
    "\n",
    "l_div['race']"
   ]
  },
  {
   "cell_type": "markdown",
   "metadata": {},
   "source": [
    "### Preparing dataset "
   ]
  },
  {
   "cell_type": "code",
   "execution_count": 6,
   "metadata": {},
   "outputs": [],
   "source": [
    "from sklearn.preprocessing import StandardScaler, OneHotEncoder\n",
    "from sklearn.compose import ColumnTransformer\n",
    "from sklearn.pipeline import Pipeline\n",
    "\n",
    "def create_preprocessor(X):\n",
    "    # Identify categorical and numerical features\n",
    "    categorical_features = X.select_dtypes(include=['category']).columns\n",
    "    numerical_fatures = X.select_dtypes(exclude=['category']).columns\n",
    "\n",
    "    # Create transformers for numerical and categorical features\n",
    "    numeric_transformer = Pipeline(steps=[('scaler', StandardScaler())])\n",
    "    categorical_transformer = Pipeline(steps=[('onehot', OneHotEncoder(handle_unknown='ignore'))])\n",
    "\n",
    "    # Combine transformers into a preprocessor using ColumnTransformer\n",
    "    return ColumnTransformer(\n",
    "        transformers=[\n",
    "            ('num', numeric_transformer, numerical_fatures),\n",
    "            ('cat', categorical_transformer, categorical_features)\n",
    "    ])"
   ]
  },
  {
   "cell_type": "markdown",
   "metadata": {},
   "source": [
    "### Train decision tree model"
   ]
  },
  {
   "cell_type": "code",
   "execution_count": 7,
   "metadata": {},
   "outputs": [
    {
     "name": "stdout",
     "output_type": "stream",
     "text": [
      "Base model accuracy:  0.8121614151464898\n"
     ]
    }
   ],
   "source": [
    "from sklearn.tree import DecisionTreeClassifier\n",
    "\n",
    "train_test = dataset.train_test_split(0.2, random_state=42)\n",
    "train = train_test['train']\n",
    "test = train_test['test']\n",
    "\n",
    "preprocessor = create_preprocessor(train['X'])\n",
    "model = Pipeline(steps=[('preprocessor', preprocessor),\n",
    "                        ('classifier', DecisionTreeClassifier())])\n",
    "\n",
    "model.fit(train['X'], train['y'])\n",
    "\n",
    "print('Base model accuracy: ', model.score(test['X'], test['y']))"
   ]
  },
  {
   "cell_type": "markdown",
   "metadata": {},
   "source": [
    "### Security Metrics"
   ]
  },
  {
   "cell_type": "code",
   "execution_count": 8,
   "metadata": {},
   "outputs": [],
   "source": [
    "from holisticai.utils import BinaryClassificationProxy\n",
    "from holisticai.security.commons import DataMinimizer\n",
    "\n",
    "proxy = BinaryClassificationProxy(predict=model.predict, predict_proba=model.predict_proba, classes=[0, 1])\n",
    "dmin = DataMinimizer(proxy=proxy)\n",
    "dmin.fit(train['X'], train['y'])\n",
    "\n",
    "y_pred_train = proxy.predict(train['X'])\n",
    "y_pred_test = proxy.predict(test['X'])\n",
    "y_pred_test_dm = dmin.predict(test['X'])"
   ]
  },
  {
   "cell_type": "code",
   "execution_count": 9,
   "metadata": {},
   "outputs": [
    {
     "data": {
      "text/plain": [
       "1.0107319757842599"
      ]
     },
     "execution_count": 9,
     "metadata": {},
     "output_type": "execute_result"
    }
   ],
   "source": [
    "from holisticai.security.metrics import data_minimization_score\n",
    "\n",
    "data_minimization_score(test['y'], y_pred_test, y_pred_test_dm)"
   ]
  },
  {
   "cell_type": "code",
   "execution_count": 13,
   "metadata": {},
   "outputs": [
    {
     "data": {
      "text/html": [
       "<div>\n",
       "<style scoped>\n",
       "    .dataframe tbody tr th:only-of-type {\n",
       "        vertical-align: middle;\n",
       "    }\n",
       "\n",
       "    .dataframe tbody tr th {\n",
       "        vertical-align: top;\n",
       "    }\n",
       "\n",
       "    .dataframe thead th {\n",
       "        text-align: right;\n",
       "    }\n",
       "</style>\n",
       "<table border=\"1\" class=\"dataframe\">\n",
       "  <thead>\n",
       "    <tr style=\"text-align: right;\">\n",
       "      <th></th>\n",
       "      <th>Selection Type</th>\n",
       "      <th>Modifier Type</th>\n",
       "      <th>N_feats</th>\n",
       "      <th>Feats</th>\n",
       "      <th>Score</th>\n",
       "      <th>Accuracy</th>\n",
       "    </tr>\n",
       "  </thead>\n",
       "  <tbody>\n",
       "    <tr>\n",
       "      <th>0</th>\n",
       "      <td>Percentile &gt;80</td>\n",
       "      <td>Average</td>\n",
       "      <td>1</td>\n",
       "      <td>[capital-loss]</td>\n",
       "      <td>1.010732</td>\n",
       "      <td>0.803538</td>\n",
       "    </tr>\n",
       "    <tr>\n",
       "      <th>1</th>\n",
       "      <td>Percentile &gt;80</td>\n",
       "      <td>Permutation</td>\n",
       "      <td>8</td>\n",
       "      <td>[workclass, fnlwgt, education, marital-status,...</td>\n",
       "      <td>1.227197</td>\n",
       "      <td>0.661802</td>\n",
       "    </tr>\n",
       "    <tr>\n",
       "      <th>2</th>\n",
       "      <td>Percentile &gt;90</td>\n",
       "      <td>Average</td>\n",
       "      <td>1</td>\n",
       "      <td>[capital-loss]</td>\n",
       "      <td>1.010732</td>\n",
       "      <td>0.803538</td>\n",
       "    </tr>\n",
       "    <tr>\n",
       "      <th>3</th>\n",
       "      <td>Percentile &gt;90</td>\n",
       "      <td>Permutation</td>\n",
       "      <td>8</td>\n",
       "      <td>[workclass, fnlwgt, education, marital-status,...</td>\n",
       "      <td>1.228017</td>\n",
       "      <td>0.661360</td>\n",
       "    </tr>\n",
       "    <tr>\n",
       "      <th>4</th>\n",
       "      <td>Variance &gt;80</td>\n",
       "      <td>Permutation</td>\n",
       "      <td>7</td>\n",
       "      <td>[workclass, fnlwgt, education, marital-status,...</td>\n",
       "      <td>1.117942</td>\n",
       "      <td>0.726479</td>\n",
       "    </tr>\n",
       "    <tr>\n",
       "      <th>5</th>\n",
       "      <td>Variance &gt;90</td>\n",
       "      <td>Permutation</td>\n",
       "      <td>7</td>\n",
       "      <td>[workclass, fnlwgt, education, marital-status,...</td>\n",
       "      <td>1.112356</td>\n",
       "      <td>0.730127</td>\n",
       "    </tr>\n",
       "    <tr>\n",
       "      <th>6</th>\n",
       "      <td>FImportance &gt;80</td>\n",
       "      <td>Average</td>\n",
       "      <td>4</td>\n",
       "      <td>[age, capital-gain, capital-loss, hours-per-week]</td>\n",
       "      <td>1.121356</td>\n",
       "      <td>0.724268</td>\n",
       "    </tr>\n",
       "    <tr>\n",
       "      <th>7</th>\n",
       "      <td>FImportance &gt;80</td>\n",
       "      <td>Permutation</td>\n",
       "      <td>11</td>\n",
       "      <td>[age, workclass, fnlwgt, education, marital-st...</td>\n",
       "      <td>1.468906</td>\n",
       "      <td>0.552902</td>\n",
       "    </tr>\n",
       "    <tr>\n",
       "      <th>8</th>\n",
       "      <td>FImportance &gt;90</td>\n",
       "      <td>Average</td>\n",
       "      <td>4</td>\n",
       "      <td>[age, capital-gain, capital-loss, hours-per-week]</td>\n",
       "      <td>1.121356</td>\n",
       "      <td>0.724268</td>\n",
       "    </tr>\n",
       "    <tr>\n",
       "      <th>9</th>\n",
       "      <td>FImportance &gt;90</td>\n",
       "      <td>Permutation</td>\n",
       "      <td>11</td>\n",
       "      <td>[age, workclass, fnlwgt, education, marital-st...</td>\n",
       "      <td>1.479855</td>\n",
       "      <td>0.548811</td>\n",
       "    </tr>\n",
       "    <tr>\n",
       "      <th>10</th>\n",
       "      <td>Base</td>\n",
       "      <td>Base</td>\n",
       "      <td>0</td>\n",
       "      <td>[]</td>\n",
       "      <td>1.000000</td>\n",
       "      <td>0.812161</td>\n",
       "    </tr>\n",
       "  </tbody>\n",
       "</table>\n",
       "</div>"
      ],
      "text/plain": [
       "     Selection Type Modifier Type  N_feats  \\\n",
       "0    Percentile >80       Average        1   \n",
       "1    Percentile >80   Permutation        8   \n",
       "2    Percentile >90       Average        1   \n",
       "3    Percentile >90   Permutation        8   \n",
       "4      Variance >80   Permutation        7   \n",
       "5      Variance >90   Permutation        7   \n",
       "6   FImportance >80       Average        4   \n",
       "7   FImportance >80   Permutation       11   \n",
       "8   FImportance >90       Average        4   \n",
       "9   FImportance >90   Permutation       11   \n",
       "10             Base          Base        0   \n",
       "\n",
       "                                                Feats     Score  Accuracy  \n",
       "0                                      [capital-loss]  1.010732  0.803538  \n",
       "1   [workclass, fnlwgt, education, marital-status,...  1.227197  0.661802  \n",
       "2                                      [capital-loss]  1.010732  0.803538  \n",
       "3   [workclass, fnlwgt, education, marital-status,...  1.228017  0.661360  \n",
       "4   [workclass, fnlwgt, education, marital-status,...  1.117942  0.726479  \n",
       "5   [workclass, fnlwgt, education, marital-status,...  1.112356  0.730127  \n",
       "6   [age, capital-gain, capital-loss, hours-per-week]  1.121356  0.724268  \n",
       "7   [age, workclass, fnlwgt, education, marital-st...  1.468906  0.552902  \n",
       "8   [age, capital-gain, capital-loss, hours-per-week]  1.121356  0.724268  \n",
       "9   [age, workclass, fnlwgt, education, marital-st...  1.479855  0.548811  \n",
       "10                                                 []  1.000000  0.812161  "
      ]
     },
     "execution_count": 13,
     "metadata": {},
     "output_type": "execute_result"
    }
   ],
   "source": [
    "# Detailed\n",
    "results, metric = data_minimization_score(test['y'], y_pred_test, y_pred_test_dm, return_results=True)\n",
    "results"
   ]
  },
  {
   "cell_type": "code",
   "execution_count": 10,
   "metadata": {},
   "outputs": [
    {
     "data": {
      "text/plain": [
       "0.40552791597567717"
      ]
     },
     "execution_count": 10,
     "metadata": {},
     "output_type": "execute_result"
    }
   ],
   "source": [
    "from holisticai.security.metrics import attribute_attack_score\n",
    "\n",
    "attribute_attack_score(train['X'], test['X'], train['y'], test['y'], attribute_attack='education')"
   ]
  },
  {
   "cell_type": "code",
   "execution_count": 11,
   "metadata": {},
   "outputs": [
    {
     "data": {
      "text/plain": [
       "0.812161386013031"
      ]
     },
     "execution_count": 11,
     "metadata": {},
     "output_type": "execute_result"
    }
   ],
   "source": [
    "from holisticai.security.metrics import shapr_score\n",
    "\n",
    "shapr_score(train['y'], test['y'], y_pred_train, y_pred_test)"
   ]
  },
  {
   "cell_type": "code",
   "execution_count": 12,
   "metadata": {},
   "outputs": [
    {
     "data": {
      "text/html": [
       "<div>\n",
       "<style scoped>\n",
       "    .dataframe tbody tr th:only-of-type {\n",
       "        vertical-align: middle;\n",
       "    }\n",
       "\n",
       "    .dataframe tbody tr th {\n",
       "        vertical-align: top;\n",
       "    }\n",
       "\n",
       "    .dataframe thead th {\n",
       "        text-align: right;\n",
       "    }\n",
       "</style>\n",
       "<table border=\"1\" class=\"dataframe\">\n",
       "  <thead>\n",
       "    <tr style=\"text-align: right;\">\n",
       "      <th></th>\n",
       "      <th>metric</th>\n",
       "      <th>value</th>\n",
       "      <th>reference</th>\n",
       "    </tr>\n",
       "  </thead>\n",
       "  <tbody>\n",
       "    <tr>\n",
       "      <th>0</th>\n",
       "      <td>SHAPr</td>\n",
       "      <td>0.812161</td>\n",
       "      <td>0.0</td>\n",
       "    </tr>\n",
       "    <tr>\n",
       "      <th>1</th>\n",
       "      <td>Data Minimization Accuracy Ratio</td>\n",
       "      <td>1.010732</td>\n",
       "      <td>inf</td>\n",
       "    </tr>\n",
       "    <tr>\n",
       "      <th>2</th>\n",
       "      <td>Attribute Attack Score</td>\n",
       "      <td>0.405528</td>\n",
       "      <td>0.0</td>\n",
       "    </tr>\n",
       "  </tbody>\n",
       "</table>\n",
       "</div>"
      ],
      "text/plain": [
       "                             metric     value  reference\n",
       "0                             SHAPr  0.812161        0.0\n",
       "1  Data Minimization Accuracy Ratio  1.010732        inf\n",
       "2            Attribute Attack Score  0.405528        0.0"
      ]
     },
     "execution_count": 12,
     "metadata": {},
     "output_type": "execute_result"
    }
   ],
   "source": [
    "from holisticai.security.metrics import classification_privacy_metrics\n",
    "\n",
    "security_metrics = classification_privacy_metrics(x_train=train['X'], x_test=test['X'], y_train=train['y'], y_test=test['y'], \n",
    "                               y_pred_train=y_pred_train, y_pred_test=y_pred_test, y_pred_test_dm=y_pred_test_dm, \n",
    "                               attribute_attack='education')\n",
    "security_metrics"
   ]
  }
 ],
 "metadata": {
  "kernelspec": {
   "display_name": "Python 3",
   "language": "python",
   "name": "python3"
  },
  "language_info": {
   "codemirror_mode": {
    "name": "ipython",
    "version": 3
   },
   "file_extension": ".py",
   "mimetype": "text/x-python",
   "name": "python",
   "nbconvert_exporter": "python",
   "pygments_lexer": "ipython3",
   "version": "3.11.9"
  }
 },
 "nbformat": 4,
 "nbformat_minor": 2
}
