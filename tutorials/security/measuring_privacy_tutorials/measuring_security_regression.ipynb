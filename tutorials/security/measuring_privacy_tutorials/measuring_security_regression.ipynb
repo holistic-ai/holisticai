{
 "cells": [
  {
   "cell_type": "markdown",
   "metadata": {},
   "source": [
    "## Using ML anonymization to defend against attribute inference attacks"
   ]
  },
  {
   "cell_type": "markdown",
   "metadata": {},
   "source": [
    "### Load data"
   ]
  },
  {
   "cell_type": "code",
   "execution_count": 1,
   "metadata": {},
   "outputs": [],
   "source": [
    "import os\n",
    "os.environ[\"JAX_PLATFORM_NAME\"] = \"cpu\""
   ]
  },
  {
   "cell_type": "code",
   "execution_count": 2,
   "metadata": {},
   "outputs": [],
   "source": [
    "import pandas as pd\n",
    "import numpy as np\n",
    "from sklearn.metrics import root_mean_squared_error\n",
    "\n",
    "import warnings\n",
    "warnings.filterwarnings(\"ignore\")\n"
   ]
  },
  {
   "cell_type": "markdown",
   "metadata": {},
   "source": [
    "#### First of all, we need to import the required packages to perform our privacy analysis and mitigation. You will need to have the `holisticai` package installed on your system, remember that you can install it by running: \n",
    "```bash\n",
    "!pip install holisticai[all]\n",
    "```"
   ]
  },
  {
   "cell_type": "code",
   "execution_count": 3,
   "metadata": {},
   "outputs": [
    {
     "data": {
      "text/html": [
       "\n",
       "    <style>\n",
       "        .generic-object-container {\n",
       "    padding: 1px;\n",
       "    margin: 1px;\n",
       "}\n",
       ".generic-object-content {\n",
       "    background-color: #fff;\n",
       "    border: 1px solid #ddd;\n",
       "    border-radius: 5px;\n",
       "    padding: 0px;\n",
       "    margin: 10px;\n",
       "    text-align: left;\n",
       "    font-family: Arial, sans-serif;\n",
       "    font-size: 11px;\n",
       "    color: #333;\n",
       "    display: inline-block;\n",
       "    box-shadow: 1px 1px 3px rgba(0, 0, 0, 0.1);\n",
       "}\n",
       ".generic-object-header {\n",
       "    background-color: #e0e0e0;\n",
       "    color: #000;\n",
       "    font-size: 12px;\n",
       "    padding: 10px 150px 10px 20px;\n",
       "    margin: 0px;\n",
       "    text-align: left;\n",
       "    border-bottom: 1px solid #ccc;\n",
       "    border-radius: 5px 5px 0 0;\n",
       "    font-weight: bold;\n",
       "}\n",
       ".generic-object-body {\n",
       "    padding: 5px 10px 5px 10px;\n",
       "}\n",
       ".attribute-list {\n",
       "    margin: 2px 0;\n",
       "    padding: 2px;\n",
       "}\n",
       "    </style>\n",
       "    <div class=\"generic-object-container\">\n",
       "        <div class=\"generic-object-content\">\n",
       "            <div class=\"generic-object-header\">DATASET</div>\n",
       "            <div class=\"generic-object-body\">\n",
       "                <div class=\"attribute-list\">- Number of Rows: 395</div><div class=\"attribute-list\">- Features: X , y , s</div>\n",
       "                \n",
       "            </div>\n",
       "        </div>\n",
       "    </div>\n",
       "    "
      ],
      "text/plain": [
       "Dataset({\n",
       "        features: ['X', 'y', 's'],\n",
       "        num_rows: 395\n",
       "    })"
      ]
     },
     "execution_count": 3,
     "metadata": {},
     "output_type": "execute_result"
    }
   ],
   "source": [
    "from holisticai.datasets import load_dataset\n",
    "\n",
    "dataset = load_dataset('student', preprocessed=False)\n",
    "dataset"
   ]
  },
  {
   "cell_type": "markdown",
   "metadata": {},
   "source": [
    "### Preparing dataset "
   ]
  },
  {
   "cell_type": "code",
   "execution_count": 4,
   "metadata": {},
   "outputs": [],
   "source": [
    "from sklearn.preprocessing import StandardScaler, OneHotEncoder\n",
    "from sklearn.compose import ColumnTransformer\n",
    "from sklearn.pipeline import Pipeline\n",
    "\n",
    "def create_preprocessor(X):\n",
    "    # Identify categorical and numerical features\n",
    "    categorical_features = X.select_dtypes(include=['category']).columns\n",
    "    numerical_fatures = X.select_dtypes(exclude=['category']).columns\n",
    "\n",
    "    # Create transformers for numerical and categorical features\n",
    "    numeric_transformer = Pipeline(steps=[('scaler', StandardScaler())])\n",
    "    categorical_transformer = Pipeline(steps=[('onehot', OneHotEncoder(handle_unknown='ignore'))])\n",
    "\n",
    "    # Combine transformers into a preprocessor using ColumnTransformer\n",
    "    return ColumnTransformer(\n",
    "        transformers=[\n",
    "            ('num', numeric_transformer, numerical_fatures),\n",
    "            ('cat', categorical_transformer, categorical_features)\n",
    "    ])"
   ]
  },
  {
   "cell_type": "markdown",
   "metadata": {},
   "source": [
    "### Train decision tree model"
   ]
  },
  {
   "cell_type": "code",
   "execution_count": 5,
   "metadata": {},
   "outputs": [
    {
     "name": "stdout",
     "output_type": "stream",
     "text": [
      "Base model score:  24.89873417721519\n"
     ]
    }
   ],
   "source": [
    "from sklearn.tree import DecisionTreeRegressor\n",
    "from sklearn.metrics import mean_squared_error\n",
    "\n",
    "train_test = dataset.train_test_split(0.2, random_state=42)\n",
    "train = train_test['train']\n",
    "test = train_test['test']\n",
    "\n",
    "preprocessor = create_preprocessor(train['X'])\n",
    "model = Pipeline(steps=[('preprocessor', preprocessor),\n",
    "                        ('classifier', DecisionTreeRegressor())])\n",
    "\n",
    "model.fit(train['X'], train['y'])\n",
    "\n",
    "print('Base model score: ', mean_squared_error(test['y'], model.predict(test['X'])))"
   ]
  },
  {
   "cell_type": "markdown",
   "metadata": {},
   "source": [
    "### Security Metrics"
   ]
  },
  {
   "cell_type": "code",
   "execution_count": 6,
   "metadata": {},
   "outputs": [],
   "source": [
    "from holisticai.utils import RegressionProxy\n",
    "from holisticai.security.commons import DataMinimizer\n",
    "\n",
    "proxy = RegressionProxy(predict=model.predict)\n",
    "dmin = DataMinimizer(proxy=proxy)\n",
    "dmin.fit(train['X'], train['y'])\n",
    "\n",
    "y_pred_train = proxy.predict(train['X'])\n",
    "y_pred_test = proxy.predict(test['X'])\n",
    "y_pred_test_dm = dmin.predict(test['X'])"
   ]
  },
  {
   "cell_type": "code",
   "execution_count": 7,
   "metadata": {},
   "outputs": [
    {
     "data": {
      "text/plain": [
       "0.5321969696969697"
      ]
     },
     "execution_count": 7,
     "metadata": {},
     "output_type": "execute_result"
    }
   ],
   "source": [
    "from holisticai.security.metrics import data_minimization_score\n",
    "\n",
    "data_minimization_score(test['y'], y_pred_test, y_pred_test_dm)"
   ]
  },
  {
   "cell_type": "code",
   "execution_count": 8,
   "metadata": {},
   "outputs": [
    {
     "data": {
      "text/plain": [
       "0.5822784810126582"
      ]
     },
     "execution_count": 8,
     "metadata": {},
     "output_type": "execute_result"
    }
   ],
   "source": [
    "from holisticai.security.metrics import attribute_attack_score\n",
    "\n",
    "attribute_attack_score(train['X'], test['X'], train['y'], test['y'], attribute_attack='guardian')"
   ]
  },
  {
   "cell_type": "code",
   "execution_count": 11,
   "metadata": {},
   "outputs": [
    {
     "data": {
      "text/html": [
       "<div>\n",
       "<style scoped>\n",
       "    .dataframe tbody tr th:only-of-type {\n",
       "        vertical-align: middle;\n",
       "    }\n",
       "\n",
       "    .dataframe tbody tr th {\n",
       "        vertical-align: top;\n",
       "    }\n",
       "\n",
       "    .dataframe thead th {\n",
       "        text-align: right;\n",
       "    }\n",
       "</style>\n",
       "<table border=\"1\" class=\"dataframe\">\n",
       "  <thead>\n",
       "    <tr style=\"text-align: right;\">\n",
       "      <th></th>\n",
       "      <th>metric</th>\n",
       "      <th>value</th>\n",
       "      <th>reference</th>\n",
       "    </tr>\n",
       "  </thead>\n",
       "  <tbody>\n",
       "    <tr>\n",
       "      <th>0</th>\n",
       "      <td>Data Minimization MSE Ratio</td>\n",
       "      <td>0.532197</td>\n",
       "      <td>0</td>\n",
       "    </tr>\n",
       "    <tr>\n",
       "      <th>1</th>\n",
       "      <td>Attribute Attack Accuracy Score</td>\n",
       "      <td>0.582278</td>\n",
       "      <td>0</td>\n",
       "    </tr>\n",
       "  </tbody>\n",
       "</table>\n",
       "</div>"
      ],
      "text/plain": [
       "                            metric     value  reference\n",
       "0      Data Minimization MSE Ratio  0.532197          0\n",
       "1  Attribute Attack Accuracy Score  0.582278          0"
      ]
     },
     "execution_count": 11,
     "metadata": {},
     "output_type": "execute_result"
    }
   ],
   "source": [
    "from holisticai.security.metrics import regression_privacy_metrics\n",
    "\n",
    "security_metrics = regression_privacy_metrics(x_train=train['X'], x_test=test['X'], y_train=train['y'], y_test=test['y'], \n",
    "                                              y_pred_test=y_pred_test, y_pred_test_dm=y_pred_test_dm, \n",
    "                                              attribute_attack='guardian')\n",
    "security_metrics"
   ]
  }
 ],
 "metadata": {
  "kernelspec": {
   "display_name": "Python 3",
   "language": "python",
   "name": "python3"
  },
  "language_info": {
   "codemirror_mode": {
    "name": "ipython",
    "version": 3
   },
   "file_extension": ".py",
   "mimetype": "text/x-python",
   "name": "python",
   "nbconvert_exporter": "python",
   "pygments_lexer": "ipython3",
   "version": "3.11.9"
  }
 },
 "nbformat": 4,
 "nbformat_minor": 2
}
