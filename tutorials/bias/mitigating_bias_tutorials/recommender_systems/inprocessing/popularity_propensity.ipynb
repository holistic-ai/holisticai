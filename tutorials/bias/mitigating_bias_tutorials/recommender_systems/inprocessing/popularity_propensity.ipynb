{
  "cells": [
    {
      "attachments": {},
      "cell_type": "markdown",
      "metadata": {
        "id": "3OXWn1f2YqX0"
      },
      "source": [
        "# **Bias measuring and mitigation in recommendation systems**\n",
        "\n",
        "The bias problem can appear in models when the predictions systematically deviate from the true values for certain subgroups in the dataset. This phenomenon can occur due to various reasons such as unbalanced groups in the training data, feature selection, or model specification. Because of this, the bias problem can appear in different tasks, being \"recommendation systems\" one of them. A recommender system aims to recommend the best item according to the user preference.\n",
        "\n",
        "There are various techniques to measure bias in recommendation systems. One common approach is to use fairness metrics such as aggregate diversity, exposure entropy, or gini index, which are item based metrics that, in general terms, calculate the distribution to observe the proportions of items are shown to the user.\n",
        "\n",
        "Once bias is detected, we can employ different techniques to mitigate it. These methods can be grouped into three categories: Pre-processing, in-processing and post-processing methods. Pre-processing techniques are used to adjust the training data to remove bias, while in-processing methods are applied to build robust models against bias. Finally, post-processing techniques are used to adjust the model's predictions to remove bias.\n",
        "\n",
        "A recommender system can be biased in multiple ways. For example, we may be concerned that the artists in our database will not get equal representation (item fairness). Alternative, our main concern may be that different groups of users (e.g. male/female users) will get different music recommendations (user fairness). In the following, we will show how to explore the data for fairness, and measure these various types of fairness using the holisticai library.\n",
        "\n",
        "Through this tutorial, we pretend to present you tools which can be easily applied to measure and mitigate the presence of bias in recommender systems, focusing on the task of correctly predicting users' music preference.\n",
        "\n",
        "We will follow the traditional outline for this tutorial:\n",
        "\n",
        "1. Data loading and packages installation\n",
        "2. Data exploration\n",
        "3. Model training\n",
        "5. Bias measuring\n",
        "6. Bias mitigation\n",
        "7. Results comparison"
      ]
    },
    {
      "attachments": {},
      "cell_type": "markdown",
      "metadata": {
        "id": "TY3Lc4BBa6rE"
      },
      "source": [
        "## **1. Data tasks: loading, exploration and preprocessing**\n",
        "\n",
        "First of all, we need to import the required packages to perform our bias analysis and mitigation. You will need to have the `holisticai` package installed on your system, remember that you can install it by running: \n",
        "```bash\n",
        "!pip install holisticai\n",
        "```"
      ]
    },
    {
      "cell_type": "code",
      "execution_count": 1,
      "metadata": {
        "id": "a4uAy950YwAB"
      },
      "outputs": [],
      "source": [
        "# Base Imports\n",
        "import pandas as pd\n",
        "import numpy as np\n",
        "import matplotlib.pyplot as plt\n",
        "\n",
        "from holisticai.datasets import load_last_fm"
      ]
    },
    {
      "cell_type": "code",
      "execution_count": 2,
      "metadata": {},
      "outputs": [],
      "source": [
        "np.random.seed(0)\n",
        "import warnings\n",
        "warnings.filterwarnings(\"ignore\")"
      ]
    },
    {
      "attachments": {},
      "cell_type": "markdown",
      "metadata": {
        "id": "HgRHiQjUY44J"
      },
      "source": [
        "The dataset that we will use is the \"Last FM Dataset\" which is a publicly available dataset that contains a set of artists that were downloaded by users. It includes personal information about the user, specifically sex and country of origin. A user can download more than one artist. We will use the column \"score\", which contains only 1s for counting the interactions.\n",
        "\n",
        "Source: [GroupLens ](https://files.grouplens.org/datasets/hetrec2011/hetrec2011-lastfm-readme.txt)"
      ]
    },
    {
      "cell_type": "code",
      "execution_count": 3,
      "metadata": {
        "colab": {
          "base_uri": "https://localhost:8080/",
          "height": 206
        },
        "id": "ipYjaz0jZKhq",
        "outputId": "37c59d90-7bfd-499d-a9ac-5dbc096c0220"
      },
      "outputs": [
        {
          "data": {
            "text/html": [
              "<div>\n",
              "<style scoped>\n",
              "    .dataframe tbody tr th:only-of-type {\n",
              "        vertical-align: middle;\n",
              "    }\n",
              "\n",
              "    .dataframe tbody tr th {\n",
              "        vertical-align: top;\n",
              "    }\n",
              "\n",
              "    .dataframe thead th {\n",
              "        text-align: right;\n",
              "    }\n",
              "</style>\n",
              "<table border=\"1\" class=\"dataframe\">\n",
              "  <thead>\n",
              "    <tr style=\"text-align: right;\">\n",
              "      <th></th>\n",
              "      <th>user</th>\n",
              "      <th>artist</th>\n",
              "      <th>sex</th>\n",
              "      <th>country</th>\n",
              "    </tr>\n",
              "  </thead>\n",
              "  <tbody>\n",
              "    <tr>\n",
              "      <th>0</th>\n",
              "      <td>1.0</td>\n",
              "      <td>red hot chili peppers</td>\n",
              "      <td>f</td>\n",
              "      <td>Germany</td>\n",
              "    </tr>\n",
              "    <tr>\n",
              "      <th>1</th>\n",
              "      <td>1.0</td>\n",
              "      <td>the black dahlia murder</td>\n",
              "      <td>f</td>\n",
              "      <td>Germany</td>\n",
              "    </tr>\n",
              "    <tr>\n",
              "      <th>2</th>\n",
              "      <td>1.0</td>\n",
              "      <td>goldfrapp</td>\n",
              "      <td>f</td>\n",
              "      <td>Germany</td>\n",
              "    </tr>\n",
              "    <tr>\n",
              "      <th>3</th>\n",
              "      <td>1.0</td>\n",
              "      <td>dropkick murphys</td>\n",
              "      <td>f</td>\n",
              "      <td>Germany</td>\n",
              "    </tr>\n",
              "    <tr>\n",
              "      <th>4</th>\n",
              "      <td>1.0</td>\n",
              "      <td>le tigre</td>\n",
              "      <td>f</td>\n",
              "      <td>Germany</td>\n",
              "    </tr>\n",
              "  </tbody>\n",
              "</table>\n",
              "</div>"
            ],
            "text/plain": [
              "   user                   artist sex  country\n",
              "0   1.0    red hot chili peppers   f  Germany\n",
              "1   1.0  the black dahlia murder   f  Germany\n",
              "2   1.0                goldfrapp   f  Germany\n",
              "3   1.0         dropkick murphys   f  Germany\n",
              "4   1.0                 le tigre   f  Germany"
            ]
          },
          "execution_count": 3,
          "metadata": {},
          "output_type": "execute_result"
        }
      ],
      "source": [
        "bunch = load_last_fm()\n",
        "df = bunch[\"frame\"]\n",
        "df.head()"
      ]
    },
    {
      "cell_type": "code",
      "execution_count": 4,
      "metadata": {
        "colab": {
          "base_uri": "https://localhost:8080/",
          "height": 300
        },
        "id": "qHOlSsrIbde_",
        "outputId": "cd61adf1-ea03-47b8-89a0-3f93d099a2cd"
      },
      "outputs": [
        {
          "data": {
            "text/html": [
              "<div>\n",
              "<style scoped>\n",
              "    .dataframe tbody tr th:only-of-type {\n",
              "        vertical-align: middle;\n",
              "    }\n",
              "\n",
              "    .dataframe tbody tr th {\n",
              "        vertical-align: top;\n",
              "    }\n",
              "\n",
              "    .dataframe thead th {\n",
              "        text-align: right;\n",
              "    }\n",
              "</style>\n",
              "<table border=\"1\" class=\"dataframe\">\n",
              "  <thead>\n",
              "    <tr style=\"text-align: right;\">\n",
              "      <th></th>\n",
              "      <th>user</th>\n",
              "    </tr>\n",
              "  </thead>\n",
              "  <tbody>\n",
              "    <tr>\n",
              "      <th>count</th>\n",
              "      <td>289955.000000</td>\n",
              "    </tr>\n",
              "    <tr>\n",
              "      <th>mean</th>\n",
              "      <td>9852.460447</td>\n",
              "    </tr>\n",
              "    <tr>\n",
              "      <th>std</th>\n",
              "      <td>5692.355041</td>\n",
              "    </tr>\n",
              "    <tr>\n",
              "      <th>min</th>\n",
              "      <td>1.000000</td>\n",
              "    </tr>\n",
              "    <tr>\n",
              "      <th>25%</th>\n",
              "      <td>4935.000000</td>\n",
              "    </tr>\n",
              "    <tr>\n",
              "      <th>50%</th>\n",
              "      <td>9838.000000</td>\n",
              "    </tr>\n",
              "    <tr>\n",
              "      <th>75%</th>\n",
              "      <td>14769.000000</td>\n",
              "    </tr>\n",
              "    <tr>\n",
              "      <th>max</th>\n",
              "      <td>19718.000000</td>\n",
              "    </tr>\n",
              "  </tbody>\n",
              "</table>\n",
              "</div>"
            ],
            "text/plain": [
              "                user\n",
              "count  289955.000000\n",
              "mean     9852.460447\n",
              "std      5692.355041\n",
              "min         1.000000\n",
              "25%      4935.000000\n",
              "50%      9838.000000\n",
              "75%     14769.000000\n",
              "max     19718.000000"
            ]
          },
          "execution_count": 4,
          "metadata": {},
          "output_type": "execute_result"
        }
      ],
      "source": [
        "df.describe()"
      ]
    },
    {
      "attachments": {},
      "cell_type": "markdown",
      "metadata": {
        "id": "AcG35BN7nnH3"
      },
      "source": [
        "## **2. Data exploration**"
      ]
    },
    {
      "cell_type": "code",
      "execution_count": 5,
      "metadata": {
        "colab": {
          "base_uri": "https://localhost:8080/"
        },
        "id": "qmFz5l9ebgCs",
        "outputId": "5e027b84-28bc-420f-9d7b-d30a64e75f72"
      },
      "outputs": [
        {
          "data": {
            "text/plain": [
              "(user       0\n",
              " artist     0\n",
              " sex        0\n",
              " country    0\n",
              " dtype: int64,\n",
              " (289955, 4))"
            ]
          },
          "execution_count": 5,
          "metadata": {},
          "output_type": "execute_result"
        }
      ],
      "source": [
        "df.isna().sum(), df.shape"
      ]
    },
    {
      "attachments": {},
      "cell_type": "markdown",
      "metadata": {},
      "source": [
        "A quickly inspection of the dataset show us that there are no *NaN* elements. Now, we need to preprocess the dataset before to feed it into the model. To perform this step we will define a function that will clean the dataset and will separate the protected groups according a given feature:"
      ]
    },
    {
      "cell_type": "code",
      "execution_count": 6,
      "metadata": {
        "colab": {
          "base_uri": "https://localhost:8080/"
        },
        "id": "ipD0iR52bkK1",
        "outputId": "d66f4b1d-386f-4f2b-8a63-0405e80943df"
      },
      "outputs": [],
      "source": [
        "def preprocess_lastfm_dataset(df, protected_attribute, user_column, item_column):\n",
        "    \"\"\"Performs the pre-processing step of the data.\"\"\"\n",
        "    from holisticai.utils import recommender_formatter\n",
        "    df_ = df.copy()\n",
        "    df_['score'] = np.random.randint(1,5, len(df_))\n",
        "    df_[protected_attribute] = df_[protected_attribute]=='m'\n",
        "    df_  = df_.drop_duplicates()\n",
        "    # create the pivot matrix\n",
        "    df_pivot, p_attr = recommender_formatter(df_, users_col=user_column, groups_col=protected_attribute, \n",
        "                                         items_col=item_column, scores_col='score', aggfunc='mean')\n",
        "    \n",
        "    return df_pivot, p_attr"
      ]
    },
    {
      "cell_type": "code",
      "execution_count": 7,
      "metadata": {
        "colab": {
          "base_uri": "https://localhost:8080/",
          "height": 472
        },
        "id": "UyMjaae3nf0M",
        "outputId": "c731606c-d448-43d8-e1d7-f753fe14207b"
      },
      "outputs": [],
      "source": [
        "df_pivot, p_attr = preprocess_lastfm_dataset(df, 'sex', 'user', 'artist')"
      ]
    },
    {
      "cell_type": "code",
      "execution_count": 8,
      "metadata": {},
      "outputs": [
        {
          "data": {
            "text/plain": [
              "<AxesSubplot:>"
            ]
          },
          "execution_count": 8,
          "metadata": {},
          "output_type": "execute_result"
        },
        {
          "data": {
            "image/png": "[encoded data removed]",
            "text/plain": [
              "<Figure size 640x480 with 1 Axes>"
            ]
          },
          "metadata": {},
          "output_type": "display_data"
        }
      ],
      "source": [
        "from holisticai.bias.plots import group_pie_plot, frequency_plot\n",
        "\n",
        "group_pie_plot(p_attr)"
      ]
    },
    {
      "attachments": {},
      "cell_type": "markdown",
      "metadata": {
        "id": "H4CQyqQRn-aZ"
      },
      "source": [
        "This graph show us that the proportion of non protected examples is very high compared to the protected group."
      ]
    },
    {
      "cell_type": "code",
      "execution_count": 9,
      "metadata": {
        "colab": {
          "base_uri": "https://localhost:8080/",
          "height": 332
        },
        "id": "LMyJJq37AfLn",
        "outputId": "de4d1019-a1be-4573-a3bb-34f8c86e5193"
      },
      "outputs": [
        {
          "name": "stdout",
          "output_type": "stream",
          "text": [
            "Number of Unique Users : 15000\n",
            "Number of Unique Artists : 1004\n"
          ]
        }
      ],
      "source": [
        "print ('Number of Unique Users : ' + str(df_pivot.shape[0]))\n",
        "print ('Number of Unique Artists : ' + str(df_pivot.shape[1]))"
      ]
    },
    {
      "attachments": {},
      "cell_type": "markdown",
      "metadata": {
        "id": "rgmZ2E5JpVub"
      },
      "source": [
        "## **3. Model training**\n",
        "\n",
        "### **Training the baseline**\n",
        "There are many ways to recommend artists to users. We will use item based collaborative filtering since it is the simplest and most intuitive approach. For each artist, we work out a list of most similar artists. Then we recommend artists to users by looking at which artists they like, and choosing the most similar ones.\n",
        "\n",
        "To do that, first we will define some util functions that will help us to sort these recommendations:"
      ]
    },
    {
      "cell_type": "code",
      "execution_count": 10,
      "metadata": {
        "id": "bMdrrxwjZWaS"
      },
      "outputs": [],
      "source": [
        "def items_liked_by_user(data_matrix, u):\n",
        "    return np.nonzero(data_matrix[u])[0]\n",
        "\n",
        "def recommended_items(data_matrix, similarity_matrix, u, k):\n",
        "    liked = items_liked_by_user(data_matrix, u)\n",
        "    arr = np.sum(similarity_matrix[liked,:], axis=0)\n",
        "    arr[liked] = 0\n",
        "    return np.argsort(arr)[-k:]\n",
        "\n",
        "def explode(arr, num_items):\n",
        "    out = np.zeros(num_items)\n",
        "    out[arr] = 1\n",
        "    return out"
      ]
    },
    {
      "attachments": {},
      "cell_type": "markdown",
      "metadata": {
        "id": "qnG-8NdwtTzf"
      },
      "source": [
        "Now, we have to prepare our pivoted table to calculate the correlations and perform the filtering to create a new pivoted table where we can extract the recommendations for the users"
      ]
    },
    {
      "cell_type": "code",
      "execution_count": 11,
      "metadata": {
        "id": "YGX9Qibzq-T_"
      },
      "outputs": [
        {
          "data": {
            "text/html": [
              "<div>\n",
              "<style scoped>\n",
              "    .dataframe tbody tr th:only-of-type {\n",
              "        vertical-align: middle;\n",
              "    }\n",
              "\n",
              "    .dataframe tbody tr th {\n",
              "        vertical-align: top;\n",
              "    }\n",
              "\n",
              "    .dataframe thead th {\n",
              "        text-align: right;\n",
              "    }\n",
              "</style>\n",
              "<table border=\"1\" class=\"dataframe\">\n",
              "  <thead>\n",
              "    <tr style=\"text-align: right;\">\n",
              "      <th>artist</th>\n",
              "      <th>...and you will know us by the trail of dead</th>\n",
              "      <th>2pac</th>\n",
              "      <th>3 doors down</th>\n",
              "      <th>30 seconds to mars</th>\n",
              "      <th>311</th>\n",
              "      <th>36 crazyfists</th>\n",
              "      <th>44</th>\n",
              "      <th>50 cent</th>\n",
              "      <th>65daysofstatic</th>\n",
              "      <th>Edith piaf</th>\n",
              "      <th>...</th>\n",
              "      <th>weezer</th>\n",
              "      <th>wilco</th>\n",
              "      <th>within temptation</th>\n",
              "      <th>wolfgang amadeus mozart</th>\n",
              "      <th>wu-tang clan</th>\n",
              "      <th>yann tiersen</th>\n",
              "      <th>yeah yeah yeahs</th>\n",
              "      <th>yellowcard</th>\n",
              "      <th>yo la tengo</th>\n",
              "      <th>zero 7</th>\n",
              "    </tr>\n",
              "  </thead>\n",
              "  <tbody>\n",
              "    <tr>\n",
              "      <th>0</th>\n",
              "      <td>0.0</td>\n",
              "      <td>0.0</td>\n",
              "      <td>0.0</td>\n",
              "      <td>0.0</td>\n",
              "      <td>0.0</td>\n",
              "      <td>0.0</td>\n",
              "      <td>0.0</td>\n",
              "      <td>0.0</td>\n",
              "      <td>0.0</td>\n",
              "      <td>0.0</td>\n",
              "      <td>...</td>\n",
              "      <td>0.0</td>\n",
              "      <td>0.0</td>\n",
              "      <td>0.0</td>\n",
              "      <td>0.0</td>\n",
              "      <td>0.0</td>\n",
              "      <td>0.0</td>\n",
              "      <td>0.0</td>\n",
              "      <td>0.0</td>\n",
              "      <td>0.0</td>\n",
              "      <td>0.0</td>\n",
              "    </tr>\n",
              "    <tr>\n",
              "      <th>1</th>\n",
              "      <td>0.0</td>\n",
              "      <td>0.0</td>\n",
              "      <td>0.0</td>\n",
              "      <td>0.0</td>\n",
              "      <td>0.0</td>\n",
              "      <td>0.0</td>\n",
              "      <td>0.0</td>\n",
              "      <td>0.0</td>\n",
              "      <td>0.0</td>\n",
              "      <td>0.0</td>\n",
              "      <td>...</td>\n",
              "      <td>0.0</td>\n",
              "      <td>0.0</td>\n",
              "      <td>0.0</td>\n",
              "      <td>0.0</td>\n",
              "      <td>0.0</td>\n",
              "      <td>0.0</td>\n",
              "      <td>0.0</td>\n",
              "      <td>0.0</td>\n",
              "      <td>0.0</td>\n",
              "      <td>0.0</td>\n",
              "    </tr>\n",
              "    <tr>\n",
              "      <th>2</th>\n",
              "      <td>0.0</td>\n",
              "      <td>0.0</td>\n",
              "      <td>0.0</td>\n",
              "      <td>0.0</td>\n",
              "      <td>0.0</td>\n",
              "      <td>0.0</td>\n",
              "      <td>0.0</td>\n",
              "      <td>0.0</td>\n",
              "      <td>0.0</td>\n",
              "      <td>0.0</td>\n",
              "      <td>...</td>\n",
              "      <td>0.0</td>\n",
              "      <td>0.0</td>\n",
              "      <td>0.0</td>\n",
              "      <td>0.0</td>\n",
              "      <td>0.0</td>\n",
              "      <td>0.0</td>\n",
              "      <td>0.0</td>\n",
              "      <td>0.0</td>\n",
              "      <td>0.0</td>\n",
              "      <td>0.0</td>\n",
              "    </tr>\n",
              "    <tr>\n",
              "      <th>3</th>\n",
              "      <td>0.0</td>\n",
              "      <td>0.0</td>\n",
              "      <td>0.0</td>\n",
              "      <td>0.0</td>\n",
              "      <td>0.0</td>\n",
              "      <td>0.0</td>\n",
              "      <td>0.0</td>\n",
              "      <td>0.0</td>\n",
              "      <td>0.0</td>\n",
              "      <td>0.0</td>\n",
              "      <td>...</td>\n",
              "      <td>0.0</td>\n",
              "      <td>0.0</td>\n",
              "      <td>0.0</td>\n",
              "      <td>0.0</td>\n",
              "      <td>0.0</td>\n",
              "      <td>0.0</td>\n",
              "      <td>0.0</td>\n",
              "      <td>0.0</td>\n",
              "      <td>0.0</td>\n",
              "      <td>0.0</td>\n",
              "    </tr>\n",
              "    <tr>\n",
              "      <th>4</th>\n",
              "      <td>0.0</td>\n",
              "      <td>0.0</td>\n",
              "      <td>0.0</td>\n",
              "      <td>0.0</td>\n",
              "      <td>0.0</td>\n",
              "      <td>0.0</td>\n",
              "      <td>0.0</td>\n",
              "      <td>0.0</td>\n",
              "      <td>0.0</td>\n",
              "      <td>0.0</td>\n",
              "      <td>...</td>\n",
              "      <td>0.0</td>\n",
              "      <td>0.0</td>\n",
              "      <td>0.0</td>\n",
              "      <td>0.0</td>\n",
              "      <td>0.0</td>\n",
              "      <td>0.0</td>\n",
              "      <td>0.0</td>\n",
              "      <td>0.0</td>\n",
              "      <td>0.0</td>\n",
              "      <td>0.0</td>\n",
              "    </tr>\n",
              "  </tbody>\n",
              "</table>\n",
              "<p>5 rows × 1004 columns</p>\n",
              "</div>"
            ],
            "text/plain": [
              "artist  ...and you will know us by the trail of dead  2pac  3 doors down  \\\n",
              "0                                                0.0   0.0           0.0   \n",
              "1                                                0.0   0.0           0.0   \n",
              "2                                                0.0   0.0           0.0   \n",
              "3                                                0.0   0.0           0.0   \n",
              "4                                                0.0   0.0           0.0   \n",
              "\n",
              "artist  30 seconds to mars  311  36 crazyfists   44  50 cent  65daysofstatic  \\\n",
              "0                      0.0  0.0            0.0  0.0      0.0             0.0   \n",
              "1                      0.0  0.0            0.0  0.0      0.0             0.0   \n",
              "2                      0.0  0.0            0.0  0.0      0.0             0.0   \n",
              "3                      0.0  0.0            0.0  0.0      0.0             0.0   \n",
              "4                      0.0  0.0            0.0  0.0      0.0             0.0   \n",
              "\n",
              "artist  Edith piaf  ...  weezer  wilco  within temptation  \\\n",
              "0              0.0  ...     0.0    0.0                0.0   \n",
              "1              0.0  ...     0.0    0.0                0.0   \n",
              "2              0.0  ...     0.0    0.0                0.0   \n",
              "3              0.0  ...     0.0    0.0                0.0   \n",
              "4              0.0  ...     0.0    0.0                0.0   \n",
              "\n",
              "artist  wolfgang amadeus mozart  wu-tang clan  yann tiersen  yeah yeah yeahs  \\\n",
              "0                           0.0           0.0           0.0              0.0   \n",
              "1                           0.0           0.0           0.0              0.0   \n",
              "2                           0.0           0.0           0.0              0.0   \n",
              "3                           0.0           0.0           0.0              0.0   \n",
              "4                           0.0           0.0           0.0              0.0   \n",
              "\n",
              "artist  yellowcard  yo la tengo  zero 7  \n",
              "0              0.0          0.0     0.0  \n",
              "1              0.0          0.0     0.0  \n",
              "2              0.0          0.0     0.0  \n",
              "3              0.0          0.0     0.0  \n",
              "4              0.0          0.0     0.0  \n",
              "\n",
              "[5 rows x 1004 columns]"
            ]
          },
          "execution_count": 11,
          "metadata": {},
          "output_type": "execute_result"
        }
      ],
      "source": [
        "from sklearn.metrics.pairwise import linear_kernel\n",
        "\n",
        "data_matrix = df_pivot.fillna(0).to_numpy()\n",
        "cosine_sim = linear_kernel(data_matrix.T, data_matrix.T)\n",
        "\n",
        "new_recs = [explode(recommended_items(data_matrix, cosine_sim, u, 10), len(df_pivot.columns)) for u in range(df_pivot.shape[0])]\n",
        "new_df_pivot = pd.DataFrame(new_recs, columns = df_pivot.columns)\n",
        "new_df_pivot.head()"
      ]
    },
    {
      "attachments": {},
      "cell_type": "markdown",
      "metadata": {
        "id": "aO9VlS1ouHJk"
      },
      "source": [
        "Finally, we obtain our recommendation matrix:"
      ]
    },
    {
      "cell_type": "code",
      "execution_count": 14,
      "metadata": {
        "id": "YfhoMQW8gVtw"
      },
      "outputs": [],
      "source": [
        "mat = new_df_pivot.replace(0,np.nan)"
      ]
    },
    {
      "attachments": {},
      "cell_type": "markdown",
      "metadata": {
        "id": "Y576jCVEuN7s"
      },
      "source": [
        "## **4. Bias measuring**"
      ]
    },
    {
      "attachments": {},
      "cell_type": "markdown",
      "metadata": {
        "id": "VSwwN8QvudyU"
      },
      "source": [
        "With the new recommendation matrix at hand we will now show how we can calculate various metrics of fairness for recommender systems. In this example, we will cover item based metrics by using the `recommender_bias_metrics` function:\n"
      ]
    },
    {
      "cell_type": "code",
      "execution_count": 15,
      "metadata": {
        "id": "RHqbHr1HZ_LS"
      },
      "outputs": [],
      "source": [
        "from holisticai.bias.metrics import recommender_bias_metrics"
      ]
    },
    {
      "cell_type": "code",
      "execution_count": 16,
      "metadata": {
        "colab": {
          "base_uri": "https://localhost:8080/",
          "height": 298
        },
        "id": "cPnH2crRgfMu",
        "outputId": "2c49aad0-74f2-4792-ee84-f0877bc24317"
      },
      "outputs": [
        {
          "data": {
            "text/html": [
              "<div>\n",
              "<style scoped>\n",
              "    .dataframe tbody tr th:only-of-type {\n",
              "        vertical-align: middle;\n",
              "    }\n",
              "\n",
              "    .dataframe tbody tr th {\n",
              "        vertical-align: top;\n",
              "    }\n",
              "\n",
              "    .dataframe thead th {\n",
              "        text-align: right;\n",
              "    }\n",
              "</style>\n",
              "<table border=\"1\" class=\"dataframe\">\n",
              "  <thead>\n",
              "    <tr style=\"text-align: right;\">\n",
              "      <th></th>\n",
              "      <th>Value</th>\n",
              "      <th>Reference</th>\n",
              "    </tr>\n",
              "    <tr>\n",
              "      <th>Metric</th>\n",
              "      <th></th>\n",
              "      <th></th>\n",
              "    </tr>\n",
              "  </thead>\n",
              "  <tbody>\n",
              "    <tr>\n",
              "      <th>Aggregate Diversity</th>\n",
              "      <td>0.416335</td>\n",
              "      <td>1</td>\n",
              "    </tr>\n",
              "    <tr>\n",
              "      <th>GINI index</th>\n",
              "      <td>0.963811</td>\n",
              "      <td>0</td>\n",
              "    </tr>\n",
              "    <tr>\n",
              "      <th>Exposure Distribution Entropy</th>\n",
              "      <td>3.830850</td>\n",
              "      <td>-</td>\n",
              "    </tr>\n",
              "    <tr>\n",
              "      <th>Average Recommendation Popularity</th>\n",
              "      <td>5609.423227</td>\n",
              "      <td>-</td>\n",
              "    </tr>\n",
              "  </tbody>\n",
              "</table>\n",
              "</div>"
            ],
            "text/plain": [
              "                                         Value Reference\n",
              "Metric                                                  \n",
              "Aggregate Diversity                   0.416335         1\n",
              "GINI index                            0.963811         0\n",
              "Exposure Distribution Entropy         3.830850         -\n",
              "Average Recommendation Popularity  5609.423227         -"
            ]
          },
          "execution_count": 16,
          "metadata": {},
          "output_type": "execute_result"
        }
      ],
      "source": [
        "df = recommender_bias_metrics(mat_pred=mat, metric_type='item_based')\n",
        "df_baseline=df.copy()\n",
        "df_baseline"
      ]
    },
    {
      "attachments": {},
      "cell_type": "markdown",
      "metadata": {
        "id": "fljfCEvdvq72"
      },
      "source": [
        "Above we have batch plotted all `item_based` metrics for recommender bias task. For instance observe the Average Recommendation Popularity is 5738, meaning that on average a user will be recommended an artist that has 5738 total interactions.\n",
        "\n",
        "An interesting feature of this function is that not only returns the calculated metrics from the predictions but also returns the reference to compare the values with an ideal fair model. This feature helps us to analyse the fairness of the predictions for the protected groups in terms of different metrics.\n",
        "\n",
        "For example:\n",
        "\n",
        "*   **Aggregate Diversity:** Given a matrix of scores, this function computes the recommended items for each user and returning the proportion of recommended items out of all possible items. A value of 1 is desired. We wish for a high proportion of items to be shown to avoid the \"rich get richer effect\".\n",
        "*   **GINI index:** Measures the inequality across the frequency distribution of the recommended items. An algorithm that recommends each item the same number of times (uniform distribution) will have a Gini index of 0 and the one with extreme inequality will have a Gini of 1.\n",
        "\n",
        "Besides these metrics, we can calculate another ones, you will find them in the documentation of the library [here](https://holisticai.readthedocs.io/en/latest/metrics.html#recommender)."
      ]
    },
    {
      "attachments": {},
      "cell_type": "markdown",
      "metadata": {
        "id": "E6nr3AEdwGXF"
      },
      "source": [
        "## **5. Bias mitigation**\n",
        "\n",
        "### **Inprocessing: Popularity Propensity method**"
      ]
    },
    {
      "attachments": {},
      "cell_type": "markdown",
      "metadata": {
        "id": "WK7-IXhtwDJF"
      },
      "source": [
        "Now that we could observe that the model metrics are far away from the desired values, we need to apply some kind of strategy to mitigate the bias present in the model.\n",
        "\n",
        "Exists different kinds of strategies, and the literature has divided them into three categories: \"Pre-processing\", \"in-processing\" and \"post-processing\" methods. The `holisticai` library possesses different algorithms from these categories for bias mitigation. An interesting feature is that all of them are compatible with the `Scikit-learn` package, so that, if you are familiar with this package, you will not have problems using the library.\n",
        "\n",
        "For this opportunity, we will implement the \"Popularity Propensity\" method which is a inprocessing algorithm that trains a model with a propensity matrix factorization estimated on popularity of the items.\n"
      ]
    },
    {
      "cell_type": "code",
      "execution_count": null,
      "metadata": {
        "id": "3fCA4ygOxaBP"
      },
      "outputs": [],
      "source": [
        "from holisticai.bias.mitigation import PopularityPropensityMF"
      ]
    },
    {
      "attachments": {},
      "cell_type": "markdown",
      "metadata": {
        "id": "9lNet1nTyDGD"
      },
      "source": [
        "To perform the mitigation with this method we will use the data matrix calculated before with the protected groups"
      ]
    },
    {
      "cell_type": "code",
      "execution_count": null,
      "metadata": {
        "colab": {
          "base_uri": "https://localhost:8080/"
        },
        "id": "HYec2907ZqMt",
        "outputId": "f057e928-8a48-47c7-ac91-81762d428898"
      },
      "outputs": [
        {
          "name": "stderr",
          "output_type": "stream",
          "text": [
            "100%|██████████| 100/100 [15:26<00:00,  9.27s/it]\n"
          ]
        },
        {
          "data": {
            "text/plain": [
              "<holisticai.bias.mitigation.inprocessing.matrix_factorization.popularity_propensity.PopularityPropensityMF at 0x7f085c33a4f0>"
            ]
          },
          "execution_count": 21,
          "metadata": {},
          "output_type": "execute_result"
        }
      ],
      "source": [
        "mf = PopularityPropensityMF(K=40, beta=0.02, steps=100, verbose=1)\n",
        "mf.fit(data_matrix)"
      ]
    },
    {
      "cell_type": "code",
      "execution_count": null,
      "metadata": {
        "id": "1gj9s4XSexH8"
      },
      "outputs": [],
      "source": [
        "def recommended_items(model, data_matrix, k):\n",
        "    recommended_items_mask = data_matrix>0\n",
        "    candidate_index = ~recommended_items_mask\n",
        "    candidate_rating = model.pred*candidate_index\n",
        "    return np.argsort(-candidate_rating,axis=1)[:,:k]"
      ]
    },
    {
      "cell_type": "code",
      "execution_count": null,
      "metadata": {
        "colab": {
          "base_uri": "https://localhost:8080/",
          "height": 206
        },
        "id": "GQHrTCiIZt-Z",
        "outputId": "6fc8a1d0-c7f6-4649-ab12-de34eeeeb547"
      },
      "outputs": [
        {
          "data": {
            "text/html": [
              "\n",
              "  <div id=\"df-3bec4b11-3099-46d5-a1ee-cb2d706cf066\">\n",
              "    <div class=\"colab-df-container\">\n",
              "      <div>\n",
              "<style scoped>\n",
              "    .dataframe tbody tr th:only-of-type {\n",
              "        vertical-align: middle;\n",
              "    }\n",
              "\n",
              "    .dataframe tbody tr th {\n",
              "        vertical-align: top;\n",
              "    }\n",
              "\n",
              "    .dataframe thead th {\n",
              "        text-align: right;\n",
              "    }\n",
              "</style>\n",
              "<table border=\"1\" class=\"dataframe\">\n",
              "  <thead>\n",
              "    <tr style=\"text-align: right;\">\n",
              "      <th></th>\n",
              "      <th>Value</th>\n",
              "      <th>Reference</th>\n",
              "    </tr>\n",
              "    <tr>\n",
              "      <th>Metric</th>\n",
              "      <th></th>\n",
              "      <th></th>\n",
              "    </tr>\n",
              "  </thead>\n",
              "  <tbody>\n",
              "    <tr>\n",
              "      <th>Aggregate Diversity</th>\n",
              "      <td>1.000000</td>\n",
              "      <td>1</td>\n",
              "    </tr>\n",
              "    <tr>\n",
              "      <th>GINI index</th>\n",
              "      <td>0.442588</td>\n",
              "      <td>0</td>\n",
              "    </tr>\n",
              "    <tr>\n",
              "      <th>Exposure Distribution Entropy</th>\n",
              "      <td>6.580708</td>\n",
              "      <td>-</td>\n",
              "    </tr>\n",
              "    <tr>\n",
              "      <th>Average Recommendation Popularity</th>\n",
              "      <td>273.301653</td>\n",
              "      <td>-</td>\n",
              "    </tr>\n",
              "  </tbody>\n",
              "</table>\n",
              "</div>\n",
              "      <button class=\"colab-df-convert\" onclick=\"convertToInteractive('df-3bec4b11-3099-46d5-a1ee-cb2d706cf066')\"\n",
              "              title=\"Convert this dataframe to an interactive table.\"\n",
              "              style=\"display:none;\">\n",
              "        \n",
              "  <svg xmlns=\"http://www.w3.org/2000/svg\" height=\"24px\"viewBox=\"0 0 24 24\"\n",
              "       width=\"24px\">\n",
              "    <path d=\"M0 0h24v24H0V0z\" fill=\"none\"/>\n",
              "    <path d=\"M18.56 5.44l.94 2.06.94-2.06 2.06-.94-2.06-.94-.94-2.06-.94 2.06-2.06.94zm-11 1L8.5 8.5l.94-2.06 2.06-.94-2.06-.94L8.5 2.5l-.94 2.06-2.06.94zm10 10l.94 2.06.94-2.06 2.06-.94-2.06-.94-.94-2.06-.94 2.06-2.06.94z\"/><path d=\"M17.41 7.96l-1.37-1.37c-.4-.4-.92-.59-1.43-.59-.52 0-1.04.2-1.43.59L10.3 9.45l-7.72 7.72c-.78.78-.78 2.05 0 2.83L4 21.41c.39.39.9.59 1.41.59.51 0 1.02-.2 1.41-.59l7.78-7.78 2.81-2.81c.8-.78.8-2.07 0-2.86zM5.41 20L4 18.59l7.72-7.72 1.47 1.35L5.41 20z\"/>\n",
              "  </svg>\n",
              "      </button>\n",
              "      \n",
              "  <style>\n",
              "    .colab-df-container {\n",
              "      display:flex;\n",
              "      flex-wrap:wrap;\n",
              "      gap: 12px;\n",
              "    }\n",
              "\n",
              "    .colab-df-convert {\n",
              "      background-color: #E8F0FE;\n",
              "      border: none;\n",
              "      border-radius: 50%;\n",
              "      cursor: pointer;\n",
              "      display: none;\n",
              "      fill: #1967D2;\n",
              "      height: 32px;\n",
              "      padding: 0 0 0 0;\n",
              "      width: 32px;\n",
              "    }\n",
              "\n",
              "    .colab-df-convert:hover {\n",
              "      background-color: #E2EBFA;\n",
              "      box-shadow: 0px 1px 2px rgba(60, 64, 67, 0.3), 0px 1px 3px 1px rgba(60, 64, 67, 0.15);\n",
              "      fill: #174EA6;\n",
              "    }\n",
              "\n",
              "    [theme=dark] .colab-df-convert {\n",
              "      background-color: #3B4455;\n",
              "      fill: #D2E3FC;\n",
              "    }\n",
              "\n",
              "    [theme=dark] .colab-df-convert:hover {\n",
              "      background-color: #434B5C;\n",
              "      box-shadow: 0px 1px 3px 1px rgba(0, 0, 0, 0.15);\n",
              "      filter: drop-shadow(0px 1px 2px rgba(0, 0, 0, 0.3));\n",
              "      fill: #FFFFFF;\n",
              "    }\n",
              "  </style>\n",
              "\n",
              "      <script>\n",
              "        const buttonEl =\n",
              "          document.querySelector('#df-3bec4b11-3099-46d5-a1ee-cb2d706cf066 button.colab-df-convert');\n",
              "        buttonEl.style.display =\n",
              "          google.colab.kernel.accessAllowed ? 'block' : 'none';\n",
              "\n",
              "        async function convertToInteractive(key) {\n",
              "          const element = document.querySelector('#df-3bec4b11-3099-46d5-a1ee-cb2d706cf066');\n",
              "          const dataTable =\n",
              "            await google.colab.kernel.invokeFunction('convertToInteractive',\n",
              "                                                     [key], {});\n",
              "          if (!dataTable) return;\n",
              "\n",
              "          const docLinkHtml = 'Like what you see? Visit the ' +\n",
              "            '<a target=\"_blank\" href=https://colab.research.google.com/notebooks/data_table.ipynb>data table notebook</a>'\n",
              "            + ' to learn more about interactive tables.';\n",
              "          element.innerHTML = '';\n",
              "          dataTable['output_type'] = 'display_data';\n",
              "          await google.colab.output.renderOutput(dataTable, element);\n",
              "          const docLink = document.createElement('div');\n",
              "          docLink.innerHTML = docLinkHtml;\n",
              "          element.appendChild(docLink);\n",
              "        }\n",
              "      </script>\n",
              "    </div>\n",
              "  </div>\n",
              "  "
            ],
            "text/plain": [
              "                                        Value Reference\n",
              "Metric                                                 \n",
              "Aggregate Diversity                  1.000000         1\n",
              "GINI index                           0.442588         0\n",
              "Exposure Distribution Entropy        6.580708         -\n",
              "Average Recommendation Popularity  273.301653         -"
            ]
          },
          "execution_count": 23,
          "metadata": {},
          "output_type": "execute_result"
        }
      ],
      "source": [
        "new_items = recommended_items(mf, data_matrix, 10)\n",
        "new_recs = [explode(new_items[u], len(df_pivot.columns)) for u in range(df_pivot.shape[0])]\n",
        "new_df_pivot_db = pd.DataFrame(new_recs, columns = df_pivot.columns)\n",
        "\n",
        "mat = new_df_pivot_db.replace(0,np.nan).to_numpy()\n",
        "df = recommender_bias_metrics(mat_pred=mat, metric_type='item_based')\n",
        "df_popularity =df.copy()\n",
        "df_popularity"
      ]
    },
    {
      "attachments": {},
      "cell_type": "markdown",
      "metadata": {
        "id": "cj5Ix7lh1I8-"
      },
      "source": [
        "We can observe that the use of the mitigator improves the \"Aggregate diversity\", reaching the reference value, as well as the remain values showing a clearly improvement. Let's compare them with our baseline."
      ]
    },
    {
      "cell_type": "code",
      "execution_count": null,
      "metadata": {
        "colab": {
          "base_uri": "https://localhost:8080/",
          "height": 224
        },
        "id": "H9UCBvww3G3l",
        "outputId": "8713e6b2-e381-4a5a-a9bb-63a84483e10f"
      },
      "outputs": [
        {
          "name": "stderr",
          "output_type": "stream",
          "text": [
            "100%|██████████| 100/100 [14:36<00:00,  8.77s/it]\n"
          ]
        },
        {
          "data": {
            "text/html": [
              "\n",
              "  <div id=\"df-d0b8d6af-1cd4-4e07-a7f5-2f3089503d7d\">\n",
              "    <div class=\"colab-df-container\">\n",
              "      <div>\n",
              "<style scoped>\n",
              "    .dataframe tbody tr th:only-of-type {\n",
              "        vertical-align: middle;\n",
              "    }\n",
              "\n",
              "    .dataframe tbody tr th {\n",
              "        vertical-align: top;\n",
              "    }\n",
              "\n",
              "    .dataframe thead th {\n",
              "        text-align: right;\n",
              "    }\n",
              "</style>\n",
              "<table border=\"1\" class=\"dataframe\">\n",
              "  <thead>\n",
              "    <tr style=\"text-align: right;\">\n",
              "      <th></th>\n",
              "      <th>Value</th>\n",
              "      <th>Reference</th>\n",
              "    </tr>\n",
              "    <tr>\n",
              "      <th>Metric</th>\n",
              "      <th></th>\n",
              "      <th></th>\n",
              "    </tr>\n",
              "  </thead>\n",
              "  <tbody>\n",
              "    <tr>\n",
              "      <th>Aggregate Diversity</th>\n",
              "      <td>1.000000</td>\n",
              "      <td>1</td>\n",
              "    </tr>\n",
              "    <tr>\n",
              "      <th>GINI index</th>\n",
              "      <td>0.431060</td>\n",
              "      <td>0</td>\n",
              "    </tr>\n",
              "    <tr>\n",
              "      <th>Exposure Distribution Entropy</th>\n",
              "      <td>6.594022</td>\n",
              "      <td>-</td>\n",
              "    </tr>\n",
              "    <tr>\n",
              "      <th>Average Recommendation Popularity</th>\n",
              "      <td>271.939267</td>\n",
              "      <td>-</td>\n",
              "    </tr>\n",
              "  </tbody>\n",
              "</table>\n",
              "</div>\n",
              "      <button class=\"colab-df-convert\" onclick=\"convertToInteractive('df-d0b8d6af-1cd4-4e07-a7f5-2f3089503d7d')\"\n",
              "              title=\"Convert this dataframe to an interactive table.\"\n",
              "              style=\"display:none;\">\n",
              "        \n",
              "  <svg xmlns=\"http://www.w3.org/2000/svg\" height=\"24px\"viewBox=\"0 0 24 24\"\n",
              "       width=\"24px\">\n",
              "    <path d=\"M0 0h24v24H0V0z\" fill=\"none\"/>\n",
              "    <path d=\"M18.56 5.44l.94 2.06.94-2.06 2.06-.94-2.06-.94-.94-2.06-.94 2.06-2.06.94zm-11 1L8.5 8.5l.94-2.06 2.06-.94-2.06-.94L8.5 2.5l-.94 2.06-2.06.94zm10 10l.94 2.06.94-2.06 2.06-.94-2.06-.94-.94-2.06-.94 2.06-2.06.94z\"/><path d=\"M17.41 7.96l-1.37-1.37c-.4-.4-.92-.59-1.43-.59-.52 0-1.04.2-1.43.59L10.3 9.45l-7.72 7.72c-.78.78-.78 2.05 0 2.83L4 21.41c.39.39.9.59 1.41.59.51 0 1.02-.2 1.41-.59l7.78-7.78 2.81-2.81c.8-.78.8-2.07 0-2.86zM5.41 20L4 18.59l7.72-7.72 1.47 1.35L5.41 20z\"/>\n",
              "  </svg>\n",
              "      </button>\n",
              "      \n",
              "  <style>\n",
              "    .colab-df-container {\n",
              "      display:flex;\n",
              "      flex-wrap:wrap;\n",
              "      gap: 12px;\n",
              "    }\n",
              "\n",
              "    .colab-df-convert {\n",
              "      background-color: #E8F0FE;\n",
              "      border: none;\n",
              "      border-radius: 50%;\n",
              "      cursor: pointer;\n",
              "      display: none;\n",
              "      fill: #1967D2;\n",
              "      height: 32px;\n",
              "      padding: 0 0 0 0;\n",
              "      width: 32px;\n",
              "    }\n",
              "\n",
              "    .colab-df-convert:hover {\n",
              "      background-color: #E2EBFA;\n",
              "      box-shadow: 0px 1px 2px rgba(60, 64, 67, 0.3), 0px 1px 3px 1px rgba(60, 64, 67, 0.15);\n",
              "      fill: #174EA6;\n",
              "    }\n",
              "\n",
              "    [theme=dark] .colab-df-convert {\n",
              "      background-color: #3B4455;\n",
              "      fill: #D2E3FC;\n",
              "    }\n",
              "\n",
              "    [theme=dark] .colab-df-convert:hover {\n",
              "      background-color: #434B5C;\n",
              "      box-shadow: 0px 1px 3px 1px rgba(0, 0, 0, 0.15);\n",
              "      filter: drop-shadow(0px 1px 2px rgba(0, 0, 0, 0.3));\n",
              "      fill: #FFFFFF;\n",
              "    }\n",
              "  </style>\n",
              "\n",
              "      <script>\n",
              "        const buttonEl =\n",
              "          document.querySelector('#df-d0b8d6af-1cd4-4e07-a7f5-2f3089503d7d button.colab-df-convert');\n",
              "        buttonEl.style.display =\n",
              "          google.colab.kernel.accessAllowed ? 'block' : 'none';\n",
              "\n",
              "        async function convertToInteractive(key) {\n",
              "          const element = document.querySelector('#df-d0b8d6af-1cd4-4e07-a7f5-2f3089503d7d');\n",
              "          const dataTable =\n",
              "            await google.colab.kernel.invokeFunction('convertToInteractive',\n",
              "                                                     [key], {});\n",
              "          if (!dataTable) return;\n",
              "\n",
              "          const docLinkHtml = 'Like what you see? Visit the ' +\n",
              "            '<a target=\"_blank\" href=https://colab.research.google.com/notebooks/data_table.ipynb>data table notebook</a>'\n",
              "            + ' to learn more about interactive tables.';\n",
              "          element.innerHTML = '';\n",
              "          dataTable['output_type'] = 'display_data';\n",
              "          await google.colab.output.renderOutput(dataTable, element);\n",
              "          const docLink = document.createElement('div');\n",
              "          docLink.innerHTML = docLinkHtml;\n",
              "          element.appendChild(docLink);\n",
              "        }\n",
              "      </script>\n",
              "    </div>\n",
              "  </div>\n",
              "  "
            ],
            "text/plain": [
              "                                        Value Reference\n",
              "Metric                                                 \n",
              "Aggregate Diversity                  1.000000         1\n",
              "GINI index                           0.431060         0\n",
              "Exposure Distribution Entropy        6.594022         -\n",
              "Average Recommendation Popularity  271.939267         -"
            ]
          },
          "execution_count": 24,
          "metadata": {},
          "output_type": "execute_result"
        }
      ],
      "source": [
        "from holisticai.pipeline import Pipeline\n",
        "\n",
        "inprocessing_model = PopularityPropensityMF(K=40, beta=0.02, steps=100, verbose=1)\n",
        "\n",
        "pipeline = Pipeline(\n",
        "    steps=[\n",
        "        (\"bm_inprocessing\", inprocessing_model),\n",
        "    ]\n",
        ")\n",
        "\n",
        "pipeline.fit(data_matrix)\n",
        "\n",
        "rankings  = pipeline.predict(data_matrix, top_n=10)\n",
        "mat = rankings.pivot('X','Y','score').replace(np.nan,0).to_numpy()\n",
        "df = recommender_bias_metrics(mat_pred=mat>0, metric_type='item_based')\n",
        "df_pop_pipeline =df.copy()\n",
        "df_pop_pipeline"
      ]
    },
    {
      "attachments": {},
      "cell_type": "markdown",
      "metadata": {
        "id": "qScvgKTXx4Go"
      },
      "source": [
        "### Comparing results\n",
        "\n",
        "Now that we could observe how is the implementation of the mitigator in the model, we will compare the results between the baseline and the implementations with the mitigator to analyse how the metrics have changed."
      ]
    },
    {
      "cell_type": "code",
      "execution_count": null,
      "metadata": {
        "colab": {
          "base_uri": "https://localhost:8080/",
          "height": 206
        },
        "id": "1WsWATY3aUTF",
        "outputId": "89662b2d-ab6c-44c0-87a1-f0d17ba6e2ee"
      },
      "outputs": [
        {
          "data": {
            "text/html": [
              "\n",
              "  <div id=\"df-f76c8e0f-20fc-415f-b4de-802a297c2a82\">\n",
              "    <div class=\"colab-df-container\">\n",
              "      <div>\n",
              "<style scoped>\n",
              "    .dataframe tbody tr th:only-of-type {\n",
              "        vertical-align: middle;\n",
              "    }\n",
              "\n",
              "    .dataframe tbody tr th {\n",
              "        vertical-align: top;\n",
              "    }\n",
              "\n",
              "    .dataframe thead th {\n",
              "        text-align: right;\n",
              "    }\n",
              "</style>\n",
              "<table border=\"1\" class=\"dataframe\">\n",
              "  <thead>\n",
              "    <tr style=\"text-align: right;\">\n",
              "      <th></th>\n",
              "      <th>Baseline</th>\n",
              "      <th>Mitigator</th>\n",
              "      <th>Mitigator with pipeline</th>\n",
              "      <th>Reference</th>\n",
              "    </tr>\n",
              "    <tr>\n",
              "      <th>Metric</th>\n",
              "      <th></th>\n",
              "      <th></th>\n",
              "      <th></th>\n",
              "      <th></th>\n",
              "    </tr>\n",
              "  </thead>\n",
              "  <tbody>\n",
              "    <tr>\n",
              "      <th>Aggregate Diversity</th>\n",
              "      <td>0.419323</td>\n",
              "      <td>1.000000</td>\n",
              "      <td>1.000000</td>\n",
              "      <td>1</td>\n",
              "    </tr>\n",
              "    <tr>\n",
              "      <th>GINI index</th>\n",
              "      <td>0.964444</td>\n",
              "      <td>0.442588</td>\n",
              "      <td>0.431060</td>\n",
              "      <td>0</td>\n",
              "    </tr>\n",
              "    <tr>\n",
              "      <th>Exposure Distribution Entropy</th>\n",
              "      <td>3.810635</td>\n",
              "      <td>6.580708</td>\n",
              "      <td>6.594022</td>\n",
              "      <td>-</td>\n",
              "    </tr>\n",
              "    <tr>\n",
              "      <th>Average Recommendation Popularity</th>\n",
              "      <td>5720.488667</td>\n",
              "      <td>273.301653</td>\n",
              "      <td>271.939267</td>\n",
              "      <td>-</td>\n",
              "    </tr>\n",
              "  </tbody>\n",
              "</table>\n",
              "</div>\n",
              "      <button class=\"colab-df-convert\" onclick=\"convertToInteractive('df-f76c8e0f-20fc-415f-b4de-802a297c2a82')\"\n",
              "              title=\"Convert this dataframe to an interactive table.\"\n",
              "              style=\"display:none;\">\n",
              "        \n",
              "  <svg xmlns=\"http://www.w3.org/2000/svg\" height=\"24px\"viewBox=\"0 0 24 24\"\n",
              "       width=\"24px\">\n",
              "    <path d=\"M0 0h24v24H0V0z\" fill=\"none\"/>\n",
              "    <path d=\"M18.56 5.44l.94 2.06.94-2.06 2.06-.94-2.06-.94-.94-2.06-.94 2.06-2.06.94zm-11 1L8.5 8.5l.94-2.06 2.06-.94-2.06-.94L8.5 2.5l-.94 2.06-2.06.94zm10 10l.94 2.06.94-2.06 2.06-.94-2.06-.94-.94-2.06-.94 2.06-2.06.94z\"/><path d=\"M17.41 7.96l-1.37-1.37c-.4-.4-.92-.59-1.43-.59-.52 0-1.04.2-1.43.59L10.3 9.45l-7.72 7.72c-.78.78-.78 2.05 0 2.83L4 21.41c.39.39.9.59 1.41.59.51 0 1.02-.2 1.41-.59l7.78-7.78 2.81-2.81c.8-.78.8-2.07 0-2.86zM5.41 20L4 18.59l7.72-7.72 1.47 1.35L5.41 20z\"/>\n",
              "  </svg>\n",
              "      </button>\n",
              "      \n",
              "  <style>\n",
              "    .colab-df-container {\n",
              "      display:flex;\n",
              "      flex-wrap:wrap;\n",
              "      gap: 12px;\n",
              "    }\n",
              "\n",
              "    .colab-df-convert {\n",
              "      background-color: #E8F0FE;\n",
              "      border: none;\n",
              "      border-radius: 50%;\n",
              "      cursor: pointer;\n",
              "      display: none;\n",
              "      fill: #1967D2;\n",
              "      height: 32px;\n",
              "      padding: 0 0 0 0;\n",
              "      width: 32px;\n",
              "    }\n",
              "\n",
              "    .colab-df-convert:hover {\n",
              "      background-color: #E2EBFA;\n",
              "      box-shadow: 0px 1px 2px rgba(60, 64, 67, 0.3), 0px 1px 3px 1px rgba(60, 64, 67, 0.15);\n",
              "      fill: #174EA6;\n",
              "    }\n",
              "\n",
              "    [theme=dark] .colab-df-convert {\n",
              "      background-color: #3B4455;\n",
              "      fill: #D2E3FC;\n",
              "    }\n",
              "\n",
              "    [theme=dark] .colab-df-convert:hover {\n",
              "      background-color: #434B5C;\n",
              "      box-shadow: 0px 1px 3px 1px rgba(0, 0, 0, 0.15);\n",
              "      filter: drop-shadow(0px 1px 2px rgba(0, 0, 0, 0.3));\n",
              "      fill: #FFFFFF;\n",
              "    }\n",
              "  </style>\n",
              "\n",
              "      <script>\n",
              "        const buttonEl =\n",
              "          document.querySelector('#df-f76c8e0f-20fc-415f-b4de-802a297c2a82 button.colab-df-convert');\n",
              "        buttonEl.style.display =\n",
              "          google.colab.kernel.accessAllowed ? 'block' : 'none';\n",
              "\n",
              "        async function convertToInteractive(key) {\n",
              "          const element = document.querySelector('#df-f76c8e0f-20fc-415f-b4de-802a297c2a82');\n",
              "          const dataTable =\n",
              "            await google.colab.kernel.invokeFunction('convertToInteractive',\n",
              "                                                     [key], {});\n",
              "          if (!dataTable) return;\n",
              "\n",
              "          const docLinkHtml = 'Like what you see? Visit the ' +\n",
              "            '<a target=\"_blank\" href=https://colab.research.google.com/notebooks/data_table.ipynb>data table notebook</a>'\n",
              "            + ' to learn more about interactive tables.';\n",
              "          element.innerHTML = '';\n",
              "          dataTable['output_type'] = 'display_data';\n",
              "          await google.colab.output.renderOutput(dataTable, element);\n",
              "          const docLink = document.createElement('div');\n",
              "          docLink.innerHTML = docLinkHtml;\n",
              "          element.appendChild(docLink);\n",
              "        }\n",
              "      </script>\n",
              "    </div>\n",
              "  </div>\n",
              "  "
            ],
            "text/plain": [
              "                                      Baseline   Mitigator  \\\n",
              "Metric                                                       \n",
              "Aggregate Diversity                   0.419323    1.000000   \n",
              "GINI index                            0.964444    0.442588   \n",
              "Exposure Distribution Entropy         3.810635    6.580708   \n",
              "Average Recommendation Popularity  5720.488667  273.301653   \n",
              "\n",
              "                                   Mitigator with pipeline Reference  \n",
              "Metric                                                                \n",
              "Aggregate Diversity                               1.000000         1  \n",
              "GINI index                                        0.431060         0  \n",
              "Exposure Distribution Entropy                     6.594022         -  \n",
              "Average Recommendation Popularity               271.939267         -  "
            ]
          },
          "execution_count": 25,
          "metadata": {},
          "output_type": "execute_result"
        }
      ],
      "source": [
        "result = pd.concat([df_baseline, df_popularity, df_pop_pipeline], axis=1).iloc[:, [0,2,4,1]]\n",
        "result.columns = ['Baseline','Mitigator', 'Mitigator with pipeline', 'Reference']\n",
        "result"
      ]
    },
    {
      "attachments": {},
      "cell_type": "markdown",
      "metadata": {
        "id": "QEKnD3ze0aGs"
      },
      "source": [
        "From the previous chart, we can see that although some of the actual metrics are still far from the ideal values, an improvement is obtained by applying this method in the data, compared with our baseline. \n",
        "\n",
        "Notice that we can analyse how these values are affected by varying the hyperparameters of the method.\n",
        "\n",
        "For example, this method allows us to set the number `k` of dimensions, a `beta` parameter used to update the method and the number of iterations.\n",
        "\n",
        "Let's try by varying the number `k` of dimensions of the method to observe how the metrics are affected:"
      ]
    },
    {
      "cell_type": "code",
      "execution_count": null,
      "metadata": {
        "id": "MvspP6tb0XTm"
      },
      "outputs": [],
      "source": [
        "def calculate_metrics(data_matrix, p_attr, k, metrics_cols):\n",
        "  mf = PopularityPropensityMF(K=k, beta=0.5, steps=10, verbose=1)\n",
        "  mf.fit(data_matrix)\n",
        "\n",
        "  new_items = recommended_items(mf, data_matrix, 10)\n",
        "  new_recs = [explode(new_items[u], len(df_pivot.columns)) for u in range(df_pivot.shape[0])]\n",
        "  new_df_pivot_db = pd.DataFrame(new_recs, columns = df_pivot.columns)\n",
        "\n",
        "  mat = new_df_pivot_db.replace(0,np.nan).to_numpy()\n",
        "  df = recommender_bias_metrics(mat_pred=mat, metric_type='item_based')\n",
        "  # Calculate metrics\n",
        "  metrics = [\n",
        "      k, \n",
        "  ]\n",
        "  metrics.extend([df['Value'].loc[col] for col in metrics_cols])\n",
        "  return metrics"
      ]
    },
    {
      "cell_type": "code",
      "execution_count": null,
      "metadata": {
        "colab": {
          "base_uri": "https://localhost:8080/",
          "height": 552
        },
        "id": "5Q0gTVGG2fq3",
        "outputId": "fd7cd785-df1a-49cf-ce19-e34ad842e395"
      },
      "outputs": [
        {
          "name": "stderr",
          "output_type": "stream",
          "text": [
            "100%|██████████| 10/10 [00:32<00:00,  3.20s/it]\n",
            "/usr/local/lib/python3.9/dist-packages/holisticai/utils/_recommender_tools.py:228: RuntimeWarning: divide by zero encountered in log\n",
            "  return -np.sum(np.where(p != 0, p * np.log(p), 0))\n",
            "/usr/local/lib/python3.9/dist-packages/holisticai/utils/_recommender_tools.py:228: RuntimeWarning: invalid value encountered in multiply\n",
            "  return -np.sum(np.where(p != 0, p * np.log(p), 0))\n",
            "100%|██████████| 10/10 [00:44<00:00,  4.42s/it]\n",
            "/usr/local/lib/python3.9/dist-packages/holisticai/utils/_recommender_tools.py:228: RuntimeWarning: divide by zero encountered in log\n",
            "  return -np.sum(np.where(p != 0, p * np.log(p), 0))\n",
            "/usr/local/lib/python3.9/dist-packages/holisticai/utils/_recommender_tools.py:228: RuntimeWarning: invalid value encountered in multiply\n",
            "  return -np.sum(np.where(p != 0, p * np.log(p), 0))\n",
            "100%|██████████| 10/10 [01:44<00:00, 10.41s/it]\n",
            "100%|██████████| 10/10 [02:02<00:00, 12.27s/it]\n",
            "100%|██████████| 10/10 [04:34<00:00, 27.46s/it]\n",
            "100%|██████████| 10/10 [06:44<00:00, 40.45s/it]\n"
          ]
        },
        {
          "data": {
            "text/html": [
              "\n",
              "  <div id=\"df-8d3ddeec-6419-4cbd-97f3-f84eaff9a898\">\n",
              "    <div class=\"colab-df-container\">\n",
              "      <div>\n",
              "<style scoped>\n",
              "    .dataframe tbody tr th:only-of-type {\n",
              "        vertical-align: middle;\n",
              "    }\n",
              "\n",
              "    .dataframe tbody tr th {\n",
              "        vertical-align: top;\n",
              "    }\n",
              "\n",
              "    .dataframe thead th {\n",
              "        text-align: right;\n",
              "    }\n",
              "</style>\n",
              "<table border=\"1\" class=\"dataframe\">\n",
              "  <thead>\n",
              "    <tr style=\"text-align: right;\">\n",
              "      <th></th>\n",
              "      <th>k</th>\n",
              "      <th>Aggregate Diversity</th>\n",
              "      <th>GINI index</th>\n",
              "      <th>Exposure Distribution Entropy</th>\n",
              "      <th>Average Recommendation Popularity</th>\n",
              "    </tr>\n",
              "  </thead>\n",
              "  <tbody>\n",
              "    <tr>\n",
              "      <th>0</th>\n",
              "      <td>10</td>\n",
              "      <td>0.556773</td>\n",
              "      <td>0.764653</td>\n",
              "      <td>5.752064</td>\n",
              "      <td>609.351187</td>\n",
              "    </tr>\n",
              "    <tr>\n",
              "      <th>1</th>\n",
              "      <td>20</td>\n",
              "      <td>0.887450</td>\n",
              "      <td>0.529587</td>\n",
              "      <td>6.420919</td>\n",
              "      <td>309.795693</td>\n",
              "    </tr>\n",
              "    <tr>\n",
              "      <th>2</th>\n",
              "      <td>40</td>\n",
              "      <td>1.000000</td>\n",
              "      <td>0.459869</td>\n",
              "      <td>6.548497</td>\n",
              "      <td>293.637360</td>\n",
              "    </tr>\n",
              "    <tr>\n",
              "      <th>3</th>\n",
              "      <td>50</td>\n",
              "      <td>1.000000</td>\n",
              "      <td>0.454820</td>\n",
              "      <td>6.560795</td>\n",
              "      <td>282.151547</td>\n",
              "    </tr>\n",
              "    <tr>\n",
              "      <th>4</th>\n",
              "      <td>80</td>\n",
              "      <td>1.000000</td>\n",
              "      <td>0.444423</td>\n",
              "      <td>6.559321</td>\n",
              "      <td>301.199173</td>\n",
              "    </tr>\n",
              "    <tr>\n",
              "      <th>5</th>\n",
              "      <td>100</td>\n",
              "      <td>1.000000</td>\n",
              "      <td>0.455872</td>\n",
              "      <td>6.550323</td>\n",
              "      <td>296.435667</td>\n",
              "    </tr>\n",
              "  </tbody>\n",
              "</table>\n",
              "</div>\n",
              "      <button class=\"colab-df-convert\" onclick=\"convertToInteractive('df-8d3ddeec-6419-4cbd-97f3-f84eaff9a898')\"\n",
              "              title=\"Convert this dataframe to an interactive table.\"\n",
              "              style=\"display:none;\">\n",
              "        \n",
              "  <svg xmlns=\"http://www.w3.org/2000/svg\" height=\"24px\"viewBox=\"0 0 24 24\"\n",
              "       width=\"24px\">\n",
              "    <path d=\"M0 0h24v24H0V0z\" fill=\"none\"/>\n",
              "    <path d=\"M18.56 5.44l.94 2.06.94-2.06 2.06-.94-2.06-.94-.94-2.06-.94 2.06-2.06.94zm-11 1L8.5 8.5l.94-2.06 2.06-.94-2.06-.94L8.5 2.5l-.94 2.06-2.06.94zm10 10l.94 2.06.94-2.06 2.06-.94-2.06-.94-.94-2.06-.94 2.06-2.06.94z\"/><path d=\"M17.41 7.96l-1.37-1.37c-.4-.4-.92-.59-1.43-.59-.52 0-1.04.2-1.43.59L10.3 9.45l-7.72 7.72c-.78.78-.78 2.05 0 2.83L4 21.41c.39.39.9.59 1.41.59.51 0 1.02-.2 1.41-.59l7.78-7.78 2.81-2.81c.8-.78.8-2.07 0-2.86zM5.41 20L4 18.59l7.72-7.72 1.47 1.35L5.41 20z\"/>\n",
              "  </svg>\n",
              "      </button>\n",
              "      \n",
              "  <style>\n",
              "    .colab-df-container {\n",
              "      display:flex;\n",
              "      flex-wrap:wrap;\n",
              "      gap: 12px;\n",
              "    }\n",
              "\n",
              "    .colab-df-convert {\n",
              "      background-color: #E8F0FE;\n",
              "      border: none;\n",
              "      border-radius: 50%;\n",
              "      cursor: pointer;\n",
              "      display: none;\n",
              "      fill: #1967D2;\n",
              "      height: 32px;\n",
              "      padding: 0 0 0 0;\n",
              "      width: 32px;\n",
              "    }\n",
              "\n",
              "    .colab-df-convert:hover {\n",
              "      background-color: #E2EBFA;\n",
              "      box-shadow: 0px 1px 2px rgba(60, 64, 67, 0.3), 0px 1px 3px 1px rgba(60, 64, 67, 0.15);\n",
              "      fill: #174EA6;\n",
              "    }\n",
              "\n",
              "    [theme=dark] .colab-df-convert {\n",
              "      background-color: #3B4455;\n",
              "      fill: #D2E3FC;\n",
              "    }\n",
              "\n",
              "    [theme=dark] .colab-df-convert:hover {\n",
              "      background-color: #434B5C;\n",
              "      box-shadow: 0px 1px 3px 1px rgba(0, 0, 0, 0.15);\n",
              "      filter: drop-shadow(0px 1px 2px rgba(0, 0, 0, 0.3));\n",
              "      fill: #FFFFFF;\n",
              "    }\n",
              "  </style>\n",
              "\n",
              "      <script>\n",
              "        const buttonEl =\n",
              "          document.querySelector('#df-8d3ddeec-6419-4cbd-97f3-f84eaff9a898 button.colab-df-convert');\n",
              "        buttonEl.style.display =\n",
              "          google.colab.kernel.accessAllowed ? 'block' : 'none';\n",
              "\n",
              "        async function convertToInteractive(key) {\n",
              "          const element = document.querySelector('#df-8d3ddeec-6419-4cbd-97f3-f84eaff9a898');\n",
              "          const dataTable =\n",
              "            await google.colab.kernel.invokeFunction('convertToInteractive',\n",
              "                                                     [key], {});\n",
              "          if (!dataTable) return;\n",
              "\n",
              "          const docLinkHtml = 'Like what you see? Visit the ' +\n",
              "            '<a target=\"_blank\" href=https://colab.research.google.com/notebooks/data_table.ipynb>data table notebook</a>'\n",
              "            + ' to learn more about interactive tables.';\n",
              "          element.innerHTML = '';\n",
              "          dataTable['output_type'] = 'display_data';\n",
              "          await google.colab.output.renderOutput(dataTable, element);\n",
              "          const docLink = document.createElement('div');\n",
              "          docLink.innerHTML = docLinkHtml;\n",
              "          element.appendChild(docLink);\n",
              "        }\n",
              "      </script>\n",
              "    </div>\n",
              "  </div>\n",
              "  "
            ],
            "text/plain": [
              "     k  Aggregate Diversity  GINI index  Exposure Distribution Entropy  \\\n",
              "0   10             0.556773    0.764653                       5.752064   \n",
              "1   20             0.887450    0.529587                       6.420919   \n",
              "2   40             1.000000    0.459869                       6.548497   \n",
              "3   50             1.000000    0.454820                       6.560795   \n",
              "4   80             1.000000    0.444423                       6.559321   \n",
              "5  100             1.000000    0.455872                       6.550323   \n",
              "\n",
              "   Average Recommendation Popularity  \n",
              "0                         609.351187  \n",
              "1                         309.795693  \n",
              "2                         293.637360  \n",
              "3                         282.151547  \n",
              "4                         301.199173  \n",
              "5                         296.435667  "
            ]
          },
          "execution_count": 27,
          "metadata": {},
          "output_type": "execute_result"
        }
      ],
      "source": [
        "metrics_val = []\n",
        "metrics_cols = [\"Aggregate Diversity\", \"GINI index\", \"Exposure Distribution Entropy\", \"Average Recommendation Popularity\"]\n",
        "\n",
        "K = [10, 20, 40, 50, 80, 100]\n",
        "\n",
        "for k in K:\n",
        "  metrics_val.append(calculate_metrics(data_matrix, p_attr, k, metrics_cols))\n",
        "\n",
        "metrics = ['k']\n",
        "metrics.extend(metrics_cols)\n",
        "df_metrics = pd.DataFrame(metrics_val, columns=metrics)\n",
        "df_metrics"
      ]
    },
    {
      "cell_type": "code",
      "execution_count": null,
      "metadata": {
        "colab": {
          "base_uri": "https://localhost:8080/",
          "height": 329
        },
        "id": "luFBWQxY3IIh",
        "outputId": "5ec86988-a259-447a-8649-f3f8eeb55ec0"
      },
      "outputs": [
        {
          "data": {
            "text/plain": [
              "Text(0.5, 0, 'Dimensions')"
            ]
          },
          "execution_count": 28,
          "metadata": {},
          "output_type": "execute_result"
        },
        {
          "data": {
            "image/png": "[encoded data removed]",
            "text/plain": [
              "<Figure size 2500x800 with 2 Axes>"
            ]
          },
          "metadata": {},
          "output_type": "display_data"
        }
      ],
      "source": [
        "x_axis = df_metrics.k\n",
        "plt.figure(figsize=(25,8))\n",
        "plt.subplot(121)\n",
        "plt.plot(x_axis, df_metrics['GINI index'], 'o-', label='GINI index')\n",
        "plt.plot(x_axis, np.zeros_like(df_metrics['GINI index']), label='Reference')\n",
        "plt.legend(loc='upper left')\n",
        "plt.xlabel('Dimensions')\n",
        "plt.subplot(122)\n",
        "plt.plot(x_axis, df_metrics['Average Recommendation Popularity'], 'o-', label='Average Recommendation Popularity')\n",
        "plt.legend(loc='upper left')\n",
        "plt.xlabel('Dimensions')"
      ]
    },
    {
      "attachments": {},
      "cell_type": "markdown",
      "metadata": {
        "id": "kwmNChrEJLnx"
      },
      "source": [
        "As we can see, the selection of different values for this parameter will vary its performance, for example, we can observe that in general terms we achieve a better model when the number of dimension are around 40."
      ]
    },
    {
      "attachments": {},
      "cell_type": "markdown",
      "metadata": {
        "id": "0cYDWNy8JdY4"
      },
      "source": [
        "# Summary\n",
        "\n",
        "Through this tutorial we could present to the user how the `holisticai` library can be easily used to measure the bias present in recommender systems by the application of the `recommender_bias_metrics` function, which returns the calculated values for different metrics respectively.\n",
        "\n",
        "In addition, we shown how to mitigate the bias by applying some methods, for this opportunity we applied the \"Popularity propensity\" technique to train a fairness model, this is a in-processing method that estimates the popularity of the items through a propensity matrix factorization. Consequently we could observe how the metrics are influenced by varing the number of dimensions of the method, and showing that this method increases the fairness of the model."
      ]
    },
    {
      "cell_type": "code",
      "execution_count": null,
      "metadata": {
        "id": "jl8KA3AVUtZp"
      },
      "outputs": [],
      "source": []
    }
  ],
  "metadata": {
    "colab": {
      "provenance": []
    },
    "kernelspec": {
      "display_name": "Python 3",
      "name": "python3"
    },
    "language_info": {
      "codemirror_mode": {
        "name": "ipython",
        "version": 3
      },
      "file_extension": ".py",
      "mimetype": "text/x-python",
      "name": "python",
      "nbconvert_exporter": "python",
      "pygments_lexer": "ipython3",
      "version": "3.9.8"
    }
  },
  "nbformat": 4,
  "nbformat_minor": 0
}
