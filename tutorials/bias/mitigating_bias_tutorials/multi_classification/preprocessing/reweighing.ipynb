{
  "cells": [
    {
      "attachments": {},
      "cell_type": "markdown",
      "metadata": {
        "id": "IXSgZwJxUyb5"
      },
      "source": [
        "# **Bias measuring and mitigation in multi-classification tasks**\n",
        "\n",
        "With the increasing use of machine learning models in different areas, it has become important to address the bias problem in these models. This issue can appear in different aspects such as racial, gender or socioeconomic biases leading to unfair outcomes in decision-making processes, for instance, in classification tasks, where models are trained to classify data into different categories.\n",
        "\n",
        "There are various techniques to measure bias in classification models such as Equalized Odds, Statistical or Demographic Parity or Opportunity Equality for instance, which quantify the differences in the model's performance across different subgroups based on sensitive attributes such as gender or race.\n",
        "\n",
        "Once bias is detected, we can employ different techniques to mitigate it. These methods can be grouped into three categories: Pre-processing, in-processing and post-processing methods. Pre-processing techniques are used to adjust the training data to remove bias, while in-processing methods are applied to build robust models against bias. Finally, post-processing techniques are used to adjust the model's predictions to remove bias.\n",
        "\n",
        "Through this tutorial, we pretend to present you tools which can be easily applied to measure and mitigate the presence of bias in multi-classification models.\n",
        "\n",
        "We will follow the traditional outline for this tutorial:\n",
        "\n",
        "1. Data loading and packages installation\n",
        "2. Dataset preprocessing\n",
        "3. Data analysis\n",
        "4. Model training\n",
        "5. Bias measuring\n",
        "6. Bias mitigation\n",
        "7. Results comparison"
      ]
    },
    {
      "attachments": {},
      "cell_type": "markdown",
      "metadata": {
        "id": "xDS4dmXjU3Op"
      },
      "source": [
        "## **1. Data loading and packages installation**\n",
        "\n",
        "First of all, we need to import the required packages to perform our bias analysis and mitigation. You will need to have the `holisticai` package installed on your system, remember that you can install it by running: \n",
        "```bash\n",
        "!pip install holisticai[all]\n",
        "```"
      ]
    },
    {
      "attachments": {},
      "cell_type": "markdown",
      "metadata": {
        "id": "Ru2-FMt3dDOO"
      },
      "source": [
        "Next, we need to import all the required packages that we will use along this tutorial:"
      ]
    },
    {
      "cell_type": "code",
      "execution_count": 1,
      "metadata": {
        "id": "dSNA5re8F1_7"
      },
      "outputs": [],
      "source": [
        "import numpy as np\n",
        "import pandas as pd\n",
        "import matplotlib.pyplot as plt"
      ]
    },
    {
      "cell_type": "code",
      "execution_count": 2,
      "metadata": {
        "id": "E67GqH-hF_m3"
      },
      "outputs": [],
      "source": [
        "# Settings\n",
        "np.random.seed(0)\n",
        "import warnings\n",
        "warnings.filterwarnings(\"ignore\")"
      ]
    },
    {
      "attachments": {},
      "cell_type": "markdown",
      "metadata": {
        "id": "FnjyWE5rWT7f"
      },
      "source": [
        "## **2. Dataset preprocessing**\n",
        "Now that we have downloaded the dataset, we can begin the pre-processing step to get at final a clean dataset that we will use to feed into the machine learning model to perform the training process."
      ]
    },
    {
      "attachments": {},
      "cell_type": "markdown",
      "metadata": {
        "id": "BvL-AtNyVC1l"
      },
      "source": [
        "The dataset that we will use is the \"Communities and Crime\" dataset which is a publicly available dataset that contains socio-economic and law enforcement data for 1994 communities in the United States. This dataset contains demographic variables such as population size, race, and education level, as well as variables related to law enforcement. Although this dataset is widely used for regression analysis, in this opportunity we will slightly transform the output to use it in a multi-class task. Then, the objective is to predict the crime rate per capita in each community according the assigned class.\n",
        "\n",
        "Source: [UCI ML repository](https://archive.ics.uci.edu/ml/datasets/communities+and+crime)"
      ]
    },
    {
      "cell_type": "code",
      "execution_count": 3,
      "metadata": {
        "colab": {
          "base_uri": "https://localhost:8080/"
        },
        "id": "e57rFDhqiQIo",
        "outputId": "59199b8f-2803-45e7-c918-f39b3ea6ea22"
      },
      "outputs": [],
      "source": [
        "from holisticai.datasets import load_dataset"
      ]
    },
    {
      "attachments": {},
      "cell_type": "markdown",
      "metadata": {
        "id": "areK-68Ti3L7"
      },
      "source": [
        "To speed up the process, the `load_dataset` function of the *holisticai* package allows to return the raw dataset or the preprocessed dataset by setting the `preprocess` parameter to `True`. This function also allows to return the dataset and the protected as a pandas dataframe or as a numpy array. You will find more information about the target and the protected groups of this function in its documentation.\n",
        "\n",
        "In this tutorial, we will use the preprocessed dataset as a pandas dataframe."
      ]
    },
    {
      "cell_type": "code",
      "execution_count": 4,
      "metadata": {
        "id": "W43uPdimG-iI"
      },
      "outputs": [],
      "source": [
        "df, group_a, group_b = load_dataset(dataset='crime', preprocessed=True, as_array=False)"
      ]
    },
    {
      "cell_type": "code",
      "execution_count": 5,
      "metadata": {},
      "outputs": [
        {
          "data": {
            "text/plain": [
              "population             0\n",
              "householdsize          0\n",
              "numbUrban              0\n",
              "pctUrban               0\n",
              "medIncome              0\n",
              "                      ..\n",
              "LandArea               0\n",
              "PopDens                0\n",
              "PctUsePubTrans         0\n",
              "LemasPctOfficDrugUn    0\n",
              "ViolentCrimesPerPop    0\n",
              "Length: 93, dtype: int64"
            ]
          },
          "execution_count": 5,
          "metadata": {},
          "output_type": "execute_result"
        }
      ],
      "source": [
        "df.isna().sum()"
      ]
    },
    {
      "attachments": {},
      "cell_type": "markdown",
      "metadata": {
        "id": "wg26x83Rn7Nh"
      },
      "source": [
        "Now, we will transform the target column in order to have a multiclass column, to do that we will define the following function:"
      ]
    },
    {
      "cell_type": "code",
      "execution_count": 6,
      "metadata": {
        "id": "su5T3BLeGCZ4"
      },
      "outputs": [],
      "source": [
        "def convert_float_to_categorical(target, nb_classes, numeric_classes=True):\n",
        "    eps = np.finfo(float).eps\n",
        "    if numeric_classes:\n",
        "        labels = list(range(nb_classes))\n",
        "    else:\n",
        "        labels = [f\"Q{c}-Q{c+1}\" for c in range(nb_classes)]\n",
        "    labels_values = np.linspace(0, 1, nb_classes + 1)\n",
        "    v = np.array(target.quantile(labels_values)).squeeze()\n",
        "    v[0], v[-1] = v[0] - eps, v[-1] + eps\n",
        "    y = target.copy()\n",
        "    for (i, c) in enumerate(labels):\n",
        "        y[(target.values >= v[i]) & (target.values < v[i + 1])] = c\n",
        "    return y.astype(np.int32)"
      ]
    },
    {
      "cell_type": "code",
      "execution_count": 7,
      "metadata": {
        "id": "EhplMH0LICTh"
      },
      "outputs": [],
      "source": [
        "nb_classes = 5\n",
        "\n",
        "X = df.iloc[:, :-1]\n",
        "y = convert_float_to_categorical(df.iloc[:, -1], nb_classes=nb_classes)"
      ]
    },
    {
      "attachments": {},
      "cell_type": "markdown",
      "metadata": {
        "id": "wO2IDGA9WnfJ"
      },
      "source": [
        "## **3. Data analysis**\n",
        "\n",
        "Once the dataset have been preprocessed we can perform some analysis into the sex and race features in order to define the protected attribute. The `holisticai` library possesses some useful plotting tools that we can use, for example the `group_pie_plot` function that allows us to observe the proportions of the categories of the instances in a certain feature:"
      ]
    },
    {
      "cell_type": "code",
      "execution_count": 8,
      "metadata": {
        "colab": {
          "base_uri": "https://localhost:8080/",
          "height": 472
        },
        "id": "k6maOkDTWsio",
        "outputId": "a023956d-ef1e-4505-e2d6-c09f34ff349f"
      },
      "outputs": [
        {
          "data": {
            "text/plain": [
              "<Axes: >"
            ]
          },
          "execution_count": 8,
          "metadata": {},
          "output_type": "execute_result"
        },
        {
          "data": {
            "image/png": "[encoded data removed]",
            "text/plain": [
              "<Figure size 640x480 with 1 Axes>"
            ]
          },
          "metadata": {},
          "output_type": "display_data"
        }
      ],
      "source": [
        "from holisticai.bias.plots import group_pie_plot\n",
        "\n",
        "group_pie_plot(group_a)"
      ]
    },
    {
      "cell_type": "code",
      "execution_count": 10,
      "metadata": {},
      "outputs": [
        {
          "data": {
            "text/plain": [
              "<Axes: >"
            ]
          },
          "execution_count": 10,
          "metadata": {},
          "output_type": "execute_result"
        },
        {
          "data": {
            "image/png": "[encoded data removed]",
            "text/plain": [
              "<Figure size 640x480 with 1 Axes>"
            ]
          },
          "metadata": {},
          "output_type": "display_data"
        }
      ],
      "source": [
        "group_pie_plot(y)"
      ]
    },
    {
      "attachments": {},
      "cell_type": "markdown",
      "metadata": {
        "id": "HKkLE1fX51aS"
      },
      "source": [
        "The previous graphs show us that the proportion of white people is high compared to the remain, and the target disctribution is almost the same for all the classes. Now, we will define our training and testing sets:"
      ]
    },
    {
      "cell_type": "code",
      "execution_count": 11,
      "metadata": {
        "id": "y5C6e775G-dB"
      },
      "outputs": [],
      "source": [
        "from sklearn.model_selection import train_test_split\n",
        "\n",
        "X_train,X_test,y_train,y_test, group_a_tr, group_a_ts, group_b_tr, group_b_ts = \\\n",
        "    train_test_split(X, y, group_a, group_b, test_size=0.2, random_state=42)\n",
        "train_data = X_train, y_train, group_a_tr, group_b_tr\n",
        "test_data  = X_test, y_test, group_a_ts, group_b_ts"
      ]
    },
    {
      "attachments": {},
      "cell_type": "markdown",
      "metadata": {
        "id": "dLM7pq8aXLM3"
      },
      "source": [
        "## **4. Model training**\n",
        "\n",
        "Once we have defined the training and testing sets, we can train a model as usual. Since the protected groups were separated from the dataset previously we do not need to take care of that in this opportunity, but do not forget to separate the protected attributes from the dataset, so that the model does not have any influence from these attributes in its training process. \n",
        "\n",
        "For the training, we will start with the traditional pipeline, we will fit and re-scale the training data, and then we will train a \"Logistic regression\" model. Once the model has been trained, we will use its predictions to measure the bias present on the model with respect to the protected groups defined previoulsy."
      ]
    },
    {
      "cell_type": "code",
      "execution_count": 12,
      "metadata": {},
      "outputs": [],
      "source": [
        "from holisticai.pipeline import Pipeline\n",
        "from sklearn.preprocessing import StandardScaler\n",
        "from sklearn.linear_model import LogisticRegression\n",
        "from holisticai.utils.transformers.bias import SensitiveGroups"
      ]
    },
    {
      "cell_type": "code",
      "execution_count": 13,
      "metadata": {
        "id": "ppcjaxff_1Cm"
      },
      "outputs": [],
      "source": [
        "# efficacy metrics from sklearn\n",
        "from sklearn import metrics\n",
        "\n",
        "# dictionnary of metrics\n",
        "metrics_dict={\n",
        "        \"Accuracy\": metrics.accuracy_score,\n",
        "        \"Balanced accuracy\": metrics.balanced_accuracy_score,}\n",
        "\n",
        "# efficacy metrics dataframe helper tool\n",
        "def metrics_dataframe(y_pred, y_true, metrics_dict=metrics_dict):\n",
        "    metric_list = [[pf, fn(y_true, y_pred)] for pf, fn in metrics_dict.items()]\n",
        "    return pd.DataFrame(metric_list, columns=[\"Metric\", \"Value\"]).set_index(\"Metric\")"
      ]
    },
    {
      "cell_type": "code",
      "execution_count": 14,
      "metadata": {
        "id": "jm2p-7VuJO3R"
      },
      "outputs": [],
      "source": [
        "X, y, group_a, group_b = train_data\n",
        "\n",
        "scaler = StandardScaler()\n",
        "X = scaler.fit_transform(X)\n",
        "\n",
        "LR = LogisticRegression()\n",
        "model = LR.fit(X, y)\n",
        "\n",
        "X, y, group_a, group_b = test_data\n",
        "X = scaler.transform(X)\n",
        "\n",
        "y_pred = model.predict(X)"
      ]
    },
    {
      "cell_type": "code",
      "execution_count": 15,
      "metadata": {
        "colab": {
          "base_uri": "https://localhost:8080/",
          "height": 143
        },
        "id": "CbT9i8xX_72W",
        "outputId": "299e1f56-5e74-417d-caa1-0ae0032bc5a6"
      },
      "outputs": [
        {
          "data": {
            "text/html": [
              "<div>\n",
              "<style scoped>\n",
              "    .dataframe tbody tr th:only-of-type {\n",
              "        vertical-align: middle;\n",
              "    }\n",
              "\n",
              "    .dataframe tbody tr th {\n",
              "        vertical-align: top;\n",
              "    }\n",
              "\n",
              "    .dataframe thead th {\n",
              "        text-align: right;\n",
              "    }\n",
              "</style>\n",
              "<table border=\"1\" class=\"dataframe\">\n",
              "  <thead>\n",
              "    <tr style=\"text-align: right;\">\n",
              "      <th></th>\n",
              "      <th>Value</th>\n",
              "    </tr>\n",
              "    <tr>\n",
              "      <th>Metric</th>\n",
              "      <th></th>\n",
              "    </tr>\n",
              "  </thead>\n",
              "  <tbody>\n",
              "    <tr>\n",
              "      <th>Accuracy</th>\n",
              "      <td>0.466165</td>\n",
              "    </tr>\n",
              "    <tr>\n",
              "      <th>Balanced accuracy</th>\n",
              "      <td>0.459036</td>\n",
              "    </tr>\n",
              "  </tbody>\n",
              "</table>\n",
              "</div>"
            ],
            "text/plain": [
              "                      Value\n",
              "Metric                     \n",
              "Accuracy           0.466165\n",
              "Balanced accuracy  0.459036"
            ]
          },
          "execution_count": 15,
          "metadata": {},
          "output_type": "execute_result"
        }
      ],
      "source": [
        "metrics_dataframe(y_pred, y, metrics_dict=metrics_dict)"
      ]
    },
    {
      "attachments": {},
      "cell_type": "markdown",
      "metadata": {
        "id": "XjpzlIICXYrf"
      },
      "source": [
        "## **5. Bias measuring**\n",
        "\n",
        "The fairness of the model can be calculated using the predictions of the model and the protected groups defined previously. The `holisticai` contains a module that calculates a set of metrics useful in evaluating the fairness of algorithmic decisions. For our case, we will use the `multiclass_bias_metrics` function which allows us to select which metrics we want to calculate, if `equal_outcome`, `equal_opportunity` or `both`, where equal_outcome shows how disadvantaged groups are treated by the model and equal_opportunity shows if all the groups have the same opportunities."
      ]
    },
    {
      "cell_type": "code",
      "execution_count": 16,
      "metadata": {
        "id": "Aln0gjmvG-ab"
      },
      "outputs": [],
      "source": [
        "from holisticai.bias.metrics import multiclass_bias_metrics\n",
        "sensgroup = SensitiveGroups()"
      ]
    },
    {
      "cell_type": "code",
      "execution_count": 17,
      "metadata": {
        "colab": {
          "base_uri": "https://localhost:8080/",
          "height": 332
        },
        "id": "WP5MwzicXZht",
        "outputId": "d4e8f326-33b4-4c7c-a03e-984ce86615ee"
      },
      "outputs": [
        {
          "data": {
            "text/html": [
              "<div>\n",
              "<style scoped>\n",
              "    .dataframe tbody tr th:only-of-type {\n",
              "        vertical-align: middle;\n",
              "    }\n",
              "\n",
              "    .dataframe tbody tr th {\n",
              "        vertical-align: top;\n",
              "    }\n",
              "\n",
              "    .dataframe thead th {\n",
              "        text-align: right;\n",
              "    }\n",
              "</style>\n",
              "<table border=\"1\" class=\"dataframe\">\n",
              "  <thead>\n",
              "    <tr style=\"text-align: right;\">\n",
              "      <th></th>\n",
              "      <th>Value</th>\n",
              "      <th>Reference</th>\n",
              "    </tr>\n",
              "    <tr>\n",
              "      <th>Metric</th>\n",
              "      <th></th>\n",
              "      <th></th>\n",
              "    </tr>\n",
              "  </thead>\n",
              "  <tbody>\n",
              "    <tr>\n",
              "      <th>Max Multiclass Statistical Parity</th>\n",
              "      <td>0.642819</td>\n",
              "      <td>0</td>\n",
              "    </tr>\n",
              "    <tr>\n",
              "      <th>Mean Multiclass Statistical Parity</th>\n",
              "      <td>0.642819</td>\n",
              "      <td>0</td>\n",
              "    </tr>\n",
              "    <tr>\n",
              "      <th>Max Multiclass Equality of Opportunity</th>\n",
              "      <td>0.491702</td>\n",
              "      <td>0</td>\n",
              "    </tr>\n",
              "    <tr>\n",
              "      <th>Max Multiclass Average Odds</th>\n",
              "      <td>0.402064</td>\n",
              "      <td>0</td>\n",
              "    </tr>\n",
              "    <tr>\n",
              "      <th>Max Multiclass True Positive Difference</th>\n",
              "      <td>0.315663</td>\n",
              "      <td>0</td>\n",
              "    </tr>\n",
              "    <tr>\n",
              "      <th>Mean Multiclass Equality of Opportunity</th>\n",
              "      <td>0.491702</td>\n",
              "      <td>0</td>\n",
              "    </tr>\n",
              "    <tr>\n",
              "      <th>Mean Multiclass Average Odds</th>\n",
              "      <td>0.402064</td>\n",
              "      <td>0</td>\n",
              "    </tr>\n",
              "    <tr>\n",
              "      <th>Mean Multiclass True Positive Difference</th>\n",
              "      <td>0.315663</td>\n",
              "      <td>0</td>\n",
              "    </tr>\n",
              "  </tbody>\n",
              "</table>\n",
              "</div>"
            ],
            "text/plain": [
              "                                             Value  Reference\n",
              "Metric                                                       \n",
              "Max Multiclass Statistical Parity         0.642819          0\n",
              "Mean Multiclass Statistical Parity        0.642819          0\n",
              "Max Multiclass Equality of Opportunity    0.491702          0\n",
              "Max Multiclass Average Odds               0.402064          0\n",
              "Max Multiclass True Positive Difference   0.315663          0\n",
              "Mean Multiclass Equality of Opportunity   0.491702          0\n",
              "Mean Multiclass Average Odds              0.402064          0\n",
              "Mean Multiclass True Positive Difference  0.315663          0"
            ]
          },
          "execution_count": 17,
          "metadata": {},
          "output_type": "execute_result"
        }
      ],
      "source": [
        "p_attr = sensgroup.fit_transform(np.stack([group_a,group_b], axis=1), convert_numeric=True)\n",
        "\n",
        "df_baseline = multiclass_bias_metrics(\n",
        "    p_attr,\n",
        "    y_pred,\n",
        "    y,\n",
        "    metric_type='both'\n",
        ")\n",
        "df_baseline"
      ]
    },
    {
      "attachments": {},
      "cell_type": "markdown",
      "metadata": {
        "id": "MskcKa5MXhsz"
      },
      "source": [
        "All of the previous metrics are generalizations of the metris used for the binary case, consequently:\n",
        "\n",
        "*   **Multiclass Statistical parity:** Computes the statistical parity between multiple classes and a protected attribute with multiple groups. For each group computes the vector of success rates for entering each class, finally uses the mean or max strategies to aggregate them. Same as the 1d case, values in the range (-0.1, 0.1) are considered acceptable.\n",
        "*   **Multiclass Equality of Opportunity:** Computes the matrix of error rates for each group, then computes all distances (mean absolute deviation) between such matrices, finally uses the mean or max strategies to aggregate them. Same as the 1d case, values in the range (-0.1, 0.1) are considered acceptable.\n",
        "*   **Multiclass Average Odds:** Computes the matrix of error rates for each group, then averages these matrices over rows, and computes all pairwise distances between the resulting vectors, finally uses the mean or max strategies to aggregate them. Same as the 1d case, values in the range (-0.1, 0.1) are considered acceptable.\n",
        "*   **Multiclass True Positive Difference:** Computes the matrix of error rates for each group, then computes all pairwise distances between the diagonal of such matrices, finally uses the mean or max strategies to aggregate them. Same as the 1d case, values in the range (-0.1, 0.1) are considered acceptable.\n",
        "\n",
        "\n",
        "Source: [*HolisticAI docs*](https://holisticai.readthedocs.io/en/latest/metrics.html#multiclass-classification)"
      ]
    },
    {
      "attachments": {},
      "cell_type": "markdown",
      "metadata": {
        "id": "bChedXHnX-7t"
      },
      "source": [
        "## **6. Bias mitigation**\n",
        "### **Reweighing: Preprocessing method**\n",
        "\n",
        "Now that we could observe that the model metrics are far away from the desired values, we need to apply some kind of strategy to mitigate the bias present in the model.\n",
        "\n",
        "Exists different kinds of strategies, and the literature has divided them into three categories: *Pre-processing*, *in-processing* and *post-processing* methods. The `holisticai` library possesses different algorithms from these categories for bias mitigation. An interesting feature is that all of them are compatible with the `Scikit-learn` package, so that, if you are familiar with this package, you will not have problems using the library. As you will see later, its implementation can be done following the traditional way, or by applying the pipeline. \n",
        "\n",
        "For this opportunity, we will implement the \"Reweighing\" method which is an pre-processing technique that adapts the impact of the training instances by *reweighing* their importance according to its label and the protected attributes to ensure fairness before classification."
      ]
    },
    {
      "attachments": {},
      "cell_type": "markdown",
      "metadata": {
        "id": "NJkMSL2_YDRC"
      },
      "source": [
        "### **Traditional implementation**"
      ]
    },
    {
      "cell_type": "code",
      "execution_count": 18,
      "metadata": {
        "id": "6kfpgtQSJOzt"
      },
      "outputs": [],
      "source": [
        "from holisticai.bias.mitigation import Reweighing"
      ]
    },
    {
      "cell_type": "code",
      "execution_count": 19,
      "metadata": {
        "colab": {
          "base_uri": "https://localhost:8080/",
          "height": 332
        },
        "id": "MzL49e-CMTAE",
        "outputId": "cf395e15-c1d7-4407-ad07-6e112ef05c43"
      },
      "outputs": [
        {
          "data": {
            "text/html": [
              "<div>\n",
              "<style scoped>\n",
              "    .dataframe tbody tr th:only-of-type {\n",
              "        vertical-align: middle;\n",
              "    }\n",
              "\n",
              "    .dataframe tbody tr th {\n",
              "        vertical-align: top;\n",
              "    }\n",
              "\n",
              "    .dataframe thead th {\n",
              "        text-align: right;\n",
              "    }\n",
              "</style>\n",
              "<table border=\"1\" class=\"dataframe\">\n",
              "  <thead>\n",
              "    <tr style=\"text-align: right;\">\n",
              "      <th></th>\n",
              "      <th>Value</th>\n",
              "      <th>Reference</th>\n",
              "    </tr>\n",
              "    <tr>\n",
              "      <th>Metric</th>\n",
              "      <th></th>\n",
              "      <th></th>\n",
              "    </tr>\n",
              "  </thead>\n",
              "  <tbody>\n",
              "    <tr>\n",
              "      <th>Max Multiclass Statistical Parity</th>\n",
              "      <td>0.569697</td>\n",
              "      <td>0</td>\n",
              "    </tr>\n",
              "    <tr>\n",
              "      <th>Mean Multiclass Statistical Parity</th>\n",
              "      <td>0.569697</td>\n",
              "      <td>0</td>\n",
              "    </tr>\n",
              "    <tr>\n",
              "      <th>Max Multiclass Equality of Opportunity</th>\n",
              "      <td>0.464632</td>\n",
              "      <td>0</td>\n",
              "    </tr>\n",
              "    <tr>\n",
              "      <th>Max Multiclass Average Odds</th>\n",
              "      <td>0.384401</td>\n",
              "      <td>0</td>\n",
              "    </tr>\n",
              "    <tr>\n",
              "      <th>Max Multiclass True Positive Difference</th>\n",
              "      <td>0.333193</td>\n",
              "      <td>0</td>\n",
              "    </tr>\n",
              "    <tr>\n",
              "      <th>Mean Multiclass Equality of Opportunity</th>\n",
              "      <td>0.464632</td>\n",
              "      <td>0</td>\n",
              "    </tr>\n",
              "    <tr>\n",
              "      <th>Mean Multiclass Average Odds</th>\n",
              "      <td>0.384401</td>\n",
              "      <td>0</td>\n",
              "    </tr>\n",
              "    <tr>\n",
              "      <th>Mean Multiclass True Positive Difference</th>\n",
              "      <td>0.333193</td>\n",
              "      <td>0</td>\n",
              "    </tr>\n",
              "  </tbody>\n",
              "</table>\n",
              "</div>"
            ],
            "text/plain": [
              "                                             Value  Reference\n",
              "Metric                                                       \n",
              "Max Multiclass Statistical Parity         0.569697          0\n",
              "Mean Multiclass Statistical Parity        0.569697          0\n",
              "Max Multiclass Equality of Opportunity    0.464632          0\n",
              "Max Multiclass Average Odds               0.384401          0\n",
              "Max Multiclass True Positive Difference   0.333193          0\n",
              "Mean Multiclass Equality of Opportunity   0.464632          0\n",
              "Mean Multiclass Average Odds              0.384401          0\n",
              "Mean Multiclass True Positive Difference  0.333193          0"
            ]
          },
          "execution_count": 19,
          "metadata": {},
          "output_type": "execute_result"
        }
      ],
      "source": [
        "X, y, group_a, group_b = train_data\n",
        "\n",
        "scaler = StandardScaler()\n",
        "X = scaler.fit_transform(X)\n",
        "\n",
        "preprocessing_mitigator = Reweighing()\n",
        "\n",
        "fit_params = {\"group_a\": group_a, \"group_b\": group_b}\n",
        "\n",
        "preprocessing_mitigator.fit(y, **fit_params)\n",
        "\n",
        "sw = preprocessing_mitigator.estimator_params[\"sample_weight\"]\n",
        "\n",
        "model = LogisticRegression()\n",
        "\n",
        "model.fit(X, y, sw)\n",
        "\n",
        "X, y, group_a, group_b = test_data\n",
        "fit_params = {\"group_a\": group_a, \"group_b\": group_b}\n",
        "\n",
        "X = scaler.transform(X)\n",
        "X = preprocessing_mitigator.transform(X, **fit_params)\n",
        "\n",
        "y_pred = model.predict(X)\n",
        "\n",
        "p_attr = sensgroup.fit_transform(np.stack([group_a,group_b], axis=1), convert_numeric=True)\n",
        "\n",
        "df_rew = multiclass_bias_metrics(\n",
        "    p_attr,\n",
        "    y_pred,\n",
        "    y,\n",
        "    metric_type='both'\n",
        ")\n",
        "df_rew"
      ]
    },
    {
      "attachments": {},
      "cell_type": "markdown",
      "metadata": {
        "id": "hTP3Uvd5YG6J"
      },
      "source": [
        "### **Pipeline implementation**\n",
        "\n",
        "Now that we could see how this method is implemented traditionally, let's try implementing it by using the Scikit-learn Pipeline. Notice that we shouldn't have highly variations in the metrics for the previous implementation."
      ]
    },
    {
      "cell_type": "code",
      "execution_count": null,
      "metadata": {
        "colab": {
          "base_uri": "https://localhost:8080/",
          "height": 332
        },
        "id": "XIePiA98MS9e",
        "outputId": "d1f442f3-aa1f-43f6-857b-c345ef3df346"
      },
      "outputs": [
        {
          "data": {
            "text/html": [
              "\n",
              "  <div id=\"df-9d5d1019-2e81-44dc-b129-92731a662116\">\n",
              "    <div class=\"colab-df-container\">\n",
              "      <div>\n",
              "<style scoped>\n",
              "    .dataframe tbody tr th:only-of-type {\n",
              "        vertical-align: middle;\n",
              "    }\n",
              "\n",
              "    .dataframe tbody tr th {\n",
              "        vertical-align: top;\n",
              "    }\n",
              "\n",
              "    .dataframe thead th {\n",
              "        text-align: right;\n",
              "    }\n",
              "</style>\n",
              "<table border=\"1\" class=\"dataframe\">\n",
              "  <thead>\n",
              "    <tr style=\"text-align: right;\">\n",
              "      <th></th>\n",
              "      <th>Value</th>\n",
              "      <th>Reference</th>\n",
              "    </tr>\n",
              "    <tr>\n",
              "      <th>Metric</th>\n",
              "      <th></th>\n",
              "      <th></th>\n",
              "    </tr>\n",
              "  </thead>\n",
              "  <tbody>\n",
              "    <tr>\n",
              "      <th>Max Multiclass Statistical Parity</th>\n",
              "      <td>0.569697</td>\n",
              "      <td>0</td>\n",
              "    </tr>\n",
              "    <tr>\n",
              "      <th>Mean Multiclass Statistical Parity</th>\n",
              "      <td>0.569697</td>\n",
              "      <td>0</td>\n",
              "    </tr>\n",
              "    <tr>\n",
              "      <th>Max Multiclass Equality of Opportunity</th>\n",
              "      <td>0.464632</td>\n",
              "      <td>0</td>\n",
              "    </tr>\n",
              "    <tr>\n",
              "      <th>Max Multiclass Average Odds</th>\n",
              "      <td>0.384401</td>\n",
              "      <td>0</td>\n",
              "    </tr>\n",
              "    <tr>\n",
              "      <th>Max Multiclass True Positive Difference</th>\n",
              "      <td>0.333193</td>\n",
              "      <td>0</td>\n",
              "    </tr>\n",
              "    <tr>\n",
              "      <th>Mean Multiclass Equality of Opportunity</th>\n",
              "      <td>0.464632</td>\n",
              "      <td>0</td>\n",
              "    </tr>\n",
              "    <tr>\n",
              "      <th>Mean Multiclass Average Odds</th>\n",
              "      <td>0.384401</td>\n",
              "      <td>0</td>\n",
              "    </tr>\n",
              "    <tr>\n",
              "      <th>Mean Multiclass True Positive Difference</th>\n",
              "      <td>0.333193</td>\n",
              "      <td>0</td>\n",
              "    </tr>\n",
              "  </tbody>\n",
              "</table>\n",
              "</div>\n",
              "      <button class=\"colab-df-convert\" onclick=\"convertToInteractive('df-9d5d1019-2e81-44dc-b129-92731a662116')\"\n",
              "              title=\"Convert this dataframe to an interactive table.\"\n",
              "              style=\"display:none;\">\n",
              "        \n",
              "  <svg xmlns=\"http://www.w3.org/2000/svg\" height=\"24px\"viewBox=\"0 0 24 24\"\n",
              "       width=\"24px\">\n",
              "    <path d=\"M0 0h24v24H0V0z\" fill=\"none\"/>\n",
              "    <path d=\"M18.56 5.44l.94 2.06.94-2.06 2.06-.94-2.06-.94-.94-2.06-.94 2.06-2.06.94zm-11 1L8.5 8.5l.94-2.06 2.06-.94-2.06-.94L8.5 2.5l-.94 2.06-2.06.94zm10 10l.94 2.06.94-2.06 2.06-.94-2.06-.94-.94-2.06-.94 2.06-2.06.94z\"/><path d=\"M17.41 7.96l-1.37-1.37c-.4-.4-.92-.59-1.43-.59-.52 0-1.04.2-1.43.59L10.3 9.45l-7.72 7.72c-.78.78-.78 2.05 0 2.83L4 21.41c.39.39.9.59 1.41.59.51 0 1.02-.2 1.41-.59l7.78-7.78 2.81-2.81c.8-.78.8-2.07 0-2.86zM5.41 20L4 18.59l7.72-7.72 1.47 1.35L5.41 20z\"/>\n",
              "  </svg>\n",
              "      </button>\n",
              "      \n",
              "  <style>\n",
              "    .colab-df-container {\n",
              "      display:flex;\n",
              "      flex-wrap:wrap;\n",
              "      gap: 12px;\n",
              "    }\n",
              "\n",
              "    .colab-df-convert {\n",
              "      background-color: #E8F0FE;\n",
              "      border: none;\n",
              "      border-radius: 50%;\n",
              "      cursor: pointer;\n",
              "      display: none;\n",
              "      fill: #1967D2;\n",
              "      height: 32px;\n",
              "      padding: 0 0 0 0;\n",
              "      width: 32px;\n",
              "    }\n",
              "\n",
              "    .colab-df-convert:hover {\n",
              "      background-color: #E2EBFA;\n",
              "      box-shadow: 0px 1px 2px rgba(60, 64, 67, 0.3), 0px 1px 3px 1px rgba(60, 64, 67, 0.15);\n",
              "      fill: #174EA6;\n",
              "    }\n",
              "\n",
              "    [theme=dark] .colab-df-convert {\n",
              "      background-color: #3B4455;\n",
              "      fill: #D2E3FC;\n",
              "    }\n",
              "\n",
              "    [theme=dark] .colab-df-convert:hover {\n",
              "      background-color: #434B5C;\n",
              "      box-shadow: 0px 1px 3px 1px rgba(0, 0, 0, 0.15);\n",
              "      filter: drop-shadow(0px 1px 2px rgba(0, 0, 0, 0.3));\n",
              "      fill: #FFFFFF;\n",
              "    }\n",
              "  </style>\n",
              "\n",
              "      <script>\n",
              "        const buttonEl =\n",
              "          document.querySelector('#df-9d5d1019-2e81-44dc-b129-92731a662116 button.colab-df-convert');\n",
              "        buttonEl.style.display =\n",
              "          google.colab.kernel.accessAllowed ? 'block' : 'none';\n",
              "\n",
              "        async function convertToInteractive(key) {\n",
              "          const element = document.querySelector('#df-9d5d1019-2e81-44dc-b129-92731a662116');\n",
              "          const dataTable =\n",
              "            await google.colab.kernel.invokeFunction('convertToInteractive',\n",
              "                                                     [key], {});\n",
              "          if (!dataTable) return;\n",
              "\n",
              "          const docLinkHtml = 'Like what you see? Visit the ' +\n",
              "            '<a target=\"_blank\" href=https://colab.research.google.com/notebooks/data_table.ipynb>data table notebook</a>'\n",
              "            + ' to learn more about interactive tables.';\n",
              "          element.innerHTML = '';\n",
              "          dataTable['output_type'] = 'display_data';\n",
              "          await google.colab.output.renderOutput(dataTable, element);\n",
              "          const docLink = document.createElement('div');\n",
              "          docLink.innerHTML = docLinkHtml;\n",
              "          element.appendChild(docLink);\n",
              "        }\n",
              "      </script>\n",
              "    </div>\n",
              "  </div>\n",
              "  "
            ],
            "text/plain": [
              "                                             Value  Reference\n",
              "Metric                                                       \n",
              "Max Multiclass Statistical Parity         0.569697          0\n",
              "Mean Multiclass Statistical Parity        0.569697          0\n",
              "Max Multiclass Equality of Opportunity    0.464632          0\n",
              "Max Multiclass Average Odds               0.384401          0\n",
              "Max Multiclass True Positive Difference   0.333193          0\n",
              "Mean Multiclass Equality of Opportunity   0.464632          0\n",
              "Mean Multiclass Average Odds              0.384401          0\n",
              "Mean Multiclass True Positive Difference  0.333193          0"
            ]
          },
          "execution_count": 24,
          "metadata": {},
          "output_type": "execute_result"
        }
      ],
      "source": [
        "pipeline = Pipeline(\n",
        "    steps=[\n",
        "        ('scalar', StandardScaler()),\n",
        "        (\"bm_preprocessing\", Reweighing()),\n",
        "        (\"model\", LogisticRegression()),\n",
        "    ]\n",
        ")\n",
        "\n",
        "X, y, group_a, group_b = train_data\n",
        "fit_params = {\n",
        "    \"bm__group_a\": group_a, \n",
        "    \"bm__group_b\": group_b\n",
        "}\n",
        "\n",
        "pipeline.fit(X, y, **fit_params)\n",
        "\n",
        "X, y, group_a, group_b = test_data\n",
        "predict_params = {\n",
        "    \"bm__group_a\": group_a,\n",
        "    \"bm__group_b\": group_b,\n",
        "}\n",
        "y_pred = pipeline.predict(X, **predict_params)\n",
        "\n",
        "p_attr = sensgroup.transform(np.stack([group_a,group_b], axis=1), convert_numeric=True)\n",
        "\n",
        "df_rew_w_p = multiclass_bias_metrics(\n",
        "    p_attr,\n",
        "    y_pred,\n",
        "    y,\n",
        "    metric_type='both'\n",
        ")\n",
        "df_rew_w_p"
      ]
    },
    {
      "attachments": {},
      "cell_type": "markdown",
      "metadata": {
        "id": "in-LqsuoYLHh"
      },
      "source": [
        "## **7. Results comparison**\n",
        "\n",
        "Now that we could observe how is the implementation of the mitigator in the model, we will compare the results between the baseline and the implementations with the mitigator to analyse how the metrics have changed."
      ]
    },
    {
      "cell_type": "code",
      "execution_count": null,
      "metadata": {
        "colab": {
          "base_uri": "https://localhost:8080/",
          "height": 445
        },
        "id": "jsQJq1ozMS6t",
        "outputId": "9182164e-076b-499d-8fa4-84b7950013f1"
      },
      "outputs": [
        {
          "data": {
            "text/html": [
              "\n",
              "  <div id=\"df-cf3ee726-5af1-4278-a473-40b41ced73b6\">\n",
              "    <div class=\"colab-df-container\">\n",
              "      <div>\n",
              "<style scoped>\n",
              "    .dataframe tbody tr th:only-of-type {\n",
              "        vertical-align: middle;\n",
              "    }\n",
              "\n",
              "    .dataframe tbody tr th {\n",
              "        vertical-align: top;\n",
              "    }\n",
              "\n",
              "    .dataframe thead th {\n",
              "        text-align: right;\n",
              "    }\n",
              "</style>\n",
              "<table border=\"1\" class=\"dataframe\">\n",
              "  <thead>\n",
              "    <tr style=\"text-align: right;\">\n",
              "      <th></th>\n",
              "      <th>Baseline</th>\n",
              "      <th>Mitigator without pipeline</th>\n",
              "      <th>Mitigator with pipeline</th>\n",
              "      <th>Reference</th>\n",
              "    </tr>\n",
              "    <tr>\n",
              "      <th>Metric</th>\n",
              "      <th></th>\n",
              "      <th></th>\n",
              "      <th></th>\n",
              "      <th></th>\n",
              "    </tr>\n",
              "  </thead>\n",
              "  <tbody>\n",
              "    <tr>\n",
              "      <th>Max Multiclass Statistical Parity</th>\n",
              "      <td>0.642819</td>\n",
              "      <td>0.569697</td>\n",
              "      <td>0.569697</td>\n",
              "      <td>0</td>\n",
              "    </tr>\n",
              "    <tr>\n",
              "      <th>Mean Multiclass Statistical Parity</th>\n",
              "      <td>0.642819</td>\n",
              "      <td>0.569697</td>\n",
              "      <td>0.569697</td>\n",
              "      <td>0</td>\n",
              "    </tr>\n",
              "    <tr>\n",
              "      <th>Max Multiclass Equality of Opportunity</th>\n",
              "      <td>0.491702</td>\n",
              "      <td>0.464632</td>\n",
              "      <td>0.464632</td>\n",
              "      <td>0</td>\n",
              "    </tr>\n",
              "    <tr>\n",
              "      <th>Max Multiclass Average Odds</th>\n",
              "      <td>0.402064</td>\n",
              "      <td>0.384401</td>\n",
              "      <td>0.384401</td>\n",
              "      <td>0</td>\n",
              "    </tr>\n",
              "    <tr>\n",
              "      <th>Max Multiclass True Positive Difference</th>\n",
              "      <td>0.315663</td>\n",
              "      <td>0.333193</td>\n",
              "      <td>0.333193</td>\n",
              "      <td>0</td>\n",
              "    </tr>\n",
              "    <tr>\n",
              "      <th>Mean Multiclass Equality of Opportunity</th>\n",
              "      <td>0.491702</td>\n",
              "      <td>0.464632</td>\n",
              "      <td>0.464632</td>\n",
              "      <td>0</td>\n",
              "    </tr>\n",
              "    <tr>\n",
              "      <th>Mean Multiclass Average Odds</th>\n",
              "      <td>0.402064</td>\n",
              "      <td>0.384401</td>\n",
              "      <td>0.384401</td>\n",
              "      <td>0</td>\n",
              "    </tr>\n",
              "    <tr>\n",
              "      <th>Mean Multiclass True Positive Difference</th>\n",
              "      <td>0.315663</td>\n",
              "      <td>0.333193</td>\n",
              "      <td>0.333193</td>\n",
              "      <td>0</td>\n",
              "    </tr>\n",
              "  </tbody>\n",
              "</table>\n",
              "</div>\n",
              "      <button class=\"colab-df-convert\" onclick=\"convertToInteractive('df-cf3ee726-5af1-4278-a473-40b41ced73b6')\"\n",
              "              title=\"Convert this dataframe to an interactive table.\"\n",
              "              style=\"display:none;\">\n",
              "        \n",
              "  <svg xmlns=\"http://www.w3.org/2000/svg\" height=\"24px\"viewBox=\"0 0 24 24\"\n",
              "       width=\"24px\">\n",
              "    <path d=\"M0 0h24v24H0V0z\" fill=\"none\"/>\n",
              "    <path d=\"M18.56 5.44l.94 2.06.94-2.06 2.06-.94-2.06-.94-.94-2.06-.94 2.06-2.06.94zm-11 1L8.5 8.5l.94-2.06 2.06-.94-2.06-.94L8.5 2.5l-.94 2.06-2.06.94zm10 10l.94 2.06.94-2.06 2.06-.94-2.06-.94-.94-2.06-.94 2.06-2.06.94z\"/><path d=\"M17.41 7.96l-1.37-1.37c-.4-.4-.92-.59-1.43-.59-.52 0-1.04.2-1.43.59L10.3 9.45l-7.72 7.72c-.78.78-.78 2.05 0 2.83L4 21.41c.39.39.9.59 1.41.59.51 0 1.02-.2 1.41-.59l7.78-7.78 2.81-2.81c.8-.78.8-2.07 0-2.86zM5.41 20L4 18.59l7.72-7.72 1.47 1.35L5.41 20z\"/>\n",
              "  </svg>\n",
              "      </button>\n",
              "      \n",
              "  <style>\n",
              "    .colab-df-container {\n",
              "      display:flex;\n",
              "      flex-wrap:wrap;\n",
              "      gap: 12px;\n",
              "    }\n",
              "\n",
              "    .colab-df-convert {\n",
              "      background-color: #E8F0FE;\n",
              "      border: none;\n",
              "      border-radius: 50%;\n",
              "      cursor: pointer;\n",
              "      display: none;\n",
              "      fill: #1967D2;\n",
              "      height: 32px;\n",
              "      padding: 0 0 0 0;\n",
              "      width: 32px;\n",
              "    }\n",
              "\n",
              "    .colab-df-convert:hover {\n",
              "      background-color: #E2EBFA;\n",
              "      box-shadow: 0px 1px 2px rgba(60, 64, 67, 0.3), 0px 1px 3px 1px rgba(60, 64, 67, 0.15);\n",
              "      fill: #174EA6;\n",
              "    }\n",
              "\n",
              "    [theme=dark] .colab-df-convert {\n",
              "      background-color: #3B4455;\n",
              "      fill: #D2E3FC;\n",
              "    }\n",
              "\n",
              "    [theme=dark] .colab-df-convert:hover {\n",
              "      background-color: #434B5C;\n",
              "      box-shadow: 0px 1px 3px 1px rgba(0, 0, 0, 0.15);\n",
              "      filter: drop-shadow(0px 1px 2px rgba(0, 0, 0, 0.3));\n",
              "      fill: #FFFFFF;\n",
              "    }\n",
              "  </style>\n",
              "\n",
              "      <script>\n",
              "        const buttonEl =\n",
              "          document.querySelector('#df-cf3ee726-5af1-4278-a473-40b41ced73b6 button.colab-df-convert');\n",
              "        buttonEl.style.display =\n",
              "          google.colab.kernel.accessAllowed ? 'block' : 'none';\n",
              "\n",
              "        async function convertToInteractive(key) {\n",
              "          const element = document.querySelector('#df-cf3ee726-5af1-4278-a473-40b41ced73b6');\n",
              "          const dataTable =\n",
              "            await google.colab.kernel.invokeFunction('convertToInteractive',\n",
              "                                                     [key], {});\n",
              "          if (!dataTable) return;\n",
              "\n",
              "          const docLinkHtml = 'Like what you see? Visit the ' +\n",
              "            '<a target=\"_blank\" href=https://colab.research.google.com/notebooks/data_table.ipynb>data table notebook</a>'\n",
              "            + ' to learn more about interactive tables.';\n",
              "          element.innerHTML = '';\n",
              "          dataTable['output_type'] = 'display_data';\n",
              "          await google.colab.output.renderOutput(dataTable, element);\n",
              "          const docLink = document.createElement('div');\n",
              "          docLink.innerHTML = docLinkHtml;\n",
              "          element.appendChild(docLink);\n",
              "        }\n",
              "      </script>\n",
              "    </div>\n",
              "  </div>\n",
              "  "
            ],
            "text/plain": [
              "                                          Baseline  \\\n",
              "Metric                                               \n",
              "Max Multiclass Statistical Parity         0.642819   \n",
              "Mean Multiclass Statistical Parity        0.642819   \n",
              "Max Multiclass Equality of Opportunity    0.491702   \n",
              "Max Multiclass Average Odds               0.402064   \n",
              "Max Multiclass True Positive Difference   0.315663   \n",
              "Mean Multiclass Equality of Opportunity   0.491702   \n",
              "Mean Multiclass Average Odds              0.402064   \n",
              "Mean Multiclass True Positive Difference  0.315663   \n",
              "\n",
              "                                          Mitigator without pipeline  \\\n",
              "Metric                                                                 \n",
              "Max Multiclass Statistical Parity                           0.569697   \n",
              "Mean Multiclass Statistical Parity                          0.569697   \n",
              "Max Multiclass Equality of Opportunity                      0.464632   \n",
              "Max Multiclass Average Odds                                 0.384401   \n",
              "Max Multiclass True Positive Difference                     0.333193   \n",
              "Mean Multiclass Equality of Opportunity                     0.464632   \n",
              "Mean Multiclass Average Odds                                0.384401   \n",
              "Mean Multiclass True Positive Difference                    0.333193   \n",
              "\n",
              "                                          Mitigator with pipeline  Reference  \n",
              "Metric                                                                        \n",
              "Max Multiclass Statistical Parity                        0.569697          0  \n",
              "Mean Multiclass Statistical Parity                       0.569697          0  \n",
              "Max Multiclass Equality of Opportunity                   0.464632          0  \n",
              "Max Multiclass Average Odds                              0.384401          0  \n",
              "Max Multiclass True Positive Difference                  0.333193          0  \n",
              "Mean Multiclass Equality of Opportunity                  0.464632          0  \n",
              "Mean Multiclass Average Odds                             0.384401          0  \n",
              "Mean Multiclass True Positive Difference                 0.333193          0  "
            ]
          },
          "execution_count": 26,
          "metadata": {},
          "output_type": "execute_result"
        }
      ],
      "source": [
        "result = pd.concat([df_baseline, df_rew, df_rew_w_p], axis=1).iloc[:, [0,2,4,1]]\n",
        "result.columns = ['Baseline','Mitigator without pipeline',\"Mitigator with pipeline\", 'Reference']\n",
        "result"
      ]
    },
    {
      "attachments": {},
      "cell_type": "markdown",
      "metadata": {
        "id": "NwajjOotYPVv"
      },
      "source": [
        "From the previous chart, we can see that although the actual metrics are still far from the ideal values, an improvement is obtained by applying this method in the dataset, compared with our baseline. "
      ]
    },
    {
      "attachments": {},
      "cell_type": "markdown",
      "metadata": {
        "id": "k7Yl1cDTYffd"
      },
      "source": [
        "## **Summary**\n",
        "Through this tutorial we could present to the user how the `holisticai` library can be easily used to measure the bias present in classification models by the application of the `multiclass_bias_metrics` function, which returns the calculated values for different metrics and their references respectively. \n",
        "\n",
        "In addition, we shown how to mitigate the bias by applying some methods, for this opportunity we applied the \"Reweighing\" technique to train a fairness model, this is a pre-processing method that weights the examples in each group-label combination to ensure fairness before the classification."
      ]
    },
    {
      "cell_type": "code",
      "execution_count": null,
      "metadata": {
        "id": "wV7nr05ZJOuL"
      },
      "outputs": [],
      "source": []
    }
  ],
  "metadata": {
    "colab": {
      "provenance": []
    },
    "kernelspec": {
      "display_name": "Python 3",
      "name": "python3"
    },
    "language_info": {
      "codemirror_mode": {
        "name": "ipython",
        "version": 3
      },
      "file_extension": ".py",
      "mimetype": "text/x-python",
      "name": "python",
      "nbconvert_exporter": "python",
      "pygments_lexer": "ipython3",
      "version": "3.9.8"
    }
  },
  "nbformat": 4,
  "nbformat_minor": 0
}
