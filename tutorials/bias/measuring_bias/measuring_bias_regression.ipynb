{
 "cells": [
  {
   "cell_type": "markdown",
   "metadata": {
    "id": "pFKF6N69kCay"
   },
   "source": [
    "# **Measuring Bias in regression**\n"
   ]
  },
  {
   "cell_type": "markdown",
   "metadata": {
    "id": "M6FIAeuWthwF"
   },
   "source": [
    "This notebook is a tutorial on auditing bias within a regression task. We will use the holisticai library thoughout, introducing some of the functions we have created to help study algorithmic bias.\n",
    "\n",
    "The sections are organised as follows :\n",
    "1. Load the data : we load the student grades dataset as a pandas DataFrame\n",
    "2. Data Exploration : some preliminary analysis of the data\n",
    "3. Train a Model : we train a simple linear regression model (sklearn)\n",
    "4. Measure Bias : we compute a few bias metrics, and comment on their meaning"
   ]
  },
  {
   "cell_type": "markdown",
   "metadata": {
    "id": "-nYt5_h77QGN"
   },
   "source": [
    "## **Load the data**"
   ]
  },
  {
   "cell_type": "markdown",
   "metadata": {
    "id": "tbKKjChztpDi"
   },
   "source": [
    "First of all, we need to import the required packages to perform our bias analysis and mitigation. You will need to have the `holisticai` package installed on your system, remember that you can install it by running: \n",
    "```bash\n",
    "!pip install holisticai[all]\n",
    "```"
   ]
  },
  {
   "cell_type": "code",
   "execution_count": 1,
   "metadata": {
    "execution": {
     "iopub.execute_input": "2024-09-08T05:51:27.322941Z",
     "iopub.status.busy": "2024-09-08T05:51:27.322056Z",
     "iopub.status.idle": "2024-09-08T05:51:27.410264Z",
     "shell.execute_reply": "2024-09-08T05:51:27.409697Z"
    },
    "id": "ePoS2ium8_vF"
   },
   "outputs": [],
   "source": [
    "# Imports\n",
    "import numpy as np\n",
    "import warnings\n",
    "warnings.filterwarnings(\"ignore\")"
   ]
  },
  {
   "cell_type": "markdown",
   "metadata": {
    "id": "DqI2HD2BthwR"
   },
   "source": [
    "We host a few example datasets on the holisticai library for quick loading and experimentation. Here we load and use the Student dataset. The goal of this dataset is the prediction of the numerical attribute 'G3' (mathematics grade of student in 3rd trimester). There are a number of sensitive attributes in this dataset, some of which are : sex, address, Mjob (mother's job), Fjob (father's job)...\n",
    "\n",
    "Although the `load_dataset` function returns a preprocessed version, in this opportunity we will perform this processing by ourselves since the default preprocessing is more suitable for multiclassification tasks."
   ]
  },
  {
   "cell_type": "code",
   "execution_count": 2,
   "metadata": {
    "colab": {
     "base_uri": "https://localhost:8080/",
     "height": 424
    },
    "execution": {
     "iopub.execute_input": "2024-09-08T05:51:27.413011Z",
     "iopub.status.busy": "2024-09-08T05:51:27.412589Z",
     "iopub.status.idle": "2024-09-08T05:51:27.968105Z",
     "shell.execute_reply": "2024-09-08T05:51:27.967633Z"
    },
    "id": "bvu7PnRfthwP",
    "outputId": "9bdca4e4-5932-4498-ca7a-3bc695320c34"
   },
   "outputs": [
    {
     "data": {
      "text/html": [
       "\n",
       "    <style>\n",
       "        @import url('https://fonts.googleapis.com/css2?family=Montserrat:ital,wght@0,100..900;1,100..900&display=swap');\n",
       "\n",
       "/* Light blue theme (default) */\n",
       ".generic-object-container.blue {\n",
       "    background-color: rgba(242, 248, 253, 0.9) !important; /* Light blue with 70% opacity */\n",
       "    border-color: #4db6ac !important; /* Soft blue border */\n",
       "}\n",
       "\n",
       ".generic-object-header.blue {\n",
       "    background-color: rgba(152, 171, 202, 0.4) !important; /* Darker blue with 60% opacity */\n",
       "}\n",
       "\n",
       ".generic-object-header.blue:hover {\n",
       "    background-color: rgba(139, 177, 192, 0.8) !important; /* Darker blue on hover with 60% opacity */\n",
       "}\n",
       "\n",
       ".attribute-list.blue:hover {\n",
       "    background-color: rgba(178, 223, 219, 0.8) !important; /* Attribute hover background with 60% opacity */\n",
       "}\n",
       "\n",
       "/* Orange theme */\n",
       ".generic-object-container.orange {\n",
       "    background-color: #fff9ef !important; /* Container background: light orange */\n",
       "    border-color: #ffb74d !important; /* Soft orange border */\n",
       "}\n",
       "\n",
       ".generic-object-header.orange {\n",
       "    background-color: #ffe0b2 !important; /* Header background: darker orange */\n",
       "}\n",
       "\n",
       ".generic-object-header.orange:hover {\n",
       "    background-color: #ffcc80 !important; /* Darker shade on hover over the header */\n",
       "}\n",
       "\n",
       ".attribute-list.orange:hover {\n",
       "    background-color: #ffe0b2 !important; /* Attribute background on hover: darker orange */\n",
       "}\n",
       "\n",
       "/* Green theme */\n",
       ".generic-object-container.green {\n",
       "    background-color: #f6fff6 !important; /* Container background: light green */\n",
       "    border-color: #81c784 !important; /* Soft green border */\n",
       "}\n",
       "\n",
       ".generic-object-header.green {\n",
       "    background-color: #c8e6c9 !important; /* Header background: darker green */\n",
       "}\n",
       "\n",
       ".generic-object-header.green:hover {\n",
       "    background-color: #a5d6a7 !important; /* Darker shade on hover over the header */\n",
       "}\n",
       "\n",
       ".attribute-list.green:hover {\n",
       "    background-color: #c8e6c9 !important; /* Attribute background on hover: darker green */\n",
       "}\n",
       "\n",
       "/* Align the first container to the left */\n",
       ".generic-object-container.first-level {\n",
       "    margin: 0;\n",
       "    width: auto;\n",
       "    max-width: 800px;\n",
       "    display: block;\n",
       "    box-sizing: border-box;\n",
       "}\n",
       "\n",
       "/* Nested containers stay centered */\n",
       ".generic-object-container .generic-object-container {\n",
       "    margin: 5px auto;\n",
       "    width: 100%;\n",
       "    display: block;\n",
       "    padding: 5px 0;\n",
       "}\n",
       "\n",
       "/* Remove default background color so only themes apply it */\n",
       ".generic-object-container {\n",
       "    padding: 0;\n",
       "    margin: 0 auto;\n",
       "    border: 0px dashed;\n",
       "    border-radius: 5px;\n",
       "    display: block;\n",
       "    width: auto;\n",
       "    max-width: 800px;\n",
       "    box-sizing: border-box;\n",
       "    margin-bottom: 15px;\n",
       "    transition: transform 0.2s, box-shadow 0.2s;\n",
       "    box-shadow: 0px 2px 5px rgba(77, 182, 172, 0.3);\n",
       "}\n",
       "\n",
       ".generic-object-container:hover {\n",
       "    box-shadow: 0px 8px 20px rgba(77, 182, 172, 0.3);\n",
       "}\n",
       "\n",
       ".generic-object-header {\n",
       "    font-family: 'Montserrat', Arial, sans-serif;\n",
       "    font-size: 14px;\n",
       "    padding: 10px 20px;\n",
       "    padding-left: 40px;\n",
       "    text-align: center;\n",
       "    font-weight: bold;\n",
       "    cursor: pointer;\n",
       "    display: flex;\n",
       "    align-items: center;\n",
       "    justify-content: center;\n",
       "    position: relative;\n",
       "    width: 100%;\n",
       "    box-sizing: border-box;\n",
       "    border-radius: 5px;\n",
       "    transition: background-color 0.3s;\n",
       "}\n",
       "\n",
       ".toggle-button {\n",
       "    margin-right: 10px;\n",
       "    background: none;\n",
       "    border: none;\n",
       "    font-size: 13px;\n",
       "    cursor: pointer;\n",
       "    position: absolute;\n",
       "    left: 10px;\n",
       "    color: #004d40;\n",
       "}\n",
       "\n",
       ".generic-object-body {\n",
       "    padding: 5px 10px;\n",
       "    display: block;\n",
       "    border-radius: 0 0 5px 5px;\n",
       "    background-color: inherit;\n",
       "    margin: 0 auto;\n",
       "}\n",
       "\n",
       ".hidden {\n",
       "    display: none;\n",
       "}\n",
       "\n",
       ".attribute-list {\n",
       "    margin: 2px 0;\n",
       "    padding: 2px;\n",
       "    transition: background-color 0.2s;\n",
       "    display: block;\n",
       "}\n",
       "\n",
       ".flex-space-filler {\n",
       "    display: flex;\n",
       "    justify-content: center;\n",
       "    align-items: center;\n",
       "}\n",
       "\n",
       ".generic-object-container,\n",
       ".generic-object-header,\n",
       ".attribute-list {\n",
       "    color: #000000 !important; /* Establece el color del texto a negro */\n",
       "}\n",
       "    </style>\n",
       "    <div style=\"display: flex;\">\n",
       "    <div class=\"generic-object-container blue first-level\">\n",
       "        <div class=\"generic-object-content\">\n",
       "            <div class=\"generic-object-header blue\" onclick=\"toggleCollapse(this)\">\n",
       "                <button class=\"toggle-button blue\">[-]</button> [Dataset]\n",
       "            </div>\n",
       "            <div class=\"generic-object-body\">\n",
       "                <div class=\"attribute-list blue\"><strong>Instances</strong>: 395</div><div class=\"attribute-list blue\"><strong>Features</strong>: X , y , p_attrs</div>\n",
       "                \n",
       "            </div>\n",
       "        </div>\n",
       "    </div>\n",
       "</div>\n",
       "    <script>\n",
       "    function toggleCollapse(element) {\n",
       "        var body = element.nextElementSibling;\n",
       "        var button = element.querySelector(\".toggle-button\");\n",
       "        if (body.classList.contains('hidden')) {\n",
       "            body.classList.remove('hidden');\n",
       "            button.textContent = \"[-]\";\n",
       "        } else {\n",
       "            body.classList.add('hidden');\n",
       "            button.textContent = \"[+]\";\n",
       "        }\n",
       "    }\n",
       "    </script>\n",
       "    "
      ],
      "text/plain": [
       "{\"dtype\":\"Dataset\",\"attributes\":{\"Instances\":395,\"Features\":[\"X , y , p_attrs\"]},\"metadata\":null}"
      ]
     },
     "execution_count": 2,
     "metadata": {},
     "output_type": "execute_result"
    }
   ],
   "source": [
    "from holisticai.datasets import load_dataset\n",
    "dataset = load_dataset('student', preprocessed=True)\n",
    "dataset"
   ]
  },
  {
   "cell_type": "code",
   "execution_count": 3,
   "metadata": {
    "execution": {
     "iopub.execute_input": "2024-09-08T05:51:27.969813Z",
     "iopub.status.busy": "2024-09-08T05:51:27.969622Z",
     "iopub.status.idle": "2024-09-08T05:51:27.977001Z",
     "shell.execute_reply": "2024-09-08T05:51:27.976592Z"
    }
   },
   "outputs": [
    {
     "data": {
      "text/html": [
       "<div>\n",
       "<style scoped>\n",
       "    .dataframe tbody tr th:only-of-type {\n",
       "        vertical-align: middle;\n",
       "    }\n",
       "\n",
       "    .dataframe tbody tr th {\n",
       "        vertical-align: top;\n",
       "    }\n",
       "\n",
       "    .dataframe thead th {\n",
       "        text-align: right;\n",
       "    }\n",
       "</style>\n",
       "<table border=\"1\" class=\"dataframe\">\n",
       "  <thead>\n",
       "    <tr style=\"text-align: right;\">\n",
       "      <th></th>\n",
       "      <th>sex</th>\n",
       "      <th>address</th>\n",
       "      <th>Mjob</th>\n",
       "      <th>Fjob</th>\n",
       "    </tr>\n",
       "  </thead>\n",
       "  <tbody>\n",
       "    <tr>\n",
       "      <th>0</th>\n",
       "      <td>F</td>\n",
       "      <td>U</td>\n",
       "      <td>at_home</td>\n",
       "      <td>teacher</td>\n",
       "    </tr>\n",
       "    <tr>\n",
       "      <th>1</th>\n",
       "      <td>F</td>\n",
       "      <td>U</td>\n",
       "      <td>at_home</td>\n",
       "      <td>other</td>\n",
       "    </tr>\n",
       "    <tr>\n",
       "      <th>2</th>\n",
       "      <td>F</td>\n",
       "      <td>U</td>\n",
       "      <td>at_home</td>\n",
       "      <td>other</td>\n",
       "    </tr>\n",
       "    <tr>\n",
       "      <th>3</th>\n",
       "      <td>F</td>\n",
       "      <td>U</td>\n",
       "      <td>health</td>\n",
       "      <td>services</td>\n",
       "    </tr>\n",
       "    <tr>\n",
       "      <th>4</th>\n",
       "      <td>F</td>\n",
       "      <td>U</td>\n",
       "      <td>other</td>\n",
       "      <td>other</td>\n",
       "    </tr>\n",
       "    <tr>\n",
       "      <th>...</th>\n",
       "      <td>...</td>\n",
       "      <td>...</td>\n",
       "      <td>...</td>\n",
       "      <td>...</td>\n",
       "    </tr>\n",
       "    <tr>\n",
       "      <th>390</th>\n",
       "      <td>M</td>\n",
       "      <td>U</td>\n",
       "      <td>services</td>\n",
       "      <td>services</td>\n",
       "    </tr>\n",
       "    <tr>\n",
       "      <th>391</th>\n",
       "      <td>M</td>\n",
       "      <td>U</td>\n",
       "      <td>services</td>\n",
       "      <td>services</td>\n",
       "    </tr>\n",
       "    <tr>\n",
       "      <th>392</th>\n",
       "      <td>M</td>\n",
       "      <td>R</td>\n",
       "      <td>other</td>\n",
       "      <td>other</td>\n",
       "    </tr>\n",
       "    <tr>\n",
       "      <th>393</th>\n",
       "      <td>M</td>\n",
       "      <td>R</td>\n",
       "      <td>services</td>\n",
       "      <td>other</td>\n",
       "    </tr>\n",
       "    <tr>\n",
       "      <th>394</th>\n",
       "      <td>M</td>\n",
       "      <td>U</td>\n",
       "      <td>other</td>\n",
       "      <td>at_home</td>\n",
       "    </tr>\n",
       "  </tbody>\n",
       "</table>\n",
       "<p>395 rows × 4 columns</p>\n",
       "</div>"
      ],
      "text/plain": [
       "    sex address      Mjob      Fjob\n",
       "0     F       U   at_home   teacher\n",
       "1     F       U   at_home     other\n",
       "2     F       U   at_home     other\n",
       "3     F       U    health  services\n",
       "4     F       U     other     other\n",
       "..   ..     ...       ...       ...\n",
       "390   M       U  services  services\n",
       "391   M       U  services  services\n",
       "392   M       R     other     other\n",
       "393   M       R  services     other\n",
       "394   M       U     other   at_home\n",
       "\n",
       "[395 rows x 4 columns]"
      ]
     },
     "execution_count": 3,
     "metadata": {},
     "output_type": "execute_result"
    }
   ],
   "source": [
    "dataset['p_attrs']"
   ]
  },
  {
   "cell_type": "markdown",
   "metadata": {
    "id": "8gBKBAY_thwT"
   },
   "source": [
    "## **Data Exploration**"
   ]
  },
  {
   "cell_type": "markdown",
   "metadata": {
    "id": "cS1W_eqMthwU"
   },
   "source": [
    "We import some of the holisticai plotters for quick exploration of the data."
   ]
  },
  {
   "cell_type": "code",
   "execution_count": 4,
   "metadata": {
    "execution": {
     "iopub.execute_input": "2024-09-08T05:51:27.978658Z",
     "iopub.status.busy": "2024-09-08T05:51:27.978522Z",
     "iopub.status.idle": "2024-09-08T05:51:28.318838Z",
     "shell.execute_reply": "2024-09-08T05:51:28.318304Z"
    },
    "id": "h2br1XwzthwV"
   },
   "outputs": [],
   "source": [
    "from holisticai.bias.plots import group_pie_plot\n",
    "from holisticai.bias.plots import distribution_plot\n",
    "from holisticai.bias.plots import success_rate_curves"
   ]
  },
  {
   "cell_type": "code",
   "execution_count": 5,
   "metadata": {
    "colab": {
     "base_uri": "https://localhost:8080/",
     "height": 472
    },
    "execution": {
     "iopub.execute_input": "2024-09-08T05:51:28.320910Z",
     "iopub.status.busy": "2024-09-08T05:51:28.320721Z",
     "iopub.status.idle": "2024-09-08T05:51:28.377513Z",
     "shell.execute_reply": "2024-09-08T05:51:28.377064Z"
    },
    "id": "YmaSRbHdthwZ",
    "outputId": "4e71043b-5a0d-4e88-a45c-8fb3a043b35b"
   },
   "outputs": [
    {
     "data": {
      "text/plain": [
       "<Axes: >"
      ]
     },
     "execution_count": 5,
     "metadata": {},
     "output_type": "execute_result"
    },
    {
     "data": {
      "image/png": "[encoded data removed]",
      "text/plain": [
       "<Figure size 640x480 with 1 Axes>"
      ]
     },
     "metadata": {},
     "output_type": "display_data"
    }
   ],
   "source": [
    "group_pie_plot(dataset['p_attrs']['sex'])"
   ]
  },
  {
   "cell_type": "markdown",
   "metadata": {
    "id": "KLM4iBg-thwb"
   },
   "source": [
    "The data is balanced in terms of sex."
   ]
  },
  {
   "cell_type": "code",
   "execution_count": 6,
   "metadata": {
    "colab": {
     "base_uri": "https://localhost:8080/",
     "height": 524
    },
    "execution": {
     "iopub.execute_input": "2024-09-08T05:51:28.379155Z",
     "iopub.status.busy": "2024-09-08T05:51:28.379009Z",
     "iopub.status.idle": "2024-09-08T05:51:28.629931Z",
     "shell.execute_reply": "2024-09-08T05:51:28.629358Z"
    },
    "id": "cyhVBis0thwc",
    "outputId": "f355bcf1-d65e-419b-f3de-375fe0e5f7f8"
   },
   "outputs": [
    {
     "data": {
      "text/plain": [
       "<Axes: xlabel='y', ylabel='Density'>"
      ]
     },
     "execution_count": 6,
     "metadata": {},
     "output_type": "execute_result"
    },
    {
     "data": {
      "image/png": "[encoded data removed]",
      "text/plain": [
       "<Figure size 640x480 with 1 Axes>"
      ]
     },
     "metadata": {},
     "output_type": "display_data"
    }
   ],
   "source": [
    "# distribution of grades for male an female\n",
    "distribution_plot(dataset['y'], dataset['p_attrs']['sex'])"
   ]
  },
  {
   "cell_type": "markdown",
   "metadata": {
    "id": "HRp__M7_thwh"
   },
   "source": [
    "The Mother's job attribute is the one that shows most difference in the densities of grades. For instance we observe students with a mother working in health have higher density at higher grades."
   ]
  },
  {
   "cell_type": "code",
   "execution_count": 7,
   "metadata": {
    "colab": {
     "base_uri": "https://localhost:8080/",
     "height": 524
    },
    "execution": {
     "iopub.execute_input": "2024-09-08T05:51:28.631569Z",
     "iopub.status.busy": "2024-09-08T05:51:28.631431Z",
     "iopub.status.idle": "2024-09-08T05:51:28.809485Z",
     "shell.execute_reply": "2024-09-08T05:51:28.809096Z"
    },
    "id": "iC46HQWzthwi",
    "outputId": "fe52dd6a-401b-4f28-e7bf-e8894082b07b"
   },
   "outputs": [
    {
     "data": {
      "text/plain": [
       "<Axes: title={'center': 'Success Rate Curves'}, xlabel='Score'>"
      ]
     },
     "execution_count": 7,
     "metadata": {},
     "output_type": "execute_result"
    },
    {
     "data": {
      "image/png": "[encoded data removed]",
      "text/plain": [
       "<Figure size 640x480 with 1 Axes>"
      ]
     },
     "metadata": {},
     "output_type": "display_data"
    }
   ],
   "source": [
    "p_attr = np.array(dataset['p_attrs']['Fjob'])\n",
    "y =      np.array(dataset['y'])\n",
    "success_rate_curves(p_attr, y, groups=['at_home', 'health', 'teacher'])"
   ]
  },
  {
   "cell_type": "markdown",
   "metadata": {
    "id": "BY9MTMa0thwj"
   },
   "source": [
    "The above shows the success rate (sucess is exceeding the given threshold) as a function of threshold for different subgroups of the population : Father's job in ['at_home', 'health', 'teacher']. We can observe that student's with a parent as a teacher are more likely to exceed high thresholds than other groups."
   ]
  },
  {
   "cell_type": "markdown",
   "metadata": {
    "id": "PUIHMtKHthwj"
   },
   "source": [
    "## **Preprocess Data and Train a model**"
   ]
  },
  {
   "cell_type": "markdown",
   "metadata": {
    "id": "TAzF7d7Nthwk"
   },
   "source": [
    "We use a sklearn linear regression model."
   ]
  },
  {
   "cell_type": "code",
   "execution_count": 8,
   "metadata": {
    "execution": {
     "iopub.execute_input": "2024-09-08T05:51:28.811229Z",
     "iopub.status.busy": "2024-09-08T05:51:28.811078Z",
     "iopub.status.idle": "2024-09-08T05:51:28.813119Z",
     "shell.execute_reply": "2024-09-08T05:51:28.812789Z"
    },
    "id": "SbqhStyfthwk"
   },
   "outputs": [],
   "source": [
    "from sklearn.linear_model import LinearRegression"
   ]
  },
  {
   "cell_type": "code",
   "execution_count": 9,
   "metadata": {
    "execution": {
     "iopub.execute_input": "2024-09-08T05:51:28.814609Z",
     "iopub.status.busy": "2024-09-08T05:51:28.814461Z",
     "iopub.status.idle": "2024-09-08T05:51:28.819804Z",
     "shell.execute_reply": "2024-09-08T05:51:28.819489Z"
    },
    "id": "TQhqCl6DNa0C"
   },
   "outputs": [
    {
     "data": {
      "text/html": [
       "\n",
       "    <style>\n",
       "        @import url('https://fonts.googleapis.com/css2?family=Montserrat:ital,wght@0,100..900;1,100..900&display=swap');\n",
       "\n",
       "/* Light blue theme (default) */\n",
       ".generic-object-container.blue {\n",
       "    background-color: rgba(242, 248, 253, 0.9) !important; /* Light blue with 70% opacity */\n",
       "    border-color: #4db6ac !important; /* Soft blue border */\n",
       "}\n",
       "\n",
       ".generic-object-header.blue {\n",
       "    background-color: rgba(152, 171, 202, 0.4) !important; /* Darker blue with 60% opacity */\n",
       "}\n",
       "\n",
       ".generic-object-header.blue:hover {\n",
       "    background-color: rgba(139, 177, 192, 0.8) !important; /* Darker blue on hover with 60% opacity */\n",
       "}\n",
       "\n",
       ".attribute-list.blue:hover {\n",
       "    background-color: rgba(178, 223, 219, 0.8) !important; /* Attribute hover background with 60% opacity */\n",
       "}\n",
       "\n",
       "/* Orange theme */\n",
       ".generic-object-container.orange {\n",
       "    background-color: #fff9ef !important; /* Container background: light orange */\n",
       "    border-color: #ffb74d !important; /* Soft orange border */\n",
       "}\n",
       "\n",
       ".generic-object-header.orange {\n",
       "    background-color: #ffe0b2 !important; /* Header background: darker orange */\n",
       "}\n",
       "\n",
       ".generic-object-header.orange:hover {\n",
       "    background-color: #ffcc80 !important; /* Darker shade on hover over the header */\n",
       "}\n",
       "\n",
       ".attribute-list.orange:hover {\n",
       "    background-color: #ffe0b2 !important; /* Attribute background on hover: darker orange */\n",
       "}\n",
       "\n",
       "/* Green theme */\n",
       ".generic-object-container.green {\n",
       "    background-color: #f6fff6 !important; /* Container background: light green */\n",
       "    border-color: #81c784 !important; /* Soft green border */\n",
       "}\n",
       "\n",
       ".generic-object-header.green {\n",
       "    background-color: #c8e6c9 !important; /* Header background: darker green */\n",
       "}\n",
       "\n",
       ".generic-object-header.green:hover {\n",
       "    background-color: #a5d6a7 !important; /* Darker shade on hover over the header */\n",
       "}\n",
       "\n",
       ".attribute-list.green:hover {\n",
       "    background-color: #c8e6c9 !important; /* Attribute background on hover: darker green */\n",
       "}\n",
       "\n",
       "/* Align the first container to the left */\n",
       ".generic-object-container.first-level {\n",
       "    margin: 0;\n",
       "    width: auto;\n",
       "    max-width: 800px;\n",
       "    display: block;\n",
       "    box-sizing: border-box;\n",
       "}\n",
       "\n",
       "/* Nested containers stay centered */\n",
       ".generic-object-container .generic-object-container {\n",
       "    margin: 5px auto;\n",
       "    width: 100%;\n",
       "    display: block;\n",
       "    padding: 5px 0;\n",
       "}\n",
       "\n",
       "/* Remove default background color so only themes apply it */\n",
       ".generic-object-container {\n",
       "    padding: 0;\n",
       "    margin: 0 auto;\n",
       "    border: 0px dashed;\n",
       "    border-radius: 5px;\n",
       "    display: block;\n",
       "    width: auto;\n",
       "    max-width: 800px;\n",
       "    box-sizing: border-box;\n",
       "    margin-bottom: 15px;\n",
       "    transition: transform 0.2s, box-shadow 0.2s;\n",
       "    box-shadow: 0px 2px 5px rgba(77, 182, 172, 0.3);\n",
       "}\n",
       "\n",
       ".generic-object-container:hover {\n",
       "    box-shadow: 0px 8px 20px rgba(77, 182, 172, 0.3);\n",
       "}\n",
       "\n",
       ".generic-object-header {\n",
       "    font-family: 'Montserrat', Arial, sans-serif;\n",
       "    font-size: 14px;\n",
       "    padding: 10px 20px;\n",
       "    padding-left: 40px;\n",
       "    text-align: center;\n",
       "    font-weight: bold;\n",
       "    cursor: pointer;\n",
       "    display: flex;\n",
       "    align-items: center;\n",
       "    justify-content: center;\n",
       "    position: relative;\n",
       "    width: 100%;\n",
       "    box-sizing: border-box;\n",
       "    border-radius: 5px;\n",
       "    transition: background-color 0.3s;\n",
       "}\n",
       "\n",
       ".toggle-button {\n",
       "    margin-right: 10px;\n",
       "    background: none;\n",
       "    border: none;\n",
       "    font-size: 13px;\n",
       "    cursor: pointer;\n",
       "    position: absolute;\n",
       "    left: 10px;\n",
       "    color: #004d40;\n",
       "}\n",
       "\n",
       ".generic-object-body {\n",
       "    padding: 5px 10px;\n",
       "    display: block;\n",
       "    border-radius: 0 0 5px 5px;\n",
       "    background-color: inherit;\n",
       "    margin: 0 auto;\n",
       "}\n",
       "\n",
       ".hidden {\n",
       "    display: none;\n",
       "}\n",
       "\n",
       ".attribute-list {\n",
       "    margin: 2px 0;\n",
       "    padding: 2px;\n",
       "    transition: background-color 0.2s;\n",
       "    display: block;\n",
       "}\n",
       "\n",
       ".flex-space-filler {\n",
       "    display: flex;\n",
       "    justify-content: center;\n",
       "    align-items: center;\n",
       "}\n",
       "\n",
       ".generic-object-container,\n",
       ".generic-object-header,\n",
       ".attribute-list {\n",
       "    color: #000000 !important; /* Establece el color del texto a negro */\n",
       "}\n",
       "    </style>\n",
       "    <div style=\"display: flex;\">\n",
       "    <div class=\"generic-object-container blue first-level\">\n",
       "        <div class=\"generic-object-content\">\n",
       "            <div class=\"generic-object-header blue\" onclick=\"toggleCollapse(this)\">\n",
       "                <button class=\"toggle-button blue\">[-]</button> [DatasetDict]\n",
       "            </div>\n",
       "            <div class=\"generic-object-body\">\n",
       "                \n",
       "                \n",
       "    <style>\n",
       "        @import url('https://fonts.googleapis.com/css2?family=Montserrat:ital,wght@0,100..900;1,100..900&display=swap');\n",
       "\n",
       "/* Light blue theme (default) */\n",
       ".generic-object-container.blue {\n",
       "    background-color: rgba(242, 248, 253, 0.9) !important; /* Light blue with 70% opacity */\n",
       "    border-color: #4db6ac !important; /* Soft blue border */\n",
       "}\n",
       "\n",
       ".generic-object-header.blue {\n",
       "    background-color: rgba(152, 171, 202, 0.4) !important; /* Darker blue with 60% opacity */\n",
       "}\n",
       "\n",
       ".generic-object-header.blue:hover {\n",
       "    background-color: rgba(139, 177, 192, 0.8) !important; /* Darker blue on hover with 60% opacity */\n",
       "}\n",
       "\n",
       ".attribute-list.blue:hover {\n",
       "    background-color: rgba(178, 223, 219, 0.8) !important; /* Attribute hover background with 60% opacity */\n",
       "}\n",
       "\n",
       "/* Orange theme */\n",
       ".generic-object-container.orange {\n",
       "    background-color: #fff9ef !important; /* Container background: light orange */\n",
       "    border-color: #ffb74d !important; /* Soft orange border */\n",
       "}\n",
       "\n",
       ".generic-object-header.orange {\n",
       "    background-color: #ffe0b2 !important; /* Header background: darker orange */\n",
       "}\n",
       "\n",
       ".generic-object-header.orange:hover {\n",
       "    background-color: #ffcc80 !important; /* Darker shade on hover over the header */\n",
       "}\n",
       "\n",
       ".attribute-list.orange:hover {\n",
       "    background-color: #ffe0b2 !important; /* Attribute background on hover: darker orange */\n",
       "}\n",
       "\n",
       "/* Green theme */\n",
       ".generic-object-container.green {\n",
       "    background-color: #f6fff6 !important; /* Container background: light green */\n",
       "    border-color: #81c784 !important; /* Soft green border */\n",
       "}\n",
       "\n",
       ".generic-object-header.green {\n",
       "    background-color: #c8e6c9 !important; /* Header background: darker green */\n",
       "}\n",
       "\n",
       ".generic-object-header.green:hover {\n",
       "    background-color: #a5d6a7 !important; /* Darker shade on hover over the header */\n",
       "}\n",
       "\n",
       ".attribute-list.green:hover {\n",
       "    background-color: #c8e6c9 !important; /* Attribute background on hover: darker green */\n",
       "}\n",
       "\n",
       "/* Align the first container to the left */\n",
       ".generic-object-container.first-level {\n",
       "    margin: 0;\n",
       "    width: auto;\n",
       "    max-width: 800px;\n",
       "    display: block;\n",
       "    box-sizing: border-box;\n",
       "}\n",
       "\n",
       "/* Nested containers stay centered */\n",
       ".generic-object-container .generic-object-container {\n",
       "    margin: 5px auto;\n",
       "    width: 100%;\n",
       "    display: block;\n",
       "    padding: 5px 0;\n",
       "}\n",
       "\n",
       "/* Remove default background color so only themes apply it */\n",
       ".generic-object-container {\n",
       "    padding: 0;\n",
       "    margin: 0 auto;\n",
       "    border: 0px dashed;\n",
       "    border-radius: 5px;\n",
       "    display: block;\n",
       "    width: auto;\n",
       "    max-width: 800px;\n",
       "    box-sizing: border-box;\n",
       "    margin-bottom: 15px;\n",
       "    transition: transform 0.2s, box-shadow 0.2s;\n",
       "    box-shadow: 0px 2px 5px rgba(77, 182, 172, 0.3);\n",
       "}\n",
       "\n",
       ".generic-object-container:hover {\n",
       "    box-shadow: 0px 8px 20px rgba(77, 182, 172, 0.3);\n",
       "}\n",
       "\n",
       ".generic-object-header {\n",
       "    font-family: 'Montserrat', Arial, sans-serif;\n",
       "    font-size: 14px;\n",
       "    padding: 10px 20px;\n",
       "    padding-left: 40px;\n",
       "    text-align: center;\n",
       "    font-weight: bold;\n",
       "    cursor: pointer;\n",
       "    display: flex;\n",
       "    align-items: center;\n",
       "    justify-content: center;\n",
       "    position: relative;\n",
       "    width: 100%;\n",
       "    box-sizing: border-box;\n",
       "    border-radius: 5px;\n",
       "    transition: background-color 0.3s;\n",
       "}\n",
       "\n",
       ".toggle-button {\n",
       "    margin-right: 10px;\n",
       "    background: none;\n",
       "    border: none;\n",
       "    font-size: 13px;\n",
       "    cursor: pointer;\n",
       "    position: absolute;\n",
       "    left: 10px;\n",
       "    color: #004d40;\n",
       "}\n",
       "\n",
       ".generic-object-body {\n",
       "    padding: 5px 10px;\n",
       "    display: block;\n",
       "    border-radius: 0 0 5px 5px;\n",
       "    background-color: inherit;\n",
       "    margin: 0 auto;\n",
       "}\n",
       "\n",
       ".hidden {\n",
       "    display: none;\n",
       "}\n",
       "\n",
       ".attribute-list {\n",
       "    margin: 2px 0;\n",
       "    padding: 2px;\n",
       "    transition: background-color 0.2s;\n",
       "    display: block;\n",
       "}\n",
       "\n",
       ".flex-space-filler {\n",
       "    display: flex;\n",
       "    justify-content: center;\n",
       "    align-items: center;\n",
       "}\n",
       "\n",
       ".generic-object-container,\n",
       ".generic-object-header,\n",
       ".attribute-list {\n",
       "    color: #000000 !important; /* Establece el color del texto a negro */\n",
       "}\n",
       "    </style>\n",
       "    <div style=\"display: flex;\">\n",
       "    <div class=\"generic-object-container blue first-level\">\n",
       "        <div class=\"generic-object-content\">\n",
       "            <div class=\"generic-object-header blue\" onclick=\"toggleCollapse(this)\">\n",
       "                <button class=\"toggle-button blue\">[-]</button> train [Dataset]\n",
       "            </div>\n",
       "            <div class=\"generic-object-body\">\n",
       "                <div class=\"attribute-list blue\"><strong>Instances</strong>: 276</div><div class=\"attribute-list blue\"><strong>Features</strong>: X , y , p_attrs</div>\n",
       "                \n",
       "            </div>\n",
       "        </div>\n",
       "    </div>\n",
       "</div>\n",
       "    <script>\n",
       "    function toggleCollapse(element) {\n",
       "        var body = element.nextElementSibling;\n",
       "        var button = element.querySelector(\".toggle-button\");\n",
       "        if (body.classList.contains('hidden')) {\n",
       "            body.classList.remove('hidden');\n",
       "            button.textContent = \"[-]\";\n",
       "        } else {\n",
       "            body.classList.add('hidden');\n",
       "            button.textContent = \"[+]\";\n",
       "        }\n",
       "    }\n",
       "    </script>\n",
       "    \n",
       "    <style>\n",
       "        @import url('https://fonts.googleapis.com/css2?family=Montserrat:ital,wght@0,100..900;1,100..900&display=swap');\n",
       "\n",
       "/* Light blue theme (default) */\n",
       ".generic-object-container.blue {\n",
       "    background-color: rgba(242, 248, 253, 0.9) !important; /* Light blue with 70% opacity */\n",
       "    border-color: #4db6ac !important; /* Soft blue border */\n",
       "}\n",
       "\n",
       ".generic-object-header.blue {\n",
       "    background-color: rgba(152, 171, 202, 0.4) !important; /* Darker blue with 60% opacity */\n",
       "}\n",
       "\n",
       ".generic-object-header.blue:hover {\n",
       "    background-color: rgba(139, 177, 192, 0.8) !important; /* Darker blue on hover with 60% opacity */\n",
       "}\n",
       "\n",
       ".attribute-list.blue:hover {\n",
       "    background-color: rgba(178, 223, 219, 0.8) !important; /* Attribute hover background with 60% opacity */\n",
       "}\n",
       "\n",
       "/* Orange theme */\n",
       ".generic-object-container.orange {\n",
       "    background-color: #fff9ef !important; /* Container background: light orange */\n",
       "    border-color: #ffb74d !important; /* Soft orange border */\n",
       "}\n",
       "\n",
       ".generic-object-header.orange {\n",
       "    background-color: #ffe0b2 !important; /* Header background: darker orange */\n",
       "}\n",
       "\n",
       ".generic-object-header.orange:hover {\n",
       "    background-color: #ffcc80 !important; /* Darker shade on hover over the header */\n",
       "}\n",
       "\n",
       ".attribute-list.orange:hover {\n",
       "    background-color: #ffe0b2 !important; /* Attribute background on hover: darker orange */\n",
       "}\n",
       "\n",
       "/* Green theme */\n",
       ".generic-object-container.green {\n",
       "    background-color: #f6fff6 !important; /* Container background: light green */\n",
       "    border-color: #81c784 !important; /* Soft green border */\n",
       "}\n",
       "\n",
       ".generic-object-header.green {\n",
       "    background-color: #c8e6c9 !important; /* Header background: darker green */\n",
       "}\n",
       "\n",
       ".generic-object-header.green:hover {\n",
       "    background-color: #a5d6a7 !important; /* Darker shade on hover over the header */\n",
       "}\n",
       "\n",
       ".attribute-list.green:hover {\n",
       "    background-color: #c8e6c9 !important; /* Attribute background on hover: darker green */\n",
       "}\n",
       "\n",
       "/* Align the first container to the left */\n",
       ".generic-object-container.first-level {\n",
       "    margin: 0;\n",
       "    width: auto;\n",
       "    max-width: 800px;\n",
       "    display: block;\n",
       "    box-sizing: border-box;\n",
       "}\n",
       "\n",
       "/* Nested containers stay centered */\n",
       ".generic-object-container .generic-object-container {\n",
       "    margin: 5px auto;\n",
       "    width: 100%;\n",
       "    display: block;\n",
       "    padding: 5px 0;\n",
       "}\n",
       "\n",
       "/* Remove default background color so only themes apply it */\n",
       ".generic-object-container {\n",
       "    padding: 0;\n",
       "    margin: 0 auto;\n",
       "    border: 0px dashed;\n",
       "    border-radius: 5px;\n",
       "    display: block;\n",
       "    width: auto;\n",
       "    max-width: 800px;\n",
       "    box-sizing: border-box;\n",
       "    margin-bottom: 15px;\n",
       "    transition: transform 0.2s, box-shadow 0.2s;\n",
       "    box-shadow: 0px 2px 5px rgba(77, 182, 172, 0.3);\n",
       "}\n",
       "\n",
       ".generic-object-container:hover {\n",
       "    box-shadow: 0px 8px 20px rgba(77, 182, 172, 0.3);\n",
       "}\n",
       "\n",
       ".generic-object-header {\n",
       "    font-family: 'Montserrat', Arial, sans-serif;\n",
       "    font-size: 14px;\n",
       "    padding: 10px 20px;\n",
       "    padding-left: 40px;\n",
       "    text-align: center;\n",
       "    font-weight: bold;\n",
       "    cursor: pointer;\n",
       "    display: flex;\n",
       "    align-items: center;\n",
       "    justify-content: center;\n",
       "    position: relative;\n",
       "    width: 100%;\n",
       "    box-sizing: border-box;\n",
       "    border-radius: 5px;\n",
       "    transition: background-color 0.3s;\n",
       "}\n",
       "\n",
       ".toggle-button {\n",
       "    margin-right: 10px;\n",
       "    background: none;\n",
       "    border: none;\n",
       "    font-size: 13px;\n",
       "    cursor: pointer;\n",
       "    position: absolute;\n",
       "    left: 10px;\n",
       "    color: #004d40;\n",
       "}\n",
       "\n",
       ".generic-object-body {\n",
       "    padding: 5px 10px;\n",
       "    display: block;\n",
       "    border-radius: 0 0 5px 5px;\n",
       "    background-color: inherit;\n",
       "    margin: 0 auto;\n",
       "}\n",
       "\n",
       ".hidden {\n",
       "    display: none;\n",
       "}\n",
       "\n",
       ".attribute-list {\n",
       "    margin: 2px 0;\n",
       "    padding: 2px;\n",
       "    transition: background-color 0.2s;\n",
       "    display: block;\n",
       "}\n",
       "\n",
       ".flex-space-filler {\n",
       "    display: flex;\n",
       "    justify-content: center;\n",
       "    align-items: center;\n",
       "}\n",
       "\n",
       ".generic-object-container,\n",
       ".generic-object-header,\n",
       ".attribute-list {\n",
       "    color: #000000 !important; /* Establece el color del texto a negro */\n",
       "}\n",
       "    </style>\n",
       "    <div style=\"display: flex;\">\n",
       "    <div class=\"generic-object-container blue first-level\">\n",
       "        <div class=\"generic-object-content\">\n",
       "            <div class=\"generic-object-header blue\" onclick=\"toggleCollapse(this)\">\n",
       "                <button class=\"toggle-button blue\">[-]</button> test [Dataset]\n",
       "            </div>\n",
       "            <div class=\"generic-object-body\">\n",
       "                <div class=\"attribute-list blue\"><strong>Instances</strong>: 119</div><div class=\"attribute-list blue\"><strong>Features</strong>: X , y , p_attrs</div>\n",
       "                \n",
       "            </div>\n",
       "        </div>\n",
       "    </div>\n",
       "</div>\n",
       "    <script>\n",
       "    function toggleCollapse(element) {\n",
       "        var body = element.nextElementSibling;\n",
       "        var button = element.querySelector(\".toggle-button\");\n",
       "        if (body.classList.contains('hidden')) {\n",
       "            body.classList.remove('hidden');\n",
       "            button.textContent = \"[-]\";\n",
       "        } else {\n",
       "            body.classList.add('hidden');\n",
       "            button.textContent = \"[+]\";\n",
       "        }\n",
       "    }\n",
       "    </script>\n",
       "    \n",
       "            </div>\n",
       "        </div>\n",
       "    </div>\n",
       "</div>\n",
       "    <script>\n",
       "    function toggleCollapse(element) {\n",
       "        var body = element.nextElementSibling;\n",
       "        var button = element.querySelector(\".toggle-button\");\n",
       "        if (body.classList.contains('hidden')) {\n",
       "            body.classList.remove('hidden');\n",
       "            button.textContent = \"[-]\";\n",
       "        } else {\n",
       "            body.classList.add('hidden');\n",
       "            button.textContent = \"[+]\";\n",
       "        }\n",
       "    }\n",
       "    </script>\n",
       "    "
      ],
      "text/plain": [
       "DatasetDict({\n",
       "    train: <holisticai.datasets._dataset.Dataset object at 0x7f323f524c10>,\n",
       "    test: <holisticai.datasets._dataset.Dataset object at 0x7f323f5182d0>\n",
       "})"
      ]
     },
     "execution_count": 9,
     "metadata": {},
     "output_type": "execute_result"
    }
   ],
   "source": [
    "# Load, preprocess and split for training\n",
    "datasets = dataset.train_test_split(test_size=0.3, random_state=42)\n",
    "datasets"
   ]
  },
  {
   "cell_type": "code",
   "execution_count": 10,
   "metadata": {
    "execution": {
     "iopub.execute_input": "2024-09-08T05:51:28.821512Z",
     "iopub.status.busy": "2024-09-08T05:51:28.821364Z",
     "iopub.status.idle": "2024-09-08T05:51:28.827421Z",
     "shell.execute_reply": "2024-09-08T05:51:28.827083Z"
    }
   },
   "outputs": [
    {
     "data": {
      "text/html": [
       "<div>\n",
       "<style scoped>\n",
       "    .dataframe tbody tr th:only-of-type {\n",
       "        vertical-align: middle;\n",
       "    }\n",
       "\n",
       "    .dataframe tbody tr th {\n",
       "        vertical-align: top;\n",
       "    }\n",
       "\n",
       "    .dataframe thead th {\n",
       "        text-align: right;\n",
       "    }\n",
       "</style>\n",
       "<table border=\"1\" class=\"dataframe\">\n",
       "  <thead>\n",
       "    <tr style=\"text-align: right;\">\n",
       "      <th></th>\n",
       "      <th>sex</th>\n",
       "      <th>address</th>\n",
       "      <th>Mjob</th>\n",
       "      <th>Fjob</th>\n",
       "    </tr>\n",
       "  </thead>\n",
       "  <tbody>\n",
       "    <tr>\n",
       "      <th>0</th>\n",
       "      <td>F</td>\n",
       "      <td>U</td>\n",
       "      <td>other</td>\n",
       "      <td>other</td>\n",
       "    </tr>\n",
       "    <tr>\n",
       "      <th>1</th>\n",
       "      <td>M</td>\n",
       "      <td>U</td>\n",
       "      <td>services</td>\n",
       "      <td>services</td>\n",
       "    </tr>\n",
       "    <tr>\n",
       "      <th>2</th>\n",
       "      <td>F</td>\n",
       "      <td>R</td>\n",
       "      <td>services</td>\n",
       "      <td>health</td>\n",
       "    </tr>\n",
       "    <tr>\n",
       "      <th>3</th>\n",
       "      <td>F</td>\n",
       "      <td>U</td>\n",
       "      <td>other</td>\n",
       "      <td>other</td>\n",
       "    </tr>\n",
       "    <tr>\n",
       "      <th>4</th>\n",
       "      <td>M</td>\n",
       "      <td>R</td>\n",
       "      <td>teacher</td>\n",
       "      <td>services</td>\n",
       "    </tr>\n",
       "    <tr>\n",
       "      <th>...</th>\n",
       "      <td>...</td>\n",
       "      <td>...</td>\n",
       "      <td>...</td>\n",
       "      <td>...</td>\n",
       "    </tr>\n",
       "    <tr>\n",
       "      <th>271</th>\n",
       "      <td>M</td>\n",
       "      <td>U</td>\n",
       "      <td>other</td>\n",
       "      <td>other</td>\n",
       "    </tr>\n",
       "    <tr>\n",
       "      <th>272</th>\n",
       "      <td>F</td>\n",
       "      <td>U</td>\n",
       "      <td>other</td>\n",
       "      <td>other</td>\n",
       "    </tr>\n",
       "    <tr>\n",
       "      <th>273</th>\n",
       "      <td>F</td>\n",
       "      <td>U</td>\n",
       "      <td>other</td>\n",
       "      <td>services</td>\n",
       "    </tr>\n",
       "    <tr>\n",
       "      <th>274</th>\n",
       "      <td>F</td>\n",
       "      <td>U</td>\n",
       "      <td>health</td>\n",
       "      <td>other</td>\n",
       "    </tr>\n",
       "    <tr>\n",
       "      <th>275</th>\n",
       "      <td>M</td>\n",
       "      <td>U</td>\n",
       "      <td>services</td>\n",
       "      <td>other</td>\n",
       "    </tr>\n",
       "  </tbody>\n",
       "</table>\n",
       "<p>276 rows × 4 columns</p>\n",
       "</div>"
      ],
      "text/plain": [
       "    sex address      Mjob      Fjob\n",
       "0     F       U     other     other\n",
       "1     M       U  services  services\n",
       "2     F       R  services    health\n",
       "3     F       U     other     other\n",
       "4     M       R   teacher  services\n",
       "..   ..     ...       ...       ...\n",
       "271   M       U     other     other\n",
       "272   F       U     other     other\n",
       "273   F       U     other  services\n",
       "274   F       U    health     other\n",
       "275   M       U  services     other\n",
       "\n",
       "[276 rows x 4 columns]"
      ]
     },
     "execution_count": 10,
     "metadata": {},
     "output_type": "execute_result"
    }
   ],
   "source": [
    "datasets['train']['p_attrs']"
   ]
  },
  {
   "cell_type": "code",
   "execution_count": 11,
   "metadata": {
    "execution": {
     "iopub.execute_input": "2024-09-08T05:51:28.828974Z",
     "iopub.status.busy": "2024-09-08T05:51:28.828825Z",
     "iopub.status.idle": "2024-09-08T05:51:28.835566Z",
     "shell.execute_reply": "2024-09-08T05:51:28.835184Z"
    },
    "id": "JX6rQ2l5thwm"
   },
   "outputs": [],
   "source": [
    "# G3 is the students final grade (drop G2 and G1 as well because highly correlated with G3)\n",
    "X_train = datasets['train']['X']\n",
    "X_test = datasets['test']['X']\n",
    "y_train = datasets['train']['y']\n",
    "y_test = datasets['test']['y']\n",
    "\n",
    "p_attr_train = datasets['train']['p_attrs']\n",
    "p_attr_test = datasets['test']['p_attrs']\n",
    "\n",
    "# Train a simple linear regression model\n",
    "model = LinearRegression()\n",
    "model = model.fit(X_train, y_train)\n",
    "\n",
    "# Predict values\n",
    "y_pred = model.predict(X_test)"
   ]
  },
  {
   "cell_type": "code",
   "execution_count": 12,
   "metadata": {
    "execution": {
     "iopub.execute_input": "2024-09-08T05:51:28.837083Z",
     "iopub.status.busy": "2024-09-08T05:51:28.836938Z",
     "iopub.status.idle": "2024-09-08T05:51:28.844085Z",
     "shell.execute_reply": "2024-09-08T05:51:28.843738Z"
    }
   },
   "outputs": [
    {
     "data": {
      "text/html": [
       "<div>\n",
       "<style scoped>\n",
       "    .dataframe tbody tr th:only-of-type {\n",
       "        vertical-align: middle;\n",
       "    }\n",
       "\n",
       "    .dataframe tbody tr th {\n",
       "        vertical-align: top;\n",
       "    }\n",
       "\n",
       "    .dataframe thead th {\n",
       "        text-align: right;\n",
       "    }\n",
       "</style>\n",
       "<table border=\"1\" class=\"dataframe\">\n",
       "  <thead>\n",
       "    <tr style=\"text-align: right;\">\n",
       "      <th></th>\n",
       "      <th>Value</th>\n",
       "      <th>Reference</th>\n",
       "    </tr>\n",
       "    <tr>\n",
       "      <th>Metric</th>\n",
       "      <th></th>\n",
       "      <th></th>\n",
       "    </tr>\n",
       "  </thead>\n",
       "  <tbody>\n",
       "    <tr>\n",
       "      <th>RMSE</th>\n",
       "      <td>4.342198</td>\n",
       "      <td>0</td>\n",
       "    </tr>\n",
       "    <tr>\n",
       "      <th>MAE</th>\n",
       "      <td>3.493136</td>\n",
       "      <td>0</td>\n",
       "    </tr>\n",
       "    <tr>\n",
       "      <th>MAPE</th>\n",
       "      <td>0.364603</td>\n",
       "      <td>0</td>\n",
       "    </tr>\n",
       "    <tr>\n",
       "      <th>Max Error</th>\n",
       "      <td>11.080852</td>\n",
       "      <td>0</td>\n",
       "    </tr>\n",
       "    <tr>\n",
       "      <th>SMAPE</th>\n",
       "      <td>0.212643</td>\n",
       "      <td>0</td>\n",
       "    </tr>\n",
       "  </tbody>\n",
       "</table>\n",
       "</div>"
      ],
      "text/plain": [
       "               Value  Reference\n",
       "Metric                         \n",
       "RMSE        4.342198          0\n",
       "MAE         3.493136          0\n",
       "MAPE        0.364603          0\n",
       "Max Error  11.080852          0\n",
       "SMAPE       0.212643          0"
      ]
     },
     "execution_count": 12,
     "metadata": {},
     "output_type": "execute_result"
    }
   ],
   "source": [
    "from holisticai.efficacy.metrics import regression_efficacy_metrics\n",
    "regression_efficacy_metrics(y_pred, y_test)"
   ]
  },
  {
   "cell_type": "markdown",
   "metadata": {
    "id": "njRVGOFtthwn"
   },
   "source": [
    "## **Measure bias**"
   ]
  },
  {
   "cell_type": "code",
   "execution_count": 13,
   "metadata": {
    "execution": {
     "iopub.execute_input": "2024-09-08T05:51:28.845687Z",
     "iopub.status.busy": "2024-09-08T05:51:28.845556Z",
     "iopub.status.idle": "2024-09-08T05:51:28.847819Z",
     "shell.execute_reply": "2024-09-08T05:51:28.847492Z"
    },
    "id": "9XnsD7vMthwo"
   },
   "outputs": [],
   "source": [
    "# import some bias metrics\n",
    "from holisticai.bias.metrics import statistical_parity_regression\n",
    "from holisticai.bias.metrics import disparate_impact_regression\n",
    "from holisticai.bias.metrics import mae_ratio\n",
    "from holisticai.bias.metrics import rmse_ratio"
   ]
  },
  {
   "cell_type": "code",
   "execution_count": 14,
   "metadata": {
    "execution": {
     "iopub.execute_input": "2024-09-08T05:51:28.849277Z",
     "iopub.status.busy": "2024-09-08T05:51:28.849141Z",
     "iopub.status.idle": "2024-09-08T05:51:28.852603Z",
     "shell.execute_reply": "2024-09-08T05:51:28.852277Z"
    },
    "id": "_LgNg48Othwo"
   },
   "outputs": [],
   "source": [
    "# set up vectors for gender\n",
    "\n",
    "group_a = np.array(p_attr_test['sex']==\"F\")\n",
    "group_b = np.array(p_attr_test['sex']==\"M\")\n",
    "y_pred  = np.array(model.predict(X_test))\n",
    "y_true  = np.array(y_test)"
   ]
  },
  {
   "cell_type": "code",
   "execution_count": 15,
   "metadata": {
    "colab": {
     "base_uri": "https://localhost:8080/"
    },
    "execution": {
     "iopub.execute_input": "2024-09-08T05:51:28.854075Z",
     "iopub.status.busy": "2024-09-08T05:51:28.853930Z",
     "iopub.status.idle": "2024-09-08T05:51:28.857995Z",
     "shell.execute_reply": "2024-09-08T05:51:28.857668Z"
    },
    "id": "9qY6ORsmthwp",
    "outputId": "cfcf6fd2-5d20-416d-f929-65fec4cf4a85"
   },
   "outputs": [
    {
     "name": "stdout",
     "output_type": "stream",
     "text": [
      "Statistical Parity Q80   : -0.1916336913510458\n",
      "Disparate Impact Q80     : 0.3505747126436782\n",
      "MAE Ratio                : 1.0882701322683415\n",
      "RMSE Ratio               : 1.1341742548076124\n"
     ]
    }
   ],
   "source": [
    "# evaluate fairness metrics for gender\n",
    "print ('Statistical Parity Q80   : ' + str(statistical_parity_regression(group_a, group_b, y_pred, q=0.8)))\n",
    "print ('Disparate Impact Q80     : ' + str(disparate_impact_regression(group_a, group_b, y_pred, q=0.8)))\n",
    "print ('MAE Ratio                : ' + str(mae_ratio(group_a, group_b, y_pred, y_true)))\n",
    "print ('RMSE Ratio               : ' + str(rmse_ratio(group_a, group_b, y_pred, y_true)))"
   ]
  },
  {
   "cell_type": "markdown",
   "metadata": {
    "id": "HNkKGRbfthwp"
   },
   "source": [
    "All the above metrics are within acceptable ranges. This shows there isn't much bias for the subgroups of the sex column. Let's try the address attribute."
   ]
  },
  {
   "cell_type": "code",
   "execution_count": 16,
   "metadata": {
    "execution": {
     "iopub.execute_input": "2024-09-08T05:51:28.859534Z",
     "iopub.status.busy": "2024-09-08T05:51:28.859385Z",
     "iopub.status.idle": "2024-09-08T05:51:28.862962Z",
     "shell.execute_reply": "2024-09-08T05:51:28.862618Z"
    },
    "id": "vZz3hnwTthwq"
   },
   "outputs": [],
   "source": [
    "# set up vectors for address\n",
    "\n",
    "group_a = np.array(p_attr_test['address']=='U')\n",
    "group_b = np.array(p_attr_test['address']=='R')\n",
    "y_pred  = np.array(model.predict(X_test))\n",
    "y_true  = np.array(y_test)"
   ]
  },
  {
   "cell_type": "code",
   "execution_count": 17,
   "metadata": {
    "colab": {
     "base_uri": "https://localhost:8080/"
    },
    "execution": {
     "iopub.execute_input": "2024-09-08T05:51:28.864534Z",
     "iopub.status.busy": "2024-09-08T05:51:28.864377Z",
     "iopub.status.idle": "2024-09-08T05:51:28.868713Z",
     "shell.execute_reply": "2024-09-08T05:51:28.868340Z"
    },
    "id": "6CByyuHUthwq",
    "outputId": "67f2a266-7b94-498d-cfba-9530584668af"
   },
   "outputs": [
    {
     "name": "stdout",
     "output_type": "stream",
     "text": [
      "Statistical Parity Q80   : 0.1476293103448276\n",
      "Disparate Impact Q80     : 2.574712643678161\n",
      "MAE Ratio                : 0.9246558407488772\n",
      "RMSE Ratio               : 0.9438430657262673\n"
     ]
    }
   ],
   "source": [
    "# evaluate fairness metrics for address\n",
    "print ('Statistical Parity Q80   : ' + str(statistical_parity_regression(group_a, group_b, y_pred, q=0.8)))\n",
    "print ('Disparate Impact Q80     : ' + str(disparate_impact_regression(group_a, group_b, y_pred, q=0.8)))\n",
    "print ('MAE Ratio                : ' + str(mae_ratio(group_a, group_b, y_pred, y_true)))\n",
    "print ('RMSE Ratio               : ' + str(rmse_ratio(group_a, group_b, y_pred, y_true)))"
   ]
  },
  {
   "cell_type": "markdown",
   "metadata": {
    "id": "VFpkF4a1thwr"
   },
   "source": [
    "The disparate impact at quantile 0.8 is outside of fair ranges (0.8, 1.2), students living in urban areas are 1.8 times more likely to be predicted in top 20% of grades than students living in rural areas."
   ]
  },
  {
   "cell_type": "code",
   "execution_count": 18,
   "metadata": {
    "colab": {
     "base_uri": "https://localhost:8080/"
    },
    "execution": {
     "iopub.execute_input": "2024-09-08T05:51:28.870361Z",
     "iopub.status.busy": "2024-09-08T05:51:28.870201Z",
     "iopub.status.idle": "2024-09-08T05:51:28.872964Z",
     "shell.execute_reply": "2024-09-08T05:51:28.872621Z"
    },
    "id": "avlRX_Gdthws",
    "outputId": "ed92520d-fe62-4588-bba9-0c9f5e571ee4"
   },
   "outputs": [
    {
     "name": "stdout",
     "output_type": "stream",
     "text": [
      "Disparate Impact Q80     : 4.2298850574712645\n"
     ]
    }
   ],
   "source": [
    "print ('Disparate Impact Q80     : ' + str(disparate_impact_regression(group_a, group_b, y_true, q=0.8)))"
   ]
  },
  {
   "cell_type": "markdown",
   "metadata": {
    "id": "BzMDoYfAthws"
   },
   "source": [
    "When we look at the metric computed on true values, we get an even worst pattern. Students living in urban areas are actually 4.2 times more likely to be in top 20% of grades than students living in rural areas."
   ]
  },
  {
   "cell_type": "markdown",
   "metadata": {
    "id": "Cd_A0Y8ithwt"
   },
   "source": [
    "**Equality of outcome metrics (batch computation)**\n",
    "\n",
    "Use address as protected attribute"
   ]
  },
  {
   "cell_type": "code",
   "execution_count": 19,
   "metadata": {
    "execution": {
     "iopub.execute_input": "2024-09-08T05:51:28.874810Z",
     "iopub.status.busy": "2024-09-08T05:51:28.874658Z",
     "iopub.status.idle": "2024-09-08T05:51:28.878121Z",
     "shell.execute_reply": "2024-09-08T05:51:28.877747Z"
    },
    "id": "y3MJuqeTthwt"
   },
   "outputs": [],
   "source": [
    "# set up vectors for address\n",
    "\n",
    "group_a = np.array(p_attr_test['address']=='U')\n",
    "group_b = np.array(p_attr_test['address']=='R')\n",
    "y_pred  = np.array(model.predict(X_test))"
   ]
  },
  {
   "cell_type": "code",
   "execution_count": 20,
   "metadata": {
    "colab": {
     "base_uri": "https://localhost:8080/",
     "height": 394
    },
    "execution": {
     "iopub.execute_input": "2024-09-08T05:51:28.879728Z",
     "iopub.status.busy": "2024-09-08T05:51:28.879571Z",
     "iopub.status.idle": "2024-09-08T05:51:28.888478Z",
     "shell.execute_reply": "2024-09-08T05:51:28.888084Z"
    },
    "id": "2OKc8yAathwu",
    "outputId": "d2194489-23c0-40b5-e3bd-56350e7ad1d8"
   },
   "outputs": [
    {
     "data": {
      "text/html": [
       "<div>\n",
       "<style scoped>\n",
       "    .dataframe tbody tr th:only-of-type {\n",
       "        vertical-align: middle;\n",
       "    }\n",
       "\n",
       "    .dataframe tbody tr th {\n",
       "        vertical-align: top;\n",
       "    }\n",
       "\n",
       "    .dataframe thead th {\n",
       "        text-align: right;\n",
       "    }\n",
       "</style>\n",
       "<table border=\"1\" class=\"dataframe\">\n",
       "  <thead>\n",
       "    <tr style=\"text-align: right;\">\n",
       "      <th></th>\n",
       "      <th>Value</th>\n",
       "      <th>Reference</th>\n",
       "    </tr>\n",
       "    <tr>\n",
       "      <th>Metric</th>\n",
       "      <th></th>\n",
       "      <th></th>\n",
       "    </tr>\n",
       "  </thead>\n",
       "  <tbody>\n",
       "    <tr>\n",
       "      <th>Disparate Impact Q90</th>\n",
       "      <td>1.103448</td>\n",
       "      <td>1</td>\n",
       "    </tr>\n",
       "    <tr>\n",
       "      <th>Disparate Impact Q80</th>\n",
       "      <td>2.574713</td>\n",
       "      <td>1</td>\n",
       "    </tr>\n",
       "    <tr>\n",
       "      <th>Disparate Impact Q50</th>\n",
       "      <td>1.329797</td>\n",
       "      <td>1</td>\n",
       "    </tr>\n",
       "    <tr>\n",
       "      <th>Statistical Parity Q50</th>\n",
       "      <td>0.147629</td>\n",
       "      <td>0</td>\n",
       "    </tr>\n",
       "    <tr>\n",
       "      <th>No Disparate Impact Level</th>\n",
       "      <td>13.519855</td>\n",
       "      <td>-</td>\n",
       "    </tr>\n",
       "    <tr>\n",
       "      <th>Average Score Difference</th>\n",
       "      <td>0.778703</td>\n",
       "      <td>0</td>\n",
       "    </tr>\n",
       "    <tr>\n",
       "      <th>Average Score Ratio</th>\n",
       "      <td>1.077290</td>\n",
       "      <td>1</td>\n",
       "    </tr>\n",
       "    <tr>\n",
       "      <th>Z Score Difference</th>\n",
       "      <td>0.350470</td>\n",
       "      <td>0</td>\n",
       "    </tr>\n",
       "    <tr>\n",
       "      <th>Max Statistical Parity</th>\n",
       "      <td>0.230603</td>\n",
       "      <td>0</td>\n",
       "    </tr>\n",
       "    <tr>\n",
       "      <th>Statistical Parity AUC</th>\n",
       "      <td>0.118537</td>\n",
       "      <td>0</td>\n",
       "    </tr>\n",
       "  </tbody>\n",
       "</table>\n",
       "</div>"
      ],
      "text/plain": [
       "                               Value Reference\n",
       "Metric                                        \n",
       "Disparate Impact Q90        1.103448         1\n",
       "Disparate Impact Q80        2.574713         1\n",
       "Disparate Impact Q50        1.329797         1\n",
       "Statistical Parity Q50      0.147629         0\n",
       "No Disparate Impact Level  13.519855         -\n",
       "Average Score Difference    0.778703         0\n",
       "Average Score Ratio         1.077290         1\n",
       "Z Score Difference          0.350470         0\n",
       "Max Statistical Parity      0.230603         0\n",
       "Statistical Parity AUC      0.118537         0"
      ]
     },
     "execution_count": 20,
     "metadata": {},
     "output_type": "execute_result"
    }
   ],
   "source": [
    "from holisticai.bias.metrics import regression_bias_metrics\n",
    "regression_bias_metrics(group_a, group_b, y_pred, metric_type='equal_outcome')"
   ]
  },
  {
   "cell_type": "markdown",
   "metadata": {
    "id": "1glOTk_Nthwv"
   },
   "source": [
    "**Equality of opportunity metrics (batch computation)**\n",
    "\n",
    "Use address as protected attribute"
   ]
  },
  {
   "cell_type": "code",
   "execution_count": 21,
   "metadata": {
    "execution": {
     "iopub.execute_input": "2024-09-08T05:51:28.890193Z",
     "iopub.status.busy": "2024-09-08T05:51:28.890049Z",
     "iopub.status.idle": "2024-09-08T05:51:28.893733Z",
     "shell.execute_reply": "2024-09-08T05:51:28.893335Z"
    },
    "id": "YRDigE0Ithwv"
   },
   "outputs": [],
   "source": [
    "# set up vectors for address\n",
    "\n",
    "group_a = p_attr_test['address']=='U'\n",
    "group_b = p_attr_test['address']=='R'\n",
    "y_pred  = model.predict(X_test)\n",
    "y_true  = y_test"
   ]
  },
  {
   "cell_type": "code",
   "execution_count": 22,
   "metadata": {
    "colab": {
     "base_uri": "https://localhost:8080/",
     "height": 238
    },
    "execution": {
     "iopub.execute_input": "2024-09-08T05:51:28.895453Z",
     "iopub.status.busy": "2024-09-08T05:51:28.895288Z",
     "iopub.status.idle": "2024-09-08T05:51:28.906861Z",
     "shell.execute_reply": "2024-09-08T05:51:28.906485Z"
    },
    "id": "G4prNyATthww",
    "outputId": "0aa1a97f-e577-48c5-bbb3-69beb3d25fc5"
   },
   "outputs": [
    {
     "data": {
      "text/html": [
       "<div>\n",
       "<style scoped>\n",
       "    .dataframe tbody tr th:only-of-type {\n",
       "        vertical-align: middle;\n",
       "    }\n",
       "\n",
       "    .dataframe tbody tr th {\n",
       "        vertical-align: top;\n",
       "    }\n",
       "\n",
       "    .dataframe thead th {\n",
       "        text-align: right;\n",
       "    }\n",
       "</style>\n",
       "<table border=\"1\" class=\"dataframe\">\n",
       "  <thead>\n",
       "    <tr style=\"text-align: right;\">\n",
       "      <th></th>\n",
       "      <th>Value</th>\n",
       "      <th>Reference</th>\n",
       "    </tr>\n",
       "    <tr>\n",
       "      <th>Metric</th>\n",
       "      <th></th>\n",
       "      <th></th>\n",
       "    </tr>\n",
       "  </thead>\n",
       "  <tbody>\n",
       "    <tr>\n",
       "      <th>RMSE Ratio</th>\n",
       "      <td>0.943843</td>\n",
       "      <td>1</td>\n",
       "    </tr>\n",
       "    <tr>\n",
       "      <th>RMSE Ratio Q80</th>\n",
       "      <td>0.654919</td>\n",
       "      <td>1</td>\n",
       "    </tr>\n",
       "    <tr>\n",
       "      <th>MAE Ratio</th>\n",
       "      <td>0.924656</td>\n",
       "      <td>1</td>\n",
       "    </tr>\n",
       "    <tr>\n",
       "      <th>MAE Ratio Q80</th>\n",
       "      <td>0.571965</td>\n",
       "      <td>1</td>\n",
       "    </tr>\n",
       "    <tr>\n",
       "      <th>Correlation Difference</th>\n",
       "      <td>0.193685</td>\n",
       "      <td>0</td>\n",
       "    </tr>\n",
       "  </tbody>\n",
       "</table>\n",
       "</div>"
      ],
      "text/plain": [
       "                           Value  Reference\n",
       "Metric                                     \n",
       "RMSE Ratio              0.943843          1\n",
       "RMSE Ratio Q80          0.654919          1\n",
       "MAE Ratio               0.924656          1\n",
       "MAE Ratio Q80           0.571965          1\n",
       "Correlation Difference  0.193685          0"
      ]
     },
     "execution_count": 22,
     "metadata": {},
     "output_type": "execute_result"
    }
   ],
   "source": [
    "regression_bias_metrics(group_a, group_b, y_pred, y_true, metric_type='equal_opportunity')"
   ]
  },
  {
   "cell_type": "code",
   "execution_count": 23,
   "metadata": {
    "execution": {
     "iopub.execute_input": "2024-09-08T05:51:28.908583Z",
     "iopub.status.busy": "2024-09-08T05:51:28.908410Z",
     "iopub.status.idle": "2024-09-08T05:51:28.920285Z",
     "shell.execute_reply": "2024-09-08T05:51:28.919903Z"
    }
   },
   "outputs": [
    {
     "data": {
      "text/html": [
       "<div>\n",
       "<style scoped>\n",
       "    .dataframe tbody tr th:only-of-type {\n",
       "        vertical-align: middle;\n",
       "    }\n",
       "\n",
       "    .dataframe tbody tr th {\n",
       "        vertical-align: top;\n",
       "    }\n",
       "\n",
       "    .dataframe thead th {\n",
       "        text-align: right;\n",
       "    }\n",
       "</style>\n",
       "<table border=\"1\" class=\"dataframe\">\n",
       "  <thead>\n",
       "    <tr style=\"text-align: right;\">\n",
       "      <th></th>\n",
       "      <th>Value</th>\n",
       "      <th>Reference</th>\n",
       "    </tr>\n",
       "    <tr>\n",
       "      <th>Metric</th>\n",
       "      <th></th>\n",
       "      <th></th>\n",
       "    </tr>\n",
       "  </thead>\n",
       "  <tbody>\n",
       "    <tr>\n",
       "      <th>Disparate Impact Q90</th>\n",
       "      <td>1.103448</td>\n",
       "      <td>1</td>\n",
       "    </tr>\n",
       "    <tr>\n",
       "      <th>Disparate Impact Q80</th>\n",
       "      <td>2.574713</td>\n",
       "      <td>1</td>\n",
       "    </tr>\n",
       "    <tr>\n",
       "      <th>Disparate Impact Q50</th>\n",
       "      <td>1.329797</td>\n",
       "      <td>1</td>\n",
       "    </tr>\n",
       "    <tr>\n",
       "      <th>Statistical Parity Q50</th>\n",
       "      <td>0.147629</td>\n",
       "      <td>0</td>\n",
       "    </tr>\n",
       "    <tr>\n",
       "      <th>No Disparate Impact Level</th>\n",
       "      <td>13.519855</td>\n",
       "      <td>-</td>\n",
       "    </tr>\n",
       "    <tr>\n",
       "      <th>Average Score Difference</th>\n",
       "      <td>0.778703</td>\n",
       "      <td>0</td>\n",
       "    </tr>\n",
       "    <tr>\n",
       "      <th>Average Score Ratio</th>\n",
       "      <td>1.077290</td>\n",
       "      <td>1</td>\n",
       "    </tr>\n",
       "    <tr>\n",
       "      <th>Z Score Difference</th>\n",
       "      <td>0.350470</td>\n",
       "      <td>0</td>\n",
       "    </tr>\n",
       "    <tr>\n",
       "      <th>Max Statistical Parity</th>\n",
       "      <td>0.230603</td>\n",
       "      <td>0</td>\n",
       "    </tr>\n",
       "    <tr>\n",
       "      <th>Statistical Parity AUC</th>\n",
       "      <td>0.118537</td>\n",
       "      <td>0</td>\n",
       "    </tr>\n",
       "    <tr>\n",
       "      <th>RMSE Ratio</th>\n",
       "      <td>0.943843</td>\n",
       "      <td>1</td>\n",
       "    </tr>\n",
       "    <tr>\n",
       "      <th>RMSE Ratio Q80</th>\n",
       "      <td>0.654919</td>\n",
       "      <td>1</td>\n",
       "    </tr>\n",
       "    <tr>\n",
       "      <th>MAE Ratio</th>\n",
       "      <td>0.924656</td>\n",
       "      <td>1</td>\n",
       "    </tr>\n",
       "    <tr>\n",
       "      <th>MAE Ratio Q80</th>\n",
       "      <td>0.571965</td>\n",
       "      <td>1</td>\n",
       "    </tr>\n",
       "    <tr>\n",
       "      <th>Correlation Difference</th>\n",
       "      <td>0.193685</td>\n",
       "      <td>0</td>\n",
       "    </tr>\n",
       "  </tbody>\n",
       "</table>\n",
       "</div>"
      ],
      "text/plain": [
       "                               Value Reference\n",
       "Metric                                        \n",
       "Disparate Impact Q90        1.103448         1\n",
       "Disparate Impact Q80        2.574713         1\n",
       "Disparate Impact Q50        1.329797         1\n",
       "Statistical Parity Q50      0.147629         0\n",
       "No Disparate Impact Level  13.519855         -\n",
       "Average Score Difference    0.778703         0\n",
       "Average Score Ratio         1.077290         1\n",
       "Z Score Difference          0.350470         0\n",
       "Max Statistical Parity      0.230603         0\n",
       "Statistical Parity AUC      0.118537         0\n",
       "RMSE Ratio                  0.943843         1\n",
       "RMSE Ratio Q80              0.654919         1\n",
       "MAE Ratio                   0.924656         1\n",
       "MAE Ratio Q80               0.571965         1\n",
       "Correlation Difference      0.193685         0"
      ]
     },
     "execution_count": 23,
     "metadata": {},
     "output_type": "execute_result"
    }
   ],
   "source": [
    "regression_bias_metrics(group_a=group_a, group_b=group_b, y_pred=y_pred, y_true=y_true, metric_type='both')"
   ]
  },
  {
   "cell_type": "markdown",
   "metadata": {},
   "source": [
    "We can show all individual bias metrics by setting 'metric_types' as 'individual'."
   ]
  },
  {
   "cell_type": "code",
   "execution_count": 24,
   "metadata": {
    "execution": {
     "iopub.execute_input": "2024-09-08T05:51:28.922035Z",
     "iopub.status.busy": "2024-09-08T05:51:28.921852Z",
     "iopub.status.idle": "2024-09-08T05:51:28.933480Z",
     "shell.execute_reply": "2024-09-08T05:51:28.933059Z"
    }
   },
   "outputs": [
    {
     "data": {
      "text/html": [
       "<div>\n",
       "<style scoped>\n",
       "    .dataframe tbody tr th:only-of-type {\n",
       "        vertical-align: middle;\n",
       "    }\n",
       "\n",
       "    .dataframe tbody tr th {\n",
       "        vertical-align: top;\n",
       "    }\n",
       "\n",
       "    .dataframe thead th {\n",
       "        text-align: right;\n",
       "    }\n",
       "</style>\n",
       "<table border=\"1\" class=\"dataframe\">\n",
       "  <thead>\n",
       "    <tr style=\"text-align: right;\">\n",
       "      <th></th>\n",
       "      <th>Value</th>\n",
       "      <th>Reference</th>\n",
       "    </tr>\n",
       "    <tr>\n",
       "      <th>Metric</th>\n",
       "      <th></th>\n",
       "      <th></th>\n",
       "    </tr>\n",
       "  </thead>\n",
       "  <tbody>\n",
       "    <tr>\n",
       "      <th>Jain Index</th>\n",
       "      <td>0.64716</td>\n",
       "      <td>1</td>\n",
       "    </tr>\n",
       "  </tbody>\n",
       "</table>\n",
       "</div>"
      ],
      "text/plain": [
       "              Value  Reference\n",
       "Metric                        \n",
       "Jain Index  0.64716          1"
      ]
     },
     "execution_count": 24,
     "metadata": {},
     "output_type": "execute_result"
    }
   ],
   "source": [
    "regression_bias_metrics(group_a=group_a, group_b=group_b, y_pred=y_pred, y_true=y_true, metric_type='individual')"
   ]
  }
 ],
 "metadata": {
  "colab": {
   "provenance": []
  },
  "kernelspec": {
   "display_name": "testing",
   "language": "python",
   "name": "python3"
  },
  "language_info": {
   "codemirror_mode": {
    "name": "ipython",
    "version": 3
   },
   "file_extension": ".py",
   "mimetype": "text/x-python",
   "name": "python",
   "nbconvert_exporter": "python",
   "pygments_lexer": "ipython3",
   "version": "3.11.3"
  }
 },
 "nbformat": 4,
 "nbformat_minor": 0
}
