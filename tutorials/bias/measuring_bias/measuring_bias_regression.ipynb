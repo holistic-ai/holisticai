{
  "cells": [
    {
      "cell_type": "markdown",
      "metadata": {
        "id": "pFKF6N69kCay"
      },
      "source": [
        "# **Measuring Bias in regression**\n"
      ]
    },
    {
      "cell_type": "markdown",
      "metadata": {
        "id": "M6FIAeuWthwF"
      },
      "source": [
        "This notebook is a tutorial on auditing bias within a regression task. We will use the holisticai library thoughout, introducing some of the functions we have created to help study algorithmic bias.\n",
        "\n",
        "The sections are organised as follows :\n",
        "1. Load the data : we load the student grades dataset as a pandas DataFrame\n",
        "2. Data Exploration : some preliminary analysis of the data\n",
        "3. Train a Model : we train a simple linear regression model (sklearn)\n",
        "4. Measure Bias : we compute a few bias metrics, and comment on their meaning"
      ]
    },
    {
      "cell_type": "markdown",
      "metadata": {
        "id": "-nYt5_h77QGN"
      },
      "source": [
        "## **Load the data**"
      ]
    },
    {
      "cell_type": "markdown",
      "metadata": {
        "id": "tbKKjChztpDi"
      },
      "source": [
        "First of all, we need to import the required packages to perform our bias analysis and mitigation. You will need to have the `holisticai` package installed on your system, remember that you can install it by running: \n",
        "```bash\n",
        "!pip install holisticai[all]\n",
        "```"
      ]
    },
    {
      "cell_type": "code",
      "execution_count": 1,
      "metadata": {
        "id": "ePoS2ium8_vF"
      },
      "outputs": [],
      "source": [
        "# Imports\n",
        "import numpy as np\n",
        "import pandas as pd\n",
        "import warnings\n",
        "warnings.filterwarnings(\"ignore\")"
      ]
    },
    {
      "cell_type": "markdown",
      "metadata": {
        "id": "DqI2HD2BthwR"
      },
      "source": [
        "We host a few example datasets on the holisticai library for quick loading and experimentation. Here we load and use the Student dataset. The goal of this dataset is the prediction of the numerical attribute 'G3' (mathematics grade of student in 3rd trimester). There are a number of sensitive attributes in this dataset, some of which are : sex, address, Mjob (mother's job), Fjob (father's job)...\n",
        "\n",
        "Although the `load_dataset` function returns a preprocessed version, in this opportunity we will perform this processing by ourselves since the default preprocessing is more suitable for multiclassification tasks."
      ]
    },
    {
      "cell_type": "code",
      "execution_count": 15,
      "metadata": {},
      "outputs": [
        {
          "data": {
            "text/html": [
              "<div>\n",
              "<style scoped>\n",
              "    .dataframe tbody tr th:only-of-type {\n",
              "        vertical-align: middle;\n",
              "    }\n",
              "\n",
              "    .dataframe tbody tr th {\n",
              "        vertical-align: top;\n",
              "    }\n",
              "\n",
              "    .dataframe thead th {\n",
              "        text-align: right;\n",
              "    }\n",
              "</style>\n",
              "<table border=\"1\" class=\"dataframe\">\n",
              "  <thead>\n",
              "    <tr style=\"text-align: right;\">\n",
              "      <th></th>\n",
              "      <th>school</th>\n",
              "      <th>sex</th>\n",
              "      <th>age</th>\n",
              "      <th>address</th>\n",
              "      <th>famsize</th>\n",
              "      <th>Pstatus</th>\n",
              "      <th>Medu</th>\n",
              "      <th>Fedu</th>\n",
              "      <th>Mjob</th>\n",
              "      <th>Fjob</th>\n",
              "      <th>...</th>\n",
              "      <th>famrel</th>\n",
              "      <th>freetime</th>\n",
              "      <th>goout</th>\n",
              "      <th>Dalc</th>\n",
              "      <th>Walc</th>\n",
              "      <th>health</th>\n",
              "      <th>absences</th>\n",
              "      <th>G1</th>\n",
              "      <th>G2</th>\n",
              "      <th>G3</th>\n",
              "    </tr>\n",
              "  </thead>\n",
              "  <tbody>\n",
              "    <tr>\n",
              "      <th>0</th>\n",
              "      <td>'GP'</td>\n",
              "      <td>'F'</td>\n",
              "      <td>18</td>\n",
              "      <td>'U'</td>\n",
              "      <td>'GT3'</td>\n",
              "      <td>'A'</td>\n",
              "      <td>4</td>\n",
              "      <td>4</td>\n",
              "      <td>'at_home'</td>\n",
              "      <td>'teacher'</td>\n",
              "      <td>...</td>\n",
              "      <td>4</td>\n",
              "      <td>3</td>\n",
              "      <td>4</td>\n",
              "      <td>1</td>\n",
              "      <td>1</td>\n",
              "      <td>3</td>\n",
              "      <td>6</td>\n",
              "      <td>5</td>\n",
              "      <td>6</td>\n",
              "      <td>6</td>\n",
              "    </tr>\n",
              "    <tr>\n",
              "      <th>1</th>\n",
              "      <td>'GP'</td>\n",
              "      <td>'F'</td>\n",
              "      <td>17</td>\n",
              "      <td>'U'</td>\n",
              "      <td>'GT3'</td>\n",
              "      <td>'T'</td>\n",
              "      <td>1</td>\n",
              "      <td>1</td>\n",
              "      <td>'at_home'</td>\n",
              "      <td>'other'</td>\n",
              "      <td>...</td>\n",
              "      <td>5</td>\n",
              "      <td>3</td>\n",
              "      <td>3</td>\n",
              "      <td>1</td>\n",
              "      <td>1</td>\n",
              "      <td>3</td>\n",
              "      <td>4</td>\n",
              "      <td>5</td>\n",
              "      <td>5</td>\n",
              "      <td>6</td>\n",
              "    </tr>\n",
              "    <tr>\n",
              "      <th>2</th>\n",
              "      <td>'GP'</td>\n",
              "      <td>'F'</td>\n",
              "      <td>15</td>\n",
              "      <td>'U'</td>\n",
              "      <td>'LE3'</td>\n",
              "      <td>'T'</td>\n",
              "      <td>1</td>\n",
              "      <td>1</td>\n",
              "      <td>'at_home'</td>\n",
              "      <td>'other'</td>\n",
              "      <td>...</td>\n",
              "      <td>4</td>\n",
              "      <td>3</td>\n",
              "      <td>2</td>\n",
              "      <td>2</td>\n",
              "      <td>3</td>\n",
              "      <td>3</td>\n",
              "      <td>10</td>\n",
              "      <td>7</td>\n",
              "      <td>8</td>\n",
              "      <td>10</td>\n",
              "    </tr>\n",
              "    <tr>\n",
              "      <th>3</th>\n",
              "      <td>'GP'</td>\n",
              "      <td>'F'</td>\n",
              "      <td>15</td>\n",
              "      <td>'U'</td>\n",
              "      <td>'GT3'</td>\n",
              "      <td>'T'</td>\n",
              "      <td>4</td>\n",
              "      <td>2</td>\n",
              "      <td>'health'</td>\n",
              "      <td>'services'</td>\n",
              "      <td>...</td>\n",
              "      <td>3</td>\n",
              "      <td>2</td>\n",
              "      <td>2</td>\n",
              "      <td>1</td>\n",
              "      <td>1</td>\n",
              "      <td>5</td>\n",
              "      <td>2</td>\n",
              "      <td>15</td>\n",
              "      <td>14</td>\n",
              "      <td>15</td>\n",
              "    </tr>\n",
              "    <tr>\n",
              "      <th>4</th>\n",
              "      <td>'GP'</td>\n",
              "      <td>'F'</td>\n",
              "      <td>16</td>\n",
              "      <td>'U'</td>\n",
              "      <td>'GT3'</td>\n",
              "      <td>'T'</td>\n",
              "      <td>3</td>\n",
              "      <td>3</td>\n",
              "      <td>'other'</td>\n",
              "      <td>'other'</td>\n",
              "      <td>...</td>\n",
              "      <td>4</td>\n",
              "      <td>3</td>\n",
              "      <td>2</td>\n",
              "      <td>1</td>\n",
              "      <td>2</td>\n",
              "      <td>5</td>\n",
              "      <td>4</td>\n",
              "      <td>6</td>\n",
              "      <td>10</td>\n",
              "      <td>10</td>\n",
              "    </tr>\n",
              "    <tr>\n",
              "      <th>...</th>\n",
              "      <td>...</td>\n",
              "      <td>...</td>\n",
              "      <td>...</td>\n",
              "      <td>...</td>\n",
              "      <td>...</td>\n",
              "      <td>...</td>\n",
              "      <td>...</td>\n",
              "      <td>...</td>\n",
              "      <td>...</td>\n",
              "      <td>...</td>\n",
              "      <td>...</td>\n",
              "      <td>...</td>\n",
              "      <td>...</td>\n",
              "      <td>...</td>\n",
              "      <td>...</td>\n",
              "      <td>...</td>\n",
              "      <td>...</td>\n",
              "      <td>...</td>\n",
              "      <td>...</td>\n",
              "      <td>...</td>\n",
              "      <td>...</td>\n",
              "    </tr>\n",
              "    <tr>\n",
              "      <th>390</th>\n",
              "      <td>'MS'</td>\n",
              "      <td>'M'</td>\n",
              "      <td>20</td>\n",
              "      <td>'U'</td>\n",
              "      <td>'LE3'</td>\n",
              "      <td>'A'</td>\n",
              "      <td>2</td>\n",
              "      <td>2</td>\n",
              "      <td>'services'</td>\n",
              "      <td>'services'</td>\n",
              "      <td>...</td>\n",
              "      <td>5</td>\n",
              "      <td>5</td>\n",
              "      <td>4</td>\n",
              "      <td>4</td>\n",
              "      <td>5</td>\n",
              "      <td>4</td>\n",
              "      <td>11</td>\n",
              "      <td>9</td>\n",
              "      <td>9</td>\n",
              "      <td>9</td>\n",
              "    </tr>\n",
              "    <tr>\n",
              "      <th>391</th>\n",
              "      <td>'MS'</td>\n",
              "      <td>'M'</td>\n",
              "      <td>17</td>\n",
              "      <td>'U'</td>\n",
              "      <td>'LE3'</td>\n",
              "      <td>'T'</td>\n",
              "      <td>3</td>\n",
              "      <td>1</td>\n",
              "      <td>'services'</td>\n",
              "      <td>'services'</td>\n",
              "      <td>...</td>\n",
              "      <td>2</td>\n",
              "      <td>4</td>\n",
              "      <td>5</td>\n",
              "      <td>3</td>\n",
              "      <td>4</td>\n",
              "      <td>2</td>\n",
              "      <td>3</td>\n",
              "      <td>14</td>\n",
              "      <td>16</td>\n",
              "      <td>16</td>\n",
              "    </tr>\n",
              "    <tr>\n",
              "      <th>392</th>\n",
              "      <td>'MS'</td>\n",
              "      <td>'M'</td>\n",
              "      <td>21</td>\n",
              "      <td>'R'</td>\n",
              "      <td>'GT3'</td>\n",
              "      <td>'T'</td>\n",
              "      <td>1</td>\n",
              "      <td>1</td>\n",
              "      <td>'other'</td>\n",
              "      <td>'other'</td>\n",
              "      <td>...</td>\n",
              "      <td>5</td>\n",
              "      <td>5</td>\n",
              "      <td>3</td>\n",
              "      <td>3</td>\n",
              "      <td>3</td>\n",
              "      <td>3</td>\n",
              "      <td>3</td>\n",
              "      <td>10</td>\n",
              "      <td>8</td>\n",
              "      <td>7</td>\n",
              "    </tr>\n",
              "    <tr>\n",
              "      <th>393</th>\n",
              "      <td>'MS'</td>\n",
              "      <td>'M'</td>\n",
              "      <td>18</td>\n",
              "      <td>'R'</td>\n",
              "      <td>'LE3'</td>\n",
              "      <td>'T'</td>\n",
              "      <td>3</td>\n",
              "      <td>2</td>\n",
              "      <td>'services'</td>\n",
              "      <td>'other'</td>\n",
              "      <td>...</td>\n",
              "      <td>4</td>\n",
              "      <td>4</td>\n",
              "      <td>1</td>\n",
              "      <td>3</td>\n",
              "      <td>4</td>\n",
              "      <td>5</td>\n",
              "      <td>0</td>\n",
              "      <td>11</td>\n",
              "      <td>12</td>\n",
              "      <td>10</td>\n",
              "    </tr>\n",
              "    <tr>\n",
              "      <th>394</th>\n",
              "      <td>'MS'</td>\n",
              "      <td>'M'</td>\n",
              "      <td>19</td>\n",
              "      <td>'U'</td>\n",
              "      <td>'LE3'</td>\n",
              "      <td>'T'</td>\n",
              "      <td>1</td>\n",
              "      <td>1</td>\n",
              "      <td>'other'</td>\n",
              "      <td>'at_home'</td>\n",
              "      <td>...</td>\n",
              "      <td>3</td>\n",
              "      <td>2</td>\n",
              "      <td>3</td>\n",
              "      <td>3</td>\n",
              "      <td>3</td>\n",
              "      <td>5</td>\n",
              "      <td>5</td>\n",
              "      <td>8</td>\n",
              "      <td>9</td>\n",
              "      <td>9</td>\n",
              "    </tr>\n",
              "  </tbody>\n",
              "</table>\n",
              "<p>395 rows × 33 columns</p>\n",
              "</div>"
            ],
            "text/plain": [
              "    school  sex  age address famsize Pstatus  Medu  Fedu        Mjob  \\\n",
              "0     'GP'  'F'   18     'U'   'GT3'     'A'     4     4   'at_home'   \n",
              "1     'GP'  'F'   17     'U'   'GT3'     'T'     1     1   'at_home'   \n",
              "2     'GP'  'F'   15     'U'   'LE3'     'T'     1     1   'at_home'   \n",
              "3     'GP'  'F'   15     'U'   'GT3'     'T'     4     2    'health'   \n",
              "4     'GP'  'F'   16     'U'   'GT3'     'T'     3     3     'other'   \n",
              "..     ...  ...  ...     ...     ...     ...   ...   ...         ...   \n",
              "390   'MS'  'M'   20     'U'   'LE3'     'A'     2     2  'services'   \n",
              "391   'MS'  'M'   17     'U'   'LE3'     'T'     3     1  'services'   \n",
              "392   'MS'  'M'   21     'R'   'GT3'     'T'     1     1     'other'   \n",
              "393   'MS'  'M'   18     'R'   'LE3'     'T'     3     2  'services'   \n",
              "394   'MS'  'M'   19     'U'   'LE3'     'T'     1     1     'other'   \n",
              "\n",
              "           Fjob  ... famrel freetime  goout  Dalc  Walc health absences  G1  \\\n",
              "0     'teacher'  ...      4        3      4     1     1      3        6   5   \n",
              "1       'other'  ...      5        3      3     1     1      3        4   5   \n",
              "2       'other'  ...      4        3      2     2     3      3       10   7   \n",
              "3    'services'  ...      3        2      2     1     1      5        2  15   \n",
              "4       'other'  ...      4        3      2     1     2      5        4   6   \n",
              "..          ...  ...    ...      ...    ...   ...   ...    ...      ...  ..   \n",
              "390  'services'  ...      5        5      4     4     5      4       11   9   \n",
              "391  'services'  ...      2        4      5     3     4      2        3  14   \n",
              "392     'other'  ...      5        5      3     3     3      3        3  10   \n",
              "393     'other'  ...      4        4      1     3     4      5        0  11   \n",
              "394   'at_home'  ...      3        2      3     3     3      5        5   8   \n",
              "\n",
              "     G2  G3  \n",
              "0     6   6  \n",
              "1     5   6  \n",
              "2     8  10  \n",
              "3    14  15  \n",
              "4    10  10  \n",
              "..   ..  ..  \n",
              "390   9   9  \n",
              "391  16  16  \n",
              "392   8   7  \n",
              "393  12  10  \n",
              "394   9   9  \n",
              "\n",
              "[395 rows x 33 columns]"
            ]
          },
          "execution_count": 15,
          "metadata": {},
          "output_type": "execute_result"
        }
      ],
      "source": [
        "\n",
        "from holisticai.datasets._dataloaders import (\n",
        "    load_adult,\n",
        "    load_last_fm,\n",
        "    load_law_school,\n",
        "    load_student,\n",
        "    load_us_crime,\n",
        ")\n",
        "\n",
        "bunch = load_student()\n",
        "df = bunch[\"frame\"]\n",
        "df"
      ]
    },
    {
      "cell_type": "code",
      "execution_count": 13,
      "metadata": {
        "colab": {
          "base_uri": "https://localhost:8080/",
          "height": 424
        },
        "id": "bvu7PnRfthwP",
        "outputId": "9bdca4e4-5932-4498-ca7a-3bc695320c34"
      },
      "outputs": [
        {
          "data": {
            "text/html": [
              "\n",
              "        <head>\n",
              "            <meta charset=\"UTF-8\">\n",
              "            <meta name=\"viewport\" content=\"width=device-width, initial-scale=1.0\">\n",
              "            <title>Diagrama DatasetDict</title>\n",
              "            <style>\n",
              "                \n",
              "    .container {\n",
              "        font-family: Arial, sans-serif;\n",
              "        margin: 20px;\n",
              "    }\n",
              "    .node {\n",
              "        border: 2px solid #000;\n",
              "        padding: 10px;\n",
              "        margin: 10px;\n",
              "        text-align: left;\n",
              "        display: inline-block;\n",
              "        background-color: #E0FFFF;\n",
              "    }\n",
              "    .datasets-container {\n",
              "        display: flex;\n",
              "        flex-wrap: wrap;\n",
              "    }\n",
              "    .dataset {\n",
              "        border: 2px solid #007bff;\n",
              "        padding: 10px;\n",
              "        margin: 10px;\n",
              "        text-align: left;\n",
              "        border-radius: 5px;\n",
              "        display: inline-block;\n",
              "        white-space: nowrap;\n",
              "        background-color: #E0FFFF;\n",
              "        box-sizing: border-box;\n",
              "    }\n",
              "    .title {\n",
              "        font-weight: bold;\n",
              "        color: #222; /* Letras más negras */\n",
              "        margin-bottom: 10px;\n",
              "        text-align: left;\n",
              "        white-space: nowrap;\n",
              "    }\n",
              "    ul {\n",
              "        list-style-type: disc;\n",
              "        padding-left: 20px;\n",
              "        text-align: left;\n",
              "        margin: 0;\n",
              "        white-space: normal;\n",
              "        color: #222; /* Letras más negras */\n",
              "    }\n",
              "    .groupbydataset {\n",
              "        border: 2px solid #007bff; /* Dark red */\n",
              "        padding: 10px;\n",
              "        margin: 10px;\n",
              "        text-align: left;\n",
              "        border-radius: 5px;\n",
              "        display: inline-block;\n",
              "        white-space: nowrap;\n",
              "        background-color: #E0FFFF; /* Light pink */\n",
              "        box-sizing: border-box;\n",
              "    }\n",
              "    \n",
              "            </style>\n",
              "        </head>\n",
              "        <body>\n",
              "            <div class=\"container\">\n",
              "                \n",
              "        <div class=\"dataset\" style=\"width: 464px;\">\n",
              "            <div class=\"title\">Dataset</div>\n",
              "            <ul>\n",
              "                <li>features: [ X , y , group_a , group_b ]</li>\n",
              "                <li>num_rows: 395</li>\n",
              "            </ul>\n",
              "        </div>\n",
              "        \n",
              "            </div>\n",
              "        </body>\n",
              "        "
            ],
            "text/plain": [
              "Dataset({\n",
              "        features: ['X', 'y', 'group_a', 'group_b'],\n",
              "        num_rows: 395\n",
              "    })"
            ]
          },
          "execution_count": 13,
          "metadata": {},
          "output_type": "execute_result"
        }
      ],
      "source": [
        "from holisticai.datasets import load_dataset\n",
        "dataset = load_dataset('student', protected_attribute='address')\n",
        "dataset"
      ]
    },
    {
      "cell_type": "code",
      "execution_count": 14,
      "metadata": {},
      "outputs": [
        {
          "data": {
            "text/plain": [
              "0      'F'\n",
              "1      'F'\n",
              "2      'F'\n",
              "3      'F'\n",
              "4      'F'\n",
              "      ... \n",
              "390    'M'\n",
              "391    'M'\n",
              "392    'M'\n",
              "393    'M'\n",
              "394    'M'\n",
              "Name: group_a, Length: 395, dtype: object"
            ]
          },
          "execution_count": 14,
          "metadata": {},
          "output_type": "execute_result"
        }
      ],
      "source": [
        "dataset['group_a']"
      ]
    },
    {
      "cell_type": "markdown",
      "metadata": {
        "id": "8gBKBAY_thwT"
      },
      "source": [
        "## **Data Exploration**"
      ]
    },
    {
      "cell_type": "markdown",
      "metadata": {
        "id": "cS1W_eqMthwU"
      },
      "source": [
        "We import some of the holisticai plotters for quick exploration of the data."
      ]
    },
    {
      "cell_type": "code",
      "execution_count": null,
      "metadata": {
        "id": "h2br1XwzthwV"
      },
      "outputs": [],
      "source": [
        "from holisticai.bias.plots import group_pie_plot\n",
        "from holisticai.bias.plots import distribution_plot\n",
        "from holisticai.bias.plots import success_rate_curves"
      ]
    },
    {
      "cell_type": "code",
      "execution_count": null,
      "metadata": {
        "colab": {
          "base_uri": "https://localhost:8080/",
          "height": 472
        },
        "id": "YmaSRbHdthwZ",
        "outputId": "4e71043b-5a0d-4e88-a45c-8fb3a043b35b"
      },
      "outputs": [],
      "source": [
        "group_pie_plot(dataset['group_a'])"
      ]
    },
    {
      "cell_type": "markdown",
      "metadata": {
        "id": "KLM4iBg-thwb"
      },
      "source": [
        "The data is balanced in terms of sex."
      ]
    },
    {
      "cell_type": "code",
      "execution_count": null,
      "metadata": {
        "colab": {
          "base_uri": "https://localhost:8080/",
          "height": 524
        },
        "id": "cyhVBis0thwc",
        "outputId": "f355bcf1-d65e-419b-f3de-375fe0e5f7f8"
      },
      "outputs": [],
      "source": [
        "# distribution of grades for male an female\n",
        "distribution_plot(dataset['y'], dataset['group_a'])"
      ]
    },
    {
      "cell_type": "markdown",
      "metadata": {
        "id": "HRp__M7_thwh"
      },
      "source": [
        "The Mother's job attribute is the one that shows most difference in the densities of grades. For instance we observe students with a mother working in health have higher density at higher grades."
      ]
    },
    {
      "cell_type": "code",
      "execution_count": null,
      "metadata": {
        "colab": {
          "base_uri": "https://localhost:8080/",
          "height": 524
        },
        "id": "iC46HQWzthwi",
        "outputId": "fe52dd6a-401b-4f28-e7bf-e8894082b07b"
      },
      "outputs": [],
      "source": [
        "p_attr = np.array(dataset['p_attr']['Fjob'])\n",
        "y =      np.array(dataset['y']['G3'])\n",
        "success_rate_curves(p_attr, y, groups=['at_home', 'health', 'teacher'])"
      ]
    },
    {
      "cell_type": "markdown",
      "metadata": {
        "id": "BY9MTMa0thwj"
      },
      "source": [
        "The above shows the success rate (sucess is exceeding the given threshold) as a function of threshold for different subgroups of the population : Father's job in ['at_home', 'health', 'teacher']. We can observe that student's with a parent as a teacher are more likely to exceed high thresholds than other groups."
      ]
    },
    {
      "cell_type": "markdown",
      "metadata": {
        "id": "PUIHMtKHthwj"
      },
      "source": [
        "## **Preprocess Data and Train a model**"
      ]
    },
    {
      "cell_type": "markdown",
      "metadata": {
        "id": "TAzF7d7Nthwk"
      },
      "source": [
        "We use a sklearn linear regression model."
      ]
    },
    {
      "cell_type": "code",
      "execution_count": null,
      "metadata": {
        "id": "SbqhStyfthwk"
      },
      "outputs": [],
      "source": [
        "from sklearn.linear_model import LinearRegression"
      ]
    },
    {
      "cell_type": "code",
      "execution_count": null,
      "metadata": {
        "id": "TQhqCl6DNa0C"
      },
      "outputs": [],
      "source": [
        "# Load, preprocess and split for training\n",
        "datasets = dataset.train_test_split(test_size=0.3, random_state=42)\n",
        "datasets"
      ]
    },
    {
      "cell_type": "code",
      "execution_count": null,
      "metadata": {
        "id": "JX6rQ2l5thwm"
      },
      "outputs": [],
      "source": [
        "# G3 is the students final grade (drop G2 and G1 as well because highly correlated with G3)\n",
        "X_train = datasets['train']['x']\n",
        "X_test = datasets['test']['x']\n",
        "y_train = datasets['train']['y']['G3']\n",
        "y_test = datasets['test']['y']['G3']\n",
        "\n",
        "p_attr_train = datasets['train']['p_attr']\n",
        "p_attr_test = datasets['test']['p_attr']\n",
        "\n",
        "# Train a simple linear regression model\n",
        "model = LinearRegression()\n",
        "model = model.fit(X_train, y_train)\n",
        "\n",
        "# Predict values\n",
        "y_pred = model.predict(X_test)"
      ]
    },
    {
      "cell_type": "code",
      "execution_count": null,
      "metadata": {},
      "outputs": [],
      "source": [
        "#from holisticai.metrics.efficacy import regression_efficacy_metrics\n",
        "#regression_efficacy_metrics(y_pred, y_test)"
      ]
    },
    {
      "cell_type": "markdown",
      "metadata": {
        "id": "njRVGOFtthwn"
      },
      "source": [
        "## **Measure bias**"
      ]
    },
    {
      "cell_type": "code",
      "execution_count": null,
      "metadata": {
        "id": "9XnsD7vMthwo"
      },
      "outputs": [],
      "source": [
        "# import some bias metrics\n",
        "from holisticai.bias.metrics import statistical_parity_regression\n",
        "from holisticai.bias.metrics import disparate_impact_regression\n",
        "from holisticai.bias.metrics import mae_ratio\n",
        "from holisticai.bias.metrics import rmse_ratio"
      ]
    },
    {
      "cell_type": "code",
      "execution_count": null,
      "metadata": {
        "id": "_LgNg48Othwo"
      },
      "outputs": [],
      "source": [
        "# set up vectors for gender\n",
        "\n",
        "group_a = np.array(p_attr_test['sex']=='M')\n",
        "group_b = np.array(p_attr_test['sex']=='F')\n",
        "y_pred  = np.array(model.predict(X_test))\n",
        "y_true  = np.array(y_test)"
      ]
    },
    {
      "cell_type": "code",
      "execution_count": null,
      "metadata": {
        "colab": {
          "base_uri": "https://localhost:8080/"
        },
        "id": "9qY6ORsmthwp",
        "outputId": "cfcf6fd2-5d20-416d-f929-65fec4cf4a85"
      },
      "outputs": [],
      "source": [
        "# evaluate fairness metrics for gender\n",
        "print ('Statistical Parity Q80   : ' + str(statistical_parity_regression(group_a, group_b, y_pred, q=0.8)))\n",
        "print ('Disparate Impact Q80     : ' + str(disparate_impact_regression(group_a, group_b, y_pred, q=0.8)))\n",
        "print ('MAE Ratio                : ' + str(mae_ratio(group_a, group_b, y_pred, y_true)))\n",
        "print ('RMSE Ratio               : ' + str(rmse_ratio(group_a, group_b, y_pred, y_true)))"
      ]
    },
    {
      "cell_type": "markdown",
      "metadata": {
        "id": "HNkKGRbfthwp"
      },
      "source": [
        "All the above metrics are within acceptable ranges. This shows there isn't much bias for the subgroups of the sex column. Let's try the address attribute."
      ]
    },
    {
      "cell_type": "code",
      "execution_count": null,
      "metadata": {
        "id": "vZz3hnwTthwq"
      },
      "outputs": [],
      "source": [
        "# set up vectors for address\n",
        "\n",
        "group_a = np.array(p_attr_test['address']=='U')\n",
        "group_b = np.array(p_attr_test['address']=='R')\n",
        "y_pred  = np.array(model.predict(X_test))\n",
        "y_true  = np.array(y_test)"
      ]
    },
    {
      "cell_type": "code",
      "execution_count": null,
      "metadata": {
        "colab": {
          "base_uri": "https://localhost:8080/"
        },
        "id": "6CByyuHUthwq",
        "outputId": "67f2a266-7b94-498d-cfba-9530584668af"
      },
      "outputs": [],
      "source": [
        "# evaluate fairness metrics for address\n",
        "print ('Statistical Parity Q80   : ' + str(statistical_parity_regression(group_a, group_b, y_pred, q=0.8)))\n",
        "print ('Disparate Impact Q80     : ' + str(disparate_impact_regression(group_a, group_b, y_pred, q=0.8)))\n",
        "print ('MAE Ratio                : ' + str(mae_ratio(group_a, group_b, y_pred, y_true)))\n",
        "print ('RMSE Ratio               : ' + str(rmse_ratio(group_a, group_b, y_pred, y_true)))"
      ]
    },
    {
      "cell_type": "markdown",
      "metadata": {
        "id": "VFpkF4a1thwr"
      },
      "source": [
        "The disparate impact at quantile 0.8 is outside of fair ranges (0.8, 1.2), students living in urban areas are 1.8 times more likely to be predicted in top 20% of grades than students living in rural areas."
      ]
    },
    {
      "cell_type": "code",
      "execution_count": null,
      "metadata": {
        "colab": {
          "base_uri": "https://localhost:8080/"
        },
        "id": "avlRX_Gdthws",
        "outputId": "ed92520d-fe62-4588-bba9-0c9f5e571ee4"
      },
      "outputs": [],
      "source": [
        "print ('Disparate Impact Q80     : ' + str(disparate_impact_regression(group_a, group_b, y_true, q=0.8)))"
      ]
    },
    {
      "cell_type": "markdown",
      "metadata": {
        "id": "BzMDoYfAthws"
      },
      "source": [
        "When we look at the metric computed on true values, we get an even worst pattern. Students living in urban areas are actually 4.2 times more likely to be in top 20% of grades than students living in rural areas."
      ]
    },
    {
      "cell_type": "markdown",
      "metadata": {
        "id": "Cd_A0Y8ithwt"
      },
      "source": [
        "**Equality of outcome metrics (batch computation)**\n",
        "\n",
        "Use address as protected attribute"
      ]
    },
    {
      "cell_type": "code",
      "execution_count": null,
      "metadata": {
        "id": "y3MJuqeTthwt"
      },
      "outputs": [],
      "source": [
        "# set up vectors for address\n",
        "\n",
        "group_a = np.array(p_attr_test['address']=='U')\n",
        "group_b = np.array(p_attr_test['address']=='R')\n",
        "y_pred  = np.array(model.predict(X_test))"
      ]
    },
    {
      "cell_type": "code",
      "execution_count": null,
      "metadata": {
        "colab": {
          "base_uri": "https://localhost:8080/",
          "height": 394
        },
        "id": "2OKc8yAathwu",
        "outputId": "d2194489-23c0-40b5-e3bd-56350e7ad1d8"
      },
      "outputs": [],
      "source": [
        "from holisticai.bias.metrics import regression_bias_metrics\n",
        "regression_bias_metrics(group_a, group_b, y_pred, metric_type='equal_outcome')"
      ]
    },
    {
      "cell_type": "markdown",
      "metadata": {
        "id": "1glOTk_Nthwv"
      },
      "source": [
        "**Equality of opportunity metrics (batch computation)**\n",
        "\n",
        "Use address as protected attribute"
      ]
    },
    {
      "cell_type": "code",
      "execution_count": null,
      "metadata": {
        "id": "YRDigE0Ithwv"
      },
      "outputs": [],
      "source": [
        "# set up vectors for address\n",
        "\n",
        "group_a = p_attr_test['address']=='U'\n",
        "group_b = p_attr_test['address']=='R'\n",
        "y_pred  = model.predict(X_test)\n",
        "y_true  = y_test"
      ]
    },
    {
      "cell_type": "code",
      "execution_count": null,
      "metadata": {
        "colab": {
          "base_uri": "https://localhost:8080/",
          "height": 238
        },
        "id": "G4prNyATthww",
        "outputId": "0aa1a97f-e577-48c5-bbb3-69beb3d25fc5"
      },
      "outputs": [],
      "source": [
        "regression_bias_metrics(group_a, group_b, y_pred, y_true, metric_type='equal_opportunity')"
      ]
    },
    {
      "cell_type": "code",
      "execution_count": null,
      "metadata": {},
      "outputs": [],
      "source": [
        "regression_bias_metrics(group_a=group_a, group_b=group_b, y_pred=y_pred, y_true=y_true, metric_type='both')"
      ]
    },
    {
      "cell_type": "markdown",
      "metadata": {},
      "source": [
        "We can show all individual bias metrics by setting 'metric_types' as 'individual'."
      ]
    },
    {
      "cell_type": "code",
      "execution_count": null,
      "metadata": {},
      "outputs": [],
      "source": [
        "regression_bias_metrics(group_a=group_a, group_b=group_b, y_pred=y_pred, y_true=y_true, metric_type='individual')"
      ]
    },
    {
      "cell_type": "code",
      "execution_count": null,
      "metadata": {},
      "outputs": [],
      "source": []
    }
  ],
  "metadata": {
    "colab": {
      "provenance": []
    },
    "kernelspec": {
      "display_name": "Python 3.9.0 ('torch-nightly')",
      "language": "python",
      "name": "python3"
    },
    "language_info": {
      "codemirror_mode": {
        "name": "ipython",
        "version": 3
      },
      "file_extension": ".py",
      "mimetype": "text/x-python",
      "name": "python",
      "nbconvert_exporter": "python",
      "pygments_lexer": "ipython3",
      "version": "3.11.5"
    },
    "vscode": {
      "interpreter": {
        "hash": "f5fa74478a026ac530ef194e4df855dfb9675779484e20284ae5f690a2266d7b"
      }
    }
  },
  "nbformat": 4,
  "nbformat_minor": 0
}
