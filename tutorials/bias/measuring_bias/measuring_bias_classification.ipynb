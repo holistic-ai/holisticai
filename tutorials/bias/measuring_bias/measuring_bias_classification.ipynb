{
  "cells": [
    {
      "cell_type": "markdown",
      "metadata": {
        "id": "pFKF6N69kCay"
      },
      "source": [
        "# **Measuring Bias in classification**\n"
      ]
    },
    {
      "cell_type": "markdown",
      "metadata": {
        "id": "H4wgoeXalewC"
      },
      "source": [
        "This notebook is a tutorial on auditing bias within a binary classification task. We will use the holisticai library both in the **data exploration** and **measure bias** sections, introducing some of the functions we have created to help study algorithmic bias.\n",
        "\n",
        "The sections are organised as follows :\n",
        "1. Load the data : we load the law school dataset as a pandas DataFrame\n",
        "2. Data Exploration : some preliminary analysis of the data\n",
        "3. Train a Model : we train a simple logistic regression model (sklearn)\n",
        "4. Measure Bias : we compute a few bias metrics, and comment on their meaning"
      ]
    },
    {
      "cell_type": "markdown",
      "metadata": {
        "id": "-nYt5_h77QGN"
      },
      "source": [
        "## **Load the data**"
      ]
    },
    {
      "cell_type": "markdown",
      "metadata": {
        "id": "NUVHPnd6nyFg"
      },
      "source": [
        "First of all, we need to import the required packages to perform our bias analysis and mitigation. You will need to have the `holisticai` package installed on your system, remember that you can install it by running: \n",
        "```bash\n",
        "!pip install holisticai[all]\n",
        "```"
      ]
    },
    {
      "cell_type": "code",
      "execution_count": 1,
      "metadata": {
        "id": "KgfZWXdy1REj"
      },
      "outputs": [],
      "source": [
        "# Imports\n",
        "import warnings\n",
        "warnings.filterwarnings(\"ignore\")"
      ]
    },
    {
      "cell_type": "markdown",
      "metadata": {
        "id": "fn78Hu7tlewF"
      },
      "source": [
        "We host a few example datasets on the holisticai library for quick loading and experimentation. Here we load and use the Law School dataset. The goal of this dataset is the prediction of the binary attribute 'bar' (whether a student passes the law school bar). The protected attributes are race and gender. We pay special attention to race in this case, because preliminary exploration hints there is strong inequality on that sensitive attribute."
      ]
    },
    {
      "cell_type": "code",
      "execution_count": 2,
      "metadata": {},
      "outputs": [
        {
          "data": {
            "text/html": [
              "\n",
              "        <head>\n",
              "            <meta charset=\"UTF-8\">\n",
              "            <meta name=\"viewport\" content=\"width=device-width, initial-scale=1.0\">\n",
              "            <title>Diagrama DatasetDict</title>\n",
              "            <style>\n",
              "                \n",
              "    .container {\n",
              "        font-family: Arial, sans-serif;\n",
              "        margin: 20px;\n",
              "    }\n",
              "    .node {\n",
              "        border: 2px solid #000;\n",
              "        padding: 10px;\n",
              "        margin: 10px;\n",
              "        text-align: left;\n",
              "        display: inline-block;\n",
              "        background-color: #E0FFFF;\n",
              "    }\n",
              "    .datasets-container {\n",
              "        display: flex;\n",
              "        flex-wrap: wrap;\n",
              "    }\n",
              "    .dataset {\n",
              "        border: 2px solid #007bff;\n",
              "        padding: 10px;\n",
              "        margin: 10px;\n",
              "        text-align: left;\n",
              "        border-radius: 5px;\n",
              "        display: inline-block;\n",
              "        white-space: nowrap;\n",
              "        background-color: #E0FFFF;\n",
              "        box-sizing: border-box;\n",
              "    }\n",
              "    .title {\n",
              "        font-weight: bold;\n",
              "        color: #222; /* Letras más negras */\n",
              "        margin-bottom: 10px;\n",
              "        text-align: left;\n",
              "        white-space: nowrap;\n",
              "    }\n",
              "    ul {\n",
              "        list-style-type: disc;\n",
              "        padding-left: 20px;\n",
              "        text-align: left;\n",
              "        margin: 0;\n",
              "        white-space: normal;\n",
              "        color: #222; /* Letras más negras */\n",
              "    }\n",
              "    .groupbydataset {\n",
              "        border: 2px solid #007bff; /* Dark red */\n",
              "        padding: 10px;\n",
              "        margin: 10px;\n",
              "        text-align: left;\n",
              "        border-radius: 5px;\n",
              "        display: inline-block;\n",
              "        white-space: nowrap;\n",
              "        background-color: #E0FFFF; /* Light pink */\n",
              "        box-sizing: border-box;\n",
              "    }\n",
              "    \n",
              "            </style>\n",
              "        </head>\n",
              "        <body>\n",
              "            <div class=\"container\">\n",
              "                \n",
              "        <div class=\"dataset\" style=\"width: 480px;\">\n",
              "            <div class=\"title\">Dataset</div>\n",
              "            <ul>\n",
              "                <li>features: [ X , y , group_a , group_b ]</li>\n",
              "                <li>num_rows: 20800</li>\n",
              "            </ul>\n",
              "        </div>\n",
              "        \n",
              "            </div>\n",
              "        </body>\n",
              "        "
            ],
            "text/plain": [
              "Dataset({\n",
              "        features: ['X', 'y', 'group_a', 'group_b'],\n",
              "        num_rows: 20800\n",
              "    })"
            ]
          },
          "execution_count": 2,
          "metadata": {},
          "output_type": "execute_result"
        }
      ],
      "source": [
        "from holisticai.datasets import load_dataset\n",
        "\n",
        "dataset = load_dataset('law_school')\n",
        "dataset"
      ]
    },
    {
      "cell_type": "markdown",
      "metadata": {
        "id": "TajqKuT6lewG"
      },
      "source": [
        "## **Data Exploration**"
      ]
    },
    {
      "cell_type": "markdown",
      "metadata": {
        "id": "Xr5I_C2tlewH"
      },
      "source": [
        "We import some of the holisticai plotters for quick exploration of the data."
      ]
    },
    {
      "cell_type": "code",
      "execution_count": 3,
      "metadata": {
        "id": "A_mIRR-KlewI"
      },
      "outputs": [
        {
          "data": {
            "text/plain": [
              "<Axes: title={'center': 'Frequency Plot'}, xlabel='Group', ylabel='Frequency'>"
            ]
          },
          "execution_count": 3,
          "metadata": {},
          "output_type": "execute_result"
        },
        {
          "data": {
            "image/png": "[encoded data removed]",
            "text/plain": [
              "<Figure size 1500x500 with 2 Axes>"
            ]
          },
          "metadata": {},
          "output_type": "display_data"
        }
      ],
      "source": [
        "from holisticai.bias.plots import group_pie_plot, frequency_plot\n",
        "import matplotlib.pyplot as plt\n",
        "\n",
        "group_a = dataset['group_a']\n",
        "group_a = dataset['group_b']\n",
        "\n",
        "fig,axs = plt.subplots(1, 2, figsize=(15,5))\n",
        "group_pie_plot(group_a, ax=axs[0], title='Group Pie Plot')\n",
        "frequency_plot(group_a, dataset['y'], ax=axs[1], title='Frequency Plot')"
      ]
    },
    {
      "cell_type": "markdown",
      "metadata": {
        "id": "wtG3AQdxlewK"
      },
      "source": [
        "The proportion of white people in law school is very high, allready we observe there is a big representation issue."
      ]
    },
    {
      "cell_type": "markdown",
      "metadata": {
        "id": "mUAw1GV7lewM"
      },
      "source": [
        "We also observe that the white group has a much higher pass rate (within the dataset) than the non-white group."
      ]
    },
    {
      "cell_type": "markdown",
      "metadata": {
        "id": "8FuyOc0ZlewM"
      },
      "source": [
        "## **Train a model**"
      ]
    },
    {
      "cell_type": "markdown",
      "metadata": {
        "id": "13-DFD9flewO"
      },
      "source": [
        "\n",
        "Here we train a Logistic Regression classifier."
      ]
    },
    {
      "cell_type": "code",
      "execution_count": 4,
      "metadata": {
        "id": "fo4na9kCw6bN"
      },
      "outputs": [
        {
          "data": {
            "text/html": [
              "\n",
              "        <head>\n",
              "            <meta charset=\"UTF-8\">\n",
              "            <meta name=\"viewport\" content=\"width=device-width, initial-scale=1.0\">\n",
              "            <title>Diagrama DatasetDict</title>\n",
              "            <style>\n",
              "                \n",
              "    .container {\n",
              "        font-family: Arial, sans-serif;\n",
              "        margin: 20px;\n",
              "    }\n",
              "    .node {\n",
              "        border: 2px solid #000;\n",
              "        padding: 10px;\n",
              "        margin: 10px;\n",
              "        text-align: left;\n",
              "        display: inline-block;\n",
              "        background-color: #E0FFFF;\n",
              "    }\n",
              "    .datasets-container {\n",
              "        display: flex;\n",
              "        flex-wrap: wrap;\n",
              "    }\n",
              "    .dataset {\n",
              "        border: 2px solid #007bff;\n",
              "        padding: 10px;\n",
              "        margin: 10px;\n",
              "        text-align: left;\n",
              "        border-radius: 5px;\n",
              "        display: inline-block;\n",
              "        white-space: nowrap;\n",
              "        background-color: #E0FFFF;\n",
              "        box-sizing: border-box;\n",
              "    }\n",
              "    .title {\n",
              "        font-weight: bold;\n",
              "        color: #222; /* Letras más negras */\n",
              "        margin-bottom: 10px;\n",
              "        text-align: left;\n",
              "        white-space: nowrap;\n",
              "    }\n",
              "    ul {\n",
              "        list-style-type: disc;\n",
              "        padding-left: 20px;\n",
              "        text-align: left;\n",
              "        margin: 0;\n",
              "        white-space: normal;\n",
              "        color: #222; /* Letras más negras */\n",
              "    }\n",
              "    .groupbydataset {\n",
              "        border: 2px solid #007bff; /* Dark red */\n",
              "        padding: 10px;\n",
              "        margin: 10px;\n",
              "        text-align: left;\n",
              "        border-radius: 5px;\n",
              "        display: inline-block;\n",
              "        white-space: nowrap;\n",
              "        background-color: #E0FFFF; /* Light pink */\n",
              "        box-sizing: border-box;\n",
              "    }\n",
              "    \n",
              "            </style>\n",
              "        </head>\n",
              "        <body>\n",
              "            <div class=\"container\">\n",
              "                \n",
              "        <div class=\"node\">\n",
              "            <div class=\"title\">DatasetDict</div>\n",
              "            <div class=\"datasets-container\">\n",
              "                \n",
              "        <div class=\"dataset\" style=\"width: 480px;\">\n",
              "            <div class=\"title\">train</div>\n",
              "            <ul>\n",
              "                <li>features: [X , y , group_a , group_b]</li>\n",
              "                <li>num_rows: 14560</li>\n",
              "            </ul>\n",
              "        </div>\n",
              "        \n",
              "        <div class=\"dataset\" style=\"width: 480px;\">\n",
              "            <div class=\"title\">test</div>\n",
              "            <ul>\n",
              "                <li>features: [X , y , group_a , group_b]</li>\n",
              "                <li>num_rows: 6240</li>\n",
              "            </ul>\n",
              "        </div>\n",
              "        \n",
              "            </div>\n",
              "        </div>\n",
              "        \n",
              "            </div>\n",
              "        </body>\n",
              "        "
            ],
            "text/plain": [
              "DatasetDict({\n",
              "    train: Dataset({\n",
              "        features: ['X', 'y', 'group_a', 'group_b'],\n",
              "        num_rows: 14560\n",
              "    }),\n",
              "    test: Dataset({\n",
              "        features: ['X', 'y', 'group_a', 'group_b'],\n",
              "        num_rows: 6240\n",
              "    })\n",
              "})"
            ]
          },
          "execution_count": 4,
          "metadata": {},
          "output_type": "execute_result"
        }
      ],
      "source": [
        "dataset_split = dataset.train_test_split(test_size=0.3)\n",
        "dataset_split"
      ]
    },
    {
      "cell_type": "code",
      "execution_count": 5,
      "metadata": {
        "id": "aeuFMgXwlewP"
      },
      "outputs": [],
      "source": [
        "from sklearn.linear_model import LogisticRegression\n",
        "from sklearn.preprocessing import StandardScaler\n",
        "\n",
        "# train a model, do not forget to standard scale data\n",
        "train = dataset_split['train']\n",
        "test = dataset_split['test']\n",
        "\n",
        "scaler = StandardScaler()\n",
        "X_train_t = scaler.fit_transform(train['X'])\n",
        "model = LogisticRegression(random_state=42, max_iter=500)\n",
        "model.fit(X_train_t, train['y'])\n",
        "X_test_t = scaler.transform(test['X'])\n",
        "y_pred = model.predict(X_test_t)"
      ]
    },
    {
      "cell_type": "markdown",
      "metadata": {
        "id": "P9ydT_sulewQ"
      },
      "source": [
        "## **Measure bias**"
      ]
    },
    {
      "cell_type": "markdown",
      "metadata": {
        "id": "hHZ1fY-TlewR"
      },
      "source": [
        "The holisticai.bias.metrics module contains a range of metrics useful in evaluating the fairness of algorithmic decisions. In this case we use only a few of the metrics relevant to a classification task."
      ]
    },
    {
      "cell_type": "code",
      "execution_count": 6,
      "metadata": {
        "id": "JWaKxmVMlewS"
      },
      "outputs": [],
      "source": [
        "# import some bias metrics\n",
        "from holisticai.bias.metrics import statistical_parity\n",
        "from holisticai.bias.metrics import disparate_impact\n",
        "from holisticai.bias.metrics import accuracy_diff"
      ]
    },
    {
      "cell_type": "code",
      "execution_count": 8,
      "metadata": {
        "id": "qA5WeW0HlewS"
      },
      "outputs": [],
      "source": [
        "# set up groups, prediction array and true (aka target/label) array.\n",
        "y_pred  = model.predict(X_test_t)          # prediction vector\n",
        "y_true  = test['y']                        # true vector\n",
        "group_a_test = test['group_a']        # group A\n",
        "group_b_test = test['group_b']        # group B"
      ]
    },
    {
      "cell_type": "code",
      "execution_count": 9,
      "metadata": {
        "colab": {
          "base_uri": "https://localhost:8080/",
          "height": 573
        },
        "id": "uWt4ek-3lewT",
        "outputId": "43401399-c3fb-44a1-b749-d924166b9097"
      },
      "outputs": [
        {
          "data": {
            "text/plain": [
              "<Axes: title={'center': 'Frequency Plot (Class 1)'}, xlabel='Group', ylabel='Frequency'>"
            ]
          },
          "execution_count": 9,
          "metadata": {},
          "output_type": "execute_result"
        },
        {
          "data": {
            "image/png": "[encoded data removed]",
            "text/plain": [
              "<Figure size 640x480 with 1 Axes>"
            ]
          },
          "metadata": {},
          "output_type": "display_data"
        }
      ],
      "source": [
        "frequency_plot(group_a_test, y_pred)"
      ]
    },
    {
      "cell_type": "code",
      "execution_count": 10,
      "metadata": {
        "colab": {
          "base_uri": "https://localhost:8080/"
        },
        "id": "qZf0wBORlewT",
        "outputId": "af5dfeba-ddb8-42dd-e9dd-ff5864d66164"
      },
      "outputs": [
        {
          "data": {
            "text/plain": [
              "0.16418281698911552"
            ]
          },
          "execution_count": 10,
          "metadata": {},
          "output_type": "execute_result"
        }
      ],
      "source": [
        "# compute statistical parity\n",
        "statistical_parity(group_a_test, group_b_test, y_pred)"
      ]
    },
    {
      "cell_type": "markdown",
      "metadata": {
        "id": "XIsc8Ol7lewU"
      },
      "source": [
        "The statistical parity indicates the difference in success rate between non-white and white groups. In this case it is outside of ranges considered fair (-0.1, 0.1)."
      ]
    },
    {
      "cell_type": "code",
      "execution_count": 11,
      "metadata": {
        "colab": {
          "base_uri": "https://localhost:8080/"
        },
        "id": "qdC3cZzJlewU",
        "outputId": "c3ed706b-9fc0-405f-8c26-a22e50756f02"
      },
      "outputs": [
        {
          "data": {
            "text/plain": [
              "1.200257942819433"
            ]
          },
          "execution_count": 11,
          "metadata": {},
          "output_type": "execute_result"
        }
      ],
      "source": [
        "# compute disparate impact\n",
        "disparate_impact(group_a_test, group_b_test, y_pred)"
      ]
    },
    {
      "cell_type": "markdown",
      "metadata": {
        "id": "Qz7xO94olewU"
      },
      "source": [
        "The disparate impact on the other hand is within the fair range (0.8, 1.2). This shows the importance of considering many different metrics to get a holistic picture of the situation."
      ]
    },
    {
      "cell_type": "code",
      "execution_count": 12,
      "metadata": {
        "colab": {
          "base_uri": "https://localhost:8080/"
        },
        "id": "kz9gl9NQlewV",
        "outputId": "23c67aaf-3ff5-41f5-992f-bccf634e5235"
      },
      "outputs": [
        {
          "data": {
            "text/plain": [
              "0.12063417173753699"
            ]
          },
          "execution_count": 12,
          "metadata": {},
          "output_type": "execute_result"
        }
      ],
      "source": [
        "# compute accuracy difference\n",
        "accuracy_diff(group_a_test, group_b_test, y_pred, y_true)"
      ]
    },
    {
      "cell_type": "markdown",
      "metadata": {
        "id": "HZWfeoEElewV"
      },
      "source": [
        "The above metric is different from the first two in that it also uses the target values, this is an equality of opportunity metric. A value of -0.12 shows that the classifier we trained is less accurate on non-white group than white group. This is expected because of the data imbalance."
      ]
    },
    {
      "cell_type": "code",
      "execution_count": 13,
      "metadata": {
        "colab": {
          "base_uri": "https://localhost:8080/",
          "height": 524
        },
        "id": "xJcVpAU7lewW",
        "outputId": "c43c4068-b6ac-44fe-807b-bb834ecae52a"
      },
      "outputs": [
        {
          "data": {
            "text/plain": [
              "<Axes: title={'center': 'Accuracy Bar Plot'}, xlabel='Group', ylabel='Accuracy'>"
            ]
          },
          "execution_count": 13,
          "metadata": {},
          "output_type": "execute_result"
        },
        {
          "data": {
            "image/png": "[encoded data removed]",
            "text/plain": [
              "<Figure size 640x480 with 1 Axes>"
            ]
          },
          "metadata": {},
          "output_type": "display_data"
        }
      ],
      "source": [
        "from holisticai.bias.plots import accuracy_bar_plot\n",
        "\n",
        "accuracy_bar_plot(group_a_test, y_pred, y_true)"
      ]
    },
    {
      "cell_type": "markdown",
      "metadata": {
        "id": "r_j3eJVflewW"
      },
      "source": [
        "The above shows the same result as accuracy_diff metric in plot form."
      ]
    },
    {
      "cell_type": "markdown",
      "metadata": {
        "id": "FgKWWFWOlewX"
      },
      "source": [
        "**Equality of outcome metrics (batch computation)**"
      ]
    },
    {
      "cell_type": "code",
      "execution_count": 14,
      "metadata": {
        "id": "oc4e3BEAlewX"
      },
      "outputs": [],
      "source": [
        "# import function for batch computation\n",
        "from holisticai.bias.metrics import classification_bias_metrics"
      ]
    },
    {
      "cell_type": "code",
      "execution_count": 15,
      "metadata": {
        "colab": {
          "base_uri": "https://localhost:8080/",
          "height": 238
        },
        "id": "TsaiGEVclewX",
        "outputId": "40e5e59c-dad3-45c2-f06e-53bbb68401ce"
      },
      "outputs": [
        {
          "data": {
            "text/html": [
              "<div>\n",
              "<style scoped>\n",
              "    .dataframe tbody tr th:only-of-type {\n",
              "        vertical-align: middle;\n",
              "    }\n",
              "\n",
              "    .dataframe tbody tr th {\n",
              "        vertical-align: top;\n",
              "    }\n",
              "\n",
              "    .dataframe thead th {\n",
              "        text-align: right;\n",
              "    }\n",
              "</style>\n",
              "<table border=\"1\" class=\"dataframe\">\n",
              "  <thead>\n",
              "    <tr style=\"text-align: right;\">\n",
              "      <th></th>\n",
              "      <th>Value</th>\n",
              "      <th>Reference</th>\n",
              "    </tr>\n",
              "    <tr>\n",
              "      <th>Metric</th>\n",
              "      <th></th>\n",
              "      <th></th>\n",
              "    </tr>\n",
              "  </thead>\n",
              "  <tbody>\n",
              "    <tr>\n",
              "      <th>Statistical Parity</th>\n",
              "      <td>0.164183</td>\n",
              "      <td>0</td>\n",
              "    </tr>\n",
              "    <tr>\n",
              "      <th>Disparate Impact</th>\n",
              "      <td>1.200258</td>\n",
              "      <td>1</td>\n",
              "    </tr>\n",
              "    <tr>\n",
              "      <th>Four Fifths Rule</th>\n",
              "      <td>0.833154</td>\n",
              "      <td>1</td>\n",
              "    </tr>\n",
              "    <tr>\n",
              "      <th>Cohen D</th>\n",
              "      <td>0.861069</td>\n",
              "      <td>0</td>\n",
              "    </tr>\n",
              "    <tr>\n",
              "      <th>2SD Rule</th>\n",
              "      <td>23.585587</td>\n",
              "      <td>0</td>\n",
              "    </tr>\n",
              "  </tbody>\n",
              "</table>\n",
              "</div>"
            ],
            "text/plain": [
              "                        Value  Reference\n",
              "Metric                                  \n",
              "Statistical Parity   0.164183          0\n",
              "Disparate Impact     1.200258          1\n",
              "Four Fifths Rule     0.833154          1\n",
              "Cohen D              0.861069          0\n",
              "2SD Rule            23.585587          0"
            ]
          },
          "execution_count": 15,
          "metadata": {},
          "output_type": "execute_result"
        }
      ],
      "source": [
        "classification_bias_metrics(group_a_test, group_b_test, y_pred, y_true, metric_type='equal_outcome')"
      ]
    },
    {
      "cell_type": "markdown",
      "metadata": {
        "id": "uSyW3_LSlewY"
      },
      "source": [
        "**Equality of opportunity metrics (batch computation)**"
      ]
    },
    {
      "cell_type": "code",
      "execution_count": 16,
      "metadata": {
        "colab": {
          "base_uri": "https://localhost:8080/",
          "height": 206
        },
        "id": "sUN1a3bllewZ",
        "outputId": "7deeac44-a9b5-4e7c-9fa7-39f0fb48800b"
      },
      "outputs": [
        {
          "data": {
            "text/html": [
              "<div>\n",
              "<style scoped>\n",
              "    .dataframe tbody tr th:only-of-type {\n",
              "        vertical-align: middle;\n",
              "    }\n",
              "\n",
              "    .dataframe tbody tr th {\n",
              "        vertical-align: top;\n",
              "    }\n",
              "\n",
              "    .dataframe thead th {\n",
              "        text-align: right;\n",
              "    }\n",
              "</style>\n",
              "<table border=\"1\" class=\"dataframe\">\n",
              "  <thead>\n",
              "    <tr style=\"text-align: right;\">\n",
              "      <th></th>\n",
              "      <th>Value</th>\n",
              "      <th>Reference</th>\n",
              "    </tr>\n",
              "    <tr>\n",
              "      <th>Metric</th>\n",
              "      <th></th>\n",
              "      <th></th>\n",
              "    </tr>\n",
              "  </thead>\n",
              "  <tbody>\n",
              "    <tr>\n",
              "      <th>Equality of Opportunity Difference</th>\n",
              "      <td>0.070305</td>\n",
              "      <td>0</td>\n",
              "    </tr>\n",
              "    <tr>\n",
              "      <th>False Positive Rate Difference</th>\n",
              "      <td>0.361770</td>\n",
              "      <td>0</td>\n",
              "    </tr>\n",
              "    <tr>\n",
              "      <th>Average Odds Difference</th>\n",
              "      <td>0.216038</td>\n",
              "      <td>0</td>\n",
              "    </tr>\n",
              "    <tr>\n",
              "      <th>Accuracy Difference</th>\n",
              "      <td>0.120634</td>\n",
              "      <td>0</td>\n",
              "    </tr>\n",
              "  </tbody>\n",
              "</table>\n",
              "</div>"
            ],
            "text/plain": [
              "                                       Value  Reference\n",
              "Metric                                                 \n",
              "Equality of Opportunity Difference  0.070305          0\n",
              "False Positive Rate Difference      0.361770          0\n",
              "Average Odds Difference             0.216038          0\n",
              "Accuracy Difference                 0.120634          0"
            ]
          },
          "execution_count": 16,
          "metadata": {},
          "output_type": "execute_result"
        }
      ],
      "source": [
        "classification_bias_metrics(group_a_test, group_b_test, y_pred, y_true, metric_type='equal_opportunity')"
      ]
    },
    {
      "cell_type": "markdown",
      "metadata": {
        "id": "tFWRs6EBlewZ"
      },
      "source": [
        "For instance the false positive rate difference of 0.34 hints that white people are more likely to be missclassified as passing the bar than non-whites."
      ]
    },
    {
      "cell_type": "markdown",
      "metadata": {},
      "source": [
        "We can show all group bias metrics by setting 'metric_types' as 'group':"
      ]
    },
    {
      "cell_type": "code",
      "execution_count": 17,
      "metadata": {},
      "outputs": [
        {
          "data": {
            "text/html": [
              "<div>\n",
              "<style scoped>\n",
              "    .dataframe tbody tr th:only-of-type {\n",
              "        vertical-align: middle;\n",
              "    }\n",
              "\n",
              "    .dataframe tbody tr th {\n",
              "        vertical-align: top;\n",
              "    }\n",
              "\n",
              "    .dataframe thead th {\n",
              "        text-align: right;\n",
              "    }\n",
              "</style>\n",
              "<table border=\"1\" class=\"dataframe\">\n",
              "  <thead>\n",
              "    <tr style=\"text-align: right;\">\n",
              "      <th></th>\n",
              "      <th>Value</th>\n",
              "      <th>Reference</th>\n",
              "    </tr>\n",
              "    <tr>\n",
              "      <th>Metric</th>\n",
              "      <th></th>\n",
              "      <th></th>\n",
              "    </tr>\n",
              "  </thead>\n",
              "  <tbody>\n",
              "    <tr>\n",
              "      <th>Statistical Parity</th>\n",
              "      <td>0.164183</td>\n",
              "      <td>0</td>\n",
              "    </tr>\n",
              "    <tr>\n",
              "      <th>Disparate Impact</th>\n",
              "      <td>1.200258</td>\n",
              "      <td>1</td>\n",
              "    </tr>\n",
              "    <tr>\n",
              "      <th>Four Fifths Rule</th>\n",
              "      <td>0.833154</td>\n",
              "      <td>1</td>\n",
              "    </tr>\n",
              "    <tr>\n",
              "      <th>Cohen D</th>\n",
              "      <td>0.861069</td>\n",
              "      <td>0</td>\n",
              "    </tr>\n",
              "    <tr>\n",
              "      <th>2SD Rule</th>\n",
              "      <td>23.585587</td>\n",
              "      <td>0</td>\n",
              "    </tr>\n",
              "    <tr>\n",
              "      <th>Equality of Opportunity Difference</th>\n",
              "      <td>0.070305</td>\n",
              "      <td>0</td>\n",
              "    </tr>\n",
              "    <tr>\n",
              "      <th>False Positive Rate Difference</th>\n",
              "      <td>0.361770</td>\n",
              "      <td>0</td>\n",
              "    </tr>\n",
              "    <tr>\n",
              "      <th>Average Odds Difference</th>\n",
              "      <td>0.216038</td>\n",
              "      <td>0</td>\n",
              "    </tr>\n",
              "    <tr>\n",
              "      <th>Accuracy Difference</th>\n",
              "      <td>0.120634</td>\n",
              "      <td>0</td>\n",
              "    </tr>\n",
              "  </tbody>\n",
              "</table>\n",
              "</div>"
            ],
            "text/plain": [
              "                                        Value  Reference\n",
              "Metric                                                  \n",
              "Statistical Parity                   0.164183          0\n",
              "Disparate Impact                     1.200258          1\n",
              "Four Fifths Rule                     0.833154          1\n",
              "Cohen D                              0.861069          0\n",
              "2SD Rule                            23.585587          0\n",
              "Equality of Opportunity Difference   0.070305          0\n",
              "False Positive Rate Difference       0.361770          0\n",
              "Average Odds Difference              0.216038          0\n",
              "Accuracy Difference                  0.120634          0"
            ]
          },
          "execution_count": 17,
          "metadata": {},
          "output_type": "execute_result"
        }
      ],
      "source": [
        "classification_bias_metrics(group_a=group_a_test, group_b=group_b_test, y_pred=y_pred, y_true=y_true, metric_type='group')"
      ]
    },
    {
      "cell_type": "markdown",
      "metadata": {},
      "source": [
        "We can show all individual bias metrics by setting 'metric_types' as 'individual'."
      ]
    },
    {
      "cell_type": "code",
      "execution_count": 18,
      "metadata": {},
      "outputs": [
        {
          "data": {
            "text/html": [
              "<div>\n",
              "<style scoped>\n",
              "    .dataframe tbody tr th:only-of-type {\n",
              "        vertical-align: middle;\n",
              "    }\n",
              "\n",
              "    .dataframe tbody tr th {\n",
              "        vertical-align: top;\n",
              "    }\n",
              "\n",
              "    .dataframe thead th {\n",
              "        text-align: right;\n",
              "    }\n",
              "</style>\n",
              "<table border=\"1\" class=\"dataframe\">\n",
              "  <thead>\n",
              "    <tr style=\"text-align: right;\">\n",
              "      <th></th>\n",
              "      <th>Value</th>\n",
              "      <th>Reference</th>\n",
              "    </tr>\n",
              "    <tr>\n",
              "      <th>Metric</th>\n",
              "      <th></th>\n",
              "      <th></th>\n",
              "    </tr>\n",
              "  </thead>\n",
              "  <tbody>\n",
              "    <tr>\n",
              "      <th>Theil Index</th>\n",
              "      <td>0.041370</td>\n",
              "      <td>0</td>\n",
              "    </tr>\n",
              "    <tr>\n",
              "      <th>Generalized Entropy Index</th>\n",
              "      <td>0.039813</td>\n",
              "      <td>0</td>\n",
              "    </tr>\n",
              "    <tr>\n",
              "      <th>Coefficient of Variation</th>\n",
              "      <td>0.399065</td>\n",
              "      <td>0</td>\n",
              "    </tr>\n",
              "    <tr>\n",
              "      <th>Consistency Score</th>\n",
              "      <td>0.978686</td>\n",
              "      <td>1</td>\n",
              "    </tr>\n",
              "  </tbody>\n",
              "</table>\n",
              "</div>"
            ],
            "text/plain": [
              "                              Value  Reference\n",
              "Metric                                        \n",
              "Theil Index                0.041370          0\n",
              "Generalized Entropy Index  0.039813          0\n",
              "Coefficient of Variation   0.399065          0\n",
              "Consistency Score          0.978686          1"
            ]
          },
          "execution_count": 18,
          "metadata": {},
          "output_type": "execute_result"
        }
      ],
      "source": [
        "classification_bias_metrics(y_pred=y_pred, y_true=y_true, X=X_test_t, metric_type='individual')"
      ]
    },
    {
      "cell_type": "markdown",
      "metadata": {},
      "source": [
        "You can pass specific parameters for individual fairness metrics:"
      ]
    },
    {
      "cell_type": "code",
      "execution_count": 19,
      "metadata": {},
      "outputs": [
        {
          "data": {
            "text/html": [
              "<div>\n",
              "<style scoped>\n",
              "    .dataframe tbody tr th:only-of-type {\n",
              "        vertical-align: middle;\n",
              "    }\n",
              "\n",
              "    .dataframe tbody tr th {\n",
              "        vertical-align: top;\n",
              "    }\n",
              "\n",
              "    .dataframe thead th {\n",
              "        text-align: right;\n",
              "    }\n",
              "</style>\n",
              "<table border=\"1\" class=\"dataframe\">\n",
              "  <thead>\n",
              "    <tr style=\"text-align: right;\">\n",
              "      <th></th>\n",
              "      <th>Value</th>\n",
              "      <th>Reference</th>\n",
              "    </tr>\n",
              "    <tr>\n",
              "      <th>Metric</th>\n",
              "      <th></th>\n",
              "      <th></th>\n",
              "    </tr>\n",
              "  </thead>\n",
              "  <tbody>\n",
              "    <tr>\n",
              "      <th>Theil Index</th>\n",
              "      <td>0.041370</td>\n",
              "      <td>0</td>\n",
              "    </tr>\n",
              "    <tr>\n",
              "      <th>Generalized Entropy Index</th>\n",
              "      <td>0.039813</td>\n",
              "      <td>0</td>\n",
              "    </tr>\n",
              "    <tr>\n",
              "      <th>Coefficient of Variation</th>\n",
              "      <td>0.399065</td>\n",
              "      <td>0</td>\n",
              "    </tr>\n",
              "    <tr>\n",
              "      <th>Consistency Score</th>\n",
              "      <td>0.978686</td>\n",
              "      <td>1</td>\n",
              "    </tr>\n",
              "  </tbody>\n",
              "</table>\n",
              "</div>"
            ],
            "text/plain": [
              "                              Value  Reference\n",
              "Metric                                        \n",
              "Theil Index                0.041370          0\n",
              "Generalized Entropy Index  0.039813          0\n",
              "Coefficient of Variation   0.399065          0\n",
              "Consistency Score          0.978686          1"
            ]
          },
          "execution_count": 19,
          "metadata": {},
          "output_type": "execute_result"
        }
      ],
      "source": [
        "individual_kargs = {\n",
        "    'generalized_entropy_index__alpha': 2,\n",
        "    'consistency_score__n_neighbors' : 5\n",
        "}\n",
        "classification_bias_metrics(y_pred=y_pred, y_true=y_true, X=X_test_t, metric_type='individual', **individual_kargs)"
      ]
    }
  ],
  "metadata": {
    "colab": {
      "provenance": []
    },
    "kernelspec": {
      "display_name": "Python 3.8.13 ('torch-nightly')",
      "language": "python",
      "name": "python3"
    },
    "language_info": {
      "codemirror_mode": {
        "name": "ipython",
        "version": 3
      },
      "file_extension": ".py",
      "mimetype": "text/x-python",
      "name": "python",
      "nbconvert_exporter": "python",
      "pygments_lexer": "ipython3",
      "version": "3.11.5"
    },
    "vscode": {
      "interpreter": {
        "hash": "f5fa74478a026ac530ef194e4df855dfb9675779484e20284ae5f690a2266d7b"
      }
    }
  },
  "nbformat": 4,
  "nbformat_minor": 0
}
