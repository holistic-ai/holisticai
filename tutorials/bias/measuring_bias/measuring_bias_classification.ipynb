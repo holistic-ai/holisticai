{
  "cells": [
    {
      "cell_type": "markdown",
      "metadata": {
        "id": "pFKF6N69kCay"
      },
      "source": [
        "# **Measuring Bias in classification**\n"
      ]
    },
    {
      "cell_type": "markdown",
      "metadata": {
        "id": "H4wgoeXalewC"
      },
      "source": [
        "This notebook is a tutorial on auditing bias within a binary classification task. We will use the holisticai library both in the **data exploration** and **measure bias** sections, introducing some of the functions we have created to help study algorithmic bias.\n",
        "\n",
        "The sections are organised as follows :\n",
        "1. Load the data : we load the law school dataset as a pandas DataFrame\n",
        "2. Data Exploration : some preliminary analysis of the data\n",
        "3. Train a Model : we train a simple logistic regression model (sklearn)\n",
        "4. Measure Bias : we compute a few bias metrics, and comment on their meaning"
      ]
    },
    {
      "cell_type": "markdown",
      "metadata": {
        "id": "-nYt5_h77QGN"
      },
      "source": [
        "## **Load the data**"
      ]
    },
    {
      "cell_type": "markdown",
      "metadata": {
        "id": "NUVHPnd6nyFg"
      },
      "source": [
        "First of all, we need to import the required packages to perform our bias analysis and mitigation. You will need to have the `holisticai` package installed on your system, remember that you can install it by running: \n",
        "```bash\n",
        "!pip install holisticai[all]\n",
        "```"
      ]
    },
    {
      "cell_type": "code",
      "execution_count": 1,
      "metadata": {
        "id": "KgfZWXdy1REj"
      },
      "outputs": [],
      "source": [
        "# Imports\n",
        "import warnings\n",
        "warnings.filterwarnings(\"ignore\")"
      ]
    },
    {
      "cell_type": "markdown",
      "metadata": {
        "id": "fn78Hu7tlewF"
      },
      "source": [
        "We host a few example datasets on the holisticai library for quick loading and experimentation. Here we load and use the Law School dataset. The goal of this dataset is the prediction of the binary attribute 'bar' (whether a student passes the law school bar). The protected attributes are race and gender. We pay special attention to race in this case, because preliminary exploration hints there is strong inequality on that sensitive attribute."
      ]
    },
    {
      "cell_type": "code",
      "execution_count": 2,
      "metadata": {},
      "outputs": [
        {
          "data": {
            "text/html": [
              "\n",
              "    <style>\n",
              "        .generic-object-container {\n",
              "    padding: 1px;\n",
              "    margin: 1px;\n",
              "}\n",
              ".generic-object-content {\n",
              "    background-color: #fff;\n",
              "    border: 1px solid #ddd;\n",
              "    border-radius: 5px;\n",
              "    padding: 0px;\n",
              "    margin: 10px;\n",
              "    text-align: left;\n",
              "    font-family: Arial, sans-serif;\n",
              "    font-size: 11px;\n",
              "    color: #333;\n",
              "    display: inline-block;\n",
              "    box-shadow: 1px 1px 3px rgba(0, 0, 0, 0.1);\n",
              "}\n",
              ".generic-object-header {\n",
              "    background-color: #e0e0e0;\n",
              "    color: #000;\n",
              "    font-size: 12px;\n",
              "    padding: 10px 150px 10px 20px;\n",
              "    margin: 0px;\n",
              "    text-align: left;\n",
              "    border-bottom: 1px solid #ccc;\n",
              "    border-radius: 5px 5px 0 0;\n",
              "    font-weight: bold;\n",
              "}\n",
              ".generic-object-body {\n",
              "    padding: 5px 10px 5px 10px;\n",
              "}\n",
              ".attribute-list {\n",
              "    margin: 2px 0;\n",
              "    padding: 2px;\n",
              "}\n",
              "    </style>\n",
              "    <div class=\"generic-object-container\">\n",
              "        <div class=\"generic-object-content\">\n",
              "            <div class=\"generic-object-header\">DATASET</div>\n",
              "            <div class=\"generic-object-body\">\n",
              "                <div class=\"attribute-list\">- Number of Rows: 20800</div><div class=\"attribute-list\">- Features: X , y , group_a , group_b</div>\n",
              "                \n",
              "            </div>\n",
              "        </div>\n",
              "    </div>\n",
              "    "
            ],
            "text/plain": [
              "Dataset({\n",
              "        features: ['X', 'y', 'group_a', 'group_b'],\n",
              "        num_rows: 20800\n",
              "    })"
            ]
          },
          "execution_count": 2,
          "metadata": {},
          "output_type": "execute_result"
        }
      ],
      "source": [
        "from holisticai.datasets import load_dataset\n",
        "\n",
        "dataset = load_dataset('law_school')\n",
        "dataset"
      ]
    },
    {
      "cell_type": "markdown",
      "metadata": {
        "id": "TajqKuT6lewG"
      },
      "source": [
        "## **Data Exploration**"
      ]
    },
    {
      "cell_type": "markdown",
      "metadata": {
        "id": "Xr5I_C2tlewH"
      },
      "source": [
        "We import some of the holisticai plotters for quick exploration of the data."
      ]
    },
    {
      "cell_type": "code",
      "execution_count": 3,
      "metadata": {
        "id": "A_mIRR-KlewI"
      },
      "outputs": [
        {
          "data": {
            "text/plain": [
              "<Axes: title={'center': 'Frequency Plot'}, xlabel='Group', ylabel='Frequency'>"
            ]
          },
          "execution_count": 3,
          "metadata": {},
          "output_type": "execute_result"
        },
        {
          "data": {
            "image/png": "[encoded data removed]",
            "text/plain": [
              "<Figure size 1500x500 with 2 Axes>"
            ]
          },
          "metadata": {},
          "output_type": "display_data"
        }
      ],
      "source": [
        "from holisticai.bias.plots import group_pie_plot, frequency_plot\n",
        "import matplotlib.pyplot as plt\n",
        "\n",
        "group_a = dataset['group_a']\n",
        "group_a = dataset['group_b']\n",
        "\n",
        "fig,axs = plt.subplots(1, 2, figsize=(15,5))\n",
        "group_pie_plot(group_a, ax=axs[0], title='Group Pie Plot')\n",
        "frequency_plot(group_a, dataset['y'], ax=axs[1], title='Frequency Plot')"
      ]
    },
    {
      "cell_type": "markdown",
      "metadata": {
        "id": "wtG3AQdxlewK"
      },
      "source": [
        "The proportion of white people in law school is very high, allready we observe there is a big representation issue."
      ]
    },
    {
      "cell_type": "markdown",
      "metadata": {
        "id": "mUAw1GV7lewM"
      },
      "source": [
        "We also observe that the white group has a much higher pass rate (within the dataset) than the non-white group."
      ]
    },
    {
      "cell_type": "markdown",
      "metadata": {
        "id": "8FuyOc0ZlewM"
      },
      "source": [
        "## **Train a model**"
      ]
    },
    {
      "cell_type": "markdown",
      "metadata": {
        "id": "13-DFD9flewO"
      },
      "source": [
        "\n",
        "Here we train a Logistic Regression classifier."
      ]
    },
    {
      "cell_type": "code",
      "execution_count": 4,
      "metadata": {
        "id": "fo4na9kCw6bN"
      },
      "outputs": [
        {
          "data": {
            "text/html": [
              "\n",
              "    <style>\n",
              "        .generic-object-container {\n",
              "    padding: 1px;\n",
              "    margin: 1px;\n",
              "}\n",
              ".generic-object-content {\n",
              "    background-color: #fff;\n",
              "    border: 1px solid #ddd;\n",
              "    border-radius: 5px;\n",
              "    padding: 0px;\n",
              "    margin: 10px;\n",
              "    text-align: left;\n",
              "    font-family: Arial, sans-serif;\n",
              "    font-size: 11px;\n",
              "    color: #333;\n",
              "    display: inline-block;\n",
              "    box-shadow: 1px 1px 3px rgba(0, 0, 0, 0.1);\n",
              "}\n",
              ".generic-object-header {\n",
              "    background-color: #e0e0e0;\n",
              "    color: #000;\n",
              "    font-size: 12px;\n",
              "    padding: 10px 150px 10px 20px;\n",
              "    margin: 0px;\n",
              "    text-align: left;\n",
              "    border-bottom: 1px solid #ccc;\n",
              "    border-radius: 5px 5px 0 0;\n",
              "    font-weight: bold;\n",
              "}\n",
              ".generic-object-body {\n",
              "    padding: 5px 10px 5px 10px;\n",
              "}\n",
              ".attribute-list {\n",
              "    margin: 2px 0;\n",
              "    padding: 2px;\n",
              "}\n",
              "    </style>\n",
              "    <div class=\"generic-object-container\">\n",
              "        <div class=\"generic-object-content\">\n",
              "            <div class=\"generic-object-header\">DATASETDICT</div>\n",
              "            <div class=\"generic-object-body\">\n",
              "                \n",
              "                \n",
              "    <style>\n",
              "        .generic-object-container {\n",
              "    padding: 1px;\n",
              "    margin: 1px;\n",
              "}\n",
              ".generic-object-content {\n",
              "    background-color: #fff;\n",
              "    border: 1px solid #ddd;\n",
              "    border-radius: 5px;\n",
              "    padding: 0px;\n",
              "    margin: 10px;\n",
              "    text-align: left;\n",
              "    font-family: Arial, sans-serif;\n",
              "    font-size: 11px;\n",
              "    color: #333;\n",
              "    display: inline-block;\n",
              "    box-shadow: 1px 1px 3px rgba(0, 0, 0, 0.1);\n",
              "}\n",
              ".generic-object-header {\n",
              "    background-color: #e0e0e0;\n",
              "    color: #000;\n",
              "    font-size: 12px;\n",
              "    padding: 10px 150px 10px 20px;\n",
              "    margin: 0px;\n",
              "    text-align: left;\n",
              "    border-bottom: 1px solid #ccc;\n",
              "    border-radius: 5px 5px 0 0;\n",
              "    font-weight: bold;\n",
              "}\n",
              ".generic-object-body {\n",
              "    padding: 5px 10px 5px 10px;\n",
              "}\n",
              ".attribute-list {\n",
              "    margin: 2px 0;\n",
              "    padding: 2px;\n",
              "}\n",
              "    </style>\n",
              "    <div class=\"generic-object-container\">\n",
              "        <div class=\"generic-object-content\">\n",
              "            <div class=\"generic-object-header\">train : DATASET</div>\n",
              "            <div class=\"generic-object-body\">\n",
              "                <div class=\"attribute-list\">- Number of Rows: 14560</div><div class=\"attribute-list\">- Features: X, y, group_a, group_b</div>\n",
              "                \n",
              "            </div>\n",
              "        </div>\n",
              "    </div>\n",
              "    \n",
              "    <style>\n",
              "        .generic-object-container {\n",
              "    padding: 1px;\n",
              "    margin: 1px;\n",
              "}\n",
              ".generic-object-content {\n",
              "    background-color: #fff;\n",
              "    border: 1px solid #ddd;\n",
              "    border-radius: 5px;\n",
              "    padding: 0px;\n",
              "    margin: 10px;\n",
              "    text-align: left;\n",
              "    font-family: Arial, sans-serif;\n",
              "    font-size: 11px;\n",
              "    color: #333;\n",
              "    display: inline-block;\n",
              "    box-shadow: 1px 1px 3px rgba(0, 0, 0, 0.1);\n",
              "}\n",
              ".generic-object-header {\n",
              "    background-color: #e0e0e0;\n",
              "    color: #000;\n",
              "    font-size: 12px;\n",
              "    padding: 10px 150px 10px 20px;\n",
              "    margin: 0px;\n",
              "    text-align: left;\n",
              "    border-bottom: 1px solid #ccc;\n",
              "    border-radius: 5px 5px 0 0;\n",
              "    font-weight: bold;\n",
              "}\n",
              ".generic-object-body {\n",
              "    padding: 5px 10px 5px 10px;\n",
              "}\n",
              ".attribute-list {\n",
              "    margin: 2px 0;\n",
              "    padding: 2px;\n",
              "}\n",
              "    </style>\n",
              "    <div class=\"generic-object-container\">\n",
              "        <div class=\"generic-object-content\">\n",
              "            <div class=\"generic-object-header\">test : DATASET</div>\n",
              "            <div class=\"generic-object-body\">\n",
              "                <div class=\"attribute-list\">- Number of Rows: 6240</div><div class=\"attribute-list\">- Features: X, y, group_a, group_b</div>\n",
              "                \n",
              "            </div>\n",
              "        </div>\n",
              "    </div>\n",
              "    \n",
              "            </div>\n",
              "        </div>\n",
              "    </div>\n",
              "    "
            ],
            "text/plain": [
              "DatasetDict({\n",
              "    train: Dataset({\n",
              "        features: ['X', 'y', 'group_a', 'group_b'],\n",
              "        num_rows: 14560\n",
              "    }),\n",
              "    test: Dataset({\n",
              "        features: ['X', 'y', 'group_a', 'group_b'],\n",
              "        num_rows: 6240\n",
              "    })\n",
              "})"
            ]
          },
          "execution_count": 4,
          "metadata": {},
          "output_type": "execute_result"
        }
      ],
      "source": [
        "dataset_split = dataset.train_test_split(test_size=0.3)\n",
        "dataset_split"
      ]
    },
    {
      "cell_type": "code",
      "execution_count": 5,
      "metadata": {
        "id": "aeuFMgXwlewP"
      },
      "outputs": [],
      "source": [
        "from sklearn.linear_model import LogisticRegression\n",
        "from sklearn.preprocessing import StandardScaler\n",
        "\n",
        "# train a model, do not forget to standard scale data\n",
        "train = dataset_split['train']\n",
        "test = dataset_split['test']\n",
        "\n",
        "scaler = StandardScaler()\n",
        "X_train_t = scaler.fit_transform(train['X'])\n",
        "model = LogisticRegression(random_state=42, max_iter=500)\n",
        "model.fit(X_train_t, train['y'])\n",
        "X_test_t = scaler.transform(test['X'])\n",
        "y_pred = model.predict(X_test_t)"
      ]
    },
    {
      "cell_type": "markdown",
      "metadata": {
        "id": "P9ydT_sulewQ"
      },
      "source": [
        "## **Measure bias**"
      ]
    },
    {
      "cell_type": "markdown",
      "metadata": {
        "id": "hHZ1fY-TlewR"
      },
      "source": [
        "The holisticai.bias.metrics module contains a range of metrics useful in evaluating the fairness of algorithmic decisions. In this case we use only a few of the metrics relevant to a classification task."
      ]
    },
    {
      "cell_type": "code",
      "execution_count": 6,
      "metadata": {
        "id": "JWaKxmVMlewS"
      },
      "outputs": [],
      "source": [
        "# import some bias metrics\n",
        "from holisticai.bias.metrics import statistical_parity\n",
        "from holisticai.bias.metrics import disparate_impact\n",
        "from holisticai.bias.metrics import accuracy_diff"
      ]
    },
    {
      "cell_type": "code",
      "execution_count": 7,
      "metadata": {
        "id": "qA5WeW0HlewS"
      },
      "outputs": [],
      "source": [
        "# set up groups, prediction array and true (aka target/label) array.\n",
        "y_pred  = model.predict(X_test_t)          # prediction vector\n",
        "y_true  = test['y']                        # true vector\n",
        "group_a_test = test['group_a']        # group A\n",
        "group_b_test = test['group_b']        # group B"
      ]
    },
    {
      "cell_type": "code",
      "execution_count": 8,
      "metadata": {
        "colab": {
          "base_uri": "https://localhost:8080/",
          "height": 573
        },
        "id": "uWt4ek-3lewT",
        "outputId": "43401399-c3fb-44a1-b749-d924166b9097"
      },
      "outputs": [
        {
          "data": {
            "text/plain": [
              "<Axes: title={'center': 'Frequency Plot (Class 1)'}, xlabel='Group', ylabel='Frequency'>"
            ]
          },
          "execution_count": 8,
          "metadata": {},
          "output_type": "execute_result"
        },
        {
          "data": {
            "image/png": "[encoded data removed]",
            "text/plain": [
              "<Figure size 640x480 with 1 Axes>"
            ]
          },
          "metadata": {},
          "output_type": "display_data"
        }
      ],
      "source": [
        "frequency_plot(group_a_test, y_pred)"
      ]
    },
    {
      "cell_type": "code",
      "execution_count": 9,
      "metadata": {
        "colab": {
          "base_uri": "https://localhost:8080/"
        },
        "id": "qZf0wBORlewT",
        "outputId": "af5dfeba-ddb8-42dd-e9dd-ff5864d66164"
      },
      "outputs": [
        {
          "data": {
            "text/plain": [
              "np.float64(0.20258490795521356)"
            ]
          },
          "execution_count": 9,
          "metadata": {},
          "output_type": "execute_result"
        }
      ],
      "source": [
        "# compute statistical parity\n",
        "statistical_parity(group_a_test, group_b_test, y_pred)"
      ]
    },
    {
      "cell_type": "markdown",
      "metadata": {
        "id": "XIsc8Ol7lewU"
      },
      "source": [
        "The statistical parity indicates the difference in success rate between non-white and white groups. In this case it is outside of ranges considered fair (-0.1, 0.1)."
      ]
    },
    {
      "cell_type": "code",
      "execution_count": 10,
      "metadata": {
        "colab": {
          "base_uri": "https://localhost:8080/"
        },
        "id": "qdC3cZzJlewU",
        "outputId": "c3ed706b-9fc0-405f-8c26-a22e50756f02"
      },
      "outputs": [
        {
          "data": {
            "text/plain": [
              "np.float64(1.2593720725058928)"
            ]
          },
          "execution_count": 10,
          "metadata": {},
          "output_type": "execute_result"
        }
      ],
      "source": [
        "# compute disparate impact\n",
        "disparate_impact(group_a_test, group_b_test, y_pred)"
      ]
    },
    {
      "cell_type": "markdown",
      "metadata": {
        "id": "Qz7xO94olewU"
      },
      "source": [
        "The disparate impact on the other hand is within the fair range (0.8, 1.2). This shows the importance of considering many different metrics to get a holistic picture of the situation."
      ]
    },
    {
      "cell_type": "code",
      "execution_count": 11,
      "metadata": {
        "colab": {
          "base_uri": "https://localhost:8080/"
        },
        "id": "kz9gl9NQlewV",
        "outputId": "23c67aaf-3ff5-41f5-992f-bccf634e5235"
      },
      "outputs": [
        {
          "data": {
            "text/plain": [
              "0.14433248453137848"
            ]
          },
          "execution_count": 11,
          "metadata": {},
          "output_type": "execute_result"
        }
      ],
      "source": [
        "# compute accuracy difference\n",
        "accuracy_diff(group_a_test, group_b_test, y_pred, y_true)"
      ]
    },
    {
      "cell_type": "markdown",
      "metadata": {
        "id": "HZWfeoEElewV"
      },
      "source": [
        "The above metric is different from the first two in that it also uses the target values, this is an equality of opportunity metric. A value of -0.12 shows that the classifier we trained is less accurate on non-white group than white group. This is expected because of the data imbalance."
      ]
    },
    {
      "cell_type": "code",
      "execution_count": 12,
      "metadata": {
        "colab": {
          "base_uri": "https://localhost:8080/",
          "height": 524
        },
        "id": "xJcVpAU7lewW",
        "outputId": "c43c4068-b6ac-44fe-807b-bb834ecae52a"
      },
      "outputs": [
        {
          "data": {
            "text/plain": [
              "<Axes: title={'center': 'Accuracy Bar Plot'}, xlabel='Group', ylabel='Accuracy'>"
            ]
          },
          "execution_count": 12,
          "metadata": {},
          "output_type": "execute_result"
        },
        {
          "data": {
            "image/png": "[encoded data removed]",
            "text/plain": [
              "<Figure size 640x480 with 1 Axes>"
            ]
          },
          "metadata": {},
          "output_type": "display_data"
        }
      ],
      "source": [
        "from holisticai.bias.plots import accuracy_bar_plot\n",
        "\n",
        "accuracy_bar_plot(group_a_test, y_pred, y_true)"
      ]
    },
    {
      "cell_type": "markdown",
      "metadata": {
        "id": "r_j3eJVflewW"
      },
      "source": [
        "The above shows the same result as accuracy_diff metric in plot form."
      ]
    },
    {
      "cell_type": "markdown",
      "metadata": {
        "id": "FgKWWFWOlewX"
      },
      "source": [
        "**Equality of outcome metrics (batch computation)**"
      ]
    },
    {
      "cell_type": "code",
      "execution_count": 13,
      "metadata": {
        "id": "oc4e3BEAlewX"
      },
      "outputs": [],
      "source": [
        "# import function for batch computation\n",
        "from holisticai.bias.metrics import classification_bias_metrics"
      ]
    },
    {
      "cell_type": "code",
      "execution_count": 14,
      "metadata": {
        "colab": {
          "base_uri": "https://localhost:8080/",
          "height": 238
        },
        "id": "TsaiGEVclewX",
        "outputId": "40e5e59c-dad3-45c2-f06e-53bbb68401ce"
      },
      "outputs": [
        {
          "data": {
            "text/html": [
              "<div>\n",
              "<style scoped>\n",
              "    .dataframe tbody tr th:only-of-type {\n",
              "        vertical-align: middle;\n",
              "    }\n",
              "\n",
              "    .dataframe tbody tr th {\n",
              "        vertical-align: top;\n",
              "    }\n",
              "\n",
              "    .dataframe thead th {\n",
              "        text-align: right;\n",
              "    }\n",
              "</style>\n",
              "<table border=\"1\" class=\"dataframe\">\n",
              "  <thead>\n",
              "    <tr style=\"text-align: right;\">\n",
              "      <th></th>\n",
              "      <th>Value</th>\n",
              "      <th>Reference</th>\n",
              "    </tr>\n",
              "    <tr>\n",
              "      <th>Metric</th>\n",
              "      <th></th>\n",
              "      <th></th>\n",
              "    </tr>\n",
              "  </thead>\n",
              "  <tbody>\n",
              "    <tr>\n",
              "      <th>Statistical Parity</th>\n",
              "      <td>0.202585</td>\n",
              "      <td>0</td>\n",
              "    </tr>\n",
              "    <tr>\n",
              "      <th>Disparate Impact</th>\n",
              "      <td>1.259372</td>\n",
              "      <td>1</td>\n",
              "    </tr>\n",
              "    <tr>\n",
              "      <th>Four Fifths Rule</th>\n",
              "      <td>0.794047</td>\n",
              "      <td>1</td>\n",
              "    </tr>\n",
              "    <tr>\n",
              "      <th>Cohen D</th>\n",
              "      <td>1.007261</td>\n",
              "      <td>0</td>\n",
              "    </tr>\n",
              "    <tr>\n",
              "      <th>2SD Rule</th>\n",
              "      <td>27.197282</td>\n",
              "      <td>0</td>\n",
              "    </tr>\n",
              "  </tbody>\n",
              "</table>\n",
              "</div>"
            ],
            "text/plain": [
              "                        Value  Reference\n",
              "Metric                                  \n",
              "Statistical Parity   0.202585          0\n",
              "Disparate Impact     1.259372          1\n",
              "Four Fifths Rule     0.794047          1\n",
              "Cohen D              1.007261          0\n",
              "2SD Rule            27.197282          0"
            ]
          },
          "execution_count": 14,
          "metadata": {},
          "output_type": "execute_result"
        }
      ],
      "source": [
        "classification_bias_metrics(group_a_test, group_b_test, y_pred, y_true, metric_type='equal_outcome')"
      ]
    },
    {
      "cell_type": "markdown",
      "metadata": {
        "id": "uSyW3_LSlewY"
      },
      "source": [
        "**Equality of opportunity metrics (batch computation)**"
      ]
    },
    {
      "cell_type": "code",
      "execution_count": 15,
      "metadata": {
        "colab": {
          "base_uri": "https://localhost:8080/",
          "height": 206
        },
        "id": "sUN1a3bllewZ",
        "outputId": "7deeac44-a9b5-4e7c-9fa7-39f0fb48800b"
      },
      "outputs": [
        {
          "data": {
            "text/html": [
              "<div>\n",
              "<style scoped>\n",
              "    .dataframe tbody tr th:only-of-type {\n",
              "        vertical-align: middle;\n",
              "    }\n",
              "\n",
              "    .dataframe tbody tr th {\n",
              "        vertical-align: top;\n",
              "    }\n",
              "\n",
              "    .dataframe thead th {\n",
              "        text-align: right;\n",
              "    }\n",
              "</style>\n",
              "<table border=\"1\" class=\"dataframe\">\n",
              "  <thead>\n",
              "    <tr style=\"text-align: right;\">\n",
              "      <th></th>\n",
              "      <th>Value</th>\n",
              "      <th>Reference</th>\n",
              "    </tr>\n",
              "    <tr>\n",
              "      <th>Metric</th>\n",
              "      <th></th>\n",
              "      <th></th>\n",
              "    </tr>\n",
              "  </thead>\n",
              "  <tbody>\n",
              "    <tr>\n",
              "      <th>Equality of Opportunity Difference</th>\n",
              "      <td>0.106394</td>\n",
              "      <td>0</td>\n",
              "    </tr>\n",
              "    <tr>\n",
              "      <th>False Positive Rate Difference</th>\n",
              "      <td>0.385704</td>\n",
              "      <td>0</td>\n",
              "    </tr>\n",
              "    <tr>\n",
              "      <th>Average Odds Difference</th>\n",
              "      <td>0.246049</td>\n",
              "      <td>0</td>\n",
              "    </tr>\n",
              "    <tr>\n",
              "      <th>Accuracy Difference</th>\n",
              "      <td>0.144332</td>\n",
              "      <td>0</td>\n",
              "    </tr>\n",
              "  </tbody>\n",
              "</table>\n",
              "</div>"
            ],
            "text/plain": [
              "                                       Value  Reference\n",
              "Metric                                                 \n",
              "Equality of Opportunity Difference  0.106394          0\n",
              "False Positive Rate Difference      0.385704          0\n",
              "Average Odds Difference             0.246049          0\n",
              "Accuracy Difference                 0.144332          0"
            ]
          },
          "execution_count": 15,
          "metadata": {},
          "output_type": "execute_result"
        }
      ],
      "source": [
        "classification_bias_metrics(group_a_test, group_b_test, y_pred, y_true, metric_type='equal_opportunity')"
      ]
    },
    {
      "cell_type": "markdown",
      "metadata": {
        "id": "tFWRs6EBlewZ"
      },
      "source": [
        "For instance the false positive rate difference of 0.34 hints that white people are more likely to be missclassified as passing the bar than non-whites."
      ]
    },
    {
      "cell_type": "markdown",
      "metadata": {},
      "source": [
        "We can show all group bias metrics by setting 'metric_types' as 'group':"
      ]
    },
    {
      "cell_type": "code",
      "execution_count": 16,
      "metadata": {},
      "outputs": [
        {
          "data": {
            "text/html": [
              "<div>\n",
              "<style scoped>\n",
              "    .dataframe tbody tr th:only-of-type {\n",
              "        vertical-align: middle;\n",
              "    }\n",
              "\n",
              "    .dataframe tbody tr th {\n",
              "        vertical-align: top;\n",
              "    }\n",
              "\n",
              "    .dataframe thead th {\n",
              "        text-align: right;\n",
              "    }\n",
              "</style>\n",
              "<table border=\"1\" class=\"dataframe\">\n",
              "  <thead>\n",
              "    <tr style=\"text-align: right;\">\n",
              "      <th></th>\n",
              "      <th>Value</th>\n",
              "      <th>Reference</th>\n",
              "    </tr>\n",
              "    <tr>\n",
              "      <th>Metric</th>\n",
              "      <th></th>\n",
              "      <th></th>\n",
              "    </tr>\n",
              "  </thead>\n",
              "  <tbody>\n",
              "    <tr>\n",
              "      <th>Statistical Parity</th>\n",
              "      <td>0.202585</td>\n",
              "      <td>0</td>\n",
              "    </tr>\n",
              "    <tr>\n",
              "      <th>Disparate Impact</th>\n",
              "      <td>1.259372</td>\n",
              "      <td>1</td>\n",
              "    </tr>\n",
              "    <tr>\n",
              "      <th>Four Fifths Rule</th>\n",
              "      <td>0.794047</td>\n",
              "      <td>1</td>\n",
              "    </tr>\n",
              "    <tr>\n",
              "      <th>Cohen D</th>\n",
              "      <td>1.007261</td>\n",
              "      <td>0</td>\n",
              "    </tr>\n",
              "    <tr>\n",
              "      <th>2SD Rule</th>\n",
              "      <td>27.197282</td>\n",
              "      <td>0</td>\n",
              "    </tr>\n",
              "    <tr>\n",
              "      <th>Equality of Opportunity Difference</th>\n",
              "      <td>0.106394</td>\n",
              "      <td>0</td>\n",
              "    </tr>\n",
              "    <tr>\n",
              "      <th>False Positive Rate Difference</th>\n",
              "      <td>0.385704</td>\n",
              "      <td>0</td>\n",
              "    </tr>\n",
              "    <tr>\n",
              "      <th>Average Odds Difference</th>\n",
              "      <td>0.246049</td>\n",
              "      <td>0</td>\n",
              "    </tr>\n",
              "    <tr>\n",
              "      <th>Accuracy Difference</th>\n",
              "      <td>0.144332</td>\n",
              "      <td>0</td>\n",
              "    </tr>\n",
              "  </tbody>\n",
              "</table>\n",
              "</div>"
            ],
            "text/plain": [
              "                                        Value  Reference\n",
              "Metric                                                  \n",
              "Statistical Parity                   0.202585          0\n",
              "Disparate Impact                     1.259372          1\n",
              "Four Fifths Rule                     0.794047          1\n",
              "Cohen D                              1.007261          0\n",
              "2SD Rule                            27.197282          0\n",
              "Equality of Opportunity Difference   0.106394          0\n",
              "False Positive Rate Difference       0.385704          0\n",
              "Average Odds Difference              0.246049          0\n",
              "Accuracy Difference                  0.144332          0"
            ]
          },
          "execution_count": 16,
          "metadata": {},
          "output_type": "execute_result"
        }
      ],
      "source": [
        "classification_bias_metrics(group_a=group_a_test, group_b=group_b_test, y_pred=y_pred, y_true=y_true, metric_type='group')"
      ]
    },
    {
      "cell_type": "markdown",
      "metadata": {},
      "source": [
        "We can show all individual bias metrics by setting 'metric_types' as 'individual'."
      ]
    },
    {
      "cell_type": "code",
      "execution_count": 17,
      "metadata": {},
      "outputs": [
        {
          "data": {
            "text/html": [
              "<div>\n",
              "<style scoped>\n",
              "    .dataframe tbody tr th:only-of-type {\n",
              "        vertical-align: middle;\n",
              "    }\n",
              "\n",
              "    .dataframe tbody tr th {\n",
              "        vertical-align: top;\n",
              "    }\n",
              "\n",
              "    .dataframe thead th {\n",
              "        text-align: right;\n",
              "    }\n",
              "</style>\n",
              "<table border=\"1\" class=\"dataframe\">\n",
              "  <thead>\n",
              "    <tr style=\"text-align: right;\">\n",
              "      <th></th>\n",
              "      <th>Value</th>\n",
              "      <th>Reference</th>\n",
              "    </tr>\n",
              "    <tr>\n",
              "      <th>Metric</th>\n",
              "      <th></th>\n",
              "      <th></th>\n",
              "    </tr>\n",
              "  </thead>\n",
              "  <tbody>\n",
              "    <tr>\n",
              "      <th>Theil Index</th>\n",
              "      <td>0.045963</td>\n",
              "      <td>0</td>\n",
              "    </tr>\n",
              "    <tr>\n",
              "      <th>Generalized Entropy Index</th>\n",
              "      <td>0.042621</td>\n",
              "      <td>0</td>\n",
              "    </tr>\n",
              "    <tr>\n",
              "      <th>Coefficient of Variation</th>\n",
              "      <td>0.412898</td>\n",
              "      <td>0</td>\n",
              "    </tr>\n",
              "    <tr>\n",
              "      <th>Consistency Score</th>\n",
              "      <td>0.975994</td>\n",
              "      <td>1</td>\n",
              "    </tr>\n",
              "  </tbody>\n",
              "</table>\n",
              "</div>"
            ],
            "text/plain": [
              "                              Value  Reference\n",
              "Metric                                        \n",
              "Theil Index                0.045963          0\n",
              "Generalized Entropy Index  0.042621          0\n",
              "Coefficient of Variation   0.412898          0\n",
              "Consistency Score          0.975994          1"
            ]
          },
          "execution_count": 17,
          "metadata": {},
          "output_type": "execute_result"
        }
      ],
      "source": [
        "classification_bias_metrics(y_pred=y_pred, y_true=y_true, X=X_test_t, metric_type='individual')"
      ]
    },
    {
      "cell_type": "markdown",
      "metadata": {},
      "source": [
        "You can pass specific parameters for individual fairness metrics:"
      ]
    },
    {
      "cell_type": "code",
      "execution_count": 18,
      "metadata": {},
      "outputs": [
        {
          "data": {
            "text/html": [
              "<div>\n",
              "<style scoped>\n",
              "    .dataframe tbody tr th:only-of-type {\n",
              "        vertical-align: middle;\n",
              "    }\n",
              "\n",
              "    .dataframe tbody tr th {\n",
              "        vertical-align: top;\n",
              "    }\n",
              "\n",
              "    .dataframe thead th {\n",
              "        text-align: right;\n",
              "    }\n",
              "</style>\n",
              "<table border=\"1\" class=\"dataframe\">\n",
              "  <thead>\n",
              "    <tr style=\"text-align: right;\">\n",
              "      <th></th>\n",
              "      <th>Value</th>\n",
              "      <th>Reference</th>\n",
              "    </tr>\n",
              "    <tr>\n",
              "      <th>Metric</th>\n",
              "      <th></th>\n",
              "      <th></th>\n",
              "    </tr>\n",
              "  </thead>\n",
              "  <tbody>\n",
              "    <tr>\n",
              "      <th>Theil Index</th>\n",
              "      <td>0.045963</td>\n",
              "      <td>0</td>\n",
              "    </tr>\n",
              "    <tr>\n",
              "      <th>Generalized Entropy Index</th>\n",
              "      <td>0.042621</td>\n",
              "      <td>0</td>\n",
              "    </tr>\n",
              "    <tr>\n",
              "      <th>Coefficient of Variation</th>\n",
              "      <td>0.412898</td>\n",
              "      <td>0</td>\n",
              "    </tr>\n",
              "    <tr>\n",
              "      <th>Consistency Score</th>\n",
              "      <td>0.975994</td>\n",
              "      <td>1</td>\n",
              "    </tr>\n",
              "  </tbody>\n",
              "</table>\n",
              "</div>"
            ],
            "text/plain": [
              "                              Value  Reference\n",
              "Metric                                        \n",
              "Theil Index                0.045963          0\n",
              "Generalized Entropy Index  0.042621          0\n",
              "Coefficient of Variation   0.412898          0\n",
              "Consistency Score          0.975994          1"
            ]
          },
          "execution_count": 18,
          "metadata": {},
          "output_type": "execute_result"
        }
      ],
      "source": [
        "individual_kargs = {\n",
        "    'generalized_entropy_index__alpha': 2,\n",
        "    'consistency_score__n_neighbors' : 5\n",
        "}\n",
        "classification_bias_metrics(y_pred=y_pred, y_true=y_true, X=X_test_t, metric_type='individual', **individual_kargs)"
      ]
    }
  ],
  "metadata": {
    "colab": {
      "provenance": []
    },
    "kernelspec": {
      "display_name": "Python 3.8.13 ('torch-nightly')",
      "language": "python",
      "name": "python3"
    },
    "language_info": {
      "codemirror_mode": {
        "name": "ipython",
        "version": 3
      },
      "file_extension": ".py",
      "mimetype": "text/x-python",
      "name": "python",
      "nbconvert_exporter": "python",
      "pygments_lexer": "ipython3",
      "version": "3.11.9"
    },
    "vscode": {
      "interpreter": {
        "hash": "f5fa74478a026ac530ef194e4df855dfb9675779484e20284ae5f690a2266d7b"
      }
    }
  },
  "nbformat": 4,
  "nbformat_minor": 0
}
