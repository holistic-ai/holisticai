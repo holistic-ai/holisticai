{
  "cells": [
    {
      "cell_type": "markdown",
      "metadata": {
        "collapsed": false,
        "id": "iGoTcnTBrhgb",
        "pycharm": {
          "name": "#%% md\n"
        }
      },
      "source": [
        "# **Measuring Bias in recommender systems**"
      ]
    },
    {
      "cell_type": "markdown",
      "metadata": {
        "collapsed": false,
        "id": "PTvwlyfFrhgf"
      },
      "source": [
        "This is an introduction to fairness in recommender systems. A recommender system aims to recommend the best item according to the user preference. In this tutorial, we will focus on the task of correctly predicting users' music preference.\n",
        "\n",
        "A recommender system can be biased in multiple ways. For example, we may be concerned that the artists in our database will not get equal representation (item fairness). Alternative, our main concern may be that different groups of users (e.g. male/female users) will get different music recommendations (user fairness). In the following, we will show how to explore the data for fairness, and measure these various types of fairness using the holisticai library."
      ]
    },
    {
      "cell_type": "markdown",
      "metadata": {
        "collapsed": false,
        "id": "aPfQ8Cg0rhgi"
      },
      "source": [
        "## Importing the data"
      ]
    },
    {
      "cell_type": "markdown",
      "metadata": {
        "id": "10CEVvn1rvD5"
      },
      "source": [
        "First of all, we need to import the required packages to perform our bias analysis and mitigation. You will need to have the `holisticai` package installed on your system, remember that you can install it by running: \n",
        "```bash\n",
        "!pip install holisticai[all]\n",
        "```"
      ]
    },
    {
      "cell_type": "markdown",
      "metadata": {
        "collapsed": false,
        "id": "EbCaJbgmrhgk"
      },
      "source": [
        "We will start by importing the example dataset, which we host on our library. The [dataset](https://www.kaggle.com/datasets/ravichaubey1506/lastfm) contains a set of artists that were downloaded by users. It includes personal information about the user, specifically sex and country of origin. A user can download more than one artist. We will use the column \"score\", which contains only 1s for counting the interactions."
      ]
    },
    {
      "cell_type": "code",
      "execution_count": 1,
      "metadata": {
        "id": "5V1p64j1r-Mr"
      },
      "outputs": [],
      "source": [
        "# Imports\n",
        "import numpy as np\n",
        "import pandas as pd\n",
        "import warnings\n",
        "warnings.filterwarnings(\"ignore\")"
      ]
    },
    {
      "cell_type": "code",
      "execution_count": 2,
      "metadata": {
        "colab": {
          "base_uri": "https://localhost:8080/",
          "height": 424
        },
        "id": "77dVOGJcrhgl",
        "outputId": "ea699a59-a777-4eca-faee-d13e7ebcb8c8",
        "pycharm": {
          "name": "#%%\n"
        }
      },
      "outputs": [
        {
          "data": {
            "text/html": [
              "<div>\n",
              "<style scoped>\n",
              "    .dataframe tbody tr th:only-of-type {\n",
              "        vertical-align: middle;\n",
              "    }\n",
              "\n",
              "    .dataframe tbody tr th {\n",
              "        vertical-align: top;\n",
              "    }\n",
              "\n",
              "    .dataframe thead th {\n",
              "        text-align: right;\n",
              "    }\n",
              "</style>\n",
              "<table border=\"1\" class=\"dataframe\">\n",
              "  <thead>\n",
              "    <tr style=\"text-align: right;\">\n",
              "      <th></th>\n",
              "      <th>...and you will know us by the trail of dead</th>\n",
              "      <th>2pac</th>\n",
              "      <th>3 doors down</th>\n",
              "      <th>30 seconds to mars</th>\n",
              "      <th>311</th>\n",
              "      <th>36 crazyfists</th>\n",
              "      <th>44</th>\n",
              "      <th>50 cent</th>\n",
              "      <th>65daysofstatic</th>\n",
              "      <th>Edith piaf</th>\n",
              "      <th>...</th>\n",
              "      <th>weezer</th>\n",
              "      <th>wilco</th>\n",
              "      <th>within temptation</th>\n",
              "      <th>wolfgang amadeus mozart</th>\n",
              "      <th>wu-tang clan</th>\n",
              "      <th>yann tiersen</th>\n",
              "      <th>yeah yeah yeahs</th>\n",
              "      <th>yellowcard</th>\n",
              "      <th>yo la tengo</th>\n",
              "      <th>zero 7</th>\n",
              "    </tr>\n",
              "  </thead>\n",
              "  <tbody>\n",
              "    <tr>\n",
              "      <th>0</th>\n",
              "      <td>0.0</td>\n",
              "      <td>0.0</td>\n",
              "      <td>0.0</td>\n",
              "      <td>0.0</td>\n",
              "      <td>0.0</td>\n",
              "      <td>0.0</td>\n",
              "      <td>0.0</td>\n",
              "      <td>0.0</td>\n",
              "      <td>0.0</td>\n",
              "      <td>0.0</td>\n",
              "      <td>...</td>\n",
              "      <td>0.0</td>\n",
              "      <td>0.0</td>\n",
              "      <td>0.0</td>\n",
              "      <td>0.0</td>\n",
              "      <td>0.0</td>\n",
              "      <td>0.0</td>\n",
              "      <td>0.0</td>\n",
              "      <td>0.0</td>\n",
              "      <td>0.0</td>\n",
              "      <td>0.0</td>\n",
              "    </tr>\n",
              "    <tr>\n",
              "      <th>1</th>\n",
              "      <td>0.0</td>\n",
              "      <td>0.0</td>\n",
              "      <td>0.0</td>\n",
              "      <td>0.0</td>\n",
              "      <td>0.0</td>\n",
              "      <td>0.0</td>\n",
              "      <td>0.0</td>\n",
              "      <td>0.0</td>\n",
              "      <td>0.0</td>\n",
              "      <td>0.0</td>\n",
              "      <td>...</td>\n",
              "      <td>0.0</td>\n",
              "      <td>0.0</td>\n",
              "      <td>0.0</td>\n",
              "      <td>0.0</td>\n",
              "      <td>0.0</td>\n",
              "      <td>0.0</td>\n",
              "      <td>0.0</td>\n",
              "      <td>0.0</td>\n",
              "      <td>0.0</td>\n",
              "      <td>0.0</td>\n",
              "    </tr>\n",
              "    <tr>\n",
              "      <th>2</th>\n",
              "      <td>0.0</td>\n",
              "      <td>0.0</td>\n",
              "      <td>0.0</td>\n",
              "      <td>0.0</td>\n",
              "      <td>0.0</td>\n",
              "      <td>0.0</td>\n",
              "      <td>0.0</td>\n",
              "      <td>0.0</td>\n",
              "      <td>0.0</td>\n",
              "      <td>0.0</td>\n",
              "      <td>...</td>\n",
              "      <td>0.0</td>\n",
              "      <td>0.0</td>\n",
              "      <td>0.0</td>\n",
              "      <td>0.0</td>\n",
              "      <td>0.0</td>\n",
              "      <td>0.0</td>\n",
              "      <td>0.0</td>\n",
              "      <td>0.0</td>\n",
              "      <td>0.0</td>\n",
              "      <td>0.0</td>\n",
              "    </tr>\n",
              "    <tr>\n",
              "      <th>3</th>\n",
              "      <td>0.0</td>\n",
              "      <td>0.0</td>\n",
              "      <td>0.0</td>\n",
              "      <td>0.0</td>\n",
              "      <td>0.0</td>\n",
              "      <td>0.0</td>\n",
              "      <td>0.0</td>\n",
              "      <td>0.0</td>\n",
              "      <td>0.0</td>\n",
              "      <td>0.0</td>\n",
              "      <td>...</td>\n",
              "      <td>0.0</td>\n",
              "      <td>0.0</td>\n",
              "      <td>0.0</td>\n",
              "      <td>0.0</td>\n",
              "      <td>0.0</td>\n",
              "      <td>0.0</td>\n",
              "      <td>0.0</td>\n",
              "      <td>0.0</td>\n",
              "      <td>0.0</td>\n",
              "      <td>0.0</td>\n",
              "    </tr>\n",
              "    <tr>\n",
              "      <th>4</th>\n",
              "      <td>0.0</td>\n",
              "      <td>0.0</td>\n",
              "      <td>0.0</td>\n",
              "      <td>0.0</td>\n",
              "      <td>0.0</td>\n",
              "      <td>0.0</td>\n",
              "      <td>0.0</td>\n",
              "      <td>0.0</td>\n",
              "      <td>0.0</td>\n",
              "      <td>0.0</td>\n",
              "      <td>...</td>\n",
              "      <td>0.0</td>\n",
              "      <td>0.0</td>\n",
              "      <td>0.0</td>\n",
              "      <td>0.0</td>\n",
              "      <td>0.0</td>\n",
              "      <td>0.0</td>\n",
              "      <td>0.0</td>\n",
              "      <td>0.0</td>\n",
              "      <td>0.0</td>\n",
              "      <td>0.0</td>\n",
              "    </tr>\n",
              "    <tr>\n",
              "      <th>...</th>\n",
              "      <td>...</td>\n",
              "      <td>...</td>\n",
              "      <td>...</td>\n",
              "      <td>...</td>\n",
              "      <td>...</td>\n",
              "      <td>...</td>\n",
              "      <td>...</td>\n",
              "      <td>...</td>\n",
              "      <td>...</td>\n",
              "      <td>...</td>\n",
              "      <td>...</td>\n",
              "      <td>...</td>\n",
              "      <td>...</td>\n",
              "      <td>...</td>\n",
              "      <td>...</td>\n",
              "      <td>...</td>\n",
              "      <td>...</td>\n",
              "      <td>...</td>\n",
              "      <td>...</td>\n",
              "      <td>...</td>\n",
              "      <td>...</td>\n",
              "    </tr>\n",
              "    <tr>\n",
              "      <th>14995</th>\n",
              "      <td>0.0</td>\n",
              "      <td>0.0</td>\n",
              "      <td>0.0</td>\n",
              "      <td>0.0</td>\n",
              "      <td>0.0</td>\n",
              "      <td>0.0</td>\n",
              "      <td>0.0</td>\n",
              "      <td>0.0</td>\n",
              "      <td>0.0</td>\n",
              "      <td>0.0</td>\n",
              "      <td>...</td>\n",
              "      <td>0.0</td>\n",
              "      <td>0.0</td>\n",
              "      <td>0.0</td>\n",
              "      <td>0.0</td>\n",
              "      <td>0.0</td>\n",
              "      <td>0.0</td>\n",
              "      <td>0.0</td>\n",
              "      <td>0.0</td>\n",
              "      <td>0.0</td>\n",
              "      <td>0.0</td>\n",
              "    </tr>\n",
              "    <tr>\n",
              "      <th>14996</th>\n",
              "      <td>0.0</td>\n",
              "      <td>0.0</td>\n",
              "      <td>0.0</td>\n",
              "      <td>0.0</td>\n",
              "      <td>0.0</td>\n",
              "      <td>0.0</td>\n",
              "      <td>0.0</td>\n",
              "      <td>0.0</td>\n",
              "      <td>0.0</td>\n",
              "      <td>0.0</td>\n",
              "      <td>...</td>\n",
              "      <td>0.0</td>\n",
              "      <td>0.0</td>\n",
              "      <td>0.0</td>\n",
              "      <td>0.0</td>\n",
              "      <td>0.0</td>\n",
              "      <td>0.0</td>\n",
              "      <td>0.0</td>\n",
              "      <td>0.0</td>\n",
              "      <td>0.0</td>\n",
              "      <td>0.0</td>\n",
              "    </tr>\n",
              "    <tr>\n",
              "      <th>14997</th>\n",
              "      <td>0.0</td>\n",
              "      <td>0.0</td>\n",
              "      <td>0.0</td>\n",
              "      <td>0.0</td>\n",
              "      <td>0.0</td>\n",
              "      <td>0.0</td>\n",
              "      <td>0.0</td>\n",
              "      <td>0.0</td>\n",
              "      <td>0.0</td>\n",
              "      <td>0.0</td>\n",
              "      <td>...</td>\n",
              "      <td>0.0</td>\n",
              "      <td>0.0</td>\n",
              "      <td>0.0</td>\n",
              "      <td>1.0</td>\n",
              "      <td>0.0</td>\n",
              "      <td>0.0</td>\n",
              "      <td>0.0</td>\n",
              "      <td>0.0</td>\n",
              "      <td>0.0</td>\n",
              "      <td>0.0</td>\n",
              "    </tr>\n",
              "    <tr>\n",
              "      <th>14998</th>\n",
              "      <td>0.0</td>\n",
              "      <td>0.0</td>\n",
              "      <td>0.0</td>\n",
              "      <td>0.0</td>\n",
              "      <td>0.0</td>\n",
              "      <td>0.0</td>\n",
              "      <td>0.0</td>\n",
              "      <td>0.0</td>\n",
              "      <td>0.0</td>\n",
              "      <td>0.0</td>\n",
              "      <td>...</td>\n",
              "      <td>0.0</td>\n",
              "      <td>0.0</td>\n",
              "      <td>0.0</td>\n",
              "      <td>0.0</td>\n",
              "      <td>0.0</td>\n",
              "      <td>0.0</td>\n",
              "      <td>0.0</td>\n",
              "      <td>0.0</td>\n",
              "      <td>0.0</td>\n",
              "      <td>0.0</td>\n",
              "    </tr>\n",
              "    <tr>\n",
              "      <th>14999</th>\n",
              "      <td>0.0</td>\n",
              "      <td>0.0</td>\n",
              "      <td>0.0</td>\n",
              "      <td>0.0</td>\n",
              "      <td>0.0</td>\n",
              "      <td>0.0</td>\n",
              "      <td>0.0</td>\n",
              "      <td>0.0</td>\n",
              "      <td>0.0</td>\n",
              "      <td>0.0</td>\n",
              "      <td>...</td>\n",
              "      <td>0.0</td>\n",
              "      <td>0.0</td>\n",
              "      <td>0.0</td>\n",
              "      <td>0.0</td>\n",
              "      <td>0.0</td>\n",
              "      <td>0.0</td>\n",
              "      <td>3.0</td>\n",
              "      <td>0.0</td>\n",
              "      <td>0.0</td>\n",
              "      <td>0.0</td>\n",
              "    </tr>\n",
              "  </tbody>\n",
              "</table>\n",
              "<p>15000 rows × 1004 columns</p>\n",
              "</div>"
            ],
            "text/plain": [
              "       ...and you will know us by the trail of dead  2pac  3 doors down  \\\n",
              "0                                               0.0   0.0           0.0   \n",
              "1                                               0.0   0.0           0.0   \n",
              "2                                               0.0   0.0           0.0   \n",
              "3                                               0.0   0.0           0.0   \n",
              "4                                               0.0   0.0           0.0   \n",
              "...                                             ...   ...           ...   \n",
              "14995                                           0.0   0.0           0.0   \n",
              "14996                                           0.0   0.0           0.0   \n",
              "14997                                           0.0   0.0           0.0   \n",
              "14998                                           0.0   0.0           0.0   \n",
              "14999                                           0.0   0.0           0.0   \n",
              "\n",
              "       30 seconds to mars  311  36 crazyfists   44  50 cent  65daysofstatic  \\\n",
              "0                     0.0  0.0            0.0  0.0      0.0             0.0   \n",
              "1                     0.0  0.0            0.0  0.0      0.0             0.0   \n",
              "2                     0.0  0.0            0.0  0.0      0.0             0.0   \n",
              "3                     0.0  0.0            0.0  0.0      0.0             0.0   \n",
              "4                     0.0  0.0            0.0  0.0      0.0             0.0   \n",
              "...                   ...  ...            ...  ...      ...             ...   \n",
              "14995                 0.0  0.0            0.0  0.0      0.0             0.0   \n",
              "14996                 0.0  0.0            0.0  0.0      0.0             0.0   \n",
              "14997                 0.0  0.0            0.0  0.0      0.0             0.0   \n",
              "14998                 0.0  0.0            0.0  0.0      0.0             0.0   \n",
              "14999                 0.0  0.0            0.0  0.0      0.0             0.0   \n",
              "\n",
              "       Edith piaf  ...  weezer  wilco  within temptation  \\\n",
              "0             0.0  ...     0.0    0.0                0.0   \n",
              "1             0.0  ...     0.0    0.0                0.0   \n",
              "2             0.0  ...     0.0    0.0                0.0   \n",
              "3             0.0  ...     0.0    0.0                0.0   \n",
              "4             0.0  ...     0.0    0.0                0.0   \n",
              "...           ...  ...     ...    ...                ...   \n",
              "14995         0.0  ...     0.0    0.0                0.0   \n",
              "14996         0.0  ...     0.0    0.0                0.0   \n",
              "14997         0.0  ...     0.0    0.0                0.0   \n",
              "14998         0.0  ...     0.0    0.0                0.0   \n",
              "14999         0.0  ...     0.0    0.0                0.0   \n",
              "\n",
              "       wolfgang amadeus mozart  wu-tang clan  yann tiersen  yeah yeah yeahs  \\\n",
              "0                          0.0           0.0           0.0              0.0   \n",
              "1                          0.0           0.0           0.0              0.0   \n",
              "2                          0.0           0.0           0.0              0.0   \n",
              "3                          0.0           0.0           0.0              0.0   \n",
              "4                          0.0           0.0           0.0              0.0   \n",
              "...                        ...           ...           ...              ...   \n",
              "14995                      0.0           0.0           0.0              0.0   \n",
              "14996                      0.0           0.0           0.0              0.0   \n",
              "14997                      1.0           0.0           0.0              0.0   \n",
              "14998                      0.0           0.0           0.0              0.0   \n",
              "14999                      0.0           0.0           0.0              3.0   \n",
              "\n",
              "       yellowcard  yo la tengo  zero 7  \n",
              "0             0.0          0.0     0.0  \n",
              "1             0.0          0.0     0.0  \n",
              "2             0.0          0.0     0.0  \n",
              "3             0.0          0.0     0.0  \n",
              "4             0.0          0.0     0.0  \n",
              "...           ...          ...     ...  \n",
              "14995         0.0          0.0     0.0  \n",
              "14996         0.0          0.0     0.0  \n",
              "14997         0.0          0.0     0.0  \n",
              "14998         0.0          0.0     0.0  \n",
              "14999         0.0          0.0     0.0  \n",
              "\n",
              "[15000 rows x 1004 columns]"
            ]
          },
          "execution_count": 2,
          "metadata": {},
          "output_type": "execute_result"
        }
      ],
      "source": [
        "from holisticai.datasets import load_dataset\n",
        "dataset = load_dataset('lastfm')\n",
        "df, p_attr = dataset['data_pivot'], dataset['p_attr']\n",
        "df"
      ]
    },
    {
      "cell_type": "markdown",
      "metadata": {
        "collapsed": false,
        "id": "fXdoYv_8rhgw"
      },
      "source": [
        "## Plotting and Data Exploration"
      ]
    },
    {
      "cell_type": "markdown",
      "metadata": {
        "collapsed": false,
        "id": "9qL0jsdKrhgz"
      },
      "source": [
        "We will now move to data exploration, using some of the functions for plotting available in our library."
      ]
    },
    {
      "cell_type": "code",
      "execution_count": 3,
      "metadata": {
        "id": "AMRANEX4rhg0",
        "pycharm": {
          "name": "#%%\n"
        }
      },
      "outputs": [],
      "source": [
        "# import plotters\n",
        "from holisticai.bias.plots import group_pie_plot\n",
        "from holisticai.bias.plots import long_tail_plot\n",
        "from holisticai.bias.plots import exposure_diff_plot\n",
        "from holisticai.bias.plots import exposure_ratio_plot\n"
      ]
    },
    {
      "cell_type": "code",
      "execution_count": 4,
      "metadata": {
        "colab": {
          "base_uri": "https://localhost:8080/"
        },
        "id": "diOHHXWUrhg3",
        "outputId": "f3eef208-0110-4ec5-c413-c98735364550"
      },
      "outputs": [
        {
          "name": "stdout",
          "output_type": "stream",
          "text": [
            "Number of Unique Users : 15000\n",
            "Number of Unique Artists : 1004\n"
          ]
        }
      ],
      "source": [
        "print ('Number of Unique Users : ' + str(df.shape[0]))\n",
        "print ('Number of Unique Artists : ' + str(df.shape[1]))"
      ]
    },
    {
      "cell_type": "code",
      "execution_count": 5,
      "metadata": {
        "colab": {
          "base_uri": "https://localhost:8080/",
          "height": 472
        },
        "id": "rxUsM-hUrhg5",
        "outputId": "d80254eb-38b6-45e9-90da-591eecf9fadf"
      },
      "outputs": [
        {
          "data": {
            "text/plain": [
              "<Axes: >"
            ]
          },
          "execution_count": 5,
          "metadata": {},
          "output_type": "execute_result"
        },
        {
          "data": {
            "image/png": "[encoded data removed]",
            "text/plain": [
              "<Figure size 640x480 with 1 Axes>"
            ]
          },
          "metadata": {},
          "output_type": "display_data"
        }
      ],
      "source": [
        "# male vs female representation in data\n",
        "group_pie_plot(p_attr)"
      ]
    },
    {
      "cell_type": "markdown",
      "metadata": {
        "collapsed": false,
        "id": "cU4afuqMrhg8"
      },
      "source": [
        "After an initial exploration of the users demographic, we can explore fairness-related plots. The `long_tail_plot` shows the descendent frequency of the items. In this example, the artists' popularity seems falls [exponentially](https://en.wikipedia.org/wiki/Zipf%27s_law) at a pretty fast rate. This can indicate an issue in terms of items fairness (i.e. if we want all artists to be recommended equally)."
      ]
    },
    {
      "cell_type": "code",
      "execution_count": 6,
      "metadata": {
        "colab": {
          "base_uri": "https://localhost:8080/",
          "height": 524
        },
        "id": "c27QV-8brhg9",
        "outputId": "47a80fca-30da-4dea-e04d-d39f53062321"
      },
      "outputs": [
        {
          "data": {
            "text/plain": [
              "<Axes: title={'center': 'Long Tail Plot'}, xlabel='Items (sorted by popularity)', ylabel='Item Count'>"
            ]
          },
          "execution_count": 6,
          "metadata": {},
          "output_type": "execute_result"
        },
        {
          "data": {
            "image/png": "[encoded data removed]",
            "text/plain": [
              "<Figure size 640x480 with 1 Axes>"
            ]
          },
          "metadata": {},
          "output_type": "display_data"
        }
      ],
      "source": [
        "# the long tail plot shows the distribution of item counts\n",
        "long_tail_plot(df.to_numpy())"
      ]
    },
    {
      "cell_type": "markdown",
      "metadata": {
        "id": "CwvU5BNarhg-"
      },
      "source": [
        "If we are interested in users' fairness instead, we may want to compare how often the same artists are presented to different groups of users. Here, we will focus on the comparison between male and female users. Specifically, we calculate the proportion of male users (out of all male users) who have downloaded each artist. We then compare this value to the corresponding proportion of female users.\n",
        "\n",
        "The holisticai function `exposure_diff_plot` displays the difference in exposure for each item, while `exposure_ratio_plot` measures the ratio in exposure."
      ]
    },
    {
      "cell_type": "code",
      "execution_count": 7,
      "metadata": {
        "colab": {
          "base_uri": "https://localhost:8080/",
          "height": 524
        },
        "id": "fc8CPk8mrhg_",
        "outputId": "9693159f-0cc0-49a6-e0aa-d406682a2419"
      },
      "outputs": [
        {
          "data": {
            "text/plain": [
              "<Axes: title={'center': 'Exposure Difference Plot'}, xlabel='Items (sorted by exposure difference)', ylabel='$Exposure_a - Exposure_b$'>"
            ]
          },
          "execution_count": 7,
          "metadata": {},
          "output_type": "execute_result"
        },
        {
          "data": {
            "image/png": "[encoded data removed]",
            "text/plain": [
              "<Figure size 640x480 with 1 Axes>"
            ]
          },
          "metadata": {},
          "output_type": "display_data"
        }
      ],
      "source": [
        "# sorted exposure differences\n",
        "group_a = p_attr\n",
        "group_b = ~p_attr\n",
        "exposure_diff_plot(group_a, group_b, df.to_numpy())"
      ]
    },
    {
      "cell_type": "markdown",
      "metadata": {
        "id": "Ew-BDsgrrhhA"
      },
      "source": [
        "The differences in exposures seem to be overall quite small. However, since the number of items is quite large, the exposures are small to start with. In these cases, the exposure ratio may be a more informative choice."
      ]
    },
    {
      "cell_type": "code",
      "execution_count": 8,
      "metadata": {
        "colab": {
          "base_uri": "https://localhost:8080/",
          "height": 524
        },
        "id": "AeTlUbxHrhhA",
        "outputId": "81669a99-6eb3-4089-e6b4-99d6b19dcec7"
      },
      "outputs": [
        {
          "data": {
            "text/plain": [
              "<Axes: title={'center': 'Exposure Ratio Plot'}, xlabel='Items (sorted by exposure ratio)', ylabel='$Exposure_a/Exposure_b$'>"
            ]
          },
          "execution_count": 8,
          "metadata": {},
          "output_type": "execute_result"
        },
        {
          "data": {
            "image/png": "[encoded data removed]",
            "text/plain": [
              "<Figure size 640x480 with 1 Axes>"
            ]
          },
          "metadata": {},
          "output_type": "display_data"
        }
      ],
      "source": [
        "# sorted exposure ratios\n",
        "exposure_ratio_plot(group_a, group_b, df.to_numpy())"
      ]
    },
    {
      "cell_type": "code",
      "execution_count": 9,
      "metadata": {
        "colab": {
          "base_uri": "https://localhost:8080/",
          "height": 524
        },
        "id": "xbW_BIuYrhhB",
        "outputId": "9ea12c66-8317-48e1-c8f2-c4a3d1bdbac8",
        "pycharm": {
          "name": "#%%\n"
        }
      },
      "outputs": [
        {
          "data": {
            "text/plain": [
              "<Axes: title={'center': 'Exposure Ratio Plot'}, xlabel='Items (sorted by exposure ratio)', ylabel='$Exposure_a/Exposure_b$'>"
            ]
          },
          "execution_count": 9,
          "metadata": {},
          "output_type": "execute_result"
        },
        {
          "data": {
            "image/png": "[encoded data removed]",
            "text/plain": [
              "<Figure size 640x480 with 1 Axes>"
            ]
          },
          "metadata": {},
          "output_type": "display_data"
        }
      ],
      "source": [
        "exposure_ratio_plot(group_b, group_a, df.to_numpy())"
      ]
    },
    {
      "cell_type": "markdown",
      "metadata": {
        "id": "TEbsnX_MrhhC"
      },
      "source": [
        "The above plots show that there are artists that are more than 5 times more popular amongst the female subgroup than male, and artists that are more than 20 times more popular amongst male rather than female users."
      ]
    },
    {
      "cell_type": "markdown",
      "metadata": {
        "id": "Nh-2r-WxrhhD"
      },
      "source": [
        "## Train a Model"
      ]
    },
    {
      "cell_type": "markdown",
      "metadata": {
        "id": "swhwu9r6rhhD"
      },
      "source": [
        "There are many ways to recommend artists to users. We will use item based collaborative filtering since it is the simplest and most intuitive approach. For each artist, we work out a list of most similar artists. Then we recommend artists to users by looking at which artists they like, and choosing the most similar ones."
      ]
    },
    {
      "cell_type": "code",
      "execution_count": 10,
      "metadata": {
        "id": "njT7ZC9NrhhE"
      },
      "outputs": [],
      "source": [
        "index_to_artist = dict(zip(range(len(df.columns)),df.columns))\n",
        "artist_to_index = dict(zip(df.columns,range(len(df.columns))))\n",
        "user_gender_dict = dict(zip(df.index, p_attr))"
      ]
    },
    {
      "cell_type": "code",
      "execution_count": 11,
      "metadata": {
        "colab": {
          "base_uri": "https://localhost:8080/"
        },
        "id": "LBHxHAmNrhhE",
        "outputId": "9175d64d-c2ba-4186-b9aa-7a1257e443da"
      },
      "outputs": [
        {
          "data": {
            "text/plain": [
              "array([[0., 0., 0., ..., 0., 0., 0.],\n",
              "       [0., 0., 0., ..., 0., 0., 0.],\n",
              "       [0., 0., 0., ..., 0., 0., 0.],\n",
              "       ...,\n",
              "       [0., 0., 0., ..., 0., 0., 0.],\n",
              "       [0., 0., 0., ..., 0., 0., 0.],\n",
              "       [0., 0., 0., ..., 0., 0., 0.]])"
            ]
          },
          "execution_count": 11,
          "metadata": {},
          "output_type": "execute_result"
        }
      ],
      "source": [
        "data_matrix = df.fillna(0).to_numpy()\n",
        "data_matrix"
      ]
    },
    {
      "cell_type": "code",
      "execution_count": 12,
      "metadata": {
        "colab": {
          "base_uri": "https://localhost:8080/"
        },
        "id": "jQgBqI-2rhhF",
        "outputId": "2179f674-6f0a-44c4-9c48-75cbb43ba07f"
      },
      "outputs": [
        {
          "data": {
            "text/plain": [
              "(1004, 1004)"
            ]
          },
          "execution_count": 12,
          "metadata": {},
          "output_type": "execute_result"
        }
      ],
      "source": [
        "# Import linear_kernel\n",
        "from sklearn.metrics.pairwise import linear_kernel\n",
        "\n",
        "# Compute the cosine similarity between items matrix\n",
        "cosine_sim = linear_kernel(data_matrix.T, data_matrix.T)\n",
        "\n",
        "cosine_sim.shape"
      ]
    },
    {
      "cell_type": "code",
      "execution_count": 13,
      "metadata": {
        "colab": {
          "base_uri": "https://localhost:8080/"
        },
        "id": "URBjAhzDrhhG",
        "outputId": "6a91a1ea-6614-4019-e016-0440f72a1245"
      },
      "outputs": [
        {
          "data": {
            "text/plain": [
              "['mogwai',\n",
              " 'my bloody valentine',\n",
              " 'sonic youth',\n",
              " 'stereolab',\n",
              " 'the fall',\n",
              " 'the kinks',\n",
              " 'the radio dept.',\n",
              " 'the velvet underground']"
            ]
          },
          "execution_count": 13,
          "metadata": {},
          "output_type": "execute_result"
        }
      ],
      "source": [
        "# Helper functions for display\n",
        "def display_items(arr):\n",
        "    return [index_to_artist[x] for x in arr]\n",
        "\n",
        "# Items liked by a given user\n",
        "def items_liked_by_user(data_matrix, u):\n",
        "    return np.nonzero(data_matrix[u])[0]\n",
        "\n",
        "display_items(items_liked_by_user(data_matrix, 9))"
      ]
    },
    {
      "cell_type": "markdown",
      "metadata": {
        "id": "bCweLUrjrhhG"
      },
      "source": [
        "So user 9 happens to be a fan of Mogwai, nice."
      ]
    },
    {
      "cell_type": "code",
      "execution_count": 14,
      "metadata": {
        "colab": {
          "base_uri": "https://localhost:8080/"
        },
        "id": "PEO0Y0Z6rhhH",
        "outputId": "4639afd9-f72e-4800-c504-9db43bf052b3"
      },
      "outputs": [
        {
          "data": {
            "text/plain": [
              "['the beatles',\n",
              " 'sonic youth',\n",
              " 'muse',\n",
              " 'portishead',\n",
              " 'boards of canada',\n",
              " 'coldplay',\n",
              " 'death cab for cutie',\n",
              " 'explosions in the sky',\n",
              " 'sigur ros',\n",
              " 'radiohead']"
            ]
          },
          "execution_count": 14,
          "metadata": {},
          "output_type": "execute_result"
        }
      ],
      "source": [
        "def items_similar_to_item(similarity_matrix, i, k):\n",
        "    arr = similarity_matrix[i]\n",
        "    arr[i] = 0\n",
        "    return np.argsort(arr)[-k:]\n",
        "\n",
        "# Items similar to Mogwai\n",
        "display_items(items_similar_to_item(cosine_sim, artist_to_index['mogwai'], 10))"
      ]
    },
    {
      "cell_type": "markdown",
      "metadata": {
        "id": "3UwL4lZirhhI"
      },
      "source": [
        "Ok so we want to train a model, we will take a simple approach. For each user we look at their liked items, then we create a list of similar items and choose the most frequent ones."
      ]
    },
    {
      "cell_type": "code",
      "execution_count": 15,
      "metadata": {
        "colab": {
          "base_uri": "https://localhost:8080/"
        },
        "id": "D-FirTXDrhhJ",
        "outputId": "3c74da09-0fc6-4db9-9bf8-d9b394f25bce"
      },
      "outputs": [
        {
          "data": {
            "text/plain": [
              "['the offspring',\n",
              " 'green day',\n",
              " 'rammstein',\n",
              " 'foo fighters',\n",
              " 'the killers',\n",
              " 'led zeppelin',\n",
              " 'muse',\n",
              " 'radiohead',\n",
              " 'coldplay',\n",
              " 'red hot chili peppers']"
            ]
          },
          "execution_count": 15,
          "metadata": {},
          "output_type": "execute_result"
        }
      ],
      "source": [
        "def recommended_items(data_matrix, similarity_matrix, u, k):\n",
        "    liked = items_liked_by_user(data_matrix, u)\n",
        "    arr = np.sum(similarity_matrix[liked,:], axis=0)\n",
        "    arr[liked] = 0\n",
        "    return np.argsort(arr)[-k:]\n",
        "    \n",
        "\n",
        "display_items(recommended_items(data_matrix, cosine_sim, 590, 10))"
      ]
    },
    {
      "cell_type": "markdown",
      "metadata": {
        "id": "QoTg8BOKrhhK"
      },
      "source": [
        "Quantitative evaluation is possible, but we choose to evaluate our model qualitatively. Let's look at some examples to see if it makes sense."
      ]
    },
    {
      "cell_type": "code",
      "execution_count": 16,
      "metadata": {
        "colab": {
          "base_uri": "https://localhost:8080/"
        },
        "id": "SnpGjfJ4rhhK",
        "outputId": "40235e8f-e114-44c5-e58a-b0176521ef4c"
      },
      "outputs": [
        {
          "data": {
            "text/plain": [
              "['t.i.',\n",
              " 'the game',\n",
              " 'dr. dre',\n",
              " '50 cent',\n",
              " 'notorious b.i.g.',\n",
              " 'snoop dogg',\n",
              " 'jay-z',\n",
              " 'nas',\n",
              " 'eminem',\n",
              " 'kanye west']"
            ]
          },
          "execution_count": 16,
          "metadata": {},
          "output_type": "execute_result"
        }
      ],
      "source": [
        "# Items similar to 2 Pac\n",
        "display_items(items_similar_to_item(cosine_sim, artist_to_index['2pac'], 10))"
      ]
    },
    {
      "cell_type": "code",
      "execution_count": 17,
      "metadata": {
        "colab": {
          "base_uri": "https://localhost:8080/"
        },
        "id": "cYbHLDSWrhhL",
        "outputId": "3821be8e-a35f-4b28-d7d3-234d2ece50f6"
      },
      "outputs": [
        {
          "data": {
            "text/plain": [
              "['nirvana',\n",
              " 'the rolling stones',\n",
              " 'queen',\n",
              " 'david bowie',\n",
              " 'led zeppelin',\n",
              " 'red hot chili peppers',\n",
              " 'bob dylan',\n",
              " 'pink floyd',\n",
              " 'coldplay',\n",
              " 'radiohead']"
            ]
          },
          "execution_count": 17,
          "metadata": {},
          "output_type": "execute_result"
        }
      ],
      "source": [
        "# Items similar to the beatles\n",
        "display_items(items_similar_to_item(cosine_sim, artist_to_index['the beatles'], 10))"
      ]
    },
    {
      "cell_type": "code",
      "execution_count": 18,
      "metadata": {
        "colab": {
          "base_uri": "https://localhost:8080/"
        },
        "id": "S5mqinl_rhhL",
        "outputId": "b2f3fcf3-7079-4330-d85b-acf67a59db44"
      },
      "outputs": [
        {
          "data": {
            "text/plain": [
              "['nelly furtado',\n",
              " 'moby',\n",
              " 'depeche mode',\n",
              " 'michael jackson',\n",
              " 'amy winehouse',\n",
              " 'rihanna',\n",
              " 'kylie minogue',\n",
              " 'the beatles',\n",
              " 'britney spears',\n",
              " 'coldplay']"
            ]
          },
          "execution_count": 18,
          "metadata": {},
          "output_type": "execute_result"
        }
      ],
      "source": [
        "# Items similar to madonna\n",
        "display_items(items_similar_to_item(cosine_sim, artist_to_index['madonna'], 10))"
      ]
    },
    {
      "cell_type": "markdown",
      "metadata": {
        "id": "kuneHMemrhhM"
      },
      "source": [
        "These all make sense to a human evaluator"
      ]
    },
    {
      "cell_type": "code",
      "execution_count": 19,
      "metadata": {
        "colab": {
          "base_uri": "https://localhost:8080/",
          "height": 424
        },
        "id": "jpoHmqHUrhhM",
        "outputId": "f2613532-ba6b-47f4-dc8b-b9f2cab392cc"
      },
      "outputs": [
        {
          "data": {
            "text/html": [
              "<div>\n",
              "<style scoped>\n",
              "    .dataframe tbody tr th:only-of-type {\n",
              "        vertical-align: middle;\n",
              "    }\n",
              "\n",
              "    .dataframe tbody tr th {\n",
              "        vertical-align: top;\n",
              "    }\n",
              "\n",
              "    .dataframe thead th {\n",
              "        text-align: right;\n",
              "    }\n",
              "</style>\n",
              "<table border=\"1\" class=\"dataframe\">\n",
              "  <thead>\n",
              "    <tr style=\"text-align: right;\">\n",
              "      <th></th>\n",
              "      <th>1</th>\n",
              "      <th>2</th>\n",
              "      <th>3</th>\n",
              "      <th>4</th>\n",
              "      <th>5</th>\n",
              "      <th>6</th>\n",
              "      <th>7</th>\n",
              "      <th>8</th>\n",
              "      <th>9</th>\n",
              "      <th>10</th>\n",
              "    </tr>\n",
              "  </thead>\n",
              "  <tbody>\n",
              "    <tr>\n",
              "      <th>0</th>\n",
              "      <td>system of a down</td>\n",
              "      <td>led zeppelin</td>\n",
              "      <td>foo fighters</td>\n",
              "      <td>pink floyd</td>\n",
              "      <td>nirvana</td>\n",
              "      <td>metallica</td>\n",
              "      <td>muse</td>\n",
              "      <td>radiohead</td>\n",
              "      <td>coldplay</td>\n",
              "      <td>the beatles</td>\n",
              "    </tr>\n",
              "    <tr>\n",
              "      <th>1</th>\n",
              "      <td>modest mouse</td>\n",
              "      <td>sufjan stevens</td>\n",
              "      <td>muse</td>\n",
              "      <td>pink floyd</td>\n",
              "      <td>death cab for cutie</td>\n",
              "      <td>beck</td>\n",
              "      <td>bjork</td>\n",
              "      <td>sigur ros</td>\n",
              "      <td>coldplay</td>\n",
              "      <td>the beatles</td>\n",
              "    </tr>\n",
              "    <tr>\n",
              "      <th>2</th>\n",
              "      <td>the white stripes</td>\n",
              "      <td>david bowie</td>\n",
              "      <td>daft punk</td>\n",
              "      <td>death cab for cutie</td>\n",
              "      <td>nirvana</td>\n",
              "      <td>the killers</td>\n",
              "      <td>red hot chili peppers</td>\n",
              "      <td>coldplay</td>\n",
              "      <td>the beatles</td>\n",
              "      <td>radiohead</td>\n",
              "    </tr>\n",
              "    <tr>\n",
              "      <th>3</th>\n",
              "      <td>queen</td>\n",
              "      <td>linkin park</td>\n",
              "      <td>nirvana</td>\n",
              "      <td>in flames</td>\n",
              "      <td>rammstein</td>\n",
              "      <td>led zeppelin</td>\n",
              "      <td>the beatles</td>\n",
              "      <td>pink floyd</td>\n",
              "      <td>red hot chili peppers</td>\n",
              "      <td>system of a down</td>\n",
              "    </tr>\n",
              "    <tr>\n",
              "      <th>4</th>\n",
              "      <td>linkin park</td>\n",
              "      <td>foo fighters</td>\n",
              "      <td>system of a down</td>\n",
              "      <td>led zeppelin</td>\n",
              "      <td>the killers</td>\n",
              "      <td>nirvana</td>\n",
              "      <td>red hot chili peppers</td>\n",
              "      <td>the beatles</td>\n",
              "      <td>coldplay</td>\n",
              "      <td>radiohead</td>\n",
              "    </tr>\n",
              "    <tr>\n",
              "      <th>...</th>\n",
              "      <td>...</td>\n",
              "      <td>...</td>\n",
              "      <td>...</td>\n",
              "      <td>...</td>\n",
              "      <td>...</td>\n",
              "      <td>...</td>\n",
              "      <td>...</td>\n",
              "      <td>...</td>\n",
              "      <td>...</td>\n",
              "      <td>...</td>\n",
              "    </tr>\n",
              "    <tr>\n",
              "      <th>14995</th>\n",
              "      <td>evanescence</td>\n",
              "      <td>daft punk</td>\n",
              "      <td>radiohead</td>\n",
              "      <td>metallica</td>\n",
              "      <td>system of a down</td>\n",
              "      <td>muse</td>\n",
              "      <td>moby</td>\n",
              "      <td>the killers</td>\n",
              "      <td>red hot chili peppers</td>\n",
              "      <td>coldplay</td>\n",
              "    </tr>\n",
              "    <tr>\n",
              "      <th>14996</th>\n",
              "      <td>rammstein</td>\n",
              "      <td>in flames</td>\n",
              "      <td>coldplay</td>\n",
              "      <td>pink floyd</td>\n",
              "      <td>muse</td>\n",
              "      <td>radiohead</td>\n",
              "      <td>nirvana</td>\n",
              "      <td>system of a down</td>\n",
              "      <td>the beatles</td>\n",
              "      <td>metallica</td>\n",
              "    </tr>\n",
              "    <tr>\n",
              "      <th>14997</th>\n",
              "      <td>the rolling stones</td>\n",
              "      <td>nirvana</td>\n",
              "      <td>depeche mode</td>\n",
              "      <td>muse</td>\n",
              "      <td>pink floyd</td>\n",
              "      <td>red hot chili peppers</td>\n",
              "      <td>the killers</td>\n",
              "      <td>radiohead</td>\n",
              "      <td>the beatles</td>\n",
              "      <td>coldplay</td>\n",
              "    </tr>\n",
              "    <tr>\n",
              "      <th>14998</th>\n",
              "      <td>the beatles</td>\n",
              "      <td>nelly furtado</td>\n",
              "      <td>muse</td>\n",
              "      <td>avril lavigne</td>\n",
              "      <td>lady gaga</td>\n",
              "      <td>the killers</td>\n",
              "      <td>linkin park</td>\n",
              "      <td>rihanna</td>\n",
              "      <td>britney spears</td>\n",
              "      <td>coldplay</td>\n",
              "    </tr>\n",
              "    <tr>\n",
              "      <th>14999</th>\n",
              "      <td>modest mouse</td>\n",
              "      <td>nirvana</td>\n",
              "      <td>the rolling stones</td>\n",
              "      <td>the killers</td>\n",
              "      <td>the cure</td>\n",
              "      <td>beck</td>\n",
              "      <td>muse</td>\n",
              "      <td>pink floyd</td>\n",
              "      <td>death cab for cutie</td>\n",
              "      <td>coldplay</td>\n",
              "    </tr>\n",
              "  </tbody>\n",
              "</table>\n",
              "<p>15000 rows × 10 columns</p>\n",
              "</div>"
            ],
            "text/plain": [
              "                       1               2                   3   \\\n",
              "0        system of a down    led zeppelin        foo fighters   \n",
              "1            modest mouse  sufjan stevens                muse   \n",
              "2       the white stripes     david bowie           daft punk   \n",
              "3                   queen     linkin park             nirvana   \n",
              "4             linkin park    foo fighters    system of a down   \n",
              "...                   ...             ...                 ...   \n",
              "14995         evanescence       daft punk           radiohead   \n",
              "14996           rammstein       in flames            coldplay   \n",
              "14997  the rolling stones         nirvana        depeche mode   \n",
              "14998         the beatles   nelly furtado                muse   \n",
              "14999        modest mouse         nirvana  the rolling stones   \n",
              "\n",
              "                        4                    5                      6   \\\n",
              "0               pink floyd              nirvana              metallica   \n",
              "1               pink floyd  death cab for cutie                   beck   \n",
              "2      death cab for cutie              nirvana            the killers   \n",
              "3                in flames            rammstein           led zeppelin   \n",
              "4             led zeppelin          the killers                nirvana   \n",
              "...                    ...                  ...                    ...   \n",
              "14995            metallica     system of a down                   muse   \n",
              "14996           pink floyd                 muse              radiohead   \n",
              "14997                 muse           pink floyd  red hot chili peppers   \n",
              "14998        avril lavigne            lady gaga            the killers   \n",
              "14999          the killers             the cure                   beck   \n",
              "\n",
              "                          7                 8                      9   \\\n",
              "0                       muse         radiohead               coldplay   \n",
              "1                      bjork         sigur ros               coldplay   \n",
              "2      red hot chili peppers          coldplay            the beatles   \n",
              "3                the beatles        pink floyd  red hot chili peppers   \n",
              "4      red hot chili peppers       the beatles               coldplay   \n",
              "...                      ...               ...                    ...   \n",
              "14995                   moby       the killers  red hot chili peppers   \n",
              "14996                nirvana  system of a down            the beatles   \n",
              "14997            the killers         radiohead            the beatles   \n",
              "14998            linkin park           rihanna         britney spears   \n",
              "14999                   muse        pink floyd    death cab for cutie   \n",
              "\n",
              "                     10  \n",
              "0           the beatles  \n",
              "1           the beatles  \n",
              "2             radiohead  \n",
              "3      system of a down  \n",
              "4             radiohead  \n",
              "...                 ...  \n",
              "14995          coldplay  \n",
              "14996         metallica  \n",
              "14997          coldplay  \n",
              "14998          coldplay  \n",
              "14999          coldplay  \n",
              "\n",
              "[15000 rows x 10 columns]"
            ]
          },
          "execution_count": 19,
          "metadata": {},
          "output_type": "execute_result"
        }
      ],
      "source": [
        "recommendations = [display_items(recommended_items(data_matrix, cosine_sim, u, 10)) for u in range(df.shape[0])]\n",
        "\n",
        "recomendation_df = pd.DataFrame(recommendations, columns = range(1,11))\n",
        "\n",
        "recomendation_df"
      ]
    },
    {
      "cell_type": "code",
      "execution_count": 20,
      "metadata": {
        "colab": {
          "base_uri": "https://localhost:8080/",
          "height": 485
        },
        "id": "yW0ZLtixrhhN",
        "outputId": "b177f1f6-3b2d-4af7-eb31-ffc47257943a"
      },
      "outputs": [
        {
          "data": {
            "text/html": [
              "<div>\n",
              "<style scoped>\n",
              "    .dataframe tbody tr th:only-of-type {\n",
              "        vertical-align: middle;\n",
              "    }\n",
              "\n",
              "    .dataframe tbody tr th {\n",
              "        vertical-align: top;\n",
              "    }\n",
              "\n",
              "    .dataframe thead th {\n",
              "        text-align: right;\n",
              "    }\n",
              "</style>\n",
              "<table border=\"1\" class=\"dataframe\">\n",
              "  <thead>\n",
              "    <tr style=\"text-align: right;\">\n",
              "      <th></th>\n",
              "      <th>...and you will know us by the trail of dead</th>\n",
              "      <th>2pac</th>\n",
              "      <th>3 doors down</th>\n",
              "      <th>30 seconds to mars</th>\n",
              "      <th>311</th>\n",
              "      <th>36 crazyfists</th>\n",
              "      <th>44</th>\n",
              "      <th>50 cent</th>\n",
              "      <th>65daysofstatic</th>\n",
              "      <th>Edith piaf</th>\n",
              "      <th>...</th>\n",
              "      <th>weezer</th>\n",
              "      <th>wilco</th>\n",
              "      <th>within temptation</th>\n",
              "      <th>wolfgang amadeus mozart</th>\n",
              "      <th>wu-tang clan</th>\n",
              "      <th>yann tiersen</th>\n",
              "      <th>yeah yeah yeahs</th>\n",
              "      <th>yellowcard</th>\n",
              "      <th>yo la tengo</th>\n",
              "      <th>zero 7</th>\n",
              "    </tr>\n",
              "  </thead>\n",
              "  <tbody>\n",
              "    <tr>\n",
              "      <th>0</th>\n",
              "      <td>0.0</td>\n",
              "      <td>0.0</td>\n",
              "      <td>0.0</td>\n",
              "      <td>0.0</td>\n",
              "      <td>0.0</td>\n",
              "      <td>0.0</td>\n",
              "      <td>0.0</td>\n",
              "      <td>0.0</td>\n",
              "      <td>0.0</td>\n",
              "      <td>0.0</td>\n",
              "      <td>...</td>\n",
              "      <td>0.0</td>\n",
              "      <td>0.0</td>\n",
              "      <td>0.0</td>\n",
              "      <td>0.0</td>\n",
              "      <td>0.0</td>\n",
              "      <td>0.0</td>\n",
              "      <td>0.0</td>\n",
              "      <td>0.0</td>\n",
              "      <td>0.0</td>\n",
              "      <td>0.0</td>\n",
              "    </tr>\n",
              "    <tr>\n",
              "      <th>1</th>\n",
              "      <td>0.0</td>\n",
              "      <td>0.0</td>\n",
              "      <td>0.0</td>\n",
              "      <td>0.0</td>\n",
              "      <td>0.0</td>\n",
              "      <td>0.0</td>\n",
              "      <td>0.0</td>\n",
              "      <td>0.0</td>\n",
              "      <td>0.0</td>\n",
              "      <td>0.0</td>\n",
              "      <td>...</td>\n",
              "      <td>0.0</td>\n",
              "      <td>0.0</td>\n",
              "      <td>0.0</td>\n",
              "      <td>0.0</td>\n",
              "      <td>0.0</td>\n",
              "      <td>0.0</td>\n",
              "      <td>0.0</td>\n",
              "      <td>0.0</td>\n",
              "      <td>0.0</td>\n",
              "      <td>0.0</td>\n",
              "    </tr>\n",
              "    <tr>\n",
              "      <th>2</th>\n",
              "      <td>0.0</td>\n",
              "      <td>0.0</td>\n",
              "      <td>0.0</td>\n",
              "      <td>0.0</td>\n",
              "      <td>0.0</td>\n",
              "      <td>0.0</td>\n",
              "      <td>0.0</td>\n",
              "      <td>0.0</td>\n",
              "      <td>0.0</td>\n",
              "      <td>0.0</td>\n",
              "      <td>...</td>\n",
              "      <td>0.0</td>\n",
              "      <td>0.0</td>\n",
              "      <td>0.0</td>\n",
              "      <td>0.0</td>\n",
              "      <td>0.0</td>\n",
              "      <td>0.0</td>\n",
              "      <td>0.0</td>\n",
              "      <td>0.0</td>\n",
              "      <td>0.0</td>\n",
              "      <td>0.0</td>\n",
              "    </tr>\n",
              "    <tr>\n",
              "      <th>3</th>\n",
              "      <td>0.0</td>\n",
              "      <td>0.0</td>\n",
              "      <td>0.0</td>\n",
              "      <td>0.0</td>\n",
              "      <td>0.0</td>\n",
              "      <td>0.0</td>\n",
              "      <td>0.0</td>\n",
              "      <td>0.0</td>\n",
              "      <td>0.0</td>\n",
              "      <td>0.0</td>\n",
              "      <td>...</td>\n",
              "      <td>0.0</td>\n",
              "      <td>0.0</td>\n",
              "      <td>0.0</td>\n",
              "      <td>0.0</td>\n",
              "      <td>0.0</td>\n",
              "      <td>0.0</td>\n",
              "      <td>0.0</td>\n",
              "      <td>0.0</td>\n",
              "      <td>0.0</td>\n",
              "      <td>0.0</td>\n",
              "    </tr>\n",
              "    <tr>\n",
              "      <th>4</th>\n",
              "      <td>0.0</td>\n",
              "      <td>0.0</td>\n",
              "      <td>0.0</td>\n",
              "      <td>0.0</td>\n",
              "      <td>0.0</td>\n",
              "      <td>0.0</td>\n",
              "      <td>0.0</td>\n",
              "      <td>0.0</td>\n",
              "      <td>0.0</td>\n",
              "      <td>0.0</td>\n",
              "      <td>...</td>\n",
              "      <td>0.0</td>\n",
              "      <td>0.0</td>\n",
              "      <td>0.0</td>\n",
              "      <td>0.0</td>\n",
              "      <td>0.0</td>\n",
              "      <td>0.0</td>\n",
              "      <td>0.0</td>\n",
              "      <td>0.0</td>\n",
              "      <td>0.0</td>\n",
              "      <td>0.0</td>\n",
              "    </tr>\n",
              "    <tr>\n",
              "      <th>...</th>\n",
              "      <td>...</td>\n",
              "      <td>...</td>\n",
              "      <td>...</td>\n",
              "      <td>...</td>\n",
              "      <td>...</td>\n",
              "      <td>...</td>\n",
              "      <td>...</td>\n",
              "      <td>...</td>\n",
              "      <td>...</td>\n",
              "      <td>...</td>\n",
              "      <td>...</td>\n",
              "      <td>...</td>\n",
              "      <td>...</td>\n",
              "      <td>...</td>\n",
              "      <td>...</td>\n",
              "      <td>...</td>\n",
              "      <td>...</td>\n",
              "      <td>...</td>\n",
              "      <td>...</td>\n",
              "      <td>...</td>\n",
              "      <td>...</td>\n",
              "    </tr>\n",
              "    <tr>\n",
              "      <th>14995</th>\n",
              "      <td>0.0</td>\n",
              "      <td>0.0</td>\n",
              "      <td>0.0</td>\n",
              "      <td>0.0</td>\n",
              "      <td>0.0</td>\n",
              "      <td>0.0</td>\n",
              "      <td>0.0</td>\n",
              "      <td>0.0</td>\n",
              "      <td>0.0</td>\n",
              "      <td>0.0</td>\n",
              "      <td>...</td>\n",
              "      <td>0.0</td>\n",
              "      <td>0.0</td>\n",
              "      <td>0.0</td>\n",
              "      <td>0.0</td>\n",
              "      <td>0.0</td>\n",
              "      <td>0.0</td>\n",
              "      <td>0.0</td>\n",
              "      <td>0.0</td>\n",
              "      <td>0.0</td>\n",
              "      <td>0.0</td>\n",
              "    </tr>\n",
              "    <tr>\n",
              "      <th>14996</th>\n",
              "      <td>0.0</td>\n",
              "      <td>0.0</td>\n",
              "      <td>0.0</td>\n",
              "      <td>0.0</td>\n",
              "      <td>0.0</td>\n",
              "      <td>0.0</td>\n",
              "      <td>0.0</td>\n",
              "      <td>0.0</td>\n",
              "      <td>0.0</td>\n",
              "      <td>0.0</td>\n",
              "      <td>...</td>\n",
              "      <td>0.0</td>\n",
              "      <td>0.0</td>\n",
              "      <td>0.0</td>\n",
              "      <td>0.0</td>\n",
              "      <td>0.0</td>\n",
              "      <td>0.0</td>\n",
              "      <td>0.0</td>\n",
              "      <td>0.0</td>\n",
              "      <td>0.0</td>\n",
              "      <td>0.0</td>\n",
              "    </tr>\n",
              "    <tr>\n",
              "      <th>14997</th>\n",
              "      <td>0.0</td>\n",
              "      <td>0.0</td>\n",
              "      <td>0.0</td>\n",
              "      <td>0.0</td>\n",
              "      <td>0.0</td>\n",
              "      <td>0.0</td>\n",
              "      <td>0.0</td>\n",
              "      <td>0.0</td>\n",
              "      <td>0.0</td>\n",
              "      <td>0.0</td>\n",
              "      <td>...</td>\n",
              "      <td>0.0</td>\n",
              "      <td>0.0</td>\n",
              "      <td>0.0</td>\n",
              "      <td>0.0</td>\n",
              "      <td>0.0</td>\n",
              "      <td>0.0</td>\n",
              "      <td>0.0</td>\n",
              "      <td>0.0</td>\n",
              "      <td>0.0</td>\n",
              "      <td>0.0</td>\n",
              "    </tr>\n",
              "    <tr>\n",
              "      <th>14998</th>\n",
              "      <td>0.0</td>\n",
              "      <td>0.0</td>\n",
              "      <td>0.0</td>\n",
              "      <td>0.0</td>\n",
              "      <td>0.0</td>\n",
              "      <td>0.0</td>\n",
              "      <td>0.0</td>\n",
              "      <td>0.0</td>\n",
              "      <td>0.0</td>\n",
              "      <td>0.0</td>\n",
              "      <td>...</td>\n",
              "      <td>0.0</td>\n",
              "      <td>0.0</td>\n",
              "      <td>0.0</td>\n",
              "      <td>0.0</td>\n",
              "      <td>0.0</td>\n",
              "      <td>0.0</td>\n",
              "      <td>0.0</td>\n",
              "      <td>0.0</td>\n",
              "      <td>0.0</td>\n",
              "      <td>0.0</td>\n",
              "    </tr>\n",
              "    <tr>\n",
              "      <th>14999</th>\n",
              "      <td>0.0</td>\n",
              "      <td>0.0</td>\n",
              "      <td>0.0</td>\n",
              "      <td>0.0</td>\n",
              "      <td>0.0</td>\n",
              "      <td>0.0</td>\n",
              "      <td>0.0</td>\n",
              "      <td>0.0</td>\n",
              "      <td>0.0</td>\n",
              "      <td>0.0</td>\n",
              "      <td>...</td>\n",
              "      <td>0.0</td>\n",
              "      <td>0.0</td>\n",
              "      <td>0.0</td>\n",
              "      <td>0.0</td>\n",
              "      <td>0.0</td>\n",
              "      <td>0.0</td>\n",
              "      <td>0.0</td>\n",
              "      <td>0.0</td>\n",
              "      <td>0.0</td>\n",
              "      <td>0.0</td>\n",
              "    </tr>\n",
              "  </tbody>\n",
              "</table>\n",
              "<p>15000 rows × 1004 columns</p>\n",
              "</div>"
            ],
            "text/plain": [
              "       ...and you will know us by the trail of dead  2pac  3 doors down  \\\n",
              "0                                               0.0   0.0           0.0   \n",
              "1                                               0.0   0.0           0.0   \n",
              "2                                               0.0   0.0           0.0   \n",
              "3                                               0.0   0.0           0.0   \n",
              "4                                               0.0   0.0           0.0   \n",
              "...                                             ...   ...           ...   \n",
              "14995                                           0.0   0.0           0.0   \n",
              "14996                                           0.0   0.0           0.0   \n",
              "14997                                           0.0   0.0           0.0   \n",
              "14998                                           0.0   0.0           0.0   \n",
              "14999                                           0.0   0.0           0.0   \n",
              "\n",
              "       30 seconds to mars  311  36 crazyfists   44  50 cent  65daysofstatic  \\\n",
              "0                     0.0  0.0            0.0  0.0      0.0             0.0   \n",
              "1                     0.0  0.0            0.0  0.0      0.0             0.0   \n",
              "2                     0.0  0.0            0.0  0.0      0.0             0.0   \n",
              "3                     0.0  0.0            0.0  0.0      0.0             0.0   \n",
              "4                     0.0  0.0            0.0  0.0      0.0             0.0   \n",
              "...                   ...  ...            ...  ...      ...             ...   \n",
              "14995                 0.0  0.0            0.0  0.0      0.0             0.0   \n",
              "14996                 0.0  0.0            0.0  0.0      0.0             0.0   \n",
              "14997                 0.0  0.0            0.0  0.0      0.0             0.0   \n",
              "14998                 0.0  0.0            0.0  0.0      0.0             0.0   \n",
              "14999                 0.0  0.0            0.0  0.0      0.0             0.0   \n",
              "\n",
              "       Edith piaf  ...  weezer  wilco  within temptation  \\\n",
              "0             0.0  ...     0.0    0.0                0.0   \n",
              "1             0.0  ...     0.0    0.0                0.0   \n",
              "2             0.0  ...     0.0    0.0                0.0   \n",
              "3             0.0  ...     0.0    0.0                0.0   \n",
              "4             0.0  ...     0.0    0.0                0.0   \n",
              "...           ...  ...     ...    ...                ...   \n",
              "14995         0.0  ...     0.0    0.0                0.0   \n",
              "14996         0.0  ...     0.0    0.0                0.0   \n",
              "14997         0.0  ...     0.0    0.0                0.0   \n",
              "14998         0.0  ...     0.0    0.0                0.0   \n",
              "14999         0.0  ...     0.0    0.0                0.0   \n",
              "\n",
              "       wolfgang amadeus mozart  wu-tang clan  yann tiersen  yeah yeah yeahs  \\\n",
              "0                          0.0           0.0           0.0              0.0   \n",
              "1                          0.0           0.0           0.0              0.0   \n",
              "2                          0.0           0.0           0.0              0.0   \n",
              "3                          0.0           0.0           0.0              0.0   \n",
              "4                          0.0           0.0           0.0              0.0   \n",
              "...                        ...           ...           ...              ...   \n",
              "14995                      0.0           0.0           0.0              0.0   \n",
              "14996                      0.0           0.0           0.0              0.0   \n",
              "14997                      0.0           0.0           0.0              0.0   \n",
              "14998                      0.0           0.0           0.0              0.0   \n",
              "14999                      0.0           0.0           0.0              0.0   \n",
              "\n",
              "       yellowcard  yo la tengo  zero 7  \n",
              "0             0.0          0.0     0.0  \n",
              "1             0.0          0.0     0.0  \n",
              "2             0.0          0.0     0.0  \n",
              "3             0.0          0.0     0.0  \n",
              "4             0.0          0.0     0.0  \n",
              "...           ...          ...     ...  \n",
              "14995         0.0          0.0     0.0  \n",
              "14996         0.0          0.0     0.0  \n",
              "14997         0.0          0.0     0.0  \n",
              "14998         0.0          0.0     0.0  \n",
              "14999         0.0          0.0     0.0  \n",
              "\n",
              "[15000 rows x 1004 columns]"
            ]
          },
          "execution_count": 20,
          "metadata": {},
          "output_type": "execute_result"
        }
      ],
      "source": [
        "def explode(arr, num_items):\n",
        "    out = np.zeros(num_items)\n",
        "    out[arr] = 1\n",
        "    return out\n",
        "\n",
        "new_recs = [explode(recommended_items(data_matrix, cosine_sim, u, 10), len(df.columns)) for u in range(df.shape[0])]\n",
        "\n",
        "new_df_pivot = pd.DataFrame(new_recs, columns = df.columns)\n",
        "\n",
        "new_df_pivot"
      ]
    },
    {
      "cell_type": "markdown",
      "metadata": {
        "id": "d_CbVW6arhhO"
      },
      "source": [
        "## Evaluate Bias of Model"
      ]
    },
    {
      "cell_type": "markdown",
      "metadata": {
        "collapsed": false,
        "id": "EvTNRG6ArhhO"
      },
      "source": [
        "We will now show how we can calculate various metrics of fairness for recommender systems. In this example, we will cover both metrics for item fairness and for user fairness (equality of outcome)."
      ]
    },
    {
      "cell_type": "markdown",
      "metadata": {
        "id": "tZzdN-8GrhhO"
      },
      "source": [
        "### Item Fairness"
      ]
    },
    {
      "cell_type": "code",
      "execution_count": 21,
      "metadata": {
        "id": "UHVuRzugrhhP"
      },
      "outputs": [],
      "source": [
        "mat = new_df_pivot.replace(0,np.nan).to_numpy()"
      ]
    },
    {
      "cell_type": "code",
      "execution_count": 22,
      "metadata": {
        "colab": {
          "base_uri": "https://localhost:8080/",
          "height": 524
        },
        "id": "qpSWFzB-rhhP",
        "outputId": "d18eedd1-62a7-4d0a-846f-ab79b6f8709e"
      },
      "outputs": [
        {
          "data": {
            "text/plain": [
              "<Axes: title={'center': 'Long Tail Plot'}, xlabel='Items (sorted by popularity)', ylabel='Item Count'>"
            ]
          },
          "execution_count": 22,
          "metadata": {},
          "output_type": "execute_result"
        },
        {
          "data": {
            "image/png": "[encoded data removed]",
            "text/plain": [
              "<Figure size 640x480 with 1 Axes>"
            ]
          },
          "metadata": {},
          "output_type": "display_data"
        }
      ],
      "source": [
        "# the long tail plot shows the distribution of item counts\n",
        "long_tail_plot(mat)"
      ]
    },
    {
      "cell_type": "markdown",
      "metadata": {
        "id": "aSyoBx1TrhhQ"
      },
      "source": [
        "The item bias has been increased very considerably by using collaborative filtering. This is easily seen by the shape of the above distribution."
      ]
    },
    {
      "cell_type": "code",
      "execution_count": 23,
      "metadata": {
        "colab": {
          "base_uri": "https://localhost:8080/"
        },
        "id": "us8oTfWVrhhQ",
        "outputId": "a16d0a4c-e23e-4f5c-f5e8-65a63a097a86"
      },
      "outputs": [
        {
          "data": {
            "text/plain": [
              "np.float64(0.4163346613545817)"
            ]
          },
          "execution_count": 23,
          "metadata": {},
          "output_type": "execute_result"
        }
      ],
      "source": [
        "from holisticai.bias.metrics import aggregate_diversity\n",
        "aggregate_diversity(mat)"
      ]
    },
    {
      "cell_type": "markdown",
      "metadata": {
        "id": "abgyHD_hrhhR"
      },
      "source": [
        "The above metric shows 40% of all artists are shown to at least one user."
      ]
    },
    {
      "cell_type": "code",
      "execution_count": 24,
      "metadata": {
        "colab": {
          "base_uri": "https://localhost:8080/"
        },
        "id": "JyD2sv7crhhR",
        "outputId": "248668bb-ce04-4b73-f7a2-b08ad09e0c61"
      },
      "outputs": [
        {
          "data": {
            "text/plain": [
              "np.float64(0.9643764307078764)"
            ]
          },
          "execution_count": 24,
          "metadata": {},
          "output_type": "execute_result"
        }
      ],
      "source": [
        "from holisticai.bias.metrics import gini_index\n",
        "gini_index(mat)"
      ]
    },
    {
      "cell_type": "markdown",
      "metadata": {
        "id": "aKCGZiBRrhhS"
      },
      "source": [
        "The Gini Index is often used in the context of recommender systems as a measure of how unequal the distribution of exposure is over artists. A value of 0 would indicate perfect fairness, a flat distribution. A value of 1 would be maximally unequal. In this case the GINI Index is 0.96, indicating a VERY considerable amount of difference in exposures overall between different artists."
      ]
    },
    {
      "cell_type": "code",
      "execution_count": 25,
      "metadata": {
        "colab": {
          "base_uri": "https://localhost:8080/",
          "height": 206
        },
        "id": "jo6VfmRQrhhT",
        "outputId": "82941f47-f276-42b2-8282-08e8b8f3f934"
      },
      "outputs": [
        {
          "data": {
            "text/html": [
              "<div>\n",
              "<style scoped>\n",
              "    .dataframe tbody tr th:only-of-type {\n",
              "        vertical-align: middle;\n",
              "    }\n",
              "\n",
              "    .dataframe tbody tr th {\n",
              "        vertical-align: top;\n",
              "    }\n",
              "\n",
              "    .dataframe thead th {\n",
              "        text-align: right;\n",
              "    }\n",
              "</style>\n",
              "<table border=\"1\" class=\"dataframe\">\n",
              "  <thead>\n",
              "    <tr style=\"text-align: right;\">\n",
              "      <th></th>\n",
              "      <th>Value</th>\n",
              "      <th>Reference</th>\n",
              "    </tr>\n",
              "    <tr>\n",
              "      <th>Metric</th>\n",
              "      <th></th>\n",
              "      <th></th>\n",
              "    </tr>\n",
              "  </thead>\n",
              "  <tbody>\n",
              "    <tr>\n",
              "      <th>Aggregate Diversity</th>\n",
              "      <td>0.416335</td>\n",
              "      <td>1</td>\n",
              "    </tr>\n",
              "    <tr>\n",
              "      <th>GINI index</th>\n",
              "      <td>0.964376</td>\n",
              "      <td>0</td>\n",
              "    </tr>\n",
              "    <tr>\n",
              "      <th>Exposure Distribution Entropy</th>\n",
              "      <td>3.811466</td>\n",
              "      <td>-</td>\n",
              "    </tr>\n",
              "    <tr>\n",
              "      <th>Average Recommendation Popularity</th>\n",
              "      <td>5725.218920</td>\n",
              "      <td>-</td>\n",
              "    </tr>\n",
              "  </tbody>\n",
              "</table>\n",
              "</div>"
            ],
            "text/plain": [
              "                                         Value Reference\n",
              "Metric                                                  \n",
              "Aggregate Diversity                   0.416335         1\n",
              "GINI index                            0.964376         0\n",
              "Exposure Distribution Entropy         3.811466         -\n",
              "Average Recommendation Popularity  5725.218920         -"
            ]
          },
          "execution_count": 25,
          "metadata": {},
          "output_type": "execute_result"
        }
      ],
      "source": [
        "from holisticai.bias.metrics import recommender_bias_metrics\n",
        "recommender_bias_metrics(mat_pred=mat, metric_type='item_based')"
      ]
    },
    {
      "cell_type": "markdown",
      "metadata": {
        "id": "c-zkiqfurhhU"
      },
      "source": [
        "Above we have batch plotted all item_based metrics for recommender bias task. For instance observe the Average Recommendation Popularity is 5716, meaning that on average a user will be recommended an artist that has 5716 total interactions."
      ]
    },
    {
      "cell_type": "markdown",
      "metadata": {
        "id": "eUrEMyfprhhV"
      },
      "source": [
        "## User fairness - Equality of Outcome"
      ]
    },
    {
      "cell_type": "code",
      "execution_count": 26,
      "metadata": {
        "colab": {
          "base_uri": "https://localhost:8080/"
        },
        "id": "6VjrxgnlrhhW",
        "outputId": "af9e67f7-2655-4b20-b7e6-152043e6de6e"
      },
      "outputs": [
        {
          "data": {
            "text/plain": [
              "np.float64(0.11132677015676723)"
            ]
          },
          "execution_count": 26,
          "metadata": {},
          "output_type": "execute_result"
        }
      ],
      "source": [
        "from holisticai.bias.metrics import exposure_l1\n",
        "exposure_l1(group_a, group_b, mat)"
      ]
    },
    {
      "cell_type": "markdown",
      "metadata": {
        "id": "JiBgUbfYrhhX"
      },
      "source": [
        "Above we compute the total variation distance between the exposure distribution of males and females. The minimum value for this metric is 0 indicating the two subgroups are exposed to the artists in exactly the same way, the maximum value is 1 indicating a maximal separation in exposures between the two groups. In this case the value of 0.11 shows there is a difference between the recommendations to males and females, but not a drastic one."
      ]
    }
  ],
  "metadata": {
    "colab": {
      "provenance": []
    },
    "kernelspec": {
      "display_name": "Python 3.9.12 ('torch-nightly')",
      "language": "python",
      "name": "python3"
    },
    "language_info": {
      "codemirror_mode": {
        "name": "ipython",
        "version": 3
      },
      "file_extension": ".py",
      "mimetype": "text/x-python",
      "name": "python",
      "nbconvert_exporter": "python",
      "pygments_lexer": "ipython3",
      "version": "3.11.9"
    },
    "orig_nbformat": 4,
    "vscode": {
      "interpreter": {
        "hash": "f5fa74478a026ac530ef194e4df855dfb9675779484e20284ae5f690a2266d7b"
      }
    }
  },
  "nbformat": 4,
  "nbformat_minor": 0
}
