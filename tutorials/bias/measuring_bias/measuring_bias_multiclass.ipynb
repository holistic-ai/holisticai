{
  "cells": [
    {
      "cell_type": "markdown",
      "metadata": {
        "id": "pFKF6N69kCay"
      },
      "source": [
        "# **Measuring Bias in multiclass classification**\n"
      ]
    },
    {
      "cell_type": "markdown",
      "metadata": {
        "id": "Oamlj_mlqgXe"
      },
      "source": [
        "This tutorial will explain how to measure bias in a multiclass classification task using the holisticai library. We will introduce here some of the functions that can help study algorithmic bias.\n",
        "\n",
        "The sections are organised as follows :\n",
        "1. Load the data : we load the student dataset as a pandas DataFrame\n",
        "2. Data Exploration : some preliminary analysis of the data\n",
        "3. Train a Model : we train a model (sklearn)\n",
        "4. Measure Bias : we compute a few bias metrics, and comment on their meaning"
      ]
    },
    {
      "cell_type": "markdown",
      "metadata": {
        "id": "-nYt5_h77QGN"
      },
      "source": [
        "## **Load the data**"
      ]
    },
    {
      "cell_type": "markdown",
      "metadata": {
        "id": "02KZrTw8qjs3"
      },
      "source": [
        "First of all, we need to import the required packages to perform our bias analysis and mitigation. You will need to have the `holisticai` package installed on your system, remember that you can install it by running: \n",
        "```bash\n",
        "!pip install holisticai[all]\n",
        "```"
      ]
    },
    {
      "cell_type": "code",
      "execution_count": 1,
      "metadata": {
        "id": "Ei54jgDbqgXh",
        "pycharm": {
          "name": "#%%\n"
        }
      },
      "outputs": [],
      "source": [
        "# Imports\n",
        "import numpy as np\n",
        "import pandas as pd\n",
        "import warnings\n",
        "warnings.filterwarnings(\"ignore\")"
      ]
    },
    {
      "cell_type": "markdown",
      "metadata": {
        "collapsed": false,
        "id": "63xEONMZqgXj"
      },
      "source": [
        "The student dataset can be easily"
      ]
    },
    {
      "cell_type": "code",
      "execution_count": 2,
      "metadata": {
        "id": "RlAsj3VrqgXj",
        "pycharm": {
          "name": "#%%\n"
        }
      },
      "outputs": [
        {
          "data": {
            "text/html": [
              "\n",
              "        <head>\n",
              "            <meta charset=\"UTF-8\">\n",
              "            <meta name=\"viewport\" content=\"width=device-width, initial-scale=1.0\">\n",
              "            <title>Diagrama DatasetDict</title>\n",
              "            <style>\n",
              "                \n",
              "    .container {\n",
              "        font-family: Arial, sans-serif;\n",
              "        margin: 20px;\n",
              "    }\n",
              "    .node {\n",
              "        border: 2px solid #000;\n",
              "        padding: 10px;\n",
              "        margin: 10px;\n",
              "        text-align: left;\n",
              "        display: inline-block;\n",
              "        background-color: #E0FFFF;\n",
              "    }\n",
              "    .datasets-container {\n",
              "        display: flex;\n",
              "        flex-wrap: wrap;\n",
              "    }\n",
              "    .dataset {\n",
              "        border: 2px solid #007bff;\n",
              "        padding: 10px;\n",
              "        margin: 10px;\n",
              "        text-align: left;\n",
              "        border-radius: 5px;\n",
              "        display: inline-block;\n",
              "        white-space: nowrap;\n",
              "        background-color: #E0FFFF;\n",
              "        box-sizing: border-box;\n",
              "    }\n",
              "    .title {\n",
              "        font-weight: bold;\n",
              "        color: #222; /* Letras más negras */\n",
              "        margin-bottom: 10px;\n",
              "        text-align: left;\n",
              "        white-space: nowrap;\n",
              "    }\n",
              "    ul {\n",
              "        list-style-type: disc;\n",
              "        padding-left: 20px;\n",
              "        text-align: left;\n",
              "        margin: 0;\n",
              "        white-space: normal;\n",
              "        color: #222; /* Letras más negras */\n",
              "    }\n",
              "    .groupbydataset {\n",
              "        border: 2px solid #007bff; /* Dark red */\n",
              "        padding: 10px;\n",
              "        margin: 10px;\n",
              "        text-align: left;\n",
              "        border-radius: 5px;\n",
              "        display: inline-block;\n",
              "        white-space: nowrap;\n",
              "        background-color: #E0FFFF; /* Light pink */\n",
              "        box-sizing: border-box;\n",
              "    }\n",
              "    \n",
              "            </style>\n",
              "        </head>\n",
              "        <body>\n",
              "            <div class=\"container\">\n",
              "                \n",
              "        <div class=\"dataset\" style=\"width: 376px;\">\n",
              "            <div class=\"title\">Dataset</div>\n",
              "            <ul>\n",
              "                <li>features: [ X , p_attr , y ]</li>\n",
              "                <li>num_rows: 395</li>\n",
              "            </ul>\n",
              "        </div>\n",
              "        \n",
              "            </div>\n",
              "        </body>\n",
              "        "
            ],
            "text/plain": [
              "Dataset({\n",
              "        features: ['X', 'p_attr', 'y'],\n",
              "        num_rows: 395\n",
              "    })"
            ]
          },
          "execution_count": 2,
          "metadata": {},
          "output_type": "execute_result"
        }
      ],
      "source": [
        "from holisticai.datasets import load_dataset\n",
        "\n",
        "dataset = load_dataset('student_multiclass')\n",
        "dataset = dataset.map(lambda x: {'p_attr': x['p_attr']['sex']})\n",
        "dataset"
      ]
    },
    {
      "cell_type": "markdown",
      "metadata": {
        "id": "WGFmFdhIqgXl"
      },
      "source": [
        "## **Data Exploration**"
      ]
    },
    {
      "cell_type": "code",
      "execution_count": 3,
      "metadata": {},
      "outputs": [
        {
          "data": {
            "text/html": [
              "<div>\n",
              "<style scoped>\n",
              "    .dataframe tbody tr th:only-of-type {\n",
              "        vertical-align: middle;\n",
              "    }\n",
              "\n",
              "    .dataframe tbody tr th {\n",
              "        vertical-align: top;\n",
              "    }\n",
              "\n",
              "    .dataframe thead th {\n",
              "        text-align: right;\n",
              "    }\n",
              "</style>\n",
              "<table border=\"1\" class=\"dataframe\">\n",
              "  <thead>\n",
              "    <tr style=\"text-align: right;\">\n",
              "      <th>subfeatures</th>\n",
              "      <th>Fjob</th>\n",
              "      <th>Mjob</th>\n",
              "      <th>address</th>\n",
              "      <th>p_attr</th>\n",
              "      <th>sex</th>\n",
              "    </tr>\n",
              "  </thead>\n",
              "  <tbody>\n",
              "    <tr>\n",
              "      <th>0</th>\n",
              "      <td>'teacher'</td>\n",
              "      <td>'at_home'</td>\n",
              "      <td>'U'</td>\n",
              "      <td>'F'</td>\n",
              "      <td>'F'</td>\n",
              "    </tr>\n",
              "    <tr>\n",
              "      <th>1</th>\n",
              "      <td>'other'</td>\n",
              "      <td>'at_home'</td>\n",
              "      <td>'U'</td>\n",
              "      <td>'F'</td>\n",
              "      <td>'F'</td>\n",
              "    </tr>\n",
              "    <tr>\n",
              "      <th>2</th>\n",
              "      <td>'other'</td>\n",
              "      <td>'at_home'</td>\n",
              "      <td>'U'</td>\n",
              "      <td>'F'</td>\n",
              "      <td>'F'</td>\n",
              "    </tr>\n",
              "    <tr>\n",
              "      <th>3</th>\n",
              "      <td>'services'</td>\n",
              "      <td>'health'</td>\n",
              "      <td>'U'</td>\n",
              "      <td>'F'</td>\n",
              "      <td>'F'</td>\n",
              "    </tr>\n",
              "    <tr>\n",
              "      <th>4</th>\n",
              "      <td>'other'</td>\n",
              "      <td>'other'</td>\n",
              "      <td>'U'</td>\n",
              "      <td>'F'</td>\n",
              "      <td>'F'</td>\n",
              "    </tr>\n",
              "    <tr>\n",
              "      <th>...</th>\n",
              "      <td>...</td>\n",
              "      <td>...</td>\n",
              "      <td>...</td>\n",
              "      <td>...</td>\n",
              "      <td>...</td>\n",
              "    </tr>\n",
              "    <tr>\n",
              "      <th>390</th>\n",
              "      <td>'services'</td>\n",
              "      <td>'services'</td>\n",
              "      <td>'U'</td>\n",
              "      <td>'M'</td>\n",
              "      <td>'M'</td>\n",
              "    </tr>\n",
              "    <tr>\n",
              "      <th>391</th>\n",
              "      <td>'services'</td>\n",
              "      <td>'services'</td>\n",
              "      <td>'U'</td>\n",
              "      <td>'M'</td>\n",
              "      <td>'M'</td>\n",
              "    </tr>\n",
              "    <tr>\n",
              "      <th>392</th>\n",
              "      <td>'other'</td>\n",
              "      <td>'other'</td>\n",
              "      <td>'R'</td>\n",
              "      <td>'M'</td>\n",
              "      <td>'M'</td>\n",
              "    </tr>\n",
              "    <tr>\n",
              "      <th>393</th>\n",
              "      <td>'other'</td>\n",
              "      <td>'services'</td>\n",
              "      <td>'R'</td>\n",
              "      <td>'M'</td>\n",
              "      <td>'M'</td>\n",
              "    </tr>\n",
              "    <tr>\n",
              "      <th>394</th>\n",
              "      <td>'at_home'</td>\n",
              "      <td>'other'</td>\n",
              "      <td>'U'</td>\n",
              "      <td>'M'</td>\n",
              "      <td>'M'</td>\n",
              "    </tr>\n",
              "  </tbody>\n",
              "</table>\n",
              "<p>395 rows × 5 columns</p>\n",
              "</div>"
            ],
            "text/plain": [
              "subfeatures        Fjob        Mjob address p_attr  sex\n",
              "0             'teacher'   'at_home'     'U'    'F'  'F'\n",
              "1               'other'   'at_home'     'U'    'F'  'F'\n",
              "2               'other'   'at_home'     'U'    'F'  'F'\n",
              "3            'services'    'health'     'U'    'F'  'F'\n",
              "4               'other'     'other'     'U'    'F'  'F'\n",
              "..                  ...         ...     ...    ...  ...\n",
              "390          'services'  'services'     'U'    'M'  'M'\n",
              "391          'services'  'services'     'U'    'M'  'M'\n",
              "392             'other'     'other'     'R'    'M'  'M'\n",
              "393             'other'  'services'     'R'    'M'  'M'\n",
              "394           'at_home'     'other'     'U'    'M'  'M'\n",
              "\n",
              "[395 rows x 5 columns]"
            ]
          },
          "execution_count": 3,
          "metadata": {},
          "output_type": "execute_result"
        }
      ],
      "source": [
        "dataset['p_attr']"
      ]
    },
    {
      "cell_type": "code",
      "execution_count": 4,
      "metadata": {
        "id": "mPSu3fnfqgXm"
      },
      "outputs": [
        {
          "ename": "TypeError",
          "evalue": "input is not a numpy array or pandas series",
          "output_type": "error",
          "traceback": [
            "\u001b[0;31m---------------------------------------------------------------------------\u001b[0m",
            "\u001b[0;31mTypeError\u001b[0m                                 Traceback (most recent call last)",
            "Cell \u001b[0;32mIn[4], line 8\u001b[0m\n\u001b[1;32m      5\u001b[0m \u001b[38;5;28;01mimport\u001b[39;00m \u001b[38;5;21;01mmatplotlib\u001b[39;00m\u001b[38;5;21;01m.\u001b[39;00m\u001b[38;5;21;01mpyplot\u001b[39;00m \u001b[38;5;28;01mas\u001b[39;00m \u001b[38;5;21;01mplt\u001b[39;00m\n\u001b[1;32m      7\u001b[0m fig,axs \u001b[38;5;241m=\u001b[39m plt\u001b[38;5;241m.\u001b[39msubplots(\u001b[38;5;241m1\u001b[39m,\u001b[38;5;241m4\u001b[39m, figsize\u001b[38;5;241m=\u001b[39m(\u001b[38;5;241m25\u001b[39m,\u001b[38;5;241m5\u001b[39m))\n\u001b[0;32m----> 8\u001b[0m \u001b[43mgroup_pie_plot\u001b[49m\u001b[43m(\u001b[49m\u001b[43mdataset\u001b[49m\u001b[43m[\u001b[49m\u001b[38;5;124;43m'\u001b[39;49m\u001b[38;5;124;43mp_attr\u001b[39;49m\u001b[38;5;124;43m'\u001b[39;49m\u001b[43m]\u001b[49m\u001b[43m,\u001b[49m\u001b[43m \u001b[49m\u001b[43max\u001b[49m\u001b[38;5;241;43m=\u001b[39;49m\u001b[43maxs\u001b[49m\u001b[43m[\u001b[49m\u001b[38;5;241;43m0\u001b[39;49m\u001b[43m]\u001b[49m\u001b[43m)\u001b[49m\n\u001b[1;32m      9\u001b[0m group_pie_plot(dataset[\u001b[38;5;124m'\u001b[39m\u001b[38;5;124mp_attr\u001b[39m\u001b[38;5;124m'\u001b[39m], ax\u001b[38;5;241m=\u001b[39maxs[\u001b[38;5;241m1\u001b[39m])\n\u001b[1;32m     10\u001b[0m histogram_plot(dataset[\u001b[38;5;124m'\u001b[39m\u001b[38;5;124my\u001b[39m\u001b[38;5;124m'\u001b[39m], ax\u001b[38;5;241m=\u001b[39maxs[\u001b[38;5;241m2\u001b[39m])\n",
            "File \u001b[0;32m~/github/holisticai/src/holisticai/plots/bias/_exploratory.py:46\u001b[0m, in \u001b[0;36mgroup_pie_plot\u001b[0;34m(y_feat, ax, size, title)\u001b[0m\n\u001b[1;32m     43\u001b[0m     labels \u001b[38;5;241m=\u001b[39m value_counts\u001b[38;5;241m.\u001b[39mindex\u001b[38;5;241m.\u001b[39mtolist()\n\u001b[1;32m     45\u001b[0m \u001b[38;5;28;01melse\u001b[39;00m:\n\u001b[0;32m---> 46\u001b[0m     \u001b[38;5;28;01mraise\u001b[39;00m \u001b[38;5;167;01mTypeError\u001b[39;00m(\u001b[38;5;124m\"\u001b[39m\u001b[38;5;124minput is not a numpy array or pandas series\u001b[39m\u001b[38;5;124m\"\u001b[39m)\n\u001b[1;32m     48\u001b[0m \u001b[38;5;66;03m# calculations\u001b[39;00m\n\u001b[1;32m     49\u001b[0m threshold \u001b[38;5;241m=\u001b[39m \u001b[38;5;241m0.02\u001b[39m\n",
            "\u001b[0;31mTypeError\u001b[0m: input is not a numpy array or pandas series"
          ]
        },
        {
          "data": {
            "image/png": "[encoded data removed]",
            "text/plain": [
              "<Figure size 2500x500 with 4 Axes>"
            ]
          },
          "metadata": {},
          "output_type": "display_data"
        }
      ],
      "source": [
        "from holisticai.plots.bias import group_pie_plot\n",
        "from holisticai.plots.bias import histogram_plot\n",
        "from holisticai.plots.bias import frequency_matrix_plot\n",
        "from holisticai.plots.bias import frequency_plot\n",
        "import matplotlib.pyplot as plt\n",
        "\n",
        "fig,axs = plt.subplots(1,4, figsize=(25,5))\n",
        "group_pie_plot(dataset['p_attr'], ax=axs[0])\n",
        "group_pie_plot(dataset['p_attr'], ax=axs[1])\n",
        "histogram_plot(dataset['y'], ax=axs[2])\n",
        "frequency_matrix_plot(dataset['p_attr'], dataset['y'], normalize='group', ax=axs[3])"
      ]
    },
    {
      "cell_type": "code",
      "execution_count": null,
      "metadata": {
        "colab": {
          "base_uri": "https://localhost:8080/",
          "height": 472
        },
        "id": "jNCyNMWQqgXo",
        "outputId": "5a534cfa-47dc-4ffa-c68c-c3ea5bc89baf"
      },
      "outputs": [],
      "source": [
        "frequency_plot(dataset['p_attr'], dataset['y'])"
      ]
    },
    {
      "cell_type": "markdown",
      "metadata": {
        "id": "GOxWH_M_qgXs"
      },
      "source": [
        "## **Train a model**\n"
      ]
    },
    {
      "cell_type": "code",
      "execution_count": null,
      "metadata": {},
      "outputs": [],
      "source": [
        "datasets = dataset.train_test_split(test_size=0.3)\n",
        "datasets"
      ]
    },
    {
      "cell_type": "code",
      "execution_count": null,
      "metadata": {
        "id": "RzS2zUYkqgXu"
      },
      "outputs": [],
      "source": [
        "from sklearn.ensemble import RandomForestClassifier\n",
        "\n",
        "# Train a simple Random Forest Classifier\n",
        "x_train = datasets['train']['x']\n",
        "y_train = datasets['train']['y']\n",
        "\n",
        "model = RandomForestClassifier(random_state=111)\n",
        "model.fit(x_train, y_train)\n",
        "\n",
        "# Predict values\n",
        "x_test = datasets['test']['x']\n",
        "y_test = datasets['test']['y']\n",
        "p_attr_test = datasets['test']['p_attr']\n",
        "y_pred = model.predict(x_test)"
      ]
    },
    {
      "cell_type": "code",
      "execution_count": null,
      "metadata": {
        "id": "GERZ97LaqgXu"
      },
      "outputs": [],
      "source": [
        "from holisticai.metrics.bias import confusion_matrix\n",
        "from sklearn.metrics import precision_score, recall_score, accuracy_score"
      ]
    },
    {
      "cell_type": "code",
      "execution_count": null,
      "metadata": {
        "colab": {
          "base_uri": "https://localhost:8080/",
          "height": 175
        },
        "id": "FnkQ9ZOYqgXu",
        "outputId": "ed316f8c-c401-457f-8374-0422160375f1"
      },
      "outputs": [],
      "source": [
        "confusion_matrix(y_pred, y_test)"
      ]
    },
    {
      "cell_type": "code",
      "execution_count": null,
      "metadata": {
        "colab": {
          "base_uri": "https://localhost:8080/"
        },
        "id": "r9EsTrK7qgXu",
        "outputId": "479067c6-aba3-4aaa-9d7e-df97996064ac"
      },
      "outputs": [],
      "source": [
        "# evaluate\n",
        "print (accuracy_score(y_test, y_pred))\n",
        "print (precision_score(y_test, y_pred, average=None))\n",
        "print (recall_score(y_test, y_pred, average=None))"
      ]
    },
    {
      "cell_type": "markdown",
      "metadata": {
        "id": "SbeDKujLqgXu"
      },
      "source": [
        "## **Measure bias**"
      ]
    },
    {
      "cell_type": "code",
      "execution_count": null,
      "metadata": {
        "id": "fyAbJrXTqgXv"
      },
      "outputs": [],
      "source": [
        "from holisticai.plots.bias import frequency_matrix_plot\n",
        "from holisticai.plots.bias import frequency_plot"
      ]
    },
    {
      "cell_type": "code",
      "execution_count": null,
      "metadata": {
        "id": "x952tSLcqgXv"
      },
      "outputs": [],
      "source": [
        "y_pred = model.predict(x_test)   # multiclass prediction vector                                                 # multiclass label vector"
      ]
    },
    {
      "cell_type": "code",
      "execution_count": null,
      "metadata": {
        "colab": {
          "base_uri": "https://localhost:8080/",
          "height": 524
        },
        "id": "7HG3hgeIqgXv",
        "outputId": "43cfc5be-1128-4791-c963-a4286882cbe1"
      },
      "outputs": [],
      "source": [
        "frequency_matrix_plot(p_attr_test, y_pred, normalize='group')"
      ]
    },
    {
      "cell_type": "markdown",
      "metadata": {
        "id": "tBtjgAK9qgXx"
      },
      "source": [
        "Using the above plot, we observe unfairness by looking at differences over columns. For instance we look at the class 1.0, and observe how the 'health' group has a much higher probability of being within it."
      ]
    },
    {
      "cell_type": "code",
      "execution_count": null,
      "metadata": {
        "colab": {
          "base_uri": "https://localhost:8080/",
          "height": 1000
        },
        "id": "lhscqKQbqgXx",
        "outputId": "ab34fb21-a481-4035-8010-c7a7e9e175f3"
      },
      "outputs": [],
      "source": [
        "frequency_plot(p_attr_test, y_pred)"
      ]
    },
    {
      "cell_type": "markdown",
      "metadata": {
        "id": "u6zag5EDqgXx"
      },
      "source": [
        "This is the same data as the previous plot, but displayed in a different way."
      ]
    },
    {
      "cell_type": "markdown",
      "metadata": {
        "id": "iiiI-Ja6qgXx"
      },
      "source": [
        "Let's compute a few bias metrics. We have generalised versions of '1d' bias metrics. For instance multiclass statistical parity."
      ]
    },
    {
      "cell_type": "code",
      "execution_count": null,
      "metadata": {
        "colab": {
          "base_uri": "https://localhost:8080/"
        },
        "id": "mDuOxscEqgXx",
        "outputId": "348b4754-1317-4613-e111-97c05adbc290"
      },
      "outputs": [],
      "source": [
        "from holisticai.metrics.bias import multiclass_statistical_parity\n",
        "\n",
        "multiclass_statistical_parity(\n",
        "    p_attr_test, y_pred, groups=None, classes=None, aggregation_fun=\"mean\"\n",
        ")"
      ]
    },
    {
      "cell_type": "markdown",
      "metadata": {
        "id": "zZZyODqxqgXx"
      },
      "source": [
        "We now compute statistical parity, generalized for the multiclass case. We aggregate by taking the average multilabel statistical parity over all possible group pairs (`aggregation_fun=\"mean\"`). As in the 1d case, the suggested accepted range is (-0.1, 0.1)."
      ]
    },
    {
      "cell_type": "code",
      "execution_count": null,
      "metadata": {
        "colab": {
          "base_uri": "https://localhost:8080/"
        },
        "id": "RXtf2Q_PqgXx",
        "outputId": "86cefc7b-82d9-41e7-be5f-7c3cbc3f4580"
      },
      "outputs": [],
      "source": [
        "multiclass_statistical_parity(\n",
        "    p_attr_test, y_pred, groups=None, classes=None, aggregation_fun=\"max\"\n",
        ")"
      ]
    },
    {
      "cell_type": "markdown",
      "metadata": {
        "id": "UddQ-mQPqgXy"
      },
      "source": [
        "Alternatively, we could aggregate by taking the maximum (`aggregation_fun=\"max\"`) over all possible group pairs. As expected, the maximum statistical parity is higher in this case."
      ]
    },
    {
      "cell_type": "markdown",
      "metadata": {
        "id": "dwa3r9LtqgXy"
      },
      "source": [
        "We can try another bias metric, for instace multiclass_equality_of_opp is the multidimensional version of the 1d equal opportunity metric."
      ]
    },
    {
      "cell_type": "code",
      "execution_count": null,
      "metadata": {
        "colab": {
          "base_uri": "https://localhost:8080/"
        },
        "id": "p3uS2iZ6qgXy",
        "outputId": "3993f03a-beea-47f6-c4a1-00359d12012b"
      },
      "outputs": [],
      "source": [
        "from holisticai.metrics.bias import multiclass_equality_of_opp\n",
        "\n",
        "multiclass_equality_of_opp(\n",
        "    p_attr_test, y_pred, y_test, groups=None, classes=None, aggregation_fun=\"mean\"\n",
        ")"
      ]
    },
    {
      "cell_type": "code",
      "execution_count": null,
      "metadata": {
        "colab": {
          "base_uri": "https://localhost:8080/"
        },
        "id": "QYf-3buhqgXz",
        "outputId": "e5f58bd7-12b2-49b3-cef7-a90af54af2fa"
      },
      "outputs": [],
      "source": [
        "multiclass_equality_of_opp(\n",
        "    p_attr_test, y_pred, y_test, groups=None, classes=None, aggregation_fun=\"max\"\n",
        ")"
      ]
    },
    {
      "cell_type": "code",
      "execution_count": null,
      "metadata": {},
      "outputs": [],
      "source": [
        "from holisticai.metrics.bias import multiclass_bias_metrics\n",
        "multiclass_bias_metrics(p_attr_test, y_pred, y_test, metric_type='both')"
      ]
    }
  ],
  "metadata": {
    "colab": {
      "provenance": []
    },
    "kernelspec": {
      "display_name": "Python 3.10.6 64-bit",
      "language": "python",
      "name": "python3"
    },
    "language_info": {
      "codemirror_mode": {
        "name": "ipython",
        "version": 3
      },
      "file_extension": ".py",
      "mimetype": "text/x-python",
      "name": "python",
      "nbconvert_exporter": "python",
      "pygments_lexer": "ipython3",
      "version": "3.10.10"
    },
    "orig_nbformat": 4,
    "vscode": {
      "interpreter": {
        "hash": "916dbcbb3f70747c44a77c7bcd40155683ae19c65e1c03b4aa3499c5328201f1"
      }
    }
  },
  "nbformat": 4,
  "nbformat_minor": 0
}
