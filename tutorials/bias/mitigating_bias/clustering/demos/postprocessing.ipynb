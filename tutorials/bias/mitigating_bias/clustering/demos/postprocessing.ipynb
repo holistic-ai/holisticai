{
    "cells": [
        {
            "cell_type": "markdown",
            "metadata": {},
            "source": [
                "## Packages Installation\n",
                "\n",
                "First, install the `holisticai` package if you haven't already:\n",
                "```bash\n",
                "!pip install holisticai[all]\n",
                "```\n",
                "Then, import the necessary libraries."
            ]
        },
        {
            "cell_type": "code",
            "execution_count": 1,
            "metadata": {},
            "outputs": [],
            "source": [
                "import warnings\n",
                "\n",
                "import pandas as pd\n",
                "from holisticai.bias.metrics import clustering_bias_metrics\n",
                "from holisticai.datasets import load_dataset\n",
                "from holisticai.pipeline import Pipeline\n",
                "from sklearn.cluster import KMeans\n",
                "\n",
                "warnings.filterwarnings(\"ignore\")"
            ]
        },
        {
            "cell_type": "markdown",
            "metadata": {},
            "source": [
                "## Data Loading"
            ]
        },
        {
            "cell_type": "code",
            "execution_count": 2,
            "metadata": {},
            "outputs": [
                {
                    "data": {
                        "text/html": [
                            "\n",
                            "    <style>\n",
                            "        .generic-object-container {\n",
                            "    padding: 1px;\n",
                            "    margin: 1px;\n",
                            "}\n",
                            ".generic-object-content {\n",
                            "    background-color: #fff;\n",
                            "    border: 1px solid #ddd;\n",
                            "    border-radius: 5px;\n",
                            "    padding: 0px;\n",
                            "    margin: 10px;\n",
                            "    text-align: left;\n",
                            "    font-family: Arial, sans-serif;\n",
                            "    font-size: 11px;\n",
                            "    color: #333;\n",
                            "    display: inline-block;\n",
                            "    box-shadow: 1px 1px 3px rgba(0, 0, 0, 0.1);\n",
                            "}\n",
                            ".generic-object-header {\n",
                            "    background-color: #e0e0e0;\n",
                            "    color: #000;\n",
                            "    font-size: 12px;\n",
                            "    padding: 10px 150px 10px 20px;\n",
                            "    margin: 0px;\n",
                            "    text-align: left;\n",
                            "    border-bottom: 1px solid #ccc;\n",
                            "    border-radius: 5px 5px 0 0;\n",
                            "    font-weight: bold;\n",
                            "}\n",
                            ".generic-object-body {\n",
                            "    padding: 5px 10px 5px 10px;\n",
                            "}\n",
                            ".attribute-list {\n",
                            "    margin: 2px 0;\n",
                            "    padding: 2px;\n",
                            "}\n",
                            "    </style>\n",
                            "    <div class=\"generic-object-container\">\n",
                            "        <div class=\"generic-object-content\">\n",
                            "            <div class=\"generic-object-header\">DATASET</div>\n",
                            "            <div class=\"generic-object-body\">\n",
                            "                <div class=\"attribute-list\">- Number of Rows: 299</div><div class=\"attribute-list\">- Features: X , y , group_a , group_b</div><div class=\"attribute-list\">- Metadata: sex: {'group_a': '0', 'group_b': '1'}</div>\n",
                            "                \n",
                            "            </div>\n",
                            "        </div>\n",
                            "    </div>\n",
                            "    "
                        ],
                        "text/plain": [
                            "{\"dtype\": \"Dataset\", \"attributes\": {\"Number of Rows\": 299, \"Features\": [\"X , y , group_a , group_b\"]}, \"metadata\": \"sex: {'group_a': '0', 'group_b': '1'}\"}"
                        ]
                    },
                    "execution_count": 2,
                    "metadata": {},
                    "output_type": "execute_result"
                }
            ],
            "source": [
                "dataset = load_dataset('clinical_records')\n",
                "train_test = dataset.train_test_split(test_size=0.2, random_state=42)\n",
                "\n",
                "train = train_test['train']\n",
                "test = train_test['test']\n",
                "\n",
                "dataset"
            ]
        },
        {
            "attachments": {},
            "cell_type": "markdown",
            "metadata": {},
            "source": [
                "# 1. MCMF"
            ]
        },
        {
            "attachments": {},
            "cell_type": "markdown",
            "metadata": {},
            "source": [
                "#### Traditional Implementation"
            ]
        },
        {
            "cell_type": "code",
            "execution_count": 3,
            "metadata": {},
            "outputs": [
                {
                    "data": {
                        "text/html": [
                            "<div>\n",
                            "<style scoped>\n",
                            "    .dataframe tbody tr th:only-of-type {\n",
                            "        vertical-align: middle;\n",
                            "    }\n",
                            "\n",
                            "    .dataframe tbody tr th {\n",
                            "        vertical-align: top;\n",
                            "    }\n",
                            "\n",
                            "    .dataframe thead th {\n",
                            "        text-align: right;\n",
                            "    }\n",
                            "</style>\n",
                            "<table border=\"1\" class=\"dataframe\">\n",
                            "  <thead>\n",
                            "    <tr style=\"text-align: right;\">\n",
                            "      <th></th>\n",
                            "      <th>Value</th>\n",
                            "      <th>Reference</th>\n",
                            "    </tr>\n",
                            "    <tr>\n",
                            "      <th>Metric</th>\n",
                            "      <th></th>\n",
                            "      <th></th>\n",
                            "    </tr>\n",
                            "  </thead>\n",
                            "  <tbody>\n",
                            "    <tr>\n",
                            "      <th>Cluster Balance</th>\n",
                            "      <td>0.584280</td>\n",
                            "      <td>1</td>\n",
                            "    </tr>\n",
                            "    <tr>\n",
                            "      <th>Minimum Cluster Ratio</th>\n",
                            "      <td>0.338583</td>\n",
                            "      <td>1</td>\n",
                            "    </tr>\n",
                            "    <tr>\n",
                            "      <th>Cluster Distribution Total Variation</th>\n",
                            "      <td>0.318793</td>\n",
                            "      <td>0</td>\n",
                            "    </tr>\n",
                            "    <tr>\n",
                            "      <th>Cluster Distribution KL Div</th>\n",
                            "      <td>0.264755</td>\n",
                            "      <td>0</td>\n",
                            "    </tr>\n",
                            "    <tr>\n",
                            "      <th>Social Fairness Ratio</th>\n",
                            "      <td>1.153405</td>\n",
                            "      <td>1</td>\n",
                            "    </tr>\n",
                            "    <tr>\n",
                            "      <th>Silhouette Difference</th>\n",
                            "      <td>-0.143734</td>\n",
                            "      <td>0</td>\n",
                            "    </tr>\n",
                            "  </tbody>\n",
                            "</table>\n",
                            "</div>"
                        ],
                        "text/plain": [
                            "                                         Value  Reference\n",
                            "Metric                                                   \n",
                            "Cluster Balance                       0.584280          1\n",
                            "Minimum Cluster Ratio                 0.338583          1\n",
                            "Cluster Distribution Total Variation  0.318793          0\n",
                            "Cluster Distribution KL Div           0.264755          0\n",
                            "Social Fairness Ratio                 1.153405          1\n",
                            "Silhouette Difference                -0.143734          0"
                        ]
                    },
                    "execution_count": 3,
                    "metadata": {},
                    "output_type": "execute_result"
                }
            ],
            "source": [
                "from holisticai.bias.mitigation import MCMF\n",
                "\n",
                "# fit a clustering model\n",
                "model = KMeans(n_clusters=2, random_state=42)\n",
                "model.fit(train['X'])\n",
                "\n",
                "# predict the clusters\n",
                "y_pred = model.predict(train['X'])\n",
                "\n",
                "# fit the mitigator\n",
                "mitigator = MCMF(metric='L1', verbose=1)\n",
                "y_pred = mitigator.fit_transform(train['X'], y_pred, train[\"group_a\"], train['group_b'], model.cluster_centers_)['y_pred']\n",
                "\n",
                "# get the centroids\n",
                "centroids = model.cluster_centers_\n",
                "\n",
                "# compute the bias metrics\n",
                "metrics = clustering_bias_metrics(train['group_a'], train['group_b'], y_pred, data = train['X'], centroids = centroids, metric_type = 'equal_outcome')\n",
                "metrics"
            ]
        },
        {
            "cell_type": "markdown",
            "metadata": {},
            "source": [
                "# Pipeline Implementation"
            ]
        },
        {
            "cell_type": "code",
            "execution_count": 4,
            "metadata": {},
            "outputs": [
                {
                    "data": {
                        "text/html": [
                            "<div>\n",
                            "<style scoped>\n",
                            "    .dataframe tbody tr th:only-of-type {\n",
                            "        vertical-align: middle;\n",
                            "    }\n",
                            "\n",
                            "    .dataframe tbody tr th {\n",
                            "        vertical-align: top;\n",
                            "    }\n",
                            "\n",
                            "    .dataframe thead th {\n",
                            "        text-align: right;\n",
                            "    }\n",
                            "</style>\n",
                            "<table border=\"1\" class=\"dataframe\">\n",
                            "  <thead>\n",
                            "    <tr style=\"text-align: right;\">\n",
                            "      <th></th>\n",
                            "      <th>Value</th>\n",
                            "      <th>Reference</th>\n",
                            "    </tr>\n",
                            "    <tr>\n",
                            "      <th>Metric</th>\n",
                            "      <th></th>\n",
                            "      <th></th>\n",
                            "    </tr>\n",
                            "  </thead>\n",
                            "  <tbody>\n",
                            "    <tr>\n",
                            "      <th>Cluster Balance</th>\n",
                            "      <td>0.584280</td>\n",
                            "      <td>1</td>\n",
                            "    </tr>\n",
                            "    <tr>\n",
                            "      <th>Minimum Cluster Ratio</th>\n",
                            "      <td>0.338583</td>\n",
                            "      <td>1</td>\n",
                            "    </tr>\n",
                            "    <tr>\n",
                            "      <th>Cluster Distribution Total Variation</th>\n",
                            "      <td>0.318793</td>\n",
                            "      <td>0</td>\n",
                            "    </tr>\n",
                            "    <tr>\n",
                            "      <th>Cluster Distribution KL Div</th>\n",
                            "      <td>0.264755</td>\n",
                            "      <td>0</td>\n",
                            "    </tr>\n",
                            "    <tr>\n",
                            "      <th>Social Fairness Ratio</th>\n",
                            "      <td>1.153405</td>\n",
                            "      <td>1</td>\n",
                            "    </tr>\n",
                            "    <tr>\n",
                            "      <th>Silhouette Difference</th>\n",
                            "      <td>-0.143734</td>\n",
                            "      <td>0</td>\n",
                            "    </tr>\n",
                            "  </tbody>\n",
                            "</table>\n",
                            "</div>"
                        ],
                        "text/plain": [
                            "                                         Value  Reference\n",
                            "Metric                                                   \n",
                            "Cluster Balance                       0.584280          1\n",
                            "Minimum Cluster Ratio                 0.338583          1\n",
                            "Cluster Distribution Total Variation  0.318793          0\n",
                            "Cluster Distribution KL Div           0.264755          0\n",
                            "Social Fairness Ratio                 1.153405          1\n",
                            "Silhouette Difference                -0.143734          0"
                        ]
                    },
                    "execution_count": 4,
                    "metadata": {},
                    "output_type": "execute_result"
                }
            ],
            "source": [
                "mitigator = MCMF(metric='L1', verbose=1)\n",
                "\n",
                "# set the pipeline\n",
                "pipeline = Pipeline(steps=[('model', model), ('bm_postprocessing', mitigator)])\n",
                "pipeline.fit(train['X'])\n",
                "\n",
                "# predict the clusters and get the centroids\n",
                "y_pred = pipeline.predict(train['X'],bm__group_a=train[\"group_a\"],bm__group_b=train[\"group_b\"],bm__centroids=\"cluster_centers_\")\n",
                "centroids = pipeline['model'].cluster_centers_\n",
                "\n",
                "# compute the bias metrics\n",
                "metrics_pipeline = clustering_bias_metrics(train['group_a'], train['group_b'], y_pred, data = train['X'], centroids = centroids, metric_type = 'equal_outcome')\n",
                "metrics_pipeline"
            ]
        },
        {
            "cell_type": "markdown",
            "metadata": {},
            "source": [
                "### Comparison"
            ]
        },
        {
            "cell_type": "code",
            "execution_count": 5,
            "metadata": {},
            "outputs": [
                {
                    "data": {
                        "text/html": [
                            "<div>\n",
                            "<style scoped>\n",
                            "    .dataframe tbody tr th:only-of-type {\n",
                            "        vertical-align: middle;\n",
                            "    }\n",
                            "\n",
                            "    .dataframe tbody tr th {\n",
                            "        vertical-align: top;\n",
                            "    }\n",
                            "\n",
                            "    .dataframe thead tr th {\n",
                            "        text-align: left;\n",
                            "    }\n",
                            "\n",
                            "    .dataframe thead tr:last-of-type th {\n",
                            "        text-align: right;\n",
                            "    }\n",
                            "</style>\n",
                            "<table border=\"1\" class=\"dataframe\">\n",
                            "  <thead>\n",
                            "    <tr>\n",
                            "      <th></th>\n",
                            "      <th>Traditional</th>\n",
                            "      <th colspan=\"2\" halign=\"left\">Pipeline</th>\n",
                            "    </tr>\n",
                            "    <tr>\n",
                            "      <th></th>\n",
                            "      <th>Value</th>\n",
                            "      <th>Value</th>\n",
                            "      <th>Reference</th>\n",
                            "    </tr>\n",
                            "    <tr>\n",
                            "      <th>Metric</th>\n",
                            "      <th></th>\n",
                            "      <th></th>\n",
                            "      <th></th>\n",
                            "    </tr>\n",
                            "  </thead>\n",
                            "  <tbody>\n",
                            "    <tr>\n",
                            "      <th>Cluster Balance</th>\n",
                            "      <td>0.584280</td>\n",
                            "      <td>0.584280</td>\n",
                            "      <td>1</td>\n",
                            "    </tr>\n",
                            "    <tr>\n",
                            "      <th>Minimum Cluster Ratio</th>\n",
                            "      <td>0.338583</td>\n",
                            "      <td>0.338583</td>\n",
                            "      <td>1</td>\n",
                            "    </tr>\n",
                            "    <tr>\n",
                            "      <th>Cluster Distribution Total Variation</th>\n",
                            "      <td>0.318793</td>\n",
                            "      <td>0.318793</td>\n",
                            "      <td>0</td>\n",
                            "    </tr>\n",
                            "    <tr>\n",
                            "      <th>Cluster Distribution KL Div</th>\n",
                            "      <td>0.264755</td>\n",
                            "      <td>0.264755</td>\n",
                            "      <td>0</td>\n",
                            "    </tr>\n",
                            "    <tr>\n",
                            "      <th>Social Fairness Ratio</th>\n",
                            "      <td>1.153405</td>\n",
                            "      <td>1.153405</td>\n",
                            "      <td>1</td>\n",
                            "    </tr>\n",
                            "    <tr>\n",
                            "      <th>Silhouette Difference</th>\n",
                            "      <td>-0.143734</td>\n",
                            "      <td>-0.143734</td>\n",
                            "      <td>0</td>\n",
                            "    </tr>\n",
                            "  </tbody>\n",
                            "</table>\n",
                            "</div>"
                        ],
                        "text/plain": [
                            "                                     Traditional  Pipeline          \n",
                            "                                           Value     Value Reference\n",
                            "Metric                                                              \n",
                            "Cluster Balance                         0.584280  0.584280         1\n",
                            "Minimum Cluster Ratio                   0.338583  0.338583         1\n",
                            "Cluster Distribution Total Variation    0.318793  0.318793         0\n",
                            "Cluster Distribution KL Div             0.264755  0.264755         0\n",
                            "Social Fairness Ratio                   1.153405  1.153405         1\n",
                            "Silhouette Difference                  -0.143734 -0.143734         0"
                        ]
                    },
                    "execution_count": 5,
                    "metadata": {},
                    "output_type": "execute_result"
                }
            ],
            "source": [
                "pd.concat([metrics['Value'], metrics_pipeline], axis=1, keys=['Traditional', 'Pipeline'])"
            ]
        }
    ],
    "metadata": {
        "kernelspec": {
            "display_name": "Python 3",
            "language": "python",
            "name": "python3"
        },
        "language_info": {
            "codemirror_mode": {
                "name": "ipython",
                "version": 3
            },
            "file_extension": ".py",
            "mimetype": "text/x-python",
            "name": "python",
            "nbconvert_exporter": "python",
            "pygments_lexer": "ipython3",
            "version": "3.11.9"
        },
        "orig_nbformat": 4
    },
    "nbformat": 4,
    "nbformat_minor": 2
}
