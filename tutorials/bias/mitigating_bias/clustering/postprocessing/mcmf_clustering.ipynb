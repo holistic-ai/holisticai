{
    "cells": [
        {
            "attachments": {},
            "cell_type": "markdown",
            "metadata": {},
            "source": [
                "# **MCMF Clustering: Bias measuring and mitigation in clustering tasks**\n",
                "\n",
                "The bias problem can appear in models when the predictions systematically deviate from the true values for certain subgroups in the dataset. This phenomenon can occur due to various reasons such as unbalanced groups in the training data, feature selection, or model specification. Because of this, the bias problem can appear in different tasks, being \"clustering task\" one of them. \n",
                "\n",
                "There are various techniques to measure bias in clustering tasks. One common approach is to use fairness metrics such as Fair K-Center Clustering, Fair K-Median Clustering, Fairlet Clustering, Variational Fair Clustering etc.\n",
                "\n",
                "Once bias is detected, we can employ different techniques to mitigate it. These methods can be grouped into three categories: Pre-processing, in-processing and post-processing methods. Pre-processing techniques are used to adjust the training data to remove bias, while in-processing methods are applied to build robust models against bias. Finally, post-processing techniques are used to adjust the model's predictions to remove bias.\n",
                "\n",
                "Through this tutorial, we pretend to present you tools which can be easily applied to measure and mitigate the presence of bias in clustering models.\n",
                "\n",
                "We will follow the traditional outline for this tutorial:\n",
                "\n",
                "1. Data tasks: loading, exploration and preprocessing \n",
                "2. Train Baseline\n",
                "3. Train Model with Mitigator\n",
                "4. Using Pipeline\n",
                "5. Results comparison"
            ]
        },
        {
            "attachments": {},
            "cell_type": "markdown",
            "metadata": {},
            "source": [
                "## **1. Data tasks: loading, exploration and preprocessing**\n",
                "\n",
                "First of all, we need to import the required packages to perform our bias analysis and mitigation. You will need to have the `holisticai` package installed on your system, remember that you can install it by running: \n",
                "```bash\n",
                "!pip install holisticai[all]\n",
                "```"
            ]
        },
        {
            "attachments": {},
            "cell_type": "markdown",
            "metadata": {},
            "source": [
                "### **1.1 Imports**"
            ]
        },
        {
            "cell_type": "code",
            "execution_count": 1,
            "metadata": {},
            "outputs": [],
            "source": [
                "import pandas as pd\n",
                "import numpy as np\n",
                "import matplotlib.pyplot as plt\n",
                "\n",
                "np.random.seed(0)\n",
                "import warnings\n",
                "warnings.filterwarnings('ignore')"
            ]
        },
        {
            "attachments": {},
            "cell_type": "markdown",
            "metadata": {},
            "source": [
                "### **1.2 Data Exploration**\n",
                "\n",
                "The dataset that we will use is the \"Heart Failure Clinical Records\" dataset which is a publicly available dataset that contains the medical records of 299 patients who had heart failure, collected during their follow-up period, where each patient profile has 13 clinical features. The objective is to predict if the patient deceased during the follow-up period.\n",
                "\n",
                "Source: [UCI ML repository](https://archive.ics.uci.edu/ml/datasets/Heart+failure+clinical+records)"
            ]
        },
        {
            "cell_type": "code",
            "execution_count": 6,
            "metadata": {},
            "outputs": [
                {
                    "data": {
                        "text/html": [
                            "\n",
                            "        <head>\n",
                            "            <meta charset=\"UTF-8\">\n",
                            "            <meta name=\"viewport\" content=\"width=device-width, initial-scale=1.0\">\n",
                            "            <title>Diagrama DatasetDict</title>\n",
                            "            <style>\n",
                            "                \n",
                            "    .container {\n",
                            "        font-family: Arial, sans-serif;\n",
                            "        margin: 20px;\n",
                            "    }\n",
                            "    .node {\n",
                            "        border: 2px solid #000;\n",
                            "        padding: 10px;\n",
                            "        margin: 10px;\n",
                            "        text-align: left;\n",
                            "        display: inline-block;\n",
                            "        background-color: #E0FFFF;\n",
                            "    }\n",
                            "    .datasets-container {\n",
                            "        display: flex;\n",
                            "        flex-wrap: wrap;\n",
                            "    }\n",
                            "    .dataset {\n",
                            "        border: 2px solid #007bff;\n",
                            "        padding: 10px;\n",
                            "        margin: 10px;\n",
                            "        text-align: left;\n",
                            "        border-radius: 5px;\n",
                            "        display: inline-block;\n",
                            "        white-space: nowrap;\n",
                            "        background-color: #E0FFFF;\n",
                            "        box-sizing: border-box;\n",
                            "    }\n",
                            "    .title {\n",
                            "        font-weight: bold;\n",
                            "        color: #222; /* Letras más negras */\n",
                            "        margin-bottom: 10px;\n",
                            "        text-align: left;\n",
                            "        white-space: nowrap;\n",
                            "    }\n",
                            "    ul {\n",
                            "        list-style-type: disc;\n",
                            "        padding-left: 20px;\n",
                            "        text-align: left;\n",
                            "        margin: 0;\n",
                            "        white-space: normal;\n",
                            "        color: #222; /* Letras más negras */\n",
                            "    }\n",
                            "    .groupbydataset {\n",
                            "        border: 2px solid #007bff; /* Dark red */\n",
                            "        padding: 10px;\n",
                            "        margin: 10px;\n",
                            "        text-align: left;\n",
                            "        border-radius: 5px;\n",
                            "        display: inline-block;\n",
                            "        white-space: nowrap;\n",
                            "        background-color: #E0FFFF; /* Light pink */\n",
                            "        box-sizing: border-box;\n",
                            "    }\n",
                            "    \n",
                            "            </style>\n",
                            "        </head>\n",
                            "        <body>\n",
                            "            <div class=\"container\">\n",
                            "                \n",
                            "        <div class=\"dataset\" style=\"width: 456px;\">\n",
                            "            <div class=\"title\">Dataset</div>\n",
                            "            <ul>\n",
                            "                <li>features: [ X , y , group_a , group_b ]</li>\n",
                            "                <li>num_rows: 80</li>\n",
                            "            </ul>\n",
                            "        </div>\n",
                            "        \n",
                            "            </div>\n",
                            "        </body>\n",
                            "        "
                        ],
                        "text/plain": [
                            "Dataset({\n",
                            "        features: ['X', 'y', 'group_a', 'group_b'],\n",
                            "        num_rows: 80\n",
                            "    })"
                        ]
                    },
                    "execution_count": 6,
                    "metadata": {},
                    "output_type": "execute_result"
                }
            ],
            "source": [
                "from holisticai.datasets import load_dataset\n",
                "\n",
                "dataset = load_dataset('clinical_records')\n",
                "dataset = dataset.groupby(['group_a','y']).sample(20)\n",
                "dataset"
            ]
        },
        {
            "cell_type": "code",
            "execution_count": 7,
            "metadata": {},
            "outputs": [
                {
                    "data": {
                        "text/plain": [
                            "<Axes: title={'center': 'Frequency Plot'}, xlabel='Group', ylabel='Frequency'>"
                        ]
                    },
                    "execution_count": 7,
                    "metadata": {},
                    "output_type": "execute_result"
                },
                {
                    "data": {
                        "image/png": "[encoded data removed]",
                        "text/plain": [
                            "<Figure size 1500x500 with 2 Axes>"
                        ]
                    },
                    "metadata": {},
                    "output_type": "display_data"
                }
            ],
            "source": [
                "from holisticai.bias.plots import group_pie_plot, frequency_plot\n",
                "\n",
                "group_a = dataset['group_a']\n",
                "group_b = dataset['group_b']\n",
                "y = dataset['y']\n",
                "\n",
                "fig,axs = plt.subplots(1, 2, figsize=(15,5))\n",
                "group_pie_plot(group_a, ax=axs[0], title='Group Pie Plot')\n",
                "frequency_plot(group_b, y, ax=axs[1], title='Frequency Plot')"
            ]
        },
        {
            "attachments": {},
            "cell_type": "markdown",
            "metadata": {},
            "source": [
                "## **2. Train Baseline**\n",
                "\n",
                "Once we have defined the input and output sets, we can train a model as usual. Since the protected groups were separated from the dataset previously we do not need to take care of that in this opportunity, but do not forget to separate the protected attributes from the dataset, so that the model does not have any influence from these attributes in its training process. \n",
                "\n",
                "To train our baseline, we will use a traditional pipeline, we will fit and re-scale the training data, and then we will use the data to train a \"K-means\" model and once the model has been trained, we can use its predictions to calculate the fairness metrics of the it."
            ]
        },
        {
            "cell_type": "code",
            "execution_count": 8,
            "metadata": {},
            "outputs": [
                {
                    "data": {
                        "image/png": "[encoded data removed]",
                        "text/plain": [
                            "<Figure size 1000x600 with 1 Axes>"
                        ]
                    },
                    "metadata": {},
                    "output_type": "display_data"
                }
            ],
            "source": [
                "from sklearn.cluster import KMeans\n",
                "from sklearn.preprocessing import StandardScaler\n",
                "\n",
                "ks = range(1, 8)\n",
                "inertias = []\n",
                "X = dataset['X']\n",
                "\n",
                "scaler = StandardScaler()\n",
                "X_t = scaler.fit_transform(X)\n",
                "\n",
                "for k in ks:\n",
                "    model = KMeans(n_clusters = k)\n",
                "    model.fit(X_t)\n",
                "    inertias.append(model.inertia_)\n",
                "\n",
                "# Plot ks vs inertias\n",
                "plt.figure(figsize=(10,6))\n",
                "plt.plot(ks, inertias, '-o')\n",
                "plt.xlabel('Number of Clusters, k')\n",
                "plt.ylabel('Inertia')\n",
                "plt.xticks(ks)\n",
                "plt.show()"
            ]
        },
        {
            "cell_type": "markdown",
            "metadata": {},
            "source": [
                "### **2.1 Bias measuring**\n",
                "\n",
                "The fairness of the model can be calculated using the predictions of the model and the protected groups defined previously. The `holisticai` contains a module that calculates a set of metrics useful in evaluating the fairness of algorithmic decisions. For our case, we will use the `clustering_bias_metrics` function which allows us to select which metrics we want to calculate, if `equal_outcome`, `equal_opportunity` or `both`, where equal_outcome shows how disadvantaged groups are treated by the model and equal_opportunity shows if all the groups have the same opportunities."
            ]
        },
        {
            "cell_type": "code",
            "execution_count": 9,
            "metadata": {},
            "outputs": [
                {
                    "data": {
                        "text/html": [
                            "<div>\n",
                            "<style scoped>\n",
                            "    .dataframe tbody tr th:only-of-type {\n",
                            "        vertical-align: middle;\n",
                            "    }\n",
                            "\n",
                            "    .dataframe tbody tr th {\n",
                            "        vertical-align: top;\n",
                            "    }\n",
                            "\n",
                            "    .dataframe thead th {\n",
                            "        text-align: right;\n",
                            "    }\n",
                            "</style>\n",
                            "<table border=\"1\" class=\"dataframe\">\n",
                            "  <thead>\n",
                            "    <tr style=\"text-align: right;\">\n",
                            "      <th></th>\n",
                            "      <th>Value</th>\n",
                            "      <th>Reference</th>\n",
                            "    </tr>\n",
                            "    <tr>\n",
                            "      <th>Metric</th>\n",
                            "      <th></th>\n",
                            "      <th></th>\n",
                            "    </tr>\n",
                            "  </thead>\n",
                            "  <tbody>\n",
                            "    <tr>\n",
                            "      <th>Cluster Balance</th>\n",
                            "      <td>0.235294</td>\n",
                            "      <td>1</td>\n",
                            "    </tr>\n",
                            "    <tr>\n",
                            "      <th>Minimum Cluster Ratio</th>\n",
                            "      <td>0.133333</td>\n",
                            "      <td>1</td>\n",
                            "    </tr>\n",
                            "    <tr>\n",
                            "      <th>Cluster Distribution Total Variation</th>\n",
                            "      <td>0.325000</td>\n",
                            "      <td>0</td>\n",
                            "    </tr>\n",
                            "    <tr>\n",
                            "      <th>Cluster Distribution KL Div</th>\n",
                            "      <td>0.367350</td>\n",
                            "      <td>0</td>\n",
                            "    </tr>\n",
                            "    <tr>\n",
                            "      <th>Social Fairness Ratio</th>\n",
                            "      <td>1.126371</td>\n",
                            "      <td>1</td>\n",
                            "    </tr>\n",
                            "    <tr>\n",
                            "      <th>Silhouette Difference</th>\n",
                            "      <td>-0.029522</td>\n",
                            "      <td>0</td>\n",
                            "    </tr>\n",
                            "  </tbody>\n",
                            "</table>\n",
                            "</div>"
                        ],
                        "text/plain": [
                            "                                         Value  Reference\n",
                            "Metric                                                   \n",
                            "Cluster Balance                       0.235294          1\n",
                            "Minimum Cluster Ratio                 0.133333          1\n",
                            "Cluster Distribution Total Variation  0.325000          0\n",
                            "Cluster Distribution KL Div           0.367350          0\n",
                            "Social Fairness Ratio                 1.126371          1\n",
                            "Silhouette Difference                -0.029522          0"
                        ]
                    },
                    "execution_count": 9,
                    "metadata": {},
                    "output_type": "execute_result"
                }
            ],
            "source": [
                "from holisticai.bias.metrics import clustering_bias_metrics\n",
                "\n",
                "# we choose to use 3 clusters\n",
                "model = KMeans(n_clusters = 3, random_state=42)\n",
                "model.fit(X_t)\n",
                "\n",
                "# predict\n",
                "y_pred = model.predict(X_t)\n",
                "\n",
                "centroids = model.cluster_centers_\n",
                "\n",
                "df_baseline = clustering_bias_metrics(group_a, group_b, y_pred, data = X_t, centroids = centroids, metric_type = 'equal_outcome')\n",
                "df_baseline"
            ]
        },
        {
            "attachments": {},
            "cell_type": "markdown",
            "metadata": {},
            "source": [
                "1. **Cluster Balance:** Given a clustering and protected attribute. The cluster balance is the minimum over all groups and clusters of the ratio of the representation of members of that group in that cluster to the representation overall. A value of 1 is desired. That is when all clusters have the exact same representation as the data. Lower values imply the existence of clusters where either group_a or group_b is underrepresented.\n",
                "\n",
                "2. **Minimum Cluster Ratio:** Given a clustering and protected attributes. The min cluster ratio is the minimum over all clusters of the ratio of number of group_a members to the number of group_b members. A value of 1 is desired. That is when all clusters are perfectly balanced. Low values imply the existence of clusters where group_a has fewer members than group_b.\n",
                "\n",
                "3. **Cluster Distribution Total Variation:** This function computes the distribution of group_a and group_b across clusters. It then outputs the total variation distance between these distributions. A value of 0 is desired. That indicates that both groups are distributed similarly amongst the clusters. The metric ranges between 0 and 1, with higher values indicating the groups are distributed in very different ways.\n",
                "\n",
                "4. **Cluster Distribution KL Div:** This function computes the distribution of group_a and group_b membership across the clusters. It then returns the KL distance from the distribution of group_a to the distribution of group_b. A value of 0 is desired. That indicates that both groups are distributed similarly amongst the clusters. Higher values indicate the distributions of both groups amongst the clusters differ more.\n",
                "\n",
                "5. **Social Fairness Ratio:** Given a centroid based clustering, this function compute the average distance to the nearest centroid for both groups. The metric is the ratio of the resulting distance for group_a to group_b. A value of 1 is desired. Lower values indicate the group_a is on average closer to the respective centroids. Higher values indicate that group_a is on average further from the respective centroids.\n",
                "\n",
                "6. **Silhouette Difference:** We compute the difference of the mean silhouette score for both groups. The silhouette difference ranges from -1 to 1, with lower values indicating bias towards group_a and larger values indicating bias against group_b.\n"
            ]
        },
        {
            "attachments": {},
            "cell_type": "markdown",
            "metadata": {},
            "source": [
                "## 3. Train Model with Mitigator"
            ]
        },
        {
            "attachments": {},
            "cell_type": "markdown",
            "metadata": {},
            "source": [
                "### Post-processing: MCMF Clustering"
            ]
        },
        {
            "attachments": {},
            "cell_type": "markdown",
            "metadata": {},
            "source": [
                "The **MCMF Clustering** is focused on the minimal change it so that the clustering is still of good quality and fairer."
            ]
        },
        {
            "attachments": {},
            "cell_type": "markdown",
            "metadata": {},
            "source": [
                "#### Traditional Implementation"
            ]
        },
        {
            "cell_type": "code",
            "execution_count": 10,
            "metadata": {},
            "outputs": [
                {
                    "name": "stderr",
                    "output_type": "stream",
                    "text": [
                        "100%|██████████| 2/2 [00:00<00:00, 7244.05it/s]\n",
                        "100%|██████████| 2/2 [00:00<00:00, 3960.63it/s]\n",
                        "100%|██████████| 80/80 [00:00<00:00, 15167.90it/s]"
                    ]
                },
                {
                    "name": "stdout",
                    "output_type": "stream",
                    "text": [
                        "2603.3007209520256\n"
                    ]
                },
                {
                    "name": "stderr",
                    "output_type": "stream",
                    "text": [
                        "\n"
                    ]
                },
                {
                    "data": {
                        "text/html": [
                            "<div>\n",
                            "<style scoped>\n",
                            "    .dataframe tbody tr th:only-of-type {\n",
                            "        vertical-align: middle;\n",
                            "    }\n",
                            "\n",
                            "    .dataframe tbody tr th {\n",
                            "        vertical-align: top;\n",
                            "    }\n",
                            "\n",
                            "    .dataframe thead th {\n",
                            "        text-align: right;\n",
                            "    }\n",
                            "</style>\n",
                            "<table border=\"1\" class=\"dataframe\">\n",
                            "  <thead>\n",
                            "    <tr style=\"text-align: right;\">\n",
                            "      <th></th>\n",
                            "      <th>Value</th>\n",
                            "      <th>Reference</th>\n",
                            "    </tr>\n",
                            "    <tr>\n",
                            "      <th>Metric</th>\n",
                            "      <th></th>\n",
                            "      <th></th>\n",
                            "    </tr>\n",
                            "  </thead>\n",
                            "  <tbody>\n",
                            "    <tr>\n",
                            "      <th>Cluster Balance</th>\n",
                            "      <td>0.974359</td>\n",
                            "      <td>1</td>\n",
                            "    </tr>\n",
                            "    <tr>\n",
                            "      <th>Minimum Cluster Ratio</th>\n",
                            "      <td>0.952381</td>\n",
                            "      <td>1</td>\n",
                            "    </tr>\n",
                            "    <tr>\n",
                            "      <th>Cluster Distribution Total Variation</th>\n",
                            "      <td>0.025000</td>\n",
                            "      <td>0</td>\n",
                            "    </tr>\n",
                            "    <tr>\n",
                            "      <th>Cluster Distribution KL Div</th>\n",
                            "      <td>0.001252</td>\n",
                            "      <td>0</td>\n",
                            "    </tr>\n",
                            "    <tr>\n",
                            "      <th>Social Fairness Ratio</th>\n",
                            "      <td>1.068759</td>\n",
                            "      <td>1</td>\n",
                            "    </tr>\n",
                            "    <tr>\n",
                            "      <th>Silhouette Difference</th>\n",
                            "      <td>-0.025261</td>\n",
                            "      <td>0</td>\n",
                            "    </tr>\n",
                            "  </tbody>\n",
                            "</table>\n",
                            "</div>"
                        ],
                        "text/plain": [
                            "                                         Value  Reference\n",
                            "Metric                                                   \n",
                            "Cluster Balance                       0.974359          1\n",
                            "Minimum Cluster Ratio                 0.952381          1\n",
                            "Cluster Distribution Total Variation  0.025000          0\n",
                            "Cluster Distribution KL Div           0.001252          0\n",
                            "Social Fairness Ratio                 1.068759          1\n",
                            "Silhouette Difference                -0.025261          0"
                        ]
                    },
                    "execution_count": 10,
                    "metadata": {},
                    "output_type": "execute_result"
                }
            ],
            "source": [
                "from holisticai.bias.mitigation.postprocessing import MCMF\n",
                "from holisticai.bias.metrics import clustering_bias_metrics\n",
                "\n",
                "model = KMeans(n_clusters=2, random_state=42)\n",
                "\n",
                "# fit the model\n",
                "model.fit(X_t)\n",
                "y_pred = model.predict(X_t)\n",
                "\n",
                "# post processing\n",
                "post_processer = MCMF(metric='L1', verbose=1)\n",
                "y_pred = post_processer.fit_transform(X_t, y_pred, group_a, group_b, model.cluster_centers_)['y_pred']\n",
                "\n",
                "centroids = model.cluster_centers_\n",
                "\n",
                "df_mcmf = clustering_bias_metrics(group_a, group_b, y_pred, data = X_t, centroids = centroids, metric_type = 'equal_outcome')\n",
                "df_mcmf"
            ]
        },
        {
            "cell_type": "code",
            "execution_count": 11,
            "metadata": {},
            "outputs": [
                {
                    "name": "stderr",
                    "output_type": "stream",
                    "text": [
                        "100%|██████████| 2/2 [00:00<00:00, 5629.94it/s]\n",
                        "100%|██████████| 2/2 [00:00<00:00, 5252.73it/s]\n",
                        "100%|██████████| 80/80 [00:00<00:00, 10318.73it/s]\n"
                    ]
                },
                {
                    "name": "stdout",
                    "output_type": "stream",
                    "text": [
                        "2603.3007209520256\n"
                    ]
                },
                {
                    "name": "stderr",
                    "output_type": "stream",
                    "text": [
                        "100%|██████████| 2/2 [00:00<00:00, 4315.13it/s]\n",
                        "100%|██████████| 2/2 [00:00<00:00, 5829.47it/s]\n",
                        "100%|██████████| 80/80 [00:00<00:00, 13902.23it/s]\n"
                    ]
                },
                {
                    "name": "stdout",
                    "output_type": "stream",
                    "text": [
                        "892.8556170120858\n"
                    ]
                },
                {
                    "name": "stderr",
                    "output_type": "stream",
                    "text": [
                        "100%|██████████| 2/2 [00:00<00:00, 4247.40it/s]\n",
                        "100%|██████████| 2/2 [00:00<00:00, 5312.61it/s]\n",
                        "100%|██████████| 80/80 [00:00<00:00, 11531.13it/s]\n"
                    ]
                },
                {
                    "name": "stdout",
                    "output_type": "stream",
                    "text": [
                        "-40\n"
                    ]
                },
                {
                    "data": {
                        "image/png": "[encoded data removed]",
                        "text/plain": [
                            "<Figure size 640x480 with 1 Axes>"
                        ]
                    },
                    "metadata": {},
                    "output_type": "display_data"
                }
            ],
            "source": [
                "# fit the model\n",
                "model.fit(X_t)\n",
                "y_pred = model.predict(X_t)\n",
                "\n",
                "# post processing\n",
                "metric_names = ['Cluster Balance', 'Minimum Cluster Ratio', 'Cluster Distribution Total Variation', 'Cluster Distribution KL Div', 'Social Fairness Ratio', 'Silhouette Difference']\n",
                "metric_mcmf = ['L1', 'L2', 'constant']\n",
                "\n",
                "metric_values = []\n",
                "for j in metric_mcmf:\n",
                "    # fit the model\n",
                "    model.fit(X_t)\n",
                "    y_pred = model.predict(X_t)\n",
                "\n",
                "    # post processing\n",
                "    post_processer = MCMF(metric = j, verbose=1)\n",
                "    y_pred_range = post_processer.fit_transform(X_t, y_pred, group_a, group_b, model.cluster_centers_)['y_pred']\n",
                "\n",
                "    centroids_range = model.cluster_centers_\n",
                "\n",
                "    df_fair_mcmf_range = clustering_bias_metrics(group_a, group_b, y_pred_range, data = X_t, centroids = centroids_range,  metric_type = 'equal_outcome')\n",
                "    metric_values.append(df_fair_mcmf_range['Value'].T)\n",
                "\n",
                "df_metrics = pd.DataFrame(np.array(metric_values).flatten().reshape(-1,6), columns=metric_names).set_index([metric_mcmf])\n",
                "\n",
                "plt.plot(df_metrics['Silhouette Difference'], '-')\n",
                "plt.xlabel('Number of clusters')\n",
                "plt.ylabel('Metric value')\n",
                "plt.title('Silhouette Difference')\n",
                "\n",
                "plt.tight_layout()\n",
                "plt.show()"
            ]
        },
        {
            "attachments": {},
            "cell_type": "markdown",
            "metadata": {},
            "source": [
                "## 4. Using Pipeline\n",
                "\n",
                "Now that we could see how this method is implemented traditionally, let's try implementing it by using the Scikit-learn Pipeline! Notice that we shouldn't have variations in the metrics for the previous implementation."
            ]
        },
        {
            "cell_type": "code",
            "execution_count": 12,
            "metadata": {},
            "outputs": [
                {
                    "name": "stderr",
                    "output_type": "stream",
                    "text": [
                        "100%|██████████| 2/2 [00:00<00:00, 6204.59it/s]\n",
                        "100%|██████████| 2/2 [00:00<00:00, 6610.41it/s]\n",
                        "100%|██████████| 80/80 [00:00<00:00, 13408.36it/s]"
                    ]
                },
                {
                    "name": "stdout",
                    "output_type": "stream",
                    "text": [
                        "2603.3007209520256\n"
                    ]
                },
                {
                    "name": "stderr",
                    "output_type": "stream",
                    "text": [
                        "\n"
                    ]
                },
                {
                    "data": {
                        "text/html": [
                            "<div>\n",
                            "<style scoped>\n",
                            "    .dataframe tbody tr th:only-of-type {\n",
                            "        vertical-align: middle;\n",
                            "    }\n",
                            "\n",
                            "    .dataframe tbody tr th {\n",
                            "        vertical-align: top;\n",
                            "    }\n",
                            "\n",
                            "    .dataframe thead th {\n",
                            "        text-align: right;\n",
                            "    }\n",
                            "</style>\n",
                            "<table border=\"1\" class=\"dataframe\">\n",
                            "  <thead>\n",
                            "    <tr style=\"text-align: right;\">\n",
                            "      <th></th>\n",
                            "      <th>Value</th>\n",
                            "      <th>Reference</th>\n",
                            "    </tr>\n",
                            "    <tr>\n",
                            "      <th>Metric</th>\n",
                            "      <th></th>\n",
                            "      <th></th>\n",
                            "    </tr>\n",
                            "  </thead>\n",
                            "  <tbody>\n",
                            "    <tr>\n",
                            "      <th>Cluster Balance</th>\n",
                            "      <td>0.974359</td>\n",
                            "      <td>1</td>\n",
                            "    </tr>\n",
                            "    <tr>\n",
                            "      <th>Minimum Cluster Ratio</th>\n",
                            "      <td>0.952381</td>\n",
                            "      <td>1</td>\n",
                            "    </tr>\n",
                            "    <tr>\n",
                            "      <th>Cluster Distribution Total Variation</th>\n",
                            "      <td>0.025000</td>\n",
                            "      <td>0</td>\n",
                            "    </tr>\n",
                            "    <tr>\n",
                            "      <th>Cluster Distribution KL Div</th>\n",
                            "      <td>0.001252</td>\n",
                            "      <td>0</td>\n",
                            "    </tr>\n",
                            "    <tr>\n",
                            "      <th>Social Fairness Ratio</th>\n",
                            "      <td>1.068759</td>\n",
                            "      <td>1</td>\n",
                            "    </tr>\n",
                            "    <tr>\n",
                            "      <th>Silhouette Difference</th>\n",
                            "      <td>-0.025261</td>\n",
                            "      <td>0</td>\n",
                            "    </tr>\n",
                            "  </tbody>\n",
                            "</table>\n",
                            "</div>"
                        ],
                        "text/plain": [
                            "                                         Value  Reference\n",
                            "Metric                                                   \n",
                            "Cluster Balance                       0.974359          1\n",
                            "Minimum Cluster Ratio                 0.952381          1\n",
                            "Cluster Distribution Total Variation  0.025000          0\n",
                            "Cluster Distribution KL Div           0.001252          0\n",
                            "Social Fairness Ratio                 1.068759          1\n",
                            "Silhouette Difference                -0.025261          0"
                        ]
                    },
                    "execution_count": 12,
                    "metadata": {},
                    "output_type": "execute_result"
                }
            ],
            "source": [
                "from holisticai.pipeline import Pipeline\n",
                "\n",
                "post_processer = MCMF(metric='L1', verbose=1)\n",
                "pipeline = Pipeline(steps=[\n",
                "    ('model', model),\n",
                "    ('bm_postprocessing', post_processer)\n",
                "])\n",
                "\n",
                "pipeline.fit(X_t)\n",
                "predict_params = {'bm__group_a':group_a,\n",
                "                  'bm__group_b':group_b,\n",
                "                  'bm__centroids':\"cluster_centers_\"}\n",
                "\n",
                "y_pred = pipeline.predict(X_t,**predict_params )\n",
                "\n",
                "df_mcmf_w_p = clustering_bias_metrics(group_a, group_b, y_pred, X_t, centroids=pipeline['model'].cluster_centers_, metric_type='equal_outcome')\n",
                "df_mcmf_w_p"
            ]
        },
        {
            "attachments": {},
            "cell_type": "markdown",
            "metadata": {},
            "source": [
                "## 5. Summary"
            ]
        },
        {
            "attachments": {},
            "cell_type": "markdown",
            "metadata": {},
            "source": [
                "#### Compare Results"
            ]
        },
        {
            "cell_type": "code",
            "execution_count": 13,
            "metadata": {},
            "outputs": [
                {
                    "data": {
                        "text/html": [
                            "<div>\n",
                            "<style scoped>\n",
                            "    .dataframe tbody tr th:only-of-type {\n",
                            "        vertical-align: middle;\n",
                            "    }\n",
                            "\n",
                            "    .dataframe tbody tr th {\n",
                            "        vertical-align: top;\n",
                            "    }\n",
                            "\n",
                            "    .dataframe thead th {\n",
                            "        text-align: right;\n",
                            "    }\n",
                            "</style>\n",
                            "<table border=\"1\" class=\"dataframe\">\n",
                            "  <thead>\n",
                            "    <tr style=\"text-align: right;\">\n",
                            "      <th></th>\n",
                            "      <th>Baseline</th>\n",
                            "      <th>Mitigator without pipeline</th>\n",
                            "      <th>Mitigator with pipeline</th>\n",
                            "      <th>Reference</th>\n",
                            "    </tr>\n",
                            "    <tr>\n",
                            "      <th>Metric</th>\n",
                            "      <th></th>\n",
                            "      <th></th>\n",
                            "      <th></th>\n",
                            "      <th></th>\n",
                            "    </tr>\n",
                            "  </thead>\n",
                            "  <tbody>\n",
                            "    <tr>\n",
                            "      <th>Cluster Balance</th>\n",
                            "      <td>0.235294</td>\n",
                            "      <td>0.974359</td>\n",
                            "      <td>0.974359</td>\n",
                            "      <td>1</td>\n",
                            "    </tr>\n",
                            "    <tr>\n",
                            "      <th>Minimum Cluster Ratio</th>\n",
                            "      <td>0.133333</td>\n",
                            "      <td>0.952381</td>\n",
                            "      <td>0.952381</td>\n",
                            "      <td>1</td>\n",
                            "    </tr>\n",
                            "    <tr>\n",
                            "      <th>Cluster Distribution Total Variation</th>\n",
                            "      <td>0.325000</td>\n",
                            "      <td>0.025000</td>\n",
                            "      <td>0.025000</td>\n",
                            "      <td>0</td>\n",
                            "    </tr>\n",
                            "    <tr>\n",
                            "      <th>Cluster Distribution KL Div</th>\n",
                            "      <td>0.367350</td>\n",
                            "      <td>0.001252</td>\n",
                            "      <td>0.001252</td>\n",
                            "      <td>0</td>\n",
                            "    </tr>\n",
                            "    <tr>\n",
                            "      <th>Social Fairness Ratio</th>\n",
                            "      <td>1.126371</td>\n",
                            "      <td>1.068759</td>\n",
                            "      <td>1.068759</td>\n",
                            "      <td>1</td>\n",
                            "    </tr>\n",
                            "    <tr>\n",
                            "      <th>Silhouette Difference</th>\n",
                            "      <td>-0.029522</td>\n",
                            "      <td>-0.025261</td>\n",
                            "      <td>-0.025261</td>\n",
                            "      <td>0</td>\n",
                            "    </tr>\n",
                            "  </tbody>\n",
                            "</table>\n",
                            "</div>"
                        ],
                        "text/plain": [
                            "                                      Baseline  Mitigator without pipeline  \\\n",
                            "Metric                                                                       \n",
                            "Cluster Balance                       0.235294                    0.974359   \n",
                            "Minimum Cluster Ratio                 0.133333                    0.952381   \n",
                            "Cluster Distribution Total Variation  0.325000                    0.025000   \n",
                            "Cluster Distribution KL Div           0.367350                    0.001252   \n",
                            "Social Fairness Ratio                 1.126371                    1.068759   \n",
                            "Silhouette Difference                -0.029522                   -0.025261   \n",
                            "\n",
                            "                                      Mitigator with pipeline  Reference  \n",
                            "Metric                                                                    \n",
                            "Cluster Balance                                      0.974359          1  \n",
                            "Minimum Cluster Ratio                                0.952381          1  \n",
                            "Cluster Distribution Total Variation                 0.025000          0  \n",
                            "Cluster Distribution KL Div                          0.001252          0  \n",
                            "Social Fairness Ratio                                1.068759          1  \n",
                            "Silhouette Difference                               -0.025261          0  "
                        ]
                    },
                    "execution_count": 13,
                    "metadata": {},
                    "output_type": "execute_result"
                }
            ],
            "source": [
                "result = pd.concat([df_baseline, df_mcmf, df_mcmf_w_p], axis=1).iloc[:, [0,2,4,1]]\n",
                "result.columns = ['Baseline','Mitigator without pipeline',\"Mitigator with pipeline\", 'Reference']\n",
                "result"
            ]
        },
        {
            "attachments": {},
            "cell_type": "markdown",
            "metadata": {},
            "source": [
                "Through this tutorial we could present to the user how the `holisticai` library can be easily used to measure the bias present in clustering models by the application of the `clustering_bias_metrics` function, which returns the calculated values for different metrics and their references respectively. \n",
                "\n",
                "In addition, we shown how to mitigate the bias by applying some methods, for this opportunity we applied the **MCMF Clustering** to train a fairness model, "
            ]
        }
    ],
    "metadata": {
        "kernelspec": {
            "display_name": "Python 3",
            "language": "python",
            "name": "python3"
        },
        "language_info": {
            "codemirror_mode": {
                "name": "ipython",
                "version": 3
            },
            "file_extension": ".py",
            "mimetype": "text/x-python",
            "name": "python",
            "nbconvert_exporter": "python",
            "pygments_lexer": "ipython3",
            "version": "3.10.10"
        },
        "orig_nbformat": 4
    },
    "nbformat": 4,
    "nbformat_minor": 2
}
