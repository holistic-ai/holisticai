{
  "cells": [
    {
      "cell_type": "markdown",
      "metadata": {},
      "source": [
        "## Packages Installation\n",
        "\n",
        "First, install the `holisticai` package if you haven't already:\n",
        "```bash\n",
        "!pip install holisticai[all]\n",
        "```\n",
        "Then, import the necessary libraries."
      ]
    },
    {
      "cell_type": "code",
      "execution_count": 1,
      "metadata": {},
      "outputs": [],
      "source": [
        "import warnings\n",
        "\n",
        "import pandas as pd\n",
        "from holisticai.bias.metrics import multiclass_bias_metrics\n",
        "from holisticai.datasets import load_dataset\n",
        "from holisticai.pipeline import Pipeline\n",
        "from sklearn.preprocessing import StandardScaler\n",
        "\n",
        "warnings.filterwarnings(\"ignore\")"
      ]
    },
    {
      "cell_type": "markdown",
      "metadata": {},
      "source": [
        "## Data Loading"
      ]
    },
    {
      "cell_type": "code",
      "execution_count": 2,
      "metadata": {},
      "outputs": [],
      "source": [
        "dataset = load_dataset('us_crime_multiclass')\n",
        "train_test = dataset.train_test_split(test_size=0.2, random_state=42)\n",
        "\n",
        "train = train_test['train']\n",
        "test = train_test['test']"
      ]
    },
    {
      "cell_type": "markdown",
      "metadata": {},
      "source": [
        "# 1. Fair Scoring Classifier"
      ]
    },
    {
      "attachments": {},
      "cell_type": "markdown",
      "metadata": {
        "id": "NJkMSL2_YDRC"
      },
      "source": [
        "### Traditional implementation"
      ]
    },
    {
      "cell_type": "code",
      "execution_count": null,
      "metadata": {
        "colab": {
          "base_uri": "https://localhost:8080/",
          "height": 887
        },
        "id": "MzL49e-CMTAE",
        "outputId": "e26622aa-68ab-4a22-ea7c-be55a8424a31"
      },
      "outputs": [],
      "source": [
        "from holisticai.bias.mitigation import FairScoreClassifier\n",
        "\n",
        "# fit the mitigator\n",
        "mitigator = FairScoreClassifier(objectives=\"ba\", constraints={}, time_limit=200)\n",
        "scaler = StandardScaler()\n",
        "X_train = scaler.fit_transform(train['X'])\n",
        "mitigator.fit(X_train, train['y'], train['group_a'], train['group_b'])\n",
        "\n",
        "# predict the test set\n",
        "X_test = scaler.transform(test['X'])\n",
        "y_pred = mitigator.predict(X_test, test['group_a'], test['group_b'])\n",
        "\n",
        "# compute bias metrics\n",
        "metrics = multiclass_bias_metrics(test['p_attr'], y_pred, test['y'], metric_type='both')\n",
        "metrics"
      ]
    },
    {
      "cell_type": "markdown",
      "metadata": {},
      "source": [
        "### Pipeline implementation"
      ]
    },
    {
      "cell_type": "code",
      "execution_count": null,
      "metadata": {
        "colab": {
          "base_uri": "https://localhost:8080/",
          "height": 887
        },
        "id": "XIePiA98MS9e",
        "outputId": "76a11470-9207-41fd-e736-b1fb05ab6c4c"
      },
      "outputs": [],
      "source": [
        "mitigator = FairScoreClassifier(objectives=\"ba\", constraints={}, time_limit=200)\n",
        "\n",
        "# set pipeline\n",
        "pipeline = Pipeline(steps=[('scalar', StandardScaler()),(\"bm_inprocessing\", mitigator),])\n",
        "pipeline.fit(train['X'], train['y'], bm__group_a=train['group_a'], bm__group_b=train['group_b'])\n",
        "\n",
        "# predict\n",
        "y_pred = pipeline.predict(test['X'], bm__group_a=test['group_a'], bm__group_b=test['group_b'])\n",
        "\n",
        "# compute bias metrics\n",
        "metrics_pipeline = multiclass_bias_metrics(test['p_attr'], y_pred, test['y'], metric_type='both')\n",
        "metrics_pipeline"
      ]
    },
    {
      "cell_type": "markdown",
      "metadata": {},
      "source": [
        "### Comparison"
      ]
    },
    {
      "cell_type": "code",
      "execution_count": null,
      "metadata": {
        "colab": {
          "base_uri": "https://localhost:8080/",
          "height": 331
        },
        "id": "jsQJq1ozMS6t",
        "outputId": "3c2a8e7f-3e02-4ba5-9f60-6496248b15ef"
      },
      "outputs": [],
      "source": [
        "pd.concat([metrics['Value'], metrics_pipeline], axis=1, keys=['Traditional', 'Pipeline'])"
      ]
    }
  ],
  "metadata": {
    "colab": {
      "provenance": []
    },
    "kernelspec": {
      "display_name": "Python 3",
      "name": "python3"
    },
    "language_info": {
      "codemirror_mode": {
        "name": "ipython",
        "version": 3
      },
      "file_extension": ".py",
      "mimetype": "text/x-python",
      "name": "python",
      "nbconvert_exporter": "python",
      "pygments_lexer": "ipython3",
      "version": "3.11.9"
    }
  },
  "nbformat": 4,
  "nbformat_minor": 0
}
