{
  "cells": [
    {
      "cell_type": "code",
      "execution_count": 1,
      "metadata": {},
      "outputs": [],
      "source": [
        "import os, sys\n",
        "\n",
        "dirpath = os.path.join( '/'.join(os.getcwd().split(\"/\")[:-5]), 'src')\n",
        "sys.path.insert(0, dirpath)"
      ]
    },
    {
      "attachments": {},
      "cell_type": "markdown",
      "metadata": {
        "id": "IXSgZwJxUyb5"
      },
      "source": [
        "# **Bias measuring and mitigation in multiclassification tasks**\n",
        "\n",
        "With the increasing use of machine learning models in different areas, it has become important to address the bias problem in these models. This issue can appear in different aspects such as racial, gender or socioeconomic biases leading to unfair outcomes in decision-making processes, for instance, in classification tasks, where models are trained to classify data into different categories.\n",
        "\n",
        "There are various techniques to measure bias in classification models such as Equalized Odds, Statistical or Demographic Parity or Opportunity Equality for instance, which quantify the differences in the model's performance across different subgroups based on sensitive attributes such as gender or race.\n",
        "\n",
        "Once bias is detected, we can employ different techniques to mitigate it. These methods can be grouped into three categories: Pre-processing, in-processing and post-processing methods. Pre-processing techniques are used to adjust the training data to remove bias, while in-processing methods are applied to build robust models against bias. Finally, post-processing techniques are used to adjust the model's predictions to remove bias.\n",
        "\n",
        "Through this tutorial, we pretend to present you tools which can be easily applied to measure and mitigate the presence of bias in multi-classification models.\n",
        "\n",
        "We will follow the traditional outline for this tutorial:\n",
        "\n",
        "1. Data loading and packages installation\n",
        "2. Dataset preprocessing\n",
        "3. Data analysis\n",
        "4. Model training\n",
        "5. Bias measuring\n",
        "6. Bias mitigation\n",
        "7. Results comparison"
      ]
    },
    {
      "attachments": {},
      "cell_type": "markdown",
      "metadata": {
        "id": "xDS4dmXjU3Op"
      },
      "source": [
        "## **1. Data loading and packages installation**\n",
        "\n",
        "First of all, we need to import the required packages to perform our bias analysis and mitigation. You will need to have the `holisticai` package installed on your system, remember that you can install it by running: \n",
        "```bash\n",
        "!pip install holisticai\n",
        "```"
      ]
    },
    {
      "attachments": {},
      "cell_type": "markdown",
      "metadata": {
        "id": "Ru2-FMt3dDOO"
      },
      "source": [
        "Next, we need to import all the required packages that we will use along this tutorial:"
      ]
    },
    {
      "cell_type": "code",
      "execution_count": 2,
      "metadata": {
        "id": "dSNA5re8F1_7"
      },
      "outputs": [],
      "source": [
        "import numpy as np\n",
        "import pandas as pd\n",
        "import matplotlib.pyplot as plt\n",
        "\n",
        "# Settings\n",
        "np.random.seed(0)\n",
        "import warnings\n",
        "warnings.filterwarnings(\"ignore\")"
      ]
    },
    {
      "attachments": {},
      "cell_type": "markdown",
      "metadata": {
        "id": "FnjyWE5rWT7f"
      },
      "source": [
        "## **2. Dataset preprocessing**"
      ]
    },
    {
      "attachments": {},
      "cell_type": "markdown",
      "metadata": {
        "id": "BvL-AtNyVC1l"
      },
      "source": [
        "The dataset that we will use is the \"Communities and Crime\" dataset which is a publicly available dataset that contains socio-economic and law enforcement data for 1994 communities in the United States. This dataset contains demographic variables such as population size, race, and education level, as well as variables related to law enforcement. Although this dataset is widely used for regression analysis, in this opportunity we will slightly transform the output to use it in a multi-class task. Then, the objective is to predict the crime rate per capita in each community according the assigned class.\n",
        "\n",
        "Source: [UCI ML repository](https://archive.ics.uci.edu/ml/datasets/communities+and+crime)"
      ]
    },
    {
      "cell_type": "code",
      "execution_count": 3,
      "metadata": {
        "colab": {
          "base_uri": "https://localhost:8080/"
        },
        "id": "e57rFDhqiQIo",
        "outputId": "9e371783-0444-4fae-e70f-148f71f779a9"
      },
      "outputs": [
        {
          "data": {
            "text/html": [
              "<div style='background-color: #E3F2FD; border: 1px solid #00ACC1; padding: 20px; border-radius: 10px; color: black; font-family: \"Helvetica Neue\", Helvetica, Arial, sans-serif; line-height: 1.5; letter-spacing: 0.02em; margin: 10px; display: inline-block;'><span style='font-weight: bold;'>Dataset</span><br>{'Dataset': {'features': ['x', 'y', 'p_attr'], 'num_rows': 1993}}</div>"
            ],
            "text/plain": [
              "Dataset({\n",
              "        features: ['x', 'y', 'p_attr'],\n",
              "        num_rows: 1993\n",
              "    })"
            ]
          },
          "execution_count": 3,
          "metadata": {},
          "output_type": "execute_result"
        }
      ],
      "source": [
        "from holisticai.datasets import load_dataset\n",
        "\n",
        "dataset = load_dataset('us_crime_multiclass')\n",
        "dataset"
      ]
    },
    {
      "cell_type": "code",
      "execution_count": 4,
      "metadata": {},
      "outputs": [],
      "source": [
        "group_a = dataset['p_attr']['group_a']\n",
        "group_b = dataset['p_attr']['group_b']\n",
        "y = dataset['y']"
      ]
    },
    {
      "attachments": {},
      "cell_type": "markdown",
      "metadata": {
        "id": "wO2IDGA9WnfJ"
      },
      "source": [
        "## **3. Data analysis**\n",
        "\n",
        "Once the dataset have been preprocessed we can perform some analysis into the sex and race features in order to define the protected attribute. The `holisticai` library possesses some useful plotting tools that we can use, for example the `group_pie_plot` function that allows us to observe the proportions of the categories of the instances in a certain feature:"
      ]
    },
    {
      "cell_type": "code",
      "execution_count": 5,
      "metadata": {
        "colab": {
          "base_uri": "https://localhost:8080/",
          "height": 472
        },
        "id": "k6maOkDTWsio",
        "outputId": "a9fe0d22-42b5-4321-8d9c-9cecb7e4e10c"
      },
      "outputs": [
        {
          "data": {
            "text/plain": [
              "<Axes: title={'center': 'Group proportions'}>"
            ]
          },
          "execution_count": 5,
          "metadata": {},
          "output_type": "execute_result"
        },
        {
          "data": {
            "image/png": "[encoded data removed]",
            "text/plain": [
              "<Figure size 640x480 with 1 Axes>"
            ]
          },
          "metadata": {},
          "output_type": "display_data"
        }
      ],
      "source": [
        "from holisticai.plots.bias import group_pie_plot\n",
        "\n",
        "group_pie_plot(group_a)"
      ]
    },
    {
      "cell_type": "code",
      "execution_count": 6,
      "metadata": {},
      "outputs": [
        {
          "data": {
            "text/plain": [
              "<Axes: title={'center': 'Group proportions'}>"
            ]
          },
          "execution_count": 6,
          "metadata": {},
          "output_type": "execute_result"
        },
        {
          "data": {
            "image/png": "[encoded data removed]",
            "text/plain": [
              "<Figure size 640x480 with 1 Axes>"
            ]
          },
          "metadata": {},
          "output_type": "display_data"
        }
      ],
      "source": [
        "group_pie_plot(y['y'])"
      ]
    },
    {
      "attachments": {},
      "cell_type": "markdown",
      "metadata": {
        "id": "HKkLE1fX51aS"
      },
      "source": [
        "The previous graphs show us that the proportion of white people is high compared to the remain, and the target disctribution is almost the same for all the classes. Now, we will define our training and testing sets:"
      ]
    },
    {
      "cell_type": "code",
      "execution_count": 7,
      "metadata": {
        "id": "y5C6e775G-dB"
      },
      "outputs": [
        {
          "name": "stdout",
          "output_type": "stream",
          "text": [
            "DatasetDict({\n",
            "    train: Dataset({\n",
            "        features: ['x', 'y', 'p_attr'],\n",
            "        num_rows: 1395\n",
            "    }),\n",
            "    test: Dataset({\n",
            "        features: ['x', 'y', 'p_attr'],\n",
            "        num_rows: 598\n",
            "    })\n",
            "})\n"
          ]
        }
      ],
      "source": [
        "dataset_split = dataset.train_test_split(test_size=0.3)\n",
        "print(dataset_split)\n",
        "\n",
        "# train a model, do not forget to standard scale data\n",
        "train = dataset_split['train']\n",
        "test = dataset_split['test']\n",
        "\n",
        "group_a_test = test['p_attr']['group_a']\n",
        "group_b_test = test['p_attr']['group_b']\n",
        "group_a_train = train['p_attr']['group_a']\n",
        "group_b_train = train['p_attr']['group_b']"
      ]
    },
    {
      "attachments": {},
      "cell_type": "markdown",
      "metadata": {
        "id": "dLM7pq8aXLM3"
      },
      "source": [
        "## **4. Model training**\n",
        "\n",
        "Once we have defined the training and testing sets, we can train a model as usual. Since the protected groups were separated from the dataset previously we do not need to take care of that in this opportunity, but do not forget to separate the protected attributes from the dataset, so that the model does not have any influence from these attributes in its training process. \n",
        "\n",
        "For the training, we will start with the traditional pipeline, we will fit and re-scale the training data, and then we will train a \"Logistic regression\" model. Once the model has been trained, we will use its predictions to measure the bias present on the model with respect to the protected groups defined previoulsy."
      ]
    },
    {
      "cell_type": "code",
      "execution_count": 8,
      "metadata": {
        "id": "ppcjaxff_1Cm"
      },
      "outputs": [],
      "source": [
        "from holisticai.pipeline import Pipeline\n",
        "from sklearn.preprocessing import StandardScaler\n",
        "from sklearn.linear_model import LogisticRegression\n",
        "from holisticai.utils.transformers.bias import SensitiveGroups\n",
        "\n",
        "# efficacy metrics from sklearn\n",
        "from sklearn import metrics\n",
        "\n",
        "# dictionnary of metrics\n",
        "metrics_dict={\n",
        "        \"Accuracy\": metrics.accuracy_score,\n",
        "        \"Balanced accuracy\": metrics.balanced_accuracy_score,}\n",
        "\n",
        "# efficacy metrics dataframe helper tool\n",
        "def metrics_dataframe(y_pred, y_true, metrics_dict=metrics_dict):\n",
        "    metric_list = [[pf, fn(y_true, y_pred)] for pf, fn in metrics_dict.items()]\n",
        "    return pd.DataFrame(metric_list, columns=[\"Metric\", \"Value\"]).set_index(\"Metric\")"
      ]
    },
    {
      "cell_type": "code",
      "execution_count": 9,
      "metadata": {
        "id": "jm2p-7VuJO3R"
      },
      "outputs": [],
      "source": [
        "scaler = StandardScaler()\n",
        "X_train = scaler.fit_transform(train['x'])\n",
        "\n",
        "model = LogisticRegression()\n",
        "model.fit(X_train, train['y'])\n",
        "\n",
        "X_test = scaler.transform(test['x'])\n",
        "\n",
        "y_pred = model.predict(X_test)"
      ]
    },
    {
      "cell_type": "code",
      "execution_count": 10,
      "metadata": {
        "colab": {
          "base_uri": "https://localhost:8080/",
          "height": 143
        },
        "id": "CbT9i8xX_72W",
        "outputId": "ad3062d9-3820-4048-f76f-1929d4787a04"
      },
      "outputs": [
        {
          "data": {
            "text/html": [
              "<div>\n",
              "<style scoped>\n",
              "    .dataframe tbody tr th:only-of-type {\n",
              "        vertical-align: middle;\n",
              "    }\n",
              "\n",
              "    .dataframe tbody tr th {\n",
              "        vertical-align: top;\n",
              "    }\n",
              "\n",
              "    .dataframe thead th {\n",
              "        text-align: right;\n",
              "    }\n",
              "</style>\n",
              "<table border=\"1\" class=\"dataframe\">\n",
              "  <thead>\n",
              "    <tr style=\"text-align: right;\">\n",
              "      <th></th>\n",
              "      <th>Value</th>\n",
              "    </tr>\n",
              "    <tr>\n",
              "      <th>Metric</th>\n",
              "      <th></th>\n",
              "    </tr>\n",
              "  </thead>\n",
              "  <tbody>\n",
              "    <tr>\n",
              "      <th>Accuracy</th>\n",
              "      <td>0.645485</td>\n",
              "    </tr>\n",
              "    <tr>\n",
              "      <th>Balanced accuracy</th>\n",
              "      <td>0.651484</td>\n",
              "    </tr>\n",
              "  </tbody>\n",
              "</table>\n",
              "</div>"
            ],
            "text/plain": [
              "                      Value\n",
              "Metric                     \n",
              "Accuracy           0.645485\n",
              "Balanced accuracy  0.651484"
            ]
          },
          "execution_count": 10,
          "metadata": {},
          "output_type": "execute_result"
        }
      ],
      "source": [
        "metrics_dataframe(y_pred, test['y'], metrics_dict=metrics_dict)"
      ]
    },
    {
      "attachments": {},
      "cell_type": "markdown",
      "metadata": {
        "id": "XjpzlIICXYrf"
      },
      "source": [
        "## **5. Bias measuring**\n",
        "\n",
        "The fairness of the model can be calculated using the predictions of the model and the protected groups defined previously. The `holisticai` contains a module that calculates a set of metrics useful in evaluating the fairness of algorithmic decisions. For our case, we will use the `multiclass_bias_metrics` function which allows us to select which metrics we want to calculate, if `equal_outcome`, `equal_opportunity` or `both`, where equal_outcome shows how disadvantaged groups are treated by the model and equal_opportunity shows if all the groups have the same opportunities."
      ]
    },
    {
      "cell_type": "code",
      "execution_count": 11,
      "metadata": {
        "id": "Aln0gjmvG-ab"
      },
      "outputs": [],
      "source": [
        "from holisticai.bias.metrics import multiclass_bias_metrics\n",
        "sensgroup = SensitiveGroups()"
      ]
    },
    {
      "cell_type": "code",
      "execution_count": 12,
      "metadata": {
        "colab": {
          "base_uri": "https://localhost:8080/",
          "height": 332
        },
        "id": "WP5MwzicXZht",
        "outputId": "f4c62d18-66a5-4f7e-dc59-886f16857b6c"
      },
      "outputs": [
        {
          "data": {
            "text/html": [
              "<div>\n",
              "<style scoped>\n",
              "    .dataframe tbody tr th:only-of-type {\n",
              "        vertical-align: middle;\n",
              "    }\n",
              "\n",
              "    .dataframe tbody tr th {\n",
              "        vertical-align: top;\n",
              "    }\n",
              "\n",
              "    .dataframe thead th {\n",
              "        text-align: right;\n",
              "    }\n",
              "</style>\n",
              "<table border=\"1\" class=\"dataframe\">\n",
              "  <thead>\n",
              "    <tr style=\"text-align: right;\">\n",
              "      <th></th>\n",
              "      <th>Value</th>\n",
              "      <th>Reference</th>\n",
              "    </tr>\n",
              "    <tr>\n",
              "      <th>Metric</th>\n",
              "      <th></th>\n",
              "      <th></th>\n",
              "    </tr>\n",
              "  </thead>\n",
              "  <tbody>\n",
              "    <tr>\n",
              "      <th>Max Multiclass Statistical Parity</th>\n",
              "      <td>0.659293</td>\n",
              "      <td>0</td>\n",
              "    </tr>\n",
              "    <tr>\n",
              "      <th>Mean Multiclass Statistical Parity</th>\n",
              "      <td>0.659293</td>\n",
              "      <td>0</td>\n",
              "    </tr>\n",
              "    <tr>\n",
              "      <th>Max Multiclass Equality of Opportunity</th>\n",
              "      <td>0.327083</td>\n",
              "      <td>0</td>\n",
              "    </tr>\n",
              "    <tr>\n",
              "      <th>Max Multiclass Average Odds</th>\n",
              "      <td>0.309432</td>\n",
              "      <td>0</td>\n",
              "    </tr>\n",
              "    <tr>\n",
              "      <th>Max Multiclass True Positive Difference</th>\n",
              "      <td>0.244798</td>\n",
              "      <td>0</td>\n",
              "    </tr>\n",
              "    <tr>\n",
              "      <th>Mean Multiclass Equality of Opportunity</th>\n",
              "      <td>0.327083</td>\n",
              "      <td>0</td>\n",
              "    </tr>\n",
              "    <tr>\n",
              "      <th>Mean Multiclass Average Odds</th>\n",
              "      <td>0.309432</td>\n",
              "      <td>0</td>\n",
              "    </tr>\n",
              "    <tr>\n",
              "      <th>Mean Multiclass True Positive Difference</th>\n",
              "      <td>0.244798</td>\n",
              "      <td>0</td>\n",
              "    </tr>\n",
              "  </tbody>\n",
              "</table>\n",
              "</div>"
            ],
            "text/plain": [
              "                                             Value  Reference\n",
              "Metric                                                       \n",
              "Max Multiclass Statistical Parity         0.659293          0\n",
              "Mean Multiclass Statistical Parity        0.659293          0\n",
              "Max Multiclass Equality of Opportunity    0.327083          0\n",
              "Max Multiclass Average Odds               0.309432          0\n",
              "Max Multiclass True Positive Difference   0.244798          0\n",
              "Mean Multiclass Equality of Opportunity   0.327083          0\n",
              "Mean Multiclass Average Odds              0.309432          0\n",
              "Mean Multiclass True Positive Difference  0.244798          0"
            ]
          },
          "execution_count": 12,
          "metadata": {},
          "output_type": "execute_result"
        }
      ],
      "source": [
        "p_attr = sensgroup.fit_transform(np.stack([group_a_test, group_b_test], axis=1), convert_numeric=True)\n",
        "\n",
        "df_baseline = multiclass_bias_metrics(\n",
        "    p_attr,\n",
        "    y_pred,\n",
        "    test['y'],\n",
        "    metric_type='both'\n",
        ")\n",
        "df_baseline"
      ]
    },
    {
      "attachments": {},
      "cell_type": "markdown",
      "metadata": {
        "id": "MskcKa5MXhsz"
      },
      "source": [
        "All of the previous metrics are generalizations of the metris used for the binary case, consequently:\n",
        "\n",
        "*   **Multiclass Statistical parity:** Computes the statistical parity between multiple classes and a protected attribute with multiple groups. For each group computes the vector of success rates for entering each class, finally uses the mean or max strategies to aggregate them. Same as the 1d case, values in the range (-0.1, 0.1) are considered acceptable.\n",
        "*   **Multiclass Equality of Opportunity:** Computes the matrix of error rates for each group, then computes all distances (mean absolute deviation) between such matrices, finally uses the mean or max strategies to aggregate them. Same as the 1d case, values in the range (-0.1, 0.1) are considered acceptable.\n",
        "*   **Multiclass Average Odds:** Computes the matrix of error rates for each group, then averages these matrices over rows, and computes all pairwise distances between the resulting vectors, finally uses the mean or max strategies to aggregate them. Same as the 1d case, values in the range (-0.1, 0.1) are considered acceptable.\n",
        "*   **Multiclass True Positive Difference:** Computes the matrix of error rates for each group, then computes all pairwise distances between the diagonal of such matrices, finally uses the mean or max strategies to aggregate them. Same as the 1d case, values in the range (-0.1, 0.1) are considered acceptable.\n",
        "\n",
        "\n",
        "Source: [*HolisticAI docs*](https://holisticai.readthedocs.io/en/latest/metrics.html#multiclass-classification)"
      ]
    },
    {
      "attachments": {},
      "cell_type": "markdown",
      "metadata": {
        "id": "bChedXHnX-7t"
      },
      "source": [
        "## **6. Bias mitigation**\n",
        "### **Correlation remover: Preprocessing method**\n",
        "\n",
        "Now that we could observe that the model metrics are far away from the desired values, we need to apply some kind of strategy to mitigate the bias present in the model.\n",
        "\n",
        "Exists different kinds of strategies, and the literature has divided them into three categories: *Pre-processing*, *in-processing* and *post-processing* methods. The `holisticai` library possesses different algorithms from these categories for bias mitigation. An interesting feature is that all of them are compatible with the `Scikit-learn` package, so that, if you are familiar with this package, you will not have problems using the library. As you will see later, its implementation can be done following the traditional way, or by applying the pipeline. \n",
        "\n",
        "For this opportunity, we will implement the \"Correlation remover\" method which is a pre-processing technique that applies a linear transformation to the non-sensitive features of the dataset to remove the correlation with respect to the sensitive columns. This process is done aiming to maintain as much as possible to prevent lost information."
      ]
    },
    {
      "attachments": {},
      "cell_type": "markdown",
      "metadata": {
        "id": "NJkMSL2_YDRC"
      },
      "source": [
        "### **Traditional implementation**"
      ]
    },
    {
      "cell_type": "code",
      "execution_count": 13,
      "metadata": {
        "id": "6kfpgtQSJOzt"
      },
      "outputs": [],
      "source": [
        "from holisticai.bias.mitigation import CorrelationRemover"
      ]
    },
    {
      "cell_type": "code",
      "execution_count": 14,
      "metadata": {
        "colab": {
          "base_uri": "https://localhost:8080/",
          "height": 332
        },
        "id": "MzL49e-CMTAE",
        "outputId": "d295162d-5008-477a-f3ef-e8d23ff50ae0"
      },
      "outputs": [
        {
          "data": {
            "text/html": [
              "<div>\n",
              "<style scoped>\n",
              "    .dataframe tbody tr th:only-of-type {\n",
              "        vertical-align: middle;\n",
              "    }\n",
              "\n",
              "    .dataframe tbody tr th {\n",
              "        vertical-align: top;\n",
              "    }\n",
              "\n",
              "    .dataframe thead th {\n",
              "        text-align: right;\n",
              "    }\n",
              "</style>\n",
              "<table border=\"1\" class=\"dataframe\">\n",
              "  <thead>\n",
              "    <tr style=\"text-align: right;\">\n",
              "      <th></th>\n",
              "      <th>Value</th>\n",
              "      <th>Reference</th>\n",
              "    </tr>\n",
              "    <tr>\n",
              "      <th>Metric</th>\n",
              "      <th></th>\n",
              "      <th></th>\n",
              "    </tr>\n",
              "  </thead>\n",
              "  <tbody>\n",
              "    <tr>\n",
              "      <th>Max Multiclass Statistical Parity</th>\n",
              "      <td>0.480696</td>\n",
              "      <td>0</td>\n",
              "    </tr>\n",
              "    <tr>\n",
              "      <th>Mean Multiclass Statistical Parity</th>\n",
              "      <td>0.480696</td>\n",
              "      <td>0</td>\n",
              "    </tr>\n",
              "    <tr>\n",
              "      <th>Max Multiclass Equality of Opportunity</th>\n",
              "      <td>0.227429</td>\n",
              "      <td>0</td>\n",
              "    </tr>\n",
              "    <tr>\n",
              "      <th>Max Multiclass Average Odds</th>\n",
              "      <td>0.190711</td>\n",
              "      <td>0</td>\n",
              "    </tr>\n",
              "    <tr>\n",
              "      <th>Max Multiclass True Positive Difference</th>\n",
              "      <td>0.227429</td>\n",
              "      <td>0</td>\n",
              "    </tr>\n",
              "    <tr>\n",
              "      <th>Mean Multiclass Equality of Opportunity</th>\n",
              "      <td>0.227429</td>\n",
              "      <td>0</td>\n",
              "    </tr>\n",
              "    <tr>\n",
              "      <th>Mean Multiclass Average Odds</th>\n",
              "      <td>0.190711</td>\n",
              "      <td>0</td>\n",
              "    </tr>\n",
              "    <tr>\n",
              "      <th>Mean Multiclass True Positive Difference</th>\n",
              "      <td>0.227429</td>\n",
              "      <td>0</td>\n",
              "    </tr>\n",
              "  </tbody>\n",
              "</table>\n",
              "</div>"
            ],
            "text/plain": [
              "                                             Value  Reference\n",
              "Metric                                                       \n",
              "Max Multiclass Statistical Parity         0.480696          0\n",
              "Mean Multiclass Statistical Parity        0.480696          0\n",
              "Max Multiclass Equality of Opportunity    0.227429          0\n",
              "Max Multiclass Average Odds               0.190711          0\n",
              "Max Multiclass True Positive Difference   0.227429          0\n",
              "Mean Multiclass Equality of Opportunity   0.227429          0\n",
              "Mean Multiclass Average Odds              0.190711          0\n",
              "Mean Multiclass True Positive Difference  0.227429          0"
            ]
          },
          "execution_count": 14,
          "metadata": {},
          "output_type": "execute_result"
        }
      ],
      "source": [
        "preprocessing_mitigator = CorrelationRemover()\n",
        "\n",
        "scaler = StandardScaler()\n",
        "X_train = scaler.fit_transform(train['x'])\n",
        "\n",
        "fit_params = {\"group_a\": group_a_train, \"group_b\": group_b_train}\n",
        "\n",
        "X_p_train = preprocessing_mitigator.fit_transform(X_train, **fit_params)\n",
        "\n",
        "model = LogisticRegression()\n",
        "\n",
        "model.fit(X_p_train, train['y'])\n",
        "\n",
        "fit_params = {\"group_a\": group_a_test, \"group_b\": group_b_test}\n",
        "\n",
        "X_test = scaler.transform(test['x'])\n",
        "X_p_test = preprocessing_mitigator.transform(X_test, **fit_params)\n",
        "\n",
        "y_pred = model.predict(X_p_test)\n",
        "\n",
        "p_attr = sensgroup.fit_transform(np.stack([group_a_test, group_b_test], axis=1), convert_numeric=True)\n",
        "\n",
        "df_mitigation = multiclass_bias_metrics(\n",
        "    p_attr,\n",
        "    y_pred,\n",
        "    test['y'],\n",
        "    metric_type='both'\n",
        ")\n",
        "df_mitigation"
      ]
    },
    {
      "attachments": {},
      "cell_type": "markdown",
      "metadata": {
        "id": "hTP3Uvd5YG6J"
      },
      "source": [
        "### **Pipeline implementation**\n",
        "\n",
        "Now that we could see how this method is implemented traditionally, let's try implementing it by using the Scikit-learn Pipeline. Notice that we shouldn't have highly variations in the metrics for the previous implementation."
      ]
    },
    {
      "cell_type": "code",
      "execution_count": 17,
      "metadata": {
        "colab": {
          "base_uri": "https://localhost:8080/",
          "height": 332
        },
        "id": "XIePiA98MS9e",
        "outputId": "7069f97a-a70f-48ff-bce6-70e809a3caa4"
      },
      "outputs": [
        {
          "data": {
            "text/html": [
              "<div>\n",
              "<style scoped>\n",
              "    .dataframe tbody tr th:only-of-type {\n",
              "        vertical-align: middle;\n",
              "    }\n",
              "\n",
              "    .dataframe tbody tr th {\n",
              "        vertical-align: top;\n",
              "    }\n",
              "\n",
              "    .dataframe thead th {\n",
              "        text-align: right;\n",
              "    }\n",
              "</style>\n",
              "<table border=\"1\" class=\"dataframe\">\n",
              "  <thead>\n",
              "    <tr style=\"text-align: right;\">\n",
              "      <th></th>\n",
              "      <th>Value</th>\n",
              "      <th>Reference</th>\n",
              "    </tr>\n",
              "    <tr>\n",
              "      <th>Metric</th>\n",
              "      <th></th>\n",
              "      <th></th>\n",
              "    </tr>\n",
              "  </thead>\n",
              "  <tbody>\n",
              "    <tr>\n",
              "      <th>Max Multiclass Statistical Parity</th>\n",
              "      <td>0.480696</td>\n",
              "      <td>0</td>\n",
              "    </tr>\n",
              "    <tr>\n",
              "      <th>Mean Multiclass Statistical Parity</th>\n",
              "      <td>0.480696</td>\n",
              "      <td>0</td>\n",
              "    </tr>\n",
              "    <tr>\n",
              "      <th>Max Multiclass Equality of Opportunity</th>\n",
              "      <td>0.227429</td>\n",
              "      <td>0</td>\n",
              "    </tr>\n",
              "    <tr>\n",
              "      <th>Max Multiclass Average Odds</th>\n",
              "      <td>0.190711</td>\n",
              "      <td>0</td>\n",
              "    </tr>\n",
              "    <tr>\n",
              "      <th>Max Multiclass True Positive Difference</th>\n",
              "      <td>0.227429</td>\n",
              "      <td>0</td>\n",
              "    </tr>\n",
              "    <tr>\n",
              "      <th>Mean Multiclass Equality of Opportunity</th>\n",
              "      <td>0.227429</td>\n",
              "      <td>0</td>\n",
              "    </tr>\n",
              "    <tr>\n",
              "      <th>Mean Multiclass Average Odds</th>\n",
              "      <td>0.190711</td>\n",
              "      <td>0</td>\n",
              "    </tr>\n",
              "    <tr>\n",
              "      <th>Mean Multiclass True Positive Difference</th>\n",
              "      <td>0.227429</td>\n",
              "      <td>0</td>\n",
              "    </tr>\n",
              "  </tbody>\n",
              "</table>\n",
              "</div>"
            ],
            "text/plain": [
              "                                             Value  Reference\n",
              "Metric                                                       \n",
              "Max Multiclass Statistical Parity         0.480696          0\n",
              "Mean Multiclass Statistical Parity        0.480696          0\n",
              "Max Multiclass Equality of Opportunity    0.227429          0\n",
              "Max Multiclass Average Odds               0.190711          0\n",
              "Max Multiclass True Positive Difference   0.227429          0\n",
              "Mean Multiclass Equality of Opportunity   0.227429          0\n",
              "Mean Multiclass Average Odds              0.190711          0\n",
              "Mean Multiclass True Positive Difference  0.227429          0"
            ]
          },
          "execution_count": 17,
          "metadata": {},
          "output_type": "execute_result"
        }
      ],
      "source": [
        "pipeline = Pipeline(\n",
        "    steps=[\n",
        "        ('scalar', StandardScaler()),\n",
        "        (\"bm_preprocessing\", CorrelationRemover()),\n",
        "        (\"model\", LogisticRegression()),\n",
        "    ]\n",
        ")\n",
        "\n",
        "fit_params = {\n",
        "    \"bm__group_a\": group_a_train, \n",
        "    \"bm__group_b\": group_b_train\n",
        "}\n",
        "\n",
        "pipeline.fit(train['x'], train['y'], **fit_params)\n",
        "\n",
        "predict_params = {\n",
        "    \"bm__group_a\": group_a_test,\n",
        "    \"bm__group_b\": group_b_test,\n",
        "}\n",
        "y_pred = pipeline.predict(test['x'], **predict_params)\n",
        "\n",
        "p_attr = sensgroup.transform(np.stack([group_a_test, group_b_test], axis=1), convert_numeric=True)\n",
        "\n",
        "df_mitigation_pipeline = multiclass_bias_metrics(\n",
        "    p_attr,\n",
        "    y_pred,\n",
        "    test['y'],\n",
        "    metric_type='both'\n",
        ")\n",
        "df_mitigation_pipeline"
      ]
    },
    {
      "attachments": {},
      "cell_type": "markdown",
      "metadata": {
        "id": "in-LqsuoYLHh"
      },
      "source": [
        "## **7. Results comparison**\n",
        "\n",
        "Now that we could observe how is the implementation of the mitigator in the model, we will compare the results between the baseline and the implementations with the mitigator to analyse how the metrics have changed."
      ]
    },
    {
      "cell_type": "code",
      "execution_count": 18,
      "metadata": {
        "colab": {
          "base_uri": "https://localhost:8080/",
          "height": 445
        },
        "id": "jsQJq1ozMS6t",
        "outputId": "78f64035-fade-4874-aff6-4e4404fcd2a8"
      },
      "outputs": [
        {
          "data": {
            "text/html": [
              "<div>\n",
              "<style scoped>\n",
              "    .dataframe tbody tr th:only-of-type {\n",
              "        vertical-align: middle;\n",
              "    }\n",
              "\n",
              "    .dataframe tbody tr th {\n",
              "        vertical-align: top;\n",
              "    }\n",
              "\n",
              "    .dataframe thead th {\n",
              "        text-align: right;\n",
              "    }\n",
              "</style>\n",
              "<table border=\"1\" class=\"dataframe\">\n",
              "  <thead>\n",
              "    <tr style=\"text-align: right;\">\n",
              "      <th></th>\n",
              "      <th>Baseline</th>\n",
              "      <th>Mitigator without pipeline</th>\n",
              "      <th>Mitigator with pipeline</th>\n",
              "      <th>Reference</th>\n",
              "    </tr>\n",
              "    <tr>\n",
              "      <th>Metric</th>\n",
              "      <th></th>\n",
              "      <th></th>\n",
              "      <th></th>\n",
              "      <th></th>\n",
              "    </tr>\n",
              "  </thead>\n",
              "  <tbody>\n",
              "    <tr>\n",
              "      <th>Max Multiclass Statistical Parity</th>\n",
              "      <td>0.659293</td>\n",
              "      <td>0.480696</td>\n",
              "      <td>0.480696</td>\n",
              "      <td>0</td>\n",
              "    </tr>\n",
              "    <tr>\n",
              "      <th>Mean Multiclass Statistical Parity</th>\n",
              "      <td>0.659293</td>\n",
              "      <td>0.480696</td>\n",
              "      <td>0.480696</td>\n",
              "      <td>0</td>\n",
              "    </tr>\n",
              "    <tr>\n",
              "      <th>Max Multiclass Equality of Opportunity</th>\n",
              "      <td>0.327083</td>\n",
              "      <td>0.227429</td>\n",
              "      <td>0.227429</td>\n",
              "      <td>0</td>\n",
              "    </tr>\n",
              "    <tr>\n",
              "      <th>Max Multiclass Average Odds</th>\n",
              "      <td>0.309432</td>\n",
              "      <td>0.190711</td>\n",
              "      <td>0.190711</td>\n",
              "      <td>0</td>\n",
              "    </tr>\n",
              "    <tr>\n",
              "      <th>Max Multiclass True Positive Difference</th>\n",
              "      <td>0.244798</td>\n",
              "      <td>0.227429</td>\n",
              "      <td>0.227429</td>\n",
              "      <td>0</td>\n",
              "    </tr>\n",
              "    <tr>\n",
              "      <th>Mean Multiclass Equality of Opportunity</th>\n",
              "      <td>0.327083</td>\n",
              "      <td>0.227429</td>\n",
              "      <td>0.227429</td>\n",
              "      <td>0</td>\n",
              "    </tr>\n",
              "    <tr>\n",
              "      <th>Mean Multiclass Average Odds</th>\n",
              "      <td>0.309432</td>\n",
              "      <td>0.190711</td>\n",
              "      <td>0.190711</td>\n",
              "      <td>0</td>\n",
              "    </tr>\n",
              "    <tr>\n",
              "      <th>Mean Multiclass True Positive Difference</th>\n",
              "      <td>0.244798</td>\n",
              "      <td>0.227429</td>\n",
              "      <td>0.227429</td>\n",
              "      <td>0</td>\n",
              "    </tr>\n",
              "  </tbody>\n",
              "</table>\n",
              "</div>"
            ],
            "text/plain": [
              "                                          Baseline  \\\n",
              "Metric                                               \n",
              "Max Multiclass Statistical Parity         0.659293   \n",
              "Mean Multiclass Statistical Parity        0.659293   \n",
              "Max Multiclass Equality of Opportunity    0.327083   \n",
              "Max Multiclass Average Odds               0.309432   \n",
              "Max Multiclass True Positive Difference   0.244798   \n",
              "Mean Multiclass Equality of Opportunity   0.327083   \n",
              "Mean Multiclass Average Odds              0.309432   \n",
              "Mean Multiclass True Positive Difference  0.244798   \n",
              "\n",
              "                                          Mitigator without pipeline  \\\n",
              "Metric                                                                 \n",
              "Max Multiclass Statistical Parity                           0.480696   \n",
              "Mean Multiclass Statistical Parity                          0.480696   \n",
              "Max Multiclass Equality of Opportunity                      0.227429   \n",
              "Max Multiclass Average Odds                                 0.190711   \n",
              "Max Multiclass True Positive Difference                     0.227429   \n",
              "Mean Multiclass Equality of Opportunity                     0.227429   \n",
              "Mean Multiclass Average Odds                                0.190711   \n",
              "Mean Multiclass True Positive Difference                    0.227429   \n",
              "\n",
              "                                          Mitigator with pipeline  Reference  \n",
              "Metric                                                                        \n",
              "Max Multiclass Statistical Parity                        0.480696          0  \n",
              "Mean Multiclass Statistical Parity                       0.480696          0  \n",
              "Max Multiclass Equality of Opportunity                   0.227429          0  \n",
              "Max Multiclass Average Odds                              0.190711          0  \n",
              "Max Multiclass True Positive Difference                  0.227429          0  \n",
              "Mean Multiclass Equality of Opportunity                  0.227429          0  \n",
              "Mean Multiclass Average Odds                             0.190711          0  \n",
              "Mean Multiclass True Positive Difference                 0.227429          0  "
            ]
          },
          "execution_count": 18,
          "metadata": {},
          "output_type": "execute_result"
        }
      ],
      "source": [
        "result = pd.concat([df_baseline, df_mitigation, df_mitigation_pipeline], axis=1).iloc[:, [0,2,4,1]]\n",
        "result.columns = ['Baseline','Mitigator without pipeline',\"Mitigator with pipeline\", 'Reference']\n",
        "result"
      ]
    },
    {
      "attachments": {},
      "cell_type": "markdown",
      "metadata": {
        "id": "NwajjOotYPVv"
      },
      "source": [
        "From the previous chart, we can see that although the actual metrics are still far from the ideal values, an improvement is obtained by applying this method in the dataset, compared with our baseline. \n",
        "\n",
        "Notice that we can analyse how these values are affected by varying the hyperparameter of the method. For example, this method allows us to set an `alpha` parameter that controls how much information will be filtered, you will find more information in its documentation [here](https://holisticai.readthedocs.io/en/latest/.generated/holisticai.bias.mitigation.CorrelationRemover.html#holisticai.bias.mitigation.CorrelationRemover)\n",
        "\n",
        "To observe the influence of this variation we will try with different values:"
      ]
    },
    {
      "cell_type": "code",
      "execution_count": 19,
      "metadata": {
        "id": "2Vx35x0UMS1l"
      },
      "outputs": [],
      "source": [
        "def calculate_metrics(train, test, alpha, metrics_cols):\n",
        "  from sklearn.metrics import accuracy_score\n",
        "  model = LogisticRegression()\n",
        "  pipeline = Pipeline(\n",
        "      steps=[\n",
        "          ('scalar', StandardScaler()),\n",
        "          (\"bm_preprocessing\", CorrelationRemover(alpha=alpha)),\n",
        "          (\"model\", model),\n",
        "      ]\n",
        "  )\n",
        "\n",
        "  fit_params = {\n",
        "      \"bm__group_a\": train['p_attr']['group_a'], \n",
        "      \"bm__group_b\": train['p_attr']['group_b']\n",
        "  }\n",
        "\n",
        "  pipeline.fit(train['x'], train['y'], **fit_params)\n",
        "\n",
        "  predict_params = {\n",
        "      \"bm__group_a\": group_a_test,\n",
        "      \"bm__group_b\": group_b_test,\n",
        "  }\n",
        "  y_pred = pipeline.predict(test['x'], **predict_params)\n",
        "  p_attr = sensgroup.transform(np.stack([group_a_test, group_b_test], axis=1), convert_numeric=True)\n",
        "  df = multiclass_bias_metrics(\n",
        "      p_attr,\n",
        "      y_pred,\n",
        "      test['y'],\n",
        "      metric_type='both'\n",
        "  )\n",
        "  # Calculate metrics\n",
        "  metrics = [\n",
        "      alpha, \n",
        "      accuracy_score(test['y'], y_pred)\n",
        "  ]\n",
        "  metrics.extend([df['Value'].loc[col] for col in metrics_cols])\n",
        "  return metrics"
      ]
    },
    {
      "cell_type": "code",
      "execution_count": 21,
      "metadata": {
        "colab": {
          "base_uri": "https://localhost:8080/",
          "height": 426
        },
        "id": "of1nDcNaMSyu",
        "outputId": "bbb4ab59-5986-4e78-d36f-8cf8fe395e16"
      },
      "outputs": [
        {
          "data": {
            "text/html": [
              "<div>\n",
              "<style scoped>\n",
              "    .dataframe tbody tr th:only-of-type {\n",
              "        vertical-align: middle;\n",
              "    }\n",
              "\n",
              "    .dataframe tbody tr th {\n",
              "        vertical-align: top;\n",
              "    }\n",
              "\n",
              "    .dataframe thead th {\n",
              "        text-align: right;\n",
              "    }\n",
              "</style>\n",
              "<table border=\"1\" class=\"dataframe\">\n",
              "  <thead>\n",
              "    <tr style=\"text-align: right;\">\n",
              "      <th></th>\n",
              "      <th>alpha</th>\n",
              "      <th>accuracy</th>\n",
              "      <th>Max Multiclass Statistical Parity</th>\n",
              "      <th>Max Multiclass Equality of Opportunity</th>\n",
              "    </tr>\n",
              "  </thead>\n",
              "  <tbody>\n",
              "    <tr>\n",
              "      <th>0</th>\n",
              "      <td>0.000000</td>\n",
              "      <td>0.645485</td>\n",
              "      <td>0.659293</td>\n",
              "      <td>0.327083</td>\n",
              "    </tr>\n",
              "    <tr>\n",
              "      <th>1</th>\n",
              "      <td>0.136364</td>\n",
              "      <td>0.645485</td>\n",
              "      <td>0.645712</td>\n",
              "      <td>0.319655</td>\n",
              "    </tr>\n",
              "    <tr>\n",
              "      <th>2</th>\n",
              "      <td>0.272727</td>\n",
              "      <td>0.653846</td>\n",
              "      <td>0.626272</td>\n",
              "      <td>0.314026</td>\n",
              "    </tr>\n",
              "    <tr>\n",
              "      <th>3</th>\n",
              "      <td>0.409091</td>\n",
              "      <td>0.648829</td>\n",
              "      <td>0.597157</td>\n",
              "      <td>0.269600</td>\n",
              "    </tr>\n",
              "    <tr>\n",
              "      <th>4</th>\n",
              "      <td>0.545455</td>\n",
              "      <td>0.645485</td>\n",
              "      <td>0.569995</td>\n",
              "      <td>0.254302</td>\n",
              "    </tr>\n",
              "    <tr>\n",
              "      <th>5</th>\n",
              "      <td>0.681818</td>\n",
              "      <td>0.650502</td>\n",
              "      <td>0.554460</td>\n",
              "      <td>0.248886</td>\n",
              "    </tr>\n",
              "    <tr>\n",
              "      <th>6</th>\n",
              "      <td>0.818182</td>\n",
              "      <td>0.643813</td>\n",
              "      <td>0.554460</td>\n",
              "      <td>0.248225</td>\n",
              "    </tr>\n",
              "    <tr>\n",
              "      <th>7</th>\n",
              "      <td>0.954545</td>\n",
              "      <td>0.647157</td>\n",
              "      <td>0.509811</td>\n",
              "      <td>0.227520</td>\n",
              "    </tr>\n",
              "    <tr>\n",
              "      <th>8</th>\n",
              "      <td>1.090909</td>\n",
              "      <td>0.642140</td>\n",
              "      <td>0.422465</td>\n",
              "      <td>0.202545</td>\n",
              "    </tr>\n",
              "    <tr>\n",
              "      <th>9</th>\n",
              "      <td>1.227273</td>\n",
              "      <td>0.635452</td>\n",
              "      <td>0.375863</td>\n",
              "      <td>0.233248</td>\n",
              "    </tr>\n",
              "    <tr>\n",
              "      <th>10</th>\n",
              "      <td>1.363636</td>\n",
              "      <td>0.635452</td>\n",
              "      <td>0.346748</td>\n",
              "      <td>0.263617</td>\n",
              "    </tr>\n",
              "    <tr>\n",
              "      <th>11</th>\n",
              "      <td>1.500000</td>\n",
              "      <td>0.632107</td>\n",
              "      <td>0.317723</td>\n",
              "      <td>0.253069</td>\n",
              "    </tr>\n",
              "  </tbody>\n",
              "</table>\n",
              "</div>"
            ],
            "text/plain": [
              "       alpha  accuracy  Max Multiclass Statistical Parity  \\\n",
              "0   0.000000  0.645485                           0.659293   \n",
              "1   0.136364  0.645485                           0.645712   \n",
              "2   0.272727  0.653846                           0.626272   \n",
              "3   0.409091  0.648829                           0.597157   \n",
              "4   0.545455  0.645485                           0.569995   \n",
              "5   0.681818  0.650502                           0.554460   \n",
              "6   0.818182  0.643813                           0.554460   \n",
              "7   0.954545  0.647157                           0.509811   \n",
              "8   1.090909  0.642140                           0.422465   \n",
              "9   1.227273  0.635452                           0.375863   \n",
              "10  1.363636  0.635452                           0.346748   \n",
              "11  1.500000  0.632107                           0.317723   \n",
              "\n",
              "    Max Multiclass Equality of Opportunity  \n",
              "0                                 0.327083  \n",
              "1                                 0.319655  \n",
              "2                                 0.314026  \n",
              "3                                 0.269600  \n",
              "4                                 0.254302  \n",
              "5                                 0.248886  \n",
              "6                                 0.248225  \n",
              "7                                 0.227520  \n",
              "8                                 0.202545  \n",
              "9                                 0.233248  \n",
              "10                                0.263617  \n",
              "11                                0.253069  "
            ]
          },
          "execution_count": 21,
          "metadata": {},
          "output_type": "execute_result"
        }
      ],
      "source": [
        "metrics_val = []\n",
        "metrics_cols = ['Max Multiclass Statistical Parity', 'Max Multiclass Equality of Opportunity']\n",
        "\n",
        "for alphas in np.linspace(0,1.5,12):\n",
        "  metrics_val.append(calculate_metrics(train, test, alphas, metrics_cols))\n",
        "\n",
        "metrics = ['alpha', 'accuracy']\n",
        "metrics.extend(metrics_cols)\n",
        "df_metrics = pd.DataFrame(metrics_val, columns=metrics)\n",
        "df_metrics"
      ]
    },
    {
      "cell_type": "code",
      "execution_count": 22,
      "metadata": {
        "colab": {
          "base_uri": "https://localhost:8080/",
          "height": 327
        },
        "id": "lmHOyMAKJOxC",
        "outputId": "682e9957-58d3-4a0f-9ddc-7c3e65526f30"
      },
      "outputs": [
        {
          "data": {
            "text/plain": [
              "Text(0.5, 0, 'alpha')"
            ]
          },
          "execution_count": 22,
          "metadata": {},
          "output_type": "execute_result"
        },
        {
          "data": {
            "image/png": "[encoded data removed]",
            "text/plain": [
              "<Figure size 2500x800 with 3 Axes>"
            ]
          },
          "metadata": {},
          "output_type": "display_data"
        }
      ],
      "source": [
        "x_axis = df_metrics.alpha\n",
        "plt.figure(figsize=(25,8))\n",
        "plt.subplot(131)\n",
        "plt.plot(x_axis, df_metrics['Max Multiclass Statistical Parity'], 'o-', label='Max Multiclass Statistical Parity')\n",
        "plt.plot(x_axis, np.zeros_like(df_metrics['Max Multiclass Statistical Parity']), label='Reference')\n",
        "plt.legend(loc='upper left')\n",
        "plt.xlabel('alpha')\n",
        "plt.subplot(132)\n",
        "plt.plot(x_axis, df_metrics['Max Multiclass Equality of Opportunity'], 'o-', label='Max Multiclass Equality of Opportunity')\n",
        "plt.plot(x_axis, np.zeros_like(df_metrics['Max Multiclass Equality of Opportunity']), label='Reference')\n",
        "plt.legend(loc='upper left')\n",
        "plt.xlabel('alpha')\n",
        "plt.subplot(133)\n",
        "plt.plot(x_axis, df_metrics['accuracy'], 'o-', label='Accuracy')\n",
        "plt.legend(loc='upper right')\n",
        "plt.xlabel('alpha')"
      ]
    },
    {
      "attachments": {},
      "cell_type": "markdown",
      "metadata": {
        "id": "Gurbmh0AYct_"
      },
      "source": [
        "As we can see, the variation of this parameter shows that when we increase its value the results are closer to the reference, but we need into account that the higher the value of the parameter is, the more information will be filtered but the accuracy will be also affected. In general, the selection of the model parameters will depend on our main objective, whether we are looking for fairness or accuracy."
      ]
    },
    {
      "attachments": {},
      "cell_type": "markdown",
      "metadata": {
        "id": "k7Yl1cDTYffd"
      },
      "source": [
        "## **Summary**\n",
        "Through this tutorial we could present to the user how the `holisticai` library can be easily used to measure the bias present in classification models by the application of the `multiclass_bias_metrics` function, which returns the calculated values for different metrics and their references respectively. \n",
        "\n",
        "In addition, we shown how to mitigate the bias by applying some methods, for this opportunity we applied the \"Correlation remover\" technique to train a fairness model by pre-processing the original dataset through the remotion of the correlation of the features with repect to the sensitive values. Consequently we could observe how the metrics are influenced by varing the `alpha` parameter, and showing how this method increases the fairness of the model."
      ]
    }
  ],
  "metadata": {
    "colab": {
      "provenance": []
    },
    "kernelspec": {
      "display_name": "Python 3",
      "name": "python3"
    },
    "language_info": {
      "codemirror_mode": {
        "name": "ipython",
        "version": 3
      },
      "file_extension": ".py",
      "mimetype": "text/x-python",
      "name": "python",
      "nbconvert_exporter": "python",
      "pygments_lexer": "ipython3",
      "version": "3.10.14"
    }
  },
  "nbformat": 4,
  "nbformat_minor": 0
}
