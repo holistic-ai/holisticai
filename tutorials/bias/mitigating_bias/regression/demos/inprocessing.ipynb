{
  "cells": [
    {
      "attachments": {},
      "cell_type": "markdown",
      "metadata": {
        "id": "AsyvVC7QPrrX"
      },
      "source": [
        "# **Bias Mitigation with Grid Search Reduction**\n",
        "This tutorial demonstrates how to implement the \"Grid search reduction\" inprocessing method to enhance fairness in regression models using the `holisticai` library.\n",
        "\n",
        "- [Traditional implementation](#traditional-implementation)\n",
        "- [Pipeline implementation](#pipeline-implementation)"
      ]
    },
    {
      "attachments": {},
      "cell_type": "markdown",
      "metadata": {},
      "source": [
        "First, install the `holisticai` package if you haven't already:\n",
        "```bash\n",
        "!pip install holisticai[all]\n",
        "```\n",
        "Then, import the necessary libraries."
      ]
    },
    {
      "cell_type": "code",
      "execution_count": 7,
      "metadata": {
        "id": "cb0SfHEYJfNo"
      },
      "outputs": [],
      "source": [
        "import numpy as np\n",
        "from sklearn.linear_model import LinearRegression\n",
        "from sklearn.metrics import mean_squared_error\n",
        "from holisticai.datasets import load_dataset\n",
        "from holisticai.bias.mitigation import GridSearchReduction\n",
        "from holisticai.bias.metrics import regression_bias_metrics\n",
        "\n",
        "np.random.seed(0)\n",
        "import warnings\n",
        "warnings.filterwarnings(\"ignore\")"
      ]
    },
    {
      "attachments": {},
      "cell_type": "markdown",
      "metadata": {},
      "source": [
        "Load the proprocessed \"Communities and Crime\" dataset."
      ]
    },
    {
      "cell_type": "code",
      "execution_count": 8,
      "metadata": {
        "colab": {
          "base_uri": "https://localhost:8080/"
        },
        "id": "Uclq3XeKP1rU",
        "outputId": "c19f148d-6c18-47f7-c77f-83dbaeb9291b"
      },
      "outputs": [
        {
          "data": {
            "text/html": [
              "\n",
              "        <head>\n",
              "            <meta charset=\"UTF-8\">\n",
              "            <meta name=\"viewport\" content=\"width=device-width, initial-scale=1.0\">\n",
              "            <title>Diagrama DatasetDict</title>\n",
              "            <style>\n",
              "                \n",
              "    .container {\n",
              "        font-family: Arial, sans-serif;\n",
              "        margin: 20px;\n",
              "    }\n",
              "    .node {\n",
              "        border: 2px solid #000;\n",
              "        padding: 10px;\n",
              "        margin: 10px;\n",
              "        text-align: left;\n",
              "        display: inline-block;\n",
              "        background-color: #E0FFFF;\n",
              "    }\n",
              "    .datasets-container {\n",
              "        display: flex;\n",
              "        flex-wrap: wrap;\n",
              "    }\n",
              "    .dataset {\n",
              "        border: 2px solid #007bff;\n",
              "        padding: 10px;\n",
              "        margin: 10px;\n",
              "        text-align: left;\n",
              "        border-radius: 5px;\n",
              "        display: inline-block;\n",
              "        white-space: nowrap;\n",
              "        background-color: #E0FFFF;\n",
              "        box-sizing: border-box;\n",
              "    }\n",
              "    .title {\n",
              "        font-weight: bold;\n",
              "        color: #222; /* Letras más negras */\n",
              "        margin-bottom: 10px;\n",
              "        text-align: left;\n",
              "        white-space: nowrap;\n",
              "    }\n",
              "    ul {\n",
              "        list-style-type: disc;\n",
              "        padding-left: 20px;\n",
              "        text-align: left;\n",
              "        margin: 0;\n",
              "        white-space: normal;\n",
              "        color: #222; /* Letras más negras */\n",
              "    }\n",
              "    .groupbydataset {\n",
              "        border: 2px solid #007bff; /* Dark red */\n",
              "        padding: 10px;\n",
              "        margin: 10px;\n",
              "        text-align: left;\n",
              "        border-radius: 5px;\n",
              "        display: inline-block;\n",
              "        white-space: nowrap;\n",
              "        background-color: #E0FFFF; /* Light pink */\n",
              "        box-sizing: border-box;\n",
              "    }\n",
              "    \n",
              "            </style>\n",
              "        </head>\n",
              "        <body>\n",
              "            <div class=\"container\">\n",
              "                \n",
              "        <div class=\"node\">\n",
              "            <div class=\"title\">DatasetDict</div>\n",
              "            <div class=\"datasets-container\">\n",
              "                \n",
              "        <div class=\"dataset\" style=\"width: 472px;\">\n",
              "            <div class=\"title\">train</div>\n",
              "            <ul>\n",
              "                <li>features: [X , y , group_a , group_b]</li>\n",
              "                <li>num_rows: 1594</li>\n",
              "            </ul>\n",
              "        </div>\n",
              "        \n",
              "        <div class=\"dataset\" style=\"width: 472px;\">\n",
              "            <div class=\"title\">test</div>\n",
              "            <ul>\n",
              "                <li>features: [X , y , group_a , group_b]</li>\n",
              "                <li>num_rows: 399</li>\n",
              "            </ul>\n",
              "        </div>\n",
              "        \n",
              "            </div>\n",
              "        </div>\n",
              "        \n",
              "            </div>\n",
              "        </body>\n",
              "        "
            ],
            "text/plain": [
              "DatasetDict({\n",
              "    train: Dataset({\n",
              "        features: ['X', 'y', 'group_a', 'group_b'],\n",
              "        num_rows: 1594\n",
              "    }),\n",
              "    test: Dataset({\n",
              "        features: ['X', 'y', 'group_a', 'group_b'],\n",
              "        num_rows: 399\n",
              "    })\n",
              "})"
            ]
          },
          "execution_count": 8,
          "metadata": {},
          "output_type": "execute_result"
        }
      ],
      "source": [
        "dataset = load_dataset('us_crime')\n",
        "dataset = dataset.train_test_split(test_size=0.2, random_state=0)\n",
        "train_data = dataset['train']\n",
        "test_data = dataset['test']\n",
        "\n",
        "dataset"
      ]
    },
    {
      "attachments": {},
      "cell_type": "markdown",
      "metadata": {
        "id": "tie2WueYP8de"
      },
      "source": [
        "## **Bias Mitigation**\n",
        "### **Traditional Implementation**\n",
        "We will implement the \"Grid search reduction\" method, an in-processing technique to mitigate bias in the regression model."
      ]
    },
    {
      "cell_type": "code",
      "execution_count": 9,
      "metadata": {
        "colab": {
          "base_uri": "https://localhost:8080/",
          "height": 551
        },
        "id": "0N53PlHGLWw9",
        "outputId": "2b553e31-d0b2-4286-f140-6f5e67a5e5ea"
      },
      "outputs": [
        {
          "data": {
            "text/html": [
              "<div>\n",
              "<style scoped>\n",
              "    .dataframe tbody tr th:only-of-type {\n",
              "        vertical-align: middle;\n",
              "    }\n",
              "\n",
              "    .dataframe tbody tr th {\n",
              "        vertical-align: top;\n",
              "    }\n",
              "\n",
              "    .dataframe thead th {\n",
              "        text-align: right;\n",
              "    }\n",
              "</style>\n",
              "<table border=\"1\" class=\"dataframe\">\n",
              "  <thead>\n",
              "    <tr style=\"text-align: right;\">\n",
              "      <th></th>\n",
              "      <th>Value</th>\n",
              "      <th>Reference</th>\n",
              "    </tr>\n",
              "    <tr>\n",
              "      <th>Metric</th>\n",
              "      <th></th>\n",
              "      <th></th>\n",
              "    </tr>\n",
              "  </thead>\n",
              "  <tbody>\n",
              "    <tr>\n",
              "      <th>Disparate Impact Q90</th>\n",
              "      <td>0.044248</td>\n",
              "      <td>1</td>\n",
              "    </tr>\n",
              "    <tr>\n",
              "      <th>Disparate Impact Q80</th>\n",
              "      <td>0.124270</td>\n",
              "      <td>1</td>\n",
              "    </tr>\n",
              "    <tr>\n",
              "      <th>Disparate Impact Q50</th>\n",
              "      <td>0.422979</td>\n",
              "      <td>1</td>\n",
              "    </tr>\n",
              "    <tr>\n",
              "      <th>Statistical Parity Q50</th>\n",
              "      <td>-0.685988</td>\n",
              "      <td>0</td>\n",
              "    </tr>\n",
              "    <tr>\n",
              "      <th>No Disparate Impact Level</th>\n",
              "      <td>0.041818</td>\n",
              "      <td>-</td>\n",
              "    </tr>\n",
              "    <tr>\n",
              "      <th>Average Score Difference</th>\n",
              "      <td>-0.370440</td>\n",
              "      <td>0</td>\n",
              "    </tr>\n",
              "    <tr>\n",
              "      <th>Average Score Ratio</th>\n",
              "      <td>0.307310</td>\n",
              "      <td>1</td>\n",
              "    </tr>\n",
              "    <tr>\n",
              "      <th>Z Score Difference</th>\n",
              "      <td>-2.346461</td>\n",
              "      <td>0</td>\n",
              "    </tr>\n",
              "    <tr>\n",
              "      <th>Max Statistical Parity</th>\n",
              "      <td>0.712389</td>\n",
              "      <td>0</td>\n",
              "    </tr>\n",
              "    <tr>\n",
              "      <th>Statistical Parity AUC</th>\n",
              "      <td>0.421605</td>\n",
              "      <td>0</td>\n",
              "    </tr>\n",
              "    <tr>\n",
              "      <th>RMSE Ratio</th>\n",
              "      <td>0.652117</td>\n",
              "      <td>1</td>\n",
              "    </tr>\n",
              "    <tr>\n",
              "      <th>RMSE Ratio Q80</th>\n",
              "      <td>0.802982</td>\n",
              "      <td>1</td>\n",
              "    </tr>\n",
              "    <tr>\n",
              "      <th>MAE Ratio</th>\n",
              "      <td>0.580710</td>\n",
              "      <td>1</td>\n",
              "    </tr>\n",
              "    <tr>\n",
              "      <th>MAE Ratio Q80</th>\n",
              "      <td>0.850687</td>\n",
              "      <td>1</td>\n",
              "    </tr>\n",
              "    <tr>\n",
              "      <th>Correlation Difference</th>\n",
              "      <td>-0.024025</td>\n",
              "      <td>0</td>\n",
              "    </tr>\n",
              "  </tbody>\n",
              "</table>\n",
              "</div>"
            ],
            "text/plain": [
              "                              Value Reference\n",
              "Metric                                       \n",
              "Disparate Impact Q90       0.044248         1\n",
              "Disparate Impact Q80       0.124270         1\n",
              "Disparate Impact Q50       0.422979         1\n",
              "Statistical Parity Q50    -0.685988         0\n",
              "No Disparate Impact Level  0.041818         -\n",
              "Average Score Difference  -0.370440         0\n",
              "Average Score Ratio        0.307310         1\n",
              "Z Score Difference        -2.346461         0\n",
              "Max Statistical Parity     0.712389         0\n",
              "Statistical Parity AUC     0.421605         0\n",
              "RMSE Ratio                 0.652117         1\n",
              "RMSE Ratio Q80             0.802982         1\n",
              "MAE Ratio                  0.580710         1\n",
              "MAE Ratio Q80              0.850687         1\n",
              "Correlation Difference    -0.024025         0"
            ]
          },
          "execution_count": 9,
          "metadata": {},
          "output_type": "execute_result"
        }
      ],
      "source": [
        "model = LinearRegression()\n",
        "inprocessing_model = GridSearchReduction(constraints=\"BoundedGroupLoss\", \n",
        "                                         loss='Square', min_val=-0.1, max_val=1.3, \n",
        "                                         grid_size=20).transform_estimator(model)\n",
        "\n",
        "inprocessing_model.fit(train_data['X'], train_data['y'], train_data['group_a'], train_data['group_b'])\n",
        "\n",
        "y_pred = inprocessing_model.predict(test_data['X'])\n",
        "\n",
        "df = regression_bias_metrics(\n",
        "    test_data['group_a'],\n",
        "    test_data['group_b'],\n",
        "    y_pred,\n",
        "    test_data['y'],\n",
        "    metric_type='both'\n",
        ")\n",
        "df"
      ]
    },
    {
      "cell_type": "code",
      "execution_count": 10,
      "metadata": {
        "colab": {
          "base_uri": "https://localhost:8080/"
        },
        "id": "HVtbMAPNQ_vl",
        "outputId": "3bbdd711-55ad-4f95-867c-c2ec8133510c"
      },
      "outputs": [
        {
          "name": "stdout",
          "output_type": "stream",
          "text": [
            "RMS error: 0.15070712640237982\n"
          ]
        }
      ],
      "source": [
        "grid_search_rmse = mean_squared_error(test_data['y'], y_pred, squared=False)\n",
        "print(\"RMS error: {}\".format(grid_search_rmse))"
      ]
    },
    {
      "attachments": {},
      "cell_type": "markdown",
      "metadata": {
        "id": "7ZnbetpsKhxd"
      },
      "source": [
        "### **Pipeline Implementation**\n",
        "Implement the method using the pipeline."
      ]
    },
    {
      "cell_type": "code",
      "execution_count": 11,
      "metadata": {
        "colab": {
          "base_uri": "https://localhost:8080/",
          "height": 551
        },
        "id": "x4vl8cM1K6K2",
        "outputId": "1163ebb1-7cf3-46e7-a2ef-7e96b011dc0e"
      },
      "outputs": [
        {
          "data": {
            "text/html": [
              "<div>\n",
              "<style scoped>\n",
              "    .dataframe tbody tr th:only-of-type {\n",
              "        vertical-align: middle;\n",
              "    }\n",
              "\n",
              "    .dataframe tbody tr th {\n",
              "        vertical-align: top;\n",
              "    }\n",
              "\n",
              "    .dataframe thead th {\n",
              "        text-align: right;\n",
              "    }\n",
              "</style>\n",
              "<table border=\"1\" class=\"dataframe\">\n",
              "  <thead>\n",
              "    <tr style=\"text-align: right;\">\n",
              "      <th></th>\n",
              "      <th>Value</th>\n",
              "      <th>Reference</th>\n",
              "    </tr>\n",
              "    <tr>\n",
              "      <th>Metric</th>\n",
              "      <th></th>\n",
              "      <th></th>\n",
              "    </tr>\n",
              "  </thead>\n",
              "  <tbody>\n",
              "    <tr>\n",
              "      <th>Disparate Impact Q90</th>\n",
              "      <td>0.044248</td>\n",
              "      <td>1</td>\n",
              "    </tr>\n",
              "    <tr>\n",
              "      <th>Disparate Impact Q80</th>\n",
              "      <td>0.124270</td>\n",
              "      <td>1</td>\n",
              "    </tr>\n",
              "    <tr>\n",
              "      <th>Disparate Impact Q50</th>\n",
              "      <td>0.422979</td>\n",
              "      <td>1</td>\n",
              "    </tr>\n",
              "    <tr>\n",
              "      <th>Statistical Parity Q50</th>\n",
              "      <td>-0.685988</td>\n",
              "      <td>0</td>\n",
              "    </tr>\n",
              "    <tr>\n",
              "      <th>No Disparate Impact Level</th>\n",
              "      <td>0.041818</td>\n",
              "      <td>-</td>\n",
              "    </tr>\n",
              "    <tr>\n",
              "      <th>Average Score Difference</th>\n",
              "      <td>-0.370440</td>\n",
              "      <td>0</td>\n",
              "    </tr>\n",
              "    <tr>\n",
              "      <th>Average Score Ratio</th>\n",
              "      <td>0.307310</td>\n",
              "      <td>1</td>\n",
              "    </tr>\n",
              "    <tr>\n",
              "      <th>Z Score Difference</th>\n",
              "      <td>-2.346461</td>\n",
              "      <td>0</td>\n",
              "    </tr>\n",
              "    <tr>\n",
              "      <th>Max Statistical Parity</th>\n",
              "      <td>0.712389</td>\n",
              "      <td>0</td>\n",
              "    </tr>\n",
              "    <tr>\n",
              "      <th>Statistical Parity AUC</th>\n",
              "      <td>0.421605</td>\n",
              "      <td>0</td>\n",
              "    </tr>\n",
              "    <tr>\n",
              "      <th>RMSE Ratio</th>\n",
              "      <td>0.652117</td>\n",
              "      <td>1</td>\n",
              "    </tr>\n",
              "    <tr>\n",
              "      <th>RMSE Ratio Q80</th>\n",
              "      <td>0.802982</td>\n",
              "      <td>1</td>\n",
              "    </tr>\n",
              "    <tr>\n",
              "      <th>MAE Ratio</th>\n",
              "      <td>0.580710</td>\n",
              "      <td>1</td>\n",
              "    </tr>\n",
              "    <tr>\n",
              "      <th>MAE Ratio Q80</th>\n",
              "      <td>0.850687</td>\n",
              "      <td>1</td>\n",
              "    </tr>\n",
              "    <tr>\n",
              "      <th>Correlation Difference</th>\n",
              "      <td>-0.024025</td>\n",
              "      <td>0</td>\n",
              "    </tr>\n",
              "  </tbody>\n",
              "</table>\n",
              "</div>"
            ],
            "text/plain": [
              "                              Value Reference\n",
              "Metric                                       \n",
              "Disparate Impact Q90       0.044248         1\n",
              "Disparate Impact Q80       0.124270         1\n",
              "Disparate Impact Q50       0.422979         1\n",
              "Statistical Parity Q50    -0.685988         0\n",
              "No Disparate Impact Level  0.041818         -\n",
              "Average Score Difference  -0.370440         0\n",
              "Average Score Ratio        0.307310         1\n",
              "Z Score Difference        -2.346461         0\n",
              "Max Statistical Parity     0.712389         0\n",
              "Statistical Parity AUC     0.421605         0\n",
              "RMSE Ratio                 0.652117         1\n",
              "RMSE Ratio Q80             0.802982         1\n",
              "MAE Ratio                  0.580710         1\n",
              "MAE Ratio Q80              0.850687         1\n",
              "Correlation Difference    -0.024025         0"
            ]
          },
          "execution_count": 11,
          "metadata": {},
          "output_type": "execute_result"
        }
      ],
      "source": [
        "from holisticai.pipeline import Pipeline\n",
        "\n",
        "inprocessing_model = GridSearchReduction(constraints=\"BoundedGroupLoss\", \n",
        "                                         loss='Square', min_val=-0.1, max_val=1.3, \n",
        "                                         grid_size=20).transform_estimator(model)\n",
        "\n",
        "pipeline = Pipeline(\n",
        "    steps=[\n",
        "        (\"bm_inprocessing\", inprocessing_model),\n",
        "    ]\n",
        ")\n",
        "\n",
        "fit_params = {\n",
        "    \"bm__group_a\": train_data['group_a'], \n",
        "    \"bm__group_b\": train_data['group_b']\n",
        "}\n",
        "\n",
        "pipeline.fit(train_data['X'], train_data['y'], **fit_params)\n",
        "\n",
        "predict_params = {\n",
        "    \"bm__group_a\": test_data['group_a'],\n",
        "    \"bm__group_b\": test_data['group_b'],\n",
        "}\n",
        "y_pred_pipeline = pipeline.predict(test_data['X'], **predict_params)\n",
        "df_pipeline = regression_bias_metrics(\n",
        "    test_data['group_a'],\n",
        "    test_data['group_b'],\n",
        "    y_pred,\n",
        "    test_data['y'],\n",
        "    metric_type='both'\n",
        ")\n",
        "df_pipeline"
      ]
    },
    {
      "cell_type": "code",
      "execution_count": 12,
      "metadata": {},
      "outputs": [
        {
          "name": "stdout",
          "output_type": "stream",
          "text": [
            "Pipeline RMSE: 0.15070712640237982\n"
          ]
        }
      ],
      "source": [
        "pipeline_rmse = mean_squared_error(test_data['y'], y_pred_pipeline, squared=False)\n",
        "print(\"Pipeline RMSE: {}\".format(pipeline_rmse))"
      ]
    }
  ],
  "metadata": {
    "colab": {
      "provenance": []
    },
    "kernelspec": {
      "display_name": "Python 3",
      "name": "python3"
    },
    "language_info": {
      "codemirror_mode": {
        "name": "ipython",
        "version": 3
      },
      "file_extension": ".py",
      "mimetype": "text/x-python",
      "name": "python",
      "nbconvert_exporter": "python",
      "pygments_lexer": "ipython3",
      "version": "3.10.0"
    }
  },
  "nbformat": 4,
  "nbformat_minor": 0
}
