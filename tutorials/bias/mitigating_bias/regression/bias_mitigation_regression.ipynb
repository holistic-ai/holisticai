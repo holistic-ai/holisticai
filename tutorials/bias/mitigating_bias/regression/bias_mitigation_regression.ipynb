{
  "cells": [
    {
      "attachments": {},
      "cell_type": "markdown",
      "metadata": {
        "id": "UlJD1nhT3vy_"
      },
      "source": [
        "# **Bias Measuring and Mitigation in Regression Tasks**\n",
        "\n",
        "Bias in machine learning models can occur when predictions systematically deviate from the true values for certain subgroups within the dataset. This bias can arise from various sources such as unbalanced group representation in the training data, inappropriate feature selection, or flawed model specifications. This tutorial focuses on addressing bias in regression tasks.\n",
        "\n",
        "### Measuring Bias in Regression Tasks\n",
        "\n",
        "To measure bias, we use fairness metrics such as demographic parity, equalized odds, or equal opportunity. These metrics quantify differences in model performance across subgroups defined by sensitive attributes like gender or race.\n",
        "\n",
        "### Mitigating Bias\n",
        "\n",
        "Upon detecting bias, we can mitigate it using techniques categorized into three groups:\n",
        "1. **Pre-processing methods:** Adjust the training data to remove bias.\n",
        "2. **In-processing methods:** Modify the learning algorithm to reduce bias during training.\n",
        "3. **Post-processing methods:** Adjust model predictions to eliminate bias.\n",
        "\n",
        "This tutorial will demonstrate tools for measuring and mitigating bias in regression models through the following steps:\n",
        "1. Data loading and package installation\n",
        "2. Dataset preprocessing\n",
        "3. Data analysis\n",
        "4. Model training\n",
        "5. Bias measurement\n",
        "6. Bias mitigation\n",
        "7. Results comparison\n",
        "\n",
        "## **1. Data Loading and Packages Installation**\n",
        "\n",
        "First, install the required packages. If you don't have the `holisticai` package, install it using the following command:\n",
        "\n",
        "```bash\n",
        "!pip install holisticai[all]\n",
        "```\n",
        "\n",
        "We will then import the necessary libraries.\n"
      ]
    },
    {
      "cell_type": "code",
      "execution_count": 1,
      "metadata": {
        "id": "cb0SfHEYJfNo"
      },
      "outputs": [],
      "source": [
        "import pandas as pd\n",
        "import numpy as np\n",
        "import matplotlib.pyplot as plt\n",
        "\n",
        "from sklearn.metrics import mean_squared_error"
      ]
    },
    {
      "cell_type": "markdown",
      "metadata": {},
      "source": [
        "To ensure reproducibility and ignore warnings for cleaner outputs:"
      ]
    },
    {
      "cell_type": "code",
      "execution_count": 2,
      "metadata": {
        "id": "3X1keA2QORTA"
      },
      "outputs": [],
      "source": [
        "np.random.seed(0)\n",
        "import warnings\n",
        "warnings.filterwarnings(\"ignore\")"
      ]
    },
    {
      "attachments": {},
      "cell_type": "markdown",
      "metadata": {},
      "source": [
        "## **2. Dataset preprocessing**"
      ]
    },
    {
      "attachments": {},
      "cell_type": "markdown",
      "metadata": {
        "id": "-Vzc8NT0Boa5"
      },
      "source": [
        "We will use the \"Communities and Crime\" dataset, which includes socio-economic and law enforcement data for 1994 U.S. communities. It contains demographic variables like population size, race, and education level, alongside law enforcement variables. The goal is to predict the crime rate per capita.\n",
        "\n",
        "Source: [UCI ML repository](https://archive.ics.uci.edu/ml/datasets/communities+and+crime)"
      ]
    },
    {
      "cell_type": "code",
      "execution_count": 3,
      "metadata": {
        "colab": {
          "base_uri": "https://localhost:8080/"
        },
        "id": "NZAnQ7zU6qBx",
        "outputId": "05868d40-a37b-4d89-cfd4-7ac767644e8e"
      },
      "outputs": [],
      "source": [
        "from holisticai.datasets import load_dataset"
      ]
    },
    {
      "attachments": {},
      "cell_type": "markdown",
      "metadata": {
        "id": "63YkNOzE6--R"
      },
      "source": [
        "Using the holisticai package, we load and preprocess the dataset:"
      ]
    },
    {
      "cell_type": "code",
      "execution_count": 4,
      "metadata": {
        "colab": {
          "base_uri": "https://localhost:8080/",
          "height": 394
        },
        "id": "8QGLtWoVJoDk",
        "outputId": "4f2fe478-2419-4413-93ff-a627db25f37c"
      },
      "outputs": [
        {
          "data": {
            "text/html": [
              "\n",
              "        <head>\n",
              "            <meta charset=\"UTF-8\">\n",
              "            <meta name=\"viewport\" content=\"width=device-width, initial-scale=1.0\">\n",
              "            <title>Diagrama DatasetDict</title>\n",
              "            <style>\n",
              "                \n",
              "    .container {\n",
              "        font-family: Arial, sans-serif;\n",
              "        margin: 20px;\n",
              "    }\n",
              "    .node {\n",
              "        border: 2px solid #000;\n",
              "        padding: 10px;\n",
              "        margin: 10px;\n",
              "        text-align: left;\n",
              "        display: inline-block;\n",
              "        background-color: #E0FFFF;\n",
              "    }\n",
              "    .datasets-container {\n",
              "        display: flex;\n",
              "        flex-wrap: wrap;\n",
              "    }\n",
              "    .dataset {\n",
              "        border: 2px solid #007bff;\n",
              "        padding: 10px;\n",
              "        margin: 10px;\n",
              "        text-align: left;\n",
              "        border-radius: 5px;\n",
              "        display: inline-block;\n",
              "        white-space: nowrap;\n",
              "        background-color: #E0FFFF;\n",
              "        box-sizing: border-box;\n",
              "    }\n",
              "    .title {\n",
              "        font-weight: bold;\n",
              "        color: #222; /* Letras más negras */\n",
              "        margin-bottom: 10px;\n",
              "        text-align: left;\n",
              "        white-space: nowrap;\n",
              "    }\n",
              "    ul {\n",
              "        list-style-type: disc;\n",
              "        padding-left: 20px;\n",
              "        text-align: left;\n",
              "        margin: 0;\n",
              "        white-space: normal;\n",
              "        color: #222; /* Letras más negras */\n",
              "    }\n",
              "    .groupbydataset {\n",
              "        border: 2px solid #007bff; /* Dark red */\n",
              "        padding: 10px;\n",
              "        margin: 10px;\n",
              "        text-align: left;\n",
              "        border-radius: 5px;\n",
              "        display: inline-block;\n",
              "        white-space: nowrap;\n",
              "        background-color: #E0FFFF; /* Light pink */\n",
              "        box-sizing: border-box;\n",
              "    }\n",
              "    \n",
              "            </style>\n",
              "        </head>\n",
              "        <body>\n",
              "            <div class=\"container\">\n",
              "                \n",
              "        <div class=\"dataset\" style=\"width: 472px;\">\n",
              "            <div class=\"title\">Dataset</div>\n",
              "            <ul>\n",
              "                <li>features: [ X , y , group_a , group_b ]</li>\n",
              "                <li>num_rows: 1993</li>\n",
              "            </ul>\n",
              "        </div>\n",
              "        \n",
              "            </div>\n",
              "        </body>\n",
              "        "
            ],
            "text/plain": [
              "Dataset({\n",
              "        features: ['X', 'y', 'group_a', 'group_b'],\n",
              "        num_rows: 1993\n",
              "    })"
            ]
          },
          "execution_count": 4,
          "metadata": {},
          "output_type": "execute_result"
        }
      ],
      "source": [
        "dataset = load_dataset('us_crime')\n",
        "dataset"
      ]
    },
    {
      "cell_type": "markdown",
      "metadata": {},
      "source": [
        "Check for any missing values:"
      ]
    },
    {
      "cell_type": "code",
      "execution_count": 5,
      "metadata": {},
      "outputs": [
        {
          "data": {
            "text/plain": [
              "state                  0\n",
              "fold                   0\n",
              "population             0\n",
              "householdsize          0\n",
              "racepctblack           0\n",
              "                      ..\n",
              "PctSameState85         0\n",
              "LandArea               0\n",
              "PopDens                0\n",
              "PctUsePubTrans         0\n",
              "LemasPctOfficDrugUn    0\n",
              "Length: 101, dtype: int64"
            ]
          },
          "execution_count": 5,
          "metadata": {},
          "output_type": "execute_result"
        }
      ],
      "source": [
        "dataset['X'].isna().sum()"
      ]
    },
    {
      "attachments": {},
      "cell_type": "markdown",
      "metadata": {
        "id": "IpEjoZ4U4qTc"
      },
      "source": [
        "## **3. Data analysis**\n",
        "\n",
        "Next, analyze the distribution of the protected groups using a pie chart."
      ]
    },
    {
      "cell_type": "code",
      "execution_count": 6,
      "metadata": {
        "id": "ivo9UpXeJqDA"
      },
      "outputs": [
        {
          "data": {
            "text/plain": [
              "<Axes: title={'center': 'Group proportions'}>"
            ]
          },
          "execution_count": 6,
          "metadata": {},
          "output_type": "execute_result"
        },
        {
          "data": {
            "image/png": "[encoded data removed]",
            "text/plain": [
              "<Figure size 640x480 with 1 Axes>"
            ]
          },
          "metadata": {},
          "output_type": "display_data"
        }
      ],
      "source": [
        "from holisticai.bias.plots import group_pie_plot\n",
        "\n",
        "group_pie_plot(dataset['group_a'])"
      ]
    },
    {
      "attachments": {},
      "cell_type": "markdown",
      "metadata": {},
      "source": [
        "The chart shows a high proportion of white individuals (labelled as True). We also examine the features most correlated with the target variable:"
      ]
    },
    {
      "cell_type": "code",
      "execution_count": 7,
      "metadata": {
        "colab": {
          "base_uri": "https://localhost:8080/",
          "height": 294
        },
        "id": "dxxabLEJ8nvs",
        "outputId": "b6c41ab2-b0e9-4195-b634-90f532c74411"
      },
      "outputs": [
        {
          "data": {
            "text/plain": [
              "<Axes: title={'center': 'Correlation matrix'}>"
            ]
          },
          "execution_count": 7,
          "metadata": {},
          "output_type": "execute_result"
        },
        {
          "data": {
            "image/png": "[encoded data removed]",
            "text/plain": [
              "<Figure size 640x480 with 1 Axes>"
            ]
          },
          "metadata": {},
          "output_type": "display_data"
        }
      ],
      "source": [
        "from holisticai.bias.plots import correlation_matrix_plot\n",
        "\n",
        "correlation_matrix_plot(pd.concat([dataset['X'], dataset['y']], axis=1), target_feature=\"y\", n_features=10)"
      ]
    },
    {
      "cell_type": "markdown",
      "metadata": {},
      "source": [
        "Split the data into training and testing sets:"
      ]
    },
    {
      "cell_type": "code",
      "execution_count": 8,
      "metadata": {
        "id": "e1FVWNLPJ86z"
      },
      "outputs": [],
      "source": [
        "dataset = dataset.train_test_split(test_size=0.2, random_state=0)\n",
        "train_data = dataset['train']\n",
        "test_data = dataset['test']"
      ]
    },
    {
      "attachments": {},
      "cell_type": "markdown",
      "metadata": {
        "id": "R-ioErpp_Ruv"
      },
      "source": [
        "## **4. Model training**\n",
        "\n",
        "Train a linear regression model, ensuring the protected attributes are excluded from the training process:"
      ]
    },
    {
      "cell_type": "code",
      "execution_count": 9,
      "metadata": {
        "id": "VLM933LQJ_2l"
      },
      "outputs": [
        {
          "name": "stdout",
          "output_type": "stream",
          "text": [
            "RMS error: 0.14166130795519824\n"
          ]
        }
      ],
      "source": [
        "from sklearn.preprocessing import StandardScaler\n",
        "from sklearn.linear_model import LinearRegression\n",
        "\n",
        "scaler = StandardScaler()\n",
        "X = scaler.fit_transform(train_data['X'])\n",
        "\n",
        "LR = LinearRegression()\n",
        "model = LR.fit(X, train_data['y'])\n",
        "\n",
        "X = scaler.transform(test_data['X'])\n",
        "y_pred = model.predict(X)\n",
        "\n",
        "baseline_rmse = mean_squared_error(test_data['y'], y_pred, squared=False)\n",
        "print(f\"RMS error: {baseline_rmse}\")"
      ]
    },
    {
      "attachments": {},
      "cell_type": "markdown",
      "metadata": {
        "id": "HE_S-dUiB95a"
      },
      "source": [
        "## **5. Measuring Bias**\n",
        "\n",
        "To evaluate the fairness of the model, we use the predictions alongside the previously defined protected groups. The `holisticai` package provides a module specifically designed for calculating various metrics that assess the fairness of algorithmic decisions. In this tutorial, we will utilize the `regression_bias_metrics` function to measure bias in our regression model."
      ]
    },
    {
      "cell_type": "code",
      "execution_count": 10,
      "metadata": {
        "id": "8jBCOnh5CpVd"
      },
      "outputs": [
        {
          "data": {
            "text/html": [
              "<div>\n",
              "<style scoped>\n",
              "    .dataframe tbody tr th:only-of-type {\n",
              "        vertical-align: middle;\n",
              "    }\n",
              "\n",
              "    .dataframe tbody tr th {\n",
              "        vertical-align: top;\n",
              "    }\n",
              "\n",
              "    .dataframe thead th {\n",
              "        text-align: right;\n",
              "    }\n",
              "</style>\n",
              "<table border=\"1\" class=\"dataframe\">\n",
              "  <thead>\n",
              "    <tr style=\"text-align: right;\">\n",
              "      <th></th>\n",
              "      <th>Value</th>\n",
              "      <th>Reference</th>\n",
              "    </tr>\n",
              "    <tr>\n",
              "      <th>Metric</th>\n",
              "      <th></th>\n",
              "      <th></th>\n",
              "    </tr>\n",
              "  </thead>\n",
              "  <tbody>\n",
              "    <tr>\n",
              "      <th>Disparate Impact Q90</th>\n",
              "      <td>0.019666</td>\n",
              "      <td>1</td>\n",
              "    </tr>\n",
              "    <tr>\n",
              "      <th>Disparate Impact Q80</th>\n",
              "      <td>0.117994</td>\n",
              "      <td>1</td>\n",
              "    </tr>\n",
              "    <tr>\n",
              "      <th>Disparate Impact Q50</th>\n",
              "      <td>0.412979</td>\n",
              "      <td>1</td>\n",
              "    </tr>\n",
              "    <tr>\n",
              "      <th>Statistical Parity Q50</th>\n",
              "      <td>-0.705605</td>\n",
              "      <td>0</td>\n",
              "    </tr>\n",
              "    <tr>\n",
              "      <th>No Disparate Impact Level</th>\n",
              "      <td>0.056745</td>\n",
              "      <td>-</td>\n",
              "    </tr>\n",
              "    <tr>\n",
              "      <th>Average Score Difference</th>\n",
              "      <td>-0.373790</td>\n",
              "      <td>0</td>\n",
              "    </tr>\n",
              "    <tr>\n",
              "      <th>Average Score Ratio</th>\n",
              "      <td>0.308392</td>\n",
              "      <td>1</td>\n",
              "    </tr>\n",
              "    <tr>\n",
              "      <th>Z Score Difference</th>\n",
              "      <td>-2.750267</td>\n",
              "      <td>0</td>\n",
              "    </tr>\n",
              "    <tr>\n",
              "      <th>Max Statistical Parity</th>\n",
              "      <td>0.767257</td>\n",
              "      <td>0</td>\n",
              "    </tr>\n",
              "    <tr>\n",
              "      <th>Statistical Parity AUC</th>\n",
              "      <td>0.452860</td>\n",
              "      <td>0</td>\n",
              "    </tr>\n",
              "    <tr>\n",
              "      <th>RMSE Ratio</th>\n",
              "      <td>0.614069</td>\n",
              "      <td>1</td>\n",
              "    </tr>\n",
              "    <tr>\n",
              "      <th>RMSE Ratio Q80</th>\n",
              "      <td>0.966421</td>\n",
              "      <td>1</td>\n",
              "    </tr>\n",
              "    <tr>\n",
              "      <th>MAE Ratio</th>\n",
              "      <td>0.486594</td>\n",
              "      <td>1</td>\n",
              "    </tr>\n",
              "    <tr>\n",
              "      <th>MAE Ratio Q80</th>\n",
              "      <td>0.937572</td>\n",
              "      <td>1</td>\n",
              "    </tr>\n",
              "    <tr>\n",
              "      <th>Correlation Difference</th>\n",
              "      <td>0.002428</td>\n",
              "      <td>0</td>\n",
              "    </tr>\n",
              "  </tbody>\n",
              "</table>\n",
              "</div>"
            ],
            "text/plain": [
              "                              Value Reference\n",
              "Metric                                       \n",
              "Disparate Impact Q90       0.019666         1\n",
              "Disparate Impact Q80       0.117994         1\n",
              "Disparate Impact Q50       0.412979         1\n",
              "Statistical Parity Q50    -0.705605         0\n",
              "No Disparate Impact Level  0.056745         -\n",
              "Average Score Difference  -0.373790         0\n",
              "Average Score Ratio        0.308392         1\n",
              "Z Score Difference        -2.750267         0\n",
              "Max Statistical Parity     0.767257         0\n",
              "Statistical Parity AUC     0.452860         0\n",
              "RMSE Ratio                 0.614069         1\n",
              "RMSE Ratio Q80             0.966421         1\n",
              "MAE Ratio                  0.486594         1\n",
              "MAE Ratio Q80              0.937572         1\n",
              "Correlation Difference     0.002428         0"
            ]
          },
          "execution_count": 10,
          "metadata": {},
          "output_type": "execute_result"
        }
      ],
      "source": [
        "from holisticai.bias.metrics import regression_bias_metrics\n",
        "\n",
        "df = regression_bias_metrics(\n",
        "    test_data['group_a'],\n",
        "    test_data['group_b'],\n",
        "    y_pred,\n",
        "    test_data['y'],\n",
        "    metric_type='both'\n",
        ")\n",
        "y_baseline = y_pred.copy()\n",
        "df_baseline=df.copy()\n",
        "df_baseline"
      ]
    },
    {
      "attachments": {},
      "cell_type": "markdown",
      "metadata": {
        "id": "fCBakVYQhFNP"
      },
      "source": [
        "Understanding the Metrics\n",
        "\n",
        "- **Disparate Impact Q:** Ratio of success rates between protected groups. Values < 1 favor `group_a`, values > 1 favor `group_b`. Acceptable range: (0.8, 1.2).\n",
        "- **Statistical Parity:** Difference in success rates between groups. Values < 0 favor `group_a`, values > 0 favor `group_b`.\n",
        "- **Average Score Difference:** Difference in average scores. Negative values indicate bias against `group_a`, positive against `group_b`.\n",
        "- **Z Score Difference:** Spread in Z-scores, normalized version of Disparate Impact.\n",
        "- **Max Statistical Parity:** Maximum absolute statistical parity over all thresholds. Values < 0.1 (absolute) are acceptable.\n",
        "- **RMSE Ratio:** RMSE for protected groups. Lower values favor `group_a`, higher favor `group_b`.\n",
        "- **MAE Ratio:** Similar to RMSE Ratio.\n",
        "- **Correlation Difference:** Difference in prediction-target correlation between groups. Positive values favor `group_a`, negative favor `group_b`."
      ]
    },
    {
      "cell_type": "markdown",
      "metadata": {},
      "source": [
        "## **6. Bias Mitigation**\n",
        "\n",
        "After identifying that the model metrics deviate significantly from the desired values, we need to apply strategies to mitigate the bias present in the model.\n",
        "\n",
        "There are various bias mitigation strategies categorized into three types: *Pre-processing*, *In-processing*, and *Post-processing* methods. The `holisticai` library offers a range of algorithms for bias mitigation across these categories. A notable feature is their compatibility with the `Scikit-learn` package, ensuring ease of use for those familiar with Scikit-learn. Implementation can follow traditional methods or be integrated into a pipeline, as we will demonstrate.\n",
        "\n",
        "### **Pre-processing: Correlation Remover**\n",
        "\n",
        "First, we will implement the \"Correlation Remover\" method, a pre-processing algorithm that modifies the original dataset. This technique removes all correlations with sensitive attributes by applying a linear transformation to the non-sensitive feature columns."
      ]
    },
    {
      "cell_type": "code",
      "execution_count": 11,
      "metadata": {
        "id": "UbylXQcaKVfo"
      },
      "outputs": [],
      "source": [
        "from holisticai.bias.mitigation import CorrelationRemover"
      ]
    },
    {
      "cell_type": "code",
      "execution_count": 12,
      "metadata": {
        "colab": {
          "base_uri": "https://localhost:8080/",
          "height": 551
        },
        "id": "0N53PlHGLWw9",
        "outputId": "f177e10a-e285-41fa-a8d6-a4ef90b4a1b9"
      },
      "outputs": [
        {
          "data": {
            "text/html": [
              "<div>\n",
              "<style scoped>\n",
              "    .dataframe tbody tr th:only-of-type {\n",
              "        vertical-align: middle;\n",
              "    }\n",
              "\n",
              "    .dataframe tbody tr th {\n",
              "        vertical-align: top;\n",
              "    }\n",
              "\n",
              "    .dataframe thead th {\n",
              "        text-align: right;\n",
              "    }\n",
              "</style>\n",
              "<table border=\"1\" class=\"dataframe\">\n",
              "  <thead>\n",
              "    <tr style=\"text-align: right;\">\n",
              "      <th></th>\n",
              "      <th>Value</th>\n",
              "      <th>Reference</th>\n",
              "    </tr>\n",
              "    <tr>\n",
              "      <th>Metric</th>\n",
              "      <th></th>\n",
              "      <th></th>\n",
              "    </tr>\n",
              "  </thead>\n",
              "  <tbody>\n",
              "    <tr>\n",
              "      <th>Disparate Impact Q90</th>\n",
              "      <td>0.144811</td>\n",
              "      <td>1</td>\n",
              "    </tr>\n",
              "    <tr>\n",
              "      <th>Disparate Impact Q80</th>\n",
              "      <td>0.216323</td>\n",
              "      <td>1</td>\n",
              "    </tr>\n",
              "    <tr>\n",
              "      <th>Disparate Impact Q50</th>\n",
              "      <td>0.530973</td>\n",
              "      <td>1</td>\n",
              "    </tr>\n",
              "    <tr>\n",
              "      <th>Statistical Parity Q50</th>\n",
              "      <td>-0.470206</td>\n",
              "      <td>0</td>\n",
              "    </tr>\n",
              "    <tr>\n",
              "      <th>No Disparate Impact Level</th>\n",
              "      <td>0.072893</td>\n",
              "      <td>-</td>\n",
              "    </tr>\n",
              "    <tr>\n",
              "      <th>Average Score Difference</th>\n",
              "      <td>-0.243671</td>\n",
              "      <td>0</td>\n",
              "    </tr>\n",
              "    <tr>\n",
              "      <th>Average Score Ratio</th>\n",
              "      <td>0.433022</td>\n",
              "      <td>1</td>\n",
              "    </tr>\n",
              "    <tr>\n",
              "      <th>Z Score Difference</th>\n",
              "      <td>-1.552591</td>\n",
              "      <td>0</td>\n",
              "    </tr>\n",
              "    <tr>\n",
              "      <th>Max Statistical Parity</th>\n",
              "      <td>0.523894</td>\n",
              "      <td>0</td>\n",
              "    </tr>\n",
              "    <tr>\n",
              "      <th>Statistical Parity AUC</th>\n",
              "      <td>0.326530</td>\n",
              "      <td>0</td>\n",
              "    </tr>\n",
              "    <tr>\n",
              "      <th>RMSE Ratio</th>\n",
              "      <td>0.537503</td>\n",
              "      <td>1</td>\n",
              "    </tr>\n",
              "    <tr>\n",
              "      <th>RMSE Ratio Q80</th>\n",
              "      <td>0.735935</td>\n",
              "      <td>1</td>\n",
              "    </tr>\n",
              "    <tr>\n",
              "      <th>MAE Ratio</th>\n",
              "      <td>0.460711</td>\n",
              "      <td>1</td>\n",
              "    </tr>\n",
              "    <tr>\n",
              "      <th>MAE Ratio Q80</th>\n",
              "      <td>0.733253</td>\n",
              "      <td>1</td>\n",
              "    </tr>\n",
              "    <tr>\n",
              "      <th>Correlation Difference</th>\n",
              "      <td>0.008019</td>\n",
              "      <td>0</td>\n",
              "    </tr>\n",
              "  </tbody>\n",
              "</table>\n",
              "</div>"
            ],
            "text/plain": [
              "                              Value Reference\n",
              "Metric                                       \n",
              "Disparate Impact Q90       0.144811         1\n",
              "Disparate Impact Q80       0.216323         1\n",
              "Disparate Impact Q50       0.530973         1\n",
              "Statistical Parity Q50    -0.470206         0\n",
              "No Disparate Impact Level  0.072893         -\n",
              "Average Score Difference  -0.243671         0\n",
              "Average Score Ratio        0.433022         1\n",
              "Z Score Difference        -1.552591         0\n",
              "Max Statistical Parity     0.523894         0\n",
              "Statistical Parity AUC     0.326530         0\n",
              "RMSE Ratio                 0.537503         1\n",
              "RMSE Ratio Q80             0.735935         1\n",
              "MAE Ratio                  0.460711         1\n",
              "MAE Ratio Q80              0.733253         1\n",
              "Correlation Difference     0.008019         0"
            ]
          },
          "execution_count": 12,
          "metadata": {},
          "output_type": "execute_result"
        }
      ],
      "source": [
        "model = LinearRegression()\n",
        "\n",
        "scaler = StandardScaler()\n",
        "X = scaler.fit_transform(train_data['X'])\n",
        "\n",
        "corr = CorrelationRemover()\n",
        "processed_data = corr.fit_transform(X, train_data['group_a'], train_data['group_b'])\n",
        "\n",
        "model.fit(processed_data, train_data['y'])\n",
        "\n",
        "X = scaler.transform(test_data['X'])\n",
        "\n",
        "processed_data = corr.transform(X, test_data['group_a'], test_data['group_b'])\n",
        "\n",
        "y_pred = model.predict(processed_data)\n",
        "\n",
        "df = regression_bias_metrics(\n",
        "    test_data['group_a'],\n",
        "    test_data['group_b'],\n",
        "    y_pred,\n",
        "    test_data['y'],\n",
        "    metric_type='both'\n",
        ")\n",
        "df_correm =df.copy()\n",
        "df_correm"
      ]
    },
    {
      "cell_type": "markdown",
      "metadata": {},
      "source": [
        "Evaluate RMSE:"
      ]
    },
    {
      "cell_type": "code",
      "execution_count": 13,
      "metadata": {
        "colab": {
          "base_uri": "https://localhost:8080/"
        },
        "id": "7Icn4FB1L9Zw",
        "outputId": "164b488e-b262-498b-891a-aa4937f179c4"
      },
      "outputs": [
        {
          "name": "stdout",
          "output_type": "stream",
          "text": [
            "RMS error: 0.15193137995127576\n"
          ]
        }
      ],
      "source": [
        "correm_rmse = mean_squared_error(dataset['test']['y'], y_pred, squared=False)\n",
        "print(\"RMS error: {}\".format(correm_rmse))"
      ]
    },
    {
      "attachments": {},
      "cell_type": "markdown",
      "metadata": {
        "id": "AUGQh-zAvY8-"
      },
      "source": [
        "### **In-processing: Exponentiated Gradient**\n",
        "\n",
        "Next, we will implement the \"Exponentiated Gradient Reduction\" method, an in-processing technique. This approach reduces fair classification to a series of cost-sensitive classification problems, resulting in a randomized classifier with the lowest empirical error while adhering to fair classification constraints."
      ]
    },
    {
      "cell_type": "code",
      "execution_count": 14,
      "metadata": {},
      "outputs": [],
      "source": [
        "from holisticai.bias.mitigation import ExponentiatedGradientReduction"
      ]
    },
    {
      "cell_type": "code",
      "execution_count": 15,
      "metadata": {
        "colab": {
          "base_uri": "https://localhost:8080/",
          "height": 551
        },
        "id": "x4vl8cM1K6K2",
        "outputId": "6787d52d-c7b3-4d2f-ffcd-218552a6cbe4"
      },
      "outputs": [
        {
          "data": {
            "text/html": [
              "<div>\n",
              "<style scoped>\n",
              "    .dataframe tbody tr th:only-of-type {\n",
              "        vertical-align: middle;\n",
              "    }\n",
              "\n",
              "    .dataframe tbody tr th {\n",
              "        vertical-align: top;\n",
              "    }\n",
              "\n",
              "    .dataframe thead th {\n",
              "        text-align: right;\n",
              "    }\n",
              "</style>\n",
              "<table border=\"1\" class=\"dataframe\">\n",
              "  <thead>\n",
              "    <tr style=\"text-align: right;\">\n",
              "      <th></th>\n",
              "      <th>Value</th>\n",
              "      <th>Reference</th>\n",
              "    </tr>\n",
              "    <tr>\n",
              "      <th>Metric</th>\n",
              "      <th></th>\n",
              "      <th></th>\n",
              "    </tr>\n",
              "  </thead>\n",
              "  <tbody>\n",
              "    <tr>\n",
              "      <th>Disparate Impact Q90</th>\n",
              "      <td>0.058997</td>\n",
              "      <td>1</td>\n",
              "    </tr>\n",
              "    <tr>\n",
              "      <th>Disparate Impact Q80</th>\n",
              "      <td>0.144811</td>\n",
              "      <td>1</td>\n",
              "    </tr>\n",
              "    <tr>\n",
              "      <th>Disparate Impact Q50</th>\n",
              "      <td>0.455120</td>\n",
              "      <td>1</td>\n",
              "    </tr>\n",
              "    <tr>\n",
              "      <th>Statistical Parity Q50</th>\n",
              "      <td>-0.627139</td>\n",
              "      <td>0</td>\n",
              "    </tr>\n",
              "    <tr>\n",
              "      <th>No Disparate Impact Level</th>\n",
              "      <td>0.024584</td>\n",
              "      <td>-</td>\n",
              "    </tr>\n",
              "    <tr>\n",
              "      <th>Average Score Difference</th>\n",
              "      <td>-0.372666</td>\n",
              "      <td>0</td>\n",
              "    </tr>\n",
              "    <tr>\n",
              "      <th>Average Score Ratio</th>\n",
              "      <td>0.303989</td>\n",
              "      <td>1</td>\n",
              "    </tr>\n",
              "    <tr>\n",
              "      <th>Z Score Difference</th>\n",
              "      <td>-1.990870</td>\n",
              "      <td>0</td>\n",
              "    </tr>\n",
              "    <tr>\n",
              "      <th>Max Statistical Parity</th>\n",
              "      <td>0.698673</td>\n",
              "      <td>0</td>\n",
              "    </tr>\n",
              "    <tr>\n",
              "      <th>Statistical Parity AUC</th>\n",
              "      <td>0.393226</td>\n",
              "      <td>0</td>\n",
              "    </tr>\n",
              "    <tr>\n",
              "      <th>RMSE Ratio</th>\n",
              "      <td>0.714597</td>\n",
              "      <td>1</td>\n",
              "    </tr>\n",
              "    <tr>\n",
              "      <th>RMSE Ratio Q80</th>\n",
              "      <td>0.845568</td>\n",
              "      <td>1</td>\n",
              "    </tr>\n",
              "    <tr>\n",
              "      <th>MAE Ratio</th>\n",
              "      <td>0.690159</td>\n",
              "      <td>1</td>\n",
              "    </tr>\n",
              "    <tr>\n",
              "      <th>MAE Ratio Q80</th>\n",
              "      <td>0.889464</td>\n",
              "      <td>1</td>\n",
              "    </tr>\n",
              "    <tr>\n",
              "      <th>Correlation Difference</th>\n",
              "      <td>-0.051509</td>\n",
              "      <td>0</td>\n",
              "    </tr>\n",
              "  </tbody>\n",
              "</table>\n",
              "</div>"
            ],
            "text/plain": [
              "                              Value Reference\n",
              "Metric                                       \n",
              "Disparate Impact Q90       0.058997         1\n",
              "Disparate Impact Q80       0.144811         1\n",
              "Disparate Impact Q50       0.455120         1\n",
              "Statistical Parity Q50    -0.627139         0\n",
              "No Disparate Impact Level  0.024584         -\n",
              "Average Score Difference  -0.372666         0\n",
              "Average Score Ratio        0.303989         1\n",
              "Z Score Difference        -1.990870         0\n",
              "Max Statistical Parity     0.698673         0\n",
              "Statistical Parity AUC     0.393226         0\n",
              "RMSE Ratio                 0.714597         1\n",
              "RMSE Ratio Q80             0.845568         1\n",
              "MAE Ratio                  0.690159         1\n",
              "MAE Ratio Q80              0.889464         1\n",
              "Correlation Difference    -0.051509         0"
            ]
          },
          "execution_count": 15,
          "metadata": {},
          "output_type": "execute_result"
        }
      ],
      "source": [
        "model = LinearRegression()\n",
        "inprocessing_model = ExponentiatedGradientReduction(constraints=\"BoundedGroupLoss\", \n",
        "                                         loss='Square', min_val=-0.1, max_val=1.3, upper_bound=0.001,\n",
        "                                         ).transform_estimator(model)\n",
        "\n",
        "scaler = StandardScaler()\n",
        "X = scaler.fit_transform(train_data['X'])\n",
        "\n",
        "inprocessing_model.fit(X, train_data['y'], train_data['group_a'], train_data['group_b'])\n",
        "\n",
        "X = scaler.transform(test_data['X'])\n",
        "\n",
        "y_pred = inprocessing_model.predict(X)\n",
        "\n",
        "df = regression_bias_metrics(\n",
        "    test_data['group_a'],\n",
        "    test_data['group_b'],\n",
        "    y_pred,\n",
        "    test_data['y'],\n",
        "    metric_type='both'\n",
        ")\n",
        "df_exp_grad = df.copy()\n",
        "df_exp_grad"
      ]
    },
    {
      "cell_type": "markdown",
      "metadata": {},
      "source": [
        "Evaluate RMSE:"
      ]
    },
    {
      "cell_type": "code",
      "execution_count": 16,
      "metadata": {},
      "outputs": [
        {
          "name": "stdout",
          "output_type": "stream",
          "text": [
            "RMS error: 0.16866594068862525\n"
          ]
        }
      ],
      "source": [
        "expgrad_rmse = mean_squared_error(test_data['y'], y_pred, squared=False)\n",
        "print(\"RMS error: {}\".format(expgrad_rmse))"
      ]
    },
    {
      "cell_type": "markdown",
      "metadata": {},
      "source": [
        "### **Post-processing: Wasserstein Barycenters**\n",
        "\n",
        "Finally, we will implement the \"Wasserstein Barycenter\" method, a post-processing technique. This method identifies the optimal fair predictor by computing the Wasserstein barycenter of the distributions induced by the standard regression function across sensitive groups."
      ]
    },
    {
      "cell_type": "code",
      "execution_count": 17,
      "metadata": {},
      "outputs": [],
      "source": [
        "from holisticai.bias.mitigation import WassersteinBarycenter"
      ]
    },
    {
      "cell_type": "code",
      "execution_count": 18,
      "metadata": {},
      "outputs": [
        {
          "data": {
            "text/html": [
              "<div>\n",
              "<style scoped>\n",
              "    .dataframe tbody tr th:only-of-type {\n",
              "        vertical-align: middle;\n",
              "    }\n",
              "\n",
              "    .dataframe tbody tr th {\n",
              "        vertical-align: top;\n",
              "    }\n",
              "\n",
              "    .dataframe thead th {\n",
              "        text-align: right;\n",
              "    }\n",
              "</style>\n",
              "<table border=\"1\" class=\"dataframe\">\n",
              "  <thead>\n",
              "    <tr style=\"text-align: right;\">\n",
              "      <th></th>\n",
              "      <th>Value</th>\n",
              "      <th>Reference</th>\n",
              "    </tr>\n",
              "    <tr>\n",
              "      <th>Metric</th>\n",
              "      <th></th>\n",
              "      <th></th>\n",
              "    </tr>\n",
              "  </thead>\n",
              "  <tbody>\n",
              "    <tr>\n",
              "      <th>Disparate Impact Q90</th>\n",
              "      <td>0.609636</td>\n",
              "      <td>1</td>\n",
              "    </tr>\n",
              "    <tr>\n",
              "      <th>Disparate Impact Q80</th>\n",
              "      <td>0.655908</td>\n",
              "      <td>1</td>\n",
              "    </tr>\n",
              "    <tr>\n",
              "      <th>Disparate Impact Q50</th>\n",
              "      <td>0.806293</td>\n",
              "      <td>1</td>\n",
              "    </tr>\n",
              "    <tr>\n",
              "      <th>Statistical Parity Q50</th>\n",
              "      <td>-0.097493</td>\n",
              "      <td>0</td>\n",
              "    </tr>\n",
              "    <tr>\n",
              "      <th>No Disparate Impact Level</th>\n",
              "      <td>0.237503</td>\n",
              "      <td>-</td>\n",
              "    </tr>\n",
              "    <tr>\n",
              "      <th>Average Score Difference</th>\n",
              "      <td>-0.033650</td>\n",
              "      <td>0</td>\n",
              "    </tr>\n",
              "    <tr>\n",
              "      <th>Average Score Ratio</th>\n",
              "      <td>0.868239</td>\n",
              "      <td>1</td>\n",
              "    </tr>\n",
              "    <tr>\n",
              "      <th>Z Score Difference</th>\n",
              "      <td>-0.247357</td>\n",
              "      <td>0</td>\n",
              "    </tr>\n",
              "    <tr>\n",
              "      <th>Max Statistical Parity</th>\n",
              "      <td>0.180678</td>\n",
              "      <td>0</td>\n",
              "    </tr>\n",
              "    <tr>\n",
              "      <th>Statistical Parity AUC</th>\n",
              "      <td>0.064028</td>\n",
              "      <td>0</td>\n",
              "    </tr>\n",
              "    <tr>\n",
              "      <th>RMSE Ratio</th>\n",
              "      <td>0.372568</td>\n",
              "      <td>1</td>\n",
              "    </tr>\n",
              "    <tr>\n",
              "      <th>RMSE Ratio Q80</th>\n",
              "      <td>0.429231</td>\n",
              "      <td>1</td>\n",
              "    </tr>\n",
              "    <tr>\n",
              "      <th>MAE Ratio</th>\n",
              "      <td>0.339849</td>\n",
              "      <td>1</td>\n",
              "    </tr>\n",
              "    <tr>\n",
              "      <th>MAE Ratio Q80</th>\n",
              "      <td>0.380852</td>\n",
              "      <td>1</td>\n",
              "    </tr>\n",
              "    <tr>\n",
              "      <th>Correlation Difference</th>\n",
              "      <td>0.011022</td>\n",
              "      <td>0</td>\n",
              "    </tr>\n",
              "  </tbody>\n",
              "</table>\n",
              "</div>"
            ],
            "text/plain": [
              "                              Value Reference\n",
              "Metric                                       \n",
              "Disparate Impact Q90       0.609636         1\n",
              "Disparate Impact Q80       0.655908         1\n",
              "Disparate Impact Q50       0.806293         1\n",
              "Statistical Parity Q50    -0.097493         0\n",
              "No Disparate Impact Level  0.237503         -\n",
              "Average Score Difference  -0.033650         0\n",
              "Average Score Ratio        0.868239         1\n",
              "Z Score Difference        -0.247357         0\n",
              "Max Statistical Parity     0.180678         0\n",
              "Statistical Parity AUC     0.064028         0\n",
              "RMSE Ratio                 0.372568         1\n",
              "RMSE Ratio Q80             0.429231         1\n",
              "MAE Ratio                  0.339849         1\n",
              "MAE Ratio Q80              0.380852         1\n",
              "Correlation Difference     0.011022         0"
            ]
          },
          "execution_count": 18,
          "metadata": {},
          "output_type": "execute_result"
        }
      ],
      "source": [
        "model = LinearRegression()\n",
        "model.fit(train_data['X'], train_data['y'])\n",
        "y_pred = model.predict(train_data['X'])\n",
        "\n",
        "post_processer = WassersteinBarycenter()\n",
        "post_processer.fit_transform(y_pred, train_data['group_a'], train_data['group_b'])\n",
        "\n",
        "y_pred = model.predict(test_data['X'])\n",
        "\n",
        "y_pred = post_processer.transform(y_pred, test_data['group_a'], test_data['group_b'])['y_pred']\n",
        "\n",
        "df = regression_bias_metrics(\n",
        "    test_data['group_a'],\n",
        "    test_data['group_b'],\n",
        "    y_pred,\n",
        "    test_data['y'],\n",
        "    metric_type='both'\n",
        ")\n",
        "df_wb = df.copy()\n",
        "df_wb"
      ]
    },
    {
      "cell_type": "markdown",
      "metadata": {},
      "source": [
        "Evaluate RMSE:"
      ]
    },
    {
      "cell_type": "code",
      "execution_count": 19,
      "metadata": {},
      "outputs": [
        {
          "name": "stdout",
          "output_type": "stream",
          "text": [
            "RMS error: 0.18983097230624268\n"
          ]
        }
      ],
      "source": [
        "expgrad_rmse = mean_squared_error(test_data['y'], y_pred, squared=False)\n",
        "print(\"RMS error: {}\".format(expgrad_rmse))"
      ]
    },
    {
      "attachments": {},
      "cell_type": "markdown",
      "metadata": {
        "id": "Dz1YgG53wI_K"
      },
      "source": [
        "## **7. Results comparison**\n",
        "\n",
        "Now, we compare the results from the baseline model and the three bias mitigation techniques (Preprocessing, Inprocessing, Postprocessing).\n",
        "\n",
        "**Performance Metrics Overview**\n",
        "\n",
        "Below is a table summarizing key fairness metrics for the baseline model and each bias mitigation technique:"
      ]
    },
    {
      "cell_type": "code",
      "execution_count": 20,
      "metadata": {
        "colab": {
          "base_uri": "https://localhost:8080/",
          "height": 551
        },
        "id": "pNVKX4kKLpsz",
        "outputId": "653ed268-3ede-4583-b7d4-21d5e67e4f7b"
      },
      "outputs": [
        {
          "data": {
            "text/html": [
              "<div>\n",
              "<style scoped>\n",
              "    .dataframe tbody tr th:only-of-type {\n",
              "        vertical-align: middle;\n",
              "    }\n",
              "\n",
              "    .dataframe tbody tr th {\n",
              "        vertical-align: top;\n",
              "    }\n",
              "\n",
              "    .dataframe thead th {\n",
              "        text-align: right;\n",
              "    }\n",
              "</style>\n",
              "<table border=\"1\" class=\"dataframe\">\n",
              "  <thead>\n",
              "    <tr style=\"text-align: right;\">\n",
              "      <th></th>\n",
              "      <th>Baseline</th>\n",
              "      <th>Correlation remover</th>\n",
              "      <th>Exponentiated gradient</th>\n",
              "      <th>Wasserstein barycenters</th>\n",
              "      <th>Reference</th>\n",
              "    </tr>\n",
              "    <tr>\n",
              "      <th>Metric</th>\n",
              "      <th></th>\n",
              "      <th></th>\n",
              "      <th></th>\n",
              "      <th></th>\n",
              "      <th></th>\n",
              "    </tr>\n",
              "  </thead>\n",
              "  <tbody>\n",
              "    <tr>\n",
              "      <th>Disparate Impact Q90</th>\n",
              "      <td>0.019666</td>\n",
              "      <td>0.144811</td>\n",
              "      <td>0.058997</td>\n",
              "      <td>0.609636</td>\n",
              "      <td>1</td>\n",
              "    </tr>\n",
              "    <tr>\n",
              "      <th>Disparate Impact Q80</th>\n",
              "      <td>0.117994</td>\n",
              "      <td>0.216323</td>\n",
              "      <td>0.144811</td>\n",
              "      <td>0.655908</td>\n",
              "      <td>1</td>\n",
              "    </tr>\n",
              "    <tr>\n",
              "      <th>Disparate Impact Q50</th>\n",
              "      <td>0.412979</td>\n",
              "      <td>0.530973</td>\n",
              "      <td>0.455120</td>\n",
              "      <td>0.806293</td>\n",
              "      <td>1</td>\n",
              "    </tr>\n",
              "    <tr>\n",
              "      <th>Statistical Parity Q50</th>\n",
              "      <td>-0.705605</td>\n",
              "      <td>-0.470206</td>\n",
              "      <td>-0.627139</td>\n",
              "      <td>-0.097493</td>\n",
              "      <td>0</td>\n",
              "    </tr>\n",
              "    <tr>\n",
              "      <th>No Disparate Impact Level</th>\n",
              "      <td>0.056745</td>\n",
              "      <td>0.072893</td>\n",
              "      <td>0.024584</td>\n",
              "      <td>0.237503</td>\n",
              "      <td>-</td>\n",
              "    </tr>\n",
              "    <tr>\n",
              "      <th>Average Score Difference</th>\n",
              "      <td>-0.373790</td>\n",
              "      <td>-0.243671</td>\n",
              "      <td>-0.372666</td>\n",
              "      <td>-0.033650</td>\n",
              "      <td>0</td>\n",
              "    </tr>\n",
              "    <tr>\n",
              "      <th>Average Score Ratio</th>\n",
              "      <td>0.308392</td>\n",
              "      <td>0.433022</td>\n",
              "      <td>0.303989</td>\n",
              "      <td>0.868239</td>\n",
              "      <td>1</td>\n",
              "    </tr>\n",
              "    <tr>\n",
              "      <th>Z Score Difference</th>\n",
              "      <td>-2.750267</td>\n",
              "      <td>-1.552591</td>\n",
              "      <td>-1.990870</td>\n",
              "      <td>-0.247357</td>\n",
              "      <td>0</td>\n",
              "    </tr>\n",
              "    <tr>\n",
              "      <th>Max Statistical Parity</th>\n",
              "      <td>0.767257</td>\n",
              "      <td>0.523894</td>\n",
              "      <td>0.698673</td>\n",
              "      <td>0.180678</td>\n",
              "      <td>0</td>\n",
              "    </tr>\n",
              "    <tr>\n",
              "      <th>Statistical Parity AUC</th>\n",
              "      <td>0.452860</td>\n",
              "      <td>0.326530</td>\n",
              "      <td>0.393226</td>\n",
              "      <td>0.064028</td>\n",
              "      <td>0</td>\n",
              "    </tr>\n",
              "    <tr>\n",
              "      <th>RMSE Ratio</th>\n",
              "      <td>0.614069</td>\n",
              "      <td>0.537503</td>\n",
              "      <td>0.714597</td>\n",
              "      <td>0.372568</td>\n",
              "      <td>1</td>\n",
              "    </tr>\n",
              "    <tr>\n",
              "      <th>RMSE Ratio Q80</th>\n",
              "      <td>0.966421</td>\n",
              "      <td>0.735935</td>\n",
              "      <td>0.845568</td>\n",
              "      <td>0.429231</td>\n",
              "      <td>1</td>\n",
              "    </tr>\n",
              "    <tr>\n",
              "      <th>MAE Ratio</th>\n",
              "      <td>0.486594</td>\n",
              "      <td>0.460711</td>\n",
              "      <td>0.690159</td>\n",
              "      <td>0.339849</td>\n",
              "      <td>1</td>\n",
              "    </tr>\n",
              "    <tr>\n",
              "      <th>MAE Ratio Q80</th>\n",
              "      <td>0.937572</td>\n",
              "      <td>0.733253</td>\n",
              "      <td>0.889464</td>\n",
              "      <td>0.380852</td>\n",
              "      <td>1</td>\n",
              "    </tr>\n",
              "    <tr>\n",
              "      <th>Correlation Difference</th>\n",
              "      <td>0.002428</td>\n",
              "      <td>0.008019</td>\n",
              "      <td>-0.051509</td>\n",
              "      <td>0.011022</td>\n",
              "      <td>0</td>\n",
              "    </tr>\n",
              "  </tbody>\n",
              "</table>\n",
              "</div>"
            ],
            "text/plain": [
              "                           Baseline  Correlation remover  \\\n",
              "Metric                                                     \n",
              "Disparate Impact Q90       0.019666             0.144811   \n",
              "Disparate Impact Q80       0.117994             0.216323   \n",
              "Disparate Impact Q50       0.412979             0.530973   \n",
              "Statistical Parity Q50    -0.705605            -0.470206   \n",
              "No Disparate Impact Level  0.056745             0.072893   \n",
              "Average Score Difference  -0.373790            -0.243671   \n",
              "Average Score Ratio        0.308392             0.433022   \n",
              "Z Score Difference        -2.750267            -1.552591   \n",
              "Max Statistical Parity     0.767257             0.523894   \n",
              "Statistical Parity AUC     0.452860             0.326530   \n",
              "RMSE Ratio                 0.614069             0.537503   \n",
              "RMSE Ratio Q80             0.966421             0.735935   \n",
              "MAE Ratio                  0.486594             0.460711   \n",
              "MAE Ratio Q80              0.937572             0.733253   \n",
              "Correlation Difference     0.002428             0.008019   \n",
              "\n",
              "                           Exponentiated gradient  Wasserstein barycenters  \\\n",
              "Metric                                                                       \n",
              "Disparate Impact Q90                     0.058997                 0.609636   \n",
              "Disparate Impact Q80                     0.144811                 0.655908   \n",
              "Disparate Impact Q50                     0.455120                 0.806293   \n",
              "Statistical Parity Q50                  -0.627139                -0.097493   \n",
              "No Disparate Impact Level                0.024584                 0.237503   \n",
              "Average Score Difference                -0.372666                -0.033650   \n",
              "Average Score Ratio                      0.303989                 0.868239   \n",
              "Z Score Difference                      -1.990870                -0.247357   \n",
              "Max Statistical Parity                   0.698673                 0.180678   \n",
              "Statistical Parity AUC                   0.393226                 0.064028   \n",
              "RMSE Ratio                               0.714597                 0.372568   \n",
              "RMSE Ratio Q80                           0.845568                 0.429231   \n",
              "MAE Ratio                                0.690159                 0.339849   \n",
              "MAE Ratio Q80                            0.889464                 0.380852   \n",
              "Correlation Difference                  -0.051509                 0.011022   \n",
              "\n",
              "                          Reference  \n",
              "Metric                               \n",
              "Disparate Impact Q90              1  \n",
              "Disparate Impact Q80              1  \n",
              "Disparate Impact Q50              1  \n",
              "Statistical Parity Q50            0  \n",
              "No Disparate Impact Level         -  \n",
              "Average Score Difference          0  \n",
              "Average Score Ratio               1  \n",
              "Z Score Difference                0  \n",
              "Max Statistical Parity            0  \n",
              "Statistical Parity AUC            0  \n",
              "RMSE Ratio                        1  \n",
              "RMSE Ratio Q80                    1  \n",
              "MAE Ratio                         1  \n",
              "MAE Ratio Q80                     1  \n",
              "Correlation Difference            0  "
            ]
          },
          "execution_count": 20,
          "metadata": {},
          "output_type": "execute_result"
        }
      ],
      "source": [
        "result = pd.concat([df_baseline, df_correm, df_exp_grad, df_wb], axis=1).iloc[:, [0,2,4,6,1]]\n",
        "result.columns = ['Baseline','Correlation remover',\"Exponentiated gradient\", \"Wasserstein barycenters\", 'Reference']\n",
        "result"
      ]
    },
    {
      "cell_type": "markdown",
      "metadata": {},
      "source": [
        "Overall, for this particular case, the bias mitigation techniques demonstrate varying degrees of success in improving fairness metrics compared to the baseline model. The **Wasserstein Barycenters** method consistently outperforms the others across most metrics, closely approaching the reference values and significantly reducing bias. The **Correlation Remover** also shows notable improvements but to a lesser extent. The **Exponentiated Gradient** method, while better than the baseline, is less effective compared to the other two methods. This analysis highlights the importance of choosing the appropriate bias mitigation strategy to achieve fairer model predictions."
      ]
    },
    {
      "attachments": {},
      "cell_type": "markdown",
      "metadata": {
        "id": "io3YUNZf0LXR"
      },
      "source": [
        "## **Summary**\n",
        "\n",
        "In this tutorial, we could observe how to address and mitigate bias in machine learning models for the regression task case. We utilized the `holisticai` library for this purpose to measure bias in our baseline model, using a variety of fairness metrics. Observing substantial bias, we explored three categories of bias mitigation techniques: pre-processing, in-processing, and post-processing. Specifically, we implemented the Correlation Remover as a pre-processing technique, the Exponentiated Gradient as an in-processing method, and the Wasserstein Barycenters as a post-processing strategy. Finally, we compared the performance of these mitigators against the baseline model. Our results showed that while all methods improved fairness to some extent, the Wasserstein Barycenters technique achieved the most significant reduction in bias across various metrics. \n",
        "\n",
        "For more information about other bias mitigation techniques and advanced features consult the `holisticai` documentation."
      ]
    },
    {
      "cell_type": "markdown",
      "metadata": {},
      "source": []
    }
  ],
  "metadata": {
    "colab": {
      "provenance": []
    },
    "kernelspec": {
      "display_name": "Python 3",
      "name": "python3"
    },
    "language_info": {
      "codemirror_mode": {
        "name": "ipython",
        "version": 3
      },
      "file_extension": ".py",
      "mimetype": "text/x-python",
      "name": "python",
      "nbconvert_exporter": "python",
      "pygments_lexer": "ipython3",
      "version": "3.10.0"
    }
  },
  "nbformat": 4,
  "nbformat_minor": 0
}
