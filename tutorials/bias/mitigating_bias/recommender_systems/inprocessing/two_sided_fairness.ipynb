{
  "cells": [
    {
      "attachments": {},
      "cell_type": "markdown",
      "metadata": {
        "id": "3OXWn1f2YqX0"
      },
      "source": [
        "# **Bias measuring and mitigation in recommendation systems**\n",
        "\n",
        "The bias problem can appear in models when the predictions systematically deviate from the true values for certain subgroups in the dataset. This phenomenon can occur due to various reasons such as unbalanced groups in the training data, feature selection, or model specification. Because of this, the bias problem can appear in different tasks, being \"recommendation systems\" one of them. A recommender system aims to recommend the best item according to the user preference.\n",
        "\n",
        "There are various techniques to measure bias in recommendation systems. One common approach is to use fairness metrics such as aggregate diversity, exposure entropy, or gini index, which are item based metrics that, in general terms, calculate the distribution to observe the proportions of items are shown to the user.\n",
        "\n",
        "Once bias is detected, we can employ different techniques to mitigate it. These methods can be grouped into three categories: Pre-processing, in-processing and post-processing methods. Pre-processing techniques are used to adjust the training data to remove bias, while in-processing methods are applied to build robust models against bias. Finally, post-processing techniques are used to adjust the model's predictions to remove bias.\n",
        "\n",
        "A recommender system can be biased in multiple ways. For example, we may be concerned that the artists in our database will not get equal representation (item fairness). Alternative, our main concern may be that different groups of users (e.g. male/female users) will get different music recommendations (user fairness). In the following, we will show how to explore the data for fairness, and measure these various types of fairness using the holisticai library.\n",
        "\n",
        "Through this tutorial, we pretend to present you tools which can be easily applied to measure and mitigate the presence of bias in recommender systems, focusing on the task of correctly predicting users' music preference.\n",
        "\n",
        "We will follow the traditional outline for this tutorial:\n",
        "\n",
        "1. Packages loading and installation\n",
        "2. Data exploration\n",
        "3. Model training\n",
        "4. Bias measuring\n",
        "5. Bias mitigation\n",
        "6. Results comparison"
      ]
    },
    {
      "attachments": {},
      "cell_type": "markdown",
      "metadata": {
        "id": "TY3Lc4BBa6rE"
      },
      "source": [
        "## **1. Packages loading and installation**\n",
        "\n",
        "First of all, we need to import the required packages to perform our bias analysis and mitigation. You will need to have the `holisticai` package installed on your system, remember that you can install it by running: \n",
        "```bash\n",
        "!pip install holisticai[all]\n",
        "```"
      ]
    },
    {
      "cell_type": "code",
      "execution_count": 1,
      "metadata": {
        "id": "a4uAy950YwAB"
      },
      "outputs": [],
      "source": [
        "# Base Imports\n",
        "import pandas as pd\n",
        "import numpy as np\n",
        "import matplotlib.pyplot as plt"
      ]
    },
    {
      "cell_type": "code",
      "execution_count": 2,
      "metadata": {},
      "outputs": [],
      "source": [
        "np.random.seed(0)\n",
        "import warnings\n",
        "warnings.filterwarnings(\"ignore\")"
      ]
    },
    {
      "attachments": {},
      "cell_type": "markdown",
      "metadata": {
        "id": "AcG35BN7nnH3"
      },
      "source": [
        "## **2. Data exploration**"
      ]
    },
    {
      "attachments": {},
      "cell_type": "markdown",
      "metadata": {
        "id": "HgRHiQjUY44J"
      },
      "source": [
        "The dataset that we will use is the \"Last FM Dataset\" which is a publicly available dataset that contains a set of artists that were downloaded by users. It includes personal information about the user, specifically sex and country of origin. A user can download more than one artist. We will use the column \"score\", which contains only 1s for counting the interactions.\n",
        "\n",
        "Source: [GroupLens ](https://files.grouplens.org/datasets/hetrec2011/hetrec2011-lastfm-readme.txt)"
      ]
    },
    {
      "cell_type": "code",
      "execution_count": 3,
      "metadata": {
        "colab": {
          "base_uri": "https://localhost:8080/"
        },
        "id": "qmFz5l9ebgCs",
        "outputId": "f53080ce-8202-44e1-c935-115276104d63"
      },
      "outputs": [],
      "source": [
        "from holisticai.datasets import load_dataset"
      ]
    },
    {
      "attachments": {},
      "cell_type": "markdown",
      "metadata": {},
      "source": [
        "To speed up the process, the `load_dataset` function of the *holisticai* package allows to return the raw dataset or the preprocessed dataset by setting the `preprocess` parameter to `True`. This function also allows to return the dataset and the protected as a pandas dataframe or as a numpy array. You will find more information about the target and the protected groups of this function in its documentation.\n",
        "\n",
        "In this tutorial, we will use the preprocessed dataset as a pandas dataframe."
      ]
    },
    {
      "cell_type": "code",
      "execution_count": 4,
      "metadata": {
        "colab": {
          "base_uri": "https://localhost:8080/"
        },
        "id": "ipD0iR52bkK1",
        "outputId": "bcd6261c-e825-4acd-f51f-4162abb531ed"
      },
      "outputs": [],
      "source": [
        "dataset = load_dataset('lastfm')\n",
        "df_pivot, p_attr = dataset['data_pivot'], dataset['p_attr']"
      ]
    },
    {
      "cell_type": "code",
      "execution_count": 5,
      "metadata": {},
      "outputs": [],
      "source": [
        "p_attr = p_attr.iloc[:, 0]"
      ]
    },
    {
      "cell_type": "code",
      "execution_count": 6,
      "metadata": {},
      "outputs": [
        {
          "data": {
            "text/plain": [
              "<Axes: title={'center': 'Group proportions'}>"
            ]
          },
          "execution_count": 6,
          "metadata": {},
          "output_type": "execute_result"
        },
        {
          "data": {
            "image/png": "[encoded data removed]",
            "text/plain": [
              "<Figure size 640x480 with 1 Axes>"
            ]
          },
          "metadata": {},
          "output_type": "display_data"
        }
      ],
      "source": [
        "from holisticai.bias.plots import group_pie_plot\n",
        "\n",
        "group_pie_plot(p_attr)"
      ]
    },
    {
      "attachments": {},
      "cell_type": "markdown",
      "metadata": {
        "id": "H4CQyqQRn-aZ"
      },
      "source": [
        "This graph show us that the proportion of non protected examples is very high compared to the protected group."
      ]
    },
    {
      "cell_type": "code",
      "execution_count": 7,
      "metadata": {
        "colab": {
          "base_uri": "https://localhost:8080/",
          "height": 318
        },
        "id": "ph1Yx2aEOy_Y",
        "outputId": "d0774fd3-2a49-444d-f16b-eb43b490effd"
      },
      "outputs": [
        {
          "name": "stdout",
          "output_type": "stream",
          "text": [
            "Number of Unique Users : 15000\n",
            "Number of Unique Artists : 1004\n"
          ]
        }
      ],
      "source": [
        "print ('Number of Unique Users : ' + str(df_pivot.shape[0]))\n",
        "print ('Number of Unique Artists : ' + str(df_pivot.shape[1]))"
      ]
    },
    {
      "attachments": {},
      "cell_type": "markdown",
      "metadata": {
        "id": "NZTW9YJWomvC"
      },
      "source": [
        "## **3. Model training**\n",
        "\n",
        "### **Training the baseline**\n",
        "There are many ways to recommend artists to users. We will use item based collaborative filtering since it is the simplest and most intuitive approach. For each artist, we work out a list of most similar artists. Then we recommend artists to users by looking at which artists they like, and choosing the most similar ones.\n",
        "\n",
        "To do that, first we will define some util functions that will help us to sort these recommendations:"
      ]
    },
    {
      "cell_type": "code",
      "execution_count": 8,
      "metadata": {
        "id": "bMdrrxwjZWaS"
      },
      "outputs": [],
      "source": [
        "def items_liked_by_user(data_matrix, u):\n",
        "    return np.nonzero(data_matrix[u])[0]\n",
        "\n",
        "def recommended_items(data_matrix, similarity_matrix, u, k):\n",
        "    liked = items_liked_by_user(data_matrix, u)\n",
        "    arr = np.sum(similarity_matrix[liked,:], axis=0)\n",
        "    arr[liked] = 0\n",
        "    return np.argsort(arr)[-k:]\n",
        "\n",
        "def explode(arr, num_items):\n",
        "    out = np.zeros(num_items)\n",
        "    out[arr] = 1\n",
        "    return out"
      ]
    },
    {
      "attachments": {},
      "cell_type": "markdown",
      "metadata": {},
      "source": [
        "Now, we have to prepare our pivoted table to calculate the correlations and perform the filtering to create a new pivoted table where we can extract the recommendations for the users"
      ]
    },
    {
      "cell_type": "code",
      "execution_count": 9,
      "metadata": {
        "colab": {
          "base_uri": "https://localhost:8080/",
          "height": 346
        },
        "id": "-cy7YITbbwxJ",
        "outputId": "550deb9a-809d-4051-9820-a33f4ca2afbb"
      },
      "outputs": [
        {
          "data": {
            "text/html": [
              "<div>\n",
              "<style scoped>\n",
              "    .dataframe tbody tr th:only-of-type {\n",
              "        vertical-align: middle;\n",
              "    }\n",
              "\n",
              "    .dataframe tbody tr th {\n",
              "        vertical-align: top;\n",
              "    }\n",
              "\n",
              "    .dataframe thead th {\n",
              "        text-align: right;\n",
              "    }\n",
              "</style>\n",
              "<table border=\"1\" class=\"dataframe\">\n",
              "  <thead>\n",
              "    <tr style=\"text-align: right;\">\n",
              "      <th></th>\n",
              "      <th>...and you will know us by the trail of dead</th>\n",
              "      <th>2pac</th>\n",
              "      <th>3 doors down</th>\n",
              "      <th>30 seconds to mars</th>\n",
              "      <th>311</th>\n",
              "      <th>36 crazyfists</th>\n",
              "      <th>44</th>\n",
              "      <th>50 cent</th>\n",
              "      <th>65daysofstatic</th>\n",
              "      <th>Edith piaf</th>\n",
              "      <th>...</th>\n",
              "      <th>weezer</th>\n",
              "      <th>wilco</th>\n",
              "      <th>within temptation</th>\n",
              "      <th>wolfgang amadeus mozart</th>\n",
              "      <th>wu-tang clan</th>\n",
              "      <th>yann tiersen</th>\n",
              "      <th>yeah yeah yeahs</th>\n",
              "      <th>yellowcard</th>\n",
              "      <th>yo la tengo</th>\n",
              "      <th>zero 7</th>\n",
              "    </tr>\n",
              "  </thead>\n",
              "  <tbody>\n",
              "    <tr>\n",
              "      <th>0</th>\n",
              "      <td>0.0</td>\n",
              "      <td>0.0</td>\n",
              "      <td>0.0</td>\n",
              "      <td>0.0</td>\n",
              "      <td>0.0</td>\n",
              "      <td>0.0</td>\n",
              "      <td>0.0</td>\n",
              "      <td>0.0</td>\n",
              "      <td>0.0</td>\n",
              "      <td>0.0</td>\n",
              "      <td>...</td>\n",
              "      <td>0.0</td>\n",
              "      <td>0.0</td>\n",
              "      <td>0.0</td>\n",
              "      <td>0.0</td>\n",
              "      <td>0.0</td>\n",
              "      <td>0.0</td>\n",
              "      <td>0.0</td>\n",
              "      <td>0.0</td>\n",
              "      <td>0.0</td>\n",
              "      <td>0.0</td>\n",
              "    </tr>\n",
              "    <tr>\n",
              "      <th>1</th>\n",
              "      <td>0.0</td>\n",
              "      <td>0.0</td>\n",
              "      <td>0.0</td>\n",
              "      <td>0.0</td>\n",
              "      <td>0.0</td>\n",
              "      <td>0.0</td>\n",
              "      <td>0.0</td>\n",
              "      <td>0.0</td>\n",
              "      <td>0.0</td>\n",
              "      <td>0.0</td>\n",
              "      <td>...</td>\n",
              "      <td>0.0</td>\n",
              "      <td>0.0</td>\n",
              "      <td>0.0</td>\n",
              "      <td>0.0</td>\n",
              "      <td>0.0</td>\n",
              "      <td>0.0</td>\n",
              "      <td>0.0</td>\n",
              "      <td>0.0</td>\n",
              "      <td>0.0</td>\n",
              "      <td>0.0</td>\n",
              "    </tr>\n",
              "    <tr>\n",
              "      <th>2</th>\n",
              "      <td>0.0</td>\n",
              "      <td>0.0</td>\n",
              "      <td>0.0</td>\n",
              "      <td>0.0</td>\n",
              "      <td>0.0</td>\n",
              "      <td>0.0</td>\n",
              "      <td>0.0</td>\n",
              "      <td>0.0</td>\n",
              "      <td>0.0</td>\n",
              "      <td>0.0</td>\n",
              "      <td>...</td>\n",
              "      <td>0.0</td>\n",
              "      <td>0.0</td>\n",
              "      <td>0.0</td>\n",
              "      <td>0.0</td>\n",
              "      <td>0.0</td>\n",
              "      <td>0.0</td>\n",
              "      <td>0.0</td>\n",
              "      <td>0.0</td>\n",
              "      <td>0.0</td>\n",
              "      <td>0.0</td>\n",
              "    </tr>\n",
              "    <tr>\n",
              "      <th>3</th>\n",
              "      <td>0.0</td>\n",
              "      <td>0.0</td>\n",
              "      <td>0.0</td>\n",
              "      <td>0.0</td>\n",
              "      <td>0.0</td>\n",
              "      <td>0.0</td>\n",
              "      <td>0.0</td>\n",
              "      <td>0.0</td>\n",
              "      <td>0.0</td>\n",
              "      <td>0.0</td>\n",
              "      <td>...</td>\n",
              "      <td>0.0</td>\n",
              "      <td>0.0</td>\n",
              "      <td>0.0</td>\n",
              "      <td>0.0</td>\n",
              "      <td>0.0</td>\n",
              "      <td>0.0</td>\n",
              "      <td>0.0</td>\n",
              "      <td>0.0</td>\n",
              "      <td>0.0</td>\n",
              "      <td>0.0</td>\n",
              "    </tr>\n",
              "    <tr>\n",
              "      <th>4</th>\n",
              "      <td>0.0</td>\n",
              "      <td>0.0</td>\n",
              "      <td>0.0</td>\n",
              "      <td>0.0</td>\n",
              "      <td>0.0</td>\n",
              "      <td>0.0</td>\n",
              "      <td>0.0</td>\n",
              "      <td>0.0</td>\n",
              "      <td>0.0</td>\n",
              "      <td>0.0</td>\n",
              "      <td>...</td>\n",
              "      <td>0.0</td>\n",
              "      <td>0.0</td>\n",
              "      <td>0.0</td>\n",
              "      <td>0.0</td>\n",
              "      <td>0.0</td>\n",
              "      <td>0.0</td>\n",
              "      <td>0.0</td>\n",
              "      <td>0.0</td>\n",
              "      <td>0.0</td>\n",
              "      <td>0.0</td>\n",
              "    </tr>\n",
              "  </tbody>\n",
              "</table>\n",
              "<p>5 rows × 1004 columns</p>\n",
              "</div>"
            ],
            "text/plain": [
              "   ...and you will know us by the trail of dead  2pac  3 doors down  \\\n",
              "0                                           0.0   0.0           0.0   \n",
              "1                                           0.0   0.0           0.0   \n",
              "2                                           0.0   0.0           0.0   \n",
              "3                                           0.0   0.0           0.0   \n",
              "4                                           0.0   0.0           0.0   \n",
              "\n",
              "   30 seconds to mars  311  36 crazyfists   44  50 cent  65daysofstatic  \\\n",
              "0                 0.0  0.0            0.0  0.0      0.0             0.0   \n",
              "1                 0.0  0.0            0.0  0.0      0.0             0.0   \n",
              "2                 0.0  0.0            0.0  0.0      0.0             0.0   \n",
              "3                 0.0  0.0            0.0  0.0      0.0             0.0   \n",
              "4                 0.0  0.0            0.0  0.0      0.0             0.0   \n",
              "\n",
              "   Edith piaf  ...  weezer  wilco  within temptation  wolfgang amadeus mozart  \\\n",
              "0         0.0  ...     0.0    0.0                0.0                      0.0   \n",
              "1         0.0  ...     0.0    0.0                0.0                      0.0   \n",
              "2         0.0  ...     0.0    0.0                0.0                      0.0   \n",
              "3         0.0  ...     0.0    0.0                0.0                      0.0   \n",
              "4         0.0  ...     0.0    0.0                0.0                      0.0   \n",
              "\n",
              "   wu-tang clan  yann tiersen  yeah yeah yeahs  yellowcard  yo la tengo  \\\n",
              "0           0.0           0.0              0.0         0.0          0.0   \n",
              "1           0.0           0.0              0.0         0.0          0.0   \n",
              "2           0.0           0.0              0.0         0.0          0.0   \n",
              "3           0.0           0.0              0.0         0.0          0.0   \n",
              "4           0.0           0.0              0.0         0.0          0.0   \n",
              "\n",
              "   zero 7  \n",
              "0     0.0  \n",
              "1     0.0  \n",
              "2     0.0  \n",
              "3     0.0  \n",
              "4     0.0  \n",
              "\n",
              "[5 rows x 1004 columns]"
            ]
          },
          "execution_count": 9,
          "metadata": {},
          "output_type": "execute_result"
        }
      ],
      "source": [
        "from sklearn.metrics.pairwise import linear_kernel\n",
        "\n",
        "data_matrix = df_pivot.fillna(0).to_numpy()\n",
        "cosine_sim = linear_kernel(data_matrix.T, data_matrix.T)\n",
        "\n",
        "new_recs = [explode(recommended_items(data_matrix, cosine_sim, u, 10), len(df_pivot.columns)) for u in range(df_pivot.shape[0])]\n",
        "new_df_pivot = pd.DataFrame(new_recs, columns = df_pivot.columns)\n",
        "new_df_pivot.head()"
      ]
    },
    {
      "attachments": {},
      "cell_type": "markdown",
      "metadata": {
        "id": "rx5Y9OmOqY09"
      },
      "source": [
        "## **3. Model training**\n",
        "\n",
        "### **Training the baseline**\n",
        "There are many ways to recommend artists to users. We will use item based collaborative filtering since it is the simplest and most intuitive approach. For each artist, we work out a list of most similar artists. Then we recommend artists to users by looking at which artists they like, and choosing the most similar ones.\n",
        "\n",
        "To do that, first we will define some util functions that will help us to sort these recommendations:"
      ]
    },
    {
      "cell_type": "code",
      "execution_count": 10,
      "metadata": {
        "id": "u6Cv018XgFEc"
      },
      "outputs": [],
      "source": [
        "def items_liked_by_user(data_matrix, u):\n",
        "    return np.nonzero(data_matrix[u])[0]\n",
        "\n",
        "def recommended_items(data_matrix, similarity_matrix, u, k):\n",
        "    liked = items_liked_by_user(data_matrix, u)\n",
        "    arr = np.sum(similarity_matrix[liked,:], axis=0)\n",
        "    arr[liked] = 0\n",
        "    return np.argsort(arr)[-k:]\n",
        "\n",
        "def explode(arr, num_items):\n",
        "    out = np.zeros(num_items)\n",
        "    out[arr] = 1\n",
        "    return out"
      ]
    },
    {
      "attachments": {},
      "cell_type": "markdown",
      "metadata": {
        "id": "qnG-8NdwtTzf"
      },
      "source": [
        "Now, we have to prepare our pivoted table to calculate the correlations and perform the filtering to create a new pivoted table where we can extract the recommendations for the users"
      ]
    },
    {
      "cell_type": "code",
      "execution_count": 11,
      "metadata": {
        "colab": {
          "base_uri": "https://localhost:8080/"
        },
        "id": "y99qdOhgf8B9",
        "outputId": "f41673ee-cfe2-4716-cd00-6e6a30f82575"
      },
      "outputs": [
        {
          "data": {
            "text/html": [
              "<div>\n",
              "<style scoped>\n",
              "    .dataframe tbody tr th:only-of-type {\n",
              "        vertical-align: middle;\n",
              "    }\n",
              "\n",
              "    .dataframe tbody tr th {\n",
              "        vertical-align: top;\n",
              "    }\n",
              "\n",
              "    .dataframe thead th {\n",
              "        text-align: right;\n",
              "    }\n",
              "</style>\n",
              "<table border=\"1\" class=\"dataframe\">\n",
              "  <thead>\n",
              "    <tr style=\"text-align: right;\">\n",
              "      <th></th>\n",
              "      <th>...and you will know us by the trail of dead</th>\n",
              "      <th>2pac</th>\n",
              "      <th>3 doors down</th>\n",
              "      <th>30 seconds to mars</th>\n",
              "      <th>311</th>\n",
              "      <th>36 crazyfists</th>\n",
              "      <th>44</th>\n",
              "      <th>50 cent</th>\n",
              "      <th>65daysofstatic</th>\n",
              "      <th>Edith piaf</th>\n",
              "      <th>...</th>\n",
              "      <th>weezer</th>\n",
              "      <th>wilco</th>\n",
              "      <th>within temptation</th>\n",
              "      <th>wolfgang amadeus mozart</th>\n",
              "      <th>wu-tang clan</th>\n",
              "      <th>yann tiersen</th>\n",
              "      <th>yeah yeah yeahs</th>\n",
              "      <th>yellowcard</th>\n",
              "      <th>yo la tengo</th>\n",
              "      <th>zero 7</th>\n",
              "    </tr>\n",
              "  </thead>\n",
              "  <tbody>\n",
              "    <tr>\n",
              "      <th>0</th>\n",
              "      <td>0.0</td>\n",
              "      <td>0.0</td>\n",
              "      <td>0.0</td>\n",
              "      <td>0.0</td>\n",
              "      <td>0.0</td>\n",
              "      <td>0.0</td>\n",
              "      <td>0.0</td>\n",
              "      <td>0.0</td>\n",
              "      <td>0.0</td>\n",
              "      <td>0.0</td>\n",
              "      <td>...</td>\n",
              "      <td>0.0</td>\n",
              "      <td>0.0</td>\n",
              "      <td>0.0</td>\n",
              "      <td>0.0</td>\n",
              "      <td>0.0</td>\n",
              "      <td>0.0</td>\n",
              "      <td>0.0</td>\n",
              "      <td>0.0</td>\n",
              "      <td>0.0</td>\n",
              "      <td>0.0</td>\n",
              "    </tr>\n",
              "    <tr>\n",
              "      <th>1</th>\n",
              "      <td>0.0</td>\n",
              "      <td>0.0</td>\n",
              "      <td>0.0</td>\n",
              "      <td>0.0</td>\n",
              "      <td>0.0</td>\n",
              "      <td>0.0</td>\n",
              "      <td>0.0</td>\n",
              "      <td>0.0</td>\n",
              "      <td>0.0</td>\n",
              "      <td>0.0</td>\n",
              "      <td>...</td>\n",
              "      <td>0.0</td>\n",
              "      <td>0.0</td>\n",
              "      <td>0.0</td>\n",
              "      <td>0.0</td>\n",
              "      <td>0.0</td>\n",
              "      <td>0.0</td>\n",
              "      <td>0.0</td>\n",
              "      <td>0.0</td>\n",
              "      <td>0.0</td>\n",
              "      <td>0.0</td>\n",
              "    </tr>\n",
              "    <tr>\n",
              "      <th>2</th>\n",
              "      <td>0.0</td>\n",
              "      <td>0.0</td>\n",
              "      <td>0.0</td>\n",
              "      <td>0.0</td>\n",
              "      <td>0.0</td>\n",
              "      <td>0.0</td>\n",
              "      <td>0.0</td>\n",
              "      <td>0.0</td>\n",
              "      <td>0.0</td>\n",
              "      <td>0.0</td>\n",
              "      <td>...</td>\n",
              "      <td>0.0</td>\n",
              "      <td>0.0</td>\n",
              "      <td>0.0</td>\n",
              "      <td>0.0</td>\n",
              "      <td>0.0</td>\n",
              "      <td>0.0</td>\n",
              "      <td>0.0</td>\n",
              "      <td>0.0</td>\n",
              "      <td>0.0</td>\n",
              "      <td>0.0</td>\n",
              "    </tr>\n",
              "    <tr>\n",
              "      <th>3</th>\n",
              "      <td>0.0</td>\n",
              "      <td>0.0</td>\n",
              "      <td>0.0</td>\n",
              "      <td>0.0</td>\n",
              "      <td>0.0</td>\n",
              "      <td>0.0</td>\n",
              "      <td>0.0</td>\n",
              "      <td>0.0</td>\n",
              "      <td>0.0</td>\n",
              "      <td>0.0</td>\n",
              "      <td>...</td>\n",
              "      <td>0.0</td>\n",
              "      <td>0.0</td>\n",
              "      <td>0.0</td>\n",
              "      <td>0.0</td>\n",
              "      <td>0.0</td>\n",
              "      <td>0.0</td>\n",
              "      <td>0.0</td>\n",
              "      <td>0.0</td>\n",
              "      <td>0.0</td>\n",
              "      <td>0.0</td>\n",
              "    </tr>\n",
              "    <tr>\n",
              "      <th>4</th>\n",
              "      <td>0.0</td>\n",
              "      <td>0.0</td>\n",
              "      <td>0.0</td>\n",
              "      <td>0.0</td>\n",
              "      <td>0.0</td>\n",
              "      <td>0.0</td>\n",
              "      <td>0.0</td>\n",
              "      <td>0.0</td>\n",
              "      <td>0.0</td>\n",
              "      <td>0.0</td>\n",
              "      <td>...</td>\n",
              "      <td>0.0</td>\n",
              "      <td>0.0</td>\n",
              "      <td>0.0</td>\n",
              "      <td>0.0</td>\n",
              "      <td>0.0</td>\n",
              "      <td>0.0</td>\n",
              "      <td>0.0</td>\n",
              "      <td>0.0</td>\n",
              "      <td>0.0</td>\n",
              "      <td>0.0</td>\n",
              "    </tr>\n",
              "  </tbody>\n",
              "</table>\n",
              "<p>5 rows × 1004 columns</p>\n",
              "</div>"
            ],
            "text/plain": [
              "   ...and you will know us by the trail of dead  2pac  3 doors down  \\\n",
              "0                                           0.0   0.0           0.0   \n",
              "1                                           0.0   0.0           0.0   \n",
              "2                                           0.0   0.0           0.0   \n",
              "3                                           0.0   0.0           0.0   \n",
              "4                                           0.0   0.0           0.0   \n",
              "\n",
              "   30 seconds to mars  311  36 crazyfists   44  50 cent  65daysofstatic  \\\n",
              "0                 0.0  0.0            0.0  0.0      0.0             0.0   \n",
              "1                 0.0  0.0            0.0  0.0      0.0             0.0   \n",
              "2                 0.0  0.0            0.0  0.0      0.0             0.0   \n",
              "3                 0.0  0.0            0.0  0.0      0.0             0.0   \n",
              "4                 0.0  0.0            0.0  0.0      0.0             0.0   \n",
              "\n",
              "   Edith piaf  ...  weezer  wilco  within temptation  wolfgang amadeus mozart  \\\n",
              "0         0.0  ...     0.0    0.0                0.0                      0.0   \n",
              "1         0.0  ...     0.0    0.0                0.0                      0.0   \n",
              "2         0.0  ...     0.0    0.0                0.0                      0.0   \n",
              "3         0.0  ...     0.0    0.0                0.0                      0.0   \n",
              "4         0.0  ...     0.0    0.0                0.0                      0.0   \n",
              "\n",
              "   wu-tang clan  yann tiersen  yeah yeah yeahs  yellowcard  yo la tengo  \\\n",
              "0           0.0           0.0              0.0         0.0          0.0   \n",
              "1           0.0           0.0              0.0         0.0          0.0   \n",
              "2           0.0           0.0              0.0         0.0          0.0   \n",
              "3           0.0           0.0              0.0         0.0          0.0   \n",
              "4           0.0           0.0              0.0         0.0          0.0   \n",
              "\n",
              "   zero 7  \n",
              "0     0.0  \n",
              "1     0.0  \n",
              "2     0.0  \n",
              "3     0.0  \n",
              "4     0.0  \n",
              "\n",
              "[5 rows x 1004 columns]"
            ]
          },
          "execution_count": 11,
          "metadata": {},
          "output_type": "execute_result"
        }
      ],
      "source": [
        "from sklearn.metrics.pairwise import linear_kernel\n",
        "\n",
        "data_matrix = df_pivot.fillna(0).to_numpy()\n",
        "cosine_sim = linear_kernel(data_matrix.T, data_matrix.T)\n",
        "\n",
        "new_recs = [explode(recommended_items(data_matrix, cosine_sim, u, 10), len(df_pivot.columns)) for u in range(df_pivot.shape[0])]\n",
        "new_df_pivot = pd.DataFrame(new_recs, columns = df_pivot.columns)\n",
        "new_df_pivot.head()"
      ]
    },
    {
      "attachments": {},
      "cell_type": "markdown",
      "metadata": {
        "id": "aO9VlS1ouHJk"
      },
      "source": [
        "Finally, we obtain our recommendation matrix:"
      ]
    },
    {
      "cell_type": "code",
      "execution_count": 12,
      "metadata": {
        "id": "YfhoMQW8gVtw"
      },
      "outputs": [],
      "source": [
        "mat = new_df_pivot.replace(0,np.nan)"
      ]
    },
    {
      "attachments": {},
      "cell_type": "markdown",
      "metadata": {
        "id": "Y576jCVEuN7s"
      },
      "source": [
        "## **4. Bias measuring**"
      ]
    },
    {
      "attachments": {},
      "cell_type": "markdown",
      "metadata": {
        "id": "VSwwN8QvudyU"
      },
      "source": [
        "With the new recommendation matrix at hand we will now show how we can calculate various metrics of fairness for recommender systems. In this example, we will cover item based metrics by using the `recommender_bias_metrics` function:\n"
      ]
    },
    {
      "cell_type": "code",
      "execution_count": 13,
      "metadata": {
        "id": "RHqbHr1HZ_LS"
      },
      "outputs": [],
      "source": [
        "from holisticai.bias.metrics import recommender_bias_metrics"
      ]
    },
    {
      "cell_type": "code",
      "execution_count": 14,
      "metadata": {
        "colab": {
          "base_uri": "https://localhost:8080/",
          "height": 276
        },
        "id": "cPnH2crRgfMu",
        "outputId": "4a5b0e2f-c2da-4b52-c335-eae4f45535d6"
      },
      "outputs": [
        {
          "data": {
            "text/html": [
              "<div>\n",
              "<style scoped>\n",
              "    .dataframe tbody tr th:only-of-type {\n",
              "        vertical-align: middle;\n",
              "    }\n",
              "\n",
              "    .dataframe tbody tr th {\n",
              "        vertical-align: top;\n",
              "    }\n",
              "\n",
              "    .dataframe thead th {\n",
              "        text-align: right;\n",
              "    }\n",
              "</style>\n",
              "<table border=\"1\" class=\"dataframe\">\n",
              "  <thead>\n",
              "    <tr style=\"text-align: right;\">\n",
              "      <th></th>\n",
              "      <th>Value</th>\n",
              "      <th>Reference</th>\n",
              "    </tr>\n",
              "    <tr>\n",
              "      <th>Metric</th>\n",
              "      <th></th>\n",
              "      <th></th>\n",
              "    </tr>\n",
              "  </thead>\n",
              "  <tbody>\n",
              "    <tr>\n",
              "      <th>Aggregate Diversity</th>\n",
              "      <td>0.415339</td>\n",
              "      <td>1</td>\n",
              "    </tr>\n",
              "    <tr>\n",
              "      <th>GINI index</th>\n",
              "      <td>0.963810</td>\n",
              "      <td>0</td>\n",
              "    </tr>\n",
              "    <tr>\n",
              "      <th>Exposure Distribution Entropy</th>\n",
              "      <td>3.830906</td>\n",
              "      <td>-</td>\n",
              "    </tr>\n",
              "    <tr>\n",
              "      <th>Average Recommendation Popularity</th>\n",
              "      <td>5609.146907</td>\n",
              "      <td>-</td>\n",
              "    </tr>\n",
              "  </tbody>\n",
              "</table>\n",
              "</div>"
            ],
            "text/plain": [
              "                                         Value Reference\n",
              "Metric                                                  \n",
              "Aggregate Diversity                   0.415339         1\n",
              "GINI index                            0.963810         0\n",
              "Exposure Distribution Entropy         3.830906         -\n",
              "Average Recommendation Popularity  5609.146907         -"
            ]
          },
          "execution_count": 14,
          "metadata": {},
          "output_type": "execute_result"
        }
      ],
      "source": [
        "df = recommender_bias_metrics(mat_pred=mat, metric_type='item_based')\n",
        "df_baseline=df.copy()\n",
        "df_baseline"
      ]
    },
    {
      "attachments": {},
      "cell_type": "markdown",
      "metadata": {
        "id": "fljfCEvdvq72"
      },
      "source": [
        "Above we have batch plotted all `item_based` metrics for recommender bias task. For instance observe the Average Recommendation Popularity is 5738, meaning that on average a user will be recommended an artist that has 5738 total interactions.\n",
        "\n",
        "An interesting feature of this function is that not only returns the calculated metrics from the predictions but also returns the reference to compare the values with an ideal fair model. This feature helps us to analyse the fairness of the predictions for the protected groups in terms of different metrics.\n",
        "\n",
        "For example:\n",
        "\n",
        "*   **Aggregate Diversity:** Given a matrix of scores, this function computes the recommended items for each user and returning the proportion of recommended items out of all possible items. A value of 1 is desired. We wish for a high proportion of items to be shown to avoid the \"rich get richer effect\".\n",
        "*   **GINI index:** Measures the inequality across the frequency distribution of the recommended items. An algorithm that recommends each item the same number of times (uniform distribution) will have a Gini index of 0 and the one with extreme inequality will have a Gini of 1.\n",
        "\n",
        "Besides these metrics, we can calculate another ones, you will find them in the documentation of the library [here](https://holisticai.readthedocs.io/en/latest/metrics.html#recommender)."
      ]
    },
    {
      "attachments": {},
      "cell_type": "markdown",
      "metadata": {
        "id": "E6nr3AEdwGXF"
      },
      "source": [
        "## **5. Bias mitigation**\n",
        "\n",
        "### **Inprocessing: Two sided fairness method**"
      ]
    },
    {
      "attachments": {},
      "cell_type": "markdown",
      "metadata": {
        "id": "WK7-IXhtwDJF"
      },
      "source": [
        "Now that we could observe that the model metrics are far away from the desired values, we need to apply some kind of strategy to mitigate the bias present in the model.\n",
        "\n",
        "Exists different kinds of strategies, and the literature has divided them into three categories: \"Pre-processing\", \"in-processing\" and \"post-processing\" methods. The `holisticai` library possesses different algorithms from these categories for bias mitigation. An interesting feature is that all of them are compatible with the `Scikit-learn` package, so that, if you are familiar with this package, you will not have problems using the library.\n",
        "\n",
        "For this opportunity, we will implement the \"Two sided fairness\" method which is a inprocessing algorithm that maps the fair recommendation problem to a fair allocation problem; moreover, it is agnostic to the specifics of the data-driven model (that estimates the product-customer relevance scores) which makes it more scalable and easy to adapt."
      ]
    },
    {
      "cell_type": "code",
      "execution_count": 15,
      "metadata": {
        "id": "3fCA4ygOxaBP"
      },
      "outputs": [],
      "source": [
        "from holisticai.bias.mitigation import FairRec"
      ]
    },
    {
      "attachments": {},
      "cell_type": "markdown",
      "metadata": {
        "id": "9lNet1nTyDGD"
      },
      "source": [
        "To perform the mitigation with this method we will use the data matrix calculated before with the protected groups"
      ]
    },
    {
      "cell_type": "code",
      "execution_count": 16,
      "metadata": {
        "colab": {
          "base_uri": "https://localhost:8080/"
        },
        "id": "HYec2907ZqMt",
        "outputId": "5e6cf8fc-aef0-42d4-a868-d3e3237b8a5a"
      },
      "outputs": [
        {
          "data": {
            "text/plain": [
              "<holisticai.bias.mitigation.inprocessing.two_sided_fairness.transformer.FairRec at 0x775f1e1b19c0>"
            ]
          },
          "execution_count": 16,
          "metadata": {},
          "output_type": "execute_result"
        }
      ],
      "source": [
        "fr = FairRec(rec_size=10, MMS_fraction=0.5)\n",
        "fr.fit(data_matrix)"
      ]
    },
    {
      "cell_type": "code",
      "execution_count": 17,
      "metadata": {
        "colab": {
          "base_uri": "https://localhost:8080/",
          "height": 206
        },
        "id": "GQHrTCiIZt-Z",
        "outputId": "bbe237aa-24fc-436e-faca-0f02e6c70f8d"
      },
      "outputs": [
        {
          "data": {
            "text/html": [
              "<div>\n",
              "<style scoped>\n",
              "    .dataframe tbody tr th:only-of-type {\n",
              "        vertical-align: middle;\n",
              "    }\n",
              "\n",
              "    .dataframe tbody tr th {\n",
              "        vertical-align: top;\n",
              "    }\n",
              "\n",
              "    .dataframe thead th {\n",
              "        text-align: right;\n",
              "    }\n",
              "</style>\n",
              "<table border=\"1\" class=\"dataframe\">\n",
              "  <thead>\n",
              "    <tr style=\"text-align: right;\">\n",
              "      <th></th>\n",
              "      <th>Value</th>\n",
              "      <th>Reference</th>\n",
              "    </tr>\n",
              "    <tr>\n",
              "      <th>Metric</th>\n",
              "      <th></th>\n",
              "      <th></th>\n",
              "    </tr>\n",
              "  </thead>\n",
              "  <tbody>\n",
              "    <tr>\n",
              "      <th>Aggregate Diversity</th>\n",
              "      <td>1.000000</td>\n",
              "      <td>1</td>\n",
              "    </tr>\n",
              "    <tr>\n",
              "      <th>GINI index</th>\n",
              "      <td>0.424103</td>\n",
              "      <td>0</td>\n",
              "    </tr>\n",
              "    <tr>\n",
              "      <th>Exposure Distribution Entropy</th>\n",
              "      <td>6.560575</td>\n",
              "      <td>-</td>\n",
              "    </tr>\n",
              "    <tr>\n",
              "      <th>Average Recommendation Popularity</th>\n",
              "      <td>324.368133</td>\n",
              "      <td>-</td>\n",
              "    </tr>\n",
              "  </tbody>\n",
              "</table>\n",
              "</div>"
            ],
            "text/plain": [
              "                                        Value Reference\n",
              "Metric                                                 \n",
              "Aggregate Diversity                  1.000000         1\n",
              "GINI index                           0.424103         0\n",
              "Exposure Distribution Entropy        6.560575         -\n",
              "Average Recommendation Popularity  324.368133         -"
            ]
          },
          "execution_count": 17,
          "metadata": {},
          "output_type": "execute_result"
        }
      ],
      "source": [
        "recommendations = fr.recommendation\n",
        "new_recs = [explode(recommendations[key], len(df_pivot.columns)) for key in recommendations.keys()]\n",
        "\n",
        "new_df_pivot_db = pd.DataFrame(new_recs, columns = df_pivot.columns)\n",
        "\n",
        "mat = new_df_pivot_db.replace(0,np.nan).to_numpy()\n",
        "\n",
        "df = recommender_bias_metrics(mat_pred=mat, metric_type='item_based')\n",
        "df_tsf =df.copy()\n",
        "df_tsf"
      ]
    },
    {
      "attachments": {},
      "cell_type": "markdown",
      "metadata": {},
      "source": [
        "### **Pipeline implementation**\n",
        "\n",
        "Now that we could see how this method is implemented traditionally, let's try implementing it by using the Scikit-learn Pipeline. Notice that we shouldn't have highly variations in the metrics for the previous implementation."
      ]
    },
    {
      "cell_type": "code",
      "execution_count": 18,
      "metadata": {
        "colab": {
          "base_uri": "https://localhost:8080/",
          "height": 206
        },
        "id": "Y2bZQIEex3A_",
        "outputId": "13035b1b-61e3-411e-8975-40486e1c31da"
      },
      "outputs": [
        {
          "data": {
            "text/html": [
              "<div>\n",
              "<style scoped>\n",
              "    .dataframe tbody tr th:only-of-type {\n",
              "        vertical-align: middle;\n",
              "    }\n",
              "\n",
              "    .dataframe tbody tr th {\n",
              "        vertical-align: top;\n",
              "    }\n",
              "\n",
              "    .dataframe thead th {\n",
              "        text-align: right;\n",
              "    }\n",
              "</style>\n",
              "<table border=\"1\" class=\"dataframe\">\n",
              "  <thead>\n",
              "    <tr style=\"text-align: right;\">\n",
              "      <th></th>\n",
              "      <th>Value</th>\n",
              "      <th>Reference</th>\n",
              "    </tr>\n",
              "    <tr>\n",
              "      <th>Metric</th>\n",
              "      <th></th>\n",
              "      <th></th>\n",
              "    </tr>\n",
              "  </thead>\n",
              "  <tbody>\n",
              "    <tr>\n",
              "      <th>Aggregate Diversity</th>\n",
              "      <td>1.000000</td>\n",
              "      <td>1</td>\n",
              "    </tr>\n",
              "    <tr>\n",
              "      <th>GINI index</th>\n",
              "      <td>0.424103</td>\n",
              "      <td>0</td>\n",
              "    </tr>\n",
              "    <tr>\n",
              "      <th>Exposure Distribution Entropy</th>\n",
              "      <td>6.560575</td>\n",
              "      <td>-</td>\n",
              "    </tr>\n",
              "    <tr>\n",
              "      <th>Average Recommendation Popularity</th>\n",
              "      <td>324.368133</td>\n",
              "      <td>-</td>\n",
              "    </tr>\n",
              "  </tbody>\n",
              "</table>\n",
              "</div>"
            ],
            "text/plain": [
              "                                        Value Reference\n",
              "Metric                                                 \n",
              "Aggregate Diversity                  1.000000         1\n",
              "GINI index                           0.424103         0\n",
              "Exposure Distribution Entropy        6.560575         -\n",
              "Average Recommendation Popularity  324.368133         -"
            ]
          },
          "execution_count": 18,
          "metadata": {},
          "output_type": "execute_result"
        }
      ],
      "source": [
        "from holisticai.pipeline import Pipeline\n",
        "\n",
        "inprocessing_model = FairRec(rec_size=10, MMS_fraction=0.5)\n",
        "\n",
        "pipeline = Pipeline(\n",
        "    steps=[\n",
        "        (\"bm_inprocessing\", inprocessing_model),\n",
        "    ]\n",
        ")\n",
        "\n",
        "pipeline.fit(data_matrix)\n",
        "\n",
        "rankings  = pipeline.predict(data_matrix, top_n=10)\n",
        "mat = rankings.pivot(columns='Y',index='X',values='score').replace(np.nan,0).to_numpy()\n",
        "df = recommender_bias_metrics(mat_pred=mat>0, metric_type='item_based')\n",
        "df_two_sided =df.copy()\n",
        "df_two_sided"
      ]
    },
    {
      "attachments": {},
      "cell_type": "markdown",
      "metadata": {
        "id": "cj5Ix7lh1I8-"
      },
      "source": [
        "We can observe that the use of the mitigator improves the \"Aggregate diversity\", reaching the reference value, as well as the remain values showing a clearly improvement. Let's compare them with our baseline."
      ]
    },
    {
      "attachments": {},
      "cell_type": "markdown",
      "metadata": {
        "id": "qScvgKTXx4Go"
      },
      "source": [
        "## **7. Results comparison**\n",
        "\n",
        "Now that we could observe how is the implementation of the mitigator in the model, we will compare the results between the baseline and the implementations with the mitigator to analyse how the metrics have changed."
      ]
    },
    {
      "cell_type": "code",
      "execution_count": 19,
      "metadata": {
        "colab": {
          "base_uri": "https://localhost:8080/",
          "height": 206
        },
        "id": "1WsWATY3aUTF",
        "outputId": "335147f1-8bd9-4a18-d073-a8db65cce4ee"
      },
      "outputs": [
        {
          "data": {
            "text/html": [
              "<div>\n",
              "<style scoped>\n",
              "    .dataframe tbody tr th:only-of-type {\n",
              "        vertical-align: middle;\n",
              "    }\n",
              "\n",
              "    .dataframe tbody tr th {\n",
              "        vertical-align: top;\n",
              "    }\n",
              "\n",
              "    .dataframe thead th {\n",
              "        text-align: right;\n",
              "    }\n",
              "</style>\n",
              "<table border=\"1\" class=\"dataframe\">\n",
              "  <thead>\n",
              "    <tr style=\"text-align: right;\">\n",
              "      <th></th>\n",
              "      <th>Baseline</th>\n",
              "      <th>Mitigator</th>\n",
              "      <th>Mitigator with pipeline</th>\n",
              "      <th>Reference</th>\n",
              "    </tr>\n",
              "    <tr>\n",
              "      <th>Metric</th>\n",
              "      <th></th>\n",
              "      <th></th>\n",
              "      <th></th>\n",
              "      <th></th>\n",
              "    </tr>\n",
              "  </thead>\n",
              "  <tbody>\n",
              "    <tr>\n",
              "      <th>Aggregate Diversity</th>\n",
              "      <td>0.415339</td>\n",
              "      <td>1.000000</td>\n",
              "      <td>1.000000</td>\n",
              "      <td>1</td>\n",
              "    </tr>\n",
              "    <tr>\n",
              "      <th>GINI index</th>\n",
              "      <td>0.963810</td>\n",
              "      <td>0.424103</td>\n",
              "      <td>0.424103</td>\n",
              "      <td>0</td>\n",
              "    </tr>\n",
              "    <tr>\n",
              "      <th>Exposure Distribution Entropy</th>\n",
              "      <td>3.830906</td>\n",
              "      <td>6.560575</td>\n",
              "      <td>6.560575</td>\n",
              "      <td>-</td>\n",
              "    </tr>\n",
              "    <tr>\n",
              "      <th>Average Recommendation Popularity</th>\n",
              "      <td>5609.146907</td>\n",
              "      <td>324.368133</td>\n",
              "      <td>324.368133</td>\n",
              "      <td>-</td>\n",
              "    </tr>\n",
              "  </tbody>\n",
              "</table>\n",
              "</div>"
            ],
            "text/plain": [
              "                                      Baseline   Mitigator  \\\n",
              "Metric                                                       \n",
              "Aggregate Diversity                   0.415339    1.000000   \n",
              "GINI index                            0.963810    0.424103   \n",
              "Exposure Distribution Entropy         3.830906    6.560575   \n",
              "Average Recommendation Popularity  5609.146907  324.368133   \n",
              "\n",
              "                                   Mitigator with pipeline Reference  \n",
              "Metric                                                                \n",
              "Aggregate Diversity                               1.000000         1  \n",
              "GINI index                                        0.424103         0  \n",
              "Exposure Distribution Entropy                     6.560575         -  \n",
              "Average Recommendation Popularity               324.368133         -  "
            ]
          },
          "execution_count": 19,
          "metadata": {},
          "output_type": "execute_result"
        }
      ],
      "source": [
        "result = pd.concat([df_baseline, df_tsf, df_two_sided], axis=1).iloc[:, [0,2,4,1]]\n",
        "result.columns = ['Baseline','Mitigator', 'Mitigator with pipeline', 'Reference']\n",
        "result"
      ]
    },
    {
      "attachments": {},
      "cell_type": "markdown",
      "metadata": {
        "id": "QEKnD3ze0aGs"
      },
      "source": [
        "From the previous chart, we can see that although some of the actual metrics are still far from the ideal values, an improvement is obtained by applying this method in the data, compared with our baseline. \n",
        "\n",
        "Notice that we can analyse how these values are affected by varying the hyperparameters of the method.\n",
        "\n",
        "For example, this method allows us to set a recommendation size and the maximin share (MMS) threshold of producers exposure.\n",
        "\n",
        "Let's try by varying the recommendation size of the method to observe how the metrics are affected:"
      ]
    },
    {
      "cell_type": "code",
      "execution_count": 20,
      "metadata": {
        "id": "MvspP6tb0XTm"
      },
      "outputs": [],
      "source": [
        "def calculate_metrics(data_matrix, p_attr, rec_size, metrics_cols):\n",
        "  fr = FairRec(rec_size=rec_size, MMS_fraction=0.5)\n",
        "  fr.fit(data_matrix)\n",
        "\n",
        "  recommendations = fr.recommendation\n",
        "  new_recs = [explode(recommendations[key], len(df_pivot.columns)) for key in recommendations.keys()]\n",
        "\n",
        "  new_df_pivot_db = pd.DataFrame(new_recs, columns = df_pivot.columns)\n",
        "\n",
        "  mat = new_df_pivot_db.replace(0,np.nan).to_numpy()\n",
        "\n",
        "  df = recommender_bias_metrics(mat_pred=mat, metric_type='item_based')\n",
        "\n",
        "  # Calculate metrics\n",
        "  metrics = [\n",
        "      rec_size, \n",
        "  ]\n",
        "  metrics.extend([df['Value'].loc[col] for col in metrics_cols])\n",
        "  return metrics"
      ]
    },
    {
      "cell_type": "code",
      "execution_count": 21,
      "metadata": {
        "colab": {
          "base_uri": "https://localhost:8080/",
          "height": 269
        },
        "id": "5Q0gTVGG2fq3",
        "outputId": "50543de9-3d1a-424f-8162-e19e8245e7d1"
      },
      "outputs": [
        {
          "data": {
            "text/html": [
              "<div>\n",
              "<style scoped>\n",
              "    .dataframe tbody tr th:only-of-type {\n",
              "        vertical-align: middle;\n",
              "    }\n",
              "\n",
              "    .dataframe tbody tr th {\n",
              "        vertical-align: top;\n",
              "    }\n",
              "\n",
              "    .dataframe thead th {\n",
              "        text-align: right;\n",
              "    }\n",
              "</style>\n",
              "<table border=\"1\" class=\"dataframe\">\n",
              "  <thead>\n",
              "    <tr style=\"text-align: right;\">\n",
              "      <th></th>\n",
              "      <th>rec_size</th>\n",
              "      <th>Aggregate Diversity</th>\n",
              "      <th>GINI index</th>\n",
              "      <th>Exposure Distribution Entropy</th>\n",
              "      <th>Average Recommendation Popularity</th>\n",
              "    </tr>\n",
              "  </thead>\n",
              "  <tbody>\n",
              "    <tr>\n",
              "      <th>0</th>\n",
              "      <td>10</td>\n",
              "      <td>1.0</td>\n",
              "      <td>0.424103</td>\n",
              "      <td>6.560575</td>\n",
              "      <td>324.368133</td>\n",
              "    </tr>\n",
              "    <tr>\n",
              "      <th>1</th>\n",
              "      <td>25</td>\n",
              "      <td>1.0</td>\n",
              "      <td>0.558617</td>\n",
              "      <td>6.111294</td>\n",
              "      <td>2219.473269</td>\n",
              "    </tr>\n",
              "    <tr>\n",
              "      <th>2</th>\n",
              "      <td>40</td>\n",
              "      <td>1.0</td>\n",
              "      <td>0.675606</td>\n",
              "      <td>5.675652</td>\n",
              "      <td>5432.064180</td>\n",
              "    </tr>\n",
              "    <tr>\n",
              "      <th>3</th>\n",
              "      <td>55</td>\n",
              "      <td>1.0</td>\n",
              "      <td>0.742041</td>\n",
              "      <td>5.465534</td>\n",
              "      <td>7743.971273</td>\n",
              "    </tr>\n",
              "    <tr>\n",
              "      <th>4</th>\n",
              "      <td>70</td>\n",
              "      <td>1.0</td>\n",
              "      <td>0.775223</td>\n",
              "      <td>5.362929</td>\n",
              "      <td>9524.031968</td>\n",
              "    </tr>\n",
              "    <tr>\n",
              "      <th>5</th>\n",
              "      <td>85</td>\n",
              "      <td>1.0</td>\n",
              "      <td>0.790092</td>\n",
              "      <td>5.377108</td>\n",
              "      <td>10321.974977</td>\n",
              "    </tr>\n",
              "    <tr>\n",
              "      <th>6</th>\n",
              "      <td>100</td>\n",
              "      <td>1.0</td>\n",
              "      <td>0.797248</td>\n",
              "      <td>5.390611</td>\n",
              "      <td>10972.008775</td>\n",
              "    </tr>\n",
              "  </tbody>\n",
              "</table>\n",
              "</div>"
            ],
            "text/plain": [
              "   rec_size  Aggregate Diversity  GINI index  Exposure Distribution Entropy  \\\n",
              "0        10                  1.0    0.424103                       6.560575   \n",
              "1        25                  1.0    0.558617                       6.111294   \n",
              "2        40                  1.0    0.675606                       5.675652   \n",
              "3        55                  1.0    0.742041                       5.465534   \n",
              "4        70                  1.0    0.775223                       5.362929   \n",
              "5        85                  1.0    0.790092                       5.377108   \n",
              "6       100                  1.0    0.797248                       5.390611   \n",
              "\n",
              "   Average Recommendation Popularity  \n",
              "0                         324.368133  \n",
              "1                        2219.473269  \n",
              "2                        5432.064180  \n",
              "3                        7743.971273  \n",
              "4                        9524.031968  \n",
              "5                       10321.974977  \n",
              "6                       10972.008775  "
            ]
          },
          "execution_count": 21,
          "metadata": {},
          "output_type": "execute_result"
        }
      ],
      "source": [
        "metrics_val = []\n",
        "metrics_cols = [\"Aggregate Diversity\", \"GINI index\", \"Exposure Distribution Entropy\", \"Average Recommendation Popularity\"]\n",
        "\n",
        "for rec_size in np.linspace(10,100,7):\n",
        "  metrics_val.append(calculate_metrics(data_matrix, p_attr, int(rec_size), metrics_cols))\n",
        "\n",
        "metrics = ['rec_size']\n",
        "metrics.extend(metrics_cols)\n",
        "df_metrics = pd.DataFrame(metrics_val, columns=metrics)\n",
        "df_metrics"
      ]
    },
    {
      "cell_type": "code",
      "execution_count": 22,
      "metadata": {
        "colab": {
          "base_uri": "https://localhost:8080/",
          "height": 519
        },
        "id": "luFBWQxY3IIh",
        "outputId": "2561c90f-99e6-4fa6-cdd7-dc6d5ac6e3f1"
      },
      "outputs": [
        {
          "data": {
            "text/plain": [
              "Text(0.5, 0, 'Recommendation size')"
            ]
          },
          "execution_count": 22,
          "metadata": {},
          "output_type": "execute_result"
        },
        {
          "data": {
            "image/png": "[encoded data removed]",
            "text/plain": [
              "<Figure size 2500x800 with 2 Axes>"
            ]
          },
          "metadata": {},
          "output_type": "display_data"
        }
      ],
      "source": [
        "x_axis = df_metrics.rec_size\n",
        "plt.figure(figsize=(25,8))\n",
        "plt.subplot(121)\n",
        "plt.plot(x_axis, df_metrics['GINI index'], 'o-', label='GINI index')\n",
        "plt.plot(x_axis, np.zeros_like(df_metrics['GINI index']), label='Reference')\n",
        "plt.legend(loc='upper left')\n",
        "plt.xlabel('Recommendation size')\n",
        "plt.subplot(122)\n",
        "plt.plot(x_axis, df_metrics['Average Recommendation Popularity'], 'o-', label='Average Recommendation Popularity')\n",
        "plt.legend(loc='upper left')\n",
        "plt.xlabel('Recommendation size')"
      ]
    },
    {
      "attachments": {},
      "cell_type": "markdown",
      "metadata": {
        "id": "_KOQKObcSo8d"
      },
      "source": [
        "As we can see, the selection of different values for this parameter will vary its performance, for example, we can observe that in general terms we achieve a better model when the recommendation size is lower."
      ]
    },
    {
      "attachments": {},
      "cell_type": "markdown",
      "metadata": {
        "id": "zxXvCzJqSwmF"
      },
      "source": [
        "# **Summary**\n",
        "\n",
        "Through this tutorial we could present to the user how the `holisticai` library can be easily used to measure the bias present in recommender systems by the application of the `recommender_bias_metrics` function, which returns the calculated values for different metrics respectively.\n",
        "\n",
        "In addition, we shown how to mitigate the bias by applying some methods, for this opportunity we applied the \"Two sided fairness\" technique to train a fairness model, this is a in-processing method that maps the fair recommendation problem to a fair allocation problem and being agnostic to the data. Consequently we could observe how the metrics are influenced by varing the recommendation size of the method, and showing that this method increases the fairness of the model."
      ]
    },
    {
      "cell_type": "code",
      "execution_count": null,
      "metadata": {
        "id": "jl8KA3AVUtZp"
      },
      "outputs": [],
      "source": []
    }
  ],
  "metadata": {
    "colab": {
      "provenance": []
    },
    "kernelspec": {
      "display_name": "Python 3",
      "name": "python3"
    },
    "language_info": {
      "codemirror_mode": {
        "name": "ipython",
        "version": 3
      },
      "file_extension": ".py",
      "mimetype": "text/x-python",
      "name": "python",
      "nbconvert_exporter": "python",
      "pygments_lexer": "ipython3",
      "version": "3.10.0"
    }
  },
  "nbformat": 4,
  "nbformat_minor": 0
}
