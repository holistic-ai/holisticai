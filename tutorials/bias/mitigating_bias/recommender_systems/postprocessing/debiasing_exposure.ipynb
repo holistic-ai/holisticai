{
  "cells": [
    {
      "attachments": {},
      "cell_type": "markdown",
      "metadata": {
        "id": "3OXWn1f2YqX0"
      },
      "source": [
        "# **Bias mitigation with debiasing exposure**\n",
        "\n",
        "This demo  will show how to implement the post-processing \"debiasing exposure\" bias mitigator algorithm to enhance the fairness of a recommender system's output.\n",
        "\n",
        "First, install the `holisticai` package if you haven't already:\n",
        "```bash\n",
        "!pip install holisticai[all]\n",
        "```\n",
        "Then, import the necessary libraries."
      ]
    },
    {
      "cell_type": "code",
      "execution_count": 5,
      "metadata": {
        "id": "a4uAy950YwAB"
      },
      "outputs": [],
      "source": [
        "# Base Imports\n",
        "import pandas as pd\n",
        "import numpy as np\n",
        "from holisticai.datasets.synthetic.recruitment import generate_rankings\n",
        "from holisticai.bias.mitigation.postprocessing.debiasing_exposure.algorithm_utils import exposure_metric\n",
        "from holisticai.bias.mitigation.postprocessing import DebiasingExposure\n",
        "\n",
        "np.random.seed(0)\n",
        "import warnings\n",
        "warnings.filterwarnings(\"ignore\")"
      ]
    },
    {
      "attachments": {},
      "cell_type": "markdown",
      "metadata": {
        "id": "HgRHiQjUY44J"
      },
      "source": [
        "The dataset that we will use is a synthetic ranking dataset generated following the procedure described by Yang and Stoyanovich in their [research](https://arxiv.org/abs/1610.08559). This algorithm creates a ranked output of protected and unprotected candidates with a certain probability."
      ]
    },
    {
      "cell_type": "code",
      "execution_count": 3,
      "metadata": {
        "id": "mGJGlEtmafw8"
      },
      "outputs": [
        {
          "data": {
            "text/html": [
              "<div>\n",
              "<style scoped>\n",
              "    .dataframe tbody tr th:only-of-type {\n",
              "        vertical-align: middle;\n",
              "    }\n",
              "\n",
              "    .dataframe tbody tr th {\n",
              "        vertical-align: top;\n",
              "    }\n",
              "\n",
              "    .dataframe thead th {\n",
              "        text-align: right;\n",
              "    }\n",
              "</style>\n",
              "<table border=\"1\" class=\"dataframe\">\n",
              "  <thead>\n",
              "    <tr style=\"text-align: right;\">\n",
              "      <th></th>\n",
              "      <th>Value</th>\n",
              "    </tr>\n",
              "  </thead>\n",
              "  <tbody>\n",
              "    <tr>\n",
              "      <th>exposure_ratio</th>\n",
              "      <td>33221.217929</td>\n",
              "    </tr>\n",
              "    <tr>\n",
              "      <th>exposure difference</th>\n",
              "      <td>0.048336</td>\n",
              "    </tr>\n",
              "  </tbody>\n",
              "</table>\n",
              "</div>"
            ],
            "text/plain": [
              "                            Value\n",
              "exposure_ratio       33221.217929\n",
              "exposure difference      0.048336"
            ]
          },
          "execution_count": 3,
          "metadata": {},
          "output_type": "execute_result"
        }
      ],
      "source": [
        "# Synthetic data\n",
        "M = 1000\n",
        "top_n = 20\n",
        "p = 0.25\n",
        "rankings = generate_rankings(M, top_n, p, return_p_attr=False)\n",
        "\n",
        "baseline = exposure_metric(rankings, group_col='protected', query_col='X', score_col='score')\n",
        "baseline"
      ]
    },
    {
      "attachments": {},
      "cell_type": "markdown",
      "metadata": {
        "id": "E6nr3AEdwGXF"
      },
      "source": [
        "## **Bias mitigation**\n",
        "\n",
        "Apply the debiasing exposure mitigator algorithm."
      ]
    },
    {
      "cell_type": "code",
      "execution_count": 6,
      "metadata": {
        "colab": {
          "base_uri": "https://localhost:8080/"
        },
        "id": "AKXm-V07anM_",
        "outputId": "d1f97584-4ae5-456d-9b90-291094efdad8"
      },
      "outputs": [
        {
          "name": "stderr",
          "output_type": "stream",
          "text": [
            "100%|██████████| 100/100 [00:59<00:00,  1.69it/s]\n"
          ]
        },
        {
          "data": {
            "text/plain": [
              "<holisticai.bias.mitigation.postprocessing.debiasing_exposure.transformer.DebiasingExposure at 0x7b77a5acfd30>"
            ]
          },
          "execution_count": 6,
          "metadata": {},
          "output_type": "execute_result"
        }
      ],
      "source": [
        "# create the DebiasingExposure class\n",
        "dtr = DebiasingExposure(group_col=\"protected\",\n",
        "                        query_col = 'X',\n",
        "                        doc_col = 'Y',\n",
        "                        feature_cols = ['score', 'protected'],\n",
        "                        score_col = 'score',\n",
        "                        gamma=2, \n",
        "                        number_of_iterations=100, \n",
        "                        standardize=True,\n",
        "                        verbose=1)\n",
        "\n",
        "# train the model\n",
        "dtr.fit(rankings)"
      ]
    },
    {
      "cell_type": "code",
      "execution_count": 7,
      "metadata": {
        "id": "_9n1UWhYPzC4"
      },
      "outputs": [],
      "source": [
        "re_rankings = dtr.transform(rankings)"
      ]
    },
    {
      "attachments": {},
      "cell_type": "markdown",
      "metadata": {
        "id": "RZHyAwonUNUj"
      },
      "source": [
        "Observe the fairness metrics before and after applying the algorithm (lower is better)."
      ]
    },
    {
      "cell_type": "code",
      "execution_count": 8,
      "metadata": {
        "colab": {
          "base_uri": "https://localhost:8080/",
          "height": 112
        },
        "id": "5eJoTrg-I35C",
        "outputId": "9400e351-cd7a-4bc4-ff9c-94729dc6463b"
      },
      "outputs": [
        {
          "data": {
            "text/html": [
              "<div>\n",
              "<style scoped>\n",
              "    .dataframe tbody tr th:only-of-type {\n",
              "        vertical-align: middle;\n",
              "    }\n",
              "\n",
              "    .dataframe tbody tr th {\n",
              "        vertical-align: top;\n",
              "    }\n",
              "\n",
              "    .dataframe thead th {\n",
              "        text-align: right;\n",
              "    }\n",
              "</style>\n",
              "<table border=\"1\" class=\"dataframe\">\n",
              "  <thead>\n",
              "    <tr style=\"text-align: right;\">\n",
              "      <th></th>\n",
              "      <th>Value</th>\n",
              "    </tr>\n",
              "  </thead>\n",
              "  <tbody>\n",
              "    <tr>\n",
              "      <th>exposure_ratio</th>\n",
              "      <td>0.766309</td>\n",
              "    </tr>\n",
              "    <tr>\n",
              "      <th>exposure difference</th>\n",
              "      <td>0.002585</td>\n",
              "    </tr>\n",
              "  </tbody>\n",
              "</table>\n",
              "</div>"
            ],
            "text/plain": [
              "                        Value\n",
              "exposure_ratio       0.766309\n",
              "exposure difference  0.002585"
            ]
          },
          "execution_count": 8,
          "metadata": {},
          "output_type": "execute_result"
        }
      ],
      "source": [
        "df_deb_exp = exposure_metric(re_rankings, group_col='protected', query_col='X', score_col='score')\n",
        "df_deb_exp"
      ]
    },
    {
      "cell_type": "code",
      "execution_count": 9,
      "metadata": {
        "colab": {
          "base_uri": "https://localhost:8080/",
          "height": 112
        },
        "id": "kaSq9vZmVnyY",
        "outputId": "adb4f1ad-a58e-4fc3-c82c-01e2417c82cb"
      },
      "outputs": [
        {
          "data": {
            "text/html": [
              "<div>\n",
              "<style scoped>\n",
              "    .dataframe tbody tr th:only-of-type {\n",
              "        vertical-align: middle;\n",
              "    }\n",
              "\n",
              "    .dataframe tbody tr th {\n",
              "        vertical-align: top;\n",
              "    }\n",
              "\n",
              "    .dataframe thead th {\n",
              "        text-align: right;\n",
              "    }\n",
              "</style>\n",
              "<table border=\"1\" class=\"dataframe\">\n",
              "  <thead>\n",
              "    <tr style=\"text-align: right;\">\n",
              "      <th></th>\n",
              "      <th>Baseline</th>\n",
              "      <th>Mitigator</th>\n",
              "    </tr>\n",
              "  </thead>\n",
              "  <tbody>\n",
              "    <tr>\n",
              "      <th>exposure_ratio</th>\n",
              "      <td>33221.217929</td>\n",
              "      <td>0.766309</td>\n",
              "    </tr>\n",
              "    <tr>\n",
              "      <th>exposure difference</th>\n",
              "      <td>0.048336</td>\n",
              "      <td>0.002585</td>\n",
              "    </tr>\n",
              "  </tbody>\n",
              "</table>\n",
              "</div>"
            ],
            "text/plain": [
              "                         Baseline  Mitigator\n",
              "exposure_ratio       33221.217929   0.766309\n",
              "exposure difference      0.048336   0.002585"
            ]
          },
          "execution_count": 9,
          "metadata": {},
          "output_type": "execute_result"
        }
      ],
      "source": [
        "result = pd.concat([baseline, df_deb_exp], axis=1).iloc[:, [0,1]]\n",
        "result.columns = ['Baseline','Mitigator']\n",
        "result"
      ]
    }
  ],
  "metadata": {
    "colab": {
      "provenance": []
    },
    "kernelspec": {
      "display_name": "Python 3",
      "name": "python3"
    },
    "language_info": {
      "codemirror_mode": {
        "name": "ipython",
        "version": 3
      },
      "file_extension": ".py",
      "mimetype": "text/x-python",
      "name": "python",
      "nbconvert_exporter": "python",
      "pygments_lexer": "ipython3",
      "version": "3.10.0"
    }
  },
  "nbformat": 4,
  "nbformat_minor": 0
}
