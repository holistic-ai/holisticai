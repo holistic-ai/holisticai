{
 "cells": [
  {
   "attachments": {},
   "cell_type": "markdown",
   "metadata": {
    "id": "3OXWn1f2YqX0"
   },
   "source": [
    "# **Bias measuring and mitigation in recommendation systems**\n",
    "\n",
    "The bias problem can appear in models when the predictions systematically deviate from the true values for certain subgroups in the dataset. This phenomenon can occur due to various reasons such as unbalanced groups in the training data, feature selection, or model specification. Because of this, the bias problem can appear in different tasks, being \"recommendation systems\" one of them. A recommender system aims to recommend the best item according to the user preference.\n",
    "\n",
    "There are various techniques to measure bias in recommendation systems. One common approach is to use fairness metrics such as aggregate diversity, exposure entropy, or gini index, which are item based metrics that, in general terms, calculate the distribution to observe the proportions of items are shown to the user.\n",
    "\n",
    "Once bias is detected, we can employ different techniques to mitigate it. These methods can be grouped into three categories: Pre-processing, in-processing and post-processing methods. Pre-processing techniques are used to adjust the training data to remove bias, while in-processing methods are applied to build robust models against bias. Finally, post-processing techniques are used to adjust the model's predictions to remove bias.\n",
    "\n",
    "A recommender system can be biased in multiple ways. For example, we may be concerned that the artists in our database will not get equal representation (item fairness). Alternative, our main concern may be that different groups of users (e.g. male/female users) will get different music recommendations (user fairness). In the following, we will show how to explore the data for fairness, and measure these various types of fairness using the holisticai library.\n",
    "\n",
    "Through this tutorial, we pretend to present you tools which can be easily applied to measure and mitigate the presence of bias in recommender systems, by using a synthetic dataset that generates rankings of candidates using the Yang-Stoyanovich process.\n",
    "\n",
    "We will follow the traditional outline for this tutorial:\n",
    "\n",
    "1. Data loading and packages installation\n",
    "2. Data exploration\n",
    "3. Bias measuring\n",
    "4. Bias mitigation\n",
    "5. Results comparison"
   ]
  },
  {
   "attachments": {},
   "cell_type": "markdown",
   "metadata": {
    "id": "TY3Lc4BBa6rE"
   },
   "source": [
    "### **1. Data loading and packages installation**"
   ]
  },
  {
   "cell_type": "code",
   "execution_count": 26,
   "metadata": {
    "id": "a4uAy950YwAB"
   },
   "outputs": [],
   "source": [
    "# Base Imports\n",
    "import pandas as pd\n",
    "import numpy as np\n",
    "import matplotlib.pyplot as plt\n",
    "\n",
    "import warnings\n",
    "warnings.filterwarnings(\"ignore\")\n",
    "\n",
    "from holisticai.datasets.synthetic.recruitment import generate_rankings"
   ]
  },
  {
   "attachments": {},
   "cell_type": "markdown",
   "metadata": {
    "id": "HgRHiQjUY44J"
   },
   "source": [
    "The dataset that we will use is a synthetic ranking dataset generated following the procedure described by Yang and Stoyanovich in their [research](https://arxiv.org/abs/1610.08559). This algorithm creates a ranked output of protected and unprotected candidates with a certain probability.\n",
    "\n",
    "To do that we will use the `generate_rankings` function that takes as arguments the number of `k` elements that will be generated for all the `M` lists under a probability `p` to be protected. \n",
    "\n",
    "For our case we will generate only one ranked list of 20 elements."
   ]
  },
  {
   "cell_type": "code",
   "execution_count": 4,
   "metadata": {
    "colab": {
     "base_uri": "https://localhost:8080/",
     "height": 206
    },
    "id": "ipYjaz0jZKhq",
    "outputId": "8ca53d22-6629-43df-c874-e4a17495252f"
   },
   "outputs": [
    {
     "data": {
      "text/html": [
       "<div>\n",
       "<style scoped>\n",
       "    .dataframe tbody tr th:only-of-type {\n",
       "        vertical-align: middle;\n",
       "    }\n",
       "\n",
       "    .dataframe tbody tr th {\n",
       "        vertical-align: top;\n",
       "    }\n",
       "\n",
       "    .dataframe thead th {\n",
       "        text-align: right;\n",
       "    }\n",
       "</style>\n",
       "<table border=\"1\" class=\"dataframe\">\n",
       "  <thead>\n",
       "    <tr style=\"text-align: right;\">\n",
       "      <th></th>\n",
       "      <th>X</th>\n",
       "      <th>Y</th>\n",
       "      <th>score</th>\n",
       "      <th>protected</th>\n",
       "    </tr>\n",
       "  </thead>\n",
       "  <tbody>\n",
       "    <tr>\n",
       "      <th>0</th>\n",
       "      <td>0</td>\n",
       "      <td>20</td>\n",
       "      <td>20</td>\n",
       "      <td>False</td>\n",
       "    </tr>\n",
       "    <tr>\n",
       "      <th>1</th>\n",
       "      <td>0</td>\n",
       "      <td>19</td>\n",
       "      <td>19</td>\n",
       "      <td>True</td>\n",
       "    </tr>\n",
       "    <tr>\n",
       "      <th>2</th>\n",
       "      <td>0</td>\n",
       "      <td>18</td>\n",
       "      <td>18</td>\n",
       "      <td>False</td>\n",
       "    </tr>\n",
       "    <tr>\n",
       "      <th>3</th>\n",
       "      <td>0</td>\n",
       "      <td>17</td>\n",
       "      <td>17</td>\n",
       "      <td>False</td>\n",
       "    </tr>\n",
       "    <tr>\n",
       "      <th>4</th>\n",
       "      <td>0</td>\n",
       "      <td>16</td>\n",
       "      <td>16</td>\n",
       "      <td>False</td>\n",
       "    </tr>\n",
       "  </tbody>\n",
       "</table>\n",
       "</div>"
      ],
      "text/plain": [
       "   X   Y  score  protected\n",
       "0  0  20     20      False\n",
       "1  0  19     19       True\n",
       "2  0  18     18      False\n",
       "3  0  17     17      False\n",
       "4  0  16     16      False"
      ]
     },
     "execution_count": 4,
     "metadata": {},
     "output_type": "execute_result"
    }
   ],
   "source": [
    "M = 1\n",
    "k = 20\n",
    "p = 0.1\n",
    "ranking = generate_rankings(M, k, p)\n",
    "ranking.head()"
   ]
  },
  {
   "attachments": {},
   "cell_type": "markdown",
   "metadata": {
    "id": "AcG35BN7nnH3"
   },
   "source": [
    "To add bias into the dataset we will modify the `protected` column where the protected elements will be only the last six elements."
   ]
  },
  {
   "cell_type": "code",
   "execution_count": 27,
   "metadata": {
    "colab": {
     "base_uri": "https://localhost:8080/"
    },
    "id": "qHOlSsrIbde_",
    "outputId": "eeaf14fe-8d1c-4ed4-8ba1-27bff9aac2e2"
   },
   "outputs": [],
   "source": [
    "def create_unfair_example(ranking, n):\n",
    "    \"\"\"\n",
    "    Setting an unfair ranking where protected group examples are only the last n results.\n",
    "    \"\"\"\n",
    "    ranking = ranking.copy()\n",
    "    ranking['protected']=False\n",
    "    ranking['protected'].iloc[-n:]=True\n",
    "    return ranking\n",
    "    \n",
    "unfair_ranking = create_unfair_example(ranking, 6)"
   ]
  },
  {
   "cell_type": "code",
   "execution_count": 7,
   "metadata": {
    "colab": {
     "base_uri": "https://localhost:8080/",
     "height": 677
    },
    "id": "qmFz5l9ebgCs",
    "outputId": "91bdbd6f-dcdf-4e23-9dc0-74a6fb2236ae"
   },
   "outputs": [
    {
     "data": {
      "text/html": [
       "<div>\n",
       "<style scoped>\n",
       "    .dataframe tbody tr th:only-of-type {\n",
       "        vertical-align: middle;\n",
       "    }\n",
       "\n",
       "    .dataframe tbody tr th {\n",
       "        vertical-align: top;\n",
       "    }\n",
       "\n",
       "    .dataframe thead th {\n",
       "        text-align: right;\n",
       "    }\n",
       "</style>\n",
       "<table border=\"1\" class=\"dataframe\">\n",
       "  <thead>\n",
       "    <tr style=\"text-align: right;\">\n",
       "      <th></th>\n",
       "      <th>X</th>\n",
       "      <th>Y</th>\n",
       "      <th>score</th>\n",
       "      <th>protected</th>\n",
       "    </tr>\n",
       "  </thead>\n",
       "  <tbody>\n",
       "    <tr>\n",
       "      <th>0</th>\n",
       "      <td>0</td>\n",
       "      <td>20</td>\n",
       "      <td>20</td>\n",
       "      <td>False</td>\n",
       "    </tr>\n",
       "    <tr>\n",
       "      <th>1</th>\n",
       "      <td>0</td>\n",
       "      <td>19</td>\n",
       "      <td>19</td>\n",
       "      <td>False</td>\n",
       "    </tr>\n",
       "    <tr>\n",
       "      <th>2</th>\n",
       "      <td>0</td>\n",
       "      <td>18</td>\n",
       "      <td>18</td>\n",
       "      <td>False</td>\n",
       "    </tr>\n",
       "    <tr>\n",
       "      <th>3</th>\n",
       "      <td>0</td>\n",
       "      <td>17</td>\n",
       "      <td>17</td>\n",
       "      <td>False</td>\n",
       "    </tr>\n",
       "    <tr>\n",
       "      <th>4</th>\n",
       "      <td>0</td>\n",
       "      <td>16</td>\n",
       "      <td>16</td>\n",
       "      <td>False</td>\n",
       "    </tr>\n",
       "    <tr>\n",
       "      <th>5</th>\n",
       "      <td>0</td>\n",
       "      <td>15</td>\n",
       "      <td>15</td>\n",
       "      <td>False</td>\n",
       "    </tr>\n",
       "    <tr>\n",
       "      <th>6</th>\n",
       "      <td>0</td>\n",
       "      <td>14</td>\n",
       "      <td>14</td>\n",
       "      <td>False</td>\n",
       "    </tr>\n",
       "    <tr>\n",
       "      <th>7</th>\n",
       "      <td>0</td>\n",
       "      <td>13</td>\n",
       "      <td>13</td>\n",
       "      <td>False</td>\n",
       "    </tr>\n",
       "    <tr>\n",
       "      <th>8</th>\n",
       "      <td>0</td>\n",
       "      <td>12</td>\n",
       "      <td>12</td>\n",
       "      <td>False</td>\n",
       "    </tr>\n",
       "    <tr>\n",
       "      <th>9</th>\n",
       "      <td>0</td>\n",
       "      <td>11</td>\n",
       "      <td>11</td>\n",
       "      <td>False</td>\n",
       "    </tr>\n",
       "    <tr>\n",
       "      <th>10</th>\n",
       "      <td>0</td>\n",
       "      <td>10</td>\n",
       "      <td>10</td>\n",
       "      <td>False</td>\n",
       "    </tr>\n",
       "    <tr>\n",
       "      <th>11</th>\n",
       "      <td>0</td>\n",
       "      <td>9</td>\n",
       "      <td>9</td>\n",
       "      <td>False</td>\n",
       "    </tr>\n",
       "    <tr>\n",
       "      <th>12</th>\n",
       "      <td>0</td>\n",
       "      <td>8</td>\n",
       "      <td>8</td>\n",
       "      <td>False</td>\n",
       "    </tr>\n",
       "    <tr>\n",
       "      <th>13</th>\n",
       "      <td>0</td>\n",
       "      <td>7</td>\n",
       "      <td>7</td>\n",
       "      <td>False</td>\n",
       "    </tr>\n",
       "    <tr>\n",
       "      <th>14</th>\n",
       "      <td>0</td>\n",
       "      <td>6</td>\n",
       "      <td>6</td>\n",
       "      <td>True</td>\n",
       "    </tr>\n",
       "    <tr>\n",
       "      <th>15</th>\n",
       "      <td>0</td>\n",
       "      <td>5</td>\n",
       "      <td>5</td>\n",
       "      <td>True</td>\n",
       "    </tr>\n",
       "    <tr>\n",
       "      <th>16</th>\n",
       "      <td>0</td>\n",
       "      <td>4</td>\n",
       "      <td>4</td>\n",
       "      <td>True</td>\n",
       "    </tr>\n",
       "    <tr>\n",
       "      <th>17</th>\n",
       "      <td>0</td>\n",
       "      <td>3</td>\n",
       "      <td>3</td>\n",
       "      <td>True</td>\n",
       "    </tr>\n",
       "    <tr>\n",
       "      <th>18</th>\n",
       "      <td>0</td>\n",
       "      <td>2</td>\n",
       "      <td>2</td>\n",
       "      <td>True</td>\n",
       "    </tr>\n",
       "    <tr>\n",
       "      <th>19</th>\n",
       "      <td>0</td>\n",
       "      <td>1</td>\n",
       "      <td>1</td>\n",
       "      <td>True</td>\n",
       "    </tr>\n",
       "  </tbody>\n",
       "</table>\n",
       "</div>"
      ],
      "text/plain": [
       "    X   Y  score  protected\n",
       "0   0  20     20      False\n",
       "1   0  19     19      False\n",
       "2   0  18     18      False\n",
       "3   0  17     17      False\n",
       "4   0  16     16      False\n",
       "5   0  15     15      False\n",
       "6   0  14     14      False\n",
       "7   0  13     13      False\n",
       "8   0  12     12      False\n",
       "9   0  11     11      False\n",
       "10  0  10     10      False\n",
       "11  0   9      9      False\n",
       "12  0   8      8      False\n",
       "13  0   7      7      False\n",
       "14  0   6      6       True\n",
       "15  0   5      5       True\n",
       "16  0   4      4       True\n",
       "17  0   3      3       True\n",
       "18  0   2      2       True\n",
       "19  0   1      1       True"
      ]
     },
     "execution_count": 7,
     "metadata": {},
     "output_type": "execute_result"
    }
   ],
   "source": [
    "unfair_ranking"
   ]
  },
  {
   "attachments": {},
   "cell_type": "markdown",
   "metadata": {
    "id": "eGT3iiJLdcmz"
   },
   "source": [
    "We now will create a new synthetic dataset to fit the mitigator which then will be used for the unfair dataset created previously.\n",
    "\n",
    "From now on, we are going to assume that both rankings are outputs from a recommender system, and we will analyze the bias in the recommendations. Therefore, our purpose will be to measure and then  mitigate the bias in the recommendations."
   ]
  },
  {
   "cell_type": "code",
   "execution_count": 8,
   "metadata": {
    "id": "ipD0iR52bkK1"
   },
   "outputs": [],
   "source": [
    "# Synthetic data\n",
    "M = 1000\n",
    "top_n = 20\n",
    "p = 0.25\n",
    "rankings = generate_rankings(M, top_n, p, return_p_attr=False)"
   ]
  },
  {
   "cell_type": "code",
   "execution_count": 9,
   "metadata": {
    "colab": {
     "base_uri": "https://localhost:8080/",
     "height": 300
    },
    "id": "UyMjaae3nf0M",
    "outputId": "16136da9-86ee-40ec-c83a-9bf8b10835b0"
   },
   "outputs": [
    {
     "data": {
      "text/html": [
       "<div>\n",
       "<style scoped>\n",
       "    .dataframe tbody tr th:only-of-type {\n",
       "        vertical-align: middle;\n",
       "    }\n",
       "\n",
       "    .dataframe tbody tr th {\n",
       "        vertical-align: top;\n",
       "    }\n",
       "\n",
       "    .dataframe thead th {\n",
       "        text-align: right;\n",
       "    }\n",
       "</style>\n",
       "<table border=\"1\" class=\"dataframe\">\n",
       "  <thead>\n",
       "    <tr style=\"text-align: right;\">\n",
       "      <th></th>\n",
       "      <th>X</th>\n",
       "      <th>Y</th>\n",
       "      <th>score</th>\n",
       "    </tr>\n",
       "  </thead>\n",
       "  <tbody>\n",
       "    <tr>\n",
       "      <th>count</th>\n",
       "      <td>20.0</td>\n",
       "      <td>20.00000</td>\n",
       "      <td>20.00000</td>\n",
       "    </tr>\n",
       "    <tr>\n",
       "      <th>mean</th>\n",
       "      <td>0.0</td>\n",
       "      <td>10.50000</td>\n",
       "      <td>10.50000</td>\n",
       "    </tr>\n",
       "    <tr>\n",
       "      <th>std</th>\n",
       "      <td>0.0</td>\n",
       "      <td>5.91608</td>\n",
       "      <td>5.91608</td>\n",
       "    </tr>\n",
       "    <tr>\n",
       "      <th>min</th>\n",
       "      <td>0.0</td>\n",
       "      <td>1.00000</td>\n",
       "      <td>1.00000</td>\n",
       "    </tr>\n",
       "    <tr>\n",
       "      <th>25%</th>\n",
       "      <td>0.0</td>\n",
       "      <td>5.75000</td>\n",
       "      <td>5.75000</td>\n",
       "    </tr>\n",
       "    <tr>\n",
       "      <th>50%</th>\n",
       "      <td>0.0</td>\n",
       "      <td>10.50000</td>\n",
       "      <td>10.50000</td>\n",
       "    </tr>\n",
       "    <tr>\n",
       "      <th>75%</th>\n",
       "      <td>0.0</td>\n",
       "      <td>15.25000</td>\n",
       "      <td>15.25000</td>\n",
       "    </tr>\n",
       "    <tr>\n",
       "      <th>max</th>\n",
       "      <td>0.0</td>\n",
       "      <td>20.00000</td>\n",
       "      <td>20.00000</td>\n",
       "    </tr>\n",
       "  </tbody>\n",
       "</table>\n",
       "</div>"
      ],
      "text/plain": [
       "          X         Y     score\n",
       "count  20.0  20.00000  20.00000\n",
       "mean    0.0  10.50000  10.50000\n",
       "std     0.0   5.91608   5.91608\n",
       "min     0.0   1.00000   1.00000\n",
       "25%     0.0   5.75000   5.75000\n",
       "50%     0.0  10.50000  10.50000\n",
       "75%     0.0  15.25000  15.25000\n",
       "max     0.0  20.00000  20.00000"
      ]
     },
     "execution_count": 9,
     "metadata": {},
     "output_type": "execute_result"
    }
   ],
   "source": [
    "unfair_ranking.describe()"
   ]
  },
  {
   "attachments": {},
   "cell_type": "markdown",
   "metadata": {
    "id": "H4CQyqQRn-aZ"
   },
   "source": [
    "This graph show us that the proportion of men is very high compared to the female people.\n"
   ]
  },
  {
   "cell_type": "code",
   "execution_count": 10,
   "metadata": {
    "colab": {
     "base_uri": "https://localhost:8080/",
     "height": 300
    },
    "id": "-tdmMBzmGZDm",
    "outputId": "d570c5c0-a442-4ed5-b999-f650bbc1b05a"
   },
   "outputs": [
    {
     "data": {
      "text/html": [
       "<div>\n",
       "<style scoped>\n",
       "    .dataframe tbody tr th:only-of-type {\n",
       "        vertical-align: middle;\n",
       "    }\n",
       "\n",
       "    .dataframe tbody tr th {\n",
       "        vertical-align: top;\n",
       "    }\n",
       "\n",
       "    .dataframe thead th {\n",
       "        text-align: right;\n",
       "    }\n",
       "</style>\n",
       "<table border=\"1\" class=\"dataframe\">\n",
       "  <thead>\n",
       "    <tr style=\"text-align: right;\">\n",
       "      <th></th>\n",
       "      <th>X</th>\n",
       "      <th>Y</th>\n",
       "      <th>score</th>\n",
       "    </tr>\n",
       "  </thead>\n",
       "  <tbody>\n",
       "    <tr>\n",
       "      <th>count</th>\n",
       "      <td>20000.000000</td>\n",
       "      <td>20000.000000</td>\n",
       "      <td>20000.000000</td>\n",
       "    </tr>\n",
       "    <tr>\n",
       "      <th>mean</th>\n",
       "      <td>499.500000</td>\n",
       "      <td>10.500000</td>\n",
       "      <td>10.500000</td>\n",
       "    </tr>\n",
       "    <tr>\n",
       "      <th>std</th>\n",
       "      <td>288.682207</td>\n",
       "      <td>5.766425</td>\n",
       "      <td>5.766425</td>\n",
       "    </tr>\n",
       "    <tr>\n",
       "      <th>min</th>\n",
       "      <td>0.000000</td>\n",
       "      <td>1.000000</td>\n",
       "      <td>1.000000</td>\n",
       "    </tr>\n",
       "    <tr>\n",
       "      <th>25%</th>\n",
       "      <td>249.750000</td>\n",
       "      <td>5.750000</td>\n",
       "      <td>5.750000</td>\n",
       "    </tr>\n",
       "    <tr>\n",
       "      <th>50%</th>\n",
       "      <td>499.500000</td>\n",
       "      <td>10.500000</td>\n",
       "      <td>10.500000</td>\n",
       "    </tr>\n",
       "    <tr>\n",
       "      <th>75%</th>\n",
       "      <td>749.250000</td>\n",
       "      <td>15.250000</td>\n",
       "      <td>15.250000</td>\n",
       "    </tr>\n",
       "    <tr>\n",
       "      <th>max</th>\n",
       "      <td>999.000000</td>\n",
       "      <td>20.000000</td>\n",
       "      <td>20.000000</td>\n",
       "    </tr>\n",
       "  </tbody>\n",
       "</table>\n",
       "</div>"
      ],
      "text/plain": [
       "                  X             Y         score\n",
       "count  20000.000000  20000.000000  20000.000000\n",
       "mean     499.500000     10.500000     10.500000\n",
       "std      288.682207      5.766425      5.766425\n",
       "min        0.000000      1.000000      1.000000\n",
       "25%      249.750000      5.750000      5.750000\n",
       "50%      499.500000     10.500000     10.500000\n",
       "75%      749.250000     15.250000     15.250000\n",
       "max      999.000000     20.000000     20.000000"
      ]
     },
     "execution_count": 10,
     "metadata": {},
     "output_type": "execute_result"
    }
   ],
   "source": [
    "rankings.describe()"
   ]
  },
  {
   "attachments": {},
   "cell_type": "markdown",
   "metadata": {
    "id": "NZTW9YJWomvC"
   },
   "source": [
    "## **3. Dataset preprocessing**"
   ]
  },
  {
   "attachments": {},
   "cell_type": "markdown",
   "metadata": {
    "id": "rgmZ2E5JpVub"
   },
   "source": [
    "\n",
    "We now need to change the dataframe to an interaction matrix, where every row is a user and every column is an artist. We can use the `recommender_formatter` function provided in the library which makes this transformation, then, the output dataframe can be used as an input to the bias metric functions for recommenders.\n"
   ]
  },
  {
   "cell_type": "code",
   "execution_count": 11,
   "metadata": {
    "colab": {
     "base_uri": "https://localhost:8080/",
     "height": 472
    },
    "id": "bMdrrxwjZWaS",
    "outputId": "7edb8cc4-4539-4389-cac3-ee54843f38db"
   },
   "outputs": [
    {
     "data": {
      "text/plain": [
       "<Axes: title={'center': 'Group proportions'}>"
      ]
     },
     "execution_count": 11,
     "metadata": {},
     "output_type": "execute_result"
    },
    {
     "data": {
      "image/png": "[encoded data removed]",
      "text/plain": [
       "<Figure size 640x480 with 1 Axes>"
      ]
     },
     "metadata": {},
     "output_type": "display_data"
    }
   ],
   "source": [
    "from holisticai.plots.bias import group_pie_plot, frequency_plot\n",
    "\n",
    "group_pie_plot(unfair_ranking['protected'])"
   ]
  },
  {
   "attachments": {},
   "cell_type": "markdown",
   "metadata": {
    "id": "udGwQWDwgX8S"
   },
   "source": [
    "This graph show us that the proportion of the unprotected group is very high compared to the protected examples for the unfair dataset."
   ]
  },
  {
   "cell_type": "code",
   "execution_count": 12,
   "metadata": {
    "colab": {
     "base_uri": "https://localhost:8080/",
     "height": 472
    },
    "id": "-cy7YITbbwxJ",
    "outputId": "23633303-69fb-4dfd-8671-a80684015b16"
   },
   "outputs": [
    {
     "data": {
      "text/plain": [
       "<Axes: title={'center': 'Group proportions'}>"
      ]
     },
     "execution_count": 12,
     "metadata": {},
     "output_type": "execute_result"
    },
    {
     "data": {
      "image/png": "[encoded data removed]",
      "text/plain": [
       "<Figure size 640x480 with 1 Axes>"
      ]
     },
     "metadata": {},
     "output_type": "display_data"
    }
   ],
   "source": [
    "group_pie_plot(rankings['protected'])"
   ]
  },
  {
   "attachments": {},
   "cell_type": "markdown",
   "metadata": {
    "id": "Ogj1Vg1UgaUS"
   },
   "source": [
    "A similar proportion is observed for the syntetic dataset, where the protected examples are only the 25% of the total data."
   ]
  },
  {
   "attachments": {},
   "cell_type": "markdown",
   "metadata": {
    "id": "rx5Y9OmOqY09"
   },
   "source": [
    "## **3. Bias measuring**\n",
    "\n",
    "For these dataset we do not need to perform any preprocessing step, so we can use them directly to calculate the various metrics of fairness for recommender systems. In this example, we will use the `exposure_metric` function that calculates the exposure ratio and difference from the actual rankings for both datasets."
   ]
  },
  {
   "cell_type": "code",
   "execution_count": 13,
   "metadata": {
    "id": "cdWQoA6Wb0eR"
   },
   "outputs": [],
   "source": [
    "from holisticai.bias.mitigation.postprocessing.debiasing_exposure.algorithm_utils import exposure_metric"
   ]
  },
  {
   "cell_type": "code",
   "execution_count": 14,
   "metadata": {
    "colab": {
     "base_uri": "https://localhost:8080/",
     "height": 112
    },
    "id": "u6Cv018XgFEc",
    "outputId": "95321b4f-7895-4cbe-967a-f3fe96fb978d"
   },
   "outputs": [
    {
     "data": {
      "text/html": [
       "<div>\n",
       "<style scoped>\n",
       "    .dataframe tbody tr th:only-of-type {\n",
       "        vertical-align: middle;\n",
       "    }\n",
       "\n",
       "    .dataframe tbody tr th {\n",
       "        vertical-align: top;\n",
       "    }\n",
       "\n",
       "    .dataframe thead th {\n",
       "        text-align: right;\n",
       "    }\n",
       "</style>\n",
       "<table border=\"1\" class=\"dataframe\">\n",
       "  <thead>\n",
       "    <tr style=\"text-align: right;\">\n",
       "      <th></th>\n",
       "      <th>Value</th>\n",
       "    </tr>\n",
       "  </thead>\n",
       "  <tbody>\n",
       "    <tr>\n",
       "      <th>exposure_ratio</th>\n",
       "      <td>33221.217929</td>\n",
       "    </tr>\n",
       "    <tr>\n",
       "      <th>exposure difference</th>\n",
       "      <td>0.048336</td>\n",
       "    </tr>\n",
       "  </tbody>\n",
       "</table>\n",
       "</div>"
      ],
      "text/plain": [
       "                            Value\n",
       "exposure_ratio       33221.217929\n",
       "exposure difference      0.048336"
      ]
     },
     "execution_count": 14,
     "metadata": {},
     "output_type": "execute_result"
    }
   ],
   "source": [
    "baseline = exposure_metric(rankings, group_col='protected', query_col='X', score_col='score')\n",
    "baseline"
   ]
  },
  {
   "cell_type": "code",
   "execution_count": 15,
   "metadata": {
    "colab": {
     "base_uri": "https://localhost:8080/",
     "height": 112
    },
    "id": "Yj_1x8p1gKzf",
    "outputId": "2eed0f4f-90fd-4444-ec3a-63fb70f41bed"
   },
   "outputs": [
    {
     "data": {
      "text/html": [
       "<div>\n",
       "<style scoped>\n",
       "    .dataframe tbody tr th:only-of-type {\n",
       "        vertical-align: middle;\n",
       "    }\n",
       "\n",
       "    .dataframe tbody tr th {\n",
       "        vertical-align: top;\n",
       "    }\n",
       "\n",
       "    .dataframe thead th {\n",
       "        text-align: right;\n",
       "    }\n",
       "</style>\n",
       "<table border=\"1\" class=\"dataframe\">\n",
       "  <thead>\n",
       "    <tr style=\"text-align: right;\">\n",
       "      <th></th>\n",
       "      <th>Value</th>\n",
       "    </tr>\n",
       "  </thead>\n",
       "  <tbody>\n",
       "    <tr>\n",
       "      <th>exposure_ratio</th>\n",
       "      <td>516682.109793</td>\n",
       "    </tr>\n",
       "    <tr>\n",
       "      <th>exposure difference</th>\n",
       "      <td>0.103049</td>\n",
       "    </tr>\n",
       "  </tbody>\n",
       "</table>\n",
       "</div>"
      ],
      "text/plain": [
       "                             Value\n",
       "exposure_ratio       516682.109793\n",
       "exposure difference       0.103049"
      ]
     },
     "execution_count": 15,
     "metadata": {},
     "output_type": "execute_result"
    }
   ],
   "source": [
    "baseline_unfair = exposure_metric(unfair_ranking, group_col='protected', query_col='X', score_col='score')\n",
    "baseline_unfair"
   ]
  },
  {
   "attachments": {},
   "cell_type": "markdown",
   "metadata": {
    "id": "qnG-8NdwtTzf"
   },
   "source": [
    "Above we have batch plotted some exposure based metrics for both datasets. For example:\n",
    "\n",
    "*   **Exposure ratio:** Calculates the relation between the exposure of non-protected and protected elements from the dataset. For a fairer model we seek to have this value lower, indicating that the protected examples are gaining more exposure.\n",
    "*   **Exposure difference:** Calculates the difference of exposure between the two groups this value will be zero when the protected group achieves more exposure than the non-protected."
   ]
  },
  {
   "attachments": {},
   "cell_type": "markdown",
   "metadata": {
    "id": "3zwG34nrgotK"
   },
   "source": [
    "## **4. Bias mitigation**\n",
    "\n",
    "### **Post-processing: Disparate Impact Remover RS**\n",
    "\n",
    "Now that we could observe that the metrics are far away from the desired values, we need to apply some kind of strategy to mitigate the bias present.\n",
    "\n",
    "Exists different kinds of strategies, and the literature has divided them into three categories: \"Pre-processing\", \"in-processing\" and \"post-processing\" methods. The `holisticai` library possesses different algorithms from these categories for bias mitigation. An interesting feature is that all of them are compatible with the `Scikit-learn` package, so that, if you are familiar with this package, you will not have problems using the library.\n",
    "\n",
    "For this opportunity, we will implement the \"Disparate impact remover RS\" method which is a postprocessing algorithm that edits feature values to increase group fairness while preserving rank-ordering within groups."
   ]
  },
  {
   "cell_type": "code",
   "execution_count": 16,
   "metadata": {
    "id": "YIfrYjHz_bcu"
   },
   "outputs": [],
   "source": [
    "from holisticai.bias.mitigation import DisparateImpactRemoverRS\n",
    "\n",
    "dir = DisparateImpactRemoverRS(query_col='X', group_col='protected', score_col='score', repair_level=1)"
   ]
  },
  {
   "attachments": {},
   "cell_type": "markdown",
   "metadata": {
    "id": "cGgU4XvLhnW1"
   },
   "source": [
    "## **5. Compare results**\n",
    "Now that we could observe how is the implementation of the mitigator, we will compare the results between the baseline and the implementations with the mitigator to analyse how the metrics have changed."
   ]
  },
  {
   "cell_type": "code",
   "execution_count": 17,
   "metadata": {
    "id": "-ND_y-lEgF-3"
   },
   "outputs": [],
   "source": [
    "re_rankings = dir.transform(rankings)"
   ]
  },
  {
   "attachments": {},
   "cell_type": "markdown",
   "metadata": {
    "id": "aO9VlS1ouHJk"
   },
   "source": [
    "Finally, we obtain our recommendation matrix:"
   ]
  },
  {
   "cell_type": "code",
   "execution_count": 18,
   "metadata": {
    "colab": {
     "base_uri": "https://localhost:8080/",
     "height": 112
    },
    "id": "YfhoMQW8gVtw",
    "outputId": "cc366da5-5e39-4b7a-f425-c494f1c98a62"
   },
   "outputs": [
    {
     "data": {
      "text/html": [
       "<div>\n",
       "<style scoped>\n",
       "    .dataframe tbody tr th:only-of-type {\n",
       "        vertical-align: middle;\n",
       "    }\n",
       "\n",
       "    .dataframe tbody tr th {\n",
       "        vertical-align: top;\n",
       "    }\n",
       "\n",
       "    .dataframe thead th {\n",
       "        text-align: right;\n",
       "    }\n",
       "</style>\n",
       "<table border=\"1\" class=\"dataframe\">\n",
       "  <thead>\n",
       "    <tr style=\"text-align: right;\">\n",
       "      <th></th>\n",
       "      <th>Value</th>\n",
       "    </tr>\n",
       "  </thead>\n",
       "  <tbody>\n",
       "    <tr>\n",
       "      <th>exposure_ratio</th>\n",
       "      <td>1.005388</td>\n",
       "    </tr>\n",
       "    <tr>\n",
       "      <th>exposure difference</th>\n",
       "      <td>0.001944</td>\n",
       "    </tr>\n",
       "  </tbody>\n",
       "</table>\n",
       "</div>"
      ],
      "text/plain": [
       "                        Value\n",
       "exposure_ratio       1.005388\n",
       "exposure difference  0.001944"
      ]
     },
     "execution_count": 18,
     "metadata": {},
     "output_type": "execute_result"
    }
   ],
   "source": [
    "df_dis_imp = exposure_metric(re_rankings, group_col='protected', query_col='X', score_col='score')\n",
    "df_dis_imp"
   ]
  },
  {
   "cell_type": "code",
   "execution_count": 19,
   "metadata": {
    "id": "RHqbHr1HZ_LS"
   },
   "outputs": [],
   "source": [
    "re_ranking = dir.transform(unfair_ranking)"
   ]
  },
  {
   "cell_type": "code",
   "execution_count": 20,
   "metadata": {
    "colab": {
     "base_uri": "https://localhost:8080/",
     "height": 112
    },
    "id": "cPnH2crRgfMu",
    "outputId": "5947d356-8523-4078-c899-1491d9c74dc1"
   },
   "outputs": [
    {
     "data": {
      "text/html": [
       "<div>\n",
       "<style scoped>\n",
       "    .dataframe tbody tr th:only-of-type {\n",
       "        vertical-align: middle;\n",
       "    }\n",
       "\n",
       "    .dataframe tbody tr th {\n",
       "        vertical-align: top;\n",
       "    }\n",
       "\n",
       "    .dataframe thead th {\n",
       "        text-align: right;\n",
       "    }\n",
       "</style>\n",
       "<table border=\"1\" class=\"dataframe\">\n",
       "  <thead>\n",
       "    <tr style=\"text-align: right;\">\n",
       "      <th></th>\n",
       "      <th>Value</th>\n",
       "    </tr>\n",
       "  </thead>\n",
       "  <tbody>\n",
       "    <tr>\n",
       "      <th>exposure_ratio</th>\n",
       "      <td>0.962027</td>\n",
       "    </tr>\n",
       "    <tr>\n",
       "      <th>exposure difference</th>\n",
       "      <td>0.000000</td>\n",
       "    </tr>\n",
       "  </tbody>\n",
       "</table>\n",
       "</div>"
      ],
      "text/plain": [
       "                        Value\n",
       "exposure_ratio       0.962027\n",
       "exposure difference  0.000000"
      ]
     },
     "execution_count": 20,
     "metadata": {},
     "output_type": "execute_result"
    }
   ],
   "source": [
    "df_dis_imp_unfair = exposure_metric(re_ranking, group_col='protected', query_col='X', score_col='score')\n",
    "df_dis_imp_unfair"
   ]
  },
  {
   "cell_type": "code",
   "execution_count": 21,
   "metadata": {
    "colab": {
     "base_uri": "https://localhost:8080/",
     "height": 112
    },
    "id": "3fCA4ygOxaBP",
    "outputId": "e3564268-5268-469b-e6e5-c1c78ba0b1fb"
   },
   "outputs": [
    {
     "data": {
      "text/html": [
       "<div>\n",
       "<style scoped>\n",
       "    .dataframe tbody tr th:only-of-type {\n",
       "        vertical-align: middle;\n",
       "    }\n",
       "\n",
       "    .dataframe tbody tr th {\n",
       "        vertical-align: top;\n",
       "    }\n",
       "\n",
       "    .dataframe thead th {\n",
       "        text-align: right;\n",
       "    }\n",
       "</style>\n",
       "<table border=\"1\" class=\"dataframe\">\n",
       "  <thead>\n",
       "    <tr style=\"text-align: right;\">\n",
       "      <th></th>\n",
       "      <th>Baseline</th>\n",
       "      <th>Mitigator</th>\n",
       "    </tr>\n",
       "  </thead>\n",
       "  <tbody>\n",
       "    <tr>\n",
       "      <th>exposure_ratio</th>\n",
       "      <td>33221.217929</td>\n",
       "      <td>1.005388</td>\n",
       "    </tr>\n",
       "    <tr>\n",
       "      <th>exposure difference</th>\n",
       "      <td>0.048336</td>\n",
       "      <td>0.001944</td>\n",
       "    </tr>\n",
       "  </tbody>\n",
       "</table>\n",
       "</div>"
      ],
      "text/plain": [
       "                         Baseline  Mitigator\n",
       "exposure_ratio       33221.217929   1.005388\n",
       "exposure difference      0.048336   0.001944"
      ]
     },
     "execution_count": 21,
     "metadata": {},
     "output_type": "execute_result"
    }
   ],
   "source": [
    "result = pd.concat([baseline, df_dis_imp], axis=1).iloc[:, [0,1]]\n",
    "result.columns = ['Baseline','Mitigator']\n",
    "result"
   ]
  },
  {
   "attachments": {},
   "cell_type": "markdown",
   "metadata": {
    "id": "9lNet1nTyDGD"
   },
   "source": [
    "To perform the mitigation with this method we will use the data matrix calculated before with the protected groups"
   ]
  },
  {
   "cell_type": "code",
   "execution_count": 22,
   "metadata": {
    "colab": {
     "base_uri": "https://localhost:8080/",
     "height": 112
    },
    "id": "HYec2907ZqMt",
    "outputId": "75eadf95-5bb6-470e-c67f-e296cdf57eb7"
   },
   "outputs": [
    {
     "data": {
      "text/html": [
       "<div>\n",
       "<style scoped>\n",
       "    .dataframe tbody tr th:only-of-type {\n",
       "        vertical-align: middle;\n",
       "    }\n",
       "\n",
       "    .dataframe tbody tr th {\n",
       "        vertical-align: top;\n",
       "    }\n",
       "\n",
       "    .dataframe thead th {\n",
       "        text-align: right;\n",
       "    }\n",
       "</style>\n",
       "<table border=\"1\" class=\"dataframe\">\n",
       "  <thead>\n",
       "    <tr style=\"text-align: right;\">\n",
       "      <th></th>\n",
       "      <th>Baseline</th>\n",
       "      <th>Mitigator</th>\n",
       "    </tr>\n",
       "  </thead>\n",
       "  <tbody>\n",
       "    <tr>\n",
       "      <th>exposure_ratio</th>\n",
       "      <td>516682.109793</td>\n",
       "      <td>0.962027</td>\n",
       "    </tr>\n",
       "    <tr>\n",
       "      <th>exposure difference</th>\n",
       "      <td>0.103049</td>\n",
       "      <td>0.000000</td>\n",
       "    </tr>\n",
       "  </tbody>\n",
       "</table>\n",
       "</div>"
      ],
      "text/plain": [
       "                          Baseline  Mitigator\n",
       "exposure_ratio       516682.109793   0.962027\n",
       "exposure difference       0.103049   0.000000"
      ]
     },
     "execution_count": 22,
     "metadata": {},
     "output_type": "execute_result"
    }
   ],
   "source": [
    "result = pd.concat([baseline_unfair, df_dis_imp_unfair], axis=1).iloc[:, [0,1]]\n",
    "result.columns = ['Baseline','Mitigator']\n",
    "result"
   ]
  },
  {
   "attachments": {},
   "cell_type": "markdown",
   "metadata": {
    "id": "DOhwPWKfh60i"
   },
   "source": [
    "From the previous chart, we can see that certainly, an improvement is obtained by applying this method in the data, compared with our initial calculations for both datasets. \n",
    "\n",
    "Notice that we can analyse how these values are affected by varying the hyperparameters of the method.\n",
    "\n",
    "For example, this method allows us to set a `repair_level` value which is a parameter to control the repair amount, where 0 means no repair while 1 is full repair.\n",
    "\n",
    "Let's try with different values:"
   ]
  },
  {
   "cell_type": "code",
   "execution_count": 23,
   "metadata": {
    "id": "HkqRSPKDJh5z"
   },
   "outputs": [],
   "source": [
    "def calculate_metrics(data_matrix_, repair_level, metrics_cols):\n",
    "  dir = DisparateImpactRemoverRS(query_col='X', group_col='protected', score_col='score', repair_level=repair_level)\n",
    "  new_ranking_ = dir.transform(data_matrix_)\n",
    "  df = exposure_metric(new_ranking_, group_col='protected', query_col='X', score_col='score')\n",
    "  # Calculate metrics\n",
    "  metrics = [\n",
    "      repair_level,\n",
    "  ]\n",
    "  metrics.extend([df['Value'].loc[col] for col in metrics_cols])\n",
    "  return metrics"
   ]
  },
  {
   "cell_type": "code",
   "execution_count": 24,
   "metadata": {
    "colab": {
     "base_uri": "https://localhost:8080/",
     "height": 559
    },
    "id": "2lU8dPhQMIeI",
    "outputId": "d4254e2c-862a-4e3f-dd31-473a7b479bb8"
   },
   "outputs": [
    {
     "data": {
      "text/html": [
       "<div>\n",
       "<style scoped>\n",
       "    .dataframe tbody tr th:only-of-type {\n",
       "        vertical-align: middle;\n",
       "    }\n",
       "\n",
       "    .dataframe tbody tr th {\n",
       "        vertical-align: top;\n",
       "    }\n",
       "\n",
       "    .dataframe thead th {\n",
       "        text-align: right;\n",
       "    }\n",
       "</style>\n",
       "<table border=\"1\" class=\"dataframe\">\n",
       "  <thead>\n",
       "    <tr style=\"text-align: right;\">\n",
       "      <th></th>\n",
       "      <th>repair_level</th>\n",
       "      <th>exposure_ratio</th>\n",
       "      <th>exposure difference</th>\n",
       "    </tr>\n",
       "  </thead>\n",
       "  <tbody>\n",
       "    <tr>\n",
       "      <th>0</th>\n",
       "      <td>0.0</td>\n",
       "      <td>516682.109793</td>\n",
       "      <td>0.103049</td>\n",
       "    </tr>\n",
       "    <tr>\n",
       "      <th>1</th>\n",
       "      <td>0.2</td>\n",
       "      <td>27926.612806</td>\n",
       "      <td>0.103044</td>\n",
       "    </tr>\n",
       "    <tr>\n",
       "      <th>2</th>\n",
       "      <td>0.4</td>\n",
       "      <td>2200.646756</td>\n",
       "      <td>0.102983</td>\n",
       "    </tr>\n",
       "    <tr>\n",
       "      <th>3</th>\n",
       "      <td>0.6</td>\n",
       "      <td>190.992596</td>\n",
       "      <td>0.102281</td>\n",
       "    </tr>\n",
       "    <tr>\n",
       "      <th>4</th>\n",
       "      <td>0.8</td>\n",
       "      <td>15.232911</td>\n",
       "      <td>0.093650</td>\n",
       "    </tr>\n",
       "    <tr>\n",
       "      <th>5</th>\n",
       "      <td>1.0</td>\n",
       "      <td>0.962027</td>\n",
       "      <td>0.000000</td>\n",
       "    </tr>\n",
       "  </tbody>\n",
       "</table>\n",
       "</div>"
      ],
      "text/plain": [
       "   repair_level  exposure_ratio  exposure difference\n",
       "0           0.0   516682.109793             0.103049\n",
       "1           0.2    27926.612806             0.103044\n",
       "2           0.4     2200.646756             0.102983\n",
       "3           0.6      190.992596             0.102281\n",
       "4           0.8       15.232911             0.093650\n",
       "5           1.0        0.962027             0.000000"
      ]
     },
     "execution_count": 24,
     "metadata": {},
     "output_type": "execute_result"
    }
   ],
   "source": [
    "metrics_val = []\n",
    "metrics_cols = [\"exposure_ratio\", \"exposure difference\"]\n",
    "\n",
    "for repair_values in np.linspace(0,1,6):\n",
    "  metrics_val.append(calculate_metrics(unfair_ranking, repair_values, metrics_cols))\n",
    "\n",
    "metrics = ['repair_level']\n",
    "metrics.extend(metrics_cols)\n",
    "df_metrics = pd.DataFrame(metrics_val, columns=metrics)\n",
    "df_metrics"
   ]
  },
  {
   "cell_type": "code",
   "execution_count": 25,
   "metadata": {
    "colab": {
     "base_uri": "https://localhost:8080/",
     "height": 648
    },
    "id": "CjIM3irURegx",
    "outputId": "e580926e-d410-4e9c-9ede-d4f7a6650542"
   },
   "outputs": [
    {
     "data": {
      "text/plain": [
       "Text(0.5, 0, 'Gamma')"
      ]
     },
     "execution_count": 25,
     "metadata": {},
     "output_type": "execute_result"
    },
    {
     "data": {
      "image/png": "[encoded data removed]",
      "text/plain": [
       "<Figure size 2500x800 with 2 Axes>"
      ]
     },
     "metadata": {},
     "output_type": "display_data"
    }
   ],
   "source": [
    "x_axis = df_metrics.repair_level\n",
    "plt.figure(figsize=(25,8))\n",
    "plt.subplot(121)\n",
    "plt.plot(x_axis, df_metrics['exposure_ratio'], 'o-', label='Exposure Ratio')\n",
    "plt.legend(loc='upper left')\n",
    "plt.xlabel('Gamma')\n",
    "plt.subplot(122)\n",
    "plt.plot(x_axis, df_metrics['exposure difference'], 'o-', label='Exposure difference')\n",
    "plt.legend(loc='upper left')\n",
    "plt.xlabel('Gamma')"
   ]
  },
  {
   "attachments": {},
   "cell_type": "markdown",
   "metadata": {
    "id": "fFzYooDOicez"
   },
   "source": [
    "As expected, as the `repair_value` parameter increases, we get a better model in terms of fairness. In general, the selection of the model parameters will depend on our main objective."
   ]
  },
  {
   "attachments": {},
   "cell_type": "markdown",
   "metadata": {
    "id": "qScvgKTXx4Go"
   },
   "source": [
    "# **Summary**\n",
    "\n",
    "Through this tutorial we could present to the user how the `holisticai` library can be easily used to measure the bias present in recommender systems by the application of the `exposure_metric` function, which returns the calculated values for different metrics.\n",
    "\n",
    "In addition, we shown how to mitigate the bias by applying some methods, for this opportunity we applied the \"Disparate impact Remover RS\" technique to increase the fairness of the ranked list, this is a post-processing method that edits feature values to increase group fairness. Consequently we could observe how the metrics are influenced by varing the *repair level* parameter, and showing that this method increases the fairness of the model.\n"
   ]
  },
  {
   "attachments": {},
   "cell_type": "markdown",
   "metadata": {},
   "source": []
  }
 ],
 "metadata": {
  "colab": {
   "provenance": []
  },
  "kernelspec": {
   "display_name": "Python 3 (ipykernel)",
   "language": "python",
   "name": "python3"
  },
  "language_info": {
   "codemirror_mode": {
    "name": "ipython",
    "version": 3
   },
   "file_extension": ".py",
   "mimetype": "text/x-python",
   "name": "python",
   "nbconvert_exporter": "python",
   "pygments_lexer": "ipython3",
   "version": "3.10.0"
  }
 },
 "nbformat": 4,
 "nbformat_minor": 4
}
