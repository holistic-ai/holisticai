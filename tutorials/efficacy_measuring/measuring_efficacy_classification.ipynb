{
 "cells": [
  {
   "attachments": {},
   "cell_type": "markdown",
   "metadata": {
    "id": "pFKF6N69kCay"
   },
   "source": [
    "# **Measuring Efficacy in classification**\n"
   ]
  },
  {
   "attachments": {},
   "cell_type": "markdown",
   "metadata": {},
   "source": [
    "This notebook is a tutorial on auditing efficacy within a binary classification task. We will use the holisticai library **efficacy metrics** sections.\n",
    "The sections are organised as follows :\n",
    "\n",
    "1. Load the data : we load the law school dataset as a pandas DataFrame\n",
    "2. Train a Model : we train a simple logistic regression model (sklearn)\n",
    "3. Measure Efficacy : we compute a few efficacy metrics."
   ]
  },
  {
   "attachments": {},
   "cell_type": "markdown",
   "metadata": {
    "id": "-nYt5_h77QGN"
   },
   "source": [
    "## **1. Load the data**"
   ]
  },
  {
   "cell_type": "code",
   "execution_count": 1,
   "metadata": {
    "id": "KgfZWXdy1REj"
   },
   "outputs": [],
   "source": [
    "# Imports\n",
    "import numpy as np\n",
    "import pandas as pd\n",
    "import sys\n",
    "sys.path.append('../../')"
   ]
  },
  {
   "cell_type": "markdown",
   "metadata": {},
   "source": [
    "We host a few example datasets on the holisticai library for quick loading and experimentation. Here we load and use the Law School dataset. The goal of this dataset is the prediction of the binary attribute 'bar' (whether a student passes the law school bar). The protected attributes are race and gender. We pay special attention to race in this case, because preliminary exploration hints there is strong inequality on that sensitive attribute."
   ]
  },
  {
   "cell_type": "code",
   "execution_count": 2,
   "metadata": {
    "scrolled": true
   },
   "outputs": [
    {
     "name": "stderr",
     "output_type": "stream",
     "text": [
      "c:\\Users\\Cristian\\anaconda3\\envs\\metrics\\lib\\site-packages\\sklearn\\datasets\\_openml.py:968: FutureWarning: The default value of `parser` will change from `'liac-arff'` to `'auto'` in 1.4. You can set `parser='auto'` to silence this warning. Therefore, an `ImportError` will be raised from 1.4 if the dataset is dense and pandas is not installed. Note that the pandas parser may return different data types. See the Notes Section in fetch_openml's API doc for details.\n",
      "  warn(\n"
     ]
    },
    {
     "data": {
      "text/html": [
       "<div>\n",
       "<style scoped>\n",
       "    .dataframe tbody tr th:only-of-type {\n",
       "        vertical-align: middle;\n",
       "    }\n",
       "\n",
       "    .dataframe tbody tr th {\n",
       "        vertical-align: top;\n",
       "    }\n",
       "\n",
       "    .dataframe thead th {\n",
       "        text-align: right;\n",
       "    }\n",
       "</style>\n",
       "<table border=\"1\" class=\"dataframe\">\n",
       "  <thead>\n",
       "    <tr style=\"text-align: right;\">\n",
       "      <th></th>\n",
       "      <th>age</th>\n",
       "      <th>decile1</th>\n",
       "      <th>decile3</th>\n",
       "      <th>fam_inc</th>\n",
       "      <th>lsat</th>\n",
       "      <th>ugpa</th>\n",
       "      <th>gender</th>\n",
       "      <th>race1</th>\n",
       "      <th>cluster</th>\n",
       "      <th>fulltime</th>\n",
       "      <th>bar</th>\n",
       "      <th>ugpagt3</th>\n",
       "    </tr>\n",
       "  </thead>\n",
       "  <tbody>\n",
       "    <tr>\n",
       "      <th>0</th>\n",
       "      <td>62.0</td>\n",
       "      <td>10.0</td>\n",
       "      <td>10.0</td>\n",
       "      <td>5.0</td>\n",
       "      <td>44.0</td>\n",
       "      <td>3.5</td>\n",
       "      <td>female</td>\n",
       "      <td>white</td>\n",
       "      <td>1</td>\n",
       "      <td>1</td>\n",
       "      <td>TRUE</td>\n",
       "      <td>1.0</td>\n",
       "    </tr>\n",
       "    <tr>\n",
       "      <th>1</th>\n",
       "      <td>62.0</td>\n",
       "      <td>5.0</td>\n",
       "      <td>4.0</td>\n",
       "      <td>4.0</td>\n",
       "      <td>29.0</td>\n",
       "      <td>3.5</td>\n",
       "      <td>female</td>\n",
       "      <td>white</td>\n",
       "      <td>2</td>\n",
       "      <td>1</td>\n",
       "      <td>TRUE</td>\n",
       "      <td>1.0</td>\n",
       "    </tr>\n",
       "    <tr>\n",
       "      <th>2</th>\n",
       "      <td>61.0</td>\n",
       "      <td>8.0</td>\n",
       "      <td>7.0</td>\n",
       "      <td>3.0</td>\n",
       "      <td>37.0</td>\n",
       "      <td>3.4</td>\n",
       "      <td>male</td>\n",
       "      <td>white</td>\n",
       "      <td>1</td>\n",
       "      <td>1</td>\n",
       "      <td>TRUE</td>\n",
       "      <td>1.0</td>\n",
       "    </tr>\n",
       "    <tr>\n",
       "      <th>3</th>\n",
       "      <td>60.0</td>\n",
       "      <td>8.0</td>\n",
       "      <td>7.0</td>\n",
       "      <td>4.0</td>\n",
       "      <td>43.0</td>\n",
       "      <td>3.3</td>\n",
       "      <td>female</td>\n",
       "      <td>white</td>\n",
       "      <td>1</td>\n",
       "      <td>1</td>\n",
       "      <td>TRUE</td>\n",
       "      <td>1.0</td>\n",
       "    </tr>\n",
       "    <tr>\n",
       "      <th>4</th>\n",
       "      <td>57.0</td>\n",
       "      <td>3.0</td>\n",
       "      <td>2.0</td>\n",
       "      <td>4.0</td>\n",
       "      <td>41.0</td>\n",
       "      <td>3.3</td>\n",
       "      <td>female</td>\n",
       "      <td>white</td>\n",
       "      <td>4</td>\n",
       "      <td>1</td>\n",
       "      <td>TRUE</td>\n",
       "      <td>1.0</td>\n",
       "    </tr>\n",
       "    <tr>\n",
       "      <th>...</th>\n",
       "      <td>...</td>\n",
       "      <td>...</td>\n",
       "      <td>...</td>\n",
       "      <td>...</td>\n",
       "      <td>...</td>\n",
       "      <td>...</td>\n",
       "      <td>...</td>\n",
       "      <td>...</td>\n",
       "      <td>...</td>\n",
       "      <td>...</td>\n",
       "      <td>...</td>\n",
       "      <td>...</td>\n",
       "    </tr>\n",
       "    <tr>\n",
       "      <th>20795</th>\n",
       "      <td>60.0</td>\n",
       "      <td>9.0</td>\n",
       "      <td>8.0</td>\n",
       "      <td>4.0</td>\n",
       "      <td>42.0</td>\n",
       "      <td>3.0</td>\n",
       "      <td>male</td>\n",
       "      <td>white</td>\n",
       "      <td>5</td>\n",
       "      <td>1</td>\n",
       "      <td>TRUE</td>\n",
       "      <td>0.0</td>\n",
       "    </tr>\n",
       "    <tr>\n",
       "      <th>20796</th>\n",
       "      <td>61.0</td>\n",
       "      <td>4.0</td>\n",
       "      <td>9.0</td>\n",
       "      <td>4.0</td>\n",
       "      <td>29.5</td>\n",
       "      <td>3.5</td>\n",
       "      <td>male</td>\n",
       "      <td>white</td>\n",
       "      <td>3</td>\n",
       "      <td>1</td>\n",
       "      <td>TRUE</td>\n",
       "      <td>1.0</td>\n",
       "    </tr>\n",
       "    <tr>\n",
       "      <th>20797</th>\n",
       "      <td>62.0</td>\n",
       "      <td>1.0</td>\n",
       "      <td>1.0</td>\n",
       "      <td>3.0</td>\n",
       "      <td>33.0</td>\n",
       "      <td>3.1</td>\n",
       "      <td>male</td>\n",
       "      <td>non-white</td>\n",
       "      <td>3</td>\n",
       "      <td>1</td>\n",
       "      <td>FALSE</td>\n",
       "      <td>1.0</td>\n",
       "    </tr>\n",
       "    <tr>\n",
       "      <th>20798</th>\n",
       "      <td>65.0</td>\n",
       "      <td>4.0</td>\n",
       "      <td>5.0</td>\n",
       "      <td>3.0</td>\n",
       "      <td>32.0</td>\n",
       "      <td>3.0</td>\n",
       "      <td>male</td>\n",
       "      <td>white</td>\n",
       "      <td>3</td>\n",
       "      <td>2</td>\n",
       "      <td>TRUE</td>\n",
       "      <td>0.0</td>\n",
       "    </tr>\n",
       "    <tr>\n",
       "      <th>20799</th>\n",
       "      <td>60.0</td>\n",
       "      <td>9.0</td>\n",
       "      <td>3.0</td>\n",
       "      <td>3.0</td>\n",
       "      <td>36.0</td>\n",
       "      <td>3.2</td>\n",
       "      <td>male</td>\n",
       "      <td>non-white</td>\n",
       "      <td>4</td>\n",
       "      <td>1</td>\n",
       "      <td>TRUE</td>\n",
       "      <td>1.0</td>\n",
       "    </tr>\n",
       "  </tbody>\n",
       "</table>\n",
       "<p>20800 rows × 12 columns</p>\n",
       "</div>"
      ],
      "text/plain": [
       "        age  decile1  decile3  fam_inc  lsat  ugpa  gender      race1 cluster  \\\n",
       "0      62.0     10.0     10.0      5.0  44.0   3.5  female      white       1   \n",
       "1      62.0      5.0      4.0      4.0  29.0   3.5  female      white       2   \n",
       "2      61.0      8.0      7.0      3.0  37.0   3.4    male      white       1   \n",
       "3      60.0      8.0      7.0      4.0  43.0   3.3  female      white       1   \n",
       "4      57.0      3.0      2.0      4.0  41.0   3.3  female      white       4   \n",
       "...     ...      ...      ...      ...   ...   ...     ...        ...     ...   \n",
       "20795  60.0      9.0      8.0      4.0  42.0   3.0    male      white       5   \n",
       "20796  61.0      4.0      9.0      4.0  29.5   3.5    male      white       3   \n",
       "20797  62.0      1.0      1.0      3.0  33.0   3.1    male  non-white       3   \n",
       "20798  65.0      4.0      5.0      3.0  32.0   3.0    male      white       3   \n",
       "20799  60.0      9.0      3.0      3.0  36.0   3.2    male  non-white       4   \n",
       "\n",
       "      fulltime    bar  ugpagt3  \n",
       "0            1   TRUE      1.0  \n",
       "1            1   TRUE      1.0  \n",
       "2            1   TRUE      1.0  \n",
       "3            1   TRUE      1.0  \n",
       "4            1   TRUE      1.0  \n",
       "...        ...    ...      ...  \n",
       "20795        1   TRUE      0.0  \n",
       "20796        1   TRUE      1.0  \n",
       "20797        1  FALSE      1.0  \n",
       "20798        2   TRUE      0.0  \n",
       "20799        1   TRUE      1.0  \n",
       "\n",
       "[20800 rows x 12 columns]"
      ]
     },
     "execution_count": 2,
     "metadata": {},
     "output_type": "execute_result"
    }
   ],
   "source": [
    "# Get data\n",
    "from holisticai.datasets import load_law_school\n",
    "df = load_law_school()['frame']\n",
    "df"
   ]
  },
  {
   "attachments": {},
   "cell_type": "markdown",
   "metadata": {},
   "source": [
    "## **2. Train a model**"
   ]
  },
  {
   "cell_type": "markdown",
   "metadata": {},
   "source": [
    "encode our dataframe categorical columns"
   ]
  },
  {
   "cell_type": "code",
   "execution_count": 6,
   "metadata": {},
   "outputs": [],
   "source": [
    "from sklearn.model_selection import train_test_split\n",
    "\n",
    "# simple preprocessing before training.\n",
    "df_enc = df.copy()\n",
    "df_enc['bar'] = df_enc['bar'].replace({'FALSE':0, 'TRUE':1})\n",
    "\n",
    "# split features and target, then train test split\n",
    "X = df_enc.drop(columns=['bar', 'ugpagt3'])\n",
    "y = df_enc['bar']\n",
    "X_train, X_test, y_train, y_test = train_test_split(X, y, test_size=0.3, random_state=42)"
   ]
  },
  {
   "attachments": {},
   "cell_type": "markdown",
   "metadata": {},
   "source": [
    "Here we train a Logistic Regression classifier."
   ]
  },
  {
   "cell_type": "code",
   "execution_count": 8,
   "metadata": {},
   "outputs": [],
   "source": [
    "from sklearn.linear_model import LogisticRegression\n",
    "from sklearn.preprocessing import StandardScaler\n",
    "\n",
    "# train a model, do not forget to standard scale data\n",
    "scaler = StandardScaler()\n",
    "X_train_t = scaler.fit_transform(X_train.drop(columns=['race1', 'gender']))\n",
    "LR = LogisticRegression(random_state=42, max_iter=500)\n",
    "LR.fit(X_train_t, y_train)\n",
    "X_test_t = scaler.transform(X_test.drop(columns=['race1', 'gender']))\n",
    "y_pred = LR.predict(X_test_t)\n",
    "y_proba = LR.predict_proba(X_test_t)"
   ]
  },
  {
   "attachments": {},
   "cell_type": "markdown",
   "metadata": {},
   "source": [
    "## **3. Measure Efficacy**"
   ]
  },
  {
   "cell_type": "code",
   "execution_count": 9,
   "metadata": {},
   "outputs": [
    {
     "data": {
      "text/html": [
       "<div>\n",
       "<style scoped>\n",
       "    .dataframe tbody tr th:only-of-type {\n",
       "        vertical-align: middle;\n",
       "    }\n",
       "\n",
       "    .dataframe tbody tr th {\n",
       "        vertical-align: top;\n",
       "    }\n",
       "\n",
       "    .dataframe thead th {\n",
       "        text-align: right;\n",
       "    }\n",
       "</style>\n",
       "<table border=\"1\" class=\"dataframe\">\n",
       "  <thead>\n",
       "    <tr style=\"text-align: right;\">\n",
       "      <th></th>\n",
       "      <th>Value</th>\n",
       "      <th>Reference</th>\n",
       "    </tr>\n",
       "    <tr>\n",
       "      <th>Metric</th>\n",
       "      <th></th>\n",
       "      <th></th>\n",
       "    </tr>\n",
       "  </thead>\n",
       "  <tbody>\n",
       "    <tr>\n",
       "      <th>Accuracy</th>\n",
       "      <td>0.902724</td>\n",
       "      <td>1</td>\n",
       "    </tr>\n",
       "    <tr>\n",
       "      <th>Balanced accuracy</th>\n",
       "      <td>0.775417</td>\n",
       "      <td>1</td>\n",
       "    </tr>\n",
       "    <tr>\n",
       "      <th>Precision</th>\n",
       "      <td>0.984372</td>\n",
       "      <td>1</td>\n",
       "    </tr>\n",
       "    <tr>\n",
       "      <th>Recall</th>\n",
       "      <td>0.913333</td>\n",
       "      <td>1</td>\n",
       "    </tr>\n",
       "    <tr>\n",
       "      <th>F1-Score</th>\n",
       "      <td>0.947523</td>\n",
       "      <td>1</td>\n",
       "    </tr>\n",
       "    <tr>\n",
       "      <th>AUC</th>\n",
       "      <td>0.775417</td>\n",
       "      <td>1</td>\n",
       "    </tr>\n",
       "    <tr>\n",
       "      <th>Log Loss</th>\n",
       "      <td>3.506169</td>\n",
       "      <td>0</td>\n",
       "    </tr>\n",
       "  </tbody>\n",
       "</table>\n",
       "</div>"
      ],
      "text/plain": [
       "                      Value  Reference\n",
       "Metric                                \n",
       "Accuracy           0.902724          1\n",
       "Balanced accuracy  0.775417          1\n",
       "Precision          0.984372          1\n",
       "Recall             0.913333          1\n",
       "F1-Score           0.947523          1\n",
       "AUC                0.775417          1\n",
       "Log Loss           3.506169          0"
      ]
     },
     "execution_count": 9,
     "metadata": {},
     "output_type": "execute_result"
    }
   ],
   "source": [
    "from holisticai.efficacy.metrics import classification_efficacy_metrics\n",
    "classification_efficacy_metrics(y_pred, y_test, y_proba)"
   ]
  }
 ],
 "metadata": {
  "colab": {
   "collapsed_sections": [
    "f6hoB7SDMGnm",
    "GV7HUVoiKE0T",
    "yq0-K1xSKaNy"
   ],
   "name": "Measuring Bias ",
   "provenance": []
  },
  "kernelspec": {
   "display_name": "Python 3.8.13 ('torch-nightly')",
   "language": "python",
   "name": "python3"
  },
  "language_info": {
   "codemirror_mode": {
    "name": "ipython",
    "version": 3
   },
   "file_extension": ".py",
   "mimetype": "text/x-python",
   "name": "python",
   "nbconvert_exporter": "python",
   "pygments_lexer": "ipython3",
   "version": "3.9.12"
  },
  "vscode": {
   "interpreter": {
    "hash": "f5fa74478a026ac530ef194e4df855dfb9675779484e20284ae5f690a2266d7b"
   }
  }
 },
 "nbformat": 4,
 "nbformat_minor": 1
}
