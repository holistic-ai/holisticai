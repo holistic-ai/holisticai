{
 "cells": [
  {
   "cell_type": "code",
   "execution_count": 1,
   "metadata": {},
   "outputs": [],
   "source": [
    "import sys\n",
    "sys.path.append('../../')"
   ]
  },
  {
   "cell_type": "markdown",
   "metadata": {},
   "source": [
    "## Template - Bias Mitigation Benchmark ([Holistic AI](https://research.holisticai.com))\n",
    "\n",
    "**Task:** Regression\n",
    "\n",
    "**Type:** Postprocessing\n",
    "\n",
    "\n",
    "This notebook is a template for the Bias Mitigation Benchmark. It can be used to mitigate bias in datasets and models. The notebook is based on the [Holistic AI open source library](https://github.com/holistic-ai/holisticai) and follows the bias mitigation benchmark outlined in [Holistic AI](https://research.holisticai.com).\n",
    "\n",
    "### Template Structure\n",
    "\n",
    "The template have the following steps:\n",
    "\n",
    "1. Setup definition: \n",
    "    - select a task: `binary_classification`, `multiclass_classification`, `regression`, `clustering`, `recommender`\n",
    "    - select a type: `inprocessing`, `preprocessing`, `postprocessing`\n",
    "2. Mitigator class\n",
    "    - create a class for you custom mitigator\n",
    "3. Evaluation\n",
    "    - evaluate your mitigator and compare it with other mitigators\n",
    "4. Submission\n",
    "    - do you have good results? Then submit your mitigator to the Bias Mitigation Benchmark\n"
   ]
  },
  {
   "cell_type": "markdown",
   "metadata": {},
   "source": [
    "### Step 1: Setup Definition"
   ]
  },
  {
   "cell_type": "code",
   "execution_count": 2,
   "metadata": {},
   "outputs": [
    {
     "name": "stdout",
     "output_type": "stream",
     "text": [
      "['binary_classification', 'multiclass_classification', 'regression', 'clustering', 'recommender']\n"
     ]
    }
   ],
   "source": [
    "from holisticai.benchmark.tasks import task_name, get_task\n",
    "\n",
    "print(task_name)"
   ]
  },
  {
   "cell_type": "code",
   "execution_count": 3,
   "metadata": {},
   "outputs": [],
   "source": [
    "# load a task\n",
    "task = get_task(\"regression\")"
   ]
  },
  {
   "cell_type": "code",
   "execution_count": 4,
   "metadata": {},
   "outputs": [
    {
     "data": {
      "text/html": [
       "<div>\n",
       "<style scoped>\n",
       "    .dataframe tbody tr th:only-of-type {\n",
       "        vertical-align: middle;\n",
       "    }\n",
       "\n",
       "    .dataframe tbody tr th {\n",
       "        vertical-align: top;\n",
       "    }\n",
       "\n",
       "    .dataframe thead th {\n",
       "        text-align: right;\n",
       "    }\n",
       "</style>\n",
       "<table border=\"1\" class=\"dataframe\">\n",
       "  <thead>\n",
       "    <tr style=\"text-align: right;\">\n",
       "      <th>Dataset</th>\n",
       "      <th>Average RFS</th>\n",
       "      <th>crime</th>\n",
       "    </tr>\n",
       "    <tr>\n",
       "      <th>Mitigator</th>\n",
       "      <th></th>\n",
       "      <th></th>\n",
       "    </tr>\n",
       "  </thead>\n",
       "  <tbody>\n",
       "    <tr>\n",
       "      <th>PluginEstimationAndCalibration</th>\n",
       "      <td>1.194964</td>\n",
       "      <td>1.194964</td>\n",
       "    </tr>\n",
       "    <tr>\n",
       "      <th>WassersteinBarycenter</th>\n",
       "      <td>1.075849</td>\n",
       "      <td>1.075849</td>\n",
       "    </tr>\n",
       "  </tbody>\n",
       "</table>\n",
       "</div>"
      ],
      "text/plain": [
       "Dataset                         Average RFS     crime\n",
       "Mitigator                                            \n",
       "PluginEstimationAndCalibration     1.194964  1.194964\n",
       "WassersteinBarycenter              1.075849  1.075849"
      ]
     },
     "execution_count": 4,
     "metadata": {},
     "output_type": "execute_result"
    }
   ],
   "source": [
    "# benchmark for the task by type\n",
    "data = task.benchmark(type='postprocessing')\n",
    "data"
   ]
  },
  {
   "cell_type": "markdown",
   "metadata": {},
   "source": [
    "### Step 2: Mitigator Class"
   ]
  },
  {
   "cell_type": "code",
   "execution_count": 12,
   "metadata": {},
   "outputs": [],
   "source": [
    "from typing import Optional\n",
    "\n",
    "import numpy as np\n",
    "\n",
    "from holisticai.utils.transformers.bias import BMPostprocessing as BMPost\n",
    "\n",
    "from holisticai.bias.mitigation.postprocessing.plugin_estimator_and_recalibration.algorithm import PluginEstimationAndCalibrationAlgorithm\n",
    "\n",
    "class MyPostprocessingMitigator(BMPost):\n",
    "    \"\"\"\n",
    "    Plugin Estimation and Calibration postprocessing optimizes over calibrated regressor outputs via a\n",
    "    smooth optimization. The rates of convergence of the proposed estimator were derived in terms of\n",
    "    the risk and fairness constraint.\n",
    "\n",
    "    References:\n",
    "        Chzhen, Evgenii, et al. \"Fair regression via plug-in estimator and recalibration with statistical\n",
    "        guarantees.\" Advances in Neural Information Processing Systems 33 (2020): 19137-19148.\n",
    "    \"\"\"\n",
    "\n",
    "    def __init__(self, L: Optional[int] = 25, beta: Optional[float] = 0.1):\n",
    "        \"\"\"Create a Plugin Estimation and Calibration Post-processing instance.\"\"\"\n",
    "        self.algorithm = PluginEstimationAndCalibrationAlgorithm(L=L, beta=beta)\n",
    "\n",
    "    def fit(self, y_pred: np.ndarray, group_a: np.ndarray, group_b: np.ndarray):\n",
    "        \"\"\"\n",
    "        Compute a fair regression function by minimizing the squared error subject to a fairness constraint.\n",
    "\n",
    "        Description\n",
    "        ----------\n",
    "        Compute a fair predictor by estimating a regression function by standard methods and then estimate\n",
    "        the thresholds to solve the minimization problem.\n",
    "\n",
    "        Parameters\n",
    "        ----------\n",
    "        y_pred : array-like\n",
    "            Predicted vector (num_examples, ).\n",
    "        group_a : array-like\n",
    "            Group membership vector (binary)\n",
    "        group_b : array-like\n",
    "            Group membership vector (binary)\n",
    "        Returns\n",
    "        -------\n",
    "        Self\n",
    "        \"\"\"\n",
    "        params = self._load_data(y_pred=y_pred, group_a=group_a, group_b=group_b)\n",
    "\n",
    "        group_a = params[\"group_a\"] == 1\n",
    "        group_b = params[\"group_b\"] == 1\n",
    "        y_pred = params[\"y_pred\"]\n",
    "\n",
    "        sensitive_features = np.stack([group_a, group_b], axis=1)\n",
    "        self.algorithm.fit(y_pred, sensitive_features)\n",
    "        return self\n",
    "\n",
    "    def transform(\n",
    "        self,\n",
    "        y_pred: np.ndarray,\n",
    "        group_a: np.ndarray,\n",
    "        group_b: np.ndarray,\n",
    "    ):\n",
    "        \"\"\"\n",
    "        Apply transform function to predictions and likelihoods\n",
    "\n",
    "        Description\n",
    "        ----------\n",
    "        Use a fitted probability to change the output label and invert the likelihood\n",
    "\n",
    "        Parameters\n",
    "        ----------\n",
    "        y_pred : array-like\n",
    "            Predicted vector (nb_examlpes,)\n",
    "        group_a : array-like\n",
    "            Group membership vector (binary)\n",
    "        group_b : array-like\n",
    "            Group membership vector (binary)\n",
    "        threshold : float\n",
    "            float value to discriminate between 0 and 1\n",
    "\n",
    "        Returns\n",
    "        -------\n",
    "        dictionnary with new predictions\n",
    "        \"\"\"\n",
    "        params = self._load_data(y_pred=y_pred, group_a=group_a, group_b=group_b)\n",
    "\n",
    "        group_a = params[\"group_a\"] == 1\n",
    "        group_b = params[\"group_b\"] == 1\n",
    "        y_pred = params[\"y_pred\"]\n",
    "        sensitive_features = np.stack([group_a, group_b], axis=1)\n",
    "\n",
    "        new_y_pred = self.algorithm.transform(y_pred, sensitive_features)\n",
    "\n",
    "        return {\"y_pred\": new_y_pred}\n",
    "\n",
    "    def fit_transform(\n",
    "        self, y_pred: np.ndarray, group_a: np.ndarray, group_b: np.ndarray\n",
    "    ):\n",
    "        \"\"\"\n",
    "        Fit and transform\n",
    "\n",
    "        Description\n",
    "        ----------\n",
    "        Fit and transform\n",
    "\n",
    "        Parameters\n",
    "        ----------\n",
    "        y_pred : array-like\n",
    "            Predicted vector (num_examples,).\n",
    "        group_a : array-like\n",
    "            Group membership vector (binary)\n",
    "        group_b : array-like\n",
    "            Group membership vector (binary)\n",
    "        Returns\n",
    "        -------\n",
    "        dictionnary with new predictions\n",
    "        \"\"\"\n",
    "        return self.fit(\n",
    "            y_pred,\n",
    "            group_a,\n",
    "            group_b,\n",
    "        ).transform(y_pred, group_a, group_b)"
   ]
  },
  {
   "cell_type": "markdown",
   "metadata": {},
   "source": [
    "### Step 3: Evaluation"
   ]
  },
  {
   "cell_type": "code",
   "execution_count": 13,
   "metadata": {},
   "outputs": [
    {
     "name": "stdout",
     "output_type": "stream",
     "text": [
      "Regression Benchmark initialized for MyPostprocessingMitigator\n"
     ]
    },
    {
     "name": "stderr",
     "output_type": "stream",
     "text": [
      "100%|██████████| 1/1 [00:11<00:00, 11.33s/it]\n"
     ]
    }
   ],
   "source": [
    "my_mitigator = MyPostprocessingMitigator()\n",
    "\n",
    "task.run_benchmark(mitigator = my_mitigator, type = 'postprocessing')"
   ]
  },
  {
   "cell_type": "code",
   "execution_count": 15,
   "metadata": {},
   "outputs": [
    {
     "data": {
      "text/html": [
       "<style type=\"text/css\">\n",
       "#T_3b942_row0_col0, #T_3b942_row0_col1 {\n",
       "  background: mediumslateblue;\n",
       "}\n",
       "</style>\n",
       "<table id=\"T_3b942\">\n",
       "  <thead>\n",
       "    <tr>\n",
       "      <th class=\"index_name level0\" >Dataset</th>\n",
       "      <th id=\"T_3b942_level0_col0\" class=\"col_heading level0 col0\" >Average RFS</th>\n",
       "      <th id=\"T_3b942_level0_col1\" class=\"col_heading level0 col1\" >crime</th>\n",
       "    </tr>\n",
       "    <tr>\n",
       "      <th class=\"index_name level0\" >Mitigator</th>\n",
       "      <th class=\"blank col0\" >&nbsp;</th>\n",
       "      <th class=\"blank col1\" >&nbsp;</th>\n",
       "    </tr>\n",
       "  </thead>\n",
       "  <tbody>\n",
       "    <tr>\n",
       "      <th id=\"T_3b942_level0_row0\" class=\"row_heading level0 row0\" >MyPostprocessingMitigator</th>\n",
       "      <td id=\"T_3b942_row0_col0\" class=\"data row0 col0\" >1.194964</td>\n",
       "      <td id=\"T_3b942_row0_col1\" class=\"data row0 col1\" >1.194964</td>\n",
       "    </tr>\n",
       "    <tr>\n",
       "      <th id=\"T_3b942_level0_row1\" class=\"row_heading level0 row1\" >PluginEstimationAndCalibration</th>\n",
       "      <td id=\"T_3b942_row1_col0\" class=\"data row1 col0\" >1.194964</td>\n",
       "      <td id=\"T_3b942_row1_col1\" class=\"data row1 col1\" >1.194964</td>\n",
       "    </tr>\n",
       "    <tr>\n",
       "      <th id=\"T_3b942_level0_row2\" class=\"row_heading level0 row2\" >WassersteinBarycenter</th>\n",
       "      <td id=\"T_3b942_row2_col0\" class=\"data row2 col0\" >1.075849</td>\n",
       "      <td id=\"T_3b942_row2_col1\" class=\"data row2 col1\" >1.075849</td>\n",
       "    </tr>\n",
       "  </tbody>\n",
       "</table>\n"
      ],
      "text/plain": [
       "<pandas.io.formats.style.Styler at 0x7f069c4721d0>"
      ]
     },
     "execution_count": 15,
     "metadata": {},
     "output_type": "execute_result"
    }
   ],
   "source": [
    "task.evaluate_table()"
   ]
  },
  {
   "cell_type": "markdown",
   "metadata": {},
   "source": [
    "### Step 4: Submission"
   ]
  },
  {
   "cell_type": "code",
   "execution_count": null,
   "metadata": {},
   "outputs": [
    {
     "name": "stdout",
     "output_type": "stream",
     "text": [
      "MyMitigator benchmark submitted\n",
      "MyMitigator benchmark submitted\n",
      "https://holistic-ai.com/benchmark/binary_classification\n"
     ]
    }
   ],
   "source": [
    "task.submit()"
   ]
  }
 ],
 "metadata": {
  "kernelspec": {
   "display_name": "base",
   "language": "python",
   "name": "python3"
  },
  "language_info": {
   "codemirror_mode": {
    "name": "ipython",
    "version": 3
   },
   "file_extension": ".py",
   "mimetype": "text/x-python",
   "name": "python",
   "nbconvert_exporter": "python",
   "pygments_lexer": "ipython3",
   "version": "3.10.0"
  }
 },
 "nbformat": 4,
 "nbformat_minor": 2
}
