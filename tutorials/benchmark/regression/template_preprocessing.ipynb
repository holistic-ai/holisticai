{
 "cells": [
  {
   "cell_type": "code",
   "execution_count": 1,
   "metadata": {},
   "outputs": [],
   "source": [
    "import sys\n",
    "sys.path.append('../../')"
   ]
  },
  {
   "cell_type": "markdown",
   "metadata": {},
   "source": [
    "## Template - Bias Mitigation Benchmark ([Holistic AI](https://research.holisticai.com))\n",
    "\n",
    "**Task:** Regression\n",
    "\n",
    "**Type:** Preprocessing\n",
    "\n",
    "\n",
    "This notebook is a template for the Bias Mitigation Benchmark. It can be used to mitigate bias in datasets and models. The notebook is based on the [Holistic AI open source library](https://github.com/holistic-ai/holisticai) and follows the bias mitigation benchmark outlined in [Holistic AI](https://research.holisticai.com).\n",
    "\n",
    "### Template Structure\n",
    "\n",
    "The template have the following steps:\n",
    "\n",
    "1. Setup definition: \n",
    "    - select a task: `binary_classification`, `multiclass_classification`, `regression`, `clustering`, `recommender`\n",
    "    - select a type: `inprocessing`, `preprocessing`, `postprocessing`\n",
    "2. Mitigator class\n",
    "    - create a class for you custom mitigator\n",
    "3. Evaluation\n",
    "    - evaluate your mitigator and compare it with other mitigators\n",
    "4. Submission\n",
    "    - do you have good results? Then submit your mitigator to the Bias Mitigation Benchmark\n"
   ]
  },
  {
   "cell_type": "markdown",
   "metadata": {},
   "source": [
    "### Step 1: Setup Definition"
   ]
  },
  {
   "cell_type": "code",
   "execution_count": 2,
   "metadata": {},
   "outputs": [
    {
     "name": "stdout",
     "output_type": "stream",
     "text": [
      "['binary_classification', 'multiclass_classification', 'regression', 'clustering', 'recommender']\n"
     ]
    }
   ],
   "source": [
    "from holisticai.benchmark.tasks import task_name, get_task\n",
    "\n",
    "print(task_name)"
   ]
  },
  {
   "cell_type": "code",
   "execution_count": 3,
   "metadata": {},
   "outputs": [],
   "source": [
    "# load a task\n",
    "task = get_task(\"regression\")"
   ]
  },
  {
   "cell_type": "code",
   "execution_count": 4,
   "metadata": {},
   "outputs": [
    {
     "data": {
      "text/html": [
       "<div>\n",
       "<style scoped>\n",
       "    .dataframe tbody tr th:only-of-type {\n",
       "        vertical-align: middle;\n",
       "    }\n",
       "\n",
       "    .dataframe tbody tr th {\n",
       "        vertical-align: top;\n",
       "    }\n",
       "\n",
       "    .dataframe thead th {\n",
       "        text-align: right;\n",
       "    }\n",
       "</style>\n",
       "<table border=\"1\" class=\"dataframe\">\n",
       "  <thead>\n",
       "    <tr style=\"text-align: right;\">\n",
       "      <th>Dataset</th>\n",
       "      <th>Average RFS</th>\n",
       "      <th>crime</th>\n",
       "    </tr>\n",
       "    <tr>\n",
       "      <th>Mitigator</th>\n",
       "      <th></th>\n",
       "      <th></th>\n",
       "    </tr>\n",
       "  </thead>\n",
       "  <tbody>\n",
       "    <tr>\n",
       "      <th>CorrelationRemover</th>\n",
       "      <td>0.978462</td>\n",
       "      <td>0.978462</td>\n",
       "    </tr>\n",
       "    <tr>\n",
       "      <th>DisparateImpactRemover</th>\n",
       "      <td>0.885045</td>\n",
       "      <td>0.885045</td>\n",
       "    </tr>\n",
       "  </tbody>\n",
       "</table>\n",
       "</div>"
      ],
      "text/plain": [
       "Dataset                 Average RFS     crime\n",
       "Mitigator                                    \n",
       "CorrelationRemover         0.978462  0.978462\n",
       "DisparateImpactRemover     0.885045  0.885045"
      ]
     },
     "execution_count": 4,
     "metadata": {},
     "output_type": "execute_result"
    }
   ],
   "source": [
    "# benchmark for the task by type\n",
    "data = task.benchmark(type='preprocessing')\n",
    "data"
   ]
  },
  {
   "cell_type": "markdown",
   "metadata": {},
   "source": [
    "### Step 2: Mitigator Class"
   ]
  },
  {
   "cell_type": "code",
   "execution_count": 5,
   "metadata": {},
   "outputs": [],
   "source": [
    "import numpy as np\n",
    "\n",
    "from holisticai.utils.transformers.bias import BMPreprocessing as BMPre\n",
    "\n",
    "class MyPreprocessingMitigator(BMPre):\n",
    "    \"\"\"\n",
    "    This is a class example of Preprocessing Mitigator based on CorrelationRemover implemented in holisticai library\n",
    "    \"\"\"\n",
    "\n",
    "    def __init__(self, alpha=1):\n",
    "        self.alpha = alpha\n",
    "\n",
    "    def fit(self, X: np.ndarray, group_a: np.ndarray, group_b: np.ndarray):\n",
    "        \"\"\"\n",
    "        Fit.\n",
    "\n",
    "        Parameters\n",
    "        ----------\n",
    "        X : matrix-like\n",
    "            Input data\n",
    "        group_a : array-like\n",
    "            Group membership vector (binary)\n",
    "        group_b : array-like\n",
    "            Group membership vector (binary)\n",
    "\n",
    "        Return\n",
    "        ------\n",
    "            Self\n",
    "        \"\"\"\n",
    "        params = self._load_data(X=X, group_a=group_a, group_b=group_b)\n",
    "        X = params[\"X\"]\n",
    "        group_a = params[\"group_a\"]\n",
    "        group_b = params[\"group_b\"]\n",
    "\n",
    "        sensitive_features = np.stack([group_a, group_b], axis=1).astype(np.int32)\n",
    "        self.sensitive_mean_ = sensitive_features.mean()\n",
    "        sensitive_features_center = sensitive_features - self.sensitive_mean_\n",
    "        self.beta_, _, _, _ = np.linalg.lstsq(sensitive_features_center, X, rcond=None)\n",
    "        self.X_shape_ = X.shape\n",
    "\n",
    "        return self\n",
    "\n",
    "    def transform(self, X: np.ndarray, group_a: np.ndarray, group_b: np.ndarray):\n",
    "\n",
    "        \"\"\"\n",
    "        Description\n",
    "        ----------\n",
    "        Transform X by applying the correlation remover.\n",
    "\n",
    "        Parameters\n",
    "        ----------\n",
    "        X : matrix-like\n",
    "            Input matrix\n",
    "        group_a : array-like\n",
    "            Group membership vector (binary)\n",
    "        group_b : array-like\n",
    "            Group membership vector (binary)\n",
    "        Returns\n",
    "        -------\n",
    "            np.ndarray\n",
    "        \"\"\"\n",
    "\n",
    "        params = self._load_data(X=X, group_a=group_a, group_b=group_b)\n",
    "        X = params[\"X\"]\n",
    "        group_a = params[\"group_a\"]\n",
    "        group_b = params[\"group_b\"]\n",
    "\n",
    "        sensitive_features = np.stack([group_a, group_b], axis=1).astype(np.int32)\n",
    "        self.sensitive_mean_ = sensitive_features.mean()\n",
    "        sensitive_features_center = sensitive_features - self.sensitive_mean_\n",
    "        X_filtered = X - sensitive_features_center.dot(self.beta_)\n",
    "        X = np.atleast_2d(X)\n",
    "        X_filtered = np.atleast_2d(X_filtered)\n",
    "        return self.alpha * X_filtered + (1 - self.alpha) * X\n",
    "\n",
    "    def fit_transform(\n",
    "        self,\n",
    "        X: np.ndarray,\n",
    "        group_a: np.ndarray,\n",
    "        group_b: np.ndarray,\n",
    "    ):\n",
    "        \"\"\"\n",
    "        Fit and transform\n",
    "\n",
    "        Description\n",
    "        ----------\n",
    "        Fit and transform\n",
    "\n",
    "        Parameters\n",
    "        ----------\n",
    "        X : matrix-like\n",
    "            Input data\n",
    "        group_a : array-like\n",
    "            Group membership vector (binary)\n",
    "        group_b : array-like\n",
    "            Group membership vector (binary)\n",
    "\n",
    "        Return\n",
    "        ------\n",
    "            Self\n",
    "        \"\"\"\n",
    "        return self.fit(X, group_a, group_b).transform(X, group_a, group_b)\n"
   ]
  },
  {
   "cell_type": "markdown",
   "metadata": {},
   "source": [
    "### Step 3: Evaluation"
   ]
  },
  {
   "cell_type": "code",
   "execution_count": 6,
   "metadata": {},
   "outputs": [
    {
     "name": "stdout",
     "output_type": "stream",
     "text": [
      "Regression Benchmark initialized for MyPreprocessingMitigator\n"
     ]
    },
    {
     "name": "stderr",
     "output_type": "stream",
     "text": [
      "100%|██████████| 1/1 [00:04<00:00,  4.39s/it]\n"
     ]
    }
   ],
   "source": [
    "my_mitigator = MyPreprocessingMitigator()\n",
    "\n",
    "task.run_benchmark(mitigator = my_mitigator, type = 'preprocessing')"
   ]
  },
  {
   "cell_type": "code",
   "execution_count": 7,
   "metadata": {},
   "outputs": [
    {
     "data": {
      "text/html": [
       "<style type=\"text/css\">\n",
       "#T_63caa_row1_col0, #T_63caa_row1_col1 {\n",
       "  background: mediumslateblue;\n",
       "}\n",
       "</style>\n",
       "<table id=\"T_63caa\">\n",
       "  <thead>\n",
       "    <tr>\n",
       "      <th class=\"index_name level0\" >Dataset</th>\n",
       "      <th id=\"T_63caa_level0_col0\" class=\"col_heading level0 col0\" >Average RFS</th>\n",
       "      <th id=\"T_63caa_level0_col1\" class=\"col_heading level0 col1\" >crime</th>\n",
       "    </tr>\n",
       "    <tr>\n",
       "      <th class=\"index_name level0\" >Mitigator</th>\n",
       "      <th class=\"blank col0\" >&nbsp;</th>\n",
       "      <th class=\"blank col1\" >&nbsp;</th>\n",
       "    </tr>\n",
       "  </thead>\n",
       "  <tbody>\n",
       "    <tr>\n",
       "      <th id=\"T_63caa_level0_row0\" class=\"row_heading level0 row0\" >CorrelationRemover</th>\n",
       "      <td id=\"T_63caa_row0_col0\" class=\"data row0 col0\" >0.978462</td>\n",
       "      <td id=\"T_63caa_row0_col1\" class=\"data row0 col1\" >0.978462</td>\n",
       "    </tr>\n",
       "    <tr>\n",
       "      <th id=\"T_63caa_level0_row1\" class=\"row_heading level0 row1\" >MyPreprocessingMitigator</th>\n",
       "      <td id=\"T_63caa_row1_col0\" class=\"data row1 col0\" >0.978462</td>\n",
       "      <td id=\"T_63caa_row1_col1\" class=\"data row1 col1\" >0.978462</td>\n",
       "    </tr>\n",
       "    <tr>\n",
       "      <th id=\"T_63caa_level0_row2\" class=\"row_heading level0 row2\" >DisparateImpactRemover</th>\n",
       "      <td id=\"T_63caa_row2_col0\" class=\"data row2 col0\" >0.885045</td>\n",
       "      <td id=\"T_63caa_row2_col1\" class=\"data row2 col1\" >0.885045</td>\n",
       "    </tr>\n",
       "  </tbody>\n",
       "</table>\n"
      ],
      "text/plain": [
       "<pandas.io.formats.style.Styler at 0x7fd2c2738c10>"
      ]
     },
     "execution_count": 7,
     "metadata": {},
     "output_type": "execute_result"
    }
   ],
   "source": [
    "task.evaluate_table()"
   ]
  },
  {
   "cell_type": "markdown",
   "metadata": {},
   "source": [
    "### Step 4: Submission"
   ]
  },
  {
   "cell_type": "code",
   "execution_count": 8,
   "metadata": {},
   "outputs": [
    {
     "name": "stdout",
     "output_type": "stream",
     "text": [
      "Opening the link in your browser:\n"
     ]
    }
   ],
   "source": [
    "task.submit()"
   ]
  }
 ],
 "metadata": {
  "kernelspec": {
   "display_name": "base",
   "language": "python",
   "name": "python3"
  },
  "language_info": {
   "codemirror_mode": {
    "name": "ipython",
    "version": 3
   },
   "file_extension": ".py",
   "mimetype": "text/x-python",
   "name": "python",
   "nbconvert_exporter": "python",
   "pygments_lexer": "ipython3",
   "version": "3.10.0"
  }
 },
 "nbformat": 4,
 "nbformat_minor": 2
}
