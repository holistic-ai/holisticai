{
 "cells": [
  {
   "cell_type": "code",
   "execution_count": 2,
   "metadata": {},
   "outputs": [],
   "source": [
    "import sys\n",
    "sys.path.append('../../')"
   ]
  },
  {
   "cell_type": "markdown",
   "metadata": {},
   "source": [
    "## Template - Bias Mitigation Benchmark ([Holistic AI](https://research.holisticai.com))\n",
    "\n",
    "**Task:** Clustering\n",
    "\n",
    "**Type:** Postprocessing\n",
    "\n",
    "\n",
    "This notebook is a template for the Bias Mitigation Benchmark. It can be used to mitigate bias in datasets and models. The notebook is based on the [Holistic AI open source library](https://github.com/holistic-ai/holisticai) and follows the bias mitigation benchmark outlined in [Holistic AI](https://research.holisticai.com).\n",
    "\n",
    "### Template Structure\n",
    "\n",
    "The template have the following steps:\n",
    "\n",
    "1. Setup definition: \n",
    "    - select a task: `binary_classification`, `multiclass_classification`, `regression`, `clustering`, `recommender`\n",
    "    - select a type: `inprocessing`, `preprocessing`, `postprocessing`\n",
    "2. Mitigator class\n",
    "    - create a class for you custom mitigator\n",
    "3. Evaluation\n",
    "    - evaluate your mitigator and compare it with other mitigators\n",
    "4. Submission\n",
    "    - do you have good results? Then submit your mitigator to the Bias Mitigation Benchmark\n"
   ]
  },
  {
   "cell_type": "markdown",
   "metadata": {},
   "source": [
    "### Step 1: Setup Definition"
   ]
  },
  {
   "cell_type": "code",
   "execution_count": 3,
   "metadata": {},
   "outputs": [
    {
     "name": "stdout",
     "output_type": "stream",
     "text": [
      "['binary_classification', 'multiclass_classification', 'regression', 'clustering', 'recommender']\n"
     ]
    }
   ],
   "source": [
    "from holisticai.benchmark.tasks import task_name, get_task\n",
    "\n",
    "print(task_name)"
   ]
  },
  {
   "cell_type": "code",
   "execution_count": 4,
   "metadata": {},
   "outputs": [],
   "source": [
    "# load a task\n",
    "task = get_task(\"clustering\")"
   ]
  },
  {
   "cell_type": "code",
   "execution_count": 5,
   "metadata": {},
   "outputs": [
    {
     "data": {
      "text/html": [
       "<div>\n",
       "<style scoped>\n",
       "    .dataframe tbody tr th:only-of-type {\n",
       "        vertical-align: middle;\n",
       "    }\n",
       "\n",
       "    .dataframe tbody tr th {\n",
       "        vertical-align: top;\n",
       "    }\n",
       "\n",
       "    .dataframe thead th {\n",
       "        text-align: right;\n",
       "    }\n",
       "</style>\n",
       "<table border=\"1\" class=\"dataframe\">\n",
       "  <thead>\n",
       "    <tr style=\"text-align: right;\">\n",
       "      <th>Dataset</th>\n",
       "      <th>Average Cluster Balance</th>\n",
       "      <th>heart</th>\n",
       "    </tr>\n",
       "    <tr>\n",
       "      <th>Mitigator</th>\n",
       "      <th></th>\n",
       "      <th></th>\n",
       "    </tr>\n",
       "  </thead>\n",
       "  <tbody>\n",
       "    <tr>\n",
       "      <th>MCMF</th>\n",
       "      <td>0.874771</td>\n",
       "      <td>0.874771</td>\n",
       "    </tr>\n",
       "  </tbody>\n",
       "</table>\n",
       "</div>"
      ],
      "text/plain": [
       "Dataset    Average Cluster Balance     heart\n",
       "Mitigator                                   \n",
       "MCMF                      0.874771  0.874771"
      ]
     },
     "execution_count": 5,
     "metadata": {},
     "output_type": "execute_result"
    }
   ],
   "source": [
    "# benchmark for the task by type\n",
    "data = task.benchmark(type='postprocessing')\n",
    "data"
   ]
  },
  {
   "cell_type": "markdown",
   "metadata": {},
   "source": [
    "### Step 2: Mitigator Class"
   ]
  },
  {
   "cell_type": "code",
   "execution_count": 6,
   "metadata": {},
   "outputs": [],
   "source": [
    "from typing import Union\n",
    "\n",
    "import numpy as np\n",
    "\n",
    "from holisticai.utils.transformers.bias import BMPostprocessing as BMPost\n",
    "\n",
    "from holisticai.bias.mitigation.postprocessing.mcmf_clustering.algorithm import Algorithm\n",
    "\n",
    "\n",
    "class MyPostprocessingMitigator(BMPost):\n",
    "    \"\"\"\n",
    "    Minimal Cluster Modification for Fairnes (MCMF) is focused on the minimal change it so that the clustering is still\n",
    "    of good quality and fairer.\n",
    "\n",
    "    References:\n",
    "        Davidson, Ian, and S. S. Ravi. \"Making existing clusterings fairer: Algorithms, complexity results and insights.\"\n",
    "        Proceedings of the AAAI Conference on Artificial Intelligence. Vol. 34. No. 04. 2020.\n",
    "    \"\"\"\n",
    "\n",
    "    def __init__(\n",
    "        self, metric: str = \"L1\", solver: str = \"highs\", group_mode=\"a\", verbose=0\n",
    "    ):\n",
    "        \"\"\"\n",
    "        Create a Equalized Odds Post-processing instance.\n",
    "\n",
    "        Parameters\n",
    "        ----------\n",
    "        metric : str\n",
    "            Measure function used in the objective function.\n",
    "            The metrics available are:\n",
    "            [\"constant\", \"L1\", \"L2\"]\n",
    "\n",
    "        solver : str\n",
    "            Algorithm name used to solve the standard form problem. Solver supported must depend of your scipy poackage version.\n",
    "            for scipy 1.9.0 the solvers available are:\n",
    "            [\"highs\", \"highs-ds\", \"highs-ipm\"]\n",
    "\n",
    "        group_mode: str\n",
    "            Set what groups will be fitted: ['a', 'b', 'ab']\n",
    "        verbose : int\n",
    "            If > 0 , then print logs.\n",
    "        \"\"\"\n",
    "        self.metric = metric\n",
    "        self.group_mode = group_mode\n",
    "        self.solver = solver\n",
    "        self.verbose = verbose\n",
    "        self.algorithm = Algorithm(metric=metric, solver=solver, verbose=verbose)\n",
    "\n",
    "    def fit(self):\n",
    "        return self\n",
    "\n",
    "    def fit_transform(\n",
    "        self,\n",
    "        X: np.ndarray,\n",
    "        y_pred: np.ndarray,\n",
    "        group_a: np.ndarray,\n",
    "        group_b: np.ndarray,\n",
    "        centroids: np.ndarray,\n",
    "    ) -> \"MCMF\":\n",
    "        return self.transform(X, y_pred, group_a, group_b, centroids)\n",
    "\n",
    "    def transform(\n",
    "        self,\n",
    "        X: np.ndarray,\n",
    "        y_pred: np.ndarray,\n",
    "        group_a: np.ndarray,\n",
    "        group_b: np.ndarray,\n",
    "        centroids: Union[np.ndarray, str],\n",
    "    ) -> np.ndarray:\n",
    "        \"\"\"\n",
    "        Modify y_pred using MCMF algorithm.\n",
    "\n",
    "        Description\n",
    "        ----------\n",
    "        Build parameters for the objetive function and call the solver to find the algorithm parameters.\n",
    "\n",
    "        Parameters\n",
    "        ----------\n",
    "        X : matrix-like\n",
    "            Input matrix (nb_examlpes, nb_features)\n",
    "        y_pred : array-like\n",
    "            Predicted vector (nb_examlpes,)\n",
    "        group_a : array-like\n",
    "            Group membership vector (binary)\n",
    "        group_b : array-like\n",
    "            Group membership vector (binary)\n",
    "\n",
    "        Returns\n",
    "        -------\n",
    "        Self\n",
    "        \"\"\"\n",
    "        params = self._load_data(X=X, y_pred=y_pred, group_a=group_a, group_b=group_b)\n",
    "\n",
    "        group_a = params[\"group_a\"] == 1\n",
    "        group_b = params[\"group_b\"] == 1\n",
    "        X = params[\"X\"]\n",
    "        y_pred = params[\"y_pred\"]\n",
    "\n",
    "        if type(centroids) is str:\n",
    "            centroids = getattr(self.estimator_hdl.estimator, centroids)\n",
    "\n",
    "        if self.group_mode in [\"a\", \"b\"]:\n",
    "            group = group_a if self.group_mode == \"a\" else group_b\n",
    "            new_y_pred = self.algorithm.transform(\n",
    "                X=X, y_pred=y_pred, group=group, centroids=centroids\n",
    "            )\n",
    "        elif self.group_mode == \"ab\":\n",
    "            new_y_pred = y_pred.copy()\n",
    "            for group in [group_a, group_b]:\n",
    "                new_y_pred = self.algorithm.transform(\n",
    "                    X=X, y_pred=new_y_pred, group=group, centroids=centroids\n",
    "                )\n",
    "\n",
    "        return {\"y_pred\": new_y_pred}\n"
   ]
  },
  {
   "cell_type": "markdown",
   "metadata": {},
   "source": [
    "### Step 3: Evaluation"
   ]
  },
  {
   "cell_type": "code",
   "execution_count": 9,
   "metadata": {},
   "outputs": [
    {
     "name": "stdout",
     "output_type": "stream",
     "text": [
      "Clustering Benchmark initialized for MyPostprocessingMitigator\n"
     ]
    },
    {
     "name": "stderr",
     "output_type": "stream",
     "text": [
      "100%|██████████| 1/1 [00:00<00:00,  2.88it/s]\n"
     ]
    }
   ],
   "source": [
    "my_mitigator = MyPostprocessingMitigator(metric='L1', verbose=0)\n",
    "\n",
    "pred_params = {'bm__centroids':\"cluster_centers_\"}\n",
    "\n",
    "task.run_benchmark(mitigator = my_mitigator, type = 'postprocessing', extra_pred_params=pred_params)"
   ]
  },
  {
   "cell_type": "code",
   "execution_count": 10,
   "metadata": {},
   "outputs": [
    {
     "data": {
      "text/html": [
       "<style type=\"text/css\">\n",
       "#T_f4607_row1_col0, #T_f4607_row1_col1 {\n",
       "  background: mediumslateblue;\n",
       "}\n",
       "</style>\n",
       "<table id=\"T_f4607\">\n",
       "  <thead>\n",
       "    <tr>\n",
       "      <th class=\"index_name level0\" >Dataset</th>\n",
       "      <th id=\"T_f4607_level0_col0\" class=\"col_heading level0 col0\" >Average Cluster Balance</th>\n",
       "      <th id=\"T_f4607_level0_col1\" class=\"col_heading level0 col1\" >heart</th>\n",
       "    </tr>\n",
       "    <tr>\n",
       "      <th class=\"index_name level0\" >Mitigator</th>\n",
       "      <th class=\"blank col0\" >&nbsp;</th>\n",
       "      <th class=\"blank col1\" >&nbsp;</th>\n",
       "    </tr>\n",
       "  </thead>\n",
       "  <tbody>\n",
       "    <tr>\n",
       "      <th id=\"T_f4607_level0_row0\" class=\"row_heading level0 row0\" >MCMF</th>\n",
       "      <td id=\"T_f4607_row0_col0\" class=\"data row0 col0\" >0.874771</td>\n",
       "      <td id=\"T_f4607_row0_col1\" class=\"data row0 col1\" >0.874771</td>\n",
       "    </tr>\n",
       "    <tr>\n",
       "      <th id=\"T_f4607_level0_row1\" class=\"row_heading level0 row1\" >MyPostprocessingMitigator</th>\n",
       "      <td id=\"T_f4607_row1_col0\" class=\"data row1 col0\" >0.874771</td>\n",
       "      <td id=\"T_f4607_row1_col1\" class=\"data row1 col1\" >0.874771</td>\n",
       "    </tr>\n",
       "  </tbody>\n",
       "</table>\n"
      ],
      "text/plain": [
       "<pandas.io.formats.style.Styler at 0x7f169dd3c910>"
      ]
     },
     "execution_count": 10,
     "metadata": {},
     "output_type": "execute_result"
    }
   ],
   "source": [
    "task.evaluate_table()"
   ]
  },
  {
   "cell_type": "markdown",
   "metadata": {},
   "source": [
    "### Step 4: Submission"
   ]
  },
  {
   "cell_type": "code",
   "execution_count": null,
   "metadata": {},
   "outputs": [
    {
     "name": "stdout",
     "output_type": "stream",
     "text": [
      "MyMitigator benchmark submitted\n",
      "MyMitigator benchmark submitted\n",
      "https://holistic-ai.com/benchmark/binary_classification\n"
     ]
    }
   ],
   "source": [
    "task.submit()"
   ]
  }
 ],
 "metadata": {
  "kernelspec": {
   "display_name": "base",
   "language": "python",
   "name": "python3"
  },
  "language_info": {
   "codemirror_mode": {
    "name": "ipython",
    "version": 3
   },
   "file_extension": ".py",
   "mimetype": "text/x-python",
   "name": "python",
   "nbconvert_exporter": "python",
   "pygments_lexer": "ipython3",
   "version": "3.10.0"
  }
 },
 "nbformat": 4,
 "nbformat_minor": 2
}
