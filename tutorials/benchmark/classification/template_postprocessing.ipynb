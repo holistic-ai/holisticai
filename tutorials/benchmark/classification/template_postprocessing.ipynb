{
 "cells": [
  {
   "cell_type": "code",
   "execution_count": 1,
   "metadata": {},
   "outputs": [],
   "source": [
    "import sys\n",
    "sys.path.append('../../../')"
   ]
  },
  {
   "cell_type": "markdown",
   "metadata": {},
   "source": [
    "## Template - Bias Mitigation Benchmark ([Holistic AI](https://research.holisticai.com))\n",
    "\n",
    "**Task:** Binary Classification\n",
    "\n",
    "**Type:** Postprocessing\n",
    "\n",
    "\n",
    "This notebook is a template for the Bias Mitigation Benchmark. It can be used to mitigate bias in datasets and models. The notebook is based on the [Holistic AI open source library](https://github.com/holistic-ai/holisticai) and follows the bias mitigation benchmark outlined in [Holistic AI](https://research.holisticai.com).\n",
    "\n",
    "### Template Structure\n",
    "\n",
    "The template have the following steps:\n",
    "\n",
    "1. Setup definition: \n",
    "    - select a task: `binary_classification`, `multiclass_classification`, `regression`, `clustering`, `recommender`\n",
    "    - select a type: `inprocessing`, `preprocessing`, `postprocessing`\n",
    "2. Mitigator class\n",
    "    - create a class for you custom mitigator\n",
    "3. Evaluation\n",
    "    - evaluate your mitigator and compare it with other mitigators\n",
    "4. Submission\n",
    "    - do you have good results? Then submit your mitigator to the Bias Mitigation Benchmark\n"
   ]
  },
  {
   "cell_type": "markdown",
   "metadata": {},
   "source": [
    "### Step 1: Setup Definition"
   ]
  },
  {
   "cell_type": "code",
   "execution_count": 2,
   "metadata": {},
   "outputs": [
    {
     "name": "stdout",
     "output_type": "stream",
     "text": [
      "['binary_classification', 'multiclass_classification', 'regression', 'clustering', 'recommender']\n"
     ]
    }
   ],
   "source": [
    "from holisticai.benchmark.tasks import task_name, get_task\n",
    "\n",
    "print(task_name)"
   ]
  },
  {
   "cell_type": "code",
   "execution_count": 3,
   "metadata": {},
   "outputs": [],
   "source": [
    "# load a task\n",
    "task = get_task(\"binary_classification\")"
   ]
  },
  {
   "cell_type": "code",
   "execution_count": 10,
   "metadata": {},
   "outputs": [
    {
     "data": {
      "text/html": [
       "<div>\n",
       "<style scoped>\n",
       "    .dataframe tbody tr th:only-of-type {\n",
       "        vertical-align: middle;\n",
       "    }\n",
       "\n",
       "    .dataframe tbody tr th {\n",
       "        vertical-align: top;\n",
       "    }\n",
       "\n",
       "    .dataframe thead th {\n",
       "        text-align: right;\n",
       "    }\n",
       "</style>\n",
       "<table border=\"1\" class=\"dataframe\">\n",
       "  <thead>\n",
       "    <tr style=\"text-align: right;\">\n",
       "      <th>Dataset</th>\n",
       "      <th>Average AFS</th>\n",
       "      <th>adult</th>\n",
       "      <th>bank_marketing</th>\n",
       "      <th>census_kdd</th>\n",
       "      <th>compas_recidivism</th>\n",
       "      <th>credit_card</th>\n",
       "      <th>diabetes</th>\n",
       "      <th>german_credit</th>\n",
       "      <th>law_school</th>\n",
       "    </tr>\n",
       "    <tr>\n",
       "      <th>Mitigator</th>\n",
       "      <th></th>\n",
       "      <th></th>\n",
       "      <th></th>\n",
       "      <th></th>\n",
       "      <th></th>\n",
       "      <th></th>\n",
       "      <th></th>\n",
       "      <th></th>\n",
       "      <th></th>\n",
       "    </tr>\n",
       "  </thead>\n",
       "  <tbody>\n",
       "    <tr>\n",
       "      <th>MLDebiaser</th>\n",
       "      <td>0.891768</td>\n",
       "      <td>0.884651</td>\n",
       "      <td>0.947397</td>\n",
       "      <td>0.960676</td>\n",
       "      <td>0.814375</td>\n",
       "      <td>0.902120</td>\n",
       "      <td>0.804558</td>\n",
       "      <td>0.888181</td>\n",
       "      <td>0.932189</td>\n",
       "    </tr>\n",
       "    <tr>\n",
       "      <th>EqualizedOdds</th>\n",
       "      <td>0.879779</td>\n",
       "      <td>0.854772</td>\n",
       "      <td>0.943726</td>\n",
       "      <td>0.960879</td>\n",
       "      <td>0.809373</td>\n",
       "      <td>0.900984</td>\n",
       "      <td>0.800230</td>\n",
       "      <td>0.866197</td>\n",
       "      <td>0.902067</td>\n",
       "    </tr>\n",
       "    <tr>\n",
       "      <th>RejectOptionClassification</th>\n",
       "      <td>0.865316</td>\n",
       "      <td>0.880701</td>\n",
       "      <td>0.907784</td>\n",
       "      <td>0.955288</td>\n",
       "      <td>0.821524</td>\n",
       "      <td>0.879057</td>\n",
       "      <td>0.784279</td>\n",
       "      <td>0.765489</td>\n",
       "      <td>0.928405</td>\n",
       "    </tr>\n",
       "    <tr>\n",
       "      <th>LPDebiaserBinary</th>\n",
       "      <td>0.847006</td>\n",
       "      <td>0.825449</td>\n",
       "      <td>0.914638</td>\n",
       "      <td>0.905938</td>\n",
       "      <td>0.801134</td>\n",
       "      <td>0.884189</td>\n",
       "      <td>0.790329</td>\n",
       "      <td>0.846687</td>\n",
       "      <td>0.807689</td>\n",
       "    </tr>\n",
       "    <tr>\n",
       "      <th>CalibratedEqualizedOdds</th>\n",
       "      <td>0.826822</td>\n",
       "      <td>0.848425</td>\n",
       "      <td>0.942929</td>\n",
       "      <td>0.959960</td>\n",
       "      <td>0.452759</td>\n",
       "      <td>0.887227</td>\n",
       "      <td>0.795279</td>\n",
       "      <td>0.871521</td>\n",
       "      <td>0.856475</td>\n",
       "    </tr>\n",
       "  </tbody>\n",
       "</table>\n",
       "</div>"
      ],
      "text/plain": [
       "Dataset                     Average AFS     adult  bank_marketing  census_kdd  \\\n",
       "Mitigator                                                                       \n",
       "MLDebiaser                     0.891768  0.884651        0.947397    0.960676   \n",
       "EqualizedOdds                  0.879779  0.854772        0.943726    0.960879   \n",
       "RejectOptionClassification     0.865316  0.880701        0.907784    0.955288   \n",
       "LPDebiaserBinary               0.847006  0.825449        0.914638    0.905938   \n",
       "CalibratedEqualizedOdds        0.826822  0.848425        0.942929    0.959960   \n",
       "\n",
       "Dataset                     compas_recidivism  credit_card  diabetes  \\\n",
       "Mitigator                                                              \n",
       "MLDebiaser                           0.814375     0.902120  0.804558   \n",
       "EqualizedOdds                        0.809373     0.900984  0.800230   \n",
       "RejectOptionClassification           0.821524     0.879057  0.784279   \n",
       "LPDebiaserBinary                     0.801134     0.884189  0.790329   \n",
       "CalibratedEqualizedOdds              0.452759     0.887227  0.795279   \n",
       "\n",
       "Dataset                     german_credit  law_school  \n",
       "Mitigator                                              \n",
       "MLDebiaser                       0.888181    0.932189  \n",
       "EqualizedOdds                    0.866197    0.902067  \n",
       "RejectOptionClassification       0.765489    0.928405  \n",
       "LPDebiaserBinary                 0.846687    0.807689  \n",
       "CalibratedEqualizedOdds          0.871521    0.856475  "
      ]
     },
     "execution_count": 10,
     "metadata": {},
     "output_type": "execute_result"
    }
   ],
   "source": [
    "# benchmark for the task by type\n",
    "task.benchmark(type='postprocessing')"
   ]
  },
  {
   "cell_type": "markdown",
   "metadata": {},
   "source": [
    "### Step 2: Mitigator Class"
   ]
  },
  {
   "cell_type": "code",
   "execution_count": 5,
   "metadata": {},
   "outputs": [],
   "source": [
    "# additional class for postprocessing mitigation\n",
    "from holisticai.utils.transformers.bias import SensitiveGroups\n",
    "from holisticai.bias.mitigation.postprocessing.ml_debiaser.randomized_threshold.algorithm import RandomizedThresholdAlgorithm\n",
    "\n",
    "# custom postprocessing mitigation\n",
    "import numpy as np\n",
    "\n",
    "class MyPostprocessingMitigator():\n",
    "    \"\"\"\n",
    "    My Postprocessing Mitigator\n",
    "    \"\"\"\n",
    "\n",
    "    def fit(self, y_proba, group_a, group_b):\n",
    "        self.sens_groups = SensitiveGroups()\n",
    "        sensitive_features = np.stack([group_a, group_b], axis=1)\n",
    "        \n",
    "        self.sens_groups.fit(sensitive_features)\n",
    "        self.algorithm = RandomizedThresholdAlgorithm()\n",
    "        \n",
    "        return self\n",
    "\n",
    "    def transform(self, y_proba, group_a, group_b):\n",
    "        sensitive_features = np.stack([group_a, group_b], axis=1)\n",
    "        p_attr = self.sens_groups.transform(sensitive_features, convert_numeric=True)\n",
    "\n",
    "        pred = y_proba[:, 1]\n",
    "        pred = (2 * pred - 1) \n",
    "        self.algorithm.fit(pred, p_attr)\n",
    "\n",
    "        new_y_score = self.algorithm.predict(pred, p_attr)\n",
    "        new_y_pred = np.where(new_y_score > 0.5, 1, 0)\n",
    "\n",
    "        return {\"y_pred\": new_y_pred, \"y_score\": new_y_score}"
   ]
  },
  {
   "cell_type": "markdown",
   "metadata": {},
   "source": [
    "### Step 3: Evaluation"
   ]
  },
  {
   "cell_type": "code",
   "execution_count": 7,
   "metadata": {},
   "outputs": [
    {
     "name": "stdout",
     "output_type": "stream",
     "text": [
      "Binary Classification Benchmark initialized for MyPostprocessingMitigator\n"
     ]
    },
    {
     "name": "stderr",
     "output_type": "stream",
     "text": [
      "100%|██████████| 1/1 [00:13<00:00, 13.19s/it]\n"
     ]
    }
   ],
   "source": [
    "my_mitigator = MyPostprocessingMitigator()\n",
    "\n",
    "task.run_benchmark(custom_mitigator = my_mitigator, type = 'postprocessing')"
   ]
  },
  {
   "cell_type": "code",
   "execution_count": 9,
   "metadata": {},
   "outputs": [
    {
     "data": {
      "text/html": [
       "<style type=\"text/css\">\n",
       "#T_0be77_row1_col0, #T_0be77_row1_col1, #T_0be77_row1_col2, #T_0be77_row1_col3, #T_0be77_row1_col4, #T_0be77_row1_col5, #T_0be77_row1_col6, #T_0be77_row1_col7, #T_0be77_row1_col8 {\n",
       "  background: mediumslateblue;\n",
       "}\n",
       "</style>\n",
       "<table id=\"T_0be77\">\n",
       "  <thead>\n",
       "    <tr>\n",
       "      <th class=\"index_name level0\" >Dataset</th>\n",
       "      <th id=\"T_0be77_level0_col0\" class=\"col_heading level0 col0\" >Average AFS</th>\n",
       "      <th id=\"T_0be77_level0_col1\" class=\"col_heading level0 col1\" >adult</th>\n",
       "      <th id=\"T_0be77_level0_col2\" class=\"col_heading level0 col2\" >bank_marketing</th>\n",
       "      <th id=\"T_0be77_level0_col3\" class=\"col_heading level0 col3\" >census_kdd</th>\n",
       "      <th id=\"T_0be77_level0_col4\" class=\"col_heading level0 col4\" >compas_recidivism</th>\n",
       "      <th id=\"T_0be77_level0_col5\" class=\"col_heading level0 col5\" >credit_card</th>\n",
       "      <th id=\"T_0be77_level0_col6\" class=\"col_heading level0 col6\" >diabetes</th>\n",
       "      <th id=\"T_0be77_level0_col7\" class=\"col_heading level0 col7\" >german_credit</th>\n",
       "      <th id=\"T_0be77_level0_col8\" class=\"col_heading level0 col8\" >law_school</th>\n",
       "    </tr>\n",
       "    <tr>\n",
       "      <th class=\"index_name level0\" >Mitigator</th>\n",
       "      <th class=\"blank col0\" >&nbsp;</th>\n",
       "      <th class=\"blank col1\" >&nbsp;</th>\n",
       "      <th class=\"blank col2\" >&nbsp;</th>\n",
       "      <th class=\"blank col3\" >&nbsp;</th>\n",
       "      <th class=\"blank col4\" >&nbsp;</th>\n",
       "      <th class=\"blank col5\" >&nbsp;</th>\n",
       "      <th class=\"blank col6\" >&nbsp;</th>\n",
       "      <th class=\"blank col7\" >&nbsp;</th>\n",
       "      <th class=\"blank col8\" >&nbsp;</th>\n",
       "    </tr>\n",
       "  </thead>\n",
       "  <tbody>\n",
       "    <tr>\n",
       "      <th id=\"T_0be77_level0_row0\" class=\"row_heading level0 row0\" >MLDebiaser</th>\n",
       "      <td id=\"T_0be77_row0_col0\" class=\"data row0 col0\" >0.891768</td>\n",
       "      <td id=\"T_0be77_row0_col1\" class=\"data row0 col1\" >0.884651</td>\n",
       "      <td id=\"T_0be77_row0_col2\" class=\"data row0 col2\" >0.947397</td>\n",
       "      <td id=\"T_0be77_row0_col3\" class=\"data row0 col3\" >0.960676</td>\n",
       "      <td id=\"T_0be77_row0_col4\" class=\"data row0 col4\" >0.814375</td>\n",
       "      <td id=\"T_0be77_row0_col5\" class=\"data row0 col5\" >0.902120</td>\n",
       "      <td id=\"T_0be77_row0_col6\" class=\"data row0 col6\" >0.804558</td>\n",
       "      <td id=\"T_0be77_row0_col7\" class=\"data row0 col7\" >0.888181</td>\n",
       "      <td id=\"T_0be77_row0_col8\" class=\"data row0 col8\" >0.932189</td>\n",
       "    </tr>\n",
       "    <tr>\n",
       "      <th id=\"T_0be77_level0_row1\" class=\"row_heading level0 row1\" >MyPostprocessingMitigator</th>\n",
       "      <td id=\"T_0be77_row1_col0\" class=\"data row1 col0\" >0.884738</td>\n",
       "      <td id=\"T_0be77_row1_col1\" class=\"data row1 col1\" >0.884738</td>\n",
       "      <td id=\"T_0be77_row1_col2\" class=\"data row1 col2\" >nan</td>\n",
       "      <td id=\"T_0be77_row1_col3\" class=\"data row1 col3\" >nan</td>\n",
       "      <td id=\"T_0be77_row1_col4\" class=\"data row1 col4\" >nan</td>\n",
       "      <td id=\"T_0be77_row1_col5\" class=\"data row1 col5\" >nan</td>\n",
       "      <td id=\"T_0be77_row1_col6\" class=\"data row1 col6\" >nan</td>\n",
       "      <td id=\"T_0be77_row1_col7\" class=\"data row1 col7\" >nan</td>\n",
       "      <td id=\"T_0be77_row1_col8\" class=\"data row1 col8\" >nan</td>\n",
       "    </tr>\n",
       "    <tr>\n",
       "      <th id=\"T_0be77_level0_row2\" class=\"row_heading level0 row2\" >EqualizedOdds</th>\n",
       "      <td id=\"T_0be77_row2_col0\" class=\"data row2 col0\" >0.879779</td>\n",
       "      <td id=\"T_0be77_row2_col1\" class=\"data row2 col1\" >0.854772</td>\n",
       "      <td id=\"T_0be77_row2_col2\" class=\"data row2 col2\" >0.943726</td>\n",
       "      <td id=\"T_0be77_row2_col3\" class=\"data row2 col3\" >0.960879</td>\n",
       "      <td id=\"T_0be77_row2_col4\" class=\"data row2 col4\" >0.809373</td>\n",
       "      <td id=\"T_0be77_row2_col5\" class=\"data row2 col5\" >0.900984</td>\n",
       "      <td id=\"T_0be77_row2_col6\" class=\"data row2 col6\" >0.800230</td>\n",
       "      <td id=\"T_0be77_row2_col7\" class=\"data row2 col7\" >0.866197</td>\n",
       "      <td id=\"T_0be77_row2_col8\" class=\"data row2 col8\" >0.902067</td>\n",
       "    </tr>\n",
       "    <tr>\n",
       "      <th id=\"T_0be77_level0_row3\" class=\"row_heading level0 row3\" >RejectOptionClassification</th>\n",
       "      <td id=\"T_0be77_row3_col0\" class=\"data row3 col0\" >0.865316</td>\n",
       "      <td id=\"T_0be77_row3_col1\" class=\"data row3 col1\" >0.880701</td>\n",
       "      <td id=\"T_0be77_row3_col2\" class=\"data row3 col2\" >0.907784</td>\n",
       "      <td id=\"T_0be77_row3_col3\" class=\"data row3 col3\" >0.955288</td>\n",
       "      <td id=\"T_0be77_row3_col4\" class=\"data row3 col4\" >0.821524</td>\n",
       "      <td id=\"T_0be77_row3_col5\" class=\"data row3 col5\" >0.879057</td>\n",
       "      <td id=\"T_0be77_row3_col6\" class=\"data row3 col6\" >0.784279</td>\n",
       "      <td id=\"T_0be77_row3_col7\" class=\"data row3 col7\" >0.765489</td>\n",
       "      <td id=\"T_0be77_row3_col8\" class=\"data row3 col8\" >0.928405</td>\n",
       "    </tr>\n",
       "    <tr>\n",
       "      <th id=\"T_0be77_level0_row4\" class=\"row_heading level0 row4\" >LPDebiaserBinary</th>\n",
       "      <td id=\"T_0be77_row4_col0\" class=\"data row4 col0\" >0.847006</td>\n",
       "      <td id=\"T_0be77_row4_col1\" class=\"data row4 col1\" >0.825449</td>\n",
       "      <td id=\"T_0be77_row4_col2\" class=\"data row4 col2\" >0.914638</td>\n",
       "      <td id=\"T_0be77_row4_col3\" class=\"data row4 col3\" >0.905938</td>\n",
       "      <td id=\"T_0be77_row4_col4\" class=\"data row4 col4\" >0.801134</td>\n",
       "      <td id=\"T_0be77_row4_col5\" class=\"data row4 col5\" >0.884189</td>\n",
       "      <td id=\"T_0be77_row4_col6\" class=\"data row4 col6\" >0.790329</td>\n",
       "      <td id=\"T_0be77_row4_col7\" class=\"data row4 col7\" >0.846687</td>\n",
       "      <td id=\"T_0be77_row4_col8\" class=\"data row4 col8\" >0.807689</td>\n",
       "    </tr>\n",
       "    <tr>\n",
       "      <th id=\"T_0be77_level0_row5\" class=\"row_heading level0 row5\" >CalibratedEqualizedOdds</th>\n",
       "      <td id=\"T_0be77_row5_col0\" class=\"data row5 col0\" >0.826822</td>\n",
       "      <td id=\"T_0be77_row5_col1\" class=\"data row5 col1\" >0.848425</td>\n",
       "      <td id=\"T_0be77_row5_col2\" class=\"data row5 col2\" >0.942929</td>\n",
       "      <td id=\"T_0be77_row5_col3\" class=\"data row5 col3\" >0.959960</td>\n",
       "      <td id=\"T_0be77_row5_col4\" class=\"data row5 col4\" >0.452759</td>\n",
       "      <td id=\"T_0be77_row5_col5\" class=\"data row5 col5\" >0.887227</td>\n",
       "      <td id=\"T_0be77_row5_col6\" class=\"data row5 col6\" >0.795279</td>\n",
       "      <td id=\"T_0be77_row5_col7\" class=\"data row5 col7\" >0.871521</td>\n",
       "      <td id=\"T_0be77_row5_col8\" class=\"data row5 col8\" >0.856475</td>\n",
       "    </tr>\n",
       "  </tbody>\n",
       "</table>\n"
      ],
      "text/plain": [
       "<pandas.io.formats.style.Styler at 0x7fc3a91b7400>"
      ]
     },
     "execution_count": 9,
     "metadata": {},
     "output_type": "execute_result"
    }
   ],
   "source": [
    "task.evaluate_table()"
   ]
  },
  {
   "cell_type": "markdown",
   "metadata": {},
   "source": [
    "### Step 4: Submission"
   ]
  },
  {
   "cell_type": "code",
   "execution_count": null,
   "metadata": {},
   "outputs": [
    {
     "name": "stdout",
     "output_type": "stream",
     "text": [
      "MyMitigator benchmark submitted\n",
      "MyMitigator benchmark submitted\n",
      "https://holistic-ai.com/benchmark/binary_classification\n"
     ]
    }
   ],
   "source": [
    "task.submit()"
   ]
  }
 ],
 "metadata": {
  "kernelspec": {
   "display_name": "base",
   "language": "python",
   "name": "python3"
  },
  "language_info": {
   "codemirror_mode": {
    "name": "ipython",
    "version": 3
   },
   "file_extension": ".py",
   "mimetype": "text/x-python",
   "name": "python",
   "nbconvert_exporter": "python",
   "pygments_lexer": "ipython3",
   "version": "3.10.13"
  }
 },
 "nbformat": 4,
 "nbformat_minor": 2
}
