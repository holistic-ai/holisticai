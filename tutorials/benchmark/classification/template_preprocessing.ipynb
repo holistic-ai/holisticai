{
 "cells": [
  {
   "cell_type": "code",
   "execution_count": 1,
   "metadata": {},
   "outputs": [],
   "source": [
    "import sys\n",
    "sys.path.append('../../../')"
   ]
  },
  {
   "cell_type": "markdown",
   "metadata": {},
   "source": [
    "## Template - Bias Mitigation Benchmark ([Holistic AI](https://research.holisticai.com))\n",
    "\n",
    "**Task:** Binary Classification\n",
    "\n",
    "**Type:** Preprocessing\n",
    "\n",
    "\n",
    "This notebook is a template for the Bias Mitigation Benchmark. It can be used to mitigate bias in datasets and models. The notebook is based on the [Holistic AI open source library](https://github.com/holistic-ai/holisticai) and follows the bias mitigation benchmark outlined in [Holistic AI](https://research.holisticai.com).\n",
    "\n",
    "### Template Structure\n",
    "\n",
    "The template have the following steps:\n",
    "\n",
    "1. Setup definition: \n",
    "    - select a task: `binary_classification`, `multiclass_classification`, `regression`, `clustering`, `recommender`\n",
    "    - select a type: `inprocessing`, `preprocessing`, `postprocessing`\n",
    "2. Mitigator class\n",
    "    - create a class for you custom mitigator\n",
    "3. Evaluation\n",
    "    - evaluate your mitigator and compare it with other mitigators\n",
    "4. Submission\n",
    "    - do you have good results? Then submit your mitigator to the Bias Mitigation Benchmark\n"
   ]
  },
  {
   "cell_type": "markdown",
   "metadata": {},
   "source": [
    "### Step 1: Setup Definition"
   ]
  },
  {
   "cell_type": "code",
   "execution_count": 2,
   "metadata": {},
   "outputs": [
    {
     "name": "stdout",
     "output_type": "stream",
     "text": [
      "['binary_classification', 'multiclass_classification', 'regression', 'clustering', 'recommender']\n"
     ]
    }
   ],
   "source": [
    "from holisticai.benchmark.tasks import task_name, get_task\n",
    "\n",
    "print(task_name)"
   ]
  },
  {
   "cell_type": "code",
   "execution_count": 3,
   "metadata": {},
   "outputs": [],
   "source": [
    "# load a task\n",
    "task = get_task(\"binary_classification\")"
   ]
  },
  {
   "cell_type": "code",
   "execution_count": 4,
   "metadata": {},
   "outputs": [
    {
     "data": {
      "text/html": [
       "<div>\n",
       "<style scoped>\n",
       "    .dataframe tbody tr th:only-of-type {\n",
       "        vertical-align: middle;\n",
       "    }\n",
       "\n",
       "    .dataframe tbody tr th {\n",
       "        vertical-align: top;\n",
       "    }\n",
       "\n",
       "    .dataframe thead th {\n",
       "        text-align: right;\n",
       "    }\n",
       "</style>\n",
       "<table border=\"1\" class=\"dataframe\">\n",
       "  <thead>\n",
       "    <tr style=\"text-align: right;\">\n",
       "      <th>Dataset</th>\n",
       "      <th>Average AFS</th>\n",
       "      <th>adult</th>\n",
       "      <th>credit_card</th>\n",
       "    </tr>\n",
       "    <tr>\n",
       "      <th>Mitigator</th>\n",
       "      <th></th>\n",
       "      <th></th>\n",
       "      <th></th>\n",
       "    </tr>\n",
       "  </thead>\n",
       "  <tbody>\n",
       "    <tr>\n",
       "      <th>Reweighing</th>\n",
       "      <td>0.883628</td>\n",
       "      <td>0.865184</td>\n",
       "      <td>0.902072</td>\n",
       "    </tr>\n",
       "    <tr>\n",
       "      <th>DisparateImpactRemover</th>\n",
       "      <td>0.877068</td>\n",
       "      <td>0.854816</td>\n",
       "      <td>0.899319</td>\n",
       "    </tr>\n",
       "    <tr>\n",
       "      <th>CorrelationRemover</th>\n",
       "      <td>0.874019</td>\n",
       "      <td>0.844925</td>\n",
       "      <td>0.903113</td>\n",
       "    </tr>\n",
       "    <tr>\n",
       "      <th>LearningFairRepresentation</th>\n",
       "      <td>0.870486</td>\n",
       "      <td>0.853018</td>\n",
       "      <td>0.887953</td>\n",
       "    </tr>\n",
       "  </tbody>\n",
       "</table>\n",
       "</div>"
      ],
      "text/plain": [
       "Dataset                     Average AFS     adult  credit_card\n",
       "Mitigator                                                     \n",
       "Reweighing                     0.883628  0.865184     0.902072\n",
       "DisparateImpactRemover         0.877068  0.854816     0.899319\n",
       "CorrelationRemover             0.874019  0.844925     0.903113\n",
       "LearningFairRepresentation     0.870486  0.853018     0.887953"
      ]
     },
     "execution_count": 4,
     "metadata": {},
     "output_type": "execute_result"
    }
   ],
   "source": [
    "# benchmark for the task by type\n",
    "task.benchmark(type='preprocessing')"
   ]
  },
  {
   "cell_type": "markdown",
   "metadata": {},
   "source": [
    "### Step 2: Mitigator Class"
   ]
  },
  {
   "cell_type": "code",
   "execution_count": 5,
   "metadata": {},
   "outputs": [],
   "source": [
    "import numpy as np\n",
    "\n",
    "class MyPreprocessingMitigator():\n",
    "    \"\"\"\n",
    "    My Preprocessing Mitigator\n",
    "    \"\"\"\n",
    "\n",
    "    def fit(self, X, group_a, group_b):\n",
    "        sensitive_features = np.stack([group_a, group_b], axis=1).astype(np.int32)\n",
    "        self.sensitive_mean_ = sensitive_features.mean()\n",
    "\n",
    "        sensitive_features_center = sensitive_features - self.sensitive_mean_\n",
    "        self.beta_, _, _, _ = np.linalg.lstsq(sensitive_features_center, X, rcond=None)\n",
    "        self.X_shape_ = X.shape\n",
    "\n",
    "        return self\n",
    "\n",
    "    def transform(self, X, group_a, group_b):\n",
    "        alpha = 0.8\n",
    "        sensitive_features = np.stack([group_a, group_b], axis=1).astype(np.int32)\n",
    "        self.sensitive_mean_ = sensitive_features.mean()\n",
    "        sensitive_features_center = sensitive_features - self.sensitive_mean_\n",
    "\n",
    "        X_filtered = X - sensitive_features_center.dot(self.beta_)\n",
    "        X = np.atleast_2d(X)\n",
    "        X_filtered = np.atleast_2d(X_filtered)\n",
    "        \n",
    "        return alpha * X_filtered + (1 - alpha) * X"
   ]
  },
  {
   "cell_type": "markdown",
   "metadata": {},
   "source": [
    "### Step 3: Evaluation"
   ]
  },
  {
   "cell_type": "code",
   "execution_count": 6,
   "metadata": {},
   "outputs": [
    {
     "name": "stdout",
     "output_type": "stream",
     "text": [
      "Binary Classification Benchmark initialized for MyPreprocessingMitigator\n"
     ]
    },
    {
     "name": "stderr",
     "output_type": "stream",
     "text": [
      "  0%|          | 0/2 [00:00<?, ?it/s]"
     ]
    },
    {
     "name": "stderr",
     "output_type": "stream",
     "text": [
      "100%|██████████| 2/2 [00:31<00:00, 15.65s/it]\n"
     ]
    }
   ],
   "source": [
    "my_mitigator = MyPreprocessingMitigator()\n",
    "\n",
    "task.run_benchmark(custom_mitigator = my_mitigator, type = 'preprocessing')"
   ]
  },
  {
   "cell_type": "code",
   "execution_count": 7,
   "metadata": {},
   "outputs": [
    {
     "data": {
      "text/html": [
       "<style type=\"text/css\">\n",
       "#T_7bdf3_row3_col0, #T_7bdf3_row3_col1, #T_7bdf3_row3_col2, #T_7bdf3_row3_col3 {\n",
       "  background: mediumslateblue;\n",
       "}\n",
       "</style>\n",
       "<table id=\"T_7bdf3\">\n",
       "  <thead>\n",
       "    <tr>\n",
       "      <th class=\"index_name level0\" >Dataset</th>\n",
       "      <th id=\"T_7bdf3_level0_col0\" class=\"col_heading level0 col0\" >Average AFS</th>\n",
       "      <th id=\"T_7bdf3_level0_col1\" class=\"col_heading level0 col1\" >Average Accuracy</th>\n",
       "      <th id=\"T_7bdf3_level0_col2\" class=\"col_heading level0 col2\" >adult</th>\n",
       "      <th id=\"T_7bdf3_level0_col3\" class=\"col_heading level0 col3\" >credit_card</th>\n",
       "    </tr>\n",
       "    <tr>\n",
       "      <th class=\"index_name level0\" >Mitigator</th>\n",
       "      <th class=\"blank col0\" >&nbsp;</th>\n",
       "      <th class=\"blank col1\" >&nbsp;</th>\n",
       "      <th class=\"blank col2\" >&nbsp;</th>\n",
       "      <th class=\"blank col3\" >&nbsp;</th>\n",
       "    </tr>\n",
       "  </thead>\n",
       "  <tbody>\n",
       "    <tr>\n",
       "      <th id=\"T_7bdf3_level0_row0\" class=\"row_heading level0 row0\" >Reweighing</th>\n",
       "      <td id=\"T_7bdf3_row0_col0\" class=\"data row0 col0\" >0.883628</td>\n",
       "      <td id=\"T_7bdf3_row0_col1\" class=\"data row0 col1\" >nan</td>\n",
       "      <td id=\"T_7bdf3_row0_col2\" class=\"data row0 col2\" >0.865184</td>\n",
       "      <td id=\"T_7bdf3_row0_col3\" class=\"data row0 col3\" >0.902072</td>\n",
       "    </tr>\n",
       "    <tr>\n",
       "      <th id=\"T_7bdf3_level0_row1\" class=\"row_heading level0 row1\" >DisparateImpactRemover</th>\n",
       "      <td id=\"T_7bdf3_row1_col0\" class=\"data row1 col0\" >0.877068</td>\n",
       "      <td id=\"T_7bdf3_row1_col1\" class=\"data row1 col1\" >nan</td>\n",
       "      <td id=\"T_7bdf3_row1_col2\" class=\"data row1 col2\" >0.854816</td>\n",
       "      <td id=\"T_7bdf3_row1_col3\" class=\"data row1 col3\" >0.899319</td>\n",
       "    </tr>\n",
       "    <tr>\n",
       "      <th id=\"T_7bdf3_level0_row2\" class=\"row_heading level0 row2\" >CorrelationRemover</th>\n",
       "      <td id=\"T_7bdf3_row2_col0\" class=\"data row2 col0\" >0.874019</td>\n",
       "      <td id=\"T_7bdf3_row2_col1\" class=\"data row2 col1\" >nan</td>\n",
       "      <td id=\"T_7bdf3_row2_col2\" class=\"data row2 col2\" >0.844925</td>\n",
       "      <td id=\"T_7bdf3_row2_col3\" class=\"data row2 col3\" >0.903113</td>\n",
       "    </tr>\n",
       "    <tr>\n",
       "      <th id=\"T_7bdf3_level0_row3\" class=\"row_heading level0 row3\" >MyPreprocessingMitigator</th>\n",
       "      <td id=\"T_7bdf3_row3_col0\" class=\"data row3 col0\" >0.871352</td>\n",
       "      <td id=\"T_7bdf3_row3_col1\" class=\"data row3 col1\" >0.830980</td>\n",
       "      <td id=\"T_7bdf3_row3_col2\" class=\"data row3 col2\" >0.841409</td>\n",
       "      <td id=\"T_7bdf3_row3_col3\" class=\"data row3 col3\" >0.901295</td>\n",
       "    </tr>\n",
       "    <tr>\n",
       "      <th id=\"T_7bdf3_level0_row4\" class=\"row_heading level0 row4\" >LearningFairRepresentation</th>\n",
       "      <td id=\"T_7bdf3_row4_col0\" class=\"data row4 col0\" >0.870486</td>\n",
       "      <td id=\"T_7bdf3_row4_col1\" class=\"data row4 col1\" >nan</td>\n",
       "      <td id=\"T_7bdf3_row4_col2\" class=\"data row4 col2\" >0.853018</td>\n",
       "      <td id=\"T_7bdf3_row4_col3\" class=\"data row4 col3\" >0.887953</td>\n",
       "    </tr>\n",
       "  </tbody>\n",
       "</table>\n"
      ],
      "text/plain": [
       "<pandas.io.formats.style.Styler at 0x7f1a66516650>"
      ]
     },
     "execution_count": 7,
     "metadata": {},
     "output_type": "execute_result"
    }
   ],
   "source": [
    "task.evaluate_table()"
   ]
  },
  {
   "cell_type": "markdown",
   "metadata": {},
   "source": [
    "### Step 4: Submission"
   ]
  },
  {
   "cell_type": "code",
   "execution_count": 8,
   "metadata": {},
   "outputs": [
    {
     "name": "stdout",
     "output_type": "stream",
     "text": [
      "Opening the link in your browser: https://forms.office.com/r/Vd6FT4eNL2\n"
     ]
    }
   ],
   "source": [
    "task.submit()"
   ]
  }
 ],
 "metadata": {
  "kernelspec": {
   "display_name": "base",
   "language": "python",
   "name": "python3"
  },
  "language_info": {
   "codemirror_mode": {
    "name": "ipython",
    "version": 3
   },
   "file_extension": ".py",
   "mimetype": "text/x-python",
   "name": "python",
   "nbconvert_exporter": "python",
   "pygments_lexer": "ipython3",
   "version": "3.1.undefined"
  }
 },
 "nbformat": 4,
 "nbformat_minor": 2
}
