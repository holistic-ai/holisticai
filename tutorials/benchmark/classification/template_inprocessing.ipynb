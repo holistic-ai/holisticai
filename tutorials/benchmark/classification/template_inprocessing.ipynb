{
 "cells": [
  {
   "cell_type": "code",
   "execution_count": 1,
   "metadata": {},
   "outputs": [],
   "source": [
    "import sys\n",
    "sys.path.append('../../../')"
   ]
  },
  {
   "cell_type": "markdown",
   "metadata": {},
   "source": [
    "## Template - Bias Mitigation Benchmark ([Holistic AI](https://research.holisticai.com))\n",
    "\n",
    "**Task:** Binary Classification\n",
    "\n",
    "**Type:** Inprocessing\n",
    "\n",
    "\n",
    "This notebook is a template for the Bias Mitigation Benchmark. It can be used to mitigate bias in datasets and models. The notebook is based on the [Holistic AI open source library](https://github.com/holistic-ai/holisticai) and follows the bias mitigation benchmark outlined in [Holistic AI](https://research.holisticai.com).\n",
    "\n",
    "### Template Structure\n",
    "\n",
    "The template have the following steps:\n",
    "\n",
    "1. Setup definition: \n",
    "    - select a task: `binary_classification`, `multiclass_classification`, `regression`, `clustering`, `recommender`\n",
    "    - select a type: `inprocessing`, `preprocessing`, `postprocessing`\n",
    "2. Mitigator class\n",
    "    - create a class for you custom mitigator\n",
    "3. Evaluation\n",
    "    - evaluate your mitigator and compare it with other mitigators\n",
    "4. Submission\n",
    "    - do you have good results? Then submit your mitigator to the Bias Mitigation Benchmark\n"
   ]
  },
  {
   "cell_type": "markdown",
   "metadata": {},
   "source": [
    "### Step 1: Setup definition"
   ]
  },
  {
   "cell_type": "code",
   "execution_count": 2,
   "metadata": {},
   "outputs": [
    {
     "name": "stdout",
     "output_type": "stream",
     "text": [
      "['binary_classification', 'multiclass_classification', 'regression', 'clustering', 'recommender']\n"
     ]
    }
   ],
   "source": [
    "from holisticai.benchmark.tasks import task_name, get_task\n",
    "\n",
    "print(task_name)"
   ]
  },
  {
   "cell_type": "code",
   "execution_count": 3,
   "metadata": {},
   "outputs": [],
   "source": [
    "# load a task\n",
    "task = get_task(\"binary_classification\")"
   ]
  },
  {
   "cell_type": "code",
   "execution_count": 4,
   "metadata": {},
   "outputs": [
    {
     "data": {
      "text/html": [
       "<div>\n",
       "<style scoped>\n",
       "    .dataframe tbody tr th:only-of-type {\n",
       "        vertical-align: middle;\n",
       "    }\n",
       "\n",
       "    .dataframe tbody tr th {\n",
       "        vertical-align: top;\n",
       "    }\n",
       "\n",
       "    .dataframe thead th {\n",
       "        text-align: right;\n",
       "    }\n",
       "</style>\n",
       "<table border=\"1\" class=\"dataframe\">\n",
       "  <thead>\n",
       "    <tr style=\"text-align: right;\">\n",
       "      <th>Dataset</th>\n",
       "      <th>Average AFS</th>\n",
       "      <th>adult</th>\n",
       "      <th>bank_marketing</th>\n",
       "      <th>census_kdd</th>\n",
       "      <th>compas_recidivism</th>\n",
       "      <th>credit_card</th>\n",
       "      <th>diabetes</th>\n",
       "      <th>german_credit</th>\n",
       "      <th>law_school</th>\n",
       "    </tr>\n",
       "    <tr>\n",
       "      <th>Mitigator</th>\n",
       "      <th></th>\n",
       "      <th></th>\n",
       "      <th></th>\n",
       "      <th></th>\n",
       "      <th></th>\n",
       "      <th></th>\n",
       "      <th></th>\n",
       "      <th></th>\n",
       "      <th></th>\n",
       "    </tr>\n",
       "  </thead>\n",
       "  <tbody>\n",
       "    <tr>\n",
       "      <th>PrejudiceRemover</th>\n",
       "      <td>0.901988</td>\n",
       "      <td>0.876628</td>\n",
       "      <td>0.963592</td>\n",
       "      <td>0.953404</td>\n",
       "      <td>0.993200</td>\n",
       "      <td>0.894675</td>\n",
       "      <td>0.768062</td>\n",
       "      <td>0.857242</td>\n",
       "      <td>0.909100</td>\n",
       "    </tr>\n",
       "    <tr>\n",
       "      <th>GridSearchReduction</th>\n",
       "      <td>0.878838</td>\n",
       "      <td>0.835973</td>\n",
       "      <td>0.959813</td>\n",
       "      <td>0.955142</td>\n",
       "      <td>0.807752</td>\n",
       "      <td>0.902130</td>\n",
       "      <td>0.794675</td>\n",
       "      <td>0.912679</td>\n",
       "      <td>0.862537</td>\n",
       "    </tr>\n",
       "    <tr>\n",
       "      <th>MetaFairClassifier</th>\n",
       "      <td>0.816151</td>\n",
       "      <td>0.739085</td>\n",
       "      <td>0.951280</td>\n",
       "      <td>0.467710</td>\n",
       "      <td>0.827878</td>\n",
       "      <td>0.902962</td>\n",
       "      <td>0.805780</td>\n",
       "      <td>0.889563</td>\n",
       "      <td>0.944952</td>\n",
       "    </tr>\n",
       "  </tbody>\n",
       "</table>\n",
       "</div>"
      ],
      "text/plain": [
       "Dataset              Average AFS     adult  bank_marketing  census_kdd  \\\n",
       "Mitigator                                                                \n",
       "PrejudiceRemover        0.901988  0.876628        0.963592    0.953404   \n",
       "GridSearchReduction     0.878838  0.835973        0.959813    0.955142   \n",
       "MetaFairClassifier      0.816151  0.739085        0.951280    0.467710   \n",
       "\n",
       "Dataset              compas_recidivism  credit_card  diabetes  german_credit  \\\n",
       "Mitigator                                                                      \n",
       "PrejudiceRemover              0.993200     0.894675  0.768062       0.857242   \n",
       "GridSearchReduction           0.807752     0.902130  0.794675       0.912679   \n",
       "MetaFairClassifier            0.827878     0.902962  0.805780       0.889563   \n",
       "\n",
       "Dataset              law_school  \n",
       "Mitigator                        \n",
       "PrejudiceRemover       0.909100  \n",
       "GridSearchReduction    0.862537  \n",
       "MetaFairClassifier     0.944952  "
      ]
     },
     "execution_count": 4,
     "metadata": {},
     "output_type": "execute_result"
    }
   ],
   "source": [
    "# benchmark for the task by type\n",
    "task.benchmark(type='inprocessing')"
   ]
  },
  {
   "cell_type": "markdown",
   "metadata": {},
   "source": [
    "### Step 2: Mitigator class"
   ]
  },
  {
   "cell_type": "code",
   "execution_count": 5,
   "metadata": {},
   "outputs": [],
   "source": [
    "import numpy as np\n",
    "from fairlearn.reductions import DemographicParity, GridSearch\n",
    "\n",
    "class MyInprocessingMitigator:\n",
    "    \"\"\"\n",
    "    My Inprocessing Mitigator\n",
    "\n",
    "    The input data is expected to be a numpy array.\n",
    "    \"\"\"\n",
    "    \n",
    "    def fit(self, X, y_true, group_a, group_b, estimator_, **kargs):\n",
    "\n",
    "        sensitive_features = np.stack([group_a, group_b], axis=1)\n",
    "\n",
    "        self.model_ = GridSearch(\n",
    "            estimator=estimator_,\n",
    "            constraints=DemographicParity(),\n",
    "            constraint_weight=0.5,\n",
    "        )\n",
    "\n",
    "        self.model_.fit(X, y_true, sensitive_features=sensitive_features)\n",
    "\n",
    "        return self\n",
    "\n",
    "    def predict(self, X):\n",
    "        return self.model_.predict(X)"
   ]
  },
  {
   "cell_type": "markdown",
   "metadata": {},
   "source": [
    "### Step 3: Evaluation"
   ]
  },
  {
   "cell_type": "code",
   "execution_count": 6,
   "metadata": {},
   "outputs": [
    {
     "name": "stdout",
     "output_type": "stream",
     "text": [
      "Binary Classification Benchmark initialized for GridSearchReduction\n"
     ]
    },
    {
     "name": "stderr",
     "output_type": "stream",
     "text": [
      " 38%|███▊      | 3/8 [02:49<04:42, 56.42s/it] \n"
     ]
    },
    {
     "ename": "ZeroDivisionError",
     "evalue": "float division by zero",
     "output_type": "error",
     "traceback": [
      "\u001b[0;31m---------------------------------------------------------------------------\u001b[0m",
      "\u001b[0;31mZeroDivisionError\u001b[0m                         Traceback (most recent call last)",
      "Cell \u001b[0;32mIn[6], line 5\u001b[0m\n\u001b[1;32m      3\u001b[0m \u001b[38;5;28;01mfrom\u001b[39;00m \u001b[38;5;21;01mholisticai\u001b[39;00m\u001b[38;5;21;01m.\u001b[39;00m\u001b[38;5;21;01mbias\u001b[39;00m\u001b[38;5;21;01m.\u001b[39;00m\u001b[38;5;21;01mmitigation\u001b[39;00m \u001b[38;5;28;01mimport\u001b[39;00m GridSearchReduction\n\u001b[1;32m      4\u001b[0m my_mitigator \u001b[38;5;241m=\u001b[39m GridSearchReduction()\n\u001b[0;32m----> 5\u001b[0m \u001b[43mtask\u001b[49m\u001b[38;5;241;43m.\u001b[39;49m\u001b[43mrun_benchmark\u001b[49m\u001b[43m(\u001b[49m\u001b[43mcustom_mitigator\u001b[49m\u001b[43m \u001b[49m\u001b[38;5;241;43m=\u001b[39;49m\u001b[43m \u001b[49m\u001b[43mmy_mitigator\u001b[49m\u001b[43m,\u001b[49m\u001b[43m \u001b[49m\u001b[38;5;28;43mtype\u001b[39;49m\u001b[43m \u001b[49m\u001b[38;5;241;43m=\u001b[39;49m\u001b[43m \u001b[49m\u001b[38;5;124;43m'\u001b[39;49m\u001b[38;5;124;43minprocessing\u001b[39;49m\u001b[38;5;124;43m'\u001b[39;49m\u001b[43m,\u001b[49m\u001b[43m \u001b[49m\u001b[43m_implemented\u001b[49m\u001b[38;5;241;43m=\u001b[39;49m\u001b[38;5;28;43;01mTrue\u001b[39;49;00m\u001b[43m)\u001b[49m\n",
      "File \u001b[0;32m/workspaces/holisticai/tutorials/benchmark/classification/../../../holisticai/benchmark/tasks/_binary_classification.py:205\u001b[0m, in \u001b[0;36mBinaryClassificationBenchmark.run_benchmark\u001b[0;34m(self, custom_mitigator, type, _implemented)\u001b[0m\n\u001b[1;32m    198\u001b[0m X_test, y_test, group_a_test, group_b_test \u001b[38;5;241m=\u001b[39m test_data\n\u001b[1;32m    200\u001b[0m fit_params \u001b[38;5;241m=\u001b[39m {\n\u001b[1;32m    201\u001b[0m     \u001b[38;5;124m\"\u001b[39m\u001b[38;5;124mbm__group_a\u001b[39m\u001b[38;5;124m\"\u001b[39m: group_a_train,\n\u001b[1;32m    202\u001b[0m     \u001b[38;5;124m\"\u001b[39m\u001b[38;5;124mbm__group_b\u001b[39m\u001b[38;5;124m\"\u001b[39m: group_b_train,\n\u001b[1;32m    203\u001b[0m }\n\u001b[0;32m--> 205\u001b[0m \u001b[43mpipeline\u001b[49m\u001b[38;5;241;43m.\u001b[39;49m\u001b[43mfit\u001b[49m\u001b[43m(\u001b[49m\u001b[43mX_train\u001b[49m\u001b[43m,\u001b[49m\u001b[43m \u001b[49m\u001b[43my_train\u001b[49m\u001b[43m,\u001b[49m\u001b[43m \u001b[49m\u001b[38;5;241;43m*\u001b[39;49m\u001b[38;5;241;43m*\u001b[39;49m\u001b[43mfit_params\u001b[49m\u001b[43m)\u001b[49m\n\u001b[1;32m    207\u001b[0m predict_params \u001b[38;5;241m=\u001b[39m {\n\u001b[1;32m    208\u001b[0m     \u001b[38;5;124m\"\u001b[39m\u001b[38;5;124mbm__group_a\u001b[39m\u001b[38;5;124m\"\u001b[39m: group_a_test,\n\u001b[1;32m    209\u001b[0m     \u001b[38;5;124m\"\u001b[39m\u001b[38;5;124mbm__group_b\u001b[39m\u001b[38;5;124m\"\u001b[39m: group_b_test,\n\u001b[1;32m    210\u001b[0m }\n\u001b[1;32m    212\u001b[0m y_pred \u001b[38;5;241m=\u001b[39m pipeline\u001b[38;5;241m.\u001b[39mpredict(X_test, \u001b[38;5;241m*\u001b[39m\u001b[38;5;241m*\u001b[39mpredict_params)\n",
      "File \u001b[0;32m/workspaces/holisticai/tutorials/benchmark/classification/../../../holisticai/pipeline/_pipeline_helper.py:57\u001b[0m, in \u001b[0;36mPipelineHelper.handle_pipeline_methods.<locals>.function\u001b[0;34m(X, y, **kargs)\u001b[0m\n\u001b[1;32m     53\u001b[0m         output \u001b[38;5;241m=\u001b[39m \u001b[38;5;28mobject\u001b[39m\u001b[38;5;241m.\u001b[39m\u001b[38;5;21m__getattribute__\u001b[39m(\u001b[38;5;28mself\u001b[39m, fn_name)(X, \u001b[38;5;241m*\u001b[39m\u001b[38;5;241m*\u001b[39mparams)\n\u001b[1;32m     55\u001b[0m \u001b[38;5;28;01melse\u001b[39;00m:\n\u001b[1;32m     56\u001b[0m     \u001b[38;5;66;03m# Other case the primitive method could be invoked\u001b[39;00m\n\u001b[0;32m---> 57\u001b[0m     output \u001b[38;5;241m=\u001b[39m \u001b[38;5;28;43mgetattr\u001b[39;49m\u001b[43m(\u001b[49m\u001b[43mSKLPipeline\u001b[49m\u001b[43m,\u001b[49m\u001b[43m \u001b[49m\u001b[43mfn_name\u001b[49m\u001b[43m)\u001b[49m\u001b[43m(\u001b[49m\u001b[38;5;28;43mself\u001b[39;49m\u001b[43m,\u001b[49m\u001b[43m \u001b[49m\u001b[43mX\u001b[49m\u001b[43m,\u001b[49m\u001b[43m \u001b[49m\u001b[38;5;241;43m*\u001b[39;49m\u001b[38;5;241;43m*\u001b[39;49m\u001b[43mparams\u001b[49m\u001b[43m)\u001b[49m\n\u001b[1;32m     59\u001b[0m \u001b[38;5;28;01mreturn\u001b[39;00m output\n",
      "File \u001b[0;32m~/.local/lib/python3.10/site-packages/sklearn/base.py:1474\u001b[0m, in \u001b[0;36m_fit_context.<locals>.decorator.<locals>.wrapper\u001b[0;34m(estimator, *args, **kwargs)\u001b[0m\n\u001b[1;32m   1467\u001b[0m     estimator\u001b[38;5;241m.\u001b[39m_validate_params()\n\u001b[1;32m   1469\u001b[0m \u001b[38;5;28;01mwith\u001b[39;00m config_context(\n\u001b[1;32m   1470\u001b[0m     skip_parameter_validation\u001b[38;5;241m=\u001b[39m(\n\u001b[1;32m   1471\u001b[0m         prefer_skip_nested_validation \u001b[38;5;129;01mor\u001b[39;00m global_skip_validation\n\u001b[1;32m   1472\u001b[0m     )\n\u001b[1;32m   1473\u001b[0m ):\n\u001b[0;32m-> 1474\u001b[0m     \u001b[38;5;28;01mreturn\u001b[39;00m \u001b[43mfit_method\u001b[49m\u001b[43m(\u001b[49m\u001b[43mestimator\u001b[49m\u001b[43m,\u001b[49m\u001b[43m \u001b[49m\u001b[38;5;241;43m*\u001b[39;49m\u001b[43margs\u001b[49m\u001b[43m,\u001b[49m\u001b[43m \u001b[49m\u001b[38;5;241;43m*\u001b[39;49m\u001b[38;5;241;43m*\u001b[39;49m\u001b[43mkwargs\u001b[49m\u001b[43m)\u001b[49m\n",
      "File \u001b[0;32m~/.local/lib/python3.10/site-packages/sklearn/pipeline.py:475\u001b[0m, in \u001b[0;36mPipeline.fit\u001b[0;34m(self, X, y, **params)\u001b[0m\n\u001b[1;32m    473\u001b[0m     \u001b[38;5;28;01mif\u001b[39;00m \u001b[38;5;28mself\u001b[39m\u001b[38;5;241m.\u001b[39m_final_estimator \u001b[38;5;241m!=\u001b[39m \u001b[38;5;124m\"\u001b[39m\u001b[38;5;124mpassthrough\u001b[39m\u001b[38;5;124m\"\u001b[39m:\n\u001b[1;32m    474\u001b[0m         last_step_params \u001b[38;5;241m=\u001b[39m routed_params[\u001b[38;5;28mself\u001b[39m\u001b[38;5;241m.\u001b[39msteps[\u001b[38;5;241m-\u001b[39m\u001b[38;5;241m1\u001b[39m][\u001b[38;5;241m0\u001b[39m]]\n\u001b[0;32m--> 475\u001b[0m         \u001b[38;5;28;43mself\u001b[39;49m\u001b[38;5;241;43m.\u001b[39;49m\u001b[43m_final_estimator\u001b[49m\u001b[38;5;241;43m.\u001b[39;49m\u001b[43mfit\u001b[49m\u001b[43m(\u001b[49m\u001b[43mXt\u001b[49m\u001b[43m,\u001b[49m\u001b[43m \u001b[49m\u001b[43my\u001b[49m\u001b[43m,\u001b[49m\u001b[43m \u001b[49m\u001b[38;5;241;43m*\u001b[39;49m\u001b[38;5;241;43m*\u001b[39;49m\u001b[43mlast_step_params\u001b[49m\u001b[43m[\u001b[49m\u001b[38;5;124;43m\"\u001b[39;49m\u001b[38;5;124;43mfit\u001b[39;49m\u001b[38;5;124;43m\"\u001b[39;49m\u001b[43m]\u001b[49m\u001b[43m)\u001b[49m\n\u001b[1;32m    477\u001b[0m \u001b[38;5;28;01mreturn\u001b[39;00m \u001b[38;5;28mself\u001b[39m\n",
      "File \u001b[0;32m/workspaces/holisticai/tutorials/benchmark/classification/../../../holisticai/pipeline/handlers/_estimator.py:36\u001b[0m, in \u001b[0;36mWEstimator.__getattribute__.<locals>.fitwrapper\u001b[0;34m(X, y, **kargs)\u001b[0m\n\u001b[1;32m     34\u001b[0m     fit_params\u001b[38;5;241m.\u001b[39mupdate({\u001b[38;5;124m\"\u001b[39m\u001b[38;5;124my\u001b[39m\u001b[38;5;124m\"\u001b[39m: y})\n\u001b[1;32m     35\u001b[0m fit_params\u001b[38;5;241m.\u001b[39mupdate(kargs)\n\u001b[0;32m---> 36\u001b[0m \u001b[38;5;28;01mreturn\u001b[39;00m \u001b[38;5;28;43mgetattr\u001b[39;49m\u001b[43m(\u001b[49m\u001b[38;5;28;43mobject\u001b[39;49m\u001b[38;5;241;43m.\u001b[39;49m\u001b[38;5;21;43m__getattribute__\u001b[39;49m\u001b[43m(\u001b[49m\u001b[38;5;28;43mself\u001b[39;49m\u001b[43m,\u001b[49m\u001b[43m \u001b[49m\u001b[38;5;124;43m\"\u001b[39;49m\u001b[38;5;124;43mobj\u001b[39;49m\u001b[38;5;124;43m\"\u001b[39;49m\u001b[43m)\u001b[49m\u001b[43m,\u001b[49m\u001b[43m \u001b[49m\u001b[43mname\u001b[49m\u001b[43m)\u001b[49m\u001b[43m(\u001b[49m\n\u001b[1;32m     37\u001b[0m \u001b[43m    \u001b[49m\u001b[43mX\u001b[49m\u001b[43m,\u001b[49m\u001b[43m \u001b[49m\u001b[38;5;241;43m*\u001b[39;49m\u001b[38;5;241;43m*\u001b[39;49m\u001b[43mfit_params\u001b[49m\n\u001b[1;32m     38\u001b[0m \u001b[43m\u001b[49m\u001b[43m)\u001b[49m\n",
      "File \u001b[0;32m/workspaces/holisticai/tutorials/benchmark/classification/../../../holisticai/utils/transformers/_transformer_base.py:96\u001b[0m, in \u001b[0;36mBMTransformerBase.reformat_function.<locals>.wrapped_func\u001b[0;34m(*args, **kargs)\u001b[0m\n\u001b[1;32m     94\u001b[0m kargs\u001b[38;5;241m.\u001b[39mupdate(\u001b[38;5;28mself\u001b[39m\u001b[38;5;241m.\u001b[39m_load_data_pipeline())\n\u001b[1;32m     95\u001b[0m params \u001b[38;5;241m=\u001b[39m {v: kargs[v] \u001b[38;5;28;01mfor\u001b[39;00m v \u001b[38;5;129;01min\u001b[39;00m fun_varnames \u001b[38;5;28;01mif\u001b[39;00m v \u001b[38;5;129;01min\u001b[39;00m kargs}\n\u001b[0;32m---> 96\u001b[0m \u001b[38;5;28;01mreturn\u001b[39;00m \u001b[43mfunc\u001b[49m\u001b[43m(\u001b[49m\u001b[38;5;241;43m*\u001b[39;49m\u001b[38;5;241;43m*\u001b[39;49m\u001b[43mparams\u001b[49m\u001b[43m)\u001b[49m\n",
      "File \u001b[0;32m/workspaces/holisticai/tutorials/benchmark/classification/../../../holisticai/bias/mitigation/inprocessing/grid_search/transformer.py:170\u001b[0m, in \u001b[0;36mGridSearchReduction.fit\u001b[0;34m(self, X, y_true, group_a, group_b)\u001b[0m\n\u001b[1;32m    159\u001b[0m \u001b[38;5;28mself\u001b[39m\u001b[38;5;241m.\u001b[39mconstraint_ \u001b[38;5;241m=\u001b[39m constraints_catalog[\u001b[38;5;28mself\u001b[39m\u001b[38;5;241m.\u001b[39mconstraints](\u001b[38;5;241m*\u001b[39m\u001b[38;5;241m*\u001b[39mconstraint_kargs)\n\u001b[1;32m    161\u001b[0m \u001b[38;5;28mself\u001b[39m\u001b[38;5;241m.\u001b[39mmodel_ \u001b[38;5;241m=\u001b[39m GridSearchAlgorithm(\n\u001b[1;32m    162\u001b[0m     estimator\u001b[38;5;241m=\u001b[39m\u001b[38;5;28mself\u001b[39m\u001b[38;5;241m.\u001b[39mestimator_,\n\u001b[1;32m    163\u001b[0m     constraint\u001b[38;5;241m=\u001b[39m\u001b[38;5;28mself\u001b[39m\u001b[38;5;241m.\u001b[39mconstraint_,\n\u001b[0;32m   (...)\u001b[0m\n\u001b[1;32m    167\u001b[0m     verbose\u001b[38;5;241m=\u001b[39m\u001b[38;5;28mself\u001b[39m\u001b[38;5;241m.\u001b[39mverbose,\n\u001b[1;32m    168\u001b[0m )\n\u001b[0;32m--> 170\u001b[0m \u001b[38;5;28;43mself\u001b[39;49m\u001b[38;5;241;43m.\u001b[39;49m\u001b[43mmodel_\u001b[49m\u001b[38;5;241;43m.\u001b[39;49m\u001b[43mfit\u001b[49m\u001b[43m(\u001b[49m\u001b[43mX\u001b[49m\u001b[43m,\u001b[49m\u001b[43m \u001b[49m\u001b[43my_true\u001b[49m\u001b[43m,\u001b[49m\u001b[43m \u001b[49m\u001b[43msensitive_features\u001b[49m\u001b[38;5;241;43m=\u001b[39;49m\u001b[43msensitive_features\u001b[49m\u001b[43m)\u001b[49m\n\u001b[1;32m    172\u001b[0m \u001b[38;5;28;01mreturn\u001b[39;00m \u001b[38;5;28mself\u001b[39m\n",
      "File \u001b[0;32m/workspaces/holisticai/tutorials/benchmark/classification/../../../holisticai/bias/mitigation/inprocessing/grid_search/algorithm.py:105\u001b[0m, in \u001b[0;36mGridSearchAlgorithm.fit\u001b[0;34m(self, X, y, sensitive_features)\u001b[0m\n\u001b[1;32m     96\u001b[0m objective_in_the_span \u001b[38;5;241m=\u001b[39m \u001b[38;5;28mself\u001b[39m\u001b[38;5;241m.\u001b[39mconstraint\u001b[38;5;241m.\u001b[39mdefault_objective_lambda_vec \u001b[38;5;129;01mis\u001b[39;00m \u001b[38;5;129;01mnot\u001b[39;00m \u001b[38;5;28;01mNone\u001b[39;00m\n\u001b[1;32m     98\u001b[0m \u001b[38;5;28mself\u001b[39m\u001b[38;5;241m.\u001b[39mgenerator \u001b[38;5;241m=\u001b[39m GridGenerator(\n\u001b[1;32m     99\u001b[0m     grid_size\u001b[38;5;241m=\u001b[39m\u001b[38;5;28mself\u001b[39m\u001b[38;5;241m.\u001b[39mgrid_size,\n\u001b[1;32m    100\u001b[0m     grid_limit\u001b[38;5;241m=\u001b[39m\u001b[38;5;28mself\u001b[39m\u001b[38;5;241m.\u001b[39mgrid_limit,\n\u001b[1;32m    101\u001b[0m     neg_allowed\u001b[38;5;241m=\u001b[39mneg_allowed,\n\u001b[1;32m    102\u001b[0m     force_L1_norm\u001b[38;5;241m=\u001b[39mobjective_in_the_span,\n\u001b[1;32m    103\u001b[0m )\n\u001b[0;32m--> 105\u001b[0m grid \u001b[38;5;241m=\u001b[39m \u001b[38;5;28;43mself\u001b[39;49m\u001b[38;5;241;43m.\u001b[39;49m\u001b[43mgenerator\u001b[49m\u001b[38;5;241;43m.\u001b[39;49m\u001b[43mgenerate_grid\u001b[49m\u001b[43m(\u001b[49m\u001b[38;5;28;43mself\u001b[39;49m\u001b[38;5;241;43m.\u001b[39;49m\u001b[43mconstraint\u001b[49m\u001b[43m)\u001b[49m\n\u001b[1;32m    106\u001b[0m \u001b[38;5;28mself\u001b[39m\u001b[38;5;241m.\u001b[39mmonitor\u001b[38;5;241m.\u001b[39mtotal_steps \u001b[38;5;241m=\u001b[39m grid\u001b[38;5;241m.\u001b[39mshape[\u001b[38;5;241m1\u001b[39m]\n\u001b[1;32m    107\u001b[0m \u001b[38;5;28;01mfor\u001b[39;00m col_name \u001b[38;5;129;01min\u001b[39;00m grid:\n",
      "File \u001b[0;32m/workspaces/holisticai/tutorials/benchmark/classification/../../../holisticai/bias/mitigation/inprocessing/grid_search/_grid_generator.py:44\u001b[0m, in \u001b[0;36mGridGenerator.generate_grid\u001b[0;34m(self, constraint)\u001b[0m\n\u001b[1;32m     41\u001b[0m \u001b[38;5;28;01mdef\u001b[39;00m \u001b[38;5;21mgenerate_grid\u001b[39m(\u001b[38;5;28mself\u001b[39m, constraint):\n\u001b[1;32m     42\u001b[0m     \u001b[38;5;66;03m# Generate lambda vectors for each event\u001b[39;00m\n\u001b[1;32m     43\u001b[0m     \u001b[38;5;28mself\u001b[39m\u001b[38;5;241m.\u001b[39mdim \u001b[38;5;241m=\u001b[39m \u001b[38;5;28mlen\u001b[39m(constraint\u001b[38;5;241m.\u001b[39mbasis[\u001b[38;5;124m\"\u001b[39m\u001b[38;5;124m+\u001b[39m\u001b[38;5;124m\"\u001b[39m]\u001b[38;5;241m.\u001b[39mcolumns)\n\u001b[0;32m---> 44\u001b[0m     coefs \u001b[38;5;241m=\u001b[39m \u001b[38;5;28;43mself\u001b[39;49m\u001b[38;5;241;43m.\u001b[39;49m\u001b[43m_generate_coefs\u001b[49m\u001b[43m(\u001b[49m\u001b[43m)\u001b[49m\n\u001b[1;32m     45\u001b[0m     \u001b[38;5;66;03m# Convert the grid of basis coefficients into a grid of lambda vectors\u001b[39;00m\n\u001b[1;32m     46\u001b[0m     grid \u001b[38;5;241m=\u001b[39m constraint\u001b[38;5;241m.\u001b[39mbasis[\u001b[38;5;124m\"\u001b[39m\u001b[38;5;124m+\u001b[39m\u001b[38;5;124m\"\u001b[39m]\u001b[38;5;241m.\u001b[39mdot(coefs[\u001b[38;5;124m\"\u001b[39m\u001b[38;5;124m+\u001b[39m\u001b[38;5;124m\"\u001b[39m]) \u001b[38;5;241m+\u001b[39m constraint\u001b[38;5;241m.\u001b[39mbasis[\u001b[38;5;124m\"\u001b[39m\u001b[38;5;124m-\u001b[39m\u001b[38;5;124m\"\u001b[39m]\u001b[38;5;241m.\u001b[39mdot(\n\u001b[1;32m     47\u001b[0m         coefs[\u001b[38;5;124m\"\u001b[39m\u001b[38;5;124m-\u001b[39m\u001b[38;5;124m\"\u001b[39m]\n\u001b[1;32m     48\u001b[0m     )\n",
      "File \u001b[0;32m/workspaces/holisticai/tutorials/benchmark/classification/../../../holisticai/bias/mitigation/inprocessing/grid_search/_grid_generator.py:99\u001b[0m, in \u001b[0;36mGridGenerator._generate_coefs\u001b[0;34m(self)\u001b[0m\n\u001b[1;32m     98\u001b[0m \u001b[38;5;28;01mdef\u001b[39;00m \u001b[38;5;21m_generate_coefs\u001b[39m(\u001b[38;5;28mself\u001b[39m):\n\u001b[0;32m---> 99\u001b[0m     np_grid_values \u001b[38;5;241m=\u001b[39m \u001b[38;5;28;43mself\u001b[39;49m\u001b[38;5;241;43m.\u001b[39;49m\u001b[43m_build_grid\u001b[49m\u001b[43m(\u001b[49m\u001b[43m)\u001b[49m\n\u001b[1;32m    100\u001b[0m     grid_values \u001b[38;5;241m=\u001b[39m pd\u001b[38;5;241m.\u001b[39mDataFrame(np_grid_values[: \u001b[38;5;28mself\u001b[39m\u001b[38;5;241m.\u001b[39mgrid_size])\u001b[38;5;241m.\u001b[39mT\n\u001b[1;32m    101\u001b[0m     pos_grid_values \u001b[38;5;241m=\u001b[39m grid_values\u001b[38;5;241m.\u001b[39mcopy()\n",
      "File \u001b[0;32m/workspaces/holisticai/tutorials/benchmark/classification/../../../holisticai/bias/mitigation/inprocessing/grid_search/_grid_generator.py:68\u001b[0m, in \u001b[0;36mGridGenerator._build_grid\u001b[0;34m(self)\u001b[0m\n\u001b[1;32m     66\u001b[0m \u001b[38;5;28;01mdef\u001b[39;00m \u001b[38;5;21m_build_grid\u001b[39m(\u001b[38;5;28mself\u001b[39m):\n\u001b[1;32m     67\u001b[0m \u001b[38;5;250m    \u001b[39m\u001b[38;5;124;03m\"\"\"Create an integer grid\"\"\"\u001b[39;00m\n\u001b[0;32m---> 68\u001b[0m     max_value \u001b[38;5;241m=\u001b[39m \u001b[38;5;28;43mself\u001b[39;49m\u001b[38;5;241;43m.\u001b[39;49m\u001b[43m_get_true_dim\u001b[49m\u001b[43m(\u001b[49m\u001b[43m)\u001b[49m\n\u001b[1;32m     69\u001b[0m     \u001b[38;5;28mself\u001b[39m\u001b[38;5;241m.\u001b[39maccumulator \u001b[38;5;241m=\u001b[39m []\n\u001b[1;32m     70\u001b[0m     \u001b[38;5;28;01mwhile\u001b[39;00m \u001b[38;5;28;01mTrue\u001b[39;00m:\n",
      "File \u001b[0;32m/workspaces/holisticai/tutorials/benchmark/classification/../../../holisticai/bias/mitigation/inprocessing/grid_search/_grid_generator.py:58\u001b[0m, in \u001b[0;36mGridGenerator._get_true_dim\u001b[0;34m(self)\u001b[0m\n\u001b[1;32m     54\u001b[0m \u001b[38;5;28;01melse\u001b[39;00m:\n\u001b[1;32m     55\u001b[0m     true_dim \u001b[38;5;241m=\u001b[39m \u001b[38;5;28mself\u001b[39m\u001b[38;5;241m.\u001b[39mdim\n\u001b[1;32m     57\u001b[0m n_units \u001b[38;5;241m=\u001b[39m (\u001b[38;5;28mfloat\u001b[39m(\u001b[38;5;28mself\u001b[39m\u001b[38;5;241m.\u001b[39mgrid_size) \u001b[38;5;241m/\u001b[39m (\u001b[38;5;241m2.0\u001b[39m \u001b[38;5;241m*\u001b[39m\u001b[38;5;241m*\u001b[39m \u001b[38;5;28mself\u001b[39m\u001b[38;5;241m.\u001b[39mneg_allowed\u001b[38;5;241m.\u001b[39msum())) \u001b[38;5;241m*\u001b[39m\u001b[38;5;241m*\u001b[39m (\n\u001b[0;32m---> 58\u001b[0m     \u001b[38;5;241;43m1.0\u001b[39;49m\u001b[43m \u001b[49m\u001b[38;5;241;43m/\u001b[39;49m\u001b[43m \u001b[49m\u001b[43mtrue_dim\u001b[49m\n\u001b[1;32m     59\u001b[0m ) \u001b[38;5;241m-\u001b[39m \u001b[38;5;241m1\u001b[39m\n\u001b[1;32m     60\u001b[0m n_units \u001b[38;5;241m=\u001b[39m \u001b[38;5;28mint\u001b[39m(np\u001b[38;5;241m.\u001b[39mfloor(n_units))\n\u001b[1;32m     61\u001b[0m \u001b[38;5;28;01mif\u001b[39;00m n_units \u001b[38;5;241m<\u001b[39m \u001b[38;5;241m0\u001b[39m:\n",
      "\u001b[0;31mZeroDivisionError\u001b[0m: float division by zero"
     ]
    }
   ],
   "source": [
    "my_mitigator = MyInprocessingMitigator()\n",
    "\n",
    "from holisticai.bias.mitigation import GridSearchReduction\n",
    "my_mitigator = GridSearchReduction()\n",
    "task.run_benchmark(custom_mitigator = my_mitigator, type = 'inprocessing', _implemented=True)"
   ]
  },
  {
   "cell_type": "code",
   "execution_count": null,
   "metadata": {},
   "outputs": [
    {
     "data": {
      "text/html": [
       "<style type=\"text/css\">\n",
       "#T_3b1f3_row1_col0, #T_3b1f3_row1_col1, #T_3b1f3_row1_col2, #T_3b1f3_row1_col3, #T_3b1f3_row1_col4, #T_3b1f3_row1_col5, #T_3b1f3_row1_col6, #T_3b1f3_row1_col7, #T_3b1f3_row1_col8 {\n",
       "  background: mediumslateblue;\n",
       "}\n",
       "</style>\n",
       "<table id=\"T_3b1f3\">\n",
       "  <thead>\n",
       "    <tr>\n",
       "      <th class=\"index_name level0\" >Dataset</th>\n",
       "      <th id=\"T_3b1f3_level0_col0\" class=\"col_heading level0 col0\" >Average AFS</th>\n",
       "      <th id=\"T_3b1f3_level0_col1\" class=\"col_heading level0 col1\" >adult</th>\n",
       "      <th id=\"T_3b1f3_level0_col2\" class=\"col_heading level0 col2\" >bank_marketing</th>\n",
       "      <th id=\"T_3b1f3_level0_col3\" class=\"col_heading level0 col3\" >census_kdd</th>\n",
       "      <th id=\"T_3b1f3_level0_col4\" class=\"col_heading level0 col4\" >compas_recidivism</th>\n",
       "      <th id=\"T_3b1f3_level0_col5\" class=\"col_heading level0 col5\" >credit_card</th>\n",
       "      <th id=\"T_3b1f3_level0_col6\" class=\"col_heading level0 col6\" >diabetes</th>\n",
       "      <th id=\"T_3b1f3_level0_col7\" class=\"col_heading level0 col7\" >german_credit</th>\n",
       "      <th id=\"T_3b1f3_level0_col8\" class=\"col_heading level0 col8\" >law_school</th>\n",
       "    </tr>\n",
       "    <tr>\n",
       "      <th class=\"index_name level0\" >Mitigator</th>\n",
       "      <th class=\"blank col0\" >&nbsp;</th>\n",
       "      <th class=\"blank col1\" >&nbsp;</th>\n",
       "      <th class=\"blank col2\" >&nbsp;</th>\n",
       "      <th class=\"blank col3\" >&nbsp;</th>\n",
       "      <th class=\"blank col4\" >&nbsp;</th>\n",
       "      <th class=\"blank col5\" >&nbsp;</th>\n",
       "      <th class=\"blank col6\" >&nbsp;</th>\n",
       "      <th class=\"blank col7\" >&nbsp;</th>\n",
       "      <th class=\"blank col8\" >&nbsp;</th>\n",
       "    </tr>\n",
       "  </thead>\n",
       "  <tbody>\n",
       "    <tr>\n",
       "      <th id=\"T_3b1f3_level0_row0\" class=\"row_heading level0 row0\" >PrejudiceRemover</th>\n",
       "      <td id=\"T_3b1f3_row0_col0\" class=\"data row0 col0\" >0.901988</td>\n",
       "      <td id=\"T_3b1f3_row0_col1\" class=\"data row0 col1\" >0.876628</td>\n",
       "      <td id=\"T_3b1f3_row0_col2\" class=\"data row0 col2\" >0.963592</td>\n",
       "      <td id=\"T_3b1f3_row0_col3\" class=\"data row0 col3\" >0.953404</td>\n",
       "      <td id=\"T_3b1f3_row0_col4\" class=\"data row0 col4\" >0.993200</td>\n",
       "      <td id=\"T_3b1f3_row0_col5\" class=\"data row0 col5\" >0.894675</td>\n",
       "      <td id=\"T_3b1f3_row0_col6\" class=\"data row0 col6\" >0.768062</td>\n",
       "      <td id=\"T_3b1f3_row0_col7\" class=\"data row0 col7\" >0.857242</td>\n",
       "      <td id=\"T_3b1f3_row0_col8\" class=\"data row0 col8\" >0.909100</td>\n",
       "    </tr>\n",
       "    <tr>\n",
       "      <th id=\"T_3b1f3_level0_row1\" class=\"row_heading level0 row1\" >MyInprocessingMitigator</th>\n",
       "      <td id=\"T_3b1f3_row1_col0\" class=\"data row1 col0\" >0.879112</td>\n",
       "      <td id=\"T_3b1f3_row1_col1\" class=\"data row1 col1\" >0.879112</td>\n",
       "      <td id=\"T_3b1f3_row1_col2\" class=\"data row1 col2\" >nan</td>\n",
       "      <td id=\"T_3b1f3_row1_col3\" class=\"data row1 col3\" >nan</td>\n",
       "      <td id=\"T_3b1f3_row1_col4\" class=\"data row1 col4\" >nan</td>\n",
       "      <td id=\"T_3b1f3_row1_col5\" class=\"data row1 col5\" >nan</td>\n",
       "      <td id=\"T_3b1f3_row1_col6\" class=\"data row1 col6\" >nan</td>\n",
       "      <td id=\"T_3b1f3_row1_col7\" class=\"data row1 col7\" >nan</td>\n",
       "      <td id=\"T_3b1f3_row1_col8\" class=\"data row1 col8\" >nan</td>\n",
       "    </tr>\n",
       "    <tr>\n",
       "      <th id=\"T_3b1f3_level0_row2\" class=\"row_heading level0 row2\" >GridSearchReduction</th>\n",
       "      <td id=\"T_3b1f3_row2_col0\" class=\"data row2 col0\" >0.878838</td>\n",
       "      <td id=\"T_3b1f3_row2_col1\" class=\"data row2 col1\" >0.835973</td>\n",
       "      <td id=\"T_3b1f3_row2_col2\" class=\"data row2 col2\" >0.959813</td>\n",
       "      <td id=\"T_3b1f3_row2_col3\" class=\"data row2 col3\" >0.955142</td>\n",
       "      <td id=\"T_3b1f3_row2_col4\" class=\"data row2 col4\" >0.807752</td>\n",
       "      <td id=\"T_3b1f3_row2_col5\" class=\"data row2 col5\" >0.902130</td>\n",
       "      <td id=\"T_3b1f3_row2_col6\" class=\"data row2 col6\" >0.794675</td>\n",
       "      <td id=\"T_3b1f3_row2_col7\" class=\"data row2 col7\" >0.912679</td>\n",
       "      <td id=\"T_3b1f3_row2_col8\" class=\"data row2 col8\" >0.862537</td>\n",
       "    </tr>\n",
       "    <tr>\n",
       "      <th id=\"T_3b1f3_level0_row3\" class=\"row_heading level0 row3\" >MetaFairClassifier</th>\n",
       "      <td id=\"T_3b1f3_row3_col0\" class=\"data row3 col0\" >0.816151</td>\n",
       "      <td id=\"T_3b1f3_row3_col1\" class=\"data row3 col1\" >0.739085</td>\n",
       "      <td id=\"T_3b1f3_row3_col2\" class=\"data row3 col2\" >0.951280</td>\n",
       "      <td id=\"T_3b1f3_row3_col3\" class=\"data row3 col3\" >0.467710</td>\n",
       "      <td id=\"T_3b1f3_row3_col4\" class=\"data row3 col4\" >0.827878</td>\n",
       "      <td id=\"T_3b1f3_row3_col5\" class=\"data row3 col5\" >0.902962</td>\n",
       "      <td id=\"T_3b1f3_row3_col6\" class=\"data row3 col6\" >0.805780</td>\n",
       "      <td id=\"T_3b1f3_row3_col7\" class=\"data row3 col7\" >0.889563</td>\n",
       "      <td id=\"T_3b1f3_row3_col8\" class=\"data row3 col8\" >0.944952</td>\n",
       "    </tr>\n",
       "  </tbody>\n",
       "</table>\n"
      ],
      "text/plain": [
       "<pandas.io.formats.style.Styler at 0x7f953fe0f4c0>"
      ]
     },
     "execution_count": 7,
     "metadata": {},
     "output_type": "execute_result"
    }
   ],
   "source": [
    "task.evaluate_table()"
   ]
  },
  {
   "cell_type": "markdown",
   "metadata": {},
   "source": [
    "### Step 4: Submission"
   ]
  },
  {
   "cell_type": "code",
   "execution_count": null,
   "metadata": {},
   "outputs": [
    {
     "name": "stdout",
     "output_type": "stream",
     "text": [
      "Opening the link in your browser: https://forms.office.com/r/Vd6FT4eNL2\n"
     ]
    }
   ],
   "source": [
    "task.submit()"
   ]
  }
 ],
 "metadata": {
  "kernelspec": {
   "display_name": "base",
   "language": "python",
   "name": "python3"
  },
  "language_info": {
   "codemirror_mode": {
    "name": "ipython",
    "version": 3
   },
   "file_extension": ".py",
   "mimetype": "text/x-python",
   "name": "python",
   "nbconvert_exporter": "python",
   "pygments_lexer": "ipython3",
   "version": "3.10.13"
  }
 },
 "nbformat": 4,
 "nbformat_minor": 2
}
