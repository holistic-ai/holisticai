{
 "cells": [
  {
   "cell_type": "code",
   "execution_count": 1,
   "metadata": {},
   "outputs": [],
   "source": [
    "import sys\n",
    "sys.path.append('../../')"
   ]
  },
  {
   "cell_type": "markdown",
   "metadata": {},
   "source": [
    "## Template - Bias Mitigation Benchmark ([Holistic AI](https://research.holisticai.com))\n",
    "\n",
    "**Task:** Binary Classification\n",
    "\n",
    "**Type:** Inprocessing\n",
    "\n",
    "\n",
    "This notebook is a template for the Bias Mitigation Benchmark. It can be used to mitigate bias in datasets and models. The notebook is based on the [Holistic AI open source library](https://github.com/holistic-ai/holisticai) and follows the bias mitigation benchmark outlined in [Holistic AI](https://research.holisticai.com).\n",
    "\n",
    "### Template Structure\n",
    "\n",
    "The template have the following steps:\n",
    "\n",
    "1. Setup definition: \n",
    "    - select a task: `binary_classification`, `multiclass_classification`, `regression`, `clustering`, `recommender`\n",
    "    - select a type: `inprocessing`, `preprocessing`, `postprocessing`\n",
    "2. Mitigator class\n",
    "    - create a class for you custom mitigator\n",
    "3. Evaluation\n",
    "    - evaluate your mitigator and compare it with other mitigators\n",
    "4. Submission\n",
    "    - do you have good results? Then submit your mitigator to the Bias Mitigation Benchmark\n"
   ]
  },
  {
   "cell_type": "markdown",
   "metadata": {},
   "source": [
    "### Step 1: Setup definition"
   ]
  },
  {
   "cell_type": "code",
   "execution_count": 2,
   "metadata": {},
   "outputs": [
    {
     "name": "stdout",
     "output_type": "stream",
     "text": [
      "['binary_classification', 'multiclass_classification', 'regression', 'clustering', 'recommender']\n"
     ]
    }
   ],
   "source": [
    "from holisticai.benchmark.tasks import task_name, get_task\n",
    "\n",
    "print(task_name)"
   ]
  },
  {
   "cell_type": "code",
   "execution_count": 3,
   "metadata": {},
   "outputs": [],
   "source": [
    "# load a task\n",
    "task = get_task(\"binary_classification\")"
   ]
  },
  {
   "cell_type": "code",
   "execution_count": 4,
   "metadata": {},
   "outputs": [
    {
     "data": {
      "text/html": [
       "<div>\n",
       "<style scoped>\n",
       "    .dataframe tbody tr th:only-of-type {\n",
       "        vertical-align: middle;\n",
       "    }\n",
       "\n",
       "    .dataframe tbody tr th {\n",
       "        vertical-align: top;\n",
       "    }\n",
       "\n",
       "    .dataframe thead th {\n",
       "        text-align: right;\n",
       "    }\n",
       "</style>\n",
       "<table border=\"1\" class=\"dataframe\">\n",
       "  <thead>\n",
       "    <tr style=\"text-align: right;\">\n",
       "      <th>Dataset</th>\n",
       "      <th>Average AFS</th>\n",
       "      <th>adult</th>\n",
       "      <th>bank_marketing</th>\n",
       "      <th>census_kdd</th>\n",
       "      <th>compas_recidivism</th>\n",
       "      <th>credit_card</th>\n",
       "      <th>diabetes</th>\n",
       "      <th>german_credit</th>\n",
       "      <th>law_school</th>\n",
       "    </tr>\n",
       "    <tr>\n",
       "      <th>Mitigator</th>\n",
       "      <th></th>\n",
       "      <th></th>\n",
       "      <th></th>\n",
       "      <th></th>\n",
       "      <th></th>\n",
       "      <th></th>\n",
       "      <th></th>\n",
       "      <th></th>\n",
       "      <th></th>\n",
       "    </tr>\n",
       "  </thead>\n",
       "  <tbody>\n",
       "    <tr>\n",
       "      <th>PrejudiceRemover</th>\n",
       "      <td>0.901988</td>\n",
       "      <td>0.876628</td>\n",
       "      <td>0.963592</td>\n",
       "      <td>0.953404</td>\n",
       "      <td>0.993200</td>\n",
       "      <td>0.894675</td>\n",
       "      <td>0.768062</td>\n",
       "      <td>0.857242</td>\n",
       "      <td>0.909100</td>\n",
       "    </tr>\n",
       "    <tr>\n",
       "      <th>GridSearchReduction</th>\n",
       "      <td>0.878838</td>\n",
       "      <td>0.835973</td>\n",
       "      <td>0.959813</td>\n",
       "      <td>0.955142</td>\n",
       "      <td>0.807752</td>\n",
       "      <td>0.902130</td>\n",
       "      <td>0.794675</td>\n",
       "      <td>0.912679</td>\n",
       "      <td>0.862537</td>\n",
       "    </tr>\n",
       "    <tr>\n",
       "      <th>MetaFairClassifier</th>\n",
       "      <td>0.816151</td>\n",
       "      <td>0.739085</td>\n",
       "      <td>0.951280</td>\n",
       "      <td>0.467710</td>\n",
       "      <td>0.827878</td>\n",
       "      <td>0.902962</td>\n",
       "      <td>0.805780</td>\n",
       "      <td>0.889563</td>\n",
       "      <td>0.944952</td>\n",
       "    </tr>\n",
       "  </tbody>\n",
       "</table>\n",
       "</div>"
      ],
      "text/plain": [
       "Dataset              Average AFS     adult  bank_marketing  census_kdd  \\\n",
       "Mitigator                                                                \n",
       "PrejudiceRemover        0.901988  0.876628        0.963592    0.953404   \n",
       "GridSearchReduction     0.878838  0.835973        0.959813    0.955142   \n",
       "MetaFairClassifier      0.816151  0.739085        0.951280    0.467710   \n",
       "\n",
       "Dataset              compas_recidivism  credit_card  diabetes  german_credit  \\\n",
       "Mitigator                                                                      \n",
       "PrejudiceRemover              0.993200     0.894675  0.768062       0.857242   \n",
       "GridSearchReduction           0.807752     0.902130  0.794675       0.912679   \n",
       "MetaFairClassifier            0.827878     0.902962  0.805780       0.889563   \n",
       "\n",
       "Dataset              law_school  \n",
       "Mitigator                        \n",
       "PrejudiceRemover       0.909100  \n",
       "GridSearchReduction    0.862537  \n",
       "MetaFairClassifier     0.944952  "
      ]
     },
     "execution_count": 4,
     "metadata": {},
     "output_type": "execute_result"
    }
   ],
   "source": [
    "# benchmark for the task by type\n",
    "task.benchmark(type='inprocessing')"
   ]
  },
  {
   "cell_type": "markdown",
   "metadata": {},
   "source": [
    "### Step 2: Mitigator class"
   ]
  },
  {
   "cell_type": "code",
   "execution_count": 5,
   "metadata": {},
   "outputs": [],
   "source": [
    "import numpy as np\n",
    "from fairlearn.reductions import DemographicParity, GridSearch\n",
    "\n",
    "class MyInprocessingMitigator:\n",
    "    \"\"\"\n",
    "    My Inprocessing Mitigator\n",
    "\n",
    "    The input data is expected to be a numpy array.\n",
    "    \"\"\"\n",
    "    def transform_estimator(self, estimator, constraint_weight=0.1):\n",
    "        self.estimator = estimator\n",
    "        self.constraint_weight = constraint_weight\n",
    "\n",
    "    def fit(self, X, y_true, group_a, group_b, **kargs):\n",
    "\n",
    "        sensitive_features = np.stack([group_a, group_b], axis=1)\n",
    "\n",
    "        self.model_ = GridSearch(\n",
    "            estimator=self.estimator,\n",
    "            constraints=DemographicParity(),\n",
    "            constraint_weight=self.constraint_weight,\n",
    "            sample_weight_name=\"classifier__sample_weight\",\n",
    "        )\n",
    "\n",
    "        self.model_.fit(X, y_true, sensitive_features=sensitive_features)\n",
    "\n",
    "        return self\n",
    "\n",
    "    def predict(self, X):\n",
    "        return self.model_.predict(X)"
   ]
  },
  {
   "cell_type": "markdown",
   "metadata": {},
   "source": [
    "### Step 3: Evaluation"
   ]
  },
  {
   "cell_type": "code",
   "execution_count": 6,
   "metadata": {},
   "outputs": [
    {
     "ename": "TypeError",
     "evalue": "metaclass conflict: the metaclass of a derived class must be a (non-strict) subclass of the metaclasses of all its bases",
     "output_type": "error",
     "traceback": [
      "\u001b[0;31m---------------------------------------------------------------------------\u001b[0m",
      "\u001b[0;31mTypeError\u001b[0m                                 Traceback (most recent call last)",
      "Cell \u001b[0;32mIn[6], line 3\u001b[0m\n\u001b[1;32m      1\u001b[0m my_mitigator \u001b[38;5;241m=\u001b[39m MyInprocessingMitigator()\n\u001b[0;32m----> 3\u001b[0m \u001b[43mtask\u001b[49m\u001b[38;5;241;43m.\u001b[39;49m\u001b[43mrun_benchmark\u001b[49m\u001b[43m(\u001b[49m\u001b[43mmitigator\u001b[49m\u001b[43m \u001b[49m\u001b[38;5;241;43m=\u001b[39;49m\u001b[43m \u001b[49m\u001b[43mmy_mitigator\u001b[49m\u001b[43m,\u001b[49m\u001b[43m \u001b[49m\u001b[38;5;28;43mtype\u001b[39;49m\u001b[43m \u001b[49m\u001b[38;5;241;43m=\u001b[39;49m\u001b[43m \u001b[49m\u001b[38;5;124;43m'\u001b[39;49m\u001b[38;5;124;43minprocessing\u001b[39;49m\u001b[38;5;124;43m'\u001b[39;49m\u001b[43m)\u001b[49m\n",
      "File \u001b[0;32m~/repos/hai/holisticai/holisticai/benchmark/tasks/_binary_classification.py:49\u001b[0m, in \u001b[0;36mBinaryClassificationBenchmark.run_benchmark\u001b[0;34m(self, mitigator, type)\u001b[0m\n\u001b[1;32m     47\u001b[0m \u001b[38;5;28;01mdef\u001b[39;00m \u001b[38;5;21mrun_benchmark\u001b[39m(\u001b[38;5;28mself\u001b[39m, mitigator\u001b[38;5;241m=\u001b[39m\u001b[38;5;28;01mNone\u001b[39;00m, \u001b[38;5;28mtype\u001b[39m\u001b[38;5;241m=\u001b[39m\u001b[38;5;28;01mNone\u001b[39;00m):\n\u001b[0;32m---> 49\u001b[0m     \u001b[38;5;28;01mclass\u001b[39;00m \u001b[38;5;21;01mBenchmark\u001b[39;00m(mitigator, BMImp):\n\u001b[1;32m     50\u001b[0m         \u001b[38;5;28;01mdef\u001b[39;00m \u001b[38;5;21mtransform_estimator\u001b[39m(\u001b[38;5;28mself\u001b[39m, estimator):\n\u001b[1;32m     51\u001b[0m             \u001b[38;5;28;01mreturn\u001b[39;00m \u001b[38;5;28msuper\u001b[39m()\u001b[38;5;241m.\u001b[39mtransform_estimator(estimator)\n",
      "\u001b[0;31mTypeError\u001b[0m: metaclass conflict: the metaclass of a derived class must be a (non-strict) subclass of the metaclasses of all its bases"
     ]
    }
   ],
   "source": [
    "my_mitigator = MyInprocessingMitigator()\n",
    "\n",
    "task.run_benchmark(mitigator = my_mitigator, type = 'inprocessing')"
   ]
  },
  {
   "cell_type": "code",
   "execution_count": null,
   "metadata": {},
   "outputs": [
    {
     "data": {
      "text/html": [
       "<style type=\"text/css\">\n",
       "#T_a74a8_row3_col0, #T_a74a8_row3_col1, #T_a74a8_row3_col2, #T_a74a8_row3_col3, #T_a74a8_row3_col4, #T_a74a8_row3_col5, #T_a74a8_row3_col6, #T_a74a8_row3_col7, #T_a74a8_row3_col8 {\n",
       "  background: mediumslateblue;\n",
       "}\n",
       "</style>\n",
       "<table id=\"T_a74a8\">\n",
       "  <thead>\n",
       "    <tr>\n",
       "      <th class=\"index_name level0\" >Dataset</th>\n",
       "      <th id=\"T_a74a8_level0_col0\" class=\"col_heading level0 col0\" >Average AFS</th>\n",
       "      <th id=\"T_a74a8_level0_col1\" class=\"col_heading level0 col1\" >adult</th>\n",
       "      <th id=\"T_a74a8_level0_col2\" class=\"col_heading level0 col2\" >bank_marketing</th>\n",
       "      <th id=\"T_a74a8_level0_col3\" class=\"col_heading level0 col3\" >census_kdd</th>\n",
       "      <th id=\"T_a74a8_level0_col4\" class=\"col_heading level0 col4\" >compas_recidivism</th>\n",
       "      <th id=\"T_a74a8_level0_col5\" class=\"col_heading level0 col5\" >credit_card</th>\n",
       "      <th id=\"T_a74a8_level0_col6\" class=\"col_heading level0 col6\" >diabetes</th>\n",
       "      <th id=\"T_a74a8_level0_col7\" class=\"col_heading level0 col7\" >german_credit</th>\n",
       "      <th id=\"T_a74a8_level0_col8\" class=\"col_heading level0 col8\" >law_school</th>\n",
       "    </tr>\n",
       "    <tr>\n",
       "      <th class=\"index_name level0\" >Mitigator</th>\n",
       "      <th class=\"blank col0\" >&nbsp;</th>\n",
       "      <th class=\"blank col1\" >&nbsp;</th>\n",
       "      <th class=\"blank col2\" >&nbsp;</th>\n",
       "      <th class=\"blank col3\" >&nbsp;</th>\n",
       "      <th class=\"blank col4\" >&nbsp;</th>\n",
       "      <th class=\"blank col5\" >&nbsp;</th>\n",
       "      <th class=\"blank col6\" >&nbsp;</th>\n",
       "      <th class=\"blank col7\" >&nbsp;</th>\n",
       "      <th class=\"blank col8\" >&nbsp;</th>\n",
       "    </tr>\n",
       "  </thead>\n",
       "  <tbody>\n",
       "    <tr>\n",
       "      <th id=\"T_a74a8_level0_row0\" class=\"row_heading level0 row0\" >PrejudiceRemover</th>\n",
       "      <td id=\"T_a74a8_row0_col0\" class=\"data row0 col0\" >0.901988</td>\n",
       "      <td id=\"T_a74a8_row0_col1\" class=\"data row0 col1\" >0.876628</td>\n",
       "      <td id=\"T_a74a8_row0_col2\" class=\"data row0 col2\" >0.963592</td>\n",
       "      <td id=\"T_a74a8_row0_col3\" class=\"data row0 col3\" >0.953404</td>\n",
       "      <td id=\"T_a74a8_row0_col4\" class=\"data row0 col4\" >0.993200</td>\n",
       "      <td id=\"T_a74a8_row0_col5\" class=\"data row0 col5\" >0.894675</td>\n",
       "      <td id=\"T_a74a8_row0_col6\" class=\"data row0 col6\" >0.768062</td>\n",
       "      <td id=\"T_a74a8_row0_col7\" class=\"data row0 col7\" >0.857242</td>\n",
       "      <td id=\"T_a74a8_row0_col8\" class=\"data row0 col8\" >0.909100</td>\n",
       "    </tr>\n",
       "    <tr>\n",
       "      <th id=\"T_a74a8_level0_row1\" class=\"row_heading level0 row1\" >GridSearchReduction</th>\n",
       "      <td id=\"T_a74a8_row1_col0\" class=\"data row1 col0\" >0.878838</td>\n",
       "      <td id=\"T_a74a8_row1_col1\" class=\"data row1 col1\" >0.835973</td>\n",
       "      <td id=\"T_a74a8_row1_col2\" class=\"data row1 col2\" >0.959813</td>\n",
       "      <td id=\"T_a74a8_row1_col3\" class=\"data row1 col3\" >0.955142</td>\n",
       "      <td id=\"T_a74a8_row1_col4\" class=\"data row1 col4\" >0.807752</td>\n",
       "      <td id=\"T_a74a8_row1_col5\" class=\"data row1 col5\" >0.902130</td>\n",
       "      <td id=\"T_a74a8_row1_col6\" class=\"data row1 col6\" >0.794675</td>\n",
       "      <td id=\"T_a74a8_row1_col7\" class=\"data row1 col7\" >0.912679</td>\n",
       "      <td id=\"T_a74a8_row1_col8\" class=\"data row1 col8\" >0.862537</td>\n",
       "    </tr>\n",
       "    <tr>\n",
       "      <th id=\"T_a74a8_level0_row2\" class=\"row_heading level0 row2\" >MetaFairClassifier</th>\n",
       "      <td id=\"T_a74a8_row2_col0\" class=\"data row2 col0\" >0.816151</td>\n",
       "      <td id=\"T_a74a8_row2_col1\" class=\"data row2 col1\" >0.739085</td>\n",
       "      <td id=\"T_a74a8_row2_col2\" class=\"data row2 col2\" >0.951280</td>\n",
       "      <td id=\"T_a74a8_row2_col3\" class=\"data row2 col3\" >0.467710</td>\n",
       "      <td id=\"T_a74a8_row2_col4\" class=\"data row2 col4\" >0.827878</td>\n",
       "      <td id=\"T_a74a8_row2_col5\" class=\"data row2 col5\" >0.902962</td>\n",
       "      <td id=\"T_a74a8_row2_col6\" class=\"data row2 col6\" >0.805780</td>\n",
       "      <td id=\"T_a74a8_row2_col7\" class=\"data row2 col7\" >0.889563</td>\n",
       "      <td id=\"T_a74a8_row2_col8\" class=\"data row2 col8\" >0.944952</td>\n",
       "    </tr>\n",
       "    <tr>\n",
       "      <th id=\"T_a74a8_level0_row3\" class=\"row_heading level0 row3\" >MyInprocessingMitigator</th>\n",
       "      <td id=\"T_a74a8_row3_col0\" class=\"data row3 col0\" >0.790222</td>\n",
       "      <td id=\"T_a74a8_row3_col1\" class=\"data row3 col1\" >0.739085</td>\n",
       "      <td id=\"T_a74a8_row3_col2\" class=\"data row3 col2\" >0.867254</td>\n",
       "      <td id=\"T_a74a8_row3_col3\" class=\"data row3 col3\" >0.538765</td>\n",
       "      <td id=\"T_a74a8_row3_col4\" class=\"data row3 col4\" >0.742545</td>\n",
       "      <td id=\"T_a74a8_row3_col5\" class=\"data row3 col5\" >0.902962</td>\n",
       "      <td id=\"T_a74a8_row3_col6\" class=\"data row3 col6\" >0.805780</td>\n",
       "      <td id=\"T_a74a8_row3_col7\" class=\"data row3 col7\" >0.780437</td>\n",
       "      <td id=\"T_a74a8_row3_col8\" class=\"data row3 col8\" >0.944952</td>\n",
       "    </tr>\n",
       "  </tbody>\n",
       "</table>\n"
      ],
      "text/plain": [
       "<pandas.io.formats.style.Styler at 0x7f01a204b6a0>"
      ]
     },
     "execution_count": 7,
     "metadata": {},
     "output_type": "execute_result"
    }
   ],
   "source": [
    "task.evaluate_table()"
   ]
  },
  {
   "cell_type": "markdown",
   "metadata": {},
   "source": [
    "### Step 4: Submission"
   ]
  },
  {
   "cell_type": "code",
   "execution_count": null,
   "metadata": {},
   "outputs": [
    {
     "name": "stdout",
     "output_type": "stream",
     "text": [
      "Opening the link in your browser:\n"
     ]
    }
   ],
   "source": [
    "task.submit()"
   ]
  }
 ],
 "metadata": {
  "kernelspec": {
   "display_name": "base",
   "language": "python",
   "name": "python3"
  },
  "language_info": {
   "codemirror_mode": {
    "name": "ipython",
    "version": 3
   },
   "file_extension": ".py",
   "mimetype": "text/x-python",
   "name": "python",
   "nbconvert_exporter": "python",
   "pygments_lexer": "ipython3",
   "version": "3.10.0"
  }
 },
 "nbformat": 4,
 "nbformat_minor": 2
}
