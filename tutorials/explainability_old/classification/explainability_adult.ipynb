{
    "cells": [
        {
            "cell_type": "code",
            "execution_count": 1,
            "metadata": {},
            "outputs": [
                {
                    "ename": "ImportError",
                    "evalue": "cannot import name 'accuracy_score' from 'sklearn.base' (/home/cristian/.local/share/hatch/env/virtual/holisticai/g8_gwgw3/testing/lib/python3.11/site-packages/sklearn/base.py)",
                    "output_type": "error",
                    "traceback": [
                        "\u001b[0;31m---------------------------------------------------------------------------\u001b[0m",
                        "\u001b[0;31mImportError\u001b[0m                               Traceback (most recent call last)",
                        "Cell \u001b[0;32mIn[1], line 7\u001b[0m\n\u001b[1;32m      5\u001b[0m \u001b[38;5;28;01mfrom\u001b[39;00m \u001b[38;5;21;01mholisticai\u001b[39;00m\u001b[38;5;21;01m.\u001b[39;00m\u001b[38;5;21;01mxai\u001b[39;00m\u001b[38;5;21;01m.\u001b[39;00m\u001b[38;5;21;01mmetrics\u001b[39;00m\u001b[38;5;21;01m.\u001b[39;00m\u001b[38;5;21;01mcommons\u001b[39;00m\u001b[38;5;21;01m.\u001b[39;00m\u001b[38;5;21;01mfeature_importance\u001b[39;00m \u001b[38;5;28;01mimport\u001b[39;00m permutation_feature_importance, filter_feature_importance\n\u001b[1;32m      6\u001b[0m \u001b[38;5;28;01mfrom\u001b[39;00m \u001b[38;5;21;01mholisticai\u001b[39;00m\u001b[38;5;21;01m.\u001b[39;00m\u001b[38;5;21;01mxai\u001b[39;00m\u001b[38;5;21;01m.\u001b[39;00m\u001b[38;5;21;01mmetrics\u001b[39;00m\u001b[38;5;21;01m.\u001b[39;00m\u001b[38;5;21;01mcommons\u001b[39;00m\u001b[38;5;21;01m.\u001b[39;00m\u001b[38;5;21;01mpartial_dependence\u001b[39;00m \u001b[38;5;28;01mimport\u001b[39;00m compute_partial_dependence\n\u001b[0;32m----> 7\u001b[0m \u001b[38;5;28;01mfrom\u001b[39;00m \u001b[38;5;21;01mholisticai\u001b[39;00m\u001b[38;5;21;01m.\u001b[39;00m\u001b[38;5;21;01mxai\u001b[39;00m\u001b[38;5;21;01m.\u001b[39;00m\u001b[38;5;21;01mmetrics\u001b[39;00m\u001b[38;5;21;01m.\u001b[39;00m\u001b[38;5;21;01mglobal_importance\u001b[39;00m \u001b[38;5;28;01mimport\u001b[39;00m AlphaImportanceScore, XAIEaseScore, PositionParity, RankAlignment\n",
                        "File \u001b[0;32m~/github/holisticai/src/holisticai/xai/metrics/global_importance/__init__.py:1\u001b[0m\n\u001b[0;32m----> 1\u001b[0m \u001b[38;5;28;01mfrom\u001b[39;00m \u001b[38;5;21;01mholisticai\u001b[39;00m\u001b[38;5;21;01m.\u001b[39;00m\u001b[38;5;21;01mxai\u001b[39;00m\u001b[38;5;21;01m.\u001b[39;00m\u001b[38;5;21;01mmetrics\u001b[39;00m\u001b[38;5;21;01m.\u001b[39;00m\u001b[38;5;21;01mglobal_importance\u001b[39;00m\u001b[38;5;21;01m.\u001b[39;00m\u001b[38;5;21;01m_alpha_importance_score\u001b[39;00m \u001b[38;5;28;01mimport\u001b[39;00m AlphaImportanceScore\n\u001b[1;32m      2\u001b[0m \u001b[38;5;28;01mfrom\u001b[39;00m \u001b[38;5;21;01mholisticai\u001b[39;00m\u001b[38;5;21;01m.\u001b[39;00m\u001b[38;5;21;01mxai\u001b[39;00m\u001b[38;5;21;01m.\u001b[39;00m\u001b[38;5;21;01mmetrics\u001b[39;00m\u001b[38;5;21;01m.\u001b[39;00m\u001b[38;5;21;01mglobal_importance\u001b[39;00m\u001b[38;5;21;01m.\u001b[39;00m\u001b[38;5;21;01m_position_parity\u001b[39;00m \u001b[38;5;28;01mimport\u001b[39;00m PositionParity\n\u001b[1;32m      3\u001b[0m \u001b[38;5;28;01mfrom\u001b[39;00m \u001b[38;5;21;01mholisticai\u001b[39;00m\u001b[38;5;21;01m.\u001b[39;00m\u001b[38;5;21;01mxai\u001b[39;00m\u001b[38;5;21;01m.\u001b[39;00m\u001b[38;5;21;01mmetrics\u001b[39;00m\u001b[38;5;21;01m.\u001b[39;00m\u001b[38;5;21;01mglobal_importance\u001b[39;00m\u001b[38;5;21;01m.\u001b[39;00m\u001b[38;5;21;01m_rank_alignment\u001b[39;00m \u001b[38;5;28;01mimport\u001b[39;00m RankAlignment\n",
                        "File \u001b[0;32m~/github/holisticai/src/holisticai/xai/metrics/global_importance/_alpha_importance_score.py:4\u001b[0m\n\u001b[1;32m      1\u001b[0m \u001b[38;5;28;01mfrom\u001b[39;00m \u001b[38;5;21;01m__future__\u001b[39;00m \u001b[38;5;28;01mimport\u001b[39;00m annotations\n\u001b[1;32m      3\u001b[0m \u001b[38;5;28;01mfrom\u001b[39;00m \u001b[38;5;21;01mholisticai\u001b[39;00m\u001b[38;5;21;01m.\u001b[39;00m\u001b[38;5;21;01mxai\u001b[39;00m\u001b[38;5;21;01m.\u001b[39;00m\u001b[38;5;21;01mmetrics\u001b[39;00m\u001b[38;5;21;01m.\u001b[39;00m\u001b[38;5;21;01mcommons\u001b[39;00m\u001b[38;5;21;01m.\u001b[39;00m\u001b[38;5;21;01mfeature_importance\u001b[39;00m \u001b[38;5;28;01mimport\u001b[39;00m filter_feature_importance\n\u001b[0;32m----> 4\u001b[0m \u001b[38;5;28;01mfrom\u001b[39;00m \u001b[38;5;21;01mholisticai\u001b[39;00m\u001b[38;5;21;01m.\u001b[39;00m\u001b[38;5;21;01mxai\u001b[39;00m\u001b[38;5;21;01m.\u001b[39;00m\u001b[38;5;21;01mmetrics\u001b[39;00m\u001b[38;5;21;01m.\u001b[39;00m\u001b[38;5;21;01mglobal_importance\u001b[39;00m\u001b[38;5;21;01m.\u001b[39;00m\u001b[38;5;21;01mutils\u001b[39;00m \u001b[38;5;28;01mimport\u001b[39;00m XAIBaseMetric\n\u001b[1;32m      7\u001b[0m \u001b[38;5;28;01mdef\u001b[39;00m \u001b[38;5;21mcalculate_alpha_importance\u001b[39m(feature_importance, alpha\u001b[38;5;241m=\u001b[39m\u001b[38;5;241m0.8\u001b[39m):\n\u001b[1;32m      8\u001b[0m \u001b[38;5;250m    \u001b[39m\u001b[38;5;124;03m\"\"\"\u001b[39;00m\n\u001b[1;32m      9\u001b[0m \u001b[38;5;124;03m    Calculates the alpha importance of a feature based on its feature importance.\u001b[39;00m\n\u001b[1;32m     10\u001b[0m \n\u001b[0;32m   (...)\u001b[0m\n\u001b[1;32m     18\u001b[0m \n\u001b[1;32m     19\u001b[0m \u001b[38;5;124;03m    \"\"\"\u001b[39;00m\n",
                        "File \u001b[0;32m~/github/holisticai/src/holisticai/xai/metrics/global_importance/utils.py:6\u001b[0m\n\u001b[1;32m      4\u001b[0m \u001b[38;5;28;01mfrom\u001b[39;00m \u001b[38;5;21;01mholisticai\u001b[39;00m\u001b[38;5;21;01m.\u001b[39;00m\u001b[38;5;21;01mxai\u001b[39;00m\u001b[38;5;21;01m.\u001b[39;00m\u001b[38;5;21;01mmetrics\u001b[39;00m\u001b[38;5;21;01m.\u001b[39;00m\u001b[38;5;21;01mcommons\u001b[39;00m\u001b[38;5;21;01m.\u001b[39;00m\u001b[38;5;21;01mpartial_dependence\u001b[39;00m \u001b[38;5;28;01mimport\u001b[39;00m compute_partial_dependence\n\u001b[1;32m      5\u001b[0m \u001b[38;5;28;01mfrom\u001b[39;00m \u001b[38;5;21;01mpydantic\u001b[39;00m \u001b[38;5;28;01mimport\u001b[39;00m BaseModel\n\u001b[0;32m----> 6\u001b[0m \u001b[38;5;28;01mfrom\u001b[39;00m \u001b[38;5;21;01msklearn\u001b[39;00m\u001b[38;5;21;01m.\u001b[39;00m\u001b[38;5;21;01mbase\u001b[39;00m \u001b[38;5;28;01mimport\u001b[39;00m accuracy_score\n\u001b[1;32m      7\u001b[0m \u001b[38;5;28;01mfrom\u001b[39;00m \u001b[38;5;21;01msklearn\u001b[39;00m\u001b[38;5;21;01m.\u001b[39;00m\u001b[38;5;21;01mmetrics\u001b[39;00m \u001b[38;5;28;01mimport\u001b[39;00m mean_squared_error\n\u001b[1;32m      9\u001b[0m metric_scores \u001b[38;5;241m=\u001b[39m {\n\u001b[1;32m     10\u001b[0m         \u001b[38;5;124m\"\u001b[39m\u001b[38;5;124mbinary_classification\u001b[39m\u001b[38;5;124m\"\u001b[39m: accuracy_score,\n\u001b[1;32m     11\u001b[0m         \u001b[38;5;124m\"\u001b[39m\u001b[38;5;124mregression\u001b[39m\u001b[38;5;124m\"\u001b[39m: mean_squared_error,\n\u001b[1;32m     12\u001b[0m         \u001b[38;5;124m\"\u001b[39m\u001b[38;5;124mmulticlass_classification\u001b[39m\u001b[38;5;124m\"\u001b[39m: accuracy_score\n\u001b[1;32m     13\u001b[0m }\n",
                        "\u001b[0;31mImportError\u001b[0m: cannot import name 'accuracy_score' from 'sklearn.base' (/home/cristian/.local/share/hatch/env/virtual/holisticai/g8_gwgw3/testing/lib/python3.11/site-packages/sklearn/base.py)"
                    ]
                }
            ],
            "source": [
                "import matplotlib.pyplot as plt\n",
                "from holisticai.datasets import load_dataset\n",
                "from sklearn.linear_model import LogisticRegression\n",
                "from sklearn.metrics import accuracy_score\n",
                "from holisticai.xai.commons._feature_importance import permutation_feature_importance, filter_feature_importance\n",
                "from holisticai.xai.commons._partial_dependence import compute_partial_dependence\n",
                "from holisticai.xai.metrics.global_importance import AlphaImportanceScore, XAIEaseScore, PositionParity, RankAlignment"
            ]
        },
        {
            "cell_type": "code",
            "execution_count": 2,
            "metadata": {},
            "outputs": [],
            "source": [
                "# Dataset\n",
                "dataset = load_dataset('adult')\n",
                "dataset = dataset.train_test_split(test_size=0.2, random_state=42)\n",
                "train = dataset['train']\n",
                "test = dataset['test']"
            ]
        },
        {
            "cell_type": "code",
            "execution_count": null,
            "metadata": {},
            "outputs": [],
            "source": [
                "model = LogisticRegression() # instantiate model\n",
                "model.fit(train['X'], train['y']) # fit model\n",
                "\n",
                "y_pred = model.predict(test['X']) # compute predictions\n",
                "\n",
                "# compute efficacy metrics\n",
                "accuracy_score(test['y'], y_pred)"
            ]
        },
        {
            "attachments": {},
            "cell_type": "markdown",
            "metadata": {},
            "source": [
                "# Global Explainability Metrics (based on Permutation Feature Importance)"
            ]
        },
        {
            "cell_type": "code",
            "execution_count": null,
            "metadata": {},
            "outputs": [],
            "source": [
                "feature_importance = permutation_feature_importance(predict_fn=model.predict, X_test=test['X'], y_test=test['y'], metric=accuracy_score)\n",
                "features = feature_importance.Variable.tolist()\n",
                "\n",
                "conditional_feature_importance = {\n",
                "    group_name[0]:permutation_feature_importance(predict_fn=model.predict, X_test=group_test['X'], y_test=group_test['y'], metric=accuracy_score)\n",
                "    for group_name, group_test in test.groupby('y')\n",
                "}\n",
                "\n",
                "conditional_feature = {\n",
                "    group_name:cfi.Variable.tolist()\n",
                "    for group_name, cfi in conditional_feature_importance.items()\n",
                "}\n",
                "\n",
                "ranked_features_importances = filter_feature_importance(feature_importance, alpha=0.8)\n",
                "ranked_features = ranked_features_importances.Variable.tolist()\n",
                "\n",
                "pdep = compute_partial_dependence(test['X'], \n",
                "                                  features=ranked_features, \n",
                "                                  percentiles=(0.05, 0.95), \n",
                "                                  learning_task=\"binary_classification\", \n",
                "                                  predict_fn=model.predict, \n",
                "                                  predict_proba_fn=model.predict_proba)"
            ]
        },
        {
            "cell_type": "markdown",
            "metadata": {},
            "source": [
                "# Alpha Importance Score"
            ]
        },
        {
            "cell_type": "code",
            "execution_count": null,
            "metadata": {},
            "outputs": [],
            "source": [
                "metric = AlphaImportanceScore()\n",
                "metric(feature_importance, ranked_features_importances), metric.reference"
            ]
        },
        {
            "cell_type": "markdown",
            "metadata": {},
            "source": [
                "# XAI Ease Score"
            ]
        },
        {
            "cell_type": "code",
            "execution_count": null,
            "metadata": {},
            "outputs": [],
            "source": [
                "metric = XAIEaseScore()\n",
                "metric(pdep, ranked_features), metric.reference"
            ]
        },
        {
            "cell_type": "markdown",
            "metadata": {},
            "source": [
                "# Position Parity"
            ]
        },
        {
            "cell_type": "code",
            "execution_count": null,
            "metadata": {},
            "outputs": [],
            "source": [
                "metric = PositionParity()\n",
                "metric(conditional_feature, ranked_features),  metric.reference"
            ]
        },
        {
            "cell_type": "markdown",
            "metadata": {},
            "source": [
                "# Rank Alignment"
            ]
        },
        {
            "cell_type": "code",
            "execution_count": null,
            "metadata": {},
            "outputs": [],
            "source": [
                "metric = RankAlignment()\n",
                "metric(conditional_feature, ranked_features),  metric.reference"
            ]
        }
    ],
    "metadata": {
        "kernelspec": {
            "display_name": "open-source",
            "language": "python",
            "name": "python3"
        },
        "language_info": {
            "codemirror_mode": {
                "name": "ipython",
                "version": 3
            },
            "file_extension": ".py",
            "mimetype": "text/x-python",
            "name": "python",
            "nbconvert_exporter": "python",
            "pygments_lexer": "ipython3",
            "version": "3.11.5"
        },
        "orig_nbformat": 4
    },
    "nbformat": 4,
    "nbformat_minor": 2
}
